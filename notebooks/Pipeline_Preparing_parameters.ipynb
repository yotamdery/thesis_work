{
 "cells": [
  {
   "cell_type": "markdown",
   "metadata": {},
   "source": [
    "# Transforming files to parameters.\n",
    "## Should run after \"Contact Patterns\" notebook!!\n",
    "\n",
    "### In order to run this notebook One should make sure the above files exist:\n",
    "* Data/raw\n",
    "    * Data/raw/asymptomatic_proportions.csv\n",
    "    * Data/raw/population_size.csv                    \n",
    "    * Data/raw/init_i_italy.csv                                \n",
    "    * Data/raw/IL_initial_eps.csv                     \n",
    "    * Data/raw/vent_proba.csv \n",
    "    * Data/raw/hospitalizations.csv\n",
    "    * Data/raw/risk_dist.csv\n",
    "    \n",
    "* Data/base_contact_mtx\n",
    "    * Data/base_contact_mtx/full_home_mtx.csv\n",
    "    * Data/base_contact_mtx/full_leisure_mtx_no_school.csv\n",
    "    * Data/base_contact_mtx/full_leisure_mtx_no_work.csv\n",
    "    * Data/base_contact_mtx/full_leisure_mtx_routine.csv\n",
    "    * Data/base_contact_mtx/full_work_mtx_no_school.csv\n",
    "    * Data/base_contact_mtx/full_work_mtx_no_work.csv\n",
    "    * Data/base_contact_mtx/full_work_mtx_routine.csv\n",
    "    \n",
    "* Data/demograph\n",
    "    * Data/demograph/age_dist_area.csv\n",
    "    * Data/demograph/religion_dis.csv\n",
    "    * Data/demograph/sick_prop.csv\n",
    "\n",
    "### This Notebook generates the above files:\n",
    "* Data/parameters\n",
    "    - Data/parameters/f0_full.pickle\n",
    "    - Data/parameters/eps_dict.pickle\n",
    "    - Data/parameters/eps_by_region.pickle\n",
    "    - Data/parameters/hospitalization.pickle\n",
    "    - Data/parameters/vents_proba.pickle\n",
    "    - Data/parameters/C_calibration.pickle\n",
    "    - Data/parameters/orthodox_dist.pickle\n",
    "    - Data/parameters/init_pop.pickle"
   ]
  },
  {
   "cell_type": "markdown",
   "metadata": {},
   "source": [
    "# Imports"
   ]
  },
  {
   "cell_type": "code",
   "execution_count": 55,
   "metadata": {
    "ExecuteTime": {
     "end_time": "2020-04-28T08:25:27.823714Z",
     "start_time": "2020-04-28T08:25:27.814713Z"
    }
   },
   "outputs": [],
   "source": [
    "import numpy as np\n",
    "import pandas as pd\n",
    "from matplotlib.patches import Patch\n",
    "import itertools\n",
    "import pickle\n",
    "from matplotlib import pyplot as plt\n",
    "import datetime\n",
    "import scipy\n",
    "from scipy import optimize\n",
    "from scipy.sparse import csr_matrix\n",
    "import sys\n",
    "import os\n",
    "sys.path.append('../SEIR_full/')\n",
    "sys.path.append('..')\n",
    "from SEIR_full.indices import *\n",
    "%matplotlib inline"
   ]
  },
  {
   "cell_type": "code",
   "execution_count": 56,
   "metadata": {
    "ExecuteTime": {
     "end_time": "2020-04-28T08:25:28.217737Z",
     "start_time": "2020-04-28T08:25:28.188735Z"
    }
   },
   "outputs": [],
   "source": [
    "with (open('../Data/parameters/indices.pickle', 'rb')) as openfile:\n",
    "    ind = pickle.load(openfile)"
   ]
  },
  {
   "cell_type": "markdown",
   "metadata": {},
   "source": [
    "# Asymptomatic"
   ]
  },
  {
   "cell_type": "code",
   "execution_count": 57,
   "metadata": {
    "ExecuteTime": {
     "end_time": "2020-04-28T08:25:29.327800Z",
     "start_time": "2020-04-28T08:25:29.299798Z"
    }
   },
   "outputs": [
    {
     "data": {
      "text/html": [
       "<div>\n",
       "<style scoped>\n",
       "    .dataframe tbody tr th:only-of-type {\n",
       "        vertical-align: middle;\n",
       "    }\n",
       "\n",
       "    .dataframe tbody tr th {\n",
       "        vertical-align: top;\n",
       "    }\n",
       "\n",
       "    .dataframe thead th {\n",
       "        text-align: right;\n",
       "    }\n",
       "</style>\n",
       "<table border=\"1\" class=\"dataframe\">\n",
       "  <thead>\n",
       "    <tr style=\"text-align: right;\">\n",
       "      <th></th>\n",
       "      <th>Scenario 1</th>\n",
       "      <th>Scenario 2</th>\n",
       "      <th>Scenario 3</th>\n",
       "      <th>Unnamed: 4</th>\n",
       "    </tr>\n",
       "    <tr>\n",
       "      <th>Age</th>\n",
       "      <th></th>\n",
       "      <th></th>\n",
       "      <th></th>\n",
       "      <th></th>\n",
       "    </tr>\n",
       "  </thead>\n",
       "  <tbody>\n",
       "    <tr>\n",
       "      <th>0-4</th>\n",
       "      <td>0.957467</td>\n",
       "      <td>0.765973</td>\n",
       "      <td>0.612779</td>\n",
       "      <td>NaN</td>\n",
       "    </tr>\n",
       "    <tr>\n",
       "      <th>5-9</th>\n",
       "      <td>0.957467</td>\n",
       "      <td>0.765973</td>\n",
       "      <td>0.612779</td>\n",
       "      <td>NaN</td>\n",
       "    </tr>\n",
       "    <tr>\n",
       "      <th>10-19</th>\n",
       "      <td>0.972167</td>\n",
       "      <td>0.777734</td>\n",
       "      <td>0.622187</td>\n",
       "      <td>NaN</td>\n",
       "    </tr>\n",
       "    <tr>\n",
       "      <th>20-29</th>\n",
       "      <td>0.921424</td>\n",
       "      <td>0.737139</td>\n",
       "      <td>0.589711</td>\n",
       "      <td>NaN</td>\n",
       "    </tr>\n",
       "    <tr>\n",
       "      <th>30-39</th>\n",
       "      <td>0.899804</td>\n",
       "      <td>0.719843</td>\n",
       "      <td>0.575874</td>\n",
       "      <td>NaN</td>\n",
       "    </tr>\n",
       "  </tbody>\n",
       "</table>\n",
       "</div>"
      ],
      "text/plain": [
       "       Scenario 1  Scenario 2  Scenario 3  Unnamed: 4\n",
       "Age                                                  \n",
       "0-4      0.957467    0.765973    0.612779         NaN\n",
       "5-9      0.957467    0.765973    0.612779         NaN\n",
       "10-19    0.972167    0.777734    0.622187         NaN\n",
       "20-29    0.921424    0.737139    0.589711         NaN\n",
       "30-39    0.899804    0.719843    0.575874         NaN"
      ]
     },
     "execution_count": 57,
     "metadata": {},
     "output_type": "execute_result"
    }
   ],
   "source": [
    "asymp = pd.read_csv('../Data/raw/asymptomatic_proportions.csv', index_col=0)\n",
    "asymp.head()"
   ]
  },
  {
   "cell_type": "code",
   "execution_count": 58,
   "metadata": {
    "ExecuteTime": {
     "end_time": "2020-04-28T08:25:30.878889Z",
     "start_time": "2020-04-28T08:25:30.868888Z"
    }
   },
   "outputs": [],
   "source": [
    "f0_full = {} # dict that contains the possible scenarios\n",
    "\n",
    "# asymptomatic with risk group, high risk with 0\n",
    "f_init = np.zeros(len(list(itertools.product(ind.R.values(), ind.A.values()))))\n",
    "for i in [1,2,3]:\n",
    "    f_tmp = f_init.copy()\n",
    "    f_tmp[9:] = asymp['Scenario '+ str(i)].values[:-1]\n",
    "    f0_full['Scenario'+ str(i)] = expand_partial_array(ind.risk_age_dict, f_tmp, len(ind.N))"
   ]
  },
  {
   "cell_type": "code",
   "execution_count": 59,
   "metadata": {
    "ExecuteTime": {
     "end_time": "2020-04-28T08:25:31.473923Z",
     "start_time": "2020-04-28T08:25:31.460922Z"
    }
   },
   "outputs": [],
   "source": [
    "# Save\n",
    "try:\n",
    "    os.mkdir('../Data/parameters')\n",
    "except:\n",
    "    pass\n",
    "with open('../Data/parameters/f0_full.pickle', 'wb') as handle:\n",
    "    pickle.dump(f0_full, handle, protocol=pickle.HIGHEST_PROTOCOL)"
   ]
  },
  {
   "cell_type": "markdown",
   "metadata": {},
   "source": [
    "# Initial illness"
   ]
  },
  {
   "cell_type": "code",
   "execution_count": 60,
   "metadata": {
    "ExecuteTime": {
     "end_time": "2020-04-28T08:25:32.322971Z",
     "start_time": "2020-04-28T08:25:32.314971Z"
    },
    "run_control": {
     "marked": true
    }
   },
   "outputs": [],
   "source": [
    "# Age dist. positive specimens\n",
    "age_dist = {'0-4':0.02, '5-9':0.02, '10-19':0.11, '20-29':0.23, '30-39':0.15, '40-49':0.14, '50-59':0.14, '60-69':0.11,\n",
    "           '70+':0.08}"
   ]
  },
  {
   "cell_type": "code",
   "execution_count": 61,
   "metadata": {
    "ExecuteTime": {
     "end_time": "2020-04-28T08:25:32.687992Z",
     "start_time": "2020-04-28T08:25:32.678992Z"
    }
   },
   "outputs": [],
   "source": [
    "age_dist_area = pd.read_csv('../Data/demograph/age_dist_area.csv')"
   ]
  },
  {
   "cell_type": "code",
   "execution_count": 62,
   "metadata": {
    "ExecuteTime": {
     "end_time": "2020-04-28T08:25:32.995010Z",
     "start_time": "2020-04-28T08:25:32.988009Z"
    }
   },
   "outputs": [],
   "source": [
    "age_dist_area.drop(['Unnamed: 0'],axis=1, inplace=True)"
   ]
  },
  {
   "cell_type": "code",
   "execution_count": 63,
   "metadata": {
    "ExecuteTime": {
     "end_time": "2020-04-28T08:25:33.278026Z",
     "start_time": "2020-04-28T08:25:33.270025Z"
    }
   },
   "outputs": [],
   "source": [
    "age_dist_area.set_index('cell_id', inplace=True)"
   ]
  },
  {
   "cell_type": "code",
   "execution_count": 64,
   "metadata": {
    "ExecuteTime": {
     "end_time": "2020-04-28T08:25:33.633046Z",
     "start_time": "2020-04-28T08:25:33.605045Z"
    }
   },
   "outputs": [
    {
     "data": {
      "text/html": [
       "<div>\n",
       "<style scoped>\n",
       "    .dataframe tbody tr th:only-of-type {\n",
       "        vertical-align: middle;\n",
       "    }\n",
       "\n",
       "    .dataframe tbody tr th {\n",
       "        vertical-align: top;\n",
       "    }\n",
       "\n",
       "    .dataframe thead th {\n",
       "        text-align: right;\n",
       "    }\n",
       "</style>\n",
       "<table border=\"1\" class=\"dataframe\">\n",
       "  <thead>\n",
       "    <tr style=\"text-align: right;\">\n",
       "      <th></th>\n",
       "      <th>0-4</th>\n",
       "      <th>5-9</th>\n",
       "      <th>10-19</th>\n",
       "      <th>20-29</th>\n",
       "      <th>30-39</th>\n",
       "      <th>40-49</th>\n",
       "      <th>50-59</th>\n",
       "      <th>60-69</th>\n",
       "      <th>70+</th>\n",
       "    </tr>\n",
       "    <tr>\n",
       "      <th>cell_id</th>\n",
       "      <th></th>\n",
       "      <th></th>\n",
       "      <th></th>\n",
       "      <th></th>\n",
       "      <th></th>\n",
       "      <th></th>\n",
       "      <th></th>\n",
       "      <th></th>\n",
       "      <th></th>\n",
       "    </tr>\n",
       "  </thead>\n",
       "  <tbody>\n",
       "    <tr>\n",
       "      <th>11</th>\n",
       "      <td>0.013979</td>\n",
       "      <td>0.012611</td>\n",
       "      <td>0.022022</td>\n",
       "      <td>0.018316</td>\n",
       "      <td>0.013655</td>\n",
       "      <td>0.010615</td>\n",
       "      <td>0.008611</td>\n",
       "      <td>0.007099</td>\n",
       "      <td>0.007104</td>\n",
       "    </tr>\n",
       "    <tr>\n",
       "      <th>11_betshemesh</th>\n",
       "      <td>0.002288</td>\n",
       "      <td>0.002029</td>\n",
       "      <td>0.002915</td>\n",
       "      <td>0.001865</td>\n",
       "      <td>0.001517</td>\n",
       "      <td>0.001078</td>\n",
       "      <td>0.000667</td>\n",
       "      <td>0.000415</td>\n",
       "      <td>0.000322</td>\n",
       "    </tr>\n",
       "    <tr>\n",
       "      <th>21</th>\n",
       "      <td>0.001418</td>\n",
       "      <td>0.001315</td>\n",
       "      <td>0.002302</td>\n",
       "      <td>0.002117</td>\n",
       "      <td>0.001599</td>\n",
       "      <td>0.001484</td>\n",
       "      <td>0.001358</td>\n",
       "      <td>0.001159</td>\n",
       "      <td>0.000989</td>\n",
       "    </tr>\n",
       "    <tr>\n",
       "      <th>22</th>\n",
       "      <td>0.001270</td>\n",
       "      <td>0.001194</td>\n",
       "      <td>0.002259</td>\n",
       "      <td>0.002107</td>\n",
       "      <td>0.001663</td>\n",
       "      <td>0.001558</td>\n",
       "      <td>0.001353</td>\n",
       "      <td>0.001152</td>\n",
       "      <td>0.000932</td>\n",
       "    </tr>\n",
       "    <tr>\n",
       "      <th>23</th>\n",
       "      <td>0.005327</td>\n",
       "      <td>0.005231</td>\n",
       "      <td>0.010311</td>\n",
       "      <td>0.008815</td>\n",
       "      <td>0.006906</td>\n",
       "      <td>0.006904</td>\n",
       "      <td>0.005563</td>\n",
       "      <td>0.004178</td>\n",
       "      <td>0.003461</td>\n",
       "    </tr>\n",
       "    <tr>\n",
       "      <th>24</th>\n",
       "      <td>0.006462</td>\n",
       "      <td>0.006577</td>\n",
       "      <td>0.013503</td>\n",
       "      <td>0.011486</td>\n",
       "      <td>0.009269</td>\n",
       "      <td>0.009198</td>\n",
       "      <td>0.007313</td>\n",
       "      <td>0.005092</td>\n",
       "      <td>0.004055</td>\n",
       "    </tr>\n",
       "    <tr>\n",
       "      <th>29</th>\n",
       "      <td>0.000527</td>\n",
       "      <td>0.000564</td>\n",
       "      <td>0.001104</td>\n",
       "      <td>0.000825</td>\n",
       "      <td>0.000766</td>\n",
       "      <td>0.000751</td>\n",
       "      <td>0.000517</td>\n",
       "      <td>0.000406</td>\n",
       "      <td>0.000230</td>\n",
       "    </tr>\n",
       "    <tr>\n",
       "      <th>31</th>\n",
       "      <td>0.005195</td>\n",
       "      <td>0.004713</td>\n",
       "      <td>0.008240</td>\n",
       "      <td>0.008949</td>\n",
       "      <td>0.008935</td>\n",
       "      <td>0.007906</td>\n",
       "      <td>0.007046</td>\n",
       "      <td>0.007609</td>\n",
       "      <td>0.008289</td>\n",
       "    </tr>\n",
       "    <tr>\n",
       "      <th>32</th>\n",
       "      <td>0.004746</td>\n",
       "      <td>0.004858</td>\n",
       "      <td>0.009143</td>\n",
       "      <td>0.007088</td>\n",
       "      <td>0.006413</td>\n",
       "      <td>0.006360</td>\n",
       "      <td>0.004805</td>\n",
       "      <td>0.003526</td>\n",
       "      <td>0.002860</td>\n",
       "    </tr>\n",
       "    <tr>\n",
       "      <th>41</th>\n",
       "      <td>0.004818</td>\n",
       "      <td>0.004925</td>\n",
       "      <td>0.008916</td>\n",
       "      <td>0.006962</td>\n",
       "      <td>0.006616</td>\n",
       "      <td>0.007082</td>\n",
       "      <td>0.005361</td>\n",
       "      <td>0.004692</td>\n",
       "      <td>0.004559</td>\n",
       "    </tr>\n",
       "    <tr>\n",
       "      <th>42</th>\n",
       "      <td>0.008265</td>\n",
       "      <td>0.008067</td>\n",
       "      <td>0.013594</td>\n",
       "      <td>0.010092</td>\n",
       "      <td>0.010904</td>\n",
       "      <td>0.011478</td>\n",
       "      <td>0.008200</td>\n",
       "      <td>0.007958</td>\n",
       "      <td>0.007316</td>\n",
       "    </tr>\n",
       "    <tr>\n",
       "      <th>43</th>\n",
       "      <td>0.003786</td>\n",
       "      <td>0.003825</td>\n",
       "      <td>0.006527</td>\n",
       "      <td>0.004812</td>\n",
       "      <td>0.004732</td>\n",
       "      <td>0.005034</td>\n",
       "      <td>0.003637</td>\n",
       "      <td>0.002851</td>\n",
       "      <td>0.002249</td>\n",
       "    </tr>\n",
       "    <tr>\n",
       "      <th>44</th>\n",
       "      <td>0.006233</td>\n",
       "      <td>0.005939</td>\n",
       "      <td>0.010077</td>\n",
       "      <td>0.008739</td>\n",
       "      <td>0.009215</td>\n",
       "      <td>0.009342</td>\n",
       "      <td>0.006987</td>\n",
       "      <td>0.007073</td>\n",
       "      <td>0.006102</td>\n",
       "    </tr>\n",
       "    <tr>\n",
       "      <th>51</th>\n",
       "      <td>0.006851</td>\n",
       "      <td>0.006319</td>\n",
       "      <td>0.010269</td>\n",
       "      <td>0.010020</td>\n",
       "      <td>0.013128</td>\n",
       "      <td>0.011668</td>\n",
       "      <td>0.008783</td>\n",
       "      <td>0.009359</td>\n",
       "      <td>0.010843</td>\n",
       "    </tr>\n",
       "    <tr>\n",
       "      <th>51_bb</th>\n",
       "      <td>0.003817</td>\n",
       "      <td>0.003036</td>\n",
       "      <td>0.004803</td>\n",
       "      <td>0.003756</td>\n",
       "      <td>0.002600</td>\n",
       "      <td>0.001549</td>\n",
       "      <td>0.001248</td>\n",
       "      <td>0.001216</td>\n",
       "      <td>0.001099</td>\n",
       "    </tr>\n",
       "    <tr>\n",
       "      <th>51_tlv</th>\n",
       "      <td>0.003935</td>\n",
       "      <td>0.003030</td>\n",
       "      <td>0.004575</td>\n",
       "      <td>0.007172</td>\n",
       "      <td>0.010723</td>\n",
       "      <td>0.006694</td>\n",
       "      <td>0.004637</td>\n",
       "      <td>0.004701</td>\n",
       "      <td>0.005427</td>\n",
       "    </tr>\n",
       "    <tr>\n",
       "      <th>61</th>\n",
       "      <td>0.006196</td>\n",
       "      <td>0.005514</td>\n",
       "      <td>0.009283</td>\n",
       "      <td>0.008554</td>\n",
       "      <td>0.007851</td>\n",
       "      <td>0.006876</td>\n",
       "      <td>0.006324</td>\n",
       "      <td>0.005661</td>\n",
       "      <td>0.005456</td>\n",
       "    </tr>\n",
       "    <tr>\n",
       "      <th>62</th>\n",
       "      <td>0.005976</td>\n",
       "      <td>0.005373</td>\n",
       "      <td>0.009200</td>\n",
       "      <td>0.008738</td>\n",
       "      <td>0.007641</td>\n",
       "      <td>0.006609</td>\n",
       "      <td>0.005784</td>\n",
       "      <td>0.005032</td>\n",
       "      <td>0.004474</td>\n",
       "    </tr>\n",
       "    <tr>\n",
       "      <th>62_arab</th>\n",
       "      <td>0.003044</td>\n",
       "      <td>0.002665</td>\n",
       "      <td>0.004634</td>\n",
       "      <td>0.003068</td>\n",
       "      <td>0.001859</td>\n",
       "      <td>0.001387</td>\n",
       "      <td>0.000694</td>\n",
       "      <td>0.000341</td>\n",
       "      <td>0.000226</td>\n",
       "    </tr>\n",
       "    <tr>\n",
       "      <th>71</th>\n",
       "      <td>0.007483</td>\n",
       "      <td>0.007047</td>\n",
       "      <td>0.009689</td>\n",
       "      <td>0.006677</td>\n",
       "      <td>0.005842</td>\n",
       "      <td>0.004223</td>\n",
       "      <td>0.002827</td>\n",
       "      <td>0.002021</td>\n",
       "      <td>0.001147</td>\n",
       "    </tr>\n",
       "  </tbody>\n",
       "</table>\n",
       "</div>"
      ],
      "text/plain": [
       "                    0-4       5-9     10-19     20-29     30-39     40-49  \\\n",
       "cell_id                                                                     \n",
       "11             0.013979  0.012611  0.022022  0.018316  0.013655  0.010615   \n",
       "11_betshemesh  0.002288  0.002029  0.002915  0.001865  0.001517  0.001078   \n",
       "21             0.001418  0.001315  0.002302  0.002117  0.001599  0.001484   \n",
       "22             0.001270  0.001194  0.002259  0.002107  0.001663  0.001558   \n",
       "23             0.005327  0.005231  0.010311  0.008815  0.006906  0.006904   \n",
       "24             0.006462  0.006577  0.013503  0.011486  0.009269  0.009198   \n",
       "29             0.000527  0.000564  0.001104  0.000825  0.000766  0.000751   \n",
       "31             0.005195  0.004713  0.008240  0.008949  0.008935  0.007906   \n",
       "32             0.004746  0.004858  0.009143  0.007088  0.006413  0.006360   \n",
       "41             0.004818  0.004925  0.008916  0.006962  0.006616  0.007082   \n",
       "42             0.008265  0.008067  0.013594  0.010092  0.010904  0.011478   \n",
       "43             0.003786  0.003825  0.006527  0.004812  0.004732  0.005034   \n",
       "44             0.006233  0.005939  0.010077  0.008739  0.009215  0.009342   \n",
       "51             0.006851  0.006319  0.010269  0.010020  0.013128  0.011668   \n",
       "51_bb          0.003817  0.003036  0.004803  0.003756  0.002600  0.001549   \n",
       "51_tlv         0.003935  0.003030  0.004575  0.007172  0.010723  0.006694   \n",
       "61             0.006196  0.005514  0.009283  0.008554  0.007851  0.006876   \n",
       "62             0.005976  0.005373  0.009200  0.008738  0.007641  0.006609   \n",
       "62_arab        0.003044  0.002665  0.004634  0.003068  0.001859  0.001387   \n",
       "71             0.007483  0.007047  0.009689  0.006677  0.005842  0.004223   \n",
       "\n",
       "                  50-59     60-69       70+  \n",
       "cell_id                                      \n",
       "11             0.008611  0.007099  0.007104  \n",
       "11_betshemesh  0.000667  0.000415  0.000322  \n",
       "21             0.001358  0.001159  0.000989  \n",
       "22             0.001353  0.001152  0.000932  \n",
       "23             0.005563  0.004178  0.003461  \n",
       "24             0.007313  0.005092  0.004055  \n",
       "29             0.000517  0.000406  0.000230  \n",
       "31             0.007046  0.007609  0.008289  \n",
       "32             0.004805  0.003526  0.002860  \n",
       "41             0.005361  0.004692  0.004559  \n",
       "42             0.008200  0.007958  0.007316  \n",
       "43             0.003637  0.002851  0.002249  \n",
       "44             0.006987  0.007073  0.006102  \n",
       "51             0.008783  0.009359  0.010843  \n",
       "51_bb          0.001248  0.001216  0.001099  \n",
       "51_tlv         0.004637  0.004701  0.005427  \n",
       "61             0.006324  0.005661  0.005456  \n",
       "62             0.005784  0.005032  0.004474  \n",
       "62_arab        0.000694  0.000341  0.000226  \n",
       "71             0.002827  0.002021  0.001147  "
      ]
     },
     "execution_count": 64,
     "metadata": {},
     "output_type": "execute_result"
    }
   ],
   "source": [
    "age_dist_area"
   ]
  },
  {
   "cell_type": "code",
   "execution_count": 65,
   "metadata": {
    "ExecuteTime": {
     "end_time": "2020-04-28T08:25:34.684106Z",
     "start_time": "2020-04-28T08:25:34.677106Z"
    }
   },
   "outputs": [],
   "source": [
    "age_dist_area = age_dist_area.stack()"
   ]
  },
  {
   "cell_type": "code",
   "execution_count": 66,
   "metadata": {
    "ExecuteTime": {
     "end_time": "2020-04-28T08:25:35.366145Z",
     "start_time": "2020-04-28T08:25:35.349144Z"
    }
   },
   "outputs": [
    {
     "data": {
      "text/plain": [
       "cell_id       \n",
       "11       0-4      0.013979\n",
       "         5-9      0.012611\n",
       "         10-19    0.022022\n",
       "         20-29    0.018316\n",
       "         30-39    0.013655\n",
       "                    ...   \n",
       "71       30-39    0.005842\n",
       "         40-49    0.004223\n",
       "         50-59    0.002827\n",
       "         60-69    0.002021\n",
       "         70+      0.001147\n",
       "Length: 180, dtype: float64"
      ]
     },
     "execution_count": 66,
     "metadata": {},
     "output_type": "execute_result"
    }
   ],
   "source": [
    "age_dist_area"
   ]
  },
  {
   "cell_type": "code",
   "execution_count": 67,
   "metadata": {
    "ExecuteTime": {
     "end_time": "2020-04-28T08:25:36.669220Z",
     "start_time": "2020-04-28T08:25:36.659219Z"
    }
   },
   "outputs": [
    {
     "data": {
      "text/plain": [
       "(720,)"
      ]
     },
     "execution_count": 67,
     "metadata": {},
     "output_type": "execute_result"
    }
   ],
   "source": [
    "init_pop = expand_partial_array(ind.region_age_dict, age_dist_area.values, len(ind.N))\n",
    "init_pop.shape"
   ]
  },
  {
   "cell_type": "code",
   "execution_count": 68,
   "metadata": {
    "ExecuteTime": {
     "end_time": "2020-04-28T08:25:37.467266Z",
     "start_time": "2020-04-28T08:25:37.451265Z"
    }
   },
   "outputs": [
    {
     "data": {
      "text/plain": [
       "array([0.        , 0.        , 0.        , 0.        , 0.        ,\n",
       "       0.        , 0.        , 0.        , 0.        , 0.        ,\n",
       "       0.        , 0.        , 0.        , 0.        , 0.        ,\n",
       "       0.        , 0.        , 0.        , 0.        , 0.        ,\n",
       "       0.        , 0.        , 0.        , 0.        , 0.        ,\n",
       "       0.        , 0.        , 0.        , 0.        , 0.        ,\n",
       "       0.        , 0.        , 0.        , 0.        , 0.        ,\n",
       "       0.        , 0.        , 0.        , 0.        , 0.        ,\n",
       "       0.        , 0.        , 0.        , 0.        , 0.        ,\n",
       "       0.        , 0.        , 0.        , 0.        , 0.        ,\n",
       "       0.        , 0.        , 0.        , 0.        , 0.        ,\n",
       "       0.        , 0.        , 0.        , 0.        , 0.        ,\n",
       "       0.        , 0.        , 0.        , 0.        , 0.        ,\n",
       "       0.        , 0.        , 0.        , 0.        , 0.        ,\n",
       "       0.        , 0.        , 0.        , 0.        , 0.        ,\n",
       "       0.        , 0.        , 0.        , 0.        , 0.        ,\n",
       "       0.        , 0.        , 0.        , 0.        , 0.        ,\n",
       "       0.        , 0.        , 0.        , 0.        , 0.        ,\n",
       "       0.        , 0.        , 0.        , 0.        , 0.        ,\n",
       "       0.        , 0.        , 0.        , 0.        , 0.        ,\n",
       "       0.        , 0.        , 0.        , 0.        , 0.        ,\n",
       "       0.        , 0.        , 0.        , 0.        , 0.        ,\n",
       "       0.        , 0.        , 0.        , 0.        , 0.        ,\n",
       "       0.        , 0.        , 0.        , 0.        , 0.        ,\n",
       "       0.        , 0.        , 0.        , 0.        , 0.        ,\n",
       "       0.        , 0.        , 0.        , 0.        , 0.        ,\n",
       "       0.        , 0.        , 0.        , 0.        , 0.        ,\n",
       "       0.        , 0.        , 0.        , 0.        , 0.        ,\n",
       "       0.        , 0.        , 0.        , 0.        , 0.        ,\n",
       "       0.        , 0.        , 0.        , 0.        , 0.        ,\n",
       "       0.        , 0.        , 0.        , 0.        , 0.        ,\n",
       "       0.        , 0.        , 0.        , 0.        , 0.        ,\n",
       "       0.        , 0.        , 0.        , 0.        , 0.        ,\n",
       "       0.        , 0.        , 0.        , 0.        , 0.        ,\n",
       "       0.        , 0.        , 0.        , 0.        , 0.        ,\n",
       "       0.        , 0.        , 0.        , 0.        , 0.        ,\n",
       "       0.        , 0.        , 0.        , 0.        , 0.        ,\n",
       "       0.        , 0.        , 0.        , 0.        , 0.        ,\n",
       "       0.        , 0.        , 0.        , 0.        , 0.        ,\n",
       "       0.        , 0.        , 0.        , 0.        , 0.        ,\n",
       "       0.        , 0.        , 0.        , 0.        , 0.        ,\n",
       "       0.        , 0.        , 0.        , 0.        , 0.        ,\n",
       "       0.        , 0.        , 0.        , 0.        , 0.        ,\n",
       "       0.        , 0.        , 0.        , 0.        , 0.        ,\n",
       "       0.        , 0.        , 0.        , 0.        , 0.        ,\n",
       "       0.        , 0.        , 0.        , 0.        , 0.        ,\n",
       "       0.        , 0.        , 0.        , 0.        , 0.        ,\n",
       "       0.        , 0.        , 0.        , 0.        , 0.        ,\n",
       "       0.        , 0.        , 0.        , 0.        , 0.        ,\n",
       "       0.        , 0.        , 0.        , 0.        , 0.        ,\n",
       "       0.        , 0.        , 0.        , 0.        , 0.        ,\n",
       "       0.        , 0.        , 0.        , 0.        , 0.        ,\n",
       "       0.        , 0.        , 0.        , 0.        , 0.        ,\n",
       "       0.        , 0.        , 0.        , 0.        , 0.        ,\n",
       "       0.        , 0.        , 0.        , 0.        , 0.        ,\n",
       "       0.        , 0.        , 0.        , 0.        , 0.        ,\n",
       "       0.        , 0.        , 0.        , 0.        , 0.        ,\n",
       "       0.        , 0.        , 0.        , 0.        , 0.        ,\n",
       "       0.        , 0.        , 0.        , 0.        , 0.        ,\n",
       "       0.        , 0.        , 0.        , 0.        , 0.        ,\n",
       "       0.        , 0.        , 0.        , 0.        , 0.        ,\n",
       "       0.        , 0.        , 0.        , 0.        , 0.        ,\n",
       "       0.        , 0.        , 0.        , 0.        , 0.        ,\n",
       "       0.        , 0.        , 0.        , 0.        , 0.        ,\n",
       "       0.        , 0.        , 0.        , 0.        , 0.        ,\n",
       "       0.        , 0.        , 0.        , 0.        , 0.        ,\n",
       "       0.        , 0.        , 0.        , 0.        , 0.        ,\n",
       "       0.        , 0.        , 0.        , 0.        , 0.        ,\n",
       "       0.        , 0.        , 0.        , 0.        , 0.        ,\n",
       "       0.        , 0.        , 0.        , 0.        , 0.        ,\n",
       "       0.        , 0.        , 0.        , 0.        , 0.        ,\n",
       "       0.        , 0.        , 0.        , 0.        , 0.        ,\n",
       "       0.0139791 , 0.01261147, 0.02202176, 0.01831633, 0.01365495,\n",
       "       0.01061469, 0.00861102, 0.00709909, 0.00710368, 0.0139791 ,\n",
       "       0.01261147, 0.02202176, 0.01831633, 0.01365495, 0.01061469,\n",
       "       0.00861102, 0.00709909, 0.00710368, 0.00228779, 0.00202948,\n",
       "       0.00291534, 0.00186522, 0.00151709, 0.00107834, 0.00066678,\n",
       "       0.00041512, 0.00032198, 0.00228779, 0.00202948, 0.00291534,\n",
       "       0.00186522, 0.00151709, 0.00107834, 0.00066678, 0.00041512,\n",
       "       0.00032198, 0.00141833, 0.00131463, 0.00230247, 0.00211688,\n",
       "       0.00159933, 0.00148417, 0.00135834, 0.00115886, 0.00098945,\n",
       "       0.00141833, 0.00131463, 0.00230247, 0.00211688, 0.00159933,\n",
       "       0.00148417, 0.00135834, 0.00115886, 0.00098945, 0.00126978,\n",
       "       0.00119408, 0.00225912, 0.00210679, 0.00166288, 0.00155815,\n",
       "       0.00135318, 0.00115175, 0.00093232, 0.00126978, 0.00119408,\n",
       "       0.00225912, 0.00210679, 0.00166288, 0.00155815, 0.00135318,\n",
       "       0.00115175, 0.00093232, 0.00532725, 0.00523089, 0.01031072,\n",
       "       0.00881485, 0.00690559, 0.00690364, 0.00556274, 0.00417802,\n",
       "       0.00346122, 0.00532725, 0.00523089, 0.01031072, 0.00881485,\n",
       "       0.00690559, 0.00690364, 0.00556274, 0.00417802, 0.00346122,\n",
       "       0.00646225, 0.00657707, 0.01350262, 0.01148633, 0.0092692 ,\n",
       "       0.00919774, 0.00731348, 0.00509222, 0.00405517, 0.00646225,\n",
       "       0.00657707, 0.01350262, 0.01148633, 0.0092692 , 0.00919774,\n",
       "       0.00731348, 0.00509222, 0.00405517, 0.00052718, 0.00056355,\n",
       "       0.00110392, 0.00082507, 0.00076634, 0.0007512 , 0.00051686,\n",
       "       0.00040571, 0.00022975, 0.00052718, 0.00056355, 0.00110392,\n",
       "       0.00082507, 0.00076634, 0.0007512 , 0.00051686, 0.00040571,\n",
       "       0.00022975, 0.00519488, 0.00471312, 0.00823961, 0.00894883,\n",
       "       0.0089346 , 0.00790559, 0.0070461 , 0.00760907, 0.00828939,\n",
       "       0.00519488, 0.00471312, 0.00823961, 0.00894883, 0.0089346 ,\n",
       "       0.00790559, 0.0070461 , 0.00760907, 0.00828939, 0.00474569,\n",
       "       0.00485764, 0.00914337, 0.00708785, 0.00641293, 0.00636039,\n",
       "       0.00480511, 0.00352626, 0.00285994, 0.00474569, 0.00485764,\n",
       "       0.00914337, 0.00708785, 0.00641293, 0.00636039, 0.00480511,\n",
       "       0.00352626, 0.00285994, 0.00481796, 0.00492532, 0.00891591,\n",
       "       0.00696168, 0.00661642, 0.00708177, 0.00536063, 0.00469178,\n",
       "       0.00455918, 0.00481796, 0.00492532, 0.00891591, 0.00696168,\n",
       "       0.00661642, 0.00708177, 0.00536063, 0.00469178, 0.00455918,\n",
       "       0.00826461, 0.00806686, 0.01359404, 0.01009152, 0.01090352,\n",
       "       0.0114783 , 0.00820049, 0.00795812, 0.00731577, 0.00826461,\n",
       "       0.00806686, 0.01359404, 0.01009152, 0.01090352, 0.0114783 ,\n",
       "       0.00820049, 0.00795812, 0.00731577, 0.0037863 , 0.00382495,\n",
       "       0.0065266 , 0.00481222, 0.00473239, 0.0050344 , 0.00363718,\n",
       "       0.00285076, 0.00224856, 0.0037863 , 0.00382495, 0.0065266 ,\n",
       "       0.00481222, 0.00473239, 0.0050344 , 0.00363718, 0.00285076,\n",
       "       0.00224856, 0.00623296, 0.00593851, 0.01007707, 0.00873869,\n",
       "       0.00921494, 0.00934158, 0.00698749, 0.00707329, 0.00610242,\n",
       "       0.00623296, 0.00593851, 0.01007707, 0.00873869, 0.00921494,\n",
       "       0.00934158, 0.00698749, 0.00707329, 0.00610242, 0.0068511 ,\n",
       "       0.00631864, 0.01026931, 0.01001994, 0.01312753, 0.01166791,\n",
       "       0.00878319, 0.00935936, 0.0108433 , 0.0068511 , 0.00631864,\n",
       "       0.01026931, 0.01001994, 0.01312753, 0.01166791, 0.00878319,\n",
       "       0.00935936, 0.0108433 , 0.00381738, 0.00303555, 0.00480281,\n",
       "       0.00375648, 0.00259956, 0.00154852, 0.00124845, 0.00121564,\n",
       "       0.00109945, 0.00381738, 0.00303555, 0.00480281, 0.00375648,\n",
       "       0.00259956, 0.00154852, 0.00124845, 0.00121564, 0.00109945,\n",
       "       0.00393496, 0.00303005, 0.00457524, 0.00717228, 0.01072274,\n",
       "       0.0066943 , 0.00463741, 0.00470084, 0.00542692, 0.00393496,\n",
       "       0.00303005, 0.00457524, 0.00717228, 0.01072274, 0.0066943 ,\n",
       "       0.00463741, 0.00470084, 0.00542692, 0.00619602, 0.00551444,\n",
       "       0.00928273, 0.00855447, 0.00785064, 0.00687599, 0.0063238 ,\n",
       "       0.00566104, 0.00545606, 0.00619602, 0.00551444, 0.00928273,\n",
       "       0.00855447, 0.00785064, 0.00687599, 0.0063238 , 0.00566104,\n",
       "       0.00545606, 0.0059759 , 0.00537347, 0.00920038, 0.00873789,\n",
       "       0.00764096, 0.0066093 , 0.00578423, 0.00503154, 0.00447441,\n",
       "       0.0059759 , 0.00537347, 0.00920038, 0.00873789, 0.00764096,\n",
       "       0.0066093 , 0.00578423, 0.00503154, 0.00447441, 0.00304404,\n",
       "       0.00266494, 0.00463397, 0.00306767, 0.00185868, 0.00138736,\n",
       "       0.00069374, 0.00034113, 0.00022551, 0.00304404, 0.00266494,\n",
       "       0.00463397, 0.00306767, 0.00185868, 0.00138736, 0.00069374,\n",
       "       0.00034113, 0.00022551, 0.00748278, 0.00704702, 0.00968879,\n",
       "       0.00667698, 0.00584158, 0.00422321, 0.00282691, 0.00202145,\n",
       "       0.00114717, 0.00748278, 0.00704702, 0.00968879, 0.00667698,\n",
       "       0.00584158, 0.00422321, 0.00282691, 0.00202145, 0.00114717])"
      ]
     },
     "execution_count": 68,
     "metadata": {},
     "output_type": "execute_result"
    }
   ],
   "source": [
    "init_pop[ind.inter_dict['Intervention']]=0\n",
    "init_pop"
   ]
  },
  {
   "cell_type": "code",
   "execution_count": 69,
   "metadata": {
    "ExecuteTime": {
     "end_time": "2020-04-28T08:25:38.772340Z",
     "start_time": "2020-04-28T08:25:38.728338Z"
    }
   },
   "outputs": [
    {
     "data": {
      "text/plain": [
       "      Age  \n",
       "High  0-4      0.050\n",
       "      5-9      0.106\n",
       "      10-19    0.106\n",
       "      20-29    0.149\n",
       "      30-39    0.149\n",
       "      40-49    0.149\n",
       "      50-59    0.330\n",
       "      60-69    0.421\n",
       "      70+      0.512\n",
       "Low   0-4      0.950\n",
       "      5-9      0.894\n",
       "      10-19    0.894\n",
       "      20-29    0.851\n",
       "      30-39    0.851\n",
       "      40-49    0.851\n",
       "      50-59    0.670\n",
       "      60-69    0.579\n",
       "      70+      0.488\n",
       "dtype: float64"
      ]
     },
     "execution_count": 69,
     "metadata": {},
     "output_type": "execute_result"
    }
   ],
   "source": [
    "risk_pop = pd.read_csv('../Data/raw/risk_dist.csv')\n",
    "risk_pop.set_index('Age', inplace=True)\n",
    "risk_pop['High'] = risk_pop['risk']\n",
    "risk_pop['Low'] = 1 - risk_pop['risk']\n",
    "risk_pop.drop(['risk'], axis=1, inplace=True)\n",
    "risk_pop = risk_pop.stack()\n",
    "risk_pop.index = risk_pop.index.swaplevel(0, 1)\n",
    "risk_pop = risk_pop.unstack().stack()\n",
    "risk_pop"
   ]
  },
  {
   "cell_type": "code",
   "execution_count": 70,
   "metadata": {
    "ExecuteTime": {
     "end_time": "2020-04-28T08:25:39.645390Z",
     "start_time": "2020-04-28T08:25:39.635390Z"
    }
   },
   "outputs": [],
   "source": [
    "for (r, a), g_idx in zip(ind.risk_age_dict.keys(), ind.risk_age_dict.values()):\n",
    "    init_pop[g_idx] = init_pop[g_idx] * risk_pop[r,a]\n",
    "    \n",
    "# Age distribution:\n",
    "pop_dist = init_pop"
   ]
  },
  {
   "cell_type": "code",
   "execution_count": 71,
   "metadata": {
    "ExecuteTime": {
     "end_time": "2020-04-28T08:25:41.085473Z",
     "start_time": "2020-04-28T08:25:41.058471Z"
    }
   },
   "outputs": [],
   "source": [
    "# Save\n",
    "with open('../Data/parameters/init_pop.pickle', 'wb') as handle:\n",
    "    pickle.dump(pop_dist, handle, protocol=pickle.HIGHEST_PROTOCOL)"
   ]
  },
  {
   "cell_type": "code",
   "execution_count": 72,
   "metadata": {
    "ExecuteTime": {
     "end_time": "2020-04-28T08:25:41.528498Z",
     "start_time": "2020-04-28T08:25:41.519497Z"
    }
   },
   "outputs": [
    {
     "data": {
      "text/plain": [
       "18"
      ]
     },
     "execution_count": 72,
     "metadata": {},
     "output_type": "execute_result"
    }
   ],
   "source": [
    "len(ind.R)*len(ind.A)"
   ]
  },
  {
   "cell_type": "code",
   "execution_count": 73,
   "metadata": {
    "ExecuteTime": {
     "end_time": "2020-04-28T08:25:42.050528Z",
     "start_time": "2020-04-28T08:25:42.010525Z"
    }
   },
   "outputs": [],
   "source": [
    "# risk distribution by age:\n",
    "risk_dist = pd.read_csv('../Data/raw/population_size.csv')\n",
    "\n",
    "init_I_dis_italy = pd.read_csv('../Data/raw/init_i_italy.csv')['proportion'].values[:-1]\n",
    "\n",
    "f_init = pd.read_pickle('../Data/parameters/f0_full.pickle')\n",
    "\n",
    "eps_t = {}"
   ]
  },
  {
   "cell_type": "code",
   "execution_count": 74,
   "metadata": {
    "ExecuteTime": {
     "end_time": "2020-04-28T08:25:42.797570Z",
     "start_time": "2020-04-28T08:25:42.788570Z"
    },
    "run_control": {
     "marked": true
    }
   },
   "outputs": [
    {
     "data": {
      "text/plain": [
       "0.9999999999999999"
      ]
     },
     "execution_count": 74,
     "metadata": {},
     "output_type": "execute_result"
    }
   ],
   "source": [
    "init_I_dis_italy.sum()"
   ]
  },
  {
   "cell_type": "code",
   "execution_count": 75,
   "metadata": {
    "ExecuteTime": {
     "end_time": "2020-04-28T08:25:43.572615Z",
     "start_time": "2020-04-28T08:25:43.562614Z"
    }
   },
   "outputs": [],
   "source": [
    "init_I_IL = {}\n",
    "init_I_dis = {}\n",
    "for i in [1,2,3]:\n",
    "    scen = 'Scenario'+str(i)\n",
    "    f_init_i = f_init[scen][:(len(ind.R)*len(ind.A))]\n",
    "    init_I_IL[scen] = (491./(1-(f_init_i * risk_dist['pop size'].values).sum())) / 9136000.\n",
    "    init_I_dis[scen] = init_I_dis_italy * init_I_IL[scen]"
   ]
  },
  {
   "cell_type": "code",
   "execution_count": 76,
   "metadata": {
    "ExecuteTime": {
     "end_time": "2020-04-28T08:25:44.204651Z",
     "start_time": "2020-04-28T08:25:44.194650Z"
    }
   },
   "outputs": [],
   "source": [
    "for i in [1,2,3]:\n",
    "    scen = 'Scenario'+str(i)\n",
    "    eps_t[scen] = []\n",
    "    for i in range(1000):\n",
    "        eps_t[scen].append(init_I_dis[scen][i] * pop_dist if i < len(init_I_dis[scen]) else 0)"
   ]
  },
  {
   "cell_type": "code",
   "execution_count": 77,
   "metadata": {
    "ExecuteTime": {
     "end_time": "2020-04-28T08:25:44.663677Z",
     "start_time": "2020-04-28T08:25:44.650676Z"
    }
   },
   "outputs": [],
   "source": [
    "# Save\n",
    "with open('../Data/parameters/eps_dict.pickle', 'wb') as handle:\n",
    "    pickle.dump(eps_t, handle, protocol=pickle.HIGHEST_PROTOCOL)"
   ]
  },
  {
   "cell_type": "markdown",
   "metadata": {
    "ExecuteTime": {
     "end_time": "2020-04-06T22:09:06.738809Z",
     "start_time": "2020-04-06T22:09:06.521369Z"
    }
   },
   "source": [
    "## eps by region proportion"
   ]
  },
  {
   "cell_type": "code",
   "execution_count": 78,
   "metadata": {
    "ExecuteTime": {
     "end_time": "2020-04-28T08:25:45.500725Z",
     "start_time": "2020-04-28T08:25:45.481724Z"
    }
   },
   "outputs": [
    {
     "name": "stdout",
     "output_type": "stream",
     "text": [
      "cell_id\n",
      "11               0.137496\n",
      "11_betshemesh    0.012624\n",
      "21               0.010918\n",
      "22               0.006482\n",
      "23               0.037189\n",
      "Name: cases_prop, dtype: float64\n",
      "\n",
      "Age\n",
      "0-4      0.050\n",
      "5-9      0.106\n",
      "10-19    0.106\n",
      "20-29    0.149\n",
      "30-39    0.149\n",
      "Name: risk, dtype: float64\n"
     ]
    }
   ],
   "source": [
    "# Loading data\n",
    "region_prop = pd.read_csv('../Data/demograph/sick_prop.csv', index_col=0)['cases_prop'].copy()\n",
    "region_prop.index = region_prop.index.astype(str)\n",
    "risk_prop = pd.read_csv('../Data/raw/risk_dist.csv', index_col=0)['risk'].copy()\n",
    "print(region_prop.head())\n",
    "print()\n",
    "print(risk_prop.head())"
   ]
  },
  {
   "cell_type": "code",
   "execution_count": 79,
   "metadata": {
    "ExecuteTime": {
     "end_time": "2020-04-28T08:25:45.811743Z",
     "start_time": "2020-04-28T08:25:45.804742Z"
    }
   },
   "outputs": [],
   "source": [
    "eps_t_region = {}"
   ]
  },
  {
   "cell_type": "code",
   "execution_count": 80,
   "metadata": {
    "ExecuteTime": {
     "end_time": "2020-04-28T08:25:47.418835Z",
     "start_time": "2020-04-28T08:25:46.178764Z"
    }
   },
   "outputs": [],
   "source": [
    "for sc, init_I in zip(init_I_dis.keys(), init_I_dis.values()):\n",
    "    eps_temp = []\n",
    "    for t in range(1000):\n",
    "        if t < len(init_I):\n",
    "            # empty array for day t\n",
    "            day_vec = np.zeros(len(ind.N))\n",
    "            # fill in the array, zero for intervention groups\n",
    "            for key in ind.N.keys():\n",
    "                if ind.N[key][0] == 'Intervention':\n",
    "                    day_vec[key] = 0\n",
    "                else:\n",
    "                    day_vec[key] = init_I[t] * region_prop[ind.N[key][1]] * age_dist[ind.N[key][3]] * \\\n",
    "                    (risk_prop[ind.N[key][3]]**(1 - (ind.N[key][2] == 'Low'))) * \\\n",
    "                    ((1 - risk_prop[ind.N[key][3]])**(ind.N[key][2] == 'Low'))\n",
    "            eps_temp.append(day_vec)\n",
    "        else:\n",
    "             eps_temp.append(0.0)\n",
    "        \n",
    "        eps_t_region[sc] = eps_temp\n"
   ]
  },
  {
   "cell_type": "code",
   "execution_count": 81,
   "metadata": {
    "ExecuteTime": {
     "end_time": "2020-04-28T08:25:47.435836Z",
     "start_time": "2020-04-28T08:25:47.422835Z"
    }
   },
   "outputs": [],
   "source": [
    "# save eps:\n",
    "with open('../Data/parameters/eps_by_region.pickle', 'wb') as handle:\n",
    "    pickle.dump(eps_t_region, handle, protocol=pickle.HIGHEST_PROTOCOL)  "
   ]
  },
  {
   "cell_type": "markdown",
   "metadata": {
    "heading_collapsed": true
   },
   "source": [
    "## Smoothed eps by region -------------- UNFINISHED -------------------"
   ]
  },
  {
   "cell_type": "code",
   "execution_count": 29,
   "metadata": {
    "ExecuteTime": {
     "end_time": "2020-04-27T21:54:05.677979Z",
     "start_time": "2020-04-27T21:54:05.644977Z"
    },
    "hidden": true
   },
   "outputs": [
    {
     "data": {
      "text/plain": [
       "array([  0.78180071,   2.94105921,   5.84488904,   8.5253491 ,\n",
       "        12.02483762,  17.497441  ,  24.38473153,  33.09622265,\n",
       "        41.99385742,  39.83459892,  75.79742365,  93.14595037,\n",
       "       114.9991361 , 143.6279275 , 172.5917768 , 219.0158361 ,\n",
       "       274.5609032 , 341.4606921 ])"
      ]
     },
     "execution_count": 29,
     "metadata": {},
     "output_type": "execute_result"
    }
   ],
   "source": [
    "########## UNFINISHED ############\n",
    "init_eps = pd.read_csv('../Data/raw/IL_initial_eps.csv', header=None).values[:,0].copy()\n",
    "init_eps"
   ]
  },
  {
   "cell_type": "code",
   "execution_count": 135,
   "metadata": {
    "ExecuteTime": {
     "end_time": "2020-04-15T17:12:13.165788Z",
     "start_time": "2020-04-15T17:12:13.160787Z"
    },
    "hidden": true
   },
   "outputs": [],
   "source": [
    "init_eps_asymp = {}\n",
    "for i in [1,2,3]:\n",
    "    scen = 'Scenario'+str(i)\n",
    "    f_init_i = f_init[scen][:(len(R)*len(A))]\n",
    "    init_eps_asymp[scen] = (init_eps/(1-(f_init_i * risk_dist['pop size'].values).sum())) / 9136000."
   ]
  },
  {
   "cell_type": "code",
   "execution_count": 136,
   "metadata": {
    "ExecuteTime": {
     "end_time": "2020-04-15T17:12:14.084840Z",
     "start_time": "2020-04-15T17:12:14.077840Z"
    },
    "hidden": true
   },
   "outputs": [
    {
     "data": {
      "text/plain": [
       "array([0.        , 0.        , 0.        , 0.        , 0.        ,\n",
       "       0.        , 0.        , 0.        , 0.        , 0.6127786 ,\n",
       "       0.6127786 , 0.62218712, 0.58971125, 0.57587446, 0.59021178,\n",
       "       0.56415614, 0.54046208, 0.14933333])"
      ]
     },
     "execution_count": 136,
     "metadata": {},
     "output_type": "execute_result"
    }
   ],
   "source": [
    "f_init['Scenario3'][:(len(R)*len(A))]"
   ]
  },
  {
   "cell_type": "code",
   "execution_count": 137,
   "metadata": {
    "ExecuteTime": {
     "end_time": "2020-04-15T17:12:33.948977Z",
     "start_time": "2020-04-15T17:12:33.943976Z"
    },
    "hidden": true
   },
   "outputs": [
    {
     "data": {
      "text/plain": [
       "3003.15972721764"
      ]
     },
     "execution_count": 137,
     "metadata": {},
     "output_type": "execute_result"
    }
   ],
   "source": [
    "init_eps_asymp['Scenario3'].sum()*9136000"
   ]
  },
  {
   "cell_type": "code",
   "execution_count": 138,
   "metadata": {
    "ExecuteTime": {
     "end_time": "2020-04-15T17:12:52.916061Z",
     "start_time": "2020-04-15T17:12:52.911061Z"
    },
    "hidden": true
   },
   "outputs": [
    {
     "ename": "SyntaxError",
     "evalue": "invalid syntax (<ipython-input-138-958ad179e108>, line 1)",
     "output_type": "error",
     "traceback": [
      "\u001b[1;36m  File \u001b[1;32m\"<ipython-input-138-958ad179e108>\"\u001b[1;36m, line \u001b[1;32m1\u001b[0m\n\u001b[1;33m    def fill_eps_day(init_eps, dic=mdl.N, age_)\u001b[0m\n\u001b[1;37m                                               ^\u001b[0m\n\u001b[1;31mSyntaxError\u001b[0m\u001b[1;31m:\u001b[0m invalid syntax\n"
     ]
    }
   ],
   "source": [
    "def fill_eps_day(init_eps, dic=mdl.N, age_)"
   ]
  },
  {
   "cell_type": "code",
   "execution_count": null,
   "metadata": {
    "hidden": true
   },
   "outputs": [],
   "source": [
    "eps_reg = []\n"
   ]
  },
  {
   "cell_type": "markdown",
   "metadata": {},
   "source": [
    "# Hospitalizations"
   ]
  },
  {
   "cell_type": "code",
   "execution_count": 82,
   "metadata": {
    "ExecuteTime": {
     "end_time": "2020-04-28T08:25:49.515955Z",
     "start_time": "2020-04-28T08:25:49.487953Z"
    }
   },
   "outputs": [
    {
     "data": {
      "text/html": [
       "<div>\n",
       "<style scoped>\n",
       "    .dataframe tbody tr th:only-of-type {\n",
       "        vertical-align: middle;\n",
       "    }\n",
       "\n",
       "    .dataframe tbody tr th {\n",
       "        vertical-align: top;\n",
       "    }\n",
       "\n",
       "    .dataframe thead th {\n",
       "        text-align: right;\n",
       "    }\n",
       "</style>\n",
       "<table border=\"1\" class=\"dataframe\">\n",
       "  <thead>\n",
       "    <tr style=\"text-align: right;\">\n",
       "      <th></th>\n",
       "      <th>Age</th>\n",
       "      <th>risk</th>\n",
       "      <th>pr_hosp</th>\n",
       "    </tr>\n",
       "  </thead>\n",
       "  <tbody>\n",
       "    <tr>\n",
       "      <th>0</th>\n",
       "      <td>0-4</td>\n",
       "      <td>High</td>\n",
       "      <td>0.200000</td>\n",
       "    </tr>\n",
       "    <tr>\n",
       "      <th>1</th>\n",
       "      <td>05-Sep</td>\n",
       "      <td>High</td>\n",
       "      <td>0.000000</td>\n",
       "    </tr>\n",
       "    <tr>\n",
       "      <th>2</th>\n",
       "      <td>Oct-19</td>\n",
       "      <td>High</td>\n",
       "      <td>0.000000</td>\n",
       "    </tr>\n",
       "    <tr>\n",
       "      <th>3</th>\n",
       "      <td>20-29</td>\n",
       "      <td>High</td>\n",
       "      <td>0.195652</td>\n",
       "    </tr>\n",
       "    <tr>\n",
       "      <th>4</th>\n",
       "      <td>30-39</td>\n",
       "      <td>High</td>\n",
       "      <td>0.259259</td>\n",
       "    </tr>\n",
       "    <tr>\n",
       "      <th>5</th>\n",
       "      <td>40-49</td>\n",
       "      <td>High</td>\n",
       "      <td>0.276190</td>\n",
       "    </tr>\n",
       "    <tr>\n",
       "      <th>6</th>\n",
       "      <td>50-59</td>\n",
       "      <td>High</td>\n",
       "      <td>0.300926</td>\n",
       "    </tr>\n",
       "    <tr>\n",
       "      <th>7</th>\n",
       "      <td>60-69</td>\n",
       "      <td>High</td>\n",
       "      <td>0.328125</td>\n",
       "    </tr>\n",
       "    <tr>\n",
       "      <th>8</th>\n",
       "      <td>70+</td>\n",
       "      <td>High</td>\n",
       "      <td>0.530892</td>\n",
       "    </tr>\n",
       "    <tr>\n",
       "      <th>9</th>\n",
       "      <td>0-4</td>\n",
       "      <td>Low</td>\n",
       "      <td>0.061776</td>\n",
       "    </tr>\n",
       "    <tr>\n",
       "      <th>10</th>\n",
       "      <td>05-Sep</td>\n",
       "      <td>Low</td>\n",
       "      <td>0.008929</td>\n",
       "    </tr>\n",
       "    <tr>\n",
       "      <th>11</th>\n",
       "      <td>Oct-19</td>\n",
       "      <td>Low</td>\n",
       "      <td>0.032407</td>\n",
       "    </tr>\n",
       "    <tr>\n",
       "      <th>12</th>\n",
       "      <td>20-29</td>\n",
       "      <td>Low</td>\n",
       "      <td>0.081551</td>\n",
       "    </tr>\n",
       "    <tr>\n",
       "      <th>13</th>\n",
       "      <td>30-39</td>\n",
       "      <td>Low</td>\n",
       "      <td>0.104687</td>\n",
       "    </tr>\n",
       "    <tr>\n",
       "      <th>14</th>\n",
       "      <td>40-49</td>\n",
       "      <td>Low</td>\n",
       "      <td>0.142265</td>\n",
       "    </tr>\n",
       "    <tr>\n",
       "      <th>15</th>\n",
       "      <td>50-59</td>\n",
       "      <td>Low</td>\n",
       "      <td>0.178144</td>\n",
       "    </tr>\n",
       "    <tr>\n",
       "      <th>16</th>\n",
       "      <td>60-69</td>\n",
       "      <td>Low</td>\n",
       "      <td>0.263889</td>\n",
       "    </tr>\n",
       "    <tr>\n",
       "      <th>17</th>\n",
       "      <td>70+</td>\n",
       "      <td>Low</td>\n",
       "      <td>0.523617</td>\n",
       "    </tr>\n",
       "  </tbody>\n",
       "</table>\n",
       "</div>"
      ],
      "text/plain": [
       "       Age  risk   pr_hosp\n",
       "0      0-4  High  0.200000\n",
       "1   05-Sep  High  0.000000\n",
       "2   Oct-19  High  0.000000\n",
       "3    20-29  High  0.195652\n",
       "4    30-39  High  0.259259\n",
       "5    40-49  High  0.276190\n",
       "6    50-59  High  0.300926\n",
       "7    60-69  High  0.328125\n",
       "8      70+  High  0.530892\n",
       "9      0-4   Low  0.061776\n",
       "10  05-Sep   Low  0.008929\n",
       "11  Oct-19   Low  0.032407\n",
       "12   20-29   Low  0.081551\n",
       "13   30-39   Low  0.104687\n",
       "14   40-49   Low  0.142265\n",
       "15   50-59   Low  0.178144\n",
       "16   60-69   Low  0.263889\n",
       "17     70+   Low  0.523617"
      ]
     },
     "execution_count": 82,
     "metadata": {},
     "output_type": "execute_result"
    }
   ],
   "source": [
    "hosp_init = pd.read_csv('../Data/raw/hospitalizations.csv')\n",
    "hosp_init"
   ]
  },
  {
   "cell_type": "code",
   "execution_count": 83,
   "metadata": {
    "ExecuteTime": {
     "end_time": "2020-04-28T08:25:49.705966Z",
     "start_time": "2020-04-28T08:25:49.701965Z"
    }
   },
   "outputs": [],
   "source": [
    "hosp = expand_partial_array(ind.risk_age_dict, hosp_init['pr_hosp'].values, len(ind.N))"
   ]
  },
  {
   "cell_type": "code",
   "execution_count": 84,
   "metadata": {
    "ExecuteTime": {
     "end_time": "2020-04-28T08:25:49.902977Z",
     "start_time": "2020-04-28T08:25:49.884976Z"
    }
   },
   "outputs": [
    {
     "data": {
      "text/plain": [
       "array([0.2       , 0.        , 0.        , 0.19565217, 0.25925926,\n",
       "       0.27619048, 0.30092593, 0.328125  , 0.53089245, 0.06177606,\n",
       "       0.00892857, 0.03240741, 0.08155129, 0.10468655, 0.14226519,\n",
       "       0.17814371, 0.26388889, 0.52361673, 0.2       , 0.        ,\n",
       "       0.        , 0.19565217, 0.25925926, 0.27619048, 0.30092593,\n",
       "       0.328125  , 0.53089245, 0.06177606, 0.00892857, 0.03240741,\n",
       "       0.08155129, 0.10468655, 0.14226519, 0.17814371, 0.26388889,\n",
       "       0.52361673, 0.2       , 0.        , 0.        , 0.19565217,\n",
       "       0.25925926, 0.27619048, 0.30092593, 0.328125  , 0.53089245,\n",
       "       0.06177606, 0.00892857, 0.03240741, 0.08155129, 0.10468655,\n",
       "       0.14226519, 0.17814371, 0.26388889, 0.52361673, 0.2       ,\n",
       "       0.        , 0.        , 0.19565217, 0.25925926, 0.27619048,\n",
       "       0.30092593, 0.328125  , 0.53089245, 0.06177606, 0.00892857,\n",
       "       0.03240741, 0.08155129, 0.10468655, 0.14226519, 0.17814371,\n",
       "       0.26388889, 0.52361673, 0.2       , 0.        , 0.        ,\n",
       "       0.19565217, 0.25925926, 0.27619048, 0.30092593, 0.328125  ,\n",
       "       0.53089245, 0.06177606, 0.00892857, 0.03240741, 0.08155129,\n",
       "       0.10468655, 0.14226519, 0.17814371, 0.26388889, 0.52361673,\n",
       "       0.2       , 0.        , 0.        , 0.19565217, 0.25925926,\n",
       "       0.27619048, 0.30092593, 0.328125  , 0.53089245, 0.06177606,\n",
       "       0.00892857, 0.03240741, 0.08155129, 0.10468655, 0.14226519,\n",
       "       0.17814371, 0.26388889, 0.52361673, 0.2       , 0.        ,\n",
       "       0.        , 0.19565217, 0.25925926, 0.27619048, 0.30092593,\n",
       "       0.328125  , 0.53089245, 0.06177606, 0.00892857, 0.03240741,\n",
       "       0.08155129, 0.10468655, 0.14226519, 0.17814371, 0.26388889,\n",
       "       0.52361673, 0.2       , 0.        , 0.        , 0.19565217,\n",
       "       0.25925926, 0.27619048, 0.30092593, 0.328125  , 0.53089245,\n",
       "       0.06177606, 0.00892857, 0.03240741, 0.08155129, 0.10468655,\n",
       "       0.14226519, 0.17814371, 0.26388889, 0.52361673, 0.2       ,\n",
       "       0.        , 0.        , 0.19565217, 0.25925926, 0.27619048,\n",
       "       0.30092593, 0.328125  , 0.53089245, 0.06177606, 0.00892857,\n",
       "       0.03240741, 0.08155129, 0.10468655, 0.14226519, 0.17814371,\n",
       "       0.26388889, 0.52361673, 0.2       , 0.        , 0.        ,\n",
       "       0.19565217, 0.25925926, 0.27619048, 0.30092593, 0.328125  ,\n",
       "       0.53089245, 0.06177606, 0.00892857, 0.03240741, 0.08155129,\n",
       "       0.10468655, 0.14226519, 0.17814371, 0.26388889, 0.52361673,\n",
       "       0.2       , 0.        , 0.        , 0.19565217, 0.25925926,\n",
       "       0.27619048, 0.30092593, 0.328125  , 0.53089245, 0.06177606,\n",
       "       0.00892857, 0.03240741, 0.08155129, 0.10468655, 0.14226519,\n",
       "       0.17814371, 0.26388889, 0.52361673, 0.2       , 0.        ,\n",
       "       0.        , 0.19565217, 0.25925926, 0.27619048, 0.30092593,\n",
       "       0.328125  , 0.53089245, 0.06177606, 0.00892857, 0.03240741,\n",
       "       0.08155129, 0.10468655, 0.14226519, 0.17814371, 0.26388889,\n",
       "       0.52361673, 0.2       , 0.        , 0.        , 0.19565217,\n",
       "       0.25925926, 0.27619048, 0.30092593, 0.328125  , 0.53089245,\n",
       "       0.06177606, 0.00892857, 0.03240741, 0.08155129, 0.10468655,\n",
       "       0.14226519, 0.17814371, 0.26388889, 0.52361673, 0.2       ,\n",
       "       0.        , 0.        , 0.19565217, 0.25925926, 0.27619048,\n",
       "       0.30092593, 0.328125  , 0.53089245, 0.06177606, 0.00892857,\n",
       "       0.03240741, 0.08155129, 0.10468655, 0.14226519, 0.17814371,\n",
       "       0.26388889, 0.52361673, 0.2       , 0.        , 0.        ,\n",
       "       0.19565217, 0.25925926, 0.27619048, 0.30092593, 0.328125  ,\n",
       "       0.53089245, 0.06177606, 0.00892857, 0.03240741, 0.08155129,\n",
       "       0.10468655, 0.14226519, 0.17814371, 0.26388889, 0.52361673,\n",
       "       0.2       , 0.        , 0.        , 0.19565217, 0.25925926,\n",
       "       0.27619048, 0.30092593, 0.328125  , 0.53089245, 0.06177606,\n",
       "       0.00892857, 0.03240741, 0.08155129, 0.10468655, 0.14226519,\n",
       "       0.17814371, 0.26388889, 0.52361673, 0.2       , 0.        ,\n",
       "       0.        , 0.19565217, 0.25925926, 0.27619048, 0.30092593,\n",
       "       0.328125  , 0.53089245, 0.06177606, 0.00892857, 0.03240741,\n",
       "       0.08155129, 0.10468655, 0.14226519, 0.17814371, 0.26388889,\n",
       "       0.52361673, 0.2       , 0.        , 0.        , 0.19565217,\n",
       "       0.25925926, 0.27619048, 0.30092593, 0.328125  , 0.53089245,\n",
       "       0.06177606, 0.00892857, 0.03240741, 0.08155129, 0.10468655,\n",
       "       0.14226519, 0.17814371, 0.26388889, 0.52361673, 0.2       ,\n",
       "       0.        , 0.        , 0.19565217, 0.25925926, 0.27619048,\n",
       "       0.30092593, 0.328125  , 0.53089245, 0.06177606, 0.00892857,\n",
       "       0.03240741, 0.08155129, 0.10468655, 0.14226519, 0.17814371,\n",
       "       0.26388889, 0.52361673, 0.2       , 0.        , 0.        ,\n",
       "       0.19565217, 0.25925926, 0.27619048, 0.30092593, 0.328125  ,\n",
       "       0.53089245, 0.06177606, 0.00892857, 0.03240741, 0.08155129,\n",
       "       0.10468655, 0.14226519, 0.17814371, 0.26388889, 0.52361673,\n",
       "       0.2       , 0.        , 0.        , 0.19565217, 0.25925926,\n",
       "       0.27619048, 0.30092593, 0.328125  , 0.53089245, 0.06177606,\n",
       "       0.00892857, 0.03240741, 0.08155129, 0.10468655, 0.14226519,\n",
       "       0.17814371, 0.26388889, 0.52361673, 0.2       , 0.        ,\n",
       "       0.        , 0.19565217, 0.25925926, 0.27619048, 0.30092593,\n",
       "       0.328125  , 0.53089245, 0.06177606, 0.00892857, 0.03240741,\n",
       "       0.08155129, 0.10468655, 0.14226519, 0.17814371, 0.26388889,\n",
       "       0.52361673, 0.2       , 0.        , 0.        , 0.19565217,\n",
       "       0.25925926, 0.27619048, 0.30092593, 0.328125  , 0.53089245,\n",
       "       0.06177606, 0.00892857, 0.03240741, 0.08155129, 0.10468655,\n",
       "       0.14226519, 0.17814371, 0.26388889, 0.52361673, 0.2       ,\n",
       "       0.        , 0.        , 0.19565217, 0.25925926, 0.27619048,\n",
       "       0.30092593, 0.328125  , 0.53089245, 0.06177606, 0.00892857,\n",
       "       0.03240741, 0.08155129, 0.10468655, 0.14226519, 0.17814371,\n",
       "       0.26388889, 0.52361673, 0.2       , 0.        , 0.        ,\n",
       "       0.19565217, 0.25925926, 0.27619048, 0.30092593, 0.328125  ,\n",
       "       0.53089245, 0.06177606, 0.00892857, 0.03240741, 0.08155129,\n",
       "       0.10468655, 0.14226519, 0.17814371, 0.26388889, 0.52361673,\n",
       "       0.2       , 0.        , 0.        , 0.19565217, 0.25925926,\n",
       "       0.27619048, 0.30092593, 0.328125  , 0.53089245, 0.06177606,\n",
       "       0.00892857, 0.03240741, 0.08155129, 0.10468655, 0.14226519,\n",
       "       0.17814371, 0.26388889, 0.52361673, 0.2       , 0.        ,\n",
       "       0.        , 0.19565217, 0.25925926, 0.27619048, 0.30092593,\n",
       "       0.328125  , 0.53089245, 0.06177606, 0.00892857, 0.03240741,\n",
       "       0.08155129, 0.10468655, 0.14226519, 0.17814371, 0.26388889,\n",
       "       0.52361673, 0.2       , 0.        , 0.        , 0.19565217,\n",
       "       0.25925926, 0.27619048, 0.30092593, 0.328125  , 0.53089245,\n",
       "       0.06177606, 0.00892857, 0.03240741, 0.08155129, 0.10468655,\n",
       "       0.14226519, 0.17814371, 0.26388889, 0.52361673, 0.2       ,\n",
       "       0.        , 0.        , 0.19565217, 0.25925926, 0.27619048,\n",
       "       0.30092593, 0.328125  , 0.53089245, 0.06177606, 0.00892857,\n",
       "       0.03240741, 0.08155129, 0.10468655, 0.14226519, 0.17814371,\n",
       "       0.26388889, 0.52361673, 0.2       , 0.        , 0.        ,\n",
       "       0.19565217, 0.25925926, 0.27619048, 0.30092593, 0.328125  ,\n",
       "       0.53089245, 0.06177606, 0.00892857, 0.03240741, 0.08155129,\n",
       "       0.10468655, 0.14226519, 0.17814371, 0.26388889, 0.52361673,\n",
       "       0.2       , 0.        , 0.        , 0.19565217, 0.25925926,\n",
       "       0.27619048, 0.30092593, 0.328125  , 0.53089245, 0.06177606,\n",
       "       0.00892857, 0.03240741, 0.08155129, 0.10468655, 0.14226519,\n",
       "       0.17814371, 0.26388889, 0.52361673, 0.2       , 0.        ,\n",
       "       0.        , 0.19565217, 0.25925926, 0.27619048, 0.30092593,\n",
       "       0.328125  , 0.53089245, 0.06177606, 0.00892857, 0.03240741,\n",
       "       0.08155129, 0.10468655, 0.14226519, 0.17814371, 0.26388889,\n",
       "       0.52361673, 0.2       , 0.        , 0.        , 0.19565217,\n",
       "       0.25925926, 0.27619048, 0.30092593, 0.328125  , 0.53089245,\n",
       "       0.06177606, 0.00892857, 0.03240741, 0.08155129, 0.10468655,\n",
       "       0.14226519, 0.17814371, 0.26388889, 0.52361673, 0.2       ,\n",
       "       0.        , 0.        , 0.19565217, 0.25925926, 0.27619048,\n",
       "       0.30092593, 0.328125  , 0.53089245, 0.06177606, 0.00892857,\n",
       "       0.03240741, 0.08155129, 0.10468655, 0.14226519, 0.17814371,\n",
       "       0.26388889, 0.52361673, 0.2       , 0.        , 0.        ,\n",
       "       0.19565217, 0.25925926, 0.27619048, 0.30092593, 0.328125  ,\n",
       "       0.53089245, 0.06177606, 0.00892857, 0.03240741, 0.08155129,\n",
       "       0.10468655, 0.14226519, 0.17814371, 0.26388889, 0.52361673,\n",
       "       0.2       , 0.        , 0.        , 0.19565217, 0.25925926,\n",
       "       0.27619048, 0.30092593, 0.328125  , 0.53089245, 0.06177606,\n",
       "       0.00892857, 0.03240741, 0.08155129, 0.10468655, 0.14226519,\n",
       "       0.17814371, 0.26388889, 0.52361673, 0.2       , 0.        ,\n",
       "       0.        , 0.19565217, 0.25925926, 0.27619048, 0.30092593,\n",
       "       0.328125  , 0.53089245, 0.06177606, 0.00892857, 0.03240741,\n",
       "       0.08155129, 0.10468655, 0.14226519, 0.17814371, 0.26388889,\n",
       "       0.52361673, 0.2       , 0.        , 0.        , 0.19565217,\n",
       "       0.25925926, 0.27619048, 0.30092593, 0.328125  , 0.53089245,\n",
       "       0.06177606, 0.00892857, 0.03240741, 0.08155129, 0.10468655,\n",
       "       0.14226519, 0.17814371, 0.26388889, 0.52361673, 0.2       ,\n",
       "       0.        , 0.        , 0.19565217, 0.25925926, 0.27619048,\n",
       "       0.30092593, 0.328125  , 0.53089245, 0.06177606, 0.00892857,\n",
       "       0.03240741, 0.08155129, 0.10468655, 0.14226519, 0.17814371,\n",
       "       0.26388889, 0.52361673, 0.2       , 0.        , 0.        ,\n",
       "       0.19565217, 0.25925926, 0.27619048, 0.30092593, 0.328125  ,\n",
       "       0.53089245, 0.06177606, 0.00892857, 0.03240741, 0.08155129,\n",
       "       0.10468655, 0.14226519, 0.17814371, 0.26388889, 0.52361673])"
      ]
     },
     "execution_count": 84,
     "metadata": {},
     "output_type": "execute_result"
    }
   ],
   "source": [
    "hosp"
   ]
  },
  {
   "cell_type": "code",
   "execution_count": 85,
   "metadata": {
    "ExecuteTime": {
     "end_time": "2020-04-28T08:25:50.108989Z",
     "start_time": "2020-04-28T08:25:50.100988Z"
    }
   },
   "outputs": [],
   "source": [
    "# Save\n",
    "with open('../Data/parameters/hospitalization.pickle', 'wb') as handle:\n",
    "    pickle.dump(hosp, handle, protocol=pickle.HIGHEST_PROTOCOL)"
   ]
  },
  {
   "cell_type": "markdown",
   "metadata": {},
   "source": [
    "# Ventilators"
   ]
  },
  {
   "cell_type": "code",
   "execution_count": 86,
   "metadata": {
    "ExecuteTime": {
     "end_time": "2020-04-28T08:25:50.984039Z",
     "start_time": "2020-04-28T08:25:50.954037Z"
    }
   },
   "outputs": [
    {
     "data": {
      "text/html": [
       "<div>\n",
       "<style scoped>\n",
       "    .dataframe tbody tr th:only-of-type {\n",
       "        vertical-align: middle;\n",
       "    }\n",
       "\n",
       "    .dataframe tbody tr th {\n",
       "        vertical-align: top;\n",
       "    }\n",
       "\n",
       "    .dataframe thead th {\n",
       "        text-align: right;\n",
       "    }\n",
       "</style>\n",
       "<table border=\"1\" class=\"dataframe\">\n",
       "  <thead>\n",
       "    <tr style=\"text-align: right;\">\n",
       "      <th></th>\n",
       "      <th>Age</th>\n",
       "      <th>risk</th>\n",
       "      <th>pr_vents</th>\n",
       "    </tr>\n",
       "  </thead>\n",
       "  <tbody>\n",
       "    <tr>\n",
       "      <th>0</th>\n",
       "      <td>0-4</td>\n",
       "      <td>High</td>\n",
       "      <td>0.000000</td>\n",
       "    </tr>\n",
       "    <tr>\n",
       "      <th>1</th>\n",
       "      <td>05-Sep</td>\n",
       "      <td>High</td>\n",
       "      <td>0.000000</td>\n",
       "    </tr>\n",
       "    <tr>\n",
       "      <th>2</th>\n",
       "      <td>Oct-19</td>\n",
       "      <td>High</td>\n",
       "      <td>0.000000</td>\n",
       "    </tr>\n",
       "    <tr>\n",
       "      <th>3</th>\n",
       "      <td>20-29</td>\n",
       "      <td>High</td>\n",
       "      <td>0.000000</td>\n",
       "    </tr>\n",
       "    <tr>\n",
       "      <th>4</th>\n",
       "      <td>30-39</td>\n",
       "      <td>High</td>\n",
       "      <td>0.014159</td>\n",
       "    </tr>\n",
       "    <tr>\n",
       "      <th>5</th>\n",
       "      <td>40-49</td>\n",
       "      <td>High</td>\n",
       "      <td>0.041329</td>\n",
       "    </tr>\n",
       "    <tr>\n",
       "      <th>6</th>\n",
       "      <td>50-59</td>\n",
       "      <td>High</td>\n",
       "      <td>0.040630</td>\n",
       "    </tr>\n",
       "    <tr>\n",
       "      <th>7</th>\n",
       "      <td>60-69</td>\n",
       "      <td>High</td>\n",
       "      <td>0.044061</td>\n",
       "    </tr>\n",
       "    <tr>\n",
       "      <th>8</th>\n",
       "      <td>70+</td>\n",
       "      <td>High</td>\n",
       "      <td>0.157187</td>\n",
       "    </tr>\n",
       "    <tr>\n",
       "      <th>9</th>\n",
       "      <td>0-4</td>\n",
       "      <td>Low</td>\n",
       "      <td>0.000000</td>\n",
       "    </tr>\n",
       "    <tr>\n",
       "      <th>10</th>\n",
       "      <td>05-Sep</td>\n",
       "      <td>Low</td>\n",
       "      <td>0.000000</td>\n",
       "    </tr>\n",
       "    <tr>\n",
       "      <th>11</th>\n",
       "      <td>Oct-19</td>\n",
       "      <td>Low</td>\n",
       "      <td>0.000000</td>\n",
       "    </tr>\n",
       "    <tr>\n",
       "      <th>12</th>\n",
       "      <td>20-29</td>\n",
       "      <td>Low</td>\n",
       "      <td>0.000653</td>\n",
       "    </tr>\n",
       "    <tr>\n",
       "      <th>13</th>\n",
       "      <td>30-39</td>\n",
       "      <td>Low</td>\n",
       "      <td>0.001623</td>\n",
       "    </tr>\n",
       "    <tr>\n",
       "      <th>14</th>\n",
       "      <td>40-49</td>\n",
       "      <td>Low</td>\n",
       "      <td>0.003076</td>\n",
       "    </tr>\n",
       "    <tr>\n",
       "      <th>15</th>\n",
       "      <td>50-59</td>\n",
       "      <td>Low</td>\n",
       "      <td>0.007489</td>\n",
       "    </tr>\n",
       "    <tr>\n",
       "      <th>16</th>\n",
       "      <td>60-69</td>\n",
       "      <td>Low</td>\n",
       "      <td>0.027140</td>\n",
       "    </tr>\n",
       "    <tr>\n",
       "      <th>17</th>\n",
       "      <td>70+</td>\n",
       "      <td>Low</td>\n",
       "      <td>0.129227</td>\n",
       "    </tr>\n",
       "  </tbody>\n",
       "</table>\n",
       "</div>"
      ],
      "text/plain": [
       "       Age  risk  pr_vents\n",
       "0      0-4  High  0.000000\n",
       "1   05-Sep  High  0.000000\n",
       "2   Oct-19  High  0.000000\n",
       "3    20-29  High  0.000000\n",
       "4    30-39  High  0.014159\n",
       "5    40-49  High  0.041329\n",
       "6    50-59  High  0.040630\n",
       "7    60-69  High  0.044061\n",
       "8      70+  High  0.157187\n",
       "9      0-4   Low  0.000000\n",
       "10  05-Sep   Low  0.000000\n",
       "11  Oct-19   Low  0.000000\n",
       "12   20-29   Low  0.000653\n",
       "13   30-39   Low  0.001623\n",
       "14   40-49   Low  0.003076\n",
       "15   50-59   Low  0.007489\n",
       "16   60-69   Low  0.027140\n",
       "17     70+   Low  0.129227"
      ]
     },
     "execution_count": 86,
     "metadata": {},
     "output_type": "execute_result"
    }
   ],
   "source": [
    "vents_init = pd.read_csv('../Data/raw/vent_proba.csv')\n",
    "vents_init"
   ]
  },
  {
   "cell_type": "code",
   "execution_count": 87,
   "metadata": {
    "ExecuteTime": {
     "end_time": "2020-04-28T08:25:51.458066Z",
     "start_time": "2020-04-28T08:25:51.452065Z"
    }
   },
   "outputs": [],
   "source": [
    "vent = expand_partial_array(ind.risk_age_dict, vents_init['pr_vents'].values, len(ind.N))"
   ]
  },
  {
   "cell_type": "code",
   "execution_count": 88,
   "metadata": {
    "ExecuteTime": {
     "end_time": "2020-04-28T08:25:51.726081Z",
     "start_time": "2020-04-28T08:25:51.707080Z"
    }
   },
   "outputs": [
    {
     "data": {
      "text/plain": [
       "array([0.        , 0.        , 0.        , 0.        , 0.01415908,\n",
       "       0.04132921, 0.0406304 , 0.04406114, 0.15718735, 0.        ,\n",
       "       0.        , 0.        , 0.0006535 , 0.00162333, 0.00307558,\n",
       "       0.00748931, 0.02713968, 0.12922653, 0.        , 0.        ,\n",
       "       0.        , 0.        , 0.01415908, 0.04132921, 0.0406304 ,\n",
       "       0.04406114, 0.15718735, 0.        , 0.        , 0.        ,\n",
       "       0.0006535 , 0.00162333, 0.00307558, 0.00748931, 0.02713968,\n",
       "       0.12922653, 0.        , 0.        , 0.        , 0.        ,\n",
       "       0.01415908, 0.04132921, 0.0406304 , 0.04406114, 0.15718735,\n",
       "       0.        , 0.        , 0.        , 0.0006535 , 0.00162333,\n",
       "       0.00307558, 0.00748931, 0.02713968, 0.12922653, 0.        ,\n",
       "       0.        , 0.        , 0.        , 0.01415908, 0.04132921,\n",
       "       0.0406304 , 0.04406114, 0.15718735, 0.        , 0.        ,\n",
       "       0.        , 0.0006535 , 0.00162333, 0.00307558, 0.00748931,\n",
       "       0.02713968, 0.12922653, 0.        , 0.        , 0.        ,\n",
       "       0.        , 0.01415908, 0.04132921, 0.0406304 , 0.04406114,\n",
       "       0.15718735, 0.        , 0.        , 0.        , 0.0006535 ,\n",
       "       0.00162333, 0.00307558, 0.00748931, 0.02713968, 0.12922653,\n",
       "       0.        , 0.        , 0.        , 0.        , 0.01415908,\n",
       "       0.04132921, 0.0406304 , 0.04406114, 0.15718735, 0.        ,\n",
       "       0.        , 0.        , 0.0006535 , 0.00162333, 0.00307558,\n",
       "       0.00748931, 0.02713968, 0.12922653, 0.        , 0.        ,\n",
       "       0.        , 0.        , 0.01415908, 0.04132921, 0.0406304 ,\n",
       "       0.04406114, 0.15718735, 0.        , 0.        , 0.        ,\n",
       "       0.0006535 , 0.00162333, 0.00307558, 0.00748931, 0.02713968,\n",
       "       0.12922653, 0.        , 0.        , 0.        , 0.        ,\n",
       "       0.01415908, 0.04132921, 0.0406304 , 0.04406114, 0.15718735,\n",
       "       0.        , 0.        , 0.        , 0.0006535 , 0.00162333,\n",
       "       0.00307558, 0.00748931, 0.02713968, 0.12922653, 0.        ,\n",
       "       0.        , 0.        , 0.        , 0.01415908, 0.04132921,\n",
       "       0.0406304 , 0.04406114, 0.15718735, 0.        , 0.        ,\n",
       "       0.        , 0.0006535 , 0.00162333, 0.00307558, 0.00748931,\n",
       "       0.02713968, 0.12922653, 0.        , 0.        , 0.        ,\n",
       "       0.        , 0.01415908, 0.04132921, 0.0406304 , 0.04406114,\n",
       "       0.15718735, 0.        , 0.        , 0.        , 0.0006535 ,\n",
       "       0.00162333, 0.00307558, 0.00748931, 0.02713968, 0.12922653,\n",
       "       0.        , 0.        , 0.        , 0.        , 0.01415908,\n",
       "       0.04132921, 0.0406304 , 0.04406114, 0.15718735, 0.        ,\n",
       "       0.        , 0.        , 0.0006535 , 0.00162333, 0.00307558,\n",
       "       0.00748931, 0.02713968, 0.12922653, 0.        , 0.        ,\n",
       "       0.        , 0.        , 0.01415908, 0.04132921, 0.0406304 ,\n",
       "       0.04406114, 0.15718735, 0.        , 0.        , 0.        ,\n",
       "       0.0006535 , 0.00162333, 0.00307558, 0.00748931, 0.02713968,\n",
       "       0.12922653, 0.        , 0.        , 0.        , 0.        ,\n",
       "       0.01415908, 0.04132921, 0.0406304 , 0.04406114, 0.15718735,\n",
       "       0.        , 0.        , 0.        , 0.0006535 , 0.00162333,\n",
       "       0.00307558, 0.00748931, 0.02713968, 0.12922653, 0.        ,\n",
       "       0.        , 0.        , 0.        , 0.01415908, 0.04132921,\n",
       "       0.0406304 , 0.04406114, 0.15718735, 0.        , 0.        ,\n",
       "       0.        , 0.0006535 , 0.00162333, 0.00307558, 0.00748931,\n",
       "       0.02713968, 0.12922653, 0.        , 0.        , 0.        ,\n",
       "       0.        , 0.01415908, 0.04132921, 0.0406304 , 0.04406114,\n",
       "       0.15718735, 0.        , 0.        , 0.        , 0.0006535 ,\n",
       "       0.00162333, 0.00307558, 0.00748931, 0.02713968, 0.12922653,\n",
       "       0.        , 0.        , 0.        , 0.        , 0.01415908,\n",
       "       0.04132921, 0.0406304 , 0.04406114, 0.15718735, 0.        ,\n",
       "       0.        , 0.        , 0.0006535 , 0.00162333, 0.00307558,\n",
       "       0.00748931, 0.02713968, 0.12922653, 0.        , 0.        ,\n",
       "       0.        , 0.        , 0.01415908, 0.04132921, 0.0406304 ,\n",
       "       0.04406114, 0.15718735, 0.        , 0.        , 0.        ,\n",
       "       0.0006535 , 0.00162333, 0.00307558, 0.00748931, 0.02713968,\n",
       "       0.12922653, 0.        , 0.        , 0.        , 0.        ,\n",
       "       0.01415908, 0.04132921, 0.0406304 , 0.04406114, 0.15718735,\n",
       "       0.        , 0.        , 0.        , 0.0006535 , 0.00162333,\n",
       "       0.00307558, 0.00748931, 0.02713968, 0.12922653, 0.        ,\n",
       "       0.        , 0.        , 0.        , 0.01415908, 0.04132921,\n",
       "       0.0406304 , 0.04406114, 0.15718735, 0.        , 0.        ,\n",
       "       0.        , 0.0006535 , 0.00162333, 0.00307558, 0.00748931,\n",
       "       0.02713968, 0.12922653, 0.        , 0.        , 0.        ,\n",
       "       0.        , 0.01415908, 0.04132921, 0.0406304 , 0.04406114,\n",
       "       0.15718735, 0.        , 0.        , 0.        , 0.0006535 ,\n",
       "       0.00162333, 0.00307558, 0.00748931, 0.02713968, 0.12922653,\n",
       "       0.        , 0.        , 0.        , 0.        , 0.01415908,\n",
       "       0.04132921, 0.0406304 , 0.04406114, 0.15718735, 0.        ,\n",
       "       0.        , 0.        , 0.0006535 , 0.00162333, 0.00307558,\n",
       "       0.00748931, 0.02713968, 0.12922653, 0.        , 0.        ,\n",
       "       0.        , 0.        , 0.01415908, 0.04132921, 0.0406304 ,\n",
       "       0.04406114, 0.15718735, 0.        , 0.        , 0.        ,\n",
       "       0.0006535 , 0.00162333, 0.00307558, 0.00748931, 0.02713968,\n",
       "       0.12922653, 0.        , 0.        , 0.        , 0.        ,\n",
       "       0.01415908, 0.04132921, 0.0406304 , 0.04406114, 0.15718735,\n",
       "       0.        , 0.        , 0.        , 0.0006535 , 0.00162333,\n",
       "       0.00307558, 0.00748931, 0.02713968, 0.12922653, 0.        ,\n",
       "       0.        , 0.        , 0.        , 0.01415908, 0.04132921,\n",
       "       0.0406304 , 0.04406114, 0.15718735, 0.        , 0.        ,\n",
       "       0.        , 0.0006535 , 0.00162333, 0.00307558, 0.00748931,\n",
       "       0.02713968, 0.12922653, 0.        , 0.        , 0.        ,\n",
       "       0.        , 0.01415908, 0.04132921, 0.0406304 , 0.04406114,\n",
       "       0.15718735, 0.        , 0.        , 0.        , 0.0006535 ,\n",
       "       0.00162333, 0.00307558, 0.00748931, 0.02713968, 0.12922653,\n",
       "       0.        , 0.        , 0.        , 0.        , 0.01415908,\n",
       "       0.04132921, 0.0406304 , 0.04406114, 0.15718735, 0.        ,\n",
       "       0.        , 0.        , 0.0006535 , 0.00162333, 0.00307558,\n",
       "       0.00748931, 0.02713968, 0.12922653, 0.        , 0.        ,\n",
       "       0.        , 0.        , 0.01415908, 0.04132921, 0.0406304 ,\n",
       "       0.04406114, 0.15718735, 0.        , 0.        , 0.        ,\n",
       "       0.0006535 , 0.00162333, 0.00307558, 0.00748931, 0.02713968,\n",
       "       0.12922653, 0.        , 0.        , 0.        , 0.        ,\n",
       "       0.01415908, 0.04132921, 0.0406304 , 0.04406114, 0.15718735,\n",
       "       0.        , 0.        , 0.        , 0.0006535 , 0.00162333,\n",
       "       0.00307558, 0.00748931, 0.02713968, 0.12922653, 0.        ,\n",
       "       0.        , 0.        , 0.        , 0.01415908, 0.04132921,\n",
       "       0.0406304 , 0.04406114, 0.15718735, 0.        , 0.        ,\n",
       "       0.        , 0.0006535 , 0.00162333, 0.00307558, 0.00748931,\n",
       "       0.02713968, 0.12922653, 0.        , 0.        , 0.        ,\n",
       "       0.        , 0.01415908, 0.04132921, 0.0406304 , 0.04406114,\n",
       "       0.15718735, 0.        , 0.        , 0.        , 0.0006535 ,\n",
       "       0.00162333, 0.00307558, 0.00748931, 0.02713968, 0.12922653,\n",
       "       0.        , 0.        , 0.        , 0.        , 0.01415908,\n",
       "       0.04132921, 0.0406304 , 0.04406114, 0.15718735, 0.        ,\n",
       "       0.        , 0.        , 0.0006535 , 0.00162333, 0.00307558,\n",
       "       0.00748931, 0.02713968, 0.12922653, 0.        , 0.        ,\n",
       "       0.        , 0.        , 0.01415908, 0.04132921, 0.0406304 ,\n",
       "       0.04406114, 0.15718735, 0.        , 0.        , 0.        ,\n",
       "       0.0006535 , 0.00162333, 0.00307558, 0.00748931, 0.02713968,\n",
       "       0.12922653, 0.        , 0.        , 0.        , 0.        ,\n",
       "       0.01415908, 0.04132921, 0.0406304 , 0.04406114, 0.15718735,\n",
       "       0.        , 0.        , 0.        , 0.0006535 , 0.00162333,\n",
       "       0.00307558, 0.00748931, 0.02713968, 0.12922653, 0.        ,\n",
       "       0.        , 0.        , 0.        , 0.01415908, 0.04132921,\n",
       "       0.0406304 , 0.04406114, 0.15718735, 0.        , 0.        ,\n",
       "       0.        , 0.0006535 , 0.00162333, 0.00307558, 0.00748931,\n",
       "       0.02713968, 0.12922653, 0.        , 0.        , 0.        ,\n",
       "       0.        , 0.01415908, 0.04132921, 0.0406304 , 0.04406114,\n",
       "       0.15718735, 0.        , 0.        , 0.        , 0.0006535 ,\n",
       "       0.00162333, 0.00307558, 0.00748931, 0.02713968, 0.12922653,\n",
       "       0.        , 0.        , 0.        , 0.        , 0.01415908,\n",
       "       0.04132921, 0.0406304 , 0.04406114, 0.15718735, 0.        ,\n",
       "       0.        , 0.        , 0.0006535 , 0.00162333, 0.00307558,\n",
       "       0.00748931, 0.02713968, 0.12922653, 0.        , 0.        ,\n",
       "       0.        , 0.        , 0.01415908, 0.04132921, 0.0406304 ,\n",
       "       0.04406114, 0.15718735, 0.        , 0.        , 0.        ,\n",
       "       0.0006535 , 0.00162333, 0.00307558, 0.00748931, 0.02713968,\n",
       "       0.12922653, 0.        , 0.        , 0.        , 0.        ,\n",
       "       0.01415908, 0.04132921, 0.0406304 , 0.04406114, 0.15718735,\n",
       "       0.        , 0.        , 0.        , 0.0006535 , 0.00162333,\n",
       "       0.00307558, 0.00748931, 0.02713968, 0.12922653, 0.        ,\n",
       "       0.        , 0.        , 0.        , 0.01415908, 0.04132921,\n",
       "       0.0406304 , 0.04406114, 0.15718735, 0.        , 0.        ,\n",
       "       0.        , 0.0006535 , 0.00162333, 0.00307558, 0.00748931,\n",
       "       0.02713968, 0.12922653, 0.        , 0.        , 0.        ,\n",
       "       0.        , 0.01415908, 0.04132921, 0.0406304 , 0.04406114,\n",
       "       0.15718735, 0.        , 0.        , 0.        , 0.0006535 ,\n",
       "       0.00162333, 0.00307558, 0.00748931, 0.02713968, 0.12922653])"
      ]
     },
     "execution_count": 88,
     "metadata": {},
     "output_type": "execute_result"
    }
   ],
   "source": [
    "vent"
   ]
  },
  {
   "cell_type": "code",
   "execution_count": 89,
   "metadata": {
    "ExecuteTime": {
     "end_time": "2020-04-28T08:25:51.995097Z",
     "start_time": "2020-04-28T08:25:51.987096Z"
    }
   },
   "outputs": [],
   "source": [
    "# Save\n",
    "with open('../Data/parameters/vents_proba.pickle', 'wb') as handle:\n",
    "    pickle.dump(vent, handle, protocol=pickle.HIGHEST_PROTOCOL)"
   ]
  },
  {
   "cell_type": "markdown",
   "metadata": {},
   "source": [
    "# Calibration contact matrix"
   ]
  },
  {
   "cell_type": "markdown",
   "metadata": {},
   "source": [
    "Important : here no intervention mean the course of interventions made by government"
   ]
  },
  {
   "cell_type": "code",
   "execution_count": 90,
   "metadata": {
    "ExecuteTime": {
     "end_time": "2020-04-28T08:25:53.874204Z",
     "start_time": "2020-04-28T08:25:53.691194Z"
    }
   },
   "outputs": [],
   "source": [
    "full_mtx_home = scipy.sparse.load_npz('../Data/base_contact_mtx/full_home.npz')\n",
    "\n",
    "full_mtx_work = {\n",
    "    'routine': scipy.sparse.load_npz('../Data/base_contact_mtx/full_work_routine.npz'),\n",
    "    'no_school': scipy.sparse.load_npz('../Data/base_contact_mtx/full_work_no_school.npz'),\n",
    "    'no_work': scipy.sparse.load_npz('../Data/base_contact_mtx/full_work_no_work.npz'),\n",
    "    'no_100_meters': scipy.sparse.load_npz('../Data/base_contact_mtx/full_work_no_100_meters.npz'),\n",
    "    'no_bb': scipy.sparse.load_npz('../Data/base_contact_mtx/full_work_no_bb.npz'),\n",
    "}\n",
    "\n",
    "full_mtx_leisure = {\n",
    "    'routine': scipy.sparse.load_npz('../Data/base_contact_mtx/full_leisure_routine.npz'),\n",
    "    'no_school': scipy.sparse.load_npz('../Data/base_contact_mtx/full_leisure_no_school.npz'),\n",
    "    'no_work': scipy.sparse.load_npz('../Data/base_contact_mtx/full_leisure_no_work.npz'),\n",
    "    'no_100_meters': scipy.sparse.load_npz('../Data/base_contact_mtx/full_leisure_no_100_meters.npz'),\n",
    "    'no_bb': scipy.sparse.load_npz('../Data/base_contact_mtx/full_leisure_no_bb.npz'),\n",
    "}"
   ]
  },
  {
   "cell_type": "code",
   "execution_count": 91,
   "metadata": {
    "ExecuteTime": {
     "end_time": "2020-04-28T08:25:54.190222Z",
     "start_time": "2020-04-28T08:25:54.186222Z"
    }
   },
   "outputs": [],
   "source": [
    "C_calibration = {}\n",
    "d_tot = 500"
   ]
  },
  {
   "cell_type": "code",
   "execution_count": 92,
   "metadata": {
    "ExecuteTime": {
     "end_time": "2020-04-28T08:25:54.873261Z",
     "start_time": "2020-04-28T08:25:54.704251Z"
    }
   },
   "outputs": [],
   "source": [
    "# no intervation are null groups\n",
    "home_no_inter = []\n",
    "work_no_inter = []\n",
    "leis_no_inter = []\n",
    "\n",
    "for i in range(d_tot):\n",
    "    home_no_inter.append(csr_matrix((full_mtx_home.shape[0], full_mtx_home.shape[1])))\n",
    "    work_no_inter.append(csr_matrix((full_mtx_work['routine'].shape[0], full_mtx_work['routine'].shape[1])))\n",
    "    leis_no_inter.append(csr_matrix((full_mtx_leisure['routine'].shape[0], full_mtx_leisure['routine'].shape[1])))"
   ]
  },
  {
   "cell_type": "code",
   "execution_count": 93,
   "metadata": {
    "ExecuteTime": {
     "end_time": "2020-04-28T08:25:55.324287Z",
     "start_time": "2020-04-28T08:25:55.259283Z"
    }
   },
   "outputs": [],
   "source": [
    "# Intervantion\n",
    "home_inter = []\n",
    "work_inter = []\n",
    "leis_inter = []\n",
    "\n",
    "# first days of routine from Feb 21st - March 13th\n",
    "d_rout = 9+13\n",
    "for i in range(d_rout):\n",
    "    home_inter.append(full_mtx_home)\n",
    "    work_inter.append(full_mtx_work['routine'])\n",
    "    leis_inter.append(full_mtx_leisure['routine'])\n",
    "\n",
    "# first days of no school from March 14th - March 16th\n",
    "d_no_school = 3\n",
    "for i in range(d_no_school):\n",
    "    home_inter.append(full_mtx_home)\n",
    "    work_inter.append(full_mtx_work['no_school'])\n",
    "    leis_inter.append(full_mtx_leisure['no_school'])\n",
    "\n",
    "# without school and work from March 17th - March 25th\n",
    "d_no_work = 9\n",
    "for i in range(d_no_work):\n",
    "    home_inter.append(full_mtx_home)\n",
    "    work_inter.append(full_mtx_work['no_work'])\n",
    "    leis_inter.append(full_mtx_leisure['no_work'])\n",
    "\n",
    "# 100 meters constrain from March 26th - April 2nd\n",
    "d_no_100_meters = 8\n",
    "for i in range(d_no_100_meters):\n",
    "    home_inter.append(full_mtx_home)\n",
    "    work_inter.append(full_mtx_work['no_100_meters'])\n",
    "    leis_inter.append(full_mtx_leisure['no_100_meters'])\n",
    "    \n",
    "# Bnei Brak quaranrine from April 3rd\n",
    "for i in range(d_tot-d_no_school-d_rout-d_no_work-d_no_100_meters):\n",
    "    home_inter.append(full_mtx_home)\n",
    "    work_inter.append(full_mtx_work['no_bb'])\n",
    "    leis_inter.append(full_mtx_leisure['no_bb'])"
   ]
  },
  {
   "cell_type": "code",
   "execution_count": 94,
   "metadata": {
    "ExecuteTime": {
     "end_time": "2020-04-28T08:25:55.921321Z",
     "start_time": "2020-04-28T08:25:55.915321Z"
    }
   },
   "outputs": [],
   "source": [
    "C_calibration['home_inter'] = home_no_inter\n",
    "C_calibration['work_inter'] = work_no_inter\n",
    "C_calibration['leisure_inter'] = leis_no_inter\n",
    "C_calibration['home_non'] = home_inter\n",
    "C_calibration['work_non'] = work_inter\n",
    "C_calibration['leisure_non'] = leis_inter"
   ]
  },
  {
   "cell_type": "code",
   "execution_count": 95,
   "metadata": {
    "ExecuteTime": {
     "end_time": "2020-04-28T08:25:56.358346Z",
     "start_time": "2020-04-28T08:25:56.251340Z"
    },
    "run_control": {
     "marked": true
    }
   },
   "outputs": [],
   "source": [
    "# Save\n",
    "with open('../Data/parameters/C_calibration.pickle', 'wb') as handle:\n",
    "    pickle.dump(C_calibration, handle, protocol=pickle.HIGHEST_PROTOCOL)"
   ]
  },
  {
   "cell_type": "markdown",
   "metadata": {},
   "source": [
    "# Haredi vector"
   ]
  },
  {
   "cell_type": "code",
   "execution_count": 96,
   "metadata": {
    "ExecuteTime": {
     "end_time": "2020-04-28T08:25:57.027384Z",
     "start_time": "2020-04-28T08:25:57.003383Z"
    }
   },
   "outputs": [
    {
     "data": {
      "text/html": [
       "<div>\n",
       "<style scoped>\n",
       "    .dataframe tbody tr th:only-of-type {\n",
       "        vertical-align: middle;\n",
       "    }\n",
       "\n",
       "    .dataframe tbody tr th {\n",
       "        vertical-align: top;\n",
       "    }\n",
       "\n",
       "    .dataframe thead th {\n",
       "        text-align: right;\n",
       "    }\n",
       "</style>\n",
       "<table border=\"1\" class=\"dataframe\">\n",
       "  <thead>\n",
       "    <tr style=\"text-align: right;\">\n",
       "      <th></th>\n",
       "      <th>Orthodox</th>\n",
       "    </tr>\n",
       "    <tr>\n",
       "      <th>cell_id</th>\n",
       "      <th></th>\n",
       "    </tr>\n",
       "  </thead>\n",
       "  <tbody>\n",
       "    <tr>\n",
       "      <th>11</th>\n",
       "      <td>0.185980</td>\n",
       "    </tr>\n",
       "    <tr>\n",
       "      <th>11_betshemesh</th>\n",
       "      <td>0.484846</td>\n",
       "    </tr>\n",
       "    <tr>\n",
       "      <th>21</th>\n",
       "      <td>0.177966</td>\n",
       "    </tr>\n",
       "    <tr>\n",
       "      <th>22</th>\n",
       "      <td>0.040832</td>\n",
       "    </tr>\n",
       "    <tr>\n",
       "      <th>23</th>\n",
       "      <td>0.004214</td>\n",
       "    </tr>\n",
       "  </tbody>\n",
       "</table>\n",
       "</div>"
      ],
      "text/plain": [
       "               Orthodox\n",
       "cell_id                \n",
       "11             0.185980\n",
       "11_betshemesh  0.484846\n",
       "21             0.177966\n",
       "22             0.040832\n",
       "23             0.004214"
      ]
     },
     "execution_count": 96,
     "metadata": {},
     "output_type": "execute_result"
    }
   ],
   "source": [
    "# Loading raw data\n",
    "hared_dis = pd.read_csv('../Data/demograph/religion_dis.csv', index_col=0)[['cell_id','Orthodox']].copy()\n",
    "hared_dis.set_index('cell_id', inplace=True)\n",
    "hared_dis.index = hared_dis.index.astype(str)\n",
    "hared_dis.head()"
   ]
  },
  {
   "cell_type": "code",
   "execution_count": 97,
   "metadata": {
    "ExecuteTime": {
     "end_time": "2020-04-28T08:25:57.396405Z",
     "start_time": "2020-04-28T08:25:57.326401Z"
    },
    "run_control": {
     "marked": true
    }
   },
   "outputs": [],
   "source": [
    "# Creating model orthodox dist. and save it as pickle\n",
    "model_orthodox_dis = np.zeros(len(ind.GA))\n",
    "for i in ind.GA.keys():\n",
    "    model_orthodox_dis[i] = hared_dis.loc[str(ind.GA[i][0])]\n",
    "    \n",
    "with open('../Data/parameters/orthodox_dist.pickle', 'wb') as handle:\n",
    "    pickle.dump(model_orthodox_dis, handle, protocol=pickle.HIGHEST_PROTOCOL)  "
   ]
  },
  {
   "cell_type": "code",
   "execution_count": 98,
   "metadata": {
    "ExecuteTime": {
     "end_time": "2020-04-28T08:25:58.050443Z",
     "start_time": "2020-04-28T08:25:58.039442Z"
    }
   },
   "outputs": [
    {
     "data": {
      "text/plain": [
       "array([1.85980170e-01, 1.85980170e-01, 1.85980170e-01, 1.85980170e-01,\n",
       "       1.85980170e-01, 1.85980170e-01, 1.85980170e-01, 1.85980170e-01,\n",
       "       1.85980170e-01, 4.84846467e-01, 4.84846467e-01, 4.84846467e-01,\n",
       "       4.84846467e-01, 4.84846467e-01, 4.84846467e-01, 4.84846467e-01,\n",
       "       4.84846467e-01, 4.84846467e-01, 1.77965540e-01, 1.77965540e-01,\n",
       "       1.77965540e-01, 1.77965540e-01, 1.77965540e-01, 1.77965540e-01,\n",
       "       1.77965540e-01, 1.77965540e-01, 1.77965540e-01, 4.08319932e-02,\n",
       "       4.08319932e-02, 4.08319932e-02, 4.08319932e-02, 4.08319932e-02,\n",
       "       4.08319932e-02, 4.08319932e-02, 4.08319932e-02, 4.08319932e-02,\n",
       "       4.21355233e-03, 4.21355233e-03, 4.21355233e-03, 4.21355233e-03,\n",
       "       4.21355233e-03, 4.21355233e-03, 4.21355233e-03, 4.21355233e-03,\n",
       "       4.21355233e-03, 1.47403837e-03, 1.47403837e-03, 1.47403837e-03,\n",
       "       1.47403837e-03, 1.47403837e-03, 1.47403837e-03, 1.47403837e-03,\n",
       "       1.47403837e-03, 1.47403837e-03, 4.93251220e-04, 4.93251220e-04,\n",
       "       4.93251220e-04, 4.93251220e-04, 4.93251220e-04, 4.93251220e-04,\n",
       "       4.93251220e-04, 4.93251220e-04, 4.93251220e-04, 2.94017219e-02,\n",
       "       2.94017219e-02, 2.94017219e-02, 2.94017219e-02, 2.94017219e-02,\n",
       "       2.94017219e-02, 2.94017219e-02, 2.94017219e-02, 2.94017219e-02,\n",
       "       5.53603738e-03, 5.53603738e-03, 5.53603738e-03, 5.53603738e-03,\n",
       "       5.53603738e-03, 5.53603738e-03, 5.53603738e-03, 5.53603738e-03,\n",
       "       5.53603738e-03, 1.51931252e-02, 1.51931252e-02, 1.51931252e-02,\n",
       "       1.51931252e-02, 1.51931252e-02, 1.51931252e-02, 1.51931252e-02,\n",
       "       1.51931252e-02, 1.51931252e-02, 1.15348514e-01, 1.15348514e-01,\n",
       "       1.15348514e-01, 1.15348514e-01, 1.15348514e-01, 1.15348514e-01,\n",
       "       1.15348514e-01, 1.15348514e-01, 1.15348514e-01, 1.88107349e-02,\n",
       "       1.88107349e-02, 1.88107349e-02, 1.88107349e-02, 1.88107349e-02,\n",
       "       1.88107349e-02, 1.88107349e-02, 1.88107349e-02, 1.88107349e-02,\n",
       "       1.69848882e-02, 1.69848882e-02, 1.69848882e-02, 1.69848882e-02,\n",
       "       1.69848882e-02, 1.69848882e-02, 1.69848882e-02, 1.69848882e-02,\n",
       "       1.69848882e-02, 8.89683517e-03, 8.89683517e-03, 8.89683517e-03,\n",
       "       8.89683517e-03, 8.89683517e-03, 8.89683517e-03, 8.89683517e-03,\n",
       "       8.89683517e-03, 8.89683517e-03, 1.07212426e-02, 1.07212426e-02,\n",
       "       1.07212426e-02, 1.07212426e-02, 1.07212426e-02, 1.07212426e-02,\n",
       "       1.07212426e-02, 1.07212426e-02, 1.07212426e-02, 8.24509893e-01,\n",
       "       8.24509893e-01, 8.24509893e-01, 8.24509893e-01, 8.24509893e-01,\n",
       "       8.24509893e-01, 8.24509893e-01, 8.24509893e-01, 8.24509893e-01,\n",
       "       5.76433143e-02, 5.76433143e-02, 5.76433143e-02, 5.76433143e-02,\n",
       "       5.76433143e-02, 5.76433143e-02, 5.76433143e-02, 5.76433143e-02,\n",
       "       5.76433143e-02, 3.30849078e-02, 3.30849078e-02, 3.30849078e-02,\n",
       "       3.30849078e-02, 3.30849078e-02, 3.30849078e-02, 3.30849078e-02,\n",
       "       3.30849078e-02, 3.30849078e-02, 1.49118448e-06, 1.49118448e-06,\n",
       "       1.49118448e-06, 1.49118448e-06, 1.49118448e-06, 1.49118448e-06,\n",
       "       1.49118448e-06, 1.49118448e-06, 1.49118448e-06, 2.41441426e-01,\n",
       "       2.41441426e-01, 2.41441426e-01, 2.41441426e-01, 2.41441426e-01,\n",
       "       2.41441426e-01, 2.41441426e-01, 2.41441426e-01, 2.41441426e-01])"
      ]
     },
     "execution_count": 98,
     "metadata": {},
     "output_type": "execute_result"
    }
   ],
   "source": [
    "model_orthodox_dis"
   ]
  },
  {
   "cell_type": "code",
   "execution_count": null,
   "metadata": {},
   "outputs": [],
   "source": []
  }
 ],
 "metadata": {
  "kernelspec": {
   "display_name": "Python 3",
   "language": "python",
   "name": "python3"
  },
  "language_info": {
   "codemirror_mode": {
    "name": "ipython",
    "version": 3
   },
   "file_extension": ".py",
   "mimetype": "text/x-python",
   "name": "python",
   "nbconvert_exporter": "python",
   "pygments_lexer": "ipython3",
   "version": "3.7.3"
  },
  "latex_envs": {
   "LaTeX_envs_menu_present": true,
   "autoclose": false,
   "autocomplete": true,
   "bibliofile": "biblio.bib",
   "cite_by": "apalike",
   "current_citInitial": 1,
   "eqLabelWithNumbers": true,
   "eqNumInitial": 1,
   "hotkeys": {
    "equation": "Ctrl-E",
    "itemize": "Ctrl-I"
   },
   "labels_anchors": false,
   "latex_user_defs": false,
   "report_style_numbering": false,
   "user_envs_cfg": false
  },
  "toc": {
   "base_numbering": 1,
   "nav_menu": {},
   "number_sections": true,
   "sideBar": true,
   "skip_h1_title": false,
   "title_cell": "Table of Contents",
   "title_sidebar": "Contents",
   "toc_cell": false,
   "toc_position": {
    "height": "calc(100% - 180px)",
    "left": "10px",
    "top": "150px",
    "width": "426.667px"
   },
   "toc_section_display": true,
   "toc_window_display": true
  },
  "varInspector": {
   "cols": {
    "lenName": 16,
    "lenType": 16,
    "lenVar": 40
   },
   "kernels_config": {
    "python": {
     "delete_cmd_postfix": "",
     "delete_cmd_prefix": "del ",
     "library": "var_list.py",
     "varRefreshCmd": "print(var_dic_list())"
    },
    "r": {
     "delete_cmd_postfix": ") ",
     "delete_cmd_prefix": "rm(",
     "library": "var_list.r",
     "varRefreshCmd": "cat(var_dic_list()) "
    }
   },
   "types_to_exclude": [
    "module",
    "function",
    "builtin_function_or_method",
    "instance",
    "_Feature"
   ],
   "window_display": false
  }
 },
 "nbformat": 4,
 "nbformat_minor": 2
}
