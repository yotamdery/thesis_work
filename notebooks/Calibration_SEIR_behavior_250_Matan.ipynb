{
 "cells": [
  {
   "cell_type": "markdown",
   "metadata": {},
   "source": [
    "# Imports"
   ]
  },
  {
   "cell_type": "code",
   "execution_count": 2,
   "metadata": {
    "ExecuteTime": {
     "end_time": "2020-05-30T21:12:31.734426Z",
     "start_time": "2020-05-30T21:12:27.111161Z"
    }
   },
   "outputs": [],
   "source": [
    "import numpy as np\n",
    "import pandas as pd\n",
    "from matplotlib.patches import Patch\n",
    "import itertools\n",
    "import pickle\n",
    "from matplotlib import pyplot as plt\n",
    "import datetime\n",
    "from scipy import optimize\n",
    "import sys\n",
    "sys.path.append('../SEIR_full/')\n",
    "sys.path.append('..')\n",
    "import SEIR_full as mdl\n",
    "import SEIR_full.model as mdl\n",
    "import SEIR_full.calibration as mdl\n",
    "import datetime as dt\n",
    "from scipy.stats import poisson\n",
    "from scipy.stats import binom\n",
    "import copy"
   ]
  },
  {
   "cell_type": "code",
   "execution_count": 3,
   "metadata": {
    "ExecuteTime": {
     "end_time": "2020-05-30T21:12:31.743426Z",
     "start_time": "2020-05-30T21:12:31.737426Z"
    }
   },
   "outputs": [],
   "source": [
    "plt.style.use('dean_style.conf')"
   ]
  },
  {
   "cell_type": "code",
   "execution_count": 4,
   "metadata": {
    "ExecuteTime": {
     "end_time": "2020-05-30T21:12:31.849432Z",
     "start_time": "2020-05-30T21:12:31.768428Z"
    }
   },
   "outputs": [],
   "source": [
    "with (open('../Data/parameters/indices.pickle', 'rb')) as openfile:\n",
    "    ind = pickle.load(openfile)"
   ]
  },
  {
   "cell_type": "markdown",
   "metadata": {},
   "source": [
    "# Big Loop for total calibration:"
   ]
  },
  {
   "cell_type": "code",
   "execution_count": 5,
   "metadata": {
    "ExecuteTime": {
     "end_time": "2020-05-30T21:13:16.599992Z",
     "start_time": "2020-05-30T21:13:16.591991Z"
    }
   },
   "outputs": [
    {
     "data": {
      "text/plain": "array([4.88293605e-04, 9.70704678e-04, 1.68627048e-03, 2.00095182e-03,\n       1.59025388e-03, 1.29208341e-03, 2.23179296e-03, 2.30168537e-03,\n       2.75309706e-03, 9.27757850e-03, 8.18688662e-03, 1.42219416e-02,\n       1.14282550e-02, 9.08259095e-03, 7.37961735e-03, 4.53121600e-03,\n       3.16550079e-03, 2.62404564e-03, 2.13001518e-04, 3.71814082e-04,\n       6.55246327e-04, 7.30334768e-04, 4.49067351e-04, 2.93094424e-04,\n       6.10033502e-04, 6.88240772e-04, 8.83342569e-04, 4.04702884e-03,\n       3.13586594e-03, 5.52632280e-03, 4.17124085e-03, 2.56480749e-03,\n       1.67398225e-03, 1.23855287e-03, 9.46535409e-04, 8.41935886e-04,\n       1.14670625e-04, 2.15525717e-04, 3.10108508e-04, 2.79301946e-04,\n       2.26815331e-04, 1.61732610e-04, 2.22232979e-04, 1.76840984e-04,\n       1.66379197e-04, 2.17874188e-03, 1.81773576e-03, 2.61544345e-03,\n       1.59520776e-03, 1.29543521e-03, 9.23721151e-04, 4.51200291e-04,\n       2.43208860e-04, 1.58580172e-04, 7.66860522e-05, 1.52178713e-04,\n       2.71711226e-04, 3.54758934e-04, 2.68773859e-04, 2.48777330e-04,\n       4.94128651e-04, 5.19416064e-04, 5.39895501e-04, 1.45703499e-03,\n       1.28346952e-03, 2.29160223e-03, 2.02617351e-03, 1.53507755e-03,\n       1.42086918e-03, 1.00323090e-03, 7.14351309e-04, 5.14587900e-04,\n       5.23571139e-05, 1.01622698e-04, 1.90454407e-04, 2.45854761e-04,\n       1.86565907e-04, 1.78977480e-04, 3.58124036e-04, 4.03904422e-04,\n       4.07461654e-04, 9.94785165e-04, 8.57081998e-04, 1.60628529e-03,\n       1.40417719e-03, 1.06555427e-03, 1.02221366e-03, 7.27100315e-04,\n       5.55488504e-04, 3.88361889e-04, 1.16138850e-05, 2.52050553e-05,\n       5.23433493e-05, 7.45511621e-05, 5.70670174e-05, 4.65731125e-05,\n       7.71058726e-05, 5.22023768e-05, 4.33419863e-05, 2.20663814e-04,\n       2.12578485e-04, 4.41461833e-04, 4.25792207e-04, 3.25933100e-04,\n       2.65998112e-04, 1.56548287e-04, 7.17937677e-05, 4.13103307e-05,\n       1.73783866e-04, 3.61296777e-04, 6.76986144e-04, 8.23327173e-04,\n       6.97964318e-04, 7.14730639e-04, 1.30383494e-03, 1.41661122e-03,\n       1.47186566e-03, 3.30189345e-03, 3.04716338e-03, 5.70967559e-03,\n       4.70235855e-03, 3.98635997e-03, 4.08211929e-03, 2.64718004e-03,\n       1.94826103e-03, 1.40287196e-03, 8.50996666e-05, 1.81785230e-04,\n       3.86210023e-04, 4.53852845e-04, 3.17585899e-04, 3.09501833e-04,\n       5.31034996e-04, 3.66575618e-04, 3.17958691e-04, 1.61689367e-03,\n       1.53316977e-03, 3.25728076e-03, 2.59213940e-03, 1.81386309e-03,\n       1.76769167e-03, 1.07816196e-03, 5.04150315e-04, 3.03054377e-04,\n       1.39641912e-04, 3.01244791e-04, 5.79193447e-04, 7.18627398e-04,\n       6.38521645e-04, 6.57082526e-04, 1.24470909e-03, 1.38638116e-03,\n       1.41002405e-03, 2.65319632e-03, 2.54068720e-03, 4.88489568e-03,\n       4.10437527e-03, 3.64685852e-03, 3.75286731e-03, 2.52713663e-03,\n       1.90668573e-03, 1.34392917e-03, 1.89217428e-04, 4.05518092e-04,\n       8.70261377e-04, 1.00830361e-03, 7.54347694e-04, 7.18388124e-04,\n       1.16798174e-03, 7.59131697e-04, 6.65516787e-04, 3.59513114e-03,\n       3.42012429e-03, 7.33975162e-03, 5.75883473e-03, 4.30838851e-03,\n       4.10300868e-03, 2.37135687e-03, 1.04403148e-03, 6.34320688e-04,\n       2.63592174e-05, 5.97358595e-05, 1.17015655e-04, 1.22935926e-04,\n       1.14185308e-04, 1.11929289e-04, 1.70564095e-04, 1.70804632e-04,\n       1.17634144e-04, 5.00825131e-04, 5.03809985e-04, 9.86905617e-04,\n       7.02137402e-04, 6.52159041e-04, 6.39273995e-04, 3.46296800e-04,\n       2.34907083e-04, 1.12120044e-04, 2.51737409e-04, 4.82507195e-04,\n       8.36168287e-04, 1.27984622e-03, 1.27620583e-03, 1.12604386e-03,\n       2.24155894e-03, 3.12644429e-03, 4.18220803e-03, 4.78301076e-03,\n       4.06944748e-03, 7.05221178e-03, 7.30972574e-03, 7.28893396e-03,\n       6.43129748e-03, 4.55104391e-03, 4.29978918e-03, 3.98616703e-03,\n       1.59554706e-05, 3.43727407e-05, 7.30618319e-05, 9.02236553e-05,\n       8.37803293e-05, 8.09432149e-05, 1.35739646e-04, 1.11068887e-04,\n       9.31441603e-05, 3.03153941e-04, 2.89898398e-04, 6.16200733e-04,\n       5.15304233e-04, 4.78503760e-04, 4.62299838e-04, 2.75592615e-04,\n       1.52752697e-04, 8.87780277e-05, 1.62009394e-04, 3.46961630e-04,\n       6.12386790e-04, 6.74754672e-04, 6.75199039e-04, 6.73951392e-04,\n       1.13709397e-03, 1.19181745e-03, 1.22543887e-03, 3.07817848e-03,\n       2.92626129e-03, 5.16484708e-03, 3.85380017e-03, 3.85633814e-03,\n       3.84921231e-03, 2.30864533e-03, 1.63910286e-03, 1.16799642e-03,\n       6.28067428e-05, 1.39375566e-04, 3.01560918e-04, 3.19568461e-04,\n       2.26883695e-04, 2.23072390e-04, 3.63536967e-04, 2.29960887e-04,\n       1.83939161e-04, 1.19332811e-03, 1.17548827e-03, 2.54335340e-03,\n       1.82518631e-03, 1.29582567e-03, 1.27405775e-03, 7.38090205e-04,\n       3.16264497e-04, 1.75317013e-04, 1.96495463e-04, 4.22236351e-04,\n       7.34958987e-04, 8.24113362e-04, 8.33906534e-04, 8.94716491e-04,\n       1.50191793e-03, 1.81988786e-03, 2.20820960e-03, 3.73341380e-03,\n       3.56112545e-03, 6.19861636e-03, 4.70684880e-03, 4.76278161e-03,\n       5.11009217e-03, 3.04934852e-03, 2.50288615e-03, 2.10469978e-03,\n       4.67709787e-05, 1.06486191e-04, 2.20948512e-04, 2.23345847e-04,\n       1.62433343e-04, 1.76174548e-04, 2.86317536e-04, 1.77227311e-04,\n       1.53165177e-04, 8.88648595e-04, 8.98100519e-04, 1.86347141e-03,\n       1.27561957e-03, 9.27723324e-04, 1.00620497e-03, 5.81311361e-04,\n       2.43740173e-04, 1.45985559e-04, 3.41614540e-04, 6.89752814e-04,\n       1.14331006e-03, 1.28292261e-03, 1.42629943e-03, 1.52086422e-03,\n       2.45557789e-03, 3.17594239e-03, 3.59538808e-03, 6.49067626e-03,\n       5.81734921e-03, 9.64263394e-03, 7.32729625e-03, 8.14617998e-03,\n       8.68627817e-03, 4.98556724e-03, 4.36786376e-03, 3.42685426e-03,\n       4.41557038e-05, 1.02972317e-04, 1.63449860e-04, 8.00202982e-05,\n       1.06613973e-04, 6.96460306e-05, 5.72710777e-05, 3.67010235e-05,\n       2.37265074e-05, 8.38958373e-04, 8.68464638e-04, 1.37852995e-03,\n       4.57028683e-04, 6.08916045e-04, 3.97776993e-04, 1.16277643e-04,\n       5.04748043e-05, 2.26143274e-05, 1.67584058e-05, 3.41174073e-05,\n       7.27821810e-05, 8.22592258e-05, 5.19055202e-05, 5.12218782e-05,\n       7.94148850e-05, 4.49587538e-05, 3.57659480e-05, 3.18409711e-04,\n       2.87744925e-04, 6.13842168e-04, 4.69816115e-04, 2.96453676e-04,\n       2.92549116e-04, 1.61236282e-04, 6.18316353e-05, 3.40894192e-05,\n       1.72820343e-04, 3.74768654e-04, 6.58079312e-04, 6.80360536e-04,\n       6.57133799e-04, 7.21772152e-04, 1.17180486e-03, 1.13208170e-03,\n       1.09183044e-03, 3.28358652e-03, 3.16078469e-03, 5.55021609e-03,\n       3.88581756e-03, 3.75316015e-03, 4.12233625e-03, 2.37911896e-03,\n       1.55694847e-03, 1.04065089e-03, 3.26462005e-04, 6.62602361e-04,\n       1.12310225e-03, 1.34542458e-03, 1.42286413e-03, 1.44578323e-03,\n       2.37673080e-03, 3.06424572e-03, 3.18528362e-03, 6.20277809e-03,\n       5.58836331e-03, 9.47220198e-03, 7.68427060e-03, 8.12655957e-03,\n       8.25745993e-03, 4.82548374e-03, 4.21424767e-03, 3.03597345e-03,\n       3.57323395e-04, 6.99455484e-04, 1.13609993e-03, 1.54626152e-03,\n       2.00071255e-03, 1.78249402e-03, 2.97302378e-03, 4.01683044e-03,\n       5.63351856e-03, 6.78914450e-03, 5.89918116e-03, 9.58182398e-03,\n       8.83133255e-03, 1.14268884e-02, 1.01805531e-02, 6.03613920e-03,\n       5.52433450e-03, 5.36944737e-03, 1.90869181e-04, 3.21768733e-04,\n       5.09098346e-04, 5.59714811e-04, 3.87334476e-04, 2.30729181e-04,\n       4.11988374e-04, 5.11786115e-04, 5.62917261e-04, 3.62651444e-03,\n       2.71378535e-03, 4.29371624e-03, 3.19676043e-03, 2.21222577e-03,\n       1.31778881e-03, 8.36461244e-04, 7.03857863e-04, 5.36530514e-04,\n       1.96747814e-04, 3.21185114e-04, 4.84975418e-04, 1.06866920e-03,\n       1.59768849e-03, 9.97450795e-04, 1.53034527e-03, 1.97905440e-03,\n       2.77858544e-03, 3.73820847e-03, 2.70886313e-03, 4.09026438e-03,\n       6.10360732e-03, 9.12505304e-03, 5.69684984e-03, 3.10706465e-03,\n       2.72178741e-03, 2.64833925e-03, 3.07753613e-04, 5.79667638e-04,\n       9.72127250e-04, 1.26860031e-03, 1.16135397e-03, 1.01495203e-03,\n       2.07436373e-03, 2.36639507e-03, 2.77799815e-03, 5.84731865e-03,\n       4.88889498e-03, 8.19888454e-03, 7.24549573e-03, 6.63296797e-03,\n       5.79680657e-03, 4.21158698e-03, 3.25449584e-03, 2.64777949e-03,\n       2.72602255e-04, 5.18922603e-04, 8.87162017e-04, 1.21992500e-03,\n       1.07548853e-03, 9.40229958e-04, 1.84058569e-03, 2.05699579e-03,\n       2.23293450e-03, 5.17944284e-03, 4.37657365e-03, 7.48229098e-03,\n       6.96749110e-03, 6.14255530e-03, 5.37003822e-03, 3.73694671e-03,\n       2.82897995e-03, 2.12826570e-03, 1.78395008e-04, 3.33149308e-04,\n       5.79278558e-04, 5.39103004e-04, 3.39958084e-04, 2.51272624e-04,\n       2.97143397e-04, 2.04897951e-04, 1.73426674e-04, 3.38950515e-03,\n       2.80976869e-03, 4.88561350e-03, 3.07903796e-03, 1.94163980e-03,\n       1.43512082e-03, 6.03291140e-04, 2.81795519e-04, 1.65297299e-04,\n       1.95027238e-04, 3.95012946e-04, 5.79874336e-04, 6.68858259e-04,\n       5.61663191e-04, 4.33463221e-04, 7.53078712e-04, 7.40105113e-04,\n       5.17578490e-04, 3.70551753e-03, 3.33152428e-03, 4.89063827e-03,\n       3.82012335e-03, 3.20788843e-03, 2.47568592e-03, 1.52897799e-03,\n       1.01786428e-03, 4.93316998e-04, 1.73783866e-04, 3.40213533e-04,\n       4.32546958e-04, 3.16765529e-04, 2.94376253e-04, 1.84036431e-04,\n       1.67611588e-04, 1.00589779e-04, 6.49542505e-05, 3.30189345e-03,\n       2.86934810e-03, 3.64808472e-03, 1.80917762e-03, 1.68130330e-03,\n       1.05110740e-03, 3.40302314e-04, 1.38340812e-04, 6.19095200e-05])"
     },
     "execution_count": 5,
     "metadata": {},
     "output_type": "execute_result"
    }
   ],
   "source": [
    "mdl.population_size"
   ]
  },
  {
   "cell_type": "code",
   "execution_count": 6,
   "metadata": {
    "ExecuteTime": {
     "end_time": "2020-05-30T21:14:43.291950Z",
     "start_time": "2020-05-30T21:14:43.285950Z"
    }
   },
   "outputs": [],
   "source": [
    "with open(\n",
    "        '../Data/division_choice/250_to_30/250_to_30_region_mapper.pickle',\n",
    "        'rb') as pickle_in:\n",
    "    region_250_to_30 = pickle.load(pickle_in)"
   ]
  },
  {
   "cell_type": "code",
   "execution_count": 7,
   "metadata": {
    "ExecuteTime": {
     "end_time": "2020-05-30T21:16:39.718610Z",
     "start_time": "2020-05-30T21:16:39.692608Z"
    }
   },
   "outputs": [
    {
     "ename": "IndexError",
     "evalue": "index 4338 is out of bounds for axis 0 with size 540",
     "output_type": "error",
     "traceback": [
      "\u001B[0;31m---------------------------------------------------------------------------\u001B[0m",
      "\u001B[0;31mIndexError\u001B[0m                                Traceback (most recent call last)",
      "\u001B[0;32m<ipython-input-7-9aed1779ddbb>\u001B[0m in \u001B[0;36m<module>\u001B[0;34m\u001B[0m\n\u001B[1;32m      1\u001B[0m \u001B[0;32mfor\u001B[0m \u001B[0mkey\u001B[0m\u001B[0;34m,\u001B[0m \u001B[0midxs\u001B[0m \u001B[0;32min\u001B[0m \u001B[0mregion_250_to_30\u001B[0m\u001B[0;34m.\u001B[0m\u001B[0mitems\u001B[0m\u001B[0;34m(\u001B[0m\u001B[0;34m)\u001B[0m\u001B[0;34m:\u001B[0m\u001B[0;34m\u001B[0m\u001B[0;34m\u001B[0m\u001B[0m\n\u001B[0;32m----> 2\u001B[0;31m     \u001B[0mprint\u001B[0m\u001B[0;34m(\u001B[0m\u001B[0mkey\u001B[0m\u001B[0;34m,\u001B[0m \u001B[0;34m': '\u001B[0m\u001B[0;34m,\u001B[0m \u001B[0mmdl\u001B[0m\u001B[0;34m.\u001B[0m\u001B[0mpopulation_size\u001B[0m\u001B[0;34m[\u001B[0m\u001B[0midxs\u001B[0m\u001B[0;34m]\u001B[0m\u001B[0;34m.\u001B[0m\u001B[0msum\u001B[0m\u001B[0;34m(\u001B[0m\u001B[0;34m)\u001B[0m\u001B[0;34m*\u001B[0m\u001B[0mmdl\u001B[0m\u001B[0;34m.\u001B[0m\u001B[0mpop_israel\u001B[0m\u001B[0;34m)\u001B[0m\u001B[0;34m\u001B[0m\u001B[0;34m\u001B[0m\u001B[0m\n\u001B[0m\u001B[1;32m      3\u001B[0m \u001B[0;34m\u001B[0m\u001B[0m\n",
      "\u001B[0;31mIndexError\u001B[0m: index 4338 is out of bounds for axis 0 with size 540"
     ]
    }
   ],
   "source": [
    "for key, idxs in region_250_to_30.items():\n",
    "    print(key, ': ', mdl.population_size[idxs].sum()*mdl.pop_israel)"
   ]
  },
  {
   "cell_type": "code",
   "execution_count": null,
   "metadata": {
    "ExecuteTime": {
     "end_time": "2020-05-16T15:00:30.165986Z",
     "start_time": "2020-05-16T11:31:06.033378Z"
    },
    "scrolled": true
   },
   "outputs": [],
   "source": [
    "for scen in [mdl.num2scen(i) for i in [1]]:\n",
    "    for phase in [29, 60, 90]:\n",
    "        # run calibration for model parameters\n",
    "        mdl.make_calibration(\n",
    "            scen,\n",
    "            phase,\n",
    "            ind,\n",
    "        )\n",
    "        \n",
    "        # run calibration for model tracking states\n",
    "        mdl.make_track_calibration(\n",
    "            scen,\n",
    "            phase,\n",
    "            ind,\n",
    "        )"
   ]
  },
  {
   "cell_type": "markdown",
   "metadata": {},
   "source": [
    "# Running manually:"
   ]
  },
  {
   "cell_type": "code",
   "execution_count": 8,
   "metadata": {
    "ExecuteTime": {
     "end_time": "2020-05-15T16:23:16.707408Z",
     "start_time": "2020-05-15T16:23:16.635404Z"
    }
   },
   "outputs": [],
   "source": [
    "# loads mapping 250 to 20:\n",
    "with open('../Data/division_choice/250_to_30/250_to_30_region_mapper.pickle', 'rb') as pickle_in:\n",
    "    region_250_to_30 = pickle.load(pickle_in)\n",
    "with open('../Data/division_choice/250_to_30/250_to_30_region_age_mapper.pickle', 'rb') as pickle_in:\n",
    "    region_age_250_to_30 = pickle.load(pickle_in)\n",
    "with open('../Data/division_choice/250_to_30/250_to_30_region_ga_mapper.pickle', 'rb') as pickle_in:\n",
    "    region_ga_250_to_30 = pickle.load(pickle_in)"
   ]
  },
  {
   "cell_type": "markdown",
   "metadata": {},
   "source": [
    "# Amit Model play for initial values of calibration"
   ]
  },
  {
   "cell_type": "markdown",
   "metadata": {
    "heading_collapsed": true
   },
   "source": [
    "## Data Loading"
   ]
  },
  {
   "cell_type": "code",
   "execution_count": 9,
   "metadata": {
    "ExecuteTime": {
     "end_time": "2020-05-15T16:23:16.927421Z",
     "start_time": "2020-05-15T16:23:16.711408Z"
    },
    "hidden": true
   },
   "outputs": [
    {
     "data": {
      "text/plain": "11         0-4      0.026767\n           5-9      0.039513\n           10-19    0.131286\n           20-29    0.219235\n           30-39    0.151680\n                      ...   \n71_haredi  30-39    0.196685\n           40-49    0.261476\n           50-59    0.129581\n           60-69    0.039337\n           70+      0.018512\nName: 2020-05-01 00:00:00, Length: 270, dtype: float64"
     },
     "execution_count": 9,
     "metadata": {},
     "output_type": "execute_result"
    }
   ],
   "source": [
    "first = pd.Timestamp('2020-03-03')\n",
    "last = pd.Timestamp('2020-05-01')\n",
    "tot = pd.read_csv('../Data/sick/all_tests_by_age_county.csv')\n",
    "pos = pd.read_csv('../Data/sick/smooth_sick_by_age_calibration_county.csv')\n",
    "pos.set_index('Unnamed: 1', inplace=True)\n",
    "pos.columns = ['county'] + list(pos.columns)[1:]\n",
    "pos.sort_values(by='county', inplace=True)\n",
    "pos = pos.pivot(columns='county')\n",
    "pos.columns = pos.columns.swaplevel(0, 1)\n",
    "pos = pos.reindex(pd.MultiIndex.from_product([region_250_to_30.keys(), ind.A.values()]), axis=1)\n",
    "pos.index = pd.to_datetime(pos.index)\n",
    "pos = pos.reindex(pd.date_range(pos.index.values.min(), pos.index.values.max(),freq='d'), fill_value=0)\n",
    "pos.fillna(0, inplace=True)\n",
    "\n",
    "begining = pos.index.values.min()\n",
    "ending = pos.index.values.max()\n",
    "pos = pos.reindex(pd.date_range(begining, ending,freq='d'), fill_value=0)\n",
    "\n",
    "# Shifting data by 5 days for fit\n",
    "pos_0303 = pos.loc['2020-03-03':].copy() #starting the fit from March 3rd 2020\n",
    "\n",
    "shift_date_list = pd.date_range('2020-02-27',freq='d',periods=pos_0303.shape[0])\n",
    "\n",
    "pos_0303['shift_date'] = shift_date_list\n",
    "\n",
    "pos_0303.set_index('shift_date',inplace=True)\n",
    "data = np.ndarray((2,len(pos_0303), len(region_age_250_to_30.keys())))\n",
    "data[0] = np.zeros(pos_0303.shape) # insert the tested positive specimens only for relevant calibration period \n",
    "data[1] = pos_0303\n",
    "\n",
    "pos_0303.iloc[-1]"
   ]
  },
  {
   "cell_type": "markdown",
   "metadata": {
    "heading_collapsed": true
   },
   "source": [
    "## Define and run model"
   ]
  },
  {
   "cell_type": "code",
   "execution_count": 10,
   "metadata": {
    "ExecuteTime": {
     "end_time": "2020-05-15T16:03:01.976930Z",
     "start_time": "2020-05-15T16:03:01.967929Z"
    },
    "hidden": true
   },
   "outputs": [
    {
     "data": {
      "text/plain": "72"
     },
     "execution_count": 10,
     "metadata": {},
     "output_type": "execute_result"
    }
   ],
   "source": [
    "# fit params\n",
    "start = pos_0303.index[0]\n",
    "end = pos_0303.index[-1]\n",
    "date_lst = pd.date_range('2020-02-20',end)\n",
    "len(date_lst)"
   ]
  },
  {
   "cell_type": "code",
   "execution_count": 11,
   "metadata": {
    "ExecuteTime": {
     "end_time": "2020-05-15T16:04:08.585739Z",
     "start_time": "2020-05-15T16:03:10.740431Z"
    },
    "hidden": true
   },
   "outputs": [
    {
     "ename": "TypeError",
     "evalue": "__init__() got an unexpected keyword argument 'theta'",
     "output_type": "error",
     "traceback": [
      "\u001B[0;31m---------------------------------------------------------------------------\u001B[0m",
      "\u001B[0;31mTypeError\u001B[0m                                 Traceback (most recent call last)",
      "\u001B[0;32m<ipython-input-11-8c275fd413da>\u001B[0m in \u001B[0;36m<module>\u001B[0;34m\u001B[0m\n\u001B[1;32m      1\u001B[0m \u001B[0mscen\u001B[0m \u001B[0;34m=\u001B[0m \u001B[0;34m'Scenario1'\u001B[0m\u001B[0;34m\u001B[0m\u001B[0;34m\u001B[0m\u001B[0m\n\u001B[0;32m----> 2\u001B[0;31m model = mdl.Model_behave(\n\u001B[0m\u001B[1;32m      3\u001B[0m     \u001B[0mind\u001B[0m\u001B[0;34m=\u001B[0m\u001B[0mind\u001B[0m\u001B[0;34m,\u001B[0m\u001B[0;34m\u001B[0m\u001B[0;34m\u001B[0m\u001B[0m\n\u001B[1;32m      4\u001B[0m     beta_j=np.array([0.10167117, 0.10167117, 0.10167117, 0.05606748, 0.05606748,\n\u001B[1;32m      5\u001B[0m        0.04709613, 0.04709613, 0.25676354, 0.25676354])*0.4,\n",
      "\u001B[0;31mTypeError\u001B[0m: __init__() got an unexpected keyword argument 'theta'"
     ]
    }
   ],
   "source": [
    "scen = 'Scenario1'\n",
    "model = mdl.Model_behave(\n",
    "    ind=ind,\n",
    "    beta_j=np.array([0.10167117, 0.10167117, 0.10167117, 0.05606748, 0.05606748,\n",
    "       0.04709613, 0.04709613, 0.25676354, 0.25676354])*0.4,\n",
    "    theta=2.0684200685446243,\n",
    "    beta_behave=0.38,\n",
    "    scen=scen,\n",
    "    seasonality=True\n",
    "    \n",
    ")\n",
    "res_mdl = model.predict(\n",
    "    C=mdl.C_calibration,\n",
    "    days_in_season=len(date_lst),\n",
    "    stay_home_idx=mdl.stay_home_idx,\n",
    "    not_routine=mdl.not_routine,\n",
    ")\n",
    "res_mdl, _ = mdl.multi_inter_by_name(\n",
    "    ind, \n",
    "    model, \n",
    "    mdl.pop_israel, \n",
    "    [mdl.inter2name(ind, 100, no_risk=False)], \n",
    "    sim_length=500, \n",
    "    fix_vents=False,\n",
    "    no_pop=False,\n",
    "    start=len(date_lst),\n",
    ")\n",
    "\n",
    "model.reset()"
   ]
  },
  {
   "cell_type": "code",
   "execution_count": 12,
   "metadata": {
    "ExecuteTime": {
     "end_time": "2020-05-15T16:04:09.173773Z",
     "start_time": "2020-05-15T16:04:08.587740Z"
    },
    "hidden": true
   },
   "outputs": [
    {
     "ename": "AttributeError",
     "evalue": "module 'SEIR_full.calibration' has no attribute 'plot_calibrated_total_model'",
     "output_type": "error",
     "traceback": [
      "\u001B[0;31m---------------------------------------------------------------------------\u001B[0m",
      "\u001B[0;31mAttributeError\u001B[0m                            Traceback (most recent call last)",
      "\u001B[0;32m<ipython-input-12-3332f733cf42>\u001B[0m in \u001B[0;36m<module>\u001B[0;34m\u001B[0m\n\u001B[0;32m----> 1\u001B[0;31m \u001B[0mmdl\u001B[0m\u001B[0;34m.\u001B[0m\u001B[0mplot_calibrated_total_model\u001B[0m\u001B[0;34m(\u001B[0m\u001B[0mpd\u001B[0m\u001B[0;34m.\u001B[0m\u001B[0mDataFrame\u001B[0m\u001B[0;34m(\u001B[0m\u001B[0mdata\u001B[0m\u001B[0;34m[\u001B[0m\u001B[0;36m1\u001B[0m\u001B[0;34m]\u001B[0m\u001B[0;34m)\u001B[0m\u001B[0;34m/\u001B[0m\u001B[0mmdl\u001B[0m\u001B[0;34m.\u001B[0m\u001B[0mpop_israel\u001B[0m\u001B[0;34m,\u001B[0m \u001B[0mres_mdl\u001B[0m\u001B[0;34m,\u001B[0m \u001B[0mdate_lst\u001B[0m\u001B[0;34m,\u001B[0m \u001B[0mstart\u001B[0m\u001B[0;34m=\u001B[0m\u001B[0mstart\u001B[0m\u001B[0;34m,\u001B[0m\u001B[0mend\u001B[0m\u001B[0;34m=\u001B[0m\u001B[0mend\u001B[0m\u001B[0;34m)\u001B[0m\u001B[0;34m\u001B[0m\u001B[0;34m\u001B[0m\u001B[0m\n\u001B[0m\u001B[1;32m      2\u001B[0m \u001B[0;31m# plt.vlines(x=14,ymin=0, ymax=0.0001)\u001B[0m\u001B[0;34m\u001B[0m\u001B[0;34m\u001B[0m\u001B[0;34m\u001B[0m\u001B[0m\n\u001B[1;32m      3\u001B[0m \u001B[0;31m# plt.vlines(x=23-6,ymin=0, ymax=0.0001, color='r')\u001B[0m\u001B[0;34m\u001B[0m\u001B[0;34m\u001B[0m\u001B[0;34m\u001B[0m\u001B[0m\n\u001B[1;32m      4\u001B[0m \u001B[0;34m\u001B[0m\u001B[0m\n",
      "\u001B[0;31mAttributeError\u001B[0m: module 'SEIR_full.calibration' has no attribute 'plot_calibrated_total_model'"
     ]
    }
   ],
   "source": [
    "mdl.plot_calibrated_total_model(pd.DataFrame(data[1])/mdl.pop_israel, res_mdl, date_lst, start=start,end=end)\n",
    "# plt.vlines(x=14,ymin=0, ymax=0.0001)\n",
    "# plt.vlines(x=23-6,ymin=0, ymax=0.0001, color='r')"
   ]
  },
  {
   "cell_type": "code",
   "execution_count": null,
   "metadata": {
    "ExecuteTime": {
     "end_time": "2020-05-14T19:10:23.130738Z",
     "start_time": "2020-05-14T19:10:23.104736Z"
    },
    "hidden": true
   },
   "outputs": [],
   "source": [
    "res_mdl['new_Is'].sum()"
   ]
  },
  {
   "cell_type": "code",
   "execution_count": null,
   "metadata": {
    "ExecuteTime": {
     "end_time": "2020-05-14T19:10:23.153739Z",
     "start_time": "2020-05-14T19:10:23.134738Z"
    },
    "hidden": true
   },
   "outputs": [],
   "source": [
    "model.noise"
   ]
  },
  {
   "cell_type": "code",
   "execution_count": null,
   "metadata": {
    "ExecuteTime": {
     "end_time": "2020-05-14T19:10:23.860780Z",
     "start_time": "2020-05-14T19:10:23.158739Z"
    },
    "hidden": true
   },
   "outputs": [],
   "source": [
    "mdl.plot_I_by_age(ind,res_mdl, new_only=True)"
   ]
  },
  {
   "cell_type": "code",
   "execution_count": null,
   "metadata": {
    "ExecuteTime": {
     "end_time": "2020-05-14T19:10:24.571820Z",
     "start_time": "2020-05-14T19:10:23.864780Z"
    },
    "hidden": true
   },
   "outputs": [],
   "source": [
    "mdl.plot_R_by_age(ind,res_mdl)"
   ]
  },
  {
   "cell_type": "code",
   "execution_count": null,
   "metadata": {
    "ExecuteTime": {
     "end_time": "2020-05-14T19:10:24.914840Z",
     "start_time": "2020-05-14T19:10:24.574820Z"
    },
    "hidden": true
   },
   "outputs": [],
   "source": [
    "t = np.arange(500)\n",
    "plt.plot(t, 1 + np.cos((2 * np.pi * (t + model.phi)) / 365.0))"
   ]
  },
  {
   "cell_type": "code",
   "execution_count": 13,
   "metadata": {
    "ExecuteTime": {
     "end_time": "2020-05-14T19:10:33.466329Z",
     "start_time": "2020-05-14T19:10:32.983301Z"
    },
    "hidden": true
   },
   "outputs": [
    {
     "ename": "NameError",
     "evalue": "name 'res_mdl' is not defined",
     "output_type": "error",
     "traceback": [
      "\u001B[0;31m---------------------------------------------------------------------------\u001B[0m",
      "\u001B[0;31mNameError\u001B[0m                                 Traceback (most recent call last)",
      "\u001B[0;32m<ipython-input-13-a73aa9861cc0>\u001B[0m in \u001B[0;36m<module>\u001B[0;34m\u001B[0m\n\u001B[1;32m      1\u001B[0m \u001B[0mage_pct\u001B[0m \u001B[0;34m=\u001B[0m \u001B[0;34m[\u001B[0m\u001B[0;34m]\u001B[0m\u001B[0;34m\u001B[0m\u001B[0;34m\u001B[0m\u001B[0m\n\u001B[1;32m      2\u001B[0m \u001B[0;32mfor\u001B[0m \u001B[0mage\u001B[0m \u001B[0;32min\u001B[0m \u001B[0mind\u001B[0m\u001B[0;34m.\u001B[0m\u001B[0mA\u001B[0m\u001B[0;34m.\u001B[0m\u001B[0mvalues\u001B[0m\u001B[0;34m(\u001B[0m\u001B[0;34m)\u001B[0m\u001B[0;34m:\u001B[0m\u001B[0;34m\u001B[0m\u001B[0;34m\u001B[0m\u001B[0m\n\u001B[0;32m----> 3\u001B[0;31m     \u001B[0mage_pct\u001B[0m\u001B[0;34m.\u001B[0m\u001B[0mappend\u001B[0m\u001B[0;34m(\u001B[0m\u001B[0mres_mdl\u001B[0m\u001B[0;34m[\u001B[0m\u001B[0;34m'new_Is'\u001B[0m\u001B[0;34m]\u001B[0m\u001B[0;34m[\u001B[0m\u001B[0;34m:\u001B[0m\u001B[0;34m,\u001B[0m \u001B[0mind\u001B[0m\u001B[0;34m.\u001B[0m\u001B[0mage_dict\u001B[0m\u001B[0;34m[\u001B[0m\u001B[0mage\u001B[0m\u001B[0;34m]\u001B[0m\u001B[0;34m]\u001B[0m\u001B[0;34m.\u001B[0m\u001B[0msum\u001B[0m\u001B[0;34m(\u001B[0m\u001B[0;34m)\u001B[0m\u001B[0;34m/\u001B[0m\u001B[0mres_mdl\u001B[0m\u001B[0;34m[\u001B[0m\u001B[0;34m'new_Is'\u001B[0m\u001B[0;34m]\u001B[0m\u001B[0;34m.\u001B[0m\u001B[0msum\u001B[0m\u001B[0;34m(\u001B[0m\u001B[0;34m)\u001B[0m\u001B[0;34m)\u001B[0m\u001B[0;34m\u001B[0m\u001B[0;34m\u001B[0m\u001B[0m\n\u001B[0m\u001B[1;32m      4\u001B[0m \u001B[0mplt\u001B[0m\u001B[0;34m.\u001B[0m\u001B[0mbar\u001B[0m\u001B[0;34m(\u001B[0m\u001B[0mlist\u001B[0m\u001B[0;34m(\u001B[0m\u001B[0mind\u001B[0m\u001B[0;34m.\u001B[0m\u001B[0mA\u001B[0m\u001B[0;34m.\u001B[0m\u001B[0mvalues\u001B[0m\u001B[0;34m(\u001B[0m\u001B[0;34m)\u001B[0m\u001B[0;34m)\u001B[0m\u001B[0;34m,\u001B[0m \u001B[0mage_pct\u001B[0m\u001B[0;34m)\u001B[0m\u001B[0;34m\u001B[0m\u001B[0;34m\u001B[0m\u001B[0m\n\u001B[1;32m      5\u001B[0m \u001B[0;34m\u001B[0m\u001B[0m\n",
      "\u001B[0;31mNameError\u001B[0m: name 'res_mdl' is not defined"
     ]
    }
   ],
   "source": [
    "age_pct = []\n",
    "for age in ind.A.values():\n",
    "    age_pct.append(res_mdl['new_Is'][:, ind.age_dict[age]].sum()/res_mdl['new_Is'].sum())\n",
    "plt.bar(list(ind.A.values()), age_pct)"
   ]
  },
  {
   "cell_type": "markdown",
   "metadata": {},
   "source": [
    "# Model Calibration"
   ]
  },
  {
   "cell_type": "markdown",
   "metadata": {},
   "source": [
    "## Scenario 1"
   ]
  },
  {
   "cell_type": "markdown",
   "metadata": {},
   "source": [
    "### $\\phi$=29"
   ]
  },
  {
   "cell_type": "markdown",
   "metadata": {
    "heading_collapsed": true
   },
   "source": [
    "#### calibrating"
   ]
  },
  {
   "cell_type": "code",
   "execution_count": null,
   "metadata": {
    "ExecuteTime": {
     "end_time": "2020-05-15T20:07:06.881991Z",
     "start_time": "2020-05-15T20:07:06.875990Z"
    },
    "hidden": true
   },
   "outputs": [],
   "source": [
    "scen = 'Scenario1'\n",
    "seasonality = True"
   ]
  },
  {
   "cell_type": "code",
   "execution_count": null,
   "metadata": {
    "ExecuteTime": {
     "end_time": "2020-05-15T16:24:32.731757Z",
     "start_time": "2020-05-15T16:24:32.714756Z"
    },
    "hidden": true
   },
   "outputs": [],
   "source": [
    "# fit params\n",
    "start = pos_0303.index[0]\n",
    "end = pos_0303.index[-1]\n",
    "date_lst = pd.date_range('2020-02-20',end)\n",
    "len(date_lst)"
   ]
  },
  {
   "cell_type": "code",
   "execution_count": null,
   "metadata": {
    "ExecuteTime": {
     "end_time": "2020-05-15T16:24:33.544803Z",
     "start_time": "2020-05-15T16:24:33.534803Z"
    },
    "hidden": true
   },
   "outputs": [],
   "source": [
    "model_1_ml = mdl.Model_behave(\n",
    "    ind=ind,\n",
    "    beta_j=np.array([0.10167117, 0.10167117, 0.10167117, 0.05606748, 0.05606748,\n",
    "       0.04709613, 0.04709613, 0.25676354, 0.25676354])*0.4,\n",
    "    theta=2.0684200685446243,\n",
    "    beta_behave=0.38,\n",
    "    scen=scen,\n",
    "    seasonality=seasonality,\n",
    ")"
   ]
  },
  {
   "cell_type": "code",
   "execution_count": null,
   "metadata": {
    "ExecuteTime": {
     "end_time": "2020-05-15T16:24:36.855992Z",
     "start_time": "2020-05-15T16:24:36.841992Z"
    },
    "hidden": true
   },
   "outputs": [],
   "source": [
    "# Model Fitting\n",
    "p0=(0.04066847,0.02242699,0.01883845,0.10270542,2.0684200685446243, 0.38) # initial guess\n",
    "bnds = ((0,0.3),(0,0.2),(0,0.2),(0,0.6),(1.5,3),(0,0.6))# boundries for variables\n"
   ]
  },
  {
   "cell_type": "code",
   "execution_count": null,
   "metadata": {
    "ExecuteTime": {
     "end_time": "2020-05-15T16:24:36.886994Z",
     "start_time": "2020-05-15T16:24:36.861993Z"
    },
    "hidden": true
   },
   "outputs": [],
   "source": [
    "model_1_ml.reset()"
   ]
  },
  {
   "cell_type": "code",
   "execution_count": null,
   "metadata": {
    "ExecuteTime": {
     "end_time": "2020-05-15T17:11:43.823106Z",
     "start_time": "2020-05-15T16:24:37.911053Z"
    },
    "hidden": true
   },
   "outputs": [],
   "source": [
    "res_fit_1_ml = model_1_ml.fit(\n",
    "        mapper=region_age_250_to_30,\n",
    "        p0=p0,\n",
    "        bnds=bnds,\n",
    "        data=data,\n",
    "        date_lst = date_lst,\n",
    "        start=start,\n",
    "        end=end,\n",
    "        loss_func='MSE',\n",
    "        maxiter=85,\n",
    "        factor=1,\n",
    "    )"
   ]
  },
  {
   "cell_type": "code",
   "execution_count": null,
   "metadata": {
    "ExecuteTime": {
     "end_time": "2020-05-15T20:07:50.727498Z",
     "start_time": "2020-05-15T20:07:50.719498Z"
    },
    "hidden": true
   },
   "outputs": [],
   "source": [
    "mdl.print_stat_fit_behave(res_fit_1_ml)"
   ]
  },
  {
   "cell_type": "code",
   "execution_count": null,
   "metadata": {
    "ExecuteTime": {
     "end_time": "2020-05-15T20:07:30.730355Z",
     "start_time": "2020-05-15T20:07:25.568059Z"
    },
    "hidden": true
   },
   "outputs": [],
   "source": [
    "res_mdl_1_ml = model_1_ml.predict(\n",
    "    C=mdl.C_calibration,\n",
    "    days_in_season=len(date_lst),\n",
    "    stay_home_idx=mdl.stay_home_idx,\n",
    "    not_routine=mdl.not_routine,\n",
    ")"
   ]
  },
  {
   "cell_type": "code",
   "execution_count": null,
   "metadata": {
    "ExecuteTime": {
     "end_time": "2020-05-15T20:07:34.499570Z",
     "start_time": "2020-05-15T20:07:33.905536Z"
    },
    "hidden": true
   },
   "outputs": [],
   "source": [
    "mdl.plot_calibrated_total_model(pd.DataFrame(data[1])/mdl.pop_israel, res_mdl_1_ml, date_lst, start=start,end=end)\n",
    "plt.vlines(x=14,ymin=0, ymax=0.0001)\n",
    "plt.vlines(x=23-5,ymin=0, ymax=0.0001, color='r')"
   ]
  },
  {
   "cell_type": "code",
   "execution_count": null,
   "metadata": {
    "ExecuteTime": {
     "end_time": "2020-05-15T20:08:16.637980Z",
     "start_time": "2020-05-15T20:08:16.173954Z"
    },
    "hidden": true,
    "scrolled": false
   },
   "outputs": [],
   "source": [
    "#index to cut model's data\n",
    "start_idx = int(np.where(date_lst == start)[0])\n",
    "end_idx = int(np.where(date_lst == end)[0])\n",
    "\n",
    "# creating DF\n",
    "model_data_cal = res_mdl_1_ml['new_Is'][start_idx:end_idx + 1,:].sum(axis=1)\n",
    "data_tot = (pd.DataFrame(data[1])/mdl.pop_israel).sum(axis=1)\n",
    "plt.plot(range(len(data_tot)),data_tot, model_data_cal)\n",
    "import scipy\n",
    "scipy.stats.pearsonr(model_data_cal, data_tot)"
   ]
  },
  {
   "cell_type": "code",
   "execution_count": null,
   "metadata": {
    "ExecuteTime": {
     "end_time": "2020-05-15T20:09:03.166642Z",
     "start_time": "2020-05-15T20:08:40.164326Z"
    },
    "hidden": true
   },
   "outputs": [],
   "source": [
    "# plotting the data and model\n",
    "fig,ax = mdl.plot_calibrated_model_region(mdl_mapper=region_250_to_30,\n",
    "                                          data=data, \n",
    "                                          mdl_data = res_mdl_1_ml['new_Is'],\n",
    "                                          date_list = date_lst,\n",
    "                                          start=start,\n",
    "                                          end=end,\n",
    "                                          region_name = {k:k for k in region_250_to_30.keys()},\n",
    "                                          loss_func = 'MSE',\n",
    "                                         ind=ind,\n",
    "                                         data_mapper=region_ga_250_to_30)\n",
    "fig.set_size_inches((30,30))\n",
    "plt.tight_layout()\n",
    "plt.show()"
   ]
  },
  {
   "cell_type": "code",
   "execution_count": null,
   "metadata": {
    "ExecuteTime": {
     "end_time": "2020-05-15T20:09:03.975688Z",
     "start_time": "2020-05-15T20:09:03.217645Z"
    },
    "hidden": true
   },
   "outputs": [],
   "source": [
    "age_cal = [\n",
    "    ['0-4', '5-9', '10-19'],\n",
    "    ['20-29', '30-39'],\n",
    "    ['40-49', '50-59'],\n",
    "    ['60-69', '70+'],\n",
    "]\n",
    "age_name = [\n",
    "    '0-19', \n",
    "    '20-39', \n",
    "    '40-59', \n",
    "    '60+',\n",
    "]\n",
    "age_pct = []\n",
    "age_pct_data = []\n",
    "age_model = []\n",
    "data_age = (pos_0303.sum(axis=0).unstack(level=0).sum(axis=1))/(pos_0303.sum(axis=0).unstack(level=0).sum(axis=1).sum())\n",
    "for age_list in age_cal:\n",
    "    idx = []\n",
    "    for age in age_list:\n",
    "        idx += list(ind.age_dict[age])\n",
    "    age_pct.append(res_mdl_1_ml['new_Is'][:, idx].sum()/res_mdl_1_ml['new_Is'].sum())\n",
    "    age_pct_data.append(data_age.loc[age_list].sum())\n",
    "\n",
    "# set width of bar\n",
    "barWidth = 0.25\n",
    " \n",
    "# set height of bar\n",
    " \n",
    "# Set position of bar on X axis\n",
    "r1 = np.arange(len(age_pct))\n",
    "r2 = [x - barWidth for x in r1]\n",
    "r3 = [x + barWidth for x in r2]\n",
    " \n",
    "# Make the plot\n",
    "plt.bar(r2, age_pct, color='#557f2d', width=barWidth, edgecolor='white', label='model')\n",
    "plt.bar(r3, age_pct_data, color='#2d7f5e', width=barWidth, edgecolor='white', label='data')\n",
    " \n",
    "# Add xticks on the middle of the group bars\n",
    "plt.xlabel('group', fontweight='bold')\n",
    "plt.xticks([r + barWidth for r in range(len(age_name))], age_name)\n",
    " \n",
    "# Create legend & Show graphic\n",
    "plt.legend()\n",
    "plt.show()\n"
   ]
  },
  {
   "cell_type": "code",
   "execution_count": null,
   "metadata": {
    "ExecuteTime": {
     "end_time": "2020-05-15T20:09:04.508718Z",
     "start_time": "2020-05-15T20:09:03.980688Z"
    },
    "hidden": true
   },
   "outputs": [],
   "source": [
    "fig, ax = plt.subplots(figsize=(15, 10))\n",
    "ax.plot(((res_mdl_1_ml['Vents']).sum(axis=1)[:(end-start).days])*isr_pop)\n",
    "ax.set_ylabel('Resipratory cases [#]', fontsize=35)\n",
    "ax.set_title('Respiratory Cases Global', fontsize=50)\n",
    "ax.set_xlabel('Time [d]', fontsize=35)"
   ]
  },
  {
   "cell_type": "code",
   "execution_count": null,
   "metadata": {
    "ExecuteTime": {
     "end_time": "2020-05-15T20:09:40.293765Z",
     "start_time": "2020-05-15T20:09:40.277764Z"
    },
    "hidden": true
   },
   "outputs": [],
   "source": [
    "mdl.save_cal(res_fit_1_ml, ind, scen, 29)"
   ]
  },
  {
   "cell_type": "markdown",
   "metadata": {
    "heading_collapsed": true
   },
   "source": [
    "#### running tracking calibration"
   ]
  },
  {
   "cell_type": "code",
   "execution_count": null,
   "metadata": {
    "ExecuteTime": {
     "end_time": "2020-05-15T21:05:51.842607Z",
     "start_time": "2020-05-15T21:05:51.807605Z"
    },
    "hidden": true
   },
   "outputs": [],
   "source": [
    "df = pd.read_csv('../Data/sick/daily_hospital_resp.csv')\n",
    "df.index = pd.to_datetime(df['Date'], dayfirst=True)\n",
    "resp = df['resp'].dropna()\n",
    "hosp = df['hospitalized'].dropna()\n",
    "# resp = pd.read_csv('../Data/sick/resp_country.csv')\n",
    "# hosp = pd.read_csv('../Data/sick/hospitalizations_country.csv')"
   ]
  },
  {
   "cell_type": "code",
   "execution_count": null,
   "metadata": {
    "ExecuteTime": {
     "end_time": "2020-05-15T21:05:52.837664Z",
     "start_time": "2020-05-15T21:05:52.154625Z"
    },
    "hidden": true
   },
   "outputs": [],
   "source": [
    "ax= plt.subplot()\n",
    "resp.plot(ax=ax)\n",
    "hosp.plot(ax=ax)"
   ]
  },
  {
   "cell_type": "code",
   "execution_count": null,
   "metadata": {
    "ExecuteTime": {
     "end_time": "2020-05-15T21:06:18.115110Z",
     "start_time": "2020-05-15T21:06:18.104109Z"
    },
    "hidden": true
   },
   "outputs": [],
   "source": [
    "scen = 'Scenario1'\n",
    "scen_idx = int(scen[-1])\n",
    "seasonality = True\n",
    "phase = 29\n",
    "start_sim='2020-02-20'\n",
    "\n",
    "start_date = hosp.index[0]\n",
    "end_date = hosp.index[-1]\n",
    "\n",
    "date_lst = pd.date_range(start_sim,end_date)\n",
    "len(date_lst)"
   ]
  },
  {
   "cell_type": "code",
   "execution_count": null,
   "metadata": {
    "ExecuteTime": {
     "end_time": "2020-05-15T21:06:30.816836Z",
     "start_time": "2020-05-15T21:06:30.811836Z"
    },
    "hidden": true
   },
   "outputs": [],
   "source": [
    "# Model Fitting\n",
    "p0=(1/7., 0.1) # initial guess\n",
    "bnds = ((0.05,1.0),(0.05,0.25))# boundries for variables\n",
    "# bnds = ((0.01,1.0),(0.01,1.0))# boundries for variables"
   ]
  },
  {
   "cell_type": "code",
   "execution_count": null,
   "metadata": {
    "ExecuteTime": {
     "end_time": "2020-05-15T21:06:44.597624Z",
     "start_time": "2020-05-15T21:06:44.569623Z"
    },
    "hidden": true
   },
   "outputs": [],
   "source": [
    "cal_parameters = pd.read_pickle('../Data/calibration/calibrattion_dict.pickle')\n",
    "\n",
    "model_1_no = mdl.Model_behave(\n",
    "    ind=ind,\n",
    "    beta_j=cal_parameters[ind.cell_name][(scen_idx, phase)]['beta_j'],\n",
    "    theta=cal_parameters[ind.cell_name][(scen_idx, phase)]['theta'],\n",
    "    beta_behave=cal_parameters[ind.cell_name][(scen_idx, phase)]['beta_behave'],\n",
    "    scen=scen,\n",
    "    seasonality=seasonality,\n",
    ")"
   ]
  },
  {
   "cell_type": "code",
   "execution_count": null,
   "metadata": {
    "ExecuteTime": {
     "end_time": "2020-05-15T21:13:49.270964Z",
     "start_time": "2020-05-15T21:06:54.025163Z"
    },
    "hidden": true
   },
   "outputs": [],
   "source": [
    "model_1_no.reset()\n",
    "res_fit_1_no = model_1_no.fit_tracking(\n",
    "        p0=p0,\n",
    "        bnds=bnds,\n",
    "        data=hosp.values,\n",
    "        date_lst = date_lst,\n",
    "        days_in_season=len(date_lst),\n",
    "        start=start_date,\n",
    "        end=end_date,\n",
    "        loss_func='MSE',\n",
    "        maxiter=300,\n",
    "        factor=1,\n",
    "        tracking='hosp'\n",
    "    )"
   ]
  },
  {
   "cell_type": "code",
   "execution_count": null,
   "metadata": {
    "ExecuteTime": {
     "end_time": "2020-05-15T21:13:49.280964Z",
     "start_time": "2020-05-15T21:13:49.273464Z"
    },
    "hidden": true
   },
   "outputs": [],
   "source": [
    "mdl.print_stat_fit_hosp(res_fit_1_no)"
   ]
  },
  {
   "cell_type": "code",
   "execution_count": null,
   "metadata": {
    "ExecuteTime": {
     "end_time": "2020-05-15T21:13:59.168616Z",
     "start_time": "2020-05-15T21:13:49.285964Z"
    },
    "hidden": true
   },
   "outputs": [],
   "source": [
    "model_1_no.reset()\n",
    "res_mdl_1_no = model_1_no.predict(\n",
    "    C=mdl.C_calibration,\n",
    "    days_in_season=200,\n",
    "    stay_home_idx=mdl.stay_home_idx,\n",
    "    not_routine=mdl.not_routine,\n",
    ")"
   ]
  },
  {
   "cell_type": "code",
   "execution_count": null,
   "metadata": {
    "ExecuteTime": {
     "end_time": "2020-05-15T21:13:59.703624Z",
     "start_time": "2020-05-15T21:13:59.171116Z"
    },
    "hidden": true
   },
   "outputs": [],
   "source": [
    "mdl.plot_hospitalizations_calibration(res_mdl_1_no,hosp,date_lst,start_date=start_date,end_date=end_date)"
   ]
  },
  {
   "cell_type": "code",
   "execution_count": null,
   "metadata": {
    "ExecuteTime": {
     "end_time": "2020-05-15T21:13:59.758625Z",
     "start_time": "2020-05-15T21:13:59.733624Z"
    },
    "hidden": true
   },
   "outputs": [],
   "source": [
    "def save_cal_track(res_fit, ind, scen, phase, track):\n",
    "    if track == 'H':\n",
    "        cal_parameters = pd.read_pickle('../Data/calibration/calibrattion_dict.pickle')\n",
    "        cal_parameters[ind.cell_name][(int(scen[-1]), phase)]['eta'] = \\\n",
    "            res_fit.x[0]\n",
    "        cal_parameters[ind.cell_name][(int(scen[-1]), phase)]['nu'] = \\\n",
    "            res_fit.x[0]\n",
    "\n",
    "    elif track == 'Vents':\n",
    "        cal_parameters = pd.read_pickle(\n",
    "            '../Data/calibration/calibrattion_dict.pickle')\n",
    "        cal_parameters[ind.cell_name][(int(scen[-1]), phase)]['xi'] = \\\n",
    "            res_fit.x[0]\n",
    "        cal_parameters[ind.cell_name][(int(scen[-1]), phase)]['mu'] = \\\n",
    "            res_fit.x[0]\n",
    "    with open('../Data/calibration/calibrattion_dict.pickle', 'wb') as handle:\n",
    "        pickle.dump(cal_parameters, handle, protocol=pickle.HIGHEST_PROTOCOL)\n",
    "\n",
    "save_cal_track(res_fit_1_no, ind, scen, phase, 'H')"
   ]
  },
  {
   "cell_type": "code",
   "execution_count": null,
   "metadata": {
    "ExecuteTime": {
     "end_time": "2020-05-15T21:13:59.721124Z",
     "start_time": "2020-05-15T21:13:59.706124Z"
    },
    "hidden": true
   },
   "outputs": [],
   "source": [
    "scen = 'Scenario1'\n",
    "scen_idx = int(scen[-1])\n",
    "seasonality = False\n",
    "phase = '-'\n",
    "start_sim='2020-02-20'\n",
    "\n",
    "start_date = resp.index[0]\n",
    "end_date = resp.index[-1]\n",
    "date_lst = pd.date_range(start_sim,end_date)\n",
    "len(date_lst)"
   ]
  },
  {
   "cell_type": "code",
   "execution_count": null,
   "metadata": {
    "ExecuteTime": {
     "end_time": "2020-05-15T21:13:59.731124Z",
     "start_time": "2020-05-15T21:13:59.723624Z"
    },
    "hidden": true
   },
   "outputs": [],
   "source": [
    "# Model Fitting\n",
    "p0=(0.05, 1/9.9) # initial guess\n",
    "# bnds = ((0.00,1),(1/14.,1/10.))# boundries for variables\n",
    "bnds = ((0.00,1),(1/21.,1/10.))# boundries for variables"
   ]
  },
  {
   "cell_type": "code",
   "execution_count": null,
   "metadata": {
    "ExecuteTime": {
     "end_time": "2020-05-15T21:13:59.853626Z",
     "start_time": "2020-05-15T21:13:59.763625Z"
    },
    "hidden": true
   },
   "outputs": [],
   "source": [
    "cal_parameters = pd.read_pickle('../Data/calibration/calibrattion_dict.pickle')\n",
    "\n",
    "model_1_no = mdl.Model_behave(\n",
    "    ind=ind,\n",
    "    beta_j=cal_parameters[ind.cell_name][(scen_idx, phase)]['beta_j'],\n",
    "    theta=cal_parameters[ind.cell_name][(scen_idx, phase)]['theta'],\n",
    "    beta_behave=cal_parameters[ind.cell_name][(scen_idx, phase)]['beta_behave'],\n",
    "    scen=scen,\n",
    "    seasonality=seasonality,\n",
    ")"
   ]
  },
  {
   "cell_type": "code",
   "execution_count": null,
   "metadata": {
    "ExecuteTime": {
     "end_time": "2020-05-15T21:24:11.178676Z",
     "start_time": "2020-05-15T21:13:59.856126Z"
    },
    "hidden": true
   },
   "outputs": [],
   "source": [
    "model_1_no.reset()\n",
    "res_fit_1_no = model_1_no.fit_tracking(\n",
    "        p0=p0,\n",
    "        bnds=bnds,\n",
    "        data=resp.values,\n",
    "        date_lst = date_lst,\n",
    "        days_in_season=len(date_lst),\n",
    "        start=start_date,\n",
    "        end=end_date,\n",
    "        loss_func='MSE',\n",
    "        maxiter=85,\n",
    "        factor=1,\n",
    "        tracking='vents'\n",
    "    )"
   ]
  },
  {
   "cell_type": "code",
   "execution_count": null,
   "metadata": {
    "ExecuteTime": {
     "end_time": "2020-05-15T21:24:11.191177Z",
     "start_time": "2020-05-15T21:24:11.181176Z"
    },
    "hidden": true
   },
   "outputs": [],
   "source": [
    "mdl.print_stat_fit_hosp(res_fit_1_no, tracking='vents')"
   ]
  },
  {
   "cell_type": "code",
   "execution_count": null,
   "metadata": {
    "ExecuteTime": {
     "end_time": "2020-05-15T21:24:21.023828Z",
     "start_time": "2020-05-15T21:24:11.193677Z"
    },
    "hidden": true
   },
   "outputs": [],
   "source": [
    "model_1_no.reset()\n",
    "res_mdl_1_no = model_1_no.predict(\n",
    "    C=mdl.C_calibration,\n",
    "    days_in_season=200,\n",
    "    stay_home_idx=mdl.stay_home_idx,\n",
    "    not_routine=mdl.not_routine,\n",
    ")"
   ]
  },
  {
   "cell_type": "code",
   "execution_count": null,
   "metadata": {
    "ExecuteTime": {
     "end_time": "2020-05-15T21:24:21.623837Z",
     "start_time": "2020-05-15T21:24:21.028828Z"
    },
    "hidden": true
   },
   "outputs": [],
   "source": [
    "mdl.plot_hospitalizations_calibration(res_mdl_1_no,resp.values,date_lst,start_date=start_date,end_date=end_date,\n",
    "                                     tracking='vents')"
   ]
  },
  {
   "cell_type": "code",
   "execution_count": null,
   "metadata": {
    "ExecuteTime": {
     "end_time": "2020-05-15T22:12:39.167516Z",
     "start_time": "2020-05-15T22:12:39.147516Z"
    },
    "hidden": true
   },
   "outputs": [],
   "source": [
    "def save_cal_track(res_fit, ind, scen, phase, track):\n",
    "    if track == 'H':\n",
    "        cal_parameters = pd.read_pickle('../Data/calibration/calibrattion_dict.pickle')\n",
    "        cal_parameters[ind.cell_name][(int(scen[-1]), phase)]['eta'] = \\\n",
    "            res_fit.x[0]\n",
    "        cal_parameters[ind.cell_name][(int(scen[-1]), phase)]['nu'] = \\\n",
    "            res_fit.x[0]\n",
    "\n",
    "    elif track == 'Vents':\n",
    "        cal_parameters = pd.read_pickle(\n",
    "            '../Data/calibration/calibrattion_dict.pickle')\n",
    "        cal_parameters[ind.cell_name][(int(scen[-1]), phase)]['xi'] = \\\n",
    "            res_fit.x[0]\n",
    "        cal_parameters[ind.cell_name][(int(scen[-1]), phase)]['mu'] = \\\n",
    "            res_fit.x[0]\n",
    "    with open('../Data/calibration/calibrattion_dict.pickle', 'wb') as handle:\n",
    "        pickle.dump(cal_parameters, handle, protocol=pickle.HIGHEST_PROTOCOL)\n",
    "\n",
    "save_cal_track(res_fit_1_no, ind, scen, phase, 'Vents')"
   ]
  },
  {
   "cell_type": "markdown",
   "metadata": {
    "heading_collapsed": true
   },
   "source": [
    "#### Running Calibration forward with 100%"
   ]
  },
  {
   "cell_type": "code",
   "execution_count": null,
   "metadata": {
    "ExecuteTime": {
     "end_time": "2020-05-14T21:02:09.828339Z",
     "start_time": "2020-05-14T21:01:35.638383Z"
    },
    "hidden": true,
    "scrolled": true
   },
   "outputs": [],
   "source": [
    "model_1_ml.reset()\n",
    "res_mdl = model_1_ml.predict(\n",
    "    C=mdl.C_calibration,\n",
    "    days_in_season=len(date_lst),\n",
    "    stay_home_idx=mdl.stay_home_idx,\n",
    "    not_routine=mdl.not_routine,\n",
    ")\n",
    "res_mdl, _ = mdl.multi_inter_by_name(\n",
    "    ind, \n",
    "    model_1_ml, \n",
    "    mdl.pop_israel, \n",
    "    [mdl.inter2name(ind, 100, no_risk=True)], \n",
    "    sim_length=500, \n",
    "    fix_vents=False,\n",
    "    no_pop=False,\n",
    "    start=len(date_lst),\n",
    ")"
   ]
  },
  {
   "cell_type": "code",
   "execution_count": null,
   "metadata": {
    "ExecuteTime": {
     "end_time": "2020-05-14T21:02:10.431373Z",
     "start_time": "2020-05-14T21:02:09.831339Z"
    },
    "hidden": true
   },
   "outputs": [],
   "source": [
    "mdl.plot_I_by_age(ind,res_mdl, new_only=True)"
   ]
  },
  {
   "cell_type": "code",
   "execution_count": null,
   "metadata": {
    "ExecuteTime": {
     "end_time": "2020-05-14T21:02:34.563754Z",
     "start_time": "2020-05-14T21:02:34.176732Z"
    },
    "hidden": true
   },
   "outputs": [],
   "source": [
    "# R = res_mdl['Vents']*isr_pop\n",
    "R = res_mdl['R']\n",
    "\n",
    "# dictionary of arrays to plot\n",
    "plot_dict ={}\n",
    "plot_dict = R.sum(axis=1)\n",
    "\n",
    "fig = plt.figure(figsize=(15,10))\n",
    "ax = plt.subplot()\n",
    "ax.set_ylabel('Total Recovered cases [#]', fontsize=35)\n",
    "ax.set_title('Recovered Cases Global by Age', fontsize=50)\n",
    "ax.set_xlabel('Time [d]', fontsize=35)\n",
    "plot_df = pd.DataFrame.from_dict(plot_dict)\n",
    "\n",
    "# plot\n",
    "plot_df.plot(ax=ax)\n",
    "plt.show()\n",
    "plt.close()\n",
    "return fig, ax"
   ]
  },
  {
   "cell_type": "code",
   "execution_count": null,
   "metadata": {
    "ExecuteTime": {
     "end_time": "2020-05-14T21:02:10.934402Z",
     "start_time": "2020-05-14T21:01:38.169Z"
    },
    "hidden": true
   },
   "outputs": [],
   "source": [
    "t = np.arange(500)\n",
    "plt.plot(t, 1 + np.cos((2 * np.pi * (t + model_1_ml.phi)) / 365.0))"
   ]
  },
  {
   "cell_type": "markdown",
   "metadata": {},
   "source": [
    "### NO seasonality"
   ]
  },
  {
   "cell_type": "markdown",
   "metadata": {},
   "source": [
    "#### calibration"
   ]
  },
  {
   "cell_type": "code",
   "execution_count": null,
   "metadata": {
    "ExecuteTime": {
     "end_time": "2020-05-15T16:04:39.653516Z",
     "start_time": "2020-05-15T16:04:39.649516Z"
    }
   },
   "outputs": [],
   "source": [
    "scen = 'Scenario1'\n",
    "seasonality = False"
   ]
  },
  {
   "cell_type": "code",
   "execution_count": null,
   "metadata": {
    "ExecuteTime": {
     "end_time": "2020-05-15T16:04:40.069540Z",
     "start_time": "2020-05-15T16:04:40.061540Z"
    }
   },
   "outputs": [],
   "source": [
    "# fit params\n",
    "start = pos_0303.index[0]\n",
    "end = pos_0303.index[-1]\n",
    "date_lst = pd.date_range('2020-02-20',end)\n",
    "len(date_lst)"
   ]
  },
  {
   "cell_type": "code",
   "execution_count": null,
   "metadata": {
    "ExecuteTime": {
     "end_time": "2020-05-15T16:04:40.750579Z",
     "start_time": "2020-05-15T16:04:40.734578Z"
    }
   },
   "outputs": [],
   "source": [
    "model_1_ml = mdl.Model_behave(\n",
    "    ind=ind,\n",
    "    beta_j=np.array([0.10167117, 0.10167117, 0.10167117, 0.05606748, 0.05606748,\n",
    "       0.04709613, 0.04709613, 0.25676354, 0.25676354])*0.4,\n",
    "    theta=2.0684200685446243,\n",
    "    beta_behave=0.38,\n",
    "    scen=scen,\n",
    "    seasonality=seasonality,\n",
    ")"
   ]
  },
  {
   "cell_type": "code",
   "execution_count": null,
   "metadata": {
    "ExecuteTime": {
     "end_time": "2020-05-15T16:04:42.798696Z",
     "start_time": "2020-05-15T16:04:42.792696Z"
    }
   },
   "outputs": [],
   "source": [
    "# Model Fitting\n",
    "p0=(0.04066847,0.02242699,0.01883845,0.10270542,2.0684200685446243, 0.38) # initial guess\n",
    "bnds = ((0,0.3),(0,0.2),(0,0.2),(0,0.6),(1.5,3),(0,0.6))# boundries for variables\n"
   ]
  },
  {
   "cell_type": "code",
   "execution_count": null,
   "metadata": {
    "ExecuteTime": {
     "start_time": "2020-05-15T16:04:44.790Z"
    }
   },
   "outputs": [],
   "source": [
    "res_fit_1_ml = model_1_ml.fit(\n",
    "        mapper=region_age_250_to_30,\n",
    "        p0=p0,\n",
    "        bnds=bnds,\n",
    "        data=data,\n",
    "        date_lst = date_lst,\n",
    "        start=start,\n",
    "        end=end,\n",
    "        loss_func='MSE',\n",
    "        maxiter=85,\n",
    "        factor=1,\n",
    "    )"
   ]
  },
  {
   "cell_type": "code",
   "execution_count": null,
   "metadata": {
    "ExecuteTime": {
     "end_time": "2020-05-15T13:25:37.513737Z",
     "start_time": "2020-05-15T13:25:37.501737Z"
    }
   },
   "outputs": [],
   "source": [
    "res_fit_1_ml.x"
   ]
  },
  {
   "cell_type": "code",
   "execution_count": null,
   "metadata": {
    "ExecuteTime": {
     "end_time": "2020-05-14T22:11:43.200042Z",
     "start_time": "2020-05-14T22:11:43.194042Z"
    }
   },
   "outputs": [],
   "source": [
    "mdl.print_stat_fit_behave(res_fit_1_ml)"
   ]
  },
  {
   "cell_type": "code",
   "execution_count": null,
   "metadata": {
    "ExecuteTime": {
     "end_time": "2020-05-15T13:29:01.390398Z",
     "start_time": "2020-05-15T13:29:01.373397Z"
    }
   },
   "outputs": [],
   "source": [
    "mdl.save_cal(res_fit_1_ml, ind, scen, '-')"
   ]
  },
  {
   "cell_type": "code",
   "execution_count": null,
   "metadata": {
    "ExecuteTime": {
     "end_time": "2020-05-14T22:15:50.525188Z",
     "start_time": "2020-05-14T22:15:46.768974Z"
    }
   },
   "outputs": [],
   "source": [
    "res_mdl_1_ml = model_1_ml.predict(\n",
    "    C=mdl.C_calibration,\n",
    "    days_in_season=len(date_lst),\n",
    "    stay_home_idx=mdl.stay_home_idx,\n",
    "    not_routine=mdl.not_routine,\n",
    ")"
   ]
  },
  {
   "cell_type": "code",
   "execution_count": null,
   "metadata": {
    "ExecuteTime": {
     "end_time": "2020-05-14T22:16:07.686170Z",
     "start_time": "2020-05-14T22:16:07.270146Z"
    }
   },
   "outputs": [],
   "source": [
    "mdl.plot_calibrated_total_model(pd.DataFrame(data[1])/mdl.pop_israel, res_mdl_1_ml, date_lst, start=start,end=end)\n",
    "plt.vlines(x=14,ymin=0, ymax=0.0001)\n",
    "plt.vlines(x=23-5,ymin=0, ymax=0.0001, color='r')"
   ]
  },
  {
   "cell_type": "code",
   "execution_count": null,
   "metadata": {
    "ExecuteTime": {
     "end_time": "2020-05-14T22:16:53.840810Z",
     "start_time": "2020-05-14T22:16:35.742775Z"
    }
   },
   "outputs": [],
   "source": [
    "# plotting the data and model\n",
    "fig,ax = mdl.plot_calibrated_model_region(mdl_mapper=region_250_to_30,\n",
    "                                          data=data, \n",
    "                                          mdl_data = res_mdl_1_ml['new_Is'],\n",
    "                                          date_list = date_lst,\n",
    "                                          start=start,\n",
    "                                          end=end,\n",
    "                                          region_name = {k:k for k in region_250_to_30.keys()},\n",
    "                                          loss_func = 'MSE',\n",
    "                                         ind=ind,\n",
    "                                         data_mapper=region_ga_250_to_30)\n",
    "fig.set_size_inches((30,30))\n",
    "plt.tight_layout()\n",
    "plt.show()"
   ]
  },
  {
   "cell_type": "code",
   "execution_count": null,
   "metadata": {
    "ExecuteTime": {
     "end_time": "2020-05-14T22:16:54.203831Z",
     "start_time": "2020-05-14T22:16:53.844810Z"
    }
   },
   "outputs": [],
   "source": [
    "age_cal = [\n",
    "    ['0-4', '5-9', '10-19'],\n",
    "    ['20-29', '30-39'],\n",
    "    ['40-49', '50-59'],\n",
    "    ['60-69', '70+'],\n",
    "]\n",
    "age_name = [\n",
    "    '0-19', \n",
    "    '20-39', \n",
    "    '40-59', \n",
    "    '60+',\n",
    "]\n",
    "age_pct = []\n",
    "age_pct_data = []\n",
    "age_model = []\n",
    "data_age = (pos_0303.sum(axis=0).unstack(level=0).sum(axis=1))/(pos_0303.sum(axis=0).unstack(level=0).sum(axis=1).sum())\n",
    "for age_list in age_cal:\n",
    "    idx = []\n",
    "    for age in age_list:\n",
    "        idx += list(ind.age_dict[age])\n",
    "    age_pct.append(res_mdl_1_ml['new_Is'][:, idx].sum()/res_mdl_1_ml['new_Is'].sum())\n",
    "    age_pct_data.append(data_age.loc[age_list].sum())\n",
    "\n",
    "# set width of bar\n",
    "barWidth = 0.25\n",
    " \n",
    "# set height of bar\n",
    " \n",
    "# Set position of bar on X axis\n",
    "r1 = np.arange(len(age_pct))\n",
    "r2 = [x - barWidth for x in r1]\n",
    "r3 = [x + barWidth for x in r2]\n",
    " \n",
    "# Make the plot\n",
    "plt.bar(r2, age_pct, color='#557f2d', width=barWidth, edgecolor='white', label='model')\n",
    "plt.bar(r3, age_pct_data, color='#2d7f5e', width=barWidth, edgecolor='white', label='data')\n",
    " \n",
    "# Add xticks on the middle of the group bars\n",
    "plt.xlabel('group', fontweight='bold')\n",
    "plt.xticks([r + barWidth for r in range(len(age_name))], age_name)\n",
    " \n",
    "# Create legend & Show graphic\n",
    "plt.legend()\n",
    "plt.show()\n"
   ]
  },
  {
   "cell_type": "code",
   "execution_count": null,
   "metadata": {
    "ExecuteTime": {
     "end_time": "2020-05-14T22:17:01.168229Z",
     "start_time": "2020-05-14T22:17:00.588196Z"
    }
   },
   "outputs": [],
   "source": [
    "fig, ax = plt.subplots(figsize=(15, 10))\n",
    "ax.plot(((res_mdl_1_ml['Vents']).sum(axis=1)[:(end-start).days])*isr_pop)\n",
    "ax.set_ylabel('Resipratory cases [#]', fontsize=35)\n",
    "ax.set_title('Respiratory Cases Global', fontsize=50)\n",
    "ax.set_xlabel('Time [d]', fontsize=35)"
   ]
  },
  {
   "cell_type": "markdown",
   "metadata": {},
   "source": [
    "#### running tracking calibration "
   ]
  },
  {
   "cell_type": "code",
   "execution_count": null,
   "metadata": {
    "ExecuteTime": {
     "end_time": "2020-05-15T15:21:34.089631Z",
     "start_time": "2020-05-15T15:21:34.077630Z"
    }
   },
   "outputs": [],
   "source": [
    "df = pd.read_csv('../Data/sick/daily_hospital_resp.csv')\n",
    "df.index = pd.to_datetime(df['Date'], dayfirst=True)\n",
    "resp = df['resp'].dropna()\n",
    "hosp = df['hospitalized'].dropna()\n",
    "# resp = pd.read_csv('../Data/sick/resp_country.csv')\n",
    "# hosp = pd.read_csv('../Data/sick/hospitalizations_country.csv')"
   ]
  },
  {
   "cell_type": "code",
   "execution_count": null,
   "metadata": {
    "ExecuteTime": {
     "end_time": "2020-05-15T15:21:40.847017Z",
     "start_time": "2020-05-15T15:21:40.201980Z"
    }
   },
   "outputs": [],
   "source": [
    "ax= plt.subplot()\n",
    "resp.plot(ax=ax)\n",
    "hosp.plot(ax=ax)"
   ]
  },
  {
   "cell_type": "code",
   "execution_count": null,
   "metadata": {
    "ExecuteTime": {
     "end_time": "2020-05-15T15:21:45.863304Z",
     "start_time": "2020-05-15T15:21:45.852303Z"
    }
   },
   "outputs": [],
   "source": [
    "scen = 'Scenario1'\n",
    "scen_idx = int(scen[-1])\n",
    "seasonality = False\n",
    "phase = '-'\n",
    "start_sim='2020-02-20'\n",
    "\n",
    "start_date = hosp.index[0]\n",
    "end_date = hosp.index[-1]\n",
    "\n",
    "date_lst = pd.date_range(start_sim,end_date)\n",
    "len(date_lst)"
   ]
  },
  {
   "cell_type": "code",
   "execution_count": null,
   "metadata": {
    "ExecuteTime": {
     "end_time": "2020-05-15T15:21:47.047372Z",
     "start_time": "2020-05-15T15:21:47.034371Z"
    }
   },
   "outputs": [],
   "source": [
    "hosp.index[-1]"
   ]
  },
  {
   "cell_type": "code",
   "execution_count": null,
   "metadata": {
    "ExecuteTime": {
     "end_time": "2020-05-15T15:21:54.449795Z",
     "start_time": "2020-05-15T15:21:54.443795Z"
    }
   },
   "outputs": [],
   "source": [
    "# Model Fitting\n",
    "p0=(1/7., 0.1) # initial guess\n",
    "bnds = ((0.05,1.0),(0.05,0.25))# boundries for variables\n",
    "# bnds = ((0.01,1.0),(0.01,1.0))# boundries for variables"
   ]
  },
  {
   "cell_type": "code",
   "execution_count": null,
   "metadata": {
    "ExecuteTime": {
     "end_time": "2020-05-15T15:22:13.863906Z",
     "start_time": "2020-05-15T15:22:13.793902Z"
    }
   },
   "outputs": [],
   "source": [
    "cal_parameters = pd.read_pickle('../Data/calibration/calibrattion_dict.pickle')\n",
    "\n",
    "model_1_no = mdl.Model_behave(\n",
    "    ind=ind,\n",
    "    beta_j=cal_parameters[ind.cell_name][(scen_idx, phase)]['beta_j'],\n",
    "    theta=cal_parameters[ind.cell_name][(scen_idx, phase)]['theta'],\n",
    "    beta_behave=cal_parameters[ind.cell_name][(scen_idx, phase)]['beta_behave'],\n",
    "    scen=scen,\n",
    "    seasonality=seasonality,\n",
    ")"
   ]
  },
  {
   "cell_type": "code",
   "execution_count": null,
   "metadata": {
    "ExecuteTime": {
     "end_time": "2020-05-15T15:30:32.802443Z",
     "start_time": "2020-05-15T15:22:15.338990Z"
    },
    "scrolled": true
   },
   "outputs": [],
   "source": [
    "model_1_no.reset()\n",
    "res_fit_1_no = model_1_no.fit_tracking(\n",
    "        p0=p0,\n",
    "        bnds=bnds,\n",
    "        data=hosp.values,\n",
    "        date_lst = date_lst,\n",
    "        days_in_season=len(date_lst),\n",
    "        start=start_date,\n",
    "        end=end_date,\n",
    "        loss_func='MSE',\n",
    "        maxiter=300,\n",
    "        factor=1,\n",
    "        tracking='hosp'\n",
    "    )"
   ]
  },
  {
   "cell_type": "code",
   "execution_count": null,
   "metadata": {
    "ExecuteTime": {
     "end_time": "2020-05-15T15:30:32.811444Z",
     "start_time": "2020-05-15T15:30:32.805443Z"
    }
   },
   "outputs": [],
   "source": [
    "mdl.print_stat_fit_hosp(res_fit_1_no)"
   ]
  },
  {
   "cell_type": "code",
   "execution_count": null,
   "metadata": {
    "ExecuteTime": {
     "end_time": "2020-05-15T15:30:44.258098Z",
     "start_time": "2020-05-15T15:30:32.815444Z"
    }
   },
   "outputs": [],
   "source": [
    "model_1_no.reset()\n",
    "res_mdl_1_no = model_1_no.predict(\n",
    "    C=mdl.C_calibration,\n",
    "    days_in_season=200,\n",
    "    stay_home_idx=mdl.stay_home_idx,\n",
    "    not_routine=mdl.not_routine,\n",
    ")"
   ]
  },
  {
   "cell_type": "code",
   "execution_count": null,
   "metadata": {
    "ExecuteTime": {
     "end_time": "2020-05-15T15:30:44.896135Z",
     "start_time": "2020-05-15T15:30:44.261099Z"
    }
   },
   "outputs": [],
   "source": [
    "mdl.plot_hospitalizations_calibration(res_mdl_1_no,hosp,date_lst,start_date=start_date,end_date=end_date)"
   ]
  },
  {
   "cell_type": "code",
   "execution_count": null,
   "metadata": {
    "ExecuteTime": {
     "end_time": "2020-05-15T15:39:27.619033Z",
     "start_time": "2020-05-15T15:39:27.597032Z"
    }
   },
   "outputs": [],
   "source": [
    "def save_cal_track(res_fit, ind, scen, phase, track):\n",
    "    if track == 'H':\n",
    "        cal_parameters = pd.read_pickle('../Data/calibration/calibrattion_dict.pickle')\n",
    "        cal_parameters[ind.cell_name][(int(scen[-1]), phase)]['eta'] = \\\n",
    "            res_fit.x[0]\n",
    "        cal_parameters[ind.cell_name][(int(scen[-1]), phase)]['nu'] = \\\n",
    "            res_fit.x[0]\n",
    "\n",
    "    elif track == 'Vents':\n",
    "        cal_parameters = pd.read_pickle(\n",
    "            '../Data/calibration/calibrattion_dict.pickle')\n",
    "        cal_parameters[ind.cell_name][(int(scen[-1]), phase)]['xi'] = \\\n",
    "            res_fit.x[0]\n",
    "        cal_parameters[ind.cell_name][(int(scen[-1]), phase)]['mu'] = \\\n",
    "            res_fit.x[0]\n",
    "    with open('../Data/calibration/calibrattion_dict.pickle', 'wb') as handle:\n",
    "        pickle.dump(cal_parameters, handle, protocol=pickle.HIGHEST_PROTOCOL)\n",
    "\n",
    "save_cal_track(res_fit_1_no, ind, scen, phase, 'H')"
   ]
  },
  {
   "cell_type": "code",
   "execution_count": null,
   "metadata": {
    "ExecuteTime": {
     "end_time": "2020-05-15T15:05:13.630552Z",
     "start_time": "2020-05-15T15:05:13.618551Z"
    }
   },
   "outputs": [],
   "source": [
    "scen = 'Scenario1'\n",
    "scen_idx = int(scen[-1])\n",
    "seasonality = False\n",
    "phase = '-'\n",
    "start_sim='2020-02-20'\n",
    "\n",
    "start_date = resp.index[0]\n",
    "end_date = resp.index[-1]\n",
    "date_lst = pd.date_range(start_sim,end_date)\n",
    "len(date_lst)"
   ]
  },
  {
   "cell_type": "code",
   "execution_count": null,
   "metadata": {
    "ExecuteTime": {
     "end_time": "2020-05-15T15:05:14.368594Z",
     "start_time": "2020-05-15T15:05:14.357593Z"
    }
   },
   "outputs": [],
   "source": [
    "resp.index[-1]"
   ]
  },
  {
   "cell_type": "code",
   "execution_count": null,
   "metadata": {
    "ExecuteTime": {
     "end_time": "2020-05-15T15:05:14.871623Z",
     "start_time": "2020-05-15T15:05:14.841621Z"
    }
   },
   "outputs": [],
   "source": [
    "# Model Fitting\n",
    "p0=(0.05, 1/9.9) # initial guess\n",
    "# bnds = ((0.00,1),(1/14.,1/10.))# boundries for variables\n",
    "bnds = ((0.00,1),(1/21.,1/10.))# boundries for variables"
   ]
  },
  {
   "cell_type": "code",
   "execution_count": null,
   "metadata": {
    "ExecuteTime": {
     "end_time": "2020-05-15T15:05:16.318705Z",
     "start_time": "2020-05-15T15:05:16.235701Z"
    }
   },
   "outputs": [],
   "source": [
    "cal_parameters = pd.read_pickle('../Data/calibration/calibrattion_dict.pickle')\n",
    "\n",
    "model_1_no = mdl.Model_behave(\n",
    "    ind=ind,\n",
    "    beta_j=cal_parameters[ind.cell_name][(scen_idx, phase)]['beta_j'],\n",
    "    theta=cal_parameters[ind.cell_name][(scen_idx, phase)]['theta'],\n",
    "    beta_behave=cal_parameters[ind.cell_name][(scen_idx, phase)]['beta_behave'],\n",
    "    scen=scen,\n",
    "    seasonality=seasonality,\n",
    ")"
   ]
  },
  {
   "cell_type": "code",
   "execution_count": null,
   "metadata": {
    "ExecuteTime": {
     "end_time": "2020-05-15T15:15:41.321453Z",
     "start_time": "2020-05-15T15:05:16.946741Z"
    }
   },
   "outputs": [],
   "source": [
    "model_1_no.reset()\n",
    "res_fit_1_no = model_1_no.fit_tracking(\n",
    "        p0=p0,\n",
    "        bnds=bnds,\n",
    "        data=resp.values,\n",
    "        date_lst = date_lst,\n",
    "        days_in_season=len(date_lst),\n",
    "        start=start_date,\n",
    "        end=end_date,\n",
    "        loss_func='MSE',\n",
    "        maxiter=85,\n",
    "        factor=1,\n",
    "        tracking='vents'\n",
    "    )"
   ]
  },
  {
   "cell_type": "code",
   "execution_count": null,
   "metadata": {
    "ExecuteTime": {
     "end_time": "2020-05-15T15:15:41.330454Z",
     "start_time": "2020-05-15T15:15:41.323454Z"
    }
   },
   "outputs": [],
   "source": [
    "mdl.print_stat_fit_hosp(res_fit_1_no, tracking='vents')"
   ]
  },
  {
   "cell_type": "code",
   "execution_count": null,
   "metadata": {
    "ExecuteTime": {
     "end_time": "2020-05-15T15:15:51.546038Z",
     "start_time": "2020-05-15T15:15:41.336454Z"
    }
   },
   "outputs": [],
   "source": [
    "model_1_no.reset()\n",
    "res_mdl_1_no = model_1_no.predict(\n",
    "    C=mdl.C_calibration,\n",
    "    days_in_season=200,\n",
    "    stay_home_idx=mdl.stay_home_idx,\n",
    "    not_routine=mdl.not_routine,\n",
    ")"
   ]
  },
  {
   "cell_type": "code",
   "execution_count": null,
   "metadata": {
    "ExecuteTime": {
     "end_time": "2020-05-15T15:15:52.251079Z",
     "start_time": "2020-05-15T15:15:51.548038Z"
    }
   },
   "outputs": [],
   "source": [
    "mdl.plot_hospitalizations_calibration(res_mdl_1_no,resp.values,date_lst,start_date=start_date,end_date=end_date,\n",
    "                                     tracking='vents')"
   ]
  },
  {
   "cell_type": "code",
   "execution_count": null,
   "metadata": {
    "ExecuteTime": {
     "end_time": "2020-05-15T15:22:02.798273Z",
     "start_time": "2020-05-15T15:22:02.767271Z"
    }
   },
   "outputs": [],
   "source": [
    "def save_cal_track(res_fit, ind, scen, phase, track):\n",
    "    if track == 'H':\n",
    "        cal_parameters = pd.read_pickle('../Data/calibration/calibrattion_dict.pickle')\n",
    "        cal_parameters[ind.cell_name][(int(scen[-1]), phase)]['eta'] = \\\n",
    "            res_fit.x[0]\n",
    "        cal_parameters[ind.cell_name][(int(scen[-1]), phase)]['nu'] = \\\n",
    "            res_fit.x[0]\n",
    "\n",
    "    elif track == 'Vents':\n",
    "        cal_parameters = pd.read_pickle(\n",
    "            '../Data/calibration/calibrattion_dict.pickle')\n",
    "        cal_parameters[ind.cell_name][(int(scen[-1]), phase)]['xi'] = \\\n",
    "            res_fit.x[0]\n",
    "        cal_parameters[ind.cell_name][(int(scen[-1]), phase)]['mu'] = \\\n",
    "            res_fit.x[0]\n",
    "    with open('../Data/calibration/calibrattion_dict.pickle', 'wb') as handle:\n",
    "        pickle.dump(cal_parameters, handle, protocol=pickle.HIGHEST_PROTOCOL)\n",
    "\n",
    "save_cal_track(res_fit_1_no, ind, scen, phase, 'Vents')"
   ]
  },
  {
   "cell_type": "markdown",
   "metadata": {
    "heading_collapsed": true
   },
   "source": [
    "#### running calibration with 100%"
   ]
  },
  {
   "cell_type": "code",
   "execution_count": null,
   "metadata": {
    "ExecuteTime": {
     "end_time": "2020-05-14T22:27:49.652320Z",
     "start_time": "2020-05-14T22:27:13.833271Z"
    },
    "hidden": true
   },
   "outputs": [],
   "source": [
    "model_1_ml.reset()\n",
    "res_mdl = model_1_ml.predict(\n",
    "    C=mdl.C_calibration,\n",
    "    days_in_season=len(date_lst),\n",
    "    stay_home_idx=mdl.stay_home_idx,\n",
    "    not_routine=mdl.not_routine,\n",
    ")\n",
    "res_mdl, _ = mdl.multi_inter_by_name(\n",
    "    ind, \n",
    "    model_1_ml, \n",
    "    mdl.pop_israel, \n",
    "    [mdl.inter2name(ind, 100, no_risk=False)], \n",
    "    sim_length=500, \n",
    "    fix_vents=False,\n",
    "    no_pop=False,\n",
    "    start=len(date_lst),\n",
    ")"
   ]
  },
  {
   "cell_type": "code",
   "execution_count": null,
   "metadata": {
    "ExecuteTime": {
     "end_time": "2020-05-14T22:27:50.297357Z",
     "start_time": "2020-05-14T22:27:49.654320Z"
    },
    "hidden": true
   },
   "outputs": [],
   "source": [
    "mdl.plot_I_by_age(ind,res_mdl, new_only=True)"
   ]
  },
  {
   "cell_type": "code",
   "execution_count": null,
   "metadata": {
    "ExecuteTime": {
     "end_time": "2020-05-14T22:27:50.830387Z",
     "start_time": "2020-05-14T22:27:50.300357Z"
    },
    "hidden": true
   },
   "outputs": [],
   "source": [
    "R = res_mdl['Vents']*isr_pop\n",
    "# R = res_mdl['R']\n",
    "\n",
    "# dictionary of arrays to plot\n",
    "plot_dict ={}\n",
    "plot_dict = R.sum(axis=1)\n",
    "\n",
    "fig = plt.figure(figsize=(15,10))\n",
    "ax = plt.subplot()\n",
    "ax.set_ylabel('Total Recovered cases [#]', fontsize=35)\n",
    "ax.set_title('Recovered Cases Global by Age', fontsize=50)\n",
    "ax.set_xlabel('Time [d]', fontsize=35)\n",
    "plot_df = pd.DataFrame.from_dict(plot_dict)\n",
    "\n",
    "# plot\n",
    "plot_df.plot(ax=ax)\n",
    "plt.show()\n",
    "plt.close()\n",
    "print('total casulties: ', mdl.make_casulties(res_mdl, -1, mdl.pop_israel, model_1_ml.mu))"
   ]
  },
  {
   "cell_type": "code",
   "execution_count": null,
   "metadata": {
    "ExecuteTime": {
     "end_time": "2020-05-14T22:18:33.512511Z",
     "start_time": "2020-05-14T22:18:33.190492Z"
    },
    "hidden": true
   },
   "outputs": [],
   "source": [
    "t = np.arange(500)\n",
    "plt.plot(t, 1 + np.cos((2 * np.pi * (t + model_1_ml.phi)) / 365.0))"
   ]
  },
  {
   "cell_type": "markdown",
   "metadata": {
    "heading_collapsed": true
   },
   "source": [
    "# Fit model Matan"
   ]
  },
  {
   "cell_type": "markdown",
   "metadata": {
    "heading_collapsed": true,
    "hidden": true
   },
   "source": [
    "## Scenario 2"
   ]
  },
  {
   "cell_type": "code",
   "execution_count": null,
   "metadata": {
    "ExecuteTime": {
     "end_time": "2020-04-19T15:18:45.680080Z",
     "start_time": "2020-04-19T15:18:45.672102Z"
    },
    "hidden": true
   },
   "outputs": [],
   "source": [
    "# fit params\n",
    "days_in_season=100\n",
    "date_lst = pd.date_range('2020-02-20',last)\n",
    "len(date_lst)"
   ]
  },
  {
   "cell_type": "code",
   "execution_count": null,
   "metadata": {
    "ExecuteTime": {
     "end_time": "2020-04-19T14:16:49.495276Z",
     "start_time": "2020-04-19T14:16:49.488286Z"
    },
    "hidden": true
   },
   "outputs": [],
   "source": [
    "# Model Fitting\n",
    "p0=(0.0981001,0.05305112,0.05157651,0.3,2.103427546494595, 0.23785134529029744) # initial guess\n",
    "bnds = ((0,0.1),(0,0.15),(0,0.15),(0,0.4),(1.5,3),(0,0.6))# boundries for variables\n"
   ]
  },
  {
   "cell_type": "code",
   "execution_count": null,
   "metadata": {
    "ExecuteTime": {
     "end_time": "2020-04-19T14:17:22.246180Z",
     "start_time": "2020-04-19T14:17:22.240229Z"
    },
    "hidden": true
   },
   "outputs": [],
   "source": [
    "model.reset()\n",
    "model.update({'sigma':1./4.4, 'nu':0.1})"
   ]
  },
  {
   "cell_type": "code",
   "execution_count": null,
   "metadata": {
    "ExecuteTime": {
     "end_time": "2020-04-19T14:21:33.159249Z",
     "start_time": "2020-04-19T14:17:39.888908Z"
    },
    "hidden": true,
    "scrolled": true
   },
   "outputs": [],
   "source": [
    "res_fit = model.fit(\n",
    "        p0=p0,\n",
    "        bnds=bnds,\n",
    "        data=data,\n",
    "        date_lst = date_lst,\n",
    "        days_in_season=days_in_season,\n",
    "        start='2020-02-26',\n",
    "        end='2020-04-09',\n",
    "        loss_func='MSE',\n",
    "        maxiter=300,\n",
    "        factor=1,\n",
    "    )"
   ]
  },
  {
   "cell_type": "code",
   "execution_count": null,
   "metadata": {
    "ExecuteTime": {
     "end_time": "2020-04-19T14:21:33.754305Z",
     "start_time": "2020-04-19T14:21:33.749350Z"
    },
    "hidden": true
   },
   "outputs": [],
   "source": [
    "mdl.print_stat_fit_behave(res_fit)"
   ]
  },
  {
   "cell_type": "code",
   "execution_count": null,
   "metadata": {
    "ExecuteTime": {
     "end_time": "2020-04-19T15:44:22.180870Z",
     "start_time": "2020-04-19T15:44:21.556925Z"
    },
    "hidden": true
   },
   "outputs": [],
   "source": [
    "model.reset()\n",
    "model.update({'nu':1/15.})\n",
    "res_mdl = model.predict(\n",
    "    C=mdl.C_calibration,\n",
    "    days_in_season=200,\n",
    "    stay_home_idx=mdl.stay_home_idx,\n",
    "    not_routine=mdl.not_routine,\n",
    ")"
   ]
  },
  {
   "cell_type": "code",
   "execution_count": null,
   "metadata": {
    "ExecuteTime": {
     "end_time": "2020-04-19T15:44:28.185081Z",
     "start_time": "2020-04-19T15:44:28.178133Z"
    },
    "hidden": true
   },
   "outputs": [],
   "source": [
    "model.beta_j"
   ]
  },
  {
   "cell_type": "code",
   "execution_count": null,
   "metadata": {
    "ExecuteTime": {
     "end_time": "2020-04-19T14:21:42.634202Z",
     "start_time": "2020-04-19T14:21:36.002738Z"
    },
    "hidden": true
   },
   "outputs": [],
   "source": [
    "# plotting the data and model\n",
    "fig,ax = mdl.plot_calibrated_model_region(data=data, \n",
    "                                          mdl_data = res_mdl['new_Is'],\n",
    "                                          date_list = date_lst,\n",
    "                                          start='2020-02-29',\n",
    "                                          end='2020-04-12',\n",
    "                                          region_name = mdl.cell,\n",
    "                                          loss_func = 'MSE')\n",
    "fig.set_size_inches((30,30))\n",
    "plt.tight_layout()\n",
    "plt.show()"
   ]
  },
  {
   "cell_type": "code",
   "execution_count": null,
   "metadata": {
    "ExecuteTime": {
     "end_time": "2020-04-19T14:21:43.593693Z",
     "start_time": "2020-04-19T14:21:43.282975Z"
    },
    "hidden": true
   },
   "outputs": [],
   "source": [
    "# Creating table 1, by region:\n",
    "tabel_1_dict = {}\n",
    "for region in ['11_betshemesh','11','62_arab','51_bb','51','32','24']:\n",
    "    tabel_1_dict[mdl.cell[region]] = (res_mdl['new_Is'][:, mdl.region_dict[region]].sum(axis=1))/mdl.population_size[mdl.region_dict[region]].sum()\n",
    "tabel1_df = pd.DataFrame.from_dict(tabel_1_dict)\n",
    "\n",
    "tabel1_df.iloc[:].plot()"
   ]
  },
  {
   "cell_type": "code",
   "execution_count": null,
   "metadata": {
    "ExecuteTime": {
     "end_time": "2020-04-19T14:21:44.574172Z",
     "start_time": "2020-04-19T14:21:44.567192Z"
    },
    "hidden": true
   },
   "outputs": [],
   "source": [
    "(res_mdl['new_Is']).sum()"
   ]
  },
  {
   "cell_type": "code",
   "execution_count": null,
   "metadata": {
    "ExecuteTime": {
     "end_time": "2020-04-19T15:44:34.519982Z",
     "start_time": "2020-04-19T15:44:34.230724Z"
    },
    "hidden": true,
    "scrolled": false
   },
   "outputs": [],
   "source": [
    "plt.plot(res_mdl['H'].sum(axis=1)*9136000)"
   ]
  },
  {
   "cell_type": "code",
   "execution_count": null,
   "metadata": {
    "ExecuteTime": {
     "end_time": "2020-04-19T15:15:41.679241Z",
     "start_time": "2020-04-19T15:15:41.672263Z"
    },
    "hidden": true
   },
   "outputs": [],
   "source": [
    "date_lst[-1]"
   ]
  },
  {
   "cell_type": "code",
   "execution_count": null,
   "metadata": {
    "ExecuteTime": {
     "end_time": "2020-04-19T14:21:47.676159Z",
     "start_time": "2020-04-19T14:21:47.458714Z"
    },
    "hidden": true
   },
   "outputs": [],
   "source": [
    "mdl.plot_calibrated_total_model(pd.DataFrame(data[1])/9136000,res_mdl,date_lst,start='2020-02-26',end='2020-04-09')"
   ]
  },
  {
   "cell_type": "markdown",
   "metadata": {
    "hidden": true
   },
   "source": [
    "### Model Variance"
   ]
  },
  {
   "cell_type": "code",
   "execution_count": null,
   "metadata": {
    "ExecuteTime": {
     "end_time": "2020-04-19T14:21:48.696196Z",
     "start_time": "2020-04-19T14:21:48.691207Z"
    },
    "hidden": true
   },
   "outputs": [],
   "source": [
    "model_start_idx = int(np.where(date_lst == '2020-02-26')[0])\n",
    "model_end_idx = int(np.where(date_lst == '2020-04-09')[0])"
   ]
  },
  {
   "cell_type": "code",
   "execution_count": null,
   "metadata": {
    "ExecuteTime": {
     "end_time": "2020-04-19T14:21:49.523408Z",
     "start_time": "2020-04-19T14:21:49.502430Z"
    },
    "hidden": true
   },
   "outputs": [],
   "source": [
    "# Calculation of variance:\n",
    "# model results array based on region and age:\n",
    "model_by_age_region = {}\n",
    "for i, key in enumerate(mdl.region_age_dict.keys()):\n",
    "    model_by_age_region[key[0] + '_' + key[1] + '_mdl'] = res_mdl['new_Is'][model_start_idx:model_end_idx+1, mdl.region_age_dict[key]].sum(axis=1)\n",
    "model_by_age_region = pd.DataFrame.from_dict(model_by_age_region)"
   ]
  },
  {
   "cell_type": "code",
   "execution_count": null,
   "metadata": {
    "ExecuteTime": {
     "end_time": "2020-04-19T14:21:50.523781Z",
     "start_time": "2020-04-19T14:21:50.516799Z"
    },
    "hidden": true
   },
   "outputs": [],
   "source": [
    "model_std = (np.sqrt((np.power((data[1]/isr_pop - model_by_age_region.values),2).sum())/data[1].size))"
   ]
  },
  {
   "cell_type": "code",
   "execution_count": null,
   "metadata": {
    "ExecuteTime": {
     "end_time": "2020-04-19T20:24:14.058603Z",
     "start_time": "2020-04-19T20:24:14.050625Z"
    },
    "hidden": true
   },
   "outputs": [],
   "source": [
    "model_std"
   ]
  },
  {
   "cell_type": "markdown",
   "metadata": {
    "hidden": true
   },
   "source": [
    "### Fit UB for different CIs"
   ]
  },
  {
   "cell_type": "code",
   "execution_count": null,
   "metadata": {
    "ExecuteTime": {
     "end_time": "2020-04-19T21:16:48.805741Z",
     "start_time": "2020-04-19T21:03:35.983309Z"
    },
    "hidden": true
   },
   "outputs": [],
   "source": [
    "all_calibrations = {}\n",
    "for percent,z in [('80%',0.842), ('75%',0.674), ('70%',0.524)]:\n",
    "    res_model = {}\n",
    "    print('======checking CI {}%======='.format(100 - (100-float(percent[:-1]))/2))\n",
    "    # calculate new data:\n",
    "    new_data = data.copy()\n",
    "    new_data[1] = ((data[1]/isr_pop) + z*model_std)*isr_pop\n",
    "    \n",
    "    # initializing model:\n",
    "    curr_mdl = mdl.Model_behave(\n",
    "    beta_j=np.array([0.02927922 ,0.02927922 ,0.02927922 ,0.04655266,0.04655266,0.05775265,0.05775265,0.18444245,0.18444245]),\n",
    "    theta=2.826729434860104,\n",
    "    beta_behave=0.5552998605894367,\n",
    "    eps=mdl.eps_sector['Scenario2'],\n",
    "    f=mdl.f0_full['Scenario2'],\n",
    "    sigma=1/4.4,\n",
    "    nu=0.1\n",
    "    )\n",
    "#      Model Fitting\n",
    "    days_in_season=70\n",
    "    p0=(0.0981001,0.05305112,0.05157651,0.3,2.103427546494595, 0.23785134529029744) # initial guess\n",
    "    bnds = ((0,0.15),(0,0.15),(0,0.15),(0,0.54),(1.5,3),(0,0.7))# boundries for variables\n",
    "    \n",
    "    res_fit_curr = curr_mdl.fit(\n",
    "        p0=p0,\n",
    "        bnds=bnds,\n",
    "        data=new_data,\n",
    "        date_lst = date_lst,\n",
    "        days_in_season=days_in_season,\n",
    "        start='2020-02-26',\n",
    "        end='2020-04-09',\n",
    "        loss_func='MSE',\n",
    "        maxiter=300,\n",
    "        factor=1,\n",
    "    )\n",
    "    mdl.print_stat_fit_behave(res_fit_curr)\n",
    "    \n",
    "    curr_mdl.reset()\n",
    "    res_mdl_curr = curr_mdl.predict(\n",
    "        C=mdl.C_calibration,\n",
    "        days_in_season=200,\n",
    "        stay_home_idx=mdl.stay_home_idx,\n",
    "        not_routine=mdl.not_routine,\n",
    "    )\n",
    "        \n",
    "        # plotting the data and model\n",
    "    fig,ax = mdl.plot_calibrated_model_region(data=new_data, \n",
    "                                              mdl_data = res_mdl_curr['new_Is'],\n",
    "                                              date_list = date_lst,\n",
    "                                              start='2020-02-26',\n",
    "                                              end='2020-04-09',\n",
    "                                              region_name = mdl.cell,\n",
    "                                              loss_func = 'MSE')\n",
    "    fig.set_size_inches((30,30))\n",
    "    plt.tight_layout()\n",
    "    plt.show()\n",
    "    \n",
    "    all_calibrations[percent] = {'beta_j':curr_mdl.beta_j, 'beta_behave':curr_mdl.beta_behave, 'theta':curr_mdl.theta}\n",
    "    \n",
    "    "
   ]
  },
  {
   "cell_type": "code",
   "execution_count": null,
   "metadata": {
    "ExecuteTime": {
     "end_time": "2020-04-19T21:17:38.114929Z",
     "start_time": "2020-04-19T21:17:38.107913Z"
    },
    "hidden": true
   },
   "outputs": [],
   "source": [
    "# Save calibrated params\n",
    "with open('calibrattion_dict.pickle', 'wb') as handle:\n",
    "    pickle.dump(all_calibrations, handle, protocol=pickle.HIGHEST_PROTOCOL)"
   ]
  },
  {
   "cell_type": "markdown",
   "metadata": {
    "ExecuteTime": {
     "end_time": "2020-04-19T10:02:20.008873Z",
     "start_time": "2020-04-19T10:02:19.938989Z"
    },
    "hidden": true
   },
   "source": [
    "### Fit UB"
   ]
  },
  {
   "cell_type": "code",
   "execution_count": null,
   "metadata": {
    "ExecuteTime": {
     "end_time": "2020-04-19T14:21:51.585920Z",
     "start_time": "2020-04-19T14:21:51.578936Z"
    },
    "hidden": true
   },
   "outputs": [],
   "source": [
    "# UB data:\n",
    "data_ub = data.copy()\n",
    "data_ub[1] = ((data[1]/isr_pop) + 1.96*model_std)*isr_pop"
   ]
  },
  {
   "cell_type": "code",
   "execution_count": null,
   "metadata": {
    "ExecuteTime": {
     "end_time": "2020-04-19T14:37:19.194220Z",
     "start_time": "2020-04-19T14:37:19.185251Z"
    },
    "hidden": true
   },
   "outputs": [],
   "source": [
    "model_ub = mdl.Model_behave(\n",
    "    beta_j=np.array([0.02927922 ,0.02927922 ,0.02927922 ,0.04655266,0.04655266,0.05775265,0.05775265,0.18444245,0.18444245]),\n",
    "    theta=2.826729434860104,\n",
    "    beta_behave=0.5552998605894367,\n",
    "    eps=mdl.eps_sector['Scenario2'],\n",
    "    f=mdl.f0_full['Scenario2'],\n",
    "    sigma=1/4.4,\n",
    "    nu=0.1\n",
    ")"
   ]
  },
  {
   "cell_type": "code",
   "execution_count": null,
   "metadata": {
    "ExecuteTime": {
     "end_time": "2020-04-19T14:37:23.027975Z",
     "start_time": "2020-04-19T14:37:23.020994Z"
    },
    "hidden": true
   },
   "outputs": [],
   "source": [
    "# Model Fitting\n",
    "days_in_season=70\n",
    "p0=(0.0981001,0.05305112,0.05157651,0.3,2.103427546494595, 0.23785134529029744) # initial guess\n",
    "bnds = ((0,0.15),(0,0.15),(0,0.15),(0,0.54),(1.5,3),(0,0.7))# boundries for variables"
   ]
  },
  {
   "cell_type": "code",
   "execution_count": null,
   "metadata": {
    "ExecuteTime": {
     "end_time": "2020-04-19T14:42:15.984521Z",
     "start_time": "2020-04-19T14:37:24.295546Z"
    },
    "hidden": true,
    "scrolled": true
   },
   "outputs": [],
   "source": [
    "res_fit_ub = model_ub.fit(\n",
    "        p0=p0,\n",
    "        bnds=bnds,\n",
    "        data=data_ub,\n",
    "        date_lst = date_lst,\n",
    "        days_in_season=days_in_season,\n",
    "        start='2020-02-26',\n",
    "        end='2020-04-09',\n",
    "        loss_func='MSE',\n",
    "        maxiter=300,\n",
    "        factor=1,\n",
    "    )"
   ]
  },
  {
   "cell_type": "code",
   "execution_count": null,
   "metadata": {
    "ExecuteTime": {
     "end_time": "2020-04-19T14:42:16.980016Z",
     "start_time": "2020-04-19T14:42:16.975004Z"
    },
    "hidden": true
   },
   "outputs": [],
   "source": [
    "mdl.print_stat_fit_behave(res_fit_ub)"
   ]
  },
  {
   "cell_type": "code",
   "execution_count": null,
   "metadata": {
    "ExecuteTime": {
     "end_time": "2020-04-19T14:42:18.464845Z",
     "start_time": "2020-04-19T14:42:17.990659Z"
    },
    "hidden": true
   },
   "outputs": [],
   "source": [
    "model_ub.reset()\n",
    "res_mdl_ub = model_ub.predict(\n",
    "    C=mdl.C_calibration,\n",
    "    days_in_season=200,\n",
    "    stay_home_idx=mdl.stay_home_idx,\n",
    "    not_routine=mdl.not_routine,\n",
    ")"
   ]
  },
  {
   "cell_type": "code",
   "execution_count": null,
   "metadata": {
    "ExecuteTime": {
     "end_time": "2020-04-19T14:42:25.895455Z",
     "start_time": "2020-04-19T14:42:19.389563Z"
    },
    "hidden": true
   },
   "outputs": [],
   "source": [
    "# plotting the data and model\n",
    "fig,ax = mdl.plot_calibrated_model_region(data=data_ub, \n",
    "                                          mdl_data = res_mdl_ub['new_Is'],\n",
    "                                          date_list = date_lst,\n",
    "                                          start='2020-02-29',\n",
    "                                          end='2020-04-12',\n",
    "                                          region_name = mdl.cell,\n",
    "                                          loss_func = 'MSE')\n",
    "fig.set_size_inches((30,30))\n",
    "plt.tight_layout()\n",
    "plt.show()"
   ]
  },
  {
   "cell_type": "code",
   "execution_count": null,
   "metadata": {
    "ExecuteTime": {
     "end_time": "2020-04-19T14:42:27.158059Z",
     "start_time": "2020-04-19T14:42:26.892879Z"
    },
    "hidden": true
   },
   "outputs": [],
   "source": [
    "# Creating table 1, by region:\n",
    "tabel_1_dict = {}\n",
    "for region in ['11_betshemesh','11','62_arab','51_bb','51','32','24']:\n",
    "    tabel_1_dict[mdl.cell[region]] = (res_mdl_ub['new_Is'][:, mdl.region_dict[region]].sum(axis=1))/mdl.population_size[mdl.region_dict[region]].sum()\n",
    "tabel1_df = pd.DataFrame.from_dict(tabel_1_dict)\n",
    "\n",
    "tabel1_df.iloc[:].plot()"
   ]
  },
  {
   "cell_type": "code",
   "execution_count": null,
   "metadata": {
    "ExecuteTime": {
     "end_time": "2020-04-19T14:42:28.302584Z",
     "start_time": "2020-04-19T14:42:28.117047Z"
    },
    "hidden": true,
    "scrolled": false
   },
   "outputs": [],
   "source": [
    "plt.plot(res_mdl_ub['H'].sum(axis=1)*9136000)"
   ]
  },
  {
   "cell_type": "code",
   "execution_count": null,
   "metadata": {
    "ExecuteTime": {
     "end_time": "2020-04-19T14:42:29.391202Z",
     "start_time": "2020-04-19T14:42:29.384162Z"
    },
    "hidden": true
   },
   "outputs": [],
   "source": [
    "res_mdl_ub['new_Is'].sum()"
   ]
  },
  {
   "cell_type": "code",
   "execution_count": null,
   "metadata": {
    "ExecuteTime": {
     "end_time": "2020-04-19T14:42:30.398305Z",
     "start_time": "2020-04-19T14:42:30.392321Z"
    },
    "hidden": true
   },
   "outputs": [],
   "source": [
    "res_mdl['new_Is'][:55].sum(axis=1).sum()*9136000"
   ]
  },
  {
   "cell_type": "code",
   "execution_count": null,
   "metadata": {
    "ExecuteTime": {
     "end_time": "2020-04-19T14:44:49.553763Z",
     "start_time": "2020-04-19T14:44:49.292427Z"
    },
    "hidden": true
   },
   "outputs": [],
   "source": [
    "mdl.plot_calibrated_total_model(pd.DataFrame(data_ub[1])/9136000,res_mdl_ub,date_lst,start='2020-02-26',end='2020-04-09')"
   ]
  },
  {
   "cell_type": "markdown",
   "metadata": {
    "ExecuteTime": {
     "end_time": "2020-04-19T10:02:20.008873Z",
     "start_time": "2020-04-19T10:02:19.938989Z"
    },
    "hidden": true
   },
   "source": [
    "### Fit LB"
   ]
  },
  {
   "cell_type": "code",
   "execution_count": null,
   "metadata": {
    "ExecuteTime": {
     "end_time": "2020-04-19T14:42:34.450364Z",
     "start_time": "2020-04-19T14:42:34.444412Z"
    },
    "hidden": true
   },
   "outputs": [],
   "source": [
    "# LB data:\n",
    "data_lb = data.copy()\n",
    "data_lb[1] = ((data[1]/9136000)*(1/3.))*isr_pop # beacuse the data_ub is 3 times bigger than data (on average)"
   ]
  },
  {
   "cell_type": "code",
   "execution_count": null,
   "metadata": {
    "ExecuteTime": {
     "end_time": "2020-04-19T14:45:11.705468Z",
     "start_time": "2020-04-19T14:45:11.695496Z"
    },
    "hidden": true
   },
   "outputs": [],
   "source": [
    "model_lb = mdl.Model_behave(\n",
    "    beta_j=np.array([0.02927922 ,0.02927922 ,0.02927922 ,0.04655266,0.04655266,0.05775265,0.05775265,0.18444245,0.18444245]),\n",
    "    theta=2.826729434860104,\n",
    "    beta_behave=0.5552998605894367,\n",
    "    eps=mdl.eps_sector['Scenario2'],\n",
    "    f=mdl.f0_full['Scenario2'],\n",
    "    sigma=1/4.4,\n",
    "    nu = 0.1\n",
    ")"
   ]
  },
  {
   "cell_type": "code",
   "execution_count": null,
   "metadata": {
    "ExecuteTime": {
     "end_time": "2020-04-19T14:45:15.077357Z",
     "start_time": "2020-04-19T14:45:15.068381Z"
    },
    "hidden": true
   },
   "outputs": [],
   "source": [
    "# Model Fitting\n",
    "days_in_season=70\n",
    "p0=(0.0981001,0.05305112,0.05157651,0.3,2.103427546494595, 0.23785134529029744) # initial guess\n",
    "bnds = ((0,0.15),(0,0.15),(0,0.15),(0,0.54),(1.5,3),(0,0.7))# boundries for variables"
   ]
  },
  {
   "cell_type": "code",
   "execution_count": null,
   "metadata": {
    "ExecuteTime": {
     "end_time": "2020-04-19T14:51:57.682446Z",
     "start_time": "2020-04-19T14:45:18.732836Z"
    },
    "hidden": true,
    "scrolled": true
   },
   "outputs": [],
   "source": [
    "res_fit_lb = model_lb.fit(\n",
    "        p0=p0,\n",
    "        bnds=bnds,\n",
    "        data=data_lb,\n",
    "        date_lst = date_lst,\n",
    "        days_in_season=days_in_season,\n",
    "        start='2020-02-26',\n",
    "        end='2020-04-09',\n",
    "        loss_func='MSE',\n",
    "        maxiter=300,\n",
    "        factor=1,\n",
    "    )"
   ]
  },
  {
   "cell_type": "code",
   "execution_count": null,
   "metadata": {
    "ExecuteTime": {
     "end_time": "2020-04-19T14:52:37.912323Z",
     "start_time": "2020-04-19T14:52:37.906339Z"
    },
    "hidden": true
   },
   "outputs": [],
   "source": [
    "mdl.print_stat_fit_behave(res_fit_lb)"
   ]
  },
  {
   "cell_type": "code",
   "execution_count": null,
   "metadata": {
    "ExecuteTime": {
     "end_time": "2020-04-19T14:55:02.325845Z",
     "start_time": "2020-04-19T14:55:01.769583Z"
    },
    "hidden": true
   },
   "outputs": [],
   "source": [
    "model_lb.reset()\n",
    "res_mdl_lb = model_lb.predict(\n",
    "    C=mdl.C_calibration,\n",
    "    days_in_season=200,\n",
    "    stay_home_idx=mdl.stay_home_idx,\n",
    "    not_routine=mdl.not_routine,\n",
    ")"
   ]
  },
  {
   "cell_type": "code",
   "execution_count": null,
   "metadata": {
    "ExecuteTime": {
     "end_time": "2020-04-19T14:52:59.893709Z",
     "start_time": "2020-04-19T14:52:53.099018Z"
    },
    "hidden": true
   },
   "outputs": [],
   "source": [
    "# plotting the data and model\n",
    "fig,ax = mdl.plot_calibrated_model_region(data=data_lb, \n",
    "                                          mdl_data = res_mdl_ub_lb['new_Is'],\n",
    "                                          date_list = date_lst,\n",
    "                                          start='2020-02-29',\n",
    "                                          end='2020-04-12',\n",
    "                                          region_name = mdl.cell,\n",
    "                                          loss_func = 'MSE')\n",
    "fig.set_size_inches((30,30))\n",
    "plt.tight_layout()\n",
    "plt.show()"
   ]
  },
  {
   "cell_type": "code",
   "execution_count": null,
   "metadata": {
    "ExecuteTime": {
     "end_time": "2020-04-19T14:55:06.892146Z",
     "start_time": "2020-04-19T14:55:06.546041Z"
    },
    "cell_style": "center",
    "code_folding": [],
    "hidden": true
   },
   "outputs": [],
   "source": [
    "# Creating table 1, by region:\n",
    "tabel_1_dict = {}\n",
    "for region in ['11_betshemesh','11','62_arab','51_bb','51','32','24']:\n",
    "    tabel_1_dict[mdl.cell[region]] = (res_mdl_lb['new_Is'][:, mdl.region_dict[region]].sum(axis=1))/mdl.population_size[mdl.region_dict[region]].sum()\n",
    "tabel1_df = pd.DataFrame.from_dict(tabel_1_dict)\n",
    "\n",
    "tabel1_df.iloc[:].plot()"
   ]
  },
  {
   "cell_type": "code",
   "execution_count": null,
   "metadata": {
    "ExecuteTime": {
     "end_time": "2020-04-19T14:55:10.746662Z",
     "start_time": "2020-04-19T14:55:10.539183Z"
    },
    "cell_style": "center",
    "hidden": true,
    "scrolled": false
   },
   "outputs": [],
   "source": [
    "plt.plot(res_mdl_lb['H'].sum(axis=1)*9136000)"
   ]
  },
  {
   "cell_type": "code",
   "execution_count": null,
   "metadata": {
    "ExecuteTime": {
     "end_time": "2020-04-19T14:55:26.126678Z",
     "start_time": "2020-04-19T14:55:26.119697Z"
    },
    "hidden": true
   },
   "outputs": [],
   "source": [
    "res_mdl_lb['new_Is'][:55].sum(axis=1).sum()"
   ]
  },
  {
   "cell_type": "code",
   "execution_count": null,
   "metadata": {
    "ExecuteTime": {
     "end_time": "2020-04-19T14:56:48.300472Z",
     "start_time": "2020-04-19T14:56:48.025209Z"
    },
    "hidden": true
   },
   "outputs": [],
   "source": [
    "mdl.plot_calibrated_total_model(pd.DataFrame(data_lb[1])/9136000,res_mdl_lb,date_lst,start='2020-02-26',end='2020-04-09')"
   ]
  },
  {
   "cell_type": "markdown",
   "metadata": {
    "hidden": true
   },
   "source": [
    "## Scenario 1"
   ]
  },
  {
   "cell_type": "code",
   "execution_count": null,
   "metadata": {
    "ExecuteTime": {
     "end_time": "2020-05-13T22:05:33.221039Z",
     "start_time": "2020-05-13T22:05:33.217039Z"
    },
    "hidden": true
   },
   "outputs": [],
   "source": [
    "scen = 'Scenario1'\n",
    "sc1_res_dict = {}"
   ]
  },
  {
   "cell_type": "code",
   "execution_count": null,
   "metadata": {
    "ExecuteTime": {
     "end_time": "2020-05-13T21:24:32.872315Z",
     "start_time": "2020-05-13T21:24:32.860314Z"
    },
    "hidden": true
   },
   "outputs": [],
   "source": [
    "model_1_ml = mdl.Model_behave(\n",
    "    ind,\n",
    "    beta_j=np.array([0.02184738 ,0.02184738 ,0.02184738 ,0.00211441,0.00211441,0.0,0.0,0.0,0.0]),\n",
    "    theta=3.0,\n",
    "    beta_behave=0.6,\n",
    "    eps=mdl.eps_sector[scen],\n",
    "    f=mdl.f0_full[scen],\n",
    "    seasonality=True\n",
    "                              \n",
    ")"
   ]
  },
  {
   "cell_type": "code",
   "execution_count": null,
   "metadata": {
    "ExecuteTime": {
     "end_time": "2020-05-13T22:05:34.049086Z",
     "start_time": "2020-05-13T22:05:34.041086Z"
    },
    "hidden": true
   },
   "outputs": [],
   "source": [
    "# fit params\n",
    "start = pos_0303.index[0]\n",
    "end = pos_0303.index[-1]\n",
    "date_lst = pd.date_range('2020-02-21',end)\n",
    "len(date_lst)"
   ]
  },
  {
   "cell_type": "code",
   "execution_count": null,
   "metadata": {
    "ExecuteTime": {
     "end_time": "2020-05-13T21:24:35.165446Z",
     "start_time": "2020-05-13T21:24:35.157446Z"
    },
    "hidden": true
   },
   "outputs": [],
   "source": [
    "# Model Fitting\n",
    "p0=(0.0981001,0.05305112,0.05157651,0.3,2.103427546494595, 0.23785134529029744) # initial guess\n",
    "bnds = ((0,0.3),(0,0.2),(0,0.2),(0,0.6),(1.5,3),(0,0.6))# boundries for variables\n"
   ]
  },
  {
   "cell_type": "code",
   "execution_count": null,
   "metadata": {
    "ExecuteTime": {
     "end_time": "2020-05-13T21:24:35.765481Z",
     "start_time": "2020-05-13T21:24:35.757480Z"
    },
    "hidden": true
   },
   "outputs": [],
   "source": [
    "model_1_ml.reset()"
   ]
  },
  {
   "cell_type": "code",
   "execution_count": null,
   "metadata": {
    "ExecuteTime": {
     "end_time": "2020-05-13T21:25:14.050670Z",
     "start_time": "2020-05-13T21:24:37.941605Z"
    },
    "hidden": true,
    "scrolled": true
   },
   "outputs": [],
   "source": [
    "res_fit_1_ml = model_1_ml.fit(\n",
    "        mapper=region_age_250_to_30,\n",
    "        p0=p0,\n",
    "        bnds=bnds,\n",
    "        data=data,\n",
    "        date_lst = date_lst,\n",
    "        start=start,\n",
    "        end=end,\n",
    "        loss_func='MSE',\n",
    "        maxiter=85,\n",
    "        factor=1,\n",
    "    )"
   ]
  },
  {
   "cell_type": "code",
   "execution_count": null,
   "metadata": {
    "ExecuteTime": {
     "end_time": "2020-05-13T18:19:28.667191Z",
     "start_time": "2020-05-13T18:19:28.661191Z"
    },
    "hidden": true
   },
   "outputs": [],
   "source": [
    "res_fit_1_ml.x[5]"
   ]
  },
  {
   "cell_type": "code",
   "execution_count": null,
   "metadata": {
    "ExecuteTime": {
     "end_time": "2020-05-13T18:20:07.388406Z",
     "start_time": "2020-05-13T18:20:07.379405Z"
    },
    "hidden": true
   },
   "outputs": [],
   "source": [
    "print('minimized value:', res_fit_1_ml.fun)\n",
    "print('Fitted parameters:\\n Beta={0}\\n Theta={1},\\n,Beta_behave={2}'.format(res_fit_1_ml.x[:4],\n",
    "                                                                                  res_fit_1_ml.x[4],\n",
    "                                                                                  res_fit_1_ml.x[5],))\n",
    "\n",
    "print('num of sampling the target function:', res_fit_1_ml.nfev)"
   ]
  },
  {
   "cell_type": "code",
   "execution_count": null,
   "metadata": {
    "ExecuteTime": {
     "end_time": "2020-05-13T18:16:26.372764Z",
     "start_time": "2020-05-13T18:16:25.919738Z"
    },
    "hidden": true,
    "scrolled": true
   },
   "outputs": [],
   "source": [
    "mdl.print_stat_fit_behave(res_fit_1_ml)"
   ]
  },
  {
   "cell_type": "code",
   "execution_count": null,
   "metadata": {
    "ExecuteTime": {
     "end_time": "2020-05-13T18:57:18.980045Z",
     "start_time": "2020-05-13T18:56:56.449757Z"
    },
    "hidden": true
   },
   "outputs": [],
   "source": [
    "# model_1_ml.reset()\n",
    "model_1_ml.update({'beta_behave': 0.01})\n",
    "res_mdl_1_ml = model_1_ml.predict(\n",
    "    C=mdl.C_calibration,\n",
    "    days_in_season=100,\n",
    "    stay_home_idx=mdl.stay_home_idx,\n",
    "    not_routine=mdl.not_routine,\n",
    ")"
   ]
  },
  {
   "cell_type": "code",
   "execution_count": null,
   "metadata": {
    "ExecuteTime": {
     "end_time": "2020-05-13T18:57:19.015047Z",
     "start_time": "2020-05-13T18:57:18.986046Z"
    },
    "hidden": true
   },
   "outputs": [],
   "source": [
    "\n",
    "print(model_1_ml.theta)\n",
    "print(model_1_ml.beta_behave)\n",
    "model_1_ml.beta_j"
   ]
  },
  {
   "cell_type": "code",
   "execution_count": null,
   "metadata": {
    "ExecuteTime": {
     "end_time": "2020-05-11T19:26:02.998364Z",
     "start_time": "2020-05-11T19:26:02.990386Z"
    },
    "hidden": true
   },
   "outputs": [],
   "source": [
    "model_1_ml.sigma"
   ]
  },
  {
   "cell_type": "code",
   "execution_count": null,
   "metadata": {
    "ExecuteTime": {
     "end_time": "2020-05-11T20:06:26.446049Z",
     "start_time": "2020-05-11T20:06:26.438026Z"
    },
    "hidden": true
   },
   "outputs": [],
   "source": [
    "model_1_ml.update({'seasonality':0.0,'noise':0.0, 'beta_j':np.array([0.10167117, 0.10167117, 0.10167117, 0.05606748, 0.05606748,\n",
    "       0.04709613, 0.04709613, 0.25676354, 0.25676354])*0.95,'beta_behave':0.18876288297385702*1.45,'theta':2.0684200685446243,\n",
    "                  'theta_arab':1})"
   ]
  },
  {
   "cell_type": "code",
   "execution_count": null,
   "metadata": {
    "ExecuteTime": {
     "end_time": "2020-05-13T21:25:18.486924Z",
     "start_time": "2020-05-13T21:25:18.468923Z"
    },
    "hidden": true,
    "scrolled": true
   },
   "outputs": [],
   "source": [
    "# plotting the data and model\n",
    "fig,ax = mdl.plot_calibrated_model_region(mdl_mapper=region_250_to_30,\n",
    "                                          data=data, \n",
    "                                          mdl_data = res_mdl['new_Is'],\n",
    "                                          date_list = date_lst,\n",
    "                                          start=start,\n",
    "                                          end=end,\n",
    "                                          region_name = {k:k for k in region_250_to_30.keys()},\n",
    "                                          loss_func = 'MSE',\n",
    "                                         ind=ind,\n",
    "                                         data_mapper=region_ga_250_to_30)\n",
    "fig.set_size_inches((30,30))\n",
    "plt.tight_layout()\n",
    "plt.show()"
   ]
  },
  {
   "cell_type": "code",
   "execution_count": null,
   "metadata": {
    "ExecuteTime": {
     "end_time": "2020-05-13T21:26:36.828405Z",
     "start_time": "2020-05-13T21:26:36.396380Z"
    },
    "hidden": true
   },
   "outputs": [],
   "source": [
    "mdl.plot_calibrated_total_model(pd.DataFrame(data[1])/mdl.pop_israel, res_mdl, date_lst, start=start,end=end)\n",
    "# plt.vlines(x=14,ymin=0, ymax=0.0001)\n",
    "# plt.vlines(x=23-6,ymin=0, ymax=0.0001, color='r')"
   ]
  },
  {
   "cell_type": "code",
   "execution_count": null,
   "metadata": {
    "ExecuteTime": {
     "end_time": "2020-05-13T21:21:26.589660Z",
     "start_time": "2020-05-13T21:21:26.574660Z"
    },
    "hidden": true,
    "scrolled": true
   },
   "outputs": [],
   "source": [
    "# plotting the data and model\n",
    "fig,ax = mdl.plot_calibrated_model_region(mdl_mapper=region_250_to_30,\n",
    "                                          data=data, \n",
    "                                          mdl_data = res_mdl_1_ml['new_Is'],\n",
    "                                          date_list = date_lst,\n",
    "                                          start=start,\n",
    "                                          end=end,\n",
    "                                          region_name = {k:k for k in region_250_to_30.keys()},\n",
    "                                          loss_func = 'MSE',\n",
    "                                         ind=ind,\n",
    "                                         data_mapper=region_ga_250_to_30)\n",
    "fig.set_size_inches((30,30))\n",
    "plt.tight_layout()\n",
    "plt.show()"
   ]
  },
  {
   "cell_type": "code",
   "execution_count": null,
   "metadata": {
    "ExecuteTime": {
     "end_time": "2020-05-13T21:21:26.598661Z",
     "start_time": "2020-05-13T21:21:18.263Z"
    },
    "hidden": true
   },
   "outputs": [],
   "source": [
    "pos['11_haredi'].sum(axis=1).sum()"
   ]
  },
  {
   "cell_type": "code",
   "execution_count": null,
   "metadata": {
    "ExecuteTime": {
     "end_time": "2020-05-04T13:45:31.187616Z",
     "start_time": "2020-05-04T13:45:31.181599Z"
    },
    "hidden": true
   },
   "outputs": [],
   "source": [
    "data[1].shape"
   ]
  },
  {
   "cell_type": "code",
   "execution_count": null,
   "metadata": {
    "ExecuteTime": {
     "end_time": "2020-04-23T16:32:03.676278Z",
     "start_time": "2020-04-23T16:32:03.343591Z"
    },
    "hidden": true
   },
   "outputs": [],
   "source": [
    "# Creating table 1, by region:\n",
    "tabel_1_dict = {}\n",
    "for region in ['11_betshemesh','11','62_arab','51_bb','51','32','24']:\n",
    "    tabel_1_dict[mdl.cell[region]] = (res_mdl_1_ml['new_Is'][:, mdl.region_dict[region]].sum(axis=1))/mdl.population_size[mdl.region_dict[region]].sum()\n",
    "tabel1_df = pd.DataFrame.from_dict(tabel_1_dict)\n",
    "\n",
    "tabel1_df.iloc[:].plot()"
   ]
  },
  {
   "cell_type": "code",
   "execution_count": null,
   "metadata": {
    "ExecuteTime": {
     "end_time": "2020-04-23T16:32:13.406351Z",
     "start_time": "2020-04-23T16:32:13.393869Z"
    },
    "hidden": true
   },
   "outputs": [],
   "source": [
    "(res_mdl_1_ml['new_Is']).sum()"
   ]
  },
  {
   "cell_type": "code",
   "execution_count": null,
   "metadata": {
    "ExecuteTime": {
     "end_time": "2020-05-11T18:52:04.429309Z",
     "start_time": "2020-05-11T18:52:04.224831Z"
    },
    "hidden": true,
    "scrolled": false
   },
   "outputs": [],
   "source": [
    "plt.plot(res_mdl_1_ml['Vents'].sum(axis=1)*9136000)"
   ]
  },
  {
   "cell_type": "code",
   "execution_count": null,
   "metadata": {
    "ExecuteTime": {
     "end_time": "2020-04-23T16:21:11.210185Z",
     "start_time": "2020-04-23T16:21:11.202201Z"
    },
    "hidden": true
   },
   "outputs": [],
   "source": [
    "date_lst[-1]"
   ]
  },
  {
   "cell_type": "code",
   "execution_count": null,
   "metadata": {
    "ExecuteTime": {
     "end_time": "2020-05-11T18:30:48.512480Z",
     "start_time": "2020-05-11T18:30:48.505503Z"
    },
    "hidden": true
   },
   "outputs": [],
   "source": [
    "res_fit_1_ml"
   ]
  },
  {
   "cell_type": "code",
   "execution_count": null,
   "metadata": {
    "ExecuteTime": {
     "end_time": "2020-05-08T17:07:50.940923Z",
     "start_time": "2020-05-08T17:07:50.869093Z"
    },
    "hidden": true
   },
   "outputs": [],
   "source": [
    "check = res_mdl_1_ml['S']+res_mdl_1_ml['E']+res_mdl_1_ml['Ia']+res_mdl_1_ml['Ie']+res_mdl_1_ml['Is']+res_mdl_1_ml['R']"
   ]
  },
  {
   "cell_type": "code",
   "execution_count": null,
   "metadata": {
    "ExecuteTime": {
     "end_time": "2020-05-08T17:11:01.397272Z",
     "start_time": "2020-05-08T17:11:01.081073Z"
    },
    "hidden": true
   },
   "outputs": [],
   "source": [
    "plt.plot(check.sum(axis=1)-1)\n",
    "plt.vlines(x=18, ymin=-0.0,ymax=0.0002, linestyles='dashed')"
   ]
  },
  {
   "cell_type": "code",
   "execution_count": null,
   "metadata": {
    "ExecuteTime": {
     "end_time": "2020-05-11T18:36:46.273292Z",
     "start_time": "2020-05-11T18:36:46.077642Z"
    },
    "hidden": true
   },
   "outputs": [],
   "source": [
    "check2=res_mdl_1_ml['L'][:]# + res_mdl_1_ml['E'][:]\n",
    "plt.plot(check2.sum(axis=1)[:50])\n",
    "# plt.vlines(x=18, ymin=-0.0,ymax=0.0007, linestyles='dashed')"
   ]
  },
  {
   "cell_type": "code",
   "execution_count": null,
   "metadata": {
    "ExecuteTime": {
     "end_time": "2020-05-04T19:03:07.782527Z",
     "start_time": "2020-05-04T19:03:07.775546Z"
    },
    "hidden": true
   },
   "outputs": [],
   "source": [
    "count = 0\n",
    "for a in model_1_ml.eps[:18]:\n",
    "    count += a.sum()\n"
   ]
  },
  {
   "cell_type": "code",
   "execution_count": null,
   "metadata": {
    "ExecuteTime": {
     "end_time": "2020-05-04T19:03:45.325948Z",
     "start_time": "2020-05-04T19:03:45.318002Z"
    },
    "hidden": true
   },
   "outputs": [],
   "source": [
    "model_1_ml.eps"
   ]
  },
  {
   "cell_type": "code",
   "execution_count": null,
   "metadata": {
    "ExecuteTime": {
     "end_time": "2020-05-11T20:07:23.806469Z",
     "start_time": "2020-05-11T20:07:23.565077Z"
    },
    "hidden": true,
    "scrolled": false
   },
   "outputs": [],
   "source": [
    "mdl.plot_calibrated_total_model(pd.DataFrame(data[1])/mdl.pop_israel,res_mdl_1_ml,date_lst,start='2020-02-26',end='2020-04-23')\n",
    "# plt.vlines(x=14,ymin=0, ymax=0.0001)\n",
    "# plt.vlines(x=23-6,ymin=0, ymax=0.0001, color='r')"
   ]
  },
  {
   "cell_type": "code",
   "execution_count": null,
   "metadata": {
    "hidden": true
   },
   "outputs": [],
   "source": []
  },
  {
   "cell_type": "code",
   "execution_count": null,
   "metadata": {
    "ExecuteTime": {
     "end_time": "2020-04-23T16:37:54.305943Z",
     "start_time": "2020-04-23T16:37:54.299919Z"
    },
    "hidden": true
   },
   "outputs": [],
   "source": [
    "# Saving new params:\n",
    "sc1_res_dict['ml'] = {'beta_j':model_1_ml.beta_j,\n",
    "                  'theta': model_1_ml.theta,\n",
    "                  'beta_behave': model_1_ml.beta_behave}"
   ]
  },
  {
   "cell_type": "code",
   "execution_count": null,
   "metadata": {
    "ExecuteTime": {
     "end_time": "2020-05-04T18:27:37.164190Z",
     "start_time": "2020-05-04T18:27:37.158213Z"
    },
    "hidden": true
   },
   "outputs": [],
   "source": [
    "int(np.where(date_lst == '2020-03-14')[0])"
   ]
  },
  {
   "cell_type": "code",
   "execution_count": null,
   "metadata": {
    "ExecuteTime": {
     "end_time": "2020-05-11T19:00:37.763022Z",
     "start_time": "2020-05-11T19:00:37.242822Z"
    },
    "hidden": true,
    "scrolled": false
   },
   "outputs": [],
   "source": [
    "mdl.plot_I_by_age(cell_250,res_mdl_1_ml)"
   ]
  },
  {
   "cell_type": "code",
   "execution_count": null,
   "metadata": {
    "ExecuteTime": {
     "end_time": "2020-05-11T18:54:46.099153Z",
     "start_time": "2020-05-11T18:54:46.092175Z"
    },
    "hidden": true
   },
   "outputs": [],
   "source": [
    "res_mdl_1_ml['R'][-1,:].sum()"
   ]
  },
  {
   "cell_type": "code",
   "execution_count": null,
   "metadata": {
    "ExecuteTime": {
     "end_time": "2020-05-11T19:14:35.079307Z",
     "start_time": "2020-05-11T19:14:35.066348Z"
    },
    "hidden": true
   },
   "outputs": [],
   "source": [
    "mdl_1_ml.sigma"
   ]
  },
  {
   "cell_type": "markdown",
   "metadata": {
    "ExecuteTime": {
     "end_time": "2020-04-23T16:37:55.327041Z",
     "start_time": "2020-04-23T16:37:55.320024Z"
    },
    "hidden": true
   },
   "source": [
    "### Model Variance"
   ]
  },
  {
   "cell_type": "code",
   "execution_count": null,
   "metadata": {
    "ExecuteTime": {
     "end_time": "2020-04-23T16:38:43.548121Z",
     "start_time": "2020-04-23T16:38:43.541183Z"
    },
    "hidden": true
   },
   "outputs": [],
   "source": [
    "model_start_idx = int(np.where(date_lst == '2020-02-26')[0])\n",
    "model_end_idx = int(np.where(date_lst == '2020-04-09')[0])"
   ]
  },
  {
   "cell_type": "code",
   "execution_count": null,
   "metadata": {
    "ExecuteTime": {
     "end_time": "2020-04-23T16:47:06.333390Z",
     "start_time": "2020-04-23T16:47:06.308457Z"
    },
    "hidden": true
   },
   "outputs": [],
   "source": [
    "# Calculation of variance:\n",
    "# model results array based on region and age:\n",
    "model_by_age_region = {}\n",
    "for i, key in enumerate(mdl.region_age_dict.keys()):\n",
    "    model_by_age_region[key[0] + '_' + key[1] + '_mdl'] = res_mdl_1_ml['new_Is'][model_start_idx:model_end_idx+1, mdl.region_age_dict[key]].sum(axis=1)\n",
    "model_by_age_region = pd.DataFrame.from_dict(model_by_age_region)"
   ]
  },
  {
   "cell_type": "code",
   "execution_count": null,
   "metadata": {
    "ExecuteTime": {
     "end_time": "2020-04-23T16:47:22.296448Z",
     "start_time": "2020-04-23T16:47:22.289951Z"
    },
    "hidden": true
   },
   "outputs": [],
   "source": [
    "model_std = (np.sqrt((np.power((data[1]/mdl.pop_israel - model_by_age_region.values),2).sum())/data[1].size))"
   ]
  },
  {
   "cell_type": "code",
   "execution_count": null,
   "metadata": {
    "ExecuteTime": {
     "end_time": "2020-04-23T16:47:23.759375Z",
     "start_time": "2020-04-23T16:47:23.751398Z"
    },
    "hidden": true
   },
   "outputs": [],
   "source": [
    "model_std"
   ]
  },
  {
   "cell_type": "markdown",
   "metadata": {
    "hidden": true
   },
   "source": [
    "### Fit UB"
   ]
  },
  {
   "cell_type": "code",
   "execution_count": null,
   "metadata": {
    "ExecuteTime": {
     "end_time": "2020-04-23T16:49:37.282601Z",
     "start_time": "2020-04-23T16:49:37.275584Z"
    },
    "hidden": true
   },
   "outputs": [],
   "source": [
    "# UB data:\n",
    "data_ub = data.copy()\n",
    "data_ub[1] = ((data[1]/mdl.pop_israel) + 1.96*model_std)*mdl.pop_israel"
   ]
  },
  {
   "cell_type": "code",
   "execution_count": null,
   "metadata": {
    "ExecuteTime": {
     "end_time": "2020-04-23T16:50:25.589897Z",
     "start_time": "2020-04-23T16:50:25.581876Z"
    },
    "hidden": true
   },
   "outputs": [],
   "source": [
    "model_sc1_ub = mdl.Model_behave(\n",
    "    beta_j=np.array([0.02927922 ,0.02927922 ,0.02927922 ,0.04655266,0.04655266,0.05775265,0.05775265,0.18444245,0.18444245]),\n",
    "    theta=2.826729434860104,\n",
    "    beta_behave=0.5552998605894367,\n",
    "    eps=mdl.eps_sector['Scenario1'],\n",
    "    f=mdl.f0_full['Scenario1'],\n",
    ")"
   ]
  },
  {
   "cell_type": "code",
   "execution_count": null,
   "metadata": {
    "ExecuteTime": {
     "end_time": "2020-04-23T17:01:36.153766Z",
     "start_time": "2020-04-23T17:01:36.147253Z"
    },
    "hidden": true
   },
   "outputs": [],
   "source": [
    "# Model Fitting\n",
    "days_in_season=70\n",
    "p0=(0.15,0.07317271 ,0.09578334 ,0.21491134,1.5, 0.34196516) # initial guess\n",
    "bnds = ((0,0.2),(0,0.15),(0,0.15),(0,0.54),(1.0,3),(0,0.7))# boundries for variables"
   ]
  },
  {
   "cell_type": "code",
   "execution_count": null,
   "metadata": {
    "ExecuteTime": {
     "end_time": "2020-04-23T17:02:47.598098Z",
     "start_time": "2020-04-23T17:01:43.643833Z"
    },
    "hidden": true,
    "scrolled": true
   },
   "outputs": [],
   "source": [
    "res_fit_sc1_ub = model_sc1_ub.fit(\n",
    "        p0=p0,\n",
    "        bnds=bnds,\n",
    "        data=data_ub,\n",
    "        date_lst = date_lst,\n",
    "        days_in_season=days_in_season,\n",
    "        start='2020-02-26',\n",
    "        end='2020-04-09',\n",
    "        loss_func='MSE',\n",
    "        maxiter=400,\n",
    "        factor=1,\n",
    "    )"
   ]
  },
  {
   "cell_type": "code",
   "execution_count": null,
   "metadata": {
    "ExecuteTime": {
     "end_time": "2020-04-23T17:10:33.715076Z",
     "start_time": "2020-04-23T17:10:33.708095Z"
    },
    "hidden": true
   },
   "outputs": [],
   "source": [
    "mdl.print_stat_fit_behave(res_fit_sc1_ub)"
   ]
  },
  {
   "cell_type": "code",
   "execution_count": null,
   "metadata": {
    "ExecuteTime": {
     "end_time": "2020-04-23T17:15:28.951392Z",
     "start_time": "2020-04-23T17:15:28.345917Z"
    },
    "hidden": true
   },
   "outputs": [],
   "source": [
    "model_sc1_ub.reset()\n",
    "res_mdl_sc1_ub = model_sc1_ub.predict(\n",
    "    C=mdl.C_calibration,\n",
    "    days_in_season=200,\n",
    "    stay_home_idx=mdl.stay_home_idx,\n",
    "    not_routine=mdl.not_routine,\n",
    ")"
   ]
  },
  {
   "cell_type": "code",
   "execution_count": null,
   "metadata": {
    "ExecuteTime": {
     "end_time": "2020-04-23T19:56:47.870818Z",
     "start_time": "2020-04-23T19:56:37.762741Z"
    },
    "hidden": true
   },
   "outputs": [],
   "source": [
    "# plotting the data and model\n",
    "fig,ax = mdl.plot_calibrated_model_region(data=data, \n",
    "                                          mdl_data = res_mdl_sc1_ub['new_Is'],\n",
    "                                          date_list = date_lst,\n",
    "                                          start='2020-02-29',\n",
    "                                          end='2020-04-12',\n",
    "                                          region_name = mdl.cell,\n",
    "                                          loss_func = 'MSE')\n",
    "fig.set_size_inches((30,30))\n",
    "plt.tight_layout()\n",
    "plt.show()"
   ]
  },
  {
   "cell_type": "code",
   "execution_count": null,
   "metadata": {
    "ExecuteTime": {
     "end_time": "2020-04-23T17:17:42.680011Z",
     "start_time": "2020-04-23T17:17:42.335929Z"
    },
    "hidden": true
   },
   "outputs": [],
   "source": [
    "# Creating table 1, by region:\n",
    "tabel_1_dict = {}\n",
    "for region in ['11_betshemesh','11','62_arab','51_bb','51','32','24']:\n",
    "    tabel_1_dict[mdl.cell[region]] = (res_mdl_sc1_ub['new_Is'][:, mdl.region_dict[region]].sum(axis=1))/mdl.population_size[mdl.region_dict[region]].sum()\n",
    "tabel1_df = pd.DataFrame.from_dict(tabel_1_dict)\n",
    "\n",
    "tabel1_df.iloc[:].plot()"
   ]
  },
  {
   "cell_type": "code",
   "execution_count": null,
   "metadata": {
    "ExecuteTime": {
     "end_time": "2020-04-23T17:18:11.288064Z",
     "start_time": "2020-04-23T17:18:11.057617Z"
    },
    "hidden": true,
    "scrolled": false
   },
   "outputs": [],
   "source": [
    "plt.plot(res_mdl_sc1_ub['Vents'].sum(axis=1)*mdl.pop_israel)"
   ]
  },
  {
   "cell_type": "code",
   "execution_count": null,
   "metadata": {
    "ExecuteTime": {
     "end_time": "2020-04-23T17:18:23.931159Z",
     "start_time": "2020-04-23T17:18:23.923184Z"
    },
    "hidden": true
   },
   "outputs": [],
   "source": [
    "res_mdl_sc1_ub['new_Is'].sum()"
   ]
  },
  {
   "cell_type": "code",
   "execution_count": null,
   "metadata": {
    "ExecuteTime": {
     "end_time": "2020-04-19T14:42:30.398305Z",
     "start_time": "2020-04-19T14:42:30.392321Z"
    },
    "hidden": true
   },
   "outputs": [],
   "source": [
    "res_mdl['new_Is'][:55].sum(axis=1).sum()*9136000"
   ]
  },
  {
   "cell_type": "code",
   "execution_count": null,
   "metadata": {
    "ExecuteTime": {
     "end_time": "2020-04-23T19:57:20.025953Z",
     "start_time": "2020-04-23T19:57:19.713781Z"
    },
    "hidden": true
   },
   "outputs": [],
   "source": [
    "mdl.plot_calibrated_total_model(pd.DataFrame(data[1])/mdl.pop_israel,res_mdl_sc1_ub,date_lst,start='2020-02-26',end='2020-04-09')"
   ]
  },
  {
   "cell_type": "code",
   "execution_count": null,
   "metadata": {
    "ExecuteTime": {
     "end_time": "2020-04-23T17:30:51.140466Z",
     "start_time": "2020-04-23T17:30:51.135343Z"
    },
    "hidden": true
   },
   "outputs": [],
   "source": [
    "# Saving new params:\n",
    "sc1_res_dict['ub'] = {'beta_j':model_sc1_ub.beta_j,\n",
    "                  'theta': model_sc1_ub.theta,\n",
    "                  'beta_behave': model_sc1_ub.beta_behave}"
   ]
  },
  {
   "cell_type": "markdown",
   "metadata": {
    "hidden": true
   },
   "source": [
    "### Fit LB"
   ]
  },
  {
   "cell_type": "code",
   "execution_count": null,
   "metadata": {
    "ExecuteTime": {
     "end_time": "2020-04-23T17:53:47.243837Z",
     "start_time": "2020-04-23T17:38:38.359690Z"
    },
    "hidden": true
   },
   "outputs": [],
   "source": [
    "# LB data:\n",
    "data_lb = data.copy()\n",
    "data_lb[1] = ((data[1]/mdl.pop_israel)*(1/3.))*mdl.pop_israel # beacuse the data_ub is 3 times bigger than data (on average)"
   ]
  },
  {
   "cell_type": "code",
   "execution_count": null,
   "metadata": {
    "ExecuteTime": {
     "end_time": "2020-04-23T17:23:38.749611Z",
     "start_time": "2020-04-23T17:23:38.742629Z"
    },
    "hidden": true
   },
   "outputs": [],
   "source": [
    "model_sc1_lb = mdl.Model_behave(\n",
    "    beta_j=np.array([0.02927922 ,0.02927922 ,0.02927922 ,0.04655266,0.04655266,0.05775265,0.05775265,0.18444245,0.18444245]),\n",
    "    theta=2.826729434860104,\n",
    "    beta_behave=0.5552998605894367,\n",
    "    eps=mdl.eps_sector['Scenario1'],\n",
    "    f=mdl.f0_full['Scenario1'],\n",
    ")"
   ]
  },
  {
   "cell_type": "code",
   "execution_count": null,
   "metadata": {
    "ExecuteTime": {
     "end_time": "2020-04-23T17:23:40.078499Z",
     "start_time": "2020-04-23T17:23:40.071967Z"
    },
    "hidden": true
   },
   "outputs": [],
   "source": [
    "# Model Fitting\n",
    "days_in_season=70\n",
    "p0=(0.15,0.07317271 ,0.09578334 ,0.21491134,1.5, 0.34196516) # initial guess\n",
    "bnds = ((0,0.2),(0,0.15),(0,0.15),(0,0.54),(1.0,3),(0,0.7))# boundries for variables"
   ]
  },
  {
   "cell_type": "code",
   "execution_count": null,
   "metadata": {
    "ExecuteTime": {
     "end_time": "2020-04-23T17:27:38.476642Z",
     "start_time": "2020-04-23T17:23:59.948779Z"
    },
    "hidden": true,
    "scrolled": true
   },
   "outputs": [],
   "source": [
    "res_fit_sc1_lb = model_sc1_lb.fit(\n",
    "        p0=p0,\n",
    "        bnds=bnds,\n",
    "        data=data_lb,\n",
    "        date_lst = date_lst,\n",
    "        days_in_season=days_in_season,\n",
    "        start='2020-02-26',\n",
    "        end='2020-04-09',\n",
    "        loss_func='MSE',\n",
    "        maxiter=400,\n",
    "        factor=1,\n",
    "    )"
   ]
  },
  {
   "cell_type": "code",
   "execution_count": null,
   "metadata": {
    "ExecuteTime": {
     "end_time": "2020-04-23T17:29:37.650828Z",
     "start_time": "2020-04-23T17:29:37.644844Z"
    },
    "hidden": true
   },
   "outputs": [],
   "source": [
    "mdl.print_stat_fit_behave(res_fit_sc1_lb)"
   ]
  },
  {
   "cell_type": "code",
   "execution_count": null,
   "metadata": {
    "ExecuteTime": {
     "end_time": "2020-04-23T17:31:55.922456Z",
     "start_time": "2020-04-23T17:31:55.382154Z"
    },
    "hidden": true
   },
   "outputs": [],
   "source": [
    "model_sc1_lb.reset()\n",
    "res_mdl_sc1_lb = model_sc1_lb.predict(\n",
    "    C=mdl.C_calibration,\n",
    "    days_in_season=200,\n",
    "    stay_home_idx=mdl.stay_home_idx,\n",
    "    not_routine=mdl.not_routine,\n",
    ")"
   ]
  },
  {
   "cell_type": "code",
   "execution_count": null,
   "metadata": {
    "ExecuteTime": {
     "end_time": "2020-04-23T17:32:27.204922Z",
     "start_time": "2020-04-23T17:32:20.837424Z"
    },
    "hidden": true
   },
   "outputs": [],
   "source": [
    "# plotting the data and model\n",
    "fig,ax = mdl.plot_calibrated_model_region(data=data_lb, \n",
    "                                          mdl_data = res_mdl_sc1_lb['new_Is'],\n",
    "                                          date_list = date_lst,\n",
    "                                          start='2020-02-29',\n",
    "                                          end='2020-04-12',\n",
    "                                          region_name = mdl.cell,\n",
    "                                          loss_func = 'MSE')\n",
    "fig.set_size_inches((30,30))\n",
    "plt.tight_layout()\n",
    "plt.show()"
   ]
  },
  {
   "cell_type": "code",
   "execution_count": null,
   "metadata": {
    "ExecuteTime": {
     "end_time": "2020-04-23T17:32:42.214328Z",
     "start_time": "2020-04-23T17:32:41.892650Z"
    },
    "hidden": true
   },
   "outputs": [],
   "source": [
    "# Creating table 1, by region:\n",
    "tabel_1_dict = {}\n",
    "for region in ['11_betshemesh','11','62_arab','51_bb','51','32','24']:\n",
    "    tabel_1_dict[mdl.cell[region]] = (res_mdl_sc1_lb['new_Is'][:, mdl.region_dict[region]].sum(axis=1))/mdl.population_size[mdl.region_dict[region]].sum()\n",
    "tabel1_df = pd.DataFrame.from_dict(tabel_1_dict)\n",
    "\n",
    "tabel1_df.iloc[:].plot()"
   ]
  },
  {
   "cell_type": "code",
   "execution_count": null,
   "metadata": {
    "ExecuteTime": {
     "end_time": "2020-04-23T17:32:50.874520Z",
     "start_time": "2020-04-23T17:32:50.673473Z"
    },
    "hidden": true,
    "scrolled": false
   },
   "outputs": [],
   "source": [
    "plt.plot(res_mdl_sc1_lb['Vents'].sum(axis=1)*9136000)"
   ]
  },
  {
   "cell_type": "code",
   "execution_count": null,
   "metadata": {
    "ExecuteTime": {
     "end_time": "2020-04-23T17:33:08.036998Z",
     "start_time": "2020-04-23T17:33:08.029021Z"
    },
    "hidden": true
   },
   "outputs": [],
   "source": [
    "res_mdl_sc1_lb['new_Is'].sum()"
   ]
  },
  {
   "cell_type": "code",
   "execution_count": null,
   "metadata": {
    "ExecuteTime": {
     "end_time": "2020-04-23T17:33:49.065756Z",
     "start_time": "2020-04-23T17:33:48.842283Z"
    },
    "hidden": true
   },
   "outputs": [],
   "source": [
    "mdl.plot_calibrated_total_model(pd.DataFrame(data_lb[1])/mdl.pop_israel,res_mdl_sc1_lb,date_lst,start='2020-02-26',end='2020-04-09')"
   ]
  },
  {
   "cell_type": "code",
   "execution_count": null,
   "metadata": {
    "ExecuteTime": {
     "end_time": "2020-04-23T17:35:16.487025Z",
     "start_time": "2020-04-23T17:35:16.481436Z"
    },
    "hidden": true
   },
   "outputs": [],
   "source": [
    "# Saving new params:\n",
    "sc1_res_dict['lb'] = {'beta_j':model_sc1_lb.beta_j,\n",
    "                  'theta': model_sc1_lb.theta,\n",
    "                  'beta_behave': model_sc1_lb.beta_behave}"
   ]
  },
  {
   "cell_type": "markdown",
   "metadata": {
    "hidden": true
   },
   "source": [
    "### Fit UB for different CIs"
   ]
  },
  {
   "cell_type": "code",
   "execution_count": null,
   "metadata": {
    "ExecuteTime": {
     "end_time": "2020-04-23T17:53:47.243837Z",
     "start_time": "2020-04-23T17:38:38.359690Z"
    },
    "hidden": true
   },
   "outputs": [],
   "source": [
    "all_calibrations = {}\n",
    "for percent,z in [('80%',0.842), ('75%',0.674), ('70%',0.524)]:\n",
    "    res_model = {}\n",
    "    print('======checking CI {}%======='.format(100 - (100-float(percent[:-1]))/2))\n",
    "    # calculate new data:\n",
    "    new_data = data.copy()\n",
    "    new_data[1] = ((data[1]/mdl.pop_israel) + z*model_std)*mdl.pop_israel\n",
    "    \n",
    "    # initializing model:\n",
    "    curr_mdl = mdl.Model_behave(\n",
    "    beta_j=np.array([0.02927922 ,0.02927922 ,0.02927922 ,0.04655266,0.04655266,0.05775265,0.05775265,0.18444245,0.18444245]),\n",
    "    theta=2.826729434860104,\n",
    "    beta_behave=0.5552998605894367,\n",
    "    eps=mdl.eps_sector['Scenario1'],\n",
    "    f=mdl.f0_full['Scenario1'],\n",
    "    sigma=1/4.4,\n",
    "    nu=0.1\n",
    "    )\n",
    "#      Model Fitting\n",
    "    days_in_season=70\n",
    "    p0=(0.15,0.07317271 ,0.09578334 ,0.21491134,1.5, 0.34196516) # initial guess\n",
    "    bnds = ((0,0.2),(0,0.15),(0,0.15),(0,0.54),(1.0,3),(0,0.7))# boundries for variabless\n",
    "    \n",
    "    res_fit_curr = curr_mdl.fit(\n",
    "        p0=p0,\n",
    "        bnds=bnds,\n",
    "        data=new_data,\n",
    "        date_lst = date_lst,\n",
    "        days_in_season=days_in_season,\n",
    "        start='2020-02-26',\n",
    "        end='2020-04-09',\n",
    "        loss_func='MSE',\n",
    "        maxiter=300,\n",
    "        factor=1,\n",
    "    )\n",
    "    mdl.print_stat_fit_behave(res_fit_curr)\n",
    "    \n",
    "    curr_mdl.reset()\n",
    "    res_mdl_curr = curr_mdl.predict(\n",
    "        C=mdl.C_calibration,\n",
    "        days_in_season=200,\n",
    "        stay_home_idx=mdl.stay_home_idx,\n",
    "        not_routine=mdl.not_routine,\n",
    "    )\n",
    "        \n",
    "        # plotting the data and model\n",
    "    fig,ax = mdl.plot_calibrated_model_region(data=new_data, \n",
    "                                              mdl_data = res_mdl_curr['new_Is'],\n",
    "                                              date_list = date_lst,\n",
    "                                              start='2020-02-26',\n",
    "                                              end='2020-04-09',\n",
    "                                              region_name = mdl.cell,\n",
    "                                              loss_func = 'MSE')\n",
    "    fig.set_size_inches((30,30))\n",
    "    plt.tight_layout()\n",
    "    plt.show()\n",
    "    \n",
    "    all_calibrations[percent] = {'beta_j':curr_mdl.beta_j, 'beta_behave':curr_mdl.beta_behave, 'theta':curr_mdl.theta}\n",
    "    \n",
    "    "
   ]
  },
  {
   "cell_type": "code",
   "execution_count": null,
   "metadata": {
    "ExecuteTime": {
     "end_time": "2020-04-23T18:25:04.461760Z",
     "start_time": "2020-04-23T18:25:04.456776Z"
    },
    "hidden": true
   },
   "outputs": [],
   "source": [
    "sc1_res_dict.update(all_calibrations)"
   ]
  },
  {
   "cell_type": "code",
   "execution_count": null,
   "metadata": {
    "ExecuteTime": {
     "end_time": "2020-04-23T18:25:08.807494Z",
     "start_time": "2020-04-23T18:25:08.796525Z"
    },
    "hidden": true
   },
   "outputs": [],
   "source": [
    "sc1_res_dict"
   ]
  },
  {
   "cell_type": "code",
   "execution_count": null,
   "metadata": {
    "ExecuteTime": {
     "end_time": "2020-04-23T18:31:51.427577Z",
     "start_time": "2020-04-23T18:31:51.419566Z"
    },
    "hidden": true
   },
   "outputs": [],
   "source": [
    "# Save calibrated params\n",
    "with open('../Data/calibration/calibration_sc1_dict.pickle', 'wb') as handle:\n",
    "    pickle.dump(sc1_res_dict, handle, protocol=pickle.HIGHEST_PROTOCOL)"
   ]
  },
  {
   "cell_type": "markdown",
   "metadata": {
    "heading_collapsed": true
   },
   "source": [
    "# Amit's fit"
   ]
  },
  {
   "cell_type": "markdown",
   "metadata": {
    "heading_collapsed": true,
    "hidden": true
   },
   "source": [
    "## Data old"
   ]
  },
  {
   "cell_type": "code",
   "execution_count": null,
   "metadata": {
    "ExecuteTime": {
     "end_time": "2020-04-19T04:14:47.073959Z",
     "start_time": "2020-04-19T04:14:47.068959Z"
    },
    "hidden": true
   },
   "outputs": [],
   "source": [
    "# data = pd.read_csv('../Data/sick/old_data2003_1304.csv', index_col=0)\n",
    "# data.head()"
   ]
  },
  {
   "cell_type": "markdown",
   "metadata": {
    "hidden": true
   },
   "source": [
    "## Scenario 2"
   ]
  },
  {
   "cell_type": "code",
   "execution_count": null,
   "metadata": {
    "ExecuteTime": {
     "end_time": "2020-04-19T04:14:48.046015Z",
     "start_time": "2020-04-19T04:14:48.038014Z"
    },
    "hidden": true
   },
   "outputs": [],
   "source": [
    "# fit params\n",
    "days_in_season=70\n",
    "date_lst = pd.date_range('2020-02-20',last)\n",
    "len(date_lst)"
   ]
  },
  {
   "cell_type": "code",
   "execution_count": null,
   "metadata": {
    "ExecuteTime": {
     "end_time": "2020-04-19T04:51:15.646138Z",
     "start_time": "2020-04-19T04:49:44.312914Z"
    },
    "hidden": true,
    "scrolled": true
   },
   "outputs": [],
   "source": [
    "# Model Fitting\n",
    "p0=(0.03574392,0.0680812,0.07149694,0.24919698,1.8512674898217287, 0.40194272460656777) # initial guess\n",
    "bnds = ((0,0.1),(0,0.15),(0,0.15),(0,0.3),(1.5,3),(0,0.6))# boundries for variables\n",
    "res_fit = []\n",
    "fitted_params = []\n",
    "fitted_beta = []\n",
    "theta = []\n",
    "######## Doind Exp:\n",
    "######## checking shift, different losses, and factors:\n",
    "for i, (factor, shift, loss) in enumerate(itertools.product(\n",
    "    [1 ,10 ,100, 500, 1000],\n",
    "    np.arange(-7, 7, 1),\n",
    "    ['MSE', 'BIN', 'POIS', 'POIS_NAIV'],\n",
    ")):\n",
    "    print('Checking combination: ', (factor, shift, loss))\n",
    "    #defining shift\n",
    "    pos_shift = pos.copy()\n",
    "    tot_shift = tot.copy()\n",
    "    pos_shift.index = pd.DatetimeIndex(pos.index + pd.DateOffset(shift))\n",
    "    tot_shift.index = pd.DatetimeIndex(tot.index + pd.DateOffset(shift))\n",
    "    pos_shift.index = pd.to_datetime(pos_shift.index)\n",
    "    tot_shift.index = pd.to_datetime(tot_shift.index)\n",
    "    min_d = max([pos_shift.index.values.min(), first])\n",
    "    max_d = min([pos_shift.index.values.max(), last])\n",
    "    pos_shift = pos_shift.loc[pd.date_range(min_d,max_d)]\n",
    "    tot_shift = tot_shift.loc[pd.date_range(min_d,max_d)]\n",
    "    \n",
    "    data = np.ndarray((2,len(pos_shift), len(mdl.GA.values())))\n",
    "    data[0] = tot_shift\n",
    "    data[1] = pos_shift\n",
    "    \n",
    "    res_fit.append(model.fit(\n",
    "        p0=p0,\n",
    "        bnds=bnds,\n",
    "        data=data,\n",
    "        date_lst = date_lst,\n",
    "        days_in_season=days_in_season,\n",
    "        start=min_d,\n",
    "        end=max_d,\n",
    "        loss_func=loss,\n",
    "        maxiter=300,\n",
    "        factor=factor,\n",
    "    ))\n",
    "    # errorfunc(tpl,data,f,season_length, eps, alpha)\n",
    "\n",
    "\n",
    "    fitted_params.append(res_fit.x)\n",
    "\n",
    "    # run the fitted model:\n",
    "    fitted_beta.append(np.array([fitted_params[0], fitted_params[0], fitted_params[0], fitted_params[1], fitted_params[1],\\\n",
    "                            fitted_params[2], fitted_params[2], fitted_params[3], fitted_params[3]]))\n",
    "    theta.append(fitted_params[4])\n",
    "    beta_behave.append(fitted_params[5])\n",
    "                        \n",
    "# print data stat\n",
    "mdl.print_stat_fit_behave(res_fit)\n"
   ]
  },
  {
   "cell_type": "code",
   "execution_count": null,
   "metadata": {
    "ExecuteTime": {
     "end_time": "2020-04-19T02:19:36.264684Z",
     "start_time": "2020-04-19T02:19:36.257683Z"
    },
    "hidden": true
   },
   "outputs": [],
   "source": [
    "# # last\n",
    "# fitted_beta = [0.08401885, 0.0498636, 0.04742293, 0.29044575]\n",
    "# fitted_beta = np.array([fitted_beta[0], fitted_beta[0], fitted_beta[0], \n",
    "#                    fitted_beta[1], fitted_beta[1], \n",
    "#                    fitted_beta[2], fitted_beta[2], \n",
    "#                    fitted_beta[3], fitted_beta[3]])\n",
    "# theta = 1.7884756534064268\n",
    "# beta_behave = 0.3114150965784499"
   ]
  },
  {
   "cell_type": "code",
   "execution_count": null,
   "metadata": {
    "ExecuteTime": {
     "end_time": "2020-04-19T02:19:37.134733Z",
     "start_time": "2020-04-19T02:19:37.129733Z"
    },
    "hidden": true
   },
   "outputs": [],
   "source": [
    "# model.update({\n",
    "#     'beta_j': fitted_beta,\n",
    "#     'theta': theta,\n",
    "#     'beta_behave': beta_behave,\n",
    "# })"
   ]
  },
  {
   "cell_type": "code",
   "execution_count": null,
   "metadata": {
    "ExecuteTime": {
     "end_time": "2020-04-19T03:49:24.101850Z",
     "start_time": "2020-04-19T03:49:23.247801Z"
    },
    "hidden": true
   },
   "outputs": [],
   "source": [
    "model.reset()\n",
    "res_mdl = model.predict(\n",
    "    C=mdl.C_calibration,\n",
    "    days_in_season=200,\n",
    "    stay_home_idx=mdl.stay_home_idx,\n",
    "    not_routine=mdl.not_routine,\n",
    ")"
   ]
  },
  {
   "cell_type": "code",
   "execution_count": null,
   "metadata": {
    "ExecuteTime": {
     "end_time": "2020-04-19T03:49:24.559876Z",
     "start_time": "2020-04-19T03:49:24.103850Z"
    },
    "hidden": true
   },
   "outputs": [],
   "source": [
    "mdl.plot_I_by_age(res_mdl)"
   ]
  },
  {
   "cell_type": "code",
   "execution_count": null,
   "metadata": {
    "ExecuteTime": {
     "end_time": "2020-04-19T03:49:24.569877Z",
     "start_time": "2020-04-19T03:49:24.561877Z"
    },
    "hidden": true
   },
   "outputs": [],
   "source": [
    "res_mdl['new_Is'].sum()"
   ]
  },
  {
   "cell_type": "code",
   "execution_count": null,
   "metadata": {
    "ExecuteTime": {
     "end_time": "2020-04-19T03:49:24.969900Z",
     "start_time": "2020-04-19T03:49:24.573877Z"
    },
    "hidden": true
   },
   "outputs": [],
   "source": [
    "plt.plot((res_mdl['L'].sum(axis=1)))"
   ]
  },
  {
   "cell_type": "code",
   "execution_count": null,
   "metadata": {
    "ExecuteTime": {
     "end_time": "2020-04-19T03:49:25.222914Z",
     "start_time": "2020-04-19T03:49:24.972900Z"
    },
    "hidden": true
   },
   "outputs": [],
   "source": [
    "plt.plot((res_mdl['H'].sum(axis=1))*9136000)"
   ]
  },
  {
   "cell_type": "code",
   "execution_count": null,
   "metadata": {
    "ExecuteTime": {
     "end_time": "2020-04-19T03:50:46.046537Z",
     "start_time": "2020-04-19T03:50:38.163086Z"
    },
    "hidden": true,
    "scrolled": false
   },
   "outputs": [],
   "source": [
    "# plotting the data and model\n",
    "fig,ax = mdl.plot_calibrated_model_region(data=data, \n",
    "                                          mdl_data = res_mdl['new_Is'],\n",
    "                                          date_list = date_lst,\n",
    "                                          start=first,\n",
    "                                          end=last,\n",
    "                                          region_name = mdl.cell,\n",
    "                                          loss_func = 'Pois_Naiv')\n",
    "fig.set_size_inches((30,30))\n",
    "plt.tight_layout()\n",
    "plt.show()"
   ]
  },
  {
   "cell_type": "code",
   "execution_count": null,
   "metadata": {
    "ExecuteTime": {
     "end_time": "2020-04-19T03:50:46.596569Z",
     "start_time": "2020-04-19T03:50:46.049537Z"
    },
    "hidden": true
   },
   "outputs": [],
   "source": [
    "# Creating table 1, by region:\n",
    "tabel_1_dict = {}\n",
    "for region in ['11_betshemesh','11','62_arab','51_bb','51','32','24']:\n",
    "    tabel_1_dict[mdl.cell[region]] = (res_mdl['new_Is'][:, mdl.region_dict[region]].sum(axis=1))/mdl.population_size[mdl.region_dict[region]].sum()\n",
    "tabel1_df = pd.DataFrame.from_dict(tabel_1_dict)\n",
    "\n",
    "tabel1_df.iloc[:].plot()"
   ]
  },
  {
   "cell_type": "markdown",
   "metadata": {
    "hidden": true
   },
   "source": [
    "## old fit results"
   ]
  },
  {
   "cell_type": "code",
   "execution_count": null,
   "metadata": {
    "ExecuteTime": {
     "end_time": "2020-04-19T01:43:08.555554Z",
     "start_time": "2020-04-19T01:43:08.542553Z"
    },
    "hidden": true
   },
   "outputs": [],
   "source": [
    "# best old fit results:\n",
    "# alpha=1\n",
    "# beta_j=np.array([0.02927922 ,0.02927922 ,0.02927922 ,0.04655266,0.04655266,0.05775265,0.05775265,0.18444245,0.18444245])\n",
    "# theta=2.826729434860104\n",
    "# beta_behave=0.5552998605894367\n",
    "fitted_beta = [0.08401885, 0.0498636, 0.04742293, 0.29044575]\n",
    "fitted_beta = np.array([beta_j[0], beta_j[0], beta_j[0], \n",
    "                   beta_j[1], beta_j[1], \n",
    "                   beta_j[2], beta_j[2], \n",
    "                   beta_j[3], beta_j[3]])\n",
    "theta = 1.7884756534064268\n",
    "beta_behave = 0.3114150965784499"
   ]
  },
  {
   "cell_type": "code",
   "execution_count": null,
   "metadata": {
    "ExecuteTime": {
     "end_time": "2020-04-18T21:52:00.985388Z",
     "start_time": "2020-04-18T21:52:00.125339Z"
    },
    "hidden": true
   },
   "outputs": [],
   "source": [
    "res_mdl = mdl.run_sector_model_behave(beta_home=0.38/9., theta=theta, beta_j=beta_j, beta_behave=beta_behave,\n",
    "                                        eps=mdl.eps_sector['Scenario2'], f=mdl.f0_full['Scenario2'], alpha=alpha, \n",
    "                                        days_in_season=175, nu=1/10.)"
   ]
  },
  {
   "cell_type": "code",
   "execution_count": null,
   "metadata": {
    "ExecuteTime": {
     "end_time": "2020-04-18T21:52:01.571422Z",
     "start_time": "2020-04-18T21:52:00.987388Z"
    },
    "hidden": true
   },
   "outputs": [],
   "source": [
    "mdl.plot_I_by_age(res_mdl)"
   ]
  },
  {
   "cell_type": "code",
   "execution_count": null,
   "metadata": {
    "ExecuteTime": {
     "end_time": "2020-04-18T21:52:04.042563Z",
     "start_time": "2020-04-18T21:52:04.033562Z"
    },
    "hidden": true
   },
   "outputs": [],
   "source": [
    "res_mdl['new_Is'].sum()"
   ]
  },
  {
   "cell_type": "code",
   "execution_count": null,
   "metadata": {
    "ExecuteTime": {
     "end_time": "2020-04-18T21:52:10.524934Z",
     "start_time": "2020-04-18T21:52:10.304921Z"
    },
    "hidden": true
   },
   "outputs": [],
   "source": [
    "plt.plot((res_mdl['L'].sum(axis=1)))"
   ]
  },
  {
   "cell_type": "code",
   "execution_count": null,
   "metadata": {
    "ExecuteTime": {
     "end_time": "2020-04-18T21:52:12.463045Z",
     "start_time": "2020-04-18T21:52:12.169028Z"
    },
    "hidden": true
   },
   "outputs": [],
   "source": [
    "plt.plot((res_mdl['H'].sum(axis=1))*9136000)"
   ]
  },
  {
   "cell_type": "code",
   "execution_count": null,
   "metadata": {
    "ExecuteTime": {
     "end_time": "2020-04-15T20:56:50.206256Z",
     "start_time": "2020-04-15T20:56:44.372129Z"
    },
    "hidden": true
   },
   "outputs": [],
   "source": [
    "# plotting the data and model\n",
    "fig,ax = mdl.plot_calibrated_model_region(data=data.values, mdl_data = res_mdl['new_Is'],date_list = date_lst,\n",
    "                                         start='2020-03-12',end='2020-04-05')\n",
    "fig.set_size_inches((30,30))\n",
    "plt.tight_layout()\n",
    "plt.show()"
   ]
  },
  {
   "cell_type": "code",
   "execution_count": null,
   "metadata": {
    "ExecuteTime": {
     "end_time": "2020-04-15T20:56:58.201512Z",
     "start_time": "2020-04-15T20:56:57.921647Z"
    },
    "hidden": true
   },
   "outputs": [],
   "source": [
    "mdl.plot_calibrated_total_model(data=data, mdl_data=res_mdl, date_list=date_lst, \n",
    "                            start='2020-03-12', end='2020-04-05')"
   ]
  },
  {
   "cell_type": "code",
   "execution_count": null,
   "metadata": {
    "ExecuteTime": {
     "end_time": "2020-04-17T05:57:48.027736Z",
     "start_time": "2020-04-17T05:57:47.767628Z"
    },
    "hidden": true
   },
   "outputs": [],
   "source": [
    "# Creating table 1, by region:\n",
    "tabel_1_dict = {}\n",
    "for region in ['11_betshemesh','11','62_arab','51_bb','51','32','24']:\n",
    "    tabel_1_dict[mdl.region_name[region]] = (res_mdl['new_Is'][:, mdl.region_dict[region]].sum(axis=1))/mdl.population_size[mdl.region_dict[region]].sum()\n",
    "tabel1_df = pd.DataFrame.from_dict(tabel_1_dict)\n",
    "\n",
    "tabel1_df.iloc[:].plot()"
   ]
  },
  {
   "cell_type": "code",
   "execution_count": null,
   "metadata": {
    "ExecuteTime": {
     "end_time": "2020-04-15T20:59:13.259237Z",
     "start_time": "2020-04-15T20:59:13.251283Z"
    },
    "hidden": true
   },
   "outputs": [],
   "source": [
    "res_mdl['new_Is'].sum()"
   ]
  },
  {
   "cell_type": "code",
   "execution_count": null,
   "metadata": {
    "hidden": true
   },
   "outputs": [],
   "source": [
    "ven_proba = pd.read_csv('Data/vent_proba.csv')\n",
    "# Creating table 1, by region:\n",
    "tabel_1_dict = {}\n",
    "for region in ['11_betshemesh','11','62_arab','51_bb','51','32','24']:\n",
    "    tabel_1_dict[mdl.region_name[region]] = (res_mdl['new_Is'][:, mdl.region_dict[region]].sum(axis=1))/mdl.population_size[mdl.region_dict[region]].sum()\n",
    "tabel1_df = pd.DataFrame.from_dict(tabel_1_dict)\n",
    "\n",
    "tabel1_df.iloc[:].plot()"
   ]
  },
  {
   "cell_type": "code",
   "execution_count": null,
   "metadata": {
    "ExecuteTime": {
     "end_time": "2020-04-15T20:57:53.712240Z",
     "start_time": "2020-04-15T20:57:53.442869Z"
    },
    "hidden": true
   },
   "outputs": [],
   "source": [
    "plt.plot((res_mdl['H'].sum(axis=1))*9136000)"
   ]
  },
  {
   "cell_type": "code",
   "execution_count": null,
   "metadata": {
    "ExecuteTime": {
     "end_time": "2020-04-15T21:00:42.126826Z",
     "start_time": "2020-04-15T21:00:42.115609Z"
    },
    "hidden": true
   },
   "outputs": [],
   "source": [
    "(res_mdl['H'].sum(axis=1))[56]*9136000"
   ]
  },
  {
   "cell_type": "code",
   "execution_count": null,
   "metadata": {
    "ExecuteTime": {
     "end_time": "2020-04-15T21:00:44.486151Z",
     "start_time": "2020-04-15T21:00:44.476623Z"
    },
    "hidden": true
   },
   "outputs": [],
   "source": [
    "((res_mdl['Is'][:, mdl.age_dict['70+']].sum(axis=1))[56]+(res_mdl['Is'][:, mdl.age_dict['60-69']].sum(axis=1))[56])/(res_mdl['Is'][:].sum(axis=1))[56]"
   ]
  },
  {
   "cell_type": "code",
   "execution_count": null,
   "metadata": {
    "ExecuteTime": {
     "end_time": "2020-04-15T21:00:46.761345Z",
     "start_time": "2020-04-15T21:00:46.754783Z"
    },
    "hidden": true
   },
   "outputs": [],
   "source": [
    "(res_mdl['R'].sum(axis=1))[56]*9136000*0.3"
   ]
  },
  {
   "cell_type": "markdown",
   "metadata": {
    "heading_collapsed": true,
    "hidden": true
   },
   "source": [
    "### Data with variance"
   ]
  },
  {
   "cell_type": "code",
   "execution_count": null,
   "metadata": {
    "ExecuteTime": {
     "end_time": "2020-04-15T21:00:52.392723Z",
     "start_time": "2020-04-15T21:00:52.387733Z"
    },
    "hidden": true
   },
   "outputs": [],
   "source": [
    "start_idx = int(np.where(date_lst == '2020-03-12')[0])\n",
    "end_idx = int(np.where(date_lst == '2020-04-05')[0])"
   ]
  },
  {
   "cell_type": "code",
   "execution_count": null,
   "metadata": {
    "ExecuteTime": {
     "end_time": "2020-04-15T21:02:32.857369Z",
     "start_time": "2020-04-15T21:02:32.834398Z"
    },
    "hidden": true
   },
   "outputs": [],
   "source": [
    "model_by_age_region = {}\n",
    "for i, key in enumerate(mdl.region_age_dict.keys()):\n",
    "    model_by_age_region[key[0] + '_' + key[1] + '_mdl'] = res_mdl['new_Is'][start_idx:end_idx+1, mdl.region_age_dict[key]].sum(axis=1)\n",
    "model_by_age_region = pd.DataFrame.from_dict(model_by_age_region)"
   ]
  },
  {
   "cell_type": "code",
   "execution_count": null,
   "metadata": {
    "ExecuteTime": {
     "end_time": "2020-04-15T21:02:52.312549Z",
     "start_time": "2020-04-15T21:02:52.306846Z"
    },
    "hidden": true
   },
   "outputs": [],
   "source": [
    "# Calculating model variance:\n",
    "std = np.sqrt((np.power(data.values - model_by_age_region.values,2).sum())/(data.values.size - 1))"
   ]
  },
  {
   "cell_type": "code",
   "execution_count": null,
   "metadata": {
    "ExecuteTime": {
     "end_time": "2020-04-15T21:02:55.220501Z",
     "start_time": "2020-04-15T21:02:55.214516Z"
    },
    "hidden": true
   },
   "outputs": [],
   "source": [
    "std"
   ]
  },
  {
   "cell_type": "markdown",
   "metadata": {
    "hidden": true
   },
   "source": [
    "### Upper bound calibration"
   ]
  },
  {
   "cell_type": "code",
   "execution_count": null,
   "metadata": {
    "hidden": true
   },
   "outputs": [],
   "source": [
    "# minimized value: -25.112767900678186\n",
    "# Fitted parameters:\n",
    "#  Beta=[0.03030602 0.05262323 0.06149524 0.2050433 ]\n",
    "#  Theta=2.328913039368483,\n",
    "#  Beta_behave=0.5297713948054046\n",
    "# num of sampling the target function: 173"
   ]
  },
  {
   "cell_type": "code",
   "execution_count": null,
   "metadata": {
    "ExecuteTime": {
     "end_time": "2020-04-15T21:02:59.584387Z",
     "start_time": "2020-04-15T21:02:59.506595Z"
    },
    "hidden": true
   },
   "outputs": [],
   "source": [
    "# Calculating data with adding std\n",
    "ub_data = data + 2*std"
   ]
  },
  {
   "cell_type": "code",
   "execution_count": null,
   "metadata": {
    "ExecuteTime": {
     "end_time": "2020-04-17T06:11:05.979741Z",
     "start_time": "2020-04-17T06:11:05.973756Z"
    },
    "hidden": true
   },
   "outputs": [],
   "source": [
    "# fit params\n",
    "days_in_season_ub=70\n",
    "alpha_ub=1\n",
    "date_lst = pd.date_range('2020-02-20','2020-04-13')"
   ]
  },
  {
   "cell_type": "code",
   "execution_count": null,
   "metadata": {
    "ExecuteTime": {
     "end_time": "2020-04-15T21:14:41.039965Z",
     "start_time": "2020-04-15T21:03:06.354381Z"
    },
    "hidden": true
   },
   "outputs": [],
   "source": [
    "# Model Fitting\n",
    "p0=(0.06862921,0.07089788,0.08567678,0.3,1.5103006972556037, 0.4293725726208387) # initial guess\n",
    "bnds = ((0,0.1),(0,0.15),(0,0.15),(0,0.6),(1,3),(0,1))# boundries for variables\n",
    "# errorfunc(tpl,data,f,season_length, eps, alpha)\n",
    "res_fit_ub= optimize.minimize(mdl.errorfunc_by_sector_behavior,p0,bounds=bnds,method='TNC',args=(ub_data.values,mdl.f0_full['Scenario2'],\n",
    "                                                                           days_in_season_ub,mdl.eps_sector['Scenario2'],alpha_ub,date_lst,\n",
    "                                                                                    '2020-03-12-','2020-04-05')\n",
    "                           ,options={'maxiter':1000})\n",
    "\n",
    "fitted_params_ub = res_fit_ub.x\n",
    "\n",
    "# run the fitted model:\n",
    "fitted_beta_ub = np.array([fitted_params_ub[0], fitted_params_ub[0], fitted_params_ub[0], fitted_params_ub[1], fitted_params_ub[1],\\\n",
    "                        fitted_params_ub[2], fitted_params_ub[2], fitted_params_ub[3], fitted_params_ub[3]])\n",
    "theta_ub = fitted_params_ub[4]\n",
    "beta_behave_ub = fitted_params_ub[5]\n",
    "                        \n",
    "# print data stat\n",
    "mdl.print_stat_fit_behave(res_fit_ub)"
   ]
  },
  {
   "cell_type": "code",
   "execution_count": null,
   "metadata": {
    "ExecuteTime": {
     "end_time": "2020-04-17T06:11:06.231067Z",
     "start_time": "2020-04-17T06:11:06.226081Z"
    },
    "hidden": true,
    "run_control": {
     "marked": true
    }
   },
   "outputs": [],
   "source": [
    "# best fit results:\n",
    "beta_j_ub=np.array([0.06872524,0.06872524,0.06872524,0.07058089,0.07058089,0.0849962,0.0849962,0.35823708,0.35823708])\n",
    "theta_ub=1.5147969877267358\n",
    "beta_behave_ub=0.4195811609779443"
   ]
  },
  {
   "cell_type": "code",
   "execution_count": null,
   "metadata": {
    "ExecuteTime": {
     "end_time": "2020-04-17T06:11:08.139211Z",
     "start_time": "2020-04-17T06:11:06.551400Z"
    },
    "hidden": true
   },
   "outputs": [],
   "source": [
    "res_mdl_ub = mdl.run_sector_model_behavior(beta_home=0.38/9., theta=theta_ub, beta_j=beta_j_ub, beta_behave=beta_behave_ub,\n",
    "                                        eps=mdl.eps_sector['Scenario2'], f=mdl.f0_full['Scenario2'], alpha=alpha_ub, \n",
    "                                        days_in_season=175,new=1./10.)"
   ]
  },
  {
   "cell_type": "code",
   "execution_count": null,
   "metadata": {
    "ExecuteTime": {
     "end_time": "2020-04-15T21:17:30.082350Z",
     "start_time": "2020-04-15T21:17:24.755872Z"
    },
    "hidden": true
   },
   "outputs": [],
   "source": [
    "# plotting the data and model\n",
    "fig,ax = mdl.plot_calibrated_model_region(data=ub_data.values, mdl_data = res_mdl_ub['new_Is'],date_list = date_lst,\n",
    "                                         start='2020-03-12',end='2020-04-05')\n",
    "fig.set_size_inches((30,30))\n",
    "plt.tight_layout()\n",
    "plt.show()"
   ]
  },
  {
   "cell_type": "code",
   "execution_count": null,
   "metadata": {
    "ExecuteTime": {
     "end_time": "2020-04-15T22:39:36.800018Z",
     "start_time": "2020-04-15T22:39:36.784035Z"
    },
    "hidden": true
   },
   "outputs": [],
   "source": [
    "mdl.plot_calibrated_total_model(data=ub_data, mdl_data=res_mdl_ub, date_list=date_lst, \n",
    "                            start='2020-03-12', end='2020-04-05')"
   ]
  },
  {
   "cell_type": "code",
   "execution_count": null,
   "metadata": {
    "ExecuteTime": {
     "end_time": "2020-04-15T21:17:42.487147Z",
     "start_time": "2020-04-15T21:17:42.477952Z"
    },
    "hidden": true
   },
   "outputs": [],
   "source": [
    "res_mdl_ub['new_Is'].sum()"
   ]
  },
  {
   "cell_type": "code",
   "execution_count": null,
   "metadata": {
    "ExecuteTime": {
     "end_time": "2020-04-17T03:34:17.705911Z",
     "start_time": "2020-04-17T03:34:17.498988Z"
    },
    "hidden": true
   },
   "outputs": [],
   "source": [
    "plt.plot((res_mdl_ub['H'].sum(axis=1))*9136000)"
   ]
  },
  {
   "cell_type": "code",
   "execution_count": null,
   "metadata": {
    "hidden": true
   },
   "outputs": [],
   "source": []
  },
  {
   "cell_type": "markdown",
   "metadata": {
    "hidden": true
   },
   "source": [
    "### Lower bound"
   ]
  },
  {
   "cell_type": "code",
   "execution_count": null,
   "metadata": {
    "ExecuteTime": {
     "end_time": "2020-04-15T21:49:13.750582Z",
     "start_time": "2020-04-15T21:49:13.668803Z"
    },
    "hidden": true
   },
   "outputs": [],
   "source": [
    "# Calculating data with adding std\n",
    "lb_data = data*0.5"
   ]
  },
  {
   "cell_type": "code",
   "execution_count": null,
   "metadata": {
    "ExecuteTime": {
     "end_time": "2020-04-17T06:13:00.484266Z",
     "start_time": "2020-04-17T06:13:00.478284Z"
    },
    "hidden": true
   },
   "outputs": [],
   "source": [
    "# fit params\n",
    "days_in_season_lb=70\n",
    "alpha_lb=1\n",
    "date_lst = pd.date_range('2020-02-20','2020-04-13')"
   ]
  },
  {
   "cell_type": "code",
   "execution_count": null,
   "metadata": {
    "ExecuteTime": {
     "end_time": "2020-04-15T22:23:48.210621Z",
     "start_time": "2020-04-15T21:49:18.440060Z"
    },
    "hidden": true
   },
   "outputs": [],
   "source": [
    "# Model Fitting\n",
    "p0=(0.06862921,0.07089788,0.08567678,0.3,1.5103006972556037, 0.4293725726208387) # initial guess\n",
    "bnds = ((0,0.1),(0,0.15),(0,0.15),(0,0.6),(1,3),(0,1))# boundries for variables\n",
    "# errorfunc(tpl,data,f,season_length, eps, alpha)\n",
    "res_fit_lb= optimize.minimize(mdl.errorfunc_by_sector_behavior,p0,bounds=bnds,method='TNC',args=(lb_data.values,mdl.f0_full['Scenario2'],\n",
    "                                                                           days_in_season_ub,mdl.eps_sector['Scenario2'],alpha_ub,date_lst,\n",
    "                                                                                    '2020-03-12-','2020-04-05')\n",
    "                           ,options={'maxiter':1000})\n",
    "\n",
    "fitted_params_lb = res_fit_lb.x\n",
    "\n",
    "# run the fitted model:\n",
    "fitted_beta_lb = np.array([fitted_params_lb[0], fitted_params_lb[0], fitted_params_lb[0], fitted_params_lb[1], fitted_params_lb[1],\\\n",
    "                        fitted_params_lb[2], fitted_params_lb[2], fitted_params_lb[3], fitted_params_lb[3]])\n",
    "theta_lb = fitted_params_lb[4]\n",
    "beta_behave_lb = fitted_params_lb[5]\n",
    "                        \n",
    "# print data stat\n",
    "mdl.print_stat_fit_behave(res_fit_lb)"
   ]
  },
  {
   "cell_type": "code",
   "execution_count": null,
   "metadata": {
    "ExecuteTime": {
     "end_time": "2020-04-17T06:13:02.909765Z",
     "start_time": "2020-04-17T06:13:02.903819Z"
    },
    "hidden": true,
    "run_control": {
     "marked": true
    }
   },
   "outputs": [],
   "source": [
    "# best fit results:\n",
    "beta_j_lb=np.array([0.01684003,0.01684003,0.01684003,0.03004164,0.03004164,0.03680587,0.03680587,0.11561031,0.11561031])\n",
    "theta_lb=3.0\n",
    "beta_behave_lb=0.8029761250996457"
   ]
  },
  {
   "cell_type": "code",
   "execution_count": null,
   "metadata": {
    "ExecuteTime": {
     "end_time": "2020-04-17T06:13:05.095857Z",
     "start_time": "2020-04-17T06:13:03.455379Z"
    },
    "hidden": true
   },
   "outputs": [],
   "source": [
    "res_mdl_lb = mdl.run_sector_model_behavior(beta_home=0.38/9., theta=theta_lb, beta_j=beta_j_lb, beta_behave=beta_behave_lb,\n",
    "                                        eps=mdl.eps_sector['Scenario2'], f=mdl.f0_full['Scenario2'], alpha=alpha_lb, \n",
    "                                        days_in_season=175,new=1./10.)"
   ]
  },
  {
   "cell_type": "code",
   "execution_count": null,
   "metadata": {
    "ExecuteTime": {
     "end_time": "2020-04-15T22:25:32.864803Z",
     "start_time": "2020-04-15T22:25:27.100941Z"
    },
    "hidden": true
   },
   "outputs": [],
   "source": [
    "# plotting the data and model\n",
    "fig,ax = mdl.plot_calibrated_model_region(data=lb_data.values, mdl_data = res_mdl_lb['new_Is'],date_list = date_lst,\n",
    "                                         start='2020-03-12',end='2020-04-05')\n",
    "fig.set_size_inches((30,30))\n",
    "plt.tight_layout()\n",
    "plt.show()"
   ]
  },
  {
   "cell_type": "code",
   "execution_count": null,
   "metadata": {
    "ExecuteTime": {
     "end_time": "2020-04-15T22:25:48.669425Z",
     "start_time": "2020-04-15T22:25:48.339748Z"
    },
    "hidden": true
   },
   "outputs": [],
   "source": [
    "mdl.plot_calibrated_total_model(data=lb_data, mdl_data=res_mdl_lb, date_list=date_lst, \n",
    "                            start='2020-03-12', end='2020-04-05')"
   ]
  },
  {
   "cell_type": "code",
   "execution_count": null,
   "metadata": {
    "ExecuteTime": {
     "end_time": "2020-04-15T21:17:42.487147Z",
     "start_time": "2020-04-15T21:17:42.477952Z"
    },
    "hidden": true
   },
   "outputs": [],
   "source": [
    "res_mdl_ub['new_Is'].sum()"
   ]
  },
  {
   "cell_type": "code",
   "execution_count": null,
   "metadata": {
    "ExecuteTime": {
     "end_time": "2020-04-15T22:40:00.200802Z",
     "start_time": "2020-04-15T22:39:59.919590Z"
    },
    "hidden": true
   },
   "outputs": [],
   "source": [
    "plt.plot((res_mdl_lb['H'].sum(axis=1))*9136000)"
   ]
  },
  {
   "cell_type": "markdown",
   "metadata": {
    "ExecuteTime": {
     "end_time": "2020-04-15T22:40:59.796976Z",
     "start_time": "2020-04-15T22:40:59.792025Z"
    },
    "heading_collapsed": true
   },
   "source": [
    "# 60+ in Quarantine"
   ]
  },
  {
   "cell_type": "code",
   "execution_count": null,
   "metadata": {
    "ExecuteTime": {
     "end_time": "2020-04-17T06:13:11.409521Z",
     "start_time": "2020-04-17T06:13:11.395596Z"
    },
    "hidden": true
   },
   "outputs": [],
   "source": [
    "inter_age = mdl.get_opposite_dict(mdl.N,list(itertools.product(mdl.M.values(), mdl.A.values())))"
   ]
  },
  {
   "cell_type": "code",
   "execution_count": null,
   "metadata": {
    "ExecuteTime": {
     "end_time": "2020-04-17T03:24:19.723710Z",
     "start_time": "2020-04-17T03:24:19.715695Z"
    },
    "hidden": true
   },
   "outputs": [],
   "source": [
    "inter_age.keys()"
   ]
  },
  {
   "cell_type": "code",
   "execution_count": null,
   "metadata": {
    "ExecuteTime": {
     "end_time": "2020-04-17T06:13:12.856333Z",
     "start_time": "2020-04-17T06:13:12.852348Z"
    },
    "hidden": true
   },
   "outputs": [],
   "source": [
    "# age_lst = ['0-4']\n",
    "age_lst = ['0-4','5-9','10-19','20-29','30-39','40-49','50-59']"
   ]
  },
  {
   "cell_type": "code",
   "execution_count": null,
   "metadata": {
    "ExecuteTime": {
     "end_time": "2020-04-17T06:13:19.730619Z",
     "start_time": "2020-04-17T06:13:19.723671Z"
    },
    "code_folding": [],
    "hidden": true
   },
   "outputs": [],
   "source": [
    "# new S\n",
    "init_pop = res_mdl_lb['S'][56,:].copy()\n",
    "for age in mdl.A.values():\n",
    "#     if age not in ['60-69','70+']:\n",
    "    if age  in age_lst:\n",
    "        init_pop[inter_age['Intervention',age]] = init_pop[inter_age['Non-intervention',age]]\n",
    "        init_pop[inter_age['Non-intervention',age]] = 0"
   ]
  },
  {
   "cell_type": "code",
   "execution_count": null,
   "metadata": {
    "ExecuteTime": {
     "end_time": "2020-04-17T06:13:20.653696Z",
     "start_time": "2020-04-17T06:13:20.647751Z"
    },
    "hidden": true
   },
   "outputs": [],
   "source": [
    "# new E\n",
    "init_E = res_mdl_lb['E'][56,:].copy()\n",
    "for age in mdl.A.values():\n",
    "#     if age not in ['60-69','70+']:\n",
    "    if age  in age_lst:\n",
    "        init_E[inter_age['Intervention',age]] = init_E[inter_age['Non-intervention',age]]\n",
    "        init_E[inter_age['Non-intervention',age]] = 0"
   ]
  },
  {
   "cell_type": "code",
   "execution_count": null,
   "metadata": {
    "ExecuteTime": {
     "end_time": "2020-04-17T06:13:23.444015Z",
     "start_time": "2020-04-17T06:13:23.435040Z"
    },
    "hidden": true
   },
   "outputs": [],
   "source": [
    "# new Ie\n",
    "init_Ie = res_mdl_lb['Ie'][56,:].copy()\n",
    "for age in mdl.A.values():\n",
    "#     if age not in ['60-69','70+']:\n",
    "    if age  in age_lst:\n",
    "        init_Ie[inter_age['Intervention',age]] = init_Ie[inter_age['Non-intervention',age]]\n",
    "        init_Ie[inter_age['Non-intervention',age]] = 0"
   ]
  },
  {
   "cell_type": "code",
   "execution_count": null,
   "metadata": {
    "ExecuteTime": {
     "end_time": "2020-04-17T06:13:26.499534Z",
     "start_time": "2020-04-17T06:13:26.492565Z"
    },
    "hidden": true
   },
   "outputs": [],
   "source": [
    "#new Is\n",
    "init_Is = res_mdl_lb['Is'][56,:].copy()\n",
    "for age in mdl.A.values():\n",
    "#     if age not in ['60-69','70+']:\n",
    "    if age  in age_lst:\n",
    "        init_Is[inter_age['Intervention',age]] = init_Is[inter_age['Non-intervention',age]]\n",
    "        init_Is[inter_age['Non-intervention',age]] = 0"
   ]
  },
  {
   "cell_type": "code",
   "execution_count": null,
   "metadata": {
    "ExecuteTime": {
     "end_time": "2020-04-17T06:13:29.860685Z",
     "start_time": "2020-04-17T06:13:29.852720Z"
    },
    "hidden": true
   },
   "outputs": [],
   "source": [
    "#new Ia\n",
    "init_Ia = res_mdl_lb['Ia'][56,:].copy()\n",
    "for age in mdl.A.values():\n",
    "#     if age not in ['60-69','70+']:\n",
    "    if age  in age_lst:\n",
    "        init_Ia[inter_age['Intervention',age]] = init_Ia[inter_age['Non-intervention',age]]\n",
    "        init_Ia[inter_age['Non-intervention',age]] = 0"
   ]
  },
  {
   "cell_type": "code",
   "execution_count": null,
   "metadata": {
    "ExecuteTime": {
     "end_time": "2020-04-17T06:13:33.261414Z",
     "start_time": "2020-04-17T06:13:31.720943Z"
    },
    "hidden": true
   },
   "outputs": [],
   "source": [
    "with open('Data/parameters/C_quarantine_60_70.pickle', 'rb') as pickle_in:\n",
    "    C = pickle.load(pickle_in)"
   ]
  },
  {
   "cell_type": "code",
   "execution_count": null,
   "metadata": {
    "ExecuteTime": {
     "end_time": "2020-04-17T06:13:57.729324Z",
     "start_time": "2020-04-17T06:13:52.497803Z"
    },
    "hidden": true,
    "run_control": {
     "marked": true
    }
   },
   "outputs": [],
   "source": [
    "res_mdl_60_70 = mdl.continue_run_sector_model_behavior(model_res=res_mdl_lb,t_start=56,intervention=True,C=C,\n",
    "                                  beta_home=0.38/9., theta=1.0, beta_j=beta_j_lb, beta_behave=beta_behave_lb,\n",
    "                                        eps=mdl.eps_sector['Scenario2'], f=mdl.f0_full['Scenario2'], alpha=alpha_lb, \n",
    "                                        days_in_season=120, new=1/10., new_pop_dist=init_pop, new_E=init_E, new_I_e=init_Ie,\n",
    "                                                      new_I_s=init_Is, new_I_a=init_Ia)"
   ]
  },
  {
   "cell_type": "code",
   "execution_count": null,
   "metadata": {
    "ExecuteTime": {
     "end_time": "2020-04-17T06:14:02.577626Z",
     "start_time": "2020-04-17T06:14:02.568131Z"
    },
    "hidden": true
   },
   "outputs": [],
   "source": [
    "res_mdl_60_70['new_Is'].sum()"
   ]
  },
  {
   "cell_type": "code",
   "execution_count": null,
   "metadata": {
    "ExecuteTime": {
     "end_time": "2020-04-16T19:01:14.912843Z",
     "start_time": "2020-04-16T19:01:14.685420Z"
    },
    "hidden": true
   },
   "outputs": [],
   "source": [
    "plt.plot(res_mdl_60_70['L'][:,mdl.age_ga_dict['50-59']].sum(axis=1))"
   ]
  },
  {
   "cell_type": "code",
   "execution_count": null,
   "metadata": {
    "ExecuteTime": {
     "end_time": "2020-04-16T18:43:21.399218Z",
     "start_time": "2020-04-16T18:43:21.391781Z"
    },
    "hidden": true
   },
   "outputs": [],
   "source": [
    "res_mdl_60_70['L'][:,mdl.age_ga_dict['70+']].sum(axis=0)"
   ]
  },
  {
   "cell_type": "code",
   "execution_count": null,
   "metadata": {
    "ExecuteTime": {
     "end_time": "2020-04-17T06:01:50.180336Z",
     "start_time": "2020-04-17T06:01:49.964869Z"
    },
    "hidden": true
   },
   "outputs": [],
   "source": [
    "plt.plot((res_mdl_60_70['H'].sum(axis=1)[:])*9136000)"
   ]
  },
  {
   "cell_type": "code",
   "execution_count": null,
   "metadata": {
    "ExecuteTime": {
     "end_time": "2020-04-17T06:14:20.764428Z",
     "start_time": "2020-04-17T06:14:20.737823Z"
    },
    "hidden": true
   },
   "outputs": [],
   "source": [
    "# Save\n",
    "with open('Data/parameters/low_60_70.pickle', 'wb') as handle:\n",
    "    pickle.dump(res_mdl_60_70, handle, protocol=pickle.HIGHEST_PROTOCOL)"
   ]
  },
  {
   "cell_type": "code",
   "execution_count": null,
   "metadata": {
    "ExecuteTime": {
     "end_time": "2020-04-17T05:56:58.157282Z",
     "start_time": "2020-04-17T05:56:57.823332Z"
    },
    "hidden": true
   },
   "outputs": [],
   "source": [
    "# Creating table 1, by region:\n",
    "tabel_1_dict = {}\n",
    "for region in ['11_betshemesh','11','62_arab','51_bb','51','32','24']:\n",
    "    tabel_1_dict[mdl.region_name[region]] = (res_mdl_60_70['new_Is'][:, mdl.region_dict[region]].sum(axis=1))/mdl.population_size[mdl.region_dict[region]].sum()\n",
    "tabel1_df = pd.DataFrame.from_dict(tabel_1_dict)\n",
    "\n",
    "tabel1_df.iloc[:].plot()"
   ]
  },
  {
   "cell_type": "markdown",
   "metadata": {
    "heading_collapsed": true
   },
   "source": [
    "# Data for dashboard"
   ]
  },
  {
   "cell_type": "code",
   "execution_count": null,
   "metadata": {
    "ExecuteTime": {
     "end_time": "2020-04-17T06:19:05.684728Z",
     "start_time": "2020-04-17T06:19:05.624834Z"
    },
    "hidden": true
   },
   "outputs": [],
   "source": [
    "with open('Data/parameters/low_60_70.pickle', 'rb') as pickle_in:\n",
    "    res_low = pickle.load(pickle_in)\n",
    "\n",
    "with open('Data/parameters/high_60_70.pickle', 'rb') as pickle_in:\n",
    "    res_high = pickle.load(pickle_in)\n",
    "    \n",
    "with open('Data/parameters/normal_60_70.pickle', 'rb') as pickle_in:\n",
    "    res_normal = pickle.load(pickle_in)"
   ]
  },
  {
   "cell_type": "code",
   "execution_count": null,
   "metadata": {
    "ExecuteTime": {
     "end_time": "2020-04-17T06:19:10.197536Z",
     "start_time": "2020-04-17T06:19:10.191552Z"
    },
    "hidden": true
   },
   "outputs": [],
   "source": [
    "date_rang = pd.date_range('2020-02-20', periods=176, freq='d')"
   ]
  },
  {
   "cell_type": "code",
   "execution_count": null,
   "metadata": {
    "ExecuteTime": {
     "end_time": "2020-04-17T06:19:14.652817Z",
     "start_time": "2020-04-17T06:19:14.640302Z"
    },
    "hidden": true
   },
   "outputs": [],
   "source": [
    "age_dist_area = pd.read_csv('../Data/demograph/age_dist_area.csv',index_col=0).iloc[0:20][['0-4', '5-9', '10-19', '20-29', '30-39', '40-49', '50-59', '60-69', '70+']].copy()\n",
    "age_dist_area = age_dist_area.sum(axis=1)"
   ]
  },
  {
   "cell_type": "code",
   "execution_count": null,
   "metadata": {
    "ExecuteTime": {
     "end_time": "2020-04-17T06:19:25.570931Z",
     "start_time": "2020-04-17T06:19:25.563948Z"
    },
    "hidden": true
   },
   "outputs": [],
   "source": [
    "tot_I = res_normal['Is'] + res_normal['Ia']\n",
    "tot_I_ub = res_high['Is'] + res_high['Ia']\n",
    "tot_I_lb = res_low['Is'] + res_low['Ia']"
   ]
  },
  {
   "cell_type": "code",
   "execution_count": null,
   "metadata": {
    "ExecuteTime": {
     "end_time": "2020-04-17T06:19:29.696158Z",
     "start_time": "2020-04-17T06:19:29.686618Z"
    },
    "hidden": true
   },
   "outputs": [],
   "source": [
    "# tabel 1, coloring the map\n",
    "# Creating table 1, by region:\n",
    "tabel_1_dict = {}\n",
    "tabel_1_dict['date'] = date_rang\n",
    "for region in mdl.region_dict.keys():\n",
    "    tabel_1_dict[mdl.region_name[region]] = (tot_I[:, mdl.region_dict[region]].sum(axis=1))/age_dist_area[region]\n",
    "tabel1_df = pd.DataFrame.from_dict(tabel_1_dict)"
   ]
  },
  {
   "cell_type": "code",
   "execution_count": null,
   "metadata": {
    "ExecuteTime": {
     "end_time": "2020-04-17T06:19:33.930862Z",
     "start_time": "2020-04-17T06:19:33.910877Z"
    },
    "hidden": true
   },
   "outputs": [],
   "source": [
    "# 'daysoffset' will container the weekday, as integers\n",
    "tabel1_df['daysoffset'] = tabel1_df['date'].apply(lambda x: x.weekday())\n",
    "# We apply, row by row (axis=1) a timedelta operation\n",
    "tabel1_df['week_start'] = tabel1_df.apply(lambda x: x['date'] - dt.timedelta(days=x['daysoffset']), axis=1)"
   ]
  },
  {
   "cell_type": "code",
   "execution_count": null,
   "metadata": {
    "ExecuteTime": {
     "end_time": "2020-04-17T06:19:50.038373Z",
     "start_time": "2020-04-17T06:19:49.981342Z"
    },
    "hidden": true
   },
   "outputs": [],
   "source": [
    "tab1_groupped = tabel1_df.groupby('week_start')[list(mdl.region_name.values())]\n",
    "tab1_groupped = tab1_groupped.apply(lambda x: (x.max() + x.min())/2)"
   ]
  },
  {
   "cell_type": "code",
   "execution_count": null,
   "metadata": {
    "ExecuteTime": {
     "end_time": "2020-04-17T06:19:54.691853Z",
     "start_time": "2020-04-17T06:19:54.247511Z"
    },
    "hidden": true
   },
   "outputs": [],
   "source": [
    "tab1_groupped[list(mdl.region_name.values())].plot()\n",
    "plt.hlines(xmin='2020-02-20',xmax='2020-09-30', y=0.0045)\n",
    "plt.hlines(xmin='2020-02-20',xmax='2020-09-30', y=0.0013)"
   ]
  },
  {
   "cell_type": "code",
   "execution_count": null,
   "metadata": {
    "ExecuteTime": {
     "end_time": "2020-04-17T06:20:08.854697Z",
     "start_time": "2020-04-17T06:20:08.830764Z"
    },
    "hidden": true
   },
   "outputs": [],
   "source": [
    "tab1_groupped.loc['2020-04-17':'2020-06-17'].stack()"
   ]
  },
  {
   "cell_type": "code",
   "execution_count": null,
   "metadata": {
    "ExecuteTime": {
     "end_time": "2020-04-17T06:20:15.779999Z",
     "start_time": "2020-04-17T06:20:15.756942Z"
    },
    "hidden": true
   },
   "outputs": [],
   "source": [
    "# Saving table_1:\n",
    "tab1_groupped.loc['2020-04-17':'2020-06-17'].stack().to_csv('Incidence_per_region_60_70.csv')"
   ]
  },
  {
   "cell_type": "code",
   "execution_count": null,
   "metadata": {
    "ExecuteTime": {
     "end_time": "2020-04-16T00:51:18.780076Z",
     "start_time": "2020-04-16T00:51:18.775090Z"
    },
    "hidden": true
   },
   "outputs": [],
   "source": [
    "# Age groups"
   ]
  },
  {
   "cell_type": "code",
   "execution_count": null,
   "metadata": {
    "ExecuteTime": {
     "end_time": "2020-04-17T06:20:20.176292Z",
     "start_time": "2020-04-17T06:20:20.163972Z"
    },
    "hidden": true
   },
   "outputs": [],
   "source": [
    "tabel_2 = pd.DataFrame(index = pd.MultiIndex.from_tuples(itertools.product(date_rang, mdl.A.values()),names=['date','age']), \n",
    "                                     columns=['mean','UB','LB'])"
   ]
  },
  {
   "cell_type": "code",
   "execution_count": null,
   "metadata": {
    "ExecuteTime": {
     "end_time": "2020-04-17T06:20:26.077354Z",
     "start_time": "2020-04-17T06:20:24.535229Z"
    },
    "hidden": true
   },
   "outputs": [],
   "source": [
    "# fill the matrix:\n",
    "for index in list(tabel_2.index):\n",
    "#     print(int(np.where(date_rang == index[0])[0]))\n",
    "    tabel_2.loc[index,'mean'] = tot_I[int(np.where(date_rang == index[0])[0]),mdl.age_dict[index[1]]].sum()\n",
    "    tabel_2.loc[index,'UB'] = tot_I_ub[int(np.where(date_rang == index[0])[0]),mdl.age_dict[index[1]]].sum()\n",
    "    tabel_2.loc[index,'LB'] = tot_I_lb[int(np.where(date_rang == index[0])[0]),mdl.age_dict[index[1]]].sum()"
   ]
  },
  {
   "cell_type": "code",
   "execution_count": null,
   "metadata": {
    "ExecuteTime": {
     "end_time": "2020-04-17T06:20:30.512725Z",
     "start_time": "2020-04-17T06:20:30.208584Z"
    },
    "hidden": true
   },
   "outputs": [],
   "source": [
    "# 'daysoffset' will container the weekday, as integers\n",
    "tabel_2['daysoffset'] = tabel_2.apply(lambda x: x.name[0].weekday(),axis=1)\n",
    "# We apply, row by row (axis=1) a timedelta operation\n",
    "tabel_2['week_start'] = tabel_2.apply(lambda x: x.name[0] - dt.timedelta(days=x['daysoffset']), axis=1)"
   ]
  },
  {
   "cell_type": "code",
   "execution_count": null,
   "metadata": {
    "ExecuteTime": {
     "end_time": "2020-04-17T06:20:34.694152Z",
     "start_time": "2020-04-17T06:20:34.689139Z"
    },
    "hidden": true
   },
   "outputs": [],
   "source": [
    "tabel_2.reset_index(inplace=True)"
   ]
  },
  {
   "cell_type": "code",
   "execution_count": null,
   "metadata": {
    "ExecuteTime": {
     "end_time": "2020-04-17T06:20:38.934025Z",
     "start_time": "2020-04-17T06:20:38.728401Z"
    },
    "hidden": true
   },
   "outputs": [],
   "source": [
    "tabel_2_groupped = tabel_2.groupby(['week_start','age'])[['mean','UB','LB']]\n",
    "tabel_2_groupped = tabel_2_groupped.apply(lambda x: (x.max() + x.min())/2) * 9136000"
   ]
  },
  {
   "cell_type": "code",
   "execution_count": null,
   "metadata": {
    "ExecuteTime": {
     "end_time": "2020-04-17T06:20:43.061514Z",
     "start_time": "2020-04-17T06:20:43.055530Z"
    },
    "hidden": true
   },
   "outputs": [],
   "source": [
    "tabel_2_groupped['mean'] = tabel_2_groupped['mean'].apply(np.ceil)\n",
    "tabel_2_groupped['UB'] = tabel_2_groupped['UB'].apply(np.ceil)\n",
    "tabel_2_groupped['LB'] = tabel_2_groupped['LB'].apply(np.ceil)"
   ]
  },
  {
   "cell_type": "code",
   "execution_count": null,
   "metadata": {
    "ExecuteTime": {
     "end_time": "2020-04-17T06:20:47.189002Z",
     "start_time": "2020-04-17T06:20:47.183018Z"
    },
    "hidden": true
   },
   "outputs": [],
   "source": [
    "tabel_2_groupped.reset_index(inplace=True)"
   ]
  },
  {
   "cell_type": "code",
   "execution_count": null,
   "metadata": {
    "ExecuteTime": {
     "end_time": "2020-04-17T06:20:51.368447Z",
     "start_time": "2020-04-17T06:20:51.354331Z"
    },
    "hidden": true
   },
   "outputs": [],
   "source": [
    "tabel_2_groupped[tabel_2_groupped.week_start == '2020-06-15']"
   ]
  },
  {
   "cell_type": "code",
   "execution_count": null,
   "metadata": {
    "ExecuteTime": {
     "end_time": "2020-04-17T06:21:19.259857Z",
     "start_time": "2020-04-17T06:21:19.238769Z"
    },
    "hidden": true
   },
   "outputs": [],
   "source": [
    "tabel_2_groupped[(tabel_2_groupped.week_start>'2020-04-16')&(tabel_2_groupped.week_start<'2020-06-16')].to_csv('bar_plot_model_60_70.csv')"
   ]
  },
  {
   "cell_type": "code",
   "execution_count": null,
   "metadata": {
    "hidden": true
   },
   "outputs": [],
   "source": [
    "# ventilators"
   ]
  },
  {
   "cell_type": "code",
   "execution_count": null,
   "metadata": {
    "ExecuteTime": {
     "end_time": "2020-04-17T06:21:28.140871Z",
     "start_time": "2020-04-17T06:21:28.133889Z"
    },
    "hidden": true
   },
   "outputs": [],
   "source": [
    "vents_dict['mean'][55]"
   ]
  },
  {
   "cell_type": "code",
   "execution_count": null,
   "metadata": {
    "ExecuteTime": {
     "end_time": "2020-04-17T06:21:23.814300Z",
     "start_time": "2020-04-17T06:21:23.804325Z"
    },
    "hidden": true
   },
   "outputs": [],
   "source": [
    "vents_dict = {}\n",
    "vents_dict['date'] = date_rang\n",
    "vents_dict['mean'] = np.ceil(res_normal['H'].sum(axis=1) * 9136000)+53\n",
    "vents_dict['UB'] = np.ceil(res_high['H'].sum(axis=1) * 9136000)+53\n",
    "vents_dict['LB'] = np.ceil(res_low['H'].sum(axis=1) * 9136000)+53\n",
    "vents_df = pd.DataFrame.from_dict(vents_dict)"
   ]
  },
  {
   "cell_type": "code",
   "execution_count": null,
   "metadata": {
    "ExecuteTime": {
     "end_time": "2020-04-17T06:21:32.490699Z",
     "start_time": "2020-04-17T06:21:32.472744Z"
    },
    "hidden": true
   },
   "outputs": [],
   "source": [
    "# 'daysoffset' will container the weekday, as integers\n",
    "vents_df['daysoffset'] = vents_df['date'].apply(lambda x: x.weekday())\n",
    "# We apply, row by row (axis=1) a timedelta operation\n",
    "vents_df['week_start'] = vents_df.apply(lambda x: x['date'] - dt.timedelta(days=x['daysoffset']), axis=1)"
   ]
  },
  {
   "cell_type": "code",
   "execution_count": null,
   "metadata": {
    "ExecuteTime": {
     "end_time": "2020-04-17T06:21:36.841867Z",
     "start_time": "2020-04-17T06:21:36.835710Z"
    },
    "hidden": true
   },
   "outputs": [],
   "source": [
    "vents_df_grop = vents_df.groupby('week_start')[['mean','UB','LB']]\n",
    "vents_df_grop = vents_df_grop.max()"
   ]
  },
  {
   "cell_type": "code",
   "execution_count": null,
   "metadata": {
    "ExecuteTime": {
     "end_time": "2020-04-17T06:21:58.682902Z",
     "start_time": "2020-04-17T06:21:58.665434Z"
    },
    "hidden": true
   },
   "outputs": [],
   "source": [
    "vents_df_grop['2020-04-16':'2020-06-16'].to_csv('ventilators_60_70.csv')"
   ]
  },
  {
   "cell_type": "code",
   "execution_count": null,
   "metadata": {
    "hidden": true
   },
   "outputs": [],
   "source": []
  }
 ],
 "metadata": {
  "kernelspec": {
   "display_name": "Python 3",
   "language": "python",
   "name": "python3"
  },
  "language_info": {
   "codemirror_mode": {
    "name": "ipython",
    "version": 3
   },
   "file_extension": ".py",
   "mimetype": "text/x-python",
   "name": "python",
   "nbconvert_exporter": "python",
   "pygments_lexer": "ipython3",
   "version": "3.8.5"
  },
  "latex_envs": {
   "LaTeX_envs_menu_present": true,
   "autoclose": false,
   "autocomplete": true,
   "bibliofile": "biblio.bib",
   "cite_by": "apalike",
   "current_citInitial": 1,
   "eqLabelWithNumbers": true,
   "eqNumInitial": 1,
   "hotkeys": {
    "equation": "Ctrl-E",
    "itemize": "Ctrl-I"
   },
   "labels_anchors": false,
   "latex_user_defs": false,
   "report_style_numbering": false,
   "user_envs_cfg": false
  },
  "toc": {
   "base_numbering": 1,
   "nav_menu": {},
   "number_sections": true,
   "sideBar": true,
   "skip_h1_title": false,
   "title_cell": "Table of Contents",
   "title_sidebar": "Contents",
   "toc_cell": false,
   "toc_position": {
    "height": "calc(100% - 180px)",
    "left": "10px",
    "top": "150px",
    "width": "384px"
   },
   "toc_section_display": true,
   "toc_window_display": true
  },
  "varInspector": {
   "cols": {
    "lenName": 16,
    "lenType": 16,
    "lenVar": 40
   },
   "kernels_config": {
    "python": {
     "delete_cmd_postfix": "",
     "delete_cmd_prefix": "del ",
     "library": "var_list.py",
     "varRefreshCmd": "print(var_dic_list())"
    },
    "r": {
     "delete_cmd_postfix": ") ",
     "delete_cmd_prefix": "rm(",
     "library": "var_list.r",
     "varRefreshCmd": "cat(var_dic_list()) "
    }
   },
   "types_to_exclude": [
    "module",
    "function",
    "builtin_function_or_method",
    "instance",
    "_Feature"
   ],
   "window_display": false
  }
 },
 "nbformat": 4,
 "nbformat_minor": 2
}