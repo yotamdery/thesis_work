{
 "cells": [
  {
   "cell_type": "code",
   "execution_count": 1,
   "metadata": {},
   "outputs": [],
   "source": [
    "import numpy as np\n",
    "import pandas as pd\n",
    "from matplotlib import pyplot as plt\n",
    "import seaborn as sns\n",
    "from sklearn.preprocessing import Normalizer\n",
    "import urllib.request\n",
    "import warnings \n",
    "warnings.simplefilter('ignore')\n",
    "import plotly.express as px\n",
    "%matplotlib inline"
   ]
  },
  {
   "cell_type": "code",
   "execution_count": 2,
   "metadata": {},
   "outputs": [],
   "source": [
    "# Display format\n",
    "pd.set_option('display.max_columns', None)\n",
    "#pd.set_option('display.float_format', lambda x: '%.4f' % x)\n",
    "DATA_DIR = r'/Users/yotamdery/Old_Desktop/git/SEIR_model_COVID-main/Data'"
   ]
  },
  {
   "cell_type": "code",
   "execution_count": 3,
   "outputs": [],
   "source": [
    "# Accessing the API - ״מתחסנים לפי ישוב״\n",
    "url = 'https://data.gov.il/api/3/action/datastore_search?resource_id=12c9045c-1bf4-478a-a9e1-1e876cc2e182&limit=1000000'\n",
    "fileobj = urllib.request.urlopen(url)\n",
    "df = pd.read_json(fileobj)\n",
    "data = df.loc['records']['result']"
   ],
   "metadata": {
    "collapsed": false,
    "pycharm": {
     "name": "#%%\n"
    }
   }
  },
  {
   "cell_type": "code",
   "execution_count": 4,
   "outputs": [],
   "source": [
    "# Creating a DataFrame out of the API results:\n",
    "vaccinations_per_town = pd.DataFrame(data)\n",
    "vaccinations_per_town = vaccinations_per_town.loc[vaccinations_per_town['Date'] <= '2021-10-25']\n",
    "vaccinations_per_town = vaccinations_per_town[vaccinations_per_town['CityName'] != 'לא ידוע']\n",
    "vaccinations_per_town.sort_values(by= ['CityCode', 'Date'], inplace= True)\n",
    "vaccinations_per_town['Date'] = pd.to_datetime(vaccinations_per_town['Date'])"
   ],
   "metadata": {
    "collapsed": false,
    "pycharm": {
     "name": "#%%\n"
    }
   }
  },
  {
   "cell_type": "markdown",
   "source": [
    "* Functions\n"
   ],
   "metadata": {
    "collapsed": false
   }
  },
  {
   "cell_type": "code",
   "execution_count": 5,
   "outputs": [],
   "source": [
    "# Reading the sick file\n",
    "def reading_sick_file(df):\n",
    "    def filling_missing_values(temp_df):     # Function of interpolation to use\n",
    "        temp_df.iloc[0] = temp_df.iloc[0].fillna(0.0)      # Filling with zeros only the NaN values\n",
    "        for col in temp_df.columns[3:]:\n",
    "            temp_df = temp_df.copy()\n",
    "            temp_df[col] = temp_df[col].astype(float)     # Converting types\n",
    "            # Creating random array\n",
    "            arr = np.random.randint(low= 0, high= 15, size= sum(temp_df[col].isnull()))\n",
    "            arr = np.sort(arr)\n",
    "            # Getting the indexes of the rows of the column where the value is 0\n",
    "            idx = temp_df[temp_df.loc[ : , col].isna()][col].index\n",
    "            # Filling the NaN values in the correct places with the array\n",
    "            temp_df.loc[idx, col] = arr\n",
    "        return temp_df\n",
    "\n",
    "    df = df.iloc[ : , 1:13]          # Choosing relevant columns\n",
    "    sick_filtered = df[~(df.iloc[:, 3:] == '0.0').all(axis=1)]       # Selecting the relevant dates\n",
    "    sick_filtered.replace(to_replace= '<15', value= '0.0', inplace= True)\n",
    "    sick_filtered.replace(to_replace= '0.0', value= np.nan, inplace= True)\n",
    "    sick_filtered = sick_filtered.groupby(by= 'CityCode', as_index= False).apply(filling_missing_values)\n",
    "    sick_filtered['CityCode'] = sick_filtered['CityCode'].astype(int)\n",
    "\n",
    "    return sick_filtered"
   ],
   "metadata": {
    "collapsed": false,
    "pycharm": {
     "name": "#%%\n"
    }
   }
  },
  {
   "cell_type": "code",
   "execution_count": 6,
   "metadata": {},
   "outputs": [],
   "source": [
    "### Importing and cleaning of Taz_Yeshuv_250_mapping\n",
    "# reading Taz_Yeshuv_250_mapping\n",
    "def reading_town_code_to_taz_mapper():\n",
    "    town_code_to_taz_mapper =  pd.read_excel(r'/Users/yotamdery/Old_Desktop/git/health_data_mapping/Taz_Yeshuv_250_mapping.xlsx',engine='openpyxl', usecols= 'A, E, P')\n",
    "    town_code_to_taz_mapper.columns = ['taz_id','town_code','population']\n",
    "    town_code_to_taz_mapper = town_code_to_taz_mapper.iloc[4:2633]\n",
    "    return town_code_to_taz_mapper"
   ]
  },
  {
   "cell_type": "code",
   "execution_count": 7,
   "metadata": {},
   "outputs": [],
   "source": [
    "def normalized_pop_per_taz(df):\n",
    "    def normalized_inner(temp):\n",
    "        temp_copy = temp.copy()\n",
    "        population_sum = np.sum(temp_copy['population'])           # Getting the sum of the column to normalize accordingly\n",
    "        temp_copy['population'] = temp_copy['population'] / population_sum   # performing the normalization\n",
    "        temp_copy = temp_copy.loc[temp_copy['population'] != 0.0]\n",
    "        return temp_copy\n",
    "    \n",
    "    df = df.groupby(by= 'town_code', as_index= False).apply(normalized_inner)\n",
    "    df['town_code'] = df['town_code'].astype(float)\n",
    "    df['town_code'] = df['town_code'].astype(int)\n",
    "    return df"
   ]
  },
  {
   "cell_type": "code",
   "execution_count": 8,
   "metadata": {},
   "outputs": [],
   "source": [
    "# filtering the df\n",
    "# def filtering_rows(df):\n",
    "#     df_exclude_90plus = df.iloc[: , :-1]    # a DF without the first_dose_90+ column\n",
    "#     sick_filtered = df[((df_exclude_90plus != '<15') & (df_exclude_90plus != '0.0')).all(axis= 1)]\n",
    "#     sick_filtered['first_dose_90+'] = sick_filtered['first_dose_90+'].replace(to_replace= '<15', value= '0')  # in cases that a lot of values are '<15'. we sum this column anyway\n",
    "#     sick_filtered.sort_values(by= ['CityCode','Date'], inplace= True)\n",
    "#     return sick_filtered"
   ]
  },
  {
   "cell_type": "code",
   "execution_count": 9,
   "metadata": {},
   "outputs": [],
   "source": [
    "# Type convertion of fields\n",
    "# def types_convertion(df):\n",
    "#     df['Date'] = pd.to_datetime(df['Date'])\n",
    "#     for c in df.columns[1:] :\n",
    "#         if c not in ['Date']:    # Have to convert to float first because of the original format...\n",
    "#             df[c] = df[c].astype(float)\n",
    "#             # Converting all columns but the date column\n",
    "#             df[c] = df[c].astype(int)\n",
    "#     return df"
   ]
  },
  {
   "cell_type": "code",
   "execution_count": 10,
   "metadata": {},
   "outputs": [],
   "source": [
    "# Merging 80-89 and 90+ age groups:\n",
    "def merge_columns_to_80plus(df):\n",
    "    df['first_dose_80+'] = df['first_dose_80-89'] + df['first_dose_90+']\n",
    "    df.drop(labels= ['first_dose_80-89', 'first_dose_90+'], axis= 1, inplace= True)\n",
    "    return df"
   ]
  },
  {
   "cell_type": "markdown",
   "metadata": {},
   "source": [
    "<b> spreading the vaccinated individuals over the Tazs:"
   ]
  },
  {
   "cell_type": "code",
   "execution_count": 11,
   "metadata": {},
   "outputs": [],
   "source": [
    "### multiplying by the population ratio:\n",
    "def multiply_by_pop_ratio(df):\n",
    "    for column in df.columns[3:11] :\n",
    "        df[column + \"_multiplied\"] = df[column] * df['population']\n",
    "    df = df.iloc[ : , np.r_[0:3, 11, 14:22]]\n",
    "    return df   "
   ]
  },
  {
   "cell_type": "code",
   "execution_count": 12,
   "metadata": {},
   "outputs": [],
   "source": [
    "# A mapper - taz for 250 regions \n",
    "def reading_taz_250_mapping():\n",
    "    taz_250_mapping = pd.read_excel(r'/Users/yotamdery/Old_Desktop/git/health_data_mapping/Taz_Yeshuv_250_mapping.xlsx',engine='openpyxl', usecols= \"A,P,AH\")\n",
    "    taz_250_mapping = taz_250_mapping.rename(columns= {'Unnamed: 0' : 'taz_id', 'Unnamed: 15' : 'population', 'Unnamed: 33' : '250_regions'})\n",
    "    taz_250_mapping = taz_250_mapping.loc[3:2633]\n",
    "    return taz_250_mapping"
   ]
  },
  {
   "cell_type": "code",
   "execution_count": 13,
   "metadata": {},
   "outputs": [],
   "source": [
    "# Mappers - Total population for 250 regions and Taz for 250_regions\n",
    "def create_mappers():\n",
    "    taz_to_250_mapper = reading_taz_250_mapping()[['taz_id','250_regions']]\n",
    "    pop_for_250_mapper = reading_taz_250_mapping()[['population','250_regions']]\n",
    "    pop_for_250_mapper = pop_for_250_mapper.groupby('250_regions', as_index= False).sum()\n",
    "    return taz_to_250_mapper, pop_for_250_mapper\n"
   ]
  },
  {
   "cell_type": "code",
   "execution_count": 14,
   "metadata": {},
   "outputs": [],
   "source": [
    "def reading_250_30_mapping():\n",
    "    mapping_30_250 = pd.read_excel(DATA_DIR + '/division_choice/30/cell250_to_cell30.xlsx', engine='openpyxl')\n",
    "    return mapping_30_250"
   ]
  },
  {
   "cell_type": "code",
   "execution_count": 15,
   "metadata": {},
   "outputs": [],
   "source": [
    "# Receives the recent DF and a mapper from 250 to 30\n",
    "def aggregate_to_30_level(vaccinated_with_pop_250, mapping_30_250):\n",
    "    vaccinated_30_merged = vaccinated_with_pop_250.merge(mapping_30_250, left_on= '250_regions', right_on= 'cell_id')\n",
    "    vaccinated_30_no_pop = vaccinated_30_merged.groupby(by= ['30_county','Date'], as_index= False)[vaccinated_30_merged.columns[2:10]].sum()      # Aggregate health data to county level\n",
    "\n",
    "    vaccinated_30_merged_no_duplicates = vaccinated_30_merged[~vaccinated_30_merged.duplicated(subset= ['250_regions','population'])]\n",
    "    pop_30_mapper = vaccinated_30_merged_no_duplicates.groupby('30_county', as_index= False)['population'].sum()                                                # Aggregate the *population* to county level\n",
    "    \n",
    "    vaccinated_30_with_pop = vaccinated_30_no_pop.merge(pop_30_mapper, on= '30_county')\n",
    "    \n",
    "    vaccinated_30_with_pop['30_county'] = vaccinated_30_with_pop['30_county'].astype(str)\n",
    "    return vaccinated_30_with_pop\n",
    "    "
   ]
  },
  {
   "cell_type": "code",
   "execution_count": 16,
   "metadata": {},
   "outputs": [],
   "source": [
    "# Calculating the absolute values of vaccinations - creating new columns for it (with 'absolut' prefix)\n",
    "def calculate_difference_vaccinations(df):\n",
    "    df_copy = df.copy()\n",
    "    # If it is the first row, take it as it is, don't apply the difference function\n",
    "    first_row = df_copy.iloc[0].to_frame().T\n",
    "    first_row['absolute_' + first_row.columns[2:10]] = first_row[first_row.columns[2:10]]    # Creating a DF of one row with the same columns as the big DF\n",
    "    \n",
    "    # Applying the difference function on the whole DF\n",
    "    df_copy['absolute_' + df_copy.columns[2:10]] = df_copy[df_copy.columns[2:10]].diff(periods= 1)\n",
    "    \n",
    "    # Removing the first row (the start of documentation date)\n",
    "    whole_df_no_null = df_copy[~df_copy[df_copy.columns[-1]].isna()]\n",
    "    \n",
    "    final_df = pd.concat([first_row, whole_df_no_null], axis= 0)\n",
    "    return final_df"
   ]
  },
  {
   "cell_type": "code",
   "execution_count": 17,
   "metadata": {},
   "outputs": [],
   "source": [
    "# Main function - Receiving only the health df\n",
    "def main(df):\n",
    "    df = reading_sick_file(df)\n",
    "    #sick_filtered = filtering_rows(df)     # Removing categorical values (rows with '0' and '<15')\n",
    "    #df_types_converted = types_convertion(sick_filtered)          # Converting the types\n",
    "    df = merge_columns_to_80plus(df)       # Merging 80-89 and 90+ age groups\n",
    "    \n",
    "    # Sanity check:\n",
    "    print(\"Total number of vaccinations per age:\")\n",
    "    print (sum((df[df['Date'] == df['Date'].max()][df.columns[3:]].sum(axis= 1))))\n",
    "\n",
    "    ### Merging the health file with taz to yeshuv mapping - To get the TAZ for each town code:\n",
    "    town_code_to_taz_mapper = reading_town_code_to_taz_mapper()                 # Reading the Taz_to_yeshuv file\n",
    "    town_code_to_taz_mapper = normalized_pop_per_taz(town_code_to_taz_mapper)   # Normalizing the population column    \n",
    "    vaccination_taz_merged = df.merge(town_code_to_taz_mapper, how= 'inner', left_on= 'CityCode', right_on= 'town_code')\n",
    "\n",
    "    ## Spreading over the Tazs:\n",
    "    normed_vaccinated = multiply_by_pop_ratio(vaccination_taz_merged)     # Multiplying each column by the population ratio\n",
    "    #return normed_vaccinated\n",
    "    grouped_vaccinated_and_mapping = normed_vaccinated.groupby(by= ['taz_id','Date']).sum().reset_index()  # grouping by taz and date\n",
    "    grouped_vaccinated_and_mapping.drop(\"CityCode\", axis= 1, inplace= True)    # Not relevant anymore\n",
    "\n",
    "    # Sanity check:\n",
    "    print(\"Total number of vaccinations per age:\")\n",
    "    print (sum((grouped_vaccinated_and_mapping[grouped_vaccinated_and_mapping['Date'] == \n",
    "                                               grouped_vaccinated_and_mapping['Date'].max()]\n",
    "                                              [grouped_vaccinated_and_mapping.columns[2:]].sum(axis= 1))))\n",
    "    \n",
    "    taz_250_mapping, pop_for_250_mapper = create_mappers()      # Mappers - Total population for 250 regions and Taz for 250_regions\n",
    "    \n",
    "    vaccinated_250_merged = grouped_vaccinated_and_mapping.merge(taz_250_mapping)\n",
    "    vaccinated_250 = vaccinated_250_merged.groupby(by= ['250_regions', 'Date'], \n",
    "                                                   as_index= False).sum()    # Aggregating to 250 regions level\n",
    "    vaccinated_with_pop_250 = vaccinated_250.merge(pop_for_250_mapper)       # involving the population for each region\n",
    "    \n",
    "    # Sanity check:\n",
    "    print(\"Total number of vaccinations per age:\")\n",
    "    print (sum((vaccinated_with_pop_250[vaccinated_with_pop_250['Date'] == vaccinated_with_pop_250['Date'].max()][vaccinated_with_pop_250.columns[2:-1]].sum(axis= 1))))\n",
    "    \n",
    "    mapping_250_30 = reading_250_30_mapping()                               # reading the 250 to 30 counties file\n",
    "    vaccinated_30_with_pop = aggregate_to_30_level(vaccinated_with_pop_250, mapping_250_30)        # Aggregating the data to 30 counties level\n",
    "    absolute_vaccination_amount = vaccinated_30_with_pop.groupby(by= ['30_county'], as_index= False ) \\\n",
    "                                                                .apply(calculate_difference_vaccinations)    # Calculating the actual amounts of vaccinations. grouping by 250_regions to avoid negative values\n",
    "    return absolute_vaccination_amount \n",
    "          "
   ]
  },
  {
   "cell_type": "code",
   "execution_count": 18,
   "metadata": {},
   "outputs": [
    {
     "name": "stdout",
     "output_type": "stream",
     "text": [
      "Total number of vaccinations per age:\n",
      "5585492.0\n",
      "Total number of vaccinations per age:\n",
      "5395719.999999997\n",
      "Total number of vaccinations per age:\n",
      "5395720.000000001\n",
      "\n",
      "Finished creating first dose\n",
      "\n"
     ]
    }
   ],
   "source": [
    "# Taking only the relevant columns into account (the first dose columns)\n",
    "df_first_dose = main(vaccinations_per_town.copy())\n",
    "print(\"\\nFinished creating first dose\\n\")\n",
    "\n",
    "#df_second_dose = main(vaccninations_per_city.copy().drop('accumulated_vaccination_first_dose',axis= 1))\n",
    "#print(\"\\nFinished creating second dose df\\n\")"
   ]
  },
  {
   "cell_type": "code",
   "execution_count": 19,
   "outputs": [
    {
     "data": {
      "text/plain": "            30_county       Date first_dose_0-19_multiplied  \\\n1 2480  11_betshemesh 2020-12-20                          0   \n  2481  11_betshemesh 2020-12-21                         10   \n  2482  11_betshemesh 2020-12-22                         10   \n  2483  11_betshemesh 2020-12-23                         14   \n  2484  11_betshemesh 2020-12-24                         29   \n...               ...        ...                        ...   \n  2785  11_betshemesh 2021-10-21                      10387   \n  2786  11_betshemesh 2021-10-22                      10394   \n  2787  11_betshemesh 2021-10-23                      10394   \n  2788  11_betshemesh 2021-10-24                      10406   \n  2789  11_betshemesh 2021-10-25                      10415   \n\n       first_dose_20-29_multiplied first_dose_30-39_multiplied  \\\n1 2480                           0                           0   \n  2481                          14                          21   \n  2482                          25                          43   \n  2483                          66                         107   \n  2484                         121                         218   \n...                            ...                         ...   \n  2785                       12466                        8756   \n  2786                       12472                        8761   \n  2787                       12472                        8761   \n  2788                       12487                        8766   \n  2789                       12497                        8770   \n\n       first_dose_40-49_multiplied first_dose_50-59_multiplied  \\\n1 2480                           0                          17   \n  2481                          30                          30   \n  2482                          70                          75   \n  2483                         175                         164   \n  2484                         355                         271   \n...                            ...                         ...   \n  2785                        7031                        5415   \n  2786                        7036                        5416   \n  2787                        7036                        5416   \n  2788                        7042                        5419   \n  2789                        7045                        5422   \n\n       first_dose_60-69_multiplied first_dose_70-79_multiplied  \\\n1 2480                           0                           0   \n  2481                          27                           7   \n  2482                          75                          36   \n  2483                         288                         184   \n  2484                         580                         407   \n...                            ...                         ...   \n  2785                        3722                        2163   \n  2786                        3722                        2163   \n  2787                        3722                        2163   \n  2788                        3722                        2164   \n  2789                        3723                        2164   \n\n       first_dose_80+_multiplied population  \\\n1 2480                         0     114768   \n  2481                        19     114768   \n  2482                        19     114768   \n  2483                        68     114768   \n  2484                       142     114768   \n...                          ...        ...   \n  2785                      1137     114768   \n  2786                      1137     114768   \n  2787                      1137     114768   \n  2788                      1137     114768   \n  2789                      1139     114768   \n\n       absolute_first_dose_0-19_multiplied  \\\n1 2480                                   0   \n  2481                                  10   \n  2482                                   0   \n  2483                                   4   \n  2484                                  15   \n...                                    ...   \n  2785                                  23   \n  2786                                   7   \n  2787                                   0   \n  2788                                  12   \n  2789                                   9   \n\n       absolute_first_dose_20-29_multiplied  \\\n1 2480                                    0   \n  2481                                   14   \n  2482                                   11   \n  2483                                   41   \n  2484                                   55   \n...                                     ...   \n  2785                                   16   \n  2786                                    6   \n  2787                                    0   \n  2788                                   15   \n  2789                                   10   \n\n       absolute_first_dose_30-39_multiplied  \\\n1 2480                                    0   \n  2481                                   21   \n  2482                                   22   \n  2483                                   64   \n  2484                                  111   \n...                                     ...   \n  2785                                   14   \n  2786                                    5   \n  2787                                    0   \n  2788                                    5   \n  2789                                    4   \n\n       absolute_first_dose_40-49_multiplied  \\\n1 2480                                    0   \n  2481                                   30   \n  2482                                   40   \n  2483                                  105   \n  2484                                  180   \n...                                     ...   \n  2785                                    5   \n  2786                                    5   \n  2787                                    0   \n  2788                                    6   \n  2789                                    3   \n\n       absolute_first_dose_50-59_multiplied  \\\n1 2480                                   17   \n  2481                                   13   \n  2482                                   45   \n  2483                                   89   \n  2484                                  107   \n...                                     ...   \n  2785                                    5   \n  2786                                    1   \n  2787                                    0   \n  2788                                    3   \n  2789                                    3   \n\n       absolute_first_dose_60-69_multiplied  \\\n1 2480                                    0   \n  2481                                   27   \n  2482                                   48   \n  2483                                  213   \n  2484                                  292   \n...                                     ...   \n  2785                                    2   \n  2786                                    0   \n  2787                                    0   \n  2788                                    0   \n  2789                                    1   \n\n       absolute_first_dose_70-79_multiplied absolute_first_dose_80+_multiplied  \n1 2480                                    0                                  0  \n  2481                                    7                                 19  \n  2482                                   29                                  0  \n  2483                                  148                                 49  \n  2484                                  223                                 74  \n...                                     ...                                ...  \n  2785                                    0                                  2  \n  2786                                    0                                  0  \n  2787                                    0                                  0  \n  2788                                    1                                  0  \n  2789                                    0                                  2  \n\n[310 rows x 19 columns]",
      "text/html": "<div>\n<style scoped>\n    .dataframe tbody tr th:only-of-type {\n        vertical-align: middle;\n    }\n\n    .dataframe tbody tr th {\n        vertical-align: top;\n    }\n\n    .dataframe thead th {\n        text-align: right;\n    }\n</style>\n<table border=\"1\" class=\"dataframe\">\n  <thead>\n    <tr style=\"text-align: right;\">\n      <th></th>\n      <th></th>\n      <th>30_county</th>\n      <th>Date</th>\n      <th>first_dose_0-19_multiplied</th>\n      <th>first_dose_20-29_multiplied</th>\n      <th>first_dose_30-39_multiplied</th>\n      <th>first_dose_40-49_multiplied</th>\n      <th>first_dose_50-59_multiplied</th>\n      <th>first_dose_60-69_multiplied</th>\n      <th>first_dose_70-79_multiplied</th>\n      <th>first_dose_80+_multiplied</th>\n      <th>population</th>\n      <th>absolute_first_dose_0-19_multiplied</th>\n      <th>absolute_first_dose_20-29_multiplied</th>\n      <th>absolute_first_dose_30-39_multiplied</th>\n      <th>absolute_first_dose_40-49_multiplied</th>\n      <th>absolute_first_dose_50-59_multiplied</th>\n      <th>absolute_first_dose_60-69_multiplied</th>\n      <th>absolute_first_dose_70-79_multiplied</th>\n      <th>absolute_first_dose_80+_multiplied</th>\n    </tr>\n  </thead>\n  <tbody>\n    <tr>\n      <th rowspan=\"11\" valign=\"top\">1</th>\n      <th>2480</th>\n      <td>11_betshemesh</td>\n      <td>2020-12-20</td>\n      <td>0</td>\n      <td>0</td>\n      <td>0</td>\n      <td>0</td>\n      <td>17</td>\n      <td>0</td>\n      <td>0</td>\n      <td>0</td>\n      <td>114768</td>\n      <td>0</td>\n      <td>0</td>\n      <td>0</td>\n      <td>0</td>\n      <td>17</td>\n      <td>0</td>\n      <td>0</td>\n      <td>0</td>\n    </tr>\n    <tr>\n      <th>2481</th>\n      <td>11_betshemesh</td>\n      <td>2020-12-21</td>\n      <td>10</td>\n      <td>14</td>\n      <td>21</td>\n      <td>30</td>\n      <td>30</td>\n      <td>27</td>\n      <td>7</td>\n      <td>19</td>\n      <td>114768</td>\n      <td>10</td>\n      <td>14</td>\n      <td>21</td>\n      <td>30</td>\n      <td>13</td>\n      <td>27</td>\n      <td>7</td>\n      <td>19</td>\n    </tr>\n    <tr>\n      <th>2482</th>\n      <td>11_betshemesh</td>\n      <td>2020-12-22</td>\n      <td>10</td>\n      <td>25</td>\n      <td>43</td>\n      <td>70</td>\n      <td>75</td>\n      <td>75</td>\n      <td>36</td>\n      <td>19</td>\n      <td>114768</td>\n      <td>0</td>\n      <td>11</td>\n      <td>22</td>\n      <td>40</td>\n      <td>45</td>\n      <td>48</td>\n      <td>29</td>\n      <td>0</td>\n    </tr>\n    <tr>\n      <th>2483</th>\n      <td>11_betshemesh</td>\n      <td>2020-12-23</td>\n      <td>14</td>\n      <td>66</td>\n      <td>107</td>\n      <td>175</td>\n      <td>164</td>\n      <td>288</td>\n      <td>184</td>\n      <td>68</td>\n      <td>114768</td>\n      <td>4</td>\n      <td>41</td>\n      <td>64</td>\n      <td>105</td>\n      <td>89</td>\n      <td>213</td>\n      <td>148</td>\n      <td>49</td>\n    </tr>\n    <tr>\n      <th>2484</th>\n      <td>11_betshemesh</td>\n      <td>2020-12-24</td>\n      <td>29</td>\n      <td>121</td>\n      <td>218</td>\n      <td>355</td>\n      <td>271</td>\n      <td>580</td>\n      <td>407</td>\n      <td>142</td>\n      <td>114768</td>\n      <td>15</td>\n      <td>55</td>\n      <td>111</td>\n      <td>180</td>\n      <td>107</td>\n      <td>292</td>\n      <td>223</td>\n      <td>74</td>\n    </tr>\n    <tr>\n      <th>...</th>\n      <td>...</td>\n      <td>...</td>\n      <td>...</td>\n      <td>...</td>\n      <td>...</td>\n      <td>...</td>\n      <td>...</td>\n      <td>...</td>\n      <td>...</td>\n      <td>...</td>\n      <td>...</td>\n      <td>...</td>\n      <td>...</td>\n      <td>...</td>\n      <td>...</td>\n      <td>...</td>\n      <td>...</td>\n      <td>...</td>\n      <td>...</td>\n    </tr>\n    <tr>\n      <th>2785</th>\n      <td>11_betshemesh</td>\n      <td>2021-10-21</td>\n      <td>10387</td>\n      <td>12466</td>\n      <td>8756</td>\n      <td>7031</td>\n      <td>5415</td>\n      <td>3722</td>\n      <td>2163</td>\n      <td>1137</td>\n      <td>114768</td>\n      <td>23</td>\n      <td>16</td>\n      <td>14</td>\n      <td>5</td>\n      <td>5</td>\n      <td>2</td>\n      <td>0</td>\n      <td>2</td>\n    </tr>\n    <tr>\n      <th>2786</th>\n      <td>11_betshemesh</td>\n      <td>2021-10-22</td>\n      <td>10394</td>\n      <td>12472</td>\n      <td>8761</td>\n      <td>7036</td>\n      <td>5416</td>\n      <td>3722</td>\n      <td>2163</td>\n      <td>1137</td>\n      <td>114768</td>\n      <td>7</td>\n      <td>6</td>\n      <td>5</td>\n      <td>5</td>\n      <td>1</td>\n      <td>0</td>\n      <td>0</td>\n      <td>0</td>\n    </tr>\n    <tr>\n      <th>2787</th>\n      <td>11_betshemesh</td>\n      <td>2021-10-23</td>\n      <td>10394</td>\n      <td>12472</td>\n      <td>8761</td>\n      <td>7036</td>\n      <td>5416</td>\n      <td>3722</td>\n      <td>2163</td>\n      <td>1137</td>\n      <td>114768</td>\n      <td>0</td>\n      <td>0</td>\n      <td>0</td>\n      <td>0</td>\n      <td>0</td>\n      <td>0</td>\n      <td>0</td>\n      <td>0</td>\n    </tr>\n    <tr>\n      <th>2788</th>\n      <td>11_betshemesh</td>\n      <td>2021-10-24</td>\n      <td>10406</td>\n      <td>12487</td>\n      <td>8766</td>\n      <td>7042</td>\n      <td>5419</td>\n      <td>3722</td>\n      <td>2164</td>\n      <td>1137</td>\n      <td>114768</td>\n      <td>12</td>\n      <td>15</td>\n      <td>5</td>\n      <td>6</td>\n      <td>3</td>\n      <td>0</td>\n      <td>1</td>\n      <td>0</td>\n    </tr>\n    <tr>\n      <th>2789</th>\n      <td>11_betshemesh</td>\n      <td>2021-10-25</td>\n      <td>10415</td>\n      <td>12497</td>\n      <td>8770</td>\n      <td>7045</td>\n      <td>5422</td>\n      <td>3723</td>\n      <td>2164</td>\n      <td>1139</td>\n      <td>114768</td>\n      <td>9</td>\n      <td>10</td>\n      <td>4</td>\n      <td>3</td>\n      <td>3</td>\n      <td>1</td>\n      <td>0</td>\n      <td>2</td>\n    </tr>\n  </tbody>\n</table>\n<p>310 rows × 19 columns</p>\n</div>"
     },
     "execution_count": 19,
     "metadata": {},
     "output_type": "execute_result"
    }
   ],
   "source": [
    "df_first_dose[df_first_dose['30_county'] == '11_betshemesh']"
   ],
   "metadata": {
    "collapsed": false,
    "pycharm": {
     "name": "#%%\n"
    }
   }
  },
  {
   "cell_type": "code",
   "execution_count": 20,
   "metadata": {},
   "outputs": [],
   "source": [
    "# Choosing the relevant columns\n",
    "result = df_first_dose.iloc[ : , np.r_[0, 1, 10:19]]"
   ]
  },
  {
   "cell_type": "code",
   "execution_count": 21,
   "metadata": {},
   "outputs": [],
   "source": [
    "# Removing the 'multiplied' word from the columns titles\n",
    "new_columns_name_list = []\n",
    "for column in list(result.columns):\n",
    "    list_of_elements = column.split('_')\n",
    "    if len(list_of_elements) > 3:\n",
    "        list_of_elements.pop()\n",
    "    new_columns_name_list.append('_'.join(list_of_elements))\n",
    "result.columns = new_columns_name_list"
   ]
  },
  {
   "cell_type": "markdown",
   "metadata": {},
   "source": [
    "<b> W'd like to be aligned with the age groups of the current model:"
   ]
  },
  {
   "cell_type": "code",
   "execution_count": 22,
   "metadata": {
    "scrolled": true
   },
   "outputs": [],
   "source": [
    "# Splitting the amounts of 'absolute_first_dose_0-19' column assuming uniform distribution\n",
    "result['absolute_first_dose_0-4'], result['absolute_first_dose_5-9'] = result['absolute_first_dose_0-19'] * 0.10, result['absolute_first_dose_0-19'] * 0.15\n",
    "result['absolute_first_dose_10-19'] = result['absolute_first_dose_0-19'] * 0.75\n",
    "result.drop('absolute_first_dose_0-19', axis= 1, inplace= True)\n",
    "\n",
    "# Re-ordering the DF\n",
    "all_columns = result.columns.tolist()\n",
    "new_ordered_columns = all_columns[0:3] + all_columns[-3:] + all_columns[3:-3]\n",
    "result = result[new_ordered_columns]\n",
    "\n",
    "# Summing the 2 columns to get 'absolute_first_dose_70+' column\n",
    "result['absolute_first_dose_70+'] = result['absolute_first_dose_70-79'] + result['absolute_first_dose_80+']\n",
    "result.drop(columns= ['absolute_first_dose_70-79', 'absolute_first_dose_80+'], axis= 1, inplace= True)"
   ]
  },
  {
   "cell_type": "markdown",
   "metadata": {},
   "source": [
    "<b> Adding the 'county_id' to the counties to be able to involve it in the SEIR model:"
   ]
  },
  {
   "cell_type": "code",
   "execution_count": 23,
   "metadata": {},
   "outputs": [],
   "source": [
    "# Reading\n",
    "county_string_to_id = pd.read_excel(DATA_DIR + '/division_choice/30/county_int_2name_county_string.xlsx', engine='openpyxl', usecols= \"A,C\")\n",
    "county_string_to_id['county_string_id'] = county_string_to_id['county_string_id'].astype(str)"
   ]
  },
  {
   "cell_type": "code",
   "execution_count": 24,
   "metadata": {},
   "outputs": [],
   "source": [
    "# Merging\n",
    "result_with_county_id = result.merge(county_string_to_id, how= 'inner', left_on= '30_county', right_on= 'county_string_id')"
   ]
  },
  {
   "cell_type": "code",
   "execution_count": 25,
   "metadata": {},
   "outputs": [],
   "source": [
    "# Reordering\n",
    "all_columns = result_with_county_id.columns.tolist()\n",
    "new_ordered_columns = [all_columns[1]] + all_columns[-2:] + [all_columns[2]] + all_columns[3:-2]\n",
    "result_with_county_id = result_with_county_id[new_ordered_columns]"
   ]
  },
  {
   "cell_type": "code",
   "execution_count": 26,
   "metadata": {},
   "outputs": [],
   "source": [
    "# Sorting\n",
    "result_with_county_id = result_with_county_id.sort_values(by= ['Date', 'county_id']).reset_index(drop= True)"
   ]
  },
  {
   "cell_type": "code",
   "execution_count": 27,
   "metadata": {},
   "outputs": [],
   "source": [
    "# Converting numbers to floats\n",
    "for column in result_with_county_id.columns[3:]:\n",
    "    result_with_county_id[column] = result_with_county_id[column].astype(float)"
   ]
  },
  {
   "cell_type": "markdown",
   "metadata": {},
   "source": [
    "<b> Creating a proportion DF - each value will be the proportion of vaccinated individuals\n",
    "    per county and age-group. The sample space will be the population for each county"
   ]
  },
  {
   "cell_type": "markdown",
   "metadata": {},
   "source": [
    "Create a dictionary of {(county_id, county_string_id) : population}"
   ]
  },
  {
   "cell_type": "code",
   "execution_count": 28,
   "metadata": {},
   "outputs": [],
   "source": [
    "df = result_with_county_id[['county_id', 'county_string_id', 'population']]\n",
    "unique_df = df[~df.duplicated()].sort_values(by= 'county_id')\n",
    "dict_region_population = unique_df.set_index(['county_id', 'county_string_id']).T.to_dict('list')"
   ]
  },
  {
   "cell_type": "code",
   "execution_count": 29,
   "outputs": [
    {
     "data": {
      "text/plain": "{(1100, '11'): [743570.0],\n (1101, '11_haredi'): [253305.0],\n (1103, '11_betshemesh'): [114768.0],\n (2100, '21'): [132334.0],\n (2200, '22_jewish'): [93746.0],\n (2202, '22_arab'): [22722.0],\n (2300, '23_jewish'): [292415.0],\n (2302, '23_arab'): [151924.0],\n (2400, '24_jewish'): [240564.0],\n (2402, '24_arab'): [341354.0],\n (2900, '29'): [49663.0],\n (3100, '31_jewish'): [563123.0],\n (3102, '31_arab'): [34058.0],\n (3200, '32_jewish'): [301292.0],\n (3202, '32_arab'): [109848.0],\n (4100, '41_jewish'): [393983.0],\n (4102, '41_arab'): [81875.0],\n (4200, '42_secular'): [650007.0],\n (4201, '42_haredi'): [47280.0],\n (4202, '42_arab'): [26229.0],\n (4300, '43'): [308702.0],\n (4400, '44'): [610942.0],\n (5100, '51'): [783008.0],\n (5101, '51_bb'): [201611.0],\n (5103, '51_tlv'): [443903.0],\n (6100, '61'): [498131.0],\n (6200, '62_jewish'): [457315.0],\n (6202, '62_arab'): [187381.0],\n (7100, '71'): [255900.0],\n (7101, '71_haredi'): [148038.0]}"
     },
     "execution_count": 29,
     "metadata": {},
     "output_type": "execute_result"
    }
   ],
   "source": [
    "dict_region_population"
   ],
   "metadata": {
    "collapsed": false,
    "pycharm": {
     "name": "#%%\n"
    }
   }
  },
  {
   "cell_type": "markdown",
   "metadata": {},
   "source": [
    "Filling zeroes for counties that don't have vaccinated individuals in a specific date:"
   ]
  },
  {
   "cell_type": "code",
   "execution_count": 30,
   "metadata": {},
   "outputs": [],
   "source": [
    "def filling_zeros(df, **kwargs):\n",
    "    set_from_dict = set(dict_region_population.keys())       # Static set of the counties\n",
    "    current_set_from_df = set(zip(df['county_id'], df['county_string_id']))  # Set of the current counties (differs from each date)\n",
    "    set_difference = sorted(list(set_from_dict - current_set_from_df))    # getting the counties that don't exist in the current date\n",
    "    \n",
    "    if set_difference == []:    # If all counties are there - exit the function, do nothing\n",
    "        return df\n",
    "    \n",
    "    # Bulding the new df to concat - the non-exist counties df:\n",
    "    data = []      # empty list to end up as list of lists to create the df\n",
    "    current_date = df['Date'].iloc[0]\n",
    "    for element in set_difference:     # Iterating over the difference list - counties that dont exists in the specific date:\n",
    "        data.append([current_date, element[0], element[1], dict_region_population[element][0], 0, 0, 0, 0, 0, 0, 0, 0, 0])\n",
    "    current_df = pd.DataFrame(data, columns= df.columns)\n",
    "    \n",
    "    final_df = pd.concat([df, current_df], axis= 0)     # Stacking the df one ontop of the other\n",
    "    return final_df\n",
    "    "
   ]
  },
  {
   "cell_type": "code",
   "execution_count": 31,
   "metadata": {},
   "outputs": [],
   "source": [
    "# Applying the function above\n",
    "df_filled_zeros = result_with_county_id.groupby(by= ['Date'], as_index= False).apply(filling_zeros, args= dict_region_population).reset_index()\n",
    "#df_filled_zeros = df_filled_zeros.drop(labels= ['level_0', 'level_1'], axis= 1).sort_values(by= ['Date', 'county_id'])"
   ]
  },
  {
   "cell_type": "markdown",
   "metadata": {},
   "source": [
    "Reading the 'population_per_county_age-group' file to get the population for each intersection of county and age-group:"
   ]
  },
  {
   "cell_type": "code",
   "execution_count": 32,
   "metadata": {},
   "outputs": [],
   "source": [
    "population_per_county_age_group = pd.read_csv(DATA_DIR + '/division_choice/30/population_per_county_age-group.csv')"
   ]
  },
  {
   "cell_type": "code",
   "execution_count": 33,
   "metadata": {},
   "outputs": [
    {
     "data": {
      "text/plain": "   county_id  population_0-4  population_5-9  population_10-19  \\\n0       1100           91350           85660            148805   \n1       1101           39848           32811             57822   \n2       1103           21453           19019             27366   \n3       2100           14346           13429             23977   \n4       2200            9795            8968             16807   \n\n   population_20-29  population_30-39  population_40-49  population_50-59  \\\n0            125617             99834             81115             63261   \n1             45849             29948             23961             18944   \n2             17534             14239             10275              7471   \n3             22271             16873             15618             14006   \n4             15434             11712             11236             10151   \n\n   population_60-69  population_70+  \n0             51140           50298  \n1             15843           17449  \n2              4943            4350  \n3             11541            9864  \n4              8974            7444  ",
      "text/html": "<div>\n<style scoped>\n    .dataframe tbody tr th:only-of-type {\n        vertical-align: middle;\n    }\n\n    .dataframe tbody tr th {\n        vertical-align: top;\n    }\n\n    .dataframe thead th {\n        text-align: right;\n    }\n</style>\n<table border=\"1\" class=\"dataframe\">\n  <thead>\n    <tr style=\"text-align: right;\">\n      <th></th>\n      <th>county_id</th>\n      <th>population_0-4</th>\n      <th>population_5-9</th>\n      <th>population_10-19</th>\n      <th>population_20-29</th>\n      <th>population_30-39</th>\n      <th>population_40-49</th>\n      <th>population_50-59</th>\n      <th>population_60-69</th>\n      <th>population_70+</th>\n    </tr>\n  </thead>\n  <tbody>\n    <tr>\n      <th>0</th>\n      <td>1100</td>\n      <td>91350</td>\n      <td>85660</td>\n      <td>148805</td>\n      <td>125617</td>\n      <td>99834</td>\n      <td>81115</td>\n      <td>63261</td>\n      <td>51140</td>\n      <td>50298</td>\n    </tr>\n    <tr>\n      <th>1</th>\n      <td>1101</td>\n      <td>39848</td>\n      <td>32811</td>\n      <td>57822</td>\n      <td>45849</td>\n      <td>29948</td>\n      <td>23961</td>\n      <td>18944</td>\n      <td>15843</td>\n      <td>17449</td>\n    </tr>\n    <tr>\n      <th>2</th>\n      <td>1103</td>\n      <td>21453</td>\n      <td>19019</td>\n      <td>27366</td>\n      <td>17534</td>\n      <td>14239</td>\n      <td>10275</td>\n      <td>7471</td>\n      <td>4943</td>\n      <td>4350</td>\n    </tr>\n    <tr>\n      <th>3</th>\n      <td>2100</td>\n      <td>14346</td>\n      <td>13429</td>\n      <td>23977</td>\n      <td>22271</td>\n      <td>16873</td>\n      <td>15618</td>\n      <td>14006</td>\n      <td>11541</td>\n      <td>9864</td>\n    </tr>\n    <tr>\n      <th>4</th>\n      <td>2200</td>\n      <td>9795</td>\n      <td>8968</td>\n      <td>16807</td>\n      <td>15434</td>\n      <td>11712</td>\n      <td>11236</td>\n      <td>10151</td>\n      <td>8974</td>\n      <td>7444</td>\n    </tr>\n  </tbody>\n</table>\n</div>"
     },
     "execution_count": 33,
     "metadata": {},
     "output_type": "execute_result"
    }
   ],
   "source": [
    "population_per_county_age_group.head()"
   ]
  },
  {
   "cell_type": "markdown",
   "metadata": {},
   "source": [
    "* Merging it with the most updated data frame; merging by the county_id field:"
   ]
  },
  {
   "cell_type": "code",
   "execution_count": 34,
   "metadata": {},
   "outputs": [],
   "source": [
    "full_pop_df = df_filled_zeros.merge(population_per_county_age_group, how= 'inner', left_on= 'county_id',\n",
    "                                   right_on= 'county_id').drop(columns= ['population'], axis= 1)\n",
    "full_pop_df.sort_values(by= ['county_id', 'Date'], inplace= True)\n",
    "full_pop_df.drop('index', axis= 1, inplace= True)"
   ]
  },
  {
   "cell_type": "markdown",
   "source": [
    "* Involving the morbidity data"
   ],
   "metadata": {
    "collapsed": false,
    "pycharm": {
     "name": "#%% md\n"
    }
   }
  },
  {
   "cell_type": "code",
   "execution_count": 35,
   "outputs": [],
   "source": [
    "morbidity_df = pd.read_excel(DATA_DIR + '/calibration/smoothed_cases_by_age_county.xlsx', engine= 'openpyxl', index_col= 0)"
   ],
   "metadata": {
    "collapsed": false,
    "pycharm": {
     "name": "#%%\n"
    }
   }
  },
  {
   "cell_type": "code",
   "execution_count": 36,
   "outputs": [],
   "source": [
    "# Shifting the vaccinations 3 days backwards to match the smoothed morbidity data in a manner of timing\n",
    "full_pop_df_shifted = full_pop_df.set_index(\"Date\", drop= True).shift(periods= -3, freq= \"D\")\n",
    "full_pop_df_shifted.reset_index(drop= False, inplace= True)\n"
   ],
   "metadata": {
    "collapsed": false,
    "pycharm": {
     "name": "#%%\n"
    }
   }
  },
  {
   "cell_type": "code",
   "execution_count": 37,
   "outputs": [],
   "source": [
    "# Merging the vaccinations data with the morbidity data\n",
    "vaccinations_morbidity_df = full_pop_df_shifted.merge(morbidity_df, how= 'inner', left_on= ['county_string_id', 'Date'],\n",
    "                                                      right_on= ['30_county', 'date'])"
   ],
   "metadata": {
    "collapsed": false,
    "pycharm": {
     "name": "#%%\n"
    }
   }
  },
  {
   "cell_type": "code",
   "execution_count": 38,
   "outputs": [
    {
     "data": {
      "text/plain": "           Date  county_id county_string_id  absolute_first_dose_0-4  \\\n0    2020-12-17       1100               11                 0.000000   \n1    2020-12-18       1100               11                 0.500000   \n2    2020-12-19       1100               11                 2.463686   \n3    2020-12-20       1100               11                 0.676234   \n4    2020-12-21       1100               11                 1.808276   \n...         ...        ...              ...                      ...   \n9295 2021-10-18       7101        71_haredi                 3.400000   \n9296 2021-10-19       7101        71_haredi                 1.132441   \n9297 2021-10-20       7101        71_haredi                 0.016221   \n9298 2021-10-21       7101        71_haredi                 2.516221   \n9299 2021-10-22       7101        71_haredi                 2.900000   \n\n      absolute_first_dose_5-9  absolute_first_dose_10-19  \\\n0                    0.000000                   0.000000   \n1                    0.750000                   3.750000   \n2                    3.695528                  18.477642   \n3                    1.014350                   5.071752   \n4                    2.712414                  13.562068   \n...                       ...                        ...   \n9295                 5.100000                  25.500000   \n9296                 1.698662                   8.493308   \n9297                 0.024331                   0.121654   \n9298                 3.774331                  18.871654   \n9299                 4.350000                  21.750000   \n\n      absolute_first_dose_20-29  absolute_first_dose_30-39  \\\n0                     28.091385                  67.707441   \n1                     79.350944                 195.650540   \n2                    145.121229                 264.854762   \n3                    200.028280                 281.904104   \n4                    192.267274                 261.193117   \n...                         ...                        ...   \n9295                  27.000000                  12.162205   \n9296                  20.000000                  18.000000   \n9297                   0.000000                   0.000000   \n9298                  28.000000                  12.000000   \n9299                  23.000000                  17.000000   \n\n      absolute_first_dose_40-49  absolute_first_dose_50-59  \\\n0                     71.308901                 107.833572   \n1                    222.454450                 233.191345   \n2                    287.544297                 277.677074   \n3                    300.476135                 321.032893   \n4                    309.562881                 378.288464   \n...                         ...                        ...   \n9295                  10.000000                   6.000000   \n9296                   4.162205                   3.000000   \n9297                   0.000000                   0.000000   \n9298                  13.000000                   2.000000   \n9299                   8.000000                   3.000000   \n\n      absolute_first_dose_60-69  absolute_first_dose_70+  population_0-4  \\\n0                    158.932255               105.882913           91350   \n1                    758.819910               754.779429           91350   \n2                   1000.299173              1366.926903           91350   \n3                   1232.112569              1557.705111           91350   \n4                   1344.256606              1677.690044           91350   \n...                         ...                      ...             ...   \n9295                   1.000000                 0.000000           30168   \n9296                   1.000000                 0.000000           30168   \n9297                   0.000000                 0.000000           30168   \n9298                   0.000000                 1.000000           30168   \n9299                   0.000000                 0.000000           30168   \n\n      population_5-9  population_10-19  population_20-29  population_30-39  \\\n0              85660            148805            125617             99834   \n1              85660            148805            125617             99834   \n2              85660            148805            125617             99834   \n3              85660            148805            125617             99834   \n4              85660            148805            125617             99834   \n...              ...               ...               ...               ...   \n9295           30022             35857             19886             18481   \n9296           30022             35857             19886             18481   \n9297           30022             35857             19886             18481   \n9298           30022             35857             19886             18481   \n9299           30022             35857             19886             18481   \n\n      population_40-49  population_50-59  population_60-69  population_70+  \\\n0                81115             63261             51140           50298   \n1                81115             63261             51140           50298   \n2                81115             63261             51140           50298   \n3                81115             63261             51140           50298   \n4                81115             63261             51140           50298   \n...                ...               ...               ...             ...   \n9295             11554              5201              2621            2175   \n9296             11554              5201              2621            2175   \n9297             11554              5201              2621            2175   \n9298             11554              5201              2621            2175   \n9299             11554              5201              2621            2175   \n\n           date  30_county  0-4_absolute_cases  5-9_absolute_cases  \\\n0    2020-12-17         11           32.411892           40.056201   \n1    2020-12-18         11           32.557289           40.235890   \n2    2020-12-19         11           33.266690           41.112602   \n3    2020-12-20         11           36.205183           44.744135   \n4    2020-12-21         11           36.872058           45.568293   \n...         ...        ...                 ...                 ...   \n9295 2021-10-18  71_haredi            2.896248            4.947357   \n9296 2021-10-19  71_haredi            2.862653            4.889970   \n9297 2021-10-20  71_haredi            2.676096            4.571294   \n9298 2021-10-21  71_haredi            2.602896            4.446254   \n9299 2021-10-22  71_haredi            2.802161            4.786638   \n\n      10-19_absolute_cases  20-29_absolute_cases  30-39_absolute_cases  \\\n0                97.166106             99.936453             81.859323   \n1                97.601987            100.384762             82.226540   \n2                99.728665            102.572075             84.018198   \n3               108.537837            111.832697             88.470947   \n4               110.537032            113.892582             90.100524   \n...                    ...                   ...                   ...   \n9295              6.527655              2.050741              2.770751   \n9296              6.451938              2.026954              2.738611   \n9297              6.031470              1.894859              2.560138   \n9298              5.866488              1.843028              2.490110   \n9299              6.315599              1.984121              2.680741   \n\n      40-49_absolute_cases  50-59_absolute_cases  60-69_absolute_cases  \\\n0                80.041696             59.981701             40.582660   \n1                80.400759             60.250775             40.764712   \n2                82.152634             61.563597             41.652946   \n3                81.462422             59.245398             42.284768   \n4                82.962907             60.336659             43.063625   \n...                    ...                   ...                   ...   \n9295              1.915739              0.803582              0.507864   \n9296              1.893518              0.794261              0.501973   \n9297              1.770119              0.742499              0.469260   \n9298              1.721700              0.722190              0.456424   \n9299              1.853505              0.777477              0.491365   \n\n      70+_absolute_cases  \n0              35.823781  \n1              35.984485  \n2              36.768561  \n3              33.570835  \n4              34.189188  \n...                  ...  \n9295            0.482149  \n9296            0.476557  \n9297            0.445500  \n9298            0.433314  \n9299            0.466486  \n\n[9300 rows x 32 columns]",
      "text/html": "<div>\n<style scoped>\n    .dataframe tbody tr th:only-of-type {\n        vertical-align: middle;\n    }\n\n    .dataframe tbody tr th {\n        vertical-align: top;\n    }\n\n    .dataframe thead th {\n        text-align: right;\n    }\n</style>\n<table border=\"1\" class=\"dataframe\">\n  <thead>\n    <tr style=\"text-align: right;\">\n      <th></th>\n      <th>Date</th>\n      <th>county_id</th>\n      <th>county_string_id</th>\n      <th>absolute_first_dose_0-4</th>\n      <th>absolute_first_dose_5-9</th>\n      <th>absolute_first_dose_10-19</th>\n      <th>absolute_first_dose_20-29</th>\n      <th>absolute_first_dose_30-39</th>\n      <th>absolute_first_dose_40-49</th>\n      <th>absolute_first_dose_50-59</th>\n      <th>absolute_first_dose_60-69</th>\n      <th>absolute_first_dose_70+</th>\n      <th>population_0-4</th>\n      <th>population_5-9</th>\n      <th>population_10-19</th>\n      <th>population_20-29</th>\n      <th>population_30-39</th>\n      <th>population_40-49</th>\n      <th>population_50-59</th>\n      <th>population_60-69</th>\n      <th>population_70+</th>\n      <th>date</th>\n      <th>30_county</th>\n      <th>0-4_absolute_cases</th>\n      <th>5-9_absolute_cases</th>\n      <th>10-19_absolute_cases</th>\n      <th>20-29_absolute_cases</th>\n      <th>30-39_absolute_cases</th>\n      <th>40-49_absolute_cases</th>\n      <th>50-59_absolute_cases</th>\n      <th>60-69_absolute_cases</th>\n      <th>70+_absolute_cases</th>\n    </tr>\n  </thead>\n  <tbody>\n    <tr>\n      <th>0</th>\n      <td>2020-12-17</td>\n      <td>1100</td>\n      <td>11</td>\n      <td>0.000000</td>\n      <td>0.000000</td>\n      <td>0.000000</td>\n      <td>28.091385</td>\n      <td>67.707441</td>\n      <td>71.308901</td>\n      <td>107.833572</td>\n      <td>158.932255</td>\n      <td>105.882913</td>\n      <td>91350</td>\n      <td>85660</td>\n      <td>148805</td>\n      <td>125617</td>\n      <td>99834</td>\n      <td>81115</td>\n      <td>63261</td>\n      <td>51140</td>\n      <td>50298</td>\n      <td>2020-12-17</td>\n      <td>11</td>\n      <td>32.411892</td>\n      <td>40.056201</td>\n      <td>97.166106</td>\n      <td>99.936453</td>\n      <td>81.859323</td>\n      <td>80.041696</td>\n      <td>59.981701</td>\n      <td>40.582660</td>\n      <td>35.823781</td>\n    </tr>\n    <tr>\n      <th>1</th>\n      <td>2020-12-18</td>\n      <td>1100</td>\n      <td>11</td>\n      <td>0.500000</td>\n      <td>0.750000</td>\n      <td>3.750000</td>\n      <td>79.350944</td>\n      <td>195.650540</td>\n      <td>222.454450</td>\n      <td>233.191345</td>\n      <td>758.819910</td>\n      <td>754.779429</td>\n      <td>91350</td>\n      <td>85660</td>\n      <td>148805</td>\n      <td>125617</td>\n      <td>99834</td>\n      <td>81115</td>\n      <td>63261</td>\n      <td>51140</td>\n      <td>50298</td>\n      <td>2020-12-18</td>\n      <td>11</td>\n      <td>32.557289</td>\n      <td>40.235890</td>\n      <td>97.601987</td>\n      <td>100.384762</td>\n      <td>82.226540</td>\n      <td>80.400759</td>\n      <td>60.250775</td>\n      <td>40.764712</td>\n      <td>35.984485</td>\n    </tr>\n    <tr>\n      <th>2</th>\n      <td>2020-12-19</td>\n      <td>1100</td>\n      <td>11</td>\n      <td>2.463686</td>\n      <td>3.695528</td>\n      <td>18.477642</td>\n      <td>145.121229</td>\n      <td>264.854762</td>\n      <td>287.544297</td>\n      <td>277.677074</td>\n      <td>1000.299173</td>\n      <td>1366.926903</td>\n      <td>91350</td>\n      <td>85660</td>\n      <td>148805</td>\n      <td>125617</td>\n      <td>99834</td>\n      <td>81115</td>\n      <td>63261</td>\n      <td>51140</td>\n      <td>50298</td>\n      <td>2020-12-19</td>\n      <td>11</td>\n      <td>33.266690</td>\n      <td>41.112602</td>\n      <td>99.728665</td>\n      <td>102.572075</td>\n      <td>84.018198</td>\n      <td>82.152634</td>\n      <td>61.563597</td>\n      <td>41.652946</td>\n      <td>36.768561</td>\n    </tr>\n    <tr>\n      <th>3</th>\n      <td>2020-12-20</td>\n      <td>1100</td>\n      <td>11</td>\n      <td>0.676234</td>\n      <td>1.014350</td>\n      <td>5.071752</td>\n      <td>200.028280</td>\n      <td>281.904104</td>\n      <td>300.476135</td>\n      <td>321.032893</td>\n      <td>1232.112569</td>\n      <td>1557.705111</td>\n      <td>91350</td>\n      <td>85660</td>\n      <td>148805</td>\n      <td>125617</td>\n      <td>99834</td>\n      <td>81115</td>\n      <td>63261</td>\n      <td>51140</td>\n      <td>50298</td>\n      <td>2020-12-20</td>\n      <td>11</td>\n      <td>36.205183</td>\n      <td>44.744135</td>\n      <td>108.537837</td>\n      <td>111.832697</td>\n      <td>88.470947</td>\n      <td>81.462422</td>\n      <td>59.245398</td>\n      <td>42.284768</td>\n      <td>33.570835</td>\n    </tr>\n    <tr>\n      <th>4</th>\n      <td>2020-12-21</td>\n      <td>1100</td>\n      <td>11</td>\n      <td>1.808276</td>\n      <td>2.712414</td>\n      <td>13.562068</td>\n      <td>192.267274</td>\n      <td>261.193117</td>\n      <td>309.562881</td>\n      <td>378.288464</td>\n      <td>1344.256606</td>\n      <td>1677.690044</td>\n      <td>91350</td>\n      <td>85660</td>\n      <td>148805</td>\n      <td>125617</td>\n      <td>99834</td>\n      <td>81115</td>\n      <td>63261</td>\n      <td>51140</td>\n      <td>50298</td>\n      <td>2020-12-21</td>\n      <td>11</td>\n      <td>36.872058</td>\n      <td>45.568293</td>\n      <td>110.537032</td>\n      <td>113.892582</td>\n      <td>90.100524</td>\n      <td>82.962907</td>\n      <td>60.336659</td>\n      <td>43.063625</td>\n      <td>34.189188</td>\n    </tr>\n    <tr>\n      <th>...</th>\n      <td>...</td>\n      <td>...</td>\n      <td>...</td>\n      <td>...</td>\n      <td>...</td>\n      <td>...</td>\n      <td>...</td>\n      <td>...</td>\n      <td>...</td>\n      <td>...</td>\n      <td>...</td>\n      <td>...</td>\n      <td>...</td>\n      <td>...</td>\n      <td>...</td>\n      <td>...</td>\n      <td>...</td>\n      <td>...</td>\n      <td>...</td>\n      <td>...</td>\n      <td>...</td>\n      <td>...</td>\n      <td>...</td>\n      <td>...</td>\n      <td>...</td>\n      <td>...</td>\n      <td>...</td>\n      <td>...</td>\n      <td>...</td>\n      <td>...</td>\n      <td>...</td>\n      <td>...</td>\n    </tr>\n    <tr>\n      <th>9295</th>\n      <td>2021-10-18</td>\n      <td>7101</td>\n      <td>71_haredi</td>\n      <td>3.400000</td>\n      <td>5.100000</td>\n      <td>25.500000</td>\n      <td>27.000000</td>\n      <td>12.162205</td>\n      <td>10.000000</td>\n      <td>6.000000</td>\n      <td>1.000000</td>\n      <td>0.000000</td>\n      <td>30168</td>\n      <td>30022</td>\n      <td>35857</td>\n      <td>19886</td>\n      <td>18481</td>\n      <td>11554</td>\n      <td>5201</td>\n      <td>2621</td>\n      <td>2175</td>\n      <td>2021-10-18</td>\n      <td>71_haredi</td>\n      <td>2.896248</td>\n      <td>4.947357</td>\n      <td>6.527655</td>\n      <td>2.050741</td>\n      <td>2.770751</td>\n      <td>1.915739</td>\n      <td>0.803582</td>\n      <td>0.507864</td>\n      <td>0.482149</td>\n    </tr>\n    <tr>\n      <th>9296</th>\n      <td>2021-10-19</td>\n      <td>7101</td>\n      <td>71_haredi</td>\n      <td>1.132441</td>\n      <td>1.698662</td>\n      <td>8.493308</td>\n      <td>20.000000</td>\n      <td>18.000000</td>\n      <td>4.162205</td>\n      <td>3.000000</td>\n      <td>1.000000</td>\n      <td>0.000000</td>\n      <td>30168</td>\n      <td>30022</td>\n      <td>35857</td>\n      <td>19886</td>\n      <td>18481</td>\n      <td>11554</td>\n      <td>5201</td>\n      <td>2621</td>\n      <td>2175</td>\n      <td>2021-10-19</td>\n      <td>71_haredi</td>\n      <td>2.862653</td>\n      <td>4.889970</td>\n      <td>6.451938</td>\n      <td>2.026954</td>\n      <td>2.738611</td>\n      <td>1.893518</td>\n      <td>0.794261</td>\n      <td>0.501973</td>\n      <td>0.476557</td>\n    </tr>\n    <tr>\n      <th>9297</th>\n      <td>2021-10-20</td>\n      <td>7101</td>\n      <td>71_haredi</td>\n      <td>0.016221</td>\n      <td>0.024331</td>\n      <td>0.121654</td>\n      <td>0.000000</td>\n      <td>0.000000</td>\n      <td>0.000000</td>\n      <td>0.000000</td>\n      <td>0.000000</td>\n      <td>0.000000</td>\n      <td>30168</td>\n      <td>30022</td>\n      <td>35857</td>\n      <td>19886</td>\n      <td>18481</td>\n      <td>11554</td>\n      <td>5201</td>\n      <td>2621</td>\n      <td>2175</td>\n      <td>2021-10-20</td>\n      <td>71_haredi</td>\n      <td>2.676096</td>\n      <td>4.571294</td>\n      <td>6.031470</td>\n      <td>1.894859</td>\n      <td>2.560138</td>\n      <td>1.770119</td>\n      <td>0.742499</td>\n      <td>0.469260</td>\n      <td>0.445500</td>\n    </tr>\n    <tr>\n      <th>9298</th>\n      <td>2021-10-21</td>\n      <td>7101</td>\n      <td>71_haredi</td>\n      <td>2.516221</td>\n      <td>3.774331</td>\n      <td>18.871654</td>\n      <td>28.000000</td>\n      <td>12.000000</td>\n      <td>13.000000</td>\n      <td>2.000000</td>\n      <td>0.000000</td>\n      <td>1.000000</td>\n      <td>30168</td>\n      <td>30022</td>\n      <td>35857</td>\n      <td>19886</td>\n      <td>18481</td>\n      <td>11554</td>\n      <td>5201</td>\n      <td>2621</td>\n      <td>2175</td>\n      <td>2021-10-21</td>\n      <td>71_haredi</td>\n      <td>2.602896</td>\n      <td>4.446254</td>\n      <td>5.866488</td>\n      <td>1.843028</td>\n      <td>2.490110</td>\n      <td>1.721700</td>\n      <td>0.722190</td>\n      <td>0.456424</td>\n      <td>0.433314</td>\n    </tr>\n    <tr>\n      <th>9299</th>\n      <td>2021-10-22</td>\n      <td>7101</td>\n      <td>71_haredi</td>\n      <td>2.900000</td>\n      <td>4.350000</td>\n      <td>21.750000</td>\n      <td>23.000000</td>\n      <td>17.000000</td>\n      <td>8.000000</td>\n      <td>3.000000</td>\n      <td>0.000000</td>\n      <td>0.000000</td>\n      <td>30168</td>\n      <td>30022</td>\n      <td>35857</td>\n      <td>19886</td>\n      <td>18481</td>\n      <td>11554</td>\n      <td>5201</td>\n      <td>2621</td>\n      <td>2175</td>\n      <td>2021-10-22</td>\n      <td>71_haredi</td>\n      <td>2.802161</td>\n      <td>4.786638</td>\n      <td>6.315599</td>\n      <td>1.984121</td>\n      <td>2.680741</td>\n      <td>1.853505</td>\n      <td>0.777477</td>\n      <td>0.491365</td>\n      <td>0.466486</td>\n    </tr>\n  </tbody>\n</table>\n<p>9300 rows × 32 columns</p>\n</div>"
     },
     "execution_count": 38,
     "metadata": {},
     "output_type": "execute_result"
    }
   ],
   "source": [
    "vaccinations_morbidity_df"
   ],
   "metadata": {
    "collapsed": false,
    "pycharm": {
     "name": "#%%\n"
    }
   }
  },
  {
   "cell_type": "markdown",
   "source": [
    "getting the proportion of vaccinated individuals: <br>\n",
    "* grouping by the county id, then create a new column to keep track on the non_vaccinated_population (by substraction of the amount of vaccinated individuals). The non_vaccinated_population are the individuals who are eligible to be vaccinated!"
   ],
   "metadata": {
    "collapsed": false
   }
  },
  {
   "cell_type": "code",
   "execution_count": 39,
   "outputs": [],
   "source": [
    "def get_proportion_of_vaccinated_people(df):\n",
    "    df_copy = df.copy()\n",
    "    # Creating new columns of the non-vaccinated population for each age-group:\n",
    "    for column in df_copy.columns[12:21]:\n",
    "        age_group_ending = column.split('_').pop()\n",
    "        df_copy['eligible_for_vaccine_' + age_group_ending] = np.nan\n",
    "\n",
    "    for i in range(df_copy.shape[0]):\n",
    "        if i == 0:\n",
    "            df_copy.iloc[i, 32:] = df_copy.iloc[i, 12:21].to_numpy()   # update the first value with the original population size\n",
    "        else:\n",
    "            df_copy.iloc[i, 32:] = ((df_copy.iloc[i-1, 32: ].to_numpy()) - (df.iloc[i-1, 3:12].to_numpy())) \\\n",
    "                                   - ((df.iloc[i-1, 23:33].to_numpy()))\n",
    "            # update the non vaccinated population\n",
    "\n",
    "    # Creating proportion column - dividing by the population that haven't been vaccinated so far for each age-group\n",
    "    for column in df_copy.columns[3:12]:\n",
    "        age_group_ending = column.split('_').pop()\n",
    "        first_dose_age_group_ending = '_'.join(column.split('_')[1:])\n",
    "        df_copy['prop_' + first_dose_age_group_ending] = (df_copy[column] / df_copy['eligible_for_vaccine_' + age_group_ending])\n",
    "\n",
    "    return df_copy"
   ],
   "metadata": {
    "collapsed": false,
    "pycharm": {
     "name": "#%%\n"
    }
   }
  },
  {
   "cell_type": "code",
   "execution_count": 40,
   "metadata": {
    "scrolled": true
   },
   "outputs": [],
   "source": [
    "# Applying the function above\n",
    "proportion_df = vaccinations_morbidity_df.groupby(by= ['county_id'], as_index= False).apply(get_proportion_of_vaccinated_people)"
   ]
  },
  {
   "cell_type": "code",
   "execution_count": 41,
   "outputs": [],
   "source": [
    "proportion_df.drop(columns= ['date', '30_county'], axis= 1, inplace= True)"
   ],
   "metadata": {
    "collapsed": false,
    "pycharm": {
     "name": "#%%\n"
    }
   }
  },
  {
   "cell_type": "code",
   "execution_count": 42,
   "outputs": [
    {
     "data": {
      "text/plain": "array([], dtype=int64)"
     },
     "execution_count": 42,
     "metadata": {},
     "output_type": "execute_result"
    }
   ],
   "source": [
    "proportion_df[(proportion_df.iloc[: , 3:] < 0).any(1)]['county_id'].unique()"
   ],
   "metadata": {
    "collapsed": false,
    "pycharm": {
     "name": "#%%\n"
    }
   }
  },
  {
   "cell_type": "code",
   "execution_count": 43,
   "metadata": {
    "scrolled": true
   },
   "outputs": [
    {
     "data": {
      "text/plain": "Empty DataFrame\nColumns: [Date, county_id, county_string_id, absolute_first_dose_0-4, absolute_first_dose_5-9, absolute_first_dose_10-19, absolute_first_dose_20-29, absolute_first_dose_30-39, absolute_first_dose_40-49, absolute_first_dose_50-59, absolute_first_dose_60-69, absolute_first_dose_70+, population_0-4, population_5-9, population_10-19, population_20-29, population_30-39, population_40-49, population_50-59, population_60-69, population_70+, 0-4_absolute_cases, 5-9_absolute_cases, 10-19_absolute_cases, 20-29_absolute_cases, 30-39_absolute_cases, 40-49_absolute_cases, 50-59_absolute_cases, 60-69_absolute_cases, 70+_absolute_cases, eligible_for_vaccine_0-4, eligible_for_vaccine_5-9, eligible_for_vaccine_10-19, eligible_for_vaccine_20-29, eligible_for_vaccine_30-39, eligible_for_vaccine_40-49, eligible_for_vaccine_50-59, eligible_for_vaccine_60-69, eligible_for_vaccine_70+, prop_first_dose_0-4, prop_first_dose_5-9, prop_first_dose_10-19, prop_first_dose_20-29, prop_first_dose_30-39, prop_first_dose_40-49, prop_first_dose_50-59, prop_first_dose_60-69, prop_first_dose_70+]\nIndex: []",
      "text/html": "<div>\n<style scoped>\n    .dataframe tbody tr th:only-of-type {\n        vertical-align: middle;\n    }\n\n    .dataframe tbody tr th {\n        vertical-align: top;\n    }\n\n    .dataframe thead th {\n        text-align: right;\n    }\n</style>\n<table border=\"1\" class=\"dataframe\">\n  <thead>\n    <tr style=\"text-align: right;\">\n      <th></th>\n      <th></th>\n      <th>Date</th>\n      <th>county_id</th>\n      <th>county_string_id</th>\n      <th>absolute_first_dose_0-4</th>\n      <th>absolute_first_dose_5-9</th>\n      <th>absolute_first_dose_10-19</th>\n      <th>absolute_first_dose_20-29</th>\n      <th>absolute_first_dose_30-39</th>\n      <th>absolute_first_dose_40-49</th>\n      <th>absolute_first_dose_50-59</th>\n      <th>absolute_first_dose_60-69</th>\n      <th>absolute_first_dose_70+</th>\n      <th>population_0-4</th>\n      <th>population_5-9</th>\n      <th>population_10-19</th>\n      <th>population_20-29</th>\n      <th>population_30-39</th>\n      <th>population_40-49</th>\n      <th>population_50-59</th>\n      <th>population_60-69</th>\n      <th>population_70+</th>\n      <th>0-4_absolute_cases</th>\n      <th>5-9_absolute_cases</th>\n      <th>10-19_absolute_cases</th>\n      <th>20-29_absolute_cases</th>\n      <th>30-39_absolute_cases</th>\n      <th>40-49_absolute_cases</th>\n      <th>50-59_absolute_cases</th>\n      <th>60-69_absolute_cases</th>\n      <th>70+_absolute_cases</th>\n      <th>eligible_for_vaccine_0-4</th>\n      <th>eligible_for_vaccine_5-9</th>\n      <th>eligible_for_vaccine_10-19</th>\n      <th>eligible_for_vaccine_20-29</th>\n      <th>eligible_for_vaccine_30-39</th>\n      <th>eligible_for_vaccine_40-49</th>\n      <th>eligible_for_vaccine_50-59</th>\n      <th>eligible_for_vaccine_60-69</th>\n      <th>eligible_for_vaccine_70+</th>\n      <th>prop_first_dose_0-4</th>\n      <th>prop_first_dose_5-9</th>\n      <th>prop_first_dose_10-19</th>\n      <th>prop_first_dose_20-29</th>\n      <th>prop_first_dose_30-39</th>\n      <th>prop_first_dose_40-49</th>\n      <th>prop_first_dose_50-59</th>\n      <th>prop_first_dose_60-69</th>\n      <th>prop_first_dose_70+</th>\n    </tr>\n  </thead>\n  <tbody>\n  </tbody>\n</table>\n</div>"
     },
     "execution_count": 43,
     "metadata": {},
     "output_type": "execute_result"
    }
   ],
   "source": [
    "proportion_df[(proportion_df.iloc[: , 3:] < 0).any(1)]"
   ]
  },
  {
   "cell_type": "code",
   "execution_count": 44,
   "outputs": [
    {
     "data": {
      "text/plain": "Index(['Date', 'county_id', 'county_string_id', 'absolute_first_dose_0-4',\n       'absolute_first_dose_5-9', 'absolute_first_dose_10-19',\n       'absolute_first_dose_20-29', 'absolute_first_dose_30-39',\n       'absolute_first_dose_40-49', 'absolute_first_dose_50-59',\n       'absolute_first_dose_60-69', 'absolute_first_dose_70+',\n       'population_0-4', 'population_5-9', 'population_10-19',\n       'population_20-29', 'population_30-39', 'population_40-49',\n       'population_50-59', 'population_60-69', 'population_70+',\n       '0-4_absolute_cases', '5-9_absolute_cases', '10-19_absolute_cases',\n       '20-29_absolute_cases', '30-39_absolute_cases', '40-49_absolute_cases',\n       '50-59_absolute_cases', '60-69_absolute_cases', '70+_absolute_cases',\n       'eligible_for_vaccine_0-4', 'eligible_for_vaccine_5-9',\n       'eligible_for_vaccine_10-19', 'eligible_for_vaccine_20-29',\n       'eligible_for_vaccine_30-39', 'eligible_for_vaccine_40-49',\n       'eligible_for_vaccine_50-59', 'eligible_for_vaccine_60-69',\n       'eligible_for_vaccine_70+', 'prop_first_dose_0-4',\n       'prop_first_dose_5-9', 'prop_first_dose_10-19', 'prop_first_dose_20-29',\n       'prop_first_dose_30-39', 'prop_first_dose_40-49',\n       'prop_first_dose_50-59', 'prop_first_dose_60-69',\n       'prop_first_dose_70+'],\n      dtype='object')"
     },
     "execution_count": 44,
     "metadata": {},
     "output_type": "execute_result"
    }
   ],
   "source": [
    "proportion_df.columns"
   ],
   "metadata": {
    "collapsed": false,
    "pycharm": {
     "name": "#%%\n"
    }
   }
  },
  {
   "cell_type": "code",
   "execution_count": 45,
   "outputs": [
    {
     "data": {
      "text/plain": "48"
     },
     "execution_count": 45,
     "metadata": {},
     "output_type": "execute_result"
    }
   ],
   "source": [
    "len(proportion_df.columns)"
   ],
   "metadata": {
    "collapsed": false,
    "pycharm": {
     "name": "#%%\n"
    }
   }
  },
  {
   "cell_type": "code",
   "execution_count": 47,
   "metadata": {},
   "outputs": [],
   "source": [
    "# Reordering the columns\n",
    "all_columns = proportion_df.columns.tolist()\n",
    "new_ordered_columns = all_columns[0:3] + all_columns[39:] + all_columns[3:39]\n",
    "proportion_df = proportion_df[new_ordered_columns]"
   ]
  },
  {
   "cell_type": "code",
   "execution_count": 48,
   "metadata": {},
   "outputs": [],
   "source": [
    "proportion_df.to_excel(DATA_DIR + '/Vaccinations/First_dose_vaccination_by_30area_age.xlsx', index= False)"
   ]
  },
  {
   "cell_type": "code",
   "execution_count": 63,
   "metadata": {},
   "outputs": [
    {
     "data": {
      "text/plain": "              Date  county_id county_string_id  prop_first_dose_5-9  \\\n29 9295 2021-10-18       7101        71_haredi         2.024702e-04   \n   9296 2021-10-19       7101        71_haredi         6.746383e-05   \n   9297 2021-10-20       7101        71_haredi         9.665706e-07   \n   9298 2021-10-21       7101        71_haredi         1.499675e-04   \n   9299 2021-10-22       7101        71_haredi         1.728973e-04   \n\n         prop_first_dose_10-19  prop_first_dose_20-29  prop_first_dose_30-39  \\\n29 9295               0.001330               0.009604               0.002541   \n   9296               0.000444               0.007188               0.003772   \n   9297               0.000006               0.000000               0.000000   \n   9298               0.000987               0.010151               0.002527   \n   9299               0.001139               0.008429               0.003591   \n\n         prop_first_dose_40-49  prop_first_dose_50-59  prop_first_dose_60-69  \\\n29 9295               0.010539               0.395498               0.031031   \n   9296               0.004442               0.358544               0.032554   \n   9297               0.000000               0.000000               0.000000   \n   9298               0.013991               0.522138               0.000000   \n   9299               0.008749               2.707046               0.000000   \n\n         prop_first_dose_70+  absolute_first_dose_0-4  \\\n29 9295             0.000000                 3.400000   \n   9296             0.000000                 1.132441   \n   9297             0.000000                 0.016221   \n   9298             0.012718                 2.516221   \n   9299             0.000000                 2.900000   \n\n         absolute_first_dose_5-9  absolute_first_dose_10-19  \\\n29 9295                 5.100000                  25.500000   \n   9296                 1.698662                   8.493308   \n   9297                 0.024331                   0.121654   \n   9298                 3.774331                  18.871654   \n   9299                 4.350000                  21.750000   \n\n         absolute_first_dose_20-29  absolute_first_dose_30-39  \\\n29 9295                       27.0                  12.162205   \n   9296                       20.0                  18.000000   \n   9297                        0.0                   0.000000   \n   9298                       28.0                  12.000000   \n   9299                       23.0                  17.000000   \n\n         absolute_first_dose_40-49  absolute_first_dose_50-59  \\\n29 9295                  10.000000                        6.0   \n   9296                   4.162205                        3.0   \n   9297                   0.000000                        0.0   \n   9298                  13.000000                        2.0   \n   9299                   8.000000                        3.0   \n\n         absolute_first_dose_60-69  absolute_first_dose_70+  population_0-4  \\\n29 9295                        1.0                      0.0           30168   \n   9296                        1.0                      0.0           30168   \n   9297                        0.0                      0.0           30168   \n   9298                        0.0                      1.0           30168   \n   9299                        0.0                      0.0           30168   \n\n         population_5-9  population_10-19  population_20-29  population_30-39  \\\n29 9295           30022             35857             19886             18481   \n   9296           30022             35857             19886             18481   \n   9297           30022             35857             19886             18481   \n   9298           30022             35857             19886             18481   \n   9299           30022             35857             19886             18481   \n\n         population_40-49  population_50-59  population_60-69  population_70+  \\\n29 9295             11554              5201              2621            2175   \n   9296             11554              5201              2621            2175   \n   9297             11554              5201              2621            2175   \n   9298             11554              5201              2621            2175   \n   9299             11554              5201              2621            2175   \n\n         0-4_absolute_cases  5-9_absolute_cases  10-19_absolute_cases  \\\n29 9295            2.896248            4.947357              6.527655   \n   9296            2.862653            4.889970              6.451938   \n   9297            2.676096            4.571294              6.031470   \n   9298            2.602896            4.446254              5.866488   \n   9299            2.802161            4.786638              6.315599   \n\n         20-29_absolute_cases  30-39_absolute_cases  40-49_absolute_cases  \\\n29 9295              2.050741              2.770751              1.915739   \n   9296              2.026954              2.738611              1.893518   \n   9297              1.894859              2.560138              1.770119   \n   9298              1.843028              2.490110              1.721700   \n   9299              1.984121              2.680741              1.853505   \n\n         50-59_absolute_cases  60-69_absolute_cases  70+_absolute_cases  \\\n29 9295              0.803582              0.507864            0.482149   \n   9296              0.794261              0.501973            0.476557   \n   9297              0.742499              0.469260            0.445500   \n   9298              0.722190              0.456424            0.433314   \n   9299              0.777477              0.491365            0.466486   \n\n         eligible_for_vaccine_0-4  eligible_for_vaccine_5-9  \\\n29 9295              26786.088076              25188.896707   \n   9296              26779.791828              25178.849350   \n   9297              26775.796733              25172.260719   \n   9298              26773.104416              25167.665094   \n   9299              26767.985300              25159.444509   \n\n         eligible_for_vaccine_10-19  eligible_for_vaccine_20-29  \\\n29 9295                19174.773568                 2811.377327   \n   9296                19142.745912                 2782.326586   \n   9297                19127.800667                 2760.299632   \n   9298                19121.647544                 2758.404773   \n   9299                19096.909402                 2728.561746   \n\n         eligible_for_vaccine_30-39  eligible_for_vaccine_40-49  \\\n29 9295                 4786.421612                  948.898805   \n   9296                 4771.488656                  936.983066   \n   9297                 4750.750044                  930.927343   \n   9298                 4748.189906                  929.157224   \n   9299                 4733.699797                  914.435524   \n\n         eligible_for_vaccine_50-59  eligible_for_vaccine_60-69  \\\n29 9295                   15.170751                   32.226308   \n   9296                    8.367169                   30.718445   \n   9297                    4.572908                   29.216472   \n   9298                    3.830408                   28.747212   \n   9299                    1.108219                   28.290788   \n\n         eligible_for_vaccine_70+  prop_first_dose_0-4  \n29 9295                 80.030549         1.269316e-04  \n   9296                 79.548400         4.228715e-05  \n   9297                 79.071843         6.057900e-07  \n   9298                 78.626344         9.398314e-05  \n   9299                 77.193030         1.083384e-04  ",
      "text/html": "<div>\n<style scoped>\n    .dataframe tbody tr th:only-of-type {\n        vertical-align: middle;\n    }\n\n    .dataframe tbody tr th {\n        vertical-align: top;\n    }\n\n    .dataframe thead th {\n        text-align: right;\n    }\n</style>\n<table border=\"1\" class=\"dataframe\">\n  <thead>\n    <tr style=\"text-align: right;\">\n      <th></th>\n      <th></th>\n      <th>Date</th>\n      <th>county_id</th>\n      <th>county_string_id</th>\n      <th>prop_first_dose_5-9</th>\n      <th>prop_first_dose_10-19</th>\n      <th>prop_first_dose_20-29</th>\n      <th>prop_first_dose_30-39</th>\n      <th>prop_first_dose_40-49</th>\n      <th>prop_first_dose_50-59</th>\n      <th>prop_first_dose_60-69</th>\n      <th>prop_first_dose_70+</th>\n      <th>absolute_first_dose_0-4</th>\n      <th>absolute_first_dose_5-9</th>\n      <th>absolute_first_dose_10-19</th>\n      <th>absolute_first_dose_20-29</th>\n      <th>absolute_first_dose_30-39</th>\n      <th>absolute_first_dose_40-49</th>\n      <th>absolute_first_dose_50-59</th>\n      <th>absolute_first_dose_60-69</th>\n      <th>absolute_first_dose_70+</th>\n      <th>population_0-4</th>\n      <th>population_5-9</th>\n      <th>population_10-19</th>\n      <th>population_20-29</th>\n      <th>population_30-39</th>\n      <th>population_40-49</th>\n      <th>population_50-59</th>\n      <th>population_60-69</th>\n      <th>population_70+</th>\n      <th>0-4_absolute_cases</th>\n      <th>5-9_absolute_cases</th>\n      <th>10-19_absolute_cases</th>\n      <th>20-29_absolute_cases</th>\n      <th>30-39_absolute_cases</th>\n      <th>40-49_absolute_cases</th>\n      <th>50-59_absolute_cases</th>\n      <th>60-69_absolute_cases</th>\n      <th>70+_absolute_cases</th>\n      <th>eligible_for_vaccine_0-4</th>\n      <th>eligible_for_vaccine_5-9</th>\n      <th>eligible_for_vaccine_10-19</th>\n      <th>eligible_for_vaccine_20-29</th>\n      <th>eligible_for_vaccine_30-39</th>\n      <th>eligible_for_vaccine_40-49</th>\n      <th>eligible_for_vaccine_50-59</th>\n      <th>eligible_for_vaccine_60-69</th>\n      <th>eligible_for_vaccine_70+</th>\n      <th>prop_first_dose_0-4</th>\n    </tr>\n  </thead>\n  <tbody>\n    <tr>\n      <th rowspan=\"5\" valign=\"top\">29</th>\n      <th>9295</th>\n      <td>2021-10-18</td>\n      <td>7101</td>\n      <td>71_haredi</td>\n      <td>2.024702e-04</td>\n      <td>0.001330</td>\n      <td>0.009604</td>\n      <td>0.002541</td>\n      <td>0.010539</td>\n      <td>0.395498</td>\n      <td>0.031031</td>\n      <td>0.000000</td>\n      <td>3.400000</td>\n      <td>5.100000</td>\n      <td>25.500000</td>\n      <td>27.0</td>\n      <td>12.162205</td>\n      <td>10.000000</td>\n      <td>6.0</td>\n      <td>1.0</td>\n      <td>0.0</td>\n      <td>30168</td>\n      <td>30022</td>\n      <td>35857</td>\n      <td>19886</td>\n      <td>18481</td>\n      <td>11554</td>\n      <td>5201</td>\n      <td>2621</td>\n      <td>2175</td>\n      <td>2.896248</td>\n      <td>4.947357</td>\n      <td>6.527655</td>\n      <td>2.050741</td>\n      <td>2.770751</td>\n      <td>1.915739</td>\n      <td>0.803582</td>\n      <td>0.507864</td>\n      <td>0.482149</td>\n      <td>26786.088076</td>\n      <td>25188.896707</td>\n      <td>19174.773568</td>\n      <td>2811.377327</td>\n      <td>4786.421612</td>\n      <td>948.898805</td>\n      <td>15.170751</td>\n      <td>32.226308</td>\n      <td>80.030549</td>\n      <td>1.269316e-04</td>\n    </tr>\n    <tr>\n      <th>9296</th>\n      <td>2021-10-19</td>\n      <td>7101</td>\n      <td>71_haredi</td>\n      <td>6.746383e-05</td>\n      <td>0.000444</td>\n      <td>0.007188</td>\n      <td>0.003772</td>\n      <td>0.004442</td>\n      <td>0.358544</td>\n      <td>0.032554</td>\n      <td>0.000000</td>\n      <td>1.132441</td>\n      <td>1.698662</td>\n      <td>8.493308</td>\n      <td>20.0</td>\n      <td>18.000000</td>\n      <td>4.162205</td>\n      <td>3.0</td>\n      <td>1.0</td>\n      <td>0.0</td>\n      <td>30168</td>\n      <td>30022</td>\n      <td>35857</td>\n      <td>19886</td>\n      <td>18481</td>\n      <td>11554</td>\n      <td>5201</td>\n      <td>2621</td>\n      <td>2175</td>\n      <td>2.862653</td>\n      <td>4.889970</td>\n      <td>6.451938</td>\n      <td>2.026954</td>\n      <td>2.738611</td>\n      <td>1.893518</td>\n      <td>0.794261</td>\n      <td>0.501973</td>\n      <td>0.476557</td>\n      <td>26779.791828</td>\n      <td>25178.849350</td>\n      <td>19142.745912</td>\n      <td>2782.326586</td>\n      <td>4771.488656</td>\n      <td>936.983066</td>\n      <td>8.367169</td>\n      <td>30.718445</td>\n      <td>79.548400</td>\n      <td>4.228715e-05</td>\n    </tr>\n    <tr>\n      <th>9297</th>\n      <td>2021-10-20</td>\n      <td>7101</td>\n      <td>71_haredi</td>\n      <td>9.665706e-07</td>\n      <td>0.000006</td>\n      <td>0.000000</td>\n      <td>0.000000</td>\n      <td>0.000000</td>\n      <td>0.000000</td>\n      <td>0.000000</td>\n      <td>0.000000</td>\n      <td>0.016221</td>\n      <td>0.024331</td>\n      <td>0.121654</td>\n      <td>0.0</td>\n      <td>0.000000</td>\n      <td>0.000000</td>\n      <td>0.0</td>\n      <td>0.0</td>\n      <td>0.0</td>\n      <td>30168</td>\n      <td>30022</td>\n      <td>35857</td>\n      <td>19886</td>\n      <td>18481</td>\n      <td>11554</td>\n      <td>5201</td>\n      <td>2621</td>\n      <td>2175</td>\n      <td>2.676096</td>\n      <td>4.571294</td>\n      <td>6.031470</td>\n      <td>1.894859</td>\n      <td>2.560138</td>\n      <td>1.770119</td>\n      <td>0.742499</td>\n      <td>0.469260</td>\n      <td>0.445500</td>\n      <td>26775.796733</td>\n      <td>25172.260719</td>\n      <td>19127.800667</td>\n      <td>2760.299632</td>\n      <td>4750.750044</td>\n      <td>930.927343</td>\n      <td>4.572908</td>\n      <td>29.216472</td>\n      <td>79.071843</td>\n      <td>6.057900e-07</td>\n    </tr>\n    <tr>\n      <th>9298</th>\n      <td>2021-10-21</td>\n      <td>7101</td>\n      <td>71_haredi</td>\n      <td>1.499675e-04</td>\n      <td>0.000987</td>\n      <td>0.010151</td>\n      <td>0.002527</td>\n      <td>0.013991</td>\n      <td>0.522138</td>\n      <td>0.000000</td>\n      <td>0.012718</td>\n      <td>2.516221</td>\n      <td>3.774331</td>\n      <td>18.871654</td>\n      <td>28.0</td>\n      <td>12.000000</td>\n      <td>13.000000</td>\n      <td>2.0</td>\n      <td>0.0</td>\n      <td>1.0</td>\n      <td>30168</td>\n      <td>30022</td>\n      <td>35857</td>\n      <td>19886</td>\n      <td>18481</td>\n      <td>11554</td>\n      <td>5201</td>\n      <td>2621</td>\n      <td>2175</td>\n      <td>2.602896</td>\n      <td>4.446254</td>\n      <td>5.866488</td>\n      <td>1.843028</td>\n      <td>2.490110</td>\n      <td>1.721700</td>\n      <td>0.722190</td>\n      <td>0.456424</td>\n      <td>0.433314</td>\n      <td>26773.104416</td>\n      <td>25167.665094</td>\n      <td>19121.647544</td>\n      <td>2758.404773</td>\n      <td>4748.189906</td>\n      <td>929.157224</td>\n      <td>3.830408</td>\n      <td>28.747212</td>\n      <td>78.626344</td>\n      <td>9.398314e-05</td>\n    </tr>\n    <tr>\n      <th>9299</th>\n      <td>2021-10-22</td>\n      <td>7101</td>\n      <td>71_haredi</td>\n      <td>1.728973e-04</td>\n      <td>0.001139</td>\n      <td>0.008429</td>\n      <td>0.003591</td>\n      <td>0.008749</td>\n      <td>2.707046</td>\n      <td>0.000000</td>\n      <td>0.000000</td>\n      <td>2.900000</td>\n      <td>4.350000</td>\n      <td>21.750000</td>\n      <td>23.0</td>\n      <td>17.000000</td>\n      <td>8.000000</td>\n      <td>3.0</td>\n      <td>0.0</td>\n      <td>0.0</td>\n      <td>30168</td>\n      <td>30022</td>\n      <td>35857</td>\n      <td>19886</td>\n      <td>18481</td>\n      <td>11554</td>\n      <td>5201</td>\n      <td>2621</td>\n      <td>2175</td>\n      <td>2.802161</td>\n      <td>4.786638</td>\n      <td>6.315599</td>\n      <td>1.984121</td>\n      <td>2.680741</td>\n      <td>1.853505</td>\n      <td>0.777477</td>\n      <td>0.491365</td>\n      <td>0.466486</td>\n      <td>26767.985300</td>\n      <td>25159.444509</td>\n      <td>19096.909402</td>\n      <td>2728.561746</td>\n      <td>4733.699797</td>\n      <td>914.435524</td>\n      <td>1.108219</td>\n      <td>28.290788</td>\n      <td>77.193030</td>\n      <td>1.083384e-04</td>\n    </tr>\n  </tbody>\n</table>\n</div>"
     },
     "execution_count": 63,
     "metadata": {},
     "output_type": "execute_result"
    }
   ],
   "source": [
    "proportion_df.tail()"
   ]
  },
  {
   "cell_type": "code",
   "execution_count": 64,
   "metadata": {},
   "outputs": [
    {
     "data": {
      "text/plain": "310"
     },
     "execution_count": 64,
     "metadata": {},
     "output_type": "execute_result"
    }
   ],
   "source": [
    "proportion_df['Date'].nunique()"
   ]
  }
 ],
 "metadata": {
  "kernelspec": {
   "display_name": "Python 3",
   "language": "python",
   "name": "python3"
  },
  "language_info": {
   "codemirror_mode": {
    "name": "ipython",
    "version": 3
   },
   "file_extension": ".py",
   "mimetype": "text/x-python",
   "name": "python",
   "nbconvert_exporter": "python",
   "pygments_lexer": "ipython3",
   "version": "3.8.5"
  },
  "varInspector": {
   "cols": {
    "lenName": 16,
    "lenType": 16,
    "lenVar": 40
   },
   "kernels_config": {
    "python": {
     "delete_cmd_postfix": "",
     "delete_cmd_prefix": "del ",
     "library": "var_list.py",
     "varRefreshCmd": "print(var_dic_list())"
    },
    "r": {
     "delete_cmd_postfix": ") ",
     "delete_cmd_prefix": "rm(",
     "library": "var_list.r",
     "varRefreshCmd": "cat(var_dic_list()) "
    }
   },
   "types_to_exclude": [
    "module",
    "function",
    "builtin_function_or_method",
    "instance",
    "_Feature"
   ],
   "window_display": false
  }
 },
 "nbformat": 4,
 "nbformat_minor": 4
}