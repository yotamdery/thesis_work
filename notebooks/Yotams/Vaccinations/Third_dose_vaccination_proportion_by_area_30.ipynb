{
 "cells": [
  {
   "cell_type": "code",
   "execution_count": 1,
   "metadata": {},
   "outputs": [],
   "source": [
    "import numpy as np\n",
    "import pandas as pd\n",
    "from matplotlib import pyplot as plt\n",
    "import seaborn as sns\n",
    "from sklearn.preprocessing import Normalizer\n",
    "import urllib.request\n",
    "import warnings \n",
    "warnings.simplefilter('ignore')\n",
    "import plotly.express as px\n",
    "%matplotlib inline\n",
    "import os"
   ]
  },
  {
   "cell_type": "code",
   "execution_count": 2,
   "metadata": {},
   "outputs": [],
   "source": [
    "# Display format\n",
    "pd.set_option('display.max_columns', None)\n",
    "#pd.set_option('display.float_format', lambda x: '%.4f' % x)"
   ]
  },
  {
   "cell_type": "code",
   "execution_count": 3,
   "outputs": [],
   "source": [
    "DATA_DIR = r'/Users/yotamdery/Old_Desktop/git/SEIR_model_COVID-main/Data'"
   ],
   "metadata": {
    "collapsed": false,
    "pycharm": {
     "name": "#%%\n"
    }
   }
  },
  {
   "cell_type": "markdown",
   "metadata": {},
   "source": [
    "## Accessing the API - ״מתחסנים לפי ישוב״"
   ]
  },
  {
   "cell_type": "code",
   "execution_count": 4,
   "metadata": {},
   "outputs": [],
   "source": [
    "url = 'https://data.gov.il/api/3/action/datastore_search?resource_id=12c9045c-1bf4-478a-a9e1-1e876cc2e182&limit=1000000'\n",
    "fileobj = urllib.request.urlopen(url)\n",
    "df = pd.read_json(fileobj)\n",
    "data = df.loc['records']['result']"
   ]
  },
  {
   "cell_type": "code",
   "execution_count": 5,
   "metadata": {
    "ExecuteTime": {
     "end_time": "2021-10-14T12:21:13.285289Z",
     "start_time": "2021-10-14T12:21:12.661473Z"
    }
   },
   "outputs": [],
   "source": [
    "# Creating a DataFrame out of the API results:\n",
    "vaccinations_per_town = pd.DataFrame(data)\n",
    "vaccinations_per_town = vaccinations_per_town.loc[vaccinations_per_town['Date'] <= '2021-10-25']"
   ]
  },
  {
   "cell_type": "markdown",
   "metadata": {},
   "source": [
    "* Functions"
   ]
  },
  {
   "cell_type": "code",
   "execution_count": 6,
   "metadata": {},
   "outputs": [],
   "source": [
    "# Reading the sick file\n",
    "def reading_sick_file(df):\n",
    "    def filling_missing_values(temp_df):     # Function of interpolation to use\n",
    "        temp_df = temp_df.copy()\n",
    "        temp_df.iloc[0] = temp_df.iloc[0].fillna(0.0)      # Filling with zeros only the NaN values\n",
    "        for col in temp_df.columns[2:]:\n",
    "            temp_df[col] = temp_df[col].astype(float)     # Converting types\n",
    "            # Creating random array\n",
    "            arr = np.random.randint(low= 0, high= 15, size= sum(temp_df[col].isnull()))\n",
    "            arr = np.sort(arr)\n",
    "            # Getting the indexes of the rows of the column where the value is 0\n",
    "            idx = temp_df[temp_df.loc[ : , col].isna()][col].index\n",
    "            # Filling the NaN values in the correct places with the array\n",
    "            temp_df.loc[idx, col] = arr\n",
    "        return temp_df\n",
    "\n",
    "    df = df.iloc[ : , np.r_[2:4 , 13:31]]          # Choosing relevant columns\n",
    "    #df = df.iloc[ : , np.r_[2:4 , 22:31]]          # Choosing relevant columns\n",
    "    sick_filtered = df[~(df.iloc[:, 3:] == '0.0').all(axis=1)]       # Selecting the relevant dates (where not all of the row is zero)\n",
    "    sick_filtered.replace(to_replace= '<15', value= np.nan, inplace= True)\n",
    "    #sick_filtered.replace(to_replace= '0.0', value= np.nan, inplace= True)\n",
    "    sick_filtered = sick_filtered.groupby(by= 'CityCode', as_index= False).apply(filling_missing_values)\n",
    "    sick_filtered.reset_index(drop= True, inplace= True)\n",
    "    sick_filtered['CityCode'] = sick_filtered['CityCode'].astype(int)\n",
    "\n",
    "    return sick_filtered"
   ]
  },
  {
   "cell_type": "code",
   "execution_count": 7,
   "metadata": {},
   "outputs": [],
   "source": [
    "# Importing and cleaning of Taz_Yeshuv_250_mapping\n",
    "def reading_town_code_to_taz_mapper():\n",
    "    town_code_to_taz_mapper =  pd.read_excel(r'/Users/yotamdery/Old_Desktop/git/health_data_mapping/Taz_Yeshuv_250_mapping.xlsx',engine='openpyxl', usecols= 'A, E, P')\n",
    "    town_code_to_taz_mapper.columns = ['taz_id','town_code','population']\n",
    "    town_code_to_taz_mapper = town_code_to_taz_mapper.iloc[4:2633]\n",
    "    town_code_to_taz_mapper = town_code_to_taz_mapper[~town_code_to_taz_mapper['town_code'].isna()]\n",
    "    town_code_to_taz_mapper['town_code'] = town_code_to_taz_mapper['town_code'].astype(int)\n",
    "    \n",
    "    return town_code_to_taz_mapper"
   ]
  },
  {
   "cell_type": "code",
   "execution_count": 8,
   "metadata": {},
   "outputs": [],
   "source": [
    "def normalized_pop_per_taz(df):\n",
    "    def normalized_inner(temp):\n",
    "        population_sum = np.sum(temp['population'])               # Getting the sum of the column to normalize accordingly\n",
    "        temp['population'] = temp['population'] / population_sum   # performing the normalization\n",
    "        temp = temp.loc[temp['population'] != 0.0]\n",
    "        return temp\n",
    "    \n",
    "    df = df.groupby(by= 'town_code').apply(normalized_inner)\n",
    "    df['town_code'] = df['town_code'].astype(int)\n",
    "    df.reset_index(drop= True, inplace= True)\n",
    "    return df"
   ]
  },
  {
   "cell_type": "code",
   "execution_count": 9,
   "metadata": {},
   "outputs": [],
   "source": [
    "## filtering the df\n",
    "# def filtering_rows(df):\n",
    "#     df_exclude_90plus = df.copy().iloc[: , :-1]    # a DF without the first_dose_90+ column\n",
    "#     sick_filtered = df[((df_exclude_90plus != '<15') & (df_exclude_90plus != '0.0')).all(axis= 1)]\n",
    "#     sick_filtered['first_dose_90+'] = sick_filtered['first_dose_90+'].replace(to_replace= '<15', value= '0')  # in cases that a lot of values are '<15'. we sum this column anyway\n",
    "#     sick_filtered.sort_values(by= ['CityCode','Date'], inplace= True)\n",
    "#     return sick_filtered"
   ]
  },
  {
   "cell_type": "code",
   "execution_count": 10,
   "metadata": {},
   "outputs": [],
   "source": [
    "# Type convertion of fields\n",
    "# def types_convertion(df):\n",
    "#     df['Date'] = pd.to_datetime(df['Date'])\n",
    "#     for c in df.columns[1:] :\n",
    "#         if c not in ['Date']:    # Have to convert to float first because of the original format...\n",
    "#             df[c] = df[c].astype(float)\n",
    "#             # Converting all columns but the date column\n",
    "#             df[c] = df[c].astype(int)\n",
    "#     return df"
   ]
  },
  {
   "cell_type": "code",
   "execution_count": 11,
   "metadata": {},
   "outputs": [],
   "source": [
    "# Merging 80-89 and 90+ age groups:\n",
    "def merge_columns_to_70plus(df):\n",
    "    df['second_dose_70+'] = df['second_dose_70-79'] + df['second_dose_80-89'] + df['second_dose_90+']\n",
    "    df['third_dose_70+'] = df['third_dose_70-79'] + df['third_dose_80-89'] + df['third_dose_90+']\n",
    "    df.drop(columns= ['second_dose_70-79', 'second_dose_80-89', 'second_dose_90+',\n",
    "                     'third_dose_70-79', 'third_dose_80-89', 'third_dose_90+'], axis= 1, inplace= True)\n",
    "    reordered_df = df.iloc[ : , np.r_[0:8, 14, 8:14, 15]]\n",
    "    return reordered_df"
   ]
  },
  {
   "cell_type": "markdown",
   "metadata": {},
   "source": [
    "<b> spreading the vaccinated individuals over the Tazs:"
   ]
  },
  {
   "cell_type": "code",
   "execution_count": 12,
   "metadata": {},
   "outputs": [],
   "source": [
    "### multiplying by the population ratio:\n",
    "def multiply_by_pop_ratio(df):\n",
    "    for column in df.columns[2:16]:\n",
    "        df[column + \"_multiplied\"] = df[column] * df['population']\n",
    "    df = df.iloc[ : , np.r_[0:2, 19:33 , 16]]\n",
    "    return df   "
   ]
  },
  {
   "cell_type": "code",
   "execution_count": 13,
   "metadata": {},
   "outputs": [],
   "source": [
    "# A mapper - taz for 250 regions \n",
    "def reading_taz_250_mapping():\n",
    "    taz_250_mapping = pd.read_excel(r'/Users/yotamdery/Old_Desktop/git/health_data_mapping/Taz_Yeshuv_250_mapping.xlsx',engine='openpyxl', usecols= \"A,P,AH\")\n",
    "    taz_250_mapping = taz_250_mapping.rename(columns= {'Unnamed: 0' : 'taz_id', 'Unnamed: 15' : 'population', 'Unnamed: 33' : '250_regions'})\n",
    "    taz_250_mapping = taz_250_mapping.loc[3:2633]\n",
    "    return taz_250_mapping"
   ]
  },
  {
   "cell_type": "code",
   "execution_count": 14,
   "metadata": {},
   "outputs": [],
   "source": [
    "# Mappers - Total population for 250 regions and Taz for 250_regions\n",
    "def create_taz_250_mapper():\n",
    "    taz_to_250_mapper = reading_taz_250_mapping()[['taz_id','250_regions']]\n",
    "    #pop_for_250_mapper = reading_taz_250_mapping()[['population','250_regions']]\n",
    "    #pop_for_250_mapper = pop_for_250_mapper.groupby('250_regions', as_index= False).sum()\n",
    "    return taz_to_250_mapper #, pop_for_250_mapper\n"
   ]
  },
  {
   "cell_type": "code",
   "execution_count": 15,
   "metadata": {},
   "outputs": [],
   "source": [
    "def reading_250_30_mapping():\n",
    "    mapping_30_250 = pd.read_excel(r'/Users/yotamdery/Old_Desktop/git/SEIR_model_COVID-main/Data/division_choice/30/cell250_to_cell30.xlsx', engine='openpyxl')\n",
    "    return mapping_30_250"
   ]
  },
  {
   "cell_type": "code",
   "execution_count": 16,
   "metadata": {},
   "outputs": [],
   "source": [
    "# Receives the recent DF and a mapper from 250 to 30\n",
    "def aggregate_to_30_level(vaccinated_250, mapping_30_250):\n",
    "    vaccinated_30_merged = vaccinated_250.merge(mapping_30_250, left_on= '250_regions', right_on= 'cell_id')\n",
    "    vaccinated_30 = vaccinated_30_merged.groupby(by= ['30_county','Date'], as_index= False) \\\n",
    "                                                [vaccinated_30_merged.columns[2:16]].sum()      # Aggregate health data to county level\n",
    "    # Ensure that there are no duplicated entries:\n",
    "    vaccinated_30_merged_no_duplicates = vaccinated_30[~vaccinated_30.duplicated(\n",
    "                                            subset= ['30_county','Date'])]\n",
    "    # Aggregate the *population* to county level:\n",
    "    #pop_30_mapper = vaccinated_30_merged_no_duplicates.groupby('30_county', as_index= False)['population'].sum()\n",
    "    #vaccinated_30_with_pop = vaccinated_30_no_pop.merge(pop_30_mapper, on= '30_county')\n",
    "    vaccinated_30_merged_no_duplicates['30_county'] = vaccinated_30_merged_no_duplicates['30_county'].astype(str)\n",
    "    return vaccinated_30_merged_no_duplicates"
   ]
  },
  {
   "cell_type": "code",
   "execution_count": 17,
   "outputs": [],
   "source": [
    "# Replacing the 'multiplied' ending with 'accumulated' for each dose column:\n",
    "def replacing_multiplied_ending(df):\n",
    "    new_columns_names = []\n",
    "    for column in df.columns:\n",
    "        splitted_column = column.split('_')\n",
    "        if 'multiplied' not in splitted_column:\n",
    "            new_columns_names.append('_'.join(splitted_column))\n",
    "        else:\n",
    "            splitted_column.pop()\n",
    "            splitted_column.append('acc')\n",
    "            new_columns_names.append('_'.join(splitted_column))\n",
    "    df.columns = new_columns_names\n",
    "    return df"
   ],
   "metadata": {
    "collapsed": false,
    "pycharm": {
     "name": "#%%\n"
    }
   }
  },
  {
   "cell_type": "code",
   "execution_count": 18,
   "metadata": {},
   "outputs": [],
   "source": [
    "# Calculating the absolute values of vaccinations - creating new columns for it (with 'absolut' prefix)\n",
    "def calculate_difference_vaccinations(df):\n",
    "    df_copy = df.copy()\n",
    "    # If it is the first row, take it as it is, don't apply the difference function\n",
    "    first_row = df_copy.iloc[0].to_frame().T\n",
    "    # Creating a DF of one row with the same columns as the big DF\n",
    "    first_row['absolute_' + first_row.columns[9:16]] = first_row[first_row.columns[9:16]]\n",
    "\n",
    "    # Applying the difference function on the 3rd dose columns:\n",
    "    df_copy['absolute_' + df_copy.columns[9:16]] = df_copy[df_copy.columns[9:16]].diff(periods= 1)\n",
    "    \n",
    "    # Removing the first row (the start of documentation date)\n",
    "    whole_df_no_null = df_copy[~df_copy[df_copy.columns[-1]].isna()]\n",
    "    # Concatenating to get the whole df\n",
    "    final_df = pd.concat([first_row, whole_df_no_null], axis= 0)\n",
    "\n",
    "    return final_df"
   ]
  },
  {
   "cell_type": "code",
   "execution_count": 19,
   "outputs": [],
   "source": [
    "def removing_acc_ending(df):\n",
    "    new_columns_names = []\n",
    "    for column in df.columns:\n",
    "        splitted_column = column.split('_')\n",
    "        if 'absolute' not in splitted_column:\n",
    "            new_columns_names.append('_'.join(splitted_column))\n",
    "        else:\n",
    "            splitted_column.pop()\n",
    "            new_columns_names.append('_'.join(splitted_column))\n",
    "    df.columns = new_columns_names\n",
    "    return df"
   ],
   "metadata": {
    "collapsed": false,
    "pycharm": {
     "name": "#%%\n"
    }
   }
  },
  {
   "cell_type": "code",
   "execution_count": 20,
   "metadata": {},
   "outputs": [],
   "source": [
    "# Main function - Receiving only the health df\n",
    "def main(df):\n",
    "    df = reading_sick_file(df)\n",
    "    #sick_filtered = filtering_rows(df)     # Removing categorical values (rows with '0' and '<15')   \n",
    "    #df_types_converted = types_convertion(sick_filtered)          # Converting the types\n",
    "    df = merge_columns_to_70plus(df)       # Merging 80-89 and 90+ age groups\n",
    "    \n",
    "    # Sanity check:\n",
    "    print(\"Total number of vaccinations per age:\")\n",
    "    print (sum((df[df['Date'] == df['Date'].max()][df.columns[9:]].sum(axis= 1))))\n",
    "\n",
    "    ### Merging the health file with taz to yeshuv mapping - To get the TAZ for each town code:\n",
    "    town_code_to_taz_mapper = reading_town_code_to_taz_mapper()                 # Reading the Taz_to_yeshuv file\n",
    "    town_code_to_taz_mapper = normalized_pop_per_taz(town_code_to_taz_mapper)   # Normalizing the population column    \n",
    "    vaccination_taz_merged = df.merge(town_code_to_taz_mapper, how= 'inner', left_on= 'CityCode', right_on= 'town_code')\n",
    "    #return vaccination_taz_merged\n",
    "    \n",
    "    ## Spreading over the Tazs:\n",
    "    normed_vaccinated = multiply_by_pop_ratio(vaccination_taz_merged)     # Multiplying each column by the population ratio\n",
    "    #return normed_vaccinated\n",
    "\n",
    "    grouped_vaccinated_and_mapping = normed_vaccinated.groupby(by= ['taz_id','Date']).sum().reset_index()  # grouping by taz and date\n",
    "    grouped_vaccinated_and_mapping.drop(\"CityCode\", axis= 1, inplace= True)    # Not relevant anymore\n",
    "    #return(grouped_vaccinated_and_mapping)\n",
    "\n",
    "    # Sanity check:\n",
    "    print(\"Total number of vaccinations per age:\")\n",
    "    print (sum((grouped_vaccinated_and_mapping[grouped_vaccinated_and_mapping['Date'] == \n",
    "                                               grouped_vaccinated_and_mapping['Date'].max()]\n",
    "                                              [grouped_vaccinated_and_mapping.columns[9:]].sum(axis= 1))))\n",
    "    taz_250_mapping = create_taz_250_mapper()      # Mappers - Total population for 250 regions and Taz for 250_regions\n",
    "    \n",
    "    vaccinated_250_merged = grouped_vaccinated_and_mapping.merge(taz_250_mapping)\n",
    "    vaccinated_250 = vaccinated_250_merged.groupby(by= ['250_regions', 'Date'], \n",
    "                                                   as_index= False).sum()    # Aggregating to 250 regions level\n",
    "    #vaccinated_with_pop_250 = vaccinated_250.merge(pop_for_250_mapper)    # envolving the population for each region\n",
    "    \n",
    "    # Sanity check:\n",
    "    print(\"Total number of vaccinations per age:\")\n",
    "    print (sum((vaccinated_250[vaccinated_250['Date'] == vaccinated_250['Date'].max()][vaccinated_250.columns[9:16]].sum(axis= 1))))\n",
    "    \n",
    "    mapping_250_30 = reading_250_30_mapping()                               # reading the 250 to 30 counties file\n",
    "    vaccinated_30 = aggregate_to_30_level(vaccinated_250, mapping_250_30)        # Aggregating the data to 30 counties level\n",
    "    vaccinated_30 = replacing_multiplied_ending(vaccinated_30)      # Replacing the 'multiplied' ending with 'accumulated' for each dose column:\n",
    "    absolute_vaccination_amount = vaccinated_30.groupby(by= ['30_county'], as_index= False) \\\n",
    "                                                                .apply(calculate_difference_vaccinations)    # Calculating the actual amounts of vaccinations. grouping by 250_regions to avoid negative values\n",
    "    # Removing the _acc ending for the new columns (the absolute columns)\n",
    "    final_df = removing_acc_ending(absolute_vaccination_amount)\n",
    "    return final_df"
   ]
  },
  {
   "cell_type": "code",
   "execution_count": 21,
   "metadata": {
    "scrolled": true
   },
   "outputs": [
    {
     "name": "stdout",
     "output_type": "stream",
     "text": [
      "Total number of vaccinations per age:\n",
      "4029987.0\n",
      "Total number of vaccinations per age:\n",
      "3893696.9999999995\n",
      "Total number of vaccinations per age:\n",
      "3893697.0000000005\n",
      "\n",
      "Finished creating third dose\n",
      "\n"
     ]
    }
   ],
   "source": [
    "# Taking only the relevant columns into account (the third dose columns)\n",
    "df_third_dose = main(vaccinations_per_town.copy())\n",
    "print(\"\\nFinished creating third dose\\n\")"
   ]
  },
  {
   "cell_type": "code",
   "execution_count": 22,
   "outputs": [
    {
     "data": {
      "text/plain": "       30_county        Date second_dose_0-19_acc second_dose_20-29_acc  \\\n0             11  2021-01-10                  0.0             20.168174   \n1             11  2021-01-11             4.556757              84.51182   \n2             11  2021-01-12            17.831148            190.424161   \n3             11  2021-01-13            31.473322             357.12472   \n4             11  2021-01-14            42.395204            539.705118   \n...          ...         ...                  ...                   ...   \n16135  71_haredi  2022-06-27         11810.540887           9970.367315   \n16136  71_haredi  2022-06-28         11810.540887           9970.367315   \n16137  71_haredi  2022-06-29         11810.703093           9970.367315   \n16138  71_haredi  2022-06-30         11810.703093           9970.367315   \n16139  71_haredi  2022-07-01         11810.703093           9971.367315   \n\n      second_dose_30-39_acc second_dose_40-49_acc second_dose_50-59_acc  \\\n0                 46.098683             46.818975             73.742186   \n1                201.992205            246.987748            279.166557   \n2                410.064066            465.908691            507.698916   \n3                684.573618            745.790013             794.05025   \n4                912.105977            1026.86031           1118.287391   \n...                     ...                   ...                   ...   \n16135           8103.054028           6244.860286           3027.874343   \n16136           8103.054028           6244.860286           3027.874343   \n16137           8103.054028           6244.860286           3027.874343   \n16138           8105.054028           6245.860286           3028.874343   \n16139           8105.054028           6245.860286           3028.874343   \n\n      second_dose_60-69_acc second_dose_70+_acc third_dose_0-19_acc  \\\n0                 43.937808                 0.0                 0.0   \n1                565.866881           436.83615                 0.0   \n2                1409.97622          1490.37653                 0.0   \n3               2481.920199         2872.946468                 0.0   \n4               3786.369116         4465.685438                 0.0   \n...                     ...                 ...                 ...   \n16135           1464.428554         1194.987532         3127.165628   \n16136           1465.428554         1194.987532         3129.327833   \n16137           1465.428554         1194.987532         3129.327833   \n16138           1465.428554         1194.987532         3129.327833   \n16139           1465.428554         1194.987532         3129.327833   \n\n      third_dose_20-29_acc third_dose_30-39_acc third_dose_40-49_acc  \\\n0                      0.0                  0.0                  0.0   \n1                      0.0                  0.0                  0.0   \n2                      0.0                  0.0                  0.0   \n3                      0.0                  0.0                  0.0   \n4                      0.0                  0.0                  0.0   \n...                    ...                  ...                  ...   \n16135          5681.279061          4883.235057          4124.613006   \n16136          5681.279061          4883.235057          4124.775211   \n16137          5682.279061          4883.235057          4124.775211   \n16138          5683.279061          4884.235057          4124.775211   \n16139          5683.279061          4884.235057          4124.775211   \n\n      third_dose_50-59_acc third_dose_60-69_acc third_dose_70+_acc  \\\n0                      0.0                  0.0                0.0   \n1                      0.0                  0.0                0.0   \n2                      0.0                  0.0                0.0   \n3                      0.0                  0.0                0.0   \n4                      0.0                  0.0                0.0   \n...                    ...                  ...                ...   \n16135          2402.277472          1252.157682        1074.014301   \n16136          2402.277472          1252.157682        1074.014301   \n16137          2402.277472          1252.157682        1074.014301   \n16138          2402.277472          1252.157682        1074.014301   \n16139          2402.277472          1252.157682        1074.014301   \n\n      absolute_third_dose_0-19 absolute_third_dose_20-29  \\\n0                          0.0                       0.0   \n1                          0.0                       0.0   \n2                          0.0                       0.0   \n3                          0.0                       0.0   \n4                          0.0                       0.0   \n...                        ...                       ...   \n16135                      0.0                       0.0   \n16136                 2.162205                       0.0   \n16137                      0.0                       1.0   \n16138                      0.0                       1.0   \n16139                      0.0                       0.0   \n\n      absolute_third_dose_30-39 absolute_third_dose_40-49  \\\n0                           0.0                       0.0   \n1                           0.0                       0.0   \n2                           0.0                       0.0   \n3                           0.0                       0.0   \n4                           0.0                       0.0   \n...                         ...                       ...   \n16135                       0.0                  0.162205   \n16136                       0.0                  0.162205   \n16137                       0.0                       0.0   \n16138                       1.0                       0.0   \n16139                       0.0                       0.0   \n\n      absolute_third_dose_50-59 absolute_third_dose_60-69  \\\n0                           0.0                       0.0   \n1                           0.0                       0.0   \n2                           0.0                       0.0   \n3                           0.0                       0.0   \n4                           0.0                       0.0   \n...                         ...                       ...   \n16135                       0.0                       0.0   \n16136                       0.0                       0.0   \n16137                       0.0                       0.0   \n16138                       0.0                       0.0   \n16139                       0.0                       0.0   \n\n      absolute_third_dose_70+  \n0                         0.0  \n1                         0.0  \n2                         0.0  \n3                         0.0  \n4                         0.0  \n...                       ...  \n16135                     0.0  \n16136                     0.0  \n16137                     0.0  \n16138                     0.0  \n16139                     0.0  \n\n[16140 rows x 23 columns]",
      "text/html": "<div>\n<style scoped>\n    .dataframe tbody tr th:only-of-type {\n        vertical-align: middle;\n    }\n\n    .dataframe tbody tr th {\n        vertical-align: top;\n    }\n\n    .dataframe thead th {\n        text-align: right;\n    }\n</style>\n<table border=\"1\" class=\"dataframe\">\n  <thead>\n    <tr style=\"text-align: right;\">\n      <th></th>\n      <th>30_county</th>\n      <th>Date</th>\n      <th>second_dose_0-19_acc</th>\n      <th>second_dose_20-29_acc</th>\n      <th>second_dose_30-39_acc</th>\n      <th>second_dose_40-49_acc</th>\n      <th>second_dose_50-59_acc</th>\n      <th>second_dose_60-69_acc</th>\n      <th>second_dose_70+_acc</th>\n      <th>third_dose_0-19_acc</th>\n      <th>third_dose_20-29_acc</th>\n      <th>third_dose_30-39_acc</th>\n      <th>third_dose_40-49_acc</th>\n      <th>third_dose_50-59_acc</th>\n      <th>third_dose_60-69_acc</th>\n      <th>third_dose_70+_acc</th>\n      <th>absolute_third_dose_0-19</th>\n      <th>absolute_third_dose_20-29</th>\n      <th>absolute_third_dose_30-39</th>\n      <th>absolute_third_dose_40-49</th>\n      <th>absolute_third_dose_50-59</th>\n      <th>absolute_third_dose_60-69</th>\n      <th>absolute_third_dose_70+</th>\n    </tr>\n  </thead>\n  <tbody>\n    <tr>\n      <th>0</th>\n      <td>11</td>\n      <td>2021-01-10</td>\n      <td>0.0</td>\n      <td>20.168174</td>\n      <td>46.098683</td>\n      <td>46.818975</td>\n      <td>73.742186</td>\n      <td>43.937808</td>\n      <td>0.0</td>\n      <td>0.0</td>\n      <td>0.0</td>\n      <td>0.0</td>\n      <td>0.0</td>\n      <td>0.0</td>\n      <td>0.0</td>\n      <td>0.0</td>\n      <td>0.0</td>\n      <td>0.0</td>\n      <td>0.0</td>\n      <td>0.0</td>\n      <td>0.0</td>\n      <td>0.0</td>\n      <td>0.0</td>\n    </tr>\n    <tr>\n      <th>1</th>\n      <td>11</td>\n      <td>2021-01-11</td>\n      <td>4.556757</td>\n      <td>84.51182</td>\n      <td>201.992205</td>\n      <td>246.987748</td>\n      <td>279.166557</td>\n      <td>565.866881</td>\n      <td>436.83615</td>\n      <td>0.0</td>\n      <td>0.0</td>\n      <td>0.0</td>\n      <td>0.0</td>\n      <td>0.0</td>\n      <td>0.0</td>\n      <td>0.0</td>\n      <td>0.0</td>\n      <td>0.0</td>\n      <td>0.0</td>\n      <td>0.0</td>\n      <td>0.0</td>\n      <td>0.0</td>\n      <td>0.0</td>\n    </tr>\n    <tr>\n      <th>2</th>\n      <td>11</td>\n      <td>2021-01-12</td>\n      <td>17.831148</td>\n      <td>190.424161</td>\n      <td>410.064066</td>\n      <td>465.908691</td>\n      <td>507.698916</td>\n      <td>1409.97622</td>\n      <td>1490.37653</td>\n      <td>0.0</td>\n      <td>0.0</td>\n      <td>0.0</td>\n      <td>0.0</td>\n      <td>0.0</td>\n      <td>0.0</td>\n      <td>0.0</td>\n      <td>0.0</td>\n      <td>0.0</td>\n      <td>0.0</td>\n      <td>0.0</td>\n      <td>0.0</td>\n      <td>0.0</td>\n      <td>0.0</td>\n    </tr>\n    <tr>\n      <th>3</th>\n      <td>11</td>\n      <td>2021-01-13</td>\n      <td>31.473322</td>\n      <td>357.12472</td>\n      <td>684.573618</td>\n      <td>745.790013</td>\n      <td>794.05025</td>\n      <td>2481.920199</td>\n      <td>2872.946468</td>\n      <td>0.0</td>\n      <td>0.0</td>\n      <td>0.0</td>\n      <td>0.0</td>\n      <td>0.0</td>\n      <td>0.0</td>\n      <td>0.0</td>\n      <td>0.0</td>\n      <td>0.0</td>\n      <td>0.0</td>\n      <td>0.0</td>\n      <td>0.0</td>\n      <td>0.0</td>\n      <td>0.0</td>\n    </tr>\n    <tr>\n      <th>4</th>\n      <td>11</td>\n      <td>2021-01-14</td>\n      <td>42.395204</td>\n      <td>539.705118</td>\n      <td>912.105977</td>\n      <td>1026.86031</td>\n      <td>1118.287391</td>\n      <td>3786.369116</td>\n      <td>4465.685438</td>\n      <td>0.0</td>\n      <td>0.0</td>\n      <td>0.0</td>\n      <td>0.0</td>\n      <td>0.0</td>\n      <td>0.0</td>\n      <td>0.0</td>\n      <td>0.0</td>\n      <td>0.0</td>\n      <td>0.0</td>\n      <td>0.0</td>\n      <td>0.0</td>\n      <td>0.0</td>\n      <td>0.0</td>\n    </tr>\n    <tr>\n      <th>...</th>\n      <td>...</td>\n      <td>...</td>\n      <td>...</td>\n      <td>...</td>\n      <td>...</td>\n      <td>...</td>\n      <td>...</td>\n      <td>...</td>\n      <td>...</td>\n      <td>...</td>\n      <td>...</td>\n      <td>...</td>\n      <td>...</td>\n      <td>...</td>\n      <td>...</td>\n      <td>...</td>\n      <td>...</td>\n      <td>...</td>\n      <td>...</td>\n      <td>...</td>\n      <td>...</td>\n      <td>...</td>\n      <td>...</td>\n    </tr>\n    <tr>\n      <th>16135</th>\n      <td>71_haredi</td>\n      <td>2022-06-27</td>\n      <td>11810.540887</td>\n      <td>9970.367315</td>\n      <td>8103.054028</td>\n      <td>6244.860286</td>\n      <td>3027.874343</td>\n      <td>1464.428554</td>\n      <td>1194.987532</td>\n      <td>3127.165628</td>\n      <td>5681.279061</td>\n      <td>4883.235057</td>\n      <td>4124.613006</td>\n      <td>2402.277472</td>\n      <td>1252.157682</td>\n      <td>1074.014301</td>\n      <td>0.0</td>\n      <td>0.0</td>\n      <td>0.0</td>\n      <td>0.162205</td>\n      <td>0.0</td>\n      <td>0.0</td>\n      <td>0.0</td>\n    </tr>\n    <tr>\n      <th>16136</th>\n      <td>71_haredi</td>\n      <td>2022-06-28</td>\n      <td>11810.540887</td>\n      <td>9970.367315</td>\n      <td>8103.054028</td>\n      <td>6244.860286</td>\n      <td>3027.874343</td>\n      <td>1465.428554</td>\n      <td>1194.987532</td>\n      <td>3129.327833</td>\n      <td>5681.279061</td>\n      <td>4883.235057</td>\n      <td>4124.775211</td>\n      <td>2402.277472</td>\n      <td>1252.157682</td>\n      <td>1074.014301</td>\n      <td>2.162205</td>\n      <td>0.0</td>\n      <td>0.0</td>\n      <td>0.162205</td>\n      <td>0.0</td>\n      <td>0.0</td>\n      <td>0.0</td>\n    </tr>\n    <tr>\n      <th>16137</th>\n      <td>71_haredi</td>\n      <td>2022-06-29</td>\n      <td>11810.703093</td>\n      <td>9970.367315</td>\n      <td>8103.054028</td>\n      <td>6244.860286</td>\n      <td>3027.874343</td>\n      <td>1465.428554</td>\n      <td>1194.987532</td>\n      <td>3129.327833</td>\n      <td>5682.279061</td>\n      <td>4883.235057</td>\n      <td>4124.775211</td>\n      <td>2402.277472</td>\n      <td>1252.157682</td>\n      <td>1074.014301</td>\n      <td>0.0</td>\n      <td>1.0</td>\n      <td>0.0</td>\n      <td>0.0</td>\n      <td>0.0</td>\n      <td>0.0</td>\n      <td>0.0</td>\n    </tr>\n    <tr>\n      <th>16138</th>\n      <td>71_haredi</td>\n      <td>2022-06-30</td>\n      <td>11810.703093</td>\n      <td>9970.367315</td>\n      <td>8105.054028</td>\n      <td>6245.860286</td>\n      <td>3028.874343</td>\n      <td>1465.428554</td>\n      <td>1194.987532</td>\n      <td>3129.327833</td>\n      <td>5683.279061</td>\n      <td>4884.235057</td>\n      <td>4124.775211</td>\n      <td>2402.277472</td>\n      <td>1252.157682</td>\n      <td>1074.014301</td>\n      <td>0.0</td>\n      <td>1.0</td>\n      <td>1.0</td>\n      <td>0.0</td>\n      <td>0.0</td>\n      <td>0.0</td>\n      <td>0.0</td>\n    </tr>\n    <tr>\n      <th>16139</th>\n      <td>71_haredi</td>\n      <td>2022-07-01</td>\n      <td>11810.703093</td>\n      <td>9971.367315</td>\n      <td>8105.054028</td>\n      <td>6245.860286</td>\n      <td>3028.874343</td>\n      <td>1465.428554</td>\n      <td>1194.987532</td>\n      <td>3129.327833</td>\n      <td>5683.279061</td>\n      <td>4884.235057</td>\n      <td>4124.775211</td>\n      <td>2402.277472</td>\n      <td>1252.157682</td>\n      <td>1074.014301</td>\n      <td>0.0</td>\n      <td>0.0</td>\n      <td>0.0</td>\n      <td>0.0</td>\n      <td>0.0</td>\n      <td>0.0</td>\n      <td>0.0</td>\n    </tr>\n  </tbody>\n</table>\n<p>16140 rows × 23 columns</p>\n</div>"
     },
     "execution_count": 22,
     "metadata": {},
     "output_type": "execute_result"
    }
   ],
   "source": [
    "df_third_dose"
   ],
   "metadata": {
    "collapsed": false,
    "pycharm": {
     "name": "#%%\n"
    }
   }
  },
  {
   "cell_type": "code",
   "execution_count": 23,
   "outputs": [],
   "source": [
    "result = df_third_dose"
   ],
   "metadata": {
    "collapsed": false,
    "pycharm": {
     "name": "#%%\n"
    }
   }
  },
  {
   "cell_type": "markdown",
   "metadata": {},
   "source": [
    "<b> W'd like to be aligned with the age groups of the current model:"
   ]
  },
  {
   "cell_type": "code",
   "execution_count": 24,
   "metadata": {
    "scrolled": true
   },
   "outputs": [],
   "source": [
    "# Splitting the amounts of 'absolute_third_dose_0-19' column\n",
    "groups_of_columns = [ ['second_dose_0-4_acc','second_dose_5-9_acc','second_dose_10-19_acc','second_dose_0-19_acc'],\n",
    "                      ['third_dose_0-4_acc', 'third_dose_5-9_acc', 'third_dose_10-19_acc', 'third_dose_0-19_acc'],\n",
    "                      ['absolute_third_dose_0-4', 'absolute_third_dose_5-9', 'absolute_third_dose_10-19', 'absolute_third_dose_0-19'] ]\n",
    "for i in range(len(groups_of_columns)):\n",
    "    result[groups_of_columns[i][0]] , result[groups_of_columns[i][1]], result[groups_of_columns[i][2]] = \\\n",
    "    result[groups_of_columns[i][3]] * 0.1, result[groups_of_columns[i][3]] * 0.15, result[groups_of_columns[i][3]] * 0.75\n",
    "\n",
    "result.drop(columns= ['second_dose_0-19_acc', 'third_dose_0-19_acc', 'absolute_third_dose_0-19'],\n",
    "            axis= 1, inplace= True)"
   ]
  },
  {
   "cell_type": "code",
   "execution_count": 25,
   "outputs": [],
   "source": [
    "# Re-ordering the DF\n",
    "all_columns = result.columns.tolist()\n",
    "second_dose_acc_ordered_columns = all_columns[20:23] + all_columns[2:8]\n",
    "third_dose_acc_ordered_columns = all_columns[23:26] + all_columns[8:14]\n",
    "third_dose_absolute_ordered_columns = all_columns[26:29] + all_columns[14:20]\n",
    "new_ordered_columns = all_columns[0:2] + second_dose_acc_ordered_columns + third_dose_acc_ordered_columns + \\\n",
    "                                         third_dose_absolute_ordered_columns\n",
    "result = result[new_ordered_columns]\n",
    "\n",
    "# # Summing the 2 columns to get 'absolute_third_dose_70+' column\n",
    "# result['absolute_third_dose_70+'] = result['absolute_third_dose_70-79'] + result['absolute_third_dose_80+']\n",
    "# result.drop(columns= ['absolute_third_dose_70-79', 'absolute_third_dose_80+'], axis= 1, inplace= True)"
   ],
   "metadata": {
    "collapsed": false,
    "pycharm": {
     "name": "#%%\n"
    }
   }
  },
  {
   "cell_type": "markdown",
   "metadata": {},
   "source": [
    "<b> Adding the 'county_id' to the counties to be able to involve it in the SEIR model:"
   ]
  },
  {
   "cell_type": "code",
   "execution_count": 26,
   "metadata": {},
   "outputs": [],
   "source": [
    "# Reading\n",
    "county_string_to_id = pd.read_excel(r'/Users/yotamdery/Old_Desktop/git/SEIR_model_covid_yotams copy/Data/'\n",
    "                                    r'division_choice/30/county_int_2name_county_string.xlsx', engine='openpyxl', usecols= \"A,C\")\n",
    "county_string_to_id['county_string_id'] = county_string_to_id['county_string_id'].astype(str)"
   ]
  },
  {
   "cell_type": "code",
   "execution_count": 27,
   "metadata": {},
   "outputs": [],
   "source": [
    "# Merging\n",
    "result_with_county_id = result.merge(county_string_to_id, how= 'inner', left_on= '30_county',\n",
    "                                     right_on= 'county_string_id').drop('county_string_id', axis= 1)"
   ]
  },
  {
   "cell_type": "code",
   "execution_count": 28,
   "metadata": {},
   "outputs": [],
   "source": [
    "# Reordering\n",
    "all_columns = result_with_county_id.columns.tolist()\n",
    "new_ordered_columns = [all_columns[0]] + [all_columns[-1]] + [all_columns[1]] + all_columns[2:-1]\n",
    "result_with_county_id = result_with_county_id[new_ordered_columns]\n",
    "\n",
    "# Sorting\n",
    "result_with_county_id = result_with_county_id.sort_values(by= ['Date', 'county_id']).reset_index(drop= True)"
   ]
  },
  {
   "cell_type": "code",
   "execution_count": 29,
   "metadata": {},
   "outputs": [],
   "source": [
    "# Types conversion\n",
    "for column in result_with_county_id.columns[3:]:\n",
    "    result_with_county_id[column] = result_with_county_id[column].astype(float)"
   ]
  },
  {
   "cell_type": "markdown",
   "metadata": {},
   "source": [
    "<b> Creating a proportion DF - each value will be the proportion of vaccinated individuals\n",
    "    per county and age-group. The sample space will be the population for each county"
   ]
  },
  {
   "cell_type": "markdown",
   "metadata": {
    "pycharm": {
     "name": "#%% md\n"
    }
   },
   "source": [
    "Create a dictionary of {(county_id, county_string_id) : population}"
   ]
  },
  {
   "cell_type": "code",
   "execution_count": 30,
   "metadata": {},
   "outputs": [],
   "source": [
    "# df = result_with_county_id[['county_id', 'county_string_id', 'population']]\n",
    "# unique_df = df[~df.duplicated()].sort_values(by= 'county_id')\n",
    "# dict_region_population = unique_df.set_index(['county_id', 'county_string_id']).T.to_dict('list')"
   ]
  },
  {
   "cell_type": "markdown",
   "metadata": {},
   "source": [
    "Filling zeroes for counties that don't have vaccinated individuals in a specific date:"
   ]
  },
  {
   "cell_type": "code",
   "execution_count": 31,
   "metadata": {},
   "outputs": [],
   "source": [
    "# def filling_zeros(df, **kwargs):\n",
    "#     set_from_dict = set(dict_region_population.keys())       # Static set of the counties\n",
    "#     current_set_from_df = set(zip(df['county_id'], df['county_string_id']))  # Set of the current counties (differs from each date)\n",
    "#     set_difference = sorted(list(set_from_dict - current_set_from_df))    # getting the counties that don't exist in the current date\n",
    "#\n",
    "#     if set_difference == []:    # If all counties are there - exit the function, do nothing\n",
    "#         return df\n",
    "#\n",
    "#     # Building the new df to concat - the non-exist counties df:\n",
    "#     data = []      # empty list to end up as list of lists to create the df\n",
    "#     current_date = df['Date'].iloc[0]\n",
    "#     for element in set_difference:     # Iterating over the difference list - counties that dont exists in the specific date:\n",
    "#         data.append([current_date, element[0], element[1], dict_region_population[element][0], 0, 0, 0, 0, 0, 0, 0, 0, 0])\n",
    "#     current_df = pd.DataFrame(data, columns= df.columns)\n",
    "#\n",
    "#     final_df = pd.concat([df, current_df], axis= 0)     # Stacking the df one ontop of the other\n",
    "#     return final_df"
   ]
  },
  {
   "cell_type": "code",
   "execution_count": 32,
   "metadata": {},
   "outputs": [],
   "source": [
    "# # Applying the function above\n",
    "# df_filled_zeros = result_with_county_id.groupby(by= ['Date'], as_index= False).apply(filling_zeros, args= dict_region_population).reset_index()\n",
    "# df_filled_zeros = df_filled_zeros.drop(labels= ['level_0', 'level_1'], axis= 1).sort_values(by= ['Date', 'county_id'])"
   ]
  },
  {
   "cell_type": "markdown",
   "metadata": {},
   "source": [
    "Reading the 'population_per_county_age-group' file to get the population for each intersection of county and age-group:"
   ]
  },
  {
   "cell_type": "code",
   "execution_count": 33,
   "metadata": {},
   "outputs": [],
   "source": [
    "# population_per_county_age_group = pd.read_csv(r'/Users/yotamdery/Old_Desktop/git/SEIR_model_COVID-main/Data/division_choice/30/population_per_county_age-group.csv')"
   ]
  },
  {
   "cell_type": "code",
   "execution_count": 34,
   "metadata": {},
   "outputs": [],
   "source": [
    "# df_filled_zeros.head()"
   ]
  },
  {
   "cell_type": "code",
   "execution_count": 35,
   "metadata": {},
   "outputs": [],
   "source": [
    "# population_per_county_age_group.head()"
   ]
  },
  {
   "cell_type": "markdown",
   "metadata": {},
   "source": [
    "* Merging it with the most updated data frame; merging by the county_id field:"
   ]
  },
  {
   "cell_type": "code",
   "execution_count": 36,
   "metadata": {},
   "outputs": [],
   "source": [
    "# full_pop_df = df_filled_zeros.merge(population_per_county_age_group, how= 'inner', left_on= 'county_id',\n",
    "#                                    right_on= 'county_id').drop(columns= ['population'], axis= 1)"
   ]
  },
  {
   "cell_type": "markdown",
   "source": [
    "* Calculate the eligible people for getting the 3rd vaccination:\n",
    "* It is the total people who got the 2nd vaccine minus the total people who haven't been vaccinated with the 3rd vaccine,\n",
    "* for each age group j in county k"
   ],
   "metadata": {
    "collapsed": false,
    "pycharm": {
     "name": "#%% md\n"
    }
   }
  },
  {
   "cell_type": "code",
   "execution_count": 37,
   "outputs": [],
   "source": [
    "age_groups_list = ['0-4', '5-9', '10-19', '20-29', '30-39', '40-49', '50-59', '60-69', '70+']\n",
    "def calc_eligible_for_vaccine(df):\n",
    "    temp = df.copy()\n",
    "    # Initiating the temp_df with NULLs:\n",
    "    for age_group in age_groups_list:\n",
    "        temp['eligible_vaccine_' + age_group] = np.nan\n",
    "    # Filling the NULLs with the computational value:\n",
    "    for i in range(temp.shape[0]):\n",
    "        if i == 0:      # update the first value with the people who have been vaccinated 2nd dose so far\n",
    "            temp.iloc[i, 30:39] = temp.iloc[i, 3:12].to_list()\n",
    "        else:           # calculate the eligible column according to the logic\n",
    "            temp.iloc[i, 30:39] = (temp.iloc[i-1, 3:12].to_numpy()) - (temp.iloc[i-1, 12:21].to_numpy())\n",
    "    return temp"
   ],
   "metadata": {
    "collapsed": false,
    "pycharm": {
     "name": "#%%\n"
    }
   }
  },
  {
   "cell_type": "code",
   "execution_count": 38,
   "outputs": [],
   "source": [
    "# Applying the function above\n",
    "eligible_df = result_with_county_id.groupby(by= ['county_id'], as_index= False).apply(calc_eligible_for_vaccine)"
   ],
   "metadata": {
    "collapsed": false,
    "pycharm": {
     "name": "#%%\n"
    }
   }
  },
  {
   "cell_type": "markdown",
   "metadata": {},
   "source": [
    "getting the proportion of vaccinated individuals: <br>\n",
    "* The proportion is defined by: (absolute amount of 3rd dose / eligible for 3rd dose)"
   ]
  },
  {
   "cell_type": "code",
   "execution_count": 39,
   "metadata": {},
   "outputs": [],
   "source": [
    "def get_proportion_of_vaccinated_people(df):\n",
    "    temp = df.copy()\n",
    "    # Creating proportion column for each age group\n",
    "    for column in temp.columns[21:30]:\n",
    "        column_list_without_beginning = column.split('_')[1:]\n",
    "        column_name_without_beginning = '_'.join(column_list_without_beginning)\n",
    "        age_group_ending = column.split('_').pop()\n",
    "        # Performing the calc logic\n",
    "        temp['prop_' + column_name_without_beginning] = (temp[column] / temp['eligible_vaccine_' + age_group_ending])\n",
    "        # handeling null values received from calculating 0/0\n",
    "        temp.fillna(value= 0, inplace= True)\n",
    "    return temp"
   ]
  },
  {
   "cell_type": "code",
   "execution_count": 40,
   "metadata": {
    "scrolled": true
   },
   "outputs": [],
   "source": [
    "# Applying the function above\n",
    "proportion_df = eligible_df.groupby(by= ['county_id'], as_index= False).apply(get_proportion_of_vaccinated_people)"
   ]
  },
  {
   "cell_type": "code",
   "execution_count": 41,
   "outputs": [
    {
     "data": {
      "text/plain": "array([], dtype=int64)"
     },
     "execution_count": 41,
     "metadata": {},
     "output_type": "execute_result"
    }
   ],
   "source": [
    "proportion_df[(proportion_df.iloc[: , 3:] < 0).any(1)]['county_id'].unique()"
   ],
   "metadata": {
    "collapsed": false,
    "pycharm": {
     "name": "#%%\n"
    }
   }
  },
  {
   "cell_type": "code",
   "execution_count": 42,
   "metadata": {
    "scrolled": true
   },
   "outputs": [
    {
     "data": {
      "text/plain": "Empty DataFrame\nColumns: [30_county, county_id, Date, second_dose_0-4_acc, second_dose_5-9_acc, second_dose_10-19_acc, second_dose_20-29_acc, second_dose_30-39_acc, second_dose_40-49_acc, second_dose_50-59_acc, second_dose_60-69_acc, second_dose_70+_acc, third_dose_0-4_acc, third_dose_5-9_acc, third_dose_10-19_acc, third_dose_20-29_acc, third_dose_30-39_acc, third_dose_40-49_acc, third_dose_50-59_acc, third_dose_60-69_acc, third_dose_70+_acc, absolute_third_dose_0-4, absolute_third_dose_5-9, absolute_third_dose_10-19, absolute_third_dose_20-29, absolute_third_dose_30-39, absolute_third_dose_40-49, absolute_third_dose_50-59, absolute_third_dose_60-69, absolute_third_dose_70+, eligible_vaccine_0-4, eligible_vaccine_5-9, eligible_vaccine_10-19, eligible_vaccine_20-29, eligible_vaccine_30-39, eligible_vaccine_40-49, eligible_vaccine_50-59, eligible_vaccine_60-69, eligible_vaccine_70+, prop_third_dose_0-4, prop_third_dose_5-9, prop_third_dose_10-19, prop_third_dose_20-29, prop_third_dose_30-39, prop_third_dose_40-49, prop_third_dose_50-59, prop_third_dose_60-69, prop_third_dose_70+]\nIndex: []",
      "text/html": "<div>\n<style scoped>\n    .dataframe tbody tr th:only-of-type {\n        vertical-align: middle;\n    }\n\n    .dataframe tbody tr th {\n        vertical-align: top;\n    }\n\n    .dataframe thead th {\n        text-align: right;\n    }\n</style>\n<table border=\"1\" class=\"dataframe\">\n  <thead>\n    <tr style=\"text-align: right;\">\n      <th></th>\n      <th>30_county</th>\n      <th>county_id</th>\n      <th>Date</th>\n      <th>second_dose_0-4_acc</th>\n      <th>second_dose_5-9_acc</th>\n      <th>second_dose_10-19_acc</th>\n      <th>second_dose_20-29_acc</th>\n      <th>second_dose_30-39_acc</th>\n      <th>second_dose_40-49_acc</th>\n      <th>second_dose_50-59_acc</th>\n      <th>second_dose_60-69_acc</th>\n      <th>second_dose_70+_acc</th>\n      <th>third_dose_0-4_acc</th>\n      <th>third_dose_5-9_acc</th>\n      <th>third_dose_10-19_acc</th>\n      <th>third_dose_20-29_acc</th>\n      <th>third_dose_30-39_acc</th>\n      <th>third_dose_40-49_acc</th>\n      <th>third_dose_50-59_acc</th>\n      <th>third_dose_60-69_acc</th>\n      <th>third_dose_70+_acc</th>\n      <th>absolute_third_dose_0-4</th>\n      <th>absolute_third_dose_5-9</th>\n      <th>absolute_third_dose_10-19</th>\n      <th>absolute_third_dose_20-29</th>\n      <th>absolute_third_dose_30-39</th>\n      <th>absolute_third_dose_40-49</th>\n      <th>absolute_third_dose_50-59</th>\n      <th>absolute_third_dose_60-69</th>\n      <th>absolute_third_dose_70+</th>\n      <th>eligible_vaccine_0-4</th>\n      <th>eligible_vaccine_5-9</th>\n      <th>eligible_vaccine_10-19</th>\n      <th>eligible_vaccine_20-29</th>\n      <th>eligible_vaccine_30-39</th>\n      <th>eligible_vaccine_40-49</th>\n      <th>eligible_vaccine_50-59</th>\n      <th>eligible_vaccine_60-69</th>\n      <th>eligible_vaccine_70+</th>\n      <th>prop_third_dose_0-4</th>\n      <th>prop_third_dose_5-9</th>\n      <th>prop_third_dose_10-19</th>\n      <th>prop_third_dose_20-29</th>\n      <th>prop_third_dose_30-39</th>\n      <th>prop_third_dose_40-49</th>\n      <th>prop_third_dose_50-59</th>\n      <th>prop_third_dose_60-69</th>\n      <th>prop_third_dose_70+</th>\n    </tr>\n  </thead>\n  <tbody>\n  </tbody>\n</table>\n</div>"
     },
     "execution_count": 42,
     "metadata": {},
     "output_type": "execute_result"
    }
   ],
   "source": [
    "proportion_df[(proportion_df.iloc[: , 3:] < 0).any(1)]"
   ]
  },
  {
   "cell_type": "code",
   "execution_count": 43,
   "metadata": {},
   "outputs": [],
   "source": [
    "# Reordering the columns - moving the proportion columns to the start of the DF\n",
    "all_columns = proportion_df.columns.tolist()\n",
    "new_ordered_columns = all_columns[0:3] + all_columns[39:48] + all_columns[3:39]\n",
    "proportion_df = proportion_df[new_ordered_columns]\n"
   ]
  },
  {
   "cell_type": "code",
   "execution_count": 44,
   "outputs": [
    {
     "data": {
      "text/plain": "           30_county  county_id        Date  prop_third_dose_0-4  \\\n0                 11       1100  2021-01-10                  0.0   \n1          11_haredi       1101  2021-01-10                  0.0   \n2      11_betshemesh       1103  2021-01-10                  0.0   \n3                 21       2100  2021-01-10                  0.0   \n4          22_jewish       2200  2021-01-10                  0.0   \n...              ...        ...         ...                  ...   \n16135             61       6100  2022-07-01                  0.0   \n16136      62_jewish       6200  2022-07-01                  0.0   \n16137        62_arab       6202  2022-07-01                  0.0   \n16138             71       7100  2022-07-01                  0.0   \n16139      71_haredi       7101  2022-07-01                  0.0   \n\n       prop_third_dose_5-9  prop_third_dose_10-19  prop_third_dose_20-29  \\\n0                      0.0                    0.0                    0.0   \n1                      0.0                    0.0                    0.0   \n2                      0.0                    0.0                    0.0   \n3                      0.0                    0.0                    0.0   \n4                      0.0                    0.0                    0.0   \n...                    ...                    ...                    ...   \n16135                  0.0                    0.0                    0.0   \n16136                  0.0                    0.0                    0.0   \n16137                  0.0                    0.0                    0.0   \n16138                  0.0                    0.0                    0.0   \n16139                  0.0                    0.0                    0.0   \n\n       prop_third_dose_30-39  prop_third_dose_40-49  prop_third_dose_50-59  \\\n0                        0.0                    0.0                    0.0   \n1                        0.0                    0.0                    0.0   \n2                        0.0                    0.0                    0.0   \n3                        0.0                    0.0                    0.0   \n4                        0.0                    0.0                    0.0   \n...                      ...                    ...                    ...   \n16135                    0.0                    0.0                    0.0   \n16136                    0.0                    0.0                    0.0   \n16137                    0.0                    0.0                    0.0   \n16138                    0.0                    0.0                    0.0   \n16139                    0.0                    0.0                    0.0   \n\n       prop_third_dose_60-69  prop_third_dose_70+  second_dose_0-4_acc  \\\n0                        0.0                  0.0             0.000000   \n1                        0.0                  0.0             0.000000   \n2                        0.0                  0.0             0.000000   \n3                        0.0                  0.0             0.000000   \n4                        0.0                  0.0             0.000000   \n...                      ...                  ...                  ...   \n16135                    0.0                  0.0          4146.300000   \n16136                    0.0                  0.0          4502.500000   \n16137                    0.0                  0.0          1127.500000   \n16138                    0.0                  0.0          2329.200000   \n16139                    0.0                  0.0          1181.070309   \n\n       second_dose_5-9_acc  second_dose_10-19_acc  second_dose_20-29_acc  \\\n0                 0.000000               0.000000              20.168174   \n1                 0.000000               0.000000               7.831826   \n2                 0.000000               0.000000               0.000000   \n3                 0.000000               0.000000               0.000000   \n4                 0.000000               0.000000               0.000000   \n...                    ...                    ...                    ...   \n16135          6219.450000           31097.250000           48060.000000   \n16136          6753.750000           33768.750000           55414.000000   \n16137          1691.250000            8456.250000           18100.000000   \n16138          3493.800000           17469.000000           18902.000000   \n16139          1771.605464            8858.027319            9971.367315   \n\n       second_dose_30-39_acc  second_dose_40-49_acc  second_dose_50-59_acc  \\\n0                  46.098683              46.818975              73.742186   \n1                  17.901317              18.181025              21.257814   \n2                   0.000000               0.000000               0.000000   \n3                   0.000000               0.000000               0.000000   \n4                   0.000000               0.000000               0.000000   \n...                      ...                    ...                    ...   \n16135           48068.000000           44160.000000           41261.000000   \n16136           50387.000000           43598.000000           39622.000000   \n16137           10727.000000            8398.000000            5386.000000   \n16138           14728.000000           14274.000000           12140.000000   \n16139            8105.054028            6245.860286            3028.874343   \n\n       second_dose_60-69_acc  second_dose_70+_acc  third_dose_0-4_acc  \\\n0                  43.937808             0.000000            0.000000   \n1                  17.062192             0.000000            0.000000   \n2                   0.000000             0.000000            0.000000   \n3                   0.000000             0.000000            0.000000   \n4                   0.000000             0.000000            0.000000   \n...                      ...                  ...                 ...   \n16135           41706.000000         45140.000000         1377.000000   \n16136           36988.000000         36872.000000         1609.500000   \n16137            2947.000000          2030.000000          273.200000   \n16138           10655.000000          8058.000000          887.900000   \n16139            1465.428554          1194.987532          312.932783   \n\n       third_dose_5-9_acc  third_dose_10-19_acc  third_dose_20-29_acc  \\\n0                0.000000              0.000000              0.000000   \n1                0.000000              0.000000              0.000000   \n2                0.000000              0.000000              0.000000   \n3                0.000000              0.000000              0.000000   \n4                0.000000              0.000000              0.000000   \n...                   ...                   ...                   ...   \n16135         2065.500000          10327.500000          31973.000000   \n16136         2414.250000          12071.250000          38426.000000   \n16137          409.800000           2049.000000           8541.000000   \n16138         1331.850000           6659.250000          14536.000000   \n16139          469.399175           2346.995875           5683.279061   \n\n       third_dose_30-39_acc  third_dose_40-49_acc  third_dose_50-59_acc  \\\n0                  0.000000              0.000000              0.000000   \n1                  0.000000              0.000000              0.000000   \n2                  0.000000              0.000000              0.000000   \n3                  0.000000              0.000000              0.000000   \n4                  0.000000              0.000000              0.000000   \n...                     ...                   ...                   ...   \n16135          33376.000000          34199.000000          34125.000000   \n16136          37044.000000          34916.000000          33929.000000   \n16137           5360.000000           4556.000000           3382.000000   \n16138          11534.000000          12086.000000          10786.000000   \n16139           4884.235057           4124.775211           2402.277472   \n\n       third_dose_60-69_acc  third_dose_70+_acc  absolute_third_dose_0-4  \\\n0                  0.000000            0.000000                      0.0   \n1                  0.000000            0.000000                      0.0   \n2                  0.000000            0.000000                      0.0   \n3                  0.000000            0.000000                      0.0   \n4                  0.000000            0.000000                      0.0   \n...                     ...                 ...                      ...   \n16135          37123.000000        42150.000000                      0.0   \n16136          33838.000000        34818.000000                      0.0   \n16137           1969.000000         1417.000000                      0.0   \n16138           9933.000000         7941.000000                      0.0   \n16139           1252.157682         1074.014301                      0.0   \n\n       absolute_third_dose_5-9  absolute_third_dose_10-19  \\\n0                          0.0                        0.0   \n1                          0.0                        0.0   \n2                          0.0                        0.0   \n3                          0.0                        0.0   \n4                          0.0                        0.0   \n...                        ...                        ...   \n16135                      0.0                        0.0   \n16136                      0.0                        0.0   \n16137                      0.0                        0.0   \n16138                      0.0                        0.0   \n16139                      0.0                        0.0   \n\n       absolute_third_dose_20-29  absolute_third_dose_30-39  \\\n0                            0.0                        0.0   \n1                            0.0                        0.0   \n2                            0.0                        0.0   \n3                            0.0                        0.0   \n4                            0.0                        0.0   \n...                          ...                        ...   \n16135                        0.0                        0.0   \n16136                        0.0                        0.0   \n16137                        0.0                        0.0   \n16138                        0.0                        0.0   \n16139                        0.0                        0.0   \n\n       absolute_third_dose_40-49  absolute_third_dose_50-59  \\\n0                            0.0                        0.0   \n1                            0.0                        0.0   \n2                            0.0                        0.0   \n3                            0.0                        0.0   \n4                            0.0                        0.0   \n...                          ...                        ...   \n16135                        0.0                        0.0   \n16136                        0.0                        0.0   \n16137                        0.0                        0.0   \n16138                        0.0                        0.0   \n16139                        0.0                        0.0   \n\n       absolute_third_dose_60-69  absolute_third_dose_70+  \\\n0                            0.0                      0.0   \n1                            0.0                      0.0   \n2                            0.0                      0.0   \n3                            0.0                      0.0   \n4                            0.0                      0.0   \n...                          ...                      ...   \n16135                        0.0                      0.0   \n16136                        0.0                      0.0   \n16137                        0.0                      0.0   \n16138                        0.0                      0.0   \n16139                        0.0                      0.0   \n\n       eligible_vaccine_0-4  eligible_vaccine_5-9  eligible_vaccine_10-19  \\\n0                  0.000000              0.000000                0.000000   \n1                  0.000000              0.000000                0.000000   \n2                  0.000000              0.000000                0.000000   \n3                  0.000000              0.000000                0.000000   \n4                  0.000000              0.000000                0.000000   \n...                     ...                   ...                     ...   \n16135           2769.300000           4153.950000            20769.750000   \n16136           2893.000000           4339.500000            21697.500000   \n16137            854.300000           1281.450000             6407.250000   \n16138           1441.300000           2161.950000            10809.750000   \n16139            868.137526           1302.206289             6511.031445   \n\n       eligible_vaccine_20-29  eligible_vaccine_30-39  eligible_vaccine_40-49  \\\n0                   20.168174               46.098683               46.818975   \n1                    7.831826               17.901317               18.181025   \n2                    0.000000                0.000000                0.000000   \n3                    0.000000                0.000000                0.000000   \n4                    0.000000                0.000000                0.000000   \n...                       ...                     ...                     ...   \n16135            16087.000000            14691.000000             9961.000000   \n16136            16987.000000            13342.000000             8682.000000   \n16137             9559.000000             5367.000000             3842.000000   \n16138             4366.000000             3194.000000             2188.000000   \n16139             4287.088253             3220.818971             2121.085075   \n\n       eligible_vaccine_50-59  eligible_vaccine_60-69  eligible_vaccine_70+  \n0                   73.742186               43.937808              0.000000  \n1                   21.257814               17.062192              0.000000  \n2                    0.000000                0.000000              0.000000  \n3                    0.000000                0.000000              0.000000  \n4                    0.000000                0.000000              0.000000  \n...                       ...                     ...                   ...  \n16135             7136.000000             4583.000000           2990.000000  \n16136             5693.000000             3150.000000           2054.000000  \n16137             2004.000000              978.000000            613.000000  \n16138             1354.000000              722.000000            117.000000  \n16139              626.596871              213.270872            120.973231  \n\n[16140 rows x 48 columns]",
      "text/html": "<div>\n<style scoped>\n    .dataframe tbody tr th:only-of-type {\n        vertical-align: middle;\n    }\n\n    .dataframe tbody tr th {\n        vertical-align: top;\n    }\n\n    .dataframe thead th {\n        text-align: right;\n    }\n</style>\n<table border=\"1\" class=\"dataframe\">\n  <thead>\n    <tr style=\"text-align: right;\">\n      <th></th>\n      <th>30_county</th>\n      <th>county_id</th>\n      <th>Date</th>\n      <th>prop_third_dose_0-4</th>\n      <th>prop_third_dose_5-9</th>\n      <th>prop_third_dose_10-19</th>\n      <th>prop_third_dose_20-29</th>\n      <th>prop_third_dose_30-39</th>\n      <th>prop_third_dose_40-49</th>\n      <th>prop_third_dose_50-59</th>\n      <th>prop_third_dose_60-69</th>\n      <th>prop_third_dose_70+</th>\n      <th>second_dose_0-4_acc</th>\n      <th>second_dose_5-9_acc</th>\n      <th>second_dose_10-19_acc</th>\n      <th>second_dose_20-29_acc</th>\n      <th>second_dose_30-39_acc</th>\n      <th>second_dose_40-49_acc</th>\n      <th>second_dose_50-59_acc</th>\n      <th>second_dose_60-69_acc</th>\n      <th>second_dose_70+_acc</th>\n      <th>third_dose_0-4_acc</th>\n      <th>third_dose_5-9_acc</th>\n      <th>third_dose_10-19_acc</th>\n      <th>third_dose_20-29_acc</th>\n      <th>third_dose_30-39_acc</th>\n      <th>third_dose_40-49_acc</th>\n      <th>third_dose_50-59_acc</th>\n      <th>third_dose_60-69_acc</th>\n      <th>third_dose_70+_acc</th>\n      <th>absolute_third_dose_0-4</th>\n      <th>absolute_third_dose_5-9</th>\n      <th>absolute_third_dose_10-19</th>\n      <th>absolute_third_dose_20-29</th>\n      <th>absolute_third_dose_30-39</th>\n      <th>absolute_third_dose_40-49</th>\n      <th>absolute_third_dose_50-59</th>\n      <th>absolute_third_dose_60-69</th>\n      <th>absolute_third_dose_70+</th>\n      <th>eligible_vaccine_0-4</th>\n      <th>eligible_vaccine_5-9</th>\n      <th>eligible_vaccine_10-19</th>\n      <th>eligible_vaccine_20-29</th>\n      <th>eligible_vaccine_30-39</th>\n      <th>eligible_vaccine_40-49</th>\n      <th>eligible_vaccine_50-59</th>\n      <th>eligible_vaccine_60-69</th>\n      <th>eligible_vaccine_70+</th>\n    </tr>\n  </thead>\n  <tbody>\n    <tr>\n      <th>0</th>\n      <td>11</td>\n      <td>1100</td>\n      <td>2021-01-10</td>\n      <td>0.0</td>\n      <td>0.0</td>\n      <td>0.0</td>\n      <td>0.0</td>\n      <td>0.0</td>\n      <td>0.0</td>\n      <td>0.0</td>\n      <td>0.0</td>\n      <td>0.0</td>\n      <td>0.000000</td>\n      <td>0.000000</td>\n      <td>0.000000</td>\n      <td>20.168174</td>\n      <td>46.098683</td>\n      <td>46.818975</td>\n      <td>73.742186</td>\n      <td>43.937808</td>\n      <td>0.000000</td>\n      <td>0.000000</td>\n      <td>0.000000</td>\n      <td>0.000000</td>\n      <td>0.000000</td>\n      <td>0.000000</td>\n      <td>0.000000</td>\n      <td>0.000000</td>\n      <td>0.000000</td>\n      <td>0.000000</td>\n      <td>0.0</td>\n      <td>0.0</td>\n      <td>0.0</td>\n      <td>0.0</td>\n      <td>0.0</td>\n      <td>0.0</td>\n      <td>0.0</td>\n      <td>0.0</td>\n      <td>0.0</td>\n      <td>0.000000</td>\n      <td>0.000000</td>\n      <td>0.000000</td>\n      <td>20.168174</td>\n      <td>46.098683</td>\n      <td>46.818975</td>\n      <td>73.742186</td>\n      <td>43.937808</td>\n      <td>0.000000</td>\n    </tr>\n    <tr>\n      <th>1</th>\n      <td>11_haredi</td>\n      <td>1101</td>\n      <td>2021-01-10</td>\n      <td>0.0</td>\n      <td>0.0</td>\n      <td>0.0</td>\n      <td>0.0</td>\n      <td>0.0</td>\n      <td>0.0</td>\n      <td>0.0</td>\n      <td>0.0</td>\n      <td>0.0</td>\n      <td>0.000000</td>\n      <td>0.000000</td>\n      <td>0.000000</td>\n      <td>7.831826</td>\n      <td>17.901317</td>\n      <td>18.181025</td>\n      <td>21.257814</td>\n      <td>17.062192</td>\n      <td>0.000000</td>\n      <td>0.000000</td>\n      <td>0.000000</td>\n      <td>0.000000</td>\n      <td>0.000000</td>\n      <td>0.000000</td>\n      <td>0.000000</td>\n      <td>0.000000</td>\n      <td>0.000000</td>\n      <td>0.000000</td>\n      <td>0.0</td>\n      <td>0.0</td>\n      <td>0.0</td>\n      <td>0.0</td>\n      <td>0.0</td>\n      <td>0.0</td>\n      <td>0.0</td>\n      <td>0.0</td>\n      <td>0.0</td>\n      <td>0.000000</td>\n      <td>0.000000</td>\n      <td>0.000000</td>\n      <td>7.831826</td>\n      <td>17.901317</td>\n      <td>18.181025</td>\n      <td>21.257814</td>\n      <td>17.062192</td>\n      <td>0.000000</td>\n    </tr>\n    <tr>\n      <th>2</th>\n      <td>11_betshemesh</td>\n      <td>1103</td>\n      <td>2021-01-10</td>\n      <td>0.0</td>\n      <td>0.0</td>\n      <td>0.0</td>\n      <td>0.0</td>\n      <td>0.0</td>\n      <td>0.0</td>\n      <td>0.0</td>\n      <td>0.0</td>\n      <td>0.0</td>\n      <td>0.000000</td>\n      <td>0.000000</td>\n      <td>0.000000</td>\n      <td>0.000000</td>\n      <td>0.000000</td>\n      <td>0.000000</td>\n      <td>0.000000</td>\n      <td>0.000000</td>\n      <td>0.000000</td>\n      <td>0.000000</td>\n      <td>0.000000</td>\n      <td>0.000000</td>\n      <td>0.000000</td>\n      <td>0.000000</td>\n      <td>0.000000</td>\n      <td>0.000000</td>\n      <td>0.000000</td>\n      <td>0.000000</td>\n      <td>0.0</td>\n      <td>0.0</td>\n      <td>0.0</td>\n      <td>0.0</td>\n      <td>0.0</td>\n      <td>0.0</td>\n      <td>0.0</td>\n      <td>0.0</td>\n      <td>0.0</td>\n      <td>0.000000</td>\n      <td>0.000000</td>\n      <td>0.000000</td>\n      <td>0.000000</td>\n      <td>0.000000</td>\n      <td>0.000000</td>\n      <td>0.000000</td>\n      <td>0.000000</td>\n      <td>0.000000</td>\n    </tr>\n    <tr>\n      <th>3</th>\n      <td>21</td>\n      <td>2100</td>\n      <td>2021-01-10</td>\n      <td>0.0</td>\n      <td>0.0</td>\n      <td>0.0</td>\n      <td>0.0</td>\n      <td>0.0</td>\n      <td>0.0</td>\n      <td>0.0</td>\n      <td>0.0</td>\n      <td>0.0</td>\n      <td>0.000000</td>\n      <td>0.000000</td>\n      <td>0.000000</td>\n      <td>0.000000</td>\n      <td>0.000000</td>\n      <td>0.000000</td>\n      <td>0.000000</td>\n      <td>0.000000</td>\n      <td>0.000000</td>\n      <td>0.000000</td>\n      <td>0.000000</td>\n      <td>0.000000</td>\n      <td>0.000000</td>\n      <td>0.000000</td>\n      <td>0.000000</td>\n      <td>0.000000</td>\n      <td>0.000000</td>\n      <td>0.000000</td>\n      <td>0.0</td>\n      <td>0.0</td>\n      <td>0.0</td>\n      <td>0.0</td>\n      <td>0.0</td>\n      <td>0.0</td>\n      <td>0.0</td>\n      <td>0.0</td>\n      <td>0.0</td>\n      <td>0.000000</td>\n      <td>0.000000</td>\n      <td>0.000000</td>\n      <td>0.000000</td>\n      <td>0.000000</td>\n      <td>0.000000</td>\n      <td>0.000000</td>\n      <td>0.000000</td>\n      <td>0.000000</td>\n    </tr>\n    <tr>\n      <th>4</th>\n      <td>22_jewish</td>\n      <td>2200</td>\n      <td>2021-01-10</td>\n      <td>0.0</td>\n      <td>0.0</td>\n      <td>0.0</td>\n      <td>0.0</td>\n      <td>0.0</td>\n      <td>0.0</td>\n      <td>0.0</td>\n      <td>0.0</td>\n      <td>0.0</td>\n      <td>0.000000</td>\n      <td>0.000000</td>\n      <td>0.000000</td>\n      <td>0.000000</td>\n      <td>0.000000</td>\n      <td>0.000000</td>\n      <td>0.000000</td>\n      <td>0.000000</td>\n      <td>0.000000</td>\n      <td>0.000000</td>\n      <td>0.000000</td>\n      <td>0.000000</td>\n      <td>0.000000</td>\n      <td>0.000000</td>\n      <td>0.000000</td>\n      <td>0.000000</td>\n      <td>0.000000</td>\n      <td>0.000000</td>\n      <td>0.0</td>\n      <td>0.0</td>\n      <td>0.0</td>\n      <td>0.0</td>\n      <td>0.0</td>\n      <td>0.0</td>\n      <td>0.0</td>\n      <td>0.0</td>\n      <td>0.0</td>\n      <td>0.000000</td>\n      <td>0.000000</td>\n      <td>0.000000</td>\n      <td>0.000000</td>\n      <td>0.000000</td>\n      <td>0.000000</td>\n      <td>0.000000</td>\n      <td>0.000000</td>\n      <td>0.000000</td>\n    </tr>\n    <tr>\n      <th>...</th>\n      <td>...</td>\n      <td>...</td>\n      <td>...</td>\n      <td>...</td>\n      <td>...</td>\n      <td>...</td>\n      <td>...</td>\n      <td>...</td>\n      <td>...</td>\n      <td>...</td>\n      <td>...</td>\n      <td>...</td>\n      <td>...</td>\n      <td>...</td>\n      <td>...</td>\n      <td>...</td>\n      <td>...</td>\n      <td>...</td>\n      <td>...</td>\n      <td>...</td>\n      <td>...</td>\n      <td>...</td>\n      <td>...</td>\n      <td>...</td>\n      <td>...</td>\n      <td>...</td>\n      <td>...</td>\n      <td>...</td>\n      <td>...</td>\n      <td>...</td>\n      <td>...</td>\n      <td>...</td>\n      <td>...</td>\n      <td>...</td>\n      <td>...</td>\n      <td>...</td>\n      <td>...</td>\n      <td>...</td>\n      <td>...</td>\n      <td>...</td>\n      <td>...</td>\n      <td>...</td>\n      <td>...</td>\n      <td>...</td>\n      <td>...</td>\n      <td>...</td>\n      <td>...</td>\n      <td>...</td>\n    </tr>\n    <tr>\n      <th>16135</th>\n      <td>61</td>\n      <td>6100</td>\n      <td>2022-07-01</td>\n      <td>0.0</td>\n      <td>0.0</td>\n      <td>0.0</td>\n      <td>0.0</td>\n      <td>0.0</td>\n      <td>0.0</td>\n      <td>0.0</td>\n      <td>0.0</td>\n      <td>0.0</td>\n      <td>4146.300000</td>\n      <td>6219.450000</td>\n      <td>31097.250000</td>\n      <td>48060.000000</td>\n      <td>48068.000000</td>\n      <td>44160.000000</td>\n      <td>41261.000000</td>\n      <td>41706.000000</td>\n      <td>45140.000000</td>\n      <td>1377.000000</td>\n      <td>2065.500000</td>\n      <td>10327.500000</td>\n      <td>31973.000000</td>\n      <td>33376.000000</td>\n      <td>34199.000000</td>\n      <td>34125.000000</td>\n      <td>37123.000000</td>\n      <td>42150.000000</td>\n      <td>0.0</td>\n      <td>0.0</td>\n      <td>0.0</td>\n      <td>0.0</td>\n      <td>0.0</td>\n      <td>0.0</td>\n      <td>0.0</td>\n      <td>0.0</td>\n      <td>0.0</td>\n      <td>2769.300000</td>\n      <td>4153.950000</td>\n      <td>20769.750000</td>\n      <td>16087.000000</td>\n      <td>14691.000000</td>\n      <td>9961.000000</td>\n      <td>7136.000000</td>\n      <td>4583.000000</td>\n      <td>2990.000000</td>\n    </tr>\n    <tr>\n      <th>16136</th>\n      <td>62_jewish</td>\n      <td>6200</td>\n      <td>2022-07-01</td>\n      <td>0.0</td>\n      <td>0.0</td>\n      <td>0.0</td>\n      <td>0.0</td>\n      <td>0.0</td>\n      <td>0.0</td>\n      <td>0.0</td>\n      <td>0.0</td>\n      <td>0.0</td>\n      <td>4502.500000</td>\n      <td>6753.750000</td>\n      <td>33768.750000</td>\n      <td>55414.000000</td>\n      <td>50387.000000</td>\n      <td>43598.000000</td>\n      <td>39622.000000</td>\n      <td>36988.000000</td>\n      <td>36872.000000</td>\n      <td>1609.500000</td>\n      <td>2414.250000</td>\n      <td>12071.250000</td>\n      <td>38426.000000</td>\n      <td>37044.000000</td>\n      <td>34916.000000</td>\n      <td>33929.000000</td>\n      <td>33838.000000</td>\n      <td>34818.000000</td>\n      <td>0.0</td>\n      <td>0.0</td>\n      <td>0.0</td>\n      <td>0.0</td>\n      <td>0.0</td>\n      <td>0.0</td>\n      <td>0.0</td>\n      <td>0.0</td>\n      <td>0.0</td>\n      <td>2893.000000</td>\n      <td>4339.500000</td>\n      <td>21697.500000</td>\n      <td>16987.000000</td>\n      <td>13342.000000</td>\n      <td>8682.000000</td>\n      <td>5693.000000</td>\n      <td>3150.000000</td>\n      <td>2054.000000</td>\n    </tr>\n    <tr>\n      <th>16137</th>\n      <td>62_arab</td>\n      <td>6202</td>\n      <td>2022-07-01</td>\n      <td>0.0</td>\n      <td>0.0</td>\n      <td>0.0</td>\n      <td>0.0</td>\n      <td>0.0</td>\n      <td>0.0</td>\n      <td>0.0</td>\n      <td>0.0</td>\n      <td>0.0</td>\n      <td>1127.500000</td>\n      <td>1691.250000</td>\n      <td>8456.250000</td>\n      <td>18100.000000</td>\n      <td>10727.000000</td>\n      <td>8398.000000</td>\n      <td>5386.000000</td>\n      <td>2947.000000</td>\n      <td>2030.000000</td>\n      <td>273.200000</td>\n      <td>409.800000</td>\n      <td>2049.000000</td>\n      <td>8541.000000</td>\n      <td>5360.000000</td>\n      <td>4556.000000</td>\n      <td>3382.000000</td>\n      <td>1969.000000</td>\n      <td>1417.000000</td>\n      <td>0.0</td>\n      <td>0.0</td>\n      <td>0.0</td>\n      <td>0.0</td>\n      <td>0.0</td>\n      <td>0.0</td>\n      <td>0.0</td>\n      <td>0.0</td>\n      <td>0.0</td>\n      <td>854.300000</td>\n      <td>1281.450000</td>\n      <td>6407.250000</td>\n      <td>9559.000000</td>\n      <td>5367.000000</td>\n      <td>3842.000000</td>\n      <td>2004.000000</td>\n      <td>978.000000</td>\n      <td>613.000000</td>\n    </tr>\n    <tr>\n      <th>16138</th>\n      <td>71</td>\n      <td>7100</td>\n      <td>2022-07-01</td>\n      <td>0.0</td>\n      <td>0.0</td>\n      <td>0.0</td>\n      <td>0.0</td>\n      <td>0.0</td>\n      <td>0.0</td>\n      <td>0.0</td>\n      <td>0.0</td>\n      <td>0.0</td>\n      <td>2329.200000</td>\n      <td>3493.800000</td>\n      <td>17469.000000</td>\n      <td>18902.000000</td>\n      <td>14728.000000</td>\n      <td>14274.000000</td>\n      <td>12140.000000</td>\n      <td>10655.000000</td>\n      <td>8058.000000</td>\n      <td>887.900000</td>\n      <td>1331.850000</td>\n      <td>6659.250000</td>\n      <td>14536.000000</td>\n      <td>11534.000000</td>\n      <td>12086.000000</td>\n      <td>10786.000000</td>\n      <td>9933.000000</td>\n      <td>7941.000000</td>\n      <td>0.0</td>\n      <td>0.0</td>\n      <td>0.0</td>\n      <td>0.0</td>\n      <td>0.0</td>\n      <td>0.0</td>\n      <td>0.0</td>\n      <td>0.0</td>\n      <td>0.0</td>\n      <td>1441.300000</td>\n      <td>2161.950000</td>\n      <td>10809.750000</td>\n      <td>4366.000000</td>\n      <td>3194.000000</td>\n      <td>2188.000000</td>\n      <td>1354.000000</td>\n      <td>722.000000</td>\n      <td>117.000000</td>\n    </tr>\n    <tr>\n      <th>16139</th>\n      <td>71_haredi</td>\n      <td>7101</td>\n      <td>2022-07-01</td>\n      <td>0.0</td>\n      <td>0.0</td>\n      <td>0.0</td>\n      <td>0.0</td>\n      <td>0.0</td>\n      <td>0.0</td>\n      <td>0.0</td>\n      <td>0.0</td>\n      <td>0.0</td>\n      <td>1181.070309</td>\n      <td>1771.605464</td>\n      <td>8858.027319</td>\n      <td>9971.367315</td>\n      <td>8105.054028</td>\n      <td>6245.860286</td>\n      <td>3028.874343</td>\n      <td>1465.428554</td>\n      <td>1194.987532</td>\n      <td>312.932783</td>\n      <td>469.399175</td>\n      <td>2346.995875</td>\n      <td>5683.279061</td>\n      <td>4884.235057</td>\n      <td>4124.775211</td>\n      <td>2402.277472</td>\n      <td>1252.157682</td>\n      <td>1074.014301</td>\n      <td>0.0</td>\n      <td>0.0</td>\n      <td>0.0</td>\n      <td>0.0</td>\n      <td>0.0</td>\n      <td>0.0</td>\n      <td>0.0</td>\n      <td>0.0</td>\n      <td>0.0</td>\n      <td>868.137526</td>\n      <td>1302.206289</td>\n      <td>6511.031445</td>\n      <td>4287.088253</td>\n      <td>3220.818971</td>\n      <td>2121.085075</td>\n      <td>626.596871</td>\n      <td>213.270872</td>\n      <td>120.973231</td>\n    </tr>\n  </tbody>\n</table>\n<p>16140 rows × 48 columns</p>\n</div>"
     },
     "execution_count": 44,
     "metadata": {},
     "output_type": "execute_result"
    }
   ],
   "source": [
    "proportion_df"
   ],
   "metadata": {
    "collapsed": false,
    "pycharm": {
     "name": "#%%\n"
    }
   }
  },
  {
   "cell_type": "code",
   "execution_count": 45,
   "metadata": {
    "pycharm": {
     "name": "#%%\n"
    }
   },
   "outputs": [],
   "source": [
    "proportion_df.to_excel(DATA_DIR + '/Vaccinations/Third_dose_vaccination_by_30area_age.xlsx', index= False)"
   ]
  }
 ],
 "metadata": {
  "kernelspec": {
   "display_name": "PyCharm (SEIR_model_COVID-equal_chance)",
   "language": "python",
   "name": "pycharm-1ba5fd02"
  },
  "language_info": {
   "codemirror_mode": {
    "name": "ipython",
    "version": 3
   },
   "file_extension": ".py",
   "mimetype": "text/x-python",
   "name": "python",
   "nbconvert_exporter": "python",
   "pygments_lexer": "ipython3",
   "version": "3.8.5"
  },
  "toc": {
   "base_numbering": 1,
   "nav_menu": {},
   "number_sections": true,
   "sideBar": true,
   "skip_h1_title": false,
   "title_cell": "Table of Contents",
   "title_sidebar": "Contents",
   "toc_cell": false,
   "toc_position": {},
   "toc_section_display": true,
   "toc_window_display": true
  },
  "varInspector": {
   "cols": {
    "lenName": 16,
    "lenType": 16,
    "lenVar": 40
   },
   "kernels_config": {
    "python": {
     "delete_cmd_postfix": "",
     "delete_cmd_prefix": "del ",
     "library": "var_list.py",
     "varRefreshCmd": "print(var_dic_list())"
    },
    "r": {
     "delete_cmd_postfix": ") ",
     "delete_cmd_prefix": "rm(",
     "library": "var_list.r",
     "varRefreshCmd": "cat(var_dic_list()) "
    }
   },
   "position": {
    "height": "342px",
    "left": "1170px",
    "right": "20px",
    "top": "69px",
    "width": "274px"
   },
   "types_to_exclude": [
    "module",
    "function",
    "builtin_function_or_method",
    "instance",
    "_Feature"
   ],
   "window_display": true
  }
 },
 "nbformat": 4,
 "nbformat_minor": 4
}