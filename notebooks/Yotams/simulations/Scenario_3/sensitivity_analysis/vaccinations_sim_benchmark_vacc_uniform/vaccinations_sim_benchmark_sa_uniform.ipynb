{
 "cells": [
  {
   "cell_type": "markdown",
   "source": [
    "## This notebook produces cases per year for the benchmark uniform simulation"
   ],
   "metadata": {
    "collapsed": false,
    "pycharm": {
     "name": "#%% md\n"
    }
   }
  },
  {
   "cell_type": "code",
   "execution_count": 1,
   "outputs": [],
   "source": [
    "import numpy as np\n",
    "import pandas as pd\n",
    "import itertools\n",
    "import pickle\n",
    "import datetime, random, copy\n",
    "import sys, os, tqdm\n",
    "\n",
    "import SEIR_full as mdl\n",
    "import SEIR_full.model as mdl\n",
    "import SEIR_full.calibration as mdl\n",
    "from SEIR_full.indices import *\n",
    "from SEIR_full.utils import *\n",
    "from SEIR_full.parameters import *"
   ],
   "metadata": {
    "collapsed": false,
    "pycharm": {
     "name": "#%%\n"
    }
   }
  },
  {
   "cell_type": "markdown",
   "source": [
    "* Fixing the ranges of the uncertainty factors that we're interested in:"
   ],
   "metadata": {
    "collapsed": false,
    "pycharm": {
     "name": "#%% md\n"
    }
   }
  },
  {
   "cell_type": "code",
   "execution_count": 2,
   "outputs": [],
   "source": [
    "# Creating a list of tuples, each tuple is a realization of randomly picked values for the factors that we change every iteration of the simulation\n",
    "np.random.seed(71)\n",
    "list_of_tuples = []\n",
    "for i in range(1000):\n",
    "    booster_eff = round(np.random.uniform(low=29.5001, high=95.5)) / 100    # Discrete uniform dist, booster_efficiency ~ U(30, 95), Updated in the model's object\n",
    "    inv_level = round(np.random.uniform(low=9.5001, high=20.5)) / 100       # Discrete uniform dist, booster_efficiency ~ U(10, 20), Updated in the simulation's settings\n",
    "    hosp_proba_scalar = round(np.random.uniform(low=0.8, high=1.2), 2)      # Continuous uniform dist, booster_efficiency ~ U(0.8, 1.2), Updated in the model's object\n",
    "    years_for_model_run = round(np.random.uniform(low=.5001, high=5.5))         # Discrete uniform dist, booster_efficiency ~ U(3, 10), Updated in the simulation's settings\n",
    "    list_of_tuples.append((booster_eff, inv_level, hosp_proba_scalar, years_for_model_run))"
   ],
   "metadata": {
    "collapsed": false,
    "pycharm": {
     "name": "#%%\n"
    }
   }
  },
  {
   "cell_type": "markdown",
   "source": [
    "* Fixing the static settings for all runs of the big loop"
   ],
   "metadata": {
    "collapsed": false,
    "pycharm": {
     "name": "#%% md\n"
    }
   }
  },
  {
   "cell_type": "code",
   "execution_count": 3,
   "outputs": [],
   "source": [
    "## DEFINING STATIC SETTINGS (INDEPENDENT IN THE DYNAMIC FACTORS) FOR THE SIMULATION RUN\n",
    "# Short path for the data directory\n",
    "DATA_DIR = r'/Users/yotamdery/Old_Desktop/git/SEIR_model_COVID-main/Data'\n",
    "# Reading the indices of the model - adding an hint to declare it's from type Indices!\n",
    "with(open(DATA_DIR + '/parameters/indices.pickle', 'rb')) as openfile:\n",
    "    ind:Indices = pickle.load(openfile)\n",
    "\n",
    "# Vaccination priority queue:\n",
    "vaccination_pq = [('High', '60+'), ('High', '30-59'), ('High', '10-29'), ('High', '5-9'),\n",
    "                   ('Low', '60+'), ('Low', '30-59'), ('Low', '10-29'), ('Low', '5-9')]\n",
    "\n",
    "# Reading the neutralized vectors:\n",
    "# Alpha variant vector\n",
    "with open(DATA_DIR + '/parameters/neutralized_alpha_variant_vec.pickle', 'rb') as pickle_in:\n",
    "\tneutralized_alpha_variant_vec = pickle.load(pickle_in)\n",
    "\n",
    "# Delta variant vector\n",
    "with open(DATA_DIR + '/parameters/neutralized_delta_variant_vec.pickle', 'rb') as pickle_in:\n",
    "\tneutralized_delta_variant_vec = pickle.load(pickle_in)\n",
    "\n",
    "# Beta_lockdown vector\n",
    "with open(DATA_DIR + '/parameters/neutralized_lockdown_vec.pickle', 'rb') as pickle_in:\n",
    "\tneutralized_lockdown_vec = pickle.load(pickle_in)\n",
    "\n",
    "# Beta_school vector\n",
    "with open(DATA_DIR + '/parameters/neutralized_school_vec.pickle', 'rb') as pickle_in:\n",
    "\tneutralized_school_vec = pickle.load(pickle_in)\n",
    "\n",
    "# Isolation morbidity ratio vector\n",
    "with open(DATA_DIR + '/parameters/neutralized_isolation_morbidity_ratio_vector.pickle', 'rb') as pickle_in:\n",
    "\tneutralized_isolation_morbidity_ratio_vector = pickle.load(pickle_in)\n",
    "\n",
    "# zero vector to remove any transition from V_2 and S_2 to V_3\n",
    "with open(DATA_DIR + '/parameters/neutralized_transition_rate_to_V_3.pickle', 'rb') as pickle_in:\n",
    "\tneutralized_transition_vector = pickle.load(pickle_in)\n"
   ],
   "metadata": {
    "collapsed": false,
    "pycharm": {
     "name": "#%%\n"
    }
   }
  },
  {
   "cell_type": "markdown",
   "source": [
    "* Utils functions:"
   ],
   "metadata": {
    "collapsed": false,
    "pycharm": {
     "name": "#%% md\n"
    }
   }
  },
  {
   "cell_type": "code",
   "execution_count": 4,
   "outputs": [],
   "source": [
    "# Getting the reported unreported ratio\n",
    "def get_reported_unreported_ratio(scen):\n",
    "    if scen == 'Scenario3':\n",
    "        reported = 1\n",
    "        unreported = 3\n",
    "        reported_unreported = unreported / (reported + unreported)\n",
    "    return reported_unreported\n",
    "\n",
    "def risk_age_groups_mapping(wanted_mapping: tuple):\n",
    "    \"\"\" This function gets a wanted mapping (4 examined age groups to 9 original model's age groups or vice versa),\n",
    "    and returns a dictionary consist of the wanted mapping\n",
    "    \"\"\"\n",
    "    age_groups_mapping_dict = {}\n",
    "    # If the wanted mapping is 4 examined age groups to 9 original model's age groups:\n",
    "    if wanted_mapping == ('High', '4-to-9'):\n",
    "        age_groups_mapping_dict[('High', '5-9')] = [('High', '5-9')]\n",
    "        age_groups_mapping_dict[('High', '10-29')] = [('High', '10-19'), ('High', '20-29')]\n",
    "        age_groups_mapping_dict[('High', '30-59')] = [('High','30-39'), ('High','40-49'), ('High','50-59')]\n",
    "        age_groups_mapping_dict[('High', '60+')] = [('High', '60-69'), ('High', '70+')]\n",
    "\n",
    "    elif wanted_mapping == ('Low', '4-to-9'):\n",
    "        age_groups_mapping_dict[('Low', '5-9')] = [('Low', '5-9')]\n",
    "        age_groups_mapping_dict[('Low', '10-29')] = [('Low', '10-19'), ('Low', '20-29')]\n",
    "        age_groups_mapping_dict[('Low', '30-59')] = [('Low','30-39'), ('Low','40-49'), ('Low','50-59')]\n",
    "        age_groups_mapping_dict[('Low', '60+')] = [('Low', '60-69'), ('Low', '70+')]\n",
    "\n",
    "    # If the wanted mapping is 9 original model's age groups to 4 examined age groups:\n",
    "    elif wanted_mapping == ('High', '9-to-4'):\n",
    "        age_groups_mapping_dict[('High', '0-4')] = np.nan     # There's no corresponding age group among the 4 examined age-groups\n",
    "        age_groups_mapping_dict[('High', '5-9')] = ('High', '5-9')\n",
    "        age_groups_mapping_dict[('High', '10-19')] = ('High', '10-29')\n",
    "        age_groups_mapping_dict[('High', '20-29')] = ('High', '10-29')\n",
    "        age_groups_mapping_dict[('High', '30-39')] = ('High', '30-59')\n",
    "        age_groups_mapping_dict[('High', '40-49')] = ('High', '30-59')\n",
    "        age_groups_mapping_dict[('High', '50-59')] = ('High', '30-59')\n",
    "        age_groups_mapping_dict[('High', '60-69')] = ('High', '60+')\n",
    "        age_groups_mapping_dict[('High', '70+')] = ('High', '60+')\n",
    "\n",
    "    else:\n",
    "        age_groups_mapping_dict[('low', '0-4')] = np.nan     # There's no corresponding age group among the 4 examined age-groups\n",
    "        age_groups_mapping_dict[('low', '5-9')] = ('low', '5-9')\n",
    "        age_groups_mapping_dict[('low', '10-19')] = ('low', '10-29')\n",
    "        age_groups_mapping_dict[('low', '20-29')] = ('low', '10-29')\n",
    "        age_groups_mapping_dict[('low', '30-39')] = ('low', '30-59')\n",
    "        age_groups_mapping_dict[('low', '40-49')] = ('low', '30-59')\n",
    "        age_groups_mapping_dict[('low', '50-59')] = ('low', '30-59')\n",
    "        age_groups_mapping_dict[('low', '60-69')] = ('low', '60+')\n",
    "        age_groups_mapping_dict[('low', '70+')] = ('low', '60+')\n",
    "\n",
    "    return age_groups_mapping_dict\n",
    "\n",
    "def get_wanted_df(wanted_age_group):\n",
    "\t\"\"\" Gets the age-groups that we want to address our calculations to, and returns a sub-Dataframe containing only the relevant columns (the wanted age-groups columns)\"\"\"\n",
    "\t# Reading the pop per county file:\n",
    "\tcounty_pop = pd.read_csv(DATA_DIR + '/division_choice/30/population_per_county_age-group.csv')\n",
    "\t# Initializing the list with the county column, that will be picked anyway\n",
    "\twanted_columns = [county_pop.columns[0]]\n",
    "\t# Splitting the given age_group, creating list of integers. try-expect block to catch the 60+ column as well:\n",
    "\ttry:\n",
    "\t\twanted_age_group_splitted = list(map(int, wanted_age_group.split('-')))\n",
    "\texcept ValueError:\n",
    "\t\twanted_age_group_splitted = [60, 70]  # In order to pass the logic condition successfully\n",
    "\n",
    "\t# Iterating on the columns of the file and performing the condition logic:\n",
    "\tfor col in county_pop.columns[1:]:\n",
    "\t\t# Splitting the current column of the file. try-expect block to catch the 70+ column as well:\n",
    "\t\ttry:\n",
    "\t\t\tages_as_list = list(map(int, col.split('_')[1].split('-')))\n",
    "\t\texcept ValueError:\n",
    "\t\t\tages_as_list = [70]\n",
    "\t\t# If these conditions are met, take this column to be in the sub-df\n",
    "\t\tif ages_as_list[0] >= min(wanted_age_group_splitted) and ages_as_list[0] <= max(wanted_age_group_splitted):\n",
    "\t\t\twanted_columns.append(col)\n",
    "\n",
    "\treturn county_pop[wanted_columns]\n",
    "\n",
    "# Gets a dictionary to reduce (lambda, V_2 or S_2) and reduce its cardinality to consist only the relevant age-groups\n",
    "def calc_sub_dict(dict_to_reduce: dict, wanted_age_group: str):\n",
    "    sub_dict = {}\n",
    "    # Splitting the given age_group, creating list of integers. try-expect block to catch the 60+ group as well (if wanted):\n",
    "    try:\n",
    "        wanted_age_group_splitted = list(map(int, wanted_age_group.split('-')))\n",
    "    except ValueError:\n",
    "        wanted_age_group_splitted = [60, 70]    # In order to pass the logic condition successfully\n",
    "\n",
    "    for key, val in dict_to_reduce.items():\n",
    "        # Splitting the age group part of the key. try-expect block to catch the 70+ column from the file as well:\n",
    "        try:\n",
    "            if isinstance(key, str):   # If the dict_to_reduce keys are only on the age level\n",
    "                ages_as_list = list(map(int, key.split('-')))\n",
    "            elif isinstance(key, tuple):    # If the dict_to_reduce keys are on the region&age level (as lambda_t does) - take the second element (the age)\n",
    "                ages_as_list = list(map(int, key[1].split('-')))\n",
    "        except ValueError:\n",
    "            ages_as_list = [70]\n",
    "        # If these conditions are met, take this key-value pair to be in the sub-dict\n",
    "        if ages_as_list[0] >= min(wanted_age_group_splitted) and ages_as_list[0] <= max(wanted_age_group_splitted):\n",
    "            sub_dict[key] = val    # Converting from ndarray to float\n",
    "\n",
    "    return sub_dict\n",
    "\n",
    "def get_indexes_risk_age_combination(risk_age_group: tuple):\n",
    "    \"\"\"This function gets a tuple of (risk, 4_age_group) and returns the indexes of that combination as they are in the original model (including transformation to the 9 original age groups\n",
    "    e.g.: for ('High', '10-29'), returns the indexes for ('High', '10-19') + ('High', '20-29') \"\"\"\n",
    "    # Initializing the result list and the age groups mapper:\n",
    "    indexes_list_of_lists = []\n",
    "    four_to_nine_age_map = risk_age_groups_mapping((risk_age_group[0], '4-to-9'))\n",
    "    for val in four_to_nine_age_map[risk_age_group]:\n",
    "            indexes_list_of_lists.append(ind.risk_age_dict[val])\n",
    "    # Merging the list of lists to one list:\n",
    "    risk_indexes_list = [item for sublist in indexes_list_of_lists for item in sublist]\n",
    "    return sorted(risk_indexes_list)\n",
    "\n",
    "# Gets the compartment to aggregate, and returns the same compartment, stratified by the original age-groups\n",
    "def calc_aggregated_compartment_by_age_risk(compartment: np.array):\n",
    "    compartment_dict = {}\n",
    "    for risk_age in ind.risk_age_dict.keys():\n",
    "        compartment_dict[risk_age] = float(compartment[:, ind.risk_age_dict[risk_age]].sum(axis=1))\n",
    "    return compartment_dict\n",
    "\n",
    "# Gets the compartment dictionary (the compartment stratified by the old age-groups), and aggregates the compartment to the wanted age-group by returning a dict (e.g agg. V_2 for age group 30-59, using the sub-age-groups 30-39, 40-49, 50-59)\n",
    "def compartment_by_4_age_groups(compartment: dict, target_risk_age_group: tuple):\n",
    "    # Initiate the wanted mapping:\n",
    "    four_to_nine_age_map = risk_age_groups_mapping((target_risk_age_group[0], '4-to-9'))\n",
    "    # Initiate result dict to return:\n",
    "    agg_risk_4_groups_dict = {}\n",
    "    for risk_4_age_group in four_to_nine_age_map.keys():     # Iterating on each combination of (risk, 9 age-groups):\n",
    "        agg_risk_4_groups_dict[risk_4_age_group] = 0\n",
    "    # Performing the aggregation to the new dict - (risk, 4 age groups):\n",
    "    for key, val in four_to_nine_age_map.items():\n",
    "        for tup in val:\n",
    "            agg_risk_4_groups_dict[key] += compartment[tup]\n",
    "\n",
    "    return agg_risk_4_groups_dict\n",
    "\n",
    "def calc_comp_prop_for_age_risk(comp: str, curr_res_mdl_1_ml: dict, target_risk_age_group: tuple):\n",
    "    \"\"\"This function gets the target compartment and the current predictions of the current model,\n",
    "    and returns the compartment aggregated by the wanted combination of (age-group, risk)\"\"\"\n",
    "    # Getting the last day of the compartment:\n",
    "    comp_last_day = np.reshape(curr_res_mdl_1_ml[comp][-1, :], newshape=(1,540))\n",
    "    # Aggregate the compartment by (9 age groups, risk):\n",
    "    comp_agg_9_age_groups_risk = calc_aggregated_compartment_by_age_risk(comp_last_day)\n",
    "    # Aggregate the compartment by (4 age groups, risk):\n",
    "    comp_agg_4_age_groups_risk = compartment_by_4_age_groups(comp_agg_9_age_groups_risk, target_risk_age_group)\n",
    "    # Gets the relevant age group out of the 4 age groups, and summing on it to get the final proportion:\n",
    "    return comp_agg_4_age_groups_risk[target_risk_age_group]\n",
    "\n",
    "def update_compartment(curr_res_mdl_1_ml: dict, compartment: str, updated_array: np.array):\n",
    "    \"\"\"This function gets the current models' predictions, the compartment to update and the updated array, and updates the model object with the updated array\"\"\"\n",
    "    # Initiate settings:\n",
    "    curr_res_mdl_1_ml[compartment][-1] = updated_array\n",
    "    comp_as_list = []\n",
    "    # Changing the updated arrays to be lists of arrays (to allow the update of the model object):\n",
    "    for element in curr_res_mdl_1_ml[compartment]:\n",
    "        comp_as_list.append(element)\n",
    "\n",
    "    # Performing the proper model update\n",
    "    curr_res_mdl_1_ml.update({\n",
    "        compartment : comp_as_list\n",
    "    })\n",
    "\n",
    "# Defining the model - initializing it for t=0:\n",
    "def defining_model(scen):\n",
    "    model_1_ml_ = mdl.Model_behave(\n",
    "    ind= ind,\n",
    "    beta_j= cal_parameters[scen]['beta_j'],\n",
    "    beta_activity= cal_parameters[scen]['beta_activity'],\n",
    "    beta_school= cal_parameters[scen]['beta school'],\n",
    "    scen= scen\n",
    "    )\n",
    "    # Predicting without an assignment (there's no need for that)\n",
    "    model_1_ml_.predict(\n",
    "        days_in_season= 529,    # Num of days between 15/05/20 - 25/10/21\n",
    "        shifting_12_days= True\n",
    "    )\n",
    "    # Updating the vectors to be able to run the model furthermore:\n",
    "    model_1_ml_.update({\n",
    "        'alpha_variant_vec':  neutralized_alpha_variant_vec,\n",
    "        'delta_variant_vec': neutralized_delta_variant_vec,\n",
    "        'isolation_morbidity_ratio_vector': neutralized_isolation_morbidity_ratio_vector,\n",
    "        'is_lockdown': neutralized_lockdown_vec,\n",
    "        'is_school': neutralized_school_vec,\n",
    "        'v2_to_v3_transition_t' : neutralized_transition_vector,\n",
    "        's_2_to_v3_transition_t' : neutralized_transition_vector\n",
    "    })\n",
    "    return model_1_ml_\n",
    "\n",
    "# Update model for current variables of uncertainty:\n",
    "def update_models_object(mdl_1_ml: mdl.Model_behave, realization: tuple):\n",
    "    new_rho = mdl_1_ml.rho * realization[2]\n",
    "    mdl_1_ml.update({\n",
    "        'booster_efficiency': realization[0],\n",
    "        'rho': new_rho\n",
    "    })"
   ],
   "metadata": {
    "collapsed": false,
    "pycharm": {
     "name": "#%%\n"
    }
   }
  },
  {
   "cell_type": "markdown",
   "source": [
    "#### calculating the transferring proportion:"
   ],
   "metadata": {
    "collapsed": false,
    "pycharm": {
     "name": "#%% md\n"
    }
   }
  },
  {
   "cell_type": "code",
   "execution_count": 5,
   "outputs": [],
   "source": [
    "def calc_trans_prop(vaccination_pq_: list, curr_res_mdl_1_ml: dict, curr_inv_: float):\n",
    "    # Initializing the accumulated amount used and the priority queue:\n",
    "    curr_inventory_used = 0\n",
    "    vaccination_pq_copy = vaccination_pq_.copy()\n",
    "    # Saving the combinations that we will vaccinate:\n",
    "    vaccinated_que_ = []\n",
    "    # Iterating until we cross the prior inventory level:\n",
    "    while (curr_inventory_used <= curr_inv_):\n",
    "        # Getting the current combination of (age_group, risk) from the pq:\n",
    "        current_risk_age = vaccination_pq_copy.pop(0)\n",
    "        # Getting the correspondent reported/unreported ratio for the Scenario:\n",
    "        reported_unreported = get_reported_unreported_ratio('Scenario3')\n",
    "        # Getting V2_j,r, S2_j,r proportions:\n",
    "        S_2_age_risk, V_2_age_risk, R_2_age_risk, R_1_age_risk = calc_comp_prop_for_age_risk('S_2', curr_res_mdl_1_ml,current_risk_age), \\\n",
    "                                                                 calc_comp_prop_for_age_risk('V_2', curr_res_mdl_1_ml,current_risk_age), \\\n",
    "                                                                 calc_comp_prop_for_age_risk('R_2', curr_res_mdl_1_ml,current_risk_age), \\\n",
    "                                                                 calc_comp_prop_for_age_risk('R_1', curr_res_mdl_1_ml,current_risk_age)\n",
    "        # Calculating the formula for num of needed vaccines:\n",
    "        count_vaccines_in_use = (((R_1_age_risk + R_2_age_risk) * reported_unreported) + S_2_age_risk + V_2_age_risk) * pop_israel\n",
    "        # Updating the accumulated used vaccines:\n",
    "        curr_inventory_used += count_vaccines_in_use\n",
    "        # Updating the vaccinated_que:\n",
    "        vaccinated_que_.append(current_risk_age)\n",
    "\n",
    "    final_trans_prop = curr_inv_ / curr_inventory_used\n",
    "    return final_trans_prop, vaccinated_que_"
   ],
   "metadata": {
    "collapsed": false,
    "pycharm": {
     "name": "#%%\n"
    }
   }
  },
  {
   "cell_type": "markdown",
   "source": [
    "#### Vaccinating in booster dose:"
   ],
   "metadata": {
    "collapsed": false,
    "pycharm": {
     "name": "#%% md\n"
    }
   }
  },
  {
   "cell_type": "code",
   "execution_count": 6,
   "outputs": [],
   "source": [
    "### Vaccinating in booster (moving from S_2 and V_2 to V_3, including the model update):\n",
    "def vaccinate(trans_prop_: float, curr_res_mdl_1_ml: dict, vaccination_que: list):\n",
    "    ## initialize settings:\n",
    "    vaccination_que_copy = vaccination_que.copy()\n",
    "    trans_prop_copy = trans_prop_\n",
    "    reported_unreported = get_reported_unreported_ratio('Scenario3')\n",
    "    # Getting the last day of the compartments and V_3, saving it to a dictionary:\n",
    "    last_day_dict = {'S_2_last_day': np.reshape(curr_res_mdl_1_ml['S_2'][-1, :], newshape=(540) ),\n",
    "                     'V_2_last_day': np.reshape(curr_res_mdl_1_ml['V_2'][-1, :], newshape=(540) ),\n",
    "                     'V_3_last_day': np.reshape(curr_res_mdl_1_ml['V_3'][-1, :], newshape=(540) )\n",
    "                     }\n",
    "\n",
    "    # Iterating over the combinations of (risk, age_group) that we need to vaccinate, and moving the population, and updating the model:\n",
    "    for curr_risk_age in vaccination_que_copy:\n",
    "        # Getting the relevant indexes to operate in the correspondent locations of the compartment:\n",
    "        curr_risk_age_indexes = get_indexes_risk_age_combination(curr_risk_age)\n",
    "\n",
    "        ## Vaccinating from S_2 to V_3\n",
    "        S_2_last_day_updated, V_3_last_day_updated = vaccinating_from_V_2_S_2(last_day_dict['V_3_last_day'], last_day_dict['S_2_last_day'], trans_prop_copy, curr_risk_age_indexes)\n",
    "        # updating the results:\n",
    "        last_day_dict['V_3_last_day'], last_day_dict['S_2_last_day'] = V_3_last_day_updated, S_2_last_day_updated\n",
    "\n",
    "        ## Vaccinating from V_2 to V_3\n",
    "        V_2_last_day_updated, V_3_last_day_updated = vaccinating_from_V_2_S_2(last_day_dict['V_3_last_day'], last_day_dict['V_2_last_day'], trans_prop_copy, curr_risk_age_indexes)\n",
    "        # updating the results:\n",
    "        last_day_dict['V_3_last_day'], last_day_dict['V_2_last_day'] = V_3_last_day_updated, V_2_last_day_updated\n",
    "\n",
    "    update_compartment(curr_res_mdl_1_ml, 'V_2', last_day_dict['V_2_last_day'])\n",
    "    update_compartment(curr_res_mdl_1_ml, 'S_2', last_day_dict['S_2_last_day'])\n",
    "    update_compartment(curr_res_mdl_1_ml, 'V_3', last_day_dict['V_3_last_day'])"
   ],
   "metadata": {
    "collapsed": false,
    "pycharm": {
     "name": "#%%\n"
    }
   }
  },
  {
   "cell_type": "markdown",
   "source": [
    "### Main - 1000 iterations of the Sim:"
   ],
   "metadata": {
    "collapsed": false,
    "pycharm": {
     "name": "#%% md\n"
    }
   }
  },
  {
   "cell_type": "code",
   "execution_count": 7,
   "outputs": [],
   "source": [
    "# A list to hold 1000 realizations of cases per year:\n",
    "cases_per_year_list = []\n",
    "\n",
    "# Big loop run:\n",
    "for tup in tqdm.tqdm(list_of_tuples, desc= 'tqdm() Progress Bar'):\n",
    "    # Initializing the model's object (and its predictions) to t=0:\n",
    "    model_1_ml = defining_model('Scenario3')\n",
    "    # Settings:\n",
    "    update_models_object(model_1_ml, tup)       # Updating the v3_efficiency and the proba for hosp\n",
    "    inv_level = tup[1] * pop_israel             # Updating the inventory level\n",
    "    years_for_model_run = tup[3]                # Updating the years for the model to run for\n",
    "\n",
    "    # Running the model for X years, in 6 months resolution\n",
    "    for i in range(years_for_model_run*2):\n",
    "        # Running until the end of \"single-run-period\", as we vaccinate every month!:\n",
    "        for j in range(6):\n",
    "            res_mdl_1_ml = model_1_ml.predict(\n",
    "                            days_in_season= 30,\n",
    "                            continuous_predict= True\n",
    "                            )\n",
    "            # Getting the proportion of transition, and the combinations that we vaccinate:\n",
    "            trans_prop, vaccinated_que = calc_trans_prop(vaccination_pq, res_mdl_1_ml, inv_level*1/6)\n",
    "            # Vaccinating (including the model update):\n",
    "            vaccinate(trans_prop, res_mdl_1_ml, vaccinated_que)\n",
    "\n",
    "    ## Calculating the cases per year index for every measurement:\n",
    "    tot_new_Is = np.add(res_mdl_1_ml['new_Is_1'].sum(axis=1) * pop_israel, res_mdl_1_ml['new_Is_2'].sum(axis=1) * pop_israel)\n",
    "    tot_new_H = np.add(res_mdl_1_ml['new_H_1'].sum(axis=1) * pop_israel, res_mdl_1_ml['new_H_2'].sum(axis=1) * pop_israel)\n",
    "    # Transferring to cumulative sum:\n",
    "    cumsum_tot_new_Is, cumsum_tot_new_H = np.cumsum(tot_new_Is), np.cumsum(tot_new_H)\n",
    "    # Performing the calculation itself:\n",
    "    cases_per_year_new_Is, cases_per_year_new_H = (cumsum_tot_new_Is[-1] - cumsum_tot_new_Is[528]) / years_for_model_run, (cumsum_tot_new_H[-1] - cumsum_tot_new_H[528]) / years_for_model_run\n",
    "    cases_per_year_list.append((cases_per_year_new_Is, cases_per_year_new_H))"
   ],
   "metadata": {
    "collapsed": false,
    "pycharm": {
     "name": "#%%\n"
    }
   }
  },
  {
   "cell_type": "code",
   "execution_count": 8,
   "outputs": [
    {
     "data": {
      "text/plain": "[(1113305.6990529567, 7219.95113837827),\n (1118104.9335232768, 5129.083219790955),\n (1075056.5866152882, 5546.817503050475),\n (1117877.336637372, 6706.343344330675),\n (1093604.0753819675, 6494.338232803425),\n (1098211.4233481074, 5750.936070371684),\n (1114750.1418735657, 5605.58921893126),\n (1122036.0827225286, 5354.5364747806025),\n (1110361.234219653, 7387.453067935188),\n (1092051.8850912096, 7037.276638474464),\n (1110508.1643358504, 5636.171905536493),\n (1114409.2565074188, 6482.2927697932255),\n (1116832.3953323227, 5749.308974174021),\n (1095751.1581033566, 5529.090749347435),\n (1116890.6677528657, 6869.644585034526),\n (1095179.0409615813, 6364.993537073082),\n (1122233.0818223676, 5515.8073293846755),\n (1106110.275942081, 5677.588940534285),\n (1105434.6032026797, 6039.6888715172545),\n (1110677.361017234, 6308.3081142013925),\n (1118107.694706031, 5814.655244265714),\n (1119476.820828376, 6514.173204230596),\n (1102556.475574268, 5773.8074411359),\n (1106110.275942081, 6028.780009020937),\n (1077227.0799823767, 4900.262014567617),\n (1093053.588030922, 5697.575683957399),\n (1116476.9697788055, 5994.014361149768),\n (1082452.4229210839, 6604.361369421133),\n (1113305.6990529567, 6477.7131708814495),\n (1092051.8850912096, 5592.121614502022),\n (1059471.416057553, 5861.444987313965),\n (1119476.820828376, 6571.820754710489),\n (1096524.3076951501, 4797.249162549433),\n (1084873.133045043, 4935.882376137121),\n (1124278.873916794, 5049.816678420681),\n (1112348.8479152478, 5705.78718546873),\n (1114714.7321577056, 6621.1286692372305),\n (1107620.1600146121, 6212.344947745663),\n (1125114.9873741607, 7503.873879911683),\n (1119896.3162960052, 5988.61460699478),\n (1073866.7446952332, 6849.1190637146055),\n (1101189.4220154283, 4485.859431162653),\n (1100415.8252506056, 4990.225647726081),\n (1102494.033153755, 5541.8811043743235),\n (1118107.694706031, 6275.221996286764),\n (1092006.98521473, 5070.009648380442),\n (1111992.9593964098, 5036.456797578994),\n (1114464.5784842137, 5565.678068797982),\n (1103550.0898114343, 4776.958811358201),\n (1113754.835447576, 6186.13237502839),\n (1119006.3211770058, 5272.653595698307),\n (1102619.7232515966, 4548.123866778138),\n (1107095.0311859392, 6372.10869333962),\n (1057422.576273281, 6880.9237493782675),\n (1106691.9013012778, 6263.805486224415),\n (1103550.0898114343, 4552.160749647228),\n (1096629.382738953, 4522.306238211595),\n (1115181.2878490612, 4937.096852098567),\n (1106220.8695414965, 4610.374175038274),\n (1091210.8123677184, 5627.663195836529),\n (1112201.7933898098, 5945.405368657556),\n (1113002.275314845, 6728.239708198815),\n (1081502.7432429956, 6303.396885678991),\n (1118989.5273054594, 7255.177583596248),\n (1101248.303750427, 5098.558390168109),\n (1118799.9141319157, 5012.033297743771),\n (1118078.9666461968, 6098.346818909983),\n (1111150.7816503192, 4698.6879467527415),\n (1089653.1696899673, 6556.184395391418),\n (1115208.6386137826, 6335.508354075157),\n (1094390.8847126744, 6144.505773691024),\n (1111128.108743281, 5819.366671934581),\n (1107342.706249023, 7196.110770985121),\n (1075423.850724076, 7119.595344470065),\n (1081429.232952939, 6358.373197159544),\n (1046721.0771561615, 5288.035725392364),\n (1078492.9089180026, 5239.233484978864),\n (1088712.3846789857, 7455.212410180758),\n (1094390.8847126744, 6321.751132547492),\n (1103948.8888890964, 5542.767932785519),\n (1102280.110735003, 7285.784667615598),\n (1102955.8287460657, 5228.4010771583435),\n (1083517.1957738881, 4972.487125275932),\n (1099686.918076753, 7069.531660450332),\n (1112835.4761044655, 6463.081390242295),\n (1104462.4430953322, 4949.86658333782),\n (1110065.19224825, 5522.306950216057),\n (1116890.6677528657, 5647.080718206385),\n (1119140.2672745201, 6627.295775522387),\n (1110607.6257739833, 5525.105271760911),\n (1119349.5898781489, 6765.026080264084),\n (1096705.562601853, 4736.528249823672),\n (1072836.3378734118, 6428.662836933719),\n (1109713.4451111339, 4972.662289276999),\n (1119809.6038724585, 5420.627883146484),\n (1109422.320084865, 5880.4719577261585),\n (1118722.4881415912, 6444.325365822163),\n (1112815.2844651581, 6014.149150059665),\n (1080005.1599125648, 5901.820281213585),\n (1110607.6257739833, 6876.992731872601),\n (1127457.3201435774, 7308.020935591957),\n (1101499.9841704278, 7285.971830073341),\n (1121244.635451704, 7671.61560731671),\n (1119896.3162960052, 6937.306029885011),\n (1113746.9073566056, 6956.17956266683),\n (1102556.475574268, 5654.759865030006),\n (1104593.0241007013, 6675.028826679079),\n (1102494.033153755, 5833.559057236161),\n (1107620.1600146121, 5015.471150473551),\n (1093890.2052279706, 6076.672882761139),\n (1075056.5866152882, 6143.249492625785),\n (1102791.381727307, 5730.072786606672),\n (1102498.5831011755, 5516.8331682907365),\n (1065848.5166975176, 5247.1193149302235),\n (1112546.884245595, 6145.562020367803),\n (1106691.9013012778, 5580.481251363563),\n (1099715.8215167648, 6047.429555604393),\n (1093890.2052279706, 6076.672882761139),\n (1093900.0271563684, 5401.624192461866),\n (1098573.0083149865, 5989.820512860282),\n (1109422.320084865, 6165.931761499299),\n (1095010.3090006285, 4571.121412331932),\n (1116752.9364895995, 5481.727288838385),\n (1093053.588030922, 5758.188191233507),\n (1119324.8911008746, 6334.020436810771),\n (1118096.3489560054, 6511.162788180447),\n (1123592.7839115015, 5555.721231433386),\n (1097679.7936709775, 4470.926217925201),\n (1097040.430246179, 5389.947289788146),\n (1108230.5022240255, 6697.9269332937965),\n (1087414.9721231367, 6211.630997135609),\n (1097404.3441665212, 6754.782657181461),\n (1120041.112863164, 4905.056850130164),\n (1115561.1502321307, 5398.339169913565),\n (1113002.275314845, 5104.181847599133),\n (1106220.8695414965, 6317.9201657932035),\n (1106234.5963176652, 5239.981079216215),\n (1107726.186113025, 5540.476237623927),\n (1041102.0132290911, 6656.912735895953),\n (1095697.009892814, 7710.049453489501),\n (1080005.1599125648, 5442.7898148969825),\n (1124370.1678421677, 7561.176632390689),\n (1116752.9364895995, 5617.078579920813),\n (1113544.2930092874, 5712.076058990836),\n (1086431.1103381813, 7315.243258531135),\n (1055685.5161100822, 5522.120473616457),\n (1109976.3361381337, 6163.584250210361),\n (1116693.3212661366, 7034.5818344477575),\n (1110945.080691249, 7542.072614965996),\n (1070563.0846520362, 6415.578216239464),\n (1117990.088240423, 7456.74887313835),\n (1096524.3076951501, 4683.028944393502),\n (1117153.9606067226, 5973.847006755647),\n (1093961.5650290134, 6490.817856851394),\n (1114467.1946635128, 7429.764940003453),\n (1099715.8215167648, 5095.5193477777475),\n (1062528.8057535503, 6976.071227878149),\n (1091011.2823163252, 4848.440855485562),\n (1103256.1176267467, 6253.998385663086),\n (1117633.7833321795, 5324.990155417639),\n (1101746.0198847079, 5375.647370523871),\n (1116215.3575710717, 5376.965932386699),\n (1105314.0032581277, 4773.9350758967685),\n (1107938.7369908844, 4966.367357015258),\n (1102147.6504221293, 6173.686837070898),\n (1098708.302702201, 5761.938975776284),\n (1090022.237457704, 5619.724856048882),\n (1117877.336637372, 5961.194083849464),\n (1108765.9536744612, 5704.565260693396),\n (1120785.6658291335, 5142.3188386906495),\n (1122036.0827225286, 7612.473542459214),\n (1104052.6177559232, 4831.188170031712),\n (1100696.9796076328, 5102.674532823599),\n (1117156.1915433672, 6776.084042926239),\n (1121177.6000145886, 5978.069204336461),\n (1092763.1384580494, 5062.058941375782),\n (1095941.537236017, 5916.536419648294),\n (1115181.2878490612, 5396.361675549579),\n (1079857.9004260264, 6238.688555682107),\n (1101670.9050381493, 6002.587509075313),\n (1117299.8745438864, 5998.732102008727),\n (1066447.1245809994, 6389.110581704895),\n (1101767.704962752, 6404.667567516806),\n (1100211.9582336545, 5378.028614743744),\n (1108404.321240731, 6217.6415558162425),\n (1116058.751409624, 6340.6474864290885),\n (1106110.275942081, 5677.588940534285),\n (1095697.009892814, 7111.855961408404),\n (1093900.0271563684, 4733.382024322271),\n (1111826.1091834533, 6349.278790292392),\n (1099227.144224179, 6216.79294799874),\n (1118989.5273054594, 7594.204573483926),\n (1125114.9873741607, 5886.65968165486),\n (1053930.3920558908, 6667.728348543519),\n (1116693.3212661366, 6206.983971571548),\n (1113544.2930092874, 7034.872620020328),\n (1105780.9678383851, 5027.320148405988),\n (1070563.0846520362, 5821.543196217306),\n (1117399.9377500208, 6270.91589550937),\n (1108978.502376947, 5364.3727036785795),\n (1096902.2793204107, 5190.532202789009),\n (1119152.3699899733, 5016.504536251538),\n (1110065.19224825, 5992.2905204472),\n (1118104.9335232768, 6178.213878384588),\n (1096524.3076951501, 4740.139053471463),\n (1119809.6038724585, 5362.961629070469),\n (1103723.2325539526, 6482.640287383982),\n (1096333.8601140499, 5300.531625832583),\n (1101870.354078695, 5072.26204956383),\n (1052156.819703022, 7489.624759226078),\n (1116424.145383855, 7174.1804966864),\n (1070448.9601447803, 5918.476517737906),\n (1073952.8705817983, 5779.671568689982),\n (1109861.7016102134, 5711.591102715145),\n (1099227.144224179, 6399.639799410468),\n (1103256.1176267467, 5539.255713015865),\n (1050364.3832565045, 5496.606094334654),\n (1103295.7708994267, 6697.738288235204),\n (1110763.2536572542, 6507.797025156695),\n (1113237.2685914692, 6010.0965311627415),\n (1088774.8980260503, 5748.284163579862),\n (1119140.2672745201, 4725.550031242034),\n (1107339.0127704279, 5832.503454706273),\n (1110296.6730057127, 4914.009611349002),\n (1115208.6386137826, 5405.525476412722),\n (1109422.320084865, 5309.552350179949),\n (1092046.0810906189, 5118.480889450162),\n (1091011.2823163252, 5714.233865393741),\n (1108106.2354313356, 5406.472285547382),\n (1052156.819703022, 6273.360909437252),\n (1120415.4936918137, 6717.678167779184),\n (1113746.9073566056, 4775.004615050975),\n (1111153.4866999327, 4574.918253579725),\n (1083517.1957738881, 5030.9869738085845),\n (1103506.9010173634, 5748.4680557202955),\n (1102282.0447153037, 5046.838879563056),\n (1116676.4247992383, 6668.962073539413),\n (1115181.2878490612, 5970.44270486335),\n (1084454.4129725369, 7833.453414714229),\n (1070563.0846520362, 7009.6132362616245),\n (1094592.3674819835, 6474.074394224625),\n (1114590.6653624836, 5383.552980663618),\n (1103487.180481293, 7298.701847828223),\n (1119025.3863499411, 6731.477811281926),\n (1096902.2793204107, 5303.369859371365),\n (1098347.994546507, 5491.922551084075),\n (1113544.2930092874, 6193.092990274284),\n (1112086.7241557462, 4694.087713042196),\n (1102280.110735003, 6483.679933566141),\n (1095010.3090006285, 4794.10294464079),\n (1120138.6458648094, 6922.172517797602),\n (1115454.3062151351, 5195.235982254603),\n (1106393.541907876, 5790.2644821762),\n (1097506.15314415, 5963.783147667249),\n (1093359.0965266335, 6377.466137633015),\n (1112722.24085697, 6007.19723885455),\n (1111151.989516695, 6484.844168578869),\n (1104289.9080986236, 5567.770673345365),\n (1115732.1947070432, 5079.218913676026),\n (1111128.108743281, 5039.45155095367),\n (1119635.2352843566, 6695.077762376494),\n (1065848.5166975176, 5506.236318136659),\n (1108978.502376947, 5021.965935358666),\n (1109517.1847870222, 6047.944118639128),\n (1113237.2685914692, 4890.568745946154),\n (1094644.734907697, 5073.888889716371),\n (1119621.028906564, 5365.511005143069),\n (1094591.8863626015, 6312.253755470376),\n (1079312.730125718, 5778.421022385676),\n (1104928.5325535901, 5437.484721512931),\n (1085670.781217148, 5858.487573338561),\n (1124278.873916794, 6982.462567692765),\n (1101870.354078695, 6821.317928723779),\n (1108404.321240731, 5513.757606101198),\n (1085908.7351239922, 5997.783031826748),\n (1122818.7777603124, 5293.687987299746),\n (1113452.924203217, 5048.340303145871),\n (1128463.3534225116, 7314.330731325641),\n (1098347.994546507, 5034.26233849374),\n (1111128.108743281, 6119.334026158009),\n (1095751.1581033566, 6683.516290419988),\n (1092809.478318061, 5545.690896897807),\n (1104990.0547648002, 5697.663537023785),\n (1097157.3887141433, 4636.2882802883205),\n (1090949.5673378776, 6402.748167259829),\n (1106110.275942081, 6731.162145994221),\n (1107339.0127704279, 6200.872093950853),\n (1108865.6508030617, 5779.045776857208),\n (1118799.9141319157, 4723.985407068835),\n (1119809.6038724585, 5535.960391298549),\n (1116832.3953323227, 6204.699784009588),\n (1080528.573625891, 7464.001140777474),\n (1101248.303750427, 6514.824609659269),\n (1112835.4761044655, 7294.963153342845),\n (1091196.4797745799, 6597.931139973599),\n (1114714.7321577056, 6259.97619636976),\n (1070563.0846520362, 5405.718682201772),\n (1111534.385889072, 6059.588241023327),\n (1113220.0764053543, 4698.589569183135),\n (1096095.636924507, 6305.706197216852),\n (1100914.6620387738, 5676.8432200900215),\n (1109881.7888965288, 6651.648782745598),\n (1101767.704962752, 4874.348768198607),\n (1095751.1581033566, 4982.257598313075),\n (1109881.7888965288, 5573.003034192286),\n (1116308.6932645456, 6321.767514020363),\n (1071754.6674466846, 5616.67771698034),\n (1096095.636924507, 5803.481809827885),\n (1080788.4682471326, 5135.227383978859),\n (1120718.5666807634, 7202.812290050872),\n (1104911.9864203704, 6358.809205304712),\n (1104634.8358952347, 6261.894192839764),\n (1115501.2827973126, 6367.194405549077),\n (1118722.4881415912, 5303.736805499675),\n (1070448.9601447803, 5425.270141259803),\n (1044869.1857190275, 5979.183285960485),\n (1111621.768212829, 5155.428707585377),\n (1108106.2354313356, 6450.9044316190575),\n (1104462.4430953322, 5849.842325762943),\n (1104052.6177559232, 5348.815473963688),\n (1119324.8911008746, 6505.210178346177),\n (1088378.0150861286, 6820.582885372464),\n (1100703.131457481, 5380.541281537694),\n (1107216.818067803, 5941.616099951714),\n (1088378.0150861286, 6398.068901322839),\n (1115208.6386137826, 5056.781897289324),\n (1118702.0363194658, 4962.24079059201),\n (1084104.811536079, 5802.809722297655),\n (1080788.4682471326, 4668.388530889858),\n (1069405.3808001562, 5993.530515643437),\n (1116476.9697788055, 5877.625732777888),\n (1110763.2536572542, 5828.72255296644),\n (1088378.0150861286, 6518.787182479858),\n (1099688.187338875, 5224.382358485181),\n (1058025.9573897414, 6829.624864315615),\n (1090186.940637243, 7475.221872234529),\n (1110677.361017234, 5498.066705037907),\n (1113237.2685914692, 6893.934256333691),\n (1110132.0985837432, 7469.14189284487),\n (1094644.734907697, 4674.818977042023),\n (1101269.9845006126, 6482.155359229431),\n (1118892.3889634213, 5716.2500055916535),\n (1115208.6386137826, 4824.286177873722),\n (1118722.4881415912, 4562.354241290076),\n (1118455.7327087156, 6910.8368280010845),\n (1092046.0810906189, 6540.28113651963),\n (1120138.6458648094, 5941.5314111095895),\n (1069405.3808001562, 6052.872401936924),\n (1122233.0818223676, 5940.100200875808),\n (1095556.0004291018, 5856.29026731954),\n (1081429.232952939, 4798.772224271371),\n (1106652.1692697967, 5078.529284175628),\n (1093143.4807304882, 6100.628571304384),\n (1115860.457504415, 5844.814258003952),\n (1118096.3489560054, 6392.778010213546),\n (1100415.8252506056, 5881.337370534345),\n (1088774.8980260503, 6342.934249467419),\n (1079857.9004260264, 4839.356543192653),\n (1120718.5666807634, 5568.560762056164),\n (1106220.8695414965, 6204.083766409543),\n (1115616.2483215884, 8045.566835396844),\n (1112547.1385920143, 6168.360369060204),\n (1046721.0771561615, 6880.817570390086),\n (1113717.7404751505, 6788.308573111611),\n (1093053.588030922, 6000.638220338106),\n (1110945.080691249, 7272.712878717203),\n (1099686.918076753, 6202.51362662152),\n (1107216.818067803, 5134.017795103888),\n (1115616.2483215884, 6828.590339286412),\n (1086459.244804764, 5632.8319678816),\n (1116676.4247992383, 5634.1231310936355),\n (1063704.9691652365, 6618.81762811635),\n (1107095.0311859392, 5920.9859539881145),\n (1101837.4230432303, 6715.182526426266),\n (1116058.751409624, 5991.6210192861545),\n (1110508.1643358504, 6775.398141761946),\n (1073046.7857316385, 6797.118952266804),\n (1119324.8911008746, 4850.3760101704),\n (1103550.0898114343, 4720.7592959304675),\n (1121244.635451704, 6446.7358044678085),\n (1118553.8499514984, 6277.104714594064),\n (1089526.5076651238, 5475.853608585154),\n (1076844.326964097, 6819.870989666358),\n (1098708.302702201, 5202.527424730013),\n (1096705.562601853, 6098.280121647996),\n (1100696.9796076328, 6020.009280297534),\n (1105264.8305727195, 5345.455691904714),\n (1092046.0810906189, 5061.6088795674),\n (1111534.385889072, 6342.746570043139),\n (1046721.0771561615, 6880.817570390086),\n (1106393.541907876, 5090.3424019131335),\n (1126439.8374260217, 6892.208363608282),\n (1108282.1509685013, 6564.7073974147925),\n (1106110.275942081, 6204.375543264286),\n (1110065.19224825, 5111.071326263771),\n (1088712.3846789857, 7016.6705036994945),\n (1083249.0207719854, 5386.974065482072),\n (1118500.8462695742, 4722.880586461808),\n (1087348.8623622963, 6929.0899266972565),\n (1077963.172478962, 6518.976352453598),\n (1073046.7857316385, 6858.910942741989),\n (1098211.4233481074, 4802.32805876397),\n (1096705.562601853, 6394.313137261964),\n (1098443.5687857487, 5370.847678740937),\n (1097997.7008990902, 6215.9682274410425),\n (1081708.3276597157, 5431.543123677807),\n (1100194.0609200883, 6338.55627249691),\n (1099686.918076753, 5802.351457162102),\n (1083249.0207719854, 6131.981117091306),\n (1092051.8850912096, 7539.939255508377),\n (1084406.7747105495, 5913.267494646604),\n (1110763.2536572542, 6507.797025156695),\n (1116716.340138979, 7306.147404246081),\n (1115454.3062151351, 7055.2587413333795),\n (1114750.1418735657, 5605.58921893126),\n (1127457.3201435774, 7649.5172409934685),\n (1107308.9752921474, 7518.626865059374),\n (1081429.232952939, 6898.235072390092),\n (1119279.5929954906, 6651.988896547304),\n (1083517.1957738881, 5908.484701798455),\n (1084454.4129725369, 7701.798735475292),\n (1109173.4477289182, 5028.764633045447),\n (1091210.8123677184, 5869.713225764966),\n (1113394.316455534, 5276.231163593456),\n (1118618.6228595204, 5980.5791028284),\n (1103506.9010173634, 6323.314861292371),\n (1122233.0818223676, 4970.287923181795),\n (1111097.4887369713, 6899.534403092091),\n (1109248.946340299, 6528.002804839615),\n (1118104.9335232768, 6819.349280858429),\n (1106692.4126761644, 5329.283324067072),\n (1121733.9140834317, 6543.188002803622),\n (1094458.3833406514, 5683.059648686608),\n (1055685.5161100822, 6421.070318158593),\n (1039185.3960658815, 5190.015911615869),\n (1115243.8001741301, 6198.525236627322),\n (1087348.8623622963, 6731.115928791632),\n (1087348.8623622963, 7127.063924602884),\n (1097329.894762567, 6560.47412909632),\n (1099686.918076753, 5668.9640673422755),\n (1116505.0298895137, 5519.8473907056),\n (1122481.9540114552, 6473.106361444595),\n (1082924.4512542486, 5173.483240340652),\n (1096354.7969619236, 6370.136673649919),\n (1104928.5325535901, 5554.419876814301),\n (1107216.818067803, 5883.930506748327),\n (1106220.8695414965, 5691.819969183034),\n (1075056.5866152882, 5487.17430409295),\n (1084454.4129725369, 6977.697999661396),\n (1107518.959676892, 4738.714516245896),\n (1095759.4911027204, 4677.72665884357),\n (1098021.7450882872, 5986.707873417081),\n (1107308.9752921474, 6780.190297955316),\n (1107095.0311859392, 6541.27972059639),\n (1114464.5784842137, 5395.300168732737),\n (1106071.267317269, 7443.602178252769),\n (1116424.145383855, 5908.148644329987),\n (1093890.2052279706, 5960.926732613325),\n (1106691.9013012778, 6719.354976131676),\n (1114464.5784842137, 6531.152835834362),\n (1111151.989516695, 5963.740619318045),\n (1108230.5022240255, 4677.000703420685),\n (1084873.133045043, 6657.70180967336),\n (1069129.358727434, 5418.966677156058),\n (1101837.4230432303, 4993.340852983634),\n (1111943.8173050235, 6330.128098023145),\n (1119621.028906564, 6050.469856863463),\n (1107938.7369908844, 5474.291291255434),\n (1111741.658004471, 7083.227425736094),\n (1071754.6674466846, 6295.6167816702755),\n (1115208.6386137826, 5986.7647749517455),\n (1122818.7777603124, 7424.074616335008),\n (1123592.7839115015, 7622.966340803928),\n (1080395.3470995647, 6831.920971728588),\n (1099659.079588772, 6731.315276739451),\n (1118416.1703048167, 6499.398063035248),\n (1095751.1581033566, 6926.553246435253),\n (1088009.7142986278, 4777.4832615279865),\n (1118047.3417393486, 6323.102608349312),\n (1087577.314451965, 5445.018796898249),\n (1117040.1641822383, 4830.948659570831),\n (1122253.6448951012, 7751.459953872876),\n (1089332.3304142347, 6240.129634372397),\n (1100990.1388253204, 6276.2129101314895),\n (1122233.0818223676, 6909.912478569861),\n (1107216.818067803, 6633.843218392663),\n (1079857.9004260264, 6763.438060365678),\n (1087577.314451965, 6759.333678908161),\n (1089836.4337049543, 5957.517895530057),\n (1116505.0298895137, 4723.168385861505),\n (1096354.7969619236, 6811.631294595903),\n (1101248.303750427, 6174.920716981373),\n (1126603.2174534977, 5829.658750368736),\n (1115860.457504415, 6869.16314858195),\n (1117755.772221457, 5179.606942942875),\n (1104328.8477718087, 4791.671258862361),\n (1099688.187338875, 6114.902078681531),\n (1084406.7747105495, 5152.153856721781),\n (1121177.6000145886, 7676.384319204743),\n (1117533.3612526136, 6336.661445560916),\n (1122818.7777603124, 5487.359499030236),\n (1120415.4936918137, 5607.800905276539),\n (1103087.1841851254, 6684.790054373136),\n (1111575.3785068956, 5492.119309997912),\n (1100194.0609200883, 6281.962020063915),\n (1120766.623367095, 6527.636135660405),\n (1118892.3889634213, 6766.17347600645),\n (1111675.8955125788, 5177.606815503833),\n (1123317.8060228734, 6261.271234234665),\n (1106220.8695414965, 5464.14717041573),\n (1082924.4512542486, 5235.814363718259),\n (1077227.0799823767, 5079.539893149335),\n (1111675.8955125788, 6118.989872868156),\n (1099688.187338875, 5046.278414445952),\n (1106071.267317269, 7041.245303752695),\n (1076965.8541008814, 5690.173250311426),\n (1108404.321240731, 5455.1006102916),\n (1112348.8479152478, 6186.274527402918),\n (1073866.7446952332, 5414.065545602979),\n (1104462.4430953322, 6468.575648680165),\n (1112815.2844651581, 6701.480481495025),\n (1078916.2665932167, 5883.815950718931),\n (1124358.1654112502, 7304.908482203508),\n (1112348.8479152478, 6606.700951595369),\n (1125863.3157797998, 7249.927218460273),\n (1117633.7833321795, 4792.491139875869),\n (1112949.71428143, 5468.569684764159),\n (1109881.7888965288, 5033.680159915583),\n (1115635.983832862, 5640.318830209135),\n (1120138.6458648094, 5883.846640127984),\n (1083249.0207719854, 5902.748178134622),\n (1086489.4867502747, 5205.233289387523),\n (1112131.685958741, 7751.96433234519),\n (1098347.994546507, 5148.677391641329),\n (1121617.5395027224, 5879.620884981404),\n (1086431.1103381813, 6189.821218757111),\n (1113898.8578256243, 6385.665226028897),\n (1103111.6430669469, 5603.42629068582),\n (1107311.249542648, 5141.382796684939),\n (1099686.918076753, 5602.2703724323355),\n (1110607.6257739833, 5172.438977818739),\n (1119025.3863499411, 6560.338544893422),\n (1082924.4512542486, 6233.112337759808),\n (1101136.3818684092, 6122.996695170688),\n (1108530.2217104272, 6160.688471959968),\n (1095941.537236017, 5620.709598665841),\n (1118416.1703048167, 5074.091470264323),\n (1105745.1912651495, 6713.313599118504),\n (1078084.7127676334, 5337.719160746222),\n (1070448.9601447803, 6473.333691275849),\n (1101240.5542562937, 4719.694850873),\n (1101136.3818684092, 5290.744717186334),\n (1126439.8374260217, 6414.530556229512),\n (1058025.9573897414, 5671.027789119203),\n (1115243.8001741301, 5372.055205077004),\n (1044869.1857190275, 7124.133276889065),\n (1114797.3315004336, 5451.752094115299),\n (1090186.940637243, 6416.783377050918),\n (1094644.734907697, 5643.988764965408),\n (1108963.57181266, 5868.7587691711715),\n (1120785.6658291335, 5668.237810829465),\n (1116981.7671546345, 5669.924308066057),\n (1094860.7262757365, 5949.654315618879),\n (1114665.1133549847, 5685.758109296258),\n (1116676.4247992383, 5806.596288167933),\n (1119809.6038724585, 4901.631596462288),\n (1107095.0311859392, 6541.27972059639),\n (1121617.5395027224, 6295.35165462655),\n (1116505.0298895137, 5064.602245080397),\n (1086157.477050302, 5981.333400333385),\n (1100696.9796076328, 5446.675063126302),\n (1090931.9695237908, 6283.539682502134),\n (1099659.079588772, 6391.921229172718),\n (1111943.8173050235, 5690.721219434917),\n (1120623.467426683, 7456.355055575108),\n (1118892.3889634213, 6007.89541404026),\n (1114776.687668712, 4938.501346296271),\n (1046721.0771561615, 7454.219034589251),\n (1120138.6458648094, 4730.151220495069),\n (1104593.0241007013, 5524.161787596477),\n (1098370.8646692464, 6090.21474905195),\n (1094860.7262757365, 5160.4144574245565),\n (1117704.619780938, 6292.370189394696),\n (1121229.090247962, 5571.206930646263),\n (1082924.4512542486, 5422.807733851062),\n (1108530.2217104272, 5247.993883521442),\n (1119896.3162960052, 5929.321393064086),\n (1111575.3785068956, 5949.795919164406),\n (1088634.3855906003, 5158.93692305611),\n (1095179.0409615813, 5013.136502650487),\n (1041102.0132290911, 6403.316060242753),\n (1107339.0127704279, 5095.7661762170455),\n (1118106.4070170263, 5642.497882483158),\n (1113717.7404751505, 6404.064691614708),\n (1112547.1385920143, 5736.575143225965),\n (1069405.3808001562, 5874.846743056438),\n (1111575.3785068956, 6750.729985205751),\n (1092184.1044624134, 4781.307120791765),\n (1111153.4866999327, 6118.953164162884),\n (1114590.6653624836, 7178.070640884819),\n (1078492.9089180026, 5501.195159227819),\n (1095179.0409615813, 6533.975666375914),\n (1092046.0810906189, 5687.200988277924),\n (1087348.8623622963, 7193.055257238083),\n (1124278.873916794, 5610.907420467394),\n (1087577.314451965, 5507.605219851111),\n (1099688.187338875, 6946.053817531429),\n (1075056.5866152882, 6381.822288455942),\n (1099214.6342738275, 6156.486695944654),\n (1093335.0248121459, 5565.710132648416),\n (1099686.918076753, 5668.9640673422755),\n (1058025.9573897414, 6036.900549707537),\n (1105522.3286476028, 5674.485791789449),\n (1114251.1880714851, 6723.556933973248),\n (1044869.1857190275, 7251.349942547843),\n (1119896.3162960052, 5870.028179133484),\n (1101269.9845006126, 5220.1428114148475),\n (1116890.6677528657, 5821.732699181866),\n (1106692.4126761644, 6851.935702371991),\n (1097746.1396706393, 5603.183934608556),\n (1108354.3923501484, 6266.895459468486),\n (1082452.4229210839, 7144.718208737436),\n (1098658.9993186083, 4708.425785543449),\n (1121733.9140834317, 7209.623817903969),\n (1070706.556492298, 6114.884290942856),\n (1073952.8705817983, 6911.772185237462),\n (1111621.768212829, 5676.764194869305),\n (1126439.8374260217, 7574.605231292283),\n (1076998.1812984503, 6280.643505374384),\n (1111675.8955125788, 6060.153431782906),\n (1087238.8038807712, 6614.704383947259),\n (1116039.940070417, 6559.132519325646),\n (1081732.4244114768, 5666.193382873714),\n (1093890.2052279706, 6886.895933795961),\n (1109211.9303883617, 6570.077852858388),\n (1071754.6674466846, 5122.903851751272),\n (1116676.4247992383, 4771.75734572217),\n (1100118.346602219, 5558.329355825441),\n (1102494.033153755, 5133.5319703678415),\n (1097404.3441665212, 5429.077649697229),\n (1116476.9697788055, 6284.985932079357),\n (1114797.3315004336, 4935.27031677809),\n (1104779.7495583086, 6764.005613928929),\n (1090704.3520106792, 5452.892693013573),\n (1084065.9926554041, 6193.945516625671),\n (1090377.8370103, 6416.416043836037),\n (1091011.2823163252, 5483.355729418212),\n (1117385.4586271213, 5513.909016394795),\n (1117385.4586271213, 5390.000948610612),\n (1081429.232952939, 6238.403891552805),\n (1121229.090247962, 6176.772901368684),\n (1126439.8374260217, 7438.125857755473),\n (1097464.8701644598, 4967.489155315728),\n (1079857.9004260264, 6296.994056202486),\n (1102791.381727307, 5389.6724230458785),\n (1060843.902845998, 6385.396694003853),\n (1114111.5822436917, 6756.006362398834),\n (1113717.7404751505, 5955.780163201714),\n (1115635.983832862, 5640.318830209135),\n (1088378.0150861286, 7243.096869422082),\n (1077227.0799823767, 5736.892114615741),\n (1100914.6620387738, 7019.752368928518),\n (1109617.302614843, 5229.272339899034),\n (1082452.4229210839, 5343.528744349833),\n (1075591.3635055155, 5264.094605202124),\n (1066447.1245809994, 5160.435469838575),\n (1120785.6658291335, 6486.333989712046),\n (1099715.8215167648, 6383.397864249069),\n (1082452.4229210839, 6484.282071795313),\n (1105314.0032581277, 6564.160729358067),\n (1114750.1418735657, 6018.632635063049),\n (1093961.5650290134, 5338.24272339182),\n (1095179.0409615813, 5238.446008387593),\n (1096095.636924507, 5636.0736806982295),\n (1123686.6539692339, 5981.736412740491),\n (1074325.5972602437, 5320.096161984345),\n (1092051.8850912096, 6031.951404406712),\n (1121617.5395027224, 7008.032974018231),\n (1121869.368444097, 5598.604544544586),\n (1108963.57181266, 6455.634646088278),\n (1095294.8550373048, 6994.330963651787),\n (1104462.4430953322, 6693.569584286369),\n (1091196.4797745799, 6715.751338901685),\n (1103556.9075113218, 7962.91053296626),\n (1096524.3076951501, 6567.6625439664585),\n (1104289.9080986236, 6533.608443211379),\n (1115243.8001741301, 5017.85376298403),\n (1110763.2536572542, 5545.774856220494),\n (1077963.172478962, 4772.821972332112),\n (1106652.1692697967, 5078.529284175628),\n (1087871.6879218507, 5050.95759034373),\n (1100914.6620387738, 6531.4217693509145),\n (1109576.900262535, 6330.789527079076),\n (1113717.7404751505, 5699.617575537123),\n (1116693.3212661366, 5202.043709507551),\n (1041102.0132290911, 7100.706918289013),\n (1114776.687668712, 6565.301789782092),\n (1117793.1728092977, 4900.0581297537165),\n (1113030.0037363502, 5954.93251739743),\n (1102282.0447153037, 5103.544934389657),\n (1126439.8374260217, 7301.646484218677),\n (1111128.108743281, 6239.320967847399),\n (1098370.8646692464, 5968.410454070873),\n (1095010.3090006285, 5072.829860026929),\n (1114017.0384421446, 4759.533549703572),\n (1119324.8911008746, 5991.640953739933),\n (1104928.5325535901, 5495.9522991635995),\n (1062528.8057535503, 6459.325210998297),\n (1095286.5922701769, 5505.036875242471),\n (1110677.361017234, 5671.689864144375),\n (1091011.2823163252, 5194.7580594488145),\n (1101837.4230432303, 5050.735575431734),\n (1115208.6386137826, 6451.756213782941),\n (1071706.5648113356, 4876.082164737897),\n (1079857.9004260264, 6588.521558804464),\n (1062310.3355900038, 6733.096326216814),\n (1101499.9841704278, 6652.409062240859),\n (1109617.302614843, 5290.793190956677),\n (1112949.71428143, 4807.533788803649),\n (1090272.8040477582, 5768.023896086932),\n (1117153.9606067226, 6423.491405113563),\n (1089526.5076651238, 5533.494172886022),\n (1100990.1388253204, 6543.285799924327),\n (1104289.9080986236, 5738.212632733464),\n (1093961.5650290134, 4852.947930356162),\n (1088774.8980260503, 6805.439871824423),\n (1076147.872074206, 5671.6465906366),\n (1097679.7936709775, 5700.430927854623),\n (1090186.940637243, 7739.831496030484),\n (1105658.0739299676, 5068.88818166238),\n (1100415.8252506056, 6772.449093342577),\n (1115732.1947070432, 4783.915488462269),\n (1078084.7127676334, 6951.448209343939),\n (1104634.8358952347, 5009.515354271788),\n (1121869.368444097, 6469.498584807074),\n (1126439.8374260217, 5527.414628240349),\n (1110065.19224825, 5228.5672188215685),\n (1111150.7816503192, 5717.6805135183895),\n (1114409.2565074188, 6424.927347051686),\n (1108230.5022240255, 5369.889696520046),\n (1106220.8695414965, 5691.819969183034),\n (1108765.9536744612, 6269.373702346222),\n (1113898.8578256243, 6675.922736302966),\n (1106652.1692697967, 6094.235141010737),\n (1097462.165630671, 4976.788381908532),\n (1100491.3236901294, 5886.916157450864),\n (1110065.19224825, 6932.257660909508),\n (1102556.475574268, 6904.759414141937),\n (1073046.7857316385, 6797.118952266804),\n (1094390.8847126744, 6794.405422831403),\n (1095556.0004291018, 6302.483811496275),\n (1086459.244804764, 5345.442581765192),\n (1116308.6932645456, 6724.061810367148),\n (1046721.0771561615, 5224.324451592463),\n (1116752.9364895995, 8053.401819404575),\n (1110132.0985837432, 5681.654944129835),\n (1091210.8123677184, 5325.100658425953),\n (1108106.2354313356, 5590.7838407364925),\n (1113394.316455534, 5389.69850044486),\n (1099472.5398600104, 5755.164282518145),\n (1109224.1020060643, 6068.467476535254),\n (1114111.5822436917, 6131.501572597301),\n (1086459.244804764, 5402.920458988478),\n (1120333.9124544454, 4864.059789409373),\n (1129458.0276643327, 5610.161302754434),\n (1079857.9004260264, 5713.939050998575),\n (1122726.63766814, 6124.759056235157),\n (1114714.7321577056, 6019.207881124773),\n (1119476.820828376, 6456.52565375069),\n (1118799.9141319157, 6567.491907388402),\n (1104911.9864203704, 5289.6288964481555),\n (1101269.9845006126, 5736.420671884447),\n (1118618.6228595204, 6886.727451741765),\n (1109617.302614843, 5352.314042014355),\n (1101248.303750427, 6231.571365761018),\n (1094860.7262757365, 4978.28218245659),\n (1088009.7142986278, 5237.9635758921195),\n (1106182.7961553365, 5590.056521542874),\n (1106691.9013012778, 6548.523917416413),\n (1119279.5929954906, 4843.114722924776),\n (1126603.2174534977, 7060.364486557696),\n (1107963.7138117163, 5383.738269205577),\n (1098708.302702201, 5426.292045148521),\n (1095759.4911027204, 6199.396776780623),\n (1108963.57181266, 5927.446356862861),\n (1110607.6257739833, 6583.104153587504),\n (1117990.088240423, 6428.231787188209),\n (1115860.457504415, 5543.535172539833),\n (1107620.1600146121, 4616.513218049555),\n (1084454.4129725369, 6451.079282705831),\n (1098370.8646692464, 7003.746961409755),\n (1108354.3923501484, 4629.598447535293),\n (1111992.9593964098, 5723.246360885225),\n (1100604.578962456, 4833.381586686997),\n (1097329.894762567, 5050.984506472382),\n (1110945.080691249, 6733.9934062196735),\n (1101849.9140310963, 6364.932341535287),\n (1120785.6658291335, 4733.270749249334),\n (1119476.820828376, 6744.763406150236),\n (1105798.0235158324, 5575.71418718446),\n (1120623.467426683, 7021.401010666566),\n (1108354.3923501484, 6492.729530079984),\n (1082924.4512542486, 5173.483240340652),\n (1098708.302702201, 5594.115510462371),\n (1117633.7833321795, 5679.989499112155),\n (1096354.7969619236, 6622.4193141904825),\n (1090272.8040477582, 6921.628675304322),\n (1096333.8601140499, 6202.749774910477),\n (1107620.1600146121, 5642.405044282766),\n (1086442.317171765, 7049.7860843142025),\n (1112289.9112381951, 4760.534629249547),\n (1113452.924203217, 6789.1473042306625),\n (1102282.0447153037, 4649.896495777195),\n (1113452.924203217, 5164.394103218225),\n (1085286.7916086086, 6796.914530398058),\n (1117156.1915433672, 5921.955802221278),\n (1121869.368444097, 6904.945604938298),\n (1113898.8578256243, 5166.583682877928),\n (1093143.4807304882, 7547.1693665621),\n (1086442.317171765, 6326.731101307601),\n (1107216.818067803, 4672.533049476569),\n (1081429.232952939, 5398.618752305256),\n (1083517.1957738881, 5908.484701798455),\n (1123592.7839115015, 6330.938147447324),\n (1108533.7984482234, 7795.321013932328),\n (1089331.5847606668, 6403.536248075348),\n (1108106.2354313356, 6696.653171871207),\n (1086157.477050302, 6274.53601799678),\n (1113544.2930092874, 6132.965873863873),\n (1100703.131457481, 6109.156246745913),\n (1103550.0898114343, 5170.355419352423),\n (1103506.9010173634, 5346.075291819885),\n (1097679.7936709775, 5979.863816474982),\n (1101670.9050381493, 5048.90538146518),\n (1095277.650481484, 6046.629097448307),\n (1093359.0965266335, 5751.107856258341),\n (1107839.4003492554, 5276.3514327939065),\n (1120138.6458648094, 5133.944617366572),\n (1100118.346602219, 5672.934084811564),\n (1110132.0985837432, 5617.816124532855),\n (1094005.262458418, 5811.550657112935),\n (1108077.450459725, 5986.975127142712),\n (1116693.3212661366, 6739.011169134843),\n (1092051.8850912096, 7225.775119862185),\n (1055685.5161100822, 6485.2810213402545),\n (1109617.302614843, 7320.9812758586395),\n (1099688.187338875, 6411.741985413668),\n (1098347.994546507, 6750.488135707499),\n (1091011.2823163252, 6175.990137344696),\n (1107620.1600146121, 6440.320909130827),\n (1104928.5325535901, 5671.355032115643),\n (1095170.007265801, 7035.727440122903),\n (1121869.368444097, 5847.431413190987),\n (1092793.396299904, 6182.129819220475),\n (1103795.2636281354, 4713.35066328929),\n (1107963.7138117163, 6281.027980739833),\n (1114714.7321577056, 4875.558383711044),\n (1044869.1857190275, 7505.783273865308),\n (1120718.5666807634, 5447.5050933158045),\n (1069103.111574421, 6885.9592845807965),\n (1118500.8462695742, 5014.41642513228),\n (1110763.2536572542, 6055.080710363198),\n (1113452.924203217, 5512.555503435156),\n (1081502.7432429956, 5843.774196098213),\n (1113002.275314845, 5162.183914049101),\n (1100194.0609200883, 5489.642486001816),\n (1117633.7833321795, 6212.488514653931),\n (1095170.007265801, 6976.60368012189),\n (1128463.3534225116, 7519.405424727301),\n (1072836.3378734118, 4881.0217835978165),\n (1083249.0207719854, 6361.214056047975),\n (1117533.3612526136, 6698.756385307291),\n (1117399.9377500208, 5580.539833618443),\n (1105264.8305727195, 6027.854290871289),\n (1122253.6448951012, 6663.535749820552),\n (1104328.8477718087, 5259.151381678216),\n (1118096.3489560054, 6629.5475661474),\n (1073046.7857316385, 6858.910942741989),\n (1107963.7138117163, 5443.55758330785),\n (1098211.4233481074, 5454.496066744266),\n (1093053.588030922, 5394.513147576685),\n (1091210.8123677184, 6898.425852960927),\n (1073046.7857316385, 5252.319190388008),\n (1121617.5395027224, 6532.91209442377),\n (1098347.994546507, 4805.432232198567),\n (1111992.9593964098, 6123.873606147154),\n (1101136.3818684092, 5350.191287042325),\n (1118989.5273054594, 5695.653430112935),\n (1113030.0037363502, 6465.355304602948),\n (1107726.186113025, 5482.762943482023),\n (1112131.685958741, 8021.597874339783),\n (1095294.8550373048, 6931.318972988261),\n (1113620.653089775, 5445.583165059251),\n (1095294.8550373048, 5103.971243745883),\n (1103948.8888890964, 4767.972415299381),\n (1111675.8955125788, 4824.58816899221),\n (1055685.5161100822, 5586.331176797991),\n (1096095.636924507, 6082.495358377286),\n (1102955.8287460657, 6779.684913238261),\n (1113220.0764053543, 4755.889441978059),\n (1093053.588030922, 5030.8381039198175),\n (1066447.1245809994, 6880.580626451402),\n (1090275.8103599271, 5199.7182099842985),\n (1082985.7872165886, 5325.283041420935),\n (1110508.1643358504, 6775.398141761946),\n (1112289.9112381951, 5270.5919109548895),\n (1104990.0547648002, 5758.9287363466),\n (1102955.8287460657, 5917.860559860563),\n (1111097.4887369713, 5113.047816577169),\n (1104820.6021779077, 6497.805548221456),\n (1110132.0985837432, 5490.1384853389745),\n (1092051.8850912096, 7037.276638474464),\n (1095759.4911027204, 5297.666336521629),\n (1104820.6021779077, 5827.928687580089),\n (1102619.7232515966, 5221.91999518972),\n (1118618.6228595204, 6645.087892031537),\n (1105264.8305727195, 4606.190543024302),\n (1091559.749797629, 5725.882514304186),\n (1091742.11120272, 5024.985821422395),\n (1117399.9377500208, 5292.883141163884),\n (1097138.27535563, 5371.430278228705),\n (1117476.4425695413, 6379.490730526671),\n (1100194.0609200883, 6281.962020063915),\n (1105986.4339002792, 5553.119259159696),\n (1065848.5166975176, 5311.898565731833),\n (1109173.4477289182, 4633.243819210421),\n (1102569.1855758461, 6663.396231361636),\n (1112201.7933898098, 5533.3475708298165),\n (1070448.9601447803, 5795.174923618369),\n (1114017.0384421446, 5275.627549069009),\n (1115936.9436123658, 6204.597483694707),\n (1115561.1502321307, 5915.201430862749),\n (1101499.9841704278, 6779.121615807338),\n (1085908.7351239922, 5536.415106301604),\n (1095179.0409615813, 6477.648289941646),\n (1110607.6257739833, 6112.882428331242),\n (1114714.7321577056, 6139.592038747243),\n (1107839.4003492554, 4865.968543576628),\n (1085459.9012196972, 5418.142900075514),\n (1114017.0384421446, 4816.877327410845),\n (1111621.768212829, 6835.2874999446485),\n (1083249.0207719854, 6705.063464483012),\n (1112348.8479152478, 6006.091774177609),\n (1103506.9010173634, 6725.707625192777),\n (1071754.6674466846, 5678.399450133983),\n (1109861.7016102134, 5140.431992443649),\n (1095904.1356639282, 5764.781309103102),\n (1099214.6342738275, 4477.44486977792),\n (1117385.4586271213, 5637.817084178929),\n (1089332.3304142347, 6069.944280707674),\n (1123686.6539692339, 5981.736412740491),\n (1109173.4477289182, 5763.30328731055),\n (1120785.6658291335, 5434.496045434411),\n (1106110.275942081, 6672.630301246453),\n (1089653.1696899673, 6051.86251882282),\n (1083249.0207719854, 5444.282300221229),\n (1100194.0609200883, 4697.32295193967),\n (1101870.354078695, 5247.167637479836),\n (1107342.706249023, 7641.887544408991),\n (1059471.416057553, 6105.671861785421),\n (1102955.8287460657, 5343.310990942064),\n (1102955.8287460657, 5056.036206482799),\n (1085670.781217148, 5398.998351900217),\n (1111943.8173050235, 6074.365346587839),\n (1048552.6321567968, 6636.568826061476),\n (1115616.2483215884, 7369.468782002154),\n (1092706.0893911861, 6373.584625367492),\n (1109617.302614843, 5044.709786726132),\n (1105798.0235158324, 6364.199021735808),\n (1089526.5076651238, 6916.867716107563),\n (1077963.172478962, 6810.002082473834),\n (1117385.4586271213, 6629.081626452156),\n (1113754.835447576, 6640.160439250632),\n (1060899.3369847902, 5135.236345787326),\n (1121617.5395027224, 6414.131874525163),\n (1095294.8550373048, 7498.426888960011),\n (1091559.749797629, 4771.568761920155),\n (1096629.382738953, 4801.46094427406),\n (1095759.4911027204, 4959.517421424502),\n (1121869.368444097, 6469.498584807074),\n (1076998.1812984503, 6629.5681445618),\n (1080788.4682471326, 5893.840520248475),\n (1120089.5881564233, 6583.323809425609),\n (1073866.7446952332, 6653.42994760847),\n (1123686.6539692339, 7290.241253027489),\n (1098211.4233481074, 6580.968080528425),\n (1085286.7916086086, 4746.121353122745),\n (1095974.4302388565, 6726.213057957821),\n (1093053.588030922, 5576.350669405105),\n (1109576.900262535, 6048.164994620178),\n (1109173.4477289182, 4915.758686235483),\n (1111943.8173050235, 7353.179103764248),\n (1087213.2770540987, 5661.671568898477),\n (1123592.7839115015, 5684.924050768998),\n (1113898.8578256243, 5747.098703426032),\n (1108978.502376947, 5421.440498398569),\n (1104911.9864203704, 5120.810952944496),\n (1103795.2636281354, 5451.586309346639),\n (1118500.8462695742, 5597.488102473235),\n (1080788.4682471326, 5543.71138043172)]"
     },
     "execution_count": 8,
     "metadata": {},
     "output_type": "execute_result"
    }
   ],
   "source": [
    "cases_per_year_list"
   ],
   "metadata": {
    "collapsed": false,
    "pycharm": {
     "name": "#%%\n"
    }
   }
  },
  {
   "cell_type": "code",
   "execution_count": 9,
   "outputs": [],
   "source": [
    "with open('cases_per_year_list.pickle', 'wb') as handle:\n",
    "    pickle.dump(cases_per_year_list, handle, protocol=pickle.HIGHEST_PROTOCOL)"
   ],
   "metadata": {
    "collapsed": false,
    "pycharm": {
     "name": "#%%\n"
    }
   }
  }
 ],
 "metadata": {
  "kernelspec": {
   "display_name": "Python 3",
   "language": "python",
   "name": "python3"
  },
  "language_info": {
   "codemirror_mode": {
    "name": "ipython",
    "version": 2
   },
   "file_extension": ".py",
   "mimetype": "text/x-python",
   "name": "python",
   "nbconvert_exporter": "python",
   "pygments_lexer": "ipython2",
   "version": "2.7.6"
  }
 },
 "nbformat": 4,
 "nbformat_minor": 0
}