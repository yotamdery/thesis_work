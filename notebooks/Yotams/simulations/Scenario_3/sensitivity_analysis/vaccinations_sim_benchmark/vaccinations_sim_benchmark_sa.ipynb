{
 "cells": [
  {
   "cell_type": "markdown",
   "metadata": {
    "pycharm": {
     "name": "#%% md\n"
    }
   },
   "source": [
    "## This notebook produces cases per year for the benchmark simulation"
   ]
  },
  {
   "cell_type": "code",
   "execution_count": 1,
   "metadata": {
    "pycharm": {
     "name": "#%%\n"
    }
   },
   "outputs": [],
   "source": [
    "import numpy as np\n",
    "import pandas as pd\n",
    "import itertools\n",
    "import pickle\n",
    "import datetime, random, copy\n",
    "import sys, os, tqdm\n",
    "\n",
    "import SEIR_full as mdl\n",
    "import SEIR_full.model as mdl\n",
    "import SEIR_full.calibration as mdl\n",
    "from SEIR_full.parameters import *\n",
    "from SEIR_full.indices import *\n",
    "from SEIR_full.utils import *"
   ]
  },
  {
   "cell_type": "markdown",
   "metadata": {
    "pycharm": {
     "name": "#%% md\n"
    }
   },
   "source": [
    "* Fixing the ranges of the uncertainty factors that we're interested in:"
   ]
  },
  {
   "cell_type": "code",
   "execution_count": 2,
   "metadata": {
    "pycharm": {
     "name": "#%%\n"
    }
   },
   "outputs": [],
   "source": [
    "# Creating a list of tuples, each tuple is a realization of randomly picked values for the factors that we change every iteration of the simulation\n",
    "np.random.seed(12)\n",
    "list_of_tuples = []\n",
    "for i in range(1000):\n",
    "    booster_eff = round(np.random.uniform(low=29.5001, high=95.5)) / 100     # Discrete uniform dist, booster_efficiency ~ U(30, 95), Updated in the model's object\n",
    "    inv_level = round(np.random.uniform(low=9.5001, high=20.5)) / 100       # Discrete uniform dist, booster_efficiency ~ U(10, 20), Updated in the simulation's settings\n",
    "    hosp_proba_scalar = round(np.random.uniform(low=0.8, high=1.2), 2)      # Continuous uniform dist, booster_efficiency ~ U(0.8, 1.2), Updated in the model's object\n",
    "    years_for_model_run = round(np.random.uniform(low=.5001, high=5.5))         # Discrete uniform dist, booster_efficiency ~ U(3, 10), Updated in the simulation's settings\n",
    "    list_of_tuples.append((booster_eff, inv_level, hosp_proba_scalar, years_for_model_run))"
   ]
  },
  {
   "cell_type": "markdown",
   "metadata": {
    "pycharm": {
     "name": "#%% md\n"
    }
   },
   "source": [
    "* Fixing the static settings for all runs of the big loop"
   ]
  },
  {
   "cell_type": "code",
   "execution_count": 3,
   "metadata": {
    "pycharm": {
     "name": "#%%\n"
    }
   },
   "outputs": [],
   "source": [
    "## DEFINING STATIC SETTINGS (INDEPENDENT IN THE DYNAMIC FACTORS) FOR THE SIMULATION RUN\n",
    "# Short path for the data directory\n",
    "DATA_DIR = r'/Users/yotamdery/Old_Desktop/git/SEIR_model_COVID-main/Data'\n",
    "# Reading the indices of the model - adding an hint to declare it's from type Indices!\n",
    "with(open(DATA_DIR + '/parameters/indices.pickle', 'rb')) as openfile:\n",
    "    ind:Indices = pickle.load(openfile)\n",
    "\n",
    "# Vaccination priority queue:\n",
    "vaccination_pq = [('High', '60+'), ('High', '30-59'), ('High', '10-29'), ('High', '5-9'),\n",
    "                   ('Low', '60+'), ('Low', '30-59'), ('Low', '10-29'), ('Low', '5-9')]\n",
    "\n",
    "# Reading the neutralized vectors:\n",
    "# Alpha variant vector\n",
    "with open(DATA_DIR + '/parameters/neutralized_alpha_variant_vec.pickle', 'rb') as pickle_in:\n",
    "\tneutralized_alpha_variant_vec = pickle.load(pickle_in)\n",
    "\n",
    "# Delta variant vector\n",
    "with open(DATA_DIR + '/parameters/neutralized_delta_variant_vec.pickle', 'rb') as pickle_in:\n",
    "\tneutralized_delta_variant_vec = pickle.load(pickle_in)\n",
    "\n",
    "# Beta_lockdown vector\n",
    "with open(DATA_DIR + '/parameters/neutralized_lockdown_vec.pickle', 'rb') as pickle_in:\n",
    "\tneutralized_lockdown_vec = pickle.load(pickle_in)\n",
    "\n",
    "# Beta_school vector\n",
    "with open(DATA_DIR + '/parameters/neutralized_school_vec.pickle', 'rb') as pickle_in:\n",
    "\tneutralized_school_vec = pickle.load(pickle_in)\n",
    "\n",
    "# Isolation morbidity ratio vector\n",
    "with open(DATA_DIR + '/parameters/neutralized_isolation_morbidity_ratio_vector.pickle', 'rb') as pickle_in:\n",
    "\tneutralized_isolation_morbidity_ratio_vector = pickle.load(pickle_in)\n",
    "\n",
    "# zero vector to remove any transition from V_2 and S_2 to V_3\n",
    "with open(DATA_DIR + '/parameters/neutralized_transition_rate_to_V_3.pickle', 'rb') as pickle_in:\n",
    "\tneutralized_transition_vector = pickle.load(pickle_in)\n"
   ]
  },
  {
   "cell_type": "markdown",
   "metadata": {
    "pycharm": {
     "name": "#%% md\n"
    }
   },
   "source": [
    "* Utils functions:"
   ]
  },
  {
   "cell_type": "code",
   "execution_count": 4,
   "metadata": {
    "pycharm": {
     "name": "#%%\n"
    }
   },
   "outputs": [],
   "source": [
    "# Getting the reported unreported ratio\n",
    "def get_reported_unreported_ratio(scen):\n",
    "    if scen == 'Scenario3':\n",
    "        reported = 1\n",
    "        unreported = 3\n",
    "        reported_unreported = unreported / (reported + unreported)\n",
    "    return reported_unreported\n",
    "\n",
    "def risk_age_groups_mapping(wanted_mapping: tuple):\n",
    "    \"\"\" This function gets a wanted mapping (4 examined age groups to 9 original model's age groups or vice versa),\n",
    "    and returns a dictionary consist of the wanted mapping\n",
    "    \"\"\"\n",
    "    age_groups_mapping_dict = {}\n",
    "    # If the wanted mapping is 4 examined age groups to 9 original model's age groups:\n",
    "    if wanted_mapping == ('High', '4-to-9'):\n",
    "        age_groups_mapping_dict[('High', '5-9')] = [('High', '5-9')]\n",
    "        age_groups_mapping_dict[('High', '10-29')] = [('High', '10-19'), ('High', '20-29')]\n",
    "        age_groups_mapping_dict[('High', '30-59')] = [('High','30-39'), ('High','40-49'), ('High','50-59')]\n",
    "        age_groups_mapping_dict[('High', '60+')] = [('High', '60-69'), ('High', '70+')]\n",
    "\n",
    "    elif wanted_mapping == ('Low', '4-to-9'):\n",
    "        age_groups_mapping_dict[('Low', '5-9')] = [('Low', '5-9')]\n",
    "        age_groups_mapping_dict[('Low', '10-29')] = [('Low', '10-19'), ('Low', '20-29')]\n",
    "        age_groups_mapping_dict[('Low', '30-59')] = [('Low','30-39'), ('Low','40-49'), ('Low','50-59')]\n",
    "        age_groups_mapping_dict[('Low', '60+')] = [('Low', '60-69'), ('Low', '70+')]\n",
    "\n",
    "    # If the wanted mapping is 9 original model's age groups to 4 examined age groups:\n",
    "    elif wanted_mapping == ('High', '9-to-4'):\n",
    "        age_groups_mapping_dict[('High', '0-4')] = np.nan     # There's no corresponding age group among the 4 examined age-groups\n",
    "        age_groups_mapping_dict[('High', '5-9')] = ('High', '5-9')\n",
    "        age_groups_mapping_dict[('High', '10-19')] = ('High', '10-29')\n",
    "        age_groups_mapping_dict[('High', '20-29')] = ('High', '10-29')\n",
    "        age_groups_mapping_dict[('High', '30-39')] = ('High', '30-59')\n",
    "        age_groups_mapping_dict[('High', '40-49')] = ('High', '30-59')\n",
    "        age_groups_mapping_dict[('High', '50-59')] = ('High', '30-59')\n",
    "        age_groups_mapping_dict[('High', '60-69')] = ('High', '60+')\n",
    "        age_groups_mapping_dict[('High', '70+')] = ('High', '60+')\n",
    "\n",
    "    else:\n",
    "        age_groups_mapping_dict[('low', '0-4')] = np.nan     # There's no corresponding age group among the 4 examined age-groups\n",
    "        age_groups_mapping_dict[('low', '5-9')] = ('low', '5-9')\n",
    "        age_groups_mapping_dict[('low', '10-19')] = ('low', '10-29')\n",
    "        age_groups_mapping_dict[('low', '20-29')] = ('low', '10-29')\n",
    "        age_groups_mapping_dict[('low', '30-39')] = ('low', '30-59')\n",
    "        age_groups_mapping_dict[('low', '40-49')] = ('low', '30-59')\n",
    "        age_groups_mapping_dict[('low', '50-59')] = ('low', '30-59')\n",
    "        age_groups_mapping_dict[('low', '60-69')] = ('low', '60+')\n",
    "        age_groups_mapping_dict[('low', '70+')] = ('low', '60+')\n",
    "\n",
    "    return age_groups_mapping_dict\n",
    "\n",
    "def get_wanted_df(wanted_age_group):\n",
    "\t\"\"\" Gets the age-groups that we want to address our calculations to, and returns a sub-Dataframe containing only the relevant columns (the wanted age-groups columns)\"\"\"\n",
    "\t# Reading the pop per county file:\n",
    "\tcounty_pop = pd.read_csv(DATA_DIR + '/division_choice/30/population_per_county_age-group.csv')\n",
    "\t# Initializing the list with the county column, that will be picked anyway\n",
    "\twanted_columns = [county_pop.columns[0]]\n",
    "\t# Splitting the given age_group, creating list of integers. try-expect block to catch the 60+ column as well:\n",
    "\ttry:\n",
    "\t\twanted_age_group_splitted = list(map(int, wanted_age_group.split('-')))\n",
    "\texcept ValueError:\n",
    "\t\twanted_age_group_splitted = [60, 70]  # In order to pass the logic condition successfully\n",
    "\n",
    "\t# Iterating on the columns of the file and performing the condition logic:\n",
    "\tfor col in county_pop.columns[1:]:\n",
    "\t\t# Splitting the current column of the file. try-expect block to catch the 70+ column as well:\n",
    "\t\ttry:\n",
    "\t\t\tages_as_list = list(map(int, col.split('_')[1].split('-')))\n",
    "\t\texcept ValueError:\n",
    "\t\t\tages_as_list = [70]\n",
    "\t\t# If these conditions are met, take this column to be in the sub-df\n",
    "\t\tif ages_as_list[0] >= min(wanted_age_group_splitted) and ages_as_list[0] <= max(wanted_age_group_splitted):\n",
    "\t\t\twanted_columns.append(col)\n",
    "\n",
    "\treturn county_pop[wanted_columns]\n",
    "\n",
    "# Gets a dictionary to reduce (lambda, V_2 or S_2) and reduce its cardinality to consist only the relevant age-groups\n",
    "def calc_sub_dict(dict_to_reduce: dict, wanted_age_group: str):\n",
    "    sub_dict = {}\n",
    "    # Splitting the given age_group, creating list of integers. try-expect block to catch the 60+ group as well (if wanted):\n",
    "    try:\n",
    "        wanted_age_group_splitted = list(map(int, wanted_age_group.split('-')))\n",
    "    except ValueError:\n",
    "        wanted_age_group_splitted = [60, 70]    # In order to pass the logic condition successfully\n",
    "\n",
    "    for key, val in dict_to_reduce.items():\n",
    "        # Splitting the age group part of the key. try-expect block to catch the 70+ column from the file as well:\n",
    "        try:\n",
    "            if isinstance(key, str):   # If the dict_to_reduce keys are only on the age level\n",
    "                ages_as_list = list(map(int, key.split('-')))\n",
    "            elif isinstance(key, tuple):    # If the dict_to_reduce keys are on the region&age level (as lambda_t does) - take the second element (the age)\n",
    "                ages_as_list = list(map(int, key[1].split('-')))\n",
    "        except ValueError:\n",
    "            ages_as_list = [70]\n",
    "        # If these conditions are met, take this key-value pair to be in the sub-dict\n",
    "        if ages_as_list[0] >= min(wanted_age_group_splitted) and ages_as_list[0] <= max(wanted_age_group_splitted):\n",
    "            sub_dict[key] = val    # Converting from ndarray to float\n",
    "\n",
    "    return sub_dict\n",
    "\n",
    "def get_indexes_risk_age_combination(risk_age_group: tuple):\n",
    "    \"\"\"This function gets a tuple of (risk, 4_age_group) and returns the indexes of that combination as they are in the original model (including transformation to the 9 original age groups\n",
    "    e.g.: for ('High', '10-29'), returns the indexes for ('High', '10-19') + ('High', '20-29') \"\"\"\n",
    "    # Initializing the result list and the age groups mapper:\n",
    "    indexes_list_of_lists = []\n",
    "    four_to_nine_age_map = risk_age_groups_mapping((risk_age_group[0], '4-to-9'))\n",
    "    for val in four_to_nine_age_map[risk_age_group]:\n",
    "            indexes_list_of_lists.append(ind.risk_age_dict[val])\n",
    "    # Merging the list of lists to one list:\n",
    "    risk_indexes_list = [item for sublist in indexes_list_of_lists for item in sublist]\n",
    "    return sorted(risk_indexes_list)\n",
    "\n",
    "# Gets the compartment to aggregate, and returns the same compartment, stratified by the original age-groups\n",
    "def calc_aggregated_compartment_by_age_risk(compartment: np.array):\n",
    "    compartment_dict = {}\n",
    "    for risk_age in ind.risk_age_dict.keys():\n",
    "        compartment_dict[risk_age] = float(compartment[:, ind.risk_age_dict[risk_age]].sum(axis=1))\n",
    "    return compartment_dict\n",
    "\n",
    "# Gets the compartment dictionary (the compartment stratified by the old age-groups), and aggregates the compartment to the wanted age-group by returning a dict (e.g agg. V_2 for age group 30-59, using the sub-age-groups 30-39, 40-49, 50-59)\n",
    "def compartment_by_4_age_groups(compartment: dict, target_risk_age_group: tuple):\n",
    "    # Initiate the wanted mapping:\n",
    "    four_to_nine_age_map = risk_age_groups_mapping((target_risk_age_group[0], '4-to-9'))\n",
    "    # Initiate result dict to return:\n",
    "    agg_risk_4_groups_dict = {}\n",
    "    for risk_4_age_group in four_to_nine_age_map.keys():     # Iterating on each combination of (risk, 9 age-groups):\n",
    "        agg_risk_4_groups_dict[risk_4_age_group] = 0\n",
    "    # Performing the aggregation to the new dict - (risk, 4 age groups):\n",
    "    for key, val in four_to_nine_age_map.items():\n",
    "        for tup in val:\n",
    "            agg_risk_4_groups_dict[key] += compartment[tup]\n",
    "\n",
    "    return agg_risk_4_groups_dict\n",
    "\n",
    "def calc_comp_prop_for_age_risk(comp: str, curr_res_mdl_1_ml: dict, target_risk_age_group: tuple):\n",
    "    \"\"\"This function gets the target compartment and the current predictions of the current model,\n",
    "    and returns the compartment aggregated by the wanted combination of (age-group, risk)\"\"\"\n",
    "    # Getting the last day of the compartment:\n",
    "    comp_last_day = np.reshape(curr_res_mdl_1_ml[comp][-1, :], newshape=(1,540))\n",
    "    # Aggregate the compartment by (9 age groups, risk):\n",
    "    comp_agg_9_age_groups_risk = calc_aggregated_compartment_by_age_risk(comp_last_day)\n",
    "    # Aggregate the compartment by (4 age groups, risk):\n",
    "    comp_agg_4_age_groups_risk = compartment_by_4_age_groups(comp_agg_9_age_groups_risk, target_risk_age_group)\n",
    "    # Gets the relevant age group out of the 4 age groups, and summing on it to get the final proportion:\n",
    "    return comp_agg_4_age_groups_risk[target_risk_age_group]\n",
    "\n",
    "def update_compartment(curr_res_mdl_1_ml: dict, compartment: str, updated_array: np.array):\n",
    "    \"\"\"This function gets the current models' predictions, the compartment to update and the updated array, and updates the model object with the updated array\"\"\"\n",
    "    # Initiate settings:\n",
    "    curr_res_mdl_1_ml[compartment][-1] = updated_array\n",
    "    comp_as_list = []\n",
    "    # Changing the updated arrays to be lists of arrays (to allow the update of the model object):\n",
    "    for element in curr_res_mdl_1_ml[compartment]:\n",
    "        comp_as_list.append(element)\n",
    "\n",
    "    # Performing the proper model update\n",
    "    curr_res_mdl_1_ml.update({\n",
    "        compartment : comp_as_list\n",
    "    })\n",
    "\n",
    "# Defining the model - initializing it for t=0:\n",
    "def defining_model(scen):\n",
    "    model_1_ml_ = mdl.Model_behave(\n",
    "    ind= ind,\n",
    "    beta_j= cal_parameters[scen]['beta_j'],\n",
    "    beta_activity= cal_parameters[scen]['beta_activity'],\n",
    "    beta_school= cal_parameters[scen]['beta school'],\n",
    "    scen= scen\n",
    "    )\n",
    "    # Predicting without an assignment (there's no need for that)\n",
    "    model_1_ml_.predict(\n",
    "        days_in_season= 529,    # Num of days between 15/05/20 - 25/10/21\n",
    "        shifting_12_days= True\n",
    "    )\n",
    "    # Updating the vectors to be able to run the model furthermore:\n",
    "    model_1_ml_.update({\n",
    "        'alpha_variant_vec':  neutralized_alpha_variant_vec,\n",
    "        'delta_variant_vec': neutralized_delta_variant_vec,\n",
    "        'isolation_morbidity_ratio_vector': neutralized_isolation_morbidity_ratio_vector,\n",
    "        'is_lockdown': neutralized_lockdown_vec,\n",
    "        'is_school': neutralized_school_vec,\n",
    "        'v2_to_v3_transition_t' : neutralized_transition_vector,\n",
    "        's_2_to_v3_transition_t' : neutralized_transition_vector\n",
    "    })\n",
    "    return model_1_ml_\n",
    "\n",
    "# Update model for current variables of uncertainty:\n",
    "def update_models_object(mdl_1_ml: mdl.Model_behave, realization: tuple):\n",
    "    new_rho = mdl_1_ml.rho * realization[2]\n",
    "    mdl_1_ml.update({\n",
    "        'booster_efficiency': realization[0],\n",
    "        'rho': new_rho\n",
    "    })"
   ]
  },
  {
   "cell_type": "markdown",
   "metadata": {
    "pycharm": {
     "name": "#%% md\n"
    }
   },
   "source": [
    "#### calculating the transferring proportion:"
   ]
  },
  {
   "cell_type": "code",
   "execution_count": 5,
   "metadata": {
    "pycharm": {
     "name": "#%%\n"
    }
   },
   "outputs": [],
   "source": [
    "def calc_trans_prop(vaccination_pq_: list, curr_res_mdl_1_ml: dict, curr_inv_: float):\n",
    "    # Initializing the accumulated amount used and the priority queue:\n",
    "    curr_inventory_used = 0\n",
    "    vaccination_pq_copy = vaccination_pq_.copy()\n",
    "    # Saving the combinations that we will vaccinate:\n",
    "    vaccinated_que_ = []\n",
    "    # Iterating until we cross the prior inventory level:\n",
    "    while (curr_inventory_used <= curr_inv_):\n",
    "        # Getting the current combination of (age_group, risk) from the pq:\n",
    "        current_risk_age = vaccination_pq_copy.pop(0)\n",
    "        # Getting the correspondent reported/unreported ratio for the Scenario:\n",
    "        reported_unreported = get_reported_unreported_ratio('Scenario3')\n",
    "        # Getting V2_j,r, S2_j,r proportions:\n",
    "        S_2_age_risk, V_2_age_risk, R_2_age_risk, R_1_age_risk = calc_comp_prop_for_age_risk('S_2', curr_res_mdl_1_ml,current_risk_age), \\\n",
    "                                                                 calc_comp_prop_for_age_risk('V_2', curr_res_mdl_1_ml,current_risk_age), \\\n",
    "                                                                 calc_comp_prop_for_age_risk('R_2', curr_res_mdl_1_ml,current_risk_age), \\\n",
    "                                                                 calc_comp_prop_for_age_risk('R_1', curr_res_mdl_1_ml,current_risk_age)\n",
    "        # Calculating the formula for num of needed vaccines:\n",
    "        count_vaccines_in_use = (((R_1_age_risk + R_2_age_risk) * reported_unreported) + S_2_age_risk + V_2_age_risk) * pop_israel\n",
    "        # Updating the accumulated used vaccines:\n",
    "        curr_inventory_used += count_vaccines_in_use\n",
    "        # Updating the vaccinated_que:\n",
    "        vaccinated_que_.append(current_risk_age)\n",
    "\n",
    "    final_trans_prop = curr_inv_ / curr_inventory_used\n",
    "    return final_trans_prop, vaccinated_que_"
   ]
  },
  {
   "cell_type": "markdown",
   "metadata": {
    "pycharm": {
     "name": "#%% md\n"
    }
   },
   "source": [
    "#### Vaccinating in booster dose:"
   ]
  },
  {
   "cell_type": "code",
   "execution_count": 6,
   "metadata": {
    "pycharm": {
     "name": "#%%\n"
    }
   },
   "outputs": [],
   "source": [
    "### Vaccinating in booster (moving from S_2 and V_2 to V_3, including the model update):\n",
    "def vaccinate(trans_prop_: float, curr_res_mdl_1_ml: dict, vaccination_que: list):\n",
    "    ## initialize settings:\n",
    "    vaccination_que_copy = vaccination_que.copy()\n",
    "    trans_prop_copy = trans_prop_\n",
    "    # Getting the last day of the compartments and V_3, saving it to a dictionary:\n",
    "    last_day_dict = {'S_2_last_day': np.reshape(curr_res_mdl_1_ml['S_2'][-1, :], newshape=(540) ),\n",
    "                     'V_2_last_day': np.reshape(curr_res_mdl_1_ml['V_2'][-1, :], newshape=(540) ),\n",
    "                     'V_3_last_day': np.reshape(curr_res_mdl_1_ml['V_3'][-1, :], newshape=(540) ) }\n",
    "                     #'R_1_last_day': np.reshape(curr_res_mdl_1_ml['R_1'][-1, :], newshape=(540) ),\n",
    "                     #'R_2_last_day': np.reshape(curr_res_mdl_1_ml['R_2'][-1, :], newshape=(540) )}\n",
    "\n",
    "    # Iterating over the combinations of (risk, age_group) that we need to vaccinate, and moving the population, and updating the model:\n",
    "    for curr_risk_age in vaccination_que_copy:\n",
    "        # Getting the relevant indexes to operate in the correspondent locations of the compartment:\n",
    "        curr_risk_age_indexes = get_indexes_risk_age_combination(curr_risk_age)\n",
    "\n",
    "        ## Vaccinating from S_2 to V_3\n",
    "        S_2_last_day_updated, V_3_last_day_updated = vaccinating_from_V_2_S_2(last_day_dict['V_3_last_day'], last_day_dict['S_2_last_day'], trans_prop_copy, curr_risk_age_indexes)\n",
    "        # updating the results:\n",
    "        last_day_dict['V_3_last_day'], last_day_dict['S_2_last_day'] = V_3_last_day_updated, S_2_last_day_updated\n",
    "\n",
    "        ## Vaccinating from V_2 to V_3\n",
    "        V_2_last_day_updated, V_3_last_day_updated = vaccinating_from_V_2_S_2(last_day_dict['V_3_last_day'], last_day_dict['V_2_last_day'], trans_prop_copy, curr_risk_age_indexes)\n",
    "        # updating the results:\n",
    "        last_day_dict['V_3_last_day'], last_day_dict['V_2_last_day'] = V_3_last_day_updated, V_2_last_day_updated\n",
    "\n",
    "    update_compartment(curr_res_mdl_1_ml, 'V_2', last_day_dict['V_2_last_day'])\n",
    "    update_compartment(curr_res_mdl_1_ml, 'S_2', last_day_dict['S_2_last_day'])\n",
    "    update_compartment(curr_res_mdl_1_ml, 'V_3', last_day_dict['V_3_last_day'])"
   ]
  },
  {
   "cell_type": "markdown",
   "metadata": {
    "pycharm": {
     "name": "#%% md\n"
    }
   },
   "source": [
    "### Main - 1000 iterations of the Sim:"
   ]
  },
  {
   "cell_type": "code",
   "execution_count": 7,
   "metadata": {
    "pycharm": {
     "name": "#%%\n"
    }
   },
   "outputs": [
    {
     "data": {
      "text/plain": "[(0.4, 0.18, 0.91, 7),\n (0.3, 0.2, 1.16, 3),\n (0.93, 0.11, 0.91, 7),\n (0.92, 0.19, 0.8, 7),\n (0.66, 0.15, 1.11, 4),\n (0.8, 0.1, 0.85, 3),\n (0.5, 0.17, 0.99, 9),\n (0.49, 0.18, 1.08, 5),\n (0.52, 0.2, 1.05, 10),\n (0.8, 0.19, 0.96, 6),\n (0.56, 0.2, 0.87, 10),\n (0.57, 0.14, 0.99, 5),\n (0.6, 0.1, 0.83, 8),\n (0.71, 0.1, 0.92, 4),\n (0.33, 0.15, 0.97, 3),\n (0.67, 0.18, 0.85, 5),\n (0.72, 0.15, 1.0, 6),\n (0.89, 0.16, 1.04, 6),\n (0.61, 0.19, 0.88, 10),\n (0.34, 0.16, 0.81, 8),\n (0.72, 0.19, 1.18, 6),\n (0.74, 0.2, 1.05, 5),\n (0.51, 0.13, 1.18, 6),\n (0.92, 0.19, 1.08, 3),\n (0.89, 0.2, 0.8, 8),\n (0.55, 0.16, 1.04, 7),\n (0.5, 0.1, 1.12, 10),\n (0.42, 0.12, 0.95, 6),\n (0.88, 0.12, 0.97, 8),\n (0.63, 0.13, 1.11, 4),\n (0.42, 0.14, 1.11, 5),\n (0.37, 0.2, 0.85, 7),\n (0.49, 0.16, 1.06, 3),\n (0.53, 0.13, 0.87, 3),\n (0.3, 0.16, 0.83, 5),\n (0.93, 0.19, 1.17, 4),\n (0.5, 0.12, 1.0, 7),\n (0.56, 0.18, 1.06, 8),\n (0.39, 0.18, 1.06, 5),\n (0.54, 0.2, 0.94, 5),\n (0.7, 0.16, 0.81, 7),\n (0.81, 0.2, 1.08, 3),\n (0.46, 0.14, 1.05, 3),\n (0.55, 0.13, 1.19, 10),\n (0.79, 0.15, 0.87, 10),\n (0.9, 0.19, 0.82, 9),\n (0.36, 0.19, 1.04, 10),\n (0.58, 0.16, 1.11, 5),\n (0.72, 0.19, 1.01, 6),\n (0.65, 0.2, 1.2, 8),\n (0.82, 0.2, 0.86, 3),\n (0.79, 0.16, 0.84, 7),\n (0.63, 0.13, 0.9, 4),\n (0.68, 0.11, 1.08, 9),\n (0.75, 0.12, 0.96, 7),\n (0.52, 0.16, 1.07, 5),\n (0.44, 0.18, 1.11, 3),\n (0.72, 0.11, 1.02, 5),\n (0.84, 0.11, 1.16, 5),\n (0.38, 0.15, 0.83, 8),\n (0.54, 0.13, 0.84, 4),\n (0.64, 0.11, 0.99, 10),\n (0.56, 0.11, 1.12, 8),\n (0.7, 0.11, 0.94, 6),\n (0.54, 0.12, 0.89, 4),\n (0.78, 0.11, 0.93, 6),\n (0.32, 0.11, 0.87, 9),\n (0.45, 0.18, 0.94, 8),\n (0.73, 0.12, 0.97, 8),\n (0.69, 0.16, 0.82, 10),\n (0.88, 0.11, 0.96, 10),\n (0.59, 0.14, 1.08, 4),\n (0.87, 0.1, 0.83, 6),\n (0.46, 0.15, 0.86, 8),\n (0.65, 0.19, 0.91, 4),\n (0.64, 0.12, 0.98, 3),\n (0.69, 0.19, 1.16, 10),\n (0.68, 0.15, 1.11, 8),\n (0.4, 0.14, 0.86, 7),\n (0.63, 0.14, 1.2, 10),\n (0.39, 0.16, 0.99, 9),\n (0.91, 0.19, 0.81, 10),\n (0.4, 0.13, 0.95, 9),\n (0.43, 0.11, 1.2, 3),\n (0.5, 0.14, 0.89, 5),\n (0.37, 0.18, 0.9, 8),\n (0.53, 0.1, 0.9, 9),\n (0.57, 0.1, 1.19, 8),\n (0.73, 0.2, 1.17, 10),\n (0.56, 0.13, 0.99, 9),\n (0.63, 0.14, 1.04, 8),\n (0.94, 0.16, 0.96, 10),\n (0.78, 0.14, 0.98, 10),\n (0.93, 0.1, 1.14, 5),\n (0.56, 0.13, 1.05, 4),\n (0.43, 0.12, 1.02, 3),\n (0.5, 0.18, 0.99, 10),\n (0.77, 0.11, 0.98, 7),\n (0.89, 0.2, 0.82, 10),\n (0.75, 0.16, 1.17, 6),\n (0.74, 0.19, 1.13, 7),\n (0.66, 0.19, 0.88, 8),\n (0.83, 0.11, 1.14, 4),\n (0.33, 0.15, 1.18, 10),\n (0.68, 0.18, 0.9, 8),\n (0.4, 0.12, 1.17, 10),\n (0.79, 0.15, 1.15, 4),\n (0.63, 0.16, 0.81, 9),\n (0.48, 0.2, 1.17, 9),\n (0.84, 0.13, 0.86, 5),\n (0.55, 0.2, 1.13, 9),\n (0.75, 0.18, 0.99, 10),\n (0.94, 0.14, 1.16, 8),\n (0.72, 0.15, 1.18, 5),\n (0.39, 0.1, 1.12, 7),\n (0.45, 0.13, 1.06, 8),\n (0.35, 0.16, 1.04, 9),\n (0.44, 0.11, 1.1, 6),\n (0.38, 0.14, 1.12, 5),\n (0.43, 0.18, 0.83, 3),\n (0.31, 0.18, 0.94, 4),\n (0.3, 0.12, 0.86, 9),\n (0.37, 0.18, 1.01, 3),\n (0.43, 0.13, 0.95, 5),\n (0.72, 0.11, 0.83, 7),\n (0.5, 0.17, 0.91, 8),\n (0.88, 0.13, 0.9, 8),\n (0.39, 0.15, 1.17, 5),\n (0.79, 0.14, 1.14, 8),\n (0.31, 0.19, 0.87, 10),\n (0.56, 0.1, 1.15, 8),\n (0.49, 0.19, 0.9, 5),\n (0.66, 0.16, 0.99, 9),\n (0.65, 0.17, 0.83, 10),\n (0.35, 0.17, 1.05, 5),\n (0.95, 0.19, 0.99, 10),\n (0.56, 0.14, 1.08, 5),\n (0.59, 0.17, 0.9, 6),\n (0.36, 0.2, 1.05, 4),\n (0.66, 0.1, 0.98, 9),\n (0.72, 0.14, 1.06, 10),\n (0.44, 0.19, 0.9, 7),\n (0.39, 0.15, 1.18, 6),\n (0.78, 0.15, 0.82, 6),\n (0.47, 0.2, 1.12, 10),\n (0.68, 0.2, 1.16, 6),\n (0.69, 0.13, 0.97, 3),\n (0.77, 0.13, 0.98, 6),\n (0.86, 0.13, 1.04, 4),\n (0.5, 0.18, 1.01, 6),\n (0.47, 0.1, 0.81, 9),\n (0.75, 0.18, 1.05, 3),\n (0.74, 0.11, 1.19, 10),\n (0.93, 0.14, 1.06, 3),\n (0.88, 0.17, 0.93, 7),\n (0.42, 0.16, 1.2, 5),\n (0.33, 0.11, 1.0, 10),\n (0.33, 0.15, 0.97, 8),\n (0.7, 0.16, 1.0, 7),\n (0.36, 0.15, 0.91, 6),\n (0.68, 0.18, 1.08, 4),\n (0.87, 0.16, 0.86, 8),\n (0.88, 0.16, 1.14, 9),\n (0.86, 0.1, 0.94, 4),\n (0.94, 0.17, 1.16, 7),\n (0.47, 0.11, 0.98, 7),\n (0.75, 0.2, 0.84, 6),\n (0.9, 0.15, 1.07, 9),\n (0.63, 0.19, 0.89, 8),\n (0.51, 0.18, 0.94, 8),\n (0.84, 0.19, 0.9, 10),\n (0.3, 0.14, 0.93, 10),\n (0.67, 0.18, 0.95, 4),\n (0.31, 0.11, 0.94, 8),\n (0.6, 0.17, 1.03, 5),\n (0.62, 0.15, 0.87, 7),\n (0.9, 0.16, 1.13, 10),\n (0.3, 0.17, 0.95, 10),\n (0.7, 0.14, 0.85, 3),\n (0.77, 0.2, 0.96, 5),\n (0.34, 0.18, 0.85, 7),\n (0.65, 0.13, 1.15, 6),\n (0.6, 0.18, 1.12, 6),\n (0.47, 0.18, 1.01, 8),\n (0.93, 0.18, 0.87, 6),\n (0.87, 0.12, 1.11, 7),\n (0.48, 0.17, 0.84, 5),\n (0.45, 0.12, 0.91, 5),\n (0.93, 0.13, 0.93, 8),\n (0.6, 0.15, 1.13, 4),\n (0.64, 0.1, 0.9, 4),\n (0.54, 0.13, 0.93, 10),\n (0.68, 0.14, 1.01, 10),\n (0.81, 0.15, 0.86, 3),\n (0.3, 0.19, 0.87, 8),\n (0.94, 0.16, 1.14, 9),\n (0.92, 0.18, 0.96, 5),\n (0.64, 0.13, 1.18, 3),\n (0.42, 0.14, 1.02, 7),\n (0.85, 0.13, 1.12, 5),\n (0.49, 0.19, 0.86, 10),\n (0.75, 0.16, 0.92, 8),\n (0.85, 0.17, 1.13, 7),\n (0.54, 0.15, 0.96, 8),\n (0.94, 0.19, 0.88, 6),\n (0.9, 0.2, 1.18, 3),\n (0.48, 0.17, 0.8, 8),\n (0.32, 0.11, 1.08, 10),\n (0.32, 0.1, 1.03, 7),\n (0.88, 0.19, 1.09, 8),\n (0.83, 0.19, 1.1, 4),\n (0.67, 0.13, 1.05, 10),\n (0.82, 0.2, 0.95, 7),\n (0.38, 0.1, 1.08, 4),\n (0.89, 0.13, 0.86, 10),\n (0.42, 0.19, 0.86, 6),\n (0.86, 0.19, 1.08, 10),\n (0.82, 0.18, 0.98, 8),\n (0.91, 0.11, 1.1, 6),\n (0.67, 0.1, 1.05, 9),\n (0.61, 0.2, 1.03, 5),\n (0.74, 0.19, 1.1, 3),\n (0.51, 0.19, 1.15, 3),\n (0.41, 0.13, 0.88, 7),\n (0.85, 0.1, 1.15, 3),\n (0.81, 0.14, 0.98, 5),\n (0.56, 0.19, 0.93, 8),\n (0.78, 0.13, 1.01, 3),\n (0.82, 0.14, 1.01, 4),\n (0.77, 0.17, 1.16, 7),\n (0.94, 0.2, 1.06, 6),\n (0.84, 0.17, 1.02, 8),\n (0.89, 0.16, 0.95, 8),\n (0.69, 0.13, 1.16, 4),\n (0.62, 0.17, 1.13, 6),\n (0.71, 0.1, 0.82, 4),\n (0.91, 0.12, 0.86, 7),\n (0.39, 0.12, 1.07, 3),\n (0.69, 0.12, 0.89, 5),\n (0.4, 0.2, 0.97, 5),\n (0.69, 0.11, 0.93, 9),\n (0.48, 0.11, 0.88, 9),\n (0.41, 0.18, 1.01, 6),\n (0.33, 0.19, 0.95, 10),\n (0.88, 0.18, 1.15, 10),\n (0.59, 0.18, 0.88, 9),\n (0.38, 0.19, 0.81, 9),\n (0.81, 0.11, 0.88, 9),\n (0.62, 0.15, 0.95, 8),\n (0.3, 0.19, 1.11, 4),\n (0.75, 0.16, 1.03, 6),\n (0.73, 0.11, 1.01, 9),\n (0.89, 0.15, 0.85, 7),\n (0.73, 0.17, 1.1, 9),\n (0.94, 0.19, 0.84, 4),\n (0.9, 0.1, 1.06, 8),\n (0.7, 0.18, 1.03, 5),\n (0.78, 0.17, 0.82, 5),\n (0.33, 0.12, 0.96, 8),\n (0.64, 0.14, 0.83, 3),\n (0.69, 0.19, 1.05, 6),\n (0.71, 0.15, 1.18, 5),\n (0.81, 0.16, 1.01, 6),\n (0.32, 0.12, 0.89, 5),\n (0.66, 0.15, 0.91, 6),\n (0.52, 0.18, 1.09, 7),\n (0.74, 0.18, 0.8, 3),\n (0.63, 0.19, 0.99, 4),\n (0.84, 0.1, 1.03, 3),\n (0.93, 0.15, 0.94, 9),\n (0.5, 0.2, 1.16, 4),\n (0.58, 0.18, 1.03, 5),\n (0.57, 0.12, 1.14, 5),\n (0.68, 0.14, 1.12, 6),\n (0.66, 0.15, 0.88, 10),\n (0.55, 0.15, 0.97, 7),\n (0.86, 0.16, 1.01, 10),\n (0.83, 0.12, 0.89, 7),\n (0.43, 0.1, 1.09, 4),\n (0.57, 0.15, 0.92, 10),\n (0.67, 0.19, 1.15, 6),\n (0.73, 0.17, 1.18, 7),\n (0.45, 0.2, 1.15, 3),\n (0.63, 0.17, 1.11, 4),\n (0.79, 0.13, 0.96, 3),\n (0.53, 0.18, 1.17, 5),\n (0.44, 0.16, 0.8, 10),\n (0.62, 0.19, 1.15, 8),\n (0.72, 0.19, 1.05, 9),\n (0.95, 0.13, 0.93, 5),\n (0.46, 0.13, 0.95, 6),\n (0.9, 0.16, 1.01, 10),\n (0.69, 0.14, 0.91, 4),\n (0.44, 0.15, 1.0, 4),\n (0.55, 0.19, 1.13, 9),\n (0.37, 0.16, 1.15, 10),\n (0.59, 0.19, 0.91, 5),\n (0.66, 0.19, 1.11, 5),\n (0.64, 0.2, 0.99, 4),\n (0.38, 0.16, 1.0, 7),\n (0.51, 0.14, 0.99, 9),\n (0.33, 0.15, 1.08, 9),\n (0.54, 0.11, 1.1, 10),\n (0.69, 0.12, 1.2, 9),\n (0.89, 0.15, 1.13, 8),\n (0.58, 0.13, 0.93, 5),\n (0.79, 0.13, 1.08, 7),\n (0.82, 0.18, 0.87, 4),\n (0.38, 0.13, 1.01, 4),\n (0.33, 0.18, 0.94, 8),\n (0.73, 0.13, 0.9, 6),\n (0.3, 0.13, 0.95, 6),\n (0.36, 0.18, 1.16, 10),\n (0.65, 0.11, 1.11, 6),\n (0.78, 0.11, 1.06, 4),\n (0.81, 0.18, 0.92, 8),\n (0.86, 0.1, 1.03, 7),\n (0.95, 0.14, 0.85, 10),\n (0.52, 0.16, 1.17, 5),\n (0.82, 0.18, 1.17, 4),\n (0.75, 0.13, 1.07, 9),\n (0.53, 0.1, 0.88, 5),\n (0.91, 0.13, 0.95, 4),\n (0.81, 0.19, 0.95, 6),\n (0.49, 0.15, 0.91, 3),\n (0.68, 0.13, 0.87, 7),\n (0.52, 0.1, 1.14, 7),\n (0.55, 0.15, 0.85, 9),\n (0.48, 0.1, 0.84, 5),\n (0.3, 0.18, 0.84, 4),\n (0.77, 0.17, 1.05, 8),\n (0.75, 0.19, 1.07, 5),\n (0.5, 0.1, 0.97, 5),\n (0.62, 0.15, 0.81, 5),\n (0.79, 0.17, 0.88, 9),\n (0.93, 0.14, 0.88, 6),\n (0.36, 0.2, 1.07, 6),\n (0.8, 0.18, 1.05, 9),\n (0.69, 0.15, 1.14, 4),\n (0.83, 0.16, 1.12, 3),\n (0.43, 0.15, 0.95, 5),\n (0.76, 0.17, 0.82, 5),\n (0.7, 0.2, 0.88, 5),\n (0.86, 0.16, 1.07, 8),\n (0.82, 0.14, 1.01, 5),\n (0.31, 0.17, 0.9, 8),\n (0.71, 0.14, 0.88, 3),\n (0.42, 0.1, 1.04, 8),\n (0.9, 0.2, 1.04, 4),\n (0.86, 0.15, 0.96, 7),\n (0.76, 0.14, 1.18, 3),\n (0.82, 0.19, 1.12, 4),\n (0.39, 0.2, 1.06, 3),\n (0.33, 0.16, 0.94, 5),\n (0.45, 0.12, 1.03, 10),\n (0.37, 0.16, 0.92, 10),\n (0.93, 0.2, 0.86, 5),\n (0.51, 0.13, 1.0, 8),\n (0.66, 0.19, 1.08, 5),\n (0.57, 0.2, 1.19, 9),\n (0.62, 0.11, 1.1, 8),\n (0.37, 0.18, 1.13, 4),\n (0.94, 0.18, 1.0, 3),\n (0.66, 0.14, 0.95, 10),\n (0.8, 0.12, 0.84, 5),\n (0.82, 0.1, 0.88, 4),\n (0.73, 0.12, 1.0, 5),\n (0.49, 0.15, 0.85, 10),\n (0.52, 0.15, 0.9, 5),\n (0.4, 0.12, 0.96, 10),\n (0.47, 0.1, 0.83, 7),\n (0.67, 0.2, 0.93, 10),\n (0.39, 0.2, 0.88, 3),\n (0.89, 0.18, 1.02, 3),\n (0.47, 0.18, 0.86, 10),\n (0.45, 0.1, 0.8, 9),\n (0.92, 0.14, 0.85, 4),\n (0.91, 0.18, 1.01, 9),\n (0.37, 0.1, 0.98, 10),\n (0.76, 0.17, 0.94, 8),\n (0.4, 0.15, 0.8, 7),\n (0.5, 0.13, 0.96, 3),\n (0.85, 0.16, 1.13, 3),\n (0.57, 0.17, 1.14, 3),\n (0.32, 0.17, 0.89, 6),\n (0.77, 0.2, 1.16, 3),\n (0.62, 0.1, 0.98, 6),\n (0.51, 0.12, 0.99, 4),\n (0.62, 0.18, 1.19, 4),\n (0.44, 0.14, 0.87, 4),\n (0.49, 0.18, 0.91, 4),\n (0.95, 0.19, 1.06, 8),\n (0.66, 0.15, 0.92, 5),\n (0.95, 0.19, 1.19, 4),\n (0.79, 0.1, 0.89, 9),\n (0.51, 0.13, 0.85, 4),\n (0.84, 0.2, 1.19, 10),\n (0.43, 0.14, 0.9, 8),\n (0.78, 0.16, 0.96, 5),\n (0.83, 0.11, 0.84, 4),\n (0.43, 0.14, 0.83, 8),\n (0.48, 0.18, 0.94, 5),\n (0.66, 0.1, 0.9, 7),\n (0.45, 0.15, 1.0, 7),\n (0.35, 0.14, 1.1, 8),\n (0.62, 0.1, 1.19, 6),\n (0.71, 0.11, 1.1, 6),\n (0.94, 0.17, 0.99, 4),\n (0.86, 0.16, 0.91, 10),\n (0.95, 0.11, 1.16, 7),\n (0.44, 0.1, 1.09, 3),\n (0.9, 0.11, 1.04, 5),\n (0.82, 0.13, 0.83, 4),\n (0.95, 0.2, 0.98, 8),\n (0.75, 0.1, 1.13, 6),\n (0.51, 0.17, 1.15, 10),\n (0.6, 0.11, 1.12, 4),\n (0.59, 0.19, 0.94, 4),\n (0.3, 0.13, 1.04, 10),\n (0.34, 0.13, 0.98, 10),\n (0.82, 0.16, 1.02, 4),\n (0.38, 0.12, 1.2, 5),\n (0.36, 0.16, 1.02, 6),\n (0.46, 0.1, 1.03, 8),\n (0.51, 0.12, 0.95, 4),\n (0.93, 0.16, 1.05, 5),\n (0.89, 0.16, 1.17, 6),\n (0.68, 0.12, 0.9, 4),\n (0.31, 0.14, 1.07, 3),\n (0.64, 0.15, 0.94, 3),\n (0.36, 0.13, 1.15, 10),\n (0.63, 0.1, 0.89, 6),\n (0.41, 0.2, 1.1, 5),\n (0.31, 0.15, 0.94, 9),\n (0.66, 0.18, 0.85, 6),\n (0.46, 0.12, 1.05, 7),\n (0.3, 0.13, 0.93, 9),\n (0.92, 0.12, 0.84, 9),\n (0.42, 0.19, 0.93, 7),\n (0.54, 0.12, 1.11, 3),\n (0.65, 0.17, 1.08, 9),\n (0.62, 0.11, 0.82, 10),\n (0.48, 0.14, 1.14, 9),\n (0.32, 0.11, 1.15, 9),\n (0.95, 0.11, 0.91, 5),\n (0.43, 0.11, 1.01, 9),\n (0.79, 0.2, 1.07, 4),\n (0.36, 0.16, 0.95, 7),\n (0.9, 0.14, 0.8, 10),\n (0.44, 0.1, 1.05, 3),\n (0.62, 0.13, 0.86, 7),\n (0.95, 0.2, 0.81, 7),\n (0.3, 0.2, 1.16, 4),\n (0.9, 0.12, 0.94, 10),\n (0.42, 0.1, 1.11, 6),\n (0.42, 0.16, 1.08, 4),\n (0.55, 0.18, 0.83, 7),\n (0.66, 0.18, 1.13, 6),\n (0.88, 0.11, 1.0, 6),\n (0.65, 0.12, 0.89, 5),\n (0.35, 0.13, 0.99, 8),\n (0.67, 0.17, 0.9, 6),\n (0.75, 0.19, 1.12, 10),\n (0.67, 0.14, 0.93, 10),\n (0.74, 0.17, 0.8, 8),\n (0.71, 0.2, 1.01, 10),\n (0.51, 0.15, 0.9, 4),\n (0.63, 0.16, 0.85, 10),\n (0.92, 0.13, 1.15, 4),\n (0.85, 0.12, 1.19, 4),\n (0.85, 0.12, 1.16, 10),\n (0.4, 0.2, 0.93, 10),\n (0.35, 0.19, 0.85, 5),\n (0.58, 0.12, 0.89, 4),\n (0.88, 0.12, 0.8, 6),\n (0.3, 0.14, 1.06, 7),\n (0.68, 0.2, 1.04, 3),\n (0.38, 0.16, 0.88, 9),\n (0.54, 0.17, 0.8, 4),\n (0.91, 0.1, 0.86, 7),\n (0.71, 0.12, 1.15, 6),\n (0.51, 0.16, 0.93, 8),\n (0.4, 0.13, 1.07, 10),\n (0.95, 0.1, 0.85, 9),\n (0.34, 0.19, 1.12, 3),\n (0.72, 0.15, 1.18, 10),\n (0.45, 0.11, 0.81, 7),\n (0.35, 0.1, 1.06, 6),\n (0.6, 0.11, 0.9, 3),\n (0.43, 0.15, 1.13, 4),\n (0.69, 0.12, 0.85, 4),\n (0.48, 0.2, 1.11, 5),\n (0.36, 0.14, 1.05, 6),\n (0.45, 0.18, 0.84, 10),\n (0.35, 0.2, 0.99, 7),\n (0.75, 0.13, 1.13, 6),\n (0.82, 0.13, 1.15, 9),\n (0.44, 0.17, 0.97, 3),\n (0.6, 0.1, 0.88, 9),\n (0.81, 0.13, 1.01, 7),\n (0.49, 0.19, 1.1, 4),\n (0.62, 0.18, 0.93, 10),\n (0.92, 0.11, 0.93, 4),\n (0.65, 0.11, 1.09, 6),\n (0.6, 0.18, 0.89, 10),\n (0.67, 0.15, 0.84, 7),\n (0.56, 0.11, 0.91, 10),\n (0.67, 0.1, 0.84, 9),\n (0.56, 0.11, 1.16, 10),\n (0.59, 0.12, 0.85, 10),\n (0.85, 0.12, 1.2, 9),\n (0.39, 0.15, 1.08, 5),\n (0.71, 0.11, 0.81, 9),\n (0.39, 0.11, 0.89, 9),\n (0.41, 0.19, 0.92, 10),\n (0.66, 0.11, 0.81, 7),\n (0.71, 0.12, 0.99, 4),\n (0.85, 0.13, 1.12, 8),\n (0.62, 0.13, 1.04, 4),\n (0.6, 0.16, 0.96, 7),\n (0.87, 0.13, 0.92, 3),\n (0.33, 0.17, 1.16, 5),\n (0.39, 0.12, 1.05, 3),\n (0.45, 0.19, 1.1, 10),\n (0.7, 0.2, 1.06, 7),\n (0.77, 0.19, 0.84, 5),\n (0.59, 0.11, 1.13, 4),\n (0.85, 0.14, 0.83, 8),\n (0.56, 0.15, 0.97, 9),\n (0.63, 0.12, 0.93, 5),\n (0.42, 0.14, 0.87, 9),\n (0.65, 0.11, 0.93, 4),\n (0.72, 0.16, 0.98, 6),\n (0.75, 0.12, 1.07, 4),\n (0.62, 0.11, 0.95, 6),\n (0.68, 0.11, 1.17, 5),\n (0.31, 0.1, 0.9, 6),\n (0.93, 0.18, 1.17, 10),\n (0.69, 0.1, 1.07, 8),\n (0.33, 0.16, 0.93, 7),\n (0.51, 0.13, 1.15, 5),\n (0.69, 0.14, 1.06, 6),\n (0.79, 0.11, 1.19, 10),\n (0.59, 0.11, 1.11, 5),\n (0.74, 0.12, 0.99, 8),\n (0.95, 0.13, 1.12, 4),\n (0.62, 0.14, 0.93, 10),\n (0.64, 0.11, 1.12, 9),\n (0.48, 0.11, 0.82, 5),\n (0.45, 0.14, 1.14, 4),\n (0.47, 0.13, 1.02, 3),\n (0.38, 0.1, 1.01, 7),\n (0.39, 0.18, 1.04, 7),\n (0.34, 0.14, 0.87, 4),\n (0.6, 0.12, 1.14, 5),\n (0.33, 0.17, 0.96, 3),\n (0.73, 0.18, 0.82, 6),\n (0.75, 0.12, 0.87, 9),\n (0.43, 0.16, 1.05, 9),\n (0.3, 0.17, 0.94, 8),\n (0.34, 0.16, 1.03, 7),\n (0.94, 0.14, 0.94, 8),\n (0.31, 0.15, 0.86, 7),\n (0.54, 0.13, 1.08, 10),\n (0.77, 0.19, 1.06, 9),\n (0.92, 0.16, 1.14, 4),\n (0.65, 0.15, 1.07, 5),\n (0.75, 0.19, 0.81, 7),\n (0.59, 0.12, 1.19, 8),\n (0.38, 0.15, 1.15, 3),\n (0.46, 0.16, 1.05, 7),\n (0.61, 0.1, 0.98, 7),\n (0.3, 0.2, 0.9, 5),\n (0.8, 0.13, 0.94, 9),\n (0.52, 0.16, 1.11, 5),\n (0.66, 0.16, 0.99, 10),\n (0.6, 0.19, 1.01, 9),\n (0.48, 0.16, 0.8, 10),\n (0.9, 0.13, 1.02, 4),\n (0.45, 0.19, 0.91, 4),\n (0.6, 0.14, 0.88, 10),\n (0.57, 0.16, 0.9, 6),\n (0.6, 0.17, 1.18, 6),\n (0.67, 0.15, 0.97, 10),\n (0.65, 0.13, 1.1, 5),\n (0.4, 0.14, 0.87, 3),\n (0.65, 0.2, 0.84, 5),\n (0.38, 0.13, 0.91, 7),\n (0.36, 0.14, 1.0, 10),\n (0.48, 0.17, 1.01, 5),\n (0.45, 0.14, 1.15, 7),\n (0.6, 0.1, 0.93, 5),\n (0.31, 0.17, 0.84, 5),\n (0.74, 0.19, 0.99, 8),\n (0.61, 0.1, 0.91, 5),\n (0.33, 0.19, 0.93, 4),\n (0.38, 0.13, 1.13, 8),\n (0.69, 0.2, 0.82, 8),\n (0.48, 0.11, 1.04, 5),\n (0.74, 0.17, 1.05, 6),\n (0.91, 0.17, 0.82, 4),\n (0.66, 0.18, 1.16, 4),\n (0.75, 0.1, 0.91, 4),\n (0.5, 0.16, 1.03, 5),\n (0.63, 0.2, 0.88, 8),\n (0.3, 0.13, 0.91, 9),\n (0.8, 0.13, 0.85, 4),\n (0.35, 0.11, 1.1, 5),\n (0.48, 0.18, 1.12, 10),\n (0.45, 0.15, 0.81, 9),\n (0.74, 0.18, 0.96, 5),\n (0.67, 0.17, 0.97, 5),\n (0.34, 0.13, 0.87, 5),\n (0.67, 0.2, 1.15, 5),\n (0.73, 0.13, 0.95, 10),\n (0.71, 0.17, 1.15, 8),\n (0.93, 0.15, 1.07, 8),\n (0.5, 0.11, 0.84, 8),\n (0.75, 0.14, 1.05, 3),\n (0.72, 0.11, 0.94, 9),\n (0.89, 0.12, 0.81, 6),\n (0.94, 0.17, 1.13, 9),\n (0.37, 0.19, 1.13, 5),\n (0.53, 0.13, 0.84, 3),\n (0.79, 0.17, 0.9, 6),\n (0.79, 0.11, 1.09, 9),\n (0.38, 0.19, 0.9, 7),\n (0.44, 0.12, 1.11, 6),\n (0.42, 0.17, 0.96, 6),\n (0.43, 0.18, 1.16, 9),\n (0.65, 0.13, 0.89, 4),\n (0.59, 0.11, 1.12, 8),\n (0.71, 0.2, 0.98, 9),\n (0.92, 0.2, 1.08, 7),\n (0.54, 0.13, 0.95, 4),\n (0.73, 0.1, 1.04, 8),\n (0.83, 0.12, 0.87, 9),\n (0.36, 0.1, 1.07, 8),\n (0.94, 0.2, 1.09, 5),\n (0.51, 0.11, 0.84, 8),\n (0.59, 0.1, 0.88, 10),\n (0.44, 0.19, 0.85, 5),\n (0.89, 0.18, 1.11, 10),\n (0.69, 0.11, 1.03, 9),\n (0.87, 0.11, 1.06, 9),\n (0.37, 0.11, 0.83, 5),\n (0.44, 0.11, 0.96, 5),\n (0.52, 0.16, 1.16, 4),\n (0.54, 0.14, 0.82, 6),\n (0.43, 0.15, 0.91, 9),\n (0.74, 0.12, 1.11, 8),\n (0.59, 0.13, 1.2, 4),\n (0.34, 0.14, 1.01, 5),\n (0.34, 0.17, 0.93, 5),\n (0.38, 0.17, 0.89, 3),\n (0.87, 0.13, 1.17, 9),\n (0.87, 0.13, 1.01, 9),\n (0.55, 0.12, 1.12, 8),\n (0.57, 0.11, 0.87, 6),\n (0.31, 0.16, 0.83, 10),\n (0.53, 0.17, 0.97, 10),\n (0.42, 0.19, 0.84, 3),\n (0.83, 0.13, 0.95, 9),\n (0.38, 0.11, 0.93, 10),\n (0.76, 0.15, 1.05, 9),\n (0.51, 0.19, 1.18, 7),\n (0.92, 0.18, 0.82, 3),\n (0.31, 0.11, 0.96, 3),\n (0.6, 0.18, 1.14, 6),\n (0.61, 0.18, 0.92, 8),\n (0.6, 0.11, 0.97, 8),\n (0.95, 0.16, 1.15, 9),\n (0.56, 0.12, 1.08, 8),\n (0.51, 0.15, 1.15, 8),\n (0.67, 0.12, 1.18, 9),\n (0.44, 0.14, 1.06, 7),\n (0.33, 0.1, 0.88, 10),\n (0.83, 0.13, 0.88, 3),\n (0.45, 0.11, 1.12, 4),\n (0.85, 0.13, 0.84, 5),\n (0.78, 0.15, 1.09, 7),\n (0.57, 0.13, 0.8, 3),\n (0.61, 0.11, 0.9, 7),\n (0.86, 0.2, 1.05, 3),\n (0.54, 0.16, 0.97, 8),\n (0.46, 0.17, 1.15, 7),\n (0.62, 0.19, 1.05, 5),\n (0.69, 0.1, 0.95, 7),\n (0.6, 0.16, 1.05, 7),\n (0.83, 0.1, 1.07, 7),\n (0.77, 0.13, 1.07, 3),\n (0.4, 0.18, 0.89, 8),\n (0.71, 0.14, 0.92, 8),\n (0.57, 0.12, 1.1, 6),\n (0.88, 0.14, 0.9, 6),\n (0.37, 0.11, 1.01, 8),\n (0.63, 0.11, 0.84, 9),\n (0.51, 0.17, 0.93, 5),\n (0.67, 0.15, 0.93, 4),\n (0.46, 0.2, 1.14, 4),\n (0.68, 0.17, 1.15, 6),\n (0.83, 0.11, 0.87, 7),\n (0.71, 0.15, 0.94, 10),\n (0.44, 0.18, 0.82, 6),\n (0.87, 0.14, 1.16, 9),\n (0.92, 0.19, 0.93, 10),\n (0.4, 0.19, 1.14, 8),\n (0.39, 0.15, 1.18, 3),\n (0.49, 0.16, 1.06, 10),\n (0.5, 0.12, 1.19, 5),\n (0.39, 0.1, 1.13, 3),\n (0.53, 0.15, 1.07, 8),\n (0.92, 0.13, 1.16, 5),\n (0.72, 0.17, 0.95, 3),\n (0.45, 0.18, 0.94, 4),\n (0.87, 0.18, 0.99, 5),\n (0.5, 0.18, 1.12, 3),\n (0.94, 0.16, 1.07, 10),\n (0.75, 0.13, 1.02, 10),\n (0.57, 0.19, 0.84, 10),\n (0.45, 0.12, 1.11, 7),\n (0.55, 0.19, 0.96, 5),\n (0.77, 0.12, 0.99, 7),\n (0.68, 0.1, 1.12, 10),\n (0.65, 0.17, 1.11, 7),\n (0.32, 0.17, 0.86, 4),\n (0.67, 0.11, 1.18, 4),\n (0.61, 0.13, 0.93, 3),\n (0.9, 0.15, 0.87, 9),\n (0.43, 0.18, 1.19, 3),\n (0.54, 0.11, 1.06, 5),\n (0.66, 0.2, 1.05, 7),\n (0.53, 0.11, 0.87, 8),\n (0.37, 0.17, 1.17, 6),\n (0.44, 0.16, 1.07, 7),\n (0.93, 0.1, 1.2, 9),\n (0.32, 0.13, 1.15, 9),\n (0.72, 0.13, 1.11, 10),\n (0.53, 0.11, 1.06, 5),\n (0.56, 0.15, 0.95, 4),\n (0.42, 0.14, 1.03, 10),\n (0.34, 0.17, 0.94, 8),\n (0.62, 0.15, 1.02, 7),\n (0.52, 0.14, 0.95, 7),\n (0.45, 0.18, 0.86, 5),\n (0.67, 0.1, 1.17, 9),\n (0.36, 0.12, 0.8, 6),\n (0.64, 0.15, 1.1, 10),\n (0.74, 0.11, 0.96, 8),\n (0.35, 0.17, 1.12, 5),\n (0.46, 0.16, 0.91, 7),\n (0.82, 0.1, 1.14, 7),\n (0.78, 0.14, 0.87, 6),\n (0.42, 0.11, 0.95, 9),\n (0.63, 0.19, 0.96, 3),\n (0.41, 0.19, 1.0, 4),\n (0.59, 0.19, 0.92, 8),\n (0.68, 0.2, 0.85, 8),\n (0.68, 0.2, 0.82, 8),\n (0.57, 0.13, 1.01, 6),\n (0.4, 0.11, 1.18, 6),\n (0.74, 0.12, 1.18, 7),\n (0.79, 0.13, 1.06, 7),\n (0.53, 0.18, 1.1, 6),\n (0.37, 0.15, 1.15, 9),\n (0.85, 0.17, 0.93, 4),\n (0.85, 0.15, 0.94, 10),\n (0.51, 0.17, 0.84, 5),\n (0.5, 0.17, 0.98, 7),\n (0.57, 0.19, 1.11, 4),\n (0.88, 0.14, 1.06, 8),\n (0.72, 0.11, 0.98, 10),\n (0.67, 0.19, 1.1, 8),\n (0.55, 0.18, 1.1, 6),\n (0.56, 0.14, 1.18, 10),\n (0.95, 0.12, 1.03, 5),\n (0.43, 0.16, 0.83, 4),\n (0.42, 0.16, 0.87, 9),\n (0.89, 0.13, 0.84, 7),\n (0.59, 0.14, 0.9, 5),\n (0.6, 0.11, 0.87, 7),\n (0.33, 0.1, 0.96, 6),\n (0.61, 0.13, 0.9, 4),\n (0.48, 0.2, 0.87, 5),\n (0.52, 0.1, 0.89, 8),\n (0.61, 0.11, 1.02, 9),\n (0.71, 0.14, 0.85, 10),\n (0.54, 0.11, 0.97, 9),\n (0.75, 0.2, 1.1, 4),\n (0.38, 0.1, 0.87, 9),\n (0.64, 0.14, 0.86, 3),\n (0.47, 0.15, 0.9, 5),\n (0.59, 0.19, 1.15, 7),\n (0.61, 0.15, 1.08, 7),\n (0.42, 0.19, 0.81, 8),\n (0.65, 0.18, 0.89, 4),\n (0.85, 0.17, 0.9, 7),\n (0.36, 0.13, 1.0, 3),\n (0.35, 0.14, 0.84, 7),\n (0.45, 0.17, 0.94, 6),\n (0.89, 0.11, 1.2, 10),\n (0.49, 0.2, 1.19, 8),\n (0.44, 0.13, 1.06, 10),\n (0.8, 0.18, 0.88, 5),\n (0.82, 0.13, 0.91, 10),\n (0.66, 0.13, 1.0, 5),\n (0.68, 0.13, 1.11, 7),\n (0.62, 0.19, 0.96, 7),\n (0.48, 0.13, 0.98, 8),\n (0.91, 0.11, 0.96, 6),\n (0.89, 0.13, 0.85, 9),\n (0.57, 0.16, 1.05, 5),\n (0.77, 0.12, 0.86, 9),\n (0.45, 0.11, 1.08, 9),\n (0.64, 0.14, 1.11, 8),\n (0.69, 0.19, 0.83, 6),\n (0.43, 0.17, 1.13, 9),\n (0.92, 0.12, 1.2, 6),\n (0.58, 0.13, 0.96, 3),\n (0.85, 0.1, 0.88, 5),\n (0.56, 0.11, 1.04, 4),\n (0.75, 0.15, 0.91, 10),\n (0.76, 0.18, 0.97, 3),\n (0.3, 0.12, 1.05, 4),\n (0.52, 0.1, 1.18, 7),\n (0.5, 0.19, 0.88, 7),\n (0.81, 0.13, 1.15, 5),\n (0.5, 0.16, 0.84, 7),\n (0.32, 0.19, 0.83, 6),\n (0.84, 0.11, 0.82, 3),\n (0.71, 0.18, 1.12, 4),\n (0.93, 0.13, 0.94, 5),\n (0.83, 0.17, 1.06, 4),\n (0.39, 0.13, 0.95, 3),\n (0.86, 0.16, 1.15, 5),\n (0.69, 0.1, 0.82, 8),\n (0.92, 0.15, 1.16, 3),\n (0.63, 0.17, 0.92, 5),\n (0.88, 0.13, 1.03, 6),\n (0.85, 0.13, 1.02, 6),\n (0.44, 0.1, 0.85, 5),\n (0.85, 0.15, 1.12, 6),\n (0.82, 0.18, 0.82, 10),\n (0.81, 0.15, 1.07, 9),\n (0.89, 0.16, 0.95, 10),\n (0.54, 0.16, 0.88, 10),\n (0.91, 0.15, 0.84, 9),\n (0.58, 0.2, 0.85, 4),\n (0.71, 0.17, 1.08, 5),\n (0.43, 0.1, 0.9, 10),\n (0.47, 0.16, 1.06, 10),\n (0.72, 0.16, 1.06, 7),\n (0.39, 0.1, 0.87, 4),\n (0.64, 0.2, 0.88, 10),\n (0.79, 0.14, 0.99, 7),\n (0.87, 0.16, 0.87, 7),\n (0.48, 0.2, 0.92, 9),\n (0.7, 0.1, 0.95, 8),\n (0.47, 0.13, 1.09, 7),\n (0.57, 0.18, 1.18, 5),\n (0.9, 0.17, 0.94, 8),\n (0.45, 0.14, 1.04, 10),\n (0.87, 0.13, 1.08, 3),\n (0.73, 0.15, 1.09, 8),\n (0.34, 0.13, 0.93, 10),\n (0.86, 0.13, 0.94, 4),\n (0.95, 0.16, 1.2, 3),\n (0.72, 0.16, 0.93, 10),\n (0.41, 0.13, 0.85, 9),\n (0.39, 0.14, 1.18, 9),\n (0.82, 0.18, 1.14, 4),\n (0.73, 0.14, 0.84, 8),\n (0.74, 0.12, 1.1, 5),\n (0.31, 0.2, 0.87, 5),\n (0.7, 0.15, 0.92, 9),\n (0.46, 0.16, 0.84, 7),\n (0.59, 0.13, 1.0, 5),\n (0.58, 0.1, 1.08, 6),\n (0.77, 0.15, 0.86, 4),\n (0.86, 0.15, 1.16, 7),\n (0.42, 0.17, 0.9, 8),\n (0.43, 0.18, 0.94, 8),\n (0.93, 0.16, 1.06, 6),\n (0.37, 0.13, 0.85, 9),\n (0.53, 0.17, 0.9, 10),\n (0.32, 0.16, 1.1, 4),\n (0.49, 0.14, 1.11, 3),\n (0.76, 0.17, 0.95, 4),\n (0.58, 0.15, 1.02, 9),\n (0.63, 0.2, 1.07, 7),\n (0.6, 0.2, 1.0, 5),\n (0.51, 0.1, 1.18, 8),\n (0.64, 0.1, 0.81, 7),\n (0.31, 0.15, 1.15, 3),\n (0.76, 0.2, 0.83, 7),\n (0.35, 0.19, 0.97, 4),\n (0.8, 0.16, 1.11, 5),\n (0.59, 0.15, 1.11, 5),\n (0.77, 0.13, 0.87, 8),\n (0.87, 0.16, 0.84, 9),\n (0.95, 0.15, 0.97, 9),\n (0.55, 0.15, 1.03, 6),\n (0.4, 0.14, 1.07, 9),\n (0.91, 0.13, 0.93, 7),\n (0.8, 0.19, 0.83, 4),\n (0.32, 0.15, 1.19, 6),\n (0.58, 0.15, 1.17, 3),\n (0.37, 0.15, 0.81, 9),\n (0.54, 0.18, 1.16, 4),\n (0.34, 0.13, 1.04, 4),\n (0.64, 0.1, 1.04, 8),\n (0.48, 0.1, 1.2, 8),\n (0.35, 0.12, 0.96, 9),\n (0.83, 0.12, 1.05, 4),\n (0.36, 0.13, 0.82, 6),\n (0.36, 0.11, 0.84, 7),\n (0.33, 0.1, 0.89, 5),\n (0.31, 0.19, 0.9, 7),\n (0.87, 0.19, 1.16, 5),\n (0.35, 0.1, 1.17, 9),\n (0.84, 0.11, 0.85, 10),\n (0.39, 0.17, 1.0, 9),\n (0.71, 0.17, 1.03, 10),\n (0.73, 0.14, 0.94, 7),\n (0.68, 0.16, 1.08, 3),\n (0.37, 0.14, 0.91, 5),\n (0.48, 0.11, 0.83, 4),\n (0.35, 0.16, 1.13, 5),\n (0.38, 0.18, 0.87, 5),\n (0.94, 0.12, 1.04, 9),\n (0.37, 0.14, 1.08, 9),\n (0.87, 0.16, 0.81, 6),\n (0.54, 0.11, 0.8, 9),\n (0.67, 0.13, 1.14, 5),\n (0.61, 0.13, 1.0, 7),\n (0.9, 0.16, 1.15, 10),\n (0.91, 0.12, 0.97, 7),\n (0.52, 0.11, 0.85, 3),\n (0.46, 0.11, 1.1, 10),\n (0.51, 0.17, 0.99, 3),\n (0.38, 0.19, 0.87, 5),\n (0.62, 0.11, 1.18, 10),\n (0.47, 0.18, 1.2, 3),\n (0.38, 0.13, 0.94, 4),\n (0.43, 0.18, 1.06, 6),\n (0.72, 0.1, 0.97, 5),\n (0.65, 0.18, 0.96, 6),\n (0.52, 0.15, 0.98, 3),\n (0.31, 0.18, 1.17, 6),\n (0.3, 0.18, 1.0, 7),\n (0.37, 0.14, 1.08, 7),\n (0.81, 0.19, 1.19, 5),\n (0.71, 0.2, 1.15, 7),\n (0.89, 0.2, 0.86, 8),\n (0.74, 0.12, 0.86, 9),\n (0.3, 0.16, 1.06, 7),\n (0.78, 0.15, 0.91, 5),\n (0.53, 0.11, 1.01, 4),\n (0.34, 0.12, 0.82, 9),\n (0.36, 0.17, 0.84, 3),\n (0.9, 0.16, 0.94, 8),\n (0.95, 0.14, 1.1, 9),\n (0.44, 0.12, 1.11, 8),\n (0.77, 0.19, 0.88, 9),\n (0.95, 0.19, 1.0, 3),\n (0.62, 0.15, 0.98, 5),\n (0.79, 0.2, 1.03, 10),\n (0.69, 0.12, 1.17, 5),\n (0.65, 0.14, 0.89, 7),\n (0.64, 0.11, 0.84, 10),\n (0.77, 0.1, 0.99, 10),\n (0.65, 0.13, 0.99, 10),\n (0.66, 0.1, 0.82, 5),\n (0.4, 0.12, 1.09, 5),\n (0.67, 0.2, 1.05, 6),\n (0.81, 0.15, 1.08, 10),\n (0.55, 0.11, 0.96, 7),\n (0.92, 0.14, 0.99, 9),\n (0.63, 0.18, 1.12, 3),\n (0.67, 0.17, 1.04, 5),\n (0.36, 0.19, 0.84, 4),\n (0.77, 0.18, 1.11, 10),\n (0.62, 0.16, 1.16, 3),\n (0.33, 0.13, 0.88, 5),\n (0.62, 0.18, 0.84, 7),\n (0.71, 0.2, 1.04, 7),\n (0.53, 0.16, 1.17, 8),\n (0.69, 0.17, 0.92, 6),\n (0.42, 0.13, 0.93, 8),\n (0.31, 0.18, 1.12, 10),\n (0.32, 0.1, 0.98, 8),\n (0.79, 0.16, 1.16, 9),\n (0.78, 0.19, 1.15, 9),\n (0.44, 0.2, 1.14, 6),\n (0.94, 0.12, 1.05, 4),\n (0.66, 0.12, 1.17, 9),\n (0.7, 0.2, 0.92, 8),\n (0.48, 0.18, 1.2, 9),\n (0.61, 0.12, 0.99, 7),\n (0.41, 0.12, 1.15, 3)]"
     },
     "execution_count": 7,
     "metadata": {},
     "output_type": "execute_result"
    }
   ],
   "source": [
    "list_of_tuples"
   ]
  },
  {
   "cell_type": "code",
   "execution_count": null,
   "metadata": {
    "pycharm": {
     "name": "#%%\n",
     "is_executing": true
    }
   },
   "outputs": [],
   "source": [
    "# A list to hold 1000 realizations of cases per year:\n",
    "cases_per_year_list = []\n",
    "\n",
    "# Big loop run:\n",
    "for tup in tqdm.tqdm(list_of_tuples, desc= 'tqdm() Progress Bar'):\n",
    "    # Initializing the model's object (and its predictions) to t=0:\n",
    "    model_1_ml = defining_model('Scenario3')\n",
    "    # Settings:\n",
    "    update_models_object(model_1_ml, tup)       # Updating the v3_efficiency and the proba for hosp\n",
    "    inv_level = tup[1] * pop_israel             # Updating the inventory level\n",
    "    years_for_model_run = tup[3]                # Updating the years for the model to run for\n",
    "\n",
    "    # Running the model for X years, in 6 months resolution\n",
    "    for i in range(years_for_model_run*2):\n",
    "        # Running until the vaccination month:\n",
    "        for j in range(1):\n",
    "            res_mdl_1_ml = model_1_ml.predict(\n",
    "                            days_in_season= 30,\n",
    "                            continuous_predict= True\n",
    "                            )\n",
    "            # Getting the proportion of transition, and the combinations that we vaccinate:\n",
    "            trans_prop, vaccinated_que = calc_trans_prop(vaccination_pq, res_mdl_1_ml, inv_level)\n",
    "            # Vaccinating (including the model update):\n",
    "            vaccinate(trans_prop, res_mdl_1_ml, vaccinated_que)\n",
    "\n",
    "        # Running the model until the end of the current \"single\" run (half a year)\n",
    "        for k in range(5):\n",
    "            res_mdl_1_ml = model_1_ml.predict(\n",
    "                days_in_season= 30,\n",
    "                continuous_predict= True\n",
    "            )\n",
    "    ## Calculating the cases per year index for every measurement:\n",
    "    tot_new_Is = np.add(res_mdl_1_ml['new_Is_1'].sum(axis=1) * pop_israel, res_mdl_1_ml['new_Is_2'].sum(axis=1) * pop_israel)\n",
    "    tot_new_H = np.add(res_mdl_1_ml['new_H_1'].sum(axis=1) * pop_israel, res_mdl_1_ml['new_H_2'].sum(axis=1) * pop_israel)\n",
    "    # Transferring to cumulative sum:\n",
    "    cumsum_tot_new_Is, cumsum_tot_new_H = np.cumsum(tot_new_Is), np.cumsum(tot_new_H)\n",
    "    # Performing the calculation itself:\n",
    "    cases_per_year_new_Is, cases_per_year_new_H = (cumsum_tot_new_Is[-1] - cumsum_tot_new_Is[528]) / years_for_model_run, (cumsum_tot_new_H[-1] - cumsum_tot_new_H[528]) / years_for_model_run\n",
    "    cases_per_year_list.append((cases_per_year_new_Is, cases_per_year_new_H))"
   ]
  },
  {
   "cell_type": "code",
   "execution_count": null,
   "metadata": {
    "pycharm": {
     "name": "#%%\n",
     "is_executing": true
    }
   },
   "outputs": [],
   "source": [
    "cases_per_year_list"
   ]
  },
  {
   "cell_type": "code",
   "execution_count": null,
   "metadata": {
    "pycharm": {
     "name": "#%%\n",
     "is_executing": true
    }
   },
   "outputs": [],
   "source": [
    "with open('cases_per_year_list.pickle', 'wb') as handle:\n",
    "    pickle.dump(cases_per_year_list, handle, protocol=pickle.HIGHEST_PROTOCOL)"
   ]
  }
 ],
 "metadata": {
  "kernelspec": {
   "display_name": "Python 3",
   "language": "python",
   "name": "python3"
  },
  "language_info": {
   "codemirror_mode": {
    "name": "ipython",
    "version": 3
   },
   "file_extension": ".py",
   "mimetype": "text/x-python",
   "name": "python",
   "nbconvert_exporter": "python",
   "pygments_lexer": "ipython3",
   "version": "3.8.5"
  },
  "toc": {
   "base_numbering": 1,
   "nav_menu": {},
   "number_sections": true,
   "sideBar": true,
   "skip_h1_title": false,
   "title_cell": "Table of Contents",
   "title_sidebar": "Contents",
   "toc_cell": false,
   "toc_position": {},
   "toc_section_display": true,
   "toc_window_display": false
  },
  "varInspector": {
   "cols": {
    "lenName": 16,
    "lenType": 16,
    "lenVar": 40
   },
   "kernels_config": {
    "python": {
     "delete_cmd_postfix": "",
     "delete_cmd_prefix": "del ",
     "library": "var_list.py",
     "varRefreshCmd": "print(var_dic_list())"
    },
    "r": {
     "delete_cmd_postfix": ") ",
     "delete_cmd_prefix": "rm(",
     "library": "var_list.r",
     "varRefreshCmd": "cat(var_dic_list()) "
    }
   },
   "types_to_exclude": [
    "module",
    "function",
    "builtin_function_or_method",
    "instance",
    "_Feature"
   ],
   "window_display": false
  }
 },
 "nbformat": 4,
 "nbformat_minor": 1
}