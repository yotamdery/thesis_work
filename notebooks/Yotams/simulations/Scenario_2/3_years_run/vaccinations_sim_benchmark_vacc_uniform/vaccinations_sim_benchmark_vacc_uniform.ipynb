{
 "cells": [
  {
   "cell_type": "code",
   "execution_count": 1,
   "metadata": {
    "collapsed": true
   },
   "outputs": [],
   "source": [
    "# Importing\n",
    "import itertools\n",
    "import sys\n",
    "import os\n",
    "import numpy as np\n",
    "import pandas as pd\n",
    "import pickle\n",
    "import SEIR_full as mdl\n",
    "from SEIR_full.indices import *\n",
    "from SEIR_full.parameters import *\n",
    "from SEIR_full.utils import *\n",
    "from SEIR_full.plot_utils import  *\n",
    "#from SEIR_full.model import mdl"
   ]
  },
  {
   "cell_type": "code",
   "execution_count": 2,
   "metadata": {
    "pycharm": {
     "name": "#%%\n"
    }
   },
   "outputs": [],
   "source": [
    "# Creating a directory for the images:\n",
    "sys.path.append(os.getcwd())\n",
    "if not os.path.exists(\"images\"):\n",
    "    os.mkdir(\"images\")"
   ]
  },
  {
   "cell_type": "markdown",
   "metadata": {
    "pycharm": {
     "name": "#%% md\n"
    }
   },
   "source": [
    "### Utils:"
   ]
  },
  {
   "cell_type": "code",
   "execution_count": 3,
   "metadata": {
    "pycharm": {
     "name": "#%%\n"
    }
   },
   "outputs": [],
   "source": [
    "# Short path for the data directory\n",
    "DATA_DIR = r'/Users/yotamdery/Old_Desktop/git/SEIR_model_COVID-main/Data'"
   ]
  },
  {
   "cell_type": "code",
   "execution_count": 4,
   "metadata": {
    "pycharm": {
     "name": "#%%\n"
    }
   },
   "outputs": [],
   "source": [
    "# Reading the indices of the model - adding an hint to declare it's from type Indices!\n",
    "with(open(DATA_DIR + '/parameters/indices.pickle', 'rb')) as openfile:\n",
    "    ind:Indices = pickle.load(openfile)"
   ]
  },
  {
   "cell_type": "code",
   "execution_count": 5,
   "metadata": {
    "pycharm": {
     "name": "#%%\n"
    }
   },
   "outputs": [],
   "source": [
    "# Create indices for the age groups for easy & automatic access to the results of the operation in the script:\n",
    "age_groups_ind = {'5-9':0, '10-29':1, '30-59':2, '60+':3}"
   ]
  },
  {
   "cell_type": "code",
   "execution_count": 6,
   "metadata": {
    "pycharm": {
     "name": "#%%\n"
    }
   },
   "outputs": [],
   "source": [
    "# Vaccination inventory - 3 options: equal to 25% of the israels' total population, 50%, and 75%:\n",
    "vaccination_inventory = [9345000 * 0.1, 9345000 * 0.15, 9345000 * 0.2]"
   ]
  },
  {
   "cell_type": "code",
   "execution_count": 7,
   "metadata": {
    "pycharm": {
     "name": "#%%\n"
    }
   },
   "outputs": [],
   "source": [
    "# Vaccination priority queue:\n",
    "vaccination_pq = [('High', '60+'), ('High', '30-59'), ('High', '10-29'), ('High', '5-9'),\n",
    "                   ('Low', '60+'), ('Low', '30-59'), ('Low', '10-29'), ('Low', '5-9')\n",
    "                  ]"
   ]
  },
  {
   "cell_type": "code",
   "execution_count": 8,
   "metadata": {
    "pycharm": {
     "name": "#%%\n"
    }
   },
   "outputs": [],
   "source": [
    "# Reading the neutralized vectors:\n",
    "# Alpha variant vector\n",
    "with open(DATA_DIR + '/parameters/neutralized_alpha_variant_vec.pickle', 'rb') as pickle_in:\n",
    "\tneutralized_alpha_variant_vec = pickle.load(pickle_in)\n",
    "\n",
    "# Delta variant vector\n",
    "with open(DATA_DIR + '/parameters/neutralized_delta_variant_vec.pickle', 'rb') as pickle_in:\n",
    "\tneutralized_delta_variant_vec = pickle.load(pickle_in)\n",
    "\n",
    "# Beta_lockdown vector\n",
    "with open(DATA_DIR + '/parameters/neutralized_lockdown_vec.pickle', 'rb') as pickle_in:\n",
    "\tneutralized_lockdown_vec = pickle.load(pickle_in)\n",
    "\n",
    "# Beta_school vector\n",
    "with open(DATA_DIR + '/parameters/neutralized_school_vec.pickle', 'rb') as pickle_in:\n",
    "\tneutralized_school_vec = pickle.load(pickle_in)\n",
    "\n",
    "# Isolation morbidity ratio vector\n",
    "with open(DATA_DIR + '/parameters/neutralized_isolation_morbidity_ratio_vector.pickle', 'rb') as pickle_in:\n",
    "\tneutralized_isolation_morbidity_ratio_vector = pickle.load(pickle_in)\n",
    "\n",
    "# zero vector to remove any transition from V_2 and S_2 to V_3\n",
    "with open(DATA_DIR + '/parameters/neutralized_transition_rate_to_V_3.pickle', 'rb') as pickle_in:\n",
    "\tneutralized_transition_vector = pickle.load(pickle_in)"
   ]
  },
  {
   "cell_type": "markdown",
   "metadata": {
    "pycharm": {
     "name": "#%% md\n"
    }
   },
   "source": [
    "###Functions:\n"
   ]
  },
  {
   "cell_type": "code",
   "execution_count": 9,
   "metadata": {
    "pycharm": {
     "name": "#%%\n"
    }
   },
   "outputs": [],
   "source": [
    "# Getting the reported unreported ratio\n",
    "def get_reported_unreported_ratio(scen):\n",
    "    if scen == 'Scenario2':\n",
    "        reported = 1\n",
    "        unreported = 2\n",
    "        reported_unreported = unreported / (reported + unreported)\n",
    "    return reported_unreported"
   ]
  },
  {
   "cell_type": "code",
   "execution_count": 10,
   "metadata": {
    "pycharm": {
     "name": "#%%\n"
    }
   },
   "outputs": [],
   "source": [
    "def risk_age_groups_mapping(wanted_mapping: tuple):\n",
    "    \"\"\" This function gets a wanted mapping (4 examined age groups to 9 original model's age groups or vice versa),\n",
    "    and returns a dictionary consist of the wanted mapping\n",
    "    \"\"\"\n",
    "    age_groups_mapping_dict = {}\n",
    "    # If the wanted mapping is 4 examined age groups to 9 original model's age groups:\n",
    "    if wanted_mapping == ('High', '4-to-9'):\n",
    "        age_groups_mapping_dict[('High', '5-9')] = [('High', '5-9')]\n",
    "        age_groups_mapping_dict[('High', '10-29')] = [('High', '10-19'), ('High', '20-29')]\n",
    "        age_groups_mapping_dict[('High', '30-59')] = [('High','30-39'), ('High','40-49'), ('High','50-59')]\n",
    "        age_groups_mapping_dict[('High', '60+')] = [('High', '60-69'), ('High', '70+')]\n",
    "\n",
    "    elif wanted_mapping == ('Low', '4-to-9'):\n",
    "        age_groups_mapping_dict[('Low', '5-9')] = [('Low', '5-9')]\n",
    "        age_groups_mapping_dict[('Low', '10-29')] = [('Low', '10-19'), ('Low', '20-29')]\n",
    "        age_groups_mapping_dict[('Low', '30-59')] = [('Low','30-39'), ('Low','40-49'), ('Low','50-59')]\n",
    "        age_groups_mapping_dict[('Low', '60+')] = [('Low', '60-69'), ('Low', '70+')]\n",
    "\n",
    "    # If the wanted mapping is 9 original model's age groups to 4 examined age groups:\n",
    "    elif wanted_mapping == ('High', '9-to-4'):\n",
    "        age_groups_mapping_dict[('High', '0-4')] = np.nan     # There's no corresponding age group among the 4 examined age-groups\n",
    "        age_groups_mapping_dict[('High', '5-9')] = ('High', '5-9')\n",
    "        age_groups_mapping_dict[('High', '10-19')] = ('High', '10-29')\n",
    "        age_groups_mapping_dict[('High', '20-29')] = ('High', '10-29')\n",
    "        age_groups_mapping_dict[('High', '30-39')] = ('High', '30-59')\n",
    "        age_groups_mapping_dict[('High', '40-49')] = ('High', '30-59')\n",
    "        age_groups_mapping_dict[('High', '50-59')] = ('High', '30-59')\n",
    "        age_groups_mapping_dict[('High', '60-69')] = ('High', '60+')\n",
    "        age_groups_mapping_dict[('High', '70+')] = ('High', '60+')\n",
    "\n",
    "    else:\n",
    "        age_groups_mapping_dict[('low', '0-4')] = np.nan     # There's no corresponding age group among the 4 examined age-groups\n",
    "        age_groups_mapping_dict[('low', '5-9')] = ('low', '5-9')\n",
    "        age_groups_mapping_dict[('low', '10-19')] = ('low', '10-29')\n",
    "        age_groups_mapping_dict[('low', '20-29')] = ('low', '10-29')\n",
    "        age_groups_mapping_dict[('low', '30-39')] = ('low', '30-59')\n",
    "        age_groups_mapping_dict[('low', '40-49')] = ('low', '30-59')\n",
    "        age_groups_mapping_dict[('low', '50-59')] = ('low', '30-59')\n",
    "        age_groups_mapping_dict[('low', '60-69')] = ('low', '60+')\n",
    "        age_groups_mapping_dict[('low', '70+')] = ('low', '60+')\n",
    "\n",
    "    return age_groups_mapping_dict"
   ]
  },
  {
   "cell_type": "code",
   "execution_count": 11,
   "metadata": {
    "pycharm": {
     "name": "#%%\n"
    }
   },
   "outputs": [],
   "source": [
    "def get_wanted_df(wanted_age_group):\n",
    "\t\"\"\" Gets the age-groups that we want to address our calculations to, and returns a sub-Dataframe containing only the relevant columns (the wanted age-groups columns)\"\"\"\n",
    "\t# Reading the pop per county file:\n",
    "\tcounty_pop = pd.read_csv(DATA_DIR + '/division_choice/30/population_per_county_age-group.csv')\n",
    "\t# Initializing the list with the county column, that will be picked anyway\n",
    "\twanted_columns = [county_pop.columns[0]]\n",
    "\t# Splitting the given age_group, creating list of integers. try-expect block to catch the 60+ column as well:\n",
    "\ttry:\n",
    "\t\twanted_age_group_splitted = list(map(int, wanted_age_group.split('-')))\n",
    "\texcept ValueError:\n",
    "\t\twanted_age_group_splitted = [60, 70]  # In order to pass the logic condition successfully\n",
    "\n",
    "\t# Iterating on the columns of the file and performing the condition logic:\n",
    "\tfor col in county_pop.columns[1:]:\n",
    "\t\t# Splitting the current column of the file. try-expect block to catch the 70+ column as well:\n",
    "\t\ttry:\n",
    "\t\t\tages_as_list = list(map(int, col.split('_')[1].split('-')))\n",
    "\t\texcept ValueError:\n",
    "\t\t\tages_as_list = [70]\n",
    "\t\t# If these conditions are met, take this column to be in the sub-df\n",
    "\t\tif ages_as_list[0] >= min(wanted_age_group_splitted) and ages_as_list[0] <= max(wanted_age_group_splitted):\n",
    "\t\t\twanted_columns.append(col)\n",
    "\n",
    "\treturn county_pop[wanted_columns]"
   ]
  },
  {
   "cell_type": "code",
   "execution_count": 12,
   "metadata": {
    "pycharm": {
     "name": "#%%\n"
    }
   },
   "outputs": [],
   "source": [
    "# Gets a dictionary to reduce (lambda, V_2 or S_2) and reduce its cardinality to consist only the relevant age-groups\n",
    "def calc_sub_dict(dict_to_reduce: dict, wanted_age_group: str):\n",
    "    sub_dict = {}\n",
    "    # Splitting the given age_group, creating list of integers. try-expect block to catch the 60+ group as well (if wanted):\n",
    "    try:\n",
    "        wanted_age_group_splitted = list(map(int, wanted_age_group.split('-')))\n",
    "    except ValueError:\n",
    "        wanted_age_group_splitted = [60, 70]    # In order to pass the logic condition successfully\n",
    "\n",
    "    for key, val in dict_to_reduce.items():\n",
    "        # Splitting the age group part of the key. try-expect block to catch the 70+ column from the file as well:\n",
    "        try:\n",
    "            if isinstance(key, str):   # If the dict_to_reduce keys are only on the age level\n",
    "                ages_as_list = list(map(int, key.split('-')))\n",
    "            elif isinstance(key, tuple):    # If the dict_to_reduce keys are on the region&age level (as lambda_t does) - take the second element (the age)\n",
    "                ages_as_list = list(map(int, key[1].split('-')))\n",
    "        except ValueError:\n",
    "            ages_as_list = [70]\n",
    "        # If these conditions are met, take this key-value pair to be in the sub-dict\n",
    "        if ages_as_list[0] >= min(wanted_age_group_splitted) and ages_as_list[0] <= max(wanted_age_group_splitted):\n",
    "            sub_dict[key] = val    # Converting from ndarray to float\n",
    "\n",
    "    return sub_dict"
   ]
  },
  {
   "cell_type": "code",
   "execution_count": 13,
   "metadata": {
    "pycharm": {
     "name": "#%%\n"
    }
   },
   "outputs": [],
   "source": [
    "def get_indexes_risk_age_combination(risk_age_group: tuple):\n",
    "    \"\"\"This function gets a tuple of (risk, 4_age_group) and returns the indexes of that combination as they are in the original model (including transformation to the 9 original age groups\n",
    "    e.g.: for ('High', '10-29'), returns the indexes for ('High', '10-19') + ('High', '20-29') \"\"\"\n",
    "    # Initializing the result list and the age groups mapper:\n",
    "    indexes_list_of_lists = []\n",
    "    four_to_nine_age_map = risk_age_groups_mapping((risk_age_group[0], '4-to-9'))\n",
    "    for val in four_to_nine_age_map[risk_age_group]:\n",
    "            indexes_list_of_lists.append(ind.risk_age_dict[val])\n",
    "    # Merging the list of lists to one list:\n",
    "    risk_indexes_list = [item for sublist in indexes_list_of_lists for item in sublist]\n",
    "    return sorted(risk_indexes_list)"
   ]
  },
  {
   "cell_type": "code",
   "execution_count": 14,
   "metadata": {
    "pycharm": {
     "name": "#%%\n"
    }
   },
   "outputs": [],
   "source": [
    "# Gets the compartment to aggregate, and returns the same compartment, stratified by the original age-groups\n",
    "def calc_aggregated_compartment_by_age_risk(compartment: np.array):\n",
    "    compartment_dict = {}\n",
    "    for risk_age in ind.risk_age_dict.keys():\n",
    "        compartment_dict[risk_age] = float(compartment[:, ind.risk_age_dict[risk_age]].sum(axis=1))\n",
    "    return compartment_dict"
   ]
  },
  {
   "cell_type": "code",
   "execution_count": 15,
   "metadata": {
    "pycharm": {
     "name": "#%%\n"
    }
   },
   "outputs": [],
   "source": [
    "# Gets the compartment dictionary (the compartment stratified by the old age-groups), and aggregates the compartment to the wanted age-group by returning a dict (e.g agg. V_2 for age group 30-59, using the sub-age-groups 30-39, 40-49, 50-59)\n",
    "def compartment_by_4_age_groups(compartment: dict, target_risk_age_group: tuple):\n",
    "    # Initiate the wanted mapping:\n",
    "    four_to_nine_age_map = risk_age_groups_mapping((target_risk_age_group[0], '4-to-9'))\n",
    "    # Initiate result dict to return:\n",
    "    agg_risk_4_groups_dict = {}\n",
    "    for risk_4_age_group in four_to_nine_age_map.keys():     # Iterating on each combination of (risk, 9 age-groups):\n",
    "        agg_risk_4_groups_dict[risk_4_age_group] = 0\n",
    "    # Performing the aggregation to the new dict - (risk, 4 age groups):\n",
    "    for key, val in four_to_nine_age_map.items():\n",
    "        for tup in val:\n",
    "            agg_risk_4_groups_dict[key] += compartment[tup]\n",
    "\n",
    "    return agg_risk_4_groups_dict"
   ]
  },
  {
   "cell_type": "code",
   "execution_count": 16,
   "metadata": {
    "pycharm": {
     "name": "#%%\n"
    }
   },
   "outputs": [],
   "source": [
    "def calc_comp_prop_for_age_risk(comp: str, curr_res_mdl_1_ml: dict, target_risk_age_group: tuple):\n",
    "    \"\"\"This function gets the target compartment and the current predictions of the current model,\n",
    "    and returns the compartment aggregated by the wanted combination of (age-group, risk)\"\"\"\n",
    "    # Getting the last day of the compartment:\n",
    "    comp_last_day = np.reshape(curr_res_mdl_1_ml[comp][-1, :], newshape=(1,540))\n",
    "    # Aggregate the compartment by (9 age groups, risk):\n",
    "    comp_agg_9_age_groups_risk = calc_aggregated_compartment_by_age_risk(comp_last_day)\n",
    "    # Aggregate the compartment by (4 age groups, risk):\n",
    "    comp_agg_4_age_groups_risk = compartment_by_4_age_groups(comp_agg_9_age_groups_risk, target_risk_age_group)\n",
    "    # Gets the relevant age group out of the 4 age groups, and summing on it to get the final proportion:\n",
    "    return comp_agg_4_age_groups_risk[target_risk_age_group]"
   ]
  },
  {
   "cell_type": "code",
   "execution_count": 17,
   "metadata": {
    "pycharm": {
     "name": "#%%\n"
    }
   },
   "outputs": [],
   "source": [
    "def update_compartment(curr_res_mdl_1_ml: dict, compartment: str, updated_array: np.array):\n",
    "    \"\"\"This function gets the current models' predictions, the compartment to update and the updated array, and updates the model object with the updated array\"\"\"\n",
    "    # Initiate settings:\n",
    "    curr_res_mdl_1_ml[compartment][-1] = updated_array\n",
    "    comp_as_list = []\n",
    "    # Changing the updated arrays to be lists of arrays (to allow the update of the model object):\n",
    "    for element in res_mdl_1_ml[compartment]:\n",
    "        comp_as_list.append(element)\n",
    "\n",
    "    # Performing the proper model update\n",
    "    model_1_ml.update({\n",
    "        compartment : comp_as_list\n",
    "    })"
   ]
  },
  {
   "cell_type": "code",
   "execution_count": 18,
   "metadata": {
    "pycharm": {
     "name": "#%%\n"
    }
   },
   "outputs": [],
   "source": [
    "# Defining the model - initializing it for t=0:\n",
    "def defining_model(scen):\n",
    "    model_1_ml_ = mdl.Model_behave(\n",
    "    ind= ind,\n",
    "    beta_j= cal_parameters[scen]['beta_j'],\n",
    "    beta_activity= cal_parameters[scen]['beta_activity'],\n",
    "    beta_school= cal_parameters[scen]['beta school'],\n",
    "    scen= scen\n",
    "    )\n",
    "    # Predicting without an assignment (there's no need for that)\n",
    "    res_mdl_1_ml_ = model_1_ml_.predict(\n",
    "                    days_in_season= 529,    # Num of days between 15/05/20 - 25/10/21\n",
    "                    shifting_12_days= True\n",
    "                )\n",
    "    # Updating the vectors to be able to run the model furthermore:\n",
    "    model_1_ml_.update({\n",
    "        'alpha_variant_vec':  neutralized_alpha_variant_vec,\n",
    "        'delta_variant_vec': neutralized_delta_variant_vec,\n",
    "        'isolation_morbidity_ratio_vector': neutralized_isolation_morbidity_ratio_vector,\n",
    "        'is_lockdown': neutralized_lockdown_vec,\n",
    "        'is_school': neutralized_school_vec,\n",
    "        'v2_to_v3_transition_t' : neutralized_transition_vector,\n",
    "        's_2_to_v3_transition_t' : neutralized_transition_vector\n",
    "    })\n",
    "    return model_1_ml_, res_mdl_1_ml_"
   ]
  },
  {
   "cell_type": "markdown",
   "metadata": {},
   "source": [
    "### calculating the transferring proportion:"
   ]
  },
  {
   "cell_type": "code",
   "execution_count": 19,
   "metadata": {
    "pycharm": {
     "name": "#%%\n"
    }
   },
   "outputs": [],
   "source": [
    "def calc_trans_prop(vaccination_pq_: list, curr_res_mdl_1_ml: dict, curr_inv_: float):\n",
    "    # Initializing the accumulated amount used and the pre-defined priority queue:\n",
    "    curr_inventory_used = 0\n",
    "    vaccination_pq_copy = vaccination_pq_.copy()\n",
    "    # Saving the combinations that we will vaccinate:\n",
    "    vaccinated_que_ = []\n",
    "    # Iterating until we cross the prior inventory level:\n",
    "    while (curr_inventory_used <= curr_inv_):\n",
    "        # Getting the current combination of (age_group, risk) from the pq:\n",
    "        current_age_risk = vaccination_pq_copy.pop(0)\n",
    "        # Getting the correspondent reported/unreported ratio for the Scenario:\n",
    "        reported_unreported = get_reported_unreported_ratio('Scenario2')\n",
    "        # Getting V2_j,r, S2_j,r proportions:\n",
    "        S_2_age_risk, V_2_age_risk, R_2_age_risk, R_1_age_risk = calc_comp_prop_for_age_risk('S_2', curr_res_mdl_1_ml, current_age_risk), \\\n",
    "                                                                 calc_comp_prop_for_age_risk('V_2', curr_res_mdl_1_ml, current_age_risk), \\\n",
    "                                                                 calc_comp_prop_for_age_risk('R_2', curr_res_mdl_1_ml, current_age_risk), \\\n",
    "                                                                 calc_comp_prop_for_age_risk('R_1', curr_res_mdl_1_ml, current_age_risk)\n",
    "        # Calculating the formula for num of needed vaccines:\n",
    "        count_vaccines_in_use = (((R_1_age_risk + R_2_age_risk) * reported_unreported) + S_2_age_risk + V_2_age_risk) * pop_israel\n",
    "        # Updating the accumulated used vaccines:\n",
    "        curr_inventory_used += count_vaccines_in_use\n",
    "        # Updating the vaccinated_que:\n",
    "        vaccinated_que_.append(current_age_risk)\n",
    "\n",
    "    final_trans_prop = curr_inv_ / curr_inventory_used\n",
    "    return final_trans_prop, vaccinated_que_"
   ]
  },
  {
   "cell_type": "code",
   "execution_count": 20,
   "metadata": {
    "pycharm": {
     "name": "#%%\n"
    }
   },
   "outputs": [],
   "source": [
    "### Vaccinating in booster (moving from S_2 and V_2 to V_3, including the model update):\n",
    "def vaccinate(trans_prop_: float, curr_res_mdl_1_ml: dict, vaccination_que: list):\n",
    "    ## initialize settings:\n",
    "    vaccination_que_copy = vaccination_que.copy()\n",
    "    trans_prop_copy = trans_prop_\n",
    "    reported_unreported = get_reported_unreported_ratio('Scenario2')\n",
    "    # Getting the last day of the compartments and V_3, saving it to a dictionary:\n",
    "    last_day_dict = {'S_2_last_day': np.reshape(curr_res_mdl_1_ml['S_2'][-1, :], newshape=(540) ),\n",
    "                     'V_2_last_day': np.reshape(curr_res_mdl_1_ml['V_2'][-1, :], newshape=(540) ),\n",
    "                     'V_3_last_day': np.reshape(curr_res_mdl_1_ml['V_3'][-1, :], newshape=(540) ),\n",
    "                     'R_1_last_day': np.reshape(curr_res_mdl_1_ml['R_1'][-1, :], newshape=(540) ),\n",
    "                     'R_2_last_day': np.reshape(curr_res_mdl_1_ml['R_2'][-1, :], newshape=(540) )}\n",
    "\n",
    "    # Iterating over the combinations of (risk, age_group) that we need to vaccinate, and moving the population, and updating the model:\n",
    "    for curr_risk_age in vaccination_que_copy:\n",
    "        # Getting the relevant indexes to operate in the correspondent locations of the compartment:\n",
    "        curr_risk_age_indexes = get_indexes_risk_age_combination(curr_risk_age)\n",
    "\n",
    "        ## Vaccinating from S_2 to V_3\n",
    "        S_2_last_day_updated, V_3_last_day_updated = vaccinating_from_V_2_S_2(last_day_dict['V_3_last_day'], last_day_dict['S_2_last_day'], trans_prop_copy, curr_risk_age_indexes)\n",
    "        # updating the results:\n",
    "        last_day_dict['V_3_last_day'], last_day_dict['S_2_last_day'] = V_3_last_day_updated, S_2_last_day_updated\n",
    "\n",
    "        ## Vaccinating from V_2 to V_3\n",
    "        V_2_last_day_updated, V_3_last_day_updated = vaccinating_from_V_2_S_2(last_day_dict['V_3_last_day'], last_day_dict['V_2_last_day'], trans_prop_copy, curr_risk_age_indexes)\n",
    "        # updating the results:\n",
    "        last_day_dict['V_3_last_day'], last_day_dict['V_2_last_day'] = V_3_last_day_updated, V_2_last_day_updated\n",
    "\n",
    "    update_compartment(curr_res_mdl_1_ml, 'V_2', last_day_dict['V_2_last_day'])\n",
    "    update_compartment(curr_res_mdl_1_ml, 'S_2', last_day_dict['S_2_last_day'])\n",
    "    update_compartment(curr_res_mdl_1_ml, 'V_3', last_day_dict['V_3_last_day'])"
   ]
  },
  {
   "cell_type": "markdown",
   "metadata": {},
   "source": [
    "# Starting with the vaccination effort"
   ]
  },
  {
   "cell_type": "markdown",
   "metadata": {},
   "source": [
    "#### Vaccinating at the 1st month - running model until 2nd month"
   ]
  },
  {
   "cell_type": "code",
   "execution_count": 21,
   "metadata": {
    "pycharm": {
     "name": "#%%\n"
    }
   },
   "outputs": [],
   "source": [
    "# Initializing lists to track the results, each element corresponds to an initial inventory level\n",
    "# Besides the res_mdl_list, each list will be in length of 20 X 6 - each value corresponds to each of the 6 months period and each month within it\n",
    "res_mdl_list, trans_prop_list, vaccinated_que_list = [], [[],[],[]], [[],[],[]]\n",
    "\n",
    "# Iterating on the inventory level:\n",
    "for i in range(len(vaccination_inventory)):\n",
    "    # Initializing the model's object (and its predictions) to t=0:\n",
    "    model_1_ml, res_mdl_1_ml = defining_model('Scenario2')\n",
    "    # Running the model with that specific inventory level for 3 years, in 6 months resolution (a single run - 6 months X 5 == 3 years):\n",
    "    for j in range(6):\n",
    "        # Current inventory for a \"single-run\" (6 months)\n",
    "        single_run_inv = vaccination_inventory[i]\n",
    "        for k in range(6):\n",
    "            # Running the model to the next month\n",
    "            res_mdl_1_ml = model_1_ml.predict(\n",
    "                                               days_in_season= 30,\n",
    "                                               continuous_predict= True\n",
    "                                             )\n",
    "            # Getting the proportion of transition, and the combinations that we vaccinate:\n",
    "            curr_inv = single_run_inv * 1/6     # inventory for the examined month\n",
    "            trans_prop, vaccinated_que = calc_trans_prop(vaccination_pq, res_mdl_1_ml, curr_inv)\n",
    "            # Adding the results of a specific inventory level and \"single-run\" period to the result lists:\n",
    "            trans_prop_list.append(trans_prop)\n",
    "            vaccinated_que_list.append(vaccinated_que)\n",
    "            # Vaccinating (including the model update):\n",
    "            vaccinate(trans_prop, res_mdl_1_ml, vaccinated_que)\n",
    "\n",
    "    # Adding the results of a specific inventory level over 10 years to the result list:\n",
    "    res_mdl_list.append(res_mdl_1_ml)\n",
    "\n",
    "## Creating a list of days in which we vaccinate for the plot:\n",
    "# 529 == the start day of the simulation, (t * 30) == the time delta until we perform the vaccinations, 529+3650 == running the model for 10 years, 30*6 == we vaccinate exactly every half a year:\n",
    "vaccination_days_t = [t for t in range(529, 529 + 1095, 30)]"
   ]
  },
  {
   "cell_type": "code",
   "execution_count": 22,
   "metadata": {
    "pycharm": {
     "name": "#%%\n"
    }
   },
   "outputs": [],
   "source": [
    "# Saving the results of the current month, the days of the vaccinations, the transforming proportion and the vaccinated queue:\n",
    "with open('res_mdl_list.pickle', 'wb') as handle:\n",
    "    pickle.dump(res_mdl_list, handle, protocol=pickle.HIGHEST_PROTOCOL)\n",
    "with open('vaccination_days.pickle', 'wb') as handle:\n",
    "    pickle.dump(vaccination_days_t, handle, protocol=pickle.HIGHEST_PROTOCOL)\n",
    "with open('trans_prop_list.pickle', 'wb') as handle:\n",
    "    pickle.dump(trans_prop_list, handle, protocol=pickle.HIGHEST_PROTOCOL)\n",
    "with open('vaccinated_que_list.pickle', 'wb') as handle:\n",
    "    pickle.dump(vaccinated_que_list, handle, protocol=pickle.HIGHEST_PROTOCOL)\n",
    "\n",
    "# # Reading results:\n",
    "# with open('res_mdl_list.pickle', 'rb') as handle:\n",
    "#     res_mdl_list = pickle.load(handle)\n",
    "# with open('vaccination_days.pickle', 'rb') as handle:\n",
    "#     vaccination_days_t =pickle.load(handle)\n",
    "# with open('trans_prop_list.pickle', 'rb') as handle:\n",
    "#     trans_prop_list = pickle.load(handle)\n",
    "# with open('vaccinated_que_list.pickle', 'rb') as handle:\n",
    "#     vaccinated_que_list = pickle.load(handle)"
   ]
  },
  {
   "cell_type": "code",
   "execution_count": 23,
   "metadata": {
    "pycharm": {
     "name": "#%%\n"
    }
   },
   "outputs": [],
   "source": [
    "# # Display the compartments trend for six months, including the vaccination date\n",
    "# plot_S_2_V_2_V_3_trend(res_mdl_list, vaccination_days_t, os.getcwd().split('/')[-1], t=1)"
   ]
  }
 ],
 "metadata": {
  "kernelspec": {
   "display_name": "Python 3",
   "language": "python",
   "name": "python3"
  },
  "language_info": {
   "codemirror_mode": {
    "name": "ipython",
    "version": 3
   },
   "file_extension": ".py",
   "mimetype": "text/x-python",
   "name": "python",
   "nbconvert_exporter": "python",
   "pygments_lexer": "ipython3",
   "version": "3.8.5"
  },
  "toc": {
   "base_numbering": 1,
   "nav_menu": {},
   "number_sections": true,
   "sideBar": true,
   "skip_h1_title": false,
   "title_cell": "Table of Contents",
   "title_sidebar": "Contents",
   "toc_cell": false,
   "toc_position": {},
   "toc_section_display": true,
   "toc_window_display": false
  },
  "varInspector": {
   "cols": {
    "lenName": 16,
    "lenType": 16,
    "lenVar": 40
   },
   "kernels_config": {
    "python": {
     "delete_cmd_postfix": "",
     "delete_cmd_prefix": "del ",
     "library": "var_list.py",
     "varRefreshCmd": "print(var_dic_list())"
    },
    "r": {
     "delete_cmd_postfix": ") ",
     "delete_cmd_prefix": "rm(",
     "library": "var_list.r",
     "varRefreshCmd": "cat(var_dic_list()) "
    }
   },
   "types_to_exclude": [
    "module",
    "function",
    "builtin_function_or_method",
    "instance",
    "_Feature"
   ],
   "window_display": false
  }
 },
 "nbformat": 4,
 "nbformat_minor": 1
}