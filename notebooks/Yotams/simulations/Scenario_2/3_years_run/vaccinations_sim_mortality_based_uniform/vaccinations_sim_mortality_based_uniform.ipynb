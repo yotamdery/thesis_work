{
 "cells": [
  {
   "cell_type": "code",
   "execution_count": 1,
   "metadata": {
    "collapsed": true
   },
   "outputs": [],
   "source": [
    "# Importing\n",
    "import itertools, os, sys\n",
    "import numpy as np\n",
    "import pandas as pd\n",
    "import pickle\n",
    "import SEIR_full as mdl\n",
    "from SEIR_full.indices import *\n",
    "from SEIR_full.parameters import *\n",
    "from SEIR_full.utils import *\n",
    "from SEIR_full.plot_utils import  *"
   ]
  },
  {
   "cell_type": "code",
   "execution_count": 2,
   "outputs": [],
   "source": [
    "# Creating a directory for the images:\n",
    "sys.path.append(os.getcwd())\n",
    "if not os.path.exists(\"images\"):\n",
    "    os.mkdir(\"images\")"
   ],
   "metadata": {
    "collapsed": false,
    "pycharm": {
     "name": "#%%\n"
    }
   }
  },
  {
   "cell_type": "markdown",
   "source": [
    "### Utils:"
   ],
   "metadata": {
    "collapsed": false,
    "pycharm": {
     "name": "#%% md\n"
    }
   }
  },
  {
   "cell_type": "code",
   "execution_count": 3,
   "outputs": [],
   "source": [
    "# Short path for the data directory\n",
    "DATA_DIR = r'/Users/yotamdery/Old_Desktop/git/SEIR_model_COVID-main/Data'"
   ],
   "metadata": {
    "collapsed": false,
    "pycharm": {
     "name": "#%%\n"
    }
   }
  },
  {
   "cell_type": "code",
   "execution_count": 4,
   "outputs": [],
   "source": [
    "# Reading the indices of the model - adding an hint to declare it's from type Indices!\n",
    "with(open(DATA_DIR + '/parameters/indices.pickle', 'rb')) as openfile:\n",
    "    ind:Indices = pickle.load(openfile)"
   ],
   "metadata": {
    "collapsed": false,
    "pycharm": {
     "name": "#%%\n"
    }
   }
  },
  {
   "cell_type": "code",
   "execution_count": 5,
   "outputs": [],
   "source": [
    "# Create indices for the age groups for easy & automatic access to the results of the operation in the script:\n",
    "age_groups_ind = {'5-9':0, '10-29':1, '30-59':2, '60+':3}"
   ],
   "metadata": {
    "collapsed": false,
    "pycharm": {
     "name": "#%%\n"
    }
   }
  },
  {
   "cell_type": "code",
   "execution_count": 6,
   "outputs": [],
   "source": [
    "# Vaccination inventory - 3 options: equal to 25% of the israels' total population, 50%, and 75%:\n",
    "vaccination_inventory = [9345000 * 0.1, 9345000 * 0.15, 9345000 * 0.2]"
   ],
   "metadata": {
    "collapsed": false,
    "pycharm": {
     "name": "#%%\n"
    }
   }
  },
  {
   "cell_type": "code",
   "execution_count": 7,
   "outputs": [],
   "source": [
    "# Reading the neutralized vectors:\n",
    "# Alpha variant vector\n",
    "with open(DATA_DIR + '/parameters/neutralized_alpha_variant_vec.pickle', 'rb') as pickle_in:\n",
    "\tneutralized_alpha_variant_vec = pickle.load(pickle_in)\n",
    "\n",
    "# Delta variant vector\n",
    "with open(DATA_DIR + '/parameters/neutralized_delta_variant_vec.pickle', 'rb') as pickle_in:\n",
    "\tneutralized_delta_variant_vec = pickle.load(pickle_in)\n",
    "\n",
    "# Beta_lockdown vector\n",
    "with open(DATA_DIR + '/parameters/neutralized_lockdown_vec.pickle', 'rb') as pickle_in:\n",
    "\tneutralized_lockdown_vec = pickle.load(pickle_in)\n",
    "\n",
    "# Beta_school vector\n",
    "with open(DATA_DIR + '/parameters/neutralized_school_vec.pickle', 'rb') as pickle_in:\n",
    "\tneutralized_school_vec = pickle.load(pickle_in)\n",
    "\n",
    "# Isolation morbidity ratio vector\n",
    "with open(DATA_DIR + '/parameters/neutralized_isolation_morbidity_ratio_vector.pickle', 'rb') as pickle_in:\n",
    "\tneutralized_isolation_morbidity_ratio_vector = pickle.load(pickle_in)\n",
    "\n",
    "# zero vector to remove any transition from V_2 and S_2 to V_3\n",
    "with open(DATA_DIR + '/parameters/neutralized_transition_rate_to_V_3.pickle', 'rb') as pickle_in:\n",
    "\tneutralized_transition_vector = pickle.load(pickle_in)"
   ],
   "metadata": {
    "collapsed": false,
    "pycharm": {
     "name": "#%%\n"
    }
   }
  },
  {
   "cell_type": "markdown",
   "source": [
    "###Functions:\n"
   ],
   "metadata": {
    "collapsed": false,
    "pycharm": {
     "name": "#%% md\n"
    }
   }
  },
  {
   "cell_type": "code",
   "execution_count": 8,
   "outputs": [],
   "source": [
    "# Getting the reported unreported ratio\n",
    "def get_reported_unreported_ratio(scen):\n",
    "    if scen == 'Scenario2':\n",
    "        reported = 1\n",
    "        unreported = 2\n",
    "        reported_unreported = unreported / (reported + unreported)\n",
    "    return reported_unreported"
   ],
   "metadata": {
    "collapsed": false,
    "pycharm": {
     "name": "#%%\n"
    }
   }
  },
  {
   "cell_type": "code",
   "execution_count": 9,
   "outputs": [],
   "source": [
    "# Getting all region,age combinations as a list\n",
    "def get_all_region_age_combinations():\n",
    "    \"\"\"This function returns a list of tuples of all region,risk,4-age_group combinations\"\"\"\n",
    "    counties_list = list(ind.region_dict.keys())\n",
    "    age_groups_list = list(age_groups_ind.keys())\n",
    "    return list(itertools.product(counties_list, age_groups_list))"
   ],
   "metadata": {
    "collapsed": false,
    "pycharm": {
     "name": "#%%\n"
    }
   }
  },
  {
   "cell_type": "code",
   "execution_count": 10,
   "outputs": [],
   "source": [
    "def region_age_groups_mapping(wanted_mapping: str):\n",
    "    \"\"\" This function gets a wanted mapping (4 examined age groups to 9 original model's age groups or vice versa),\n",
    "    and returns a dictionary consist of the wanted mapping\n",
    "    \"\"\"\n",
    "    # Initializing the final mapping to return and it's keys:\n",
    "    mapping_dict = {}\n",
    "    all_comb_4_age_groups_list = get_all_region_age_combinations()\n",
    "    if wanted_mapping == '4-to-9':\n",
    "        # Iterating over all possible combinations with the 4-age_groups:\n",
    "        for combination in all_comb_4_age_groups_list:\n",
    "            # The list that the current combination will map to\n",
    "            curr_res_list = []\n",
    "            # A list to iterate when building the curr_res_list - depending on the current and new age-group:\n",
    "            if combination[1] == '5-9':\n",
    "                correspondent_age_groups = ['5-9']\n",
    "            elif combination[1] == '10-29':\n",
    "                correspondent_age_groups = ['10-19', '20-29']\n",
    "            elif combination[1] == '30-59':\n",
    "                correspondent_age_groups = ['30-39', '40-49', '50-59']\n",
    "            else:\n",
    "                correspondent_age_groups = ['60-69', '70+']\n",
    "\n",
    "            # Appending to the curr_res_list to finalize the mapping:\n",
    "            for age_group in correspondent_age_groups:\n",
    "                curr_res_list.append((combination[0], age_group))\n",
    "\n",
    "            # Updating the final mapping_dict:\n",
    "            mapping_dict[combination] = curr_res_list\n",
    "    return mapping_dict"
   ],
   "metadata": {
    "collapsed": false,
    "pycharm": {
     "name": "#%%\n"
    }
   }
  },
  {
   "cell_type": "code",
   "execution_count": 11,
   "outputs": [],
   "source": [
    "# Getting all region,risk,age combinations as a list\n",
    "def get_all_region_risk_age_combinations():\n",
    "    \"\"\"This function returns a list of tuples of all region,risk,4-age_group combinations\"\"\"\n",
    "    counties_list = list(ind.region_dict.keys())\n",
    "    risk_list = ['High', 'Low']\n",
    "    age_groups_list = list(age_groups_ind.keys())\n",
    "    return list(itertools.product(counties_list, risk_list, age_groups_list))"
   ],
   "metadata": {
    "collapsed": false,
    "pycharm": {
     "name": "#%%\n"
    }
   }
  },
  {
   "cell_type": "code",
   "execution_count": 12,
   "outputs": [],
   "source": [
    "def region_risk_age_groups_mapping(wanted_mapping: str):\n",
    "    \"\"\" This function gets a wanted mapping (4 examined age groups to 9 original model's age groups or vice versa),\n",
    "    and returns a dictionary consist of the wanted mapping\n",
    "    \"\"\"\n",
    "    # Initializing the final mapping to return and it's keys:\n",
    "    mapping_dict = {}\n",
    "    all_comb_4_age_groups_list = get_all_region_risk_age_combinations()\n",
    "    if wanted_mapping == '4-to-9':\n",
    "        # Iterating over all possible combinations with the 4-age_groups:\n",
    "        for combination in all_comb_4_age_groups_list:\n",
    "            # The list that the current combination will map to\n",
    "            curr_res_list = []\n",
    "            # A list to iterate when building the curr_res_list - depending on the current and new age-group:\n",
    "            if combination[2] == '5-9':\n",
    "                correspondent_age_groups = ['5-9']\n",
    "            elif combination[2] == '10-29':\n",
    "                correspondent_age_groups = ['10-19', '20-29']\n",
    "            elif combination[2] == '30-59':\n",
    "                correspondent_age_groups = ['30-39', '40-49', '50-59']\n",
    "            else:\n",
    "                correspondent_age_groups = ['60-69', '70+']\n",
    "\n",
    "            # Appending to the curr_res_list to finalize the mapping:\n",
    "            for age_group in correspondent_age_groups:\n",
    "                curr_res_list.append((combination[0], combination[1], age_group))\n",
    "\n",
    "            # Updating the final mapping_dict:\n",
    "            mapping_dict[combination] = curr_res_list\n",
    "    return mapping_dict"
   ],
   "metadata": {
    "collapsed": false,
    "pycharm": {
     "name": "#%%\n"
    }
   }
  },
  {
   "cell_type": "code",
   "execution_count": 13,
   "outputs": [],
   "source": [
    "def get_indexes_region_risk_age_combination(region_risk_age_group: tuple):\n",
    "    \"\"\"This function gets a tuple of (region, risk, 4_age_group) and returns the indexes of that combination as they are in the original model (including transformation to the 9 original age groups. e.g.: for (1101, 'High', '10-29'), returns the indexes for (1101, 'High', '10-19') + (1101, 'High', '20-29')\"\"\"\n",
    "    # Initializing the result list and the age groups mapper:\n",
    "    indexes_list_of_lists = []\n",
    "    four_to_nine_age_map = region_risk_age_groups_mapping('4-to-9')\n",
    "    for val in four_to_nine_age_map[region_risk_age_group]:\n",
    "        indexes_list_of_lists.append(ind.region_risk_age_dict[val])\n",
    "    # Merging the list of lists to one list:\n",
    "    region_risk_age_indexes_list = [item for sublist in indexes_list_of_lists for item in sublist]\n",
    "    return sorted(region_risk_age_indexes_list)"
   ],
   "metadata": {
    "collapsed": false,
    "pycharm": {
     "name": "#%%\n"
    }
   }
  },
  {
   "cell_type": "code",
   "execution_count": 14,
   "outputs": [],
   "source": [
    "# Getting the current lambda_t for the current combination of (region, 4-age_group):\n",
    "def get_current_lambda_t(curr_res_mdl_1_ml: dict, target_region_risk_4age_group: tuple):\n",
    "    # Getting the lambda of the last day of the current model, and the region,4-age_group mapping:\n",
    "    lambda_last_day = np.reshape(curr_res_mdl_1_ml['L_2'][-1, :], newshape=(540))\n",
    "    four_to_nine_age_map = region_age_groups_mapping('4-to-9')\n",
    "    # Initializing the final proportion for the current compartment that we want to calculate:\n",
    "    final_prop_for_comp = 0\n",
    "    # Iterating on each correspondent combination of (region, 9-age_group) to aggregate on:\n",
    "    for val in four_to_nine_age_map[target_region_risk_4age_group]:\n",
    "        # Getting the index of the current (region, risk, 9-age_group)\n",
    "        correspondent_index = ind.region_age_dict[val]\n",
    "        # Adding the value of current (region, risk, 9-age_group)\n",
    "        final_prop_for_comp += lambda_last_day[correspondent_index].sum()\n",
    "\n",
    "    return final_prop_for_comp"
   ],
   "metadata": {
    "collapsed": false,
    "pycharm": {
     "name": "#%%\n"
    }
   }
  },
  {
   "cell_type": "code",
   "execution_count": 15,
   "outputs": [],
   "source": [
    "def calc_comp_prop_for_region_risk_age(comp: str, curr_res_mdl_1_ml: dict, target_region_risk_4age_group: tuple):\n",
    "    \"\"\"This function gets the target compartment, the current predictions of the current model, and the wanted combination of (region, risk, 4-age_group),\n",
    "    and returns the compartment aggregated by the wanted combination of (region, risk, 4-age_group) - (aggregated from (region, risk, 9-age_group))\"\"\"\n",
    "    # Getting the last day of the compartment, and the needed age-groups mapping:\n",
    "    comp_last_day = np.reshape(curr_res_mdl_1_ml[comp][-1, :], newshape=(540))\n",
    "    four_to_nine_age_map = region_risk_age_groups_mapping('4-to-9')\n",
    "    # Initializing the final proportion for the current compartment that we want to calculate:\n",
    "    final_prop_for_comp = 0\n",
    "    # Iterating on each correspondent combination of (region, risk, 9-age_group) to aggregate on:\n",
    "    for val in four_to_nine_age_map[target_region_risk_4age_group]:\n",
    "        # Getting the index of the current (region, risk, 9-age_group)\n",
    "        correspondent_index = ind.region_risk_age_dict[val]\n",
    "        # Adding the value of current (region, risk, 9-age_group)\n",
    "        final_prop_for_comp += float(comp_last_day[correspondent_index][0])\n",
    "\n",
    "    return final_prop_for_comp"
   ],
   "metadata": {
    "collapsed": false,
    "pycharm": {
     "name": "#%%\n"
    }
   }
  },
  {
   "cell_type": "code",
   "execution_count": 16,
   "outputs": [],
   "source": [
    "def calc_rho_or_f_prop_for_region_risk_age(rho_or_f_j: np.array, target_region_risk_4age_group: tuple):\n",
    "    \"\"\"This function gets the model_1_ml.rho and the wanted combination of (region, risk, 4-age_group),\n",
    "    and returns rho aggregated by the wanted combination of (region, risk, 4-age_group) - (aggregated from (region, risk, 9-age_group))\"\"\"\n",
    "    four_to_nine_age_map = region_risk_age_groups_mapping('4-to-9')\n",
    "    ## Calculating the final proportion of rho or f_j as a weighted sum using the distribution of S(0) (population_size):\n",
    "    # Initializing the proportions for the weighted sum:\n",
    "    S0_list = []\n",
    "    rho_or_f_j_list = []\n",
    "    # Iterating on each correspondent combination of (region, risk, 9-age_group) and append to the relevant list:\n",
    "    for val in four_to_nine_age_map[target_region_risk_4age_group]:\n",
    "        # Getting the index of the current (region, risk, 9-age_group)\n",
    "        correspondent_index = ind.region_risk_age_dict[val]\n",
    "        # Adding the value of current (region, risk, 9-age_group)\n",
    "        S0_list.append(population_size[correspondent_index][0])\n",
    "        rho_or_f_j_list.append(rho_or_f_j[correspondent_index][0])\n",
    "\n",
    "    ## Calculating the weighted sum:\n",
    "    # Init the lists to calc the expression\n",
    "    numerator = []\n",
    "    denominator = []\n",
    "    for i in range(len(S0_list)):\n",
    "        numerator.append(S0_list[i]*rho_or_f_j_list[i])\n",
    "        denominator.append(S0_list[i])\n",
    "    # Returning the final and weighted probability value:\n",
    "    final_weighted_sum_proba = np.sum(numerator) / np.sum(denominator)\n",
    "    return final_weighted_sum_proba"
   ],
   "metadata": {
    "collapsed": false,
    "pycharm": {
     "name": "#%%\n"
    }
   }
  },
  {
   "cell_type": "code",
   "execution_count": 17,
   "outputs": [],
   "source": [
    "def update_compartment(curr_res_mdl_1_ml: dict, compartment: str, updated_array: np.array):\n",
    "    \"\"\"This function gets the current models' predictions, the compartment to update and the updated array, and updates the model object with the updated array\"\"\"\n",
    "    # Initiate settings:\n",
    "    curr_res_mdl_1_ml[compartment][-1] = updated_array\n",
    "    comp_as_list = []\n",
    "    # Changing the updated arrays to be lists of arrays (to allow the update of the model object):\n",
    "    for element in res_mdl_1_ml[compartment]:\n",
    "        comp_as_list.append(element)\n",
    "\n",
    "    # Performing the proper model update\n",
    "    model_1_ml.update({\n",
    "        compartment : comp_as_list\n",
    "    })"
   ],
   "metadata": {
    "collapsed": false,
    "pycharm": {
     "name": "#%%\n"
    }
   }
  },
  {
   "cell_type": "code",
   "execution_count": 18,
   "outputs": [],
   "source": [
    "# Defining the model - initializing it for t=0:\n",
    "def defining_model(scen):\n",
    "    model_1_ml_ = mdl.Model_behave(\n",
    "    ind= ind,\n",
    "    beta_j= cal_parameters[scen]['beta_j'],\n",
    "    beta_activity= cal_parameters[scen]['beta_activity'],\n",
    "    beta_school= cal_parameters[scen]['beta school'],\n",
    "    scen= scen\n",
    "    )\n",
    "    # Predicting without an assignment (there's no need for that)\n",
    "    model_1_ml_.predict(\n",
    "        days_in_season= 529,    # Num of days between 15/05/20 - 25/10/21\n",
    "        shifting_12_days= True\n",
    "    )\n",
    "    # Updating the vectors to be able to run the model furthermore:\n",
    "    model_1_ml_.update({\n",
    "        'alpha_variant_vec':  neutralized_alpha_variant_vec,\n",
    "        'delta_variant_vec': neutralized_delta_variant_vec,\n",
    "        'isolation_morbidity_ratio_vector': neutralized_isolation_morbidity_ratio_vector,\n",
    "        'is_lockdown': neutralized_lockdown_vec,\n",
    "        'is_school': neutralized_school_vec,\n",
    "        'v2_to_v3_transition_t' : neutralized_transition_vector,\n",
    "        's_2_to_v3_transition_t' : neutralized_transition_vector\n",
    "    })\n",
    "    return model_1_ml_"
   ],
   "metadata": {
    "collapsed": false,
    "pycharm": {
     "name": "#%%\n"
    }
   }
  },
  {
   "cell_type": "markdown",
   "source": [
    "#### Getting the vaccinations priority queue:"
   ],
   "metadata": {
    "collapsed": false,
    "pycharm": {
     "name": "#%% md\n"
    }
   }
  },
  {
   "cell_type": "code",
   "execution_count": 19,
   "outputs": [],
   "source": [
    "def get_vaccination_pq(curr_res_mdl_1_ml: dict):\n",
    "    \"\"\"This function gets the current model and returns the final priority queue for all combinations of (county, risk, 4-age_group)\"\"\"\n",
    "    # Initialize settings: final priority queue to return (as a dictionary, not sorted), the 4-9 age-groups mapper, and the reported/unreported ratio:\n",
    "    vaccination_que = {}\n",
    "    reported_unreported = get_reported_unreported_ratio('Scenario2')\n",
    "    comp_list = ['S_2', 'V_2', 'R_1', 'R_2', 'L_2']\n",
    "    mapping_4_to_9 = region_risk_age_groups_mapping('4-to-9')\n",
    "\n",
    "    for key, val in mapping_4_to_9.items():\n",
    "        # Getting the proportion value for each compartment[region,risk,4-age_group], save it as a list such that the order is exactly - [S_2, V_2, R_1, R_2, L_2]\n",
    "        current_comp_prop_list = []\n",
    "        # For each compartment - calculate its value of (region, risk, 4-age_group):\n",
    "        for comp in comp_list:\n",
    "            # If we assess the proportion of the force of infection, the calculation is different (lambda_t depends only on (region,age))\n",
    "            if comp != 'L_2':\n",
    "                current_comp_prop_list.append(calc_comp_prop_for_region_risk_age(comp, curr_res_mdl_1_ml, key))\n",
    "            else:\n",
    "                current_comp_prop_list.append(get_current_lambda_t( curr_res_mdl_1_ml, (key[0], key[2]) ))\n",
    "        # getting the proportion value for model_1_ml.rho:\n",
    "        hosp_proba = calc_rho_or_f_prop_for_region_risk_age(model_1_ml.rho , key)\n",
    "        # getting the proportion value for model_1_ml.f[model_1_ml.scen]:\n",
    "        f_j = calc_rho_or_f_prop_for_region_risk_age(model_1_ml.f[model_1_ml.scen] , key)\n",
    "        # Calculating the hospitalization probability measurement:\n",
    "        comps = current_comp_prop_list      # To shorten the code\n",
    "        V_2_eff = 1-0.94        # Effectiveness of second dose to prevent infection\n",
    "        scoring_index = ( (comps[0] + (comps[2]+comps[3])*reported_unreported + (comps[1]*(V_2_eff))) * comps[4] * ((1-f_j)*model_1_ml.delta) * hosp_proba ) \\\n",
    "                        / (comps[0] + comps[1] + (comps[2]+comps[3])*reported_unreported)\n",
    "        # Assigning the scoring measurement to the correspondent combination of (region,risk,4-age_group)\n",
    "        vaccination_que[key] = scoring_index\n",
    "    # Sorting the dict to get a \"priority queue\" - receiving a list of tuples:\n",
    "    vaccination_que = sorted(vaccination_que.items(), key=lambda x: x[1], reverse= True)\n",
    "\n",
    "    return vaccination_que"
   ],
   "metadata": {
    "collapsed": false,
    "pycharm": {
     "name": "#%%\n"
    }
   }
  },
  {
   "cell_type": "markdown",
   "source": [
    "### calculating the transferring proportion:"
   ],
   "metadata": {
    "collapsed": false
   }
  },
  {
   "cell_type": "code",
   "execution_count": 20,
   "outputs": [],
   "source": [
    "def calc_trans_prop(vaccination_pq_: list, curr_res_mdl_1_ml: dict, curr_inv_: float):\n",
    "    # Initializing the accumulated amount used and the priority queue:\n",
    "    curr_inventory_used = 0\n",
    "    vaccination_pq_copy = vaccination_pq_.copy()\n",
    "    # Saving the combinations that we will vaccinate:\n",
    "    vaccinated_que_ = []\n",
    "    # Iterating until we cross the prior inventory level:\n",
    "    while (curr_inventory_used <= curr_inv_):\n",
    "        # Getting the current combination of (age_group, risk) from the pq:\n",
    "        current_county_risk_age = vaccination_pq_copy.pop(0)[0]\n",
    "        # Getting the correspondent reported/unreported ratio for the Scenario:\n",
    "        reported_unreported = get_reported_unreported_ratio('Scenario2')\n",
    "        # Getting R2_(j,r), R1_(j,r), V2_(j,r), S2_(j,r) proportions:\n",
    "        R_2_risk_age, R_1_risk_age, S_2_risk_age, V_2_risk_age = calc_comp_prop_for_region_risk_age('R_2', curr_res_mdl_1_ml, current_county_risk_age), \\\n",
    "                                                                 calc_comp_prop_for_region_risk_age('R_1', curr_res_mdl_1_ml, current_county_risk_age), \\\n",
    "                                                                 calc_comp_prop_for_region_risk_age('S_2', curr_res_mdl_1_ml, current_county_risk_age), \\\n",
    "                                                                 calc_comp_prop_for_region_risk_age('V_2', curr_res_mdl_1_ml, current_county_risk_age)\n",
    "        # Calculating the formula for num of needed vaccines:\n",
    "        count_vaccines_in_use = ( ((R_1_risk_age + R_2_risk_age) * reported_unreported) + S_2_risk_age + V_2_risk_age) * pop_israel\n",
    "        # Updating the accumulated used vaccines:\n",
    "        curr_inventory_used += count_vaccines_in_use\n",
    "        # Updating the vaccinated_que:\n",
    "        vaccinated_que_.append(current_county_risk_age)\n",
    "\n",
    "    final_trans_prop = curr_inv_ / curr_inventory_used\n",
    "    return final_trans_prop, vaccinated_que_"
   ],
   "metadata": {
    "collapsed": false,
    "pycharm": {
     "name": "#%%\n"
    }
   }
  },
  {
   "cell_type": "code",
   "execution_count": 21,
   "outputs": [],
   "source": [
    "### Vaccinating in booster (moving from S_2 and V_2 to V_3, including the model update):\n",
    "def vaccinate(trans_prop_: float, curr_res_mdl_1_ml: dict, vaccination_que: list):\n",
    "    ## initialize settings:\n",
    "    vaccination_que_copy = vaccination_que.copy()\n",
    "    trans_prop_copy = trans_prop_\n",
    "    reported_unreported = get_reported_unreported_ratio('Scenario2')\n",
    "    # Getting the last day of the compartments and V_3, saving it to a dictionary:\n",
    "    last_day_dict = {'S_2_last_day': np.reshape(curr_res_mdl_1_ml['S_2'][-1, :], newshape=(540) ),\n",
    "                     'V_2_last_day': np.reshape(curr_res_mdl_1_ml['V_2'][-1, :], newshape=(540) ),\n",
    "                     'V_3_last_day': np.reshape(curr_res_mdl_1_ml['V_3'][-1, :], newshape=(540) ),\n",
    "                     'R_1_last_day': np.reshape(curr_res_mdl_1_ml['R_1'][-1, :], newshape=(540) ),\n",
    "                     'R_2_last_day': np.reshape(curr_res_mdl_1_ml['R_2'][-1, :], newshape=(540) )}\n",
    "\n",
    "    # Iterating over the combinations of (risk, age_group) that we need to vaccinate, and moving the population, and updating the model:\n",
    "    for curr_risk_age in vaccination_que_copy:\n",
    "        # Getting the relevant indexes to operate in the correspondent locations of the compartment:\n",
    "        curr_risk_age_indexes = get_indexes_region_risk_age_combination(curr_risk_age)\n",
    "\n",
    "        ## Vaccinating from S_2 to V_3\n",
    "        S_2_last_day_updated, V_3_last_day_updated = vaccinating_from_V_2_S_2(last_day_dict['V_3_last_day'], last_day_dict['S_2_last_day'], trans_prop_copy, curr_risk_age_indexes)\n",
    "        # updating the results:\n",
    "        last_day_dict['V_3_last_day'], last_day_dict['S_2_last_day'] = V_3_last_day_updated, S_2_last_day_updated\n",
    "\n",
    "        ## Vaccinating from V_2 to V_3\n",
    "        V_2_last_day_updated, V_3_last_day_updated = vaccinating_from_V_2_S_2(last_day_dict['V_3_last_day'], last_day_dict['V_2_last_day'], trans_prop_copy, curr_risk_age_indexes)\n",
    "        # updating the results:\n",
    "        last_day_dict['V_3_last_day'], last_day_dict['V_2_last_day'] = V_3_last_day_updated, V_2_last_day_updated\n",
    "\n",
    "    update_compartment(curr_res_mdl_1_ml, 'V_2', last_day_dict['V_2_last_day'])\n",
    "    update_compartment(curr_res_mdl_1_ml, 'S_2', last_day_dict['S_2_last_day'])\n",
    "    update_compartment(curr_res_mdl_1_ml, 'V_3', last_day_dict['V_3_last_day'])\n",
    "        # Calculating the addition from each compartment:\n",
    "        #V_2_to_V_3_addition = V_2_last_day[curr_risk_age_indexes] * trans_prop_copy\n",
    "        # S_2_to_V_3_addition = S_2_last_day[curr_risk_age_indexes] * trans_prop_copy\n",
    "        # ## Calculating the addition from R_1 & R_2 as well, as they're incorporated in the used vaccinations: ##\n",
    "        # R_1_to_V_3_addition = R_1_last_day[curr_risk_age_indexes] * trans_prop_copy * reported_unreported\n",
    "        # R_2_to_V_3_addition = R_2_last_day[curr_risk_age_indexes] * trans_prop_copy * reported_unreported\n",
    "        # # Updating the compartments after addition calculation:\n",
    "        # V_2_last_day[curr_risk_age_indexes] = V_2_last_day[curr_risk_age_indexes] * (1-trans_prop_copy)\n",
    "        # V_2_last_day_updated = V_2_last_day\n",
    "        # S_2_last_day[curr_risk_age_indexes] = S_2_last_day[curr_risk_age_indexes] * (1-trans_prop_copy)\n",
    "        # ## TEST - Subtracting R_1 & R_2 proportions from S_2: ##\n",
    "        # S_2_last_day[curr_risk_age_indexes] = S_2_last_day[curr_risk_age_indexes] - (R_1_last_day[curr_risk_age_indexes] * (1-trans_prop_copy) * reported_unreported)\n",
    "        # S_2_last_day[curr_risk_age_indexes] = S_2_last_day[curr_risk_age_indexes] - (R_2_last_day[curr_risk_age_indexes] * (1-trans_prop_copy) * reported_unreported)\n",
    "        # ##\n",
    "        # S_2_last_day_updated = S_2_last_day\n",
    "        # # Adding to V_3:\n",
    "        # V_3_last_day[curr_risk_age_indexes] += (V_2_to_V_3_addition + S_2_to_V_3_addition + R_1_to_V_3_addition + R_2_to_V_3_addition)\n",
    "        # V_3_last_day_updated = V_3_last_day\n",
    "        # # Updating the compartments of the model:\n",
    "        # update_compartment(curr_res_mdl_1_ml, 'V_2', V_2_last_day_updated)\n",
    "        # update_compartment(curr_res_mdl_1_ml, 'S_2', S_2_last_day_updated)\n",
    "        # update_compartment(curr_res_mdl_1_ml, 'V_3', V_3_last_day_updated)"
   ],
   "metadata": {
    "collapsed": false,
    "pycharm": {
     "name": "#%%\n"
    }
   }
  },
  {
   "cell_type": "markdown",
   "source": [
    "# Starting with the vaccination effort"
   ],
   "metadata": {
    "collapsed": false
   }
  },
  {
   "cell_type": "markdown",
   "source": [
    "#### Vaccinating at the 1st month - running model until 2nd month"
   ],
   "metadata": {
    "collapsed": false
   }
  },
  {
   "cell_type": "code",
   "execution_count": 22,
   "outputs": [],
   "source": [
    "# Initializing lists to track the results, each element corresponds to an initial inventory level\n",
    "# Besides the res_mdl_list, each list will be in length of 20 X 6 - each value corresponds to each of the 6 months period and each month within it\n",
    "res_mdl_list, trans_prop_list, vaccinated_que_list = [], [[],[],[]], [[],[],[]]\n",
    "\n",
    "# Iterating on the inventory level:\n",
    "for i in range(len(vaccination_inventory)):\n",
    "    # Initializing the model's object (and its predictions) to t=0:\n",
    "    model_1_ml = defining_model('Scenario2')\n",
    "    # Running the model with that specific inventory level for 3 years, in 6 months resolution (a single run - 6 months X 5 == 3 years):\n",
    "    for j in range(6):\n",
    "        # Current inventory for a \"single-run\" (6 months)\n",
    "        single_run_inv = vaccination_inventory[i]\n",
    "        for k in range(6):\n",
    "            # Running the model to the next month\n",
    "            res_mdl_1_ml = model_1_ml.predict(\n",
    "                                               days_in_season= 30,\n",
    "                                               continuous_predict= True\n",
    "                                             )\n",
    "            # Getting the proportion of transition, and the combinations that we vaccinate:\n",
    "            curr_inv = single_run_inv * 1/6     # inventory for the examined month\n",
    "            # Getting the vaccination priority_que:\n",
    "            vaccination_pq = get_vaccination_pq(res_mdl_1_ml)\n",
    "            trans_prop, vaccinated_que = calc_trans_prop(vaccination_pq, res_mdl_1_ml, curr_inv)\n",
    "            # Adding the results of a specific inventory level and \"single-run\" period to the result lists:\n",
    "            trans_prop_list.append(trans_prop)\n",
    "            vaccinated_que_list.append(vaccinated_que)\n",
    "            # Vaccinating (including the model update):\n",
    "            vaccinate(trans_prop, res_mdl_1_ml, vaccinated_que)\n",
    "\n",
    "    # Adding the results of a specific inventory level over 10 years to the result list:\n",
    "    res_mdl_list.append(res_mdl_1_ml)\n",
    "\n",
    "## Creating a list of days in which we vaccinate for the plot:\n",
    "# 529 == the start day of the simulation, (t * 30) == the time delta until we perform the vaccinations, 529+3650 == running the model for 10 years, 30*6 == we vaccinate exactly every half a year:\n",
    "vaccination_days_t = [t for t in range(529, 529 + 1095, 30)]"
   ],
   "metadata": {
    "collapsed": false,
    "pycharm": {
     "name": "#%%\n"
    }
   }
  },
  {
   "cell_type": "code",
   "execution_count": 23,
   "outputs": [],
   "source": [
    "# Saving the results of the current month, the days of the vaccinations, the transforming proportion and the vaccinated queue:\n",
    "with open('res_mdl_list.pickle', 'wb') as handle:\n",
    "    pickle.dump(res_mdl_list, handle, protocol=pickle.HIGHEST_PROTOCOL)\n",
    "with open('vaccination_days.pickle', 'wb') as handle:\n",
    "    pickle.dump(vaccination_days_t, handle, protocol=pickle.HIGHEST_PROTOCOL)\n",
    "with open('trans_prop_list.pickle', 'wb') as handle:\n",
    "    pickle.dump(trans_prop_list, handle, protocol=pickle.HIGHEST_PROTOCOL)\n",
    "with open('vaccinated_que_list.pickle', 'wb') as handle:\n",
    "    pickle.dump(vaccinated_que_list, handle, protocol=pickle.HIGHEST_PROTOCOL)\n",
    "\n",
    "# # Reading results:\n",
    "# with open('res_mdl_list.pickle', 'rb') as handle:\n",
    "#     res_mdl_list = pickle.load(handle)\n",
    "# with open('vaccination_days.pickle', 'rb') as handle:\n",
    "#     vaccination_days_t =pickle.load(handle)\n",
    "# with open('trans_prop_list.pickle', 'rb') as handle:\n",
    "#     trans_prop_list = pickle.load(handle)\n",
    "# with open('vaccinated_que_list.pickle', 'rb') as handle:\n",
    "#     vaccinated_que_list = pickle.load(handle)"
   ],
   "metadata": {
    "collapsed": false,
    "pycharm": {
     "name": "#%%\n"
    }
   }
  },
  {
   "cell_type": "code",
   "execution_count": 24,
   "outputs": [],
   "source": [
    "# # Display the compartments trend for six months, including the vaccination date\n",
    "# plot_S_2_V_2_V_3_trend(res_mdl_list, vaccination_days_t, os.getcwd().split('/')[-1], t=1)"
   ],
   "metadata": {
    "collapsed": false,
    "pycharm": {
     "name": "#%%\n"
    }
   }
  }
 ],
 "metadata": {
  "kernelspec": {
   "display_name": "Python 3",
   "language": "python",
   "name": "python3"
  },
  "language_info": {
   "codemirror_mode": {
    "name": "ipython",
    "version": 2
   },
   "file_extension": ".py",
   "mimetype": "text/x-python",
   "name": "python",
   "nbconvert_exporter": "python",
   "pygments_lexer": "ipython2",
   "version": "2.7.6"
  }
 },
 "nbformat": 4,
 "nbformat_minor": 0
}