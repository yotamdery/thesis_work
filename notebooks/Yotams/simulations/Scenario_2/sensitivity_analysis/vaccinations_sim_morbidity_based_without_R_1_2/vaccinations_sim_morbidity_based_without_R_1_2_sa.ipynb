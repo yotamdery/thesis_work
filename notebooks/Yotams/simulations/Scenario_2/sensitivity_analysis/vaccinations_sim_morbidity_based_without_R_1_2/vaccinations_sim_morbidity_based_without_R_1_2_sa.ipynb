{
 "cells": [
  {
   "cell_type": "markdown",
   "source": [
    "## This notebook produces cases per year for the morbidity based with info simulation"
   ],
   "metadata": {
    "collapsed": false,
    "pycharm": {
     "name": "#%% md\n"
    }
   }
  },
  {
   "cell_type": "code",
   "execution_count": 1,
   "outputs": [],
   "source": [
    "import numpy as np\n",
    "import pandas as pd\n",
    "import itertools\n",
    "import pickle\n",
    "import datetime, random, copy\n",
    "import sys, os, tqdm\n",
    "\n",
    "import SEIR_full as mdl\n",
    "import SEIR_full.model as mdl\n",
    "import SEIR_full.calibration as mdl\n",
    "from SEIR_full.indices import *\n",
    "from SEIR_full.utils import *\n",
    "from SEIR_full.parameters import *"
   ],
   "metadata": {
    "collapsed": false,
    "pycharm": {
     "name": "#%%\n"
    }
   }
  },
  {
   "cell_type": "markdown",
   "source": [
    "* Fixing the ranges of the uncertainty factors that we're interested in:"
   ],
   "metadata": {
    "collapsed": false,
    "pycharm": {
     "name": "#%% md\n"
    }
   }
  },
  {
   "cell_type": "code",
   "execution_count": 2,
   "outputs": [],
   "source": [
    "# Creating a list of tuples, each tuple is a realization of randomly picked values for the factors that we change every iteration of the simulation\n",
    "np.random.seed(19)\n",
    "list_of_tuples = []\n",
    "for i in range(1000):\n",
    "    booster_eff = round(np.random.uniform(low=29.5001, high=95.5)) / 100     # Discrete uniform dist, booster_efficiency ~ U(30, 95), Updated in the model's object\n",
    "    inv_level = round(np.random.uniform(low=9.5001, high=20.5)) / 100       # Discrete uniform dist, booster_efficiency ~ U(10, 20), Updated in the simulation's settings\n",
    "    hosp_proba_scalar = round(np.random.uniform(low=0.8, high=1.2), 2)      # Continuous uniform dist, booster_efficiency ~ U(0.8, 1.2), Updated in the model's object\n",
    "    years_for_model_run = round(np.random.uniform(low=.5001, high=5.5))         # Discrete uniform dist, booster_efficiency ~ U(3, 10), Updated in the simulation's settings\n",
    "    list_of_tuples.append((booster_eff, inv_level, hosp_proba_scalar, years_for_model_run))"
   ],
   "metadata": {
    "collapsed": false,
    "pycharm": {
     "name": "#%%\n"
    }
   }
  },
  {
   "cell_type": "markdown",
   "source": [
    "* Fixing the static settings for all runs of the big loop"
   ],
   "metadata": {
    "collapsed": false,
    "pycharm": {
     "name": "#%% md\n"
    }
   }
  },
  {
   "cell_type": "code",
   "execution_count": 3,
   "outputs": [],
   "source": [
    "## DEFINING STATIC SETTINGS (INDEPENDENT IN THE DYNAMIC FACTORS) FOR THE SIMULATION RUN\n",
    "# Short path for the data directory\n",
    "DATA_DIR = r'/Users/yotamdery/Old_Desktop/git/SEIR_model_COVID-main/Data'\n",
    "# Reading the indices of the model - adding an hint to declare it's from type Indices!\n",
    "with(open(DATA_DIR + '/parameters/indices.pickle', 'rb')) as openfile:\n",
    "    ind:Indices = pickle.load(openfile)\n",
    "\n",
    "# Create indices for the age groups for easy & automatic access to the results of the operation in the script:\n",
    "age_groups_ind = {'5-9':0, '10-29':1, '30-59':2, '60+':3}\n",
    "\n",
    "# Reading the neutralized vectors:\n",
    "# Alpha variant vector\n",
    "with open(DATA_DIR + '/parameters/neutralized_alpha_variant_vec.pickle', 'rb') as pickle_in:\n",
    "\tneutralized_alpha_variant_vec = pickle.load(pickle_in)\n",
    "\n",
    "# Delta variant vector\n",
    "with open(DATA_DIR + '/parameters/neutralized_delta_variant_vec.pickle', 'rb') as pickle_in:\n",
    "\tneutralized_delta_variant_vec = pickle.load(pickle_in)\n",
    "\n",
    "# Beta_lockdown vector\n",
    "with open(DATA_DIR + '/parameters/neutralized_lockdown_vec.pickle', 'rb') as pickle_in:\n",
    "\tneutralized_lockdown_vec = pickle.load(pickle_in)\n",
    "\n",
    "# Beta_school vector\n",
    "with open(DATA_DIR + '/parameters/neutralized_school_vec.pickle', 'rb') as pickle_in:\n",
    "\tneutralized_school_vec = pickle.load(pickle_in)\n",
    "\n",
    "# Isolation morbidity ratio vector\n",
    "with open(DATA_DIR + '/parameters/neutralized_isolation_morbidity_ratio_vector.pickle', 'rb') as pickle_in:\n",
    "\tneutralized_isolation_morbidity_ratio_vector = pickle.load(pickle_in)\n",
    "\n",
    "# zero vector to remove any transition from V_2 and S_2 to V_3\n",
    "with open(DATA_DIR + '/parameters/neutralized_transition_rate_to_V_3.pickle', 'rb') as pickle_in:\n",
    "\tneutralized_transition_vector = pickle.load(pickle_in)"
   ],
   "metadata": {
    "collapsed": false,
    "pycharm": {
     "name": "#%%\n"
    }
   }
  },
  {
   "cell_type": "markdown",
   "source": [
    "* Utils functions:"
   ],
   "metadata": {
    "collapsed": false,
    "pycharm": {
     "name": "#%% md\n"
    }
   }
  },
  {
   "cell_type": "code",
   "execution_count": 4,
   "outputs": [],
   "source": [
    "# Getting the reported unreported ratio\n",
    "def get_reported_unreported_ratio(scen):\n",
    "    if scen == 'Scenario2':\n",
    "        reported = 1\n",
    "        unreported = 2\n",
    "        reported_unreported = unreported / (reported + unreported)\n",
    "    return reported_unreported\n",
    "\n",
    "# Getting all region,age combinations as a list\n",
    "def get_all_region_age_combinations():\n",
    "    \"\"\"This function returns a list of tuples of all region,risk,4-age_group combinations\"\"\"\n",
    "    counties_list = list(ind.region_dict.keys())\n",
    "    age_groups_list = list(age_groups_ind.keys())\n",
    "    return list(itertools.product(counties_list, age_groups_list))\n",
    "\n",
    "def region_age_groups_mapping(wanted_mapping: str):\n",
    "    \"\"\" This function gets a wanted mapping (4 examined age groups to 9 original model's age groups or vice versa),\n",
    "    and returns a dictionary consist of the wanted mapping\n",
    "    \"\"\"\n",
    "    # Initializing the final mapping to return and it's keys:\n",
    "    mapping_dict = {}\n",
    "    all_comb_4_age_groups_list = get_all_region_age_combinations()\n",
    "    if wanted_mapping == '4-to-9':\n",
    "        # Iterating over all possible combinations with the 4-age_groups:\n",
    "        for combination in all_comb_4_age_groups_list:\n",
    "            # The list that the current combination will map to\n",
    "            curr_res_list = []\n",
    "            # A list to iterate when building the curr_res_list - depending on the current and new age-group:\n",
    "            if combination[1] == '5-9':\n",
    "                correspondent_age_groups = ['5-9']\n",
    "            elif combination[1] == '10-29':\n",
    "                correspondent_age_groups = ['10-19', '20-29']\n",
    "            elif combination[1] == '30-59':\n",
    "                correspondent_age_groups = ['30-39', '40-49', '50-59']\n",
    "            else:\n",
    "                correspondent_age_groups = ['60-69', '70+']\n",
    "\n",
    "            # Appending to the curr_res_list to finalize the mapping:\n",
    "            for age_group in correspondent_age_groups:\n",
    "                curr_res_list.append((combination[0], age_group))\n",
    "\n",
    "            # Updating the final mapping_dict:\n",
    "            mapping_dict[combination] = curr_res_list\n",
    "    return mapping_dict\n",
    "\n",
    "# Getting all region,risk,age combinations as a list\n",
    "def get_all_region_risk_age_combinations():\n",
    "    \"\"\"This function returns a list of tuples of all region,risk,4-age_group combinations\"\"\"\n",
    "    counties_list = list(ind.region_dict.keys())\n",
    "    risk_list = ['High', 'Low']\n",
    "    age_groups_list = list(age_groups_ind.keys())\n",
    "    return list(itertools.product(counties_list, risk_list, age_groups_list))\n",
    "\n",
    "def region_risk_age_groups_mapping(wanted_mapping: str):\n",
    "    \"\"\" This function gets a wanted mapping (4 examined age groups to 9 original model's age groups or vice versa),\n",
    "    and returns a dictionary consist of the wanted mapping\n",
    "    \"\"\"\n",
    "    # Initializing the final mapping to return and it's keys:\n",
    "    mapping_dict = {}\n",
    "    all_comb_4_age_groups_list = get_all_region_risk_age_combinations()\n",
    "    if wanted_mapping == '4-to-9':\n",
    "        # Iterating over all possible combinations with the 4-age_groups:\n",
    "        for combination in all_comb_4_age_groups_list:\n",
    "            # The list that the current combination will map to\n",
    "            curr_res_list = []\n",
    "            # A list to iterate when building the curr_res_list - depending on the current and new age-group:\n",
    "            if combination[2] == '5-9':\n",
    "                correspondent_age_groups = ['5-9']\n",
    "            elif combination[2] == '10-29':\n",
    "                correspondent_age_groups = ['10-19', '20-29']\n",
    "            elif combination[2] == '30-59':\n",
    "                correspondent_age_groups = ['30-39', '40-49', '50-59']\n",
    "            else:\n",
    "                correspondent_age_groups = ['60-69', '70+']\n",
    "\n",
    "            # Appending to the curr_res_list to finalize the mapping:\n",
    "            for age_group in correspondent_age_groups:\n",
    "                curr_res_list.append((combination[0], combination[1], age_group))\n",
    "\n",
    "            # Updating the final mapping_dict:\n",
    "            mapping_dict[combination] = curr_res_list\n",
    "    return mapping_dict\n",
    "\n",
    "def get_indexes_region_risk_age_combination(region_risk_age_group: tuple):\n",
    "    \"\"\"This function gets a tuple of (region, risk, 4_age_group) and returns the indexes of that combination as they are in the original model (including transformation to the 9 original age groups. e.g.: for (1101, 'High', '10-29'), returns the indexes for (1101, 'High', '10-19') + (1101, 'High', '20-29')\"\"\"\n",
    "    # Initializing the result list and the age groups mapper:\n",
    "    indexes_list_of_lists = []\n",
    "    four_to_nine_age_map = region_risk_age_groups_mapping('4-to-9')\n",
    "    for val in four_to_nine_age_map[region_risk_age_group]:\n",
    "        indexes_list_of_lists.append(ind.region_risk_age_dict[val])\n",
    "    # Merging the list of lists to one list:\n",
    "    region_risk_age_indexes_list = [item for sublist in indexes_list_of_lists for item in sublist]\n",
    "    return sorted(region_risk_age_indexes_list)\n",
    "\n",
    "# Getting the current lambda_t for the current combination of (region, 4-age_group):\n",
    "def get_current_lambda_t(curr_res_mdl_1_ml: dict, target_region_risk_4age_group: tuple):\n",
    "    # Getting the lambda of the last day of the current model, and the region,4-age_group mapping:\n",
    "    lambda_last_day = np.reshape(curr_res_mdl_1_ml['L_2'][-1, :], newshape=(540))\n",
    "    four_to_nine_age_map = region_age_groups_mapping('4-to-9')\n",
    "    # Initializing the final proportion for the current compartment that we want to calculate:\n",
    "    final_prop_for_comp = 0\n",
    "    # Iterating on each correspondent combination of (region, 9-age_group) to aggregate on:\n",
    "    for val in four_to_nine_age_map[target_region_risk_4age_group]:\n",
    "        # Getting the index of the current (region, risk, 9-age_group)\n",
    "        correspondent_index = ind.region_age_dict[val]\n",
    "        # Adding the value of current (region, risk, 9-age_group)\n",
    "        final_prop_for_comp += lambda_last_day[correspondent_index].sum()\n",
    "\n",
    "    return final_prop_for_comp\n",
    "\n",
    "def calc_comp_prop_for_region_risk_age(comp: str, curr_res_mdl_1_ml: dict, target_region_risk_4age_group: tuple):\n",
    "    \"\"\"This function gets the target compartment, the current predictions of the current model, and the wanted combination of (region, risk, 4-age_group),\n",
    "    and returns the compartment aggregated by the wanted combination of (region, risk, 4-age_group) - (aggregated from (region, risk, 9-age_group))\"\"\"\n",
    "    # Getting the last day of the compartment, and the needed age-groups mapping:\n",
    "    comp_last_day = np.reshape(curr_res_mdl_1_ml[comp][-1, :], newshape=(540))\n",
    "    four_to_nine_age_map = region_risk_age_groups_mapping('4-to-9')\n",
    "    # Initializing the final proportion for the current compartment that we want to calculate:\n",
    "    final_prop_for_comp = 0\n",
    "    # Iterating on each correspondent combination of (region, risk, 9-age_group) to aggregate on:\n",
    "    for val in four_to_nine_age_map[target_region_risk_4age_group]:\n",
    "        # Getting the index of the current (region, risk, 9-age_group)\n",
    "        correspondent_index = ind.region_risk_age_dict[val]\n",
    "        # Adding the value of current (region, risk, 9-age_group)\n",
    "        final_prop_for_comp += float(comp_last_day[correspondent_index][0])\n",
    "\n",
    "    return final_prop_for_comp\n",
    "\n",
    "def calc_rho_or_f_prop_for_region_risk_age(rho_or_f_j: np.array, target_region_risk_4age_group: tuple):\n",
    "    \"\"\"This function gets the model_1_ml.rho and the wanted combination of (region, risk, 4-age_group),\n",
    "    and returns rho aggregated by the wanted combination of (region, risk, 4-age_group) - (aggregated from (region, risk, 9-age_group))\"\"\"\n",
    "    four_to_nine_age_map = region_risk_age_groups_mapping('4-to-9')\n",
    "    ## Calculating the final proportion of rho or f_j as a weighted sum using the distribution of S(0) (population_size):\n",
    "    # Initializing the proportions for the weighted sum:\n",
    "    S0_list = []\n",
    "    rho_or_f_j_list = []\n",
    "    # Iterating on each correspondent combination of (region, risk, 9-age_group) and append to the relevant list:\n",
    "    for val in four_to_nine_age_map[target_region_risk_4age_group]:\n",
    "        # Getting the index of the current (region, risk, 9-age_group)\n",
    "        correspondent_index = ind.region_risk_age_dict[val]\n",
    "        # Adding the value of current (region, risk, 9-age_group)\n",
    "        S0_list.append(population_size[correspondent_index][0])\n",
    "        rho_or_f_j_list.append(rho_or_f_j[correspondent_index][0])\n",
    "\n",
    "    ## Calculating the weighted sum:\n",
    "    # Init the lists to calc the expression\n",
    "    numerator = []\n",
    "    denominator = []\n",
    "    for i in range(len(S0_list)):\n",
    "        numerator.append(S0_list[i]*rho_or_f_j_list[i])\n",
    "        denominator.append(S0_list[i])\n",
    "    # Returning the final and weighted probability value:\n",
    "    final_weighted_sum_proba = np.sum(numerator) / np.sum(denominator)\n",
    "    return final_weighted_sum_proba\n",
    "\n",
    "def update_compartment(curr_res_mdl_1_ml: dict, compartment: str, updated_array: np.array):\n",
    "    \"\"\"This function gets the current models' predictions, the compartment to update and the updated array, and updates the model object with the updated array\"\"\"\n",
    "    # Initiate settings:\n",
    "    curr_res_mdl_1_ml[compartment][-1] = updated_array\n",
    "    comp_as_list = []\n",
    "    # Changing the updated arrays to be lists of arrays (to allow the update of the model object):\n",
    "    for element in res_mdl_1_ml[compartment]:\n",
    "        comp_as_list.append(element)\n",
    "\n",
    "    # Performing the proper model update\n",
    "    model_1_ml.update({\n",
    "        compartment : comp_as_list\n",
    "    })\n",
    "\n",
    "# Defining the model - initializing it for t=0:\n",
    "def defining_model(scen):\n",
    "    model_1_ml_ = mdl.Model_behave(\n",
    "    ind=ind,\n",
    "    beta_j=cal_parameters[scen]['beta_j'],\n",
    "    beta_activity=cal_parameters[scen]['beta_activity'],\n",
    "    beta_school=cal_parameters[scen]['beta school'],\n",
    "    scen=scen\n",
    "    )\n",
    "    # Predicting without an assignment (there's no need for that)\n",
    "    model_1_ml_.predict(\n",
    "        days_in_season= 529,    # Num of days between 15/05/20 - 25/10/21\n",
    "        shifting_12_days= True\n",
    "    )\n",
    "    # Updating the vectors to be able to run the model furthermore:\n",
    "    model_1_ml_.update({\n",
    "        'alpha_variant_vec':  neutralized_alpha_variant_vec,\n",
    "        'delta_variant_vec': neutralized_delta_variant_vec,\n",
    "        'isolation_morbidity_ratio_vector': neutralized_isolation_morbidity_ratio_vector,\n",
    "        'is_lockdown': neutralized_lockdown_vec,\n",
    "        'is_school': neutralized_school_vec,\n",
    "        'v2_to_v3_transition_t' : neutralized_transition_vector,\n",
    "        's_2_to_v3_transition_t' : neutralized_transition_vector\n",
    "    })\n",
    "    return model_1_ml_\n",
    "\n",
    "# Update model for current variables of uncertainty:\n",
    "def update_models_object(mdl_1_ml: mdl.Model_behave, realization: tuple):\n",
    "    new_rho = mdl_1_ml.rho * realization[2]\n",
    "    mdl_1_ml.update({\n",
    "        'booster_efficiency': realization[0],\n",
    "        'rho': new_rho\n",
    "    })"
   ],
   "metadata": {
    "collapsed": false,
    "pycharm": {
     "name": "#%%\n"
    }
   }
  },
  {
   "cell_type": "markdown",
   "source": [
    "#### Getting the vaccinations priority queue:"
   ],
   "metadata": {
    "collapsed": false,
    "pycharm": {
     "name": "#%% md\n"
    }
   }
  },
  {
   "cell_type": "code",
   "execution_count": 5,
   "outputs": [],
   "source": [
    "def get_vaccination_pq(curr_res_mdl_1_ml: dict):\n",
    "    \"\"\"This function gets the current model and returns the final priority queue for all combinations of (county, risk, 4-age_group)\"\"\"\n",
    "    # Initialize settings: final priority queue to return (as a dictionary, not sorted), the 4-9 age-groups mapper, and the reported/unreported ratio:\n",
    "    vaccination_que = {}\n",
    "    reported_unreported = get_reported_unreported_ratio('Scenario2')\n",
    "    comp_list = ['S_2', 'V_2', 'R_1', 'R_2', 'L_2']\n",
    "    mapping_4_to_9 = region_risk_age_groups_mapping('4-to-9')\n",
    "\n",
    "    for key, val in mapping_4_to_9.items():\n",
    "        # Getting the proportion value for each compartment[region,risk,4-age_group], save it as a list such that the order is exactly - [S_2, V_2, R_1, R_2, L_2]\n",
    "        current_comp_prop_list = []\n",
    "        # For each compartment - calculate its value of (region, risk, 4-age_group):\n",
    "        for comp in comp_list:\n",
    "            # If we assess the proportion of the force of infection, the calculation is different (lambda_t depends only on (region,age))\n",
    "            if comp != 'L_2':\n",
    "                current_comp_prop_list.append(calc_comp_prop_for_region_risk_age(comp, curr_res_mdl_1_ml, key))\n",
    "            else:\n",
    "                current_comp_prop_list.append(get_current_lambda_t( curr_res_mdl_1_ml, (key[0], key[2]) ))\n",
    "        # getting the proportion value for model_1_ml.f[model_1_ml.scen]:\n",
    "        f_j = calc_rho_or_f_prop_for_region_risk_age(model_1_ml.f[model_1_ml.scen] , key)\n",
    "        # Calculating the hospitalization probability measurement:\n",
    "        comps = current_comp_prop_list      # To shorten the code\n",
    "        V_2_eff = 1-0.94        # Effectiveness of second dose to prevent infection\n",
    "        scoring_index = ( (comps[0] + (comps[2]+comps[3])*reported_unreported + (comps[1]*(V_2_eff))) * comps[4] * ((1-f_j)*model_1_ml.delta) ) \\\n",
    "                        / (comps[0] + comps[1] + (comps[2]+comps[3])*reported_unreported)\n",
    "        # Assigning the scoring measurement to the correspondent combination of (region,risk,4-age_group)\n",
    "        vaccination_que[key] = scoring_index\n",
    "    # Sorting the dict to get a \"priority queue\" - receiving a list of tuples:\n",
    "    vaccination_que = sorted(vaccination_que.items(), key=lambda x: x[1], reverse= True)\n",
    "\n",
    "    return vaccination_que"
   ],
   "metadata": {
    "collapsed": false,
    "pycharm": {
     "name": "#%%\n"
    }
   }
  },
  {
   "cell_type": "markdown",
   "source": [
    "#### calculating the transferring proportion:"
   ],
   "metadata": {
    "collapsed": false,
    "pycharm": {
     "name": "#%% md\n"
    }
   }
  },
  {
   "cell_type": "code",
   "execution_count": 6,
   "outputs": [],
   "source": [
    "def calc_trans_prop(vaccination_pq_: list, curr_res_mdl_1_ml: dict, curr_inv: float):\n",
    "    # Initializing the accumulated amount used and the priority queue:\n",
    "    curr_inventory_used = 0\n",
    "    vaccination_pq_copy = vaccination_pq_.copy()\n",
    "    # Saving the combinations that we will vaccinate:\n",
    "    vaccinated_que_ = []\n",
    "    # Iterating until we cross the prior inventory level:\n",
    "    while (curr_inventory_used <= curr_inv):\n",
    "        # Getting the current combination of (age_group, risk) from the pq:\n",
    "        current_county_risk_age = vaccination_pq_copy.pop(0)[0]\n",
    "        # Getting the correspondent reported/unreported ratio for the Scenario:\n",
    "        #reported_unreported = get_reported_unreported_ratio('Scenario2')\n",
    "        # Getting R2_(j,r), R1_(j,r), V2_(j,r), S2_(j,r) proportions:\n",
    "        S_2_risk_age, V_2_risk_age = calc_comp_prop_for_region_risk_age('S_2', curr_res_mdl_1_ml, current_county_risk_age),                                                                  calc_comp_prop_for_region_risk_age('V_2', curr_res_mdl_1_ml, current_county_risk_age)\n",
    "        # Calculating the formula for num of needed vaccines:\n",
    "        count_vaccines_in_use = (S_2_risk_age + V_2_risk_age) * pop_israel\n",
    "        # Updating the accumulated used vaccines:\n",
    "        curr_inventory_used += count_vaccines_in_use\n",
    "        # Updating the vaccinated_que:\n",
    "        vaccinated_que_.append(current_county_risk_age)\n",
    "\n",
    "    final_trans_prop = curr_inv / curr_inventory_used\n",
    "    return final_trans_prop, vaccinated_que_"
   ],
   "metadata": {
    "collapsed": false,
    "pycharm": {
     "name": "#%%\n"
    }
   }
  },
  {
   "cell_type": "markdown",
   "source": [
    "#### Vaccinating in booster dose:"
   ],
   "metadata": {
    "collapsed": false,
    "pycharm": {
     "name": "#%% md\n"
    }
   }
  },
  {
   "cell_type": "code",
   "execution_count": 7,
   "outputs": [],
   "source": [
    "### Vaccinating in booster (moving from S_2 and V_2 to V_3, including the model update):\n",
    "def vaccinate(trans_prop_: float, curr_res_mdl_1_ml: dict, vaccination_que: list):\n",
    "    ## initialize settings:\n",
    "    vaccination_que_copy = vaccination_que.copy()\n",
    "    trans_prop_copy = trans_prop_\n",
    "    reported_unreported = get_reported_unreported_ratio('Scenario2')\n",
    "    # Getting the last day of the compartments and V_3, saving it to a dictionary:\n",
    "    last_day_dict = {'S_2_last_day': np.reshape(curr_res_mdl_1_ml['S_2'][-1, :], newshape=(540) ),\n",
    "                     'V_2_last_day': np.reshape(curr_res_mdl_1_ml['V_2'][-1, :], newshape=(540) ),\n",
    "                     'V_3_last_day': np.reshape(curr_res_mdl_1_ml['V_3'][-1, :], newshape=(540) ),\n",
    "                     }\n",
    "\n",
    "    # Iterating over the combinations of (risk, age_group) that we need to vaccinate, and moving the population, and updating the model:\n",
    "    for curr_risk_age in vaccination_que_copy:\n",
    "        # Getting the relevant indexes to operate in the correspondent locations of the compartment:\n",
    "        curr_risk_age_indexes = get_indexes_region_risk_age_combination(curr_risk_age)\n",
    "\n",
    "        ## Vaccinating from S_2 to V_3\n",
    "        S_2_last_day_updated, V_3_last_day_updated = vaccinating_from_V_2_S_2(last_day_dict['V_3_last_day'], last_day_dict['S_2_last_day'], trans_prop_copy, curr_risk_age_indexes)\n",
    "        # updating the results:\n",
    "        last_day_dict['V_3_last_day'], last_day_dict['S_2_last_day'] = V_3_last_day_updated, S_2_last_day_updated\n",
    "\n",
    "        ## Vaccinating from V_2 to V_3\n",
    "        V_2_last_day_updated, V_3_last_day_updated = vaccinating_from_V_2_S_2(last_day_dict['V_3_last_day'], last_day_dict['V_2_last_day'], trans_prop_copy, curr_risk_age_indexes)\n",
    "        # updating the results:\n",
    "        last_day_dict['V_3_last_day'], last_day_dict['V_2_last_day'] = V_3_last_day_updated, V_2_last_day_updated\n",
    "\n",
    "    update_compartment(curr_res_mdl_1_ml, 'V_2', last_day_dict['V_2_last_day'])\n",
    "    update_compartment(curr_res_mdl_1_ml, 'S_2', last_day_dict['S_2_last_day'])\n",
    "    update_compartment(curr_res_mdl_1_ml, 'V_3', last_day_dict['V_3_last_day'])"
   ],
   "metadata": {
    "collapsed": false,
    "pycharm": {
     "name": "#%%\n"
    }
   }
  },
  {
   "cell_type": "markdown",
   "source": [
    "### Main - 1000 iterations of the Sim:"
   ],
   "metadata": {
    "collapsed": false,
    "pycharm": {
     "name": "#%% md\n"
    }
   }
  },
  {
   "cell_type": "code",
   "execution_count": 8,
   "outputs": [
    {
     "name": "stderr",
     "output_type": "stream",
     "text": [
      "tqdm() Progress Bar: 100%|██████████| 1000/1000 [6:42:58<00:00, 24.18s/it] \n"
     ]
    }
   ],
   "source": [
    "# A list to hold 1000 realizations of cases per year:\n",
    "cases_per_year_list = []\n",
    "\n",
    "# Big loop run:\n",
    "for tup in tqdm.tqdm(list_of_tuples, desc= 'tqdm() Progress Bar'):\n",
    "    # Initializing the model's object (and its predictions) to t=0:\n",
    "    model_1_ml = defining_model('Scenario2')\n",
    "    # Settings:\n",
    "    update_models_object(model_1_ml, tup)       # Updating the v3_efficiency and the proba for hosp\n",
    "    inv_level = tup[1] * pop_israel             # Updating the inventory level\n",
    "    years_for_model_run = tup[3]                # Updating the years for the model to run for\n",
    "\n",
    "    # Running the model for X years, in 6 months resolution\n",
    "    for i in range(years_for_model_run*2):\n",
    "        # Running until the vaccination month:\n",
    "        for j in range(1):\n",
    "            res_mdl_1_ml = model_1_ml.predict(\n",
    "                            days_in_season= 30,\n",
    "                            continuous_predict= True\n",
    "                            )\n",
    "            # Getting the vaccination priority_que:\n",
    "            vaccination_pq = get_vaccination_pq(res_mdl_1_ml)\n",
    "            # Getting the proportion of transition, and the combinations that we vaccinate:\n",
    "            trans_prop, vaccinated_que = calc_trans_prop(vaccination_pq, res_mdl_1_ml, inv_level)\n",
    "            # Vaccinating (including the model update):\n",
    "            vaccinate(trans_prop, res_mdl_1_ml, vaccinated_que)\n",
    "\n",
    "        # Running the model until the end of the current \"single\" run (half a year)\n",
    "        for k in range(5):\n",
    "            res_mdl_1_ml = model_1_ml.predict(\n",
    "                days_in_season= 30,\n",
    "                continuous_predict= True\n",
    "            )\n",
    "    ## Calculating the cases per year index for every measurement:\n",
    "    tot_new_Is = np.add(res_mdl_1_ml['new_Is_1'].sum(axis=1) * pop_israel, res_mdl_1_ml['new_Is_2'].sum(axis=1) * pop_israel)\n",
    "    tot_new_H = np.add(res_mdl_1_ml['new_H_1'].sum(axis=1) * pop_israel, res_mdl_1_ml['new_H_2'].sum(axis=1) * pop_israel)\n",
    "    # Transferring to cumulative sum:\n",
    "    cumsum_tot_new_Is, cumsum_tot_new_H = np.cumsum(tot_new_Is), np.cumsum(tot_new_H)\n",
    "    # Performing the calculation itself:\n",
    "    cases_per_year_new_Is, cases_per_year_new_H = (cumsum_tot_new_Is[-1] - cumsum_tot_new_Is[528]) / years_for_model_run, (cumsum_tot_new_H[-1] - cumsum_tot_new_H[528]) / years_for_model_run\n",
    "    cases_per_year_list.append((cases_per_year_new_Is, cases_per_year_new_H))"
   ],
   "metadata": {
    "collapsed": false,
    "pycharm": {
     "name": "#%%\n"
    }
   }
  },
  {
   "cell_type": "code",
   "execution_count": 9,
   "outputs": [
    {
     "data": {
      "text/plain": "[(1248750.0134654066, 8483.419230227477),\n (1289729.7695133064, 8803.324198335251),\n (574878.7085981847, 3863.113345850414),\n (1094738.4295349629, 6523.8067868502485),\n (1262013.3683878274, 7826.7260746767215),\n (956576.2908856027, 7361.613007986624),\n (853539.583924891, 5183.676899619651),\n (1129180.3908736708, 6190.657988868289),\n (927433.4051773173, 6825.0176894382785),\n (1181472.442665666, 8772.643520807109),\n (1412410.2729029292, 7053.374313823212),\n (1113111.8969912925, 6807.7230381245145),\n (885394.2156204683, 5124.555054360447),\n (403060.3454229693, 3675.57972726808),\n (619411.6072837919, 5298.749159649121),\n (906907.2247514758, 6354.545755930877),\n (461102.9989449264, 3967.5419995266084),\n (1282995.6392122833, 9750.672459216914),\n (1342594.5536040692, 11497.834449302083),\n (929380.5303701352, 7858.82842867857),\n (816061.263018138, 5134.3876845831055),\n (1331991.420843757, 8563.955186792191),\n (943135.9346364413, 6320.914207483997),\n (1234016.3542702524, 7730.640731171761),\n (1204763.444341649, 10906.19489864246),\n (602900.5446658527, 4071.423578975764),\n (349422.5888407797, 2856.2781079437796),\n (1107021.3097954271, 7106.582120148848),\n (426778.0175169524, 4226.799896091365),\n (1290983.1138477481, 8929.780111750319),\n (528493.6168783915, 4635.140906649125),\n (1102072.1490596465, 8300.149886611498),\n (1246471.9926317767, 8281.027323633225),\n (1420658.5562926987, 9526.404055409776),\n (1344521.1186438813, 8245.054226842289),\n (1189955.368590029, 10018.564434914695),\n (1027022.3741499428, 6332.976448667972),\n (915065.2996464266, 7893.0225902960665),\n (1018759.479313682, 6347.544919022527),\n (1246456.8573879104, 8163.518869595068),\n (1104747.6901215287, 7614.184858283127),\n (725598.1572111186, 5001.050611720946),\n (1069442.7877723055, 8635.246682500085),\n (884878.9754155885, 5056.11890805872),\n (897763.8170881245, 5599.959456892929),\n (1377572.9452473857, 9731.749380614227),\n (1229518.1775206123, 11209.538702519332),\n (1318246.353415738, 8485.58116822326),\n (1376454.4093109088, 10779.724585211858),\n (1150661.3902662708, 7091.713404207494),\n (1221393.957994342, 8579.076249672671),\n (918342.108302022, 5199.857757080115),\n (1176025.5346679147, 9564.80198840871),\n (1053897.7845172826, 7460.982599118163),\n (1115104.799220227, 8300.6435699097),\n (925050.3693999868, 6607.312175033409),\n (1053472.86664141, 5775.91732357111),\n (910414.0964929672, 7319.519879342598),\n (1074109.8309803223, 8006.9576907557075),\n (819900.0677647748, 5088.14975273484),\n (1209722.367095949, 9921.468132565164),\n (613247.1713437019, 4158.262893207333),\n (1050909.5557600698, 8101.2845948584945),\n (532817.7683265535, 4049.9799597647384),\n (795926.2844401991, 6108.222269675166),\n (1229229.9449578924, 6904.557854026421),\n (836789.4457310261, 5184.379553324895),\n (1045808.7440549671, 7191.667941362614),\n (1352771.2092880306, 9093.00787047007),\n (611420.3586257243, 4671.366224609681),\n (1407643.6624759878, 11842.077379887256),\n (603406.6242052092, 3827.7354546987553),\n (957835.3163833733, 9466.569991414013),\n (1264580.4122449048, 7869.835825652346),\n (796134.5895305178, 7440.835285490293),\n (944867.8997489084, 6321.286566323394),\n (589584.3185072907, 5537.688112404209),\n (874357.2009246314, 5257.041897741563),\n (909363.1253146753, 7305.068707800415),\n (1344831.4774045493, 7617.016689801476),\n (1199685.8016109501, 9287.284890199564),\n (950968.2105784386, 7459.806704725904),\n (946693.7459160632, 7386.919293392243),\n (558862.9226516092, 3734.9319898102513),\n (1034892.5572248105, 8428.844564939818),\n (1173561.816014912, 7378.232523807019),\n (1055688.3637707788, 6601.964698125678),\n (304535.08444876847, 3203.3546172387505),\n (1377572.9452473857, 9118.035455710682),\n (1018716.4999322479, 6406.137466107278),\n (1320651.9466105017, 9730.444694803457),\n (1020824.819275796, 6749.3572577232435),\n (586155.1347947165, 5156.280595927632),\n (789864.2259475293, 7525.864132081326),\n (929992.1130269412, 5966.153771290894),\n (1328157.1247497709, 6914.141806436925),\n (976187.1135306851, 5610.501192084513),\n (1172208.6034089741, 6460.914447401402),\n (835617.0170437507, 4767.800876794829),\n (1066201.2848715538, 5933.531367238899),\n (1175006.4213687435, 8036.362248811057),\n (736902.8011015091, 4722.300958609511),\n (656887.8100435528, 5803.415075945952),\n (926081.574252437, 6000.58630908568),\n (1411089.3102286367, 10799.74231223205),\n (1370511.0431810056, 9315.974495101511),\n (842819.874016337, 5660.705122335916),\n (1125266.0104673516, 9281.452965468687),\n (1343969.7530111328, 10406.914397198752),\n (1021861.644417022, 7044.305916279381),\n (1266013.0844031703, 11226.701125343243),\n (1081834.7490917905, 6282.179529474649),\n (1350071.02523746, 9590.355761525205),\n (1374202.7950201756, 8815.776368989757),\n (946821.3975566188, 5458.063259685119),\n (1129501.4369344753, 6756.07325170762),\n (499770.6203905782, 4072.466949739458),\n (656887.8100435528, 6315.481112058791),\n (1069353.6302860174, 5975.911278464172),\n (1247892.281186798, 11361.544983241343),\n (1311008.1446954573, 9624.446567893048),\n (900893.4606560433, 6522.848008346227),\n (1117600.9726018556, 8999.004666007098),\n (1157783.331463967, 8381.46849424121),\n (884969.666391656, 6503.85860093889),\n (1048451.8670152463, 7127.607912351981),\n (1197846.005130091, 7000.836997741016),\n (847889.8484011168, 5296.8490677314685),\n (998955.999390788, 6883.602187397492),\n (1081061.1625141178, 7503.3873159795085),\n (1149747.9661762605, 7535.613525068471),\n (877415.0624695442, 7420.0272054640045),\n (987839.1676473744, 8610.653159423511),\n (749608.1624109457, 6453.136401455067),\n (1308754.7723562722, 10289.869740190783),\n (475132.11343239644, 3128.992436757382),\n (1329568.8745239377, 7364.124848762799),\n (1124914.9727104714, 9476.591104094467),\n (1151424.6636330367, 7434.974415310868),\n (1296190.3658723684, 7888.429441623999),\n (1199416.2962783284, 9485.42150152075),\n (1009850.46757187, 7534.970881532424),\n (1040455.025221345, 7142.4325387028775),\n (1145420.8329716746, 8306.26588510358),\n (957824.509262052, 7436.3681259086725),\n (1041823.7094195426, 8325.202307070604),\n (1270068.228188383, 9294.708377144638),\n (1181226.31147038, 6285.215340590791),\n (999829.5795828135, 6317.435682234474),\n (833951.8682616797, 6784.910611693499),\n (1240967.4859647145, 6813.274245786559),\n (1153519.3748111306, 9460.389560249996),\n (944709.492564217, 6956.487820927199),\n (1145777.5484308077, 7009.875008787884),\n (1124590.8420615615, 6610.42250263484),\n (1295760.3825803315, 7893.302405031608),\n (997950.3904149968, 6924.39336519753),\n (933470.6173591726, 6054.477962266569),\n (946821.3975566188, 5335.41015272593),\n (1030329.8479137861, 9228.612828712487),\n (1070307.3239893378, 8016.815555940147),\n (766618.3449262016, 6052.862880487395),\n (1177699.712650815, 8179.736350698433),\n (666742.0175594462, 4742.142760821635),\n (703341.6455299646, 5219.128044223444),\n (610303.8093169291, 5079.192077977653),\n (1289465.2765567102, 8243.044648939782),\n (974558.5959762465, 6443.1939832265925),\n (1308246.1809064872, 7456.918230571071),\n (1356698.7647188257, 9196.394510736323),\n (1016431.7909494755, 6606.032250414721),\n (690810.3802983055, 5467.715891562804),\n (1213723.9094151303, 8432.41030884784),\n (1153744.280433867, 7500.229085452209),\n (1233284.9309971991, 7111.282896610944),\n (900893.4606560433, 6961.885855061862),\n (1306625.9098631938, 9991.874556107761),\n (443021.93788433255, 4693.863224314092),\n (1267225.6643445743, 10100.734993759279),\n (828248.1774612233, 6607.8327643580415),\n (997437.7832274942, 7218.856701216393),\n (351344.0116238684, 2616.0091587533793),\n (613704.2305499166, 4288.50418637347),\n (1166642.4699121541, 6521.8312374857005),\n (600614.895993434, 5279.002449690085),\n (863040.7992180925, 7824.638286225985),\n (764385.9471811344, 5768.040476680318),\n (1069771.8456220226, 5972.5853341558695),\n (1139566.9529235882, 6641.199521622041),\n (870766.3978540811, 6537.988009478816),\n (987154.1854869282, 8769.8453465329),\n (1285220.8166950126, 10600.980533718215),\n (836789.4457310261, 5891.340401505595),\n (1188662.7347118466, 9210.231605288043),\n (1185224.1163937133, 6939.058414114578),\n (1189668.4578145035, 8798.044706374387),\n (1285116.2486285048, 8428.088242448923),\n (1303966.3328994452, 8368.075560826894),\n (685619.2553484128, 5242.51499167602),\n (1275999.8732309267, 9255.870737553063),\n (505969.9157078825, 4708.956149066008),\n (1300457.1912435717, 9780.43741022431),\n (648494.9907830029, 4319.7588537065685),\n (997826.8447770721, 5855.445165835459),\n (1242544.6834811866, 8200.554414039718),\n (1275093.8943863036, 8737.675417900782),\n (1331469.3220556793, 7742.153729844681),\n (1343955.967015837, 7075.903717529273),\n (1093670.89247831, 5841.373667225937),\n (1289635.3446318803, 8314.410269662534),\n (945863.4122009205, 7081.560242676513),\n (474703.4683143773, 3095.2897514004953),\n (1360128.9015885906, 9091.649124842103),\n (1075254.5921392504, 8387.334048163417),\n (803004.9399215588, 6023.635316760411),\n (1018716.4999322479, 6057.977821210122),\n (904202.1485224147, 7028.722591479411),\n (1331099.3549329827, 8973.237840328014),\n (495746.5612621648, 4781.823448879139),\n (1240070.8736769634, 8824.323611536769),\n (723385.1458050342, 5485.168478580663),\n (930264.236823136, 6989.773923613061),\n (1127414.1586397062, 6197.241144287297),\n (500301.8413042395, 4537.2019289963755),\n (1117685.757607459, 9071.161116934329),\n (836106.1954021232, 5374.772237327059),\n (1134654.84172047, 6134.722173667376),\n (1267920.8936519765, 10009.182799507711),\n (607892.222888422, 4327.488381101504),\n (1086495.5453707855, 9635.183554493064),\n (1159038.9915757882, 7506.922112638256),\n (1253233.2300035045, 7304.884410773777),\n (878191.3633124136, 6848.798431494045),\n (546527.0141618547, 4599.557770591217),\n (979503.8322736355, 5598.75607903169),\n (938229.9643055364, 6441.205223632883),\n (1089580.8601066214, 6679.859909059017),\n (773819.1532274148, 4864.805182731111),\n (833678.638496652, 6052.288638553366),\n (361449.23818936455, 2271.9229706813535),\n (871702.8708738885, 5772.875263080694),\n (862541.8498023868, 7052.614873039627),\n (1392066.352479849, 11824.83426006558),\n (1023470.4512745335, 7165.303187708618),\n (918642.1450904813, 8121.3676930997735),\n (752074.0582433216, 4293.356327385555),\n (1101342.1467915128, 8856.78231866685),\n (759245.8475338621, 5026.0813930413515),\n (1145343.773038072, 7664.184022226575),\n (1185112.3018971838, 7553.081540239655),\n (1112970.6616874414, 8672.297800139215),\n (1111074.5691991083, 6153.433139916758),\n (1012215.2536738754, 7542.021278118292),\n (1090972.8009348009, 8443.381710270196),\n (1202471.9790938927, 6766.510574944786),\n (816007.1369236796, 5490.826068817416),\n (625129.1159365729, 4426.646301468616),\n (1162370.550246745, 6506.702079008692),\n (995605.5088466931, 6431.987926204928),\n (730703.6684609029, 6063.587673380488),\n (1030045.5071334239, 7499.674031617269),\n (874386.3918663933, 5868.310138823224),\n (801861.8990235986, 4480.829619815186),\n (1217560.3458584493, 8129.054832878005),\n (1167295.5804784696, 6878.200106611354),\n (856164.4126517475, 6480.7942981801825),\n (1101684.434711067, 7038.255272067997),\n (997931.3416790678, 5767.789979302956),\n (921944.5051728642, 6141.955774674916),\n (758968.7863353326, 5090.921522446265),\n (870979.2248136727, 5392.225843775282),\n (944164.3941262675, 8403.67106060919),\n (1208189.5439016148, 9135.22211153395),\n (1245604.9399236676, 9400.428357424445),\n (917317.1078281058, 8189.4362515037865),\n (1218672.1596162615, 7196.738889788904),\n (1124349.7194708895, 9915.03526476275),\n (703280.7843991787, 4997.599094367302),\n (1078062.442411197, 7279.337266590106),\n (775949.6494503176, 6175.38691279733),\n (873378.3130998148, 5866.027735170886),\n (1238535.784035686, 8474.683663875101),\n (822991.9901171295, 5325.883027505624),\n (1271618.3709041749, 9181.601394637464),\n (929654.8760754431, 6163.558377001454),\n (1085104.2467875585, 6453.756167150513),\n (1061880.3474091948, 6877.585775385459),\n (1215884.6716511757, 10314.387162373661),\n (1353198.3885616867, 7478.279560207887),\n (1389827.5294504743, 9381.734735658207),\n (1216666.485825939, 6919.920745099474),\n (1110982.2104619953, 7305.485766767592),\n (1240549.8119312688, 7410.163206028007),\n (1251950.8409697227, 7212.527399937861),\n (1086740.050415783, 6915.078003488252),\n (351512.8327656284, 2610.2388615704112),\n (1364800.1738174583, 11918.930811923694),\n (1179134.7575001658, 7959.532352780484),\n (1369235.6724471396, 10042.391114154718),\n (701598.9744825918, 6192.757154075257),\n (1179134.7575001658, 10896.978816306575),\n (823044.2430313632, 5476.758452259958),\n (930635.7085787471, 7096.932558180086),\n (468780.49320938194, 4016.3630865023224),\n (496933.7973169816, 3298.810007609508),\n (739322.6387712522, 5095.492485483762),\n (366997.38404783787, 3873.7247392745726),\n (1138844.3521854838, 7963.009107625422),\n (866013.221511526, 5217.520652577843),\n (618119.776989295, 5248.219696483793),\n (728276.1089451567, 4562.703894487574),\n (1018049.4976267011, 7508.261810357864),\n (1100793.7202962476, 7544.491077096003),\n (1411089.3102286367, 7413.382434667793),\n (1307943.1319966381, 8141.323006936886),\n (1225388.3395157189, 7650.440060734316),\n (512038.9369091114, 4289.820367837123),\n (1358593.7482858284, 10731.280660949282),\n (1292305.700182179, 9085.48012249842),\n (878191.3633124136, 6312.8055107683895),\n (1380378.7003328041, 9485.015771848182),\n (1356512.4995821973, 12680.697865291913),\n (1121921.916886099, 9914.99938008265),\n (830617.3030443859, 4959.379145785153),\n (1107576.2486638739, 7190.306273350437),\n (1161323.0093313444, 7558.555961992634),\n (1137088.9497497543, 6545.6269820532625),\n (962683.3889990267, 5746.816070056609),\n (946103.8400111257, 5918.016117498083),\n (1328157.1247497709, 7691.982759661064),\n (875462.2205473143, 7183.283000818288),\n (1143656.3757380927, 6722.57714155466),\n (923987.3169464773, 6766.46462845813),\n (998834.9645254895, 9080.136323033168),\n (379441.13194102194, 3852.2874540197204),\n (526473.1440752473, 3753.0494302552356),\n (1052983.1345842355, 7687.211469024071),\n (997891.4184821087, 7404.854391256745),\n (1389583.1725877672, 8608.552051689967),\n (990627.1419234327, 6613.05082525629),\n (1263132.7261172784, 8642.573740854039),\n (418214.0046770959, 3264.4943486153825),\n (1373801.6492264853, 10306.360164565887),\n (990050.6730906836, 7980.6567464381915),\n (1027361.3597105392, 7113.255847853435),\n (1099895.1112386633, 9859.384657957236),\n (1302284.2616698963, 10074.027427727573),\n (742995.8346555079, 4780.081904559229),\n (1099135.5099419071, 7279.163213441337),\n (1042137.4096576079, 5979.683126945187),\n (871702.8708738885, 5426.5027472958145),\n (1181472.442665666, 7452.865292013098),\n (1199385.024531658, 7637.983477014415),\n (1372677.1246028533, 12606.11699954963),\n (925050.3693999868, 5405.982688663669),\n (988225.5011256678, 6178.62136810462),\n (749263.8263975276, 4953.428531338061),\n (1028331.6313969819, 7444.597152920041),\n (1185224.1163937133, 7396.578749111161),\n (833003.4724925623, 6917.254683397004),\n (1066316.9431170833, 8075.368385337735),\n (351344.0116238684, 3305.945640182855),\n (533743.9251648014, 4649.409686743411),\n (1057516.1686787384, 6370.788114230173),\n (820733.1573294834, 5323.111406861105),\n (930635.7085787471, 5774.954924793597),\n (892701.6474896154, 5393.4355623282745),\n (823111.0092123861, 5377.666528457377),\n (769618.1169840707, 4663.131475948674),\n (942764.2558401807, 6101.647614821508),\n (973337.5956322424, 8738.103014631075),\n (932548.9568512302, 6981.513819209615),\n (698558.1024330076, 4992.30226397928),\n (683994.5827927127, 5745.916570801948),\n (1279965.124329565, 9921.855123891399),\n (1149664.807201463, 7863.146151379556),\n (862541.8498023868, 7302.264957041069),\n (938128.8875390895, 7025.700484027527),\n (1034574.2427168057, 8362.503438165106),\n (351944.05445315666, 3594.4018185989453),\n (476906.7598254586, 3727.5298056392176),\n (865047.6523672778, 5409.756146546985),\n (1300470.308634375, 8354.417180278599),\n (1161323.0093313444, 8856.489814051914),\n (1172883.8661317383, 10261.98699954861),\n (1278595.282741724, 8643.633797828763),\n (960823.8379272688, 6785.533066716213),\n (1167774.3288705682, 8625.784458130673),\n (645540.630260417, 4806.018134718686),\n (972524.0643685915, 7964.798899606764),\n (583921.4726265004, 4273.7499363716315),\n (1073778.3352477977, 6875.238923163799),\n (1041842.4588779447, 7289.4242177491005),\n (1167999.7563919772, 8601.0798883709),\n (1152760.6580953184, 7979.17137610905),\n (1245294.359993765, 11072.545593758556),\n (825254.9538013336, 5416.594160794979),\n (1137088.9497497543, 7072.28662428742),\n (690520.4351066181, 6220.571947392664),\n (1023920.0848493036, 7022.943617827186),\n (1028072.9312887425, 8738.553917788877),\n (1099393.8923521012, 9366.333610185071),\n (1026452.3372960885, 6213.103922151729),\n (467164.02176451095, 2785.2355500986864),\n (478887.7282765499, 3671.1448937817427),\n (499281.3802343906, 3494.5440812069837),\n (1032741.0278231201, 6903.518547945046),\n (574652.5793786533, 5088.638528522932),\n (1173255.6960660873, 6463.270287621958),\n (948473.9841919802, 7990.765576683339),\n (956382.7388383107, 6602.093605100164),\n (791784.0815408127, 5676.281577458681),\n (1347227.5695963816, 8858.816822252371),\n (555057.0493104281, 4707.388417253943),\n (845827.5647168856, 7260.177994145231),\n (1100387.4057783985, 6415.144633827462),\n (963322.302055078, 7631.4242191918665),\n (1256993.2840837499, 11837.347992055476),\n (712194.770741251, 5165.278357319133),\n (759335.6654661737, 4609.546725605248),\n (810113.9185798123, 5329.03692383882),\n (978606.7874115845, 6631.44752618545),\n (1132951.9246679784, 8516.949422972702),\n (1153519.3748111306, 9125.508513869481),\n (445772.8314256193, 2977.6838426556023),\n (1334264.798462713, 7732.884297148358),\n (1263101.7466093823, 9892.030833075072),\n (392010.3044212029, 2911.6396143055376),\n (1252781.4996559664, 8753.60845795476),\n (832369.499776305, 4658.471138295715),\n (1275133.527173969, 8817.242065823812),\n (1178214.4628504056, 7045.498551378375),\n (1020960.5385864743, 8297.304312898523),\n (675507.4922916868, 5751.839805516774),\n (574549.2730249917, 3598.056613227721),\n (877415.0624695442, 6088.227450637129),\n (1150342.9909107008, 8158.607665223995),\n (402429.5413141034, 3132.2140761951428),\n (986881.1185268654, 8837.980041899185),\n (1134881.9415765891, 8015.3984294870725),\n (989606.0921322629, 6814.529020091921),\n (905232.0665886316, 6490.906490979291),\n (607762.8403373014, 4452.601480367177),\n (1002361.4630193051, 5335.091314161865),\n (603406.6242052092, 4233.025091078639),\n (584371.6383310473, 4362.590012562585),\n (886534.6985714526, 5853.6968787813785),\n (755459.292745289, 4488.720988028245),\n (664014.6224502034, 5523.683850885231),\n (1317293.5887295546, 7389.136114621369),\n (1126746.1896954803, 9650.41201262849),\n (971069.52443364, 5576.586719358671),\n (1053375.4009913804, 6962.14298737545),\n (1337276.5477204423, 9452.616243176968),\n (740311.378751841, 5597.324798373468),\n (1324973.530794842, 7098.577332855777),\n (1301895.5906835443, 7910.056872102627),\n (574878.7085981847, 4297.171025159426),\n (846869.429136501, 6918.342578753419),\n (921568.1346370754, 5471.355551438173),\n (876526.3980942187, 6646.987348985419),\n (433264.9388321284, 3224.6654540454497),\n (1308169.9206615984, 11661.046938489375),\n (861583.2941068566, 5265.938523640315),\n (973337.5956322424, 8417.438683818868),\n (1161917.4776581496, 7901.496290709537),\n (1428105.1611186434, 9232.050172272458),\n (924320.6761091688, 5905.727190857646),\n (1026656.2703650367, 6689.414698618638),\n (1047214.2707139173, 6757.504122860523),\n (1090461.8697126617, 6822.915181051006),\n (902122.9720516955, 6276.1729426733),\n (1110490.194763588, 8983.088450742225),\n (478162.996450514, 3796.74536402467),\n (794925.0078609005, 5485.93496807423),\n (1008284.7498350639, 7358.428176822476),\n (1365924.993929206, 9732.545546731864),\n (1171325.03242829, 7902.461546559464),\n (633110.028340774, 4879.578922657015),\n (769555.2245935402, 4754.971667336403),\n (1162770.5568134221, 9962.930259493218),\n (1040455.025221345, 9268.156508554974),\n (769618.1169840707, 6710.359928804187),\n (1210925.9054117354, 9606.69078198304),\n (874579.5793684401, 5775.053737303952),\n (857331.6113703008, 6035.31254727192),\n (1386516.8355075603, 9870.206754560571),\n (1400008.2828777516, 9118.52002629243),\n (1055339.3520892332, 5873.701946464468),\n (997437.7832274942, 5366.229760196276),\n (1008167.7681388517, 8028.8597891922145),\n (1293085.000533149, 7957.675266864839),\n (1370724.1597102643, 9880.286296625498),\n (1284674.2302182997, 11056.97624628348),\n (655210.4142465334, 5923.751221495927),\n (862877.6317850484, 5901.408264062774),\n (1209489.2032980684, 8193.807302698391),\n (1262521.1264499803, 9812.058542567891),\n (946157.4448761216, 5365.429562952298),\n (881834.7948593491, 6784.6524548890275),\n (1021861.644417022, 6313.293038174958),\n (1129899.3801662961, 7471.614864238644),\n (974468.4588834865, 5612.26967594789),\n (1247892.281186798, 11461.20765853298),\n (850715.9552087683, 6702.223745944216),\n (1305050.8067902897, 8872.88112923942),\n (914039.3059709799, 8409.810123867173),\n (1181226.31147038, 6360.940826621978),\n (682266.4300226201, 5718.134558237983),\n (977276.8796749294, 6644.388154100381),\n (1308220.3667699192, 10508.142085217405),\n (1139219.0176794247, 8525.596384680477),\n (738939.4624302117, 5906.462993630817),\n (1285949.4561284366, 7968.609645801497),\n (735765.7637172693, 5746.455689718108),\n (890206.4297648845, 6505.149177680233),\n (944709.492564217, 6815.952713433758),\n (1068665.6365287036, 7071.659672255448),\n (914369.9631993871, 5867.542429367953),\n (1078765.5097432858, 8772.150860337802),\n (951389.8299819131, 5275.31650827474),\n (1047162.9821589574, 8595.778287110814),\n (1255510.104780363, 10117.44494022161),\n (518815.55981098185, 3939.9458382777957),\n (897763.8170881245, 6612.718082075688),\n (1189344.8563989184, 7915.1928482817675),\n (548931.96347861, 3724.831672346892),\n (918729.3513069988, 5941.77177103877),\n (711446.1118954802, 4642.610982858386),\n (1249154.498827154, 7865.936690536467),\n (937776.0949617784, 5772.283921427333),\n (1224780.6014990082, 6905.190975036658),\n (945887.2922977176, 6704.40475741669),\n (1028408.074271695, 7260.543266602319),\n (1341027.3593604716, 11821.375252343349),\n (1035927.3297062513, 8962.233342054305),\n (647938.1226571405, 4191.338968998407),\n (584987.326745953, 3945.598888356035),\n (966661.0209356069, 6997.78121879349),\n (1291645.5398728983, 8265.697778383406),\n (983268.7227055619, 7283.411534334604),\n (571189.2356842841, 4567.533236893726),\n (429098.56422100705, 2912.115740039433),\n (1126648.5300115792, 8809.45868303705),\n (1367664.688860767, 8805.4949250092),\n (857246.5462604938, 7277.738948917187),\n (1050197.9412299818, 6101.163922061524),\n (1264336.5351519564, 9983.245815865188),\n (1361595.5428092512, 8334.05442665869),\n (1192916.27723508, 7357.728560462687),\n (766803.744701488, 5199.975298505646),\n (618218.0352305049, 5054.656680525327),\n (1009127.9389277197, 9000.519280281676),\n (1179834.3822546545, 8104.896669191183),\n (1326081.525873897, 6925.602999532444),\n (1317770.8680018373, 9255.307072492647),\n (973377.8267598656, 6711.931003575158),\n (1283831.5522605418, 8690.718857106216),\n (609064.3116430923, 3991.284929581418),\n (1272698.102907115, 8837.862079736075),\n (496933.7973169816, 3682.3925666338423),\n (1034346.3546476025, 9258.672004500304),\n (1050909.5557600698, 8332.749868997284),\n (1209601.2775913111, 7249.523526468812),\n (959724.8471812863, 7836.882615065394),\n (727488.6479291064, 5423.524473945689),\n (1293085.000533149, 8790.455236653004),\n (1175837.4239665312, 8159.1173067377185),\n (1120367.1487152763, 6909.888262010326),\n (1275896.3432172495, 10345.85669639802),\n (1283940.1454923057, 9537.377290397644),\n (823850.9808135533, 6470.526154469991),\n (938128.8875390895, 7566.138982798825),\n (970439.8961604731, 6186.797055683406),\n (1040243.4938043124, 7319.720589183177),\n (786572.4974396147, 6945.564172540851),\n (961137.3158959184, 6432.716502048247),\n (647003.7684774896, 5040.128066239689),\n (1091360.0153891733, 8147.5600092845425),\n (833951.8682616797, 5014.933930382138),\n (1021057.9003675708, 6858.607230653794),\n (829763.3400505927, 5209.110898244527),\n (629000.1438702475, 4752.9698522830595),\n (1201416.1145477588, 10080.578160504063),\n (1046613.0963670125, 6814.515350460584),\n (1342743.6288111506, 9002.84762456558),\n (761911.8167003122, 6093.694774211987),\n (1036580.6848300057, 8647.188254207005),\n (917317.1078281058, 8416.920591823384),\n (1167774.3288705682, 9602.288359051116),\n (982290.9308073658, 7426.441627849424),\n (1139277.7612018117, 10087.719047244946),\n (803766.3858335284, 6447.049156447967),\n (973027.0212004004, 5091.722457681189),\n (903013.8828639317, 6458.5890422320035),\n (1012925.0474861563, 8222.275821190155),\n (813804.7182926126, 6637.816330185914),\n (1409384.5431921014, 9370.55484763846),\n (933471.5766647316, 6413.901961388182),\n (503675.25401193916, 3776.7313784341864),\n (922901.429458256, 5960.025445136865),\n (1213416.0683495484, 10028.952235299641),\n (1002361.4630193051, 7202.373274118528),\n (1224363.4531101075, 9316.716834946033),\n (1378765.8550548898, 8326.986456419703),\n (466907.53279359534, 3581.44001211403),\n (1127802.4878587965, 8143.480150727816),\n (1027361.3597105392, 8419.772228071419),\n (1201457.7691327368, 11402.713828525099),\n (1193767.0225684901, 9500.189091870829),\n (730872.4012970008, 5771.840572745202),\n (1085942.159473146, 6419.024989089397),\n (1087955.7449866629, 7825.5156477932505),\n (984536.2262707964, 7586.844819021373),\n (908728.8924194293, 7009.703349799211),\n (1086740.050415783, 9914.38894476025),\n (1383550.5105386614, 7784.195266073322),\n (728063.440388463, 4902.13522894933),\n (538100.9016298442, 3848.3426388737407),\n (1011759.3702184731, 5879.965122851848),\n (1155250.5906212605, 6795.349294405072),\n (1177242.8067885854, 6596.3905401219845),\n (943062.3846309107, 7249.254022397428),\n (1073594.8369711752, 7316.666412524034),\n (1077734.8144484467, 6064.098532192517),\n (1021057.9003675708, 6111.630205533124),\n (806372.041543896, 6025.904299604034),\n (954210.358052198, 5635.9007815751565),\n (921944.5051728642, 6499.739606209416),\n (1006959.620407209, 8479.092761990181),\n (996157.2127869587, 6387.354316189795),\n (766385.7426435687, 5586.691282961302),\n (1219802.4301739098, 7752.79256397562),\n (1076168.0277746576, 8633.117531381673),\n (917432.000731927, 8725.308714303423),\n (982906.4088444662, 6825.000450355981),\n (1005571.3242694952, 6702.587225770903),\n (1239211.3348334888, 6726.183890898124),\n (910343.633626371, 6778.19963607098),\n (855606.8992964646, 5815.993325047684),\n (1245620.4706787162, 7279.453151036708),\n (1356950.5831600872, 10629.853778798903),\n (1291077.6775783957, 9025.726723658368),\n (783163.5344363598, 5574.418991194123),\n (1076205.8749802362, 7172.762749075061),\n (833003.4724925623, 6917.254683397004),\n (1354300.0524750876, 10330.153302827935),\n (1028953.2272743721, 6013.959807557808),\n (1202253.927507612, 6448.736135905406),\n (1176025.5346679147, 7419.425841475897),\n (988248.5755068904, 6092.510993297759),\n (570565.6763347695, 5191.321301696229),\n (1034246.954577242, 7031.29933473138),\n (1214122.6814386316, 10098.27246438127),\n (793948.075455103, 5533.116115211119),\n (995931.3040387435, 7357.151271928257),\n (1099393.8923521012, 7760.6764198675855),\n (757242.6115775282, 6939.981998835453),\n (803332.6737921247, 6528.923466830145),\n (1056362.4692106387, 8694.337390465515),\n (923312.0738120853, 5814.956470874029),\n (1208969.3827820108, 9286.355145271318),\n (1344831.4774045493, 8044.9389757453855),\n (787225.6640126745, 6246.579617559779),\n (1202798.6609703696, 9658.497795363464),\n (993759.0265502243, 8090.238776982025),\n (666062.7251840555, 4382.975438690976),\n (970078.2340095168, 7323.774672667419),\n (923044.5348540212, 5646.830809187162),\n (1231128.755231335, 9197.827509379013),\n (1236320.4601503059, 10583.421600079428),\n (1263811.6104796203, 8606.312772811238),\n (1196555.7409621202, 8199.544418201609),\n (817960.4958733175, 6743.86258636059),\n (1308601.2423496533, 8873.405482796625),\n (1226433.6531040883, 9778.061566362676),\n (1411089.3102286367, 9152.323993417023),\n (1376454.4093109088, 11541.927333661215),\n (1252753.5315378564, 6460.974737378423),\n (943234.7426772963, 6043.208066473334),\n (1038730.431840829, 6728.291825381472),\n (1235220.9784565698, 7328.898294361401),\n (1230165.71102608, 9571.863625157128),\n (1173100.640382544, 8229.509451564047),\n (1338839.712950221, 8320.95183265226),\n (1174460.8602515187, 7359.842715927723),\n (1052983.1345842355, 7112.466686293238),\n (781051.6436648661, 5817.008096469943),\n (1196775.0114060517, 9788.01355095367),\n (1142056.1433924148, 7054.3897133813425),\n (1295114.3127562148, 9745.279419872088),\n (926886.3532648417, 6658.244649704583),\n (1150342.9909107008, 7226.195360626955),\n (1274435.2758274658, 7501.399702040495),\n (1323296.53354268, 9076.571844122705),\n (964645.162133991, 5830.143130517242),\n (1278390.603770174, 7415.386279246541),\n (1118678.7936203906, 6289.945643738882),\n (1022905.5282455998, 7774.000020387545),\n (1374418.4107730037, 7811.306285834982),\n (1264580.4122449048, 8831.704648787638),\n (1125200.0917630217, 8378.91005318449),\n (984168.3367204969, 5761.962172606557),\n (903978.9411068724, 6532.517829730219),\n (1055533.4713549237, 7625.491271921096),\n (675507.4922916868, 5224.148080239982),\n (536783.6055923443, 4949.754357760656),\n (779334.489941594, 5390.620975963332),\n (521479.161225584, 3664.259970625745),\n (1143286.7295732128, 9509.5882879554),\n (1307943.1319966381, 8328.479857671082),\n (655303.9296989886, 3792.571787238723),\n (1111920.9049272125, 9451.43372889488),\n (1281930.508473201, 12050.866650176742),\n (903693.2961702287, 7907.471150753224),\n (1151921.477060444, 8481.240805082038),\n (671906.6303533805, 4575.6552893937915),\n (1211510.0750576446, 7362.988883735973),\n (901006.3010120356, 6558.988910987315),\n (582824.6526001722, 5766.119846489997),\n (1373193.4653985659, 9453.663497127085),\n (328278.29288638517, 2953.798661461058),\n (938453.1039650668, 6095.974026871855),\n (1013058.1583554486, 5221.572002574041),\n (810935.2919346776, 5395.21361883349),\n (712653.8810712497, 5512.730616659561),\n (1228559.7833412471, 9949.403299618478),\n (974062.9173379338, 7487.483545209899),\n (1128568.1106769764, 7047.69669081539),\n (1367809.5806381693, 9360.90902709695),\n (1046691.3413768302, 8782.54632955808),\n (948961.7750957563, 5937.125835530212),\n (876526.3980942187, 6068.988449073645),\n (1139640.3273991675, 7119.491296540398),\n (942169.6344864165, 6230.950469659071),\n (982057.6369402104, 5266.267707468739),\n (1005701.2180554903, 6578.589388849984),\n (493632.67332372686, 2949.666857126281),\n (1064770.6087149011, 8334.989773758429),\n (1106150.594676581, 6871.926437985976),\n (738939.4624302117, 5808.021943736994),\n (908292.8750174106, 6162.882813802042),\n (908271.1880544457, 5488.868477351),\n (941021.0012524505, 5834.155768721768),\n (1003843.1438128587, 8096.894945251289),\n (1221444.094117672, 10155.358313312836),\n (689955.4784401028, 4244.544758350287),\n (1231752.5727493837, 7699.344585451808),\n (965274.709712482, 8206.053254439892),\n (1253131.0519389792, 8148.804435313953),\n (962197.30353906, 5671.3028661324015),\n (733354.1521306749, 6489.767961255399),\n (1056949.3923087534, 6634.623737250071),\n (1022191.3143688967, 7642.207028091103),\n (1121842.3587574814, 7074.846668342682),\n (743470.4343767104, 6003.529063316295),\n (995931.3040387435, 9155.56602728849),\n (955260.6256749068, 7045.157960940315),\n (490208.4321381133, 3408.060346935967),\n (1183394.0398798767, 8033.992771344534),\n (1140647.3162559895, 8973.637313662237),\n (552299.0884206013, 3775.7661199966687),\n (950376.5795906726, 6705.5675019786495),\n (1302662.64984164, 8883.00241519565),\n (1310153.116499247, 9036.939404166633),\n (898962.4174445812, 6888.0730394839875),\n (875557.2664185464, 5440.72667298518),\n (1283323.9581458173, 10036.537479731427),\n (1339806.5939746287, 8451.976894620046),\n (1051078.4875208193, 8471.105043974008),\n (1289905.0871842431, 10531.999134861688),\n (1286558.7294576645, 8511.440512395026),\n (1139623.2214347664, 6551.0610233846355),\n (1241687.2919851937, 8632.600584850745),\n (1002847.8364366016, 5467.8735656308845),\n (1360770.723567919, 9702.734406262238),\n (491185.34103471634, 4429.977119955414),\n (522422.926366332, 3875.4966788338925),\n (952688.0318586741, 6305.329220857722),\n (426778.0175169524, 3441.2884109770075),\n (1008240.0126519535, 8166.8164305175205),\n (1325741.553205343, 6910.411502591015),\n (1270219.1882189417, 8191.011656822142),\n (1088240.605996899, 8565.681103797675),\n (1073594.8369711752, 6260.652703499937),\n (1032658.880909986, 7396.854921295097),\n (596174.0736329941, 4272.838475187401),\n (1261106.0472364218, 8488.35040254262),\n (910334.4833866216, 5686.562217171132),\n (1111717.0924546206, 7493.403061077011),\n (903853.0786030166, 6814.606026725494),\n (917800.0391499746, 7100.30863906449),\n (1016088.2061501584, 7063.189249426892),\n (682219.7586708692, 5410.050897278149),\n (712653.8810712497, 4097.9590424725875),\n (533629.8069877331, 4053.968066312247),\n (1324973.530794842, 9718.29039617158),\n (1374618.3989021291, 10048.291537740582),\n (999548.8106297164, 6636.711030958937),\n (962419.2940704406, 7488.812042307695),\n (1222475.9106233015, 9893.972180221243),\n (1068665.6365287036, 7887.620403669527),\n (1145343.773038072, 7000.937327995428),\n (1150483.7234076506, 7783.989864956484),\n (1186783.8960902584, 8008.853898293998),\n (768315.7544733444, 5444.561836499886),\n (587026.9269850181, 5161.143667701471),\n (1035927.3297062513, 7440.34466132809),\n (1153748.7512647822, 7815.958680391532),\n (965274.709712482, 7171.676793796215),\n (824819.122238641, 5740.160378482759),\n (979744.1899989212, 8073.131908562851),\n (1019473.8712288588, 9549.23619869014),\n (1196428.3023614208, 7084.312587557167),\n (832493.1354966252, 5197.378661414538),\n (1201249.6853919232, 7161.217481207134),\n (1110490.194763588, 7577.039823669507),\n (1218002.8750681286, 7633.070030293644),\n (670611.4688828631, 5569.880670542416),\n (948276.1705372569, 8356.767760793584),\n (1023523.3476024868, 5716.168450937699),\n (1151141.1864375058, 6436.312141572422),\n (1313456.0994995332, 7113.819033109633),\n (1324670.68325505, 9256.583156581262),\n (1188428.782633333, 8036.57984826295),\n (541440.9470220294, 3917.7287383841963),\n (996287.7066106944, 6530.883251910352),\n (1246456.8573879104, 9756.400600247796),\n (1110118.8251410264, 9532.998109514165),\n (574549.2730249917, 4397.624749500575),\n (746408.3185825422, 6196.442609411361),\n (758569.1658859678, 4989.9200020125845),\n (1245604.9399236676, 9400.428357424445),\n (804394.199817529, 4827.950064579923),\n (512731.7964427229, 3839.1444539449753),\n (709048.1403518172, 4275.541128809013),\n (943435.3015050633, 7121.991474256074),\n (418774.7607778415, 3357.720725933495),\n (655714.9474568975, 5722.330782607845),\n (1162800.5193428297, 7350.570239980154),\n (986672.5748826505, 5499.109650939722),\n (1298987.0498167388, 8952.65224212473),\n (1011953.5130440829, 7931.940795761142),\n (1056577.9974197543, 6059.672216905634),\n (860805.9644987073, 4719.339513560567),\n (1055469.341208407, 7007.726168509218),\n (1214015.9763915276, 8895.087856756612),\n (1366931.8773426504, 9846.295469046918),\n (946749.9547431043, 6936.0954276618895),\n (1061364.2795936815, 6971.3477229766295),\n (1018759.479313682, 7140.988033900315),\n (1073806.0086576042, 9002.491007975894),\n (517727.42771168845, 3085.1180528943637),\n (1208726.223705831, 8437.004195531645),\n (1390671.1122671622, 8050.578643758614),\n (1290272.0685505792, 9703.581380862972),\n (423405.0603947633, 2525.583228497454),\n (993442.9462330058, 8758.261318130519),\n (1016409.7369208887, 7877.856725329792),\n (1264580.4122449048, 8656.819408217556),\n (1351399.6657790036, 10921.74237997862),\n (706042.6123311939, 5019.03585169597),\n (792023.7997769999, 7212.6806532515375),\n (556079.6259171956, 4718.390477262948),\n (709625.3267367713, 4810.575125353862),\n (636182.0696483168, 6164.450895746786),\n (1081719.8503273877, 7216.04823565504),\n (865434.0122164389, 7271.762596692289),\n (1397107.3588937903, 9716.464430297523),\n (937811.2417170764, 5421.209855572762),\n (618218.0352305049, 4962.75383178848),\n (379441.13194102194, 4060.5192082910557),\n (667657.1415351243, 4745.735988774983),\n (956576.2908856027, 7892.179711264942),\n (1326957.4987745734, 8473.809454382766),\n (1242855.2129669886, 9288.318414713784),\n (648107.1257634934, 5123.864901296341),\n (1232335.614503659, 8878.859913599093),\n (1269792.3662580606, 7210.647733491165),\n (1291662.7886796538, 10111.89838503955),\n (919705.3608514434, 6819.258857220932),\n (1198519.4788826043, 9541.262183640358),\n (807942.1065494891, 5344.963320767838),\n (1139274.4970811382, 8632.951852534261),\n (880586.6546987782, 6866.865915350421),\n (1366527.1833260527, 7301.390848416101),\n (682219.7586708692, 5071.922716198263),\n (289162.5217872924, 2528.9210855499914),\n (586674.9665154632, 5328.488604499277),\n (1203015.5064264107, 6822.618282343758),\n (796826.2636697955, 5457.517597600453),\n (623007.3414080738, 4834.18825423617),\n (896269.7696189827, 5253.459827148784),\n (947455.0436594818, 7406.874586150706),\n (660616.0229369155, 4032.0639543506572),\n (1051979.0405479183, 5398.921268170963),\n (1272235.7425676861, 10104.86039011194),\n (1220704.432519838, 8106.681087439042),\n (1191403.2798093562, 8488.800275254742),\n (771401.1326566108, 5350.293926134024),\n (1325490.6286103888, 7680.222696287841),\n (1220801.826718901, 8556.375019069817),\n (1034081.2714641772, 7491.104503888031),\n (1286900.9440537964, 9257.69119231321),\n (945863.4122009205, 8040.521525538941),\n (1091494.2504296955, 7699.841596820978),\n (1272698.102907115, 8121.278667865592),\n (589889.5467397758, 4971.40972030867),\n (1104141.9894087533, 6841.021049864359),\n (1051640.5649680959, 8710.862946809622),\n (1260580.3643773915, 9624.306152688701),\n (874579.5793684401, 5222.123060328049),\n (817556.0430008837, 7536.13820965555),\n (1000417.8637931744, 7655.665828969839),\n (1200482.9854297494, 10134.045077379309),\n (1172744.2832974992, 8104.688502295283),\n (1133375.3583265606, 8378.833763479637),\n (1185711.8429183057, 8574.35240954038),\n (1150690.0822501192, 8419.178956023452),\n (899653.3586223187, 5947.450499299161),\n (857537.1820231887, 4870.259502980437),\n (1251683.7077618355, 8165.036029496737),\n (902784.321535919, 6688.341466521245),\n (1019018.9398809893, 6590.235556363045),\n (1252110.1659183046, 7463.430169838333),\n (959735.3085934777, 7897.048377224052),\n (1253327.5212675678, 6666.797681945154),\n (1350178.0012327717, 8359.112304349706),\n (958076.7152751872, 6883.7293906486475),\n (978918.7716137761, 6521.075343772359),\n (1045841.7221119587, 8668.088774364145),\n (1199059.7789130264, 9695.763666417139),\n (1006426.3106936873, 8096.537207163022),\n (561499.7059679581, 4684.106592889903),\n (739608.7665287819, 6363.425970479405),\n (1395191.9428758644, 9224.226780595798),\n (937527.1402476166, 8113.754397850043),\n (615644.4289372979, 4717.9808935847905),\n (588110.9463112144, 3646.17353141063),\n (1278595.282741724, 11044.643186114508),\n (823850.9808135533, 5421.251642934329),\n (697707.8533437819, 6300.655943651269),\n (1099275.725324021, 6855.926446530071),\n (1256021.0256774437, 8602.971710886188),\n (1264336.5351519564, 8582.08850837538),\n (1328186.4120918612, 10863.753090945822),\n (1152745.8822219158, 10498.137009731443),\n (1253158.1441988242, 8565.102148670869),\n (601429.5897074647, 4722.243812968434),\n (1146690.4170472652, 6862.588719372577),\n (576519.3673348002, 4196.083696361757),\n (1272873.3073819436, 9488.460330659233),\n (1175837.4239665312, 6008.077289506891),\n (1280433.9138569483, 8336.19546845359),\n (1199471.5711090802, 10731.694443272912),\n (924437.0206775402, 7230.540568416817),\n (866157.8390798796, 5123.07308742393),\n (1097919.2779118556, 6741.315235217943),\n (1283398.8178438144, 6748.186261478067),\n (1005911.3664172571, 9083.596161142688),\n (1211868.2024961219, 7875.986408339692),\n (328572.20696294407, 2424.1312592938352),\n (917800.0391499746, 7692.001025653189),\n (972681.4525916919, 6580.061773220731),\n (964250.7733909696, 6847.975721969939),\n (1081834.7490917905, 8495.220045539543),\n (505969.9157078825, 4585.036250406376),\n (1393379.6860139912, 10806.026012237793),\n (682554.659139513, 5755.813740121448),\n (1214814.928689231, 7061.88340165354),\n (1181446.051949595, 8034.999751196912),\n (655869.106905475, 4978.120175239879),\n (1149625.9634257397, 8358.201762042314),\n (665682.6363735674, 5820.672937966531),\n (1351478.674559541, 8607.676501879818),\n (871286.4545628892, 7863.653452421724),\n (1058411.0039218287, 8067.312279452091),\n (1157403.867012893, 8350.625956244574),\n (1318482.5385954396, 10998.698975624442),\n (971126.9592459245, 6252.196865033619),\n (1355886.304413404, 11122.429992292939),\n (1124747.3559337275, 6353.300358650581),\n (1025923.47978266, 7983.710301249427),\n (1177291.377302796, 8844.934697911947),\n (868623.2476637756, 7030.942624715001),\n (1038677.9889135349, 6276.333039483174),\n (631699.9558426135, 4024.613946536315),\n (705909.3669809165, 4884.954472715314),\n (1318065.7985848377, 7721.777598362062),\n (1137072.0169760417, 8674.367614976747),\n (1278069.841237361, 10540.321230346088),\n (1014693.2744341128, 6837.780320703593),\n (863773.1379883643, 6553.356038900351),\n (1366448.2731116381, 9050.330985934947),\n (1418231.280750046, 7524.4665495408235),\n (1309019.2031752046, 7599.273677409452),\n (494316.31641067966, 5004.496496184625),\n (1325490.6286103888, 10714.38474914231),\n (1291916.615079999, 9368.224080544995),\n (1175903.3410533688, 10790.035584725534)]"
     },
     "execution_count": 9,
     "metadata": {},
     "output_type": "execute_result"
    }
   ],
   "source": [
    "cases_per_year_list"
   ],
   "metadata": {
    "collapsed": false,
    "pycharm": {
     "name": "#%%\n"
    }
   }
  },
  {
   "cell_type": "code",
   "execution_count": 10,
   "outputs": [],
   "source": [
    "with open('cases_per_year_list.pickle', 'wb') as handle:\n",
    "    pickle.dump(cases_per_year_list, handle, protocol=pickle.HIGHEST_PROTOCOL)"
   ],
   "metadata": {
    "collapsed": false,
    "pycharm": {
     "name": "#%%\n"
    }
   }
  }
 ],
 "metadata": {
  "kernelspec": {
   "display_name": "Python 3",
   "language": "python",
   "name": "python3"
  },
  "language_info": {
   "codemirror_mode": {
    "name": "ipython",
    "version": 2
   },
   "file_extension": ".py",
   "mimetype": "text/x-python",
   "name": "python",
   "nbconvert_exporter": "python",
   "pygments_lexer": "ipython2",
   "version": "2.7.6"
  }
 },
 "nbformat": 4,
 "nbformat_minor": 0
}