{
 "cells": [
  {
   "cell_type": "markdown",
   "source": [
    "## This notebook produces cases per year for the mortality based with info simulation"
   ],
   "metadata": {
    "collapsed": false,
    "pycharm": {
     "name": "#%% md\n"
    }
   }
  },
  {
   "cell_type": "code",
   "execution_count": 1,
   "outputs": [],
   "source": [
    "import numpy as np\n",
    "import pandas as pd\n",
    "import itertools\n",
    "import pickle\n",
    "import datetime, random, copy\n",
    "import sys, os, tqdm\n",
    "\n",
    "import SEIR_full as mdl\n",
    "import SEIR_full.model as mdl\n",
    "import SEIR_full.calibration as mdl\n",
    "from SEIR_full.indices import *\n",
    "from SEIR_full.utils import *\n",
    "from SEIR_full.parameters import *"
   ],
   "metadata": {
    "collapsed": false,
    "pycharm": {
     "name": "#%%\n"
    }
   }
  },
  {
   "cell_type": "markdown",
   "source": [
    "* Fixing the ranges of the uncertainty factors that we're interested in:"
   ],
   "metadata": {
    "collapsed": false,
    "pycharm": {
     "name": "#%% md\n"
    }
   }
  },
  {
   "cell_type": "code",
   "execution_count": 2,
   "outputs": [],
   "source": [
    "# Creating a list of tuples, each tuple is a realization of randomly picked values for the factors that we change every iteration of the simulation\n",
    "np.random.seed(73)\n",
    "list_of_tuples = []\n",
    "for i in range(1000):\n",
    "    booster_eff = round(np.random.uniform(low=29.5001, high=95.5)) / 100     # Discrete uniform dist, booster_efficiency ~ U(30, 95), Updated in the model's object\n",
    "    inv_level = round(np.random.uniform(low=9.5001, high=20.5)) / 100       # Discrete uniform dist, booster_efficiency ~ U(10, 20), Updated in the simulation's settings\n",
    "    hosp_proba_scalar = round(np.random.uniform(low=0.8, high=1.2), 2)      # Continuous uniform dist, booster_efficiency ~ U(0.8, 1.2), Updated in the model's object\n",
    "    years_for_model_run = round(np.random.uniform(low=.5001, high=5.5))         # Discrete uniform dist, booster_efficiency ~ U(3, 10), Updated in the simulation's settings\n",
    "    list_of_tuples.append((booster_eff, inv_level, hosp_proba_scalar, years_for_model_run))"
   ],
   "metadata": {
    "collapsed": false,
    "pycharm": {
     "name": "#%%\n"
    }
   }
  },
  {
   "cell_type": "markdown",
   "source": [
    "* Fixing the static settings for all runs of the big loop"
   ],
   "metadata": {
    "collapsed": false,
    "pycharm": {
     "name": "#%% md\n"
    }
   }
  },
  {
   "cell_type": "code",
   "execution_count": 3,
   "outputs": [],
   "source": [
    "## DEFINING STATIC SETTINGS (INDEPENDENT IN THE DYNAMIC FACTORS) FOR THE SIMULATION RUN\n",
    "# Short path for the data directory\n",
    "DATA_DIR = r'/Users/yotamdery/Old_Desktop/git/SEIR_model_COVID-main/Data'\n",
    "# Reading the indices of the model - adding an hint to declare it's from type Indices!\n",
    "with(open(DATA_DIR + '/parameters/indices.pickle', 'rb')) as openfile:\n",
    "    ind:Indices = pickle.load(openfile)\n",
    "\n",
    "# Create indices for the age groups for easy & automatic access to the results of the operation in the script:\n",
    "age_groups_ind = {'5-9':0, '10-29':1, '30-59':2, '60+':3}\n",
    "\n",
    "# Reading the neutralized vectors:\n",
    "# Alpha variant vector\n",
    "with open(DATA_DIR + '/parameters/neutralized_alpha_variant_vec.pickle', 'rb') as pickle_in:\n",
    "\tneutralized_alpha_variant_vec = pickle.load(pickle_in)\n",
    "\n",
    "# Delta variant vector\n",
    "with open(DATA_DIR + '/parameters/neutralized_delta_variant_vec.pickle', 'rb') as pickle_in:\n",
    "\tneutralized_delta_variant_vec = pickle.load(pickle_in)\n",
    "\n",
    "# Beta_lockdown vector\n",
    "with open(DATA_DIR + '/parameters/neutralized_lockdown_vec.pickle', 'rb') as pickle_in:\n",
    "\tneutralized_lockdown_vec = pickle.load(pickle_in)\n",
    "\n",
    "# Beta_school vector\n",
    "with open(DATA_DIR + '/parameters/neutralized_school_vec.pickle', 'rb') as pickle_in:\n",
    "\tneutralized_school_vec = pickle.load(pickle_in)\n",
    "\n",
    "# Isolation morbidity ratio vector\n",
    "with open(DATA_DIR + '/parameters/neutralized_isolation_morbidity_ratio_vector.pickle', 'rb') as pickle_in:\n",
    "\tneutralized_isolation_morbidity_ratio_vector = pickle.load(pickle_in)\n",
    "\n",
    "# zero vector to remove any transition from V_2 and S_2 to V_3\n",
    "with open(DATA_DIR + '/parameters/neutralized_transition_rate_to_V_3.pickle', 'rb') as pickle_in:\n",
    "\tneutralized_transition_vector = pickle.load(pickle_in)\n"
   ],
   "metadata": {
    "collapsed": false,
    "pycharm": {
     "name": "#%%\n"
    }
   }
  },
  {
   "cell_type": "markdown",
   "source": [
    "* Utils functions:"
   ],
   "metadata": {
    "collapsed": false,
    "pycharm": {
     "name": "#%% md\n"
    }
   }
  },
  {
   "cell_type": "code",
   "execution_count": 4,
   "outputs": [],
   "source": [
    "# Getting the reported unreported ratio\n",
    "def get_reported_unreported_ratio(scen):\n",
    "    if scen == 'Scenario2':\n",
    "        reported = 1\n",
    "        unreported = 2\n",
    "        reported_unreported = unreported / (reported + unreported)\n",
    "    return reported_unreported\n",
    "\n",
    "# Getting all region,age combinations as a list\n",
    "def get_all_region_age_combinations():\n",
    "    \"\"\"This function returns a list of tuples of all region,risk,4-age_group combinations\"\"\"\n",
    "    counties_list = list(ind.region_dict.keys())\n",
    "    age_groups_list = list(age_groups_ind.keys())\n",
    "    return list(itertools.product(counties_list, age_groups_list))\n",
    "\n",
    "def region_age_groups_mapping(wanted_mapping: str):\n",
    "    \"\"\" This function gets a wanted mapping (4 examined age groups to 9 original model's age groups or vice versa),\n",
    "    and returns a dictionary consist of the wanted mapping\n",
    "    \"\"\"\n",
    "    # Initializing the final mapping to return and it's keys:\n",
    "    mapping_dict = {}\n",
    "    all_comb_4_age_groups_list = get_all_region_age_combinations()\n",
    "    if wanted_mapping == '4-to-9':\n",
    "        # Iterating over all possible combinations with the 4-age_groups:\n",
    "        for combination in all_comb_4_age_groups_list:\n",
    "            # The list that the current combination will map to\n",
    "            curr_res_list = []\n",
    "            # A list to iterate when building the curr_res_list - depending on the current and new age-group:\n",
    "            if combination[1] == '5-9':\n",
    "                correspondent_age_groups = ['5-9']\n",
    "            elif combination[1] == '10-29':\n",
    "                correspondent_age_groups = ['10-19', '20-29']\n",
    "            elif combination[1] == '30-59':\n",
    "                correspondent_age_groups = ['30-39', '40-49', '50-59']\n",
    "            else:\n",
    "                correspondent_age_groups = ['60-69', '70+']\n",
    "\n",
    "            # Appending to the curr_res_list to finalize the mapping:\n",
    "            for age_group in correspondent_age_groups:\n",
    "                curr_res_list.append((combination[0], age_group))\n",
    "\n",
    "            # Updating the final mapping_dict:\n",
    "            mapping_dict[combination] = curr_res_list\n",
    "    return mapping_dict\n",
    "\n",
    "# Getting all region,risk,age combinations as a list\n",
    "def get_all_region_risk_age_combinations():\n",
    "    \"\"\"This function returns a list of tuples of all region,risk,4-age_group combinations\"\"\"\n",
    "    counties_list = list(ind.region_dict.keys())\n",
    "    risk_list = ['High', 'Low']\n",
    "    age_groups_list = list(age_groups_ind.keys())\n",
    "    return list(itertools.product(counties_list, risk_list, age_groups_list))\n",
    "\n",
    "def region_risk_age_groups_mapping(wanted_mapping: str):\n",
    "    \"\"\" This function gets a wanted mapping (4 examined age groups to 9 original model's age groups or vice versa),\n",
    "    and returns a dictionary consist of the wanted mapping\n",
    "    \"\"\"\n",
    "    # Initializing the final mapping to return and it's keys:\n",
    "    mapping_dict = {}\n",
    "    all_comb_4_age_groups_list = get_all_region_risk_age_combinations()\n",
    "    if wanted_mapping == '4-to-9':\n",
    "        # Iterating over all possible combinations with the 4-age_groups:\n",
    "        for combination in all_comb_4_age_groups_list:\n",
    "            # The list that the current combination will map to\n",
    "            curr_res_list = []\n",
    "            # A list to iterate when building the curr_res_list - depending on the current and new age-group:\n",
    "            if combination[2] == '5-9':\n",
    "                correspondent_age_groups = ['5-9']\n",
    "            elif combination[2] == '10-29':\n",
    "                correspondent_age_groups = ['10-19', '20-29']\n",
    "            elif combination[2] == '30-59':\n",
    "                correspondent_age_groups = ['30-39', '40-49', '50-59']\n",
    "            else:\n",
    "                correspondent_age_groups = ['60-69', '70+']\n",
    "\n",
    "            # Appending to the curr_res_list to finalize the mapping:\n",
    "            for age_group in correspondent_age_groups:\n",
    "                curr_res_list.append((combination[0], combination[1], age_group))\n",
    "\n",
    "            # Updating the final mapping_dict:\n",
    "            mapping_dict[combination] = curr_res_list\n",
    "    return mapping_dict\n",
    "\n",
    "def get_indexes_region_risk_age_combination(region_risk_age_group: tuple):\n",
    "    \"\"\"This function gets a tuple of (region, risk, 4_age_group) and returns the indexes of that combination as they are in the original model (including transformation to the 9 original age groups. e.g.: for (1101, 'High', '10-29'), returns the indexes for (1101, 'High', '10-19') + (1101, 'High', '20-29')\"\"\"\n",
    "    # Initializing the result list and the age groups mapper:\n",
    "    indexes_list_of_lists = []\n",
    "    four_to_nine_age_map = region_risk_age_groups_mapping('4-to-9')\n",
    "    for val in four_to_nine_age_map[region_risk_age_group]:\n",
    "        indexes_list_of_lists.append(ind.region_risk_age_dict[val])\n",
    "    # Merging the list of lists to one list:\n",
    "    region_risk_age_indexes_list = [item for sublist in indexes_list_of_lists for item in sublist]\n",
    "    return sorted(region_risk_age_indexes_list)\n",
    "\n",
    "# Getting the current lambda_t for the current combination of (region, 4-age_group):\n",
    "def get_current_lambda_t(curr_res_mdl_1_ml: dict, target_region_risk_4age_group: tuple):\n",
    "    # Getting the lambda of the last day of the current model, and the region,4-age_group mapping:\n",
    "    lambda_last_day = np.reshape(curr_res_mdl_1_ml['L_2'][-1, :], newshape=(540))\n",
    "    four_to_nine_age_map = region_age_groups_mapping('4-to-9')\n",
    "    # Initializing the final proportion for the current compartment that we want to calculate:\n",
    "    final_prop_for_comp = 0\n",
    "    # Iterating on each correspondent combination of (region, 9-age_group) to aggregate on:\n",
    "    for val in four_to_nine_age_map[target_region_risk_4age_group]:\n",
    "        # Getting the index of the current (region, risk, 9-age_group)\n",
    "        correspondent_index = ind.region_age_dict[val]\n",
    "        # Adding the value of current (region, risk, 9-age_group)\n",
    "        final_prop_for_comp += lambda_last_day[correspondent_index].sum()\n",
    "\n",
    "    return final_prop_for_comp\n",
    "\n",
    "def calc_comp_prop_for_region_risk_age(comp: str, curr_res_mdl_1_ml: dict, target_region_risk_4age_group: tuple):\n",
    "    \"\"\"This function gets the target compartment, the current predictions of the current model, and the wanted combination of (region, risk, 4-age_group),\n",
    "    and returns the compartment aggregated by the wanted combination of (region, risk, 4-age_group) - (aggregated from (region, risk, 9-age_group))\"\"\"\n",
    "    # Getting the last day of the compartment, and the needed age-groups mapping:\n",
    "    comp_last_day = np.reshape(curr_res_mdl_1_ml[comp][-1, :], newshape=(540))\n",
    "    four_to_nine_age_map = region_risk_age_groups_mapping('4-to-9')\n",
    "    # Initializing the final proportion for the current compartment that we want to calculate:\n",
    "    final_prop_for_comp = 0\n",
    "    # Iterating on each correspondent combination of (region, risk, 9-age_group) to aggregate on:\n",
    "    for val in four_to_nine_age_map[target_region_risk_4age_group]:\n",
    "        # Getting the index of the current (region, risk, 9-age_group)\n",
    "        correspondent_index = ind.region_risk_age_dict[val]\n",
    "        # Adding the value of current (region, risk, 9-age_group)\n",
    "        final_prop_for_comp += float(comp_last_day[correspondent_index][0])\n",
    "\n",
    "    return final_prop_for_comp\n",
    "\n",
    "def calc_rho_or_f_prop_for_region_risk_age(rho_or_f_j: np.array, target_region_risk_4age_group: tuple):\n",
    "    \"\"\"This function gets the model_1_ml.rho and the wanted combination of (region, risk, 4-age_group),\n",
    "    and returns rho aggregated by the wanted combination of (region, risk, 4-age_group) - (aggregated from (region, risk, 9-age_group))\"\"\"\n",
    "    four_to_nine_age_map = region_risk_age_groups_mapping('4-to-9')\n",
    "    ## Calculating the final proportion of rho or f_j as a weighted sum using the distribution of S(0) (population_size):\n",
    "    # Initializing the proportions for the weighted sum:\n",
    "    S0_list = []\n",
    "    rho_or_f_j_list = []\n",
    "    # Iterating on each correspondent combination of (region, risk, 9-age_group) and append to the relevant list:\n",
    "    for val in four_to_nine_age_map[target_region_risk_4age_group]:\n",
    "        # Getting the index of the current (region, risk, 9-age_group)\n",
    "        correspondent_index = ind.region_risk_age_dict[val]\n",
    "        # Adding the value of current (region, risk, 9-age_group)\n",
    "        S0_list.append(population_size[correspondent_index][0])\n",
    "        rho_or_f_j_list.append(rho_or_f_j[correspondent_index][0])\n",
    "\n",
    "    ## Calculating the weighted sum:\n",
    "    # Init the lists to calc the expression\n",
    "    numerator = []\n",
    "    denominator = []\n",
    "    for i in range(len(S0_list)):\n",
    "        numerator.append(S0_list[i]*rho_or_f_j_list[i])\n",
    "        denominator.append(S0_list[i])\n",
    "    # Returning the final and weighted probability value:\n",
    "    final_weighted_sum_proba = np.sum(numerator) / np.sum(denominator)\n",
    "    return final_weighted_sum_proba\n",
    "\n",
    "def update_compartment(curr_res_mdl_1_ml: dict, compartment: str, updated_array: np.array):\n",
    "    \"\"\"This function gets the current models' predictions, the compartment to update and the updated array, and updates the model object with the updated array\"\"\"\n",
    "    # Initiate settings:\n",
    "    curr_res_mdl_1_ml[compartment][-1] = updated_array\n",
    "    comp_as_list = []\n",
    "    # Changing the updated arrays to be lists of arrays (to allow the update of the model object):\n",
    "    for element in curr_res_mdl_1_ml[compartment]:\n",
    "        comp_as_list.append(element)\n",
    "\n",
    "    # Performing the proper model update\n",
    "    model_1_ml.update({\n",
    "        compartment : comp_as_list\n",
    "    })\n",
    "\n",
    "# Defining the model - initializing it for t=0:\n",
    "def defining_model(scen):\n",
    "    model_1_ml_ = mdl.Model_behave(\n",
    "    ind=ind,\n",
    "    beta_j=cal_parameters[scen]['beta_j'],\n",
    "    beta_activity=cal_parameters[scen]['beta_activity'],\n",
    "    beta_school=cal_parameters[scen]['beta school'],\n",
    "    scen=scen\n",
    "    )\n",
    "    # Predicting without an assignment (there's no need for that)\n",
    "    model_1_ml_.predict(\n",
    "        days_in_season= 529,    # Num of days between 15/05/20 - 25/10/21\n",
    "        shifting_12_days= True\n",
    "    )\n",
    "    # Updating the vectors to be able to run the model furthermore:\n",
    "    model_1_ml_.update({\n",
    "        'alpha_variant_vec':  neutralized_alpha_variant_vec,\n",
    "        'delta_variant_vec': neutralized_delta_variant_vec,\n",
    "        'isolation_morbidity_ratio_vector': neutralized_isolation_morbidity_ratio_vector,\n",
    "        'is_lockdown': neutralized_lockdown_vec,\n",
    "        'is_school': neutralized_school_vec,\n",
    "        'v2_to_v3_transition_t' : neutralized_transition_vector,\n",
    "        's_2_to_v3_transition_t' : neutralized_transition_vector\n",
    "    })\n",
    "    return model_1_ml_\n",
    "\n",
    "# Update model for current variables of uncertainty:\n",
    "def update_models_object(mdl_1_ml: mdl.Model_behave, realization: tuple):\n",
    "    new_rho = mdl_1_ml.rho * realization[2]\n",
    "    mdl_1_ml.update({\n",
    "        'v3_efficiency': realization[0],\n",
    "        'rho': new_rho\n",
    "    })"
   ],
   "metadata": {
    "collapsed": false,
    "pycharm": {
     "name": "#%%\n"
    }
   }
  },
  {
   "cell_type": "markdown",
   "source": [
    "#### Getting the vaccinations priority queue:"
   ],
   "metadata": {
    "collapsed": false,
    "pycharm": {
     "name": "#%% md\n"
    }
   }
  },
  {
   "cell_type": "code",
   "execution_count": 5,
   "outputs": [],
   "source": [
    "def get_vaccination_pq(curr_res_mdl_1_ml: dict):\n",
    "    \"\"\"This function gets the current model and returns the final priority queue for all combinations of (county, risk, 4-age_group)\"\"\"\n",
    "    # Initialize settings: final priority queue to return (as a dictionary, not sorted), the 4-9 age-groups mapper, and the reported/unreported ratio:\n",
    "    vaccination_que = {}\n",
    "    reported_unreported = get_reported_unreported_ratio('Scenario2')\n",
    "    comp_list = ['S_2', 'V_2', 'R_1', 'R_2', 'L_2']\n",
    "    mapping_4_to_9 = region_risk_age_groups_mapping('4-to-9')\n",
    "\n",
    "    for key, val in mapping_4_to_9.items():\n",
    "        # Getting the proportion value for each compartment[region,risk,4-age_group], save it as a list such that the order is exactly - [S_2, V_2, R_1, R_2, L_2]\n",
    "        current_comp_prop_list = []\n",
    "        # For each compartment - calculate its value of (region, risk, 4-age_group):\n",
    "        for comp in comp_list:\n",
    "            # If we assess the proportion of the force of infection, the calculation is different (lambda_t depends only on (region,age))\n",
    "            if comp != 'L_2':\n",
    "                current_comp_prop_list.append(calc_comp_prop_for_region_risk_age(comp, curr_res_mdl_1_ml, key))\n",
    "            else:\n",
    "                current_comp_prop_list.append(get_current_lambda_t( curr_res_mdl_1_ml, (key[0], key[2]) ))\n",
    "        # getting the proportion value for model_1_ml.rho:\n",
    "        hosp_proba = calc_rho_or_f_prop_for_region_risk_age(model_1_ml.rho , key)\n",
    "        # getting the proportion value for model_1_ml.f[model_1_ml.scen]:\n",
    "        f_j = calc_rho_or_f_prop_for_region_risk_age(model_1_ml.f[model_1_ml.scen] , key)\n",
    "        # Calculating the hospitalization probability measurement:\n",
    "        comps = current_comp_prop_list      # To shorten the code\n",
    "        V_2_eff = 1-0.94        # Effectiveness of second dose to prevent infection\n",
    "        scoring_index = ( (comps[0] + (comps[2]+comps[3])*reported_unreported + (comps[1]*(V_2_eff))) * comps[4] * ((1-f_j)*model_1_ml.delta) * hosp_proba ) \\\n",
    "                        / (comps[0] + comps[1] + (comps[2]+comps[3])*reported_unreported)\n",
    "        # Assigning the scoring measurement to the correspondent combination of (region,risk,4-age_group)\n",
    "        vaccination_que[key] = scoring_index\n",
    "    # Sorting the dict to get a \"priority queue\" - receiving a list of tuples:\n",
    "    vaccination_que = sorted(vaccination_que.items(), key=lambda x: x[1], reverse= True)\n",
    "\n",
    "    return vaccination_que"
   ],
   "metadata": {
    "collapsed": false,
    "pycharm": {
     "name": "#%%\n"
    }
   }
  },
  {
   "cell_type": "markdown",
   "source": [
    "#### calculating the transferring proportion:"
   ],
   "metadata": {
    "collapsed": false,
    "pycharm": {
     "name": "#%% md\n"
    }
   }
  },
  {
   "cell_type": "code",
   "execution_count": 6,
   "outputs": [],
   "source": [
    "def calc_trans_prop(vaccination_pq_: list, curr_res_mdl_1_ml: dict, curr_inv: float):\n",
    "    # Initializing the accumulated amount used and the priority queue:\n",
    "    curr_inventory_used = 0\n",
    "    vaccination_pq_copy = vaccination_pq_.copy()\n",
    "    # Saving the combinations that we will vaccinate:\n",
    "    vaccinated_que_ = []\n",
    "    # Iterating until we cross the prior inventory level:\n",
    "    while (curr_inventory_used <= curr_inv):\n",
    "        # Getting the current combination of (age_group, risk) from the pq:\n",
    "        current_county_risk_age = vaccination_pq_copy.pop(0)[0]\n",
    "        # Getting the correspondent reported/unreported ratio for the Scenario:\n",
    "        #reported_unreported = get_reported_unreported_ratio('Scenario2')\n",
    "        # Getting R2_(j,r), R1_(j,r), V2_(j,r), S2_(j,r) proportions:\n",
    "        S_2_risk_age, V_2_risk_age = calc_comp_prop_for_region_risk_age('S_2', curr_res_mdl_1_ml, current_county_risk_age), \\\n",
    "                                     calc_comp_prop_for_region_risk_age('V_2', curr_res_mdl_1_ml, current_county_risk_age)\n",
    "        # Calculating the formula for num of needed vaccines:\n",
    "        count_vaccines_in_use = (S_2_risk_age + V_2_risk_age) * pop_israel\n",
    "        # Updating the accumulated used vaccines:\n",
    "        curr_inventory_used += count_vaccines_in_use\n",
    "        # Updating the vaccinated_que:\n",
    "        vaccinated_que_.append(current_county_risk_age)\n",
    "\n",
    "    final_trans_prop = curr_inv / curr_inventory_used\n",
    "    return final_trans_prop, vaccinated_que_"
   ],
   "metadata": {
    "collapsed": false,
    "pycharm": {
     "name": "#%%\n"
    }
   }
  },
  {
   "cell_type": "markdown",
   "source": [
    "#### Vaccinating in booster dose:"
   ],
   "metadata": {
    "collapsed": false,
    "pycharm": {
     "name": "#%% md\n"
    }
   }
  },
  {
   "cell_type": "code",
   "execution_count": 7,
   "outputs": [],
   "source": [
    "### Vaccinating in booster (moving from S_2 and V_2 to V_3, including the model update):\n",
    "def vaccinate(trans_prop_: float, curr_res_mdl_1_ml: dict, vaccination_que: list):\n",
    "    ## initialize settings:\n",
    "    vaccination_que_copy = vaccination_que.copy()\n",
    "    trans_prop_copy = trans_prop_\n",
    "    reported_unreported = get_reported_unreported_ratio('Scenario2')\n",
    "    # Getting the last day of the compartments and V_3, saving it to a dictionary:\n",
    "    last_day_dict = {'S_2_last_day': np.reshape(curr_res_mdl_1_ml['S_2'][-1, :], newshape=(540) ),\n",
    "                     'V_2_last_day': np.reshape(curr_res_mdl_1_ml['V_2'][-1, :], newshape=(540) ),\n",
    "                     'V_3_last_day': np.reshape(curr_res_mdl_1_ml['V_3'][-1, :], newshape=(540) ),\n",
    "                     }\n",
    "\n",
    "    # Iterating over the combinations of (risk, age_group) that we need to vaccinate, and moving the population, and updating the model:\n",
    "    for curr_risk_age in vaccination_que_copy:\n",
    "        # Getting the relevant indexes to operate in the correspondent locations of the compartment:\n",
    "        curr_risk_age_indexes = get_indexes_region_risk_age_combination(curr_risk_age)\n",
    "\n",
    "        ## Vaccinating from S_2 to V_3\n",
    "        S_2_last_day_updated, V_3_last_day_updated = vaccinating_from_V_2_S_2(last_day_dict['V_3_last_day'], last_day_dict['S_2_last_day'], trans_prop_copy, curr_risk_age_indexes)\n",
    "        # updating the results:\n",
    "        last_day_dict['V_3_last_day'], last_day_dict['S_2_last_day'] = V_3_last_day_updated, S_2_last_day_updated\n",
    "\n",
    "        ## Vaccinating from V_2 to V_3\n",
    "        V_2_last_day_updated, V_3_last_day_updated = vaccinating_from_V_2_S_2(last_day_dict['V_3_last_day'], last_day_dict['V_2_last_day'], trans_prop_copy, curr_risk_age_indexes)\n",
    "        # updating the results:\n",
    "        last_day_dict['V_3_last_day'], last_day_dict['V_2_last_day'] = V_3_last_day_updated, V_2_last_day_updated\n",
    "\n",
    "    update_compartment(curr_res_mdl_1_ml, 'V_2', last_day_dict['V_2_last_day'])\n",
    "    update_compartment(curr_res_mdl_1_ml, 'S_2', last_day_dict['S_2_last_day'])\n",
    "    update_compartment(curr_res_mdl_1_ml, 'V_3', last_day_dict['V_3_last_day'])"
   ],
   "metadata": {
    "collapsed": false,
    "pycharm": {
     "name": "#%%\n"
    }
   }
  },
  {
   "cell_type": "markdown",
   "source": [
    "### Main - 1000 iterations of the Sim:"
   ],
   "metadata": {
    "collapsed": false,
    "pycharm": {
     "name": "#%% md\n"
    }
   }
  },
  {
   "cell_type": "code",
   "execution_count": 8,
   "outputs": [
    {
     "name": "stderr",
     "output_type": "stream",
     "text": [
      "tqdm() Progress Bar: 100%|██████████| 1000/1000 [2:42:22<00:00,  9.74s/it] \n"
     ]
    }
   ],
   "source": [
    "# A list to hold 1000 realizations of cases per year:\n",
    "cases_per_year_list = []\n",
    "\n",
    "# Big loop run:\n",
    "for tup in tqdm.tqdm(list_of_tuples, desc= 'tqdm() Progress Bar'):\n",
    "    # Initializing the model's object (and its predictions) to t=0:\n",
    "    model_1_ml = defining_model('Scenario2')\n",
    "    # Settings:\n",
    "    update_models_object(model_1_ml, tup)       # Updating the v3_efficiency and the proba for hosp\n",
    "    inv_level = tup[1] * pop_israel             # Updating the inventory level\n",
    "    years_for_model_run = tup[3]                # Updating the years for the model to run for\n",
    "\n",
    "    # Running the model for X years, in 6 months resolution\n",
    "    for i in range(years_for_model_run):\n",
    "        # Running until the vaccination month:\n",
    "        for j in range(1):\n",
    "            res_mdl_1_ml = model_1_ml.predict(\n",
    "                            days_in_season= 30,\n",
    "                            continuous_predict= True\n",
    "                            )\n",
    "            # Getting the vaccination priority_que:\n",
    "            vaccination_pq = get_vaccination_pq(res_mdl_1_ml)\n",
    "            # Getting the proportion of transition, and the combinations that we vaccinate:\n",
    "            trans_prop, vaccinated_que = calc_trans_prop(vaccination_pq, res_mdl_1_ml, inv_level)\n",
    "            # Vaccinating (including the model update):\n",
    "            vaccinate(trans_prop, res_mdl_1_ml, vaccinated_que)\n",
    "\n",
    "        # Running the model until the end of the current \"single\" run (half a year)\n",
    "        for k in range(5):\n",
    "            res_mdl_1_ml = model_1_ml.predict(\n",
    "                days_in_season= 30,\n",
    "                continuous_predict= True\n",
    "            )\n",
    "    ## Calculating the cases per year index for every measurement:\n",
    "    tot_new_Is = np.add(res_mdl_1_ml['new_Is_1'].sum(axis=1) * pop_israel, res_mdl_1_ml['new_Is_2'].sum(axis=1) * pop_israel)\n",
    "    tot_new_H = np.add(res_mdl_1_ml['new_H_1'].sum(axis=1) * pop_israel, res_mdl_1_ml['new_H_2'].sum(axis=1) * pop_israel)\n",
    "    # Transferring to cumulative sum:\n",
    "    cumsum_tot_new_Is, cumsum_tot_new_H = np.cumsum(tot_new_Is), np.cumsum(tot_new_H)\n",
    "    # Performing the calculation itself:\n",
    "    cases_per_year_new_Is, cases_per_year_new_H = (cumsum_tot_new_Is[-1] - cumsum_tot_new_Is[528]) / 365, (cumsum_tot_new_H[-1] - cumsum_tot_new_H[528]) / 365\n",
    "    cases_per_year_list.append((cases_per_year_new_Is, cases_per_year_new_H))"
   ],
   "metadata": {
    "collapsed": false,
    "pycharm": {
     "name": "#%%\n"
    }
   }
  },
  {
   "cell_type": "code",
   "execution_count": 9,
   "outputs": [
    {
     "data": {
      "text/plain": "[(7384.5885466842265, 53.36973623258019),\n (8861.265022660835, 56.16035688629269),\n (8362.604222020984, 56.918260872463456),\n (5446.823688075249, 35.139834113974324),\n (1966.2175285122198, 19.919775694660736),\n (9766.752932702484, 55.15020086882219),\n (5764.2964450757545, 38.80204518945514),\n (5685.172291005266, 47.731517218353765),\n (6426.775007438652, 49.24492075848397),\n (7491.738904923239, 54.784621243956494),\n (9631.950837839104, 71.95605026791853),\n (12759.147784208182, 77.3531450298698),\n (9766.752932702484, 61.958867642750775),\n (6892.5789923063, 41.05768079458561),\n (14234.017409896725, 97.42622747971421),\n (3482.118153219428, 31.827541936972487),\n (7384.5885466842265, 62.44259139211898),\n (8420.096234557388, 53.83997362551891),\n (7927.911123450693, 64.61893742274945),\n (5823.419562608828, 52.51610868913169),\n (6217.4308592130465, 41.92435840617142),\n (12210.41448828938, 81.38487498575964),\n (11258.399887706888, 72.70390079014078),\n (4893.31931221384, 37.78266860654479),\n (12918.975389998026, 72.97038472548846),\n (8285.107862651976, 65.43035514964745),\n (4809.181018505981, 35.73643556048616),\n (4294.754387813773, 30.331694313201815),\n (3360.609104854216, 23.013177908060648),\n (6723.313402363762, 58.65211912812868),\n (8362.604222020984, 47.431884060386025),\n (3549.0051589875793, 26.33166670383547),\n (8285.107862651976, 57.62673481069862),\n (9074.876002046996, 72.44729855852552),\n (12228.732744697185, 66.49547870872985),\n (4132.747394129568, 31.66018291921947),\n (2631.3520785161427, 26.004786815979973),\n (3549.0051589875793, 24.26063673836514),\n (5003.477319194836, 31.28261227941548),\n (6723.313402363762, 45.9016584481005),\n (9338.421512961548, 68.73791887798629),\n (7491.738904923239, 49.306159119561),\n (2979.349382019627, 20.940381072268483),\n (3402.9632587730175, 32.424056715594865),\n (4414.427497085283, 30.841585385170387),\n (2979.349382019627, 24.14302758920383),\n (4414.427497085283, 36.38614006115651),\n (2422.044410667656, 21.399600012578215),\n (4581.437413077706, 29.746422971931704),\n (4809.181018505981, 33.04659632475078),\n (3155.8124976281224, 25.839706881509155),\n (8362.604222020984, 69.36913043831474),\n (7927.781106286241, 48.544082970977485),\n (2422.044410667656, 17.490057702587833),\n (4294.754387813773, 27.574267557456256),\n (3229.280612309441, 22.297545206834652),\n (4132.747394129568, 34.27133202595883),\n (3761.2320970206642, 26.03980441543119),\n (10846.14257496221, 72.8660597802305),\n (8066.811108203763, 53.80740881769532),\n (9419.674623755092, 66.2073071522223),\n (10846.14257496221, 70.00856723982903),\n (3761.2320970206642, 32.31445608180022),\n (5446.823688075249, 48.62372394840612),\n (3155.8124976281224, 27.949070708570968),\n (7190.660590653285, 44.21631120620164),\n (13637.77725848957, 70.36045225750472),\n (4132.747394129568, 32.31297019590466),\n (5408.699926892597, 37.478007009752275),\n (7927.911123450693, 68.08066621325459),\n (1966.2175285122198, 18.89824873596015),\n (5930.001359715532, 51.620233026812926),\n (7190.660590653285, 42.69161081978107),\n (5764.2964450757545, 37.92018052605858),\n (1717.8419426325402, 15.360434196472458),\n (5930.001359715532, 41.996121784526125),\n (11258.399887706888, 77.24789458952496),\n (1966.2175285122198, 17.53621279102601),\n (9074.876002046996, 65.63601407866422),\n (5823.419562608828, 35.88600760423979),\n (12228.732744697185, 68.89892974639523),\n (4893.31931221384, 44.14212767893366),\n (9419.674623755092, 60.532395110602714),\n (3482.118153219428, 24.723179897469926),\n (4539.488745063494, 31.27585289196244),\n (5291.289067594501, 36.674131852235845),\n (11537.614124181226, 72.91376391295371),\n (5685.172291005266, 35.48183580833381),\n (5291.289067594501, 33.72333963423978),\n (6097.942763901423, 46.98775424469296),\n (6502.4721098729015, 50.63588525630045),\n (5823.419562608828, 52.51610868913169),\n (6217.4308592130465, 40.99270599714525),\n (4294.754387813773, 28.952980935329325),\n (4094.397908240199, 28.538770271731384),\n (12228.732744697185, 70.50123043817203),\n (4756.640690536979, 34.58442142873768),\n (4581.437413077706, 41.07839362790578),\n (7980.749349434929, 54.943045380354334),\n (8285.107862651976, 54.62534237264178),\n (10130.305822423672, 65.25397830387435),\n (7107.892989687484, 61.56250685388127),\n (7384.5885466842265, 46.4316705223445),\n (6097.942763901423, 49.3138806924501),\n (5047.718055271353, 36.701525361343),\n (4294.754387813773, 33.433799413415706),\n (2422.044410667656, 18.930415395742212),\n (7190.660590653285, 55.39744737328743),\n (11537.614124181226, 86.44415309267747),\n (3771.796086652613, 33.75129079961408),\n (4014.8550823780893, 28.41501811516301),\n (9086.496020020593, 73.38185406686516),\n (9766.752932702484, 70.81013444885771),\n (8721.012292213632, 53.702094148915506),\n (3759.9351796490632, 32.02063700437108),\n (3155.8124976281224, 24.257684011212593),\n (7384.5885466842265, 43.763183710715786),\n (3402.9632587730175, 31.592670645964233),\n (6849.700997074173, 51.435016200585295),\n (3903.6815487257504, 39.108403974836264),\n (7190.660590653285, 42.69161081978107),\n (9419.674623755092, 67.46839871702628),\n (14234.017409896725, 75.77595470644447),\n (8362.604222020984, 55.13956522019891),\n (3771.796086652613, 27.307862556051667),\n (11537.614124181226, 60.88675130875546),\n (10130.305822423672, 67.94486400712758),\n (7783.342672736843, 52.49780295333458),\n (7421.775956546581, 60.369472346027514),\n (8362.604222020984, 63.44014493076668),\n (6410.365902251587, 48.774994810745184),\n (4581.437413077706, 41.07839362790578),\n (5446.823688075249, 39.6344640587845),\n (9631.950837839104, 73.27634476824721),\n (3549.0051589875793, 27.515112398389714),\n (12759.147784208182, 72.36261954407159),\n (6849.700997074173, 57.31330376636657),\n (6502.4721098729015, 48.291631309250036),\n (3229.280612309441, 29.730060275779497),\n (3549.0051589875793, 28.69855809294402),\n (11559.973154599671, 69.44220510072351),\n (3761.2320970206642, 33.56938641507413),\n (4014.8550823780893, 32.98754976587922),\n (4014.8550823780893, 37.56008141659514),\n (6097.942763901423, 55.361809456618126),\n (10130.305822423672, 69.96302828456649),\n (2631.3520785161427, 20.892734706855805),\n (8362.604222020984, 55.73246377095383),\n (4414.427497085283, 38.81188273189969),\n (5059.380017295311, 35.50707294927493),\n (7384.5885466842265, 47.499065246996636),\n (3771.796086652613, 27.307862556051667),\n (7190.660590653285, 50.31511275188482),\n (12759.147784208182, 79.01665352513568),\n (10846.14257496221, 70.00856723982903),\n (7384.5885466842265, 44.83057843536776),\n (7783.342672736843, 54.12144634364412),\n (8066.811108203763, 49.369684379123036),\n (6698.905162190781, 46.43953308357298),\n (10759.922346889163, 69.1424860178394),\n (11559.973154599671, 75.54701434034779),\n (8861.265022660835, 70.5124480905669),\n (11559.973154599671, 78.59941896016032),\n (5446.823688075249, 47.8065185038951),\n (9716.142005842139, 59.21873908964072),\n (4294.754387813773, 40.32736630277971),\n (8066.811108203763, 59.354564365912516),\n (4809.181018505981, 41.11611403195723),\n (12210.41448828938, 84.54545265511011),\n (5685.172291005266, 46.88671160386979),\n (10202.093802937723, 81.29664192813489),\n (9631.950837839104, 54.79222176364385),\n (2631.3520785161427, 24.226681734545515),\n (2979.349382019627, 27.345674106138915),\n (3360.609104854216, 27.22290557416932),\n (5047.718055271353, 36.2982118958339),\n (6698.905162190781, 44.46338273959118),\n (9766.752932702484, 61.958867642750775),\n (5047.718055271353, 46.78436199907466),\n (13637.77725848957, 93.8139363433398),\n (7927.911123450693, 54.23375105123641),\n (3761.2320970206642, 35.45178191498484),\n (6097.942763901423, 37.68324845366462),\n (8066.811108203763, 48.26025326947976),\n (8285.107862651976, 50.4233929593614),\n (10202.093802937723, 83.38117120834386),\n (9631.950837839104, 78.55752276956221),\n (10336.452607788055, 74.72067574150469),\n (9338.421512961548, 74.62974049609925),\n (9086.496020020593, 71.500268065151),\n (6313.361124979376, 50.01259270429953),\n (10130.305822423672, 68.61758543294076),\n (8420.096234557388, 60.20814254896698),\n (5291.289067594501, 48.05575897879173),\n (6698.905162190781, 52.36798411551859),\n (4094.397908240199, 28.214466064098456),\n (12210.41448828938, 91.65675241114697),\n (5047.718055271353, 43.961167740510206),\n (7783.342672736843, 64.94573561237247),\n (5291.289067594501, 49.32038421507567),\n (5059.380017295311, 31.95636565434742),\n (2631.3520785161427, 19.336892760600453),\n (9086.496020020593, 67.10990072781671),\n (4132.747394129568, 35.250512940986425),\n (9716.142005842139, 55.92880914021594),\n (6313.361124979376, 54.14207283584686),\n (5764.2964450757545, 42.77043617474063),\n (7280.6112542703495, 59.44707547563062),\n (4809.181018505981, 31.893808080863995),\n (9419.674623755092, 66.2073071522223),\n (6313.361124979376, 54.14207283584686),\n (6097.942763901423, 48.38343011334687),\n (12210.41448828938, 77.4341528990726),\n (8066.811108203763, 47.70553771465828),\n (12228.732744697185, 67.29662905461849),\n (3155.8124976281224, 31.11311644916387),\n (3155.8124976281224, 23.994013532829847),\n (1966.2175285122198, 16.684940325442344),\n (10336.452607788055, 66.41837843689338),\n (3482.118153219428, 22.73395852640908),\n (4581.437413077706, 42.4948899599025),\n (3229.280612309441, 28.137378475291566),\n (3549.0051589875793, 25.444082432919764),\n (7107.892989687484, 43.302441261627905),\n (7190.660590653285, 53.872746986866616),\n (5685.172291005266, 45.19710037490153),\n (6849.700997074173, 45.06687133765558),\n (6313.361124979376, 54.14207283584686),\n (4414.427497085283, 30.148516050672434),\n (6892.5789923063, 51.572452705394085),\n (9419.674623755092, 57.379666198592545),\n (7384.5885466842265, 51.23494678327737),\n (5003.477319194836, 45.39793733232226),\n (8420.096234557388, 49.787502492415385),\n (4014.8550823780893, 28.41501811516301),\n (4414.427497085283, 33.61386272316328),\n (5823.419562608828, 44.20105814668571),\n (5047.718055271353, 37.50815229236146),\n (10202.093802937723, 59.06166293924351),\n (5446.823688075249, 37.59145044750699),\n (10202.093802937723, 60.451349126049045),\n (4132.747394129568, 36.88248113269893),\n (4132.747394129568, 37.861662047726426),\n (1717.8419426325402, 16.866359117695318),\n (10336.452607788055, 75.41253385022254),\n (5409.16374144798, 46.553552130949704),\n (8590.249826559557, 53.322094622178106),\n (5764.2964450757545, 43.21136850643915),\n (5823.419562608828, 45.07632662483783),\n (6849.700997074173, 48.495872417694734),\n (7927.781106286241, 49.67301513309302),\n (4414.427497085283, 38.81188273189969),\n (5409.16374144798, 42.469907207182196),\n (8285.107862651976, 71.43314002576182),\n (12918.975389998026, 82.92089173351043),\n (5930.001359715532, 40.683742978759305),\n (2979.349382019627, 26.113886984240814),\n (4414.427497085283, 40.89109073539483),\n (2622.6960492755193, 20.271154733426602),\n (6849.700997074173, 39.67844106902293),\n (5003.477319194836, 44.25345151722202),\n (4132.747394129568, 32.31297019590466),\n (5685.172291005266, 36.74904423006003),\n (7421.775956546581, 53.02014527781544),\n (5764.2964450757545, 36.15645119926525),\n (5291.289067594501, 46.3695919970798),\n (7783.342672736843, 64.40452114893618),\n (6892.5789923063, 53.57526640269107),\n (3360.609104854216, 27.784202596317193),\n (6410.365902251587, 47.7994949145301),\n (3761.2320970206642, 27.60846733202363),\n (12759.147784208182, 69.03560255353968),\n (8590.249826559557, 67.10196177172935),\n (5685.172291005266, 46.88671160386979),\n (9086.496020020593, 62.71953339048337),\n (4539.488745063494, 32.36687101610091),\n (5823.419562608828, 39.82471575592459),\n (8721.012292213632, 67.27515091182856),\n (4539.488745063494, 30.54850747587043),\n (10846.14257496221, 65.72232842922752),\n (7107.892989687484, 61.040790694102355),\n (9766.752932702484, 57.19280090100054),\n (2631.3520785161427, 19.78141903095926),\n (6313.361124979376, 42.212463566931305),\n (3549.0051589875793, 25.444082432919764),\n (5291.289067594501, 43.41879977908365),\n (6217.4308592130465, 49.843403882892524),\n (9766.752932702484, 56.5119342236076),\n (4094.397908240199, 26.59294502593153),\n (3771.796086652613, 25.466883057890453),\n (6849.700997074173, 55.35387457777299),\n (6502.4721098729015, 51.104736045710936),\n (9716.142005842139, 74.35241685699287),\n (13637.77725848957, 99.02582169574758),\n (3771.796086652613, 25.77371297425087),\n (7927.911123450693, 53.65679625281873),\n (3155.8124976281224, 26.630718316657354),\n (3360.609104854216, 29.74874217383462),\n (7927.781106286241, 60.397870673192166),\n (3402.9632587730175, 31.869799335841336),\n (5930.001359715532, 50.30785422104637),\n (2979.349382019627, 24.14302758920383),\n (3759.9351796490632, 25.374844418558148),\n (6502.4721098729015, 41.7277202575075),\n (9631.950837839104, 73.93649201841117),\n (9766.752932702484, 54.46933419142917),\n (4094.397908240199, 35.02485442439749),\n (3771.796086652613, 34.671780548694485),\n (7491.738904923239, 62.45446821811034),\n (12759.147784208182, 85.67068750619988),\n (10846.14257496221, 59.29297021332439),\n (5446.823688075249, 41.67747767006237),\n (5823.419562608828, 49.890303254674976),\n (6217.4308592130465, 45.65096804227555),\n (7384.5885466842265, 44.83057843536776),\n (6849.700997074173, 47.02630052624979),\n (2155.1837809819135, 16.631764346738194),\n (5409.16374144798, 33.894252867270694),\n (4294.754387813773, 28.263624246392602),\n (5291.289067594501, 42.15417454279967),\n (11559.973154599671, 90.80903743940803),\n (9074.876002046996, 61.301560318752365),\n (2422.044410667656, 21.811130782050917),\n (8590.249826559557, 70.09758506511038),\n (10962.909867288537, 77.9775832091247),\n (5047.718055271353, 36.2982118958339),\n (5930.001359715532, 35.871687357615755),\n (4014.8550823780893, 32.334330958634006),\n (12918.975389998026, 77.94563822949914),\n (3360.609104854216, 24.69706897450404),\n (4294.754387813773, 33.433799413415706),\n (14234.017409896725, 82.09061759864831),\n (5291.289067594501, 43.84034152451174),\n (5685.172291005266, 47.30911441111181),\n (10202.093802937723, 67.39978006007787),\n (7190.660590653285, 47.77394544118349),\n (5047.718055271353, 41.137973481945075),\n (13637.77725848957, 104.23770704815547),\n (3771.796086652613, 29.762501886932334),\n (7980.749349434929, 46.53339557723859),\n (4414.427497085283, 29.108912048924793),\n (8861.265022660835, 58.65637274790499),\n (3229.280612309441, 25.482908807811267),\n (9338.421512961548, 70.70185941735731),\n (5047.718055271353, 43.15454080949162),\n (7783.342672736843, 48.16808724584332),\n (8861.265022660835, 63.648404471131045),\n (7927.781106286241, 46.85068472780368),\n (3903.6815487257504, 29.657206347584147),\n (11537.614124181226, 78.17558192729035),\n (3155.8124976281224, 27.949070708570968),\n (3229.280612309441, 30.526401176023512),\n (8590.249826559557, 53.92121928085416),\n (5003.477319194836, 37.00504135491824),\n (11537.614124181226, 75.92051706400362),\n (1717.8419426325402, 15.059249212227867),\n (4294.754387813773, 27.918945901924847),\n (5446.823688075249, 40.04306678104038),\n (4756.640690536979, 37.93130092184133),\n (9074.876002046996, 53.87106815890368),\n (10336.452607788055, 81.63925682868117),\n (8590.249826559557, 62.30896450232029),\n (7421.775956546581, 43.046058542384706),\n (10130.305822423672, 65.25397830387435),\n (7980.749349434929, 48.77596885806993),\n (2631.3520785161427, 20.67047157167638),\n (7783.342672736843, 56.8275186608261),\n (1966.2175285122198, 18.89824873596015),\n (2422.044410667656, 23.86878462941412),\n (5003.477319194836, 30.90111700771534),\n (6410.365902251587, 45.84849512210044),\n (4756.640690536979, 33.84067043027029),\n (4014.8550823780893, 30.048065133275916),\n (2155.1837809819135, 19.21892768956425),\n (4132.747394129568, 30.35460836584947),\n (3761.2320970206642, 27.29473474870499),\n (5408.699926892597, 34.146628608885166),\n (2979.349382019627, 23.403955316064582),\n (5047.718055271353, 36.701525361343),\n (8590.249826559557, 62.30896450232029),\n (12759.147784208182, 66.54033981064057),\n (8590.249826559557, 52.722969963501605),\n (5003.477319194836, 33.57158390961656),\n (5685.172291005266, 43.92989195317548),\n (2155.1837809819135, 21.806091032390146),\n (13637.77725848957, 85.1274607559934),\n (9338.421512961548, 70.04721257090024),\n (5409.16374144798, 43.69500068431263),\n (10202.093802937723, 83.38117120834386),\n (8066.811108203763, 59.909279920733695),\n (4094.397908240199, 36.64637546256427),\n (2155.1837809819135, 21.990888414020436),\n (5685.172291005266, 46.46430879662755),\n (12759.147784208182, 83.17542476330047),\n (10202.093802937723, 70.17915243368934),\n (4539.488745063494, 29.093816643686065),\n (4756.640690536979, 30.49379093716665),\n (10962.909867288537, 62.673571551258654),\n (9086.496020020593, 61.46514272267361),\n (9419.674623755092, 55.48802885138591),\n (7927.911123450693, 47.88724826864477),\n (6426.775007438652, 42.67893132401939),\n (2979.349382019627, 24.389385013583304),\n (3402.9632587730175, 27.15861160793417),\n (3482.118153219428, 26.428226786950635),\n (4756.640690536979, 33.84067043027029),\n (13637.77725848957, 72.96639493370847),\n (9086.496020020593, 63.97392405829291),\n (6502.4721098729015, 45.94737736219887),\n (10202.093802937723, 78.51726955452365),\n (5047.718055271353, 40.33134655092657),\n (9074.876002046996, 58.205521918815634),\n (7980.749349434929, 52.700472099523836),\n (4294.754387813773, 34.46783444682048),\n (3759.9351796490632, 27.791496267944453),\n (10846.14257496221, 72.8660597802305),\n (10846.14257496221, 65.72232842922752),\n (5047.718055271353, 44.76779467152862),\n (5408.699926892597, 48.304986812569176),\n (10336.452607788055, 60.19165545843447),\n (3155.8124976281224, 23.73034305444706),\n (10962.909867288537, 64.85985893095392),\n (13637.77725848957, 101.6317643719511),\n (12210.41448828938, 63.21155338699775),\n (2622.6960492755193, 24.05807374956123),\n (7927.911123450693, 48.46420306706249),\n (4414.427497085283, 39.15841739914906),\n (9086.496020020593, 52.684408048006176),\n (14234.017409896725, 108.2513638663489),\n (8362.604222020984, 53.95376811868897),\n (2155.1837809819135, 17.925346018151302),\n (4132.747394129568, 36.88248113269893),\n (2979.349382019627, 21.679453345407293),\n (6502.4721098729015, 47.82278051983935),\n (5409.16374144798, 38.79462677579176),\n (4581.437413077706, 31.51704338692766),\n (13637.77725848957, 83.39016563852421),\n (3903.6815487257504, 37.80479050900832),\n (6410.365902251587, 57.5544938766794),\n (3155.8124976281224, 21.35730874900256),\n (1966.2175285122198, 14.30137742180774),\n (9419.674623755092, 73.14331075864546),\n (6426.775007438652, 48.30692226784587),\n (8285.107862651976, 54.62534237264178),\n (1717.8419426325402, 17.9205065625513),\n (6698.905162190781, 52.36798411551859),\n (9074.876002046996, 60.68235263876495),\n (8285.107862651976, 66.03063363725906),\n (4581.437413077706, 37.891276880913104),\n (3759.9351796490632, 31.11439256085105),\n (3229.280612309441, 28.93371937553574),\n (9074.876002046996, 66.25522175865136),\n (7980.749349434929, 47.094038897446715),\n (6217.4308592130465, 39.59522738360636),\n (10130.305822423672, 65.25397830387435),\n (3402.9632587730175, 26.604354228180327),\n (10336.452607788055, 76.10439195894025),\n (10336.452607788055, 70.56952708919904),\n (6097.942763901423, 53.03568300886133),\n (1966.2175285122198, 16.514685832325423),\n (10336.452607788055, 71.95324330663414),\n (9074.876002046996, 56.34789887885284),\n (5764.2964450757545, 51.58908280870777),\n (10130.305822423672, 69.96302828456649),\n (7280.6112542703495, 59.44707547563062),\n (3155.8124976281224, 23.994013532829847),\n (5823.419562608828, 37.19891032146797),\n (4414.427497085283, 34.65346672491044),\n (11537.614124181226, 67.65194589861682),\n (2979.349382019627, 28.331103803657438),\n (1966.2175285122198, 19.74952120154397),\n (9631.950837839104, 69.31546126726083),\n (11559.973154599671, 85.46732935473717),\n (4756.640690536979, 39.04692741954276),\n (2622.6960492755193, 25.394633402314604),\n (4094.397908240199, 35.02485442439749),\n (9086.496020020593, 73.38185406686516),\n (1717.8419426325402, 13.70391678312751),\n (11258.399887706888, 76.4905622896275),\n (6849.700997074173, 54.37415998347585),\n (12228.732744697185, 91.33113943126807),\n (9419.674623755092, 72.51276497624329),\n (2631.3520785161427, 20.892734706855805),\n (11537.614124181226, 87.19584138043926),\n (12228.732744697185, 91.33113943126807),\n (14234.017409896725, 73.06967060978577),\n (10202.093802937723, 76.43274027431512),\n (7783.342672736843, 54.12144634364412),\n (5409.16374144798, 39.20299126816828),\n (7421.775956546581, 51.97024141092803),\n (9419.674623755092, 73.14331075864546),\n (9766.752932702484, 68.76753441667907),\n (9086.496020020593, 74.00904940077014),\n (4014.8550823780893, 38.866519031085616),\n (6426.775007438652, 44.08592905997552),\n (5823.419562608828, 48.13976629837033),\n (7107.892989687484, 46.43273822030017),\n (5823.419562608828, 37.19891032146797),\n (2631.3520785161427, 26.449313086338684),\n (8066.811108203763, 51.588546598409614),\n (7491.738904923239, 46.019081844923356),\n (10846.14257496221, 59.29297021332439),\n (6217.4308592130465, 40.0610535881194),\n (9716.142005842139, 76.98436081653267),\n (5291.289067594501, 44.68342501536779),\n (6313.361124979376, 54.600903961574616),\n (4893.31931221384, 41.897612712207916),\n (5446.823688075249, 38.81725861427349),\n (5930.001359715532, 47.245637007591526),\n (3549.0051589875793, 32.84061802388444),\n (5408.699926892597, 40.8093854106192),\n (2874.6508453999386, 26.332860844114585),\n (2979.349382019627, 20.940381072268483),\n (4132.747394129568, 35.250512940986425),\n (6892.5789923063, 54.075969827015406),\n (1966.2175285122198, 16.514685832325423),\n (4539.488745063494, 37.094616220699606),\n (3229.280612309441, 24.421120940819076),\n (1966.2175285122198, 18.387485256609853),\n (6426.775007438652, 40.33393509742484),\n (4294.754387813773, 38.603974580438965),\n (6426.775007438652, 48.77592151316454),\n (10202.093802937723, 61.146192219451606),\n (5764.2964450757545, 39.24297752115387),\n (5823.419562608828, 48.577400537446536),\n (12759.147784208182, 68.2038483059064),\n (3761.2320970206642, 26.353536998749767),\n (12759.147784208182, 98.14700122069502),\n (4294.754387813773, 32.05508603554289),\n (7107.892989687484, 62.08422301365972),\n (3759.9351796490632, 33.53104441023742),\n (10846.14257496221, 76.43792545573176),\n (6502.4721098729015, 38.91461552104579),\n (3903.6815487257504, 32.59033664569682),\n (6502.4721098729015, 44.071974204558394),\n (6892.5789923063, 58.08159722160932),\n (4414.427497085283, 40.54455606814536),\n (5409.16374144798, 48.59537459283394),\n (5930.001359715532, 42.87104098837034),\n (2422.044410667656, 19.341946165214814),\n (6698.905162190781, 51.87394652952303),\n (3761.2320970206642, 34.82431674834797),\n (2979.349382019627, 23.65031274044434),\n (4893.31931221384, 32.91955284530591),\n (6502.4721098729015, 44.071974204558394),\n (11537.614124181226, 72.91376391295371),\n (3549.0051589875793, 35.2075094129933),\n (4294.754387813773, 35.50186948022522),\n (6502.4721098729015, 42.66542183632724),\n (4809.181018505981, 32.27807082882618),\n (3360.609104854216, 32.83587579564765),\n (6097.942763901423, 45.12685308648715),\n (8362.604222020984, 71.1478260905794),\n (3482.118153219428, 33.24841434487308),\n (1966.2175285122198, 14.812140901157814),\n (8420.096234557388, 50.36642694000166),\n (2631.3520785161427, 21.11499784203513),\n (7980.749349434929, 61.110121902638895),\n (8066.811108203763, 54.36212437251748),\n (6892.5789923063, 59.08300407025748),\n (5047.718055271353, 41.54128694745428),\n (9419.674623755092, 70.62112762903644),\n (4094.397908240199, 27.89016185646491),\n (9074.876002046996, 50.77502975896651),\n (8721.012292213632, 64.32448639815205),\n (8066.811108203763, 48.81496882430132),\n (3761.2320970206642, 26.03980441543119),\n (2622.6960492755193, 21.384954444054223),\n (9074.876002046996, 71.20888319855017),\n (3761.2320970206642, 26.66726958206823),\n (6426.775007438652, 43.147930569338214),\n (7190.660590653285, 56.922147759707755),\n (4414.427497085283, 39.504952066398005),\n (5291.289067594501, 45.10496676079584),\n (7107.892989687484, 47.997886699635785),\n (7384.5885466842265, 59.77410458048976),\n (8420.096234557388, 56.734595863449755),\n (10336.452607788055, 80.25554061124573),\n (9086.496020020593, 58.32916605314902),\n (4294.754387813773, 34.12315610235241),\n (5047.718055271353, 33.07170417175976),\n (10130.305822423672, 73.32663541363253),\n (7421.775956546581, 46.720722076490624),\n (13637.77725848957, 72.09774737497361),\n (6723.313402363762, 51.001842720111895),\n (4094.397908240199, 38.916504915997294),\n (10130.305822423672, 55.16315691667772),\n (7107.892989687484, 46.95445438007847),\n (6097.942763901423, 53.966133587964336),\n (12918.975389998026, 92.87139874153132),\n (9338.421512961548, 65.46468464570127),\n (3761.2320970206642, 31.373258331844927),\n (10846.14257496221, 65.72232842922752),\n (3761.2320970206642, 30.745793165208006),\n (6097.942763901423, 52.57045771930983),\n (7384.5885466842265, 51.23494678327737),\n (4756.640690536979, 41.65005591417869),\n (3402.9632587730175, 25.21871077879605),\n (10759.922346889163, 80.7875362945279),\n (6097.942763901423, 55.361809456618126),\n (10962.909867288537, 71.41872107003935),\n (5291.289067594501, 42.57571628822777),\n (7783.342672736843, 53.580231880207606),\n (3482.118153219428, 23.586481971149603),\n (2422.044410667656, 19.136180780478576),\n (4809.181018505981, 42.65316502380598),\n (11258.399887706888, 71.18923619034612),\n (8721.012292213632, 64.32448639815205),\n (7980.749349434929, 53.82175873993854),\n (5930.001359715532, 42.43358138644769),\n (12228.732744697185, 94.53574081482155),\n (10130.305822423672, 58.52676404574364),\n (8285.107862651976, 59.42757027353344),\n (10130.305822423672, 69.96302828456649),\n (10336.452607788055, 76.79625006765745),\n (2874.6508453999386, 21.944050703428875),\n (5764.2964450757545, 45.41603016493051),\n (9086.496020020593, 72.12746339905594),\n (7107.892989687484, 54.78019677675867),\n (4756.640690536979, 39.418802918776414),\n (12228.732744697185, 78.51273389705484),\n (5446.823688075249, 36.77424500299632),\n (2874.6508453999386, 23.650810202584566),\n (8861.265022660835, 62.400396540324955),\n (9716.142005842139, 54.612837160445736),\n (8066.811108203763, 59.354564365912516),\n (5685.172291005266, 48.576322832838265),\n (6502.4721098729015, 40.32116788927664),\n (6723.313402363762, 53.55193485611745),\n (5003.477319194836, 36.242050811518176),\n (4294.754387813773, 30.676372657670147),\n (9766.752932702484, 55.15020086882219),\n (9766.752932702484, 63.32060099753636),\n (4414.427497085283, 37.772278730152856),\n (5059.380017295311, 45.370148768517936),\n (7783.342672736843, 48.16808724584332),\n (7107.892989687484, 50.60646749852938),\n (7421.775956546581, 58.26966461225244),\n (4893.31931221384, 37.034496950969874),\n (11258.399887706888, 85.57854988839462),\n (7280.6112542703495, 49.197579703969744),\n (6410.365902251587, 43.897495329670654),\n (4414.427497085283, 33.26732805591413),\n (8066.811108203763, 54.91683992733922),\n (7107.892989687484, 47.47617053985714),\n (8362.604222020984, 50.989275364914995),\n (1966.2175285122198, 19.579266708427266),\n (4414.427497085283, 37.07920939565442),\n (13637.77725848957, 97.28852657827775),\n (7491.738904923239, 56.42815988127532),\n (6849.700997074173, 51.92487349773349),\n (3155.8124976281224, 27.421729751805493),\n (5446.823688075249, 33.914025947207676),\n (8861.265022660835, 66.14442033274422),\n (4893.31931221384, 31.049123706368388),\n (7280.6112542703495, 60.984499841379794),\n (4132.747394129568, 34.27133202595883),\n (11537.614124181226, 75.92051706400362),\n (2979.349382019627, 24.635742437963),\n (7384.5885466842265, 46.96536788467054),\n (10130.305822423672, 67.27214258131455),\n (12918.975389998026, 92.87139874153132),\n (8590.249826559557, 69.49846040643405),\n (6097.942763901423, 46.522528955141645),\n (10846.14257496221, 76.43792545573176),\n (4581.437413077706, 40.37014546190729),\n (5003.477319194836, 37.76803189831878),\n (9716.142005842139, 65.79859898848937),\n (10962.909867288537, 78.70634566902251),\n (10202.093802937723, 81.29664192813489),\n (6723.313402363762, 44.88162159369862),\n (7384.5885466842265, 46.4316705223445),\n (3229.280612309441, 21.766651273338656),\n (8066.811108203763, 53.25269326287402),\n (7491.738904923239, 45.4712356324839),\n (2155.1837809819135, 15.892574820216755),\n (11559.973154599671, 88.51973397454921),\n (7927.911123450693, 54.23375105123641),\n (3229.280612309441, 21.50120430659088),\n (6313.361124979376, 50.01259270429953),\n (12918.975389998026, 86.23772740285015),\n (7384.5885466842265, 61.90889402979306),\n (11559.973154599671, 65.62669932595922),\n (6426.775007438652, 45.96192604125119),\n (11258.399887706888, 73.46123309003808),\n (4414.427497085283, 37.42574406290345),\n (5930.001359715532, 44.62087939605864),\n (1966.2175285122198, 17.365958297909327),\n (4132.747394129568, 33.6185447492745),\n (5047.718055271353, 47.187675464584046),\n (9716.142005842139, 61.192697059294915),\n (12918.975389998026, 69.65354905614882),\n (5764.2964450757545, 44.53416550153384),\n (4014.8550823780893, 37.56008141659514),\n (5003.477319194836, 41.58298461532078),\n (5930.001359715532, 47.245637007591526),\n (6723.313402363762, 42.3315294576929),\n (6892.5789923063, 58.58230064593342),\n (4414.427497085283, 36.039605393907024),\n (7107.892989687484, 45.389305900742656),\n (7107.892989687484, 50.08475133875068),\n (3402.9632587730175, 31.03841326621037),\n (10759.922346889163, 75.69282679847669),\n (7980.749349434929, 44.85146561661559),\n (7421.775956546581, 57.21976074536548),\n (9716.142005842139, 75.66838883676301),\n (6849.700997074173, 51.435016200585295),\n (3761.2320970206642, 37.02044483157699),\n (4893.31931221384, 41.149441056632796),\n (12228.732744697185, 84.92193666416124),\n (8590.249826559557, 54.520343939530406),\n (4809.181018505981, 38.81053754418374),\n (14234.017409896725, 85.69899639419297),\n (3771.796086652613, 27.307862556051667),\n (6097.942763901423, 40.009374901421936),\n (3155.8124976281224, 24.52135448959532),\n (4756.640690536979, 40.162553917243976),\n (9766.752932702484, 66.72493438450086),\n (4294.754387813773, 28.608302590861033),\n (7927.911123450693, 66.3498018180018),\n (11559.973154599671, 67.91600279081774),\n (7927.781106286241, 64.34913324059795),\n (1717.8419426325402, 16.866359117695318),\n (10846.14257496221, 81.43853740143427),\n (13637.77725848957, 98.15717413701256),\n (5409.16374144798, 33.485888374893634),\n (6313.361124979376, 40.83597018974909),\n (2874.6508453999386, 24.86992413055274),\n (4893.31931221384, 41.523526884420505),\n (2979.349382019627, 27.838388954898484),\n (9074.876002046996, 62.53997567872719),\n (4132.747394129568, 31.66018291921947),\n (8721.012292213632, 69.04554962003496),\n (3903.6815487257504, 27.701786148842213),\n (5823.419562608828, 47.70213205929447),\n (3759.9351796490632, 24.468599975038313),\n (13637.77725848957, 98.15717413701256),\n (6410.365902251587, 39.50774579670371),\n (5409.16374144798, 37.161168806284664),\n (10202.093802937723, 69.48430934028671),\n (7980.749349434929, 62.23140854305406),\n (13637.77725848957, 86.86475587346284),\n (10130.305822423672, 67.94486400712758),\n (3229.280612309441, 21.50120430659088),\n (8861.265022660835, 70.5124480905669),\n (9419.674623755092, 71.88221919384101),\n (9716.142005842139, 76.32637482664762),\n (5446.823688075249, 35.139834113974324),\n (11258.399887706888, 82.54922068880583),\n (13637.77725848957, 98.15717413701256),\n (7280.6112542703495, 54.8348023783834),\n (8861.265022660835, 66.14442033274422),\n (9766.752932702484, 65.36320102971473),\n (1966.2175285122198, 16.684940325442344),\n (3155.8124976281224, 30.322105014015868),\n (7190.660590653285, 50.31511275188482),\n (2155.1837809819135, 18.110143399781613),\n (4893.31931221384, 37.78266860654479),\n (4756.640690536979, 32.72504393256882),\n (9086.496020020593, 68.99148672953149),\n (4132.747394129568, 36.22969385601404),\n (9716.142005842139, 62.50866903906494),\n (5930.001359715532, 52.05769262873491),\n (5823.419562608828, 38.07417879962057),\n (3759.9351796490632, 32.02063700437108),\n (10202.093802937723, 80.60179883473234),\n (9419.674623755092, 54.85748306898399),\n (1717.8419426325402, 16.263989149206154),\n (8861.265022660835, 66.76842429814778),\n (6097.942763901423, 41.40505077007602),\n (6502.4721098729015, 50.63588525630045),\n (12210.41448828938, 89.28631915913469),\n (3903.6815487257504, 36.82708040963711),\n (7107.892989687484, 61.56250685388127),\n (11559.973154599671, 71.73150856558262),\n (3759.9351796490632, 27.489414786771363),\n (9338.421512961548, 74.62974049609925),\n (5408.699926892597, 46.22287531202726),\n (12228.732744697185, 76.91043320527837),\n (3360.609104854216, 26.942257063095408),\n (11537.614124181226, 64.64519274756744),\n (4756.640690536979, 41.65005591417869),\n (8285.107862651976, 49.22283598413842),\n (3155.8124976281224, 27.421729751805493),\n (5930.001359715532, 43.308500590292304),\n (2155.1837809819135, 20.142914597716477),\n (11258.399887706888, 81.03455608901133),\n (3903.6815487257504, 37.478887142551315),\n (6426.775007438652, 47.83792302252738),\n (9086.496020020593, 70.2458773973415),\n (13637.77725848957, 88.6020509909317),\n (13637.77725848957, 98.15717413701256),\n (4581.437413077706, 31.162919303928465),\n (3360.609104854216, 33.397172817795784),\n (8066.811108203763, 47.70553771465828),\n (6502.4721098729015, 51.573586835120906),\n (5823.419562608828, 44.20105814668571),\n (5930.001359715532, 39.37136417299295),\n (9631.950837839104, 62.713988765616314),\n (10130.305822423672, 57.85404261993019),\n (2422.044410667656, 23.86878462941412),\n (3759.9351796490632, 34.7393703349309),\n (7107.892989687484, 43.302441261627905),\n (5930.001359715532, 49.87039461912426),\n (11537.614124181226, 73.66545220071635),\n (2155.1837809819135, 19.77331983445542),\n (8861.265022660835, 65.52041636734101),\n (10336.452607788055, 76.10439195894025),\n (2155.1837809819135, 14.968587912064487),\n (3759.9351796490632, 28.697740711464387),\n (8590.249826559557, 55.119468598206325),\n (5291.289067594501, 42.15417454279967),\n (3549.0051589875793, 24.26063673836514),\n (6313.361124979376, 52.76557945866454),\n (1717.8419426325402, 14.15569425949431),\n (2979.349382019627, 27.345674106138915),\n (7384.5885466842265, 58.70670985583854),\n (6313.361124979376, 39.459476812566535),\n (4756.640690536979, 33.84067043027029),\n (3759.9351796490632, 25.072762937384816),\n (2622.6960492755193, 20.04839479130081),\n (7491.738904923239, 54.784621243956494),\n (2631.3520785161427, 20.22594530131779),\n (8590.249826559557, 68.30021108908177),\n (2155.1837809819135, 17.001359109999093),\n (3771.796086652613, 32.52397113417362),\n (6723.313402363762, 41.31149260329086),\n (7783.342672736843, 58.992376514571944),\n (11559.973154599671, 84.70422819978405),\n (8590.249826559557, 68.30021108908177),\n (4294.754387813773, 38.948652924907236),\n (5446.823688075249, 42.494683114573846),\n (9074.876002046996, 69.35126015858854),\n (5930.001359715532, 48.99547541527989),\n (5764.2964450757545, 35.71551886756681),\n (5930.001359715532, 52.05769262873491),\n (5003.477319194836, 31.28261227941548),\n (9074.876002046996, 73.06650623851273),\n (6723.313402363762, 58.65211912812868),\n (6723.313402363762, 53.55193485611745),\n (9419.674623755092, 64.31566980501599),\n (3903.6815487257504, 38.78250060837932),\n (10962.909867288537, 61.216046631462135),\n (4414.427497085283, 39.15841739914906),\n (7927.781106286241, 62.65573499742357),\n (5764.2964450757545, 36.15645119926525),\n (7280.6112542703495, 45.09778139530552),\n (7384.5885466842265, 60.30780194281558),\n (2874.6508453999386, 22.675519060209805),\n (10846.14257496221, 83.5816568067351),\n (3155.8124976281224, 29.003752622102095),\n (10846.14257496221, 63.5792090239268),\n (11559.973154599671, 75.54701434034779),\n (7980.749349434929, 53.82175873993854),\n (9631.950837839104, 70.63575576758954),\n (5764.2964450757545, 44.975097833232205),\n (3759.9351796490632, 28.999822192637698),\n (10846.14257496221, 79.29541799613342),\n (9419.674623755092, 66.83785293462428),\n (3759.9351796490632, 32.926881447891),\n (5003.477319194836, 30.90111700771534),\n (7927.781106286241, 47.97961688991935),\n (5764.2964450757545, 38.80204518945514),\n (5685.172291005266, 37.17144703730173),\n (9419.674623755092, 58.640757763396515),\n (2979.349382019627, 21.679453345407293),\n (5685.172291005266, 36.74904423006003),\n (8066.811108203763, 56.58098659180386),\n (7927.911123450693, 68.08066621325459),\n (4893.31931221384, 43.01987019557094),\n (9419.674623755092, 72.51276497624329),\n (4014.8550823780893, 35.27381559123689),\n (5003.477319194836, 35.86055553981798),\n (8362.604222020984, 57.51115942321818),\n (7190.660590653285, 53.3645135247263),\n (5291.289067594501, 43.84034152451174),\n (3482.118153219428, 30.122495047492134),\n (5408.699926892597, 33.73020630877741),\n (4581.437413077706, 42.140765876903245),\n (7280.6112542703495, 45.6102561838893),\n (7927.911123450693, 54.81070584965398),\n (12228.732744697185, 89.72883873949088),\n (2622.6960492755193, 21.607714386179936),\n (5823.419562608828, 40.262349995000655),\n (7421.775956546581, 55.11995301159067),\n (6410.365902251587, 43.40974538156329),\n (4893.31931221384, 44.51621350672109),\n (13637.77725848957, 86.86475587346284),\n (9338.421512961548, 65.46468464570127),\n (9716.142005842139, 62.50866903906494),\n (6426.775007438652, 45.96192604125119),\n (10759.922346889163, 85.15443014828608),\n (5823.419562608828, 49.890303254674976),\n (10336.452607788055, 80.25554061124573),\n (6502.4721098729015, 50.63588525630045),\n (4132.747394129568, 36.88248113269893),\n (5446.823688075249, 39.6344640587845),\n (10846.14257496221, 62.15046275372572),\n (4539.488745063494, 42.91337954943712),\n (8066.811108203763, 48.26025326947976),\n (3771.796086652613, 35.28544038141454),\n (3761.2320970206642, 36.70671224825858),\n (10202.093802937723, 74.34821099410689),\n (7980.749349434929, 58.86754862180835),\n (6410.365902251587, 44.385245277778),\n (5047.718055271353, 32.66839070625062),\n (8861.265022660835, 55.53635292088911),\n (3155.8124976281224, 23.20300209768157),\n (7491.738904923239, 59.167390943472974),\n (10202.093802937723, 66.70493696667498),\n (1717.8419426325402, 17.9205065625513),\n (5823.419562608828, 43.763423907609734),\n (7783.342672736843, 56.28630419738989),\n (3771.796086652613, 35.28544038141454),\n (3402.9632587730175, 26.05009684842674),\n (9631.950837839104, 58.092958014466035),\n (7927.911123450693, 61.734163430662925),\n (7107.892989687484, 50.60646749852938),\n (9419.674623755092, 58.01021198099463),\n (7421.775956546581, 54.59500107814618),\n (2422.044410667656, 22.222661551523316),\n (3360.609104854216, 25.819663018799844),\n (4414.427497085283, 39.15841739914906),\n (4539.488745063494, 41.82236142529883),\n (4539.488745063494, 35.63992538851571),\n (5047.718055271353, 46.38104853356534),\n (3360.609104854216, 22.451880885912896),\n (9766.752932702484, 58.55453425578618),\n (4294.754387813773, 32.399764380011284),\n (5685.172291005266, 43.0850863386909),\n (6097.942763901423, 45.12685308648715),\n (2979.349382019627, 26.113886984240814),\n (4581.437413077706, 41.786641793903975),\n (9766.752932702484, 70.12926777146508),\n (10130.305822423672, 57.181321194117004),\n (4014.8550823780893, 26.455361693427893),\n (6313.361124979376, 52.306748332936984),\n (2979.349382019627, 26.360244408620392),\n (4414.427497085283, 39.15841739914906),\n (9419.674623755092, 71.88221919384101),\n (3402.9632587730175, 30.761284576333605),\n (6892.5789923063, 59.08300407025748),\n (7980.749349434929, 54.943045380354334),\n (3903.6815487257504, 38.78250060837932),\n (2422.044410667656, 24.074550014150336),\n (4414.427497085283, 35.000001392159625),\n (6217.4308592130465, 40.0610535881194),\n (4809.181018505981, 35.35217281252382),\n (7980.749349434929, 48.77596885806993),\n (9766.752932702484, 63.32060099753636),\n (4414.427497085283, 39.15841739914906),\n (9716.142005842139, 70.40450091768332),\n (3229.280612309441, 29.995507242527832),\n (3549.0051589875793, 32.248895176607206),\n (6217.4308592130465, 53.57001351899689),\n (9086.496020020593, 63.34672872438815),\n (2874.6508453999386, 23.894632988178177),\n (7384.5885466842265, 53.90343359490615),\n (5408.699926892597, 37.06158470964366),\n (7980.749349434929, 66.71655510471543),\n (4756.640690536979, 34.21254592950393),\n (6426.775007438652, 40.80293434274385),\n (5823.419562608828, 46.38922934206617),\n (6502.4721098729015, 47.82278051983935),\n (14234.017409896725, 103.74089037191801),\n (7927.781106286241, 63.78466715954004),\n (2631.3520785161427, 18.670103355062558),\n (6723.313402363762, 42.841547884893956),\n (1717.8419426325402, 17.318136594062157),\n (5685.172291005266, 44.352294760416974),\n (9074.876002046996, 52.013445118941526),\n (4132.747394129568, 30.681002004192294),\n (5047.718055271353, 45.171108137037564),\n (6502.4721098729015, 51.104736045710936),\n (12759.147784208182, 84.00717901093383),\n (5408.699926892597, 43.724341511377794),\n (6426.775007438652, 50.651918494440366),\n (3360.609104854216, 31.15198472920422),\n (6426.775007438652, 55.810910192948576),\n (6892.5789923063, 56.579486948636294),\n (6723.313402363762, 45.9016584481005),\n (10202.093802937723, 57.67197675243808),\n (10130.305822423672, 63.23581402643571),\n (3402.9632587730175, 29.929898506702838),\n (5764.2964450757545, 42.32950384304221),\n (7927.781106286241, 56.44660810578761),\n (4893.31931221384, 37.78266860654479),\n (6698.905162190781, 40.51108205162731),\n (12759.147784208182, 84.83893325856697),\n (2422.044410667656, 20.988069243105556),\n (2979.349382019627, 19.95495137475),\n (7280.6112542703495, 43.04788224097373),\n (4756.640690536979, 37.55942542260765),\n (7927.911123450693, 58.27243464015843),\n (6892.5789923063, 44.061901340530774),\n (10962.909867288537, 67.77490877054737),\n (9074.876002046996, 59.44393727878961),\n (7927.781106286241, 48.544082970977485),\n (4294.754387813773, 33.7784777578841),\n (2422.044410667656, 17.901588472060574)]"
     },
     "execution_count": 9,
     "metadata": {},
     "output_type": "execute_result"
    }
   ],
   "source": [
    "cases_per_year_list"
   ],
   "metadata": {
    "collapsed": false,
    "pycharm": {
     "name": "#%%\n"
    }
   }
  },
  {
   "cell_type": "code",
   "execution_count": 10,
   "outputs": [],
   "source": [
    "with open('cases_per_year_list.pickle', 'wb') as handle:\n",
    "    pickle.dump(cases_per_year_list, handle, protocol=pickle.HIGHEST_PROTOCOL)"
   ],
   "metadata": {
    "collapsed": false,
    "pycharm": {
     "name": "#%%\n"
    }
   }
  }
 ],
 "metadata": {
  "kernelspec": {
   "display_name": "Python 3",
   "language": "python",
   "name": "python3"
  },
  "language_info": {
   "codemirror_mode": {
    "name": "ipython",
    "version": 2
   },
   "file_extension": ".py",
   "mimetype": "text/x-python",
   "name": "python",
   "nbconvert_exporter": "python",
   "pygments_lexer": "ipython2",
   "version": "2.7.6"
  }
 },
 "nbformat": 4,
 "nbformat_minor": 0
}