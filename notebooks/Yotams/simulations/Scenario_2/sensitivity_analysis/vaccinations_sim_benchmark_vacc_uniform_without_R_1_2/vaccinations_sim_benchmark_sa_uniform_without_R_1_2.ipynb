{
 "cells": [
  {
   "cell_type": "markdown",
   "source": [
    "## This notebook produces cases per year for the benchmark uniform with info simulation"
   ],
   "metadata": {
    "collapsed": false,
    "pycharm": {
     "name": "#%% md\n"
    }
   }
  },
  {
   "cell_type": "code",
   "execution_count": 8,
   "outputs": [],
   "source": [
    "import numpy as np\n",
    "import pandas as pd\n",
    "import itertools\n",
    "import pickle\n",
    "import datetime, random, copy\n",
    "import sys, os, tqdm\n",
    "\n",
    "import SEIR_full as mdl\n",
    "import SEIR_full.model as mdl\n",
    "import SEIR_full.calibration as mdl\n",
    "from SEIR_full.indices import *\n",
    "from SEIR_full.utils import *\n",
    "from SEIR_full.parameters import *"
   ],
   "metadata": {
    "collapsed": false,
    "pycharm": {
     "name": "#%%\n"
    }
   }
  },
  {
   "cell_type": "markdown",
   "source": [
    "* Fixing the ranges of the uncertainty factors that we're interested in:"
   ],
   "metadata": {
    "collapsed": false,
    "pycharm": {
     "name": "#%% md\n"
    }
   }
  },
  {
   "cell_type": "code",
   "execution_count": 9,
   "outputs": [],
   "source": [
    "# Creating a list of tuples, each tuple is a realization of randomly picked values for the factors that we change every iteration of the simulation\n",
    "np.random.seed(43)\n",
    "list_of_tuples = []\n",
    "for i in range(1000):\n",
    "    booster_eff = round(np.random.uniform(low=29.5001, high=95.5)) / 100    # Discrete uniform dist, booster_efficiency ~ U(30, 95), Updated in the model's object\n",
    "    inv_level = round(np.random.uniform(low=9.5001, high=20.5)) / 100       # Discrete uniform dist, booster_efficiency ~ U(10, 20), Updated in the simulation's settings\n",
    "    hosp_proba_scalar = round(np.random.uniform(low=0.8, high=1.2), 2)      # Continuous uniform dist, booster_efficiency ~ U(0.8, 1.2), Updated in the model's object\n",
    "    years_for_model_run = round(np.random.uniform(low=.5001, high=5.5))         # Discrete uniform dist, booster_efficiency ~ U(3, 10), Updated in the simulation's settings\n",
    "    list_of_tuples.append((booster_eff, inv_level, hosp_proba_scalar, years_for_model_run))"
   ],
   "metadata": {
    "collapsed": false,
    "pycharm": {
     "name": "#%%\n"
    }
   }
  },
  {
   "cell_type": "markdown",
   "source": [
    "* Fixing the static settings for all runs of the big loop"
   ],
   "metadata": {
    "collapsed": false,
    "pycharm": {
     "name": "#%% md\n"
    }
   }
  },
  {
   "cell_type": "code",
   "execution_count": 10,
   "outputs": [],
   "source": [
    "## DEFINING STATIC SETTINGS (INDEPENDENT IN THE DYNAMIC FACTORS) FOR THE SIMULATION RUN\n",
    "# Short path for the data directory\n",
    "DATA_DIR = r'/Users/yotamdery/Old_Desktop/git/SEIR_model_COVID-main/Data'\n",
    "# Reading the indices of the model - adding an hint to declare it's from type Indices!\n",
    "with(open(DATA_DIR + '/parameters/indices.pickle', 'rb')) as openfile:\n",
    "    ind:Indices = pickle.load(openfile)\n",
    "\n",
    "# Vaccination priority queue:\n",
    "vaccination_pq = [('High', '60+'), ('High', '30-59'), ('High', '10-29'), ('High', '5-9'),\n",
    "                   ('Low', '60+'), ('Low', '30-59'), ('Low', '10-29'), ('Low', '5-9')]\n",
    "\n",
    "# Reading the neutralized vectors:\n",
    "# Alpha variant vector\n",
    "with open(DATA_DIR + '/parameters/neutralized_alpha_variant_vec.pickle', 'rb') as pickle_in:\n",
    "\tneutralized_alpha_variant_vec = pickle.load(pickle_in)\n",
    "\n",
    "# Delta variant vector\n",
    "with open(DATA_DIR + '/parameters/neutralized_delta_variant_vec.pickle', 'rb') as pickle_in:\n",
    "\tneutralized_delta_variant_vec = pickle.load(pickle_in)\n",
    "\n",
    "# Beta_lockdown vector\n",
    "with open(DATA_DIR + '/parameters/neutralized_lockdown_vec.pickle', 'rb') as pickle_in:\n",
    "\tneutralized_lockdown_vec = pickle.load(pickle_in)\n",
    "\n",
    "# Beta_school vector\n",
    "with open(DATA_DIR + '/parameters/neutralized_school_vec.pickle', 'rb') as pickle_in:\n",
    "\tneutralized_school_vec = pickle.load(pickle_in)\n",
    "\n",
    "# Isolation morbidity ratio vector\n",
    "with open(DATA_DIR + '/parameters/neutralized_isolation_morbidity_ratio_vector.pickle', 'rb') as pickle_in:\n",
    "\tneutralized_isolation_morbidity_ratio_vector = pickle.load(pickle_in)\n",
    "\n",
    "# zero vector to remove any transition from V_2 and S_2 to V_3\n",
    "with open(DATA_DIR + '/parameters/neutralized_transition_rate_to_V_3.pickle', 'rb') as pickle_in:\n",
    "\tneutralized_transition_vector = pickle.load(pickle_in)\n"
   ],
   "metadata": {
    "collapsed": false,
    "pycharm": {
     "name": "#%%\n"
    }
   }
  },
  {
   "cell_type": "markdown",
   "source": [
    "* Utils functions:"
   ],
   "metadata": {
    "collapsed": false,
    "pycharm": {
     "name": "#%% md\n"
    }
   }
  },
  {
   "cell_type": "code",
   "execution_count": 11,
   "outputs": [],
   "source": [
    "# Getting the reported unreported ratio\n",
    "def get_reported_unreported_ratio(scen):\n",
    "    if scen == 'Scenario2':\n",
    "        reported = 1\n",
    "        unreported = 2\n",
    "        reported_unreported = unreported / (reported + unreported)\n",
    "    return reported_unreported\n",
    "\n",
    "def risk_age_groups_mapping(wanted_mapping: tuple):\n",
    "    \"\"\" This function gets a wanted mapping (4 examined age groups to 9 original model's age groups or vice versa),\n",
    "    and returns a dictionary consist of the wanted mapping\n",
    "    \"\"\"\n",
    "    age_groups_mapping_dict = {}\n",
    "    # If the wanted mapping is 4 examined age groups to 9 original model's age groups:\n",
    "    if wanted_mapping == ('High', '4-to-9'):\n",
    "        age_groups_mapping_dict[('High', '5-9')] = [('High', '5-9')]\n",
    "        age_groups_mapping_dict[('High', '10-29')] = [('High', '10-19'), ('High', '20-29')]\n",
    "        age_groups_mapping_dict[('High', '30-59')] = [('High','30-39'), ('High','40-49'), ('High','50-59')]\n",
    "        age_groups_mapping_dict[('High', '60+')] = [('High', '60-69'), ('High', '70+')]\n",
    "\n",
    "    elif wanted_mapping == ('Low', '4-to-9'):\n",
    "        age_groups_mapping_dict[('Low', '5-9')] = [('Low', '5-9')]\n",
    "        age_groups_mapping_dict[('Low', '10-29')] = [('Low', '10-19'), ('Low', '20-29')]\n",
    "        age_groups_mapping_dict[('Low', '30-59')] = [('Low','30-39'), ('Low','40-49'), ('Low','50-59')]\n",
    "        age_groups_mapping_dict[('Low', '60+')] = [('Low', '60-69'), ('Low', '70+')]\n",
    "\n",
    "    # If the wanted mapping is 9 original model's age groups to 4 examined age groups:\n",
    "    elif wanted_mapping == ('High', '9-to-4'):\n",
    "        age_groups_mapping_dict[('High', '0-4')] = np.nan     # There's no corresponding age group among the 4 examined age-groups\n",
    "        age_groups_mapping_dict[('High', '5-9')] = ('High', '5-9')\n",
    "        age_groups_mapping_dict[('High', '10-19')] = ('High', '10-29')\n",
    "        age_groups_mapping_dict[('High', '20-29')] = ('High', '10-29')\n",
    "        age_groups_mapping_dict[('High', '30-39')] = ('High', '30-59')\n",
    "        age_groups_mapping_dict[('High', '40-49')] = ('High', '30-59')\n",
    "        age_groups_mapping_dict[('High', '50-59')] = ('High', '30-59')\n",
    "        age_groups_mapping_dict[('High', '60-69')] = ('High', '60+')\n",
    "        age_groups_mapping_dict[('High', '70+')] = ('High', '60+')\n",
    "\n",
    "    else:\n",
    "        age_groups_mapping_dict[('low', '0-4')] = np.nan     # There's no corresponding age group among the 4 examined age-groups\n",
    "        age_groups_mapping_dict[('low', '5-9')] = ('low', '5-9')\n",
    "        age_groups_mapping_dict[('low', '10-19')] = ('low', '10-29')\n",
    "        age_groups_mapping_dict[('low', '20-29')] = ('low', '10-29')\n",
    "        age_groups_mapping_dict[('low', '30-39')] = ('low', '30-59')\n",
    "        age_groups_mapping_dict[('low', '40-49')] = ('low', '30-59')\n",
    "        age_groups_mapping_dict[('low', '50-59')] = ('low', '30-59')\n",
    "        age_groups_mapping_dict[('low', '60-69')] = ('low', '60+')\n",
    "        age_groups_mapping_dict[('low', '70+')] = ('low', '60+')\n",
    "\n",
    "    return age_groups_mapping_dict\n",
    "\n",
    "def get_wanted_df(wanted_age_group):\n",
    "\t\"\"\" Gets the age-groups that we want to address our calculations to, and returns a sub-Dataframe containing only the relevant columns (the wanted age-groups columns)\"\"\"\n",
    "\t# Reading the pop per county file:\n",
    "\tcounty_pop = pd.read_csv(DATA_DIR + '/division_choice/30/population_per_county_age-group.csv')\n",
    "\t# Initializing the list with the county column, that will be picked anyway\n",
    "\twanted_columns = [county_pop.columns[0]]\n",
    "\t# Splitting the given age_group, creating list of integers. try-expect block to catch the 60+ column as well:\n",
    "\ttry:\n",
    "\t\twanted_age_group_splitted = list(map(int, wanted_age_group.split('-')))\n",
    "\texcept ValueError:\n",
    "\t\twanted_age_group_splitted = [60, 70]  # In order to pass the logic condition successfully\n",
    "\n",
    "\t# Iterating on the columns of the file and performing the condition logic:\n",
    "\tfor col in county_pop.columns[1:]:\n",
    "\t\t# Splitting the current column of the file. try-expect block to catch the 70+ column as well:\n",
    "\t\ttry:\n",
    "\t\t\tages_as_list = list(map(int, col.split('_')[1].split('-')))\n",
    "\t\texcept ValueError:\n",
    "\t\t\tages_as_list = [70]\n",
    "\t\t# If these conditions are met, take this column to be in the sub-df\n",
    "\t\tif ages_as_list[0] >= min(wanted_age_group_splitted) and ages_as_list[0] <= max(wanted_age_group_splitted):\n",
    "\t\t\twanted_columns.append(col)\n",
    "\n",
    "\treturn county_pop[wanted_columns]\n",
    "\n",
    "# Gets a dictionary to reduce (lambda, V_2 or S_2) and reduce its cardinality to consist only the relevant age-groups\n",
    "def calc_sub_dict(dict_to_reduce: dict, wanted_age_group: str):\n",
    "    sub_dict = {}\n",
    "    # Splitting the given age_group, creating list of integers. try-expect block to catch the 60+ group as well (if wanted):\n",
    "    try:\n",
    "        wanted_age_group_splitted = list(map(int, wanted_age_group.split('-')))\n",
    "    except ValueError:\n",
    "        wanted_age_group_splitted = [60, 70]    # In order to pass the logic condition successfully\n",
    "\n",
    "    for key, val in dict_to_reduce.items():\n",
    "        # Splitting the age group part of the key. try-expect block to catch the 70+ column from the file as well:\n",
    "        try:\n",
    "            if isinstance(key, str):   # If the dict_to_reduce keys are only on the age level\n",
    "                ages_as_list = list(map(int, key.split('-')))\n",
    "            elif isinstance(key, tuple):    # If the dict_to_reduce keys are on the region&age level (as lambda_t does) - take the second element (the age)\n",
    "                ages_as_list = list(map(int, key[1].split('-')))\n",
    "        except ValueError:\n",
    "            ages_as_list = [70]\n",
    "        # If these conditions are met, take this key-value pair to be in the sub-dict\n",
    "        if ages_as_list[0] >= min(wanted_age_group_splitted) and ages_as_list[0] <= max(wanted_age_group_splitted):\n",
    "            sub_dict[key] = val    # Converting from ndarray to float\n",
    "\n",
    "    return sub_dict\n",
    "\n",
    "def get_indexes_risk_age_combination(risk_age_group: tuple):\n",
    "    \"\"\"This function gets a tuple of (risk, 4_age_group) and returns the indexes of that combination as they are in the original model (including transformation to the 9 original age groups\n",
    "    e.g.: for ('High', '10-29'), returns the indexes for ('High', '10-19') + ('High', '20-29') \"\"\"\n",
    "    # Initializing the result list and the age groups mapper:\n",
    "    indexes_list_of_lists = []\n",
    "    four_to_nine_age_map = risk_age_groups_mapping((risk_age_group[0], '4-to-9'))\n",
    "    for val in four_to_nine_age_map[risk_age_group]:\n",
    "            indexes_list_of_lists.append(ind.risk_age_dict[val])\n",
    "    # Merging the list of lists to one list:\n",
    "    risk_indexes_list = [item for sublist in indexes_list_of_lists for item in sublist]\n",
    "    return sorted(risk_indexes_list)\n",
    "\n",
    "# Gets the compartment to aggregate, and returns the same compartment, stratified by the original age-groups\n",
    "def calc_aggregated_compartment_by_age_risk(compartment: np.array):\n",
    "    compartment_dict = {}\n",
    "    for risk_age in ind.risk_age_dict.keys():\n",
    "        compartment_dict[risk_age] = float(compartment[:, ind.risk_age_dict[risk_age]].sum(axis=1))\n",
    "    return compartment_dict\n",
    "\n",
    "# Gets the compartment dictionary (the compartment stratified by the old age-groups), and aggregates the compartment to the wanted age-group by returning a dict (e.g agg. V_2 for age group 30-59, using the sub-age-groups 30-39, 40-49, 50-59)\n",
    "def compartment_by_4_age_groups(compartment: dict, target_risk_age_group: tuple):\n",
    "    # Initiate the wanted mapping:\n",
    "    four_to_nine_age_map = risk_age_groups_mapping((target_risk_age_group[0], '4-to-9'))\n",
    "    # Initiate result dict to return:\n",
    "    agg_risk_4_groups_dict = {}\n",
    "    for risk_4_age_group in four_to_nine_age_map.keys():     # Iterating on each combination of (risk, 9 age-groups):\n",
    "        agg_risk_4_groups_dict[risk_4_age_group] = 0\n",
    "    # Performing the aggregation to the new dict - (risk, 4 age groups):\n",
    "    for key, val in four_to_nine_age_map.items():\n",
    "        for tup in val:\n",
    "            agg_risk_4_groups_dict[key] += compartment[tup]\n",
    "\n",
    "    return agg_risk_4_groups_dict\n",
    "\n",
    "def calc_comp_prop_for_age_risk(comp: str, curr_res_mdl_1_ml: dict, target_risk_age_group: tuple):\n",
    "    \"\"\"This function gets the target compartment and the current predictions of the current model,\n",
    "    and returns the compartment aggregated by the wanted combination of (age-group, risk)\"\"\"\n",
    "    # Getting the last day of the compartment:\n",
    "    comp_last_day = np.reshape(curr_res_mdl_1_ml[comp][-1, :], newshape=(1,540))\n",
    "    # Aggregate the compartment by (9 age groups, risk):\n",
    "    comp_agg_9_age_groups_risk = calc_aggregated_compartment_by_age_risk(comp_last_day)\n",
    "    # Aggregate the compartment by (4 age groups, risk):\n",
    "    comp_agg_4_age_groups_risk = compartment_by_4_age_groups(comp_agg_9_age_groups_risk, target_risk_age_group)\n",
    "    # Gets the relevant age group out of the 4 age groups, and summing on it to get the final proportion:\n",
    "    return comp_agg_4_age_groups_risk[target_risk_age_group]\n",
    "\n",
    "def update_compartment(curr_res_mdl_1_ml: dict, compartment: str, updated_array: np.array):\n",
    "    \"\"\"This function gets the current models' predictions, the compartment to update and the updated array, and updates the model object with the updated array\"\"\"\n",
    "    # Initiate settings:\n",
    "    curr_res_mdl_1_ml[compartment][-1] = updated_array\n",
    "    comp_as_list = []\n",
    "    # Changing the updated arrays to be lists of arrays (to allow the update of the model object):\n",
    "    for element in curr_res_mdl_1_ml[compartment]:\n",
    "        comp_as_list.append(element)\n",
    "\n",
    "    # Performing the proper model update\n",
    "    curr_res_mdl_1_ml.update({\n",
    "        compartment : comp_as_list\n",
    "    })\n",
    "\n",
    "# Defining the model - initializing it for t=0:\n",
    "def defining_model(scen):\n",
    "    model_1_ml_ = mdl.Model_behave(\n",
    "    ind= ind,\n",
    "    beta_j= cal_parameters[scen]['beta_j'],\n",
    "    beta_activity= cal_parameters[scen]['beta_activity'],\n",
    "    beta_school= cal_parameters[scen]['beta school'],\n",
    "    scen= scen\n",
    "    )\n",
    "    # Predicting without an assignment (there's no need for that)\n",
    "    model_1_ml_.predict(\n",
    "        days_in_season= 529,    # Num of days between 15/05/20 - 25/10/21\n",
    "        shifting_12_days= True\n",
    "    )\n",
    "    # Updating the vectors to be able to run the model furthermore:\n",
    "    model_1_ml_.update({\n",
    "        'alpha_variant_vec':  neutralized_alpha_variant_vec,\n",
    "        'delta_variant_vec': neutralized_delta_variant_vec,\n",
    "        'isolation_morbidity_ratio_vector': neutralized_isolation_morbidity_ratio_vector,\n",
    "        'is_lockdown': neutralized_lockdown_vec,\n",
    "        'is_school': neutralized_school_vec,\n",
    "        'v2_to_v3_transition_t' : neutralized_transition_vector,\n",
    "        's_2_to_v3_transition_t' : neutralized_transition_vector\n",
    "    })\n",
    "    return model_1_ml_\n",
    "\n",
    "# Update model for current variables of uncertainty:\n",
    "def update_models_object(mdl_1_ml: mdl.Model_behave, realization: tuple):\n",
    "    new_rho = mdl_1_ml.rho * realization[2]\n",
    "    mdl_1_ml.update({\n",
    "        'booster_efficiency': realization[0],\n",
    "        'rho': new_rho\n",
    "    })"
   ],
   "metadata": {
    "collapsed": false,
    "pycharm": {
     "name": "#%%\n"
    }
   }
  },
  {
   "cell_type": "markdown",
   "source": [
    "#### calculating the transferring proportion:"
   ],
   "metadata": {
    "collapsed": false,
    "pycharm": {
     "name": "#%% md\n"
    }
   }
  },
  {
   "cell_type": "code",
   "execution_count": 12,
   "outputs": [],
   "source": [
    "def calc_trans_prop(vaccination_pq_: list, curr_res_mdl_1_ml: dict, curr_inv_: float):\n",
    "    # Initializing the accumulated amount used and the priority queue:\n",
    "    curr_inventory_used = 0\n",
    "    vaccination_pq_copy = vaccination_pq_.copy()\n",
    "    # Saving the combinations that we will vaccinate:\n",
    "    vaccinated_que_ = []\n",
    "    # Iterating until we cross the prior inventory level:\n",
    "    while (curr_inventory_used <= curr_inv_):\n",
    "        # Getting the current combination of (age_group, risk) from the pq:\n",
    "        current_risk_age = vaccination_pq_copy.pop(0)\n",
    "        # Getting the correspondent reported/unreported ratio for the Scenario:\n",
    "        #reported_unreported = get_reported_unreported_ratio('Scenario2')\n",
    "        # Getting V2_j,r, S2_j,r proportions:\n",
    "        S_2_age_risk, V_2_age_risk = calc_comp_prop_for_age_risk('S_2', curr_res_mdl_1_ml,current_risk_age), \\\n",
    "                                     calc_comp_prop_for_age_risk('V_2', curr_res_mdl_1_ml,current_risk_age)\n",
    "\n",
    "        # Calculating the formula for num of needed vaccines:\n",
    "        count_vaccines_in_use = (S_2_age_risk + V_2_age_risk) * pop_israel\n",
    "        # Updating the accumulated used vaccines:\n",
    "        curr_inventory_used += count_vaccines_in_use\n",
    "        # Updating the vaccinated_que:\n",
    "        vaccinated_que_.append(current_risk_age)\n",
    "\n",
    "    final_trans_prop = curr_inv_ / curr_inventory_used\n",
    "    return final_trans_prop, vaccinated_que_"
   ],
   "metadata": {
    "collapsed": false,
    "pycharm": {
     "name": "#%%\n"
    }
   }
  },
  {
   "cell_type": "markdown",
   "source": [
    "#### Vaccinating in booster dose:"
   ],
   "metadata": {
    "collapsed": false,
    "pycharm": {
     "name": "#%% md\n"
    }
   }
  },
  {
   "cell_type": "code",
   "execution_count": 13,
   "outputs": [],
   "source": [
    "### Vaccinating in booster (moving from S_2 and V_2 to V_3, including the model update):\n",
    "def vaccinate(trans_prop_: float, curr_res_mdl_1_ml: dict, vaccination_que: list):\n",
    "    ## initialize settings:\n",
    "    vaccination_que_copy = vaccination_que.copy()\n",
    "    trans_prop_copy = trans_prop_\n",
    "    reported_unreported = get_reported_unreported_ratio('Scenario2')\n",
    "    # Getting the last day of the compartments and V_3, saving it to a dictionary:\n",
    "    last_day_dict = {'S_2_last_day': np.reshape(curr_res_mdl_1_ml['S_2'][-1, :], newshape=(540) ),\n",
    "                     'V_2_last_day': np.reshape(curr_res_mdl_1_ml['V_2'][-1, :], newshape=(540) ),\n",
    "                     'V_3_last_day': np.reshape(curr_res_mdl_1_ml['V_3'][-1, :], newshape=(540) )\n",
    "                     }\n",
    "\n",
    "    # Iterating over the combinations of (risk, age_group) that we need to vaccinate, and moving the population, and updating the model:\n",
    "    for curr_risk_age in vaccination_que_copy:\n",
    "        # Getting the relevant indexes to operate in the correspondent locations of the compartment:\n",
    "        curr_risk_age_indexes = get_indexes_risk_age_combination(curr_risk_age)\n",
    "\n",
    "        ## Vaccinating from S_2 to V_3\n",
    "        S_2_last_day_updated, V_3_last_day_updated = vaccinating_from_V_2_S_2(last_day_dict['V_3_last_day'], last_day_dict['S_2_last_day'], trans_prop_copy, curr_risk_age_indexes)\n",
    "        # updating the results:\n",
    "        last_day_dict['V_3_last_day'], last_day_dict['S_2_last_day'] = V_3_last_day_updated, S_2_last_day_updated\n",
    "\n",
    "        ## Vaccinating from V_2 to V_3\n",
    "        V_2_last_day_updated, V_3_last_day_updated = vaccinating_from_V_2_S_2(last_day_dict['V_3_last_day'], last_day_dict['V_2_last_day'], trans_prop_copy, curr_risk_age_indexes)\n",
    "        # updating the results:\n",
    "        last_day_dict['V_3_last_day'], last_day_dict['V_2_last_day'] = V_3_last_day_updated, V_2_last_day_updated\n",
    "\n",
    "    update_compartment(curr_res_mdl_1_ml, 'V_2', last_day_dict['V_2_last_day'])\n",
    "    update_compartment(curr_res_mdl_1_ml, 'S_2', last_day_dict['S_2_last_day'])\n",
    "    update_compartment(curr_res_mdl_1_ml, 'V_3', last_day_dict['V_3_last_day'])"
   ],
   "metadata": {
    "collapsed": false,
    "pycharm": {
     "name": "#%%\n"
    }
   }
  },
  {
   "cell_type": "markdown",
   "source": [
    "### Main - 1000 iterations of the Sim:"
   ],
   "metadata": {
    "collapsed": false,
    "pycharm": {
     "name": "#%% md\n"
    }
   }
  },
  {
   "cell_type": "code",
   "execution_count": 14,
   "outputs": [
    {
     "name": "stderr",
     "output_type": "stream",
     "text": [
      "tqdm() Progress Bar: 100%|██████████| 1000/1000 [6:28:16<00:00, 23.30s/it] \n"
     ]
    }
   ],
   "source": [
    "# A list to hold 1000 realizations of cases per year:\n",
    "cases_per_year_list = []\n",
    "\n",
    "# Big loop run:\n",
    "for tup in tqdm.tqdm(list_of_tuples, desc= 'tqdm() Progress Bar'):\n",
    "    # Initializing the model's object (and its predictions) to t=0:\n",
    "    model_1_ml = defining_model('Scenario2')\n",
    "    # Settings:\n",
    "    update_models_object(model_1_ml, tup)       # Updating the v3_efficiency and the proba for hosp\n",
    "    inv_level = tup[1] * pop_israel             # Updating the inventory level\n",
    "    years_for_model_run = tup[3]                # Updating the years for the model to run for\n",
    "\n",
    "    # Running the model for X years, in 6 months resolution\n",
    "    for i in range(years_for_model_run*2):\n",
    "        # Running until the end of \"single-run-period\", as we vaccinate every month!:\n",
    "        for j in range(6):\n",
    "            res_mdl_1_ml = model_1_ml.predict(\n",
    "                            days_in_season= 30,\n",
    "                            continuous_predict= True\n",
    "                            )\n",
    "            # Getting the proportion of transition, and the combinations that we vaccinate:\n",
    "            trans_prop, vaccinated_que = calc_trans_prop(vaccination_pq, res_mdl_1_ml, inv_level*1/6)\n",
    "            # Vaccinating (including the model update):\n",
    "            vaccinate(trans_prop, res_mdl_1_ml, vaccinated_que)\n",
    "\n",
    "    ## Calculating the cases per year index for every measurement:\n",
    "    tot_new_Is = np.add(res_mdl_1_ml['new_Is_1'].sum(axis=1) * pop_israel, res_mdl_1_ml['new_Is_2'].sum(axis=1) * pop_israel)\n",
    "    tot_new_H = np.add(res_mdl_1_ml['new_H_1'].sum(axis=1) * pop_israel, res_mdl_1_ml['new_H_2'].sum(axis=1) * pop_israel)\n",
    "    # Transferring to cumulative sum:\n",
    "    cumsum_tot_new_Is, cumsum_tot_new_H = np.cumsum(tot_new_Is), np.cumsum(tot_new_H)\n",
    "    # Performing the calculation itself:\n",
    "    cases_per_year_new_Is, cases_per_year_new_H = (cumsum_tot_new_Is[-1] - cumsum_tot_new_Is[528]) / years_for_model_run, (cumsum_tot_new_H[-1] - cumsum_tot_new_H[528]) / years_for_model_run\n",
    "    cases_per_year_list.append((cases_per_year_new_Is, cases_per_year_new_H))"
   ],
   "metadata": {
    "collapsed": false,
    "pycharm": {
     "name": "#%%\n"
    }
   }
  },
  {
   "cell_type": "code",
   "execution_count": 15,
   "outputs": [
    {
     "data": {
      "text/plain": "[(1561094.9836428997, 9772.031251213999),\n (1545168.2994842737, 10929.311825534354),\n (1555724.3442466033, 9467.724893047669),\n (1550625.3925933146, 13130.618586487331),\n (1542593.980696369, 8110.659889933391),\n (1526193.8986914943, 9030.807501259455),\n (1541405.0343992233, 7973.077904122957),\n (1546573.1172563112, 8179.234025767132),\n (1540360.8294546714, 11422.972947407814),\n (1490292.3636309213, 9222.966168529487),\n (1516525.0738701047, 11257.691069261673),\n (1518332.6777055839, 12969.650314646236),\n (1540816.7268106947, 11420.079168243761),\n (1531156.6778202716, 11347.223440662807),\n (1527744.7276385354, 10499.494613003642),\n (1552531.5027861851, 12248.537327339041),\n (1525615.357739695, 8920.230680934537),\n (1545780.6434832187, 11837.150753274154),\n (1492984.465297376, 12581.53933370521),\n (1487133.3895855055, 12710.489237612504),\n (1511700.387060644, 14150.752401234065),\n (1537884.9472657542, 8436.348891927539),\n (1555200.5779611268, 11155.491939392285),\n (1506646.1879940697, 8912.647602717847),\n (1515887.2832532322, 9816.424069070128),\n (1558986.3553726412, 9006.234812352717),\n (1528630.8824227029, 11421.24091072496),\n (1549150.7014596427, 10012.88886773929),\n (1514103.5308307805, 9604.79878078781),\n (1535729.6556979748, 11194.563566529878),\n (1506200.3912580798, 12925.236370380117),\n (1557466.7363493026, 11978.09503328862),\n (1541512.1944809745, 8163.205132262175),\n (1518890.9746008194, 10098.846521274048),\n (1546573.1172563112, 11553.168061396094),\n (1542506.1157523908, 10384.03785097175),\n (1554404.8085476453, 10949.791252247114),\n (1551586.06836741, 12459.454675301093),\n (1527409.5608725154, 7611.187824633855),\n (1514122.2008168434, 11038.785678071128),\n (1522447.1427510655, 9007.870258119972),\n (1559885.352227031, 12638.270238777179),\n (1497474.9446601216, 10444.580561821307),\n (1462671.9839750016, 11192.633238785013),\n (1540222.3902457769, 10443.697669227076),\n (1510459.476479796, 8384.088136840155),\n (1550685.9218163367, 9637.539008638161),\n (1511272.4905061708, 11574.92802482374),\n (1525328.7957631652, 9850.585213552013),\n (1521807.1625505255, 7961.403852437899),\n (1503422.5515921789, 11654.162527745313),\n (1540884.4838730774, 8066.213744883105),\n (1524883.4736368705, 11598.588238877886),\n (1554404.8085476453, 10183.305864589765),\n (1534599.86462878, 8970.491048221495),\n (1550118.2079234037, 10314.59434698405),\n (1550653.1255784577, 8647.929811491349),\n (1516770.0863409955, 10122.815802016441),\n (1537952.7306199353, 9351.070230191082),\n (1525328.7957631652, 8498.544105809606),\n (1564294.6407917184, 11352.919631400542),\n (1547960.926287366, 11871.074429791313),\n (1556922.9116824784, 10866.723378359562),\n (1541405.0343992233, 8741.567340664935),\n (1516917.04246974, 11963.481087434828),\n (1531068.341080593, 11105.567309866477),\n (1550721.629104427, 9766.034062139583),\n (1532960.274341366, 9484.66186091607),\n (1569217.5349241365, 10771.847974699398),\n (1502510.2008873534, 12837.509088923756),\n (1520243.5028700647, 8036.478183673086),\n (1525997.6207472442, 9951.651114043709),\n (1534742.6113630338, 9287.148792028906),\n (1534390.6840835002, 9368.381915299033),\n (1564745.934471173, 13669.849456211763),\n (1529265.9959411293, 10877.889320753271),\n (1557566.9485175756, 12608.742665628937),\n (1530563.3037774963, 10757.797181771935),\n (1545906.6866052502, 11982.15161729763),\n (1496816.4779757333, 9693.311542887148),\n (1537132.431775242, 12089.38174777599),\n (1554150.51943246, 11849.882926285678),\n (1535729.6556979748, 12438.403962811006),\n (1551743.1574497772, 11702.997170073966),\n (1521808.6812036093, 9001.417816522006),\n (1524883.4736368705, 8806.335514703525),\n (1475149.2954886965, 10593.56212830746),\n (1520395.1381547004, 10708.084363673932),\n (1515887.2832532322, 8814.748143654784),\n (1555305.7407168197, 10050.407281077698),\n (1517319.2841633393, 10969.798645005827),\n (1483199.291610618, 9376.125015281357),\n (1554712.1339885984, 8740.205090181877),\n (1533262.5000842556, 9838.724253173457),\n (1534907.1103042436, 8523.086601670995),\n (1540794.694941293, 9224.054226076767),\n (1551288.4323897853, 8819.618943497939),\n (1499515.3836034643, 10714.040073761358),\n (1534907.1103042436, 10901.622397486117),\n (1543961.711615657, 8372.266027043512),\n (1552685.7477467794, 11396.070289602623),\n (1490292.3636309213, 12516.882657290074),\n (1542764.127564596, 11551.087955799152),\n (1524655.6333216568, 8977.339058062747),\n (1544832.769717361, 8318.990116679142),\n (1541805.7324402411, 11293.405064203569),\n (1522652.7501197984, 12439.648276945012),\n (1500026.2364832642, 10884.533121362461),\n (1515725.1016916917, 10077.62173127125),\n (1518518.143030687, 8529.032189033012),\n (1539376.6325954036, 9767.489259228169),\n (1539133.8107505532, 9748.600837808652),\n (1570689.650999185, 10414.588034460192),\n (1521807.1625505255, 11183.876840329438),\n (1513512.5216207316, 10625.565638375685),\n (1528011.5025680927, 8375.74277026054),\n (1520657.0238855744, 11861.07948677703),\n (1531737.9380151297, 9110.29592491886),\n (1550257.9050442004, 8892.858038390981),\n (1515314.184422118, 12174.607564644017),\n (1528609.603662595, 11045.257867591175),\n (1523480.5076740205, 11703.35889933143),\n (1521808.6812036093, 8587.559526107183),\n (1559050.548734759, 11772.94399340949),\n (1534742.6113630338, 8452.34890061058),\n (1515797.1539337176, 12170.772292322434),\n (1529358.175967999, 10496.843936270785),\n (1529358.175967999, 14313.878094914779),\n (1519256.0931274972, 10807.152907699263),\n (1566657.8834329448, 13038.689169372004),\n (1559960.836171803, 11602.828033785403),\n (1534224.7821510043, 8717.276004169817),\n (1529278.9858262087, 8714.942117728766),\n (1558986.3553726412, 12301.198768091508),\n (1559960.836171803, 11373.06906281935),\n (1568833.1093526806, 9821.944758563464),\n (1512273.796064986, 9586.543858076855),\n (1526552.7559724029, 12454.51110579918),\n (1536606.9357976269, 11393.290369971099),\n (1548933.3560854024, 11006.564460725698),\n (1534077.3286978356, 9834.228328979229),\n (1511272.4905061708, 11797.522794531842),\n (1507471.2244166068, 9662.912094541101),\n (1537596.2881776914, 11020.787189721592),\n (1557207.4582598952, 11122.589567282383),\n (1498755.1787667074, 12353.82072298633),\n (1525709.2715931342, 10637.381004840172),\n (1530044.244993755, 9878.118674240864),\n (1547128.4721599633, 11592.484316334157),\n (1553259.977208067, 9746.536842758796),\n (1526529.9216532737, 11802.3116530651),\n (1520243.5028700647, 8337.846115560827),\n (1558081.6084825024, 10647.295982621312),\n (1552444.1092162419, 8224.881230478884),\n (1529332.728707574, 9280.991122734358),\n (1549331.8287490713, 11472.426062621102),\n (1559084.1171957536, 10621.427581189126),\n (1550010.970540349, 9530.621806436438),\n (1508044.4024070224, 12705.454410223041),\n (1544832.769717361, 11059.363331585155),\n (1508044.4024070224, 13881.88537413259),\n (1507705.1117398564, 11071.611832107184),\n (1537596.2881776914, 9432.205252464399),\n (1556818.000031094, 8895.77318219363),\n (1497474.9446601216, 12238.094395669435),\n (1540794.694941293, 12479.60277645684),\n (1537376.7912186303, 8467.112703792027),\n (1524883.4736368705, 12242.954252148806),\n (1520520.959708334, 10300.076708559927),\n (1531544.438347733, 9159.268476433388),\n (1546442.6925364593, 10796.892150600828),\n (1531833.9698569973, 9812.778802346062),\n (1524339.8690329934, 10443.558360798788),\n (1520441.1825031778, 9618.534915568263),\n (1515797.1539337176, 9394.982120389202),\n (1521918.023093805, 10598.806157935498),\n (1529794.5163110434, 8862.4198898074),\n (1545459.297339667, 10693.088707088513),\n (1538288.118254288, 9174.439166826562),\n (1522468.0204805408, 9080.693037159579),\n (1531068.341080593, 12180.299630176138),\n (1543809.6472260572, 10003.501765153806),\n (1538917.1378904334, 10235.675100781107),\n (1535505.420317967, 9279.910118566788),\n (1515534.1587858472, 10602.462612072804),\n (1521208.5066599026, 10016.249780944647),\n (1528609.603662595, 9521.77402378548),\n (1525328.7957631652, 9657.43648387456),\n (1514107.2434520235, 8698.508898363478),\n (1555724.3442466033, 10848.434773283798),\n (1526803.7154449967, 11031.668975593484),\n (1533706.760678904, 11266.450305629276),\n (1510837.6585535917, 9553.382893842592),\n (1549150.7014596427, 7951.411747910625),\n (1544175.3300148258, 10710.62046395108),\n (1546476.7513768172, 9700.259258472119),\n (1549063.2899116494, 12536.655161347779),\n (1494906.1924066078, 12364.017945769367),\n (1540794.694941293, 10309.237076203453),\n (1523713.3870040835, 8446.197167881148),\n (1541512.1944809745, 11547.94872368798),\n (1542436.8810629004, 10766.599826332866),\n (1503993.4109218456, 12960.606211398665),\n (1537132.431775242, 9143.229893275975),\n (1541512.1944809745, 9158.717953269766),\n (1518110.130857988, 9302.196016349308),\n (1520842.4385236439, 11787.487620609123),\n (1551586.06836741, 11475.813516724687),\n (1552547.5876324414, 10650.149010778396),\n (1532522.3732581097, 8507.395616686492),\n (1546442.6925364593, 9929.284745641862),\n (1462671.9839750016, 12791.580844325637),\n (1545384.0884749687, 8420.084448635249),\n (1536154.6323977762, 11577.161331677298),\n (1553259.977208067, 7875.989367885919),\n (1555305.7407168197, 9415.64471595705),\n (1509800.6799132274, 11086.748134266983),\n (1526442.918635868, 11430.950826563541),\n (1561094.9836428997, 13680.843751699647),\n (1530964.7269868334, 8201.92017041581),\n (1540300.9548066661, 9073.481232303498),\n (1550705.143557299, 8715.869944209466),\n (1494885.9636587098, 8952.571339292455),\n (1551743.1574497772, 10916.24105780009),\n (1541405.0343992233, 10758.852111587641),\n (1555332.711527527, 12490.456477405225),\n (1557566.9485175756, 11867.051920591946),\n (1477181.0501098288, 11645.346840271844),\n (1527978.7498626849, 8417.028338971848),\n (1547128.4721599633, 9793.650543109885),\n (1556375.5492949944, 9052.125319319162),\n (1539107.0086380083, 9732.67008152357),\n (1532153.2642755995, 9595.39099947214),\n (1479199.8251573518, 12699.794062982504),\n (1526529.9216532737, 11015.49087619408),\n (1551231.1318346597, 10420.760611183001),\n (1508756.551207238, 9643.009198470088),\n (1532847.8904941808, 9797.822664406594),\n (1544396.0592392432, 11683.769231193206),\n (1542810.7093827985, 12822.144656952481),\n (1526193.8986914943, 10932.03013310355),\n (1555237.7961759667, 11337.621330046353),\n (1541581.1078687746, 9374.414800351049),\n (1540879.345162746, 11126.76473706162),\n (1513202.3149985266, 9499.11391175762),\n (1549425.3670598986, 10496.263064483528),\n (1508387.7977681449, 9553.72299400698),\n (1521970.7762284179, 11102.076817820984),\n (1521970.7762284179, 11298.573752649721),\n (1534742.6113630338, 9704.548737738047),\n (1520657.0238855744, 13521.630614925814),\n (1540222.3902457769, 9946.378732597208),\n (1501288.3397794757, 9730.051552694516),\n (1518886.371039746, 11965.929169916826),\n (1528410.801292823, 9664.061444054376),\n (1527409.5608725154, 9513.984780792374),\n (1540360.8294546714, 8255.257760311579),\n (1554404.8085476453, 9635.816301977477),\n (1554150.51943246, 9741.005456353494),\n (1506200.3912580798, 12102.721328628664),\n (1529794.5163110434, 10101.252777629914),\n (1537884.9472657542, 8334.706134193479),\n (1551288.4323897853, 11325.192506991687),\n (1520243.5028700647, 8237.390138264933),\n (1551231.1318346597, 10027.524361704385),\n (1524167.746276248, 11293.727015798233),\n (1532061.1501927997, 11666.497416677288),\n (1522468.0204805408, 12780.23464489135),\n (1515534.1587858472, 11606.906438479682),\n (1546519.4397870088, 11587.626707440602),\n (1518107.8741463001, 10191.583042861177),\n (1540794.694941293, 9658.127366127414),\n (1537810.2707474974, 13313.111698476692),\n (1531199.6100093785, 8241.513782344435),\n (1532960.274341366, 9901.570074582685),\n (1528630.8824227029, 9679.017720953383),\n (1553003.2534093752, 12922.333816749078),\n (1540794.694941293, 12479.60277645684),\n (1543313.3887833634, 13636.301587255277),\n (1517907.616435434, 10423.23585722462),\n (1539777.5744762097, 9651.675906884153),\n (1522447.1427510655, 10999.083683599176),\n (1528616.8863437145, 10362.080499798089),\n (1556922.9116824784, 10162.398714947394),\n (1506251.0957382, 9761.375466340869),\n (1549321.720586074, 10046.112721236055),\n (1572152.6012908986, 10669.78272709128),\n (1544802.5665619862, 11642.118990972627),\n (1534077.3286978356, 8820.39035691952),\n (1521946.9132065817, 10157.490206157256),\n (1494885.9636587098, 9900.490657570494),\n (1539964.4191102402, 11099.472580324204),\n (1539777.5744762097, 9760.12170359074),\n (1505579.5921934585, 11056.294351152077),\n (1551182.4515638775, 9672.51629448896),\n (1560515.175240868, 11997.013294959563),\n (1551868.0843299986, 8622.642186876918),\n (1559785.226989582, 11884.940284208244),\n (1535729.6556979748, 12890.709561458689),\n (1493407.8888386262, 11441.937409273281),\n (1547269.141344564, 10944.896168308695),\n (1558819.4515105651, 11364.553484573016),\n (1550634.7581995795, 10048.668214799975),\n (1520520.959708334, 10396.339107705371),\n (1544175.3300148258, 11340.65696183056),\n (1525290.4169380951, 9373.680005116272),\n (1539471.2667146325, 12847.189552577001),\n (1569217.5349241365, 13342.402605025347),\n (1556207.7477000698, 11049.482337120331),\n (1519814.9920796244, 10968.71604440186),\n (1543343.235591947, 12068.998493021567),\n (1549675.6758699005, 10900.388801264085),\n (1537952.7306199353, 8279.593432981696),\n (1540884.4838730774, 9986.740826998092),\n (1523723.551550165, 10877.445978219659),\n (1538244.473639039, 11609.761980668636),\n (1509531.5469454713, 10174.478225224053),\n (1534324.2082861243, 9716.548110777923),\n (1522417.4634928529, 10449.682364270457),\n (1550634.7581995795, 9284.095633239096),\n (1554255.2298848548, 9654.888522931316),\n (1552996.8819871573, 8716.562700694874),\n (1537695.4314347513, 10156.286511289381),\n (1533545.7101979046, 11016.371889606009),\n (1552411.9711926235, 12228.984025148484),\n (1510837.6585535917, 11916.047480491883),\n (1518886.371039746, 12795.250993574517),\n (1509877.706741954, 9776.01864092834),\n (1540360.8294546714, 10463.059254348389),\n (1527896.671040282, 9469.323117407406),\n (1553259.977208067, 11617.084317631736),\n (1471045.903214997, 11713.55085240348),\n (1532120.6114291472, 11262.715795489701),\n (1558081.6084825024, 9439.870665004466),\n (1504505.120615066, 9514.04171057713),\n (1533302.159246554, 9018.48400119953),\n (1530964.7269868334, 8106.549005643528),\n (1481205.8378221195, 11676.009804354466),\n (1541922.4955406552, 10570.54311309278),\n (1490292.3636309213, 8893.574519653397),\n (1490292.3636309213, 10540.532764033696),\n (1555936.041425333, 11936.018248774868),\n (1568833.1093526806, 10977.467671335593),\n (1527744.7276385354, 11105.234686830763),\n (1543961.711615657, 8853.43074124144),\n (1539133.8107505532, 8481.282728893515),\n (1550721.629104427, 9572.647249027921),\n (1556818.000031094, 8472.164935422514),\n (1550685.9218163367, 11688.079223241994),\n (1526931.5856848892, 11603.745863892662),\n (1550197.3998201834, 8644.913740725393),\n (1502541.6938861876, 11643.20047698076),\n (1553344.051548054, 8730.65780126225),\n (1545780.6434832187, 13544.432111919565),\n (1537356.916283781, 11002.493047447302),\n (1529203.9231721985, 10478.202529129481),\n (1544459.4786541152, 8984.280766770478),\n (1546929.9205705118, 9546.9599047802),\n (1518891.9840851931, 11359.36011719108),\n (1533854.084095244, 11367.464277140249),\n (1530519.8017116734, 12621.768483529851),\n (1547631.0836989863, 13277.460230876984),\n (1548648.4846656027, 11979.012683362971),\n (1509531.5469454713, 9575.97950609319),\n (1572152.6012908986, 13122.60634251451),\n (1468973.751556037, 10780.208449774314),\n (1510459.476479796, 11777.64762079925),\n (1525907.9257838384, 13091.7201853249),\n (1509834.5639792248, 11119.385681001646),\n (1513202.3149985266, 8599.197856959558),\n (1502479.892804064, 12190.689559436372),\n (1547018.1166281423, 8037.58990188744),\n (1514629.976551395, 10347.98310134136),\n (1530381.4347730337, 11153.97222718612),\n (1501288.3397794757, 11210.711571582842),\n (1523480.5076740205, 9834.755377589463),\n (1545872.8410843504, 10627.955122839854),\n (1542764.127564596, 10588.497292815897),\n (1540115.8450327178, 9466.96194724811),\n (1569217.5349241365, 12975.180514978814),\n (1553471.077548387, 9520.417859007084),\n (1547631.0836989863, 13760.27696654517),\n (1520520.959708334, 10203.814309414522),\n (1529332.728707574, 9182.257174620168),\n (1501288.3397794757, 8989.721543250413),\n (1537695.4314347513, 9485.588345449574),\n (1535729.6556979748, 12890.709561458689),\n (1512890.7515656927, 9360.47192595716),\n (1515725.1016916917, 7925.120002261853),\n (1547733.79504233, 11497.34255872414),\n (1546770.428249338, 9260.419890572985),\n (1527896.671040282, 8384.296510204516),\n (1537012.7309253954, 9506.344408752726),\n (1528552.9760993067, 8888.964316786632),\n (1522609.3427991015, 9350.566103280888),\n (1547269.141344564, 11865.494911437456),\n (1552685.7477467794, 9240.056991569716),\n (1483928.9264055542, 11481.372102559895),\n (1555294.2053756292, 12239.300633852745),\n (1530563.3037774963, 10273.21172313355),\n (1568833.1093526806, 11786.333710276196),\n (1544396.0592392432, 13731.440127381626),\n (1550634.7581995795, 13106.958541043454),\n (1547128.4721599633, 11192.743477839827),\n (1532847.8904941808, 11678.212872727006),\n (1524971.031221139, 9056.996414899993),\n (1526113.4999636891, 9479.64921406566),\n (1557171.0959263206, 12066.936172151518),\n (1514103.5308307805, 11805.898501385074),\n (1542764.127564596, 12994.973950274078),\n (1552996.8819871573, 7748.055733951024),\n (1533828.2883618558, 11084.815257082373),\n (1537952.7306199353, 11104.395898351911),\n (1536057.8175243686, 10527.620490620888),\n (1558653.9236567786, 11549.189947330984),\n (1534949.7183297293, 11189.007337821353),\n (1513202.3149985266, 10898.983330332483),\n (1532153.2642755995, 10881.371236514788),\n (1513455.5557458787, 12685.269651984721),\n (1515887.2832532322, 10717.93240194391),\n (1520842.4385236439, 8788.916208348888),\n (1512890.7515656927, 8949.022610530448),\n (1552411.9711926235, 11139.272577363015),\n (1543028.9414805386, 10811.513883139929),\n (1539964.4191102402, 12251.304640546528),\n (1542506.1157523908, 11537.81983441303),\n (1544963.111180223, 10496.760712144303),\n (1514103.5308307805, 8704.348895089),\n (1552095.4230051315, 11227.43440375478),\n (1518332.6777055839, 12634.228323750185),\n (1523771.443645627, 12448.717360075914),\n (1524339.8690329934, 9304.261085075268),\n (1515725.1016916917, 8218.642965308587),\n (1542786.6849649702, 11259.091518742956),\n (1541805.7324402411, 11619.176364132583),\n (1554150.51943246, 11347.769242968508),\n (1548261.0052262181, 8739.35108304828),\n (1545290.200941119, 10380.135839015631),\n (1548648.4846656027, 10033.70293136383),\n (1518518.143030687, 10134.497071674521),\n (1560190.9184918923, 13751.169445763806),\n (1540222.3902457769, 10244.770094575193),\n (1521221.931284069, 10208.618549669474),\n (1494885.9636587098, 10848.409975848546),\n (1529197.76595163, 10358.988212089089),\n (1547733.79504233, 8198.105128829378),\n (1552223.408124311, 10451.827349816109),\n (1549425.3670598986, 10496.263064483528),\n (1542025.8431934533, 9377.322087261942),\n (1529197.76595163, 13173.930661026317),\n (1502541.6938861876, 11960.742308171177),\n (1540850.6638942384, 10693.795052707645),\n (1546929.9205705118, 11475.63867342264),\n (1509834.5639792248, 12231.324249101866),\n (1526529.9216532737, 10003.864163074179),\n (1517319.2841633393, 10284.186229692947),\n (1533828.2883618558, 10798.13900043371),\n (1526529.9216532737, 10228.670099323057),\n (1542436.8810629004, 8651.732003303134),\n (1564454.2081331122, 10139.296659794598),\n (1540794.694941293, 9332.572511089425),\n (1536057.8175243686, 10431.914849797056),\n (1547269.141344564, 11354.0511652548),\n (1540884.4838730774, 9506.609056469333),\n (1534390.6840835002, 8508.020310832793),\n (1526529.9216532737, 9666.655258700934),\n (1554255.2298848548, 8768.215087151963),\n (1496816.4779757333, 11094.754175593722),\n (1527896.671040282, 10554.349724610383),\n (1532693.2861763076, 9166.488894416481),\n (1529278.9858262087, 11329.424753047435),\n (1521918.023093805, 7997.2810100786155),\n (1551640.3802573276, 9675.676987194845),\n (1568833.1093526806, 9359.735593454601),\n (1535729.6556979748, 11307.63996619181),\n (1523978.058322394, 9938.10492416265),\n (1535505.420317967, 8418.887530246162),\n (1534077.3286978356, 10949.4500982449),\n (1527409.5608725154, 8752.865998328945),\n (1538917.1378904334, 11229.429964934545),\n (1505022.9015340838, 12404.048117782104),\n (1473104.3292546023, 10234.42238450518),\n (1540300.9548066661, 10927.203204494555),\n (1552757.5714446092, 8758.92753153952),\n (1533140.3100963305, 10159.766902924277),\n (1557566.9485175756, 8900.288940443908),\n (1531199.6100093785, 8338.472768019095),\n (1533538.3856833575, 11485.628373278687),\n (1527638.0528882053, 10604.287441789436),\n (1556818.000031094, 9742.989675735864),\n (1537596.2881776914, 10425.068963250153),\n (1509877.706741954, 10718.2854978853),\n (1523480.5076740205, 8949.627393606403),\n (1533262.5000842556, 10889.461794774534),\n (1557566.9485175756, 11867.051920591946),\n (1517105.4454728179, 13490.491020505508),\n (1536259.67453414, 10713.214644709162),\n (1536154.6323977762, 10604.290631536349),\n (1507471.2244166068, 10618.584719275961),\n (1552531.5027861851, 13014.070910297782),\n (1490292.3636309213, 11089.518845493805),\n (1575051.108746241, 12778.75658135276),\n (1563341.6490086608, 11052.957114360253),\n (1505579.5921934585, 9930.190296868068),\n (1512273.796064986, 9480.026704098227),\n (1520441.1825031778, 9912.979861963224),\n (1543343.235591947, 9760.146607400024),\n (1500026.2364832642, 10356.157727121557),\n (1518107.8741463001, 8525.651199316577),\n (1543456.4769407047, 9908.487023121186),\n (1529923.110510453, 9299.999434272751),\n (1531454.4726858942, 8799.873990848406),\n (1517105.4454728179, 14200.516863689978),\n (1535505.420317967, 10140.932706887415),\n (1521527.3353996363, 9965.860163991158),\n (1527409.5608725154, 11321.64188914288),\n (1532485.2808955058, 10900.802263216941),\n (1521970.7762284179, 8351.1197302193),\n (1487133.3895855055, 11833.903772949552),\n (1520441.1825031778, 10305.57312382315),\n (1520657.0238855744, 11386.63630730597),\n (1555936.041425333, 10186.774195075022),\n (1547960.926287366, 10847.705944464522),\n (1523480.5076740205, 10916.57846912427),\n (1510459.476479796, 10380.299597992582),\n (1555270.1705167955, 9949.631647219023),\n (1522769.030083065, 10042.391348957692),\n (1552444.1092162419, 11334.287549318473),\n (1547733.79504233, 9697.758506054299),\n (1520520.959708334, 9722.502313687424),\n (1519383.610957153, 10843.083096165317),\n (1539834.05583444, 9499.666208198125),\n (1530948.8187719584, 8599.641415475906),\n (1530519.8017116734, 13523.323375210608),\n (1544669.970720681, 8978.988422551047),\n (1511700.387060644, 10848.910174279481),\n (1541405.0343992233, 11239.158009426368),\n (1519668.7066109525, 9515.489150410456),\n (1508683.4300732985, 9670.509385033),\n (1521208.5066599026, 8150.4777629255195),\n (1523295.99027271, 9065.561566409344),\n (1505579.5921934585, 12080.025309592078),\n (1530948.8187719584, 10016.052942730781),\n (1550827.8567447725, 13909.790602262508),\n (1572152.6012908986, 13981.094607912686),\n (1545002.4163401863, 12292.497607854855),\n (1550827.8567447725, 11127.832481809994),\n (1551356.6941675493, 9641.955541963705),\n (1521946.9132065817, 8749.52126668987),\n (1512294.6773663927, 10592.686568943273),\n (1539834.05583444, 10843.053348751433),\n (1494949.9166226625, 10902.710389546433),\n (1515725.1016916917, 9490.57580517777),\n (1533706.760678904, 11460.699448829828),\n (1566245.7022895596, 10506.72284378508),\n (1560515.175240868, 10404.48940624813),\n (1515797.1539337176, 12170.772292322434),\n (1557207.4582598952, 12049.472031222514),\n (1537012.7309253954, 10411.710542919633),\n (1501288.3397794757, 11422.234431424005),\n (1538754.3475905848, 11812.653409323613),\n (1489106.1506979892, 13130.780749225438),\n (1544459.4786541152, 8167.527969791378),\n (1541405.0343992233, 10566.729752452118),\n (1540815.9518209267, 9643.348490494393),\n (1550118.2079234037, 9112.894034714012),\n (1485180.3773878918, 11242.72709878665),\n (1536757.5577432597, 9148.759152450166),\n (1518332.6777055839, 13305.072305542211),\n (1560190.9184918923, 13507.785915750314),\n (1521162.449548582, 9947.415819481985),\n (1516917.04246974, 11654.080714483896),\n (1534390.6840835002, 10515.530721254017),\n (1518387.5543689942, 11438.849749973871),\n (1511084.5956467036, 11707.847785269578),\n (1531418.5429430236, 9598.958942748734),\n (1542436.8810629004, 8555.601647710922),\n (1528552.9760993067, 11616.260186709793),\n (1509834.5639792248, 13009.681246771956),\n (1531544.438347733, 9159.268476433388),\n (1554648.2691837444, 10588.977184186082),\n (1526529.9216532737, 12251.923525562795),\n (1559050.548734759, 12515.381902903819),\n (1554748.0943870347, 8278.512797514946),\n (1522609.3427991015, 10892.927522378728),\n (1535548.1162704641, 11377.86725675639),\n (1521807.1625505255, 9572.640346383681),\n (1561240.40710688, 11471.83797488561),\n (1502510.2008873534, 11841.495452714078),\n (1517665.7989162256, 7974.502498149895),\n (1541454.3028600982, 10642.967884730091),\n (1503993.4109218456, 11963.636502829542),\n (1504345.5856568113, 12557.574400697604),\n (1552757.5714446092, 11514.54518191146),\n (1552444.1092162419, 8927.005237958783),\n (1545906.6866052502, 9286.167503405679),\n (1540115.8450327178, 10484.914844801653),\n (1515920.170477394, 9894.356398591484),\n (1548090.965067896, 10790.210471739769),\n (1509834.5639792248, 10674.61025376159),\n (1567749.0418557723, 9237.573685914087),\n (1525907.9257838384, 12258.610718986114),\n (1561240.40710688, 11046.955086926886),\n (1523830.0724995267, 12230.491956094122),\n (1512273.796064986, 10651.715397863161),\n (1509800.6799132274, 9238.956778555814),\n (1568833.1093526806, 11786.333710276196),\n (1554327.6225805988, 8627.952652766366),\n (1515887.2832532322, 11018.43517956854),\n (1530345.4605847572, 10346.673769509762),\n (1540815.9518209267, 10550.957760187948),\n (1550653.1255784577, 11917.26913046981),\n (1550118.2079234037, 9413.319112781573),\n (1540869.2146590347, 8756.671880207985),\n (1554150.51943246, 11548.614716295342),\n (1539376.6325954036, 9055.276500742757),\n (1533262.5000842556, 9838.724253173457),\n (1464787.1098435244, 12694.9583577409),\n (1549675.6758699005, 8641.74968028145),\n (1515887.2832532322, 12020.11110498382),\n (1487149.2743154413, 12417.71264785606),\n (1517105.4454728179, 14200.516863689978),\n (1541512.1944809745, 9656.474363773596),\n (1518107.8741463001, 11465.53092321883),\n (1548261.0052262181, 8634.057696505557),\n (1533085.6105600575, 9222.92958065481),\n (1551868.0843299986, 8422.115624391437),\n (1527409.5608725154, 8277.166759289292),\n (1545932.078784285, 11557.542268939882),\n (1514998.4741677586, 9310.13307846491),\n (1555936.041425333, 11833.121539733706),\n (1544459.4786541152, 11026.16275921832),\n (1550721.629104427, 7928.8593375786495),\n (1544802.5665619862, 9357.217132931213),\n (1524672.307926717, 10780.569699428643),\n (1538633.0069152545, 12101.566503454998),\n (1550653.1255784577, 11811.806571793059),\n (1493407.8888386262, 11661.974667143912),\n (1522447.1427510655, 11188.723057454288),\n (1519668.7066109525, 10005.978281874915),\n (1504505.120615066, 9002.534091728918),\n (1519870.2312942299, 9609.980928186384),\n (1539133.8107505532, 11503.348988614207),\n (1558653.9236567786, 13251.175834306063),\n (1537152.7994654975, 10535.586937042335),\n (1551288.4323897853, 9521.179541276164),\n (1554712.1339885984, 8438.818707761777),\n (1557107.557761643, 10566.01761038239),\n (1521970.7762284179, 7958.125860561934),\n (1523082.5131325494, 9011.748408444886),\n (1540884.4838730774, 9122.503640046325),\n (1499515.3836034643, 10272.223988245465),\n (1535729.6556979748, 10403.028768896447),\n (1557207.4582598952, 10710.641805531104),\n (1521946.9132065817, 8347.24442684213),\n (1523978.058322394, 8008.375812674727),\n (1556818.000031094, 11225.618539434829),\n (1549675.6758699005, 11489.599006737808),\n (1509834.5639792248, 10674.61025376159),\n (1473104.3292546023, 9314.474304999088),\n (1553998.2216352483, 10995.29028862403),\n (1527638.0528882053, 12272.377601172064),\n (1518110.130857988, 9729.883189514829),\n (1529332.728707574, 10762.000344447322),\n (1555294.2053756292, 11827.89557052997),\n (1549677.555939673, 9169.063426472012),\n (1547960.926287366, 11666.400732725995),\n (1552757.5714446092, 9152.587195878341),\n (1513202.3149985266, 8099.244493182822),\n (1564294.6407917184, 12565.367359025866),\n (1559050.548734759, 12197.19422740624),\n (1531832.070865868, 8827.06173460072),\n (1482308.9053357253, 9612.41012340144),\n (1534937.9839099674, 11275.919151166945),\n (1556207.7477000698, 9865.609229571732),\n (1554748.0943870347, 10446.69472067365),\n (1479199.8251573518, 12237.983369783156),\n (1531156.6778202716, 11659.532342699385),\n (1503993.4109218456, 11852.862090766304),\n (1514103.5308307805, 10004.998729987294),\n (1548933.3560854024, 9405.609630074705),\n (1524883.4736368705, 11383.79956778747),\n (1542593.980696369, 9869.598179316505),\n (1516957.1773866634, 11645.742803668425),\n (1522417.4634928529, 11993.385440810382),\n (1502479.892804064, 11135.726039869709),\n (1548373.834411742, 11487.352307956982),\n (1542506.1157523908, 8810.698782642672),\n (1498715.4462662505, 10757.68557641817),\n (1532847.8904941808, 11381.309155623832),\n (1528552.9760993067, 9293.008149367864),\n (1561240.40710688, 10409.630754988806),\n (1551743.1574497772, 8851.006263081143),\n (1542068.4560984508, 10332.479024292204),\n (1533828.2883618558, 11371.49151373107),\n (1522652.7501197984, 12654.124971375115),\n (1536606.9357976269, 7755.096806450904),\n (1529331.542644792, 8838.105481405142),\n (1536503.93724773, 10447.178106549585),\n (1554150.51943246, 10343.541876334126),\n (1573606.411799839, 10066.091362778645),\n (1541922.4955406552, 9513.488801783513),\n (1549150.7014596427, 10994.54463908627),\n (1488718.4278967725, 12833.207574733247),\n (1539376.6325954036, 11293.659455982515),\n (1513202.3149985266, 9199.141893491638),\n (1540360.8294546714, 10271.076515736437),\n (1548714.444939476, 10363.174624515783),\n (1539571.7040343161, 10041.393551234607),\n (1542436.8810629004, 10093.687337187012),\n (1566245.7022895596, 11728.434802364784),\n (1540869.2146590347, 10249.286405243423),\n (1558462.6109203456, 11647.622035963697),\n (1532061.1501927997, 8541.542751495885),\n (1550705.143557299, 8916.234770513176),\n (1551440.7042229099, 9285.620819277005),\n (1550685.9218163367, 9432.484987177744),\n (1522769.030083065, 11181.219233891092),\n (1529197.76595163, 11147.17209779152),\n (1536375.4373367545, 11270.927947544007),\n (1516957.1773866634, 9508.909261710847),\n (1526529.9216532737, 10790.68493994521),\n (1518891.9840851931, 8467.886632815247),\n (1542025.8431934533, 10549.4873481697),\n (1488718.4278967725, 9323.270460276306),\n (1555936.041425333, 8643.323559457616),\n (1539777.5744762097, 9651.675906884153),\n (1550625.3925933146, 11760.467081810404),\n (1554255.2298848548, 10048.965605499972),\n (1552996.8819871573, 8910.264094043678),\n (1528609.603662595, 10950.040127353388),\n (1532960.274341366, 10943.84060874932),\n (1556922.9116824784, 8753.749388122986),\n (1518110.130857988, 10157.570362680332),\n (1530563.3037774963, 7947.201521669359),\n (1519870.2312942299, 12193.309134688112),\n (1520520.959708334, 8759.8783222332),\n (1536757.5577432597, 9538.068052554396),\n (1544175.3300148258, 9240.535302232307),\n (1551818.0141612408, 10055.613202190716),\n (1537695.4314347513, 9773.030416523787),\n (1521946.9132065817, 11967.735985472416),\n (1552095.4230051315, 8323.787575197523),\n (1515534.1587858472, 11718.511308080486),\n (1516917.04246974, 9797.678476778501),\n (1518387.5543689942, 10381.477084009912),\n (1527744.7276385354, 11509.061402715548),\n (1546519.4397870088, 8990.400031634952),\n (1509887.8457231498, 8720.89479661839),\n (1542948.2040464235, 8847.153098518107),\n (1494885.9636587098, 11901.653662824065),\n (1564745.934471173, 10130.334864871164),\n (1508387.7977681449, 10331.35160979826),\n (1533140.3100963305, 9369.562810474565),\n (1550685.9218163367, 8304.687869145684),\n (1460541.8562636462, 10264.600734115958),\n (1549425.3670598986, 11408.981591829908),\n (1536503.93724773, 8357.742485239683),\n (1558081.6084825024, 11525.423486342643),\n (1527484.5542973466, 11942.895717118377),\n (1533302.159246554, 10842.44705762187),\n (1519814.9920796244, 8082.2118221908295),\n (1502541.6938861876, 9420.407658648128),\n (1526552.7559724029, 12143.148328154208),\n (1539376.6325954036, 8648.297781608268),\n (1551231.1318346597, 11600.469359618799),\n (1527978.7498626849, 10835.714643274043),\n (1563341.6490086608, 13701.061423009045),\n (1565559.6126031256, 11530.316652634216),\n (1540360.8294546714, 9215.171453371013),\n (1522609.3427991015, 10410.93957891064),\n (1530563.3037774963, 10757.797181771935),\n (1526442.918635868, 11233.865467484837),\n (1561240.40710688, 12109.162306823704),\n (1538771.085357479, 11218.597669306695),\n (1538754.3475905848, 11379.161541091522),\n (1526193.8986914943, 7699.951658968575),\n (1528410.801292823, 11430.610310171867),\n (1526113.4999636891, 9983.885874388381),\n (1537810.2707474974, 10194.725174509244),\n (1564294.6407917184, 11793.809714173405),\n (1460541.8562636462, 12659.674238742982),\n (1537012.7309253954, 10411.710542919633),\n (1527638.0528882053, 14297.915651850924),\n (1527409.5608725154, 10560.523106679513),\n (1506200.3912580798, 9752.678352195899),\n (1546442.6925364593, 11182.495441693778),\n (1526662.1784156552, 8022.892303499018),\n (1541454.3028600982, 8006.636390347399),\n (1511380.4563218798, 10985.807314470381),\n (1511700.387060644, 13089.445971141553),\n (1479199.8251573518, 13161.604756181878),\n (1539777.5744762097, 12905.049808081096),\n (1553016.5168432484, 11639.833019785758),\n (1556254.8021275229, 9647.66673603134),\n (1550721.629104427, 8509.019776913681),\n (1530519.8017116734, 9128.243278267177),\n (1532693.2861763076, 7925.193523297596),\n (1512890.7515656927, 12034.892476230603),\n (1538244.473639039, 9517.912975142734),\n (1522468.0204805408, 10986.517501748649),\n (1531454.4726858942, 8008.874081558649),\n (1554327.6225805988, 9500.442246866305),\n (1534438.8601096738, 12992.881441121664),\n (1507471.2244166068, 10087.65548331217),\n (1519814.9920796244, 9333.030318482268),\n (1528552.9760993067, 8585.931442350718),\n (1525580.0381643148, 11307.553085646065),\n (1536606.9357976269, 7946.5806782151485),\n (1555294.2053756292, 9565.167722254662),\n (1529203.9231721985, 11049.740848900165),\n (1541122.5409875985, 14062.911082357083),\n (1548933.3560854024, 9805.848337737443),\n (1534742.6113630338, 11165.448547720138),\n (1518387.5543689942, 10285.352296195006),\n (1518890.9746008194, 11373.45821813387),\n (1502541.6938861876, 9314.560381584628),\n (1536689.4749309837, 12013.116856694138),\n (1532460.7254666928, 9024.922015857983),\n (1552757.5714446092, 9447.831944132535),\n (1520520.959708334, 9818.764712832839),\n (1532120.6114291472, 7635.739522365885),\n (1546519.4397870088, 8690.72003058045),\n (1527896.671040282, 8187.018945258537),\n (1547003.0153459017, 12302.231375488975),\n (1550625.3925933146, 11417.929205641181),\n (1537376.7912186303, 9407.903004213395),\n (1529332.728707574, 9972.128759533756),\n (1530948.8187719584, 10319.569698571095),\n (1549331.8287490713, 9935.940429234366),\n (1522790.594681563, 10666.29161836419),\n (1533545.7101979046, 11016.371889606009),\n (1522790.594681563, 11873.796329877197),\n (1525988.8943216777, 11929.36650522684),\n (1521970.7762284179, 8154.62279539063),\n (1522790.594681563, 8150.656802712279),\n (1512890.7515656927, 9669.05891252713),\n (1537152.7994654975, 10535.586937042335),\n (1524339.8690329934, 10538.499800442407),\n (1550010.970540349, 10555.419850139346),\n (1536154.6323977762, 10993.438911592724),\n (1520842.4385236439, 10236.50240737109),\n (1546519.4397870088, 10289.013369537784),\n (1515534.1587858472, 11718.511308080486),\n (1512273.796064986, 8840.923780226447),\n (1527484.5542973466, 11735.19318290763),\n (1526442.918635868, 10346.981351630784),\n (1522417.4634928529, 11637.146269301162),\n (1550010.970540349, 10043.020828287878),\n (1488718.4278967725, 11078.23901750479),\n (1559084.1171957536, 9487.100363780599),\n (1525184.0220897044, 10219.745535353364),\n (1537356.916283781, 10418.289876786343),\n (1514122.2008168434, 11930.80876316772),\n (1534742.6113630338, 11582.848493429323),\n (1530345.4605847572, 8837.783844789608),\n (1535729.6556979748, 13116.862360782545),\n (1526529.9216532737, 10116.267131198647),\n (1504345.5856568113, 11736.050841773469),\n (1529197.76595163, 9120.413534556681),\n (1527484.5542973466, 9554.316573694672),\n (1471045.903214997, 10335.486046238322),\n (1559050.548734759, 9969.880498923352),\n (1536929.9630083053, 11512.014592166288),\n (1524339.8690329934, 9114.37820578803),\n (1543028.9414805386, 10097.545985196755),\n (1517105.4454728179, 13372.15337997467),\n (1563424.1555752822, 8922.818990339907),\n (1547631.0836989863, 14122.389518296455),\n (1504505.120615066, 10434.755424503948),\n (1557837.0618429843, 11951.68061551843),\n (1532522.3732581097, 8406.117097440228),\n (1521918.023093805, 9057.16162587214),\n (1538917.1378904334, 10931.303505688593),\n (1537952.7306199353, 7987.372488288232),\n (1549331.8287490713, 10448.102307029945),\n (1485180.3773878918, 10315.491874144454),\n (1538633.0069152545, 9050.751418550337),\n (1556922.9116824784, 8150.042533769681),\n (1525709.2715931342, 9455.449782080159),\n (1541922.4955406552, 9705.680494748773),\n (1532485.2808955058, 10253.229851540684),\n (1545872.8410843504, 8992.885103941479),\n (1551231.1318346597, 9044.433738007905),\n (1557566.9485175756, 10383.670430517926),\n (1537724.989688546, 12129.577001081976),\n (1523978.058322394, 10517.02365760899),\n (1536757.5577432597, 9732.722502606535),\n (1534847.9124349882, 10549.351273659147),\n (1498755.1787667074, 12248.232511678785),\n (1494885.9636587098, 9689.841920175359),\n (1505467.333042478, 10090.0879221735),\n (1540222.3902457769, 11836.190691790744),\n (1517647.0026216935, 10128.672321705535),\n (1471045.903214997, 10335.486046238322),\n (1564745.934471173, 11839.066046897688),\n (1523723.551550165, 8701.95678257572),\n (1556514.8888306806, 11347.394853768505),\n (1543028.9414805386, 12035.458851042631),\n (1570689.650999185, 13722.751292465233),\n (1541581.1078687746, 8355.456669878116),\n (1519814.9920796244, 11353.583274029988),\n (1538258.6726775295, 8244.475582192343),\n (1523629.027092546, 10470.85438455627),\n (1545168.2994842737, 12257.172140786191),\n (1523771.443645627, 10195.070251786297),\n (1544550.7761327315, 10235.477097504065),\n (1557566.9485175756, 11337.272816994047),\n (1559084.1171957536, 10208.944956676934),\n (1545824.511224483, 10196.815691641434),\n (1535729.6556979748, 11307.63996619181),\n (1544278.111381955, 10468.110958221605),\n (1534907.1103042436, 11793.573320916836),\n (1525328.7957631652, 11202.626321294452),\n (1533140.3100963305, 10949.970995373917),\n (1541405.0343992233, 10086.423854613375),\n (1550257.9050442004, 10536.103545484937),\n (1522769.030083065, 11595.338464775903),\n (1561718.5681291204, 13033.938925186922),\n (1565559.6126031256, 12568.045151371376),\n (1529331.542644792, 9461.971750680716),\n (1532693.2861763076, 8402.614819881765),\n (1522790.594681563, 10968.167796242438),\n (1542593.980696369, 9869.598179316505),\n (1541454.3028600982, 9275.981183939126),\n (1553016.5168432484, 11238.459467379358),\n (1555551.7947113514, 13952.482733049344),\n (1543809.6472260572, 12069.442347087817),\n (1557207.4582598952, 9680.772401153148),\n (1536154.6323977762, 9728.707001409502),\n (1462671.9839750016, 12905.791387578587),\n (1547269.141344564, 10433.452422125989),\n (1501017.571780581, 10945.577400609154),\n (1563424.1555752822, 10354.876359159789),\n (1485180.3773878918, 9851.87426182336),\n (1552251.9677566944, 11215.297029045083),\n (1554181.1316334587, 11101.175373133703),\n (1534324.2082861243, 9619.38262967016),\n (1534324.2082861243, 10008.044554101229),\n (1509877.706741954, 14016.219497234675),\n (1554327.6225805988, 10179.045264499655),\n (1551182.4515638775, 10639.767923937878),\n (1553259.977208067, 10041.886444054524),\n (1548261.0052262181, 11582.272519702552),\n (1548335.4194396685, 10301.893217747485),\n (1544045.983422318, 11966.86579108546),\n (1563236.8982611336, 9754.613353947729),\n (1538244.473639039, 9308.728074590192),\n (1524672.307926717, 11506.184967659434),\n (1509531.5469454713, 8279.232281309773),\n (1542436.8810629004, 9901.426626002498),\n (1494885.9636587098, 10005.815026268046),\n (1523629.027092546, 10068.129215919504),\n (1462671.9839750016, 10964.212152279097),\n (1492984.465297376, 10251.624642278286),\n (1556818.000031094, 10696.108230970955),\n (1507705.1117398564, 10046.462588393604),\n (1547556.1845979348, 9511.450508427099),\n (1542307.1947441485, 10704.301477111901),\n (1556573.7886036125, 10500.07724489077),\n (1538258.6726775295, 8343.806613303095),\n (1530154.978612037, 10516.349174642137),\n (1537884.9472657542, 10977.417835279231),\n (1552757.5714446092, 8266.852951115994),\n (1550653.1255784577, 9280.705163551638),\n (1523713.3870040835, 11198.328829325546),\n (1542593.980696369, 11237.661293281171),\n (1503422.5515921789, 11040.785552600772),\n (1549425.3670598986, 10838.53251223844),\n (1553443.3139567298, 11432.041606271037),\n (1524339.8690329934, 8354.846688639012),\n (1513455.5557458787, 10766.489368491299),\n (1517665.7989162256, 11529.401202144441),\n (1542151.3460622577, 11453.393892979311),\n (1523480.5076740205, 9933.10293136529),\n (1570689.650999185, 11149.735425127934),\n (1525184.0220897044, 9545.91615939596),\n (1527087.756720117, 12045.469681763661),\n (1513512.5216207316, 10861.689319228413),\n (1543746.3642802758, 11429.025531183657),\n (1549860.6587080562, 11278.488424251429),\n (1527978.7498626849, 10351.977382413603),\n (1536503.93724773, 9297.988514829103),\n (1477181.0501098288, 13605.454724277968),\n (1524339.8690329934, 10728.38267972963),\n (1546641.630727894, 8729.879509359122),\n (1532768.5921264347, 13628.29580972827),\n (1551288.4323897853, 8919.841886037702),\n (1551288.4323897853, 10723.854851753193),\n (1518890.9746008194, 10687.128842901653),\n (1524339.8690329934, 9494.143964362529),\n (1561240.40710688, 11046.955086926886),\n (1564294.6407917184, 12455.144838332599),\n (1560778.614762986, 10226.610081887873),\n (1555270.1705167955, 9547.626328139446),\n (1567736.2272469178, 10516.903370039936),\n (1551231.1318346597, 10224.142486443672),\n (1564454.2081331122, 13250.217225867977),\n (1554255.2298848548, 9851.927064215673),\n (1523771.443645627, 12341.40083110974)]"
     },
     "execution_count": 15,
     "metadata": {},
     "output_type": "execute_result"
    }
   ],
   "source": [
    "cases_per_year_list"
   ],
   "metadata": {
    "collapsed": false,
    "pycharm": {
     "name": "#%%\n"
    }
   }
  },
  {
   "cell_type": "code",
   "execution_count": 16,
   "outputs": [],
   "source": [
    "with open('cases_per_year_list.pickle', 'wb') as handle:\n",
    "    pickle.dump(cases_per_year_list, handle, protocol=pickle.HIGHEST_PROTOCOL)"
   ],
   "metadata": {
    "collapsed": false,
    "pycharm": {
     "name": "#%%\n"
    }
   }
  }
 ],
 "metadata": {
  "kernelspec": {
   "display_name": "Python 3",
   "language": "python",
   "name": "python3"
  },
  "language_info": {
   "codemirror_mode": {
    "name": "ipython",
    "version": 2
   },
   "file_extension": ".py",
   "mimetype": "text/x-python",
   "name": "python",
   "nbconvert_exporter": "python",
   "pygments_lexer": "ipython2",
   "version": "2.7.6"
  }
 },
 "nbformat": 4,
 "nbformat_minor": 0
}