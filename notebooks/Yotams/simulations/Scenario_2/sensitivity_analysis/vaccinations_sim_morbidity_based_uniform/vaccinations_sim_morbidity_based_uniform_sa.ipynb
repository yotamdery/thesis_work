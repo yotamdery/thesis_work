{
 "cells": [
  {
   "cell_type": "markdown",
   "metadata": {
    "pycharm": {
     "name": "#%% md\n"
    }
   },
   "source": [
    "## This notebook produces cases per year for the morbidity based uniform simulation"
   ]
  },
  {
   "cell_type": "code",
   "execution_count": 1,
   "metadata": {
    "pycharm": {
     "name": "#%%\n"
    }
   },
   "outputs": [],
   "source": [
    "import numpy as np\n",
    "import pandas as pd\n",
    "import itertools\n",
    "import pickle\n",
    "import datetime, random, copy\n",
    "import sys, os, tqdm\n",
    "\n",
    "import SEIR_full as mdl\n",
    "import SEIR_full.model as mdl\n",
    "import SEIR_full.calibration as mdl\n",
    "from SEIR_full.indices import *\n",
    "from SEIR_full.utils import *\n",
    "from SEIR_full.parameters import *"
   ]
  },
  {
   "cell_type": "markdown",
   "metadata": {
    "pycharm": {
     "name": "#%% md\n"
    }
   },
   "source": [
    "* Fixing the ranges of the uncertainty factors that we're interested in:"
   ]
  },
  {
   "cell_type": "code",
   "execution_count": 2,
   "metadata": {
    "pycharm": {
     "name": "#%%\n"
    }
   },
   "outputs": [],
   "source": [
    "# Creating a list of tuples, each tuple is a realization of randomly picked values for the factors that we change every iteration of the simulation\n",
    "np.random.seed(82)\n",
    "list_of_tuples = []\n",
    "for i in range(1000):\n",
    "    booster_eff = round(np.random.uniform(low=29.5001, high=95.5)) / 100     # Discrete uniform dist, booster_efficiency ~ U(30, 95), Updated in the model's object\n",
    "    inv_level = round(np.random.uniform(low=9.5001, high=20.5)) / 100       # Discrete uniform dist, booster_efficiency ~ U(10, 20), Updated in the simulation's settings\n",
    "    hosp_proba_scalar = round(np.random.uniform(low=0.8, high=1.2), 2)      # Continuous uniform dist, booster_efficiency ~ U(0.8, 1.2), Updated in the model's object\n",
    "    years_for_model_run = round(np.random.uniform(low=.5001, high=5.5))         # Discrete uniform dist, booster_efficiency ~ U(3, 10), Updated in the simulation's settings\n",
    "    list_of_tuples.append((booster_eff, inv_level, hosp_proba_scalar, years_for_model_run))"
   ]
  },
  {
   "cell_type": "markdown",
   "metadata": {
    "pycharm": {
     "name": "#%% md\n"
    }
   },
   "source": [
    "* Fixing the static settings for all runs of the big loop"
   ]
  },
  {
   "cell_type": "code",
   "execution_count": 3,
   "metadata": {
    "pycharm": {
     "name": "#%%\n"
    }
   },
   "outputs": [],
   "source": [
    "## DEFINING STATIC SETTINGS (INDEPENDENT IN THE DYNAMIC FACTORS) FOR THE SIMULATION RUN\n",
    "# Short path for the data directory\n",
    "DATA_DIR = r'/Users/yotamdery/Old_Desktop/git/SEIR_model_COVID-main/Data'\n",
    "# Reading the indices of the model - adding an hint to declare it's from type Indices!\n",
    "with(open(DATA_DIR + '/parameters/indices.pickle', 'rb')) as openfile:\n",
    "    ind:Indices = pickle.load(openfile)\n",
    "\n",
    "# Create indices for the age groups for easy & automatic access to the results of the operation in the script:\n",
    "age_groups_ind = {'5-9':0, '10-29':1, '30-59':2, '60+':3}\n",
    "\n",
    "# Reading the neutralized vectors:\n",
    "# Alpha variant vector\n",
    "with open(DATA_DIR + '/parameters/neutralized_alpha_variant_vec.pickle', 'rb') as pickle_in:\n",
    "\tneutralized_alpha_variant_vec = pickle.load(pickle_in)\n",
    "\n",
    "# Delta variant vector\n",
    "with open(DATA_DIR + '/parameters/neutralized_delta_variant_vec.pickle', 'rb') as pickle_in:\n",
    "\tneutralized_delta_variant_vec = pickle.load(pickle_in)\n",
    "\n",
    "# Beta_lockdown vector\n",
    "with open(DATA_DIR + '/parameters/neutralized_lockdown_vec.pickle', 'rb') as pickle_in:\n",
    "\tneutralized_lockdown_vec = pickle.load(pickle_in)\n",
    "\n",
    "# Beta_school vector\n",
    "with open(DATA_DIR + '/parameters/neutralized_school_vec.pickle', 'rb') as pickle_in:\n",
    "\tneutralized_school_vec = pickle.load(pickle_in)\n",
    "\n",
    "# Isolation morbidity ratio vector\n",
    "with open(DATA_DIR + '/parameters/neutralized_isolation_morbidity_ratio_vector.pickle', 'rb') as pickle_in:\n",
    "\tneutralized_isolation_morbidity_ratio_vector = pickle.load(pickle_in)\n",
    "\n",
    "# zero vector to remove any transition from V_2 and S_2 to V_3\n",
    "with open(DATA_DIR + '/parameters/neutralized_transition_rate_to_V_3.pickle', 'rb') as pickle_in:\n",
    "\tneutralized_transition_vector = pickle.load(pickle_in)"
   ]
  },
  {
   "cell_type": "markdown",
   "metadata": {
    "pycharm": {
     "name": "#%% md\n"
    }
   },
   "source": [
    "* Utils functions:"
   ]
  },
  {
   "cell_type": "code",
   "execution_count": 4,
   "metadata": {
    "pycharm": {
     "name": "#%%\n"
    }
   },
   "outputs": [],
   "source": [
    "# Getting the reported unreported ratio\n",
    "def get_reported_unreported_ratio(scen):\n",
    "    if scen == 'Scenario2':\n",
    "        reported = 1\n",
    "        unreported = 2\n",
    "        reported_unreported = unreported / (reported + unreported)\n",
    "    return reported_unreported\n",
    "\n",
    "# Getting all region,age combinations as a list\n",
    "def get_all_region_age_combinations():\n",
    "    \"\"\"This function returns a list of tuples of all region,risk,4-age_group combinations\"\"\"\n",
    "    counties_list = list(ind.region_dict.keys())\n",
    "    age_groups_list = list(age_groups_ind.keys())\n",
    "    return list(itertools.product(counties_list, age_groups_list))\n",
    "\n",
    "def region_age_groups_mapping(wanted_mapping: str):\n",
    "    \"\"\" This function gets a wanted mapping (4 examined age groups to 9 original model's age groups or vice versa),\n",
    "    and returns a dictionary consist of the wanted mapping\n",
    "    \"\"\"\n",
    "    # Initializing the final mapping to return and it's keys:\n",
    "    mapping_dict = {}\n",
    "    all_comb_4_age_groups_list = get_all_region_age_combinations()\n",
    "    if wanted_mapping == '4-to-9':\n",
    "        # Iterating over all possible combinations with the 4-age_groups:\n",
    "        for combination in all_comb_4_age_groups_list:\n",
    "            # The list that the current combination will map to\n",
    "            curr_res_list = []\n",
    "            # A list to iterate when building the curr_res_list - depending on the current and new age-group:\n",
    "            if combination[1] == '5-9':\n",
    "                correspondent_age_groups = ['5-9']\n",
    "            elif combination[1] == '10-29':\n",
    "                correspondent_age_groups = ['10-19', '20-29']\n",
    "            elif combination[1] == '30-59':\n",
    "                correspondent_age_groups = ['30-39', '40-49', '50-59']\n",
    "            else:\n",
    "                correspondent_age_groups = ['60-69', '70+']\n",
    "\n",
    "            # Appending to the curr_res_list to finalize the mapping:\n",
    "            for age_group in correspondent_age_groups:\n",
    "                curr_res_list.append((combination[0], age_group))\n",
    "\n",
    "            # Updating the final mapping_dict:\n",
    "            mapping_dict[combination] = curr_res_list\n",
    "    return mapping_dict\n",
    "\n",
    "# Getting all region,risk,age combinations as a list\n",
    "def get_all_region_risk_age_combinations():\n",
    "    \"\"\"This function returns a list of tuples of all region,risk,4-age_group combinations\"\"\"\n",
    "    counties_list = list(ind.region_dict.keys())\n",
    "    risk_list = ['High', 'Low']\n",
    "    age_groups_list = list(age_groups_ind.keys())\n",
    "    return list(itertools.product(counties_list, risk_list, age_groups_list))\n",
    "\n",
    "def region_risk_age_groups_mapping(wanted_mapping: str):\n",
    "    \"\"\" This function gets a wanted mapping (4 examined age groups to 9 original model's age groups or vice versa),\n",
    "    and returns a dictionary consist of the wanted mapping\n",
    "    \"\"\"\n",
    "    # Initializing the final mapping to return and it's keys:\n",
    "    mapping_dict = {}\n",
    "    all_comb_4_age_groups_list = get_all_region_risk_age_combinations()\n",
    "    if wanted_mapping == '4-to-9':\n",
    "        # Iterating over all possible combinations with the 4-age_groups:\n",
    "        for combination in all_comb_4_age_groups_list:\n",
    "            # The list that the current combination will map to\n",
    "            curr_res_list = []\n",
    "            # A list to iterate when building the curr_res_list - depending on the current and new age-group:\n",
    "            if combination[2] == '5-9':\n",
    "                correspondent_age_groups = ['5-9']\n",
    "            elif combination[2] == '10-29':\n",
    "                correspondent_age_groups = ['10-19', '20-29']\n",
    "            elif combination[2] == '30-59':\n",
    "                correspondent_age_groups = ['30-39', '40-49', '50-59']\n",
    "            else:\n",
    "                correspondent_age_groups = ['60-69', '70+']\n",
    "\n",
    "            # Appending to the curr_res_list to finalize the mapping:\n",
    "            for age_group in correspondent_age_groups:\n",
    "                curr_res_list.append((combination[0], combination[1], age_group))\n",
    "\n",
    "            # Updating the final mapping_dict:\n",
    "            mapping_dict[combination] = curr_res_list\n",
    "    return mapping_dict\n",
    "\n",
    "def get_indexes_region_risk_age_combination(region_risk_age_group: tuple):\n",
    "    \"\"\"This function gets a tuple of (region, risk, 4_age_group) and returns the indexes of that combination as they are in the original model (including transformation to the 9 original age groups. e.g.: for (1101, 'High', '10-29'), returns the indexes for (1101, 'High', '10-19') + (1101, 'High', '20-29')\"\"\"\n",
    "    # Initializing the result list and the age groups mapper:\n",
    "    indexes_list_of_lists = []\n",
    "    four_to_nine_age_map = region_risk_age_groups_mapping('4-to-9')\n",
    "    for val in four_to_nine_age_map[region_risk_age_group]:\n",
    "        indexes_list_of_lists.append(ind.region_risk_age_dict[val])\n",
    "    # Merging the list of lists to one list:\n",
    "    region_risk_age_indexes_list = [item for sublist in indexes_list_of_lists for item in sublist]\n",
    "    return sorted(region_risk_age_indexes_list)\n",
    "\n",
    "# Getting the current lambda_t for the current combination of (region, 4-age_group):\n",
    "def get_current_lambda_t(curr_res_mdl_1_ml: dict, target_region_risk_4age_group: tuple):\n",
    "    # Getting the lambda of the last day of the current model, and the region,4-age_group mapping:\n",
    "    lambda_last_day = np.reshape(curr_res_mdl_1_ml['L_2'][-1, :], newshape=(540))\n",
    "    four_to_nine_age_map = region_age_groups_mapping('4-to-9')\n",
    "    # Initializing the final proportion for the current compartment that we want to calculate:\n",
    "    final_prop_for_comp = 0\n",
    "    # Iterating on each correspondent combination of (region, 9-age_group) to aggregate on:\n",
    "    for val in four_to_nine_age_map[target_region_risk_4age_group]:\n",
    "        # Getting the index of the current (region, risk, 9-age_group)\n",
    "        correspondent_index = ind.region_age_dict[val]\n",
    "        # Adding the value of current (region, risk, 9-age_group)\n",
    "        final_prop_for_comp += lambda_last_day[correspondent_index].sum()\n",
    "\n",
    "    return final_prop_for_comp\n",
    "\n",
    "def calc_comp_prop_for_region_risk_age(comp: str, curr_res_mdl_1_ml: dict, target_region_risk_4age_group: tuple):\n",
    "    \"\"\"This function gets the target compartment, the current predictions of the current model, and the wanted combination of (region, risk, 4-age_group),\n",
    "    and returns the compartment aggregated by the wanted combination of (region, risk, 4-age_group) - (aggregated from (region, risk, 9-age_group))\"\"\"\n",
    "    # Getting the last day of the compartment, and the needed age-groups mapping:\n",
    "    comp_last_day = np.reshape(curr_res_mdl_1_ml[comp][-1, :], newshape=(540))\n",
    "    four_to_nine_age_map = region_risk_age_groups_mapping('4-to-9')\n",
    "    # Initializing the final proportion for the current compartment that we want to calculate:\n",
    "    final_prop_for_comp = 0\n",
    "    # Iterating on each correspondent combination of (region, risk, 9-age_group) to aggregate on:\n",
    "    for val in four_to_nine_age_map[target_region_risk_4age_group]:\n",
    "        # Getting the index of the current (region, risk, 9-age_group)\n",
    "        correspondent_index = ind.region_risk_age_dict[val]\n",
    "        # Adding the value of current (region, risk, 9-age_group)\n",
    "        final_prop_for_comp += float(comp_last_day[correspondent_index][0])\n",
    "\n",
    "    return final_prop_for_comp\n",
    "\n",
    "def calc_rho_or_f_prop_for_region_risk_age(rho_or_f_j: np.array, target_region_risk_4age_group: tuple):\n",
    "    \"\"\"This function gets the model_1_ml.rho and the wanted combination of (region, risk, 4-age_group),\n",
    "    and returns rho aggregated by the wanted combination of (region, risk, 4-age_group) - (aggregated from (region, risk, 9-age_group))\"\"\"\n",
    "    four_to_nine_age_map = region_risk_age_groups_mapping('4-to-9')\n",
    "    ## Calculating the final proportion of rho or f_j as a weighted sum using the distribution of S(0) (population_size):\n",
    "    # Initializing the proportions for the weighted sum:\n",
    "    S0_list = []\n",
    "    rho_or_f_j_list = []\n",
    "    # Iterating on each correspondent combination of (region, risk, 9-age_group) and append to the relevant list:\n",
    "    for val in four_to_nine_age_map[target_region_risk_4age_group]:\n",
    "        # Getting the index of the current (region, risk, 9-age_group)\n",
    "        correspondent_index = ind.region_risk_age_dict[val]\n",
    "        # Adding the value of current (region, risk, 9-age_group)\n",
    "        S0_list.append(population_size[correspondent_index][0])\n",
    "        rho_or_f_j_list.append(rho_or_f_j[correspondent_index][0])\n",
    "\n",
    "    ## Calculating the weighted sum:\n",
    "    # Init the lists to calc the expression\n",
    "    numerator = []\n",
    "    denominator = []\n",
    "    for i in range(len(S0_list)):\n",
    "        numerator.append(S0_list[i]*rho_or_f_j_list[i])\n",
    "        denominator.append(S0_list[i])\n",
    "    # Returning the final and weighted probability value:\n",
    "    final_weighted_sum_proba = np.sum(numerator) / np.sum(denominator)\n",
    "    return final_weighted_sum_proba\n",
    "\n",
    "def update_compartment(curr_res_mdl_1_ml: dict, compartment: str, updated_array: np.array):\n",
    "    \"\"\"This function gets the current models' predictions, the compartment to update and the updated array, and updates the model object with the updated array\"\"\"\n",
    "    # Initiate settings:\n",
    "    curr_res_mdl_1_ml[compartment][-1] = updated_array\n",
    "    comp_as_list = []\n",
    "    # Changing the updated arrays to be lists of arrays (to allow the update of the model object):\n",
    "    for element in res_mdl_1_ml[compartment]:\n",
    "        comp_as_list.append(element)\n",
    "\n",
    "    # Performing the proper model update\n",
    "    model_1_ml.update({\n",
    "        compartment : comp_as_list\n",
    "    })\n",
    "\n",
    "# Defining the model - initializing it for t=0:\n",
    "def defining_model(scen):\n",
    "    model_1_ml_ = mdl.Model_behave(\n",
    "    ind= ind,\n",
    "    beta_j= cal_parameters[scen]['beta_j'],\n",
    "    beta_activity= cal_parameters[scen]['beta_activity'],\n",
    "    beta_school= cal_parameters[scen]['beta school'],\n",
    "    scen= scen\n",
    "    )\n",
    "    # Predicting without an assignment (there's no need for that)\n",
    "    model_1_ml_.predict(\n",
    "        days_in_season= 529,    # Num of days between 15/05/20 - 25/10/21\n",
    "        shifting_12_days= True\n",
    "    )\n",
    "    # Updating the vectors to be able to run the model furthermore:\n",
    "    model_1_ml_.update({\n",
    "        'alpha_variant_vec':  neutralized_alpha_variant_vec,\n",
    "        'delta_variant_vec': neutralized_delta_variant_vec,\n",
    "        'isolation_morbidity_ratio_vector': neutralized_isolation_morbidity_ratio_vector,\n",
    "        'is_lockdown': neutralized_lockdown_vec,\n",
    "        'is_school': neutralized_school_vec,\n",
    "        'v2_to_v3_transition_t' : neutralized_transition_vector,\n",
    "        's_2_to_v3_transition_t' : neutralized_transition_vector\n",
    "    })\n",
    "    return model_1_ml_\n",
    "\n",
    "# Update model for current variables of uncertainty:\n",
    "def update_models_object(mdl_1_ml: mdl.Model_behave, realization: tuple):\n",
    "    new_rho = mdl_1_ml.rho * realization[2]\n",
    "    mdl_1_ml.update({\n",
    "        'booster_efficiency': realization[0],\n",
    "        'rho': new_rho\n",
    "    })"
   ]
  },
  {
   "cell_type": "markdown",
   "metadata": {
    "pycharm": {
     "name": "#%% md\n"
    }
   },
   "source": [
    "#### Getting the vaccinations priority queue:"
   ]
  },
  {
   "cell_type": "code",
   "execution_count": 5,
   "metadata": {
    "pycharm": {
     "name": "#%%\n"
    }
   },
   "outputs": [],
   "source": [
    "def get_vaccination_pq(curr_res_mdl_1_ml: dict):\n",
    "    \"\"\"This function gets the current model and returns the final priority queue for all combinations of (county, risk, 4-age_group)\"\"\"\n",
    "    # Initialize settings: final priority queue to return (as a dictionary, not sorted), the 4-9 age-groups mapper, and the reported/unreported ratio:\n",
    "    vaccination_que = {}\n",
    "    reported_unreported = get_reported_unreported_ratio('Scenario2')\n",
    "    comp_list = ['S_2', 'V_2', 'R_1', 'R_2', 'L_2']\n",
    "    mapping_4_to_9 = region_risk_age_groups_mapping('4-to-9')\n",
    "\n",
    "    for key, val in mapping_4_to_9.items():\n",
    "        # Getting the proportion value for each compartment[region,risk,4-age_group], save it as a list such that the order is exactly - [S_2, V_2, R_1, R_2, L_2]\n",
    "        current_comp_prop_list = []\n",
    "        # For each compartment - calculate its value of (region, risk, 4-age_group):\n",
    "        for comp in comp_list:\n",
    "            # If we assess the proportion of the force of infection, the calculation is different (lambda_t depends only on (region,age))\n",
    "            if comp != 'L_2':\n",
    "                current_comp_prop_list.append(calc_comp_prop_for_region_risk_age(comp, curr_res_mdl_1_ml, key))\n",
    "            else:\n",
    "                current_comp_prop_list.append(get_current_lambda_t( curr_res_mdl_1_ml, (key[0], key[2]) ))\n",
    "        # getting the proportion value for model_1_ml.f[model_1_ml.scen]:\n",
    "        f_j = calc_rho_or_f_prop_for_region_risk_age(model_1_ml.f[model_1_ml.scen] , key)\n",
    "        # Calculating the hospitalization probability measurement:\n",
    "        comps = current_comp_prop_list      # To shorten the code\n",
    "        V_2_eff = 1-0.94        # Effectiveness of second dose to prevent infection\n",
    "        scoring_index = ( (comps[0] + (comps[2]+comps[3])*reported_unreported + (comps[1]*(V_2_eff))) * comps[4] * ((1-f_j)*model_1_ml.delta) ) \\\n",
    "                        / (comps[0] + comps[1] + (comps[2]+comps[3])*reported_unreported)\n",
    "        # Assigning the scoring measurement to the correspondent combination of (region,risk,4-age_group)\n",
    "        vaccination_que[key] = scoring_index\n",
    "    # Sorting the dict to get a \"priority queue\" - receiving a list of tuples:\n",
    "    vaccination_que = sorted(vaccination_que.items(), key=lambda x: x[1], reverse= True)\n",
    "\n",
    "    return vaccination_que"
   ]
  },
  {
   "cell_type": "markdown",
   "metadata": {
    "pycharm": {
     "name": "#%% md\n"
    }
   },
   "source": [
    "#### calculating the transferring proportion:"
   ]
  },
  {
   "cell_type": "code",
   "execution_count": 6,
   "metadata": {
    "pycharm": {
     "name": "#%%\n"
    }
   },
   "outputs": [],
   "source": [
    "def calc_trans_prop(vaccination_pq_: list, curr_res_mdl_1_ml: dict, curr_inv_: float):\n",
    "    # Initializing the accumulated amount used and the priority queue:\n",
    "    curr_inventory_used = 0\n",
    "    vaccination_pq_copy = vaccination_pq_.copy()\n",
    "    # Saving the combinations that we will vaccinate:\n",
    "    vaccinated_que_ = []\n",
    "    # Iterating until we cross the prior inventory level:\n",
    "    while (curr_inventory_used <= curr_inv_):\n",
    "        # Getting the current combination of (age_group, risk) from the pq:\n",
    "        current_county_risk_age = vaccination_pq_copy.pop(0)[0]\n",
    "        # Getting the correspondent reported/unreported ratio for the Scenario:\n",
    "        reported_unreported = get_reported_unreported_ratio('Scenario2')\n",
    "        # Getting R2_(j,r), R1_(j,r), V2_(j,r), S2_(j,r) proportions:\n",
    "        R_2_risk_age, R_1_risk_age, S_2_risk_age, V_2_risk_age = calc_comp_prop_for_region_risk_age('R_2', curr_res_mdl_1_ml, current_county_risk_age), \\\n",
    "                                                                 calc_comp_prop_for_region_risk_age('R_1', curr_res_mdl_1_ml, current_county_risk_age), \\\n",
    "                                                                 calc_comp_prop_for_region_risk_age('S_2', curr_res_mdl_1_ml, current_county_risk_age), \\\n",
    "                                                                 calc_comp_prop_for_region_risk_age('V_2', curr_res_mdl_1_ml, current_county_risk_age)\n",
    "        # Calculating the formula for num of needed vaccines:\n",
    "        count_vaccines_in_use = ( ((R_1_risk_age + R_2_risk_age) * reported_unreported) + S_2_risk_age + V_2_risk_age) * pop_israel\n",
    "        # Updating the accumulated used vaccines:\n",
    "        curr_inventory_used += count_vaccines_in_use\n",
    "        # Updating the vaccinated_que:\n",
    "        vaccinated_que_.append(current_county_risk_age)\n",
    "\n",
    "    final_trans_prop = curr_inv_ / curr_inventory_used\n",
    "    return final_trans_prop, vaccinated_que_"
   ]
  },
  {
   "cell_type": "markdown",
   "metadata": {
    "pycharm": {
     "name": "#%% md\n"
    }
   },
   "source": [
    "#### Vaccinating in booster dose:"
   ]
  },
  {
   "cell_type": "code",
   "execution_count": 7,
   "metadata": {
    "pycharm": {
     "name": "#%%\n"
    }
   },
   "outputs": [],
   "source": [
    "### Vaccinating in booster (moving from S_2 and V_2 to V_3, including the model update):\n",
    "def vaccinate(trans_prop_: float, curr_res_mdl_1_ml: dict, vaccination_que: list):\n",
    "    ## initialize settings:\n",
    "    vaccination_que_copy = vaccination_que.copy()\n",
    "    trans_prop_copy = trans_prop_\n",
    "    reported_unreported = get_reported_unreported_ratio('Scenario2')\n",
    "    # Getting the last day of the compartments and V_3, saving it to a dictionary:\n",
    "    last_day_dict = {'S_2_last_day': np.reshape(curr_res_mdl_1_ml['S_2'][-1, :], newshape=(540) ),\n",
    "                     'V_2_last_day': np.reshape(curr_res_mdl_1_ml['V_2'][-1, :], newshape=(540) ),\n",
    "                     'V_3_last_day': np.reshape(curr_res_mdl_1_ml['V_3'][-1, :], newshape=(540) )}\n",
    "\n",
    "    # Iterating over the combinations of (risk, age_group) that we need to vaccinate, and moving the population, and updating the model:\n",
    "    for curr_risk_age in vaccination_que_copy:\n",
    "        # Getting the relevant indexes to operate in the correspondent locations of the compartment:\n",
    "        curr_risk_age_indexes = get_indexes_region_risk_age_combination(curr_risk_age)\n",
    "\n",
    "        ## Vaccinating from S_2 to V_3\n",
    "        S_2_last_day_updated, V_3_last_day_updated = vaccinating_from_V_2_S_2(last_day_dict['V_3_last_day'], last_day_dict['S_2_last_day'], trans_prop_copy, curr_risk_age_indexes)\n",
    "        # updating the results:\n",
    "        last_day_dict['V_3_last_day'], last_day_dict['S_2_last_day'] = V_3_last_day_updated, S_2_last_day_updated\n",
    "\n",
    "        ## Vaccinating from V_2 to V_3\n",
    "        V_2_last_day_updated, V_3_last_day_updated = vaccinating_from_V_2_S_2(last_day_dict['V_3_last_day'], last_day_dict['V_2_last_day'], trans_prop_copy, curr_risk_age_indexes)\n",
    "        # updating the results:\n",
    "        last_day_dict['V_3_last_day'], last_day_dict['V_2_last_day'] = V_3_last_day_updated, V_2_last_day_updated\n",
    "\n",
    "    update_compartment(curr_res_mdl_1_ml, 'V_2', last_day_dict['V_2_last_day'])\n",
    "    update_compartment(curr_res_mdl_1_ml, 'S_2', last_day_dict['S_2_last_day'])\n",
    "    update_compartment(curr_res_mdl_1_ml, 'V_3', last_day_dict['V_3_last_day'])"
   ]
  },
  {
   "cell_type": "markdown",
   "metadata": {
    "pycharm": {
     "name": "#%% md\n"
    }
   },
   "source": [
    "### Main - 1000 iterations of the Sim:"
   ]
  },
  {
   "cell_type": "code",
   "execution_count": 8,
   "metadata": {
    "pycharm": {
     "name": "#%%\n"
    }
   },
   "outputs": [
    {
     "name": "stderr",
     "output_type": "stream",
     "text": [
      "tqdm() Progress Bar: 100%|██████████| 1000/1000 [11:42:59<00:00, 42.18s/it] \n"
     ]
    }
   ],
   "source": [
    "# A list to hold 1000 realizations of cases per year:\n",
    "cases_per_year_list = []\n",
    "\n",
    "# Big loop run:\n",
    "for tup in tqdm.tqdm(list_of_tuples, desc= 'tqdm() Progress Bar'):\n",
    "    # Initializing the model's object (and its predictions) to t=0:\n",
    "    model_1_ml = defining_model('Scenario2')\n",
    "    # Settings:\n",
    "    update_models_object(model_1_ml, tup)       # Updating the v3_efficiency and the proba for hosp\n",
    "    inv_level = tup[1] * pop_israel             # Updating the inventory level\n",
    "    years_for_model_run = tup[3]                # Updating the years for the model to run for\n",
    "\n",
    "    # Running the model for X years, in 6 months resolution\n",
    "    for i in range(years_for_model_run*2):\n",
    "        # Running until the vaccination month:\n",
    "        for j in range(6):\n",
    "            res_mdl_1_ml = model_1_ml.predict(\n",
    "                            days_in_season= 30,\n",
    "                            continuous_predict= True\n",
    "                            )\n",
    "            # Getting the vaccination priority_que:\n",
    "            vaccination_pq = get_vaccination_pq(res_mdl_1_ml)\n",
    "            # Getting the proportion of transition, and the combinations that we vaccinate:\n",
    "            trans_prop, vaccinated_que = calc_trans_prop(vaccination_pq, res_mdl_1_ml, inv_level*1/6)\n",
    "            # Vaccinating (including the model update):\n",
    "            vaccinate(trans_prop, res_mdl_1_ml, vaccinated_que)\n",
    "\n",
    "    ## Calculating the cases per year index for every measurement:\n",
    "    tot_new_Is = np.add(res_mdl_1_ml['new_Is_1'].sum(axis=1) * pop_israel, res_mdl_1_ml['new_Is_2'].sum(axis=1) * pop_israel)\n",
    "    tot_new_H = np.add(res_mdl_1_ml['new_H_1'].sum(axis=1) * pop_israel, res_mdl_1_ml['new_H_2'].sum(axis=1) * pop_israel)\n",
    "    # Transferring to cumulative sum:\n",
    "    cumsum_tot_new_Is, cumsum_tot_new_H = np.cumsum(tot_new_Is), np.cumsum(tot_new_H)\n",
    "    # Performing the calculation itself:\n",
    "    cases_per_year_new_Is, cases_per_year_new_H = (cumsum_tot_new_Is[-1] - cumsum_tot_new_Is[528]) / years_for_model_run, (cumsum_tot_new_H[-1] - cumsum_tot_new_H[528]) / years_for_model_run\n",
    "    cases_per_year_list.append((cases_per_year_new_Is, cases_per_year_new_H))"
   ]
  },
  {
   "cell_type": "code",
   "execution_count": 9,
   "metadata": {
    "pycharm": {
     "name": "#%%\n"
    }
   },
   "outputs": [
    {
     "data": {
      "text/plain": "[(1461940.1792940234, 9772.623163265322),\n (1329085.4564304582, 10303.234439790886),\n (1510847.9311052575, 10517.958198050548),\n (1168283.7635800806, 7144.426135016053),\n (1272558.6661418574, 8548.578710865613),\n (1023609.4342009624, 6432.900655555737),\n (1475059.773764611, 11353.744613559393),\n (1402195.8650740464, 8478.529533254594),\n (1120782.3401891547, 7363.998369357285),\n (1474178.264731935, 13967.282385203573),\n (1500146.6622739215, 12098.67415075359),\n (1535391.3085966893, 11799.79168635652),\n (1526030.0862890456, 8325.678942785178),\n (1502346.7147294194, 9075.97469034981),\n (1198728.154798138, 9598.247527275858),\n (1505924.9910130051, 9065.397031352353),\n (1524387.5765728632, 8802.786209078817),\n (1259632.1536898487, 8483.326345100842),\n (1481858.7609567994, 12040.532979178932),\n (1535491.0730931845, 11679.96291416649),\n (1247613.0105124374, 11021.341428533678),\n (1482278.9678566384, 11296.335393702246),\n (1460624.9933215878, 11903.88955596871),\n (1378582.0052735351, 9488.789662891853),\n (1142693.928254735, 8723.262716579195),\n (1017409.887873283, 7623.770327969441),\n (1505936.9278453875, 8127.084213311347),\n (1481858.7609567994, 8802.742598223285),\n (849917.9375348653, 8317.0991304791),\n (1214669.0754769058, 8044.788852258089),\n (1305708.961522436, 8244.41877847808),\n (1468564.279139476, 9611.553554880418),\n (1001695.906348879, 6723.0360230576125),\n (1298039.962855564, 7572.648487879992),\n (1152403.675739598, 6008.470693842114),\n (1431197.4767149487, 10852.663933342397),\n (1487488.9566732838, 8988.526588507857),\n (1512550.5793249656, 10122.949498118242),\n (1451627.16833056, 9498.916817066092),\n (951302.6335282938, 7435.180345899244),\n (1458248.5498546776, 8800.81763264798),\n (1243501.9130915436, 9104.121146946269),\n (1097302.3777419154, 8039.161212377199),\n (1147133.447131771, 10171.617821095946),\n (1485648.3833625584, 11148.480381068059),\n (907407.0208376499, 5327.522737072018),\n (1469198.839200392, 7608.969835469461),\n (1464134.5232046142, 13480.254036167551),\n (1418911.0571474982, 11193.401869879872),\n (707358.7162798333, 6669.146035676351),\n (1485561.1676720455, 11979.536559132852),\n (1480016.5330717254, 9752.49842535857),\n (904208.5153065132, 6862.646382412134),\n (1527279.2378680091, 8195.429222106419),\n (1232688.9138532258, 9426.576791813972),\n (1351968.8818328984, 8275.355002413482),\n (1471644.2302977329, 8943.823077670162),\n (1400293.2758748722, 9165.057679949809),\n (1508551.4508637525, 7810.739375531053),\n (1468073.5794315734, 8877.978709824818),\n (1177615.4106145117, 8612.267944616655),\n (1199648.5009684279, 7031.095276878829),\n (773116.0431847601, 6945.761468336953),\n (1176476.8293521455, 7042.723531410581),\n (1522201.6506766328, 7882.0751426190745),\n (1338146.67682314, 11390.379206008256),\n (1197386.909831901, 10276.727307068884),\n (1417860.5825026236, 11273.884295836413),\n (1468112.277745796, 10530.826079416798),\n (1491991.882174376, 9864.256863070139),\n (1443805.6750416318, 11157.248457372554),\n (783142.1362560432, 6518.845602588711),\n (1321982.1641569245, 10060.689798366877),\n (1094552.7234441377, 8484.832718274623),\n (1506470.1527229398, 10377.28528632779),\n (1184154.355047678, 9184.474109784669),\n (1192957.8847275488, 6942.821644578985),\n (1493689.608497868, 8625.25532643606),\n (939466.5721109832, 6398.986559632959),\n (1172103.374370413, 10132.123870275907),\n (1305774.8712529903, 8845.345081583602),\n (911047.0819881982, 6537.71085376505),\n (1380597.3269972785, 9769.61517431013),\n (1380395.5913242155, 9192.16070662083),\n (1258323.2904734358, 8478.985850615594),\n (1486504.3697737847, 10154.159731780996),\n (1488819.867167939, 8643.377114097899),\n (1484575.7513842345, 11016.889236108007),\n (1488177.342149529, 11291.439165346921),\n (1391287.7941238116, 11924.591813450439),\n (1365830.0150325254, 9945.818657455244),\n (1347262.5510115363, 10668.478363204522),\n (1488996.7246730712, 9910.208457384648),\n (1430337.4022511654, 11624.493627014772),\n (1306292.344949626, 8336.145851748051),\n (1443957.105773046, 11091.847768608573),\n (1487886.4466446189, 10254.592009443728),\n (1493143.5475124994, 8905.224535747899),\n (1403361.050582274, 8595.291934028992),\n (1518330.5804347117, 9948.361182188872),\n (1421553.7146889258, 9465.014048322884),\n (1477155.3545638975, 11656.059964011216),\n (1398216.3756979043, 11017.075300721068),\n (1415029.4381449183, 9700.217018269337),\n (1467338.2129900795, 9072.863093919435),\n (1527005.305029723, 9061.917307939912),\n (1133640.7318354002, 6094.341598078792),\n (1471722.6144430705, 9248.937820101735),\n (1496514.4980007478, 7850.165386897553),\n (1345785.8349506524, 9962.458188002647),\n (1364182.3251335202, 9927.872986030892),\n (1454307.9973296355, 11043.5230648691),\n (1165360.5413337979, 6500.984048361238),\n (1519018.3658482549, 8760.0181710683),\n (1095591.577266403, 7315.0841163530295),\n (1323105.1789169868, 9422.226842527902),\n (1358789.313510976, 11150.58599761471),\n (1522040.8368260777, 9360.503162967172),\n (1433187.1370177271, 8140.271223588969),\n (1523546.1148820021, 10051.676913079173),\n (1253748.0890542918, 10775.29614154892),\n (1204889.1784689566, 6644.08632477111),\n (1295174.7464280091, 9135.31609823826),\n (1310656.438127438, 9385.183001707615),\n (1534192.0490268625, 9067.253209152068),\n (802923.3266602743, 7786.356325955201),\n (1375015.9516245208, 10096.795139096426),\n (1507293.287208829, 8874.170610510704),\n (1517086.2898049867, 11458.027285910362),\n (1405198.5260542466, 8608.805650146087),\n (1316172.9351458037, 9993.176576506221),\n (1413518.4400141297, 11272.33182264865),\n (1256632.0192593506, 9835.079853722204),\n (1501895.3449877214, 13194.051626900678),\n (1365833.3633023256, 10334.225741784338),\n (1477751.3025852572, 10916.252158555064),\n (1519443.648492613, 9551.18035614386),\n (1325797.8500331892, 9682.504054442015),\n (854894.1409502529, 6799.200549569546),\n (1329098.0312304236, 10265.457150800332),\n (1450249.5321234653, 9388.389006021562),\n (1103790.3957389777, 6658.902505271379),\n (1456066.1422725893, 11576.354697079414),\n (1509597.042636037, 11492.683083747394),\n (1456970.1875788453, 8337.356543836062),\n (1047313.3570198369, 8307.715440975824),\n (1050100.9784765819, 8996.494376255501),\n (1511642.3132512823, 10198.67602468219),\n (1423189.2915300308, 8285.445616599764),\n (1362089.2070141232, 8655.285958321901),\n (1363324.9160329734, 11039.312630670369),\n (869223.8659060003, 5355.529773123414),\n (1528777.8273002992, 9723.190960974885),\n (1387662.7551358452, 9509.602438826198),\n (1397116.5701078703, 8345.717318572693),\n (919963.4027720278, 6943.773329640756),\n (867366.7565127074, 6322.446102776097),\n (1394109.2122263291, 10955.21823595053),\n (1385631.870467763, 9550.2314626681),\n (1492777.5630204647, 11610.754484260926),\n (919737.5791341815, 6296.492527715302),\n (885934.30396124, 5792.3155661557175),\n (1204889.1784689566, 8463.30043750606),\n (1450104.2034193638, 9327.265796884669),\n (1500899.12889281, 9327.485974439647),\n (1509578.9558542836, 8972.545753955086),\n (1159327.0046906925, 8501.186557042676),\n (1383353.8841186662, 7859.787044883931),\n (1012512.5713822435, 9583.803843480748),\n (1508395.158672788, 9325.726018075624),\n (1469007.744910701, 11981.924159536671),\n (1333443.9138063695, 10374.280021087241),\n (1505377.866489038, 8381.7159411916),\n (1101020.9339464484, 6397.062902953292),\n (1189361.5091068984, 7448.427540990899),\n (1392284.7781105326, 7016.7789355105315),\n (1518671.1450991689, 11674.491689646164),\n (1495465.5428775798, 9633.631761387793),\n (1249964.8056177748, 7550.078111816235),\n (1434734.8920369598, 10050.42179119228),\n (1128957.5548610592, 7270.514916609949),\n (1443487.6988078847, 8708.624772736595),\n (1140923.4092678272, 8700.941436723058),\n (1427634.7122136743, 8090.721832956384),\n (913441.3508396288, 5414.014063303411),\n (1015232.2187036745, 7021.170768006668),\n (1458961.0659462747, 10671.589575168577),\n (1486186.163260562, 11663.937924590507),\n (1140787.8807671794, 8306.251433691425),\n (1520590.3244833075, 10346.632095989833),\n (1484886.6338473738, 10430.521038546049),\n (1463864.8410590466, 7867.297421371646),\n (1391435.510989713, 8484.86555677672),\n (1436052.2773634733, 11773.608004605585),\n (981256.1760187701, 6500.677262659506),\n (1052931.6640534967, 6815.165342311082),\n (1285278.3544635777, 10373.705210549671),\n (1356303.7985535734, 9268.216650793443),\n (1289200.5847289069, 9411.440518130532),\n (1167097.5734976926, 7683.796047815962),\n (1495482.2801531386, 8301.402982397334),\n (1450660.1166092355, 10719.12321233951),\n (1003104.8954019011, 7036.462686054738),\n (865381.3888230601, 7682.641331522451),\n (1100435.981287697, 9527.309490082718),\n (1425322.5856738626, 11804.018494122241),\n (1243534.5481391938, 8657.46694297772),\n (1504702.7656436474, 10958.740340240609),\n (1447492.101538663, 8321.1595394969),\n (1508570.860408451, 10629.21978457652),\n (1450295.0128511079, 10122.57329132868),\n (1445392.7747763682, 10988.828938081817),\n (1478103.46587154, 11297.357319159284),\n (1521684.4875683384, 9939.791099668513),\n (1220098.250237705, 7499.898893992488),\n (1340199.514049138, 7179.18674945107),\n (1524318.1420928133, 11957.13909751895),\n (762149.5015656006, 6397.523501011683),\n (1323663.2754882947, 9302.770567235311),\n (1522965.3389323882, 11935.573738041572),\n (1464182.828171622, 11619.077967087498),\n (1157020.005111489, 8684.123661741482),\n (1237929.7850791004, 10405.990037758516),\n (1464366.934339664, 9991.819844144722),\n (1512976.459644532, 9296.024314478313),\n (1346267.0944077827, 10328.872685084878),\n (1267879.173397973, 10444.280015850005),\n (1508634.1038880616, 11752.441314478145),\n (1338803.0051400824, 6878.331253930097),\n (1480010.108658508, 9970.243578846543),\n (1200722.8795940625, 6359.069886037429),\n (1483904.205271664, 11345.86961098144),\n (1504915.0368390114, 7994.757948251555),\n (1434881.317314862, 8371.020345400593),\n (1325154.5097214615, 11282.216909345241),\n (1326513.963817537, 8440.834148079566),\n (1519834.2023400124, 11213.940154267908),\n (1462232.213645653, 10798.618656331342),\n (953421.1227228205, 8183.116092358853),\n (1458549.2976806213, 9397.537107635102),\n (1431495.5173420506, 10386.05437667586),\n (1463297.3637746105, 12515.790489923334),\n (1232932.2171089002, 8676.561615056642),\n (888083.2190490002, 5220.406320819661),\n (979630.0006392971, 6715.923934495688),\n (763762.1005083745, 5301.051927023956),\n (1468853.44697109, 9373.747791803453),\n (1376167.2832304472, 11789.885962305769),\n (1354615.8147689598, 10134.089196883817),\n (1191566.3937238026, 7823.931580623011),\n (1511771.286116986, 9812.314073742551),\n (1321877.1438982952, 11033.805156132517),\n (1232932.2171089002, 7749.938529953497),\n (1285853.0475053806, 10919.334606437109),\n (1151394.0275519972, 11261.040697107375),\n (921162.325083591, 7732.360719200126),\n (1165605.6359240073, 9117.868414893042),\n (1463173.631238363, 9373.100413774668),\n (1485149.3693056253, 11049.323763498765),\n (1445655.8601534609, 8721.56284734659),\n (1424024.4956258303, 9115.811143252971),\n (1063323.8629613856, 6404.121145791876),\n (945923.0223130963, 7464.515995903968),\n (1378354.0580576153, 10986.834564523306),\n (1282976.3286950164, 7657.61493492312),\n (1431584.3872350794, 10370.16394363141),\n (1420208.1551417403, 8796.833519028778),\n (1495313.3191942421, 11019.169981746098),\n (916790.8363048314, 7326.132201211793),\n (1533818.38843184, 9748.561031171235),\n (1329846.2294303912, 10757.508349148413),\n (1439444.801872721, 8700.61951579728),\n (1199103.8439274572, 8952.90885980294),\n (1528064.1270339005, 8626.852128046648),\n (1431495.5173420506, 9543.941859648086),\n (832487.9078200149, 5250.021502812603),\n (1193125.2142844799, 10075.967221707953),\n (1513961.8468289971, 8534.443929129955),\n (939391.7026411791, 7178.841715656493),\n (1046631.8714181434, 9379.233522836776),\n (1204982.739316402, 9755.67264525769),\n (1407773.241579998, 8441.592660528357),\n (1517111.1979929882, 7759.159120935275),\n (1480002.0337624785, 9134.762664938973),\n (733577.8941384585, 5261.616868269188),\n (1500723.0076143167, 8679.54750260282),\n (1459157.8925393845, 11830.219203234174),\n (1513889.5593221213, 10677.65542805021),\n (1376973.5737096956, 9838.843072511263),\n (1154293.8895323079, 8080.090241774008),\n (1451069.1560812916, 9533.964190884426),\n (982709.1595092211, 7933.456113019251),\n (1357257.4545387942, 9786.78227120656),\n (1101926.1635474314, 9751.169915184733),\n (991405.523647995, 6676.775606746727),\n (977282.1599460188, 6610.546438661479),\n (1009676.8574355794, 5593.990350110492),\n (1301354.584316037, 7842.212595722265),\n (1325694.7610874719, 8483.826717768734),\n (1507844.8043096212, 12302.021996026275),\n (1324325.223116812, 9810.346478805528),\n (1389554.4073858787, 8322.255582115999),\n (1512190.0365623315, 12293.230296959515),\n (1403834.5320898355, 8188.601364018158),\n (703048.0431989406, 4628.794292725336),\n (1148186.5089305837, 7976.479525241619),\n (1499528.0646273973, 8612.166651281286),\n (1531191.1817868757, 8977.291171413126),\n (733577.8941384585, 5691.136612617719),\n (1482915.3477680269, 10091.983340723007),\n (1522878.805248051, 12152.23287003822),\n (1411059.1450063393, 9512.362916314849),\n (1463864.8410590466, 10975.365538456788),\n (1093677.7184094333, 6394.09095293676),\n (1086654.192936078, 8870.026031328885),\n (1472472.9150474463, 8051.895729913755),\n (1383200.0248732066, 8530.57955111157),\n (1436013.7140318577, 8750.310193369733),\n (1039932.2229214424, 8309.815751453732),\n (1140922.5618395084, 8550.723859059295),\n (809165.5496499557, 6127.628986295453),\n (1443170.8969308576, 7498.81774227513),\n (1363235.919792848, 7963.717007406438),\n (1334748.102320469, 7753.490625137538),\n (933628.7697500887, 6251.697245838493),\n (1361248.543176139, 11875.46609029165),\n (1027733.085701141, 5762.6348139944575),\n (1288252.0677698574, 9291.09787372389),\n (1507539.4867708262, 11580.498076924256),\n (1400727.8516357937, 9765.593446155657),\n (1413804.8831491286, 10301.204423440111),\n (1400649.2526740457, 9037.550900553771),\n (1456970.1875788453, 8434.302550159771),\n (1516589.0909694314, 10397.350394346719),\n (953502.4722753877, 7980.079279539163),\n (1140787.8807671794, 7356.9655555552545),\n (1481728.3752724447, 8938.600784334318),\n (1524812.7469565368, 8993.577330554492),\n (1330300.2945912918, 10374.385900883566),\n (1445070.345798032, 8949.480723709703),\n (1493107.2517760121, 8999.257936238744),\n (1429942.334345242, 10488.977419234068),\n (1387588.9235241697, 9280.79995191001),\n (1483570.1785304951, 11979.908315058263),\n (1361462.823180814, 8926.090318988503),\n (1494829.3109587778, 9872.276306456839),\n (1445446.033511988, 8007.928898435574),\n (1465579.0491585976, 13291.162702673573),\n (1147698.0361445474, 10398.028726488888),\n (1453215.6537171714, 8636.508595752728),\n (963450.7111389467, 8565.090870073956),\n (1346895.1586490432, 10045.274793108398),\n (1134814.180781589, 8084.351736802123),\n (1387757.5745530839, 11389.487553095954),\n (1268731.82979257, 9887.705925046872),\n (1377976.5725811126, 9286.53885730868),\n (1192754.5568525086, 9400.136426321496),\n (1405964.1596799537, 10687.083400019283),\n (1501736.705818911, 10874.249873549492),\n (1397035.3681613102, 10547.558743998567),\n (1454292.194093144, 9306.873955724022),\n (1505499.6237966798, 10531.42182754563),\n (1499348.0065811456, 10634.767144777712),\n (1084548.719878972, 7930.574193379565),\n (1378582.0052735351, 7312.461758558857),\n (1309271.7486737464, 7878.975173023193),\n (1190160.0137618734, 7592.164691386045),\n (1466805.8959025787, 11652.893037664408),\n (839424.455707456, 8132.447093276617),\n (1400782.2015815966, 10499.787531815451),\n (1481524.3430032805, 9131.411847281988),\n (1081265.6467446263, 7155.531728041096),\n (1431206.548419371, 11626.431342686323),\n (1479154.842993804, 10074.38607475708),\n (1404848.3069261396, 9797.163603723902),\n (1261795.9420476493, 7452.5681842204685),\n (1503472.6926720566, 9459.510951587881),\n (638487.574390907, 4021.1976674227794),\n (1048603.3099645628, 6809.107176473046),\n (998658.1255370366, 6058.191382344938),\n (1463712.4920709408, 10920.12364671937),\n (1471706.3756950859, 7843.5889598848125),\n (1498078.006968218, 8993.364737012871),\n (1475686.8780150698, 11073.637960807702),\n (1458961.0659462747, 8277.962006906459),\n (1357257.4545387942, 8719.133296165834),\n (1516752.7438936664, 8847.95042933722),\n (1261757.6816797587, 7217.878317536839),\n (1362413.9243022169, 9005.992350917231),\n (1499836.6904750965, 8545.838921989089),\n (1420358.3899869493, 10497.223029767863),\n (1328677.927370572, 8511.952534418853),\n (1150245.261316687, 7859.742790312201),\n (1483570.1785304951, 11034.126079658961),\n (1310012.5197381692, 8606.33025785155),\n (1114039.1239204183, 7661.368451077284),\n (1509367.3848529446, 9366.948534822828),\n (1467291.1925389406, 11654.812927350513),\n (1510132.0506401493, 8412.205039289416),\n (1374145.9026036016, 8841.387459665928),\n (1429521.973505292, 13002.727256944881),\n (1419361.0366166437, 11272.703410380122),\n (994008.6973418968, 7218.276602173829),\n (1511852.5583222865, 10668.800439680932),\n (1246853.5258496464, 10982.855469867323),\n (1474913.2036376733, 8695.037263252889),\n (1449046.3343830104, 9863.031248930532),\n (1416505.232632064, 11418.072154306408),\n (1343688.1403114842, 10458.620057000693),\n (1507548.3156788994, 9194.114598838354),\n (1344043.2658065634, 8219.261698600565),\n (898472.260466669, 8567.799332482955),\n (1377887.739957073, 9099.957034421972),\n (1415800.970288397, 10728.985659105543),\n (1333345.335425831, 9176.232352861925),\n (1434063.2566410766, 10508.437536206891),\n (1392345.1378500827, 10027.247799655901),\n (1136568.5481302235, 7691.261017441795),\n (1483567.28403118, 11140.313618016486),\n (1442121.463189911, 9437.010177801743),\n (1375852.4075452602, 8863.0342887152),\n (1125274.87002933, 6624.166330249726),\n (1369591.5809997513, 10979.09428728111),\n (1419777.7766921467, 7571.838448167854),\n (1492343.5572966437, 11947.552665224928),\n (1412719.682933263, 10277.43238112916),\n (734011.4447015857, 6716.502081015366),\n (1476131.1815111223, 9297.223917062358),\n (1527005.305029723, 9493.437179746661),\n (1453787.261108231, 8955.761711817584),\n (1207416.801607359, 7349.740295799619),\n (1300651.3832891644, 9306.341336716907),\n (1464404.2026948882, 9813.509111031506),\n (1435439.8274638858, 9783.286050055778),\n (1240921.245364608, 9271.664569699888),\n (1403565.3040761638, 11125.32125619524),\n (877902.4922242907, 8385.561246098778),\n (1520786.595489672, 8364.343342420016),\n (991942.5765438672, 7310.034036017772),\n (1198538.7333092869, 9044.579049174283),\n (980896.688088404, 7065.023045007952),\n (1465864.2783962127, 10597.55933870968),\n (1235738.5689953447, 9671.050730392797),\n (1424926.4765130284, 12504.044750824485),\n (1496516.4189958624, 10545.259575373939),\n (1429720.9261282175, 11969.906703088513),\n (1398922.8562168474, 10789.47171350226),\n (1281695.07649945, 10117.907273169587),\n (1006288.2741110665, 8105.497706905046),\n (1471267.2133193954, 12197.7431816908),\n (1515661.5764957063, 10863.239632264203),\n (1432884.5454728832, 9310.20462722602),\n (1111709.6680842235, 6457.394823499122),\n (1174299.593599012, 8722.152017073631),\n (1488726.1283138276, 11246.489095720412),\n (1284024.1102158485, 9406.721392759255),\n (1527279.2378680091, 8004.837844848158),\n (1491785.9295577714, 10321.383068451807),\n (1483332.5049133739, 8614.101032627068),\n (1500677.675339052, 9750.594972341763),\n (1367679.5549614818, 7680.8738176658),\n (1484199.5618691046, 8236.230338696103),\n (1504145.3359020818, 9388.05202202401),\n (961505.3353493286, 6437.791095475881),\n (1096514.6917049664, 7140.189136386048),\n (1441022.1477775485, 11196.79517979813),\n (1461547.2806854593, 10332.020024511416),\n (1092164.9823162036, 9115.619088008849),\n (1358620.0373873136, 7847.482714322173),\n (1142075.5944905174, 9609.468646000347),\n (1487751.0129928938, 11078.756341319699),\n (1170557.954254094, 7436.65930436444),\n (919109.3933754384, 5035.055141457321),\n (1382479.4557393023, 9198.921640625133),\n (1497123.3361877757, 10534.917768957614),\n (1261757.6816797587, 8340.659389153652),\n (1277063.9144206098, 9369.971568593257),\n (1505311.82947159, 11069.818512305019),\n (1275231.5540566691, 9298.274358279783),\n (1435055.5501649939, 8759.706838330112),\n (1489921.0096425216, 7729.175515094263),\n (1123379.6089168382, 7299.336943404249),\n (1286324.0755915812, 7331.563546291135),\n (1511192.4856869008, 7777.6022943475145),\n (1336765.1638450958, 9746.47011170702),\n (1449272.1981017229, 9549.487972253959),\n (1497241.6598745668, 13277.643070000575),\n (1480463.8075676176, 10348.929873837727),\n (1054710.0859903793, 6177.101862180068),\n (1529694.0617059649, 9126.519573026482),\n (1353763.5418416676, 7787.412115104819),\n (1308736.0368283978, 11755.839812801789),\n (702989.6368745177, 4458.679310271496),\n (1507272.259055556, 11825.179930954722),\n (1300761.3780122378, 10189.51304937314),\n (1500776.2979628532, 10298.886194828428),\n (1298039.962855564, 8245.772797913749),\n (1509193.2862910544, 10063.722131711962),\n (1530477.1775621357, 10971.22051490184),\n (1249700.0132796175, 12093.465893810831),\n (1518122.0791572232, 10982.674052965496),\n (865381.3888230601, 5611.66845085118),\n (1478658.5199318402, 10318.48776136317),\n (696414.0872275587, 4318.958620759258),\n (1233877.0696315288, 7308.174783569842),\n (1460624.9933215878, 10765.256641919563),\n (722014.075849822, 5087.111159022281),\n (1525340.260939662, 9807.237250035463),\n (1421016.1939794156, 9429.935085390374),\n (1466805.8959025787, 9141.493676098844),\n (1503687.413766296, 10687.129647409278),\n (1195990.0100976028, 9781.338855899488),\n (1403338.3958098877, 10784.04455376961),\n (1446292.9703903687, 8434.031307395811),\n (839424.455707456, 5954.113050434658),\n (1364182.3251335202, 11402.309568114648),\n (1433936.3834120457, 10938.164324548197),\n (1101539.8023971093, 6898.172555085148),\n (1483303.0989523695, 9080.67844346722),\n (1325981.5647028072, 9201.866620437797),\n (1413163.1001133912, 10228.475390499398),\n (1453753.6465783922, 10213.775073133183),\n (962685.1830301253, 9094.885930248804),\n (1451438.8883313758, 8573.385639676093),\n (944382.134014575, 7966.769196848627),\n (1471992.4355500082, 7942.490990774875),\n (1521619.4943497241, 11522.154110167961),\n (1243501.9130915436, 6786.708491360011),\n (1249674.5548740076, 8931.520981817033),\n (1509957.465960845, 8103.291354255139),\n (1464404.2026948882, 13738.91275544415),\n (1322436.4764731356, 9076.581577829791),\n (780244.3305722213, 5051.754545370642),\n (981870.2958658851, 6574.128590029033),\n (1377332.6573696309, 10939.401106517838),\n (1076489.3983756707, 6959.789560467686),\n (1432733.9149921157, 8680.763578342474),\n (1311039.7075935407, 7294.218366896006),\n (1468533.4312717747, 9768.88248311289),\n (1491825.5599916948, 7536.139615096067),\n (1461285.1333389368, 8833.893681669353),\n (1442121.463189911, 12001.415117421768),\n (1507376.8809910205, 11101.622715926718),\n (1326834.948945828, 8358.086568148032),\n (1249444.980432217, 10473.977194941552),\n (1396001.4399453006, 8774.378328766888),\n (1083372.0138473527, 6633.699308352094),\n (1490085.7600682278, 10378.411936729759),\n (1059052.2903804851, 6867.223433525844),\n (1504180.1507787285, 8939.052791772518),\n (1284024.1102158485, 11176.302644862457),\n (1304574.3685324218, 9999.923596883702),\n (1480886.3453174531, 8422.895454396945),\n (1475480.4169674888, 8619.500971739044),\n (1319865.7650666134, 8491.849383114148),\n (1432853.5297347978, 9182.724862272591),\n (1438392.732385875, 12832.689403912887),\n (1495994.7958457638, 8708.954248339109),\n (1191443.17345518, 9957.27815293159),\n (1359108.3430105678, 9429.704320980652),\n (1440565.0294984544, 9218.747254999076),\n (1462658.6738097004, 11505.24207606118),\n (1022502.8151460782, 7755.906957414027),\n (1496404.7140850637, 12174.256062302418),\n (1175305.7135254138, 6829.229706366689),\n (1394757.9405952056, 8505.354984799038),\n (1340512.3512041934, 8218.101572600097),\n (1014925.0019847862, 5430.032474686516),\n (1489606.9855778292, 8397.903418293548),\n (1522201.6506766328, 8736.757989409094),\n (1436836.5824070408, 10477.311271075663),\n (924988.1998723513, 5945.059400423028),\n (1097160.4345630046, 6539.0134082400955),\n (1206776.8125111435, 10457.233971967647),\n (1431062.439070984, 8017.322010815474),\n (919963.4027720278, 7140.295216328675),\n (1176722.1949513105, 8004.970748214614),\n (926365.7757058481, 5935.40345699756),\n (1433640.0499998042, 10593.442570466188),\n (1413722.8764785877, 10992.756758354983),\n (1382718.200434422, 8892.911275776087),\n (1465625.404252985, 9023.429076172826),\n (1487630.9561781697, 11479.222285170776),\n (1507572.2215310703, 10725.496724175744),\n (1498438.197857201, 11886.522112349454),\n (986871.3052742353, 7524.3918613166725),\n (841361.1317241397, 7140.953300654308),\n (1422701.7097665586, 8892.49279460568),\n (1270649.5077988931, 10769.96940552745),\n (1448102.151099547, 7863.811102273449),\n (1448784.337382354, 8202.580097999766),\n (1407130.9540178778, 10725.902493630096),\n (1492175.4639737254, 12047.43847062881),\n (1492454.663917093, 9592.985161974222),\n (1283704.6201568488, 10537.819598051288),\n (1514056.998151385, 9206.732183237003),\n (1528399.081400739, 9109.359016271765),\n (1475322.4026909254, 9316.783730309175),\n (1452304.2016659228, 10999.573754323746),\n (1370461.0599540889, 8843.350245365402),\n (1395503.5126899572, 7999.152018316659),\n (1468112.277745796, 8882.522866986288),\n (729302.1668577926, 5692.271974894521),\n (1253911.2233926365, 8155.7962240082725),\n (1366680.9692288507, 11647.24239676144),\n (1500653.6527818425, 10141.304176940283),\n (1438757.6906748437, 8468.66468224869),\n (1459125.0843210507, 10708.270868007176),\n (1290126.9402783522, 6644.409741937561),\n (1401520.532900871, 8102.149211763834),\n (1469794.0913996026, 8839.48967203707),\n (1517041.8312343145, 11555.215380698777),\n (941587.2336526265, 5828.35217633239),\n (1311885.541173331, 7748.6488597964),\n (1515096.439492756, 7849.870122318352),\n (1497924.0792586412, 11039.295464029205),\n (1448375.7513647303, 10227.066129870827),\n (1105982.5357302006, 8465.043481057146),\n (1387566.6314215073, 11086.611884129821),\n (1479827.6315919238, 10969.016205777314),\n (1510508.9822927976, 9585.541816963912),\n (1508578.656607967, 8792.168106111461),\n (1358620.0373873136, 7237.122947652707),\n (905099.4260382297, 5271.122204561328),\n (1443769.301580529, 9108.804800811236),\n (1483279.0582670642, 10547.681720830578),\n (1187674.1204967068, 7818.404432942705),\n (1320405.692472387, 10276.794672687285),\n (1070069.2758198446, 8490.081034569608),\n (1355302.4764690734, 8298.93628442459),\n (787704.3454238605, 5904.795543413663),\n (1257893.7280774664, 8761.048022498608),\n (1375015.9516245208, 10001.542354765292),\n (1301063.0346056924, 8528.392773569165),\n (1473549.140873445, 11047.99390024071),\n (1449132.1413529972, 10384.092119272651),\n (1140923.4092678272, 8133.48873432812),\n (931597.7861728265, 5105.965230015389),\n (1428445.5194085296, 9727.465788834274),\n (1505988.3267338662, 11408.677177497126),\n (1493826.9888142617, 10080.769990709403),\n (1436052.2773634733, 10754.738081130085),\n (1324507.655677234, 7859.111087997993),\n (1366931.5946864674, 7419.818073776211),\n (1140129.9774882009, 8544.420868409601),\n (1395353.3448702465, 10237.676700977343),\n (1453169.1821923219, 10735.13896964741),\n (1284273.4176031407, 8284.256504559675),\n (999572.0388399977, 9803.743146460823),\n (1472523.7905185928, 8176.702695110969),\n (1276402.386343389, 12095.987456925022),\n (685339.2803961692, 4428.581356170072),\n (1307969.26162739, 9686.262027424502),\n (1541983.0887688566, 10022.526088511093),\n (1477403.778949116, 10390.05434070415),\n (1519490.2979348332, 10633.178289763182),\n (1249700.0132796175, 8638.189924150602),\n (1291712.4193792504, 9041.090599452298),\n (1409677.657327844, 10383.949392135182),\n (1446546.5707656776, 9604.41706745943),\n (1005479.5814523945, 7032.156001197965),\n (680949.4674658236, 4953.7477531395425),\n (1514672.1015053224, 10189.794933418685),\n (1337543.176037893, 10267.662077400713),\n (1244958.0852196512, 11276.684480322634),\n (1514056.998151385, 9634.952284782881),\n (1491206.4516299388, 12701.321038807235),\n (1521683.7450381082, 10537.34240255296),\n (1353865.4824148954, 10740.401251261608),\n (1519490.2979348332, 9559.119876655795),\n (1518393.2932157475, 11501.725606717337),\n (1514365.579439313, 9074.570790231333),\n (1476643.1448121916, 12156.463855112828),\n (1475050.9874656023, 10515.720010184776),\n (1112114.5722677312, 7643.068434744371),\n (1490706.3486484825, 10535.47021948154),\n (1105714.2284311347, 8630.116860735276),\n (971820.2732801707, 7446.456062817318),\n (1367348.8795807492, 10758.591675539183),\n (750019.9749779471, 4671.108789053859),\n (1401622.4777694512, 10508.628726576373),\n (1409126.0380973583, 10341.307084903348),\n (1376230.9160424636, 10515.598395036266),\n (1344065.5609910784, 10569.936249531724),\n (1323442.4224562594, 7422.915918901123),\n (1125274.87002933, 9693.901946706856),\n (1382381.4910038842, 7516.301759830802),\n (1457847.586524521, 9090.12663922128),\n (1362905.5422441037, 8763.327902753197),\n (1001311.9800567745, 7450.653902357166),\n (1215313.3488362115, 10260.840401151356),\n (980896.688088404, 8976.735163068915),\n (1492157.6541930034, 10279.628168898022),\n (1017409.887873283, 6883.598451467504),\n (1486600.0329998033, 10654.010035493886),\n (922601.120237469, 6616.015091468606),\n (979636.0529037034, 6645.426723911279),\n (1464134.5232046142, 13249.82234324164),\n (1341304.5603092092, 9426.45492025514),\n (1148948.6763297047, 7673.301090952794),\n (1372974.514887903, 11347.166512074748),\n (1474671.0663474528, 11158.834457269379),\n (1354530.2431870454, 7433.532928914136),\n (1259632.1536898487, 8575.536414069345),\n (1127078.0956215388, 7150.176068431695),\n (1351955.5263322662, 8669.13089270527),\n (827166.9936797844, 6711.5010854969),\n (1430465.2446939393, 10673.308368501555),\n (1507401.1043588386, 9215.804994266757),\n (1227448.8298851477, 7019.025289162803),\n (1511563.7558545042, 9215.764915190664),\n (1459494.020545508, 9416.717828551764),\n (1427793.6784345617, 9505.87381592671),\n (1530460.605595276, 11032.546177909253),\n (1092164.9823162036, 8599.640649064973),\n (1424247.9078881193, 8636.326487796881),\n (1402227.0307904554, 8322.093697180244),\n (1439958.4719870395, 11891.677592823535),\n (1410948.585553589, 8676.63874105903),\n (907152.0928816915, 7221.902222104201),\n (1272225.9200185386, 8199.562580031014),\n (1446447.9814369911, 8933.366830569792),\n (1493956.6367102757, 11196.64507077663),\n (1462862.3773624322, 8937.23550692291),\n (1531322.7155872674, 8825.472693029962),\n (832487.9078200149, 5194.75811857251),\n (1522450.5285167445, 12149.629560946949),\n (1503314.5892545097, 11178.140602577469),\n (1503233.7051003536, 10116.101627563698),\n (1479747.157853565, 10607.835838232862),\n (1200562.7478788919, 8427.015109882266),\n (1113025.1675930491, 7507.479645007884),\n (1524781.6997405454, 12022.537567305479),\n (1530688.9893177452, 8123.645493240277),\n (1160158.72310025, 8793.049417002609),\n (755165.7483753221, 5088.730919307989),\n (1300161.2512778577, 7915.375330857367),\n (1511705.8930501128, 12566.174280959625),\n (1407454.403295654, 9929.443207587112),\n (1108657.1417324964, 8286.11739791008),\n (1503652.6240231174, 14061.556971292799),\n (1073857.4299927598, 9487.076335768043),\n (1039614.0901090114, 8801.782923019728),\n (1282581.06773741, 11396.733072546665),\n (1511852.5583222865, 11261.511575218783),\n (1358832.7677372298, 11372.757806361262),\n (1503546.3952129807, 9143.020046087624),\n (1405869.8444213376, 9628.84933372899),\n (1477358.461297769, 9027.336340698528),\n (1282244.825031981, 8250.66171444609),\n (1532025.9366331517, 9957.666257689696),\n (994978.1334887631, 5525.6484768714845),\n (1385507.3445053399, 11397.017133877487),\n (1484958.0830875076, 8298.877735264832),\n (1449324.5584418878, 9415.516841445336),\n (1457624.562027442, 9875.36367447015),\n (1443739.800605236, 10595.368825138654),\n (1512507.49547123, 7877.819039527971),\n (1493384.3279891023, 7825.138700453418),\n (1479154.842993804, 8815.087815412448),\n (1320126.5929206028, 10585.207881907229),\n (1247639.8072044223, 7571.79028694524),\n (1319240.3249870744, 8923.309279011535),\n (856931.2494668309, 7306.595152339771),\n (1504221.6480967987, 10771.133090266232),\n (1374363.9411431702, 7808.026610124322),\n (1138761.8108146428, 8188.76014789555),\n (1417957.0779460438, 10536.406843803104),\n (1361745.1565224426, 9892.056341180456),\n (1513019.205071365, 10673.380224423883),\n (1515005.8624873336, 9240.030195766745),\n (885189.4101995791, 6543.667072292794),\n (1504229.0246026178, 10271.20527596544),\n (1458908.0678454814, 10866.65994113444),\n (1155669.0759809073, 7393.214407709273),\n (1503545.0050742296, 10590.577411891698),\n (1487561.0767877388, 10300.425870886911),\n (1294875.0575500468, 7442.923983471574),\n (1456128.4180945428, 9775.85093378984),\n (1155957.5431121709, 9840.38972331375),\n (1324325.223116812, 11089.95688908456),\n (1135361.896810935, 7906.7984416496765),\n (1498662.6268315197, 7856.436290334884),\n (1455651.647926799, 9064.025183275457),\n (1368020.4626388978, 10148.384528276378),\n (1353867.5616147046, 10471.737982465667),\n (970602.0793364212, 9674.563243651595),\n (1052195.6300003778, 7220.965130132889),\n (1175305.7135254138, 7073.130767308362),\n (1489604.2502630271, 9451.21279721891),\n (990656.1175839391, 8379.736836005733),\n (1518872.61572453, 11879.655534018002),\n (1168283.7635800806, 6222.564698239777),\n (1175537.9540193684, 7910.935934548524),\n (1462691.2561701187, 8501.220160854373),\n (1450249.5321234653, 9969.114099177536),\n (1428186.5432420443, 8724.117187734793),\n (1527482.5795165084, 9258.628700199466),\n (1408014.5943208828, 11342.73533371219),\n (1504361.390175658, 9277.931183392133),\n (1184154.355047678, 10837.679449545938),\n (1485432.7151854325, 9898.353428494793),\n (1421969.1645258605, 8458.890431310796),\n (1538331.8658303104, 11323.1918235143),\n (1370802.9206997657, 10771.167328471514),\n (1487706.677224481, 9103.902732665028),\n (1367361.0663009388, 10309.574960292628),\n (1480397.1301613208, 9645.959879196138),\n (1342592.4248216324, 9430.667833058837),\n (1500956.857152735, 12483.618680391211),\n (1506960.2301581101, 11330.49888266929),\n (1441345.537763233, 10276.248521360454),\n (1454855.0304579257, 11588.047739281845),\n (1266591.3196957454, 9207.90608087263),\n (1233887.474624957, 8363.305543327895),\n (1348037.108816344, 12078.970333170188),\n (1259762.9549729305, 12256.616670402303),\n (1340299.101936424, 10895.350233796009),\n (1484512.2872421946, 10381.403635658826),\n (1499040.9428213623, 10386.428141902426),\n (1251471.2900947437, 7955.115240239993),\n (1305776.2060958687, 10631.910142346742),\n (1488802.5532456923, 9253.506070258038),\n (1531730.9428216158, 10506.171686296588),\n (1475143.0525758623, 9502.318767035293),\n (1454846.868718924, 8246.35625452014),\n (1514930.8216532683, 8460.754174520178),\n (1386517.5336948393, 8337.85302646208),\n (1194025.4141400605, 7082.439842164446),\n (1446546.5707656776, 10792.59237477402),\n (1284273.4176031407, 8644.441569975297),\n (1454276.7605180347, 9738.453094212526),\n (1469943.9865465404, 9363.590801560882),\n (1488456.5449868776, 10211.512747393894),\n (1079423.0809107402, 7533.094906676817),\n (911047.0819881982, 7009.504420531604),\n (1483714.2432189782, 7418.503093045147),\n (1195018.789580341, 8214.033445413386),\n (1014580.0156548411, 7758.532965267289),\n (972592.8127789892, 6270.573503296707),\n (1446007.9049449142, 10799.083551709262),\n (1051187.8612842467, 7860.104494695293),\n (1434799.1175854455, 9974.17519336091),\n (1121833.3215224834, 8894.28225600662),\n (1355380.504303328, 8960.746636626463),\n (1348037.108816344, 11216.186737943723),\n (1120767.4456858037, 9033.585290876277),\n (1424125.2618487247, 9776.094821406437),\n (1388342.5115348117, 8822.996207175273),\n (883246.5947245102, 8110.841831303465),\n (1363701.5119531227, 9393.007219184996),\n (1497271.9425155525, 9323.397680774007),\n (1465864.2783962127, 10014.20744850556),\n (1522201.6506766328, 7787.1103818646425),\n (1421648.9469972127, 7971.112749580064),\n (1515805.2887123544, 10447.128329195517),\n (1378234.0678344632, 10033.981595838513),\n (1501130.2600340627, 9119.839186590942),\n (1462658.6738097004, 10530.22156114071),\n (1490466.1466695478, 14065.912083238245),\n (1277476.8446107227, 8478.435113967833),\n (1516429.682631074, 11859.301025678375),\n (788617.8739218861, 7379.364592957912),\n (1419683.5816351408, 7761.009582097638),\n (1521683.7450381082, 8863.185198409032),\n (1436641.9439022967, 9314.020901928252),\n (1435218.1271881815, 9338.76317038086),\n (1448669.5499155682, 13132.578964304346),\n (1483381.0613784979, 11779.542120074171),\n (1424492.199204317, 10047.82933977572),\n (1475811.4069824845, 9041.214437472365),\n (634144.042042838, 4307.386302528498),\n (1481524.3430032805, 11769.375269830072),\n (1496546.671175081, 13208.63131558836),\n (1439372.704082229, 9840.929480162862),\n (968397.5308741451, 7462.79779504738),\n (1374818.7104158616, 10632.925555801814),\n (1504767.4566540045, 12633.471132132572),\n (1513385.7716137264, 9190.322744817899),\n (1236631.6752280018, 7123.747606575053),\n (1490820.5650452808, 11608.34663912691),\n (1036669.1280752735, 6429.164927205259),\n (1342376.335664452, 9275.467022506135),\n (1515437.0782800277, 12198.572690064413),\n (1298817.5323478715, 8641.003605301898),\n (780244.3305722213, 5271.396047343244),\n (1513978.6289554422, 9229.360321521488),\n (1500156.4665811465, 10045.48512921369),\n (1159377.065012906, 7559.6017251706035),\n (1488243.6269504155, 8377.313261705214),\n (1424125.2618487247, 8418.303873988933),\n (956868.9233701332, 9061.84797554391),\n (1518433.7879154144, 13451.276818337717),\n (1266329.4331488358, 9813.333593001696),\n (568697.7663968427, 3721.5902257481307),\n (1496014.3688594643, 9519.290846030108),\n (771271.3432092506, 5425.637031652411),\n (1459705.513229678, 10201.450670574543),\n (1497011.061373231, 13987.339668149723),\n (1291372.1576337188, 8763.613578661805),\n (1190160.0137618734, 8950.762583528867),\n (1458035.0150468738, 7863.564972854833),\n (1526744.5700599384, 11837.88193813071),\n (1110610.474012852, 6314.830348456909),\n (1464711.9068236088, 11012.186000133732),\n (1516621.5369223456, 11862.208398490595),\n (1502187.9073738456, 8655.683481811571),\n (1484037.6835410122, 10293.479518474855),\n (1414524.5214673535, 10884.49477904284),\n (1329003.6016371, 11140.948269943166),\n (1536733.4381700316, 12277.559574561943),\n (1510242.9241602323, 9708.082060300176),\n (1524812.7469565368, 10004.09163735834),\n (762149.5015656006, 4784.234965973961),\n (1364662.3283985064, 8691.591419257758),\n (1408674.477984234, 10383.64874918841),\n (1421255.9938370725, 9419.50940004582),\n (1284273.4176031407, 7924.071439144028),\n (1175537.9540193684, 11384.02975947225),\n (1280879.715662829, 7838.215509356723),\n (1463006.9294665405, 8728.537580513495),\n (1288998.024422493, 7688.9356791143),\n (1490464.6066846815, 8987.544548166185),\n (1466252.8257796185, 8691.94312008704),\n (1402042.7895029306, 11877.682408414823),\n (1427698.426329522, 7351.832630395559),\n (1072451.2285558116, 6912.546932100432),\n (1510642.920142981, 10889.473731653417),\n (1516515.3505309017, 11586.257699627517),\n (1442072.3411266394, 13135.293807406792),\n (1438304.0768464669, 8578.688904738676),\n (1503359.888860279, 7972.652180336148),\n (1341720.9616303511, 9522.632399932581),\n (1298039.962855564, 9255.45926296442),\n (1457673.2693316836, 13418.387689742756),\n (939391.7026411791, 7114.167465965901),\n (1504702.7656436474, 11384.322489376169),\n (1471538.3534285156, 12408.217499340795),\n (1382479.4557393023, 9719.615318396362),\n (1405458.6768382243, 9915.034568233894),\n (1255689.3527900544, 9225.797115207843),\n (1142075.5944905174, 9014.191827221573),\n (1409216.9753739452, 8166.607300662532),\n (1290810.4351783833, 8197.614199089541),\n (979630.0006392971, 7163.6521967953595),\n (1453354.289774041, 8689.016968081698),\n (1242116.4931875048, 9639.112708840614),\n (1476349.4241138175, 11494.872566707578),\n (1456147.608153865, 8754.402485448425),\n (1010889.442803948, 8202.879244843814),\n (1510933.0766320697, 10792.554937749823),\n (1342275.5843053013, 10573.495475237107),\n (996210.3272504471, 9030.517065416045),\n (1341195.905021831, 7652.055389208923),\n (1436159.5725596752, 11196.13589255679),\n (1481336.0016004231, 8560.611380248887),\n (1495313.3191942421, 9784.263001033205),\n (1510975.2018152378, 10786.753559928624),\n (1325778.0196219801, 9243.749153190383),\n (1512645.0247181198, 10287.027303586776),\n (1298482.970076177, 8010.427678631231),\n (1472448.0073275073, 9355.769838696624),\n (1031738.6090868516, 6900.538999102067),\n (1409216.9753739452, 10652.096479125034),\n (1505416.2843288768, 9257.875000502338),\n (945820.5535954139, 6999.728517647591),\n (1499040.9428213623, 8736.247969824457),\n (984888.9483945544, 7489.149057495462),\n (1370087.3051666922, 7131.057166329399),\n (1369151.390343815, 10243.309684397826),\n (811740.5362803672, 6498.539347862366),\n (1461513.9961626162, 10602.95867641193),\n (1012512.5713822435, 9754.943197828565),\n (1462190.0052337935, 10615.91985132501),\n (1305774.8712529903, 11056.681351979541),\n (1522040.8368260777, 9261.971550725426),\n (1174410.1936194657, 6823.589287555905),\n (808231.4623380676, 5610.9203442556745),\n (1184116.2230296258, 6863.977480466402),\n (1273684.4550938774, 8154.10617380579),\n (1509160.6640619047, 11526.785224205956),\n (1486883.1597483559, 9179.2537486352),\n (817373.6822063432, 5938.875719344141),\n (1063323.8629613856, 8245.305975207073),\n (1293364.967052807, 9144.418952467176),\n (1482339.060502358, 13048.850449359526),\n (902988.6581434727, 7948.158401133297),\n (1428758.1515826448, 10450.570701734105),\n (1467070.4149807966, 8564.795630881494),\n (1094554.142584457, 8260.16109173819),\n (1504361.390175658, 9178.168482495455),\n (1515891.585458453, 12868.312294782549),\n (1494012.0274994941, 12139.08868037399),\n (1412111.3521117507, 7409.994623449526),\n (1490851.2514800653, 7580.558352310217),\n (1531251.9031822716, 8844.020936786646),\n (1313190.0955745485, 7908.4759421459385),\n (1346267.0944077827, 10974.42722790269),\n (1389554.4073858787, 7259.839975888401),\n (1390690.0993402342, 10505.436719578027)]"
     },
     "execution_count": 9,
     "metadata": {},
     "output_type": "execute_result"
    }
   ],
   "source": [
    "cases_per_year_list"
   ]
  },
  {
   "cell_type": "code",
   "execution_count": 10,
   "metadata": {
    "pycharm": {
     "name": "#%%\n"
    }
   },
   "outputs": [],
   "source": [
    "with open('cases_per_year_list.pickle', 'wb') as handle:\n",
    "    pickle.dump(cases_per_year_list, handle, protocol=pickle.HIGHEST_PROTOCOL)"
   ]
  }
 ],
 "metadata": {
  "kernelspec": {
   "display_name": "Python 3",
   "language": "python",
   "name": "python3"
  },
  "language_info": {
   "codemirror_mode": {
    "name": "ipython",
    "version": 3
   },
   "file_extension": ".py",
   "mimetype": "text/x-python",
   "name": "python",
   "nbconvert_exporter": "python",
   "pygments_lexer": "ipython3",
   "version": "3.8.5"
  },
  "toc": {
   "base_numbering": 1,
   "nav_menu": {},
   "number_sections": true,
   "sideBar": true,
   "skip_h1_title": false,
   "title_cell": "Table of Contents",
   "title_sidebar": "Contents",
   "toc_cell": false,
   "toc_position": {},
   "toc_section_display": true,
   "toc_window_display": false
  },
  "varInspector": {
   "cols": {
    "lenName": 16,
    "lenType": 16,
    "lenVar": 40
   },
   "kernels_config": {
    "python": {
     "delete_cmd_postfix": "",
     "delete_cmd_prefix": "del ",
     "library": "var_list.py",
     "varRefreshCmd": "print(var_dic_list())"
    },
    "r": {
     "delete_cmd_postfix": ") ",
     "delete_cmd_prefix": "rm(",
     "library": "var_list.r",
     "varRefreshCmd": "cat(var_dic_list()) "
    }
   },
   "types_to_exclude": [
    "module",
    "function",
    "builtin_function_or_method",
    "instance",
    "_Feature"
   ],
   "window_display": false
  }
 },
 "nbformat": 4,
 "nbformat_minor": 1
}