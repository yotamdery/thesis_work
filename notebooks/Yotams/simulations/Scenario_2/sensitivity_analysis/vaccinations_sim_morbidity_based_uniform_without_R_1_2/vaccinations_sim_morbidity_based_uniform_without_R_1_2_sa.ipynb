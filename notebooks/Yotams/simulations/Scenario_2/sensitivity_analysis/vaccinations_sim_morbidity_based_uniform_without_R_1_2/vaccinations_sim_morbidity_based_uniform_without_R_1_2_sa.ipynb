{
 "cells": [
  {
   "cell_type": "markdown",
   "metadata": {
    "pycharm": {
     "name": "#%% md\n"
    }
   },
   "source": [
    "## This notebook produces cases per year for the morbidity based uniform with info simulation"
   ]
  },
  {
   "cell_type": "code",
   "execution_count": 1,
   "metadata": {
    "pycharm": {
     "name": "#%%\n"
    }
   },
   "outputs": [],
   "source": [
    "import numpy as np\n",
    "import pandas as pd\n",
    "import itertools\n",
    "import pickle\n",
    "import datetime, random, copy\n",
    "import sys, os, tqdm\n",
    "\n",
    "import SEIR_full as mdl\n",
    "import SEIR_full.model as mdl\n",
    "import SEIR_full.calibration as mdl\n",
    "from SEIR_full.indices import *\n",
    "from SEIR_full.utils import *\n",
    "from SEIR_full.parameters import *"
   ]
  },
  {
   "cell_type": "markdown",
   "metadata": {
    "pycharm": {
     "name": "#%% md\n"
    }
   },
   "source": [
    "* Fixing the ranges of the uncertainty factors that we're interested in:"
   ]
  },
  {
   "cell_type": "code",
   "execution_count": 2,
   "metadata": {
    "pycharm": {
     "name": "#%%\n"
    }
   },
   "outputs": [],
   "source": [
    "# Creating a list of tuples, each tuple is a realization of randomly picked values for the factors that we change every iteration of the simulation\n",
    "np.random.seed(70)\n",
    "list_of_tuples = []\n",
    "for i in range(1000):\n",
    "    booster_eff = round(np.random.uniform(low=29.5001, high=95.5)) / 100     # Discrete uniform dist, booster_efficiency ~ U(30, 95), Updated in the model's object\n",
    "    inv_level = round(np.random.uniform(low=9.5001, high=20.5)) / 100       # Discrete uniform dist, booster_efficiency ~ U(10, 20), Updated in the simulation's settings\n",
    "    hosp_proba_scalar = round(np.random.uniform(low=0.8, high=1.2), 2)      # Continuous uniform dist, booster_efficiency ~ U(0.8, 1.2), Updated in the model's object\n",
    "    years_for_model_run = round(np.random.uniform(low=.5001, high=5.5))         # Discrete uniform dist, booster_efficiency ~ U(3, 10), Updated in the simulation's settings\n",
    "    list_of_tuples.append((booster_eff, inv_level, hosp_proba_scalar, years_for_model_run))"
   ]
  },
  {
   "cell_type": "markdown",
   "metadata": {
    "pycharm": {
     "name": "#%% md\n"
    }
   },
   "source": [
    "* Fixing the static settings for all runs of the big loop"
   ]
  },
  {
   "cell_type": "code",
   "execution_count": 3,
   "metadata": {
    "pycharm": {
     "name": "#%%\n"
    }
   },
   "outputs": [],
   "source": [
    "## DEFINING STATIC SETTINGS (INDEPENDENT IN THE DYNAMIC FACTORS) FOR THE SIMULATION RUN\n",
    "# Short path for the data directory\n",
    "DATA_DIR = r'/Users/yotamdery/Old_Desktop/git/SEIR_model_COVID-main/Data'\n",
    "# Reading the indices of the model - adding an hint to declare it's from type Indices!\n",
    "with(open(DATA_DIR + '/parameters/indices.pickle', 'rb')) as openfile:\n",
    "    ind:Indices = pickle.load(openfile)\n",
    "\n",
    "# Create indices for the age groups for easy & automatic access to the results of the operation in the script:\n",
    "age_groups_ind = {'5-9':0, '10-29':1, '30-59':2, '60+':3}\n",
    "\n",
    "# Reading the neutralized vectors:\n",
    "# Alpha variant vector\n",
    "with open(DATA_DIR + '/parameters/neutralized_alpha_variant_vec.pickle', 'rb') as pickle_in:\n",
    "\tneutralized_alpha_variant_vec = pickle.load(pickle_in)\n",
    "\n",
    "# Delta variant vector\n",
    "with open(DATA_DIR + '/parameters/neutralized_delta_variant_vec.pickle', 'rb') as pickle_in:\n",
    "\tneutralized_delta_variant_vec = pickle.load(pickle_in)\n",
    "\n",
    "# Beta_lockdown vector\n",
    "with open(DATA_DIR + '/parameters/neutralized_lockdown_vec.pickle', 'rb') as pickle_in:\n",
    "\tneutralized_lockdown_vec = pickle.load(pickle_in)\n",
    "\n",
    "# Beta_school vector\n",
    "with open(DATA_DIR + '/parameters/neutralized_school_vec.pickle', 'rb') as pickle_in:\n",
    "\tneutralized_school_vec = pickle.load(pickle_in)\n",
    "\n",
    "# Isolation morbidity ratio vector\n",
    "with open(DATA_DIR + '/parameters/neutralized_isolation_morbidity_ratio_vector.pickle', 'rb') as pickle_in:\n",
    "\tneutralized_isolation_morbidity_ratio_vector = pickle.load(pickle_in)\n",
    "\n",
    "# zero vector to remove any transition from V_2 and S_2 to V_3\n",
    "with open(DATA_DIR + '/parameters/neutralized_transition_rate_to_V_3.pickle', 'rb') as pickle_in:\n",
    "\tneutralized_transition_vector = pickle.load(pickle_in)"
   ]
  },
  {
   "cell_type": "markdown",
   "metadata": {
    "pycharm": {
     "name": "#%% md\n"
    }
   },
   "source": [
    "* Utils functions:"
   ]
  },
  {
   "cell_type": "code",
   "execution_count": 4,
   "metadata": {
    "pycharm": {
     "name": "#%%\n"
    }
   },
   "outputs": [],
   "source": [
    "# Getting the reported unreported ratio\n",
    "def get_reported_unreported_ratio(scen):\n",
    "    if scen == 'Scenario2':\n",
    "        reported = 1\n",
    "        unreported = 2\n",
    "        reported_unreported = unreported / (reported + unreported)\n",
    "    return reported_unreported\n",
    "\n",
    "# Getting all region,age combinations as a list\n",
    "def get_all_region_age_combinations():\n",
    "    \"\"\"This function returns a list of tuples of all region,risk,4-age_group combinations\"\"\"\n",
    "    counties_list = list(ind.region_dict.keys())\n",
    "    age_groups_list = list(age_groups_ind.keys())\n",
    "    return list(itertools.product(counties_list, age_groups_list))\n",
    "\n",
    "def region_age_groups_mapping(wanted_mapping: str):\n",
    "    \"\"\" This function gets a wanted mapping (4 examined age groups to 9 original model's age groups or vice versa),\n",
    "    and returns a dictionary consist of the wanted mapping\n",
    "    \"\"\"\n",
    "    # Initializing the final mapping to return and it's keys:\n",
    "    mapping_dict = {}\n",
    "    all_comb_4_age_groups_list = get_all_region_age_combinations()\n",
    "    if wanted_mapping == '4-to-9':\n",
    "        # Iterating over all possible combinations with the 4-age_groups:\n",
    "        for combination in all_comb_4_age_groups_list:\n",
    "            # The list that the current combination will map to\n",
    "            curr_res_list = []\n",
    "            # A list to iterate when building the curr_res_list - depending on the current and new age-group:\n",
    "            if combination[1] == '5-9':\n",
    "                correspondent_age_groups = ['5-9']\n",
    "            elif combination[1] == '10-29':\n",
    "                correspondent_age_groups = ['10-19', '20-29']\n",
    "            elif combination[1] == '30-59':\n",
    "                correspondent_age_groups = ['30-39', '40-49', '50-59']\n",
    "            else:\n",
    "                correspondent_age_groups = ['60-69', '70+']\n",
    "\n",
    "            # Appending to the curr_res_list to finalize the mapping:\n",
    "            for age_group in correspondent_age_groups:\n",
    "                curr_res_list.append((combination[0], age_group))\n",
    "\n",
    "            # Updating the final mapping_dict:\n",
    "            mapping_dict[combination] = curr_res_list\n",
    "    return mapping_dict\n",
    "\n",
    "# Getting all region,risk,age combinations as a list\n",
    "def get_all_region_risk_age_combinations():\n",
    "    \"\"\"This function returns a list of tuples of all region,risk,4-age_group combinations\"\"\"\n",
    "    counties_list = list(ind.region_dict.keys())\n",
    "    risk_list = ['High', 'Low']\n",
    "    age_groups_list = list(age_groups_ind.keys())\n",
    "    return list(itertools.product(counties_list, risk_list, age_groups_list))\n",
    "\n",
    "def region_risk_age_groups_mapping(wanted_mapping: str):\n",
    "    \"\"\" This function gets a wanted mapping (4 examined age groups to 9 original model's age groups or vice versa),\n",
    "    and returns a dictionary consist of the wanted mapping\n",
    "    \"\"\"\n",
    "    # Initializing the final mapping to return and it's keys:\n",
    "    mapping_dict = {}\n",
    "    all_comb_4_age_groups_list = get_all_region_risk_age_combinations()\n",
    "    if wanted_mapping == '4-to-9':\n",
    "        # Iterating over all possible combinations with the 4-age_groups:\n",
    "        for combination in all_comb_4_age_groups_list:\n",
    "            # The list that the current combination will map to\n",
    "            curr_res_list = []\n",
    "            # A list to iterate when building the curr_res_list - depending on the current and new age-group:\n",
    "            if combination[2] == '5-9':\n",
    "                correspondent_age_groups = ['5-9']\n",
    "            elif combination[2] == '10-29':\n",
    "                correspondent_age_groups = ['10-19', '20-29']\n",
    "            elif combination[2] == '30-59':\n",
    "                correspondent_age_groups = ['30-39', '40-49', '50-59']\n",
    "            else:\n",
    "                correspondent_age_groups = ['60-69', '70+']\n",
    "\n",
    "            # Appending to the curr_res_list to finalize the mapping:\n",
    "            for age_group in correspondent_age_groups:\n",
    "                curr_res_list.append((combination[0], combination[1], age_group))\n",
    "\n",
    "            # Updating the final mapping_dict:\n",
    "            mapping_dict[combination] = curr_res_list\n",
    "    return mapping_dict\n",
    "\n",
    "def get_indexes_region_risk_age_combination(region_risk_age_group: tuple):\n",
    "    \"\"\"This function gets a tuple of (region, risk, 4_age_group) and returns the indexes of that combination as they are in the original model (including transformation to the 9 original age groups. e.g.: for (1101, 'High', '10-29'), returns the indexes for (1101, 'High', '10-19') + (1101, 'High', '20-29')\"\"\"\n",
    "    # Initializing the result list and the age groups mapper:\n",
    "    indexes_list_of_lists = []\n",
    "    four_to_nine_age_map = region_risk_age_groups_mapping('4-to-9')\n",
    "    for val in four_to_nine_age_map[region_risk_age_group]:\n",
    "        indexes_list_of_lists.append(ind.region_risk_age_dict[val])\n",
    "    # Merging the list of lists to one list:\n",
    "    region_risk_age_indexes_list = [item for sublist in indexes_list_of_lists for item in sublist]\n",
    "    return sorted(region_risk_age_indexes_list)\n",
    "\n",
    "# Getting the current lambda_t for the current combination of (region, 4-age_group):\n",
    "def get_current_lambda_t(curr_res_mdl_1_ml: dict, target_region_risk_4age_group: tuple):\n",
    "    # Getting the lambda of the last day of the current model, and the region,4-age_group mapping:\n",
    "    lambda_last_day = np.reshape(curr_res_mdl_1_ml['L_2'][-1, :], newshape=(540))\n",
    "    four_to_nine_age_map = region_age_groups_mapping('4-to-9')\n",
    "    # Initializing the final proportion for the current compartment that we want to calculate:\n",
    "    final_prop_for_comp = 0\n",
    "    # Iterating on each correspondent combination of (region, 9-age_group) to aggregate on:\n",
    "    for val in four_to_nine_age_map[target_region_risk_4age_group]:\n",
    "        # Getting the index of the current (region, risk, 9-age_group)\n",
    "        correspondent_index = ind.region_age_dict[val]\n",
    "        # Adding the value of current (region, risk, 9-age_group)\n",
    "        final_prop_for_comp += lambda_last_day[correspondent_index].sum()\n",
    "\n",
    "    return final_prop_for_comp\n",
    "\n",
    "def calc_comp_prop_for_region_risk_age(comp: str, curr_res_mdl_1_ml: dict, target_region_risk_4age_group: tuple):\n",
    "    \"\"\"This function gets the target compartment, the current predictions of the current model, and the wanted combination of (region, risk, 4-age_group),\n",
    "    and returns the compartment aggregated by the wanted combination of (region, risk, 4-age_group) - (aggregated from (region, risk, 9-age_group))\"\"\"\n",
    "    # Getting the last day of the compartment, and the needed age-groups mapping:\n",
    "    comp_last_day = np.reshape(curr_res_mdl_1_ml[comp][-1, :], newshape=(540))\n",
    "    four_to_nine_age_map = region_risk_age_groups_mapping('4-to-9')\n",
    "    # Initializing the final proportion for the current compartment that we want to calculate:\n",
    "    final_prop_for_comp = 0\n",
    "    # Iterating on each correspondent combination of (region, risk, 9-age_group) to aggregate on:\n",
    "    for val in four_to_nine_age_map[target_region_risk_4age_group]:\n",
    "        # Getting the index of the current (region, risk, 9-age_group)\n",
    "        correspondent_index = ind.region_risk_age_dict[val]\n",
    "        # Adding the value of current (region, risk, 9-age_group)\n",
    "        final_prop_for_comp += float(comp_last_day[correspondent_index][0])\n",
    "\n",
    "    return final_prop_for_comp\n",
    "\n",
    "def calc_rho_or_f_prop_for_region_risk_age(rho_or_f_j: np.array, target_region_risk_4age_group: tuple):\n",
    "    \"\"\"This function gets the model_1_ml.rho and the wanted combination of (region, risk, 4-age_group),\n",
    "    and returns rho aggregated by the wanted combination of (region, risk, 4-age_group) - (aggregated from (region, risk, 9-age_group))\"\"\"\n",
    "    four_to_nine_age_map = region_risk_age_groups_mapping('4-to-9')\n",
    "    ## Calculating the final proportion of rho or f_j as a weighted sum using the distribution of S(0) (population_size):\n",
    "    # Initializing the proportions for the weighted sum:\n",
    "    S0_list = []\n",
    "    rho_or_f_j_list = []\n",
    "    # Iterating on each correspondent combination of (region, risk, 9-age_group) and append to the relevant list:\n",
    "    for val in four_to_nine_age_map[target_region_risk_4age_group]:\n",
    "        # Getting the index of the current (region, risk, 9-age_group)\n",
    "        correspondent_index = ind.region_risk_age_dict[val]\n",
    "        # Adding the value of current (region, risk, 9-age_group)\n",
    "        S0_list.append(population_size[correspondent_index][0])\n",
    "        rho_or_f_j_list.append(rho_or_f_j[correspondent_index][0])\n",
    "\n",
    "    ## Calculating the weighted sum:\n",
    "    # Init the lists to calc the expression\n",
    "    numerator = []\n",
    "    denominator = []\n",
    "    for i in range(len(S0_list)):\n",
    "        numerator.append(S0_list[i]*rho_or_f_j_list[i])\n",
    "        denominator.append(S0_list[i])\n",
    "    # Returning the final and weighted probability value:\n",
    "    final_weighted_sum_proba = np.sum(numerator) / np.sum(denominator)\n",
    "    return final_weighted_sum_proba\n",
    "\n",
    "def update_compartment(curr_res_mdl_1_ml: dict, compartment: str, updated_array: np.array):\n",
    "    \"\"\"This function gets the current models' predictions, the compartment to update and the updated array, and updates the model object with the updated array\"\"\"\n",
    "    # Initiate settings:\n",
    "    curr_res_mdl_1_ml[compartment][-1] = updated_array\n",
    "    comp_as_list = []\n",
    "    # Changing the updated arrays to be lists of arrays (to allow the update of the model object):\n",
    "    for element in res_mdl_1_ml[compartment]:\n",
    "        comp_as_list.append(element)\n",
    "\n",
    "    # Performing the proper model update\n",
    "    model_1_ml.update({\n",
    "        compartment : comp_as_list\n",
    "    })\n",
    "\n",
    "# Defining the model - initializing it for t=0:\n",
    "def defining_model(scen):\n",
    "    model_1_ml_ = mdl.Model_behave(\n",
    "    ind=ind,\n",
    "    beta_j=cal_parameters[scen]['beta_j'],\n",
    "    beta_activity=cal_parameters[scen]['beta_activity'],\n",
    "    beta_school=cal_parameters[scen]['beta school'],\n",
    "    scen=scen\n",
    "    )\n",
    "    # Predicting without an assignment (there's no need for that)\n",
    "    model_1_ml_.predict(\n",
    "        days_in_season= 529,    # Num of days between 15/05/20 - 25/10/21\n",
    "        shifting_12_days= True\n",
    "    )\n",
    "    # Updating the vectors to be able to run the model furthermore:\n",
    "    model_1_ml_.update({\n",
    "        'alpha_variant_vec':  neutralized_alpha_variant_vec,\n",
    "        'delta_variant_vec': neutralized_delta_variant_vec,\n",
    "        'isolation_morbidity_ratio_vector': neutralized_isolation_morbidity_ratio_vector,\n",
    "        'is_lockdown': neutralized_lockdown_vec,\n",
    "        'is_school': neutralized_school_vec,\n",
    "        'v2_to_v3_transition_t' : neutralized_transition_vector,\n",
    "        's_2_to_v3_transition_t' : neutralized_transition_vector\n",
    "    })\n",
    "    return model_1_ml_\n",
    "\n",
    "# Update model for current variables of uncertainty:\n",
    "def update_models_object(mdl_1_ml: mdl.Model_behave, realization: tuple):\n",
    "    new_rho = mdl_1_ml.rho * realization[2]\n",
    "    mdl_1_ml.update({\n",
    "        'booster_efficiency': realization[0],\n",
    "        'rho': new_rho\n",
    "    })"
   ]
  },
  {
   "cell_type": "markdown",
   "metadata": {
    "pycharm": {
     "name": "#%% md\n"
    }
   },
   "source": [
    "#### Getting the vaccinations priority queue:"
   ]
  },
  {
   "cell_type": "code",
   "execution_count": 5,
   "metadata": {
    "pycharm": {
     "name": "#%%\n"
    }
   },
   "outputs": [],
   "source": [
    "def get_vaccination_pq(curr_res_mdl_1_ml: dict):\n",
    "    \"\"\"This function gets the current model and returns the final priority queue for all combinations of (county, risk, 4-age_group)\"\"\"\n",
    "    # Initialize settings: final priority queue to return (as a dictionary, not sorted), the 4-9 age-groups mapper, and the reported/unreported ratio:\n",
    "    vaccination_que = {}\n",
    "    reported_unreported = get_reported_unreported_ratio('Scenario2')\n",
    "    comp_list = ['S_2', 'V_2', 'R_1', 'R_2', 'L_2']\n",
    "    mapping_4_to_9 = region_risk_age_groups_mapping('4-to-9')\n",
    "\n",
    "    for key, val in mapping_4_to_9.items():\n",
    "        # Getting the proportion value for each compartment[region,risk,4-age_group], save it as a list such that the order is exactly - [S_2, V_2, R_1, R_2, L_2]\n",
    "        current_comp_prop_list = []\n",
    "        # For each compartment - calculate its value of (region, risk, 4-age_group):\n",
    "        for comp in comp_list:\n",
    "            # If we assess the proportion of the force of infection, the calculation is different (lambda_t depends only on (region,age))\n",
    "            if comp != 'L_2':\n",
    "                current_comp_prop_list.append(calc_comp_prop_for_region_risk_age(comp, curr_res_mdl_1_ml, key))\n",
    "            else:\n",
    "                current_comp_prop_list.append(get_current_lambda_t( curr_res_mdl_1_ml, (key[0], key[2]) ))\n",
    "        # getting the proportion value for model_1_ml.f[model_1_ml.scen]:\n",
    "        f_j = calc_rho_or_f_prop_for_region_risk_age(model_1_ml.f[model_1_ml.scen] , key)\n",
    "        # Calculating the hospitalization probability measurement:\n",
    "        comps = current_comp_prop_list      # To shorten the code\n",
    "        V_2_eff = 1-0.94        # Effectiveness of second dose to prevent infection\n",
    "        scoring_index = ( (comps[0] + (comps[2]+comps[3])*reported_unreported + (comps[1]*(V_2_eff))) * comps[4] * ((1-f_j)*model_1_ml.delta) ) \\\n",
    "                        / (comps[0] + comps[1] + (comps[2]+comps[3])*reported_unreported)\n",
    "        # Assigning the scoring measurement to the correspondent combination of (region,risk,4-age_group)\n",
    "        vaccination_que[key] = scoring_index\n",
    "    # Sorting the dict to get a \"priority queue\" - receiving a list of tuples:\n",
    "    vaccination_que = sorted(vaccination_que.items(), key=lambda x: x[1], reverse= True)\n",
    "\n",
    "    return vaccination_que"
   ]
  },
  {
   "cell_type": "markdown",
   "metadata": {
    "pycharm": {
     "name": "#%% md\n"
    }
   },
   "source": [
    "#### calculating the transferring proportion:"
   ]
  },
  {
   "cell_type": "code",
   "execution_count": 6,
   "metadata": {
    "pycharm": {
     "name": "#%%\n"
    }
   },
   "outputs": [],
   "source": [
    "def calc_trans_prop(vaccination_pq_: list, curr_res_mdl_1_ml: dict, curr_inv_: float):\n",
    "    # Initializing the accumulated amount used and the priority queue:\n",
    "    curr_inventory_used = 0\n",
    "    vaccination_pq_copy = vaccination_pq_.copy()\n",
    "    # Saving the combinations that we will vaccinate:\n",
    "    vaccinated_que_ = []\n",
    "    # Iterating until we cross the prior inventory level:\n",
    "    while (curr_inventory_used <= curr_inv_):\n",
    "        # Getting the current combination of (age_group, risk) from the pq:\n",
    "        current_county_risk_age = vaccination_pq_copy.pop(0)[0]\n",
    "        # Getting the correspondent reported/unreported ratio for the Scenario:\n",
    "        #reported_unreported = get_reported_unreported_ratio('Scenario2')\n",
    "        # Getting R2_(j,r), R1_(j,r), V2_(j,r), S2_(j,r) proportions:\n",
    "        S_2_risk_age, V_2_risk_age = calc_comp_prop_for_region_risk_age('S_2', curr_res_mdl_1_ml, current_county_risk_age), \\\n",
    "                                     calc_comp_prop_for_region_risk_age('V_2', curr_res_mdl_1_ml, current_county_risk_age)\n",
    "        # Calculating the formula for num of needed vaccines:\n",
    "        count_vaccines_in_use = (S_2_risk_age + V_2_risk_age) * pop_israel\n",
    "        # Updating the accumulated used vaccines:\n",
    "        curr_inventory_used += count_vaccines_in_use\n",
    "        # Updating the vaccinated_que:\n",
    "        vaccinated_que_.append(current_county_risk_age)\n",
    "\n",
    "    final_trans_prop = curr_inv_ / curr_inventory_used\n",
    "    return final_trans_prop, vaccinated_que_"
   ]
  },
  {
   "cell_type": "markdown",
   "metadata": {
    "pycharm": {
     "name": "#%% md\n"
    }
   },
   "source": [
    "#### Vaccinating in booster dose:"
   ]
  },
  {
   "cell_type": "code",
   "execution_count": 7,
   "metadata": {
    "pycharm": {
     "name": "#%%\n"
    }
   },
   "outputs": [],
   "source": [
    "### Vaccinating in booster (moving from S_2 and V_2 to V_3, including the model update):\n",
    "def vaccinate(trans_prop_: float, curr_res_mdl_1_ml: dict, vaccination_que: list):\n",
    "    ## initialize settings:\n",
    "    vaccination_que_copy = vaccination_que.copy()\n",
    "    trans_prop_copy = trans_prop_\n",
    "    reported_unreported = get_reported_unreported_ratio('Scenario2')\n",
    "    # Getting the last day of the compartments and V_3, saving it to a dictionary:\n",
    "    last_day_dict = {'S_2_last_day': np.reshape(curr_res_mdl_1_ml['S_2'][-1, :], newshape=(540) ),\n",
    "                     'V_2_last_day': np.reshape(curr_res_mdl_1_ml['V_2'][-1, :], newshape=(540) ),\n",
    "                     'V_3_last_day': np.reshape(curr_res_mdl_1_ml['V_3'][-1, :], newshape=(540) ),\n",
    "                    }\n",
    "    # Iterating over the combinations of (risk, age_group) that we need to vaccinate, and moving the population, and updating the model:\n",
    "    for curr_risk_age in vaccination_que_copy:\n",
    "        # Getting the relevant indexes to operate in the correspondent locations of the compartment:\n",
    "        curr_risk_age_indexes = get_indexes_region_risk_age_combination(curr_risk_age)\n",
    "\n",
    "        ## Vaccinating from S_2 to V_3\n",
    "        S_2_last_day_updated, V_3_last_day_updated = vaccinating_from_V_2_S_2(last_day_dict['V_3_last_day'], last_day_dict['S_2_last_day'], trans_prop_copy, curr_risk_age_indexes)\n",
    "        # updating the results:\n",
    "        last_day_dict['V_3_last_day'], last_day_dict['S_2_last_day'] = V_3_last_day_updated, S_2_last_day_updated\n",
    "\n",
    "        ## Vaccinating from V_2 to V_3\n",
    "        V_2_last_day_updated, V_3_last_day_updated = vaccinating_from_V_2_S_2(last_day_dict['V_3_last_day'], last_day_dict['V_2_last_day'], trans_prop_copy, curr_risk_age_indexes)\n",
    "        # updating the results:\n",
    "        last_day_dict['V_3_last_day'], last_day_dict['V_2_last_day'] = V_3_last_day_updated, V_2_last_day_updated\n",
    "\n",
    "    update_compartment(curr_res_mdl_1_ml, 'V_2', last_day_dict['V_2_last_day'])\n",
    "    update_compartment(curr_res_mdl_1_ml, 'S_2', last_day_dict['S_2_last_day'])\n",
    "    update_compartment(curr_res_mdl_1_ml, 'V_3', last_day_dict['V_3_last_day'])"
   ]
  },
  {
   "cell_type": "markdown",
   "metadata": {
    "pycharm": {
     "name": "#%% md\n"
    }
   },
   "source": [
    "### Main - 1000 iterations of the Sim:"
   ]
  },
  {
   "cell_type": "code",
   "execution_count": 8,
   "metadata": {
    "pycharm": {
     "name": "#%%\n"
    }
   },
   "outputs": [
    {
     "name": "stderr",
     "output_type": "stream",
     "text": [
      "tqdm() Progress Bar: 100%|██████████| 1000/1000 [11:40:50<00:00, 42.05s/it] \n"
     ]
    }
   ],
   "source": [
    "# A list to hold 1000 realizations of cases per year:\n",
    "cases_per_year_list = []\n",
    "\n",
    "# Big loop run:\n",
    "for tup in tqdm.tqdm(list_of_tuples, desc= 'tqdm() Progress Bar'):\n",
    "    # Initializing the model's object (and its predictions) to t=0:\n",
    "    model_1_ml = defining_model('Scenario2')\n",
    "    # Settings:\n",
    "    update_models_object(model_1_ml, tup)       # Updating the v3_efficiency and the proba for hosp\n",
    "    inv_level = tup[1] * pop_israel             # Updating the inventory level\n",
    "    years_for_model_run = tup[3]                # Updating the years for the model to run for\n",
    "\n",
    "    # Running the model for X years, in 6 months resolution\n",
    "    for i in range(years_for_model_run*2):\n",
    "        # Running until the vaccination month:\n",
    "        for j in range(6):\n",
    "            res_mdl_1_ml = model_1_ml.predict(\n",
    "                            days_in_season= 30,\n",
    "                            continuous_predict= True\n",
    "                            )\n",
    "            # Getting the vaccination priority_que:\n",
    "            vaccination_pq = get_vaccination_pq(res_mdl_1_ml)\n",
    "            # Getting the proportion of transition, and the combinations that we vaccinate:\n",
    "            trans_prop, vaccinated_que = calc_trans_prop(vaccination_pq, res_mdl_1_ml, inv_level*1/6)\n",
    "            # Vaccinating (including the model update):\n",
    "            vaccinate(trans_prop, res_mdl_1_ml, vaccinated_que)\n",
    "\n",
    "    ## Calculating the cases per year index for every measurement:\n",
    "    tot_new_Is = np.add(res_mdl_1_ml['new_Is_1'].sum(axis=1) * pop_israel, res_mdl_1_ml['new_Is_2'].sum(axis=1) * pop_israel)\n",
    "    tot_new_H = np.add(res_mdl_1_ml['new_H_1'].sum(axis=1) * pop_israel, res_mdl_1_ml['new_H_2'].sum(axis=1) * pop_israel)\n",
    "    # Transferring to cumulative sum:\n",
    "    cumsum_tot_new_Is, cumsum_tot_new_H = np.cumsum(tot_new_Is), np.cumsum(tot_new_H)\n",
    "    # Performing the calculation itself:\n",
    "    cases_per_year_new_Is, cases_per_year_new_H = (cumsum_tot_new_Is[-1] - cumsum_tot_new_Is[528]) / years_for_model_run, (cumsum_tot_new_H[-1] - cumsum_tot_new_H[528]) / years_for_model_run\n",
    "    cases_per_year_list.append((cases_per_year_new_Is, cases_per_year_new_H))"
   ]
  },
  {
   "cell_type": "code",
   "execution_count": 9,
   "metadata": {
    "pycharm": {
     "name": "#%%\n"
    }
   },
   "outputs": [
    {
     "data": {
      "text/plain": "[(426220.4378431133, 3247.1051313372386),\n (1273873.9731868717, 10167.431654847764),\n (1059499.489956741, 7467.867970967743),\n (1020744.9271792863, 5681.5529158343115),\n (1319805.1161911504, 10870.6513885515),\n (1034286.2755651133, 7777.666080832103),\n (1384318.5238863223, 10147.717329911764),\n (1202571.361234377, 8169.437721070225),\n (304390.4138246746, 3201.4862366962425),\n (1373204.2226468776, 8987.454323473026),\n (663435.9180670127, 5525.76680624953),\n (788386.639933053, 7810.347677293114),\n (1154614.8094409676, 7443.23230234926),\n (1085629.2529388969, 7295.876194138204),\n (1318074.2131583912, 9338.346128299705),\n (958017.4678696529, 5904.031049870297),\n (750231.9480799746, 6596.954020588329),\n (1115917.477648007, 5953.53849472667),\n (714896.2711149266, 5228.92822512543),\n (961555.5709124021, 5535.887884225729),\n (1188210.6884819556, 10526.253837980019),\n (1269399.6095654848, 6632.899890057469),\n (1199294.2546687732, 7379.004762680301),\n (1302414.6381904073, 9233.717413970273),\n (1374580.8454867888, 8533.622673946755),\n (699900.477646522, 4201.116816146729),\n (509239.01336412935, 3796.773399435424),\n (773361.1110044221, 5959.426939817122),\n (920752.7484135997, 7211.685115632026),\n (1103028.5334376718, 7152.193905279049),\n (1033607.083893575, 7812.509854651656),\n (914379.2322610692, 6817.753660019626),\n (1296155.808635834, 7809.628317745226),\n (672102.4244627971, 4772.988066313327),\n (1205775.3328939322, 9206.207929078339),\n (1032340.6637680139, 7541.90255866639),\n (453576.012044872, 4352.535844414893),\n (1213750.1351778996, 9810.839799991287),\n (1016341.4457689928, 9997.179689105149),\n (959558.2011350965, 7167.347983916686),\n (808892.7742287539, 6655.583681508305),\n (1049630.3139006088, 6649.096743194724),\n (1008703.4103864438, 5104.642492436065),\n (1088390.8646600994, 9684.900945436168),\n (1280280.086761683, 7670.023403555928),\n (1276090.6709940168, 11028.708456123883),\n (718730.1981536305, 5285.500113388963),\n (1001900.7201031832, 7525.3850851378065),\n (1136465.7919751646, 9162.171452896824),\n (988599.814560966, 5982.193697007216),\n (771716.0155383219, 4504.07060232883),\n (1333574.2906527033, 9524.161343812533),\n (973280.8508262731, 7498.84338031361),\n (741147.8007840057, 4778.085164303547),\n (411335.7616471424, 3138.611594080098),\n (822981.9111589711, 6972.348368480812),\n (1373171.861608622, 10188.606406656509),\n (1241532.0228089385, 7597.359039834256),\n (828208.0144610867, 8387.97129782939),\n (1064787.9775974795, 9467.859115074649),\n (1074240.1581479514, 5838.430689842042),\n (1011206.249950364, 7184.703782625352),\n (667151.7724598978, 4113.238302017871),\n (1271056.781264269, 7898.536134883441),\n (1407700.7168551066, 7612.845726334929),\n (1271806.780411683, 11263.067554911058),\n (1305237.4242469561, 7262.71297429473),\n (1358555.7609152063, 8637.731875847749),\n (1438937.1102001318, 11095.771864201435),\n (665515.396377473, 4564.949262167827),\n (795246.266675964, 5478.450900979399),\n (1096945.5298173002, 6553.419877002412),\n (1179229.5218907988, 10586.338283750263),\n (1405366.1606051582, 8083.486590446351),\n (959861.0388479984, 6772.061512122008),\n (1242506.9806739057, 7105.713278870197),\n (1116907.2688214036, 7012.451904858659),\n (1262645.8278989429, 6675.1819482570245),\n (603916.7336920246, 3996.7159329913384),\n (1292692.5474178458, 7577.632972674222),\n (1321543.891490483, 7327.548831362883),\n (311603.20552631025, 2192.975010424205),\n (740572.8308928115, 6631.161070265235),\n (1310473.674597589, 11997.660084211779),\n (1354796.7720207835, 10034.61523393571),\n (600446.7211703418, 4259.245372323227),\n (1074549.8854898245, 7511.578605345203),\n (827708.1988922304, 4793.505414875151),\n (1240176.418534914, 6416.230160452688),\n (761324.4138059719, 5708.974163089684),\n (873955.9393283143, 5873.03605352543),\n (1147420.9309817124, 9239.387576058742),\n (577603.5398465011, 5567.792677173689),\n (819092.6009199936, 4789.264998436239),\n (1242689.4197040978, 6607.266344775287),\n (783681.8007410768, 5208.989240941879),\n (1233599.2317016912, 7698.971671360467),\n (1143101.4094114685, 8189.982528526511),\n (1186878.2119453421, 6913.603437569166),\n (840892.6951329546, 5940.77309023308),\n (991047.342214586, 7413.021008917589),\n (1074549.8854898245, 8861.97475911513),\n (1250944.8608460044, 6740.072378993869),\n (1289703.868851618, 8706.320922852728),\n (1082883.391540336, 6973.169299764561),\n (836674.2975622624, 6666.720077830533),\n (1279067.2639463416, 7562.662431539335),\n (1391529.7111534362, 13042.631759501832),\n (1022268.0349816843, 6333.970424894463),\n (1055680.9094708406, 10201.818407090823),\n (1263024.03933331, 8631.954779951104),\n (1257210.0983168094, 7754.921960857038),\n (873681.5396158788, 6529.3403680515585),\n (900464.9012295549, 6243.409697354269),\n (676212.0929385412, 5256.4656580809415),\n (1024635.6424945814, 7378.47021832466),\n (1231034.4877569126, 7066.878689449055),\n (1177523.04155937, 8879.131886942347),\n (854745.960201178, 5957.249758698078),\n (1230494.418501353, 8718.00153248393),\n (645183.9904451916, 4636.835022568156),\n (773361.1110044221, 6257.398286807975),\n (846601.0443330957, 5000.264537865356),\n (843767.5934761568, 6010.503067960681),\n (790299.3316503508, 4688.599539560194),\n (627081.1928843756, 4947.690092614245),\n (1064748.1364374943, 8324.76443591996),\n (959558.2011350965, 5476.935723558984),\n (764178.8718650085, 6665.681885286327),\n (1182709.1321109275, 11359.258856206658),\n (779789.881883496, 5735.69004299349),\n (792568.953173181, 6588.038149093937),\n (804397.5112347888, 6501.753210020605),\n (691611.6335451789, 4313.481788099409),\n (832228.2294997827, 5653.760176492743),\n (895573.2845228182, 5816.996267291662),\n (751349.7967885359, 5398.097045113857),\n (934322.6503801174, 6055.811808489303),\n (566326.3462687549, 3394.7916497174792),\n (1028833.6810976807, 8306.256754243046),\n (872159.4453700524, 6213.473768835931),\n (671221.7357841999, 3979.6225044407993),\n (1165479.9102335419, 8230.526357805908),\n (899765.4558729026, 8090.486740607048),\n (634849.2569160147, 3953.668613024208),\n (437227.8206157527, 3364.282247996399),\n (889872.0016041589, 8318.666308486638),\n (1214464.9984797286, 9453.477154394148),\n (1317626.8697882616, 7584.669816339956),\n (1359149.1824397943, 9496.706507507046),\n (1100193.7345652347, 6846.265126715522),\n (1293739.4525379103, 8701.648156081144),\n (1315955.3587852642, 7558.3597043992795),\n (942584.7608664755, 5536.286051895446),\n (1021916.7583218177, 7571.828213411309),\n (1441297.369792536, 13606.243874602356),\n (1328241.9282079204, 9865.088668198641),\n (825465.6463829149, 7806.958244685709),\n (475735.4670164185, 3862.87860120225),\n (1323905.0382876093, 10431.48373226963),\n (313387.8264116533, 2270.89135498226),\n (1091967.4562206878, 7975.4332446901535),\n (611963.3024005537, 3969.9996278387384),\n (1434659.1936671522, 12627.49888533324),\n (1220933.1349523212, 9949.092242917339),\n (592182.5441944846, 4158.471603767877),\n (1002507.5937406756, 9199.758243353592),\n (1380168.4188649044, 8728.312890142126),\n (981329.0281600385, 6691.800267696246),\n (764904.0115373544, 6031.462587997537),\n (1395101.6332066376, 11225.461210353164),\n (885426.7105937852, 7873.826338978064),\n (1159799.4959606868, 8604.747557834453),\n (1350524.108405431, 9711.188972608914),\n (385865.7712329404, 2670.949481411172),\n (816375.6760009391, 4971.538085985455),\n (1150378.2898857049, 9281.77519517093),\n (532723.5317147116, 4379.038382918265),\n (772627.6158280764, 5368.226970930237),\n (796605.4747093657, 4591.130397168222),\n (935580.2657881873, 7154.110556094444),\n (1026423.3834695489, 5537.571471779783),\n (683460.0599555767, 5277.44867509478),\n (602422.634468191, 3512.224227935921),\n (1162387.9994086814, 7221.554952000128),\n (881784.1032046867, 6493.928643748574),\n (1199294.2546687732, 10190.0541960823),\n (971485.9969236448, 6672.531428311369),\n (1299521.6349847717, 9026.47721141348),\n (632812.5704358483, 4601.024738556962),\n (1032340.6637680139, 6323.009215851613),\n (1065340.7637635125, 5961.029677300492),\n (863116.119544633, 5279.2124386193),\n (855084.1808470113, 5827.427820459806),\n (821411.6914271637, 6811.971854711696),\n (1361430.5149836356, 9494.384044017344),\n (857387.4225295078, 5152.358780220568),\n (844369.5036463644, 5086.171743383451),\n (738566.5002028473, 5223.549944994569),\n (1062978.913670704, 7472.087851389079),\n (1108269.7533229075, 6465.316104708693),\n (976900.1110322387, 6530.270581331598),\n (1133813.6422440226, 6772.219353429068),\n (1109386.9738825976, 7380.331046577482),\n (1044772.1762747576, 6141.172226977985),\n (1315955.3587852642, 10109.306104634077),\n (1280666.4001990296, 7388.840591681277),\n (901648.7877420799, 4913.116201570318),\n (924869.6749530629, 7651.56254692767),\n (861661.9057879152, 5084.570667160412),\n (1066619.9573114193, 6389.042892415856),\n (461779.47789864335, 3985.28201635828),\n (1327303.156094012, 8385.041194499781),\n (882865.4480642513, 4740.747413877033),\n (1097485.4303003761, 8634.171452677598),\n (862998.7614428314, 6474.4955328098995),\n (1274583.0583550048, 9788.750403426353),\n (1222796.2564845548, 10874.558242812831),\n (1128497.6633772415, 8438.661315930447),\n (1038655.0196572582, 6158.619339219402),\n (453576.012044872, 3627.113203679104),\n (971485.9969236448, 6547.811214698095),\n (601199.6614193806, 4274.291865976929),\n (1207787.556854585, 8352.513315599343),\n (1303733.0305507344, 9290.955670042897),\n (625725.7587370544, 4906.62886491472),\n (465417.5432168979, 3822.1266418290315),\n (1300214.1734620999, 7460.5807960693555),\n (898375.3607408836, 8834.040322641662),\n (1339380.3071306823, 10470.233966490998),\n (1141666.684439616, 6299.289055121106),\n (979542.3547101058, 5193.822453287368),\n (1098414.3809473189, 6157.507909933466),\n (403081.6481962211, 3070.037131667552),\n (914379.2322610692, 6547.743614078222),\n (879717.2420425864, 6211.204338194136),\n (1265231.2339213504, 7628.4369348533655),\n (885427.7250356877, 6868.221231443906),\n (794374.9596479756, 6920.1480795724),\n (613374.1901031103, 4706.44308703807),\n (1339959.6485307903, 9119.639800565516),\n (651401.7151675484, 3842.543879546804),\n (1212887.2200395071, 8281.151133166373),\n (341825.3034192542, 2736.6381539405465),\n (1314210.119739633, 10623.472570980282),\n (616249.6956390814, 4876.716221509695),\n (1042594.9785818807, 8216.84599040085),\n (1115004.0878372581, 6050.895888296377),\n (1321910.2661773132, 10087.370140959089),\n (787548.7717385708, 4657.681780487156),\n (1292209.86378271, 9358.2170538738),\n (1043812.7991273925, 7235.053805902132),\n (1128497.6633772415, 5995.890935003198),\n (1149139.2997640606, 7332.8166635550615),\n (946460.6500071784, 6427.7523140055155),\n (821101.6503231737, 5578.205305254574),\n (876177.9235816109, 5630.437559374616),\n (781961.366652288, 6296.327247422815),\n (360247.4138474557, 2996.4975430906866),\n (744246.0446373615, 5152.186934263808),\n (628460.7316124263, 4085.557304749076),\n (1320886.47364306, 9368.942799557317),\n (1114634.5072896956, 6493.873997942002),\n (1094810.0263353426, 9263.863098677284),\n (741426.5961728147, 4316.053532908958),\n (1237754.233454414, 9489.828285118407),\n (722783.609739366, 5655.736026750817),\n (926518.4408774461, 7857.1670638329415),\n (1312670.52463496, 8514.24450586376),\n (1203894.1572018259, 9772.365562073255),\n (857744.1283445854, 5785.842435045923),\n (1318478.1400321298, 8505.73714867727),\n (1407092.3360999501, 11388.329572120387),\n (1165479.9102335419, 8387.298288430755),\n (355001.00327631645, 3155.443785209266),\n (1209312.661016518, 8541.053996139879),\n (839309.284626854, 6508.918319681372),\n (1156007.7075723768, 8560.994288797463),\n (1298322.4248493316, 7559.034800027485),\n (524122.63223954407, 4118.235594658663),\n (943270.4717758701, 6439.417037723007),\n (1167449.7200407241, 7278.490606503554),\n (1322460.9725924653, 9667.9989882911),\n (438534.59867131966, 4778.458711259383),\n (1092216.000700577, 8929.233659556832),\n (1052513.1079219896, 8060.461139646784),\n (1133589.24774567, 9919.716750471662),\n (892196.2064610098, 6273.6440606768565),\n (1309152.0239159234, 7372.0944097758775),\n (780927.9684207926, 6766.561061599301),\n (800753.673160667, 5726.505323591475),\n (1302982.888981811, 7538.464827354981),\n (872225.4993748708, 5927.47578657167),\n (1079388.5104190933, 5683.257474668238),\n (861678.756341907, 6409.480626278025),\n (1018942.7024278792, 8403.528975511135),\n (1147420.9309817124, 10285.355980895556),\n (1326928.590180434, 8459.334642174133),\n (976338.9149546103, 6896.591050067654),\n (1244974.2725075628, 7213.297700268539),\n (840860.5492758946, 7985.682388610813),\n (780761.4813484603, 6726.516208765126),\n (636980.3871693031, 6365.137594910249),\n (1055023.506215911, 6853.6471704094365),\n (967135.6566129768, 7253.291127364254),\n (1269609.0167497068, 10503.84608998446),\n (1060500.478221834, 7728.81036480021),\n (321532.5176677962, 2600.3023660085455),\n (1374577.842336104, 12794.215775689985),\n (970310.913034311, 5415.549145473898),\n (849940.794546063, 5332.736034689079),\n (1001925.515473702, 9365.655788143156),\n (1249146.6240673687, 7425.252288543907),\n (1036445.3647817863, 7991.877315328269),\n (352063.2591313762, 3514.9106383823423),\n (1293329.8744388164, 7781.943389294559),\n (1276768.7592958892, 9886.383757419606),\n (618933.0101658023, 5308.003508198089),\n (889872.0016041589, 7394.37005198812),\n (872576.8380738843, 7376.935813497848),\n (1260806.6254120409, 7816.9371706845795),\n (1295046.131637631, 11151.026360364682),\n (818823.2576750574, 5690.715575353384),\n (1269010.0053880091, 9284.876453023395),\n (926949.2521949295, 5522.39525600956),\n (763579.4996723408, 6710.843441751596),\n (790407.0365522967, 4397.628800620301),\n (1133279.220129426, 7215.181651813153),\n (771931.5827584343, 4944.372939445802),\n (697262.4750881622, 5749.053492765132),\n (880672.8422702006, 5113.46652428548),\n (1214464.9984797286, 9978.670329638251),\n (1379903.3475514816, 7693.894637526846),\n (1316021.2404636624, 8011.556096850681),\n (1402915.2791490727, 12268.051753346046),\n (901442.5571276721, 5201.932802801728),\n (1295597.8888860508, 8494.789922175138),\n (1322327.952878395, 11624.168123468453),\n (809712.689315135, 6111.084371863728),\n (1236213.8469406827, 6546.882938231594),\n (1263523.3650971397, 10951.620160870896),\n (491391.1025145816, 4686.92674441981),\n (1034146.9348238608, 8888.29114784221),\n (483444.1604281418, 3028.005785114473),\n (1187701.0826967305, 7505.126163679023),\n (760088.0510460181, 5150.866826551594),\n (1005686.9916134665, 5763.01544774989),\n (630673.3716039428, 5528.289163045775),\n (1022376.0094800424, 6200.1177275380505),\n (681337.703382144, 4577.376395169598),\n (906409.3493405348, 5043.098123022023),\n (790299.3316503508, 6340.26528645072),\n (1128654.9605943924, 8360.679498425841),\n (1195755.5018029606, 6720.5919844995815),\n (813559.9247636739, 5749.728803859951),\n (565536.2222780115, 3409.886049302406),\n (777724.8641376368, 5670.981403801705),\n (1284579.7966769931, 11912.353980443944),\n (904387.9731749413, 5762.190807794163),\n (1427545.7096697942, 9062.727783669072),\n (487717.6422415305, 4391.523355667281),\n (748656.4871557099, 7138.668134446369),\n (937825.3859674539, 8942.707272233129),\n (1300129.3445073739, 10165.472224484378),\n (751349.7967885359, 6622.4077151397105),\n (875796.3537767279, 5482.448884425021),\n (1057864.9616559802, 6672.492639541498),\n (1176168.3123736833, 8576.64045555789),\n (806654.0043715785, 4309.2858794630965),\n (1163339.7864936227, 7947.931416661959),\n (892196.2064610098, 6149.413485217939),\n (992464.8654982159, 8334.025365958594),\n (834382.1176961837, 4843.081443790394),\n (1025557.5235802926, 6990.907731111819),\n (969023.189872541, 6196.390086335349),\n (1345119.866716828, 8071.552623396878),\n (456463.40382931725, 3881.616683319814),\n (833491.0377526649, 4942.7785485109225),\n (1218034.1029384157, 10384.704545307928),\n (1118550.650058073, 7378.75105651388),\n (1328241.9282079204, 9172.801744114531),\n (681337.703382144, 4434.333382820541),\n (1140540.9040869442, 8015.744750556475),\n (455407.3908916922, 4928.841341926753),\n (956252.8788402805, 6299.576530910986),\n (1360632.5352660492, 8334.473161797463),\n (775291.1575944079, 6696.312133536145),\n (1226432.6529871493, 8389.429417167432),\n (855084.1808470113, 7284.284775574789),\n (1008850.062369762, 8678.646506009709),\n (886709.6875713725, 7559.420227364419),\n (996095.9366786799, 5334.920540226087),\n (966208.3504381193, 5927.938072585955),\n (1397912.3998154013, 8280.437508316278),\n (1304310.5765516767, 8419.629922889622),\n (1398894.495337755, 8766.240356591514),\n (742891.1106405896, 5647.34286768543),\n (968943.2284185439, 7636.396709193365),\n (974408.687012325, 8554.507627370824),\n (819720.453301622, 5657.598534094778),\n (1144924.4759569955, 8447.942015501609),\n (892196.2064610098, 5963.067622029471),\n (728338.5256358441, 6260.574880511035),\n (865962.4017752105, 7830.186865802774),\n (961464.4765547381, 7105.689027203772),\n (742899.5720205086, 6882.395119651073),\n (1418515.8042477933, 11960.783755448287),\n (711393.7218650159, 5772.226970561056),\n (1332932.6969039515, 12535.459590087134),\n (798097.0053594019, 7541.94325116368),\n (635563.4040983508, 4599.840340789003),\n (727223.9243040323, 5648.520481729653),\n (1420662.07981913, 11197.905471127908),\n (537899.1891733222, 4581.773172747688),\n (973761.623326383, 7353.057182526846),\n (676212.0929385412, 5527.417496126373),\n (1242611.0816419937, 7751.846156673411),\n (1242611.0816419937, 9585.616215241304),\n (1100442.664237139, 7352.137927684256),\n (491333.6358594966, 4439.550101515867),\n (1308784.1844846618, 9174.419549783688),\n (732772.1127652993, 4641.474045698902),\n (1351256.1203054483, 9135.426821963058),\n (1148042.6098830204, 7210.099833864046),\n (1272703.4285486527, 8118.6298875321945),\n (613727.9031235125, 6577.211473930181),\n (636439.3500424968, 5170.047030628859),\n (1156007.7075723768, 7469.887173558598),\n (1312483.4670099542, 7518.788074900577),\n (949912.7212502012, 7654.6106107460455),\n (530236.3579477392, 4551.651179275312),\n (941029.8152700322, 6079.406981042671),\n (1099799.9022845186, 8080.9588259138345),\n (834382.1176961837, 5713.747770763966),\n (790299.3316503508, 4422.201838448834),\n (869290.5812584019, 6879.616689877155),\n (844261.4707384076, 5211.201053561658),\n (1068182.8674080945, 9464.684039907073),\n (640066.2514294498, 4876.221716364463),\n (848936.3219363127, 5222.460676843088),\n (1232688.6141012567, 10194.750211058341),\n (868795.4184648215, 6770.766724722935),\n (1274261.2908080625, 10813.17614726934),\n (943251.3103941381, 8868.670025416019),\n (805761.946237801, 6273.785149834278),\n (919799.2112639949, 6867.296278450107),\n (1090312.4754165467, 7089.575192885009),\n (486029.32833825797, 3907.39171198352),\n (1045162.3971084896, 6886.653610625286),\n (828981.4278916752, 5499.451309767224),\n (1387058.8026497448, 10053.285011880942),\n (631815.1788634368, 4964.2712468106765),\n (1330460.002509024, 8707.151684172866),\n (1077263.1467351986, 7582.683288105551),\n (1236620.5586788624, 9022.950938447495),\n (1263404.9686120953, 11472.929974890052),\n (1069865.988138898, 7217.592952279022),\n (889534.2404077542, 7971.687837663385),\n (1002122.3579596663, 7655.399058639127),\n (1102436.1144315058, 6069.460553185677),\n (646112.914984595, 4528.587105370963),\n (653590.1201052188, 4676.442606272509),\n (1105731.8453237445, 7180.30072504296),\n (1398124.3239555494, 10364.785269981978),\n (1231875.5609247452, 9258.713889526663),\n (983926.0486802766, 7066.643923088489),\n (1063773.0454533922, 7424.411691107325),\n (1178252.0676452648, 8712.267518285247),\n (1289703.868851618, 10953.113419072759),\n (1396552.9530379442, 9295.28471405963),\n (808175.2071735343, 4617.106049478936),\n (1131775.0160741464, 6394.955175843524),\n (1010213.9627467296, 8500.473915059087),\n (1236793.2298162573, 9117.85068337604),\n (489285.4425184151, 4468.203140932423),\n (1142137.7177944088, 6699.966394803882),\n (807384.6185194002, 5714.059694095589),\n (1200262.161640433, 8313.608973806991),\n (1198284.0305149176, 6551.478149118539),\n (967135.6566129768, 6846.564522091473),\n (1298972.6813458053, 9446.069176983368),\n (1300093.9693140765, 8357.806455055306),\n (911599.1312366432, 6647.259841035481),\n (1240795.016989782, 9251.109840974026),\n (359047.8474700795, 3300.8324282872563),\n (1195927.4930491087, 6630.774956805273),\n (916338.0085446092, 6600.284738107492),\n (1189898.8990909867, 8761.01771383744),\n (1117012.9436685308, 7297.42913319098),\n (624867.810226082, 4733.232839747026),\n (1055156.0860006076, 7910.769086677734),\n (1230576.1800403274, 9023.666721864534),\n (1306940.6747934194, 11075.951523618056),\n (1332892.8490818474, 8155.590243104169),\n (828327.9485115812, 4944.61489937017),\n (791151.1687048469, 5612.091013617015),\n (993814.1436669423, 9053.266414524447),\n (1030237.7967768753, 7828.434842506949),\n (1419171.625054472, 8415.621763110983),\n (818689.4124980796, 6093.852951131806),\n (1391630.5054227016, 7523.007554978019),\n (1048643.8433637836, 6019.697657888194),\n (1287368.6624438022, 9043.896585946495),\n (818987.5200050981, 5127.02564844732),\n (1377792.2098701051, 11282.283381834239),\n (1269787.8902204265, 7616.787764769509),\n (850971.9125715372, 5357.961674357657),\n (910035.0020673182, 7376.262304119748),\n (616608.3222398345, 4088.458621733354),\n (973219.6498934819, 6060.6408363878145),\n (788386.639933053, 7741.835855562455),\n (1188605.555333218, 8660.390432864788),\n (1167650.0866553448, 7552.435617156201),\n (656980.5078884495, 6915.392364734592),\n (726865.9942498701, 5011.146449241544),\n (1037560.9413139451, 9229.597782888934),\n (1006123.1838592733, 8470.448611095966),\n (772938.9879184824, 5146.62490128334),\n (493391.2436098065, 4214.8057448707805),\n (1116157.7689680196, 6867.4360149598015),\n (917836.2076132416, 5580.848660722114),\n (1216850.4002985968, 9531.651914026032),\n (898440.2500552898, 8139.238412107133),\n (1245485.5040638947, 7145.621058300457),\n (848291.968705747, 6061.934526290692),\n (918854.3264275624, 7142.990581803915),\n (1051313.5352335393, 6432.954066959725),\n (1146716.119565127, 7780.527563759255),\n (338212.3050287739, 3184.812725022697),\n (1310037.889169765, 10209.818147314743),\n (1408965.379629847, 10239.15972235405),\n (1088346.2644542737, 7028.202409791994),\n (419834.67490793794, 3142.0687489268435),\n (1136465.7919751646, 10642.926435183204),\n (719720.1106666602, 5482.304097185491),\n (1194966.609000328, 10174.619005008677),\n (1093616.9860243562, 9342.224322216089),\n (746653.3115197696, 5113.382848133205),\n (1274636.2494362257, 10091.25857641932),\n (1261972.7533019977, 9369.562376012955),\n (1036031.8365816488, 6783.30697896189),\n (923059.5084425844, 6177.226900421924),\n (691611.6335451789, 6154.602063507653),\n (888812.2110748691, 7370.8743568611135),\n (1237466.7347083592, 8277.26426988296),\n (707225.1290437479, 5568.912826502784),\n (596809.6083726191, 4747.126844412299),\n (1186878.2119453421, 6292.15593756299),\n (406644.15037652076, 3704.705442622504),\n (1118550.650058073, 7550.349918293301),\n (968160.2336480096, 6508.227850539521),\n (599930.1011387866, 4649.436389842112),\n (1224802.1329311577, 9466.098155962562),\n (1175496.3804153055, 6793.168320660776),\n (1003164.2268246888, 6129.662715764603),\n (1227042.9901192128, 11106.053385091951),\n (1251755.0365338998, 7478.245603972785),\n (1138591.8723043273, 9731.83358923454),\n (1302632.682428591, 7076.69005953708),\n (1327315.605850978, 8970.032484521404),\n (996751.2622640363, 5671.783701477105),\n (964728.5074997497, 5669.688787206213),\n (1089351.9704643437, 8063.746377045379),\n (1115623.659460164, 6701.521258535222),\n (1092516.1963744615, 8327.657757411815),\n (830181.3850559412, 6147.731550497353),\n (741901.0339730727, 6232.5112277745675),\n (1257210.0983168094, 7754.921960857038),\n (896934.6334908339, 6649.110696047184),\n (1363053.55952069, 9593.73069674815),\n (1344150.490989251, 6877.73200829048),\n (523422.6818901083, 4486.930634182915),\n (790908.9409029338, 5312.929930298343),\n (1074742.5483585857, 7275.193875786205),\n (979108.0893888104, 7524.15741119687),\n (729074.522653622, 4957.948584901996),\n (868947.9951139009, 8546.828552851242),\n (1053795.3776140215, 7759.532872787422),\n (789320.1839448602, 5577.689191690841),\n (1429958.1524319379, 10795.754758042136),\n (1241417.5946056095, 9791.967932640633),\n (1327368.5208920545, 10185.362579521987),\n (1304310.5765516767, 8586.355267897314),\n (1259810.5057701457, 10465.056653886551),\n (1057877.9261019225, 5778.9207315726535),\n (830166.3021333173, 5571.24556488629),\n (654426.0244680265, 5312.180478435577),\n (1330846.387196823, 9798.666311719071),\n (772845.2346009031, 6231.99849252259),\n (990735.5782299448, 5166.929794628385),\n (1361416.0770743394, 12449.950211187099),\n (1322094.4764007318, 9668.561604583749),\n (635563.4040983508, 4024.860298190367),\n (920779.4518420945, 6497.788575506653),\n (914462.7293136063, 6344.957440123973),\n (800883.8228704336, 7629.2389764856),\n (1389295.5671993722, 10549.047382046732),\n (1397203.562546165, 12345.034342166911),\n (1400979.900990735, 10603.509982459063),\n (1201440.996199061, 7276.96366378716),\n (1314465.6902685026, 12073.26065795979),\n (1129064.039046803, 8765.066432548389),\n (1002507.5937406756, 8112.514087320892),\n (1114009.1971775093, 8568.440421790296),\n (1185541.1380913723, 8773.632878736107),\n (1247275.215906698, 8981.498498362333),\n (781069.7356878457, 6421.116170090434),\n (1127491.0611953624, 7819.379297588017),\n (433378.4159748449, 3520.161113598601),\n (1155031.3400876855, 7849.063071926867),\n (1316296.412995183, 9866.021445936874),\n (883072.4441804722, 5768.477278868106),\n (497677.9804728345, 3024.922797727362),\n (1012331.7446481062, 7144.947429190916),\n (802647.1327457058, 6718.055358390297),\n (775824.3765720964, 6710.477608927638),\n (956670.9461362245, 8692.408192164754),\n (1167707.5679017496, 9039.775359694375),\n (487717.6422415305, 4476.795653835587),\n (1257476.919617556, 8799.250639387545),\n (1286766.1082898783, 7925.187652374259),\n (987996.7779228176, 6848.58915309418),\n (1091586.7222117968, 6942.705428011255),\n (1288151.4216823159, 9645.044978946682),\n (1256507.511056134, 10065.564915751527),\n (546773.6213822853, 3830.3585250691162),\n (1360632.5352660492, 10244.456594709394),\n (1060769.0564813744, 8111.165532205751),\n (948602.1242698993, 8491.336542377541),\n (980513.999302706, 6080.60199920083),\n (1322327.952878395, 9620.001205629078),\n (793845.8276533404, 5132.978939892094),\n (1438937.1102001318, 11917.68089117936),\n (1443485.4814526788, 11651.419302997465),\n (710208.9259240545, 5116.057132481153),\n (1236676.23925787, 10106.770187236123),\n (1356556.9710789295, 9431.57847718707),\n (1203473.8848198338, 8785.111539063024),\n (1039885.9358737094, 8627.969391093331),\n (1285324.1803942628, 10879.418635765294),\n (1184744.2834185609, 8554.669019355348),\n (964728.5074997497, 7909.565838942),\n (1308113.4826554072, 8664.314111712067),\n (1365592.6589363676, 9839.203803309381),\n (1240300.504329684, 7005.160945546129),\n (877342.0879815128, 6911.272012761176),\n (795994.4903606769, 8142.187178483769),\n (1077150.9142313816, 6754.325955156776),\n (990024.3168718644, 8050.168541446391),\n (694577.2662605586, 4769.246118713468),\n (979108.0893888104, 6876.918063997163),\n (985988.830119382, 8310.558084752538),\n (1330334.893729896, 9896.619166831613),\n (1264400.750065179, 8596.014261196238),\n (1018597.1846660696, 7178.822637157666),\n (1204858.2698453479, 8074.254937899548),\n (955106.2954543699, 7414.784801932965),\n (816765.1295666425, 5642.194604878342),\n (604660.2586891333, 5172.173018505677),\n (870050.6901051532, 7162.445816202472),\n (1330334.893729896, 8263.196585898213),\n (862016.4397309487, 6354.204452793173),\n (1420440.9566330516, 11405.174525266031),\n (1330474.5527595961, 10974.484838893282),\n (1166198.4501752544, 8176.230971209632),\n (476620.7117702593, 3684.160378174815),\n (989617.0972300994, 7185.252856733624),\n (1232262.8762461292, 9663.516455298304),\n (1425158.8901747642, 7788.011703514177),\n (1263024.03933331, 9678.252329036068),\n (1023294.9567799155, 6141.399435049237),\n (1333339.4863220854, 9785.92871159743),\n (753847.5605952896, 5448.995179434069),\n (830181.3850559412, 6701.027390042108),\n (1154226.3130190389, 8770.14589997459),\n (1180201.5786750433, 10133.510013628986),\n (1134720.9984857056, 8441.6803222066),\n (730265.2018247858, 6801.518236692535),\n (1096595.8511022201, 6929.635044399402),\n (1322460.9725924653, 7734.399190632895),\n (1337952.8504862636, 12148.061658777207),\n (1248034.2142241278, 8648.771232032434),\n (1238735.0432845205, 7553.901238914052),\n (1083046.8270597795, 6681.907801604936),\n (563678.4031424058, 5244.666505872796),\n (548334.4923925587, 4667.20234672813),\n (872159.4453700524, 6587.779417561011),\n (1290797.6927252067, 8753.407227791837),\n (1007224.9687205851, 7506.990035549188),\n (1389414.9598011444, 9598.784082740855),\n (1255148.473512912, 9357.642430466829),\n (534898.3186816558, 4503.099150300371),\n (1158421.4232539015, 8607.704103589353),\n (954465.5482330035, 7174.126329965685),\n (372662.4470134015, 3219.882806384074),\n (1053918.5745397531, 8652.451822442932),\n (1079703.4453890661, 8112.984791945251),\n (916200.7077180794, 6167.459883372329),\n (986162.6001943445, 6732.625088653726),\n (1066844.2183569944, 7277.102921417593),\n (595962.1504960926, 4161.485349498119),\n (931130.2378182106, 7093.597496225266),\n (760683.2826258865, 5394.033589502179),\n (1128435.2317607526, 9297.26642946137),\n (1257693.1041631578, 7487.245207662418),\n (1391410.0983783223, 10919.714045364775),\n (1245425.561107211, 10069.21087945928),\n (1017579.0481877401, 7362.079091597202),\n (502786.1811786114, 3420.9450125126405),\n (1291165.0588406306, 8447.60047419495),\n (866938.2655861041, 5704.101608707429),\n (422865.05995675, 3468.9766948856686),\n (1331655.8688355233, 11992.073911386009),\n (855678.9150850557, 6207.945089633634),\n (1159066.1775074082, 6579.8460962161125),\n (1156007.7075723768, 9819.96403715007),\n (1065440.3596873907, 5923.82796777187),\n (1381608.0964204036, 9073.435818620872),\n (1216565.1119787989, 10828.833883556543),\n (1279505.1131690457, 7761.469904174807),\n (978329.4848276719, 7293.842319135586),\n (1237049.925779195, 7437.868711306915),\n (1351208.160813319, 10047.036081628217),\n (1238735.0432845205, 9637.736063442013),\n (822212.7154595845, 6389.798441237879),\n (1090756.969099749, 8088.370164229873),\n (467148.24892612174, 3415.6651356771235),\n (1054573.5065766226, 6200.4408966789415),\n (1292295.8508678987, 7848.663434843432),\n (660147.325589111, 4446.599845619904),\n (946808.7277978549, 5250.800143512167),\n (1231889.9696020337, 10956.477800864823),\n (672747.735896534, 6873.063752113097),\n (780562.7596110821, 4430.638969740455),\n (1273755.6608530085, 7627.408606965363),\n (764937.6895096472, 6381.452430093342),\n (1141167.124958968, 7385.103686495861),\n (1327795.3586699094, 7526.189806592692),\n (1240572.7315814723, 7430.510008870665),\n (1118727.0190289181, 9423.890340406464),\n (385865.7712329404, 3164.494494280595),\n (984936.3921358874, 8078.974473378122),\n (1189898.8990909867, 9276.371697004315),\n (1174772.3282234434, 8976.379501543877),\n (800990.0068282045, 6290.22614977087),\n (803401.278888228, 5034.381600163053),\n (352063.2591313762, 2958.3831206384793),\n (878649.1669877823, 6357.3756818493575),\n (1033607.083893575, 6487.173361451832),\n (426220.4378431133, 3184.0545462627065),\n (727223.9243040323, 4498.8216226165205),\n (657773.8006358402, 5146.494539216926),\n (1202989.807103381, 7319.824313970122),\n (1234994.507529055, 7042.618593902673),\n (1097031.1428464337, 9144.548115090483),\n (842755.8713218811, 6526.631744879914),\n (1344787.3466605972, 10803.84704585311),\n (1120556.2317371522, 7725.717360760417),\n (900059.8452210467, 5491.2774991870565),\n (1055941.0506217636, 7718.860005563762),\n (1081573.4126670705, 7562.556285464739),\n (1121666.160899111, 8443.288001162899),\n (733400.9086012007, 4929.842095768157),\n (1313929.6786923488, 8897.344138843877),\n (1002126.4206007816, 7718.988526960751),\n (1059429.244207174, 8519.883835375671),\n (1123500.793317514, 7090.5577167006395),\n (1345849.489906068, 11093.698240798882),\n (1190933.8083830061, 9019.092373618107),\n (1092059.4180823008, 7509.443856351536),\n (1282788.2974418025, 9001.60093096742),\n (1275045.4674749381, 7946.874440900527),\n (1183463.0390798028, 9889.405342110344),\n (1301535.6148412768, 8607.294496615837),\n (440025.53273971274, 3370.16965477778),\n (851438.0310786342, 5870.996748865146),\n (1396170.5238751313, 7332.228296540827),\n (410149.9034066379, 3674.191151023313),\n (1337527.582861909, 7623.9515955404795),\n (1248034.2142241278, 9784.46846452155),\n (1356092.1420178867, 10847.07535821014),\n (898375.3607408836, 6588.0978677327685),\n (1306150.666795306, 10848.085464407804),\n (961464.4765547381, 6854.1602120814905),\n (943740.1997948794, 6236.7021027271),\n (867567.4715594064, 7206.829024500657),\n (847641.4185790491, 8442.2637295625),\n (621825.1732029681, 3784.770996914559),\n (1339465.7935791183, 7130.203596452768),\n (946790.253661496, 8618.015316918782),\n (701738.5770931228, 6077.2091454094825),\n (1118748.4333962686, 8760.795926513698),\n (943201.860752142, 6006.455028679414),\n (1344898.2285377006, 10141.881027948124),\n (1028327.4167927833, 8334.651653771592),\n (870798.8070899, 6481.730089482382),\n (770238.590259327, 5022.555788378176),\n (1271565.1788522396, 8037.051990035256),\n (1130167.909662494, 9534.164230787112),\n (1167707.5679017496, 9217.025856943264),\n (1230570.7428003785, 7620.285971432805),\n (1093750.3184202113, 8137.799246859679),\n (951414.8344440933, 8019.31193044165),\n (1261339.009317937, 11379.001293594452),\n (1234355.8631429046, 8199.317086572131),\n (1068348.9707039574, 6661.518477866626),\n (482262.2939530881, 3473.744385522705),\n (1199442.3081430066, 6279.103918984974),\n (508591.97526035446, 3178.6194001047397),\n (1025912.2995415279, 5567.919205370465),\n (1309139.3954562224, 8368.67476649059),\n (990976.9813034812, 7746.443767548948),\n (796399.9066618937, 4791.344934771006),\n (1230425.5564435967, 8195.332855932144),\n (493796.770916034, 4037.671875775456),\n (1358040.7029202816, 11568.609089666146),\n (1185134.7222454585, 9334.664529424534),\n (1207171.0743611583, 8018.8271539032285),\n (719439.5664114457, 5707.207943126036),\n (917864.9256670931, 7031.3797387073455),\n (1141048.3946406988, 7867.888140989833),\n (995048.5140335662, 9842.589795712547),\n (543385.0068847348, 4963.178887178596),\n (843767.5934761568, 6739.048894380125),\n (679912.6785090871, 5704.141708781314),\n (1254629.2237529298, 11397.50113673421),\n (1133146.0896355526, 8574.976265247717),\n (1044317.4171170939, 8104.197294175877),\n (993415.0148952258, 8017.525475841199),\n (929915.940266944, 7083.531801504074),\n (951548.7659961863, 5079.38689625159),\n (914379.2322610692, 7492.778774873034),\n (622536.234464316, 4712.905717319057),\n (535701.8172635566, 3494.621335632986),\n (1165152.8240909344, 8487.364204550991),\n (1186093.2144037853, 7756.505704329459),\n (1310361.550162579, 8969.567982724897),\n (937643.433625614, 6298.224871719152),\n (503507.4813739736, 3808.245460966757),\n (1153697.2698510538, 6828.606447128005),\n (1271864.3731129798, 7232.791843322236),\n (1353437.491279648, 10212.438971636431),\n (1208344.7886551379, 11449.713314615734),\n (1321499.0195031038, 9835.119528671097),\n (1141470.551766466, 9007.089151822813),\n (1363684.127751856, 10170.49160916322),\n (1271701.184951947, 11938.652945105974),\n (1233247.0659117624, 8556.808579537388),\n (1152848.2202171793, 7657.363770145555),\n (621825.1732029681, 4515.919939500329),\n (502786.1811786114, 4156.632111977746),\n (1293165.8594906095, 10785.802685811474),\n (1202985.8935106932, 9332.311449833576),\n (1016912.3227101638, 8212.130863135057),\n (1298066.9653297253, 7434.966347222754),\n (1088007.1950297027, 7465.565022851905),\n (992418.2255377093, 7963.716596726859),\n (1242955.2540848493, 9010.660939342673),\n (1181478.6683766968, 7310.0009220685615),\n (1023720.5072014654, 8950.173542989762),\n (1169528.4847509842, 7826.465629074276),\n (969926.0714963531, 6903.739379048398),\n (827024.2989718411, 6830.78065071787),\n (657260.3699977838, 6160.489758698024),\n (1069712.7730892277, 6061.9282457667005),\n (1340990.8502569573, 10082.104776245971),\n (567071.7837693364, 4142.378527587328),\n (546264.8073179446, 3843.4033821826524),\n (1076659.0850349031, 9123.82947707451),\n (714933.8098303995, 4956.47293621409),\n (680717.2406110239, 4415.715611239124),\n (1176157.5876140008, 7336.728386228866),\n (829153.1391296807, 6451.552224157401),\n (543385.0068847348, 4376.621382330186),\n (1023720.5072014654, 7277.243908786059),\n (1434659.1936671522, 13196.305141429308),\n (1291913.766628479, 8240.14867164642),\n (1039885.9358737094, 8936.111155060953),\n (819319.7768895735, 5299.626199585835),\n (1133151.4335735322, 8325.000312652028),\n (766746.3161884226, 5313.388633079849),\n (618413.6619714977, 4177.218180377039),\n (1005841.4374758626, 8416.721885133644),\n (828981.4278916752, 5617.7190798697775),\n (973219.6498934819, 5986.730582285525),\n (1128654.9605943924, 8360.679498425841),\n (1060899.4469763427, 9405.875240570063),\n (1361430.5149836356, 7187.337453882353),\n (910055.0109246304, 7762.900222654428),\n (870511.3604443073, 5238.002344779476),\n (1132352.4217682057, 7948.104070480379),\n (1249597.8133234696, 8613.227519811167),\n (870798.8070899, 7562.018437729422),\n (887487.3504586505, 6359.307601362575),\n (1172944.8790499538, 6555.498293070335),\n (1224802.1329311577, 9068.362939325469),\n (1169509.2077863845, 8819.496315205453),\n (883643.0620631647, 8239.890619246537),\n (662709.5316463304, 4366.246787656357),\n (1232240.289441839, 7113.582391621602),\n (1174975.097505811, 8867.321987227419),\n (1265900.4412661567, 8684.492231771173),\n (385865.7712329404, 3280.622732602819),\n (1397153.5664168736, 7230.956625786447),\n (1330334.893729896, 9127.949716980567),\n (1130564.0314572472, 8691.581504359034),\n (1008900.0498996563, 9421.674549790829),\n (875790.6810009383, 7465.776680002468),\n (867743.4135718473, 6636.953116990876),\n (876070.1780255645, 6760.485682038213),\n (842755.8713218811, 6761.825681632331),\n (1141167.124958968, 8077.457157104849),\n (707103.9111270612, 6767.165024416718),\n (932263.9337910467, 6717.016560995445),\n (1069790.2212480835, 9396.703888652628),\n (758039.4931640759, 7263.607775840105),\n (1335055.9466616788, 6767.42548374029),\n (1156431.8167123813, 7827.022476447895),\n (1213324.6688426058, 9843.709529658798),\n (1057877.9261019225, 6673.277511458873),\n (1186768.0084799011, 8186.549617177143),\n (728717.332357704, 4619.626639346649),\n (881413.4367370233, 6502.109493447977),\n (391654.3757623935, 4135.6838989938515),\n (1348353.4626673053, 8741.367712977542),\n (897323.8827954488, 6819.55656236721),\n (1003211.8588330675, 5706.5117023845805),\n (1328896.2091862261, 8468.887210876992),\n (1413636.833421837, 12040.952840666814),\n (1063291.5767843071, 6634.16763235683),\n (1383295.660012147, 7963.482248872348),\n (1309749.248183211, 6891.969395289061),\n (1411023.524705854, 10449.07358760917),\n (1248259.6653124045, 10403.453581963537),\n (630673.3716039428, 5479.366250098409),\n (672890.52839677, 5523.941739994653),\n (1021916.7583218177, 7946.671194273255),\n (1025557.5235802926, 6990.907731111819),\n (912046.8005329521, 6277.436176739187),\n (945617.6943204015, 7025.757932596333),\n (567909.9657866266, 3916.512007658297),\n (1193760.691156691, 7886.259799523599),\n (1029988.1831298261, 5547.417498714784),\n (1184825.5158350365, 7615.647538183926),\n (961668.6773467886, 6031.203481022161),\n (1295421.4410852338, 7956.94238022178),\n (1210732.9740246094, 10041.929499171505),\n (1165182.692852718, 6554.095249641213),\n (926509.8292149997, 5098.8786607489155),\n (702364.6361377868, 4200.575288744859),\n (961084.6927394187, 5738.118047233708),\n (948529.3065259304, 5546.512960474622),\n (1347736.3580741293, 11043.75419881498),\n (748515.1703371363, 4804.809009629657),\n (872576.8380738843, 6577.767767035609),\n (653590.1201052188, 5117.616437052935),\n (878098.9928176933, 7390.801919779667),\n (1122575.1098508595, 8042.784837641903),\n (1104602.7248887022, 7305.969794576177),\n (623115.040308086, 4414.75176193724),\n (1236793.2298162573, 7181.316024959843),\n (1076643.4123672224, 8161.521319977409),\n (426206.4908305575, 3820.1258565168446),\n (440462.36424894474, 4317.344668453647),\n (1394300.6402402658, 11539.869110815576),\n (1148169.5310935883, 9045.252014623225),\n (1092581.9647602034, 6868.717918873485),\n (879308.3924057325, 6218.537905739446),\n (1144653.9574357201, 7561.549639314682),\n (1092581.9647602034, 8715.147466957758),\n (1354171.0561155898, 12157.73701613305),\n (1251755.0365338998, 8533.99792453359),\n (1265571.1526529302, 9834.926315229024),\n (1095838.9471236253, 8831.8823463803),\n (1130453.4535035712, 8459.535448015466),\n (472140.58675253927, 4438.17557418521),\n (1389414.9598011444, 9511.522409261457),\n (969414.3199127509, 6134.996607338232),\n (525773.4727294308, 5144.430078984498),\n (649809.2799466489, 4559.227893999901),\n (984579.5531036732, 6707.419278092787),\n (617994.1387186216, 4287.654849291224),\n (395333.4732503392, 4377.877419230998),\n (918464.7816206588, 5663.516289853949),\n (1327315.605850978, 7108.327629243416),\n (1222525.6005469114, 8957.10709490901),\n (1326176.585850726, 9129.9598861944),\n (1184090.9864793683, 8418.073281861522),\n (971483.6512060848, 6803.962634852016),\n (1372199.255255212, 9389.347159380644),\n (1253874.5565946437, 10155.880898012507),\n (1169528.4847509842, 6975.762843305323),\n (1000288.9542747553, 6250.340895397109),\n (1317626.8697882616, 8903.742827877368),\n (1389417.4558950535, 9481.208175848462),\n (945556.7354496355, 7953.395372263841),\n (451658.59165453137, 4178.125202660609),\n (1239911.7518748196, 7051.115684673935),\n (767355.0803420559, 6012.4924506070165),\n (1231528.2148068259, 9658.543852843133)]"
     },
     "execution_count": 9,
     "metadata": {},
     "output_type": "execute_result"
    }
   ],
   "source": [
    "cases_per_year_list"
   ]
  },
  {
   "cell_type": "code",
   "execution_count": 10,
   "metadata": {
    "pycharm": {
     "name": "#%%\n"
    }
   },
   "outputs": [],
   "source": [
    "with open('cases_per_year_list.pickle', 'wb') as handle:\n",
    "    pickle.dump(cases_per_year_list, handle, protocol=pickle.HIGHEST_PROTOCOL)"
   ]
  }
 ],
 "metadata": {
  "kernelspec": {
   "display_name": "Python 3",
   "language": "python",
   "name": "python3"
  },
  "language_info": {
   "codemirror_mode": {
    "name": "ipython",
    "version": 3
   },
   "file_extension": ".py",
   "mimetype": "text/x-python",
   "name": "python",
   "nbconvert_exporter": "python",
   "pygments_lexer": "ipython3",
   "version": "3.8.5"
  },
  "toc": {
   "base_numbering": 1,
   "nav_menu": {},
   "number_sections": true,
   "sideBar": true,
   "skip_h1_title": false,
   "title_cell": "Table of Contents",
   "title_sidebar": "Contents",
   "toc_cell": false,
   "toc_position": {},
   "toc_section_display": true,
   "toc_window_display": false
  },
  "varInspector": {
   "cols": {
    "lenName": 16,
    "lenType": 16,
    "lenVar": 40
   },
   "kernels_config": {
    "python": {
     "delete_cmd_postfix": "",
     "delete_cmd_prefix": "del ",
     "library": "var_list.py",
     "varRefreshCmd": "print(var_dic_list())"
    },
    "r": {
     "delete_cmd_postfix": ") ",
     "delete_cmd_prefix": "rm(",
     "library": "var_list.r",
     "varRefreshCmd": "cat(var_dic_list()) "
    }
   },
   "types_to_exclude": [
    "module",
    "function",
    "builtin_function_or_method",
    "instance",
    "_Feature"
   ],
   "window_display": false
  }
 },
 "nbformat": 4,
 "nbformat_minor": 1
}