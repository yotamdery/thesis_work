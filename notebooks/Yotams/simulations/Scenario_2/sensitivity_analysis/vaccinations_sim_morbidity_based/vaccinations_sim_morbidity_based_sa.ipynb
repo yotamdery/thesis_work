{
 "cells": [
  {
   "cell_type": "markdown",
   "source": [
    "## This notebook produces cases per year for the morbidity based simulation"
   ],
   "metadata": {
    "collapsed": false,
    "pycharm": {
     "name": "#%% md\n"
    }
   }
  },
  {
   "cell_type": "code",
   "execution_count": 9,
   "outputs": [],
   "source": [
    "import numpy as np\n",
    "import pandas as pd\n",
    "import itertools\n",
    "import pickle\n",
    "import datetime, random, copy\n",
    "import sys, os, tqdm\n",
    "\n",
    "import SEIR_full as mdl\n",
    "import SEIR_full.model as mdl\n",
    "import SEIR_full.calibration as mdl\n",
    "from SEIR_full.indices import *\n",
    "from SEIR_full.utils import *\n",
    "from SEIR_full.parameters import *"
   ],
   "metadata": {
    "collapsed": false,
    "pycharm": {
     "name": "#%%\n"
    }
   }
  },
  {
   "cell_type": "markdown",
   "source": [
    "* Fixing the ranges of the uncertainty factors that we're interested in:"
   ],
   "metadata": {
    "collapsed": false,
    "pycharm": {
     "name": "#%% md\n"
    }
   }
  },
  {
   "cell_type": "code",
   "execution_count": 10,
   "outputs": [],
   "source": [
    "# Creating a list of tuples, each tuple is a realization of randomly picked values for the factors that we change every iteration of the simulation\n",
    "np.random.seed(100)\n",
    "list_of_tuples = []\n",
    "for i in range(1000):\n",
    "    booster_eff = round(np.random.uniform(low=29.5001, high=95.5)) / 100     # Discrete uniform dist, booster_efficiency ~ U(30, 95), Updated in the model's object\n",
    "    inv_level = round(np.random.uniform(low=9.5001, high=20.5)) / 100       # Discrete uniform dist, booster_efficiency ~ U(10, 20), Updated in the simulation's settings\n",
    "    hosp_proba_scalar = round(np.random.uniform(low=0.8, high=1.2), 2)      # Continuous uniform dist, booster_efficiency ~ U(0.8, 1.2), Updated in the model's object\n",
    "    years_for_model_run = round(np.random.uniform(low=.5001, high=5.5))         # Discrete uniform dist, booster_efficiency ~ U(3, 10), Updated in the simulation's settings\n",
    "    list_of_tuples.append((booster_eff, inv_level, hosp_proba_scalar, years_for_model_run))"
   ],
   "metadata": {
    "collapsed": false,
    "pycharm": {
     "name": "#%%\n"
    }
   }
  },
  {
   "cell_type": "markdown",
   "source": [
    "* Fixing the static settings for all runs of the big loop"
   ],
   "metadata": {
    "collapsed": false,
    "pycharm": {
     "name": "#%% md\n"
    }
   }
  },
  {
   "cell_type": "code",
   "execution_count": 11,
   "outputs": [],
   "source": [
    "## DEFINING STATIC SETTINGS (INDEPENDENT IN THE DYNAMIC FACTORS) FOR THE SIMULATION RUN\n",
    "# Short path for the data directory\n",
    "DATA_DIR = r'/Users/yotamdery/Old_Desktop/git/SEIR_model_COVID-main/Data'\n",
    "# Reading the indices of the model - adding an hint to declare it's from type Indices!\n",
    "with(open(DATA_DIR + '/parameters/indices.pickle', 'rb')) as openfile:\n",
    "    ind:Indices = pickle.load(openfile)\n",
    "\n",
    "# Create indices for the age groups for easy & automatic access to the results of the operation in the script:\n",
    "age_groups_ind = {'5-9':0, '10-29':1, '30-59':2, '60+':3}\n",
    "\n",
    "# Reading the neutralized vectors:\n",
    "# Alpha variant vector\n",
    "with open(DATA_DIR + '/parameters/neutralized_alpha_variant_vec.pickle', 'rb') as pickle_in:\n",
    "\tneutralized_alpha_variant_vec = pickle.load(pickle_in)\n",
    "\n",
    "# Delta variant vector\n",
    "with open(DATA_DIR + '/parameters/neutralized_delta_variant_vec.pickle', 'rb') as pickle_in:\n",
    "\tneutralized_delta_variant_vec = pickle.load(pickle_in)\n",
    "\n",
    "# Beta_lockdown vector\n",
    "with open(DATA_DIR + '/parameters/neutralized_lockdown_vec.pickle', 'rb') as pickle_in:\n",
    "\tneutralized_lockdown_vec = pickle.load(pickle_in)\n",
    "\n",
    "# Beta_school vector\n",
    "with open(DATA_DIR + '/parameters/neutralized_school_vec.pickle', 'rb') as pickle_in:\n",
    "\tneutralized_school_vec = pickle.load(pickle_in)\n",
    "\n",
    "# Isolation morbidity ratio vector\n",
    "with open(DATA_DIR + '/parameters/neutralized_isolation_morbidity_ratio_vector.pickle', 'rb') as pickle_in:\n",
    "\tneutralized_isolation_morbidity_ratio_vector = pickle.load(pickle_in)\n",
    "\n",
    "# zero vector to remove any transition from V_2 and S_2 to V_3\n",
    "with open(DATA_DIR + '/parameters/neutralized_transition_rate_to_V_3.pickle', 'rb') as pickle_in:\n",
    "\tneutralized_transition_vector = pickle.load(pickle_in)"
   ],
   "metadata": {
    "collapsed": false,
    "pycharm": {
     "name": "#%%\n"
    }
   }
  },
  {
   "cell_type": "markdown",
   "source": [
    "* Utils functions:"
   ],
   "metadata": {
    "collapsed": false,
    "pycharm": {
     "name": "#%% md\n"
    }
   }
  },
  {
   "cell_type": "code",
   "execution_count": 12,
   "outputs": [],
   "source": [
    "# Getting the reported unreported ratio\n",
    "def get_reported_unreported_ratio(scen):\n",
    "    if scen == 'Scenario2':\n",
    "        reported = 1\n",
    "        unreported = 2\n",
    "        reported_unreported = unreported / (reported + unreported)\n",
    "    return reported_unreported\n",
    "\n",
    "# Getting all region,age combinations as a list\n",
    "def get_all_region_age_combinations():\n",
    "    \"\"\"This function returns a list of tuples of all region,risk,4-age_group combinations\"\"\"\n",
    "    counties_list = list(ind.region_dict.keys())\n",
    "    age_groups_list = list(age_groups_ind.keys())\n",
    "    return list(itertools.product(counties_list, age_groups_list))\n",
    "\n",
    "def region_age_groups_mapping(wanted_mapping: str):\n",
    "    \"\"\" This function gets a wanted mapping (4 examined age groups to 9 original model's age groups or vice versa),\n",
    "    and returns a dictionary consist of the wanted mapping\n",
    "    \"\"\"\n",
    "    # Initializing the final mapping to return and it's keys:\n",
    "    mapping_dict = {}\n",
    "    all_comb_4_age_groups_list = get_all_region_age_combinations()\n",
    "    if wanted_mapping == '4-to-9':\n",
    "        # Iterating over all possible combinations with the 4-age_groups:\n",
    "        for combination in all_comb_4_age_groups_list:\n",
    "            # The list that the current combination will map to\n",
    "            curr_res_list = []\n",
    "            # A list to iterate when building the curr_res_list - depending on the current and new age-group:\n",
    "            if combination[1] == '5-9':\n",
    "                correspondent_age_groups = ['5-9']\n",
    "            elif combination[1] == '10-29':\n",
    "                correspondent_age_groups = ['10-19', '20-29']\n",
    "            elif combination[1] == '30-59':\n",
    "                correspondent_age_groups = ['30-39', '40-49', '50-59']\n",
    "            else:\n",
    "                correspondent_age_groups = ['60-69', '70+']\n",
    "\n",
    "            # Appending to the curr_res_list to finalize the mapping:\n",
    "            for age_group in correspondent_age_groups:\n",
    "                curr_res_list.append((combination[0], age_group))\n",
    "\n",
    "            # Updating the final mapping_dict:\n",
    "            mapping_dict[combination] = curr_res_list\n",
    "    return mapping_dict\n",
    "\n",
    "# Getting all region,risk,age combinations as a list\n",
    "def get_all_region_risk_age_combinations():\n",
    "    \"\"\"This function returns a list of tuples of all region,risk,4-age_group combinations\"\"\"\n",
    "    counties_list = list(ind.region_dict.keys())\n",
    "    risk_list = ['High', 'Low']\n",
    "    age_groups_list = list(age_groups_ind.keys())\n",
    "    return list(itertools.product(counties_list, risk_list, age_groups_list))\n",
    "\n",
    "def region_risk_age_groups_mapping(wanted_mapping: str):\n",
    "    \"\"\" This function gets a wanted mapping (4 examined age groups to 9 original model's age groups or vice versa),\n",
    "    and returns a dictionary consist of the wanted mapping\n",
    "    \"\"\"\n",
    "    # Initializing the final mapping to return and it's keys:\n",
    "    mapping_dict = {}\n",
    "    all_comb_4_age_groups_list = get_all_region_risk_age_combinations()\n",
    "    if wanted_mapping == '4-to-9':\n",
    "        # Iterating over all possible combinations with the 4-age_groups:\n",
    "        for combination in all_comb_4_age_groups_list:\n",
    "            # The list that the current combination will map to\n",
    "            curr_res_list = []\n",
    "            # A list to iterate when building the curr_res_list - depending on the current and new age-group:\n",
    "            if combination[2] == '5-9':\n",
    "                correspondent_age_groups = ['5-9']\n",
    "            elif combination[2] == '10-29':\n",
    "                correspondent_age_groups = ['10-19', '20-29']\n",
    "            elif combination[2] == '30-59':\n",
    "                correspondent_age_groups = ['30-39', '40-49', '50-59']\n",
    "            else:\n",
    "                correspondent_age_groups = ['60-69', '70+']\n",
    "\n",
    "            # Appending to the curr_res_list to finalize the mapping:\n",
    "            for age_group in correspondent_age_groups:\n",
    "                curr_res_list.append((combination[0], combination[1], age_group))\n",
    "\n",
    "            # Updating the final mapping_dict:\n",
    "            mapping_dict[combination] = curr_res_list\n",
    "    return mapping_dict\n",
    "\n",
    "def get_indexes_region_risk_age_combination(region_risk_age_group: tuple):\n",
    "    \"\"\"This function gets a tuple of (region, risk, 4_age_group) and returns the indexes of that combination as they are in the original model (including transformation to the 9 original age groups. e.g.: for (1101, 'High', '10-29'), returns the indexes for (1101, 'High', '10-19') + (1101, 'High', '20-29')\"\"\"\n",
    "    # Initializing the result list and the age groups mapper:\n",
    "    indexes_list_of_lists = []\n",
    "    four_to_nine_age_map = region_risk_age_groups_mapping('4-to-9')\n",
    "    for val in four_to_nine_age_map[region_risk_age_group]:\n",
    "        indexes_list_of_lists.append(ind.region_risk_age_dict[val])\n",
    "    # Merging the list of lists to one list:\n",
    "    region_risk_age_indexes_list = [item for sublist in indexes_list_of_lists for item in sublist]\n",
    "    return sorted(region_risk_age_indexes_list)\n",
    "\n",
    "# Getting the current lambda_t for the current combination of (region, 4-age_group):\n",
    "def get_current_lambda_t(curr_res_mdl_1_ml: dict, target_region_risk_4age_group: tuple):\n",
    "    # Getting the lambda of the last day of the current model, and the region,4-age_group mapping:\n",
    "    lambda_last_day = np.reshape(curr_res_mdl_1_ml['L_2'][-1, :], newshape=(540))\n",
    "    four_to_nine_age_map = region_age_groups_mapping('4-to-9')\n",
    "    # Initializing the final proportion for the current compartment that we want to calculate:\n",
    "    final_prop_for_comp = 0\n",
    "    # Iterating on each correspondent combination of (region, 9-age_group) to aggregate on:\n",
    "    for val in four_to_nine_age_map[target_region_risk_4age_group]:\n",
    "        # Getting the index of the current (region, risk, 9-age_group)\n",
    "        correspondent_index = ind.region_age_dict[val]\n",
    "        # Adding the value of current (region, risk, 9-age_group)\n",
    "        final_prop_for_comp += lambda_last_day[correspondent_index].sum()\n",
    "\n",
    "    return final_prop_for_comp\n",
    "\n",
    "def calc_comp_prop_for_region_risk_age(comp: str, curr_res_mdl_1_ml: dict, target_region_risk_4age_group: tuple):\n",
    "    \"\"\"This function gets the target compartment, the current predictions of the current model, and the wanted combination of (region, risk, 4-age_group),\n",
    "    and returns the compartment aggregated by the wanted combination of (region, risk, 4-age_group) - (aggregated from (region, risk, 9-age_group))\"\"\"\n",
    "    # Getting the last day of the compartment, and the needed age-groups mapping:\n",
    "    comp_last_day = np.reshape(curr_res_mdl_1_ml[comp][-1, :], newshape=(540))\n",
    "    four_to_nine_age_map = region_risk_age_groups_mapping('4-to-9')\n",
    "    # Initializing the final proportion for the current compartment that we want to calculate:\n",
    "    final_prop_for_comp = 0\n",
    "    # Iterating on each correspondent combination of (region, risk, 9-age_group) to aggregate on:\n",
    "    for val in four_to_nine_age_map[target_region_risk_4age_group]:\n",
    "        # Getting the index of the current (region, risk, 9-age_group)\n",
    "        correspondent_index = ind.region_risk_age_dict[val]\n",
    "        # Adding the value of current (region, risk, 9-age_group)\n",
    "        final_prop_for_comp += float(comp_last_day[correspondent_index][0])\n",
    "\n",
    "    return final_prop_for_comp\n",
    "\n",
    "def calc_rho_or_f_prop_for_region_risk_age(rho_or_f_j: np.array, target_region_risk_4age_group: tuple):\n",
    "    \"\"\"This function gets the model_1_ml.rho and the wanted combination of (region, risk, 4-age_group),\n",
    "    and returns rho aggregated by the wanted combination of (region, risk, 4-age_group) - (aggregated from (region, risk, 9-age_group))\"\"\"\n",
    "    four_to_nine_age_map = region_risk_age_groups_mapping('4-to-9')\n",
    "    ## Calculating the final proportion of rho or f_j as a weighted sum using the distribution of S(0) (population_size):\n",
    "    # Initializing the proportions for the weighted sum:\n",
    "    S0_list = []\n",
    "    rho_or_f_j_list = []\n",
    "    # Iterating on each correspondent combination of (region, risk, 9-age_group) and append to the relevant list:\n",
    "    for val in four_to_nine_age_map[target_region_risk_4age_group]:\n",
    "        # Getting the index of the current (region, risk, 9-age_group)\n",
    "        correspondent_index = ind.region_risk_age_dict[val]\n",
    "        # Adding the value of current (region, risk, 9-age_group)\n",
    "        S0_list.append(population_size[correspondent_index][0])\n",
    "        rho_or_f_j_list.append(rho_or_f_j[correspondent_index][0])\n",
    "\n",
    "    ## Calculating the weighted sum:\n",
    "    # Init the lists to calc the expression\n",
    "    numerator = []\n",
    "    denominator = []\n",
    "    for i in range(len(S0_list)):\n",
    "        numerator.append(S0_list[i]*rho_or_f_j_list[i])\n",
    "        denominator.append(S0_list[i])\n",
    "    # Returning the final and weighted probability value:\n",
    "    final_weighted_sum_proba = np.sum(numerator) / np.sum(denominator)\n",
    "    return final_weighted_sum_proba\n",
    "\n",
    "def update_compartment(curr_res_mdl_1_ml: dict, compartment: str, updated_array: np.array):\n",
    "    \"\"\"This function gets the current models' predictions, the compartment to update and the updated array, and updates the model object with the updated array\"\"\"\n",
    "    # Initiate settings:\n",
    "    curr_res_mdl_1_ml[compartment][-1] = updated_array\n",
    "    comp_as_list = []\n",
    "    # Changing the updated arrays to be lists of arrays (to allow the update of the model object):\n",
    "    for element in res_mdl_1_ml[compartment]:\n",
    "        comp_as_list.append(element)\n",
    "\n",
    "    # Performing the proper model update\n",
    "    model_1_ml.update({\n",
    "        compartment : comp_as_list\n",
    "    })\n",
    "\n",
    "# Defining the model - initializing it for t=0:\n",
    "def defining_model(scen):\n",
    "    model_1_ml_ = mdl.Model_behave(\n",
    "    ind= ind,\n",
    "    beta_j= cal_parameters[scen]['beta_j'],\n",
    "    beta_activity= cal_parameters[scen]['beta_activity'],\n",
    "    beta_school= cal_parameters[scen]['beta school'],\n",
    "    scen= scen\n",
    "    )\n",
    "    # Predicting without an assignment (there's no need for that)\n",
    "    model_1_ml_.predict(\n",
    "        days_in_season= 529,    # Num of days between 15/05/20 - 25/10/21\n",
    "        shifting_12_days= True\n",
    "    )\n",
    "    # Updating the vectors to be able to run the model furthermore:\n",
    "    model_1_ml_.update({\n",
    "        'alpha_variant_vec':  neutralized_alpha_variant_vec,\n",
    "        'delta_variant_vec': neutralized_delta_variant_vec,\n",
    "        'isolation_morbidity_ratio_vector': neutralized_isolation_morbidity_ratio_vector,\n",
    "        'is_lockdown': neutralized_lockdown_vec,\n",
    "        'is_school': neutralized_school_vec,\n",
    "        'v2_to_v3_transition_t' : neutralized_transition_vector,\n",
    "        's_2_to_v3_transition_t' : neutralized_transition_vector\n",
    "    })\n",
    "    return model_1_ml_\n",
    "\n",
    "# Update model for current variables of uncertainty:\n",
    "def update_models_object(mdl_1_ml: mdl.Model_behave, realization: tuple):\n",
    "    new_rho = mdl_1_ml.rho * realization[2]\n",
    "    mdl_1_ml.update({\n",
    "        'booster_efficiency': realization[0],\n",
    "        'rho': new_rho\n",
    "    })"
   ],
   "metadata": {
    "collapsed": false,
    "pycharm": {
     "name": "#%%\n"
    }
   }
  },
  {
   "cell_type": "markdown",
   "source": [
    "#### Getting the vaccinations priority queue:"
   ],
   "metadata": {
    "collapsed": false,
    "pycharm": {
     "name": "#%% md\n"
    }
   }
  },
  {
   "cell_type": "code",
   "execution_count": 13,
   "outputs": [],
   "source": [
    "def get_vaccination_pq(curr_res_mdl_1_ml: dict):\n",
    "    \"\"\"This function gets the current model and returns the final priority queue for all combinations of (county, risk, 4-age_group)\"\"\"\n",
    "    # Initialize settings: final priority queue to return (as a dictionary, not sorted), the 4-9 age-groups mapper, and the reported/unreported ratio:\n",
    "    vaccination_que = {}\n",
    "    reported_unreported = get_reported_unreported_ratio('Scenario2')\n",
    "    comp_list = ['S_2', 'V_2', 'R_1', 'R_2', 'L_2']\n",
    "    mapping_4_to_9 = region_risk_age_groups_mapping('4-to-9')\n",
    "\n",
    "    for key, val in mapping_4_to_9.items():\n",
    "        # Getting the proportion value for each compartment[region,risk,4-age_group], save it as a list such that the order is exactly - [S_2, V_2, R_1, R_2, L_2]\n",
    "        current_comp_prop_list = []\n",
    "        # For each compartment - calculate its value of (region, risk, 4-age_group):\n",
    "        for comp in comp_list:\n",
    "            # If we assess the proportion of the force of infection, the calculation is different (lambda_t depends only on (region,age))\n",
    "            if comp != 'L_2':\n",
    "                current_comp_prop_list.append(calc_comp_prop_for_region_risk_age(comp, curr_res_mdl_1_ml, key))\n",
    "            else:\n",
    "                current_comp_prop_list.append(get_current_lambda_t( curr_res_mdl_1_ml, (key[0], key[2]) ))\n",
    "        # getting the proportion value for model_1_ml.f[model_1_ml.scen]:\n",
    "        f_j = calc_rho_or_f_prop_for_region_risk_age(model_1_ml.f[model_1_ml.scen] , key)\n",
    "        # Calculating the hospitalization probability measurement:\n",
    "        comps = current_comp_prop_list      # To shorten the code\n",
    "        V_2_eff = 1-0.94        # Effectiveness of second dose to prevent infection\n",
    "        scoring_index = ( (comps[0] + (comps[2]+comps[3])*reported_unreported + (comps[1]*(V_2_eff))) * comps[4] * ((1-f_j)*model_1_ml.delta) ) \\\n",
    "                        / (comps[0] + comps[1] + (comps[2]+comps[3])*reported_unreported)\n",
    "        # Assigning the scoring measurement to the correspondent combination of (region,risk,4-age_group)\n",
    "        vaccination_que[key] = scoring_index\n",
    "    # Sorting the dict to get a \"priority queue\" - receiving a list of tuples:\n",
    "    vaccination_que = sorted(vaccination_que.items(), key=lambda x: x[1], reverse= True)\n",
    "\n",
    "    return vaccination_que"
   ],
   "metadata": {
    "collapsed": false,
    "pycharm": {
     "name": "#%%\n"
    }
   }
  },
  {
   "cell_type": "markdown",
   "source": [
    "#### calculating the transferring proportion:"
   ],
   "metadata": {
    "collapsed": false,
    "pycharm": {
     "name": "#%% md\n"
    }
   }
  },
  {
   "cell_type": "code",
   "execution_count": 14,
   "outputs": [],
   "source": [
    "def calc_trans_prop(vaccination_pq_: list, curr_res_mdl_1_ml: dict, curr_inv_: float):\n",
    "    # Initializing the accumulated amount used and the priority queue:\n",
    "    curr_inventory_used = 0\n",
    "    vaccination_pq_copy = vaccination_pq_.copy()\n",
    "    # Saving the combinations that we will vaccinate:\n",
    "    vaccinated_que_ = []\n",
    "    # Iterating until we cross the prior inventory level:\n",
    "    while (curr_inventory_used <= curr_inv_):\n",
    "        # Getting the current combination of (age_group, risk) from the pq:\n",
    "        current_county_risk_age = vaccination_pq_copy.pop(0)[0]\n",
    "        # Getting the correspondent reported/unreported ratio for the Scenario:\n",
    "        reported_unreported = get_reported_unreported_ratio('Scenario2')\n",
    "        # Getting R2_(j,r), R1_(j,r), V2_(j,r), S2_(j,r) proportions:\n",
    "        R_2_risk_age, R_1_risk_age, S_2_risk_age, V_2_risk_age = calc_comp_prop_for_region_risk_age('R_2', curr_res_mdl_1_ml, current_county_risk_age), \\\n",
    "                                                                 calc_comp_prop_for_region_risk_age('R_1', curr_res_mdl_1_ml, current_county_risk_age), \\\n",
    "                                                                 calc_comp_prop_for_region_risk_age('S_2', curr_res_mdl_1_ml, current_county_risk_age), \\\n",
    "                                                                 calc_comp_prop_for_region_risk_age('V_2', curr_res_mdl_1_ml, current_county_risk_age)\n",
    "        # Calculating the formula for num of needed vaccines:\n",
    "        count_vaccines_in_use = ( ((R_1_risk_age + R_2_risk_age) * reported_unreported) + S_2_risk_age + V_2_risk_age) * pop_israel\n",
    "        # Updating the accumulated used vaccines:\n",
    "        curr_inventory_used += count_vaccines_in_use\n",
    "        # Updating the vaccinated_que:\n",
    "        vaccinated_que_.append(current_county_risk_age)\n",
    "\n",
    "    final_trans_prop = curr_inv_ / curr_inventory_used\n",
    "    return final_trans_prop, vaccinated_que_"
   ],
   "metadata": {
    "collapsed": false,
    "pycharm": {
     "name": "#%%\n"
    }
   }
  },
  {
   "cell_type": "markdown",
   "source": [
    "#### Vaccinating in booster dose:"
   ],
   "metadata": {
    "collapsed": false,
    "pycharm": {
     "name": "#%% md\n"
    }
   }
  },
  {
   "cell_type": "code",
   "execution_count": 15,
   "outputs": [],
   "source": [
    "### Vaccinating in booster (moving from S_2 and V_2 to V_3, including the model update):\n",
    "def vaccinate(trans_prop_: float, curr_res_mdl_1_ml: dict, vaccination_que: list):\n",
    "    ## initialize settings:\n",
    "    vaccination_que_copy = vaccination_que.copy()\n",
    "    trans_prop_copy = trans_prop_\n",
    "    reported_unreported = get_reported_unreported_ratio('Scenario2')\n",
    "    # Getting the last day of the compartments and V_3, saving it to a dictionary:\n",
    "    last_day_dict = {'S_2_last_day': np.reshape(curr_res_mdl_1_ml['S_2'][-1, :], newshape=(540) ),\n",
    "                     'V_2_last_day': np.reshape(curr_res_mdl_1_ml['V_2'][-1, :], newshape=(540) ),\n",
    "                     'V_3_last_day': np.reshape(curr_res_mdl_1_ml['V_3'][-1, :], newshape=(540) )}\n",
    "\n",
    "    # Iterating over the combinations of (risk, age_group) that we need to vaccinate, and moving the population, and updating the model:\n",
    "    for curr_risk_age in vaccination_que_copy:\n",
    "        # Getting the relevant indexes to operate in the correspondent locations of the compartment:\n",
    "        curr_risk_age_indexes = get_indexes_region_risk_age_combination(curr_risk_age)\n",
    "\n",
    "        ## Vaccinating from S_2 to V_3\n",
    "        S_2_last_day_updated, V_3_last_day_updated = vaccinating_from_V_2_S_2(last_day_dict['V_3_last_day'], last_day_dict['S_2_last_day'], trans_prop_copy, curr_risk_age_indexes)\n",
    "        # updating the results:\n",
    "        last_day_dict['V_3_last_day'], last_day_dict['S_2_last_day'] = V_3_last_day_updated, S_2_last_day_updated\n",
    "\n",
    "        ## Vaccinating from V_2 to V_3\n",
    "        V_2_last_day_updated, V_3_last_day_updated = vaccinating_from_V_2_S_2(last_day_dict['V_3_last_day'], last_day_dict['V_2_last_day'], trans_prop_copy, curr_risk_age_indexes)\n",
    "        # updating the results:\n",
    "        last_day_dict['V_3_last_day'], last_day_dict['V_2_last_day'] = V_3_last_day_updated, V_2_last_day_updated\n",
    "\n",
    "    update_compartment(curr_res_mdl_1_ml, 'V_2', last_day_dict['V_2_last_day'])\n",
    "    update_compartment(curr_res_mdl_1_ml, 'S_2', last_day_dict['S_2_last_day'])\n",
    "    update_compartment(curr_res_mdl_1_ml, 'V_3', last_day_dict['V_3_last_day'])"
   ],
   "metadata": {
    "collapsed": false,
    "pycharm": {
     "name": "#%%\n"
    }
   }
  },
  {
   "cell_type": "markdown",
   "source": [
    "### Main - 1000 iterations of the Sim:"
   ],
   "metadata": {
    "collapsed": false,
    "pycharm": {
     "name": "#%% md\n"
    }
   }
  },
  {
   "cell_type": "code",
   "execution_count": 16,
   "outputs": [
    {
     "name": "stderr",
     "output_type": "stream",
     "text": [
      "tqdm() Progress Bar: 100%|██████████| 1000/1000 [7:35:12<00:00, 27.31s/it] \n"
     ]
    }
   ],
   "source": [
    "# A list to hold 1000 realizations of cases per year:\n",
    "cases_per_year_list = []\n",
    "\n",
    "# Big loop run:\n",
    "for tup in tqdm.tqdm(list_of_tuples, desc= 'tqdm() Progress Bar'):\n",
    "    # Initializing the model's object (and its predictions) to t=0:\n",
    "    model_1_ml = defining_model('Scenario2')\n",
    "    # Settings:\n",
    "    update_models_object(model_1_ml, tup)       # Updating the v3_efficiency and the proba for hosp\n",
    "    inv_level = tup[1] * pop_israel             # Updating the inventory level\n",
    "    years_for_model_run = tup[3]                # Updating the years for the model to run for\n",
    "\n",
    "    # Running the model for X years, in 6 months resolution\n",
    "    for i in range(years_for_model_run*2):\n",
    "        # Running until the vaccination month:\n",
    "        for j in range(1):\n",
    "            res_mdl_1_ml = model_1_ml.predict(\n",
    "                            days_in_season= 30,\n",
    "                            continuous_predict= True\n",
    "                            )\n",
    "            # Getting the vaccination priority_que:\n",
    "            vaccination_pq = get_vaccination_pq(res_mdl_1_ml)\n",
    "            # Getting the proportion of transition, and the combinations that we vaccinate:\n",
    "            trans_prop, vaccinated_que = calc_trans_prop(vaccination_pq, res_mdl_1_ml, inv_level)\n",
    "            # Vaccinating (including the model update):\n",
    "            vaccinate(trans_prop, res_mdl_1_ml, vaccinated_que)\n",
    "\n",
    "        # Running the model until the end of the current \"single\" run (half a year)\n",
    "        for k in range(5):\n",
    "            res_mdl_1_ml = model_1_ml.predict(\n",
    "                days_in_season= 30,\n",
    "                continuous_predict= True\n",
    "            )\n",
    "    ## Calculating the cases per year index for every measurement:\n",
    "    tot_new_Is = np.add(res_mdl_1_ml['new_Is_1'].sum(axis=1) * pop_israel, res_mdl_1_ml['new_Is_2'].sum(axis=1) * pop_israel)\n",
    "    tot_new_H = np.add(res_mdl_1_ml['new_H_1'].sum(axis=1) * pop_israel, res_mdl_1_ml['new_H_2'].sum(axis=1) * pop_israel)\n",
    "    # Transferring to cumulative sum:\n",
    "    cumsum_tot_new_Is, cumsum_tot_new_H = np.cumsum(tot_new_Is), np.cumsum(tot_new_H)\n",
    "    # Performing the calculation itself:\n",
    "    cases_per_year_new_Is, cases_per_year_new_H = (cumsum_tot_new_Is[-1] - cumsum_tot_new_Is[528]) / years_for_model_run, (cumsum_tot_new_H[-1] - cumsum_tot_new_H[528]) / years_for_model_run\n",
    "    cases_per_year_list.append((cases_per_year_new_Is, cases_per_year_new_H))"
   ],
   "metadata": {
    "collapsed": false,
    "pycharm": {
     "name": "#%%\n"
    }
   }
  },
  {
   "cell_type": "code",
   "execution_count": 17,
   "outputs": [
    {
     "data": {
      "text/plain": "[(1252995.4477347895, 7773.6732515322965),\n (1486076.2607438997, 10116.48523370011),\n (1386528.1086196273, 11981.76893664587),\n (1439071.8113238574, 8027.88925601753),\n (1144112.3103096276, 9530.323946138671),\n (1117526.8188488954, 9186.390401747707),\n (1402135.6767952556, 7984.609410778746),\n (1201989.8599662164, 8564.47636377086),\n (1427691.2672795455, 7228.598848328906),\n (1081542.8005665017, 8732.117557889569),\n (966524.1173464898, 8212.197845814817),\n (1371727.3366869488, 10852.68648272349),\n (1255534.481327711, 9360.056944007956),\n (1269604.142534962, 8564.590087111541),\n (1429311.185638064, 7811.749890720917),\n (1257960.572555257, 9944.276572611512),\n (593080.1660791008, 4779.327990644822),\n (1357699.8924590056, 9269.831703143178),\n (1303060.813014793, 10279.955534425348),\n (1124470.5809206646, 6646.841374462656),\n (1351417.6387426115, 8609.421019507106),\n (1322954.3464927005, 9480.946181256117),\n (1296787.4187608194, 9475.714726257476),\n (1435607.7501078336, 9140.482426931398),\n (1311640.3754623714, 7518.700851170602),\n (876008.5131157445, 6859.434806235654),\n (919974.9689242797, 6184.236311934807),\n (1011364.6075416633, 6489.250245555446),\n (612511.9204219996, 4307.35258903755),\n (1275068.4485366952, 8215.11061406475),\n (1131166.4242051647, 9227.668272944351),\n (1268751.4041135032, 8749.708303224052),\n (1230617.6575453137, 7465.5821296357335),\n (1090383.2492214837, 6681.478519588457),\n (993261.6219711548, 7597.329906351733),\n (1386160.31413978, 10437.97874022793),\n (1012550.5072173618, 8450.588285883581),\n (1395643.6824334087, 8428.92615442826),\n (1074003.4082077066, 7770.476755873674),\n (1187506.357401613, 8091.2110801332965),\n (1389030.0549006322, 8684.98918484437),\n (914857.627305856, 6490.4331304853085),\n (1015821.9417648078, 6654.222206381688),\n (1345714.0974245982, 10157.920648775222),\n (1292759.736438147, 6928.689982217166),\n (904848.7540598502, 6420.576675997685),\n (1245709.6839981913, 8055.444425087499),\n (1119259.2768266145, 6187.939762175435),\n (558520.9547548133, 4108.212954557444),\n (878331.6075060131, 5445.030497874232),\n (1213360.16571961, 7524.482002646675),\n (1182878.8497842469, 6964.167413175868),\n (1438674.9439232566, 10777.669668991284),\n (1307046.622723305, 8473.004336506863),\n (867504.4413587868, 6529.147231507069),\n (1344357.0667821497, 7259.391542738757),\n (758370.8014579988, 6007.106208397632),\n (1067027.8211903623, 6606.090585672169),\n (1030901.0318876244, 9334.077111191235),\n (1404555.9985250493, 9156.483475574953),\n (1368799.0790384498, 8521.6294145325),\n (1408808.5410524562, 9705.201357495163),\n (1117347.1464538702, 7853.585708186979),\n (685250.8171542056, 6121.214084450583),\n (976739.4225394995, 7604.54008920924),\n (1344011.052715092, 7684.589629416577),\n (973015.5982922113, 6371.598217384903),\n (1351641.238450405, 10230.178546658348),\n (1283226.9588575512, 11445.568183344634),\n (1337853.1606607013, 7396.537744802218),\n (889084.107292288, 8271.502112947972),\n (1202604.2433996932, 8492.47061251464),\n (1045365.5172868471, 6657.66935521909),\n (1201117.8584679672, 8629.672568386894),\n (1381486.7385493154, 10606.297812429939),\n (1417102.718449216, 8368.979318198082),\n (1356648.4735795907, 8566.45740192643),\n (1192978.6949597802, 6698.230059502743),\n (993470.6010767936, 7278.776789807111),\n (971185.501960881, 7476.217500169206),\n (1476139.9389226614, 10257.208576558984),\n (1311779.8041815704, 6942.404527176014),\n (1460107.9007176287, 9208.230842309418),\n (1089978.326106175, 5905.955041598788),\n (1078328.5111716192, 8879.56722336644),\n (1209578.68700102, 8450.993141505349),\n (1323437.9294453145, 9687.877087917374),\n (1188352.6178456896, 9461.493257848919),\n (1494461.5091775798, 9434.746487528571),\n (1061670.9909438998, 8100.701178267445),\n (1351274.066729271, 9876.717868493794),\n (980171.8070437968, 7409.398552625427),\n (1069097.3802221953, 9299.210791733609),\n (1168921.2639046367, 7849.135401853623),\n (1425862.6230803106, 9701.131670670666),\n (973831.1545134402, 5862.284620533093),\n (1231656.4428031028, 7241.308522671613),\n (1403185.6463212997, 7839.709321176233),\n (1236010.0967271484, 9728.703569061954),\n (1306224.3880356185, 8831.307571296365),\n (1362498.194356994, 9208.703296692067),\n (1182259.806601041, 6741.304728066817),\n (1002983.7037937873, 7706.140568463251),\n (1154178.0710589972, 8142.200636985392),\n (1183419.236781501, 9007.687977028918),\n (932949.5212267048, 6128.171708030375),\n (1251727.7220449902, 10788.031960648805),\n (1199919.5438852904, 9358.986826286817),\n (1203519.2374846046, 6241.224823515495),\n (1431512.5162300367, 11313.1200610555),\n (1305107.6612099533, 9250.384385089741),\n (1230394.7665998468, 8817.099853376314),\n (1318696.6196581319, 6841.051441597918),\n (1468542.291954699, 9929.388392249655),\n (964739.951785346, 6382.697036381947),\n (1460607.9168021411, 11584.69422983858),\n (1288512.23130441, 9714.956039044935),\n (1358505.5710846921, 9466.14074709911),\n (1183769.5447369565, 7364.682322498255),\n (1075182.3940432305, 6126.272083681087),\n (884856.5993555946, 6167.730852395354),\n (1447909.724401479, 10410.403413710626),\n (1344544.389171219, 9621.230112616151),\n (1073107.0461087846, 8023.368763169502),\n (1171645.7807341975, 8533.736831974124),\n (1297886.518449548, 9298.160358384219),\n (1403522.3595386469, 8016.790847920239),\n (1265796.1859495384, 9252.466290578059),\n (1011943.0462045772, 5435.823515301649),\n (1005105.2639112879, 7502.446974624519),\n (1417918.6969965969, 10916.70477600802),\n (1237717.3227089646, 7386.33580657185),\n (1234260.767778219, 7181.468439218784),\n (1449639.0996919593, 11086.519857482826),\n (1228925.897370364, 8945.278700305276),\n (1418601.0611837122, 9558.747588735145),\n (1174633.3880170102, 9036.252668387522),\n (1231656.4428031028, 7482.6854734273065),\n (1068546.155292305, 8551.139356906478),\n (769542.1918080157, 5811.335339573624),\n (1284534.035815309, 9315.75534524714),\n (1468709.0249592795, 11332.59675744904),\n (1257960.572555257, 7576.5916743706875),\n (1001986.6408638043, 6396.4276076713295),\n (1068840.9230069425, 7123.7464501233235),\n (1401429.8471929317, 8411.062793896068),\n (1350282.5308149636, 10001.302443644396),\n (1297366.215735284, 11679.06052903243),\n (1089822.5343680375, 7822.1191361315105),\n (1408233.1875202209, 10871.325738762844),\n (1335527.553765688, 10897.435081138201),\n (989424.8080451958, 7186.793887195759),\n (1340666.965995533, 8678.05279891092),\n (1176970.8842026098, 7328.230237626477),\n (1376669.054489875, 9750.453854468986),\n (799819.4929093563, 4978.725127651907),\n (1448252.767684726, 8310.320734419474),\n (1262822.5198844543, 7857.355871839644),\n (1400878.9529936982, 10248.946669883573),\n (912210.1617108817, 7862.171907221201),\n (983723.04002624, 6129.201779562204),\n (957291.8871418299, 6490.462358832302),\n (1206387.8167822459, 10496.823392855125),\n (1218945.2619888831, 8633.207287175102),\n (1123586.0880853909, 7317.346453794132),\n (1211550.053634414, 7922.598350033071),\n (1293834.4709419073, 10104.807981635107),\n (832711.4614039987, 5186.905419701439),\n (1263792.7373339643, 9651.788176374263),\n (1267736.6820085116, 8124.931251376941),\n (1386492.689477285, 8620.437484634222),\n (1240450.8898736208, 7848.206452990391),\n (1199919.5438852904, 10358.490273754318),\n (1111576.3228987867, 10844.051346863998),\n (1139952.3875214125, 10015.553489572352),\n (1356522.5172779486, 9229.530578522896),\n (1025284.6014507515, 8363.621394585674),\n (692612.3563870509, 6518.044509309977),\n (941661.9617261394, 7596.684690408993),\n (909483.7166626161, 6328.926569069841),\n (1446715.066428945, 10694.342036493766),\n (1379425.9845908084, 12145.018845700304),\n (931241.5207061261, 6631.430828188578),\n (1267940.3107680334, 7192.915118851558),\n (1243820.737093609, 9151.24141117238),\n (961096.0531566667, 8150.239392084362),\n (1150350.8632148437, 8906.157181985645),\n (1443655.51300839, 11075.867322164591),\n (1245867.3766783539, 10560.47023864316),\n (1437844.7240317706, 9389.98233054111),\n (929476.5430782565, 6324.340548412764),\n (1180160.9721691767, 9607.72194077965),\n (1046849.0259577321, 6336.0492051678075),\n (1379246.2081394922, 10066.516029171742),\n (760282.7604880803, 4956.606409019746),\n (1408358.3758276997, 10364.307634163184),\n (1395849.8718130952, 8349.369146534627),\n (647357.976973749, 5666.63857889431),\n (1256944.2611776043, 8624.327411996384),\n (1153366.9013615898, 8522.664302812735),\n (543984.5380718984, 4115.372452857409),\n (1065810.002212153, 8768.394160926438),\n (1265106.6242126026, 8972.543233784194),\n (1376374.5597127725, 8751.606997396806),\n (1359139.9621456505, 9466.05334745711),\n (1141304.1249154157, 8692.780617695884),\n (1011246.6933958767, 7242.089437219953),\n (1408892.9873604688, 9625.676252370607),\n (1217197.1642799145, 8995.198344583801),\n (1447067.5986656973, 9512.631629244843),\n (1368799.0790384498, 9304.22803423449),\n (1231952.8564365474, 9182.22324934637),\n (1290396.7574471622, 7947.167637464587),\n (1429796.1770909894, 9615.983245430643),\n (1083625.118361648, 9668.038723124826),\n (1375792.8412331217, 9161.714533525797),\n (1257960.572555257, 10701.935740048551),\n (1284870.8680364212, 7807.260474223067),\n (1408204.5879974857, 9197.85699204076),\n (926755.5358566355, 6297.208445987992),\n (1270564.331989557, 10029.739078502871),\n (1168292.1578110978, 8328.873870721603),\n (1258705.3131213174, 8099.260490731598),\n (1091871.2531654804, 6678.8677001458855),\n (1397481.290719289, 10524.498122786714),\n (1065927.4628250122, 6307.527372356992),\n (1401928.625649377, 9292.11788639052),\n (1422761.4694751096, 8702.763636671287),\n (1239576.2327871083, 8586.023765777181),\n (1380808.7740628324, 7419.429010934056),\n (1273884.6539909942, 6907.45922595164),\n (1435238.0101560934, 10750.057966036245),\n (1150956.5201735198, 6008.6357504736025),\n (1244721.023003525, 9597.186455624265),\n (1248301.3028939622, 8621.107879534222),\n (1452560.817763991, 13609.34132937668),\n (1316289.7367506023, 7887.336258108223),\n (1391671.8733635794, 10931.24903362386),\n (981591.9797338748, 8920.18357460578),\n (1411790.2294447133, 10369.399941546788),\n (659619.7566650952, 3819.6461537668647),\n (1448532.3345147928, 10037.788031991837),\n (1276209.8048053596, 7257.081198488263),\n (1396673.1763809884, 13142.101760583932),\n (1371832.3208578394, 7369.780049947908),\n (1138644.5903504693, 8420.882495769296),\n (1087328.3821281223, 7747.470960230402),\n (1434601.1470444067, 9424.557307289757),\n (635855.9972430713, 4283.836624953837),\n (1405925.8501690372, 7612.2742222088655),\n (1464111.9241365597, 12830.072436696004),\n (1230421.1434956954, 10135.43573062947),\n (929884.3670665966, 6788.695019455027),\n (1294613.7032804422, 11738.800320765791),\n (1428866.8986961057, 7421.0149189199865),\n (1268590.3332863252, 9280.478175806444),\n (1041373.8639942793, 8420.944905281156),\n (1474266.748271374, 10238.941229513037),\n (682351.581391894, 5541.1624728197),\n (1306058.2420698458, 7597.653365678687),\n (907604.1304130757, 6846.484162202131),\n (1086824.2459500702, 7921.7783408799105),\n (1272532.9254340234, 8179.214525628352),\n (1257879.6670731406, 6877.492293126076),\n (1049496.415683211, 8187.154292529386),\n (1360031.57700573, 11297.599996960811),\n (1435795.2590227092, 12271.214617493366),\n (1231686.1836661254, 7883.642623783249),\n (932972.0415499447, 6857.179125224214),\n (1259578.3924665158, 8438.68587592595),\n (721186.3052423301, 6336.542797122788),\n (1245515.625688862, 9820.401102156055),\n (1408896.5935409274, 9063.08130804595),\n (1296500.536317877, 10376.107783375586),\n (1301558.4708580244, 10434.831391028503),\n (1069203.3963144664, 6845.258340383991),\n (829775.3446619291, 7623.20171211468),\n (1027195.8343073752, 7098.373773102845),\n (810091.1411491192, 5301.57300225376),\n (1461982.3751711133, 9989.313272914897),\n (1316005.4718296404, 8807.266695651886),\n (790455.9105903896, 6877.600216972875),\n (1299028.9681425865, 6883.163040400849),\n (576043.7589811957, 4879.351808091725),\n (1411137.5444619295, 10348.2460802374),\n (1408564.9513747308, 8330.652562619141),\n (1155905.1094949774, 8440.62692810767),\n (1293451.295858562, 7570.485716291126),\n (1179174.7311369984, 8067.2770924973365),\n (1277362.5334402306, 7844.772961973543),\n (1135370.5633012943, 6654.812812186282),\n (920890.998822223, 6623.992762776096),\n (1296470.22621126, 11137.497494223027),\n (1439313.5538593582, 9714.218108504101),\n (1059929.759455113, 7859.90676924986),\n (1102637.0568671278, 5844.964793891659),\n (1358777.2803882859, 8682.505672763362),\n (1445212.486963192, 9674.822445245965),\n (1306011.1984624523, 8673.158426598438),\n (845874.6367818245, 5267.298820596652),\n (1380316.3470074695, 8694.754038608226),\n (1443997.050567625, 8826.604823914678),\n (1338151.5681780872, 9214.609561890367),\n (979603.0088875277, 9057.525674759368),\n (1265581.3955093562, 9082.341795343607),\n (1316289.7367506023, 9707.490779210162),\n (1219782.0351040482, 10060.082684369974),\n (1328982.381916536, 7433.648038548757),\n (1007707.5592137296, 7016.108254894636),\n (1056856.042596515, 10144.686985869024),\n (1035028.6176697596, 7626.757163123654),\n (1151868.477912102, 8202.018742003414),\n (1397283.6248836073, 8891.973772691548),\n (1255534.481327711, 6528.443078593779),\n (948928.3813933268, 8415.887898257437),\n (842294.845946276, 5604.318949845608),\n (1259104.4343192545, 7310.533477157932),\n (1021416.5318866499, 7142.267954619022),\n (1056346.5683990065, 6897.477366891921),\n (1261742.2729078035, 7690.758976820486),\n (1208595.3708075127, 8032.879760392333),\n (1192316.99952203, 6220.636422565943),\n (1310848.766691427, 9030.543549709037),\n (937468.93089299, 5786.730576758915),\n (1460822.3755068665, 8220.09009319),\n (1366887.2440137556, 8173.817819574127),\n (642001.1764375832, 4120.302519229943),\n (1124878.1551509802, 6239.959880385069),\n (1273549.2860205693, 8271.760859096697),\n (1145273.6332345325, 9828.510788610498),\n (1438100.5096673397, 7602.399112652069),\n (711671.9277417898, 4848.79038211269),\n (1434130.950791446, 9122.661058786805),\n (1043484.3113127105, 7143.160299927248),\n (1425909.1325316615, 9671.091292187344),\n (1253600.4756689093, 7764.698362813532),\n (1430092.358931551, 9885.129260840939),\n (907465.1391647583, 8521.554597463708),\n (1445419.2573231685, 8071.44719117765),\n (1060634.331387089, 6270.8720049855265),\n (922819.5952785085, 6825.124919654384),\n (1502674.1796982412, 12294.158073758457),\n (1094872.0298224653, 6559.207986276925),\n (1087877.4060366498, 6806.15762750417),\n (1368977.047673174, 7788.6731028959775),\n (1352188.5916577915, 8693.878561500622),\n (1390671.6349788934, 8072.444387879784),\n (1173401.1417312524, 6436.056223389756),\n (770121.1597614301, 4486.173891757373),\n (1429705.3799249544, 11319.323107607514),\n (1268174.449488229, 7637.971614403446),\n (1414961.8250872002, 7636.945813133819),\n (1319903.886775229, 9820.28733941454),\n (1231199.582310439, 8500.967286777612),\n (741025.0129083688, 6006.090693211399),\n (1443941.0783849536, 11886.44823472099),\n (1014191.8417451882, 7652.565872888003),\n (1056010.7311887266, 8520.444443365786),\n (1124470.5809206646, 7279.873886316189),\n (1354631.301667507, 7818.748317183458),\n (915830.2554695535, 7893.321681299928),\n (1257139.1972987284, 8452.574167531413),\n (1172963.7979576874, 7833.399658895108),\n (943791.4278566731, 5419.3917714097015),\n (1361419.6235865857, 8947.750028856906),\n (1302465.5507010273, 9726.85678952282),\n (885124.9985263401, 6816.386726047096),\n (1284899.539048661, 8492.600530194537),\n (1157366.5852969333, 7512.083574439317),\n (1244941.618409269, 9228.544413830678),\n (1088443.6731196695, 7939.244966843969),\n (1370554.2881799105, 9767.525932374507),\n (1443824.709462793, 8548.985616539496),\n (1283944.9200716182, 6966.780676405679),\n (1410352.1096338818, 10435.602552188375),\n (1430781.0971095355, 10500.464217519015),\n (682093.7331251084, 4686.035622059478),\n (969048.6590867419, 5879.894576129627),\n (1386074.7490916958, 9837.558305421444),\n (1441363.4583524633, 10260.091327173854),\n (925870.5989987986, 8530.757272014933),\n (1337496.1051224652, 11505.404331129832),\n (1409604.432173404, 8961.911242677066),\n (1478835.1990922377, 11196.100343135431),\n (898801.528506433, 6701.165967472839),\n (1403055.0306158336, 12178.63146309371),\n (1102967.0474009193, 8491.63377841154),\n (1087328.3821281223, 7747.470960230402),\n (1253863.211819339, 9726.882363946665),\n (1267821.1914478012, 10405.63148029081),\n (1392219.952069945, 9490.791651587484),\n (1367634.1890955402, 10894.66830321898),\n (1114393.0854224395, 10386.29740763915),\n (1401230.02562959, 9686.116424097641),\n (1385980.0271345293, 8917.00440441623),\n (936791.2404525022, 8703.153365148528),\n (1374453.067651085, 9610.432005641798),\n (1016170.8059240695, 6064.496964481705),\n (1166514.115558427, 8614.180440313103),\n (1108659.4325197784, 7841.057012472645),\n (1151579.9520783066, 7160.800631129294),\n (1354631.301667507, 7463.350666402442),\n (1162093.8356354686, 7294.352256356871),\n (1314559.9820712984, 7450.50145816229),\n (1324547.8509938277, 7833.8781759848),\n (1345803.2821608463, 7777.614506138321),\n (1210679.391920625, 8974.817891417273),\n (1235558.9479237143, 8220.708563183094),\n (829923.3129311575, 4633.7884286910785),\n (1408389.9533156266, 10762.725408981407),\n (1324016.7805912422, 11939.55189457375),\n (1110223.5898076296, 7639.689841736461),\n (1117838.1560725723, 8868.692373806323),\n (797790.0617351253, 5138.136238018459),\n (1071986.559230464, 8778.104725920948),\n (1314583.6889551145, 7516.8776305256115),\n (1207661.4543538662, 8911.57002726448),\n (1300435.4277558369, 8385.321095257343),\n (1207525.538006981, 9020.935729673387),\n (1375728.1559626688, 9784.152825088477),\n (1253889.1576978955, 8586.812265364284),\n (1177248.0181821145, 8757.435341324997),\n (1371753.40825158, 8665.91972700467),\n (1060121.2950446815, 7107.499248584985),\n (1338509.5935577436, 11993.86257532939),\n (1224583.9713196156, 7517.644926819058),\n (1498519.5876458418, 9901.976098902118),\n (1203704.8409653062, 6267.947869928962),\n (1255529.2037659078, 7831.052446852766),\n (1060545.669946064, 6819.6623895772345),\n (1312076.2880465977, 9705.94911555962),\n (1496722.7501764202, 9614.600740203252),\n (1253286.9042670787, 11353.094888392656),\n (1052145.185380984, 6839.043078901739),\n (1154178.0710589972, 6906.330897442985),\n (1453308.171962294, 9794.47213726028),\n (1190035.7562816544, 8611.636610961365),\n (1212092.9786399347, 10133.2922538369),\n (1375102.779701185, 8531.080351973165),\n (909690.0631499852, 5815.042460316578),\n (1270597.367088167, 10125.025350490645),\n (1307554.565969762, 7094.173045533354),\n (1094958.2775930653, 7036.831230093852),\n (1279538.8487854765, 8780.561479526717),\n (1311779.8041815704, 8698.916515979583),\n (1249050.6729861249, 9831.209408420935),\n (1096794.165649891, 9160.014737974321),\n (1357375.0928770038, 10653.581446338312),\n (1162093.8356354686, 6847.759261069718),\n (978612.1596580639, 6659.002543167551),\n (1247801.0844091238, 8147.543845491319),\n (966975.9589468613, 8545.03631505944),\n (961072.0239587189, 7599.133789342722),\n (1119689.970836908, 6207.849723984147),\n (1348903.961909964, 7321.370875735726),\n (1005105.2639112879, 10003.262632832695),\n (618048.8072510001, 4982.016985617099),\n (1431210.7613498175, 8959.167582816364),\n (898139.3547960934, 6061.6170673658),\n (1079421.6163139117, 6236.922462401423),\n (1346195.0591035362, 11339.288092896388),\n (923096.9649288377, 7794.961389471953),\n (1211350.8457859328, 6753.339758480169),\n (1079573.877018845, 9105.341217563631),\n (1224477.6773621072, 9795.329911186744),\n (1241604.6656339616, 9264.320346696146),\n (1297366.215735284, 12299.187636768593),\n (1427522.8465931606, 11481.9436650327),\n (1398567.7806762576, 9610.192126631875),\n (1405925.8501690372, 9491.848104235765),\n (943553.1433186505, 7504.159227267189),\n (1371309.3167954187, 9102.217315479817),\n (1173021.3445763264, 7756.653104920284),\n (1436211.9723599704, 10721.451015360628),\n (1067237.8341444419, 6057.8834600627715),\n (832978.6451041242, 7406.613827344971),\n (931355.4103059773, 6077.6043250717485),\n (652191.8191471589, 4187.6659401225215),\n (750644.6138154095, 5642.79535473482),\n (999289.0012532544, 7162.055119082153),\n (1246143.3158539555, 7107.874886215289),\n (1172433.328107935, 6989.666728673843),\n (1448491.1888486675, 9850.396949350967),\n (1437824.7427889819, 9203.882742825095),\n (1452707.7103422764, 9717.142038760923),\n (1214321.8443956717, 7020.017522040563),\n (1052102.3622802487, 5386.317421466149),\n (1089978.326106175, 7613.701077723753),\n (748519.2898540081, 5958.03175573576),\n (1458500.0119207012, 11130.691802263293),\n (1362152.0755017071, 7806.439739157759),\n (1323437.9294453145, 8197.43445900704),\n (1413860.0658123335, 10124.362924753961),\n (1259418.8109622041, 7837.7958799846165),\n (970898.593706005, 6392.458313188936),\n (985211.3995991738, 5812.341217973131),\n (1343837.9448808148, 8634.789995481624),\n (953832.2748555456, 7157.52852186271),\n (1425503.0294684183, 10285.239402485033),\n (1345030.7295244841, 8133.515620370751),\n (1432009.5614124883, 9523.728013252281),\n (1222412.3399283125, 7954.514325915025),\n (931241.5207061261, 5257.350566491849),\n (825943.6443643569, 6567.234488114543),\n (1102134.2687489197, 6438.216380919333),\n (1368892.23944352, 9896.249694629647),\n (1215240.0008834042, 10137.432099780186),\n (1134145.8135709744, 8550.867729384106),\n (1356522.5172779486, 7831.116854504281),\n (1154613.9376066367, 8614.017899204047),\n (1223735.7025969417, 7864.028720447013),\n (1238087.1514256946, 9722.710021965906),\n (1362502.5847004096, 8140.651702291871),\n (1184363.331225183, 6692.781380114833),\n (1255529.2037659078, 10171.366971199572),\n (1312076.2880465977, 11815.938053724722),\n (1386114.3050596933, 10432.58455047585),\n (1208520.6986843264, 8743.282902474797),\n (1253286.9042670787, 10974.658392112915),\n (1074348.192552306, 6221.741134206445),\n (1137948.6996386556, 9364.388235872198),\n (1372014.7381762252, 11085.216350306448),\n (1373692.288354801, 9882.782065402118),\n (908166.0526788922, 7526.984791670809),\n (1326121.3889224513, 8712.308297071986),\n (1238077.0854119943, 6680.954999849145),\n (1319707.6839195497, 11322.871805710676),\n (1157552.2930291183, 7020.832666089523),\n (1222950.5093167883, 10478.565585617802),\n (1222193.6215049752, 8228.416680732556),\n (1419749.5693826675, 9430.62517370144),\n (1386712.091452476, 8973.039111221278),\n (1080807.9969893468, 6916.555976805197),\n (982889.1948839009, 6860.647884226054),\n (837419.2823971482, 7724.535178096101),\n (1391701.8552818205, 8879.929049837734),\n (1450038.405437967, 11787.13159374544),\n (847664.1329518517, 5462.029694997152),\n (1307944.9994012937, 6918.5615565458775),\n (1440126.464433571, 9938.714404136474),\n (1181478.438989823, 6844.201146241946),\n (1078696.9685476718, 7058.244665928046),\n (1373015.0691934768, 8985.637582196116),\n (1178767.7590033181, 7951.038046273539),\n (1262671.3651871986, 10068.668218562243),\n (1136640.9475619893, 5801.817854387995),\n (1158725.923928596, 7417.592586766851),\n (1014771.156782072, 7556.25609093923),\n (1273308.577511629, 7666.273490805886),\n (1368077.627999192, 7768.901335440226),\n (1194122.306031245, 7489.216558048382),\n (1391373.0929480407, 9798.058417768038),\n (1363926.2817137528, 10594.018549964398),\n (793651.2696568057, 6370.547185172871),\n (850861.145214536, 5526.683207213427),\n (1192930.5446882516, 7955.814338480627),\n (1290757.106307132, 9292.374713225812),\n (1060545.669946064, 7824.665268041242),\n (1190279.1806000131, 8382.029708035374),\n (1166018.4341512015, 6433.870322635925),\n (1364830.9328059773, 11479.76093490652),\n (559597.095294873, 4302.812748016799),\n (983663.0627964925, 9521.016003140585),\n (1426080.10063301, 8540.467981685308),\n (859586.1155544169, 4772.778136755135),\n (1108998.6067184794, 7573.468536625473),\n (1327674.125729868, 8458.022812686855),\n (1137948.6996386556, 7263.9647063307475),\n (1143028.3037655798, 8383.83476514007),\n (1143143.855665118, 5960.886087191469),\n (918073.4380711277, 5584.391517325221),\n (1352212.6937036982, 8733.590731061759),\n (1122233.7309794752, 5848.666660301376),\n (1274151.8545546057, 9731.13484036802),\n (1302384.2257432404, 9384.434710279735),\n (1473678.757487665, 8752.663124068695),\n (943637.6570875407, 5020.886614228071),\n (1408857.2031695384, 9915.332415966346),\n (1160705.187262285, 7469.591356074366),\n (974064.5420332425, 5353.650262758895),\n (1439418.1421161084, 7382.98749971198),\n (1100016.0537601514, 7702.074872197489),\n (1263254.3960347846, 8444.220136921207),\n (764170.3486904762, 5504.443994518003),\n (1018763.3704437851, 7604.717326653581),\n (1393027.6420986543, 10405.963698807496),\n (1368802.6195316114, 8498.125122888192),\n (963017.0151890088, 5993.615681427399),\n (1154813.2579294064, 7639.457526513611),\n (1022865.776186397, 7302.154021096799),\n (1092840.60780898, 6832.844933646701),\n (1162864.4780459662, 7911.741745101671),\n (1263880.253853997, 7426.354017516427),\n (1091871.2531654804, 6747.722006332935),\n (866558.276531713, 5977.046441081152),\n (1480425.2190481704, 10395.5566308791),\n (1208687.011524655, 10120.498820545014),\n (878275.369512467, 6860.335124274526),\n (669350.0584044211, 5234.852921834766),\n (1154813.2579294064, 6684.525335699406),\n (1398381.6317158781, 8939.923703170754),\n (1171021.4605668024, 6768.455720004644),\n (1107961.9148290076, 6279.710837062738),\n (996975.1139366669, 6300.164436084001),\n (1379587.436183192, 10473.28362193436),\n (1259139.3528569099, 8702.5516892899),\n (1312293.4199395913, 8940.604981742355),\n (1454597.0752769497, 12214.723967922224),\n (1284483.3196798465, 9076.39875335029),\n (1131166.4242051647, 7583.13333321168),\n (1220860.6742226984, 9375.984645654016),\n (1380196.798744994, 10345.854316089597),\n (1154180.4562351143, 6787.347755425436),\n (556142.4298791979, 4923.087295661259),\n (1391276.8174028818, 10027.323481326734),\n (1498729.2854627469, 10842.888262231154),\n (1365383.5139217982, 9810.260089505668),\n (1033106.4302477408, 8011.905928073428),\n (782519.9454077991, 5651.092679136452),\n (1047567.8874796405, 5779.930444991428),\n (1007208.404094122, 6200.431329646041),\n (1122299.6052865575, 8092.8686468609485),\n (1219840.4519312638, 7873.653622785781),\n (730027.6965107622, 6653.963540714922),\n (893405.3310082016, 6781.557245215332),\n (1401989.8265851815, 11005.261465286714),\n (1229476.5309798678, 10046.847869892405),\n (728143.8004379724, 4535.594180679315),\n (1424794.447150968, 9898.16972127301),\n (1395482.5239753725, 10025.9933205713),\n (1101194.9339866685, 8148.085426778812),\n (1456376.9392422275, 9396.511576578921),\n (1476139.9389226614, 10640.655626149986),\n (1446354.3785177201, 9141.31017470599),\n (1418957.5672709704, 10988.26839182494),\n (1191890.3904714733, 7018.791669469767),\n (1452346.7003490103, 10303.507812290547),\n (1234846.811851058, 6934.675360776172),\n (1319311.2587612793, 8968.966619159923),\n (974400.8656522238, 6218.157437632585),\n (919974.9689242797, 5006.286538232968),\n (1039869.8663248266, 7292.837292553807),\n (1457218.5600698069, 10474.238099614517),\n (1241557.4435325735, 8322.519087484145),\n (1259139.3528569099, 7705.384308225427),\n (1445668.0500904156, 10006.340148255598),\n (1393332.2950644551, 8090.630507387823),\n (928687.992064221, 6153.493691533074),\n (805339.6623306539, 6451.17847624586),\n (1187283.6918613764, 7366.304753602178),\n (965145.8387870991, 8423.321489399543),\n (1141283.224511758, 6954.042388781357),\n (1219949.3438099066, 8261.466341548026),\n (1425591.6978826511, 11580.363682198082),\n (1040537.364291238, 6168.340355552965),\n (1248684.4206923253, 10819.753541538985),\n (969667.095262163, 5763.242665442685),\n (763988.368227159, 5991.080872626199),\n (1329144.14446353, 7856.274080038569),\n (1458452.3356999722, 11918.659164652623),\n (777513.8523487799, 5248.096514275104),\n (1224031.4208313068, 9932.093395988517),\n (1240034.1674107688, 8030.5681890760825),\n (1303060.813014793, 7230.816180994128),\n (1202693.3797216392, 8499.773316775743),\n (1122299.6052865575, 8648.261593214154),\n (1460608.806814456, 11162.791849511066),\n (1434967.248064455, 11148.05176170793),\n (830788.8305887112, 6063.341449877479),\n (1457913.078463195, 9841.866566068187),\n (1278518.7660496407, 8428.384909104643),\n (1254385.4830854186, 8817.740363205445),\n (1361548.6205717025, 8143.881392981896),\n (522328.02113542485, 4442.615087840664),\n (1455722.4798875356, 9966.276421700682),\n (1349425.9162813472, 8293.704815466843),\n (1257357.0221161596, 8907.555603589444),\n (1068242.81569959, 7425.106170269416),\n (1373692.288354801, 10763.426011824096),\n (1452162.6859382153, 8243.325623542882),\n (1148434.7157981643, 6442.572102161761),\n (988108.8659567613, 7524.47037654574),\n (1408358.3758276997, 7845.877741749667),\n (1444734.5433797042, 10965.74246719549),\n (1277186.1457020673, 8870.727854296629),\n (1165894.3002889908, 6870.016778420464),\n (1071089.0059499515, 7699.5542370065),\n (987613.6491861366, 7692.71873854571),\n (1086090.9915879345, 6337.925546879921),\n (1082674.871607613, 8145.610763963675),\n (949942.0895081207, 5464.96727058235),\n (1219782.0351040482, 9806.467154511958),\n (1342562.419989479, 9253.49881532653),\n (967215.4909183255, 7533.425416211256),\n (1253844.8575731006, 8218.458451252774),\n (1383057.4968254673, 8907.048095874528),\n (1221547.7331815718, 10170.559849848405),\n (1033494.2790863392, 5838.6266092357055),\n (1148753.4448502276, 8994.394647351843),\n (1391798.4565665158, 9496.160653055027),\n (971355.8472304106, 5832.620611056778),\n (1078785.2281273329, 7169.301259681731),\n (1345030.7295244841, 9760.218744444906),\n (1123887.9663924137, 6815.152136288537),\n (1061949.2564840596, 7064.863893306278),\n (1099387.8259617568, 6884.75429279299),\n (1036525.2960498901, 9605.969160460285),\n (675424.5125616337, 3822.3988679823387),\n (1450214.8988192922, 9947.205992733527),\n (881265.4081287964, 6029.806330204568),\n (1404314.091190001, 9227.872796541393),\n (853211.7445033124, 5982.947167126901),\n (1470629.8917861015, 10380.611929450819),\n (831931.7059197135, 7038.584738767936),\n (1489268.0236317138, 8528.76162332224),\n (1196301.7204730257, 7731.6804653192685),\n (1209559.66529639, 11669.824772982625),\n (868570.6336100899, 6590.007554740866),\n (853077.8221857274, 4986.045827102751),\n (819837.093751099, 7432.826217364757),\n (1224978.0732384399, 8803.11341823141),\n (883038.9306184337, 6252.147625591633),\n (1104293.8712055183, 8075.600504997009),\n (631033.2970663346, 4164.387440156164),\n (1342913.7195786557, 10964.193656771515),\n (1490162.4716276731, 10156.846576935422),\n (1250116.5847484195, 7098.857455793083),\n (924157.889263354, 8094.7355151463835),\n (1045726.3823565652, 9487.893374122652),\n (1097952.9867954662, 8716.00358667726),\n (1384697.838150904, 11524.259715481785),\n (1155320.2910013876, 8631.914285256944),\n (754188.3296785658, 5442.219440247382),\n (1113515.2417594274, 7616.371579989376),\n (1352022.1828414714, 9397.727715670295),\n (1174250.212337563, 10102.283184894191),\n (1349054.4420885125, 7133.938670898734),\n (1377953.078617113, 9724.980194088912),\n (1304094.4553394131, 10082.813643487581),\n (1108998.6067184794, 8306.384846621526),\n (1236213.5298120296, 6434.342034785677),\n (1288945.654535212, 10940.066978086294),\n (1080869.4205710322, 6729.299156388614),\n (1181694.6462280243, 7519.395604427543),\n (898801.528506433, 6475.283968569231),\n (1410582.9633671874, 8788.641406912358),\n (1181478.438989823, 7256.502420111944),\n (1470838.2639309298, 8285.786982051304),\n (1085742.2426126397, 7475.894992165071),\n (1366729.4830824006, 9796.655118111721),\n (1412329.3138360044, 9636.685524986735),\n (1030568.9019949217, 7861.43963244213),\n (983306.1660249897, 6449.22683265356),\n (1425909.1325316615, 11357.90954082468),\n (1224747.8721609744, 6377.216339406168),\n (1203822.5077712822, 6727.922876432562),\n (1395532.8070770344, 10198.781818632815),\n (787385.3861376517, 5051.292164261923),\n (1250850.9138926906, 7072.677073580731),\n (1031465.071765587, 5968.023801429016),\n (1367462.1447449035, 8967.089182267675),\n (1469761.187978333, 8786.097509619207),\n (670904.2561765928, 4367.557085604599),\n (1370542.9593519627, 8191.820041869299),\n (1241604.6656339616, 9346.305482507629),\n (1305051.1866103539, 8412.96194297371),\n (882381.4198463112, 6632.956169573115),\n (712180.2096160535, 4527.335830245656),\n (1129221.1541153498, 8629.596955422063),\n (1419407.640850043, 7980.070565948929),\n (1448728.7116825879, 10132.701541425131),\n (1431014.3659224801, 10451.018017028782),\n (1219365.133310039, 7351.21652717441),\n (1067379.3628259022, 10047.315819377787),\n (986283.11658068, 6570.682266846672),\n (1305575.0169037438, 9089.20625385679),\n (1268643.486527345, 9131.534581699812),\n (1240663.2085060216, 7337.394524251998),\n (1374188.8909832737, 7015.228232910755),\n (1122006.3939936496, 10256.16280952957),\n (933435.3472304996, 7147.544441773706),\n (1404230.3261666151, 10875.203649581572),\n (1077153.5964436117, 7637.6166645977455),\n (1408896.5935409274, 9168.465974418546),\n (1470684.9251116242, 8397.66121613282),\n (1371128.83675565, 11282.905354838318),\n (1146554.4110980444, 6555.093016114885),\n (1390281.2851884048, 9394.251580537488),\n (981312.0701334006, 7312.069131703144),\n (883276.9200516278, 6950.519807227367),\n (1047318.4718502729, 9309.310452862635),\n (1138581.298632281, 6582.191475696435),\n (915173.1853936675, 6905.642858398786),\n (1449639.0996919593, 11839.972663331244),\n (1484942.8299415582, 11353.95923948643),\n (1260279.9968438193, 10444.852743777381),\n (1198492.7196980275, 10332.308253236426),\n (1307964.323891574, 8723.113166935947),\n (1080485.2222003096, 6298.5345657041435),\n (1399902.8338323343, 8367.064183877737),\n (1099387.8259617568, 5772.066730321364),\n (1268334.5509951173, 7118.794778713596),\n (1434861.4475761247, 9426.83335079448),\n (1342913.7195786557, 11389.987585189783),\n (1092842.3635114722, 9184.402479801007),\n (934185.8144737419, 5909.538260702928),\n (980773.2142603622, 5819.765099934245),\n (1059110.3301078044, 8595.611362574227),\n (1323785.9975415699, 8982.705167013137),\n (1072753.742324862, 6251.596045520828),\n (1468465.048619993, 9431.438161947783),\n (1301388.8473930021, 8699.799643855007),\n (1205262.1093220694, 8182.262389733385),\n (1070408.4302689726, 8079.802182396547),\n (677521.7182669141, 4852.863824661227),\n (1273385.4580034898, 7143.2863490567825),\n (776832.1559506535, 6455.514791945305),\n (993964.3651312015, 6988.011567037086),\n (1020147.5307384214, 7919.618157231037),\n (1456606.6381594937, 9659.989787655952),\n (1389030.0549006322, 9553.488103328826),\n (991142.6823974509, 7009.947775045895),\n (1369852.435192656, 9746.476726216591),\n (1067379.3628259022, 9527.62707009962),\n (1308621.944794329, 11618.680440298127),\n (1160585.868610098, 8066.129415353053),\n (1428336.4023124573, 10586.685895590364),\n (1329747.463725435, 9406.392108116825),\n (1261312.5591963488, 7060.893528886945),\n (1047319.1695913422, 7432.92645724076),\n (1395753.3376336282, 9285.374711454573),\n (912249.2927578867, 5866.438977698439),\n (936468.2284953153, 8123.941786709208),\n (601688.7135810753, 4835.747298590474),\n (1047574.9089702303, 5542.064199139085),\n (816415.8237524787, 5383.089584141346),\n (1246850.129060592, 8780.243422205915),\n (1057519.7002167602, 7329.20672833001),\n (1092842.3635114722, 10165.260997061292),\n (1408857.2031695384, 10456.168729564537),\n (1111576.3228987867, 10663.317157749587),\n (595174.8190443431, 3945.997174427224),\n (1345106.1352155032, 9707.283219701845),\n (887991.1892068131, 7435.964809910813),\n (1398690.8856447174, 10348.338208257948),\n (1242169.6306690536, 10855.564810322658),\n (1417102.718449216, 10944.049877643603),\n (977597.1033708784, 5454.806893774478),\n (814347.7802790686, 5066.830553047458),\n (794494.6116215318, 5311.858936107602),\n (1402648.9506643692, 11147.215216224575),\n (1401928.625649377, 8770.088791649445),\n (1466273.8768760844, 8839.339975440764),\n (1318535.1214956536, 10866.213037677226),\n (1122422.1911321622, 8249.01956032813),\n (1417910.1961440314, 11278.848739324081),\n (541601.4901416139, 4107.025185106639),\n (1329205.4801888608, 9220.277150826714),\n (1238033.1231481696, 7808.645819478724),\n (1399812.5366834074, 8985.714750478179),\n (1358361.275942464, 9975.745166127617),\n (1314583.6889551145, 7788.572002713342),\n (1402135.6767952556, 9880.954145838668),\n (1380864.7488449637, 10269.063869411075),\n (1269219.4074776475, 9272.062301151784),\n (642001.1764375832, 5195.164045985631),\n (1044636.7942366082, 7403.692287229746),\n (1203772.3375366034, 8645.530472642282),\n (1265059.016152791, 10446.443805932824),\n (839107.1493859211, 5274.357945119203),\n (853034.2762876552, 6493.9610656862105),\n (1381921.3473043141, 11509.114211941387),\n (941834.3184829424, 7374.428302376448),\n (1404037.9928009002, 9584.249889618315),\n (1362754.1673501881, 10597.23413881832),\n (1413048.962292276, 10411.62143121803),\n (834510.9090010142, 6094.136234977914),\n (1342878.952972179, 11900.478602460944),\n (1128945.8790514818, 8821.629474227264),\n (1316522.0324478208, 8934.079363558061),\n (1415217.3764528155, 10951.512006879397),\n (1299505.6369916718, 9314.142569385847),\n (961314.3860958992, 7194.938143895939),\n (1071089.0059499515, 7134.449338877607),\n (1133661.0794670999, 9122.750718220628),\n (1295382.1810147183, 9594.958564390428),\n (1109878.888182282, 6152.770142011911),\n (1186537.9752345297, 7786.777786747877),\n (1439313.5538593582, 8780.158674994062),\n (1300543.6323570171, 8194.54777974572),\n (1201989.8599662164, 7740.969021100539),\n (1183552.3026343465, 8273.531470413549),\n (1178832.4618263731, 8117.232326712136),\n (1334280.6695890245, 8468.342466483919),\n (1364679.2488986352, 10413.11400372383),\n (1125946.204301136, 9009.73673114417),\n (1304094.4553394131, 10176.173029075431),\n (1076730.4752683728, 6578.985797993476),\n (560699.712981441, 4424.213767533093),\n (1205440.3614676488, 6355.180508696221),\n (1126009.9774283753, 8822.286268327232),\n (1408233.1875202209, 9226.923526176848),\n (972342.0653446128, 6996.380047355493),\n (1262142.9445038803, 10470.794589351624),\n (1213360.16571961, 6516.046270333209),\n (1176849.4499370004, 8814.51910541969),\n (892714.9230881056, 7904.6617988138005),\n (1323704.7773596272, 7983.92002917306),\n (1379425.9845908084, 11527.47551456298),\n (1056875.94043001, 8068.002545165932),\n (1467676.0476138992, 10280.202371547639),\n (1416571.9169543781, 9406.28676484092),\n (963805.9388902849, 6961.280591902937),\n (1003865.4113129752, 7231.866563338079),\n (1342632.7021323673, 9093.151189880624),\n (1459620.577064259, 9119.926392190999),\n (1189873.308993616, 8004.681304952179),\n (931241.5207061261, 6750.916068336121),\n (955977.6382686986, 6485.838493428469),\n (832978.6451041242, 7274.352866142353),\n (1436211.9723599704, 10541.25856132089),\n (1502674.1796982412, 11939.518898553908),\n (1147139.5717235147, 7044.8314823719775),\n (1337853.1606607013, 7396.537744802218),\n (1443508.987217543, 10186.739217767014),\n (1120525.9700957162, 8842.201377620786),\n (1211949.013710743, 9438.862075042027),\n (1149154.2304626352, 8264.145356353849),\n (1214231.8360035168, 9089.583641742202),\n (1094531.5185522514, 7706.836850556632),\n (991142.6823974509, 8884.701249767457),\n (1404175.318523461, 10867.459783822285),\n (1054418.9458046602, 8258.95294773383),\n (1252324.2445632396, 10994.05656910086),\n (1130183.3058986699, 7543.810043229164),\n (779646.3512893199, 4769.1055839103965),\n (1416759.7106732451, 8178.471741748179),\n (1105939.903630957, 9037.205500417325),\n (1261685.878075402, 9431.330881220925),\n (1387506.1260074875, 9126.483945445008),\n (940204.4046756154, 7266.54729616001),\n (1081542.8005665017, 8732.117557889569),\n (1243343.958714348, 9866.600370044513),\n (1283226.9588575512, 10628.02759882004),\n (1416252.8345564215, 10669.485832026905),\n (1402312.7182175322, 9075.688191533896),\n (1447756.1042684286, 10058.87114396997),\n (1338417.3311368346, 8707.74850172474),\n (1213280.8009707201, 8671.989414868174),\n (1466965.4415495817, 12373.546294739486),\n (1046390.3367720615, 7586.741859987259),\n (1016428.7650983104, 7244.116258057436),\n (1494828.5927238874, 9350.090710264838),\n (1356114.3582651662, 9619.61477284747),\n (999289.0012532544, 7303.877992727322),\n (1061381.0805497323, 7096.876270778148),\n (1320278.6690817121, 9867.753422505963),\n (1423951.9660184078, 8680.38401501164),\n (1442472.0060885914, 10359.341343201244),\n (777624.7644380049, 6443.9068354381425),\n (1338704.591227219, 9538.307921932228),\n (1074511.0735116038, 8767.145449067342),\n (1191890.3904714733, 8272.147324732226),\n (991388.3560039285, 6134.468854683346),\n (1401230.02562959, 10338.066568027329),\n (1332462.2414062486, 9318.685124965485),\n (1455728.9643683468, 11827.74881142674),\n (652191.8191471589, 5384.141923014634),\n (838771.1584022965, 4930.915282481647),\n (1344878.251313966, 9168.381709812495),\n (1110223.5898076296, 7724.575284422426),\n (1224477.6773621072, 10719.41763865718),\n (1210942.995884914, 9412.944312226522),\n (1401095.8089916068, 10738.49966959004),\n (1017457.5662129326, 5963.097923526191),\n (1381453.360112035, 8170.911156500528),\n (1081666.1812855771, 6590.919758676843),\n (916609.9789659679, 6651.294058727259),\n (1148137.1714630343, 8819.329992281047),\n (1047567.8874796405, 6577.1622305074325),\n (1433792.9986428397, 11000.691028903282),\n (1173899.9894097324, 9348.8285439513),\n (1449281.4843941673, 11533.016413665715),\n (1478829.2059116059, 10432.094706587062),\n (1360651.195618658, 8570.779416049054),\n (1136112.5638970109, 8242.565918208127),\n (1302377.3242730882, 11586.53621439472),\n (973831.1545134402, 6909.121159914031),\n (1363235.2574932931, 8427.622585907298),\n (1386912.5774368953, 8641.707144125314),\n (746698.0372434789, 5596.208622223952),\n (1117838.1560725723, 6753.224468127772),\n (673870.1724347771, 5813.584697731757),\n (1409622.0275721923, 10403.717944678854),\n (1250692.6652243973, 7756.482340737246),\n (1314954.966516077, 8496.48383538108),\n (703738.3703795876, 6412.734766639413),\n (637709.4908445912, 4049.1923922113347),\n (1409979.2879667475, 11469.275031330051),\n (831269.9631370518, 5104.053779329322)]"
     },
     "execution_count": 17,
     "metadata": {},
     "output_type": "execute_result"
    }
   ],
   "source": [
    "cases_per_year_list"
   ],
   "metadata": {
    "collapsed": false,
    "pycharm": {
     "name": "#%%\n"
    }
   }
  },
  {
   "cell_type": "code",
   "execution_count": 18,
   "outputs": [],
   "source": [
    "with open('cases_per_year_list.pickle', 'wb') as handle:\n",
    "    pickle.dump(cases_per_year_list, handle, protocol=pickle.HIGHEST_PROTOCOL)"
   ],
   "metadata": {
    "collapsed": false,
    "pycharm": {
     "name": "#%%\n"
    }
   }
  }
 ],
 "metadata": {
  "kernelspec": {
   "display_name": "Python 3",
   "language": "python",
   "name": "python3"
  },
  "language_info": {
   "codemirror_mode": {
    "name": "ipython",
    "version": 2
   },
   "file_extension": ".py",
   "mimetype": "text/x-python",
   "name": "python",
   "nbconvert_exporter": "python",
   "pygments_lexer": "ipython2",
   "version": "2.7.6"
  }
 },
 "nbformat": 4,
 "nbformat_minor": 0
}