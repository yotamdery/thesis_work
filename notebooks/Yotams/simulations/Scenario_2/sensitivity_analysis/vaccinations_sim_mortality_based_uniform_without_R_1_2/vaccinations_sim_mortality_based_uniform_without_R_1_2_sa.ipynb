{
 "cells": [
  {
   "cell_type": "markdown",
   "metadata": {
    "pycharm": {
     "name": "#%% md\n"
    }
   },
   "source": [
    "## This notebook produces cases per year for the mortality based uniform with info simulation"
   ]
  },
  {
   "cell_type": "code",
   "execution_count": 1,
   "metadata": {
    "pycharm": {
     "name": "#%%\n"
    }
   },
   "outputs": [],
   "source": [
    "import numpy as np\n",
    "import pandas as pd\n",
    "import itertools\n",
    "import pickle\n",
    "import datetime, random, copy\n",
    "import sys, os, tqdm\n",
    "\n",
    "import SEIR_full as mdl\n",
    "import SEIR_full.model as mdl\n",
    "import SEIR_full.calibration as mdl\n",
    "from SEIR_full.indices import *\n",
    "from SEIR_full.utils import *\n",
    "from SEIR_full.parameters import *"
   ]
  },
  {
   "cell_type": "markdown",
   "metadata": {
    "pycharm": {
     "name": "#%% md\n"
    }
   },
   "source": [
    "* Fixing the ranges of the uncertainty factors that we're interested in:"
   ]
  },
  {
   "cell_type": "code",
   "execution_count": 2,
   "metadata": {
    "pycharm": {
     "name": "#%%\n"
    }
   },
   "outputs": [],
   "source": [
    "# Creating a list of tuples, each tuple is a realization of randomly picked values for the factors that we change every iteration of the simulation\n",
    "np.random.seed(69)\n",
    "list_of_tuples = []\n",
    "for i in range(1000):\n",
    "    booster_eff = round(np.random.uniform(low=29.5001, high=95.5)) / 100     # Discrete uniform dist, booster_efficiency ~ U(30, 95), Updated in the model's object\n",
    "    inv_level = round(np.random.uniform(low=9.5001, high=20.5)) / 100       # Discrete uniform dist, booster_efficiency ~ U(10, 20), Updated in the simulation's settings\n",
    "    hosp_proba_scalar = round(np.random.uniform(low=0.8, high=1.2), 2)      # Continuous uniform dist, booster_efficiency ~ U(0.8, 1.2), Updated in the model's object\n",
    "    years_for_model_run = round(np.random.uniform(low=.5001, high=5.5))         # Discrete uniform dist, booster_efficiency ~ U(3, 10), Updated in the simulation's settings\n",
    "    list_of_tuples.append((booster_eff, inv_level, hosp_proba_scalar, years_for_model_run))"
   ]
  },
  {
   "cell_type": "markdown",
   "metadata": {
    "pycharm": {
     "name": "#%% md\n"
    }
   },
   "source": [
    "* Fixing the static settings for all runs of the big loop"
   ]
  },
  {
   "cell_type": "code",
   "execution_count": 3,
   "metadata": {
    "pycharm": {
     "name": "#%%\n"
    }
   },
   "outputs": [],
   "source": [
    "## DEFINING STATIC SETTINGS (INDEPENDENT IN THE DYNAMIC FACTORS) FOR THE SIMULATION RUN\n",
    "# Short path for the data directory\n",
    "DATA_DIR = r'/Users/yotamdery/Old_Desktop/git/SEIR_model_COVID-main/Data'\n",
    "# Reading the indices of the model - adding an hint to declare it's from type Indices!\n",
    "with(open(DATA_DIR + '/parameters/indices.pickle', 'rb')) as openfile:\n",
    "    ind:Indices = pickle.load(openfile)\n",
    "\n",
    "# Create indices for the age groups for easy & automatic access to the results of the operation in the script:\n",
    "age_groups_ind = {'5-9':0, '10-29':1, '30-59':2, '60+':3}\n",
    "\n",
    "# Reading the neutralized vectors:\n",
    "# Alpha variant vector\n",
    "with open(DATA_DIR + '/parameters/neutralized_alpha_variant_vec.pickle', 'rb') as pickle_in:\n",
    "\tneutralized_alpha_variant_vec = pickle.load(pickle_in)\n",
    "\n",
    "# Delta variant vector\n",
    "with open(DATA_DIR + '/parameters/neutralized_delta_variant_vec.pickle', 'rb') as pickle_in:\n",
    "\tneutralized_delta_variant_vec = pickle.load(pickle_in)\n",
    "\n",
    "# Beta_lockdown vector\n",
    "with open(DATA_DIR + '/parameters/neutralized_lockdown_vec.pickle', 'rb') as pickle_in:\n",
    "\tneutralized_lockdown_vec = pickle.load(pickle_in)\n",
    "\n",
    "# Beta_school vector\n",
    "with open(DATA_DIR + '/parameters/neutralized_school_vec.pickle', 'rb') as pickle_in:\n",
    "\tneutralized_school_vec = pickle.load(pickle_in)\n",
    "\n",
    "# Isolation morbidity ratio vector\n",
    "with open(DATA_DIR + '/parameters/neutralized_isolation_morbidity_ratio_vector.pickle', 'rb') as pickle_in:\n",
    "\tneutralized_isolation_morbidity_ratio_vector = pickle.load(pickle_in)\n",
    "\n",
    "# zero vector to remove any transition from V_2 and S_2 to V_3\n",
    "with open(DATA_DIR + '/parameters/neutralized_transition_rate_to_V_3.pickle', 'rb') as pickle_in:\n",
    "\tneutralized_transition_vector = pickle.load(pickle_in)\n"
   ]
  },
  {
   "cell_type": "markdown",
   "metadata": {
    "pycharm": {
     "name": "#%% md\n"
    }
   },
   "source": [
    "* Utils functions:"
   ]
  },
  {
   "cell_type": "code",
   "execution_count": 4,
   "metadata": {
    "pycharm": {
     "name": "#%%\n"
    }
   },
   "outputs": [],
   "source": [
    "# Getting the reported unreported ratio\n",
    "def get_reported_unreported_ratio(scen):\n",
    "    if scen == 'Scenario2':\n",
    "        reported = 1\n",
    "        unreported = 2\n",
    "        reported_unreported = unreported / (reported + unreported)\n",
    "    return reported_unreported\n",
    "\n",
    "# Getting all region,age combinations as a list\n",
    "def get_all_region_age_combinations():\n",
    "    \"\"\"This function returns a list of tuples of all region,risk,4-age_group combinations\"\"\"\n",
    "    counties_list = list(ind.region_dict.keys())\n",
    "    age_groups_list = list(age_groups_ind.keys())\n",
    "    return list(itertools.product(counties_list, age_groups_list))\n",
    "\n",
    "def region_age_groups_mapping(wanted_mapping: str):\n",
    "    \"\"\" This function gets a wanted mapping (4 examined age groups to 9 original model's age groups or vice versa),\n",
    "    and returns a dictionary consist of the wanted mapping\n",
    "    \"\"\"\n",
    "    # Initializing the final mapping to return and it's keys:\n",
    "    mapping_dict = {}\n",
    "    all_comb_4_age_groups_list = get_all_region_age_combinations()\n",
    "    if wanted_mapping == '4-to-9':\n",
    "        # Iterating over all possible combinations with the 4-age_groups:\n",
    "        for combination in all_comb_4_age_groups_list:\n",
    "            # The list that the current combination will map to\n",
    "            curr_res_list = []\n",
    "            # A list to iterate when building the curr_res_list - depending on the current and new age-group:\n",
    "            if combination[1] == '5-9':\n",
    "                correspondent_age_groups = ['5-9']\n",
    "            elif combination[1] == '10-29':\n",
    "                correspondent_age_groups = ['10-19', '20-29']\n",
    "            elif combination[1] == '30-59':\n",
    "                correspondent_age_groups = ['30-39', '40-49', '50-59']\n",
    "            else:\n",
    "                correspondent_age_groups = ['60-69', '70+']\n",
    "\n",
    "            # Appending to the curr_res_list to finalize the mapping:\n",
    "            for age_group in correspondent_age_groups:\n",
    "                curr_res_list.append((combination[0], age_group))\n",
    "\n",
    "            # Updating the final mapping_dict:\n",
    "            mapping_dict[combination] = curr_res_list\n",
    "    return mapping_dict\n",
    "\n",
    "# Getting all region,risk,age combinations as a list\n",
    "def get_all_region_risk_age_combinations():\n",
    "    \"\"\"This function returns a list of tuples of all region,risk,4-age_group combinations\"\"\"\n",
    "    counties_list = list(ind.region_dict.keys())\n",
    "    risk_list = ['High', 'Low']\n",
    "    age_groups_list = list(age_groups_ind.keys())\n",
    "    return list(itertools.product(counties_list, risk_list, age_groups_list))\n",
    "\n",
    "def region_risk_age_groups_mapping(wanted_mapping: str):\n",
    "    \"\"\" This function gets a wanted mapping (4 examined age groups to 9 original model's age groups or vice versa),\n",
    "    and returns a dictionary consist of the wanted mapping\n",
    "    \"\"\"\n",
    "    # Initializing the final mapping to return and it's keys:\n",
    "    mapping_dict = {}\n",
    "    all_comb_4_age_groups_list = get_all_region_risk_age_combinations()\n",
    "    if wanted_mapping == '4-to-9':\n",
    "        # Iterating over all possible combinations with the 4-age_groups:\n",
    "        for combination in all_comb_4_age_groups_list:\n",
    "            # The list that the current combination will map to\n",
    "            curr_res_list = []\n",
    "            # A list to iterate when building the curr_res_list - depending on the current and new age-group:\n",
    "            if combination[2] == '5-9':\n",
    "                correspondent_age_groups = ['5-9']\n",
    "            elif combination[2] == '10-29':\n",
    "                correspondent_age_groups = ['10-19', '20-29']\n",
    "            elif combination[2] == '30-59':\n",
    "                correspondent_age_groups = ['30-39', '40-49', '50-59']\n",
    "            else:\n",
    "                correspondent_age_groups = ['60-69', '70+']\n",
    "\n",
    "            # Appending to the curr_res_list to finalize the mapping:\n",
    "            for age_group in correspondent_age_groups:\n",
    "                curr_res_list.append((combination[0], combination[1], age_group))\n",
    "\n",
    "            # Updating the final mapping_dict:\n",
    "            mapping_dict[combination] = curr_res_list\n",
    "    return mapping_dict\n",
    "\n",
    "def get_indexes_region_risk_age_combination(region_risk_age_group: tuple):\n",
    "    \"\"\"This function gets a tuple of (region, risk, 4_age_group) and returns the indexes of that combination as they are in the original model (including transformation to the 9 original age groups. e.g.: for (1101, 'High', '10-29'), returns the indexes for (1101, 'High', '10-19') + (1101, 'High', '20-29')\"\"\"\n",
    "    # Initializing the result list and the age groups mapper:\n",
    "    indexes_list_of_lists = []\n",
    "    four_to_nine_age_map = region_risk_age_groups_mapping('4-to-9')\n",
    "    for val in four_to_nine_age_map[region_risk_age_group]:\n",
    "        indexes_list_of_lists.append(ind.region_risk_age_dict[val])\n",
    "    # Merging the list of lists to one list:\n",
    "    region_risk_age_indexes_list = [item for sublist in indexes_list_of_lists for item in sublist]\n",
    "    return sorted(region_risk_age_indexes_list)\n",
    "\n",
    "# Getting the current lambda_t for the current combination of (region, 4-age_group):\n",
    "def get_current_lambda_t(curr_res_mdl_1_ml: dict, target_region_risk_4age_group: tuple):\n",
    "    # Getting the lambda of the last day of the current model, and the region,4-age_group mapping:\n",
    "    lambda_last_day = np.reshape(curr_res_mdl_1_ml['L_2'][-1, :], newshape=(540))\n",
    "    four_to_nine_age_map = region_age_groups_mapping('4-to-9')\n",
    "    # Initializing the final proportion for the current compartment that we want to calculate:\n",
    "    final_prop_for_comp = 0\n",
    "    # Iterating on each correspondent combination of (region, 9-age_group) to aggregate on:\n",
    "    for val in four_to_nine_age_map[target_region_risk_4age_group]:\n",
    "        # Getting the index of the current (region, risk, 9-age_group)\n",
    "        correspondent_index = ind.region_age_dict[val]\n",
    "        # Adding the value of current (region, risk, 9-age_group)\n",
    "        final_prop_for_comp += lambda_last_day[correspondent_index].sum()\n",
    "\n",
    "    return final_prop_for_comp\n",
    "\n",
    "def calc_comp_prop_for_region_risk_age(comp: str, curr_res_mdl_1_ml: dict, target_region_risk_4age_group: tuple):\n",
    "    \"\"\"This function gets the target compartment, the current predictions of the current model, and the wanted combination of (region, risk, 4-age_group),\n",
    "    and returns the compartment aggregated by the wanted combination of (region, risk, 4-age_group) - (aggregated from (region, risk, 9-age_group))\"\"\"\n",
    "    # Getting the last day of the compartment, and the needed age-groups mapping:\n",
    "    comp_last_day = np.reshape(curr_res_mdl_1_ml[comp][-1, :], newshape=(540))\n",
    "    four_to_nine_age_map = region_risk_age_groups_mapping('4-to-9')\n",
    "    # Initializing the final proportion for the current compartment that we want to calculate:\n",
    "    final_prop_for_comp = 0\n",
    "    # Iterating on each correspondent combination of (region, risk, 9-age_group) to aggregate on:\n",
    "    for val in four_to_nine_age_map[target_region_risk_4age_group]:\n",
    "        # Getting the index of the current (region, risk, 9-age_group)\n",
    "        correspondent_index = ind.region_risk_age_dict[val]\n",
    "        # Adding the value of current (region, risk, 9-age_group)\n",
    "        final_prop_for_comp += float(comp_last_day[correspondent_index][0])\n",
    "\n",
    "    return final_prop_for_comp\n",
    "\n",
    "def calc_rho_or_f_prop_for_region_risk_age(rho_or_f_j: np.array, target_region_risk_4age_group: tuple):\n",
    "    \"\"\"This function gets the model_1_ml.rho and the wanted combination of (region, risk, 4-age_group),\n",
    "    and returns rho aggregated by the wanted combination of (region, risk, 4-age_group) - (aggregated from (region, risk, 9-age_group))\"\"\"\n",
    "    four_to_nine_age_map = region_risk_age_groups_mapping('4-to-9')\n",
    "    ## Calculating the final proportion of rho or f_j as a weighted sum using the distribution of S(0) (population_size):\n",
    "    # Initializing the proportions for the weighted sum:\n",
    "    S0_list = []\n",
    "    rho_or_f_j_list = []\n",
    "    # Iterating on each correspondent combination of (region, risk, 9-age_group) and append to the relevant list:\n",
    "    for val in four_to_nine_age_map[target_region_risk_4age_group]:\n",
    "        # Getting the index of the current (region, risk, 9-age_group)\n",
    "        correspondent_index = ind.region_risk_age_dict[val]\n",
    "        # Adding the value of current (region, risk, 9-age_group)\n",
    "        S0_list.append(population_size[correspondent_index][0])\n",
    "        rho_or_f_j_list.append(rho_or_f_j[correspondent_index][0])\n",
    "\n",
    "    ## Calculating the weighted sum:\n",
    "    # Init the lists to calc the expression\n",
    "    numerator = []\n",
    "    denominator = []\n",
    "    for i in range(len(S0_list)):\n",
    "        numerator.append(S0_list[i]*rho_or_f_j_list[i])\n",
    "        denominator.append(S0_list[i])\n",
    "    # Returning the final and weighted probability value:\n",
    "    final_weighted_sum_proba = np.sum(numerator) / np.sum(denominator)\n",
    "    return final_weighted_sum_proba\n",
    "\n",
    "def update_compartment(curr_res_mdl_1_ml: dict, compartment: str, updated_array: np.array):\n",
    "    \"\"\"This function gets the current models' predictions, the compartment to update and the updated array, and updates the model object with the updated array\"\"\"\n",
    "    # Initiate settings:\n",
    "    curr_res_mdl_1_ml[compartment][-1] = updated_array\n",
    "    comp_as_list = []\n",
    "    # Changing the updated arrays to be lists of arrays (to allow the update of the model object):\n",
    "    for element in curr_res_mdl_1_ml[compartment]:\n",
    "        comp_as_list.append(element)\n",
    "\n",
    "    # Performing the proper model update\n",
    "    model_1_ml.update({\n",
    "        compartment : comp_as_list\n",
    "    })\n",
    "\n",
    "# Defining the model - initializing it for t=0:\n",
    "def defining_model(scen):\n",
    "    model_1_ml_ = mdl.Model_behave(\n",
    "    ind=ind,\n",
    "    beta_j=cal_parameters[scen]['beta_j'],\n",
    "    beta_activity=cal_parameters[scen]['beta_activity'],\n",
    "    beta_school=cal_parameters[scen]['beta school'],\n",
    "    scen=scen\n",
    "    )\n",
    "    # Predicting without an assignment (there's no need for that)\n",
    "    model_1_ml_.predict(\n",
    "        days_in_season= 529,    # Num of days between 15/05/20 - 25/10/21\n",
    "        shifting_12_days= True\n",
    "    )\n",
    "    # Updating the vectors to be able to run the model furthermore:\n",
    "    model_1_ml_.update({\n",
    "        'alpha_variant_vec':  neutralized_alpha_variant_vec,\n",
    "        'delta_variant_vec': neutralized_delta_variant_vec,\n",
    "        'isolation_morbidity_ratio_vector': neutralized_isolation_morbidity_ratio_vector,\n",
    "        'is_lockdown': neutralized_lockdown_vec,\n",
    "        'is_school': neutralized_school_vec,\n",
    "        'v2_to_v3_transition_t' : neutralized_transition_vector,\n",
    "        's_2_to_v3_transition_t' : neutralized_transition_vector\n",
    "    })\n",
    "    return model_1_ml_\n",
    "\n",
    "# Update model for current variables of uncertainty:\n",
    "def update_models_object(mdl_1_ml: mdl.Model_behave, realization: tuple):\n",
    "    new_rho = mdl_1_ml.rho * realization[2]\n",
    "    mdl_1_ml.update({\n",
    "        'booster_efficiency': realization[0],\n",
    "        'rho': new_rho\n",
    "    })"
   ]
  },
  {
   "cell_type": "markdown",
   "metadata": {
    "pycharm": {
     "name": "#%% md\n"
    }
   },
   "source": [
    "#### Getting the vaccinations priority queue:"
   ]
  },
  {
   "cell_type": "code",
   "execution_count": 5,
   "metadata": {
    "pycharm": {
     "name": "#%%\n"
    }
   },
   "outputs": [],
   "source": [
    "def get_vaccination_pq(curr_res_mdl_1_ml: dict):\n",
    "    \"\"\"This function gets the current model and returns the final priority queue for all combinations of (county, risk, 4-age_group)\"\"\"\n",
    "    # Initialize settings: final priority queue to return (as a dictionary, not sorted), the 4-9 age-groups mapper, and the reported/unreported ratio:\n",
    "    vaccination_que = {}\n",
    "    reported_unreported = get_reported_unreported_ratio('Scenario2')\n",
    "    comp_list = ['S_2', 'V_2', 'R_1', 'R_2', 'L_2']\n",
    "    mapping_4_to_9 = region_risk_age_groups_mapping('4-to-9')\n",
    "\n",
    "    for key, val in mapping_4_to_9.items():\n",
    "        # Getting the proportion value for each compartment[region,risk,4-age_group], save it as a list such that the order is exactly - [S_2, V_2, R_1, R_2, L_2]\n",
    "        current_comp_prop_list = []\n",
    "        # For each compartment - calculate its value of (region, risk, 4-age_group):\n",
    "        for comp in comp_list:\n",
    "            # If we assess the proportion of the force of infection, the calculation is different (lambda_t depends only on (region,age))\n",
    "            if comp != 'L_2':\n",
    "                current_comp_prop_list.append(calc_comp_prop_for_region_risk_age(comp, curr_res_mdl_1_ml, key))\n",
    "            else:\n",
    "                current_comp_prop_list.append(get_current_lambda_t( curr_res_mdl_1_ml, (key[0], key[2]) ))\n",
    "        # getting the proportion value for model_1_ml.rho:\n",
    "        hosp_proba = calc_rho_or_f_prop_for_region_risk_age(model_1_ml.rho , key)\n",
    "        # getting the proportion value for model_1_ml.f[model_1_ml.scen]:\n",
    "        f_j = calc_rho_or_f_prop_for_region_risk_age(model_1_ml.f[model_1_ml.scen] , key)\n",
    "        # Calculating the hospitalization probability measurement:\n",
    "        comps = current_comp_prop_list      # To shorten the code\n",
    "        V_2_eff = 1-0.94        # Effectiveness of second dose to prevent infection\n",
    "        scoring_index = ( (comps[0] + (comps[2]+comps[3])*reported_unreported + (comps[1]*(V_2_eff))) * comps[4] * ((1-f_j)*model_1_ml.delta) * hosp_proba ) \\\n",
    "                        / (comps[0] + comps[1] + (comps[2]+comps[3])*reported_unreported)\n",
    "        # Assigning the scoring measurement to the correspondent combination of (region,risk,4-age_group)\n",
    "        vaccination_que[key] = scoring_index\n",
    "    # Sorting the dict to get a \"priority queue\" - receiving a list of tuples:\n",
    "    vaccination_que = sorted(vaccination_que.items(), key=lambda x: x[1], reverse= True)\n",
    "\n",
    "    return vaccination_que"
   ]
  },
  {
   "cell_type": "markdown",
   "metadata": {
    "pycharm": {
     "name": "#%% md\n"
    }
   },
   "source": [
    "#### calculating the transferring proportion:"
   ]
  },
  {
   "cell_type": "code",
   "execution_count": 6,
   "metadata": {
    "pycharm": {
     "name": "#%%\n"
    }
   },
   "outputs": [],
   "source": [
    "def calc_trans_prop(vaccination_pq_: list, curr_res_mdl_1_ml: dict, curr_inv: float):\n",
    "    # Initializing the accumulated amount used and the priority queue:\n",
    "    curr_inventory_used = 0\n",
    "    vaccination_pq_copy = vaccination_pq_.copy()\n",
    "    # Saving the combinations that we will vaccinate:\n",
    "    vaccinated_que_ = []\n",
    "    # Iterating until we cross the prior inventory level:\n",
    "    while (curr_inventory_used <= curr_inv):\n",
    "        # Getting the current combination of (age_group, risk) from the pq:\n",
    "        current_county_risk_age = vaccination_pq_copy.pop(0)[0]\n",
    "        # Getting the correspondent reported/unreported ratio for the Scenario:\n",
    "        #reported_unreported = get_reported_unreported_ratio('Scenario2')\n",
    "        # Getting R2_(j,r), R1_(j,r), V2_(j,r), S2_(j,r) proportions:\n",
    "        S_2_risk_age, V_2_risk_age = calc_comp_prop_for_region_risk_age('S_2', curr_res_mdl_1_ml, current_county_risk_age), \\\n",
    "                                     calc_comp_prop_for_region_risk_age('V_2', curr_res_mdl_1_ml, current_county_risk_age)\n",
    "        # Calculating the formula for num of needed vaccines:\n",
    "        count_vaccines_in_use = (S_2_risk_age + V_2_risk_age) * pop_israel\n",
    "        # Updating the accumulated used vaccines:\n",
    "        curr_inventory_used += count_vaccines_in_use\n",
    "        # Updating the vaccinated_que:\n",
    "        vaccinated_que_.append(current_county_risk_age)\n",
    "\n",
    "    final_trans_prop = curr_inv / curr_inventory_used\n",
    "    return final_trans_prop, vaccinated_que_"
   ]
  },
  {
   "cell_type": "markdown",
   "metadata": {
    "pycharm": {
     "name": "#%% md\n"
    }
   },
   "source": [
    "#### Vaccinating in booster dose:"
   ]
  },
  {
   "cell_type": "code",
   "execution_count": 7,
   "metadata": {
    "pycharm": {
     "name": "#%%\n"
    }
   },
   "outputs": [],
   "source": [
    "### Vaccinating in booster (moving from S_2 and V_2 to V_3, including the model update):\n",
    "def vaccinate(trans_prop_: float, curr_res_mdl_1_ml: dict, vaccination_que: list):\n",
    "    ## initialize settings:\n",
    "    vaccination_que_copy = vaccination_que.copy()\n",
    "    trans_prop_copy = trans_prop_\n",
    "    reported_unreported = get_reported_unreported_ratio('Scenario2')\n",
    "    # Getting the last day of the compartments and V_3, saving it to a dictionary:\n",
    "    last_day_dict = {'S_2_last_day': np.reshape(curr_res_mdl_1_ml['S_2'][-1, :], newshape=(540) ),\n",
    "                     'V_2_last_day': np.reshape(curr_res_mdl_1_ml['V_2'][-1, :], newshape=(540) ),\n",
    "                     'V_3_last_day': np.reshape(curr_res_mdl_1_ml['V_3'][-1, :], newshape=(540) ),\n",
    "                     }\n",
    "\n",
    "    # Iterating over the combinations of (risk, age_group) that we need to vaccinate, and moving the population, and updating the model:\n",
    "    for curr_risk_age in vaccination_que_copy:\n",
    "        # Getting the relevant indexes to operate in the correspondent locations of the compartment:\n",
    "        curr_risk_age_indexes = get_indexes_region_risk_age_combination(curr_risk_age)\n",
    "\n",
    "        ## Vaccinating from S_2 to V_3\n",
    "        S_2_last_day_updated, V_3_last_day_updated = vaccinating_from_V_2_S_2(last_day_dict['V_3_last_day'], last_day_dict['S_2_last_day'], trans_prop_copy, curr_risk_age_indexes)\n",
    "        # updating the results:\n",
    "        last_day_dict['V_3_last_day'], last_day_dict['S_2_last_day'] = V_3_last_day_updated, S_2_last_day_updated\n",
    "\n",
    "        ## Vaccinating from V_2 to V_3\n",
    "        V_2_last_day_updated, V_3_last_day_updated = vaccinating_from_V_2_S_2(last_day_dict['V_3_last_day'], last_day_dict['V_2_last_day'], trans_prop_copy, curr_risk_age_indexes)\n",
    "        # updating the results:\n",
    "        last_day_dict['V_3_last_day'], last_day_dict['V_2_last_day'] = V_3_last_day_updated, V_2_last_day_updated\n",
    "\n",
    "    update_compartment(curr_res_mdl_1_ml, 'V_2', last_day_dict['V_2_last_day'])\n",
    "    update_compartment(curr_res_mdl_1_ml, 'S_2', last_day_dict['S_2_last_day'])\n",
    "    update_compartment(curr_res_mdl_1_ml, 'V_3', last_day_dict['V_3_last_day'])"
   ]
  },
  {
   "cell_type": "markdown",
   "metadata": {
    "pycharm": {
     "name": "#%% md\n"
    }
   },
   "source": [
    "### Main - 1000 iterations of the Sim:"
   ]
  },
  {
   "cell_type": "code",
   "execution_count": 8,
   "metadata": {
    "pycharm": {
     "name": "#%%\n"
    }
   },
   "outputs": [
    {
     "name": "stderr",
     "output_type": "stream",
     "text": [
      "tqdm() Progress Bar: 100%|██████████| 1000/1000 [11:12:23<00:00, 40.34s/it] \n"
     ]
    }
   ],
   "source": [
    "# A list to hold 1000 realizations of cases per year:\n",
    "cases_per_year_list = []\n",
    "\n",
    "# Big loop run:\n",
    "for tup in tqdm.tqdm(list_of_tuples, desc= 'tqdm() Progress Bar'):\n",
    "    # Initializing the model's object (and its predictions) to t=0:\n",
    "    model_1_ml = defining_model('Scenario2')\n",
    "    # Settings:\n",
    "    update_models_object(model_1_ml, tup)       # Updating the v3_efficiency and the proba for hosp\n",
    "    inv_level = tup[1] * pop_israel             # Updating the inventory level\n",
    "    years_for_model_run = tup[3]                # Updating the years for the model to run for\n",
    "\n",
    "    # Running the model for X years, in 6 months resolution\n",
    "    for i in range(years_for_model_run*2):\n",
    "        # Running until the vaccination month:\n",
    "        for j in range(6):\n",
    "            res_mdl_1_ml = model_1_ml.predict(\n",
    "                            days_in_season= 30,\n",
    "                            continuous_predict= True\n",
    "                            )\n",
    "            # Getting the vaccination priority_que:\n",
    "            vaccination_pq = get_vaccination_pq(res_mdl_1_ml)\n",
    "            # Getting the proportion of transition, and the combinations that we vaccinate:\n",
    "            trans_prop, vaccinated_que = calc_trans_prop(vaccination_pq, res_mdl_1_ml, inv_level*1/6)\n",
    "            # Vaccinating (including the model update):\n",
    "            vaccinate(trans_prop, res_mdl_1_ml, vaccinated_que)\n",
    "\n",
    "    ## Calculating the cases per year index for every measurement:\n",
    "    tot_new_Is = np.add(res_mdl_1_ml['new_Is_1'].sum(axis=1) * pop_israel, res_mdl_1_ml['new_Is_2'].sum(axis=1) * pop_israel)\n",
    "    tot_new_H = np.add(res_mdl_1_ml['new_H_1'].sum(axis=1) * pop_israel, res_mdl_1_ml['new_H_2'].sum(axis=1) * pop_israel)\n",
    "    # Transferring to cumulative sum:\n",
    "    cumsum_tot_new_Is, cumsum_tot_new_H = np.cumsum(tot_new_Is), np.cumsum(tot_new_H)\n",
    "    # Performing the calculation itself:\n",
    "    cases_per_year_new_Is, cases_per_year_new_H = (cumsum_tot_new_Is[-1] - cumsum_tot_new_Is[528]) / years_for_model_run, (cumsum_tot_new_H[-1] - cumsum_tot_new_H[528]) / years_for_model_run\n",
    "    cases_per_year_list.append((cases_per_year_new_Is, cases_per_year_new_H))"
   ]
  },
  {
   "cell_type": "code",
   "execution_count": 9,
   "metadata": {
    "pycharm": {
     "name": "#%%\n"
    }
   },
   "outputs": [
    {
     "data": {
      "text/plain": "[(1188612.3069443488, 6466.0813137927835),\n (1187894.356530006, 7195.0163996250585),\n (973420.7638982508, 5718.131726803438),\n (1397726.5531465258, 10349.62941063677),\n (1263097.5823392998, 7203.4226342139455),\n (1194147.8809221643, 6156.112033487226),\n (1252152.238607997, 7742.227547949377),\n (1240878.925577696, 8984.460956515491),\n (1085691.3609953863, 5064.367623653664),\n (1200872.9458235947, 8195.79764333473),\n (1080716.6754915093, 5920.208450326955),\n (1397257.0072716165, 7943.4774430510515),\n (1371492.5307870538, 9859.883223281255),\n (663461.0140608543, 3774.007160835761),\n (901743.7609418976, 5178.893866709661),\n (1311051.7114994298, 6423.217594285683),\n (931001.4557093779, 6111.952072254773),\n (935887.2610660656, 5586.920980253883),\n (1182231.2192105337, 9063.761188706228),\n (1140476.083428665, 5372.7621246547815),\n (1281939.3357727486, 8629.735186716218),\n (1311288.368195489, 8574.373986467828),\n (1379200.8515655114, 7847.096440462589),\n (981144.3985918358, 4898.80347168133),\n (1276764.6727143284, 8298.438094375657),\n (1039959.472311291, 6092.913271155937),\n (1153346.8536338971, 5541.974720492278),\n (1196772.034588821, 8068.661910896421),\n (1310894.005123947, 9920.902122425263),\n (1087945.6899838527, 7331.883001179606),\n (1253773.4831980553, 9289.710426662014),\n (1340105.630322549, 7421.772858532851),\n (1069044.8900115392, 6062.951443148296),\n (1223940.3858481632, 8708.71810256286),\n (1040865.8594839607, 8118.214096663789),\n (1176456.3057491514, 6958.634579020932),\n (1231219.852238102, 7114.915514014195),\n (1157113.6391768027, 6773.8550610079765),\n (1290729.4977605713, 8231.123879969558),\n (919300.9313029983, 4554.17505423292),\n (1357409.720841055, 8446.680800952707),\n (1288458.5791751856, 6135.289197184929),\n (905059.7149803739, 5675.617127405356),\n (1337871.3048848729, 11144.638495807283),\n (840485.0227197945, 4846.054955339253),\n (975071.9636957283, 6248.958791290582),\n (1404479.451406567, 8169.873947452852),\n (1168461.2432584255, 7135.447044339319),\n (961649.5611988541, 6659.40401305679),\n (1421819.78101592, 8535.464276070497),\n (1099576.710511618, 4744.827273777975),\n (1022659.3573517434, 6526.881982708512),\n (925276.4452209523, 6089.173513010399),\n (1086292.2311214001, 8364.569425058608),\n (1154222.0442649235, 4885.795931610335),\n (1195148.0920373434, 7074.565485750258),\n (649441.5220584632, 4947.058012316596),\n (1192553.8124709337, 6190.77687440083),\n (1161276.595096473, 6555.8070145701095),\n (1125702.8101166259, 7498.354290560666),\n (1411677.0716367804, 9416.940871918512),\n (888316.3008592101, 4765.374811852926),\n (1209126.075413828, 7623.6369266106885),\n (1147136.6031019269, 7228.357655133725),\n (1385588.8096113694, 7666.892649212377),\n (1429580.7092617876, 8785.430398988621),\n (1230599.4002286515, 6890.356058220175),\n (815085.4476709537, 4832.122825957401),\n (1438368.471260541, 10515.931698096134),\n (874038.8793962136, 5941.247247027827),\n (1306721.320890093, 7705.244118638671),\n (1169168.6837097998, 7062.689830455906),\n (1184470.9814946721, 8254.45242646561),\n (1331710.60289224, 6576.66416041101),\n (1128445.4113466607, 9189.27438808981),\n (1138463.4803080256, 4945.430189056076),\n (1259302.6774809968, 8121.885627222328),\n (1115052.3890864516, 7512.288493049123),\n (902918.2347296843, 5906.598202704103),\n (727342.8607212901, 4242.667772777163),\n (1112502.117973596, 6276.864183974369),\n (1380089.578812569, 8503.409202234163),\n (1353552.6830974352, 9208.104569971701),\n (738523.4050230081, 3718.0770160980446),\n (1067792.3235319245, 6263.620579643729),\n (1232183.3962862364, 7996.705810014533),\n (1257439.5917680187, 6982.416961753983),\n (1451103.9470800855, 8868.64037202355),\n (1208775.4755299813, 6669.256716955863),\n (942977.8723271072, 5832.910367920824),\n (1016604.9251758143, 6072.364194553501),\n (960874.1185723401, 4730.743028786789),\n (905111.8845270956, 5235.702520640991),\n (942466.4755084035, 5530.888707228572),\n (728932.1454164615, 4366.308995349229),\n (861224.3891542314, 4338.115671075563),\n (1371845.8471332814, 10467.309183823521),\n (1189914.0497613747, 9361.758082808783),\n (1277047.1339167631, 7659.926724552045),\n (876746.8986538568, 5504.435280805347),\n (1279345.4583838608, 7423.768027902196),\n (1244497.0493876718, 9109.158350778163),\n (1340145.6059742072, 7547.084333581972),\n (811100.9159617922, 4362.759146506188),\n (903051.3955105285, 5661.728419052962),\n (1197331.2501637128, 5870.933487567968),\n (1308248.4409027002, 7142.598346824127),\n (1324370.553419013, 8646.649075806276),\n (1189914.0497613747, 8710.505346613409),\n (1088942.9443453855, 5779.843853549024),\n (1342746.198665656, 6666.2721226388885),\n (1175920.0671891642, 8801.919291826644),\n (1156177.3594855482, 7482.73216647068),\n (962882.8183576126, 6351.909794719453),\n (1297443.8979759917, 7654.661340728331),\n (1268737.9435724677, 7422.064225040308),\n (1339405.7779496743, 8732.42380333706),\n (1089143.214777284, 8481.246733766093),\n (1264125.9543450288, 6968.517338320354),\n (1420157.0036336372, 10410.993357130408),\n (1336972.7941073768, 7384.7572945892),\n (1415639.8247327176, 9760.976744934107),\n (1119020.0420793884, 7016.458281179419),\n (812000.9915505489, 6092.4900588229975),\n (1168725.990318784, 6803.452778699036),\n (1304884.172880911, 8855.17932124696),\n (1241202.5962286126, 5950.281067679227),\n (645137.7934363905, 2669.0933808364434),\n (1391434.1151724837, 10535.151014694939),\n (1004864.9357006946, 5682.847007794227),\n (1020536.0102023019, 6169.424820817142),\n (826077.9109195309, 4370.234389025345),\n (944940.3412602544, 7132.968049398024),\n (1406914.5039611717, 8186.299680007311),\n (1070081.713956122, 5070.714687941404),\n (1269601.2942613757, 9245.891742366191),\n (1260398.595722878, 6561.334225562585),\n (1258420.6639060336, 8245.545871743632),\n (1321330.854164273, 9021.956300640417),\n (1205841.8974174862, 6404.8483209095),\n (1045900.2396230875, 7707.032799493431),\n (1064863.7364942427, 5366.800065676574),\n (1264206.8150302025, 8720.736417418153),\n (1056887.5366874405, 5195.045691791303),\n (1397959.4156755887, 8795.537184612669),\n (1177434.2036304998, 5987.495948774423),\n (991567.9140351507, 5407.669038181642),\n (863984.0106998592, 7036.308169610847),\n (782212.1477719474, 5716.579807935962),\n (1150215.8464210301, 8414.739709443891),\n (972414.1328392171, 4524.035793136426),\n (1161123.6018533413, 6483.951150686322),\n (1134054.1300133062, 7967.746761255863),\n (1295576.4736866408, 7460.456909401111),\n (691182.4115527524, 4462.916439381778),\n (987895.8930190349, 6837.955128010953),\n (1384111.0676433435, 7819.300778891132),\n (1353314.1430527489, 10260.163545557038),\n (921534.5031465577, 5769.89794103509),\n (1397864.4467183838, 9634.284544140599),\n (1030148.3888122216, 7520.09111514926),\n (1028507.8686892098, 6226.021729342375),\n (1358184.4455919596, 8200.828959479833),\n (1327079.3699565404, 7487.904343245575),\n (962780.6900724153, 5578.7432896656255),\n (845796.4466124099, 5528.164881739091),\n (1340889.3069673434, 7676.142711030942),\n (1301550.4802882615, 6746.097891700913),\n (1160417.1964773748, 6915.333973726224),\n (1194644.7447098524, 9775.432792443144),\n (1058731.3662431424, 7532.99976629102),\n (786735.8923458396, 6131.708544301038),\n (1356512.3651084853, 8810.64675665636),\n (876746.8986538568, 5953.776936381287),\n (1239488.304668538, 8568.997927744742),\n (1142137.3373893492, 7274.45568396009),\n (1184715.7075576964, 8137.582246890005),\n (1296032.1851894683, 7372.315302311072),\n (927458.7888087896, 4433.305257452771),\n (1053708.5303694154, 5673.189548527825),\n (1188694.1109958428, 6298.564587865713),\n (753121.6179762534, 5240.017450684809),\n (891335.9774930081, 6363.84271890198),\n (1050273.6201384484, 5134.951519392883),\n (1370887.821151347, 6488.140892250421),\n (1252152.238607997, 8700.028894087436),\n (1287586.06765362, 7559.017589644829),\n (1179392.975112549, 6974.69332050879),\n (1119020.0420793884, 5778.259760971241),\n (1302616.4829234546, 6838.152509846402),\n (797933.3157371271, 4782.5515598349175),\n (933896.102357943, 7780.030380389573),\n (999667.2442116549, 5269.908227431635),\n (999667.2442116549, 5369.340458137826),\n (1091360.4844108946, 6648.113012300242),\n (1060611.5012972676, 5872.768267615076),\n (1269611.181041127, 7060.702126071556),\n (1081257.3997520704, 6111.396737306293),\n (1225816.8524412473, 9426.934526274776),\n (961284.1197677746, 6024.786055912434),\n (1353293.4056157677, 6971.9869863192325),\n (1359760.6114893619, 8318.516744690143),\n (1038077.7142154522, 7881.947927659688),\n (1224782.1054773515, 5720.418383217902),\n (1071847.5112864652, 6903.5233774442095),\n (857471.3901765369, 3697.0043037296236),\n (1150640.8723602784, 6497.03629233782),\n (1239706.1930327078, 7801.764326128206),\n (1035224.4379437364, 6838.086548655107),\n (845796.4466124099, 4599.061540270351),\n (902065.0221996284, 4368.0780384943855),\n (1104808.0740750525, 6577.575596285754),\n (1404777.2753425983, 9483.565851796171),\n (1264632.693094364, 6011.402249099342),\n (647137.6956375572, 4785.449685287846),\n (669859.659488692, 3093.864439626427),\n (1438962.3873621156, 8675.767461403022),\n (1005043.5390357345, 7542.463550047784),\n (869129.3242894312, 6710.385390418756),\n (1120365.6211555284, 8666.125702717663),\n (1385427.2729904952, 9843.58380759543),\n (1143079.7121579915, 7596.256075366721),\n (1287582.7440062386, 6704.63736807089),\n (1030630.8468820578, 5967.325351346125),\n (1073510.2088289838, 8778.99934025875),\n (1338048.1246943856, 8928.99577947713),\n (1340958.6039592824, 10569.45001783699),\n (892799.3130123367, 4213.129323745428),\n (1083656.190870578, 5674.169878151328),\n (1053574.5845313116, 8096.901694472916),\n (1268474.8913832305, 6539.128339286992),\n (1395805.5849640917, 8406.251340474377),\n (968007.8081373329, 5342.11904430013),\n (1329782.8443881203, 8912.028090919393),\n (1353552.6830974352, 7968.552031706256),\n (1356628.298722951, 7200.586671472757),\n (924215.2880792839, 6400.0735896297465),\n (1290935.4691295668, 7251.212441975723),\n (1014925.9879446533, 7175.921359320387),\n (1137550.240575297, 9015.761983676059),\n (1239488.304668538, 8056.322838050594),\n (1340483.9722259187, 10151.309557321134),\n (974336.7204036872, 6489.6674230512035),\n (1256346.7207674168, 9945.813469034822),\n (1288352.9563645758, 8107.58397224047),\n (980873.9910509691, 5613.300405280646),\n (1201859.9624917626, 7367.798661493514),\n (1114374.517905664, 5584.363949429514),\n (1144343.9914257615, 8774.410983080721),\n (1264632.693094364, 6228.681848464362),\n (1079955.5530316692, 5307.441147471966),\n (792153.0235428038, 4041.13194068745),\n (1315709.6967420129, 7774.5664366062165),\n (1160001.4612587518, 6103.104173878335),\n (740042.7277977346, 3475.547251966119),\n (1389769.0207580405, 11213.354392168285),\n (1198796.2407109472, 6223.049541396188),\n (1275388.9320786244, 7829.445750485981),\n (1072530.6315132536, 4963.295726764677),\n (1313085.8680895197, 9875.955905495115),\n (1420902.1542657437, 10791.613562725563),\n (1164573.158636142, 8437.76419310677),\n (1348277.7279870142, 7385.902026672928),\n (1062946.8825803467, 4405.1199404826075),\n (1147783.7432228075, 7079.1235997636695),\n (1387686.7169350248, 9331.015803407712),\n (1398633.2820546862, 8822.59437838709),\n (879605.2234353297, 5735.177182224607),\n (1307840.1186546418, 7997.639554785591),\n (1249420.8625327633, 7859.069983409751),\n (1217034.1890487403, 7812.621498769758),\n (618937.5965179238, 3862.6850112247894),\n (1326865.0472100095, 7058.793980071558),\n (993350.4865514351, 5436.255375008916),\n (1150514.9990334818, 7521.924849772344),\n (836187.4336277132, 4064.0971480753105),\n (1154222.0442649235, 6936.6238535208595),\n (1026983.6101076232, 6585.003452548412),\n (1029482.2236188493, 6774.038836117505),\n (1072848.4572438542, 7621.522046162843),\n (1275314.1089962686, 8031.685502876635),\n (1144371.2952416781, 7067.526354156504),\n (1220682.1396337028, 7297.931177837637),\n (1312922.0832095977, 8672.780708198528),\n (1072274.811818938, 5224.048503255841),\n (1201942.3177369398, 8461.698723220672),\n (1176456.3057491514, 6958.634579020932),\n (1408760.1440968935, 9453.599857292902),\n (1226399.6123982647, 9681.15321389532),\n (733599.5127863341, 3989.274679822399),\n (1416380.0408171352, 8688.72007380134),\n (984251.9470282556, 5303.05283806659),\n (1386071.002459281, 11448.259413552378),\n (1093360.0833918694, 7936.437112503251),\n (1195825.8517905527, 8114.552003071989),\n (1458573.2922369894, 8625.20318389862),\n (1395131.491529951, 9235.890178171656),\n (1326304.4837180339, 7973.035280155099),\n (1041752.8813602924, 4559.15917441411),\n (1236402.180868491, 8021.732638136171),\n (1425436.2140110028, 7535.711731229667),\n (970347.5856073741, 5262.09672739904),\n (1327720.7913584127, 7692.043554683293),\n (1167219.2409585856, 7607.346279767975),\n (1049307.094125202, 7718.111487955932),\n (936265.1776205143, 6509.192020052109),\n (803959.3078337364, 4271.712650937622),\n (1150323.1192766544, 6891.816061064895),\n (1390437.8199834533, 8692.270453998852),\n (1134803.9496506474, 7712.357272661246),\n (1365274.8793724966, 9769.734468333641),\n (1317560.3766013815, 9474.04166733963),\n (982525.2872260232, 6988.85582055561),\n (1203054.0451796234, 7344.891166670983),\n (1169242.975161967, 7659.00891349525),\n (1184859.7110872832, 5339.034869890847),\n (886250.913615402, 4618.466304425231),\n (1329983.3879195573, 9089.770508672182),\n (1191936.5459603246, 8279.863684146847),\n (1087677.8166079705, 6281.551130513816),\n (1224925.6207235719, 5715.051624784651),\n (1409985.8351143647, 9590.178734458616),\n (1283167.3422908725, 7582.898677806247),\n (666925.4967330821, 2883.636494856496),\n (1175920.0671891642, 7217.5738192978315),\n (1425302.4031909409, 6775.458293821139),\n (1220627.377478198, 6991.019527271478),\n (1317560.3766013815, 7834.303686453892),\n (1189724.7929096243, 5898.786512365125),\n (1072336.476709866, 7257.160307041309),\n (1303263.4381070717, 6251.489128608707),\n (889097.6078972869, 5463.374207743898),\n (1155419.6094540523, 7036.2576427750755),\n (1108693.9978709985, 5626.720986835747),\n (1076499.2764210955, 5742.062956456339),\n (958890.8707046956, 5868.015838205892),\n (1057797.0156145843, 6005.0849735689135),\n (944940.3412602544, 5547.864038420678),\n (1288425.7918694166, 7248.558270650336),\n (1111456.1500968398, 5234.719470831953),\n (1097741.1307008744, 7351.795921972899),\n (1074125.3566486817, 9289.60976443951),\n (786447.5559882751, 4565.707257576196),\n (1091364.9474079884, 6076.59792659278),\n (1421205.6751091222, 9270.289049740542),\n (936782.676828834, 5806.7176436330265),\n (736313.5901776798, 5102.986347401532),\n (1444954.4027575077, 9678.678260612543),\n (1237975.346434109, 9516.19880158558),\n (1228880.1403864215, 7855.902488020587),\n (900431.2515580485, 4643.197088739261),\n (947055.6604687094, 5953.2537512586705),\n (1021810.182125701, 6407.419513281341),\n (725691.1567245659, 5356.8697853983285),\n (852395.4078976354, 5652.696123000547),\n (886326.664542207, 6569.4363539039805),\n (869598.8081867722, 5473.111709371304),\n (827834.95888073, 6542.794284942749),\n (979106.0593383489, 6388.0774180018025),\n (1269693.3773807664, 8785.608937384177),\n (1316828.2947484688, 6954.382514998421),\n (1055963.047434093, 7943.536032151384),\n (1365274.8793724966, 7734.373120764168),\n (1131801.112019967, 7831.524317347794),\n (1015127.2762211496, 6689.657705298186),\n (1331710.60289224, 6501.070319486754),\n (954153.7387135578, 4853.2597582804565),\n (1298273.666283946, 9328.683983678611),\n (1408760.1440968935, 9706.821282041787),\n (1400404.481978489, 9867.228682138453),\n (629709.9299360947, 2902.1285726756705),\n (1058093.083485995, 6957.2682522130035),\n (1319142.243727835, 6755.264145555687),\n (1091434.8245107052, 6313.306571034987),\n (934683.870461309, 6324.477572483226),\n (1106427.4391212135, 5858.389432317344),\n (1347757.8270583823, 9438.482543807993),\n (830318.6281400552, 4393.710556791526),\n (709785.2403590517, 4532.579203613776),\n (961518.0747650061, 6288.228278479039),\n (1319473.5315241383, 7635.602635924988),\n (1333815.0770772276, 10254.61220538811),\n (1353483.1815458774, 10618.616846220497),\n (1426534.635402221, 10697.713807579741),\n (1249582.1109275352, 6042.484891647759),\n (1205919.629914043, 8672.991704675589),\n (1123424.1075998093, 6617.5870639051955),\n (1186461.3084404792, 7754.699802883775),\n (1075880.750257893, 4474.7075153184105),\n (1248436.3426993247, 7214.616294170453),\n (1352377.0844746665, 6882.800416228011),\n (1278240.0948404039, 7618.212712900634),\n (953926.1289418322, 4436.512405560053),\n (1088560.818994215, 6058.903306766605),\n (695651.4754520737, 4080.1563761692837),\n (1285279.4409501469, 6792.185065017675),\n (1312112.3064170033, 9822.428391601634),\n (958703.0492112243, 5769.976646656702),\n (1095796.532371558, 7376.256381847938),\n (757051.8589570787, 4174.515403121216),\n (790222.6463209596, 4312.34362270342),\n (1285934.1049495037, 6563.2198601377195),\n (1320959.1820916447, 8616.147968379253),\n (1009989.918620904, 5546.570838284476),\n (845796.4466124099, 4506.151206123488),\n (1280789.426383391, 8912.259339893264),\n (1066294.8902466407, 5305.644234023469),\n (784875.0866883168, 3529.743434480379),\n (1131801.112019967, 6526.27026445647),\n (982609.5733663447, 5799.261004082759),\n (1325665.870940813, 6228.874094902568),\n (1452535.5511366567, 11570.086447237149),\n (1135652.8961151442, 7169.746148248765),\n (1354967.6951240902, 10634.170098640718),\n (1216558.7933349605, 5875.702927732012),\n (1096161.8839144546, 4902.267105442571),\n (951751.2605333177, 4810.0216013990475),\n (1056739.084880957, 6248.621133266268),\n (1061457.7708934008, 6301.911872926329),\n (1016889.0542214144, 5318.727780704252),\n (1197274.673718609, 7077.906853248048),\n (981401.9032823201, 6136.357478120592),\n (1439441.7116851148, 6886.193386728532),\n (1131643.4877330903, 8390.511173290934),\n (947552.2919297963, 8265.046464396413),\n (1295032.5210996107, 8362.362443346168),\n (1302609.9963143875, 8457.768268577656),\n (1423711.0678515225, 9585.938809879972),\n (1068189.0808148757, 6815.208507414462),\n (1071858.4466689206, 6611.3835174795095),\n (992914.9700353323, 4860.155966563272),\n (1253446.0364801928, 8549.176325807455),\n (1154992.0653850052, 8331.809583841086),\n (1252157.7749108209, 8436.640307599253),\n (1202423.1060005059, 7650.495794498814),\n (1439378.0239789037, 7356.019399709158),\n (1317236.334654042, 6963.1594605274195),\n (1125266.1819413097, 6845.199503475759),\n (1180142.9849416832, 7546.717449575083),\n (1177624.6256728854, 7389.2015441977655),\n (1281342.5043291564, 8299.70771638044),\n (1234354.225325356, 7527.329747297096),\n (923750.9733806653, 5043.7455495598615),\n (915751.3308750304, 5130.330656957335),\n (913988.7322745884, 5315.201203757537),\n (1145763.4404640729, 6804.569494347863),\n (1328087.3485032204, 8372.368436342149),\n (1174730.4426993777, 5785.36018968308),\n (1040938.7298985727, 4931.06216289739),\n (1431355.6640508997, 11642.377775523513),\n (1274934.416873629, 8182.115490307291),\n (1102102.2619340762, 7781.247255203089),\n (1158807.2781745484, 5330.042823642452),\n (1165510.2017846112, 7944.773806272097),\n (1357912.7114292623, 7709.045192897424),\n (1110216.0957814266, 6322.91882490922),\n (1345070.8585609936, 9839.598465389035),\n (1290519.6219352183, 7255.101072072561),\n (850853.2150388056, 6182.500424732818),\n (1211411.700456141, 7247.1627932598585),\n (1188077.002313632, 7176.947321006807),\n (1086919.233978698, 5992.039923775533),\n (1005901.2391423689, 7197.415739132314),\n (1297604.299165228, 9142.6806602976),\n (1176456.3057491514, 7891.235089611327),\n (1272221.8175372314, 7591.903102470274),\n (1101584.3187455663, 6677.252716770489),\n (1060982.8391585643, 4329.731048926273),\n (953560.8605261387, 4965.766360174893),\n (969036.9285436303, 7642.125519981268),\n (1188902.5117573447, 8083.70391410471),\n (981039.4100329735, 5926.345046958006),\n (1207269.1719590288, 7323.246694225059),\n (1118269.5090395443, 8748.720342177941),\n (805872.0083932504, 4725.039441716404),\n (1204340.9079221708, 7051.397106637512),\n (1408109.0712505912, 10379.488157538164),\n (1105572.323944376, 5556.519379260954),\n (1385814.4778820546, 8368.336413234363),\n (1419456.1537667783, 9431.70572111564),\n (1216203.5731947664, 7824.5925935960995),\n (1159555.7335477918, 5952.488070841265),\n (1335003.3603343323, 9880.142121896863),\n (1320959.1820916447, 10110.785881261363),\n (1379644.7021999685, 8106.504241469114),\n (1198927.2482069347, 6693.388487982645),\n (865767.3692410795, 6030.518581711166),\n (1051647.0532141416, 4798.897406831565),\n (1209210.6253915825, 7413.982797713854),\n (775039.9667070039, 4573.539254081679),\n (1010196.7868903, 6939.555517586601),\n (1142420.2697299134, 8949.961070836951),\n (1084282.2005815106, 9437.382975913826),\n (1077274.5769422464, 4787.2953864532665),\n (1293526.7142869127, 7578.689471375419),\n (851592.3875278123, 4810.9898936384125),\n (1471180.0263592901, 10611.783099566608),\n (1133518.3572666675, 7028.572118851622),\n (1314149.0183999864, 8161.4092926767735),\n (1132739.254969728, 5949.479353758888),\n (1309263.195870718, 9524.363661060082),\n (1444607.5782865176, 9337.565636735899),\n (1313379.364650791, 7191.156212928792),\n (1134029.4943436438, 8781.897503911989),\n (1111544.5869603932, 5996.4885021532355),\n (1422766.4694513192, 9903.866614703218),\n (1225412.332501327, 5247.488317853173),\n (991567.9140351507, 5062.498674042385),\n (1111140.743868258, 6353.6353675350665),\n (1319989.716519681, 6632.283465508337),\n (1318881.8985976975, 8659.626839891936),\n (1143326.2471026548, 9459.745640954467),\n (1427055.1648400016, 9669.60638969549),\n (1029513.7806880111, 6943.3868644760905),\n (813815.9256274573, 4431.278726442144),\n (1444607.5782865176, 9645.397470914004),\n (918361.3980556284, 7283.141709107696),\n (1396235.4570039904, 9198.110477349983),\n (1290519.6219352183, 7468.486397721749),\n (1033319.6072810886, 6019.154069028261),\n (1214436.1958301857, 9070.910113525122),\n (1176728.6705132353, 6167.687713653214),\n (1252108.7674050427, 7493.794673742889),\n (1083728.9232110311, 5308.056703497189),\n (1059432.679397275, 5028.778662555374),\n (1409871.3296044206, 11384.37753489983),\n (1318840.1692690768, 9260.516383201555),\n (1327261.3310230293, 10467.312073042352),\n (792618.4552939319, 3781.92375222563),\n (1130277.6201539433, 8260.461965639723),\n (1188086.087319587, 6197.5111445795665),\n (895891.0058305542, 4363.629238600787),\n (1346913.1118729126, 9713.823903044104),\n (1071187.4584629352, 7241.992887590107),\n (921191.9840499109, 4361.366531436035),\n (1003899.9720123749, 4932.380019018127),\n (1154605.4254126037, 8020.67922649956),\n (1345059.246713224, 9135.744879547045),\n (1198457.294528971, 6134.438879815824),\n (1182295.221993125, 9081.220566474665),\n (1406916.7897176768, 9991.502456565322),\n (950928.0296238377, 4911.266017769612),\n (1393805.518520897, 7789.823456143976),\n (1430426.886829918, 8168.296738625553),\n (1234354.225325356, 7762.5588019001525),\n (618937.5965179238, 3388.320185284928),\n (1058324.82927048, 9298.43214899212),\n (665240.3938690395, 3765.8631726598446),\n (846198.2068220085, 3707.1225230415585),\n (775039.9667070039, 3713.5575139979724),\n (1008796.9767318226, 5802.659257894674),\n (1087945.6899838527, 5175.446824362068),\n (1072053.5130554838, 6923.359194238579),\n (1361849.6453105274, 11902.22026613819),\n (1431389.6714902085, 9616.451369435563),\n (971106.7558540886, 7425.37323482533),\n (1243244.0702691372, 8837.701438349457),\n (954940.3393356127, 6859.894882952056),\n (1308989.280641904, 8811.349939440279),\n (815680.5829398164, 6389.797261238169),\n (620992.5753933374, 4617.328678778431),\n (1296790.8157723362, 9099.452879939063),\n (1070552.5170359344, 8621.297715452627),\n (931312.2342563737, 7307.012212510529),\n (1222861.1163801844, 7546.754785507995),\n (1261084.4129742878, 8629.723411252797),\n (1259123.3295478825, 6916.307669972792),\n (1288138.481163074, 7677.669740737464),\n (1176743.5762574025, 6880.680360376282),\n (1112660.4289125465, 7541.38068696637),\n (862458.4596803155, 7012.232594867353),\n (1008278.9799856507, 4874.632486175472),\n (1254479.5827279782, 7169.708493986829),\n (1161444.3722414877, 8363.99539255928),\n (1157113.6391768027, 6397.529779840868),\n (1255257.6581914406, 8692.004632531463),\n (1122250.9049343765, 6614.992891462865),\n (792153.0235428038, 4182.10165954863),\n (1028571.6968774168, 7847.677396160982),\n (770891.6787539154, 3627.845547199611),\n (1166444.9921975546, 7534.668297483065),\n (1308400.936866408, 7994.4572239487),\n (1150598.4767606521, 6000.681948979436),\n (952126.5151379253, 5636.080501081599),\n (958886.8033844503, 4280.585483662516),\n (1062578.53986218, 5451.422863466113),\n (1147048.2537179494, 7657.327763654112),\n (1342117.221112256, 10870.912002240211),\n (1375530.5744902357, 7414.9873519073935),\n (1082361.6629917484, 6015.293325908784),\n (1004169.2671029092, 7236.489001923247),\n (1342783.9518189717, 7269.654755783407),\n (1158397.554818983, 6325.132414916315),\n (1081273.1536378574, 4871.153842218518),\n (818668.4232877614, 4630.330227874625),\n (971117.8826428279, 6175.253723972428),\n (1228273.1740529404, 9181.008239629247),\n (889206.9538505471, 4411.427989912276),\n (1141398.6616758385, 8426.201744744534),\n (1379200.8515655114, 6714.525820189653),\n (1039314.035815759, 6416.172612872347),\n (1112920.7577558067, 7925.871510135366),\n (1265157.4274297794, 6211.1696611304),\n (1183600.8352511937, 9449.54408750493),\n (1444064.4654692488, 9657.473761727397),\n (677601.114479329, 3391.7445496977066),\n (1379200.8515655114, 7523.504834670286),\n (1044254.285597609, 6394.55383984168),\n (1183280.7523599504, 6214.861655021703),\n (1008796.9767318226, 6492.084120218747),\n (1263645.1403338236, 7464.527155646926),\n (963757.4865101395, 6368.670701705386),\n (1317944.7425659178, 8392.028606019761),\n (889055.7276041638, 6493.9333981694845),\n (1341842.9274506727, 9243.21629860928),\n (1269935.3123000525, 7958.1698214578),\n (816882.7289105965, 3916.775323806049),\n (1419533.891948776, 9236.348609193397),\n (1190771.5089290834, 7712.421179382843),\n (1386071.002459281, 8440.665838805535),\n (1218915.5907564699, 6432.342548015454),\n (776157.9674524411, 3638.0129869388875),\n (1205521.710136465, 7591.6156054023795),\n (1213685.2837020587, 7619.565543602071),\n (803018.6030594243, 5199.672803604568),\n (888285.1489918275, 6268.743279508356),\n (1353238.0492449289, 9147.264698720499),\n (865197.2753619736, 5377.811284934951),\n (947452.635645017, 5987.553509534197),\n (1278435.1638765964, 6218.4890185890945),\n (944538.923170804, 5331.308863965789),\n (1118042.8841019874, 4865.864283689493),\n (1390437.8199834533, 9354.538679065432),\n (1292439.4624472044, 9365.163904748655),\n (1315876.9202551942, 8599.431534873016),\n (1263832.2728283652, 6248.1982468954675),\n (1001150.1078533059, 6888.662989478197),\n (706496.3814007458, 5128.494753312625),\n (1009989.918620904, 6246.623468359207),\n (1319268.2970225336, 8325.236042259827),\n (1027948.2142099988, 7151.679112100262),\n (1041307.0897002036, 5744.037265812108),\n (1214811.3888061915, 9788.945835157208),\n (1040938.7298985727, 4571.505546852803),\n (1354027.7887233077, 9488.17996897979),\n (675247.1120893692, 4637.198948203007),\n (936102.9490840579, 4244.444956749428),\n (1316086.511487289, 7653.183723430058),\n (1269601.2942613757, 9800.645246908158),\n (1388106.428909095, 10217.536908338367),\n (1147136.6031019269, 7027.569942491114),\n (1159679.562058977, 6665.473586360146),\n (1149355.7804527634, 5738.356901785969),\n (1209692.5465990836, 8503.104020851164),\n (995627.2165288366, 6001.566138633929),\n (1063939.4938676893, 5914.36035171207),\n (823169.8591439826, 4615.546641097279),\n (1286135.3609387132, 6547.603503258098),\n (1295167.87072157, 6608.294873743356),\n (1213966.5004919143, 5967.004318390976),\n (1336972.7941073768, 7790.513189896279),\n (940955.0116513509, 5714.683531678586),\n (1022094.9839853183, 4375.905628089789),\n (812706.792961522, 4681.23110821918),\n (834709.5596322258, 4895.014730065289),\n (1289359.6211842254, 7522.118522761914),\n (1217816.2604934084, 9465.398793876378),\n (876005.5090454113, 6874.907225754879),\n (1274757.189803263, 9726.72680331391),\n (959036.7608687979, 6269.4541103273505),\n (1258211.0781595209, 8155.436638974391),\n (1071003.2322072648, 6579.288148627854),\n (1377187.5417367388, 8854.101690002477),\n (715315.3504928083, 4602.919263733395),\n (1439228.0649894255, 11948.005028239257),\n (1269934.3141784396, 6634.327306605249),\n (983861.4353071775, 5517.871533573423),\n (987827.908958279, 6711.154253239404),\n (1221018.9290951951, 6588.449334752795),\n (1185600.380961285, 7193.412342040306),\n (1100894.032930479, 6055.222858285441),\n (1010628.1403269725, 7128.598179835129),\n (1335464.417503816, 9240.205101534766),\n (1357145.1084828079, 7289.191602849238),\n (1275006.3559240259, 8505.794729172949),\n (1275976.6582943606, 7548.229927212512),\n (1408109.0712505912, 9744.009290750138),\n (1150640.8723602784, 5327.569759717019),\n (1405202.113327959, 8424.240379650819),\n (1277028.6417396532, 8443.141042323186),\n (1264299.3680628033, 7518.857369965725),\n (1448354.4278098047, 9225.628565476796),\n (1295087.305084378, 7811.254420569195),\n (1028778.83727703, 6468.403372566794),\n (1158807.2781745484, 7063.912175911671),\n (945734.0935500907, 6590.723121879255),\n (1035419.1568456563, 5250.1164359370005),\n (699681.4356177772, 3952.968435886698),\n (1197690.8345083885, 8983.399698728079),\n (1074187.0867208643, 5580.400887397667),\n (1066075.1069672806, 6324.840344756009),\n (702778.8163982722, 3782.377072769028),\n (1326721.9132693175, 7725.114401736626),\n (1283288.863564603, 6338.46912870384),\n (1230517.6291010936, 7786.856830429092),\n (1180477.7660243732, 7860.53272721055),\n (1306874.9345186753, 8233.975115220224),\n (1308208.2809846052, 8618.795836578909),\n (1020306.560819786, 6662.926168929886),\n (764461.4981920471, 6567.902829504735),\n (975007.4096317025, 8082.231266569787),\n (1337243.2064084609, 10720.660027554657),\n (1262449.5877986893, 9725.953464536908),\n (900239.1734087537, 4225.03291708327),\n (1003899.9720123749, 4987.1842414516395),\n (1183315.6285925389, 6975.46828536023),\n (1039353.9072654953, 8336.650345690125),\n (875762.4965147412, 4810.17573001375),\n (752449.812580189, 4430.60041140091),\n (1050356.011538586, 5030.437557757987),\n (1348647.70303362, 7517.554660152916),\n (1434539.9318585584, 9199.96639918499),\n (1216207.4233013573, 8149.344725833413),\n (595568.521391796, 3077.193247524892),\n (584242.1081721721, 3833.993708724789),\n (1360660.5429448273, 9344.557786782045),\n (1031115.1230535818, 5317.972179113389),\n (1037450.7972939555, 6039.014434246135),\n (1349133.7684145665, 9089.900286668108),\n (1108201.2390983773, 6503.064117019529),\n (1023710.7671328182, 5742.671814816678),\n (925014.128452365, 5071.206964290808),\n (698046.3799170951, 3975.054348266431),\n (947248.2434296132, 6305.7488521109635),\n (1171326.4579702036, 6312.554890307257),\n (1016971.162461133, 6811.910754985958),\n (1335422.527658785, 6561.341301577996),\n (1192104.571542311, 6764.958428086917),\n (1110408.3371785968, 6435.354797639962),\n (1296576.711028736, 7668.572887072602),\n (971635.1490010904, 4878.952370160549),\n (1240719.741468542, 9242.361382411624),\n (1396254.074941257, 9510.885924816508),\n (1200164.2994117555, 8251.933989550005),\n (1342735.5099054836, 7513.538656624477),\n (1055483.6151218622, 7928.322319115822),\n (1150215.8464210301, 6688.6392562246),\n (1121027.8103052217, 8629.233000718097),\n (1252678.7628050365, 10241.776567763909),\n (1186816.0212893854, 6584.149320361292),\n (1318083.5793109473, 8573.879906764403),\n (1185832.7461246066, 9781.17285252219),\n (1250220.262453763, 6292.35158446524),\n (1122250.9049343765, 8032.491368204877),\n (715469.4642911959, 3608.354206614217),\n (889203.0409613986, 4113.8304124068145),\n (1029513.7806880111, 7169.801653535123),\n (1303209.9835501534, 6411.604582007219),\n (1264700.4741382566, 9936.744481408938),\n (889674.5402865302, 6921.9500449688685),\n (868421.6021925826, 4442.1331432627285),\n (1319742.26473206, 8728.766556885406),\n (1336674.475717136, 10458.130130590007),\n (1326263.7526620042, 11784.117897877877),\n (936901.6725850094, 6910.531491851118),\n (1085594.7416918182, 6193.987977393984),\n (1183353.5227776838, 6938.727976464485),\n (1303878.8608079783, 7462.45129143263),\n (982316.6521194559, 5986.157848145911),\n (1114864.4276111792, 6339.224085448051),\n (815680.5829398164, 5453.361455711894),\n (1435177.7468353612, 12182.830726906723),\n (969667.9141498171, 4459.585835076752),\n (962348.0588900369, 6136.741550618565),\n (842551.9960124273, 5151.50745267103),\n (1027952.5802444371, 5379.303420981898),\n (1364982.3553706924, 7392.825041737543),\n (947248.2434296132, 5139.980156762746),\n (970744.2723743748, 6389.868455000449),\n (1267231.775548988, 8551.194563905416),\n (1205841.8974174862, 6987.10725917398),\n (1227401.1420466318, 6513.69585127299),\n (1295505.35988797, 7596.656508194496),\n (1271447.2909518126, 7806.728407913884),\n (1171678.4188146447, 6621.057971177296),\n (837402.8682760035, 3996.5068304863116),\n (857471.3901765369, 3697.0043037296236),\n (1150455.8398966256, 6460.465476158954),\n (993353.5386873089, 7326.540232314356),\n (1026983.6101076232, 4909.870995321165),\n (1268024.5990278122, 8438.70570539187),\n (1054182.911473041, 5298.13799223147),\n (1233218.8479694058, 7690.55295702961),\n (1092133.2435263763, 4808.216310794118),\n (1272674.3284366669, 10527.629343072893),\n (1044254.285597609, 6770.704065714686),\n (1260052.7321139374, 7345.039732370629),\n (928870.3333775768, 5016.440725464375),\n (1072455.0622937453, 5634.665986326619),\n (1257439.5917680187, 10133.019737179538),\n (1091748.7600108897, 7161.175916289368),\n (1346489.2167687367, 7703.752871606814),\n (909713.4616838736, 4179.861911401921),\n (911041.702589081, 6523.8700121109505),\n (1292935.5664414624, 9125.319400565135),\n (798150.1810730906, 4901.489863901895),\n (818852.8697687903, 6290.129025745329),\n (1072851.445848189, 7586.66318686433),\n (1353341.14188001, 7349.621797047967),\n (1307306.8640165196, 7214.924350141552),\n (1094231.0609804569, 5609.253717478562),\n (1068189.0808148757, 5307.419014623627),\n (644798.9212601685, 3000.6895827218436),\n (982096.3670012775, 5597.388407014993),\n (1092721.1689459588, 8082.4085216911335),\n (1324113.4907669476, 7244.4317544191545),\n (1254898.2342405953, 7704.42081315213),\n (1275388.9320786244, 6405.910159488489),\n (1111544.5869603932, 7168.216140505025),\n (1318546.0564434826, 8371.273932954246),\n (1259821.2186655132, 10037.205659511106),\n (1375453.4009756239, 10279.189914032388),\n (874038.8793962136, 6042.807029028322),\n (1277724.9999468846, 7300.800152703496),\n (892799.3130123367, 5680.623807297196),\n (1211411.700456141, 7576.579283862572),\n (1075177.831155735, 4318.1542081258),\n (1194969.4018870895, 7066.539864969188),\n (701895.5058330907, 3052.2561464808086),\n (1238791.8118296762, 8737.19938870542),\n (982579.4886795247, 4042.7452210664014),\n (1152121.4179034005, 6942.0664708834065),\n (1374894.0886763919, 7766.374314584755),\n (1308265.8776157282, 7406.330139039272),\n (1297418.9983161637, 9022.40570073685),\n (1154580.7855553261, 7528.589947868268),\n (1321773.765679913, 6589.56950652558),\n (1113945.9952792702, 6186.573573491799),\n (1395805.5849640917, 8163.763321037588),\n (1131295.2247931822, 6709.979844086188),\n (1224106.5803370574, 8109.6054635486935),\n (1159679.562058977, 5586.301672378074),\n (1339405.7779496743, 8732.42380333706),\n (822969.086734164, 4973.536881910165),\n (1042272.220060875, 6943.244403542048),\n (960560.7954584854, 7900.138010711872),\n (1291318.4347860452, 9003.052498863686),\n (1442490.750081796, 9724.935795335148),\n (1216953.7903139973, 7927.322028578786),\n (877247.0571126789, 4987.6047601758755),\n (1056241.1288589092, 7425.512511887874),\n (1269934.3141784396, 8351.447315373658),\n (1346320.909116358, 7950.4680252215885),\n (1380696.8162413717, 7074.44865367295),\n (889055.7276041638, 6365.340657611596),\n (1249076.2576031461, 7441.279212161262),\n (1072851.445848189, 5232.181508182303),\n (1090090.5133125493, 5046.70945883564),\n (1370242.2048616896, 8016.765866288082),\n (1166444.9921975546, 7001.2404534135285),\n (1110408.3371785968, 7185.104871151388),\n (1383491.142813252, 8175.32444517772),\n (1113884.0113837915, 8297.80944329141),\n (931829.7563858365, 6218.467231738332),\n (1335422.527658785, 7047.366583176351),\n (1258211.0781595209, 7714.602226056822),\n (957289.5132395119, 5818.32705578808),\n (1274214.3186949922, 7950.554592066677),\n (1401686.817342506, 9232.09086307194),\n (1333816.206695733, 8059.842788481334),\n (1380715.171000528, 10237.599693689503),\n (1347757.8270583823, 8228.420679217208),\n (1384453.2197309006, 7978.342303750263),\n (1132762.6202040112, 8107.764647860716),\n (936168.1724690556, 6099.610191816968),\n (742479.2834157728, 4473.862075975785),\n (1081072.7952430083, 6272.941149828296),\n (738428.1587750975, 5058.2760632381305),\n (854483.9353170526, 4348.87421595328),\n (1147048.2537179494, 6997.213301270153),\n (1166987.1730472774, 5513.983049498398),\n (1147674.9553152842, 7104.587580789679),\n (1148379.596761469, 8702.036477277268),\n (912403.258008743, 5556.775967934795),\n (1063195.1342377434, 6467.322239922944),\n (997917.5523117976, 4754.399221590702),\n (1296724.6292530326, 9282.439694359042),\n (1202875.493917177, 6448.29989848386),\n (630691.4066455233, 3062.7176291101787),\n (1384668.4209459438, 7408.2078004994155),\n (1194147.8809221643, 7238.505358056455),\n (1241051.2573958894, 7534.12621543926),\n (1044048.866247748, 6982.640158806887),\n (1103276.8085286766, 6395.527854811394),\n (850853.2150388056, 6244.325428980141),\n (1382666.2774974003, 8913.281917610735),\n (1041732.6006299236, 4740.286889526337),\n (1398845.436665346, 8621.411848336164),\n (1181411.6288722218, 6369.778994928871),\n (1428396.6794758434, 8193.44395901417),\n (763464.0882290457, 3887.7458918933794),\n (1304884.172880911, 9928.534390489012),\n (1256102.457291555, 8070.804530723385),\n (1031893.7413814726, 5964.298377822211),\n (1288289.9165366446, 9019.287453780724),\n (1305254.169614838, 6977.291020888001),\n (1285279.4409501469, 6873.044411029772),\n (781416.0230867497, 4425.943439180147),\n (960525.0284684009, 6763.260854769538),\n (1427803.1196826904, 9000.372029220402),\n (1108133.8532378888, 6849.815318596372),\n (1315111.4514157595, 6855.115803438125),\n (1168725.990318784, 8261.335516991689),\n (1376936.7974908988, 8732.600672941991),\n (1137135.396780206, 7468.267415317871),\n (1440229.7376154384, 10219.5289608863),\n (727342.8607212901, 4242.667772777163),\n (1193553.4620460975, 7137.989781887912),\n (1264380.6943603843, 6093.192932549432),\n (861836.3979959954, 5500.652837425982),\n (891671.8317367332, 6543.143083457861),\n (1167316.6589955657, 7740.5591552982705),\n (1245829.7196334784, 7762.94223782334),\n (998397.3304078946, 6207.06774131908),\n (1062901.471841748, 6569.3622428610715),\n (1401795.1447787767, 8497.339841354562),\n (905472.9626074688, 5565.072506364863),\n (1006355.4188229947, 7120.426999971836),\n (1259668.709739101, 8025.939955187334),\n (1155979.5063098564, 7866.508897858916),\n (1040435.5408586734, 6150.309120216308),\n (1074416.332040514, 6921.652598678395),\n (822969.086734164, 5061.564083359907),\n (951857.9478051226, 6028.267257361274),\n (958890.8707046956, 7801.793784887374),\n (970880.4147437598, 4891.875956789579),\n (1335003.3603343323, 9779.32434514276),\n (1264572.735191949, 6749.684284053984),\n (1262156.1119446603, 8419.61698244935),\n (1257719.823203281, 8177.126275630544),\n (1240504.9935249446, 10325.861783671586),\n (926180.7933951379, 4626.022973789371),\n (1294210.347930798, 8173.740478179741),\n (1396254.074941257, 8605.087265310105),\n (1036785.1964450205, 5850.575317016958),\n (988309.3646539462, 6020.368181777694),\n (1057961.2201445303, 4487.258838063398),\n (910443.231690347, 4464.843434941294),\n (1247931.1773512047, 7611.644313133146),\n (1161622.7923138372, 8991.21755680895),\n (1216915.2098962364, 6484.950688063894),\n (1155419.6094540523, 7201.8166461344545),\n (639315.1175066279, 4048.7747565756536),\n (1173756.1106545883, 8050.151423601857),\n (738670.6073857736, 3283.8238907557784),\n (831891.86437959, 5141.165473076074),\n (1020459.7754355029, 5498.662641893064),\n (1261085.8153020847, 7425.568378919745),\n (1187347.0538206403, 7785.120183926731),\n (1152736.8165714154, 6599.946007122303),\n (1386915.0448937537, 10584.05909994208),\n (1318840.1692690768, 9260.516383201555),\n (667962.0664914505, 3570.828938627823),\n (679973.3438166152, 3943.3653982038104),\n (1206408.8876018305, 6829.385759853329),\n (1108743.8162016608, 7688.922061908223),\n (879605.2234353297, 4845.2358953276935),\n (1321839.2810921913, 8860.93557554799),\n (1143218.5805823007, 7321.1562587410635),\n (1404777.2753425983, 9483.565851796171),\n (1253758.3898691847, 6089.810808306338),\n (1154222.0442649235, 4885.795931610335),\n (895241.2098989483, 4941.607067460344),\n (918361.3980556284, 5947.89906243796),\n (1231484.6348840832, 7818.371995134844),\n (1257439.5917680187, 7748.779799019649),\n (1051884.688690667, 5916.603953650899),\n (1296530.3532742632, 9005.388895978247),\n (1049188.8388533772, 4812.701490221928),\n (1361365.4271608784, 9649.006871251418),\n (1344551.0290693985, 9226.947206476492),\n (854908.9263331711, 3572.767520252573),\n (1152702.6775515224, 8128.907577196653),\n (1381822.4806107802, 11091.130143984381),\n (1264572.735191949, 7737.442959769235),\n (1342302.7258783642, 10286.60442358846),\n (909536.3285458415, 5199.676734525454),\n (1130139.4787726607, 7010.170327620763),\n (1290050.852134884, 8032.335000716282),\n (1248100.8067729347, 7678.747552516963),\n (1342870.397986499, 8625.980974638655),\n (852395.4078976354, 6138.94955293612),\n (1246989.689783589, 7760.297936357486),\n (1077262.1655980935, 4712.987008695988),\n (810970.4198755859, 4492.522856743133),\n (865771.0196544828, 3927.371249908485),\n (1268884.067641207, 8345.778223032576),\n (828449.1346342065, 4309.081333980343),\n (1324370.553419013, 7310.348764090796),\n (1140436.7406825165, 6880.504150128138)]"
     },
     "execution_count": 9,
     "metadata": {},
     "output_type": "execute_result"
    }
   ],
   "source": [
    "cases_per_year_list"
   ]
  },
  {
   "cell_type": "code",
   "execution_count": 10,
   "metadata": {
    "pycharm": {
     "name": "#%%\n"
    }
   },
   "outputs": [],
   "source": [
    "with open('cases_per_year_list.pickle', 'wb') as handle:\n",
    "    pickle.dump(cases_per_year_list, handle, protocol=pickle.HIGHEST_PROTOCOL)"
   ]
  }
 ],
 "metadata": {
  "kernelspec": {
   "display_name": "Python 3",
   "language": "python",
   "name": "python3"
  },
  "language_info": {
   "codemirror_mode": {
    "name": "ipython",
    "version": 3
   },
   "file_extension": ".py",
   "mimetype": "text/x-python",
   "name": "python",
   "nbconvert_exporter": "python",
   "pygments_lexer": "ipython3",
   "version": "3.8.5"
  },
  "toc": {
   "base_numbering": 1,
   "nav_menu": {},
   "number_sections": true,
   "sideBar": true,
   "skip_h1_title": false,
   "title_cell": "Table of Contents",
   "title_sidebar": "Contents",
   "toc_cell": false,
   "toc_position": {},
   "toc_section_display": true,
   "toc_window_display": false
  },
  "varInspector": {
   "cols": {
    "lenName": 16,
    "lenType": 16,
    "lenVar": 40
   },
   "kernels_config": {
    "python": {
     "delete_cmd_postfix": "",
     "delete_cmd_prefix": "del ",
     "library": "var_list.py",
     "varRefreshCmd": "print(var_dic_list())"
    },
    "r": {
     "delete_cmd_postfix": ") ",
     "delete_cmd_prefix": "rm(",
     "library": "var_list.r",
     "varRefreshCmd": "cat(var_dic_list()) "
    }
   },
   "types_to_exclude": [
    "module",
    "function",
    "builtin_function_or_method",
    "instance",
    "_Feature"
   ],
   "window_display": false
  }
 },
 "nbformat": 4,
 "nbformat_minor": 1
}