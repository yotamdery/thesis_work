{
 "cells": [
  {
   "cell_type": "markdown",
   "metadata": {
    "pycharm": {
     "name": "#%% md\n"
    }
   },
   "source": [
    "## This notebook produces cases per year for the mortality based uniform simulation"
   ]
  },
  {
   "cell_type": "code",
   "execution_count": 1,
   "metadata": {
    "pycharm": {
     "name": "#%%\n"
    }
   },
   "outputs": [],
   "source": [
    "import numpy as np\n",
    "import pandas as pd\n",
    "import itertools\n",
    "import pickle\n",
    "import datetime, random, copy\n",
    "import sys, os, tqdm\n",
    "\n",
    "import SEIR_full as mdl\n",
    "import SEIR_full.model as mdl\n",
    "import SEIR_full.calibration as mdl\n",
    "from SEIR_full.indices import *\n",
    "from SEIR_full.utils import *\n",
    "from SEIR_full.parameters import *"
   ]
  },
  {
   "cell_type": "markdown",
   "metadata": {
    "pycharm": {
     "name": "#%% md\n"
    }
   },
   "source": [
    "* Fixing the ranges of the uncertainty factors that we're interested in:"
   ]
  },
  {
   "cell_type": "code",
   "execution_count": 2,
   "metadata": {
    "pycharm": {
     "name": "#%%\n"
    }
   },
   "outputs": [],
   "source": [
    "# Creating a list of tuples, each tuple is a realization of randomly picked values for the factors that we change every iteration of the simulation\n",
    "np.random.seed(34)\n",
    "list_of_tuples = []\n",
    "for i in range(1000):\n",
    "    booster_eff = round(np.random.uniform(low=29.5001, high=95.5)) / 100      # Discrete uniform dist, booster_efficiency ~ U(30, 95), Updated in the model's object\n",
    "    inv_level = round(np.random.uniform(low=9.5001, high=20.5)) / 100       # Discrete uniform dist, booster_efficiency ~ U(10, 20), Updated in the simulation's settings\n",
    "    hosp_proba_scalar = round(np.random.uniform(low=0.8, high=1.2), 2)      # Continuous uniform dist, booster_efficiency ~ U(0.8, 1.2), Updated in the model's object\n",
    "    years_for_model_run = round(np.random.uniform(low=.5001, high=5.5))         # Discrete uniform dist, booster_efficiency ~ U(3, 10), Updated in the simulation's settings\n",
    "    list_of_tuples.append((booster_eff, inv_level, hosp_proba_scalar, years_for_model_run))"
   ]
  },
  {
   "cell_type": "markdown",
   "metadata": {
    "pycharm": {
     "name": "#%% md\n"
    }
   },
   "source": [
    "* Fixing the static settings for all runs of the big loop"
   ]
  },
  {
   "cell_type": "code",
   "execution_count": 3,
   "metadata": {
    "pycharm": {
     "name": "#%%\n"
    }
   },
   "outputs": [],
   "source": [
    "## DEFINING STATIC SETTINGS (INDEPENDENT IN THE DYNAMIC FACTORS) FOR THE SIMULATION RUN\n",
    "# Short path for the data directory\n",
    "DATA_DIR = r'/Users/yotamdery/Old_Desktop/git/SEIR_model_COVID-main/Data'\n",
    "# Reading the indices of the model - adding an hint to declare it's from type Indices!\n",
    "with(open(DATA_DIR + '/parameters/indices.pickle', 'rb')) as openfile:\n",
    "    ind:Indices = pickle.load(openfile)\n",
    "\n",
    "# Create indices for the age groups for easy & automatic access to the results of the operation in the script:\n",
    "age_groups_ind = {'5-9':0, '10-29':1, '30-59':2, '60+':3}\n",
    "\n",
    "# Reading the neutralized vectors:\n",
    "# Alpha variant vector\n",
    "with open(DATA_DIR + '/parameters/neutralized_alpha_variant_vec.pickle', 'rb') as pickle_in:\n",
    "\tneutralized_alpha_variant_vec = pickle.load(pickle_in)\n",
    "\n",
    "# Delta variant vector\n",
    "with open(DATA_DIR + '/parameters/neutralized_delta_variant_vec.pickle', 'rb') as pickle_in:\n",
    "\tneutralized_delta_variant_vec = pickle.load(pickle_in)\n",
    "\n",
    "# Beta_lockdown vector\n",
    "with open(DATA_DIR + '/parameters/neutralized_lockdown_vec.pickle', 'rb') as pickle_in:\n",
    "\tneutralized_lockdown_vec = pickle.load(pickle_in)\n",
    "\n",
    "# Beta_school vector\n",
    "with open(DATA_DIR + '/parameters/neutralized_school_vec.pickle', 'rb') as pickle_in:\n",
    "\tneutralized_school_vec = pickle.load(pickle_in)\n",
    "\n",
    "# Isolation morbidity ratio vector\n",
    "with open(DATA_DIR + '/parameters/neutralized_isolation_morbidity_ratio_vector.pickle', 'rb') as pickle_in:\n",
    "\tneutralized_isolation_morbidity_ratio_vector = pickle.load(pickle_in)\n",
    "\n",
    "# zero vector to remove any transition from V_2 and S_2 to V_3\n",
    "with open(DATA_DIR + '/parameters/neutralized_transition_rate_to_V_3.pickle', 'rb') as pickle_in:\n",
    "\tneutralized_transition_vector = pickle.load(pickle_in)\n"
   ]
  },
  {
   "cell_type": "markdown",
   "metadata": {
    "pycharm": {
     "name": "#%% md\n"
    }
   },
   "source": [
    "* Utils functions:"
   ]
  },
  {
   "cell_type": "code",
   "execution_count": 4,
   "metadata": {
    "pycharm": {
     "name": "#%%\n"
    }
   },
   "outputs": [],
   "source": [
    "# Getting the reported unreported ratio\n",
    "def get_reported_unreported_ratio(scen):\n",
    "    if scen == 'Scenario2':\n",
    "        reported = 1\n",
    "        unreported = 2\n",
    "        reported_unreported = unreported / (reported + unreported)\n",
    "    return reported_unreported\n",
    "\n",
    "# Getting all region,age combinations as a list\n",
    "def get_all_region_age_combinations():\n",
    "    \"\"\"This function returns a list of tuples of all region,risk,4-age_group combinations\"\"\"\n",
    "    counties_list = list(ind.region_dict.keys())\n",
    "    age_groups_list = list(age_groups_ind.keys())\n",
    "    return list(itertools.product(counties_list, age_groups_list))\n",
    "\n",
    "def region_age_groups_mapping(wanted_mapping: str):\n",
    "    \"\"\" This function gets a wanted mapping (4 examined age groups to 9 original model's age groups or vice versa),\n",
    "    and returns a dictionary consist of the wanted mapping\n",
    "    \"\"\"\n",
    "    # Initializing the final mapping to return and it's keys:\n",
    "    mapping_dict = {}\n",
    "    all_comb_4_age_groups_list = get_all_region_age_combinations()\n",
    "    if wanted_mapping == '4-to-9':\n",
    "        # Iterating over all possible combinations with the 4-age_groups:\n",
    "        for combination in all_comb_4_age_groups_list:\n",
    "            # The list that the current combination will map to\n",
    "            curr_res_list = []\n",
    "            # A list to iterate when building the curr_res_list - depending on the current and new age-group:\n",
    "            if combination[1] == '5-9':\n",
    "                correspondent_age_groups = ['5-9']\n",
    "            elif combination[1] == '10-29':\n",
    "                correspondent_age_groups = ['10-19', '20-29']\n",
    "            elif combination[1] == '30-59':\n",
    "                correspondent_age_groups = ['30-39', '40-49', '50-59']\n",
    "            else:\n",
    "                correspondent_age_groups = ['60-69', '70+']\n",
    "\n",
    "            # Appending to the curr_res_list to finalize the mapping:\n",
    "            for age_group in correspondent_age_groups:\n",
    "                curr_res_list.append((combination[0], age_group))\n",
    "\n",
    "            # Updating the final mapping_dict:\n",
    "            mapping_dict[combination] = curr_res_list\n",
    "    return mapping_dict\n",
    "\n",
    "# Getting all region,risk,age combinations as a list\n",
    "def get_all_region_risk_age_combinations():\n",
    "    \"\"\"This function returns a list of tuples of all region,risk,4-age_group combinations\"\"\"\n",
    "    counties_list = list(ind.region_dict.keys())\n",
    "    risk_list = ['High', 'Low']\n",
    "    age_groups_list = list(age_groups_ind.keys())\n",
    "    return list(itertools.product(counties_list, risk_list, age_groups_list))\n",
    "\n",
    "def region_risk_age_groups_mapping(wanted_mapping: str):\n",
    "    \"\"\" This function gets a wanted mapping (4 examined age groups to 9 original model's age groups or vice versa),\n",
    "    and returns a dictionary consist of the wanted mapping\n",
    "    \"\"\"\n",
    "    # Initializing the final mapping to return and it's keys:\n",
    "    mapping_dict = {}\n",
    "    all_comb_4_age_groups_list = get_all_region_risk_age_combinations()\n",
    "    if wanted_mapping == '4-to-9':\n",
    "        # Iterating over all possible combinations with the 4-age_groups:\n",
    "        for combination in all_comb_4_age_groups_list:\n",
    "            # The list that the current combination will map to\n",
    "            curr_res_list = []\n",
    "            # A list to iterate when building the curr_res_list - depending on the current and new age-group:\n",
    "            if combination[2] == '5-9':\n",
    "                correspondent_age_groups = ['5-9']\n",
    "            elif combination[2] == '10-29':\n",
    "                correspondent_age_groups = ['10-19', '20-29']\n",
    "            elif combination[2] == '30-59':\n",
    "                correspondent_age_groups = ['30-39', '40-49', '50-59']\n",
    "            else:\n",
    "                correspondent_age_groups = ['60-69', '70+']\n",
    "\n",
    "            # Appending to the curr_res_list to finalize the mapping:\n",
    "            for age_group in correspondent_age_groups:\n",
    "                curr_res_list.append((combination[0], combination[1], age_group))\n",
    "\n",
    "            # Updating the final mapping_dict:\n",
    "            mapping_dict[combination] = curr_res_list\n",
    "    return mapping_dict\n",
    "\n",
    "def get_indexes_region_risk_age_combination(region_risk_age_group: tuple):\n",
    "    \"\"\"This function gets a tuple of (region, risk, 4_age_group) and returns the indexes of that combination as they are in the original model (including transformation to the 9 original age groups. e.g.: for (1101, 'High', '10-29'), returns the indexes for (1101, 'High', '10-19') + (1101, 'High', '20-29')\"\"\"\n",
    "    # Initializing the result list and the age groups mapper:\n",
    "    indexes_list_of_lists = []\n",
    "    four_to_nine_age_map = region_risk_age_groups_mapping('4-to-9')\n",
    "    for val in four_to_nine_age_map[region_risk_age_group]:\n",
    "        indexes_list_of_lists.append(ind.region_risk_age_dict[val])\n",
    "    # Merging the list of lists to one list:\n",
    "    region_risk_age_indexes_list = [item for sublist in indexes_list_of_lists for item in sublist]\n",
    "    return sorted(region_risk_age_indexes_list)\n",
    "\n",
    "# Getting the current lambda_t for the current combination of (region, 4-age_group):\n",
    "def get_current_lambda_t(curr_res_mdl_1_ml: dict, target_region_risk_4age_group: tuple):\n",
    "    # Getting the lambda of the last day of the current model, and the region,4-age_group mapping:\n",
    "    lambda_last_day = np.reshape(curr_res_mdl_1_ml['L_2'][-1, :], newshape=(540))\n",
    "    four_to_nine_age_map = region_age_groups_mapping('4-to-9')\n",
    "    # Initializing the final proportion for the current compartment that we want to calculate:\n",
    "    final_prop_for_comp = 0\n",
    "    # Iterating on each correspondent combination of (region, 9-age_group) to aggregate on:\n",
    "    for val in four_to_nine_age_map[target_region_risk_4age_group]:\n",
    "        # Getting the index of the current (region, risk, 9-age_group)\n",
    "        correspondent_index = ind.region_age_dict[val]\n",
    "        # Adding the value of current (region, risk, 9-age_group)\n",
    "        final_prop_for_comp += lambda_last_day[correspondent_index].sum()\n",
    "\n",
    "    return final_prop_for_comp\n",
    "\n",
    "def calc_comp_prop_for_region_risk_age(comp: str, curr_res_mdl_1_ml: dict, target_region_risk_4age_group: tuple):\n",
    "    \"\"\"This function gets the target compartment, the current predictions of the current model, and the wanted combination of (region, risk, 4-age_group),\n",
    "    and returns the compartment aggregated by the wanted combination of (region, risk, 4-age_group) - (aggregated from (region, risk, 9-age_group))\"\"\"\n",
    "    # Getting the last day of the compartment, and the needed age-groups mapping:\n",
    "    comp_last_day = np.reshape(curr_res_mdl_1_ml[comp][-1, :], newshape=(540))\n",
    "    four_to_nine_age_map = region_risk_age_groups_mapping('4-to-9')\n",
    "    # Initializing the final proportion for the current compartment that we want to calculate:\n",
    "    final_prop_for_comp = 0\n",
    "    # Iterating on each correspondent combination of (region, risk, 9-age_group) to aggregate on:\n",
    "    for val in four_to_nine_age_map[target_region_risk_4age_group]:\n",
    "        # Getting the index of the current (region, risk, 9-age_group)\n",
    "        correspondent_index = ind.region_risk_age_dict[val]\n",
    "        # Adding the value of current (region, risk, 9-age_group)\n",
    "        final_prop_for_comp += float(comp_last_day[correspondent_index][0])\n",
    "\n",
    "    return final_prop_for_comp\n",
    "\n",
    "def calc_rho_or_f_prop_for_region_risk_age(rho_or_f_j: np.array, target_region_risk_4age_group: tuple):\n",
    "    \"\"\"This function gets the model_1_ml.rho and the wanted combination of (region, risk, 4-age_group),\n",
    "    and returns rho aggregated by the wanted combination of (region, risk, 4-age_group) - (aggregated from (region, risk, 9-age_group))\"\"\"\n",
    "    four_to_nine_age_map = region_risk_age_groups_mapping('4-to-9')\n",
    "    ## Calculating the final proportion of rho or f_j as a weighted sum using the distribution of S(0) (population_size):\n",
    "    # Initializing the proportions for the weighted sum:\n",
    "    S0_list = []\n",
    "    rho_or_f_j_list = []\n",
    "    # Iterating on each correspondent combination of (region, risk, 9-age_group) and append to the relevant list:\n",
    "    for val in four_to_nine_age_map[target_region_risk_4age_group]:\n",
    "        # Getting the index of the current (region, risk, 9-age_group)\n",
    "        correspondent_index = ind.region_risk_age_dict[val]\n",
    "        # Adding the value of current (region, risk, 9-age_group)\n",
    "        S0_list.append(population_size[correspondent_index][0])\n",
    "        rho_or_f_j_list.append(rho_or_f_j[correspondent_index][0])\n",
    "\n",
    "    ## Calculating the weighted sum:\n",
    "    # Init the lists to calc the expression\n",
    "    numerator = []\n",
    "    denominator = []\n",
    "    for i in range(len(S0_list)):\n",
    "        numerator.append(S0_list[i]*rho_or_f_j_list[i])\n",
    "        denominator.append(S0_list[i])\n",
    "    # Returning the final and weighted probability value:\n",
    "    final_weighted_sum_proba = np.sum(numerator) / np.sum(denominator)\n",
    "    return final_weighted_sum_proba\n",
    "\n",
    "def update_compartment(curr_res_mdl_1_ml: dict, compartment: str, updated_array: np.array):\n",
    "    \"\"\"This function gets the current models' predictions, the compartment to update and the updated array, and updates the model object with the updated array\"\"\"\n",
    "    # Initiate settings:\n",
    "    curr_res_mdl_1_ml[compartment][-1] = updated_array\n",
    "    comp_as_list = []\n",
    "    # Changing the updated arrays to be lists of arrays (to allow the update of the model object):\n",
    "    for element in curr_res_mdl_1_ml[compartment]:\n",
    "        comp_as_list.append(element)\n",
    "\n",
    "    # Performing the proper model update\n",
    "    model_1_ml.update({\n",
    "        compartment : comp_as_list\n",
    "    })\n",
    "\n",
    "# Defining the model - initializing it for t=0:\n",
    "def defining_model(scen):\n",
    "    model_1_ml_ = mdl.Model_behave(\n",
    "    ind=ind,\n",
    "    beta_j=cal_parameters[scen]['beta_j'],\n",
    "    beta_activity=cal_parameters[scen]['beta_activity'],\n",
    "    beta_school=cal_parameters[scen]['beta school'],\n",
    "    scen=scen\n",
    "    )\n",
    "    # Predicting without an assignment (there's no need for that)\n",
    "    model_1_ml_.predict(\n",
    "        days_in_season= 529,    # Num of days between 15/05/20 - 25/10/21\n",
    "        shifting_12_days= True\n",
    "    )\n",
    "    # Updating the vectors to be able to run the model furthermore:\n",
    "    model_1_ml_.update({\n",
    "        'alpha_variant_vec':  neutralized_alpha_variant_vec,\n",
    "        'delta_variant_vec': neutralized_delta_variant_vec,\n",
    "        'isolation_morbidity_ratio_vector': neutralized_isolation_morbidity_ratio_vector,\n",
    "        'is_lockdown': neutralized_lockdown_vec,\n",
    "        'is_school': neutralized_school_vec,\n",
    "        'v2_to_v3_transition_t' : neutralized_transition_vector,\n",
    "        's_2_to_v3_transition_t' : neutralized_transition_vector\n",
    "    })\n",
    "    return model_1_ml_\n",
    "\n",
    "# Update model for current variables of uncertainty:\n",
    "def update_models_object(mdl_1_ml: mdl.Model_behave, realization: tuple):\n",
    "    new_rho = mdl_1_ml.rho * realization[2]\n",
    "    mdl_1_ml.update({\n",
    "        'booster_efficiency': realization[0],\n",
    "        'rho': new_rho\n",
    "    })"
   ]
  },
  {
   "cell_type": "markdown",
   "metadata": {
    "pycharm": {
     "name": "#%% md\n"
    }
   },
   "source": [
    "#### Getting the vaccinations priority queue:"
   ]
  },
  {
   "cell_type": "code",
   "execution_count": 5,
   "metadata": {
    "pycharm": {
     "name": "#%%\n"
    }
   },
   "outputs": [],
   "source": [
    "def get_vaccination_pq(curr_res_mdl_1_ml: dict):\n",
    "    \"\"\"This function gets the current model and returns the final priority queue for all combinations of (county, risk, 4-age_group)\"\"\"\n",
    "    # Initialize settings: final priority queue to return (as a dictionary, not sorted), the 4-9 age-groups mapper, and the reported/unreported ratio:\n",
    "    vaccination_que = {}\n",
    "    reported_unreported = get_reported_unreported_ratio('Scenario2')\n",
    "    comp_list = ['S_2', 'V_2', 'R_1', 'R_2', 'L_2']\n",
    "    mapping_4_to_9 = region_risk_age_groups_mapping('4-to-9')\n",
    "\n",
    "    for key, val in mapping_4_to_9.items():\n",
    "        # Getting the proportion value for each compartment[region,risk,4-age_group], save it as a list such that the order is exactly - [S_2, V_2, R_1, R_2, L_2]\n",
    "        current_comp_prop_list = []\n",
    "        # For each compartment - calculate its value of (region, risk, 4-age_group):\n",
    "        for comp in comp_list:\n",
    "            # If we assess the proportion of the force of infection, the calculation is different (lambda_t depends only on (region,age))\n",
    "            if comp != 'L_2':\n",
    "                current_comp_prop_list.append(calc_comp_prop_for_region_risk_age(comp, curr_res_mdl_1_ml, key))\n",
    "            else:\n",
    "                current_comp_prop_list.append(get_current_lambda_t( curr_res_mdl_1_ml, (key[0], key[2]) ))\n",
    "        # getting the proportion value for model_1_ml.rho:\n",
    "        hosp_proba = calc_rho_or_f_prop_for_region_risk_age(model_1_ml.rho , key)\n",
    "        # getting the proportion value for model_1_ml.f[model_1_ml.scen]:\n",
    "        f_j = calc_rho_or_f_prop_for_region_risk_age(model_1_ml.f[model_1_ml.scen] , key)\n",
    "        # Calculating the hospitalization probability measurement:\n",
    "        comps = current_comp_prop_list      # To shorten the code\n",
    "        V_2_eff = 1-0.94        # Effectiveness of second dose to prevent infection\n",
    "        scoring_index = ( (comps[0] + (comps[2]+comps[3])*reported_unreported + (comps[1]*(V_2_eff))) * comps[4] * ((1-f_j)*model_1_ml.delta) * hosp_proba ) \\\n",
    "                        / (comps[0] + comps[1] + (comps[2]+comps[3])*reported_unreported)\n",
    "        # Assigning the scoring measurement to the correspondent combination of (region,risk,4-age_group)\n",
    "        vaccination_que[key] = scoring_index\n",
    "    # Sorting the dict to get a \"priority queue\" - receiving a list of tuples:\n",
    "    vaccination_que = sorted(vaccination_que.items(), key=lambda x: x[1], reverse= True)\n",
    "\n",
    "    return vaccination_que"
   ]
  },
  {
   "cell_type": "markdown",
   "metadata": {
    "pycharm": {
     "name": "#%% md\n"
    }
   },
   "source": [
    "#### calculating the transferring proportion:"
   ]
  },
  {
   "cell_type": "code",
   "execution_count": 6,
   "metadata": {
    "pycharm": {
     "name": "#%%\n"
    }
   },
   "outputs": [],
   "source": [
    "def calc_trans_prop(vaccination_pq_: list, curr_res_mdl_1_ml: dict, curr_inv: float):\n",
    "    # Initializing the accumulated amount used and the priority queue:\n",
    "    curr_inventory_used = 0\n",
    "    vaccination_pq_copy = vaccination_pq_.copy()\n",
    "    # Saving the combinations that we will vaccinate:\n",
    "    vaccinated_que_ = []\n",
    "    # Iterating until we cross the prior inventory level:\n",
    "    while (curr_inventory_used <= curr_inv):\n",
    "        # Getting the current combination of (age_group, risk) from the pq:\n",
    "        current_county_risk_age = vaccination_pq_copy.pop(0)[0]\n",
    "        # Getting the correspondent reported/unreported ratio for the Scenario:\n",
    "        reported_unreported = get_reported_unreported_ratio('Scenario2')\n",
    "        # Getting R2_(j,r), R1_(j,r), V2_(j,r), S2_(j,r) proportions:\n",
    "        R_2_risk_age, R_1_risk_age, S_2_risk_age, V_2_risk_age = calc_comp_prop_for_region_risk_age('R_2', curr_res_mdl_1_ml, current_county_risk_age), \\\n",
    "                                                                 calc_comp_prop_for_region_risk_age('R_1', curr_res_mdl_1_ml, current_county_risk_age), \\\n",
    "                                                                 calc_comp_prop_for_region_risk_age('S_2', curr_res_mdl_1_ml, current_county_risk_age), \\\n",
    "                                                                 calc_comp_prop_for_region_risk_age('V_2', curr_res_mdl_1_ml, current_county_risk_age)\n",
    "        # Calculating the formula for num of needed vaccines:\n",
    "        count_vaccines_in_use = ( ((R_1_risk_age + R_2_risk_age) * reported_unreported) + S_2_risk_age + V_2_risk_age) * pop_israel\n",
    "        # Updating the accumulated used vaccines:\n",
    "        curr_inventory_used += count_vaccines_in_use\n",
    "        # Updating the vaccinated_que:\n",
    "        vaccinated_que_.append(current_county_risk_age)\n",
    "\n",
    "    final_trans_prop = curr_inv / curr_inventory_used\n",
    "    return final_trans_prop, vaccinated_que_"
   ]
  },
  {
   "cell_type": "markdown",
   "metadata": {
    "pycharm": {
     "name": "#%% md\n"
    }
   },
   "source": [
    "#### Vaccinating in booster dose:"
   ]
  },
  {
   "cell_type": "code",
   "execution_count": 7,
   "metadata": {
    "pycharm": {
     "name": "#%%\n"
    }
   },
   "outputs": [],
   "source": [
    "### Vaccinating in booster (moving from S_2 and V_2 to V_3, including the model update):\n",
    "def vaccinate(trans_prop_: float, curr_res_mdl_1_ml: dict, vaccination_que: list):\n",
    "    ## initialize settings:\n",
    "    vaccination_que_copy = vaccination_que.copy()\n",
    "    trans_prop_copy = trans_prop_\n",
    "    reported_unreported = get_reported_unreported_ratio('Scenario2')\n",
    "    # Getting the last day of the compartments and V_3, saving it to a dictionary:\n",
    "    last_day_dict = {'S_2_last_day': np.reshape(curr_res_mdl_1_ml['S_2'][-1, :], newshape=(540) ),\n",
    "                     'V_2_last_day': np.reshape(curr_res_mdl_1_ml['V_2'][-1, :], newshape=(540) ),\n",
    "                     'V_3_last_day': np.reshape(curr_res_mdl_1_ml['V_3'][-1, :], newshape=(540) )}\n",
    "\n",
    "    # Iterating over the combinations of (risk, age_group) that we need to vaccinate, and moving the population, and updating the model:\n",
    "    for curr_risk_age in vaccination_que_copy:\n",
    "        # Getting the relevant indexes to operate in the correspondent locations of the compartment:\n",
    "        curr_risk_age_indexes = get_indexes_region_risk_age_combination(curr_risk_age)\n",
    "\n",
    "        ## Vaccinating from S_2 to V_3\n",
    "        S_2_last_day_updated, V_3_last_day_updated = vaccinating_from_V_2_S_2(last_day_dict['V_3_last_day'], last_day_dict['S_2_last_day'], trans_prop_copy, curr_risk_age_indexes)\n",
    "        # updating the results:\n",
    "        last_day_dict['V_3_last_day'], last_day_dict['S_2_last_day'] = V_3_last_day_updated, S_2_last_day_updated\n",
    "\n",
    "        ## Vaccinating from V_2 to V_3\n",
    "        V_2_last_day_updated, V_3_last_day_updated = vaccinating_from_V_2_S_2(last_day_dict['V_3_last_day'], last_day_dict['V_2_last_day'], trans_prop_copy, curr_risk_age_indexes)\n",
    "        # updating the results:\n",
    "        last_day_dict['V_3_last_day'], last_day_dict['V_2_last_day'] = V_3_last_day_updated, V_2_last_day_updated\n",
    "\n",
    "    update_compartment(curr_res_mdl_1_ml, 'V_2', last_day_dict['V_2_last_day'])\n",
    "    update_compartment(curr_res_mdl_1_ml, 'S_2', last_day_dict['S_2_last_day'])\n",
    "    update_compartment(curr_res_mdl_1_ml, 'V_3', last_day_dict['V_3_last_day'])"
   ]
  },
  {
   "cell_type": "markdown",
   "metadata": {
    "pycharm": {
     "name": "#%% md\n"
    }
   },
   "source": [
    "### Main - 1000 iterations of the Sim:"
   ]
  },
  {
   "cell_type": "code",
   "execution_count": 8,
   "metadata": {
    "pycharm": {
     "name": "#%%\n"
    }
   },
   "outputs": [
    {
     "name": "stderr",
     "output_type": "stream",
     "text": [
      "tqdm() Progress Bar: 100%|██████████| 1000/1000 [11:14:41<00:00, 40.48s/it] \n"
     ]
    }
   ],
   "source": [
    "# A list to hold 1000 realizations of cases per year:\n",
    "cases_per_year_list = []\n",
    "\n",
    "# Big loop run:\n",
    "for tup in tqdm.tqdm(list_of_tuples, desc= 'tqdm() Progress Bar'):\n",
    "    # Initializing the model's object (and its predictions) to t=0:\n",
    "    model_1_ml = defining_model('Scenario2')\n",
    "    # Settings:\n",
    "    update_models_object(model_1_ml, tup)       # Updating the v3_efficiency and the proba for hosp\n",
    "    inv_level = tup[1] * pop_israel             # Updating the inventory level\n",
    "    years_for_model_run = tup[3]                # Updating the years for the model to run for\n",
    "\n",
    "    # Running the model for X years, in 6 months resolution\n",
    "    for i in range(years_for_model_run*2):\n",
    "        # Running until the vaccination month:\n",
    "        for j in range(6):\n",
    "            res_mdl_1_ml = model_1_ml.predict(\n",
    "                            days_in_season= 30,\n",
    "                            continuous_predict= True\n",
    "                            )\n",
    "            # Getting the vaccination priority_que:\n",
    "            vaccination_pq = get_vaccination_pq(res_mdl_1_ml)\n",
    "            # Getting the proportion of transition, and the combinations that we vaccinate:\n",
    "            trans_prop, vaccinated_que = calc_trans_prop(vaccination_pq, res_mdl_1_ml, inv_level*1/6)\n",
    "            # Vaccinating (including the model update):\n",
    "            vaccinate(trans_prop, res_mdl_1_ml, vaccinated_que)\n",
    "\n",
    "    ## Calculating the cases per year index for every measurement:\n",
    "    tot_new_Is = np.add(res_mdl_1_ml['new_Is_1'].sum(axis=1) * pop_israel, res_mdl_1_ml['new_Is_2'].sum(axis=1) * pop_israel)\n",
    "    tot_new_H = np.add(res_mdl_1_ml['new_H_1'].sum(axis=1) * pop_israel, res_mdl_1_ml['new_H_2'].sum(axis=1) * pop_israel)\n",
    "    # Transferring to cumulative sum:\n",
    "    cumsum_tot_new_Is, cumsum_tot_new_H = np.cumsum(tot_new_Is), np.cumsum(tot_new_H)\n",
    "    # Performing the calculation itself:\n",
    "    cases_per_year_new_Is, cases_per_year_new_H = (cumsum_tot_new_Is[-1] - cumsum_tot_new_Is[528]) / years_for_model_run, (cumsum_tot_new_H[-1] - cumsum_tot_new_H[528]) / years_for_model_run\n",
    "    cases_per_year_list.append((cases_per_year_new_Is, cases_per_year_new_H))"
   ]
  },
  {
   "cell_type": "code",
   "execution_count": 9,
   "metadata": {
    "pycharm": {
     "name": "#%%\n"
    }
   },
   "outputs": [
    {
     "data": {
      "text/plain": "[(1482394.68203581, 7758.723879829097),\n (1488391.6852965609, 9874.770653291871),\n (1459880.8012846464, 7269.04750407596),\n (1122506.4134728839, 6525.652170580507),\n (1414004.7493607604, 9036.87021937176),\n (1245150.8116128806, 7690.857395887255),\n (1202516.1155336115, 9239.000062806075),\n (1404347.056734054, 7512.184494586205),\n (1005176.9118809681, 6477.977370627995),\n (1068991.4720327796, 6916.798221049364),\n (1445551.9024144667, 12131.845853644487),\n (1419287.2507475354, 10561.745973969055),\n (1182495.0982607203, 7006.758048486355),\n (1362165.5081674221, 9005.871272902381),\n (1225665.441965864, 5915.77096347129),\n (1486078.946376325, 11461.26177514155),\n (1396930.2396481046, 12225.75450123854),\n (1067183.3923005697, 8812.981898955002),\n (1167516.6959271026, 5174.105351086667),\n (1026971.3300433382, 6508.853863621899),\n (1330447.535112132, 10800.984968327675),\n (1377379.735712112, 6571.9828232858235),\n (946748.5362272589, 6262.379447365491),\n (1309737.8988893642, 6577.7619443615085),\n (1288193.1384940704, 8116.160300367624),\n (1063028.9344551868, 5106.044551952734),\n (1365243.3599377088, 7804.384387021868),\n (1187390.3339735654, 7165.1203709996535),\n (1112164.8673289223, 8018.614680761467),\n (1298314.5657696244, 8218.738627960462),\n (1484361.1319957867, 8416.173798672968),\n (1534980.675076343, 10017.318034639253),\n (1489308.8407902815, 8944.58922068801),\n (1534980.675076343, 10253.019635454277),\n (1037962.940199192, 6421.6650797078355),\n (1507621.9274549556, 12774.46450692317),\n (1146454.2470260502, 4782.474055894285),\n (1181534.6527578584, 8755.45320360567),\n (1085476.3399929982, 5467.432238222856),\n (1267828.9013883842, 8701.039049592624),\n (1496343.7582948892, 10851.895294856124),\n (1520911.1097469123, 7975.8175737340935),\n (1368675.4332784293, 11208.51067688978),\n (1379782.0796257511, 9720.339474318052),\n (1064225.2443223298, 5180.607580452839),\n (1302757.5287732545, 6544.684046825497),\n (1378682.2658442603, 8433.960643654658),\n (1304485.5761107432, 5963.579184048944),\n (1474053.1116918086, 9673.353988676632),\n (1476674.1291990299, 10341.794549408176),\n (1482984.960037571, 10563.378274316628),\n (1114911.4120394015, 7663.9180260144185),\n (1281070.2106600145, 10509.687536222884),\n (1450701.7506808294, 7923.97483440045),\n (1389617.2220896094, 6687.185049664465),\n (1295637.503424809, 6174.352133283962),\n (1341022.8115297866, 7360.250211819133),\n (1330122.336583623, 8143.311644248238),\n (1219902.382893864, 8738.833714115683),\n (1017707.356347231, 5407.9258190081255),\n (853242.7380615048, 4280.902463033295),\n (1337420.0597402388, 8428.599766468602),\n (1282613.6179308381, 10883.137561671474),\n (1288799.3281776188, 7443.899234621213),\n (1488389.971012902, 10543.074382439225),\n (1460663.837465242, 9957.396060710698),\n (1500265.3924013253, 9355.83758935574),\n (1400427.9904774518, 9058.99499403342),\n (1110133.3273547064, 7806.249803880401),\n (1405807.383118399, 9159.377276846233),\n (1268233.2798780662, 8052.03920500724),\n (1203364.7330546968, 9452.479486277674),\n (1464565.657873656, 7050.1224999964525),\n (1139649.3528568367, 5560.160274443507),\n (1278990.4428330366, 9692.749427505336),\n (1316665.416768838, 6323.007998312486),\n (1372979.8569289562, 8325.521919538169),\n (1367625.7671986944, 6947.025008165971),\n (1366528.3610542635, 8846.028711069808),\n (1163537.085337489, 7745.647011255713),\n (1418608.4057224083, 8793.68002591801),\n (1450528.0354626107, 10466.269549398818),\n (1177185.7045471317, 7271.030137565609),\n (1493310.3270232643, 9404.480848844483),\n (1519028.1445945192, 9402.946190866161),\n (1504161.2628074102, 9253.459684962823),\n (1388120.5841284762, 7638.454542595146),\n (1500941.011898445, 11936.848119789149),\n (1384053.118359458, 8979.733861978215),\n (1368931.310852328, 7154.967991372958),\n (1437079.6780952765, 7720.951711321198),\n (1479487.6126144528, 10383.16169710017),\n (1238275.797342187, 6368.071165735055),\n (1400638.830085642, 9021.609093357145),\n (1107660.5971660104, 5349.259525550483),\n (1100835.9391112418, 4887.070374351845),\n (1450692.4151016264, 9320.964910366252),\n (1481845.2885162393, 9668.50935896317),\n (1343625.7417650637, 6337.784384893404),\n (1466090.745872012, 8162.365890938864),\n (1399011.1102441745, 8226.248035824909),\n (1451461.686653843, 9635.424801919702),\n (1114835.9799541256, 8591.20523103138),\n (1229916.4987830215, 5489.458734781673),\n (1460610.3443985458, 8935.985370615404),\n (1494747.6569381857, 10144.506770851702),\n (1485007.0735856697, 12508.347906014438),\n (1397983.4691260196, 7844.337921728779),\n (1475781.9937871047, 9449.032999736368),\n (1362504.1606504973, 9083.329460073515),\n (1163950.8945238325, 6489.632952480697),\n (1252889.4548262567, 6332.454827097756),\n (1136655.0188101807, 5737.650468221827),\n (1125182.8431237119, 5220.19348201839),\n (1249650.352583041, 6767.831204172709),\n (1181621.1979709258, 8641.08183479576),\n (1332498.4752047914, 10492.630800500528),\n (1389847.9286247212, 8373.013027344345),\n (1462970.6367352353, 8053.22798292074),\n (1481058.2504192563, 8190.2979282324995),\n (1425191.2993808265, 10751.109628710326),\n (1446855.3842697858, 8306.680986271189),\n (1263938.0910407093, 7709.811971896139),\n (1433424.6802286906, 7586.711940580795),\n (1420446.5612340774, 8743.01565139621),\n (1388692.5364051114, 9132.652027235144),\n (1383747.6051986865, 7517.927505161121),\n (1348121.517693001, 8609.57619518267),\n (1122566.6530482362, 6178.426968909086),\n (1496694.6012793225, 8911.153196819594),\n (1343675.4641958233, 9634.683255546852),\n (1477873.351343561, 8250.345095258543),\n (1459346.282658689, 7990.370213443513),\n (1262560.8412262076, 6779.71008808115),\n (1418624.7226007811, 7271.297087097622),\n (1331286.9929453467, 10289.873652794477),\n (1325373.5120045997, 7457.192359366603),\n (1506854.109622614, 10668.06133479733),\n (1465902.3990114627, 10296.657523107766),\n (1413412.7923968327, 8620.839562027451),\n (1185157.9075171968, 7117.726227111324),\n (1493302.4451994915, 9312.597780034192),\n (1482718.8269926575, 8847.135511984241),\n (1384075.230651464, 8923.678837911842),\n (1288248.425743224, 8544.719098449299),\n (1263808.4287225567, 6849.032370662149),\n (1379790.6768723077, 8018.420678371005),\n (1379346.3388231979, 6861.8768048147895),\n (1313578.422642061, 6557.45450583965),\n (1210753.1274163336, 6198.701820410465),\n (1439461.2562679853, 7666.256764055449),\n (1291839.9322523838, 6770.237893959641),\n (1337839.301390674, 6972.983014096158),\n (1403687.7265297868, 10191.59826928361),\n (1300989.8444209355, 9681.101625737645),\n (1458213.3699127377, 9725.17630693732),\n (1399011.1102441745, 9131.135319765599),\n (1488347.9751794098, 11023.722628903142),\n (1480560.2570824872, 9532.098224731346),\n (1484864.3844303489, 9439.053684965933),\n (1400070.525180613, 7937.904289269483),\n (1411485.2848918021, 7152.291590991864),\n (1273408.3058362703, 6246.136572083137),\n (1349580.354019582, 9998.17461320786),\n (1477989.2296593818, 9898.465846477275),\n (1312962.1424850177, 8003.05341310225),\n (1467892.882039108, 10079.878754894135),\n (1472398.611989431, 10084.002750828438),\n (1239087.2764364998, 9116.970401663717),\n (1424533.4169073745, 8250.418378013515),\n (1405149.706361954, 10213.348525394975),\n (1179621.0358347744, 5713.859855230346),\n (1402716.7896937067, 11274.246286871572),\n (1452816.5408436253, 10316.214528393439),\n (1407983.9463326083, 9055.359233873161),\n (986398.4211679486, 5401.970299333859),\n (1228318.7379565148, 6410.269531280724),\n (1359158.0865823005, 6797.892661598308),\n (1184978.1445543705, 7131.397196667426),\n (1309913.2163900689, 9371.62056953869),\n (1225870.2912227311, 6249.753373707091),\n (1370715.8431683613, 8144.5036889337725),\n (1401509.122411981, 9414.316714185836),\n (1231229.0071531779, 7793.723119469588),\n (1401223.3137642255, 11200.117849006932),\n (1239154.8118066106, 6367.069747536115),\n (1491855.012139225, 10493.621801166355),\n (1480492.0406051148, 9182.106371818854),\n (1517020.1010938366, 9202.417314480934),\n (1252974.4394656294, 7719.9431549177925),\n (1414460.2338692546, 10478.162695980905),\n (1503477.3832933605, 9724.91320612364),\n (1444631.0227336378, 9978.678475000701),\n (1138922.767344841, 7176.739828749127),\n (1411194.209088811, 10026.949002836449),\n (1394938.8121108676, 7173.718193719676),\n (1241202.5905971706, 6611.201593481866),\n (1490064.2268311481, 8039.421614758764),\n (1249297.4137820522, 7458.680552373238),\n (1260058.7124453757, 6045.249130701624),\n (1456838.7652123293, 9213.377998492315),\n (1500872.9819471699, 11104.785531365784),\n (1448164.5814849706, 9820.87308939349),\n (1479909.2739925557, 9520.191542936629),\n (1452026.358555266, 11538.324003421827),\n (1277102.1524972122, 9234.120539062793),\n (1424861.6114074686, 9287.136933854079),\n (1060553.2091532636, 5519.0143519772655),\n (1494747.6569381857, 10144.506770851702),\n (1416146.193117058, 7729.117251798814),\n (1365300.6732289481, 7548.682270542912),\n (1409283.138784139, 7774.641240031099),\n (1336960.9614030302, 11260.979491351907),\n (1349620.4742734288, 9186.486545726093),\n (1015157.9741430528, 5024.767202123003),\n (1309394.3922542445, 9161.435388472999),\n (1480560.2570824872, 9756.382888842638),\n (1385779.9214725932, 6862.180893265787),\n (1458176.7733496258, 8527.644432723962),\n (1038069.1991879945, 5791.075504716946),\n (1468297.952409122, 8083.524361675785),\n (1351997.6769420076, 6913.615971657538),\n (1384838.1565905728, 6565.024683800342),\n (1437192.9222640437, 10093.107557590269),\n (1031908.0874904029, 6541.004478385583),\n (1352299.9582160346, 9747.505277297836),\n (1408271.134269946, 7569.682053926412),\n (1438812.0914029912, 8507.372007652444),\n (1331336.5751485091, 8247.126286549115),\n (1442148.330537334, 10428.962350759635),\n (1229770.065662745, 7214.036542827069),\n (1479104.4793356133, 9440.391609173272),\n (1180577.2931639613, 5959.4034125581065),\n (1433237.1015497607, 8599.311869226192),\n (1418903.7061017414, 9214.915487147893),\n (1534158.6058754462, 9897.06738727473),\n (1476148.0358629487, 10720.377589910013),\n (1481876.7718998424, 9295.434468380692),\n (1383744.3067890492, 7148.268999430939),\n (1485885.465274466, 8454.357408062995),\n (1049698.5097332436, 5648.570497036915),\n (1299883.47135922, 7769.182232226254),\n (1318530.0298480736, 6278.444837313447),\n (1485485.5314552272, 11347.123389985582),\n (1475190.967817513, 9872.882361014897),\n (1298478.453725054, 8764.364095341514),\n (1274743.5122514088, 7651.931534443326),\n (1498469.0552472684, 10850.4334111829),\n (1473968.0851565043, 10218.821114477942),\n (1344649.2377193242, 7067.202325259958),\n (1467450.2421627175, 9324.212608806287),\n (1239901.6210606655, 7822.802359752316),\n (1348390.9738057586, 7575.188093385127),\n (1122207.2293235424, 8431.13739731642),\n (1440150.8271248462, 8412.804321119376),\n (1437373.100811065, 9006.752246652188),\n (1340022.031156534, 7095.757990499133),\n (1437885.042100947, 9730.425740776305),\n (1493505.905849441, 8677.036396351556),\n (1476667.1867497424, 10216.922986675145),\n (1482916.9387133103, 10724.838962234759),\n (1516797.4269044232, 9092.317273633078),\n (1107660.5971660104, 6212.043319994092),\n (1506854.109622614, 7699.5573112015845),\n (1167879.7388198006, 7806.319859003635),\n (1194839.4874107342, 6023.306201154224),\n (1482057.4708967432, 11622.267031400732),\n (1094409.7127175145, 7006.7944985498625),\n (1136777.819055546, 6611.931945536812),\n (1441345.2981980785, 8765.168747441006),\n (1382285.50939197, 10432.383335456545),\n (1484766.2727654, 8594.700633001386),\n (1375217.5250929785, 10964.516249638129),\n (1047948.561366926, 5671.000216393993),\n (1490701.6414595759, 8178.639755919033),\n (982002.0164230717, 4760.766544032953),\n (1409876.0202488308, 6853.847970490119),\n (1363815.6564697684, 6858.689292038856),\n (1429071.6946803168, 7865.323385351609),\n (1408084.9333976817, 9231.788425195798),\n (1488233.1859183041, 13003.995469532347),\n (1142314.4188766845, 8015.093598108213),\n (1439056.8543309981, 9509.614484487225),\n (1219003.0836162972, 8423.45529469982),\n (1375511.5806401547, 8496.302203187635),\n (1534158.6058754462, 10486.178541279218),\n (1044671.1041932373, 5738.808491031045),\n (1439101.5683721616, 9311.85163627984),\n (1045338.3451702872, 5709.9633382317825),\n (1405141.4181572597, 7425.0646156886805),\n (1476550.0103617436, 9508.994660867222),\n (1394435.0464239854, 8122.700195387659),\n (1509653.0267708919, 9907.702331106466),\n (1256047.7486334872, 7194.019822980885),\n (1356811.5396018052, 10049.49300065639),\n (1464407.1999365662, 9624.954386591724),\n (1219139.4925089784, 7902.644558456951),\n (1283819.743845757, 8740.540760960777),\n (1093600.0391755688, 6387.776633353818),\n (1199621.26729231, 5859.521312530216),\n (1380983.3805608682, 9655.123081415575),\n (1225870.2912227311, 7104.982782740729),\n (1376524.0755925258, 8405.196348304104),\n (1138223.638509238, 5628.537460989984),\n (1084873.2857925089, 7685.572327217061),\n (1375217.5250929785, 9915.73643445533),\n (1307667.3086140128, 7913.710771750206),\n (1346103.8353494108, 8357.929235747222),\n (1467658.085665615, 8425.45881212514),\n (1496688.8015038043, 9970.589341795343),\n (1413412.7923968327, 11692.632969186603),\n (1221036.7103326411, 5900.968501974158),\n (1326679.9743512995, 8858.582169329502),\n (1418903.7061017414, 8439.829137761582),\n (1462877.7295465935, 8719.182824130003),\n (1513421.6102511312, 10297.75404192041),\n (1431380.9071811917, 10102.331002723118),\n (1492472.2365935007, 11465.437659351866),\n (1322572.925719388, 9303.44106709276),\n (1260856.302914586, 5760.678284571463),\n (1412954.3623879384, 10346.416693914141),\n (1457955.4672955044, 8385.222697047664),\n (1297685.3864182124, 6061.320404179327),\n (1463175.325897984, 7850.946848380849),\n (1465082.9879646767, 8977.749017428067),\n (1319299.9705697242, 6559.34006771874),\n (1366528.3610542635, 7424.34552536217),\n (1371009.6440484766, 10307.660548565462),\n (1136777.819055546, 6039.745527173092),\n (1448040.547089915, 9638.9376304679),\n (1273437.0869747319, 8561.64081203182),\n (1429720.768831322, 8975.635156580223),\n (1003533.9641993927, 6367.961851634021),\n (1490430.1470619827, 11188.685643492212),\n (1413209.330734156, 10346.012622801343),\n (1029087.7331833253, 7691.834960125694),\n (1184085.5031538357, 8839.37666950454),\n (1322394.469290601, 6941.579618682008),\n (1239262.769661066, 7374.456695159002),\n (1330722.3134888664, 8753.907572208376),\n (1342613.365551927, 8043.861428603355),\n (1166788.980980888, 9232.693194847061),\n (1472157.6855544532, 8577.298899060419),\n (1489289.8959130154, 8906.33990168228),\n (1500849.6347290769, 9052.29678526486),\n (1019814.598172677, 5135.198853491649),\n (986940.8766426723, 7403.617134990978),\n (1476634.6639499897, 9902.138774828349),\n (1211739.451007907, 7325.219602391011),\n (1480267.565184905, 10808.12676443789),\n (1309394.3922542445, 8074.485427128736),\n (1402437.4499534029, 7435.449281877629),\n (1324703.1104347166, 6746.036825225612),\n (1358863.7875413906, 8837.884717966039),\n (1349628.4467134827, 8562.552504775926),\n (1371231.0965087838, 9986.187293547267),\n (962834.7304697828, 5615.148347004706),\n (1298835.1952820015, 8172.57561456718),\n (1481486.559077645, 8288.711005368203),\n (1425191.2993808265, 8372.545551562043),\n (1423235.6291770358, 9733.842112928118),\n (1208328.6147407617, 7411.422956752676),\n (1441389.2941518764, 10255.241704269783),\n (1279709.615885388, 8300.208977717064),\n (1233249.1219788282, 8791.89448387535),\n (1455743.033213538, 11958.918282783818),\n (1454404.7507314826, 8960.674011148763),\n (1391679.6928595114, 7779.055878228137),\n (1219853.499259665, 6230.692100015984),\n (1336182.869954863, 8582.31367642853),\n (1132311.0403954568, 8683.217022971518),\n (1225649.2762542972, 8845.666440920706),\n (1402437.4499534029, 8243.65029077733),\n (1275386.8499810488, 6600.169716824275),\n (1242492.7486333584, 8274.821423537272),\n (1208385.2914506288, 5889.636302619759),\n (1075214.465356119, 5198.85836449),\n (1427815.1353951793, 8588.287519184858),\n (1341869.7405149466, 8063.674656060114),\n (1316750.3198906844, 9380.197159925245),\n (1422234.9868378018, 8593.852887293206),\n (1469385.453645155, 9790.33832296986),\n (1362072.4641857874, 9254.272905362599),\n (1299713.3924843976, 7684.900894057534),\n (1502076.0900583828, 12173.887737889208),\n (1230414.5366669088, 6938.206766833426),\n (1193179.075429353, 7814.71866303551),\n (922252.3081485131, 4672.834209863085),\n (1425456.0093955244, 7680.124919083179),\n (1167125.5885344406, 6059.696449060117),\n (1188807.449162402, 7582.384862469671),\n (1444749.6896633322, 7870.279231864682),\n (1088295.983285481, 7850.005068396364),\n (1389755.388231724, 6651.561299872081),\n (1191463.4541231627, 8961.019068397323),\n (1355670.670620649, 9980.027841390363),\n (1431369.973650717, 7715.196005095472),\n (1161214.915710022, 8349.852674548596),\n (1425549.2793480603, 9197.926982433173),\n (1341711.2436238125, 6763.220286587646),\n (1145190.0419900406, 8843.833448085565),\n (1507453.6193037673, 10890.776493620659),\n (1355549.3739507722, 8531.270566539792),\n (1399621.3684581926, 9382.289592449875),\n (1294930.0740762833, 8566.711615669967),\n (1501193.7188594667, 7928.359562336716),\n (1444309.676348208, 8343.070698516934),\n (1275922.9050799091, 6504.772640160406),\n (1525247.3089028075, 10750.261993583677),\n (1268074.4540100046, 7836.621461897846),\n (1257384.6114061868, 7795.510365325022),\n (1262560.8412262076, 6537.577584935364),\n (1123630.646869633, 7981.958346593687),\n (1314458.7043257519, 9671.926421746506),\n (1217920.0777896652, 8695.22986281681),\n (890355.3373098441, 4249.413094625903),\n (1451963.0971824024, 7699.393495572544),\n (1504492.4146435442, 9346.189158787185),\n (1443062.1674659923, 8482.421138961601),\n (1381366.2684049585, 10743.757186520319),\n (1372614.3172988296, 6965.710447856029),\n (1293219.9857326369, 8857.430011484643),\n (1319409.3186062062, 6897.820603488155),\n (1111735.1245406002, 4746.518259205181),\n (1494318.8858665824, 7552.448927176694),\n (1450058.432276578, 10703.471545352284),\n (1026971.3300433382, 7252.722876607232),\n (1497393.3186205928, 10834.51806955978),\n (1500206.0708108153, 8276.862415606114),\n (1243921.4661836794, 8714.81437679424),\n (1330114.898017685, 8503.52737503779),\n (1047948.561366926, 6387.337085833202),\n (1491855.012139225, 9067.304274794255),\n (1314244.0755468737, 8298.537599025201),\n (1466456.1663539214, 9468.313034513938),\n (1365685.1251548247, 6830.827945994623),\n (1110780.6563945266, 6390.940980394983),\n (1077346.4948698594, 5752.547973956821),\n (1311728.6943728498, 7667.016624687092),\n (1064225.2443223298, 6715.602419105536),\n (1402985.7482533103, 8767.76006594551),\n (1478592.612131268, 11077.280257149578),\n (1283897.0876478, 10280.740837522235),\n (1438466.2043542967, 9155.061741468287),\n (1371905.0185527145, 9326.928279488147),\n (1217318.6640334092, 7103.637223259466),\n (923720.5502583813, 6292.558170645559),\n (1441510.1468409952, 11800.529875689865),\n (1005176.9118809681, 5388.759936628594),\n (1487216.0752789576, 9229.942166432304),\n (1448795.0828541773, 8895.970014590535),\n (1352820.1073939772, 9664.079419051026),\n (1420374.9927820314, 11937.37825517979),\n (1088692.1175989786, 7690.311895355122),\n (1060443.9685561662, 4683.739439963194),\n (1038867.5133872919, 6946.30853072721),\n (1375641.820872608, 8434.585988415816),\n (1280096.0460182643, 7308.41847900687),\n (1493095.0917072352, 10319.645011819495),\n (1092924.262652112, 6726.487668283867),\n (1323647.628474098, 9653.425976934503),\n (1195188.456444674, 8655.412114397152),\n (1167516.6959271026, 5426.500734066519),\n (1309896.727860062, 6451.506630270466),\n (1460858.0339095849, 9429.951474813557),\n (1389671.922018899, 8170.044620691795),\n (1455556.412105621, 8864.514984081316),\n (1438568.497928062, 7440.965120953366),\n (1435680.9448592449, 9484.757799892235),\n (1389250.3429294638, 11128.844524574903),\n (1366428.1769707443, 8173.428903768164),\n (1379966.6811288306, 9050.18970999056),\n (1499576.2645377163, 11288.535815799309),\n (1478453.7989993622, 9903.239738010452),\n (1282463.8835747822, 6107.805477567456),\n (1492585.3502180616, 8251.162050262948),\n (1140170.868469969, 6120.632993514229),\n (1367599.104453217, 8155.508264928108),\n (1314133.3801742084, 11161.306170150841),\n (966837.5211225282, 4604.287366392211),\n (1110550.6992935908, 6076.373216075717),\n (1049698.5097332436, 5331.828226175034),\n (1472874.9202629619, 10911.61348812081),\n (1442860.9265839048, 7556.609342516994),\n (1173186.3493845721, 8559.434902162824),\n (1476779.2134016568, 8687.260638343329),\n (1437079.6780952765, 9608.295462977503),\n (1185574.8283111667, 7048.284876554675),\n (1366232.6859108228, 7843.4188844345),\n (1413003.0077562837, 11146.006547554998),\n (1454596.7852264435, 8223.696372261018),\n (1484842.5390664854, 10041.567650287683),\n (1260063.0475283705, 8153.802239549343),\n (1290826.5038664534, 6728.6527808693245),\n (1440761.1623485163, 8773.554935314472),\n (1112164.8673289223, 7610.888510553241),\n (1425686.0758689952, 9605.717307453535),\n (1374641.8405883051, 6669.703741442636),\n (1454583.5939124068, 8498.508592051916),\n (1153729.4498831276, 8704.075758197818),\n (1398255.5676012125, 8455.252483693332),\n (1327063.8708321596, 7463.129492917162),\n (1262863.0010994654, 8164.385502769005),\n (1443222.4379252656, 7676.252041014653),\n (1425416.552506472, 10336.859310322227),\n (1400217.2987603396, 8516.584629693294),\n (1500385.3978444857, 10024.26666920812),\n (1449285.8823698543, 7640.866495069966),\n (1063104.7074595029, 7430.117284068168),\n (1405267.2019634116, 10222.775940427553),\n (1489233.3443622948, 9531.500763788017),\n (1403393.4181361913, 10960.548170080216),\n (1534232.934263729, 11453.111212322843),\n (1160258.7066735597, 6008.8800827007835),\n (1172611.8410395377, 7116.216855094405),\n (1214727.314142167, 7106.196098108621),\n (1296403.4671506232, 8349.641971843708),\n (1316750.3198906844, 9706.464887226999),\n (1396802.509178728, 7721.436550206136),\n (1470526.8223221768, 8495.818336948614),\n (1135682.7262605978, 6718.460862811054),\n (1455768.641562088, 10002.122985811915),\n (1389357.6758042544, 8507.785261092586),\n (1406727.9277228587, 9118.262555171254),\n (1425456.0093955244, 7597.5429307059585),\n (1481876.7718998424, 10204.77044898314),\n (1435479.6070748672, 8330.926248057043),\n (1458409.0231280508, 8359.077070126445),\n (1383904.6380039225, 6713.831477690988),\n (1387678.4689493834, 7756.666502949108),\n (1077642.8350576803, 5182.07662765725),\n (1502934.3969827434, 10805.749032088232),\n (1371845.2781587364, 8781.854333305013),\n (1491855.012139225, 10391.741977854126),\n (1027428.4232310969, 5749.017538971912),\n (1519079.6846713894, 9111.804129152577),\n (1064225.2443223298, 5884.146881501989),\n (1171192.7188978458, 7248.410702621892),\n (1458446.0007954335, 8087.577275280585),\n (1457193.8175954623, 8936.320877075905),\n (1338173.055087345, 7259.333862561035),\n (1381525.768478253, 9116.276219830253),\n (1354515.369360082, 8910.095615170972),\n (1401465.9495551975, 10872.392181717556),\n (1497552.4602148982, 8793.166991893662),\n (1455228.5730620292, 8751.78322788134),\n (1215506.9078357352, 6426.137118889296),\n (1188084.9909960341, 7706.541487453322),\n (1311850.4502706432, 7318.8073377728015),\n (1349442.6315759418, 8174.9535581673545),\n (1365965.5428745367, 7248.233179305896),\n (1457300.4002577323, 9235.54031296433),\n (923720.5502583813, 6237.840273509532),\n (1491418.4490976606, 11409.57368485544),\n (1228485.1418883093, 6885.537329874952),\n (1387304.362303927, 9132.432272324057),\n (1134277.1751992984, 8842.502233113271),\n (1251551.6797019308, 7075.86628313479),\n (1182474.8765036657, 8580.787588108918),\n (1257384.6114061868, 8792.610528331745),\n (1290784.4523774143, 8603.567405612994),\n (1376741.9430929641, 8798.632795601581),\n (1378421.3314366427, 9700.79598652569),\n (1240781.4616455005, 9837.158291013795),\n (1322026.3419690945, 8041.365801500212),\n (1448045.1326668663, 7482.033120015109),\n (1416183.6229759585, 8449.481025892163),\n (1468245.4851766827, 9792.512108580773),\n (1063024.8182332313, 8528.86594790634),\n (1346776.593352109, 7881.659765382515),\n (1200444.8505059904, 6723.11926825023),\n (1209142.6703579195, 6160.654319935694),\n (1146089.401397357, 7220.632105065503),\n (1397897.416663156, 7992.331879336909),\n (1292956.7130889837, 5894.656856913225),\n (1368464.4540456042, 8725.73814873901),\n (1470939.8748315482, 8162.107939439102),\n (1457147.2613443483, 8459.87378952352),\n (1365520.7420111606, 8369.83051440432),\n (1055724.321229149, 5458.239362083972),\n (1438499.8993406158, 9408.217696175969),\n (1161214.915710022, 8184.509057230743),\n (1086236.3486905475, 6394.340309561389),\n (1348390.9738057586, 9409.181000204662),\n (1341739.360176059, 8316.56064669921),\n (1376538.9616039584, 7536.110682460793),\n (1218076.501795351, 7900.2590207302765),\n (1162411.4885432995, 6009.182410634114),\n (1171096.1977530823, 6338.733799354407),\n (1274361.51775985, 9428.564325054156),\n (1471165.6459702859, 12576.206633313153),\n (1056654.8963487034, 4836.026407852207),\n (991424.4832686516, 7011.108885099276),\n (1088423.656193025, 5935.602959399063),\n (1474053.1116918086, 8061.128323897134),\n (990938.9491137231, 5332.187500727401),\n (962925.7006070856, 5010.897670178216),\n (1485328.954192587, 8959.749429207099),\n (1307233.1181429029, 10009.946528754384),\n (1356668.4916987882, 9377.302965194396),\n (1483735.6991279025, 9283.174752008337),\n (1399809.792428673, 12349.550761394172),\n (1337839.301390674, 8135.14684977879),\n (1274481.1442063753, 6479.364610462214),\n (1383493.7207674808, 6858.76384979455),\n (1132867.712692963, 6223.572903527179),\n (1465657.8361491333, 10574.982041328738),\n (1489342.3822199584, 10771.517927903351),\n (1470659.5461969716, 8776.477670883878),\n (1163650.4661501981, 8388.091094800126),\n (1237270.9838722607, 8539.710792783868),\n (1284497.39774513, 10416.771890530412),\n (1458891.7015066217, 9604.043348717238),\n (1230237.816295646, 5980.6779074787055),\n (1315706.900645647, 7163.60576261557),\n (1444874.4806933543, 6990.219553704137),\n (1512787.9931150707, 9781.094651343406),\n (1200898.820738577, 10200.11161398617),\n (1279868.7060033774, 6017.200030006105),\n (1422847.0492732988, 8988.122614974318),\n (1195563.9357767035, 7539.646562340072),\n (1225649.2762542972, 6735.690959600122),\n (1156562.3523905266, 6399.586711622011),\n (1500358.3754686017, 9206.638352829024),\n (1184832.828948615, 6956.399681431184),\n (1491266.5032541696, 10132.936526752053),\n (1427306.1081580585, 11043.652248334382),\n (1212324.3078433797, 7804.082801340126),\n (1214703.742904082, 8655.760841985551),\n (1316204.159682929, 6944.410772535052),\n (1419292.5483381078, 8587.950716755195),\n (1166788.980980888, 8232.484765405306),\n (1498491.610833806, 8343.68899194611),\n (1483994.2302812925, 7657.492869629591),\n (941272.6799782431, 5833.4484118080845),\n (1482718.8269926575, 7854.089689210436),\n (1483795.307920368, 11622.979928384422),\n (1222924.676401557, 6573.953231064106),\n (1526028.6909888429, 13016.900935660009),\n (1308145.060097042, 8275.671476767697),\n (1260856.302914586, 6698.463121594733),\n (1382779.5505901328, 7412.6799397940495),\n (1484531.920906542, 10930.590139960155),\n (1430545.1773404905, 7292.860638406783),\n (1431853.0477044466, 11231.571833008395),\n (1342289.5611879472, 8177.678331864874),\n (1428140.231633279, 8846.41491497894),\n (1306506.8345640728, 6362.695117962648),\n (1343450.9483168004, 9351.094992142742),\n (1443650.5903252051, 7699.913052644723),\n (1467458.1971299807, 10045.008066566555),\n (1355579.8030050185, 7949.06685650083),\n (972098.5877109608, 3770.4989824790837),\n (1410939.6649649455, 7744.926610200198),\n (1111567.8286497467, 7399.950532552291),\n (1497743.912986912, 11161.11931619895),\n (1177027.9070093413, 8975.254165247052),\n (1240113.7672112773, 9978.806047588092),\n (964619.2991293892, 6387.223626672703),\n (1516525.86345487, 9663.925830510361),\n (1439186.7507145859, 9633.514945582334),\n (1315377.063315981, 6154.968977399933),\n (1211608.8124281676, 7375.572581622775),\n (1305035.852206943, 10098.317027318926),\n (1140037.390193667, 5374.589020271976),\n (1450584.5961955355, 8298.688733938847),\n (1356299.4928795162, 7467.006525380211),\n (1154917.1454918548, 7563.6011354930015),\n (1425464.8212798184, 8836.497865307636),\n (1104477.3045509034, 5678.854201193313),\n (1432298.9007631605, 10821.517293028226),\n (1190550.4313977417, 7417.156364528502),\n (1386274.3801815754, 9258.965228424586),\n (958179.1202758141, 5643.901477149721),\n (1356422.4930386608, 9596.918034721877),\n (1103939.28102606, 4891.48358980475),\n (1241199.6935849986, 7056.521666056794),\n (1395623.9519480087, 10657.954271108896),\n (1145190.0419900406, 8693.937965914623),\n (1320172.7967470523, 7765.8798428245245),\n (1371744.7261414751, 7979.299826408755),\n (1391903.8597533691, 7106.116125865907),\n (1300733.0105520517, 10156.587067889777),\n (1352457.367104737, 10337.356342525523),\n (1272702.697166966, 7822.231613414533),\n (1470728.813394932, 10466.241882415214),\n (1189893.669373427, 6973.403697608487),\n (1305035.852206943, 8149.519004503023),\n (1277226.290404702, 7671.92372484235),\n (1471820.7424802117, 8803.166655094572),\n (1497985.3362395773, 8398.43144419866),\n (1483795.307920368, 10410.14724020523),\n (1328568.5301909542, 8414.741439641917),\n (1384941.5132536648, 8489.739595313997),\n (1375924.120023833, 9823.099691717844),\n (1219917.882236088, 8430.236233408179),\n (1353362.7315578284, 10476.0400175434),\n (1231533.1525620103, 5873.255571522904),\n (1362492.680925387, 8394.28060285097),\n (1459493.5667748463, 8671.275813269092),\n (1215807.793754059, 5790.525923278926),\n (1296403.4671506232, 7315.876775329703),\n (1401111.1228491943, 8911.274372364793),\n (1304917.9545221445, 10118.361889272452),\n (1056417.6101087024, 6119.494865040736),\n (1486832.1292531802, 8342.727572200583),\n (1312654.6799920935, 8116.856425673926),\n (1230237.816295646, 6524.3758990677115),\n (1446481.165309093, 9361.135067477642),\n (1247544.620491782, 7463.1638758476965),\n (1247099.9090516919, 7525.86779559097),\n (1341739.360176059, 8081.186288773796),\n (1480267.565184905, 10707.116233929126),\n (1497743.912986912, 11502.786234041838),\n (1491135.2411399586, 10039.52398738791),\n (1480189.7016195992, 9318.613045939817),\n (1520828.7201253318, 11876.748718098946),\n (1184190.5563660325, 5917.372860464952),\n (1296805.733097788, 10555.965808999556),\n (1439461.2562679853, 7666.256764055449),\n (1071292.3892979664, 6209.665055801131),\n (1282273.766927847, 10822.015589139863),\n (1313578.422642061, 6484.593900219208),\n (1505635.0921942422, 13188.666677168922),\n (1102126.5217519687, 7211.6790680039),\n (1154861.1961691193, 8455.889932248014),\n (1347476.8131960973, 7626.527271618542),\n (1480267.565184905, 11010.147825455422),\n (1341106.47896963, 9199.953283847377),\n (1339898.0326696201, 8621.542773076371),\n (1190473.9575991982, 6923.368775755109),\n (1492014.614692209, 9030.164661579603),\n (1321819.3694833925, 10326.955722788798),\n (1405787.685895319, 10101.738678790169),\n (1136914.4263520967, 7432.7618412748625),\n (1196703.478379797, 7162.17447947285),\n (1505635.0921942422, 12385.878270732605),\n (1256684.2827489136, 8758.582843494298),\n (1439190.1438614924, 9286.832021760982),\n (958179.1202758141, 6727.074487915804),\n (1307691.9755385162, 6016.364303082195),\n (1476748.6088947316, 11157.846779053112),\n (1494644.3866237635, 7941.655099050563),\n (1388817.3598207617, 8742.712158998915),\n (1238789.2056426532, 7600.183796315479),\n (1505573.635257368, 10927.601968897981),\n (1395251.7810036016, 10076.604721169608),\n (1378682.2658442603, 8347.012595781967),\n (1488654.7860805239, 9314.531301871812),\n (1524545.4608304074, 8745.479789736517),\n (1379502.7288192192, 8708.286948749956),\n (1495858.779544713, 10441.310001130703),\n (1349633.2414259752, 10481.721477928038),\n (1228318.7379565148, 5652.065608226031),\n (1470728.813394932, 10466.241882415214),\n (1458271.219114523, 8944.359708850532),\n (1342495.304584722, 7963.912269719864),\n (1261620.492564348, 5662.661208608989),\n (1365039.65185845, 8297.676465859744),\n (997692.2108313814, 5941.8069751503035),\n (1383195.9571858454, 8949.485447721638),\n (1418752.2583513516, 8084.438575737204),\n (1350525.0531217884, 7525.437822804982),\n (989202.3186140724, 6975.999659988625),\n (1469133.2273585848, 9520.18134575027),\n (1212993.329002293, 7559.67503722779),\n (1461619.853778624, 9267.320773358371),\n (1408225.670467093, 8170.300396033323),\n (962711.1559038903, 4209.381123551794),\n (1504492.4146435442, 11011.846632630422),\n (1367936.5843350845, 7467.265170572594),\n (1160545.2517570814, 5919.841080279362),\n (1408262.0208382271, 7132.191310754776),\n (1387166.1631674638, 10616.777256719799),\n (1507004.846266872, 10493.582288979955),\n (1167356.8999730996, 8597.769061876123),\n (1189102.9413969773, 6648.397907513362),\n (1217873.5946634985, 7751.439902315878),\n (1011891.0682259834, 6328.207029614827),\n (1450954.2924756135, 8871.702131689468),\n (1181534.6527578584, 7357.523700508954),\n (1473102.8765731445, 8410.307654876466),\n (1396817.3907895815, 9208.445941238195),\n (1249404.2367976755, 8002.1576677807725),\n (1084301.107776912, 6228.601492803624),\n (1057792.0969393484, 6168.226462984156),\n (1390823.3819964419, 8034.423042993912),\n (1038690.1637475993, 6575.548656929299),\n (1240133.1354473922, 6283.6897741347375),\n (1283819.743845757, 7685.647910499965),\n (1176805.5548829522, 6860.380466845287),\n (1474394.7054715448, 8482.542330403672),\n (1276818.943836782, 7387.686704769999),\n (1451767.6525853658, 9281.716216341314),\n (1439645.3653369448, 10574.640967058573),\n (1334884.2464826035, 9107.822163741363),\n (1479539.278039318, 10059.287850399964),\n (1401223.3137642255, 8120.085440530003),\n (1296257.8350196257, 8368.838018874172),\n (1465392.8179498888, 8131.28951962871),\n (1368185.7374650568, 9537.761658996398),\n (1288475.170218801, 7242.480116038082),\n (1300904.1314711953, 6193.188478129139),\n (1244861.203858501, 8378.317699781815),\n (1473233.028250063, 10288.20091173565),\n (1354975.7058823963, 8420.044474629587),\n (1122643.4830039542, 7529.5187519130195),\n (1368863.3828135459, 9325.784983780382),\n (1372237.5320900255, 8422.65737662801),\n (1514290.497217999, 11785.763558363235),\n (1379827.1871531513, 7321.980846604107),\n (1087345.0084113106, 6818.700438537423),\n (1379790.6768723077, 7546.748873760909),\n (1256415.4572210142, 6351.559894949771),\n (1357989.3143980321, 9299.822665636566),\n (1393264.717254771, 9849.005522873384),\n (1393457.7962368962, 9356.963547620195),\n (1435324.1796011482, 7799.60535817963),\n (1447551.8329845837, 10429.727247631386),\n (1394741.20265694, 9574.576392947329),\n (1400070.525180613, 7276.412265163692),\n (1466175.8751863039, 9902.610307358962),\n (1061441.8087210904, 4554.872589896187),\n (1438500.2579521402, 7988.132351017292),\n (1369139.8107713982, 8350.557992568722),\n (1039747.1560548093, 6081.473336056421),\n (1315629.4235307202, 7805.428372286786),\n (1148200.842244679, 8371.149122485049),\n (1494006.9317375962, 10631.032783662939),\n (1479545.2483094672, 8937.179073577538),\n (1097535.166750845, 6330.970930354821),\n (1218726.2762536793, 7077.728402186996),\n (973597.6038967867, 4615.410207594824),\n (1514356.5226543967, 8329.451226101672),\n (1277806.8709639073, 9616.92966233539),\n (1483233.4798109855, 8813.468265919115),\n (1305173.756978738, 8777.253583604042),\n (1088572.7160657875, 7458.224164707686),\n (1207514.2801073878, 8256.390307897651),\n (1112432.2588753959, 6104.41236447363),\n (1069268.8063274354, 5652.868760132679),\n (1482162.065317372, 7931.042261369549),\n (1390145.8483541864, 6817.453833364029),\n (1294278.2026444694, 7425.253290700469),\n (1440524.2157414614, 10145.6886110114),\n (1342289.5611879472, 9162.940781487167),\n (1011581.5346560128, 5737.8480031354675),\n (1221446.1588946984, 10068.454644302132),\n (1353454.0315512475, 9077.267956682184),\n (922923.4824188836, 4436.7746045870235),\n (1433075.7198161045, 12231.836158481163),\n (1457032.0410548602, 9550.149655496),\n (1311329.8666831339, 10464.896307531033),\n (1462172.4564452304, 8210.162313791692),\n (1328278.6458912047, 7052.958119050535),\n (1372488.951846258, 7801.875694428752),\n (1410413.806710355, 7306.279576965785),\n (1145190.0419900406, 8918.781189171006),\n (1502092.7973373795, 11517.374972940932),\n (1017404.8700344684, 6190.689859380877),\n (1031857.7742360072, 6017.787348179788),\n (1083947.481677199, 6965.617731915649),\n (1271897.5378775117, 9011.116577163048),\n (1228805.2199448482, 5735.8978767824),\n (1507621.9274549556, 11393.44131698552),\n (1281282.8135639336, 8810.113719430317),\n (1345953.7216684602, 6117.630319966084),\n (1031908.0874904029, 6417.58929954811),\n (1477704.4442262815, 7839.052119169649),\n (1438851.5050350858, 11551.559666871874),\n (1173816.9312089179, 5578.9194187855965),\n (1448348.0793838613, 8737.054844165781),\n (1249361.255446092, 8382.543450320578),\n (1355188.8221816078, 6096.504722291744),\n (1434445.7771475837, 9024.268308998593),\n (1343450.9483168004, 8643.869320468093),\n (1466702.2501288082, 8442.649275895603),\n (1461406.022285857, 10407.6438956245),\n (1526189.4632711818, 13089.514404000236),\n (1103591.219696689, 6264.751422866657),\n (1414316.4976002867, 9472.926095479568),\n (1436898.1594965968, 9648.983266087977),\n (1339019.5952693715, 10502.316083340125),\n (1352864.9063076018, 7673.096974764089),\n (1086604.1088464896, 7171.54953025257),\n (1514790.6270671044, 10659.159387981665),\n (1466468.2930708036, 8174.355711175863),\n (1054591.7340009678, 6847.166445972922),\n (1250633.1432289167, 10357.37213613049),\n (1285132.541922007, 6730.486977949247),\n (1188524.0957993208, 5848.642835458655),\n (1153729.4498831276, 8047.1643802206745),\n (1473849.059621826, 10795.793520632009),\n (1429499.3003483855, 10199.670131431625),\n (1419287.2507475354, 9664.993957311339),\n (1296462.377065135, 8590.072388842333),\n (1462971.2294756812, 9799.322393417695),\n (1154732.5717107633, 7276.763205590241),\n (1348759.500608533, 11710.750206260673),\n (1301632.59736473, 7570.018257769985),\n (1264962.3863953582, 8815.856233301687),\n (1382994.8971417258, 8707.067256870427),\n (1166897.5345075435, 7405.422776326272),\n (1374263.5016210738, 8284.887775104446),\n (1200715.677800708, 6538.61672192871),\n (1177321.1557667202, 5911.911535505784),\n (1460768.1679831073, 8286.448762978656),\n (1036958.1597332992, 5202.812627931792),\n (1121443.38470165, 7366.993647917505),\n (1305173.756978738, 6343.2252789071135),\n (1423035.4769689427, 8720.554914734585),\n (1269182.2121936453, 6523.750430000775),\n (1076567.964064395, 5670.792551732403),\n (1486066.5103087684, 8594.897262128707),\n (1376755.01519344, 10082.391980534734),\n (1478012.2094646504, 8967.82400639884),\n (1215508.03403724, 9261.187757375299),\n (1305198.3191478958, 8207.050044508529),\n (1337725.4623689207, 8592.326046243397),\n (1382523.8006997495, 10086.100072844249),\n (1461542.3106375588, 9270.420100301075),\n (1435400.4780868492, 8956.040887507908),\n (1274481.1442063753, 7894.398261022957),\n (1491011.9868423417, 10193.70668709265),\n (1452205.1955582243, 9388.11279368214),\n (1180571.7788647418, 5162.724695331368),\n (1273550.8622348101, 6950.549484439796),\n (1508633.1178110717, 10637.604635407877),\n (1304248.0518534116, 8425.941927899334),\n (1217694.9492815335, 7720.157403540005),\n (1514290.497217999, 9166.704989838074),\n (1103524.0297543877, 6044.833584799904),\n (1188357.6145657112, 7716.276015435959),\n (1372787.809292118, 9245.305719259055),\n (1384838.1565905728, 9017.021854858356),\n (943453.5039611706, 3872.5504448116217),\n (1473251.1370443052, 10139.795996386918),\n (1193105.0430546114, 6609.264475007823),\n (1352864.9063076018, 7910.4092523341),\n (1516294.8593097788, 12428.429377149409),\n (1495128.4522078442, 9104.425895131817),\n (1101703.1203011505, 7322.0766189418355),\n (1335999.295469659, 10514.329585178131),\n (1260388.3275409348, 6781.620294321942),\n (1486445.3868153186, 9154.597328054511),\n (1487962.8151930468, 8615.546963707098),\n (1266081.7209805206, 10488.640100984345),\n (1447839.2459594805, 11952.186559799475),\n (1350075.2949324802, 9895.791874134624),\n (1122763.2377340621, 5097.57389734718),\n (1416183.6229759585, 11297.620697541199),\n (1347727.348728386, 8454.177009365605),\n (1517032.0432140767, 10616.863978282208),\n (1495064.4861551318, 10046.002453489704),\n (1352571.888099966, 7462.7543210578615),\n (1086236.3486905475, 6233.138453017783),\n (1172233.4298448772, 7247.333352033058),\n (1195852.1426445334, 6165.948761770451),\n (885567.091673964, 4594.892851382717),\n (1235866.2307636894, 7792.16563136287),\n (1295092.8481381512, 7049.048184722318),\n (1223068.375930194, 8693.31555567679),\n (1407849.770924534, 8389.339420462959),\n (1248584.7696152765, 7641.636795778196),\n (1464445.4187805806, 9833.089200480168),\n (1392756.714254608, 7322.925945926196),\n (1367994.8568012689, 7614.461841814192),\n (1336278.6051133492, 6687.611247795895),\n (1141354.9236260783, 6972.03793179864),\n (1455867.4858601787, 9014.185953331034),\n (1497393.3186205928, 9332.703683680165),\n (1301338.8854733573, 6439.6391250737315),\n (1478445.711267387, 11561.117764276765),\n (1339058.5114145342, 8126.328230768744),\n (1483994.2302812925, 8118.78762081211),\n (1317591.5904288695, 9326.892941940141),\n (987006.2169412167, 5367.823960849882),\n (1316254.9324816808, 7553.946923164138),\n (1417424.4656414238, 8821.060888692326),\n (1446137.0027203187, 9834.229740693723),\n (1162657.982478742, 5864.243589171124),\n (1294093.7758808772, 8328.119338188168),\n (1480492.0406051148, 10796.54265697385),\n (1096166.8205835323, 6487.096909911279),\n (1235660.640202036, 6028.503865498794),\n (1309642.0261422226, 6688.907940425292),\n (1467252.6180995721, 10896.473733863582),\n (1377008.0698931084, 10204.388184876998),\n (1497794.9604817436, 12016.515368905513),\n (1431499.8208168435, 10118.777341508727),\n (1494414.971248278, 11773.203802631093),\n (1226632.3770716533, 10309.642859311223),\n (1300416.5490107334, 6850.246144774752),\n (1183469.413977129, 5151.814209218902),\n (1084928.6241705497, 5639.023727961838),\n (1192234.1681831405, 6440.288880021816),\n (1489441.9582099512, 7913.300612205971),\n (1224797.361014656, 7803.399840589723),\n (1024782.8420565253, 6957.415822684845),\n (1488391.6852965609, 9671.167134667285)]"
     },
     "execution_count": 9,
     "metadata": {},
     "output_type": "execute_result"
    }
   ],
   "source": [
    "cases_per_year_list"
   ]
  },
  {
   "cell_type": "code",
   "execution_count": 10,
   "metadata": {
    "pycharm": {
     "name": "#%%\n"
    }
   },
   "outputs": [],
   "source": [
    "with open('cases_per_year_list.pickle', 'wb') as handle:\n",
    "    pickle.dump(cases_per_year_list, handle, protocol=pickle.HIGHEST_PROTOCOL)"
   ]
  }
 ],
 "metadata": {
  "kernelspec": {
   "display_name": "Python 3",
   "language": "python",
   "name": "python3"
  },
  "language_info": {
   "codemirror_mode": {
    "name": "ipython",
    "version": 3
   },
   "file_extension": ".py",
   "mimetype": "text/x-python",
   "name": "python",
   "nbconvert_exporter": "python",
   "pygments_lexer": "ipython3",
   "version": "3.8.5"
  },
  "toc": {
   "base_numbering": 1,
   "nav_menu": {},
   "number_sections": true,
   "sideBar": true,
   "skip_h1_title": false,
   "title_cell": "Table of Contents",
   "title_sidebar": "Contents",
   "toc_cell": false,
   "toc_position": {},
   "toc_section_display": true,
   "toc_window_display": false
  },
  "varInspector": {
   "cols": {
    "lenName": 16,
    "lenType": 16,
    "lenVar": 40
   },
   "kernels_config": {
    "python": {
     "delete_cmd_postfix": "",
     "delete_cmd_prefix": "del ",
     "library": "var_list.py",
     "varRefreshCmd": "print(var_dic_list())"
    },
    "r": {
     "delete_cmd_postfix": ") ",
     "delete_cmd_prefix": "rm(",
     "library": "var_list.r",
     "varRefreshCmd": "cat(var_dic_list()) "
    }
   },
   "types_to_exclude": [
    "module",
    "function",
    "builtin_function_or_method",
    "instance",
    "_Feature"
   ],
   "window_display": false
  }
 },
 "nbformat": 4,
 "nbformat_minor": 1
}