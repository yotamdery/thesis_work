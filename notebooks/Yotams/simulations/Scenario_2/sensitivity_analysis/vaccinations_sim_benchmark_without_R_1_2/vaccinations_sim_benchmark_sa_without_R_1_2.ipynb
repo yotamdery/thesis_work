{
 "cells": [
  {
   "cell_type": "markdown",
   "source": [
    "## This notebook produces cases per year for the benchmark with info simulation"
   ],
   "metadata": {
    "collapsed": false,
    "pycharm": {
     "name": "#%% md\n"
    }
   }
  },
  {
   "cell_type": "code",
   "execution_count": 8,
   "outputs": [],
   "source": [
    "import numpy as np\n",
    "import pandas as pd\n",
    "import itertools\n",
    "import pickle\n",
    "import datetime, random, copy\n",
    "import sys, os, tqdm\n",
    "\n",
    "import SEIR_full as mdl\n",
    "import SEIR_full.model as mdl\n",
    "import SEIR_full.calibration as mdl\n",
    "from SEIR_full.indices import *\n",
    "from SEIR_full.utils import *\n",
    "from SEIR_full.parameters import *"
   ],
   "metadata": {
    "collapsed": false,
    "pycharm": {
     "name": "#%%\n"
    }
   }
  },
  {
   "cell_type": "markdown",
   "source": [
    "* Fixing the ranges of the uncertainty factors that we're interested in:"
   ],
   "metadata": {
    "collapsed": false,
    "pycharm": {
     "name": "#%% md\n"
    }
   }
  },
  {
   "cell_type": "code",
   "execution_count": 9,
   "outputs": [],
   "source": [
    "# Creating a list of tuples, each tuple is a realization of randomly picked values for the factors that we change every iteration of the simulation\n",
    "np.random.seed(44)\n",
    "list_of_tuples = []\n",
    "for i in range(1000):\n",
    "    booster_eff = round(np.random.uniform(low=29.5001, high=95.5)) / 100     # Discrete uniform dist, booster_efficiency ~ U(30, 95), Updated in the model's object\n",
    "    inv_level = round(np.random.uniform(low=9.5001, high=20.5)) / 100       # Discrete uniform dist, booster_efficiency ~ U(10, 20), Updated in the simulation's settings\n",
    "    hosp_proba_scalar = round(np.random.uniform(low=0.8, high=1.2), 2)      # Continuous uniform dist, booster_efficiency ~ U(0.8, 1.2), Updated in the model's object\n",
    "    years_for_model_run = round(np.random.uniform(low=.5001, high=5.5))         # Discrete uniform dist, booster_efficiency ~ U(3, 10), Updated in the simulation's settings\n",
    "    list_of_tuples.append((booster_eff, inv_level, hosp_proba_scalar, years_for_model_run))"
   ],
   "metadata": {
    "collapsed": false,
    "pycharm": {
     "name": "#%%\n"
    }
   }
  },
  {
   "cell_type": "markdown",
   "source": [
    "* Fixing the static settings for all runs of the big loop"
   ],
   "metadata": {
    "collapsed": false,
    "pycharm": {
     "name": "#%% md\n"
    }
   }
  },
  {
   "cell_type": "code",
   "execution_count": 10,
   "outputs": [],
   "source": [
    "## DEFINING STATIC SETTINGS (INDEPENDENT IN THE DYNAMIC FACTORS) FOR THE SIMULATION RUN\n",
    "# Short path for the data directory\n",
    "DATA_DIR = r'/Users/yotamdery/Old_Desktop/git/SEIR_model_COVID-main/Data'\n",
    "# Reading the indices of the model - adding an hint to declare it's from type Indices!\n",
    "with(open(DATA_DIR + '/parameters/indices.pickle', 'rb')) as openfile:\n",
    "    ind:Indices = pickle.load(openfile)\n",
    "\n",
    "# Vaccination priority queue:\n",
    "vaccination_pq = [('High', '60+'), ('High', '30-59'), ('High', '10-29'), ('High', '5-9'),\n",
    "                   ('Low', '60+'), ('Low', '30-59'), ('Low', '10-29'), ('Low', '5-9')]\n",
    "\n",
    "# Reading the neutralized vectors:\n",
    "# Alpha variant vector\n",
    "with open(DATA_DIR + '/parameters/neutralized_alpha_variant_vec.pickle', 'rb') as pickle_in:\n",
    "\tneutralized_alpha_variant_vec = pickle.load(pickle_in)\n",
    "\n",
    "# Delta variant vector\n",
    "with open(DATA_DIR + '/parameters/neutralized_delta_variant_vec.pickle', 'rb') as pickle_in:\n",
    "\tneutralized_delta_variant_vec = pickle.load(pickle_in)\n",
    "\n",
    "# Beta_lockdown vector\n",
    "with open(DATA_DIR + '/parameters/neutralized_lockdown_vec.pickle', 'rb') as pickle_in:\n",
    "\tneutralized_lockdown_vec = pickle.load(pickle_in)\n",
    "\n",
    "# Beta_school vector\n",
    "with open(DATA_DIR + '/parameters/neutralized_school_vec.pickle', 'rb') as pickle_in:\n",
    "\tneutralized_school_vec = pickle.load(pickle_in)\n",
    "\n",
    "# Isolation morbidity ratio vector\n",
    "with open(DATA_DIR + '/parameters/neutralized_isolation_morbidity_ratio_vector.pickle', 'rb') as pickle_in:\n",
    "\tneutralized_isolation_morbidity_ratio_vector = pickle.load(pickle_in)\n",
    "\n",
    "# zero vector to remove any transition from V_2 and S_2 to V_3\n",
    "with open(DATA_DIR + '/parameters/neutralized_transition_rate_to_V_3.pickle', 'rb') as pickle_in:\n",
    "\tneutralized_transition_vector = pickle.load(pickle_in)\n"
   ],
   "metadata": {
    "collapsed": false,
    "pycharm": {
     "name": "#%%\n"
    }
   }
  },
  {
   "cell_type": "markdown",
   "source": [
    "* Utils functions:"
   ],
   "metadata": {
    "collapsed": false,
    "pycharm": {
     "name": "#%% md\n"
    }
   }
  },
  {
   "cell_type": "code",
   "execution_count": 11,
   "outputs": [],
   "source": [
    "# Getting the reported unreported ratio\n",
    "def get_reported_unreported_ratio(scen):\n",
    "    if scen == 'Scenario2':\n",
    "        reported = 1\n",
    "        unreported = 2\n",
    "        reported_unreported = unreported / (reported + unreported)\n",
    "    return reported_unreported\n",
    "\n",
    "def risk_age_groups_mapping(wanted_mapping: tuple):\n",
    "    \"\"\" This function gets a wanted mapping (4 examined age groups to 9 original model's age groups or vice versa),\n",
    "    and returns a dictionary consist of the wanted mapping\n",
    "    \"\"\"\n",
    "    age_groups_mapping_dict = {}\n",
    "    # If the wanted mapping is 4 examined age groups to 9 original model's age groups:\n",
    "    if wanted_mapping == ('High', '4-to-9'):\n",
    "        age_groups_mapping_dict[('High', '5-9')] = [('High', '5-9')]\n",
    "        age_groups_mapping_dict[('High', '10-29')] = [('High', '10-19'), ('High', '20-29')]\n",
    "        age_groups_mapping_dict[('High', '30-59')] = [('High','30-39'), ('High','40-49'), ('High','50-59')]\n",
    "        age_groups_mapping_dict[('High', '60+')] = [('High', '60-69'), ('High', '70+')]\n",
    "\n",
    "    elif wanted_mapping == ('Low', '4-to-9'):\n",
    "        age_groups_mapping_dict[('Low', '5-9')] = [('Low', '5-9')]\n",
    "        age_groups_mapping_dict[('Low', '10-29')] = [('Low', '10-19'), ('Low', '20-29')]\n",
    "        age_groups_mapping_dict[('Low', '30-59')] = [('Low','30-39'), ('Low','40-49'), ('Low','50-59')]\n",
    "        age_groups_mapping_dict[('Low', '60+')] = [('Low', '60-69'), ('Low', '70+')]\n",
    "\n",
    "    # If the wanted mapping is 9 original model's age groups to 4 examined age groups:\n",
    "    elif wanted_mapping == ('High', '9-to-4'):\n",
    "        age_groups_mapping_dict[('High', '0-4')] = np.nan     # There's no corresponding age group among the 4 examined age-groups\n",
    "        age_groups_mapping_dict[('High', '5-9')] = ('High', '5-9')\n",
    "        age_groups_mapping_dict[('High', '10-19')] = ('High', '10-29')\n",
    "        age_groups_mapping_dict[('High', '20-29')] = ('High', '10-29')\n",
    "        age_groups_mapping_dict[('High', '30-39')] = ('High', '30-59')\n",
    "        age_groups_mapping_dict[('High', '40-49')] = ('High', '30-59')\n",
    "        age_groups_mapping_dict[('High', '50-59')] = ('High', '30-59')\n",
    "        age_groups_mapping_dict[('High', '60-69')] = ('High', '60+')\n",
    "        age_groups_mapping_dict[('High', '70+')] = ('High', '60+')\n",
    "\n",
    "    else:\n",
    "        age_groups_mapping_dict[('low', '0-4')] = np.nan     # There's no corresponding age group among the 4 examined age-groups\n",
    "        age_groups_mapping_dict[('low', '5-9')] = ('low', '5-9')\n",
    "        age_groups_mapping_dict[('low', '10-19')] = ('low', '10-29')\n",
    "        age_groups_mapping_dict[('low', '20-29')] = ('low', '10-29')\n",
    "        age_groups_mapping_dict[('low', '30-39')] = ('low', '30-59')\n",
    "        age_groups_mapping_dict[('low', '40-49')] = ('low', '30-59')\n",
    "        age_groups_mapping_dict[('low', '50-59')] = ('low', '30-59')\n",
    "        age_groups_mapping_dict[('low', '60-69')] = ('low', '60+')\n",
    "        age_groups_mapping_dict[('low', '70+')] = ('low', '60+')\n",
    "\n",
    "    return age_groups_mapping_dict\n",
    "\n",
    "def get_wanted_df(wanted_age_group):\n",
    "\t\"\"\" Gets the age-groups that we want to address our calculations to, and returns a sub-Dataframe containing only the relevant columns (the wanted age-groups columns)\"\"\"\n",
    "\t# Reading the pop per county file:\n",
    "\tcounty_pop = pd.read_csv(DATA_DIR + '/division_choice/30/population_per_county_age-group.csv')\n",
    "\t# Initializing the list with the county column, that will be picked anyway\n",
    "\twanted_columns = [county_pop.columns[0]]\n",
    "\t# Splitting the given age_group, creating list of integers. try-expect block to catch the 60+ column as well:\n",
    "\ttry:\n",
    "\t\twanted_age_group_splitted = list(map(int, wanted_age_group.split('-')))\n",
    "\texcept ValueError:\n",
    "\t\twanted_age_group_splitted = [60, 70]  # In order to pass the logic condition successfully\n",
    "\n",
    "\t# Iterating on the columns of the file and performing the condition logic:\n",
    "\tfor col in county_pop.columns[1:]:\n",
    "\t\t# Splitting the current column of the file. try-expect block to catch the 70+ column as well:\n",
    "\t\ttry:\n",
    "\t\t\tages_as_list = list(map(int, col.split('_')[1].split('-')))\n",
    "\t\texcept ValueError:\n",
    "\t\t\tages_as_list = [70]\n",
    "\t\t# If these conditions are met, take this column to be in the sub-df\n",
    "\t\tif ages_as_list[0] >= min(wanted_age_group_splitted) and ages_as_list[0] <= max(wanted_age_group_splitted):\n",
    "\t\t\twanted_columns.append(col)\n",
    "\n",
    "\treturn county_pop[wanted_columns]\n",
    "\n",
    "# Gets a dictionary to reduce (lambda, V_2 or S_2) and reduce its cardinality to consist only the relevant age-groups\n",
    "def calc_sub_dict(dict_to_reduce: dict, wanted_age_group: str):\n",
    "    sub_dict = {}\n",
    "    # Splitting the given age_group, creating list of integers. try-expect block to catch the 60+ group as well (if wanted):\n",
    "    try:\n",
    "        wanted_age_group_splitted = list(map(int, wanted_age_group.split('-')))\n",
    "    except ValueError:\n",
    "        wanted_age_group_splitted = [60, 70]    # In order to pass the logic condition successfully\n",
    "\n",
    "    for key, val in dict_to_reduce.items():\n",
    "        # Splitting the age group part of the key. try-expect block to catch the 70+ column from the file as well:\n",
    "        try:\n",
    "            if isinstance(key, str):   # If the dict_to_reduce keys are only on the age level\n",
    "                ages_as_list = list(map(int, key.split('-')))\n",
    "            elif isinstance(key, tuple):    # If the dict_to_reduce keys are on the region&age level (as lambda_t does) - take the second element (the age)\n",
    "                ages_as_list = list(map(int, key[1].split('-')))\n",
    "        except ValueError:\n",
    "            ages_as_list = [70]\n",
    "        # If these conditions are met, take this key-value pair to be in the sub-dict\n",
    "        if ages_as_list[0] >= min(wanted_age_group_splitted) and ages_as_list[0] <= max(wanted_age_group_splitted):\n",
    "            sub_dict[key] = val    # Converting from ndarray to float\n",
    "\n",
    "    return sub_dict\n",
    "\n",
    "def get_indexes_risk_age_combination(risk_age_group: tuple):\n",
    "    \"\"\"This function gets a tuple of (risk, 4_age_group) and returns the indexes of that combination as they are in the original model (including transformation to the 9 original age groups\n",
    "    e.g.: for ('High', '10-29'), returns the indexes for ('High', '10-19') + ('High', '20-29') \"\"\"\n",
    "    # Initializing the result list and the age groups mapper:\n",
    "    indexes_list_of_lists = []\n",
    "    four_to_nine_age_map = risk_age_groups_mapping((risk_age_group[0], '4-to-9'))\n",
    "    for val in four_to_nine_age_map[risk_age_group]:\n",
    "            indexes_list_of_lists.append(ind.risk_age_dict[val])\n",
    "    # Merging the list of lists to one list:\n",
    "    risk_indexes_list = [item for sublist in indexes_list_of_lists for item in sublist]\n",
    "    return sorted(risk_indexes_list)\n",
    "\n",
    "# Gets the compartment to aggregate, and returns the same compartment, stratified by the original age-groups\n",
    "def calc_aggregated_compartment_by_age_risk(compartment: np.array):\n",
    "    compartment_dict = {}\n",
    "    for risk_age in ind.risk_age_dict.keys():\n",
    "        compartment_dict[risk_age] = float(compartment[:, ind.risk_age_dict[risk_age]].sum(axis=1))\n",
    "    return compartment_dict\n",
    "\n",
    "# Gets the compartment dictionary (the compartment stratified by the old age-groups), and aggregates the compartment to the wanted age-group by returning a dict (e.g agg. V_2 for age group 30-59, using the sub-age-groups 30-39, 40-49, 50-59)\n",
    "def compartment_by_4_age_groups(compartment: dict, target_risk_age_group: tuple):\n",
    "    # Initiate the wanted mapping:\n",
    "    four_to_nine_age_map = risk_age_groups_mapping((target_risk_age_group[0], '4-to-9'))\n",
    "    # Initiate result dict to return:\n",
    "    agg_risk_4_groups_dict = {}\n",
    "    for risk_4_age_group in four_to_nine_age_map.keys():     # Iterating on each combination of (risk, 9 age-groups):\n",
    "        agg_risk_4_groups_dict[risk_4_age_group] = 0\n",
    "    # Performing the aggregation to the new dict - (risk, 4 age groups):\n",
    "    for key, val in four_to_nine_age_map.items():\n",
    "        for tup in val:\n",
    "            agg_risk_4_groups_dict[key] += compartment[tup]\n",
    "\n",
    "    return agg_risk_4_groups_dict\n",
    "\n",
    "def calc_comp_prop_for_age_risk(comp: str, curr_res_mdl_1_ml: dict, target_risk_age_group: tuple):\n",
    "    \"\"\"This function gets the target compartment and the current predictions of the current model,\n",
    "    and returns the compartment aggregated by the wanted combination of (age-group, risk)\"\"\"\n",
    "    # Getting the last day of the compartment:\n",
    "    comp_last_day = np.reshape(curr_res_mdl_1_ml[comp][-1, :], newshape=(1,540))\n",
    "    # Aggregate the compartment by (9 age groups, risk):\n",
    "    comp_agg_9_age_groups_risk = calc_aggregated_compartment_by_age_risk(comp_last_day)\n",
    "    # Aggregate the compartment by (4 age groups, risk):\n",
    "    comp_agg_4_age_groups_risk = compartment_by_4_age_groups(comp_agg_9_age_groups_risk, target_risk_age_group)\n",
    "    # Gets the relevant age group out of the 4 age groups, and summing on it to get the final proportion:\n",
    "    return comp_agg_4_age_groups_risk[target_risk_age_group]\n",
    "\n",
    "def update_compartment(curr_res_mdl_1_ml: dict, compartment: str, updated_array: np.array):\n",
    "    \"\"\"This function gets the current models' predictions, the compartment to update and the updated array, and updates the model object with the updated array\"\"\"\n",
    "    # Initiate settings:\n",
    "    curr_res_mdl_1_ml[compartment][-1] = updated_array\n",
    "    comp_as_list = []\n",
    "    # Changing the updated arrays to be lists of arrays (to allow the update of the model object):\n",
    "    for element in curr_res_mdl_1_ml[compartment]:\n",
    "        comp_as_list.append(element)\n",
    "\n",
    "    # Performing the proper model update\n",
    "    curr_res_mdl_1_ml.update({\n",
    "        compartment : comp_as_list\n",
    "    })\n",
    "\n",
    "# Defining the model - initializing it for t=0:\n",
    "def defining_model(scen):\n",
    "    model_1_ml_ = mdl.Model_behave(\n",
    "    ind= ind,\n",
    "    beta_j= cal_parameters[scen]['beta_j'],\n",
    "    beta_activity= cal_parameters[scen]['beta_activity'],\n",
    "    beta_school= cal_parameters[scen]['beta school'],\n",
    "    scen= scen\n",
    "    )\n",
    "    # Predicting without an assignment (there's no need for that)\n",
    "    model_1_ml_.predict(\n",
    "        days_in_season= 529,    # Num of days between 15/05/20 - 25/10/21\n",
    "        shifting_12_days= True\n",
    "    )\n",
    "    # Updating the vectors to be able to run the model furthermore:\n",
    "    model_1_ml_.update({\n",
    "        'alpha_variant_vec':  neutralized_alpha_variant_vec,\n",
    "        'delta_variant_vec': neutralized_delta_variant_vec,\n",
    "        'isolation_morbidity_ratio_vector': neutralized_isolation_morbidity_ratio_vector,\n",
    "        'is_lockdown': neutralized_lockdown_vec,\n",
    "        'is_school': neutralized_school_vec,\n",
    "        'v2_to_v3_transition_t' : neutralized_transition_vector,\n",
    "        's_2_to_v3_transition_t' : neutralized_transition_vector\n",
    "    })\n",
    "    return model_1_ml_\n",
    "\n",
    "# Update model for current variables of uncertainty:\n",
    "def update_models_object(mdl_1_ml: mdl.Model_behave, realization: tuple):\n",
    "    new_rho = mdl_1_ml.rho * realization[2]\n",
    "    mdl_1_ml.update({\n",
    "        'booster_efficiency': realization[0],\n",
    "        'rho': new_rho\n",
    "    })"
   ],
   "metadata": {
    "collapsed": false,
    "pycharm": {
     "name": "#%%\n"
    }
   }
  },
  {
   "cell_type": "markdown",
   "source": [
    "#### calculating the transferring proportion:"
   ],
   "metadata": {
    "collapsed": false,
    "pycharm": {
     "name": "#%% md\n"
    }
   }
  },
  {
   "cell_type": "code",
   "execution_count": 12,
   "outputs": [],
   "source": [
    "def calc_trans_prop(vaccination_pq_: list, curr_res_mdl_1_ml: dict, curr_inv_: float):\n",
    "    # Initializing the accumulated amount used and the priority queue:\n",
    "    curr_inventory_used = 0\n",
    "    vaccination_pq_copy = vaccination_pq_.copy()\n",
    "    # Saving the combinations that we will vaccinate:\n",
    "    vaccinated_que_ = []\n",
    "    # Iterating until we cross the prior inventory level:\n",
    "    while (curr_inventory_used <= curr_inv_):\n",
    "        # Getting the current combination of (age_group, risk) from the pq:\n",
    "        current_risk_age = vaccination_pq_copy.pop(0)\n",
    "        # Getting the correspondent reported/unreported ratio for the Scenario:\n",
    "        #reported_unreported = get_reported_unreported_ratio('Scenario2')\n",
    "        # Getting V2_j,r, S2_j,r proportions:\n",
    "        S_2_age_risk, V_2_age_risk = calc_comp_prop_for_age_risk('S_2', curr_res_mdl_1_ml,current_risk_age), \\\n",
    "                                     calc_comp_prop_for_age_risk('V_2', curr_res_mdl_1_ml,current_risk_age)\n",
    "\n",
    "        # Calculating the formula for num of needed vaccines:\n",
    "        count_vaccines_in_use = (S_2_age_risk + V_2_age_risk) * pop_israel\n",
    "        # Updating the accumulated used vaccines:\n",
    "        curr_inventory_used += count_vaccines_in_use\n",
    "        # Updating the vaccinated_que:\n",
    "        vaccinated_que_.append(current_risk_age)\n",
    "\n",
    "    final_trans_prop = curr_inv_ / curr_inventory_used\n",
    "    return final_trans_prop, vaccinated_que_"
   ],
   "metadata": {
    "collapsed": false,
    "pycharm": {
     "name": "#%%\n"
    }
   }
  },
  {
   "cell_type": "markdown",
   "source": [
    "#### Vaccinating in booster dose:"
   ],
   "metadata": {
    "collapsed": false,
    "pycharm": {
     "name": "#%% md\n"
    }
   }
  },
  {
   "cell_type": "code",
   "execution_count": 13,
   "outputs": [],
   "source": [
    "### Vaccinating in booster (moving from S_2 and V_2 to V_3, including the model update):\n",
    "def vaccinate(trans_prop_: float, curr_res_mdl_1_ml: dict, vaccination_que: list):\n",
    "    ## initialize settings:\n",
    "    vaccination_que_copy = vaccination_que.copy()\n",
    "    trans_prop_copy = trans_prop_\n",
    "    reported_unreported = get_reported_unreported_ratio('Scenario2')\n",
    "    # Getting the last day of the compartments and V_3, saving it to a dictionary:\n",
    "    last_day_dict = {'S_2_last_day': np.reshape(curr_res_mdl_1_ml['S_2'][-1, :], newshape=(540) ),\n",
    "                     'V_2_last_day': np.reshape(curr_res_mdl_1_ml['V_2'][-1, :], newshape=(540) ),\n",
    "                     'V_3_last_day': np.reshape(curr_res_mdl_1_ml['V_3'][-1, :], newshape=(540) ),\n",
    "                    }\n",
    "    # Iterating over the combinations of (risk, age_group) that we need to vaccinate, and moving the population, and updating the model:\n",
    "    for curr_risk_age in vaccination_que_copy:\n",
    "        # Getting the relevant indexes to operate in the correspondent locations of the compartment:\n",
    "        curr_risk_age_indexes = get_indexes_risk_age_combination(curr_risk_age)\n",
    "\n",
    "        ## Vaccinating from S_2 to V_3\n",
    "        S_2_last_day_updated, V_3_last_day_updated = vaccinating_from_V_2_S_2(last_day_dict['V_3_last_day'], last_day_dict['S_2_last_day'], trans_prop_copy, curr_risk_age_indexes)\n",
    "        # updating the results:\n",
    "        last_day_dict['V_3_last_day'], last_day_dict['S_2_last_day'] = V_3_last_day_updated, S_2_last_day_updated\n",
    "\n",
    "        ## Vaccinating from V_2 to V_3\n",
    "        V_2_last_day_updated, V_3_last_day_updated = vaccinating_from_V_2_S_2(last_day_dict['V_3_last_day'], last_day_dict['V_2_last_day'], trans_prop_copy, curr_risk_age_indexes)\n",
    "        # updating the results:\n",
    "        last_day_dict['V_3_last_day'], last_day_dict['V_2_last_day'] = V_3_last_day_updated, V_2_last_day_updated\n",
    "\n",
    "    update_compartment(curr_res_mdl_1_ml, 'V_2', last_day_dict['V_2_last_day'])\n",
    "    update_compartment(curr_res_mdl_1_ml, 'S_2', last_day_dict['S_2_last_day'])\n",
    "    update_compartment(curr_res_mdl_1_ml, 'V_3', last_day_dict['V_3_last_day'])"
   ],
   "metadata": {
    "collapsed": false,
    "pycharm": {
     "name": "#%%\n"
    }
   }
  },
  {
   "cell_type": "markdown",
   "source": [
    "### Main - 1000 iterations of the Sim:"
   ],
   "metadata": {
    "collapsed": false,
    "pycharm": {
     "name": "#%% md\n"
    }
   }
  },
  {
   "cell_type": "code",
   "execution_count": 14,
   "outputs": [
    {
     "name": "stderr",
     "output_type": "stream",
     "text": [
      "tqdm() Progress Bar: 100%|██████████| 1000/1000 [6:21:32<00:00, 22.89s/it] \n"
     ]
    }
   ],
   "source": [
    "# A list to hold 1000 realizations of cases per year:\n",
    "cases_per_year_list = []\n",
    "\n",
    "# Big loop run:\n",
    "for tup in tqdm.tqdm(list_of_tuples, desc= 'tqdm() Progress Bar'):\n",
    "    # Initializing the model's object (and its predictions) to t=0:\n",
    "    model_1_ml = defining_model('Scenario2')\n",
    "    # Settings:\n",
    "    update_models_object(model_1_ml, tup)       # Updating the v3_efficiency and the proba for hosp\n",
    "    inv_level = tup[1] * pop_israel             # Updating the inventory level\n",
    "    years_for_model_run = tup[3]                # Updating the years for the model to run for\n",
    "\n",
    "    # Running the model for X years, in 6 months resolution\n",
    "    for i in range(years_for_model_run*2):\n",
    "        # Running until the vaccination month:\n",
    "        for j in range(1):\n",
    "            res_mdl_1_ml = model_1_ml.predict(\n",
    "                            days_in_season= 30,\n",
    "                            continuous_predict= True\n",
    "                            )\n",
    "            # Getting the proportion of transition, and the combinations that we vaccinate:\n",
    "            trans_prop, vaccinated_que = calc_trans_prop(vaccination_pq, res_mdl_1_ml, inv_level)\n",
    "            # Vaccinating (including the model update):\n",
    "            vaccinate(trans_prop, res_mdl_1_ml, vaccinated_que)\n",
    "\n",
    "        # Running the model until the end of the current \"single\" run (half a year)\n",
    "        for k in range(5):\n",
    "            res_mdl_1_ml = model_1_ml.predict(\n",
    "                days_in_season= 30,\n",
    "                continuous_predict= True\n",
    "            )\n",
    "\n",
    "    ## Calculating the cases per year index for every measurement:\n",
    "    tot_new_Is = np.add(res_mdl_1_ml['new_Is_1'].sum(axis=1) * pop_israel, res_mdl_1_ml['new_Is_2'].sum(axis=1) * pop_israel)\n",
    "    tot_new_H = np.add(res_mdl_1_ml['new_H_1'].sum(axis=1) * pop_israel, res_mdl_1_ml['new_H_2'].sum(axis=1) * pop_israel)\n",
    "    # Transferring to cumulative sum:\n",
    "    cumsum_tot_new_Is, cumsum_tot_new_H = np.cumsum(tot_new_Is), np.cumsum(tot_new_H)\n",
    "    # Performing the calculation itself:\n",
    "    cases_per_year_new_Is, cases_per_year_new_H = (cumsum_tot_new_Is[-1] - cumsum_tot_new_Is[528]) / years_for_model_run, (cumsum_tot_new_H[-1] - cumsum_tot_new_H[528]) / years_for_model_run\n",
    "    cases_per_year_list.append((cases_per_year_new_Is, cases_per_year_new_H))"
   ],
   "metadata": {
    "collapsed": false,
    "pycharm": {
     "name": "#%%\n"
    }
   }
  },
  {
   "cell_type": "code",
   "execution_count": 15,
   "outputs": [
    {
     "data": {
      "text/plain": "[(1507471.2244166068, 11680.44319120352),\n (1543343.235591947, 10074.99004634842),\n (1534742.6113630338, 12313.298398420351),\n (1541922.4955406552, 8552.530336956857),\n (1487133.3895855055, 11614.757406783834),\n (1533085.6105600575, 9514.179988464968),\n (1549425.3670598986, 13120.328830604392),\n (1515314.184422118, 10283.406389553753),\n (1549321.720586074, 10818.890622869589),\n (1485180.3773878918, 11706.344711107764),\n (1528616.8863437145, 11348.945309302679),\n (1526803.7154449967, 10270.864218656003),\n (1510837.6585535917, 10067.005630070682),\n (1558081.6084825024, 13062.146617855034),\n (1502541.6938861876, 8997.018550394267),\n (1545872.8410843504, 9503.844484847217),\n (1552547.5876324414, 8810.577818007578),\n (1518890.9746008194, 11177.364110924696),\n (1557837.0618429843, 10612.268132744784),\n (1530044.244993755, 11656.180035604255),\n (1528630.8824227029, 9679.017720953383),\n (1555724.3442466033, 8382.881415719254),\n (1554748.0943870347, 9855.372377993983),\n (1544459.4786541152, 9392.657165260012),\n (1555824.638946678, 10657.27645351776),\n (1562221.9144030164, 12425.425348108029),\n (1561240.40710688, 11471.83797488561),\n (1544802.5665619862, 10118.8510856117),\n (1552251.9677566944, 9837.97985003953),\n (1575051.108746241, 13761.737856841377),\n (1539107.0086380083, 11930.369777351496),\n (1548714.444939476, 11454.035111306946),\n (1534742.6113630338, 12417.648384847615),\n (1520243.5028700647, 9141.493933928134),\n (1542948.2040464235, 9135.647221295934),\n (1535647.776128503, 12329.375363528008),\n (1535625.8862632352, 12424.91199828045),\n (1544459.4786541152, 8882.186667148102),\n (1521808.6812036093, 11588.032131614475),\n (1545824.511224483, 10827.546559165616),\n (1538633.0069152545, 8643.976073896409),\n (1537695.4314347513, 9773.030416523787),\n (1552023.2990353038, 11083.041867612386),\n (1538288.118254288, 12345.850236840646),\n (1510459.476479796, 7984.845844609678),\n (1491051.1647507763, 12798.394912473035),\n (1555936.041425333, 12244.708375898323),\n (1546018.3677124523, 10610.865074657062),\n (1504505.120615066, 10230.152376964606),\n (1531156.6778202716, 8952.85519171558),\n (1552251.9677566944, 8559.042469534412),\n (1553774.2448014456, 11096.863354348869),\n (1520395.1381547004, 10065.59930185351),\n (1547414.181061584, 10321.958477256758),\n (1523480.5076740205, 9933.10293136529),\n (1490292.3636309213, 12846.27430616606),\n (1535585.3987743638, 9518.510406765894),\n (1544463.9194105056, 9626.682727699217),\n (1553016.5168432484, 9231.591705347324),\n (1540794.694941293, 10634.791931241467),\n (1537012.7309253954, 11769.759744169996),\n (1543313.3887833634, 12386.307275090183),\n (1513907.13354971, 10704.788083045549),\n (1534937.9839099674, 8359.733163796132),\n (1532460.7254666928, 11548.018493409754),\n (1550721.629104427, 10442.887908030465),\n (1524655.6333216568, 8880.808530556717),\n (1549425.3670598986, 12207.61030325799),\n (1542786.6849649702, 11358.729496784883),\n (1551868.0843299986, 10026.328124275493),\n (1513512.5216207316, 10507.503797949248),\n (1493407.8888386262, 10451.769748855384),\n (1499515.3836034643, 10051.315945487482),\n (1534390.6840835002, 10897.913656572298),\n (1567736.2272469178, 10394.613795969643),\n (1540360.8294546714, 10847.02473157213),\n (1519103.9025108046, 11059.658055771371),\n (1553998.2216352483, 12022.887511859939),\n (1537810.2707474974, 11633.980493263502),\n (1564454.2081331122, 11982.805143393578),\n (1545952.4879055708, 11178.636295498534),\n (1552757.5714446092, 8365.267867200668),\n (1524883.4736368705, 8806.335514703525),\n (1556207.7477000698, 8583.080029727429),\n (1546641.630727894, 9676.492950132984),\n (1539964.4191102402, 8481.672443455269),\n (1559084.1171957536, 11961.996110853794),\n (1533854.084095244, 11993.196255698485),\n (1549677.555939673, 11679.640317053683),\n (1543961.711615657, 10970.555483712198),\n (1549150.7014596427, 9423.89540493112),\n (1460541.8562636462, 11861.316403867293),\n (1471045.903214997, 11024.518449320909),\n (1520657.0238855744, 13047.187435454734),\n (1525615.357739695, 11928.215445435699),\n (1527896.671040282, 10850.266072029372),\n (1534847.9124349882, 9433.554504329762),\n (1549150.7014596427, 11681.703679029182),\n (1551288.4323897853, 11625.861334610909),\n (1555724.3442466033, 8284.259281416682),\n (1550634.7581995795, 8847.19701520432),\n (1526552.7559724029, 8925.732959156068),\n (1557837.0618429843, 12157.744074406643),\n (1544802.5665619862, 9248.412282548406),\n (1545002.4163401863, 8615.254733710231),\n (1524462.2795752462, 9267.795968158684),\n (1515887.2832532322, 11919.943512442334),\n (1528552.9760993067, 10707.16156340211),\n (1533706.760678904, 10780.827447628091),\n (1534949.7183297293, 11093.374796472423),\n (1542593.980696369, 8110.659889933391),\n (1500026.2364832642, 8876.706623247006),\n (1505579.5921934585, 11158.667446996129),\n (1555294.2053756292, 10285.126583069534),\n (1537152.7994654975, 10727.143063170442),\n (1552685.7477467794, 8521.385892225384),\n (1539376.6325954036, 10784.9360570644),\n (1547745.4081877624, 12427.852359004728),\n (1540879.345162746, 8979.49434920762),\n (1547745.4081877624, 11555.72236889921),\n (1526931.5856848892, 9787.50738084858),\n (1563236.8982611336, 13534.526028602464),\n (1549234.2370290142, 10028.868934570832),\n (1568833.1093526806, 13866.274953266095),\n (1531832.070865868, 10185.071232231576),\n (1540300.9548066661, 9073.481232303498),\n (1521970.7762284179, 8449.368197633692),\n (1516770.0863409955, 10323.267600076199),\n (1509834.5639792248, 10896.997967381662),\n (1485180.3773878918, 10779.109486465582),\n (1557566.9485175756, 11231.316996274496),\n (1550721.629104427, 10539.581314586292),\n (1530964.7269868334, 9441.745312455436),\n (1548217.9154962935, 11171.990419140291),\n (1555551.7947113514, 10070.052755157356),\n (1526529.9216532737, 12589.132429936066),\n (1555936.041425333, 9466.497231786938),\n (1534324.2082861243, 10785.368402963546),\n (1532693.2861763076, 11076.174080753253),\n (1523480.5076740205, 10621.535807796612),\n (1512701.6728612194, 9246.23258043809),\n (1548622.4675778092, 9322.282022479834),\n (1543456.4769407047, 11255.271667040593),\n (1544045.983422318, 11368.522501531188),\n (1535625.8862632352, 11067.56867073731),\n (1555200.5779611268, 8148.359329643072),\n (1536757.5577432597, 10316.685852762885),\n (1494906.1924066078, 9681.259334894903),\n (1550705.143557299, 10318.788554638835),\n (1549675.6758699005, 9918.37179214116),\n (1479199.8251573518, 11429.814656684282),\n (1559960.836171803, 13555.77928699683),\n (1530381.4347730337, 9342.643403967832),\n (1514629.976551395, 9281.180719759745),\n (1527896.671040282, 11639.376331813346),\n (1538234.8532850808, 11501.97828049582),\n (1543343.235591947, 11649.207241090358),\n (1515725.1016916917, 8316.483952990824),\n (1556818.000031094, 12284.639156362633),\n (1515534.1587858472, 12276.53565608429),\n (1560778.614762986, 8797.083941408964),\n (1556514.8888306806, 10888.91425361622),\n (1548261.0052262181, 10529.338654275061),\n (1542025.8431934533, 10549.4873481697),\n (1552685.7477467794, 11293.40298969633),\n (1534742.6113630338, 12208.948411993022),\n (1509531.5469454713, 10174.478225224053),\n (1518890.9746008194, 9902.752414064787),\n (1514629.976551395, 11521.465721081115),\n (1534742.6113630338, 11478.49850700202),\n (1542068.4560984508, 9310.585494417172),\n (1551182.4515638775, 11123.393738662324),\n (1519668.7066109525, 8730.706540067291),\n (1496481.7215145202, 11464.703311375006),\n (1545906.6866052502, 9885.275084270565),\n (1505022.9015340838, 12616.083128342503),\n (1509887.8457231498, 8508.19004548138),\n (1552444.1092162419, 8325.184660118837),\n (1517105.4454728179, 13963.841582628474),\n (1514919.2139730514, 10463.38954647454),\n (1561666.1588158943, 8912.330700281349),\n (1544669.970720681, 9477.821112692749),\n (1527409.5608725154, 7801.4675202497365),\n (1511272.4905061708, 12131.414949094093),\n (1540815.9518209267, 9983.701966629475),\n (1547745.4081877624, 10901.624876320015),\n (1544463.9194105056, 10493.084173192154),\n (1532693.2861763076, 10312.300006218502),\n (1554181.1316334587, 9384.49876904085),\n (1564454.2081331122, 12213.243703843493),\n (1497474.9446601216, 11710.590326890579),\n (1549150.7014596427, 10012.88886773929),\n (1539777.5744762097, 9543.230110177637),\n (1549677.555939673, 11570.48480007185),\n (1540815.9518209267, 10210.604284052892),\n (1545872.8410843504, 8379.733846854573),\n (1532061.1501927997, 9687.359462062379),\n (1555237.7961759667, 9267.273087168336),\n (1549425.3670598986, 9355.36490530053),\n (1545168.2994842737, 10520.739420841448),\n (1556207.7477000698, 9273.672675797403),\n (1550010.970540349, 10145.50063265826),\n (1503422.5515921789, 8689.507147880226),\n (1526803.7154449967, 9129.657083249806),\n (1545906.6866052502, 8387.506132108345),\n (1529923.110510453, 10656.249351770886),\n (1532960.274341366, 11152.294715582568),\n (1536929.9630083053, 10221.875025802852),\n (1554150.51943246, 8837.200826382574),\n (1497474.9446601216, 9284.071610507859),\n (1519870.2312942299, 12089.976006428056),\n (1541454.3028600982, 10154.758348733358),\n (1557670.8092150001, 11470.702472722141),\n (1531068.341080593, 11941.470225662828),\n (1555332.711527527, 12490.456477405225),\n (1535613.9395127979, 8727.976669807795),\n (1547733.79504233, 9797.735397869215),\n (1533828.2883618558, 9364.757717190292),\n (1526529.9216532737, 11802.3116530651),\n (1494885.9636587098, 8741.922601897375),\n (1538288.118254288, 10533.615339689759),\n (1545932.078784285, 10480.144260818388),\n (1539304.146837608, 11126.826518685557),\n (1498755.1787667074, 10769.997553372665),\n (1511272.4905061708, 12465.307103656289),\n (1542810.7093827985, 12604.820171241472),\n (1544175.3300148258, 10080.583966071563),\n (1532120.6114291472, 9258.334170868595),\n (1553886.8914837711, 9691.257229104309),\n (1546770.428249338, 11221.449985047262),\n (1544550.7761327315, 10576.659667420818),\n (1534077.3286978356, 11557.752881480792),\n (1553016.5168432484, 8930.56154104256),\n (1537152.7994654975, 10248.252747850298),\n (1550118.2079234037, 9613.602498159871),\n (1547895.482813348, 11290.466401653457),\n (1531737.9380151297, 8300.491842703885),\n (1527322.534338726, 9573.746679528653),\n (1558311.1270174833, 12297.081060648547),\n (1551818.0141612408, 10969.759856935309),\n (1545384.0884749687, 11357.323209787124),\n (1535613.9395127979, 10148.810081171816),\n (1541805.7324402411, 9881.729431178142),\n (1523713.3870040835, 11198.328829325546),\n (1570689.650999185, 11517.309120461845),\n (1488718.4278967725, 9103.899390622735),\n (1522468.0204805408, 12780.23464489135),\n (1534907.1103042436, 9910.565815896513),\n (1552023.2990353038, 9851.592771210982),\n (1544045.983422318, 10271.559804015065),\n (1555305.7407168197, 10367.788563638085),\n (1505467.333042478, 12972.970185651606),\n (1542810.7093827985, 9127.628399864507),\n (1558311.1270174833, 8798.773517533027),\n (1541805.7324402411, 11836.35723075187),\n (1557466.7363493026, 11776.782511720761),\n (1540815.9518209267, 12025.822823440043),\n (1542436.8810629004, 10670.469470740572),\n (1532460.7254666928, 9219.006360285093),\n (1550721.629104427, 10152.80768836292),\n (1512890.7515656927, 8228.986308533753),\n (1542948.2040464235, 8366.329560555174),\n (1530044.244993755, 8495.182059847186),\n (1503993.4109218456, 12185.18532695601),\n (1553001.2505917614, 9506.641045398825),\n (1509887.8457231498, 12124.170814810885),\n (1553443.3139567298, 8525.590350439361),\n (1552411.9711926235, 10170.640179331416),\n (1499515.3836034643, 8946.775731697651),\n (1520512.8698656636, 10037.745032189187),\n (1525709.2715931342, 9061.4727078268),\n (1555824.638946678, 11361.058860825506),\n (1534937.9839099674, 9915.03235706059),\n (1518886.371039746, 11373.556438732781),\n (1541922.4955406552, 11243.214038471406),\n (1508756.551207238, 11592.128079011944),\n (1560778.614762986, 13085.662362845718),\n (1524655.6333216568, 7818.972727990169),\n (1475149.2954886965, 10132.972470554987),\n (1548217.9154962935, 10829.990712431909),\n (1496816.4779757333, 10627.606631358167),\n (1523771.443645627, 9121.904962124554),\n (1557107.557761643, 9958.775218981136),\n (1540879.345162746, 8003.462354728538),\n (1512273.796064986, 10438.681089905922),\n (1524228.1329156742, 9839.670963808829),\n (1529197.76595163, 12498.344473281375),\n (1563341.6490086608, 13585.926453067847),\n (1545932.078784285, 10773.980081215119),\n (1526931.5856848892, 8273.975311645167),\n (1529197.76595163, 9908.597420259133),\n (1537695.4314347513, 8527.448108535467),\n (1508044.4024070224, 10705.52177157685),\n (1531544.438347733, 11258.267502282786),\n (1541922.4955406552, 11147.118191988779),\n (1550827.8567447725, 13667.881200483955),\n (1548217.9154962935, 10601.990907959616),\n (1538754.3475905848, 12571.264178729672),\n (1529278.9858262087, 10070.599780486613),\n (1534224.7821510043, 9212.575777134025),\n (1558819.4515105651, 11249.760015031881),\n (1553998.2216352483, 11509.088900241997),\n (1548849.244255662, 10622.136856421534),\n (1564745.934471173, 10130.334864871164),\n (1540869.2146590347, 8557.656610203245),\n (1530948.8187719584, 8194.95240768881),\n (1529265.9959411293, 12385.715563233982),\n (1555351.6698445536, 10422.488845388909),\n (1514629.976551395, 9601.221434234194),\n (1519256.0931274972, 10272.145338011156),\n (1521808.6812036093, 12415.748712444105),\n (1557107.557761643, 14330.920437070345),\n (1534907.1103042436, 11397.150688280995),\n (1543418.2260268314, 8273.525364973702),\n (1502479.892804064, 11487.380546391943),\n (1549860.6587080562, 11489.301291994465),\n (1502510.2008873534, 12948.177270724756),\n (1534458.9710054437, 13164.533462414802),\n (1505467.333042478, 10533.608270400904),\n (1512890.7515656927, 10594.819872237242),\n (1523480.5076740205, 7867.804302071557),\n (1527322.534338726, 8993.51960804208),\n (1536689.4749309837, 11796.664300717726),\n (1551743.1574497772, 11014.585571834294),\n (1537952.7306199353, 11006.988916787457),\n (1538754.3475905848, 9861.940002279316),\n (1549860.6587080562, 9381.172614564324),\n (1565559.6126031256, 11415.013486107879),\n (1513202.3149985266, 9099.15122073626),\n (1547003.0153459017, 10479.678579120258),\n (1558081.6084825024, 11305.89161041228),\n (1540815.9518209267, 9643.348490494393),\n (1553585.3169877387, 11242.913582926329),\n (1552531.5027861851, 9295.764935926993),\n (1563236.8982611336, 9998.478687796429),\n (1541805.7324402411, 9338.777264629894),\n (1536057.8175243686, 11388.971258035346),\n (1527978.7498626849, 11512.946808478691),\n (1520657.0238855744, 9607.474384289393),\n (1534438.8601096738, 11750.08408588391),\n (1559960.836171803, 12177.225461200522),\n (1545932.078784285, 8031.512424178622),\n (1525988.8943216777, 9135.10047697557),\n (1527867.8206815885, 12600.0635918026),\n (1527322.534338726, 9283.633143785331),\n (1559785.226989582, 10080.976133926599),\n (1537132.431775242, 12089.38174777599),\n (1545952.4879055708, 8094.874558809318),\n (1545384.0884749687, 11063.599333671973),\n (1464787.1098435244, 10407.578473463296),\n (1557837.0618429843, 10406.20467385658),\n (1542307.1947441485, 10704.301477111901),\n (1534458.9710054437, 11728.402539242254),\n (1535505.420317967, 9184.24094208673),\n (1527867.8206815885, 10912.555075043298),\n (1504345.5856568113, 10679.806266013818),\n (1549331.8287490713, 11472.426062621102),\n (1537884.9472657542, 9249.49095380011),\n (1527638.0528882053, 11676.63111567829),\n (1527322.534338726, 8703.406072298741),\n (1514629.976551395, 12054.866911871915),\n (1508683.4300732985, 11264.5493935549),\n (1529278.9858262087, 10167.432470683587),\n (1537376.7912186303, 8676.177214996718),\n (1507705.1117398564, 11481.67152959264),\n (1547556.1845979348, 9511.450508427099),\n (1539719.1156726952, 10142.626098780524),\n (1543720.1018969011, 11442.012698759645),\n (1521162.449548582, 10610.57687411414),\n (1555305.7407168197, 10050.407281077698),\n (1538234.8532850808, 10255.930633442122),\n (1466887.5891839592, 13743.179454324605),\n (1521807.1625505255, 10520.426519292916),\n (1540869.2146590347, 11542.885660274165),\n (1521918.023093805, 8671.750492856343),\n (1537810.2707474974, 11633.980493263502),\n (1556573.7886036125, 10808.903046211091),\n (1512273.796064986, 11397.335475713578),\n (1539304.146837608, 7769.594379427004),\n (1538234.8532850808, 11214.428823483457),\n (1521162.449548582, 8242.144536142197),\n (1562221.9144030164, 10009.370419309284),\n (1542786.6849649702, 11856.919386994756),\n (1548373.834411742, 11197.755190949658),\n (1483928.9264055542, 9403.790484001473),\n (1509877.706741954, 12013.902426201048),\n (1547018.1166281423, 10586.094017120004),\n (1553585.3169877387, 9737.166228070138),\n (1521097.9088742293, 8845.12109842174),\n (1553986.6081105473, 12241.482245142366),\n (1509531.5469454713, 11870.224596094764),\n (1547631.0836989863, 14001.685334379346),\n (1507705.1117398564, 11686.7013783354),\n (1553003.2534093752, 12922.333816749078),\n (1521208.5066599026, 10801.837999057967),\n (1521221.931284069, 8571.387272835716),\n (1545168.2994842737, 8784.306700896732),\n (1522769.030083065, 9317.682694909216),\n (1520842.4385236439, 8685.517194133017),\n (1556514.8888306806, 9513.47245315946),\n (1554327.6225805988, 11148.478146832897),\n (1511867.6362389748, 8429.077576377245),\n (1558986.3553726412, 10873.381053938037),\n (1537810.2707474974, 10074.787231279688),\n (1538754.3475905848, 12354.518244613657),\n (1551868.0843299986, 8923.432030605229),\n (1545459.297339667, 8766.406057162629),\n (1573606.411799839, 11416.420691931859),\n (1532120.6114291472, 8494.76021863204),\n (1549425.3670598986, 11979.430671421424),\n (1519103.9025108046, 8847.726444617108),\n (1542307.1947441485, 8461.49545333604),\n (1504505.120615066, 12071.579804818262),\n (1547733.79504233, 11597.319450539086),\n (1530246.8213355495, 10716.17013915433),\n (1532485.2808955058, 11980.089616010724),\n (1540850.6638942384, 10184.566716864485),\n (1536139.5177661127, 12460.03952218186),\n (1534599.86462878, 9186.647459022048),\n (1500603.214397697, 10302.610857987811),\n (1539571.7040343161, 11632.109361331157),\n (1518107.8741463001, 8035.671245332881),\n (1500603.214397697, 13229.48894264346),\n (1538754.3475905848, 10945.669672859456),\n (1548714.444939476, 10145.002527157561),\n (1518890.9746008194, 9118.375985228027),\n (1543746.3642802758, 12245.38449769677),\n (1483928.9264055542, 10606.600894745834),\n (1539107.0086380083, 11197.80321207546),\n (1556922.9116824784, 10564.869951182904),\n (1521221.931284069, 10690.157160502924),\n (1530345.4605847572, 11208.896583635615),\n (1515725.1016916917, 9979.780743588999),\n (1527867.8206815885, 13387.567566290209),\n (1549791.2715135315, 9276.426646514223),\n (1526442.918635868, 11233.865467484837),\n (1536139.5177661127, 13538.312173139922),\n (1553344.051548054, 9757.79401317544),\n (1466887.5891839592, 11681.702536175835),\n (1541405.0343992233, 11047.035650290874),\n (1505467.333042478, 10533.608270400904),\n (1553986.6081105473, 11514.265478104162),\n (1555936.041425333, 8746.22026849875),\n (1532120.6114291472, 9640.121146986936),\n (1533828.2883618558, 8218.052690595572),\n (1525580.0381643148, 7791.759269100634),\n (1552996.8819871573, 10750.427330857066),\n (1540879.345162746, 11224.367936509565),\n (1483199.291610618, 13659.046318558003),\n (1550197.3998201834, 8448.438428436195),\n (1537356.916283781, 9347.25073057468),\n (1494885.9636587098, 8741.922601897375),\n (1543809.6472260572, 12613.110921280908),\n (1507471.2244166068, 11999.000732781848),\n (1506646.1879940697, 9834.64563058523),\n (1542151.3460622577, 10357.851868433489),\n (1527087.756720117, 11507.725499542114),\n (1537952.7306199353, 8669.22135923968),\n (1557107.557761643, 9837.32674070088),\n (1530948.8187719584, 9409.019431050101),\n (1541663.952444503, 9749.232476689007),\n (1552095.4230051315, 9872.399217094713),\n (1522417.4634928529, 9618.457630748953),\n (1529356.3782959918, 9399.042981222185),\n (1524883.4736368705, 12135.559916603695),\n (1561240.40710688, 8497.657759174534),\n (1535548.1162704641, 11183.373799375931),\n (1526113.4999636891, 10689.81719883999),\n (1515314.184422118, 12411.007711530307),\n (1524339.8690329934, 8070.0223697081765),\n (1545290.200941119, 8583.573866878269),\n (1560515.175240868, 11360.00373947499),\n (1526442.918635868, 10544.0667107095),\n (1515887.2832532322, 9816.424069070128),\n (1534937.9839099674, 7776.495966322041),\n (1537132.431775242, 11276.650201707063),\n (1477181.0501098288, 12106.54869533213),\n (1546442.6925364593, 11568.09873278668),\n (1515797.1539337176, 10782.877206355894),\n (1530381.4347730337, 10581.973651432912),\n (1533545.7101979046, 12744.430225230495),\n (1498003.4868091065, 9158.72403858632),\n (1519814.9920796244, 10680.065622180788),\n (1543158.7292013406, 10068.968349465318),\n (1554181.1316334587, 10872.285159254667),\n (1547895.482813348, 11483.465827322778),\n (1525709.2715931342, 11720.817959036856),\n (1533302.159246554, 9322.477843936558),\n (1553016.5168432484, 10837.085914972966),\n (1550715.8822061208, 10613.531863817463),\n (1543746.3642802758, 10714.711435484696),\n (1568833.1093526806, 11555.229127721786),\n (1496816.4779757333, 12379.4099222414),\n (1522417.4634928529, 11280.907097791933),\n (1460541.8562636462, 12773.725358010975),\n (1500603.214397697, 10185.535734601566),\n (1541663.952444503, 8596.097452564502),\n (1498755.1787667074, 8552.645115913636),\n (1517907.616435434, 11042.437987356714),\n (1500603.214397697, 9600.160117670466),\n (1517665.7989162256, 10280.382738578737),\n (1538244.473639039, 12551.094033155285),\n (1552411.9711926235, 12834.379273918232),\n (1549234.2370290142, 9787.20944217151),\n (1522417.4634928529, 12943.356564835012),\n (1529356.3782959918, 12127.797395125439),\n (1515797.1539337176, 8861.17631809435),\n (1557566.9485175756, 10595.582071957038),\n (1546641.630727894, 9045.4173229504),\n (1567736.2272469178, 11372.930388531599),\n (1548373.834411742, 11004.690446278135),\n (1543961.711615657, 7794.868370006036),\n (1534907.1103042436, 9712.354499578589),\n (1560515.175240868, 9873.648110011014),\n (1539555.8486736102, 11675.888878874981),\n (1520243.5028700647, 8538.758070152677),\n (1541922.4955406552, 8264.2427975089),\n (1536689.4749309837, 9956.817574917663),\n (1553016.5168432484, 9933.995422058557),\n (1527087.756720117, 9141.651097767073),\n (1524167.746276248, 12482.540385882252),\n (1535647.776128503, 10382.631885076235),\n (1545952.4879055708, 9251.28521006778),\n (1533854.084095244, 8343.093047442419),\n (1551586.06836741, 9727.118123699944),\n (1492984.465297376, 13630.000944847292),\n (1543343.235591947, 8395.8250386237),\n (1527867.8206815885, 13387.567566290209),\n (1536154.6323977762, 11188.01305162094),\n (1516957.1773866634, 9295.22590751515),\n (1516770.0863409955, 11225.30069134493),\n (1533140.3100963305, 10724.198397531143),\n (1487133.3895855055, 12053.050139115285),\n (1534224.7821510043, 8420.096140391299),\n (1533854.084095244, 11263.17561404719),\n (1511272.4905061708, 12354.009718802243),\n (1531544.438347733, 8395.996103397312),\n (1538545.0220686432, 9744.658560655047),\n (1523082.5131325494, 8252.864331944318),\n (1559050.548734759, 12303.25678590542),\n (1543720.1018969011, 8899.343210146384),\n (1503993.4109218456, 9858.922673628038),\n (1525709.2715931342, 9159.966976390137),\n (1520657.0238855744, 10556.36074323155),\n (1515725.1016916917, 11740.918521869396),\n (1532485.2808955058, 9821.514910423195),\n (1547003.0153459017, 10479.678579120258),\n (1546573.1172563112, 10837.485084141485),\n (1528630.8824227029, 9582.227543743822),\n (1530044.244993755, 11261.055288634627),\n (1496481.7215145202, 13228.503820817301),\n (1483199.291610618, 11343.95372219226),\n (1546929.9205705118, 9257.658089483823),\n (1570689.650999185, 14457.89868313297),\n (1538258.6726775295, 11323.737546625573),\n (1543158.7292013406, 9091.398606798766),\n (1535585.3987743638, 11898.138008457365),\n (1533828.2883618558, 10798.13900043371),\n (1546018.3677124523, 12540.113270049273),\n (1494949.9166226625, 11453.3523284124),\n (1549791.2715135315, 10919.127198501106),\n (1553585.3169877387, 9636.783071079724),\n (1530751.4792073003, 9783.991744797244),\n (1561666.1588158943, 12323.222696685361),\n (1551640.3802573276, 9772.43375706681),\n (1531199.6100093785, 10859.406395559694),\n (1526662.1784156552, 10439.426129854155),\n (1528609.603662595, 9616.991764023358),\n (1547003.0153459017, 10593.588128893303),\n (1556818.000031094, 9107.577305579212),\n (1530154.978612037, 11021.942884961512),\n (1519870.2312942299, 9506.647799926324),\n (1537596.2881776914, 11616.505416192995),\n (1537152.7994654975, 8620.02567576193),\n (1527087.756720117, 11292.627826653446),\n (1538234.8532850808, 10735.179728462817),\n (1544963.111180223, 10881.962940112873),\n (1471045.903214997, 12058.067053944733),\n (1506200.3912580798, 9517.674054552639),\n (1509800.6799132274, 10060.197381094107),\n (1477181.0501098288, 11530.046376506782),\n (1512273.796064986, 11929.921245606769),\n (1546476.7513768172, 9014.382341206394),\n (1545290.200941119, 11078.798828180144),\n (1510837.6585535917, 9861.556535579444),\n (1559785.226989582, 10929.900439941484),\n (1558311.1270174833, 12297.081060648547),\n (1466887.5891839592, 10078.331599838004),\n (1534949.7183297293, 10806.477172425779),\n (1544396.0592392432, 13610.988898194088),\n (1494949.9166226625, 9581.169736268026),\n (1460541.8562636462, 12089.418642403149),\n (1522769.030083065, 11077.689426169833),\n (1556514.8888306806, 9742.71275323556),\n (1499515.3836034643, 10493.132031003415),\n (1533545.7101979046, 9612.324491911135),\n (1529358.175967999, 11212.53784101656),\n (1533854.084095244, 10637.44363548908),\n (1551356.6941675493, 10565.121498109187),\n (1494949.9166226625, 12114.122655051642),\n (1552411.9711926235, 14287.327870965515),\n (1546641.630727894, 10517.927119709739),\n (1536689.4749309837, 12446.021968647136),\n (1557171.0959263206, 10640.843715442634),\n (1553016.5168432484, 9231.591705347324),\n (1514629.976551395, 11308.105244764769),\n (1534847.9124349882, 9636.426644207819),\n (1543343.235591947, 12278.89411898712),\n (1547733.79504233, 11997.227017799087),\n (1523978.058322394, 11192.428846629802),\n (1542948.2040464235, 9712.63546685143),\n (1539571.7040343161, 11234.430408806988),\n (1552223.408124311, 10451.827349816109),\n (1548090.965067896, 9220.725312214003),\n (1517105.4454728179, 12070.439334136476),\n (1530246.8213355495, 8739.40089018412),\n (1531418.5429430236, 12618.8561382203),\n (1536757.5577432597, 8759.450252345909),\n (1534390.6840835002, 8603.61604466235),\n (1521162.449548582, 10800.051461151908),\n (1509531.5469454713, 11171.976090442131),\n (1543343.235591947, 10704.67692424515),\n (1533140.3100963305, 9708.221707238756),\n (1526193.8986914943, 10551.785606734707),\n (1514629.976551395, 11841.506435555497),\n (1532693.2861763076, 9357.45741305016),\n (1528011.5025680927, 9422.710616543092),\n (1526931.5856848892, 11704.648001839565),\n (1539719.1156726952, 8387.171581683955),\n (1541581.1078687746, 9883.893865587548),\n (1537356.916283781, 10418.289876786343),\n (1541805.7324402411, 11727.766797442122),\n (1518518.143030687, 8729.71529936321),\n (1529197.76595163, 12498.344473281375),\n (1553344.051548054, 12017.493679384488),\n (1541922.4955406552, 11147.118191988779),\n (1550257.9050442004, 9279.504040060128),\n (1531833.9698569973, 9812.778802346062),\n (1518886.371039746, 9596.438245180834),\n (1512294.6773663927, 9093.721488432408),\n (1530345.4605847572, 12502.230804824347),\n (1513907.13354971, 10704.788083045549),\n (1525580.0381643148, 9597.16690462393),\n (1538754.3475905848, 9211.702199931293),\n (1561094.9836428997, 12646.158089806357),\n (1541922.4955406552, 9801.776341231443),\n (1528011.5025680927, 11231.109623758428),\n (1504345.5856568113, 12674.934909115349),\n (1466887.5891839592, 10421.911086196116),\n (1554765.5153427077, 8921.594809409293),\n (1568833.1093526806, 11208.572253890097),\n (1529197.76595163, 12273.149077366432),\n (1521970.7762284179, 9431.852871777122),\n (1556254.8021275229, 12936.644032405715),\n (1502541.6938861876, 10267.185875155834),\n (1540815.9518209267, 10550.957760187948),\n (1557670.8092150001, 11126.581398540415),\n (1555305.7407168197, 11108.344889612208),\n (1523480.5076740205, 8752.93228605458),\n (1548090.965067896, 10201.653536917642),\n (1552685.7477467794, 9856.060791007676),\n (1527896.671040282, 8581.574075150496),\n (1516937.6261736592, 13293.05559618363),\n (1511380.4563218798, 9088.258778334657),\n (1572152.6012908986, 13613.17106559915),\n (1569217.5349241365, 13832.032058420744),\n (1554748.0943870347, 8278.512797514946),\n (1535729.6556979748, 12664.556762134815),\n (1546641.630727894, 9466.134407738786),\n (1554648.2691837444, 11925.450032675613),\n (1553585.3169877387, 8833.717815156371),\n (1549677.555939673, 9059.907909490204),\n (1527322.534338726, 8800.110584213187),\n (1521097.810511582, 10640.742149476393),\n (1505579.5921934585, 8701.713146740072),\n (1552444.1092162419, 11233.984119678436),\n (1534949.7183297293, 8606.92872140108),\n (1533302.159246554, 10335.790653060094),\n (1549860.6587080562, 9170.359746821285),\n (1527087.756720117, 10217.139462210256),\n (1521097.9088742293, 10553.837674253225),\n (1561666.1588158943, 10672.791085522096),\n (1523830.0724995267, 12118.285607873118),\n (1530751.4792073003, 10574.61734033638),\n (1545780.6434832187, 10585.144423601005),\n (1555724.3442466033, 9664.969161652834),\n (1532847.8904941808, 10391.630098613055),\n (1522728.0817429938, 8453.640147988193),\n (1543809.6472260572, 9242.365761283472),\n (1546519.4397870088, 10688.586704277135),\n (1528011.5025680927, 8851.637245843522),\n (1515725.1016916917, 8120.801977626333),\n (1523295.99027271, 8872.677277762314),\n (1498715.4462662505, 10757.68557641817),\n (1526442.918635868, 9460.097235776728),\n (1549860.6587080562, 12648.77206458113),\n (1556064.2684461435, 10055.563981067793),\n (1538771.085357479, 11314.48311947175),\n (1522417.4634928529, 12587.117393325789),\n (1521162.449548582, 8715.831003736579),\n (1537952.7306199353, 9058.849285497654),\n (1537810.2707474974, 10794.414890656859),\n (1545290.200941119, 10978.989829728074),\n (1527484.5542973466, 8931.20897106241),\n (1554712.1339885984, 10046.212747335434),\n (1506932.0902095786, 10432.610177614928),\n (1540794.694941293, 9875.163936152732),\n (1553759.1937668908, 9651.495881246701),\n (1552023.2990353038, 11083.041867612386),\n (1543961.711615657, 10489.390769514299),\n (1496816.4779757333, 11912.26237800591),\n (1537952.7306199353, 8571.814377675182),\n (1545824.511224483, 12509.495539230187),\n (1547414.181061584, 10514.892280569915),\n (1526803.7154449967, 10461.065407890372),\n (1496185.293505562, 10646.700024307806),\n (1487149.2743154413, 10560.858420139293),\n (1521807.1625505255, 9288.304494510894),\n (1554648.2691837444, 9663.726750616479),\n (1497474.9446601216, 8651.066727973202),\n (1523830.0724995267, 13240.349090083526),\n (1507705.1117398564, 9738.917815279461),\n (1541454.3028600982, 8104.278297546775),\n (1529265.9959411293, 11954.908065382388),\n (1539133.8107505532, 11210.890963479977),\n (1543313.3887833634, 9886.318650760071),\n (1517105.4454728179, 14200.516863689978),\n (1553886.8914837711, 9109.78179535807),\n (1542786.6849649702, 7971.0382433578025),\n (1559885.352227031, 10989.800207632316),\n (1534937.9839099674, 9331.795159586378),\n (1529923.110510453, 10074.99938712889),\n (1529923.110510453, 9106.24944605882),\n (1551640.3802573276, 8901.62282821927),\n (1530246.8213355495, 11652.534520245454),\n (1529332.728707574, 8589.853485934997),\n (1518110.130857988, 12509.849815090518),\n (1491051.1647507763, 12216.649689178843),\n (1517647.0026216935, 11231.795049812108),\n (1547003.0153459017, 11049.226327985509),\n (1525290.4169380951, 11087.148393148298),\n (1489106.1506979892, 11620.159955066747),\n (1532847.8904941808, 11381.309155623832),\n (1534949.7183297293, 9563.25413489006),\n (1556254.8021275229, 10743.992501489487),\n (1552757.5714446092, 10431.981104979657),\n (1504505.120615066, 11457.770662200404),\n (1549791.2715135315, 10049.462200390413),\n (1553986.6081105473, 13453.510190205912),\n (1542151.3460622577, 11055.014974962636),\n (1545002.4163401863, 11767.177197262814),\n (1568833.1093526806, 12364.09516666231),\n (1540222.3902457769, 8056.566773403773),\n (1538288.118254288, 9967.291934330091),\n (1541454.3028600982, 9080.697369540389),\n (1494906.1924066078, 10381.109407296959),\n (1524883.4736368705, 11383.79956778747),\n (1553443.3139567298, 11432.041606271037),\n (1551231.1318346597, 8159.65217668101),\n (1553001.2505917614, 10246.046460040985),\n (1542810.7093827985, 9888.264099853212),\n (1537596.2881776914, 11020.787189721592),\n (1556514.8888306806, 12722.836654225232),\n (1554255.2298848548, 8669.695816509746),\n (1526442.918635868, 10839.694749327515),\n (1525184.0220897044, 10781.27001531785),\n (1564745.934471173, 13913.953910786937),\n (1531454.4726858942, 11073.998730056413),\n (1523713.3870040835, 8351.296076107188),\n (1471045.903214997, 9990.969844697138),\n (1485180.3773878918, 11242.72709878665),\n (1522468.0204805408, 12219.698037659206),\n (1531418.5429430236, 11971.73531061919),\n (1537596.2881776914, 10524.355334328717),\n (1537376.7912186303, 9407.903004213395),\n (1550634.7581995795, 11031.690105378233),\n (1543343.235591947, 11859.102867055932),\n (1558311.1270174833, 11767.034463206835),\n (1508756.551207238, 9848.179606948166),\n (1538633.0069152545, 9864.302107858264),\n (1536139.5177661127, 11621.38301588116),\n (1534438.8601096738, 11637.102508135036),\n (1545290.200941119, 11378.22582353637),\n (1521208.5066599026, 8346.874817453874),\n (1543158.7292013406, 10264.482297998653),\n (1538545.0220686432, 9062.532461409182),\n (1514103.5308307805, 8304.148945889468),\n (1531454.4726858942, 9788.623877460526),\n (1556922.9116824784, 10061.780905888492),\n (1569217.5349241365, 11506.29215479256),\n (1508044.4024070224, 10470.235578794907),\n (1532460.7254666928, 9316.048532498644),\n (1535625.8862632352, 11276.390721128535),\n (1535625.8862632352, 11485.21277151983),\n (1515725.1016916917, 10762.508645046928),\n (1503786.4889627588, 11864.45477405844),\n (1524655.6333216568, 8108.564310508295),\n (1544669.970720681, 10575.25303100457),\n (1503993.4109218456, 11742.087678703077),\n (1542948.2040464235, 10001.129589629234),\n (1548217.9154962935, 12767.989050446044),\n (1530948.8187719584, 10521.914202464653),\n (1547453.7903772981, 9786.991032623224),\n (1556064.2684461435, 10690.652232503624),\n (1531832.070865868, 8827.06173460072),\n (1535729.6556979748, 11194.563566529878),\n (1521918.023093805, 9153.514409126115),\n (1493407.8888386262, 9131.546201631549),\n (1503422.5515921789, 11347.474040173),\n (1567749.0418557723, 10738.679409875107),\n (1530246.8213355495, 10195.967705214765),\n (1527322.534338726, 10250.678262929643),\n (1524962.056122377, 8643.32185153047),\n (1526193.8986914943, 10361.663343550306),\n (1536154.6323977762, 9825.994071423604),\n (1482308.9053357253, 9393.946256960515),\n (1554542.4038352035, 10045.225712272664),\n (1542307.1947441485, 11010.138662172236),\n (1537695.4314347513, 8144.19201376983),\n (1510837.6585535917, 9964.281082825075),\n (1547414.181061584, 11093.69369050959),\n (1543961.711615657, 10970.555483712198),\n (1557466.7363493026, 11978.09503328862),\n (1559084.1171957536, 11652.63414246959),\n (1549675.6758699005, 8248.94287663227),\n (1553585.3169877387, 8432.185187194773),\n (1539107.0086380083, 11302.455578543473),\n (1551288.4323897853, 9621.402483815924),\n (1544802.5665619862, 12294.948093270195),\n (1525907.9257838384, 14043.845289712115),\n (1532693.2861763076, 8020.677782614407),\n (1549150.7014596427, 8933.067519257624),\n (1507471.2244166068, 11043.328108047022),\n (1466887.5891839592, 11796.229031628587),\n (1531454.4726858942, 8799.873990848406),\n (1535613.9395127979, 9336.905274678104),\n (1538288.118254288, 10193.821296473912),\n (1522609.3427991015, 9254.168514587192),\n (1548714.444939476, 9490.486235082846),\n (1503786.4889627588, 12394.117933614576),\n (1553344.051548054, 10065.934876749408),\n (1542786.6849649702, 9664.883870071353),\n (1506251.0957382, 9549.171651855238),\n (1531199.6100093785, 8532.39073936834),\n (1513202.3149985266, 11398.93669410921),\n (1562548.0003680312, 11229.55506952725),\n (1559050.548734759, 11560.818876411198),\n (1536154.6323977762, 8172.113881184008),\n (1533828.2883618558, 11275.932761514885),\n (1548714.444939476, 10472.260673194884),\n (1546929.9205705118, 11282.770796558436),\n (1543343.235591947, 11964.050680038708),\n (1522447.1427510655, 8059.673388844249),\n (1550721.629104427, 8509.019776913681),\n (1512890.7515656927, 9669.05891252713),\n (1559960.836171803, 11487.94854830234),\n (1547128.4721599633, 10093.456171980579),\n (1530563.3037774963, 9400.95789758447),\n (1531156.6778202716, 8744.649257024594),\n (1535505.420317967, 9949.594353927281),\n (1524462.2795752462, 12088.429523685207),\n (1533828.2883618558, 9651.433973838997),\n (1575051.108746241, 12655.883921916662),\n (1567736.2272469178, 11250.640814461303),\n (1522447.1427510655, 8154.493075771793),\n (1552685.7477467794, 11088.068389883681),\n (1541454.3028600982, 10447.684070331372),\n (1527744.7276385354, 10297.581255061228),\n (1514916.902446862, 8548.884928444813),\n (1547556.1845979348, 8727.000981958852),\n (1549234.2370290142, 13774.591066759951),\n (1542025.8431934533, 9768.04384089789),\n (1518890.9746008194, 10589.081789297074),\n (1543456.4769407047, 11255.271667040593),\n (1515725.1016916917, 9294.893829813314),\n (1543809.6472260572, 10547.170339346983),\n (1568833.1093526806, 11093.019962612912),\n (1548849.244255662, 8883.969007188945),\n (1485180.3773878918, 11474.535904947174),\n (1544669.970720681, 11273.618797202962),\n (1536375.4373367545, 9037.05033631907),\n (1528609.603662595, 8569.596621406954),\n (1531832.070865868, 11446.080051460254),\n (1488718.4278967725, 9432.95599510307),\n (1524339.8690329934, 9778.968283293429),\n (1553986.6081105473, 13453.510190205912),\n (1523713.3870040835, 10059.515728038197),\n (1518886.371039746, 13743.04736346886),\n (1524339.8690329934, 10823.324119373367),\n (1562548.0003680312, 11559.836100983968),\n (1558081.6084825024, 12842.614741924639),\n (1538545.0220686432, 8770.192704589546),\n (1525997.6207472442, 8792.235450271679),\n (1546476.7513768172, 9700.259258472119),\n (1561666.1588158943, 13203.45288930572),\n (1532693.2861763076, 10694.237043485871),\n (1570689.650999185, 13722.751292465233),\n (1525184.0220897044, 13251.977727161453),\n (1539571.7040343161, 8550.097479269054),\n (1534949.7183297293, 8033.13347330766),\n (1548217.9154962935, 12653.989148209943),\n (1539471.2667146325, 14287.995857538974),\n (1550010.970540349, 9120.702588955328),\n (1545906.6866052502, 9985.126347748017),\n (1537012.7309253954, 11543.418210628313),\n (1511084.5956467036, 10430.628026876539),\n (1555824.638946678, 10858.357141319993),\n (1528552.9760993067, 10606.150605256795),\n (1529331.542644792, 10501.748866140197),\n (1550257.9050442004, 9182.842539642827),\n (1508683.4300732985, 12433.512066470965),\n (1563424.1555752822, 11346.300691419841),\n (1525580.0381643148, 11212.531631144815),\n (1551182.4515638775, 11026.668575717398),\n (1542436.8810629004, 9709.165914818033),\n (1526552.7559724029, 12246.935920702546),\n (1528609.603662595, 10950.040127353388),\n (1542307.1947441485, 8767.33263839638),\n (1519103.9025108046, 10674.974297309764),\n (1553759.1937668908, 10045.434488644503),\n (1537012.7309253954, 12561.95511156611),\n (1550634.7581995795, 9284.095633239096),\n (1519103.9025108046, 9328.581142694124),\n (1518890.9746008194, 9412.517146041777),\n (1561718.5681291204, 12303.06384526989),\n (1556818.000031094, 12284.639156362633),\n (1530519.8017116734, 12621.768483529851),\n (1512890.7515656927, 8949.022610530448),\n (1548933.3560854024, 10306.146722315865),\n (1548622.4675778092, 9714.799160268458),\n (1544045.983422318, 10271.559804015065),\n (1516917.04246974, 8972.610815576068),\n (1516957.1773866634, 8654.17584492786),\n (1533854.084095244, 12410.350908070512),\n (1549063.2899116494, 8638.703556558965),\n (1519668.7066109525, 11673.641328854075),\n (1515534.1587858472, 12053.325916882792),\n (1539304.146837608, 8728.803562072275),\n (1485536.9844142864, 9741.952855974565),\n (1491051.1647507763, 12565.69682315534),\n (1548373.834411742, 8205.25164854072),\n (1547556.1845979348, 8628.944791150341),\n (1513455.5557458787, 11725.879510237985),\n (1531544.438347733, 10590.404175876112),\n (1536259.67453414, 8927.678870590866),\n (1523978.058322394, 10999.455935481014),\n (1462671.9839750016, 11763.685955049508),\n (1545872.8410843504, 9503.844484847217),\n (1550705.143557299, 8916.234770513176),\n (1525615.357739695, 11202.150157452686),\n (1503786.4889627588, 11758.522142147149),\n (1566657.8834329448, 11192.503092292778),\n (1572152.6012908986, 10669.78272709128),\n (1524655.6333216568, 9749.583278111175),\n (1523830.0724995267, 12006.07925965205),\n (1518886.371039746, 11136.60734625924),\n (1553344.051548054, 10990.357467471256),\n (1534324.2082861243, 8161.900413053418),\n (1532847.8904941808, 8412.271984591498),\n (1504345.5856568113, 9740.922198671977),\n (1509800.6799132274, 10060.197381094107),\n (1527322.534338726, 9573.746679528653),\n (1572152.6012908986, 10301.859184777766),\n (1551288.4323897853, 9220.510713656964),\n (1496185.293505562, 10857.525767363364),\n (1564745.934471173, 13425.74500163652),\n (1554542.4038352035, 11948.53163670326),\n (1557171.0959263206, 12176.63559189833),\n (1547414.181061584, 8392.620444124666),\n (1521208.5066599026, 8936.065981038839),\n (1521097.810511582, 11200.781209975163),\n (1539107.0086380083, 10569.889013267462),\n (1497474.9446601216, 8756.567541728962),\n (1537152.7994654975, 9960.918558658252),\n (1516937.6261736592, 12064.285751158268),\n (1527867.8206815885, 12375.062456234713),\n (1553585.3169877387, 10640.614640983847),\n (1545168.2994842737, 9192.879105589684),\n (1554765.5153427077, 9600.411805777412),\n (1503786.4889627588, 11228.85898259098),\n (1534599.86462878, 10051.273102224153),\n (1545789.487200645, 9689.932899230098),\n (1555270.1705167955, 10351.636966298582),\n (1561718.5681291204, 13155.751438506391),\n (1548373.834411742, 8494.848765548017),\n (1521097.810511582, 13104.914015670869),\n (1562548.0003680312, 12991.053903962891),\n (1536503.93724773, 11596.367698270027),\n (1518110.130857988, 8660.665256601105),\n (1541405.0343992233, 9317.934418071396),\n (1561718.5681291204, 12181.251331950394),\n (1542307.1947441485, 10602.355748758451),\n (1520441.1825031778, 8048.161868128577),\n (1538771.085357479, 10835.05586864668),\n (1527744.7276385354, 9691.841181234098),\n (1511272.4905061708, 11129.738485407417),\n (1551440.7042229099, 12240.136534501502),\n (1536929.9630083053, 9527.184490068674),\n (1554765.5153427077, 7757.908529921117),\n (1485180.3773878918, 11358.631501866972)]"
     },
     "execution_count": 15,
     "metadata": {},
     "output_type": "execute_result"
    }
   ],
   "source": [
    "cases_per_year_list"
   ],
   "metadata": {
    "collapsed": false,
    "pycharm": {
     "name": "#%%\n"
    }
   }
  },
  {
   "cell_type": "code",
   "execution_count": 16,
   "outputs": [],
   "source": [
    "with open('cases_per_year_list.pickle', 'wb') as handle:\n",
    "    pickle.dump(cases_per_year_list, handle, protocol=pickle.HIGHEST_PROTOCOL)"
   ],
   "metadata": {
    "collapsed": false,
    "pycharm": {
     "name": "#%%\n"
    }
   }
  }
 ],
 "metadata": {
  "kernelspec": {
   "display_name": "Python 3",
   "language": "python",
   "name": "python3"
  },
  "language_info": {
   "codemirror_mode": {
    "name": "ipython",
    "version": 2
   },
   "file_extension": ".py",
   "mimetype": "text/x-python",
   "name": "python",
   "nbconvert_exporter": "python",
   "pygments_lexer": "ipython2",
   "version": "2.7.6"
  }
 },
 "nbformat": 4,
 "nbformat_minor": 0
}