{
 "cells": [
  {
   "cell_type": "markdown",
   "source": [
    "## This notebook produces cases per year for the benchmark uniform simulation"
   ],
   "metadata": {
    "collapsed": false,
    "pycharm": {
     "name": "#%% md\n"
    }
   }
  },
  {
   "cell_type": "code",
   "execution_count": 1,
   "outputs": [],
   "source": [
    "import numpy as np\n",
    "import pandas as pd\n",
    "import itertools\n",
    "import pickle\n",
    "import datetime, random, copy\n",
    "import sys, os, tqdm\n",
    "\n",
    "import SEIR_full as mdl\n",
    "import SEIR_full.model as mdl\n",
    "import SEIR_full.calibration as mdl\n",
    "from SEIR_full.indices import *\n",
    "from SEIR_full.utils import *\n",
    "from SEIR_full.parameters import *"
   ],
   "metadata": {
    "collapsed": false,
    "pycharm": {
     "name": "#%%\n"
    }
   }
  },
  {
   "cell_type": "markdown",
   "source": [
    "* Fixing the ranges of the uncertainty factors that we're interested in:"
   ],
   "metadata": {
    "collapsed": false,
    "pycharm": {
     "name": "#%% md\n"
    }
   }
  },
  {
   "cell_type": "code",
   "execution_count": 2,
   "outputs": [],
   "source": [
    "# Creating a list of tuples, each tuple is a realization of randomly picked values for the factors that we change every iteration of the simulation\n",
    "np.random.seed(41)\n",
    "list_of_tuples = []\n",
    "for i in range(1000):\n",
    "    booster_eff = round(np.random.uniform(low=29.5001, high=95.5)) / 100    # Discrete uniform dist, booster_efficiency ~ U(30, 95), Updated in the model's object\n",
    "    inv_level = round(np.random.uniform(low=9.5001, high=20.5)) / 100       # Discrete uniform dist, booster_efficiency ~ U(10, 20), Updated in the simulation's settings\n",
    "    hosp_proba_scalar = round(np.random.uniform(low=0.8, high=1.2), 2)      # Continuous uniform dist, booster_efficiency ~ U(0.8, 1.2), Updated in the model's object\n",
    "    years_for_model_run = round(np.random.uniform(low=.5001, high=5.5))         # Discrete uniform dist, booster_efficiency ~ U(3, 10), Updated in the simulation's settings\n",
    "    list_of_tuples.append((booster_eff, inv_level, hosp_proba_scalar, years_for_model_run))"
   ],
   "metadata": {
    "collapsed": false,
    "pycharm": {
     "name": "#%%\n"
    }
   }
  },
  {
   "cell_type": "markdown",
   "source": [
    "* Fixing the static settings for all runs of the big loop"
   ],
   "metadata": {
    "collapsed": false,
    "pycharm": {
     "name": "#%% md\n"
    }
   }
  },
  {
   "cell_type": "code",
   "execution_count": 3,
   "outputs": [],
   "source": [
    "## DEFINING STATIC SETTINGS (INDEPENDENT IN THE DYNAMIC FACTORS) FOR THE SIMULATION RUN\n",
    "# Short path for the data directory\n",
    "DATA_DIR = r'/Users/yotamdery/Old_Desktop/git/SEIR_model_COVID-main/Data'\n",
    "# Reading the indices of the model - adding an hint to declare it's from type Indices!\n",
    "with(open(DATA_DIR + '/parameters/indices.pickle', 'rb')) as openfile:\n",
    "    ind:Indices = pickle.load(openfile)\n",
    "\n",
    "# Vaccination priority queue:\n",
    "vaccination_pq = [('High', '60+'), ('High', '30-59'), ('High', '10-29'), ('High', '5-9'),\n",
    "                   ('Low', '60+'), ('Low', '30-59'), ('Low', '10-29'), ('Low', '5-9')]\n",
    "\n",
    "# Reading the neutralized vectors:\n",
    "# Alpha variant vector\n",
    "with open(DATA_DIR + '/parameters/neutralized_alpha_variant_vec.pickle', 'rb') as pickle_in:\n",
    "\tneutralized_alpha_variant_vec = pickle.load(pickle_in)\n",
    "\n",
    "# Delta variant vector\n",
    "with open(DATA_DIR + '/parameters/neutralized_delta_variant_vec.pickle', 'rb') as pickle_in:\n",
    "\tneutralized_delta_variant_vec = pickle.load(pickle_in)\n",
    "\n",
    "# Beta_lockdown vector\n",
    "with open(DATA_DIR + '/parameters/neutralized_lockdown_vec.pickle', 'rb') as pickle_in:\n",
    "\tneutralized_lockdown_vec = pickle.load(pickle_in)\n",
    "\n",
    "# Beta_school vector\n",
    "with open(DATA_DIR + '/parameters/neutralized_school_vec.pickle', 'rb') as pickle_in:\n",
    "\tneutralized_school_vec = pickle.load(pickle_in)\n",
    "\n",
    "# Isolation morbidity ratio vector\n",
    "with open(DATA_DIR + '/parameters/neutralized_isolation_morbidity_ratio_vector.pickle', 'rb') as pickle_in:\n",
    "\tneutralized_isolation_morbidity_ratio_vector = pickle.load(pickle_in)\n",
    "\n",
    "# zero vector to remove any transition from V_2 and S_2 to V_3\n",
    "with open(DATA_DIR + '/parameters/neutralized_transition_rate_to_V_3.pickle', 'rb') as pickle_in:\n",
    "\tneutralized_transition_vector = pickle.load(pickle_in)\n"
   ],
   "metadata": {
    "collapsed": false,
    "pycharm": {
     "name": "#%%\n"
    }
   }
  },
  {
   "cell_type": "markdown",
   "source": [
    "* Utils functions:"
   ],
   "metadata": {
    "collapsed": false,
    "pycharm": {
     "name": "#%% md\n"
    }
   }
  },
  {
   "cell_type": "code",
   "execution_count": 4,
   "outputs": [],
   "source": [
    "# Getting the reported unreported ratio\n",
    "def get_reported_unreported_ratio(scen):\n",
    "    if scen == 'Scenario2':\n",
    "        reported = 1\n",
    "        unreported = 2\n",
    "        reported_unreported = unreported / (reported + unreported)\n",
    "    return reported_unreported\n",
    "\n",
    "def risk_age_groups_mapping(wanted_mapping: tuple):\n",
    "    \"\"\" This function gets a wanted mapping (4 examined age groups to 9 original model's age groups or vice versa),\n",
    "    and returns a dictionary consist of the wanted mapping\n",
    "    \"\"\"\n",
    "    age_groups_mapping_dict = {}\n",
    "    # If the wanted mapping is 4 examined age groups to 9 original model's age groups:\n",
    "    if wanted_mapping == ('High', '4-to-9'):\n",
    "        age_groups_mapping_dict[('High', '5-9')] = [('High', '5-9')]\n",
    "        age_groups_mapping_dict[('High', '10-29')] = [('High', '10-19'), ('High', '20-29')]\n",
    "        age_groups_mapping_dict[('High', '30-59')] = [('High','30-39'), ('High','40-49'), ('High','50-59')]\n",
    "        age_groups_mapping_dict[('High', '60+')] = [('High', '60-69'), ('High', '70+')]\n",
    "\n",
    "    elif wanted_mapping == ('Low', '4-to-9'):\n",
    "        age_groups_mapping_dict[('Low', '5-9')] = [('Low', '5-9')]\n",
    "        age_groups_mapping_dict[('Low', '10-29')] = [('Low', '10-19'), ('Low', '20-29')]\n",
    "        age_groups_mapping_dict[('Low', '30-59')] = [('Low','30-39'), ('Low','40-49'), ('Low','50-59')]\n",
    "        age_groups_mapping_dict[('Low', '60+')] = [('Low', '60-69'), ('Low', '70+')]\n",
    "\n",
    "    # If the wanted mapping is 9 original model's age groups to 4 examined age groups:\n",
    "    elif wanted_mapping == ('High', '9-to-4'):\n",
    "        age_groups_mapping_dict[('High', '0-4')] = np.nan     # There's no corresponding age group among the 4 examined age-groups\n",
    "        age_groups_mapping_dict[('High', '5-9')] = ('High', '5-9')\n",
    "        age_groups_mapping_dict[('High', '10-19')] = ('High', '10-29')\n",
    "        age_groups_mapping_dict[('High', '20-29')] = ('High', '10-29')\n",
    "        age_groups_mapping_dict[('High', '30-39')] = ('High', '30-59')\n",
    "        age_groups_mapping_dict[('High', '40-49')] = ('High', '30-59')\n",
    "        age_groups_mapping_dict[('High', '50-59')] = ('High', '30-59')\n",
    "        age_groups_mapping_dict[('High', '60-69')] = ('High', '60+')\n",
    "        age_groups_mapping_dict[('High', '70+')] = ('High', '60+')\n",
    "\n",
    "    else:\n",
    "        age_groups_mapping_dict[('low', '0-4')] = np.nan     # There's no corresponding age group among the 4 examined age-groups\n",
    "        age_groups_mapping_dict[('low', '5-9')] = ('low', '5-9')\n",
    "        age_groups_mapping_dict[('low', '10-19')] = ('low', '10-29')\n",
    "        age_groups_mapping_dict[('low', '20-29')] = ('low', '10-29')\n",
    "        age_groups_mapping_dict[('low', '30-39')] = ('low', '30-59')\n",
    "        age_groups_mapping_dict[('low', '40-49')] = ('low', '30-59')\n",
    "        age_groups_mapping_dict[('low', '50-59')] = ('low', '30-59')\n",
    "        age_groups_mapping_dict[('low', '60-69')] = ('low', '60+')\n",
    "        age_groups_mapping_dict[('low', '70+')] = ('low', '60+')\n",
    "\n",
    "    return age_groups_mapping_dict\n",
    "\n",
    "def get_wanted_df(wanted_age_group):\n",
    "\t\"\"\" Gets the age-groups that we want to address our calculations to, and returns a sub-Dataframe containing only the relevant columns (the wanted age-groups columns)\"\"\"\n",
    "\t# Reading the pop per county file:\n",
    "\tcounty_pop = pd.read_csv(DATA_DIR + '/division_choice/30/population_per_county_age-group.csv')\n",
    "\t# Initializing the list with the county column, that will be picked anyway\n",
    "\twanted_columns = [county_pop.columns[0]]\n",
    "\t# Splitting the given age_group, creating list of integers. try-expect block to catch the 60+ column as well:\n",
    "\ttry:\n",
    "\t\twanted_age_group_splitted = list(map(int, wanted_age_group.split('-')))\n",
    "\texcept ValueError:\n",
    "\t\twanted_age_group_splitted = [60, 70]  # In order to pass the logic condition successfully\n",
    "\n",
    "\t# Iterating on the columns of the file and performing the condition logic:\n",
    "\tfor col in county_pop.columns[1:]:\n",
    "\t\t# Splitting the current column of the file. try-expect block to catch the 70+ column as well:\n",
    "\t\ttry:\n",
    "\t\t\tages_as_list = list(map(int, col.split('_')[1].split('-')))\n",
    "\t\texcept ValueError:\n",
    "\t\t\tages_as_list = [70]\n",
    "\t\t# If these conditions are met, take this column to be in the sub-df\n",
    "\t\tif ages_as_list[0] >= min(wanted_age_group_splitted) and ages_as_list[0] <= max(wanted_age_group_splitted):\n",
    "\t\t\twanted_columns.append(col)\n",
    "\n",
    "\treturn county_pop[wanted_columns]\n",
    "\n",
    "# Gets a dictionary to reduce (lambda, V_2 or S_2) and reduce its cardinality to consist only the relevant age-groups\n",
    "def calc_sub_dict(dict_to_reduce: dict, wanted_age_group: str):\n",
    "    sub_dict = {}\n",
    "    # Splitting the given age_group, creating list of integers. try-expect block to catch the 60+ group as well (if wanted):\n",
    "    try:\n",
    "        wanted_age_group_splitted = list(map(int, wanted_age_group.split('-')))\n",
    "    except ValueError:\n",
    "        wanted_age_group_splitted = [60, 70]    # In order to pass the logic condition successfully\n",
    "\n",
    "    for key, val in dict_to_reduce.items():\n",
    "        # Splitting the age group part of the key. try-expect block to catch the 70+ column from the file as well:\n",
    "        try:\n",
    "            if isinstance(key, str):   # If the dict_to_reduce keys are only on the age level\n",
    "                ages_as_list = list(map(int, key.split('-')))\n",
    "            elif isinstance(key, tuple):    # If the dict_to_reduce keys are on the region&age level (as lambda_t does) - take the second element (the age)\n",
    "                ages_as_list = list(map(int, key[1].split('-')))\n",
    "        except ValueError:\n",
    "            ages_as_list = [70]\n",
    "        # If these conditions are met, take this key-value pair to be in the sub-dict\n",
    "        if ages_as_list[0] >= min(wanted_age_group_splitted) and ages_as_list[0] <= max(wanted_age_group_splitted):\n",
    "            sub_dict[key] = val    # Converting from ndarray to float\n",
    "\n",
    "    return sub_dict\n",
    "\n",
    "def get_indexes_risk_age_combination(risk_age_group: tuple):\n",
    "    \"\"\"This function gets a tuple of (risk, 4_age_group) and returns the indexes of that combination as they are in the original model (including transformation to the 9 original age groups\n",
    "    e.g.: for ('High', '10-29'), returns the indexes for ('High', '10-19') + ('High', '20-29') \"\"\"\n",
    "    # Initializing the result list and the age groups mapper:\n",
    "    indexes_list_of_lists = []\n",
    "    four_to_nine_age_map = risk_age_groups_mapping((risk_age_group[0], '4-to-9'))\n",
    "    for val in four_to_nine_age_map[risk_age_group]:\n",
    "            indexes_list_of_lists.append(ind.risk_age_dict[val])\n",
    "    # Merging the list of lists to one list:\n",
    "    risk_indexes_list = [item for sublist in indexes_list_of_lists for item in sublist]\n",
    "    return sorted(risk_indexes_list)\n",
    "\n",
    "# Gets the compartment to aggregate, and returns the same compartment, stratified by the original age-groups\n",
    "def calc_aggregated_compartment_by_age_risk(compartment: np.array):\n",
    "    compartment_dict = {}\n",
    "    for risk_age in ind.risk_age_dict.keys():\n",
    "        compartment_dict[risk_age] = float(compartment[:, ind.risk_age_dict[risk_age]].sum(axis=1))\n",
    "    return compartment_dict\n",
    "\n",
    "# Gets the compartment dictionary (the compartment stratified by the old age-groups), and aggregates the compartment to the wanted age-group by returning a dict (e.g agg. V_2 for age group 30-59, using the sub-age-groups 30-39, 40-49, 50-59)\n",
    "def compartment_by_4_age_groups(compartment: dict, target_risk_age_group: tuple):\n",
    "    # Initiate the wanted mapping:\n",
    "    four_to_nine_age_map = risk_age_groups_mapping((target_risk_age_group[0], '4-to-9'))\n",
    "    # Initiate result dict to return:\n",
    "    agg_risk_4_groups_dict = {}\n",
    "    for risk_4_age_group in four_to_nine_age_map.keys():     # Iterating on each combination of (risk, 9 age-groups):\n",
    "        agg_risk_4_groups_dict[risk_4_age_group] = 0\n",
    "    # Performing the aggregation to the new dict - (risk, 4 age groups):\n",
    "    for key, val in four_to_nine_age_map.items():\n",
    "        for tup in val:\n",
    "            agg_risk_4_groups_dict[key] += compartment[tup]\n",
    "\n",
    "    return agg_risk_4_groups_dict\n",
    "\n",
    "def calc_comp_prop_for_age_risk(comp: str, curr_res_mdl_1_ml: dict, target_risk_age_group: tuple):\n",
    "    \"\"\"This function gets the target compartment and the current predictions of the current model,\n",
    "    and returns the compartment aggregated by the wanted combination of (age-group, risk)\"\"\"\n",
    "    # Getting the last day of the compartment:\n",
    "    comp_last_day = np.reshape(curr_res_mdl_1_ml[comp][-1, :], newshape=(1,540))\n",
    "    # Aggregate the compartment by (9 age groups, risk):\n",
    "    comp_agg_9_age_groups_risk = calc_aggregated_compartment_by_age_risk(comp_last_day)\n",
    "    # Aggregate the compartment by (4 age groups, risk):\n",
    "    comp_agg_4_age_groups_risk = compartment_by_4_age_groups(comp_agg_9_age_groups_risk, target_risk_age_group)\n",
    "    # Gets the relevant age group out of the 4 age groups, and summing on it to get the final proportion:\n",
    "    return comp_agg_4_age_groups_risk[target_risk_age_group]\n",
    "\n",
    "def update_compartment(curr_res_mdl_1_ml: dict, compartment: str, updated_array: np.array):\n",
    "    \"\"\"This function gets the current models' predictions, the compartment to update and the updated array, and updates the model object with the updated array\"\"\"\n",
    "    # Initiate settings:\n",
    "    curr_res_mdl_1_ml[compartment][-1] = updated_array\n",
    "    comp_as_list = []\n",
    "    # Changing the updated arrays to be lists of arrays (to allow the update of the model object):\n",
    "    for element in curr_res_mdl_1_ml[compartment]:\n",
    "        comp_as_list.append(element)\n",
    "\n",
    "    # Performing the proper model update\n",
    "    curr_res_mdl_1_ml.update({\n",
    "        compartment : comp_as_list\n",
    "    })\n",
    "\n",
    "# Defining the model - initializing it for t=0:\n",
    "def defining_model(scen):\n",
    "    model_1_ml_ = mdl.Model_behave(\n",
    "    ind= ind,\n",
    "    beta_j= cal_parameters[scen]['beta_j'],\n",
    "    beta_activity= cal_parameters[scen]['beta_activity'],\n",
    "    beta_school= cal_parameters[scen]['beta school'],\n",
    "    scen= scen\n",
    "    )\n",
    "    # Predicting without an assignment (there's no need for that)\n",
    "    model_1_ml_.predict(\n",
    "        days_in_season= 529,    # Num of days between 15/05/20 - 25/10/21\n",
    "        shifting_12_days= True\n",
    "    )\n",
    "    # Updating the vectors to be able to run the model furthermore:\n",
    "    model_1_ml_.update({\n",
    "        'alpha_variant_vec':  neutralized_alpha_variant_vec,\n",
    "        'delta_variant_vec': neutralized_delta_variant_vec,\n",
    "        'isolation_morbidity_ratio_vector': neutralized_isolation_morbidity_ratio_vector,\n",
    "        'is_lockdown': neutralized_lockdown_vec,\n",
    "        'is_school': neutralized_school_vec,\n",
    "        'v2_to_v3_transition_t' : neutralized_transition_vector,\n",
    "        's_2_to_v3_transition_t' : neutralized_transition_vector\n",
    "    })\n",
    "    return model_1_ml_\n",
    "\n",
    "# Update model for current variables of uncertainty:\n",
    "def update_models_object(mdl_1_ml: mdl.Model_behave, realization: tuple):\n",
    "    new_rho = mdl_1_ml.rho * realization[2]\n",
    "    mdl_1_ml.update({\n",
    "        'booster_efficiency': realization[0],\n",
    "        'rho': new_rho\n",
    "    })"
   ],
   "metadata": {
    "collapsed": false,
    "pycharm": {
     "name": "#%%\n"
    }
   }
  },
  {
   "cell_type": "markdown",
   "source": [
    "#### calculating the transferring proportion:"
   ],
   "metadata": {
    "collapsed": false,
    "pycharm": {
     "name": "#%% md\n"
    }
   }
  },
  {
   "cell_type": "code",
   "execution_count": 5,
   "outputs": [],
   "source": [
    "def calc_trans_prop(vaccination_pq_: list, curr_res_mdl_1_ml: dict, curr_inv_: float):\n",
    "    # Initializing the accumulated amount used and the priority queue:\n",
    "    curr_inventory_used = 0\n",
    "    vaccination_pq_copy = vaccination_pq_.copy()\n",
    "    # Saving the combinations that we will vaccinate:\n",
    "    vaccinated_que_ = []\n",
    "    # Iterating until we cross the prior inventory level:\n",
    "    while (curr_inventory_used <= curr_inv_):\n",
    "        # Getting the current combination of (age_group, risk) from the pq:\n",
    "        current_risk_age = vaccination_pq_copy.pop(0)\n",
    "        # Getting the correspondent reported/unreported ratio for the Scenario:\n",
    "        reported_unreported = get_reported_unreported_ratio('Scenario2')\n",
    "        # Getting V2_j,r, S2_j,r proportions:\n",
    "        S_2_age_risk, V_2_age_risk, R_2_age_risk, R_1_age_risk = calc_comp_prop_for_age_risk('S_2', curr_res_mdl_1_ml,current_risk_age), \\\n",
    "                                                                 calc_comp_prop_for_age_risk('V_2', curr_res_mdl_1_ml,current_risk_age), \\\n",
    "                                                                 calc_comp_prop_for_age_risk('R_2', curr_res_mdl_1_ml,current_risk_age), \\\n",
    "                                                                 calc_comp_prop_for_age_risk('R_1', curr_res_mdl_1_ml,current_risk_age)\n",
    "        # Calculating the formula for num of needed vaccines:\n",
    "        count_vaccines_in_use = (((R_1_age_risk + R_2_age_risk) * reported_unreported) + S_2_age_risk + V_2_age_risk) * pop_israel\n",
    "        # Updating the accumulated used vaccines:\n",
    "        curr_inventory_used += count_vaccines_in_use\n",
    "        # Updating the vaccinated_que:\n",
    "        vaccinated_que_.append(current_risk_age)\n",
    "\n",
    "    final_trans_prop = curr_inv_ / curr_inventory_used\n",
    "    return final_trans_prop, vaccinated_que_"
   ],
   "metadata": {
    "collapsed": false,
    "pycharm": {
     "name": "#%%\n"
    }
   }
  },
  {
   "cell_type": "markdown",
   "source": [
    "#### Vaccinating in booster dose:"
   ],
   "metadata": {
    "collapsed": false,
    "pycharm": {
     "name": "#%% md\n"
    }
   }
  },
  {
   "cell_type": "code",
   "execution_count": 6,
   "outputs": [],
   "source": [
    "### Vaccinating in booster (moving from S_2 and V_2 to V_3, including the model update):\n",
    "def vaccinate(trans_prop_: float, curr_res_mdl_1_ml: dict, vaccination_que: list):\n",
    "    ## initialize settings:\n",
    "    vaccination_que_copy = vaccination_que.copy()\n",
    "    trans_prop_copy = trans_prop_\n",
    "    reported_unreported = get_reported_unreported_ratio('Scenario2')\n",
    "    # Getting the last day of the compartments and V_3, saving it to a dictionary:\n",
    "    last_day_dict = {'S_2_last_day': np.reshape(curr_res_mdl_1_ml['S_2'][-1, :], newshape=(540) ),\n",
    "                     'V_2_last_day': np.reshape(curr_res_mdl_1_ml['V_2'][-1, :], newshape=(540) ),\n",
    "                     'V_3_last_day': np.reshape(curr_res_mdl_1_ml['V_3'][-1, :], newshape=(540) )\n",
    "                     }\n",
    "\n",
    "    # Iterating over the combinations of (risk, age_group) that we need to vaccinate, and moving the population, and updating the model:\n",
    "    for curr_risk_age in vaccination_que_copy:\n",
    "        # Getting the relevant indexes to operate in the correspondent locations of the compartment:\n",
    "        curr_risk_age_indexes = get_indexes_risk_age_combination(curr_risk_age)\n",
    "\n",
    "        ## Vaccinating from S_2 to V_3\n",
    "        S_2_last_day_updated, V_3_last_day_updated = vaccinating_from_V_2_S_2(last_day_dict['V_3_last_day'], last_day_dict['S_2_last_day'], trans_prop_copy, curr_risk_age_indexes)\n",
    "        # updating the results:\n",
    "        last_day_dict['V_3_last_day'], last_day_dict['S_2_last_day'] = V_3_last_day_updated, S_2_last_day_updated\n",
    "\n",
    "        ## Vaccinating from V_2 to V_3\n",
    "        V_2_last_day_updated, V_3_last_day_updated = vaccinating_from_V_2_S_2(last_day_dict['V_3_last_day'], last_day_dict['V_2_last_day'], trans_prop_copy, curr_risk_age_indexes)\n",
    "        # updating the results:\n",
    "        last_day_dict['V_3_last_day'], last_day_dict['V_2_last_day'] = V_3_last_day_updated, V_2_last_day_updated\n",
    "\n",
    "    update_compartment(curr_res_mdl_1_ml, 'V_2', last_day_dict['V_2_last_day'])\n",
    "    update_compartment(curr_res_mdl_1_ml, 'S_2', last_day_dict['S_2_last_day'])\n",
    "    update_compartment(curr_res_mdl_1_ml, 'V_3', last_day_dict['V_3_last_day'])"
   ],
   "metadata": {
    "collapsed": false,
    "pycharm": {
     "name": "#%%\n"
    }
   }
  },
  {
   "cell_type": "markdown",
   "source": [
    "### Main - 1000 iterations of the Sim:"
   ],
   "metadata": {
    "collapsed": false,
    "pycharm": {
     "name": "#%% md\n"
    }
   }
  },
  {
   "cell_type": "code",
   "execution_count": 7,
   "outputs": [
    {
     "name": "stderr",
     "output_type": "stream",
     "text": [
      "tqdm() Progress Bar: 100%|██████████| 1000/1000 [4:31:58<00:00, 16.32s/it] \n"
     ]
    }
   ],
   "source": [
    "# A list to hold 1000 realizations of cases per year:\n",
    "cases_per_year_list = []\n",
    "\n",
    "# Big loop run:\n",
    "for tup in tqdm.tqdm(list_of_tuples, desc= 'tqdm() Progress Bar'):\n",
    "    # Initializing the model's object (and its predictions) to t=0:\n",
    "    model_1_ml = defining_model('Scenario2')\n",
    "    # Settings:\n",
    "    update_models_object(model_1_ml, tup)       # Updating the v3_efficiency and the proba for hosp\n",
    "    inv_level = tup[1] * pop_israel             # Updating the inventory level\n",
    "    years_for_model_run = tup[3]                # Updating the years for the model to run for\n",
    "\n",
    "    # Running the model for X years, in 6 months resolution\n",
    "    for i in range(years_for_model_run*2):\n",
    "        # Running until the end of \"single-run-period\", as we vaccinate every month!:\n",
    "        for j in range(6):\n",
    "            res_mdl_1_ml = model_1_ml.predict(\n",
    "                            days_in_season= 30,\n",
    "                            continuous_predict= True\n",
    "                            )\n",
    "            # Getting the proportion of transition, and the combinations that we vaccinate:\n",
    "            trans_prop, vaccinated_que = calc_trans_prop(vaccination_pq, res_mdl_1_ml, inv_level*1/6)\n",
    "            # Vaccinating (including the model update):\n",
    "            vaccinate(trans_prop, res_mdl_1_ml, vaccinated_que)\n",
    "\n",
    "    ## Calculating the cases per year index for every measurement:\n",
    "    tot_new_Is = np.add(res_mdl_1_ml['new_Is_1'].sum(axis=1) * pop_israel, res_mdl_1_ml['new_Is_2'].sum(axis=1) * pop_israel)\n",
    "    tot_new_H = np.add(res_mdl_1_ml['new_H_1'].sum(axis=1) * pop_israel, res_mdl_1_ml['new_H_2'].sum(axis=1) * pop_israel)\n",
    "    # Transferring to cumulative sum:\n",
    "    cumsum_tot_new_Is, cumsum_tot_new_H = np.cumsum(tot_new_Is), np.cumsum(tot_new_H)\n",
    "    # Performing the calculation itself:\n",
    "    cases_per_year_new_Is, cases_per_year_new_H = (cumsum_tot_new_Is[-1] - cumsum_tot_new_Is[528]) / years_for_model_run, (cumsum_tot_new_H[-1] - cumsum_tot_new_H[528]) / years_for_model_run\n",
    "    cases_per_year_list.append((cases_per_year_new_Is, cases_per_year_new_H))"
   ],
   "metadata": {
    "collapsed": false,
    "pycharm": {
     "name": "#%%\n"
    }
   }
  },
  {
   "cell_type": "code",
   "execution_count": 8,
   "outputs": [
    {
     "data": {
      "text/plain": "[(1550827.8567447725, 12942.15299514855),\n (1553585.3169877387, 8833.717815156371),\n (1501288.3397794757, 9835.81298261513),\n (1557107.557761643, 12023.399349745507),\n (1522769.030083065, 11388.278849333472),\n (1528410.801292823, 10079.720000787887),\n (1549331.8287490713, 9731.07567811615),\n (1562221.9144030164, 9549.169480490391),\n (1544802.5665619862, 13056.582045950603),\n (1522468.0204805408, 12556.020001998424),\n (1544175.3300148258, 9870.571800111791),\n (1548090.965067896, 11084.488939150844),\n (1551182.4515638775, 9769.24145743385),\n (1525988.8943216777, 9779.931098879617),\n (1551868.0843299986, 11831.067186645083),\n (1523978.058322394, 10902.969479906586),\n (1560515.175240868, 9661.311591516094),\n (1537884.9472657542, 9859.34750020449),\n (1539555.8486736102, 10769.023723234228),\n (1543418.2260268314, 10865.23210580889),\n (1553259.977208067, 9943.43657695599),\n (1555237.7961759667, 11140.445306915133),\n (1533854.084095244, 10116.000320023924),\n (1537884.9472657542, 10469.20404660891),\n (1503786.4889627588, 8686.47581672134),\n (1522652.7501197984, 10080.404638214059),\n (1551288.4323897853, 10322.963081594175),\n (1509887.8457231498, 11698.76131253683),\n (1550827.8567447725, 11611.651285366897),\n (1522468.0204805408, 9977.551608730888),\n (1483928.9264055542, 10497.25449376895),\n (1555237.7961759667, 11239.033318480731),\n (1525709.2715931342, 8273.518559320168),\n (1512294.6773663927, 8594.066461595512),\n (1564294.6407917184, 8928.024176149918),\n (1546641.630727894, 9992.030763724293),\n (1549860.6587080562, 11594.707725866057),\n (1539133.8107505532, 10625.974913211478),\n (1566657.8834329448, 13384.849058824335),\n (1556573.7886036125, 10397.135311117292),\n (1500603.214397697, 12292.887955553639),\n (1530964.7269868334, 7629.693181782129),\n (1531156.6778202716, 8744.649257024594),\n (1533302.159246554, 9626.471686673633),\n (1553259.977208067, 10731.03551374454),\n (1520842.4385236439, 8892.315222564755),\n (1544832.769717361, 8612.601532561905),\n (1547895.482813348, 9456.971857795168),\n (1533828.2883618558, 8122.493938379319),\n (1546929.9205705118, 10511.299289101435),\n (1555294.2053756292, 9153.762658931973),\n (1532693.2861763076, 7734.225004663866),\n (1538234.8532850808, 10831.02954746695),\n (1481205.8378221195, 12369.634149167645),\n (1537952.7306199353, 10714.76797209397),\n (1533828.2883618558, 7740.2589295144335),\n (1525580.0381643148, 7696.73781459945),\n (1549150.7014596427, 8442.239633584124),\n (1537356.916283781, 7886.742803922428),\n (1520395.1381547004, 9958.518458216775),\n (1545872.8410843504, 10321.379494296449),\n (1546519.4397870088, 11587.626707440602),\n (1509877.706741954, 11307.202283483362),\n (1558653.9236567786, 13008.034993309675),\n (1531199.6100093785, 8726.308710717632),\n (1554255.2298848548, 8571.176545867605),\n (1554542.4038352035, 10679.661020416164),\n (1543456.4769407047, 7984.508960379198),\n (1517665.7989162256, 11241.166172090798),\n (1549527.6154792106, 10910.985101682818),\n (1523723.551550165, 10773.85125461758),\n (1545002.4163401863, 10191.21596548653),\n (1542068.4560984508, 12830.440986209001),\n (1502479.892804064, 12776.780403640047),\n (1508683.4300732985, 11264.5493935549),\n (1468973.751556037, 9518.694695013482),\n (1506200.3912580798, 9400.171905730975),\n (1518332.6777055839, 13305.072305542211),\n (1523723.551550165, 11084.635425423845),\n (1535625.8862632352, 9710.225343193995),\n (1536139.5177661127, 13059.079883825207),\n (1533538.3856833575, 9010.277430761682),\n (1510837.6585535917, 8731.586515877692),\n (1532768.5921264347, 12671.924173957845),\n (1549425.3670598986, 11523.07140774825),\n (1534949.7183297293, 8415.663638703263),\n (1543028.9414805386, 9587.568915237314),\n (1551868.0843299986, 9725.538280547167),\n (1554748.0943870347, 11333.678234693116),\n (1543746.3642802758, 9592.21785652914),\n (1557171.0959263206, 11957.236752404659),\n (1526552.7559724029, 8303.00740386611),\n (1498755.1787667074, 11403.526821218165),\n (1542151.3460622577, 8565.146737358453),\n (1555724.3442466033, 9270.480624442447),\n (1541454.3028600982, 10057.116441533952),\n (1553886.8914837711, 10951.120668887877),\n (1545932.078784285, 10284.253713887221),\n (1508044.4024070224, 10587.878675185857),\n (1543746.3642802758, 11939.249885254369),\n (1570689.650999185, 13110.12846690873),\n (1534438.8601096738, 12992.881441121664),\n (1561094.9836428997, 13680.843751699647),\n (1556573.7886036125, 12044.206251492371),\n (1547960.926287366, 12075.74812685673),\n (1533854.084095244, 9907.422993837868),\n (1535585.3987743638, 11501.533408175495),\n (1533302.159246554, 10133.128091235416),\n (1539133.8107505532, 8578.768737271586),\n (1522790.594681563, 10565.666225738174),\n (1501288.3397794757, 10893.427281821034),\n (1533085.6105600575, 9805.430396275146),\n (1535729.6556979748, 9837.646770586873),\n (1491051.1647507763, 9424.272617366549),\n (1545906.6866052502, 10584.233928612932),\n (1537952.7306199353, 9545.884193320067),\n (1529203.9231721985, 10287.689755872585),\n (1522790.594681563, 10565.666225738174),\n (1522447.1427510655, 9197.509631975136),\n (1527978.7498626849, 10255.229930241485),\n (1541454.3028600982, 10545.325977530716),\n (1523713.3870040835, 7781.889525463531),\n (1555551.7947113514, 9827.40088153912),\n (1522652.7501197984, 10187.642985429113),\n (1554765.5153427077, 10764.098085265563),\n (1553998.2216352483, 11303.569455594868),\n (1564454.2081331122, 9908.85809934472),\n (1526803.7154449967, 7608.047569374848),\n (1529358.175967999, 9661.867714067446),\n (1540222.3902457769, 11537.79932981281),\n (1515797.1539337176, 10996.39952727371),\n (1529197.76595163, 12047.953681451438),\n (1556375.5492949944, 8448.650298031309),\n (1549675.6758699005, 9230.959885755196),\n (1546519.4397870088, 8790.613364265238),\n (1537356.916283781, 10807.758657226954),\n (1537152.7994654975, 8907.359864953987),\n (1539571.7040343161, 9544.29486057936),\n (1462671.9839750016, 11992.107041555368),\n (1527638.0528882053, 13821.318463455946),\n (1508044.4024070224, 9764.377000449165),\n (1566245.7022895596, 13561.002740234255),\n (1555551.7947113514, 10070.052755157356),\n (1548261.0052262181, 10002.871721561318),\n (1515534.1587858472, 13057.769743289691),\n (1479199.8251573518, 9928.929903786353),\n (1541922.4955406552, 10474.447266610083),\n (1552023.2990353038, 12211.870205980314),\n (1547631.0836989863, 13518.868598711102),\n (1496185.293505562, 11384.590125002407),\n (1556514.8888306806, 13295.93740441559),\n (1525709.2715931342, 8076.5300221935),\n (1555351.6698445536, 10651.554534298533),\n (1523771.443645627, 11482.868599380397),\n (1552411.9711926235, 13318.695472934034),\n (1529203.9231721985, 8668.331183188944),\n (1487149.2743154413, 12533.76603708836),\n (1519383.610957153, 8433.50907479526),\n (1534742.6113630338, 10956.74857486558),\n (1553344.051548054, 9244.225907218819),\n (1533545.7101979046, 9504.320845934584),\n (1551356.6941675493, 9334.23355658187),\n (1537376.7912186303, 8362.5804481896),\n (1539304.146837608, 8441.04080727873),\n (1532120.6114291472, 10499.141843253074),\n (1528011.5025680927, 9803.426197009456),\n (1518107.8741463001, 9701.603088877477),\n (1557107.557761643, 10687.466088662664),\n (1540360.8294546714, 9695.128299900749),\n (1557466.7363493026, 8857.750948986555),\n (1562221.9144030164, 13575.927695155066),\n (1534907.1103042436, 8324.875285353086),\n (1530751.4792073003, 8795.709750373226),\n (1551640.3802573276, 11514.055614761848),\n (1561718.5681291204, 10719.501172116326),\n (1521162.449548582, 8621.093710217745),\n (1525615.357739695, 10372.361256900627),\n (1549150.7014596427, 9227.564250661713),\n (1506646.1879940697, 10961.532109089783),\n (1531544.438347733, 10208.76798935809),\n (1552444.1092162419, 10331.253252918606),\n (1491855.4415617012, 11430.457260280631),\n (1531832.070865868, 10961.076659449214),\n (1529794.5163110434, 9148.304402381837),\n (1540850.6638942384, 10795.640719876337),\n (1550705.143557299, 10919.883033549806),\n (1537884.9472657542, 9859.34750020449),\n (1527638.0528882053, 12748.974789567032),\n (1522447.1427510655, 8059.673388844249),\n (1546770.428249338, 11221.449985047262),\n (1530345.4605847572, 10993.340880104135),\n (1558653.9236567786, 13615.887095800745),\n (1566657.8834329448, 10500.183313388085),\n (1477181.0501098288, 11991.248231567066),\n (1552023.2990353038, 10775.179593511974),\n (1548261.0052262181, 12319.326225501805),\n (1538754.3475905848, 8886.583298757174),\n (1496185.293505562, 10330.461409724432),\n (1552251.9677566944, 10723.398036543096),\n (1540879.345162746, 9174.700748103447),\n (1525997.6207472442, 8888.853422252629),\n (1556064.2684461435, 8785.387478196073),\n (1543028.9414805386, 10403.532227172409),\n (1553585.3169877387, 10640.614640983847),\n (1525709.2715931342, 8175.024290756816),\n (1555724.3442466033, 9171.858490139932),\n (1534847.9124349882, 11259.403763232296),\n (1525328.7957631652, 9077.990294842079),\n (1532522.3732581097, 8811.23117442525),\n (1475149.2954886965, 13472.247489260672),\n (1552223.408124311, 12563.307622506225),\n (1496481.7215145202, 10582.803056653882),\n (1500026.2364832642, 10250.48264827336),\n (1542025.8431934533, 9768.04384089789),\n (1530345.4605847572, 11316.674435401346),\n (1534742.6113630338, 9704.548737738047),\n (1473104.3292546023, 9889.4418546904),\n (1533706.760678904, 11460.699448829828),\n (1542948.2040464235, 11058.941373147678),\n (1547269.141344564, 10433.452422125989),\n (1518886.371039746, 10307.285522601613),\n (1554748.0943870347, 8081.40534995506),\n (1540794.694941293, 10309.237076203453),\n (1542593.980696369, 8403.81627149722),\n (1549527.6154792106, 9309.372609692611),\n (1541454.3028600982, 9080.697369540389),\n (1520441.1825031778, 8833.348391848442),\n (1519383.610957153, 9939.492838151578),\n (1541805.7324402411, 9555.958131249183),\n (1475149.2954886965, 11284.446614936242),\n (1556922.9116824784, 11571.04804177177),\n (1547960.926287366, 8289.284731147392),\n (1543720.1018969011, 7823.598426502269),\n (1510837.6585535917, 8834.311063123238),\n (1534224.7821510043, 9905.99545928388),\n (1532460.7254666928, 8636.75332700392),\n (1551231.1318346597, 11403.851234879457),\n (1549150.7014596427, 10209.220022008758),\n (1513512.5216207316, 14049.35901074116),\n (1496185.293505562, 12438.718840280399),\n (1523295.99027271, 11090.846597202857),\n (1551818.0141612408, 9598.539874818382),\n (1537012.7309253954, 13014.638178649633),\n (1554327.6225805988, 11439.308011532927),\n (1525997.6207472442, 9082.089366214677),\n (1527896.671040282, 9469.323117407406),\n (1548261.0052262181, 10845.218813903333),\n (1545290.200941119, 8084.528874617948),\n (1536139.5177661127, 11621.38301588116),\n (1523713.3870040835, 8161.493892559275),\n (1556207.7477000698, 11838.731075486043),\n (1553003.2534093752, 9262.91185094404),\n (1540815.9518209267, 10324.055442764542),\n (1528180.1088535332, 10547.302615820025),\n (1521970.7762284179, 11003.828350406638),\n (1546573.1172563112, 10428.523382853096),\n (1544045.983422318, 11169.074738346462),\n (1534937.9839099674, 9526.20755874449),\n (1550685.9218163367, 8817.322922796573),\n (1545002.4163401863, 8825.382897947087),\n (1558819.4515105651, 11938.520832278713),\n (1491051.1647507763, 9889.668796001906),\n (1540879.345162746, 8589.081551415979),\n (1542307.1947441485, 10500.410020405003),\n (1547269.141344564, 8489.966186631978),\n (1523480.5076740205, 8752.93228605458),\n (1555200.5779611268, 9118.40210698155),\n (1523629.027092546, 10974.260845352268),\n (1506932.0902095786, 10321.624962959451),\n (1536375.4373367545, 9443.209901996297),\n (1513202.3149985266, 10199.048621045044),\n (1564294.6407917184, 12344.922317639433),\n (1532522.3732581097, 11849.586751813331),\n (1540850.6638942384, 9573.49271385259),\n (1515314.184422118, 10756.206683326294),\n (1563341.6490086608, 9441.067535182736),\n (1547128.4721599633, 8694.363237250596),\n (1572152.6012908986, 13122.60634251451),\n (1527896.671040282, 8680.212857623494),\n (1545002.4163401863, 10716.536376078595),\n (1525988.8943216777, 11821.894734909483),\n (1521808.6812036093, 9725.669824747925),\n (1537724.989688546, 10071.88090268417),\n (1526193.8986914943, 7890.07392215298),\n (1521097.810511582, 11424.796834174676),\n (1537884.9472657542, 11688.917139417641),\n (1540794.694941293, 10960.34678627948),\n (1542810.7093827985, 10214.250828419781),\n (1554255.2298848548, 8078.580192656838),\n (1555724.3442466033, 9467.724893047669),\n (1551182.4515638775, 10543.042760992972),\n (1508387.7977681449, 13330.776270707387),\n (1531199.6100093785, 11150.283352583621),\n (1549425.3670598986, 13006.239014686098),\n (1519870.2312942299, 11573.3103651277),\n (1549860.6587080562, 10962.269122636935),\n (1496185.293505562, 9592.57130902983),\n (1543961.711615657, 10296.924883835187),\n (1546476.7513768172, 8034.558173684009),\n (1524962.056122377, 10732.916145307154),\n (1532485.2808955058, 10037.372380981933),\n (1543343.235591947, 11649.207241090358),\n (1531832.070865868, 8342.058342589686),\n (1525988.8943216777, 8812.685166023422),\n (1543343.235591947, 9760.146607400024),\n (1550715.8822061208, 10810.078750184437),\n (1498003.4868091065, 10041.492620618717),\n (1524962.056122377, 9878.082116034857),\n (1507705.1117398564, 9021.313344679957),\n (1558311.1270174833, 12615.109019113597),\n (1535505.420317967, 10810.616942247963),\n (1536503.93724773, 10969.537011877022),\n (1549321.720586074, 10818.890622869589),\n (1553886.8914837711, 9012.869223067033),\n (1496481.7215145202, 9700.902801932674),\n (1466887.5891839592, 10765.49057255427),\n (1544669.970720681, 8879.221884522663),\n (1541805.7324402411, 11401.995497513246),\n (1534949.7183297293, 9945.784300285668),\n (1534907.1103042436, 9216.82620878374),\n (1554765.5153427077, 11055.019655137567),\n (1516957.1773866634, 12073.10951205991),\n (1530381.4347730337, 9151.977212050115),\n (1538917.1378904334, 10235.675100781107),\n (1516957.1773866634, 11325.21777237476),\n (1549527.6154792106, 8708.767925196371),\n (1556254.8021275229, 8770.606123664898),\n (1512701.6728612194, 10360.236505792049),\n (1507705.1117398564, 8201.19394970901),\n (1494885.9636587098, 10637.761238453388),\n (1551288.4323897853, 10122.51719651468),\n (1542948.2040464235, 9904.964882036598),\n (1516957.1773866634, 11538.901126570487),\n (1530246.8213355495, 9155.562837335714),\n (1482308.9053357253, 12233.976520692764),\n (1520657.0238855744, 13403.019820058056),\n (1543418.2260268314, 9469.697706897627),\n (1547269.141344564, 11967.78366067399),\n (1545780.6434832187, 13316.794597433442),\n (1523480.5076740205, 8064.499409623347),\n (1531454.4726858942, 11172.873718717605),\n (1554712.1339885984, 9845.288492388765),\n (1549527.6154792106, 8308.364802198816),\n (1553886.8914837711, 7753.005783283463),\n (1553759.1937668908, 11818.158221934698),\n (1520441.1825031778, 11287.056278472955),\n (1556207.7477000698, 10161.577506458874),\n (1494885.9636587098, 10743.08560715098),\n (1560515.175240868, 10404.48940624813),\n (1524339.8690329934, 9968.851162580666),\n (1508683.4300732985, 8501.546712116893),\n (1539107.0086380083, 8895.451149779543),\n (1523830.0724995267, 10884.015777441558),\n (1551440.7042229099, 10235.286584884863),\n (1553998.2216352483, 11098.050010947656),\n (1531156.6778202716, 10306.193767207518),\n (1518886.371039746, 11373.556438732781),\n (1506646.1879940697, 8502.8707014435),\n (1558311.1270174833, 9752.85739292818),\n (1537356.916283781, 10613.024267006695),\n (1553986.6081105473, 14423.132546256842),\n (1547745.4081877624, 10901.624876320015),\n (1468973.751556037, 12385.77141037899),\n (1550625.3925933146, 12103.004957979652),\n (1522652.7501197984, 10616.596374289227),\n (1547631.0836989863, 13036.051863042854),\n (1532768.5921264347, 11117.820265830967),\n (1538917.1378904334, 8844.41829096619),\n (1553986.6081105473, 12241.482245142366),\n (1514103.5308307805, 9804.898755387565),\n (1551231.1318346597, 9634.288112225742),\n (1488718.4278967725, 11846.037761292251),\n (1538234.8532850808, 10064.230995433934),\n (1532153.2642755995, 11573.82213338387),\n (1550705.143557299, 10318.788554638835),\n (1544175.3300148258, 11865.687376730144),\n (1499515.3836034643, 12149.94235168824),\n (1554765.5153427077, 8242.77781304117),\n (1533828.2883618558, 8026.935186163129),\n (1561094.9836428997, 11496.507354369392),\n (1554648.2691837444, 10897.393995376004),\n (1517647.0026216935, 9526.96901546561),\n (1503993.4109218456, 12185.18532695601),\n (1528011.5025680927, 8851.637245843522),\n (1526552.7559724029, 10690.122032477619),\n (1530751.4792073003, 10376.96094145159),\n (1536154.6323977762, 9144.984581324967),\n (1520441.1825031778, 8735.20007638344),\n (1543961.711615657, 10778.089598033048),\n (1468973.751556037, 12385.77141037899),\n (1540815.9518209267, 9076.09269693586),\n (1569217.5349241365, 12363.143698234546),\n (1543313.3887833634, 11704.492195727498),\n (1537884.9472657542, 10774.132319811082),\n (1543028.9414805386, 8873.601017294113),\n (1518332.6777055839, 12522.420993451537),\n (1510459.476479796, 9382.193867416354),\n (1554150.51943246, 8134.241669738433),\n (1517105.4454728179, 12425.452255728696),\n (1504505.120615066, 11457.770662200404),\n (1499515.3836034643, 12260.396373067184),\n (1528410.801292823, 8417.085773853809),\n (1526552.7559724029, 11209.059995219237),\n (1530519.8017116734, 9579.020724107513),\n (1527744.7276385354, 10802.364649917206),\n (1508756.551207238, 9540.423994231069),\n (1529923.110510453, 10849.999339984866),\n (1532768.5921264347, 10400.541539003127),\n (1510459.476479796, 10679.731317165437),\n (1522468.0204805408, 13452.87857356978),\n (1511867.6362389748, 10382.156527001225),\n (1542948.2040464235, 11058.941373147678),\n (1553471.077548387, 12912.750659342939),\n (1553003.2534093752, 12579.263007454823),\n (1549331.8287490713, 9731.07567811615),\n (1570689.650999185, 13722.751292465233),\n (1542764.127564596, 13476.2692817657),\n (1508683.4300732985, 12220.973398668088),\n (1555270.1705167955, 11457.151593767387),\n (1510837.6585535917, 10375.179271807554),\n (1513512.5216207316, 13813.23532988838),\n (1540884.4838730774, 8546.345515411807),\n (1520395.1381547004, 10386.841832763756),\n (1546442.6925364593, 8965.27651790964),\n (1555305.7407168197, 10473.5823244915),\n (1534224.7821510043, 10896.595005212275),\n (1560515.175240868, 8705.797258289222),\n (1545789.487200645, 12194.072861952438),\n (1542506.1157523908, 11432.930563191121),\n (1553585.3169877387, 11744.829367878356),\n (1538633.0069152545, 9254.139090877321),\n (1559785.226989582, 11460.478131200807),\n (1523082.5131325494, 9675.771975382959),\n (1479199.8251573518, 11545.26732998412),\n (1460541.8562636462, 9352.191779972294),\n (1550010.970540349, 10760.379458879945),\n (1517105.4454728179, 12070.439334136476),\n (1517105.4454728179, 12780.465177320975),\n (1526931.5856848892, 11401.941587998868),\n (1532768.5921264347, 10161.448630060579),\n (1550721.629104427, 9379.260435916189),\n (1561666.1588158943, 11442.992504064947),\n (1511272.4905061708, 9237.682942888126),\n (1527867.8206815885, 11362.55734617912),\n (1536375.4373367545, 9646.289684834945),\n (1538917.1378904334, 10136.299614365755),\n (1537356.916283781, 9736.719511015315),\n (1501288.3397794757, 9730.051552694516),\n (1513512.5216207316, 12514.55508519802),\n (1538771.085357479, 8054.377813861237),\n (1524655.6333216568, 8012.033783002287),\n (1527322.534338726, 10250.678262929643),\n (1542764.127564596, 12152.707120163688),\n (1538234.8532850808, 11118.57900447938),\n (1547895.482813348, 9167.472719291263),\n (1541122.5409875985, 13341.736155056746),\n (1552223.408124311, 10346.25333618159),\n (1522790.594681563, 10364.415440485991),\n (1537952.7306199353, 11494.023824609942),\n (1547895.482813348, 11097.466975984145),\n (1544045.983422318, 10271.559804015065),\n (1540222.3902457769, 8056.566773403773),\n (1512294.6773663927, 11591.996622617178),\n (1494949.9166226625, 9691.298124041254),\n (1532153.2642755995, 8606.175432516222),\n (1548217.9154962935, 11285.9903213764),\n (1555200.5779611268, 10282.45343978771),\n (1539304.146837608, 9304.329071659464),\n (1545824.511224483, 12404.373727976106),\n (1498003.4868091065, 11255.299420913312),\n (1549527.6154792106, 10310.38041718648),\n (1563341.6490086608, 13240.521543244051),\n (1564454.2081331122, 13595.875066542767),\n (1507471.2244166068, 12105.186579974568),\n (1529278.9858262087, 11523.090133441372),\n (1553443.3139567298, 11044.514772160164),\n (1525988.8943216777, 12251.78181617894),\n (1515887.2832532322, 8313.910180947174),\n (1555332.711527527, 11175.671585046763),\n (1516937.6261736592, 9718.452410655276),\n (1551743.1574497772, 8260.939178875735),\n (1563236.8982611336, 13900.324029375515),\n (1517319.2841633393, 10773.909383487891),\n (1534458.9710054437, 11249.6922315181),\n (1560515.175240868, 12103.181554207005),\n (1538917.1378904334, 11428.180937765246),\n (1506646.1879940697, 11883.530136957177),\n (1516937.6261736592, 12064.285751158268),\n (1519719.3837317105, 10631.242557212046),\n (1550721.629104427, 8025.552744134501),\n (1527867.8206815885, 12150.061320666742),\n (1531199.6100093785, 10568.529438535807),\n (1568833.1093526806, 10399.706214949632),\n (1551440.7042229099, 12029.099697699765),\n (1552757.5714446092, 8857.34244762426),\n (1535613.9395127979, 8322.024266560958),\n (1530246.8213355495, 10716.17013915433),\n (1511867.6362389748, 9045.839350258504),\n (1561718.5681291204, 13764.814005103945),\n (1553774.2448014456, 11096.863354348869),\n (1563341.6490086608, 9786.472445006404),\n (1556922.9116824784, 9659.309669652961),\n (1533262.5000842556, 11367.069768229538),\n (1544278.111381955, 9391.95001859136),\n (1529923.110510453, 10753.124345877874),\n (1557837.0618429843, 11333.490238853668),\n (1554712.1339885984, 11653.606786909171),\n (1545168.2994842737, 8988.592903243227),\n (1564745.934471173, 11228.804910459634),\n (1537356.916283781, 9347.25073057468),\n (1511272.4905061708, 9348.980327742176),\n (1503786.4889627588, 9004.273712455059),\n (1545168.2994842737, 10622.882522014694),\n (1530246.8213355495, 8843.441376971985),\n (1541122.5409875985, 12620.561227756336),\n (1504345.5856568113, 10210.36423234291),\n (1540850.6638942384, 9471.647046683996),\n (1546641.630727894, 10833.464933301106),\n (1500603.214397697, 9717.235241056733),\n (1534949.7183297293, 10997.742255123609),\n (1545932.078784285, 11459.596995474289),\n (1505579.5921934585, 10339.682680244097),\n (1565559.6126031256, 13029.257817476691),\n (1546641.630727894, 11569.719831680763),\n (1567749.0418557723, 12932.603160279754),\n (1553344.051548054, 8319.803316496917),\n (1547453.7903772981, 9576.518107190499),\n (1543343.235591947, 8815.61629055486),\n (1550118.2079234037, 9713.744190849011),\n (1556207.7477000698, 10062.921414163164),\n (1510459.476479796, 10280.489024934916),\n (1514107.2434520235, 8991.717063476895),\n (1549234.2370290142, 13895.420812959563),\n (1527896.671040282, 8877.49042256948),\n (1559084.1171957536, 10208.944956676934),\n (1515534.1587858472, 11048.882090475881),\n (1547733.79504233, 10997.458099649142),\n (1534077.3286978356, 9732.844531773286),\n (1539964.4191102402, 9005.232470829065),\n (1532768.5921264347, 10041.902175589239),\n (1543746.3642802758, 8979.948631644329),\n (1554327.6225805988, 11148.478146832897),\n (1511272.4905061708, 11129.738485407417),\n (1532061.1501927997, 10729.011017122826),\n (1540300.9548066661, 10536.945947191158),\n (1525615.357739695, 9853.743194055596),\n (1553443.3139567298, 8622.472058967152),\n (1536757.5577432597, 11484.612553075738),\n (1505467.333042478, 9535.687486889188),\n (1496481.7215145202, 11574.94084321516),\n (1531737.9380151297, 8199.266332427002),\n (1532061.1501927997, 9270.69884003818),\n (1569217.5349241365, 11506.29215479256),\n (1482308.9053357253, 10158.569789503797),\n (1550010.970540349, 9325.662197695941),\n (1466887.5891839592, 12826.967490702918),\n (1548622.4675778092, 9322.282022479834),\n (1520657.0238855744, 11505.247102173716),\n (1523480.5076740205, 9736.407823813512),\n (1541581.1078687746, 10189.581304729434),\n (1557466.7363493026, 9763.657296041983),\n (1553001.2505917614, 9929.158425194324),\n (1524883.4736368705, 10524.644883426228),\n (1550634.7581995795, 10048.668214799975),\n (1551231.1318346597, 9929.215299334739),\n (1555724.3442466033, 8382.881415719254),\n (1538234.8532850808, 11118.57900447938),\n (1559084.1171957536, 10930.789549573276),\n (1550721.629104427, 8605.713183469596),\n (1513907.13354971, 10498.926773756171),\n (1530751.4792073003, 9388.678947027613),\n (1519103.9025108046, 10771.1452369252),\n (1529278.9858262087, 10942.093992259448),\n (1548217.9154962935, 10145.99129901514),\n (1558986.3553726412, 13179.855822955218),\n (1554712.1339885984, 10347.599129755563),\n (1548933.3560854024, 8505.072537833476),\n (1468973.751556037, 13417.919027910531),\n (1556207.7477000698, 8089.799568248835),\n (1535585.3987743638, 9518.510406765894),\n (1529265.9959411293, 10770.18744629044),\n (1524883.4736368705, 9128.518521339047),\n (1553016.5168432484, 10837.085914972966),\n (1559050.548734759, 9757.755381924979),\n (1511272.4905061708, 9682.872482304456),\n (1540300.9548066661, 8975.91691797766),\n (1556573.7886036125, 10294.1933773439),\n (1544278.111381955, 10174.6125201406),\n (1516525.0738701047, 8908.259889589634),\n (1523978.058322394, 8587.294546121113),\n (1462671.9839750016, 11535.2648685437),\n (1540794.694941293, 9007.01765605142),\n (1552996.8819871573, 9588.218970764352),\n (1550625.3925933146, 11417.929205641181),\n (1547745.4081877624, 10138.51113497758),\n (1494885.9636587098, 10427.112501058245),\n (1544278.111381955, 11544.271897851871),\n (1520512.8698656636, 8143.830875172379),\n (1543720.1018969011, 10464.062895446903),\n (1551818.0141612408, 12798.053166424526),\n (1506200.3912580798, 9870.18050101755),\n (1523978.058322394, 11192.428846629802),\n (1520441.1825031778, 9814.831546498259),\n (1517105.4454728179, 12898.802817851758),\n (1564294.6407917184, 9920.026862388857),\n (1516937.6261736592, 9830.158760203),\n (1530246.8213355495, 12172.73695418503),\n (1501288.3397794757, 11316.473001503387),\n (1528609.603662595, 10473.951426164092),\n (1521807.1625505255, 9477.86172909271),\n (1532768.5921264347, 10161.448630060579),\n (1482308.9053357253, 10813.961388826583),\n (1537132.431775242, 9854.369996086336),\n (1548648.4846656027, 11671.858511994693),\n (1466887.5891839592, 13056.020481608335),\n (1556573.7886036125, 10191.251443570454),\n (1531454.4726858942, 8997.623968170821),\n (1551868.0843299986, 10026.328124275493),\n (1538633.0069152545, 11898.178831128016),\n (1527172.0328736084, 9661.903272673542),\n (1539834.05583444, 10651.140900100934),\n (1509887.8457231498, 12655.932692653496),\n (1528552.9760993067, 8181.887609769515),\n (1559785.226989582, 12627.749051971268),\n (1496816.4779757333, 10977.967289534872),\n (1500026.2364832642, 12258.309146388794),\n (1544669.970720681, 9777.120726777772),\n (1569217.5349241365, 13587.217331723134),\n (1503422.5515921789, 11040.785552600772),\n (1545168.2994842737, 10520.739420841448),\n (1514998.4741677586, 11512.530150789913),\n (1552531.5027861851, 11592.36568480307),\n (1509834.5639792248, 10118.64096971147),\n (1522790.594681563, 11974.42172250323),\n (1544550.7761327315, 11713.93490047681),\n (1498003.4868091065, 9158.72403858632),\n (1551231.1318346597, 8159.65217668101),\n (1530044.244993755, 9581.775114013675),\n (1533302.159246554, 8917.152720287211),\n (1529197.76595163, 9683.402024344135),\n (1551288.4323897853, 10824.077794292956),\n (1548622.4675778092, 8439.118462455446),\n (1535548.1162704641, 11572.360714136834),\n (1518890.9746008194, 9412.517146041777),\n (1511380.4563218798, 10786.065363298238),\n (1518891.9840851931, 11256.093207034806),\n (1519383.610957153, 9537.897167923258),\n (1554404.8085476453, 9745.314214499942),\n (1554404.8085476453, 9526.318389454955),\n (1508683.4300732985, 11052.010725752007),\n (1559050.548734759, 10818.380966916839),\n (1569217.5349241365, 13342.402605025347),\n (1526662.1784156552, 8506.199068770053),\n (1506646.1879940697, 11063.976334408371),\n (1533085.6105600575, 9222.92958065481),\n (1485180.3773878918, 11474.535904947174),\n (1547414.181061584, 11479.561297136077),\n (1550625.3925933146, 10618.674161246281),\n (1550118.2079234037, 9713.744190849011),\n (1516957.1773866634, 12821.00125174499),\n (1503786.4889627588, 10169.53266347862),\n (1532485.2808955058, 12411.804557128216),\n (1543809.6472260572, 9242.365761283472),\n (1509887.8457231498, 9465.36142559798),\n (1502510.2008873534, 9406.795453090608),\n (1491855.4415617012, 9232.292402534329),\n (1557466.7363493026, 11172.844947017118),\n (1529203.9231721985, 10859.228075643303),\n (1509887.8457231498, 11486.05656139985),\n (1537376.7912186303, 11498.548116260776),\n (1549331.8287490713, 10448.102307029945),\n (1523771.443645627, 9443.854549023074),\n (1523978.058322394, 8973.240368418712),\n (1524962.056122377, 9593.137439610777),\n (1563424.1555752822, 10575.192877439838),\n (1501017.571780581, 9508.27935810495),\n (1522468.0204805408, 10762.302858855799),\n (1559084.1171957536, 12168.2374231099),\n (1560778.614762986, 9896.719434084966),\n (1541581.1078687746, 11208.539435202352),\n (1526529.9216532737, 12476.72946181167),\n (1534949.7183297293, 11380.272420519177),\n (1519870.2312942299, 11779.976621647817),\n (1537810.2707474974, 14272.615244312894),\n (1525709.2715931342, 11326.840884783498),\n (1534937.9839099674, 11178.712951587911),\n (1550010.970540349, 8710.78337147422),\n (1542948.2040464235, 9424.14134407364),\n (1504505.120615066, 8388.724949111014),\n (1539107.0086380083, 8895.451149779543),\n (1515920.170477394, 8863.694273738236),\n (1532485.2808955058, 11548.374674893224),\n (1541405.0343992233, 10758.852111587641),\n (1550625.3925933146, 10161.956993020607),\n (1552023.2990353038, 9030.626706943416),\n (1462671.9839750016, 12791.580844325637),\n (1548933.3560854024, 11306.743491472673),\n (1552547.5876324414, 8326.480135699458),\n (1545952.4879055708, 10118.59319851163),\n (1532460.7254666928, 8733.795499217493),\n (1569217.5349241365, 13097.587878327693),\n (1545002.4163401863, 10926.664540315445),\n (1529265.9959411293, 10554.78369736464),\n (1523713.3870040835, 8635.99935142899),\n (1547556.1845979348, 8138.663837107681),\n (1554765.5153427077, 10182.254945521472),\n (1536375.4373367545, 9544.749793415618),\n (1487149.2743154413, 11605.338923229996),\n (1524462.2795752462, 9570.006706250744),\n (1543418.2260268314, 9768.740792378645),\n (1519383.610957153, 9035.902580137761),\n (1532153.2642755995, 8705.096989211801),\n (1549527.6154792106, 11111.186663181565),\n (1497474.9446601216, 8651.066727973202),\n (1506646.1879940697, 11576.19746100143),\n (1487133.3895855055, 12053.050139115285),\n (1534438.8601096738, 11863.065663632771),\n (1543809.6472260572, 9351.09947612206),\n (1547453.7903772981, 8418.917017310274),\n (1518518.143030687, 10034.15551650947),\n (1555351.6698445536, 11453.284445482363),\n (1517647.0026216935, 9627.25289983896),\n (1534458.9710054437, 11728.402539242254),\n (1534937.9839099674, 9817.826157481546),\n (1523771.443645627, 8585.322317293736),\n (1518886.371039746, 12202.878262390434),\n (1502541.6938861876, 10055.491321028854),\n (1526803.7154449967, 9700.260650952923),\n (1520657.0238855744, 13877.462999529169),\n (1536929.9630083053, 8733.252449229632),\n (1531156.6778202716, 11867.738277390448),\n (1550685.9218163367, 8304.687869145684),\n (1505467.333042478, 12418.569750367327),\n (1536503.93724773, 8775.629609501646),\n (1560778.614762986, 11436.20912383154),\n (1569217.5349241365, 9914.996431257388),\n (1543028.9414805386, 9077.59184527787),\n (1543456.4769407047, 9716.089216846998),\n (1548090.965067896, 10986.396116680504),\n (1540222.3902457769, 9250.132221315449),\n (1537356.916283781, 9736.719511015315),\n (1540360.8294546714, 10655.041992960256),\n (1547733.79504233, 11497.34255872414),\n (1539107.0086380083, 10674.541379735487),\n (1527484.5542973466, 8723.506436851687),\n (1533140.3100963305, 10498.425799688392),\n (1543028.9414805386, 12035.458851042631),\n (1533854.084095244, 12097.484918791431),\n (1499515.3836034643, 12149.94235168824),\n (1523723.551550165, 11913.393214240588),\n (1524339.8690329934, 10728.38267972963),\n (1514103.5308307805, 9304.648818888209),\n (1550715.8822061208, 11497.992852468884),\n (1468973.751556037, 9404.011626398875),\n (1555551.7947113514, 14437.78648028586),\n (1545780.6434832187, 10129.869394628919),\n (1520395.1381547004, 9423.114240033088),\n (1541805.7324402411, 9881.729431178142),\n (1546442.6925364593, 9158.078163456117),\n (1531833.9698569973, 10263.941046132144),\n (1541512.1944809745, 10452.884620579633),\n (1547414.181061584, 10418.425378913389),\n (1514103.5308307805, 9404.698806188057),\n (1557207.4582598952, 8444.929115899535),\n (1573606.411799839, 10066.091362778645),\n (1506646.1879940697, 10039.5340812224),\n (1561240.40710688, 10728.292920957832),\n (1549860.6587080562, 10540.643387150933),\n (1555237.7961759667, 11041.857295349544),\n (1554255.2298848548, 11231.196853205882),\n (1535505.420317967, 8992.902589126606),\n (1531454.4726858942, 9887.498866121765),\n (1555305.7407168197, 12060.488737293252),\n (1543809.6472260572, 9459.833190960697),\n (1531199.6100093785, 10665.488424210422),\n (1524883.4736368705, 8806.335514703525),\n (1515887.2832532322, 9115.250921279387),\n (1537596.2881776914, 9630.777994621552),\n (1537952.7306199353, 11201.80287991643),\n (1555270.1705167955, 8341.610370900788),\n (1568833.1093526806, 12595.199749216756),\n (1540816.7268106947, 9429.423166439792),\n (1528011.5025680927, 9232.352826309894),\n (1524655.6333216568, 10618.358025665644),\n (1541581.1078687746, 10291.477117776705),\n (1543746.3642802758, 11429.025531183657),\n (1556514.8888306806, 11462.015003806542),\n (1551440.7042229099, 9707.694492880491),\n (1539133.8107505532, 7896.3666786250415),\n (1513512.5216207316, 11570.060361786818),\n (1529265.9959411293, 12385.715563233982),\n (1539834.05583444, 7868.410394669185),\n (1544832.769717361, 9787.047196093012),\n (1530948.8187719584, 8397.29691158237),\n (1526931.5856848892, 8778.486001379644),\n (1547631.0836989863, 12070.418391706304),\n (1532960.274341366, 11152.294715582568),\n (1557466.7363493026, 8153.157123499),\n (1555237.7961759667, 11534.797353177644),\n (1536606.9357976269, 9478.451652328888),\n (1558986.3553726412, 12411.03089994954),\n (1539834.05583444, 11034.965797401888),\n (1511272.4905061708, 9237.682942888126),\n (1528011.5025680927, 9517.889511659709),\n (1553344.051548054, 9860.5076343667),\n (1527867.8206815885, 11812.559617314919),\n (1518518.143030687, 12040.986619811343),\n (1525328.7957631652, 10623.18013226203),\n (1539133.8107505532, 9651.11482943057),\n (1514629.976551395, 12481.587864504485),\n (1544963.111180223, 8089.246787340535),\n (1547128.4721599633, 11692.41952595771),\n (1532460.7254666928, 7957.458121509237),\n (1547128.4721599633, 8894.233656497738),\n (1512890.7515656927, 11932.030147373991),\n (1551640.3802573276, 10062.704066682669),\n (1560778.614762986, 12205.953968704827),\n (1547733.79504233, 8897.943371534326),\n (1523830.0724995267, 13464.761786525678),\n (1514629.976551395, 11201.425006606594),\n (1538917.1378904334, 8049.414399643395),\n (1508683.4300732985, 9564.240051131514),\n (1510837.6585535917, 10375.179271807554),\n (1564454.2081331122, 11291.489462043979),\n (1544396.0592392432, 13972.342585756795),\n (1518110.130857988, 11333.710088885378),\n (1541805.7324402411, 11836.35723075187),\n (1513907.13354971, 11013.580046979527),\n (1548261.0052262181, 10739.925427360575),\n (1530381.4347730337, 10391.307459515248),\n (1533828.2883618558, 8791.405203892962),\n (1534224.7821510043, 9212.575777134025),\n (1526803.7154449967, 10175.763624038844),\n (1531544.438347733, 8586.81419665636),\n (1524228.1329156742, 10430.051221637357),\n (1521970.7762284179, 9923.095208848816),\n (1540115.8450327178, 9161.576077981945),\n (1556207.7477000698, 8780.392214318812),\n (1530044.244993755, 9779.337487498517),\n (1545780.6434832187, 10016.050637385883),\n (1522728.0817429938, 10026.410408079024),\n (1539719.1156726952, 10240.151349730362),\n (1552023.2990353038, 11698.766415813081),\n (1522468.0204805408, 12892.341966337686),\n (1479199.8251573518, 11660.720003283925),\n (1543809.6472260572, 12939.312065796808),\n (1530246.8213355495, 11236.372573093855),\n (1527896.671040282, 11639.376331813346),\n (1519383.610957153, 10742.684178608279),\n (1539133.8107505532, 11015.918946723825),\n (1536375.4373367545, 9849.369467673581),\n (1524672.307926717, 12335.459559923198),\n (1560778.614762986, 10336.57363115549),\n (1521221.931284069, 10593.849438336261),\n (1534324.2082861243, 8064.734931945691),\n (1540816.7268106947, 11000.993694179779),\n (1549860.6587080562, 8537.921143592272),\n (1466887.5891839592, 13514.126463419163),\n (1558311.1270174833, 9540.838753951453),\n (1494906.1924066078, 12364.017945769367),\n (1554150.51943246, 8636.35535305566),\n (1542948.2040464235, 10289.623712407018),\n (1547128.4721599633, 9493.844914239151),\n (1509877.706741954, 10482.718783646036),\n (1546519.4397870088, 8890.50669795012),\n (1529923.110510453, 9396.874428379777),\n (1553344.051548054, 10784.930225088627),\n (1524672.307926717, 12231.800235890192),\n (1572152.6012908986, 13490.529884828),\n (1498755.1787667074, 8658.233327221187),\n (1510459.476479796, 11078.973609395898),\n (1553774.2448014456, 11730.969831740242),\n (1552251.9677566944, 9542.840454538333),\n (1536154.6323977762, 10312.429421494075),\n (1563236.8982611336, 11949.40135858596),\n (1535613.9395127979, 9133.92907305464),\n (1553998.2216352483, 11509.088900241997),\n (1499515.3836034643, 12260.396373067184),\n (1540816.7268106947, 9534.194534955797),\n (1528410.801292823, 9560.146804871021),\n (1522652.7501197984, 9544.212902138843),\n (1520395.1381547004, 12207.216174588295),\n (1499515.3836034643, 9388.591817213573),\n (1559084.1171957536, 11343.272174085503),\n (1527896.671040282, 8285.657727731523),\n (1544832.769717361, 10472.140499819545),\n (1532061.1501927997, 9374.863995544261),\n (1558653.9236567786, 10211.915321850533),\n (1545952.4879055708, 10985.90118695547),\n (1539571.7040343161, 9444.875122448382),\n (1549234.2370290142, 14378.739797758242),\n (1526529.9216532737, 12364.326493687264),\n (1547018.1166281423, 9311.841959503708),\n (1526529.9216532737, 9104.6404180788),\n (1535625.8862632352, 8352.88201565076),\n (1545168.2994842737, 8375.734296203886),\n (1479199.8251573518, 10044.382577086159),\n (1524962.056122377, 10352.989910075037),\n (1533538.3856833575, 11683.656448679983),\n (1546476.7513768172, 8132.540590436217),\n (1522652.7501197984, 8900.782818848527),\n (1491855.4415617012, 12309.723203379106),\n (1519256.0931274972, 9202.13019863504),\n (1511700.387060644, 9551.757870833018),\n (1544175.3300148258, 11865.687376730144),\n (1544963.111180223, 8955.951800269871),\n (1537724.989688546, 10180.180697336673),\n (1533538.3856833575, 10198.445883169858),\n (1545789.487200645, 9036.678995911188),\n (1539471.2667146325, 11646.51763177541),\n (1545780.6434832187, 9788.41312289981),\n (1522468.0204805408, 12556.020001998424),\n (1524655.6333216568, 9073.869585568835),\n (1539471.2667146325, 10445.845710973868),\n (1532693.2861763076, 8880.036116465955),\n (1555305.7407168197, 11637.313693879487),\n (1536154.6323977762, 7880.252671141679),\n (1519814.9920796244, 9814.114355517422),\n (1520243.5028700647, 8739.670024744473),\n (1552251.9677566944, 9050.941462036355),\n (1526442.918635868, 9263.011876698049),\n (1552095.4230051315, 10840.281493280456),\n (1529923.110510453, 10753.124345877874),\n (1538244.473639039, 9727.097875695345),\n (1491051.1647507763, 9540.621662025376),\n (1540884.4838730774, 7874.161036671579),\n (1534599.86462878, 11780.524388628259),\n (1545872.8410843504, 9606.036361028324),\n (1496481.7215145202, 10362.327992973516),\n (1547556.1845979348, 9021.169554384454),\n (1550197.3998201834, 10609.666863617538),\n (1549675.6758699005, 10114.775193965781),\n (1534438.8601096738, 12089.028819130575),\n (1515314.184422118, 9928.806169224275),\n (1523978.058322394, 11095.942391055381),\n (1543746.3642802758, 10612.666564670528),\n (1549860.6587080562, 10751.45625489394),\n (1540115.8450327178, 8449.009049694527),\n (1513455.5557458787, 9593.90141746745),\n (1547556.1845979348, 8236.720027916199),\n (1544669.970720681, 11772.451487344693),\n (1510459.476479796, 11677.837047741636),\n (1546641.630727894, 10517.927119709739),\n (1534224.7821510043, 11590.014687362178),\n (1498003.4868091065, 10151.838693372794),\n (1542025.8431934533, 8791.239456808036),\n (1524971.031221139, 9943.00693374886),\n (1528609.603662595, 7617.419219028399),\n (1554404.8085476453, 9964.31003954486),\n (1517319.2841633393, 10480.075491210904),\n (1563424.1555752822, 10575.192877439838),\n (1540884.4838730774, 9794.688118786577),\n (1557466.7363493026, 9361.03225290625),\n (1537884.9472657542, 11587.274381683657),\n (1517665.7989162256, 10376.461081929938),\n (1510459.476479796, 9482.004440473995),\n (1529923.110510453, 8040.624510881688),\n (1532522.3732581097, 9115.066732164085),\n (1542068.4560984508, 13625.247065000704),\n (1483928.9264055542, 10934.640097676025),\n (1533538.3856833575, 9208.305506163066),\n (1533538.3856833575, 8713.235317659673),\n (1513202.3149985266, 9399.123239002294),\n (1548217.9154962935, 10829.990712431909),\n (1471045.903214997, 11943.228320097653),\n (1553986.6081105473, 13211.104601193189),\n (1521208.5066599026, 10998.235053586275),\n (1543809.6472260572, 8916.164616767566),\n (1536606.9357976269, 10818.838754678418),\n (1517647.0026216935, 12034.066124798659),\n (1504505.120615066, 11969.27828104863),\n (1554404.8085476453, 11716.27663990443),\n (1546929.9205705118, 11282.770796558436),\n (1485536.9844142864, 9194.652133728794),\n (1559084.1171957536, 11137.030861829382),\n (1526529.9216532737, 13375.953206807166),\n (1519814.9920796244, 8178.428629597924),\n (1525580.0381643148, 8171.845087105566),\n (1524655.6333216568, 8494.686420532516),\n (1560778.614762986, 11436.20912383154),\n (1503422.5515921789, 11654.162527745313),\n (1507705.1117398564, 10354.007361507665),\n (1560190.9184918923, 11804.101205655665),\n (1500603.214397697, 11941.662585394939),\n (1563424.1555752822, 12888.516319379829),\n (1528410.801292823, 11534.524949355298),\n (1512890.7515656927, 8331.848637390418),\n (1525290.4169380951, 11691.901941865479),\n (1522652.7501197984, 9865.92794378395),\n (1541405.0343992233, 10278.546213748908),\n (1540884.4838730774, 8354.292807200316),\n (1548217.9154962935, 13109.988757154451),\n (1514919.2139730514, 9778.86873502288),\n (1564454.2081331122, 10139.296659794598),\n (1547733.79504233, 9897.712289684263),\n (1540879.345162746, 9272.303947551343),\n (1535505.420317967, 8705.895059686378),\n (1534324.2082861243, 9327.886186346777),\n (1554150.51943246, 9640.582719690065),\n (1507705.1117398564, 9738.917815279461)]"
     },
     "execution_count": 8,
     "metadata": {},
     "output_type": "execute_result"
    }
   ],
   "source": [
    "cases_per_year_list"
   ],
   "metadata": {
    "collapsed": false,
    "pycharm": {
     "name": "#%%\n"
    }
   }
  },
  {
   "cell_type": "code",
   "execution_count": 9,
   "outputs": [],
   "source": [
    "with open('cases_per_year_list.pickle', 'wb') as handle:\n",
    "    pickle.dump(cases_per_year_list, handle, protocol=pickle.HIGHEST_PROTOCOL)"
   ],
   "metadata": {
    "collapsed": false,
    "pycharm": {
     "name": "#%%\n"
    }
   }
  }
 ],
 "metadata": {
  "kernelspec": {
   "display_name": "Python 3",
   "language": "python",
   "name": "python3"
  },
  "language_info": {
   "codemirror_mode": {
    "name": "ipython",
    "version": 2
   },
   "file_extension": ".py",
   "mimetype": "text/x-python",
   "name": "python",
   "nbconvert_exporter": "python",
   "pygments_lexer": "ipython2",
   "version": "2.7.6"
  }
 },
 "nbformat": 4,
 "nbformat_minor": 0
}