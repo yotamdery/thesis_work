{
 "cells": [
  {
   "cell_type": "markdown",
   "source": [
    "## This notebook produces cases per year for the mortality based simulation"
   ],
   "metadata": {
    "collapsed": false,
    "pycharm": {
     "name": "#%% md\n"
    }
   }
  },
  {
   "cell_type": "code",
   "execution_count": 1,
   "outputs": [],
   "source": [
    "import numpy as np\n",
    "import pandas as pd\n",
    "import itertools\n",
    "import pickle\n",
    "import datetime, random, copy\n",
    "import sys, os, tqdm\n",
    "\n",
    "import SEIR_full as mdl\n",
    "import SEIR_full.model as mdl\n",
    "import SEIR_full.calibration as mdl\n",
    "from SEIR_full.indices import *\n",
    "from SEIR_full.utils import *\n",
    "from SEIR_full.parameters import *"
   ],
   "metadata": {
    "collapsed": false,
    "pycharm": {
     "name": "#%%\n"
    }
   }
  },
  {
   "cell_type": "markdown",
   "source": [
    "* Fixing the ranges of the uncertainty factors that we're interested in:"
   ],
   "metadata": {
    "collapsed": false,
    "pycharm": {
     "name": "#%% md\n"
    }
   }
  },
  {
   "cell_type": "code",
   "execution_count": 2,
   "outputs": [],
   "source": [
    "# Creating a list of tuples, each tuple is a realization of randomly picked values for the factors that we change every iteration of the simulation\n",
    "np.random.seed(11)\n",
    "list_of_tuples = []\n",
    "for i in range(1000):\n",
    "    booster_eff = round(np.random.uniform(low=29.5001, high=95.5)) / 100     # Discrete uniform dist, booster_efficiency ~ U(30, 95), Updated in the model's object\n",
    "    inv_level = round(np.random.uniform(low=9.5001, high=20.5)) / 100       # Discrete uniform dist, booster_efficiency ~ U(10, 20), Updated in the simulation's settings\n",
    "    hosp_proba_scalar = round(np.random.uniform(low=0.8, high=1.2), 2)      # Continuous uniform dist, booster_efficiency ~ U(0.8, 1.2), Updated in the model's object\n",
    "    years_for_model_run = round(np.random.uniform(low=.5001, high=5.5))         # Discrete uniform dist, booster_efficiency ~ U(3, 10), Updated in the simulation's settings\n",
    "    list_of_tuples.append((booster_eff, inv_level, hosp_proba_scalar, years_for_model_run))"
   ],
   "metadata": {
    "collapsed": false,
    "pycharm": {
     "name": "#%%\n"
    }
   }
  },
  {
   "cell_type": "markdown",
   "source": [
    "* Fixing the static settings for all runs of the big loop"
   ],
   "metadata": {
    "collapsed": false,
    "pycharm": {
     "name": "#%% md\n"
    }
   }
  },
  {
   "cell_type": "code",
   "execution_count": 3,
   "outputs": [],
   "source": [
    "## DEFINING STATIC SETTINGS (INDEPENDENT IN THE DYNAMIC FACTORS) FOR THE SIMULATION RUN\n",
    "# Short path for the data directory\n",
    "DATA_DIR = r'/Users/yotamdery/Old_Desktop/git/SEIR_model_COVID-main/Data'\n",
    "# Reading the indices of the model - adding an hint to declare it's from type Indices!\n",
    "with(open(DATA_DIR + '/parameters/indices.pickle', 'rb')) as openfile:\n",
    "    ind:Indices = pickle.load(openfile)\n",
    "\n",
    "# Create indices for the age groups for easy & automatic access to the results of the operation in the script:\n",
    "age_groups_ind = {'5-9':0, '10-29':1, '30-59':2, '60+':3}\n",
    "\n",
    "# Reading the neutralized vectors:\n",
    "# Alpha variant vector\n",
    "with open(DATA_DIR + '/parameters/neutralized_alpha_variant_vec.pickle', 'rb') as pickle_in:\n",
    "\tneutralized_alpha_variant_vec = pickle.load(pickle_in)\n",
    "\n",
    "# Delta variant vector\n",
    "with open(DATA_DIR + '/parameters/neutralized_delta_variant_vec.pickle', 'rb') as pickle_in:\n",
    "\tneutralized_delta_variant_vec = pickle.load(pickle_in)\n",
    "\n",
    "# Beta_lockdown vector\n",
    "with open(DATA_DIR + '/parameters/neutralized_lockdown_vec.pickle', 'rb') as pickle_in:\n",
    "\tneutralized_lockdown_vec = pickle.load(pickle_in)\n",
    "\n",
    "# Beta_school vector\n",
    "with open(DATA_DIR + '/parameters/neutralized_school_vec.pickle', 'rb') as pickle_in:\n",
    "\tneutralized_school_vec = pickle.load(pickle_in)\n",
    "\n",
    "# Isolation morbidity ratio vector\n",
    "with open(DATA_DIR + '/parameters/neutralized_isolation_morbidity_ratio_vector.pickle', 'rb') as pickle_in:\n",
    "\tneutralized_isolation_morbidity_ratio_vector = pickle.load(pickle_in)\n",
    "\n",
    "# zero vector to remove any transition from V_2 and S_2 to V_3\n",
    "with open(DATA_DIR + '/parameters/neutralized_transition_rate_to_V_3.pickle', 'rb') as pickle_in:\n",
    "\tneutralized_transition_vector = pickle.load(pickle_in)\n"
   ],
   "metadata": {
    "collapsed": false,
    "pycharm": {
     "name": "#%%\n"
    }
   }
  },
  {
   "cell_type": "markdown",
   "source": [
    "* Utils functions:"
   ],
   "metadata": {
    "collapsed": false,
    "pycharm": {
     "name": "#%% md\n"
    }
   }
  },
  {
   "cell_type": "code",
   "execution_count": 4,
   "outputs": [],
   "source": [
    "# Getting the reported unreported ratio\n",
    "def get_reported_unreported_ratio(scen):\n",
    "    if scen == 'Scenario2':\n",
    "        reported = 1\n",
    "        unreported = 2\n",
    "        reported_unreported = unreported / (reported + unreported)\n",
    "    return reported_unreported\n",
    "\n",
    "# Getting all region,age combinations as a list\n",
    "def get_all_region_age_combinations():\n",
    "    \"\"\"This function returns a list of tuples of all region,risk,4-age_group combinations\"\"\"\n",
    "    counties_list = list(ind.region_dict.keys())\n",
    "    age_groups_list = list(age_groups_ind.keys())\n",
    "    return list(itertools.product(counties_list, age_groups_list))\n",
    "\n",
    "def region_age_groups_mapping(wanted_mapping: str):\n",
    "    \"\"\" This function gets a wanted mapping (4 examined age groups to 9 original model's age groups or vice versa),\n",
    "    and returns a dictionary consist of the wanted mapping\n",
    "    \"\"\"\n",
    "    # Initializing the final mapping to return and it's keys:\n",
    "    mapping_dict = {}\n",
    "    all_comb_4_age_groups_list = get_all_region_age_combinations()\n",
    "    if wanted_mapping == '4-to-9':\n",
    "        # Iterating over all possible combinations with the 4-age_groups:\n",
    "        for combination in all_comb_4_age_groups_list:\n",
    "            # The list that the current combination will map to\n",
    "            curr_res_list = []\n",
    "            # A list to iterate when building the curr_res_list - depending on the current and new age-group:\n",
    "            if combination[1] == '5-9':\n",
    "                correspondent_age_groups = ['5-9']\n",
    "            elif combination[1] == '10-29':\n",
    "                correspondent_age_groups = ['10-19', '20-29']\n",
    "            elif combination[1] == '30-59':\n",
    "                correspondent_age_groups = ['30-39', '40-49', '50-59']\n",
    "            else:\n",
    "                correspondent_age_groups = ['60-69', '70+']\n",
    "\n",
    "            # Appending to the curr_res_list to finalize the mapping:\n",
    "            for age_group in correspondent_age_groups:\n",
    "                curr_res_list.append((combination[0], age_group))\n",
    "\n",
    "            # Updating the final mapping_dict:\n",
    "            mapping_dict[combination] = curr_res_list\n",
    "    return mapping_dict\n",
    "\n",
    "# Getting all region,risk,age combinations as a list\n",
    "def get_all_region_risk_age_combinations():\n",
    "    \"\"\"This function returns a list of tuples of all region,risk,4-age_group combinations\"\"\"\n",
    "    counties_list = list(ind.region_dict.keys())\n",
    "    risk_list = ['High', 'Low']\n",
    "    age_groups_list = list(age_groups_ind.keys())\n",
    "    return list(itertools.product(counties_list, risk_list, age_groups_list))\n",
    "\n",
    "def region_risk_age_groups_mapping(wanted_mapping: str):\n",
    "    \"\"\" This function gets a wanted mapping (4 examined age groups to 9 original model's age groups or vice versa),\n",
    "    and returns a dictionary consist of the wanted mapping\n",
    "    \"\"\"\n",
    "    # Initializing the final mapping to return and it's keys:\n",
    "    mapping_dict = {}\n",
    "    all_comb_4_age_groups_list = get_all_region_risk_age_combinations()\n",
    "    if wanted_mapping == '4-to-9':\n",
    "        # Iterating over all possible combinations with the 4-age_groups:\n",
    "        for combination in all_comb_4_age_groups_list:\n",
    "            # The list that the current combination will map to\n",
    "            curr_res_list = []\n",
    "            # A list to iterate when building the curr_res_list - depending on the current and new age-group:\n",
    "            if combination[2] == '5-9':\n",
    "                correspondent_age_groups = ['5-9']\n",
    "            elif combination[2] == '10-29':\n",
    "                correspondent_age_groups = ['10-19', '20-29']\n",
    "            elif combination[2] == '30-59':\n",
    "                correspondent_age_groups = ['30-39', '40-49', '50-59']\n",
    "            else:\n",
    "                correspondent_age_groups = ['60-69', '70+']\n",
    "\n",
    "            # Appending to the curr_res_list to finalize the mapping:\n",
    "            for age_group in correspondent_age_groups:\n",
    "                curr_res_list.append((combination[0], combination[1], age_group))\n",
    "\n",
    "            # Updating the final mapping_dict:\n",
    "            mapping_dict[combination] = curr_res_list\n",
    "    return mapping_dict\n",
    "\n",
    "def get_indexes_region_risk_age_combination(region_risk_age_group: tuple):\n",
    "    \"\"\"This function gets a tuple of (region, risk, 4_age_group) and returns the indexes of that combination as they are in the original model (including transformation to the 9 original age groups. e.g.: for (1101, 'High', '10-29'), returns the indexes for (1101, 'High', '10-19') + (1101, 'High', '20-29')\"\"\"\n",
    "    # Initializing the result list and the age groups mapper:\n",
    "    indexes_list_of_lists = []\n",
    "    four_to_nine_age_map = region_risk_age_groups_mapping('4-to-9')\n",
    "    for val in four_to_nine_age_map[region_risk_age_group]:\n",
    "        indexes_list_of_lists.append(ind.region_risk_age_dict[val])\n",
    "    # Merging the list of lists to one list:\n",
    "    region_risk_age_indexes_list = [item for sublist in indexes_list_of_lists for item in sublist]\n",
    "    return sorted(region_risk_age_indexes_list)\n",
    "\n",
    "# Getting the current lambda_t for the current combination of (region, 4-age_group):\n",
    "def get_current_lambda_t(curr_res_mdl_1_ml: dict, target_region_risk_4age_group: tuple):\n",
    "    # Getting the lambda of the last day of the current model, and the region,4-age_group mapping:\n",
    "    lambda_last_day = np.reshape(curr_res_mdl_1_ml['L_2'][-1, :], newshape=(540))\n",
    "    four_to_nine_age_map = region_age_groups_mapping('4-to-9')\n",
    "    # Initializing the final proportion for the current compartment that we want to calculate:\n",
    "    final_prop_for_comp = 0\n",
    "    # Iterating on each correspondent combination of (region, 9-age_group) to aggregate on:\n",
    "    for val in four_to_nine_age_map[target_region_risk_4age_group]:\n",
    "        # Getting the index of the current (region, risk, 9-age_group)\n",
    "        correspondent_index = ind.region_age_dict[val]\n",
    "        # Adding the value of current (region, risk, 9-age_group)\n",
    "        final_prop_for_comp += lambda_last_day[correspondent_index].sum()\n",
    "\n",
    "    return final_prop_for_comp\n",
    "\n",
    "def calc_comp_prop_for_region_risk_age(comp: str, curr_res_mdl_1_ml: dict, target_region_risk_4age_group: tuple):\n",
    "    \"\"\"This function gets the target compartment, the current predictions of the current model, and the wanted combination of (region, risk, 4-age_group),\n",
    "    and returns the compartment aggregated by the wanted combination of (region, risk, 4-age_group) - (aggregated from (region, risk, 9-age_group))\"\"\"\n",
    "    # Getting the last day of the compartment, and the needed age-groups mapping:\n",
    "    comp_last_day = np.reshape(curr_res_mdl_1_ml[comp][-1, :], newshape=(540))\n",
    "    four_to_nine_age_map = region_risk_age_groups_mapping('4-to-9')\n",
    "    # Initializing the final proportion for the current compartment that we want to calculate:\n",
    "    final_prop_for_comp = 0\n",
    "    # Iterating on each correspondent combination of (region, risk, 9-age_group) to aggregate on:\n",
    "    for val in four_to_nine_age_map[target_region_risk_4age_group]:\n",
    "        # Getting the index of the current (region, risk, 9-age_group)\n",
    "        correspondent_index = ind.region_risk_age_dict[val]\n",
    "        # Adding the value of current (region, risk, 9-age_group)\n",
    "        final_prop_for_comp += float(comp_last_day[correspondent_index][0])\n",
    "\n",
    "    return final_prop_for_comp\n",
    "\n",
    "def calc_rho_or_f_prop_for_region_risk_age(rho_or_f_j: np.array, target_region_risk_4age_group: tuple):\n",
    "    \"\"\"This function gets the model_1_ml.rho and the wanted combination of (region, risk, 4-age_group),\n",
    "    and returns rho aggregated by the wanted combination of (region, risk, 4-age_group) - (aggregated from (region, risk, 9-age_group))\"\"\"\n",
    "    four_to_nine_age_map = region_risk_age_groups_mapping('4-to-9')\n",
    "    ## Calculating the final proportion of rho or f_j as a weighted sum using the distribution of S(0) (population_size):\n",
    "    # Initializing the proportions for the weighted sum:\n",
    "    S0_list = []\n",
    "    rho_or_f_j_list = []\n",
    "    # Iterating on each correspondent combination of (region, risk, 9-age_group) and append to the relevant list:\n",
    "    for val in four_to_nine_age_map[target_region_risk_4age_group]:\n",
    "        # Getting the index of the current (region, risk, 9-age_group)\n",
    "        correspondent_index = ind.region_risk_age_dict[val]\n",
    "        # Adding the value of current (region, risk, 9-age_group)\n",
    "        S0_list.append(population_size[correspondent_index][0])\n",
    "        rho_or_f_j_list.append(rho_or_f_j[correspondent_index][0])\n",
    "\n",
    "    ## Calculating the weighted sum:\n",
    "    # Init the lists to calc the expression\n",
    "    numerator = []\n",
    "    denominator = []\n",
    "    for i in range(len(S0_list)):\n",
    "        numerator.append(S0_list[i]*rho_or_f_j_list[i])\n",
    "        denominator.append(S0_list[i])\n",
    "    # Returning the final and weighted probability value:\n",
    "    final_weighted_sum_proba = np.sum(numerator) / np.sum(denominator)\n",
    "    return final_weighted_sum_proba\n",
    "\n",
    "def update_compartment(curr_res_mdl_1_ml: dict, compartment: str, updated_array: np.array):\n",
    "    \"\"\"This function gets the current models' predictions, the compartment to update and the updated array, and updates the model object with the updated array\"\"\"\n",
    "    # Initiate settings:\n",
    "    curr_res_mdl_1_ml[compartment][-1] = updated_array\n",
    "    comp_as_list = []\n",
    "    # Changing the updated arrays to be lists of arrays (to allow the update of the model object):\n",
    "    for element in curr_res_mdl_1_ml[compartment]:\n",
    "        comp_as_list.append(element)\n",
    "\n",
    "    # Performing the proper model update\n",
    "    model_1_ml.update({\n",
    "        compartment : comp_as_list\n",
    "    })\n",
    "\n",
    "# Defining the model - initializing it for t=0:\n",
    "def defining_model(scen):\n",
    "    model_1_ml_ = mdl.Model_behave(\n",
    "    ind=ind,\n",
    "    beta_j=cal_parameters[scen]['beta_j'],\n",
    "    beta_activity=cal_parameters[scen]['beta_activity'],\n",
    "    beta_school=cal_parameters[scen]['beta school'],\n",
    "    scen=scen\n",
    "    )\n",
    "    # Predicting without an assignment (there's no need for that)\n",
    "    model_1_ml_.predict(\n",
    "        days_in_season= 529,    # Num of days between 15/05/20 - 25/10/21\n",
    "        shifting_12_days= True\n",
    "    )\n",
    "    # Updating the vectors to be able to run the model furthermore:\n",
    "    model_1_ml_.update({\n",
    "        'alpha_variant_vec':  neutralized_alpha_variant_vec,\n",
    "        'delta_variant_vec': neutralized_delta_variant_vec,\n",
    "        'isolation_morbidity_ratio_vector': neutralized_isolation_morbidity_ratio_vector,\n",
    "        'is_lockdown': neutralized_lockdown_vec,\n",
    "        'is_school': neutralized_school_vec,\n",
    "        'v2_to_v3_transition_t' : neutralized_transition_vector,\n",
    "        's_2_to_v3_transition_t' : neutralized_transition_vector\n",
    "    })\n",
    "    return model_1_ml_\n",
    "\n",
    "# Update model for current variables of uncertainty:\n",
    "def update_models_object(mdl_1_ml: mdl.Model_behave, realization: tuple):\n",
    "    new_rho = mdl_1_ml.rho * realization[2]\n",
    "    mdl_1_ml.update({\n",
    "        'booster_efficiency': realization[0],\n",
    "        'rho': new_rho\n",
    "    })"
   ],
   "metadata": {
    "collapsed": false,
    "pycharm": {
     "name": "#%%\n"
    }
   }
  },
  {
   "cell_type": "markdown",
   "source": [
    "#### Getting the vaccinations priority queue:"
   ],
   "metadata": {
    "collapsed": false,
    "pycharm": {
     "name": "#%% md\n"
    }
   }
  },
  {
   "cell_type": "code",
   "execution_count": 5,
   "outputs": [],
   "source": [
    "def get_vaccination_pq(curr_res_mdl_1_ml: dict):\n",
    "    \"\"\"This function gets the current model and returns the final priority queue for all combinations of (county, risk, 4-age_group)\"\"\"\n",
    "    # Initialize settings: final priority queue to return (as a dictionary, not sorted), the 4-9 age-groups mapper, and the reported/unreported ratio:\n",
    "    vaccination_que = {}\n",
    "    reported_unreported = get_reported_unreported_ratio('Scenario2')\n",
    "    comp_list = ['S_2', 'V_2', 'R_1', 'R_2', 'L_2']\n",
    "    mapping_4_to_9 = region_risk_age_groups_mapping('4-to-9')\n",
    "\n",
    "    for key, val in mapping_4_to_9.items():\n",
    "        # Getting the proportion value for each compartment[region,risk,4-age_group], save it as a list such that the order is exactly - [S_2, V_2, R_1, R_2, L_2]\n",
    "        current_comp_prop_list = []\n",
    "        # For each compartment - calculate its value of (region, risk, 4-age_group):\n",
    "        for comp in comp_list:\n",
    "            # If we assess the proportion of the force of infection, the calculation is different (lambda_t depends only on (region,age))\n",
    "            if comp != 'L_2':\n",
    "                current_comp_prop_list.append(calc_comp_prop_for_region_risk_age(comp, curr_res_mdl_1_ml, key))\n",
    "            else:\n",
    "                current_comp_prop_list.append(get_current_lambda_t( curr_res_mdl_1_ml, (key[0], key[2]) ))\n",
    "        # getting the proportion value for model_1_ml.rho:\n",
    "        hosp_proba = calc_rho_or_f_prop_for_region_risk_age(model_1_ml.rho , key)\n",
    "        # getting the proportion value for model_1_ml.f[model_1_ml.scen]:\n",
    "        f_j = calc_rho_or_f_prop_for_region_risk_age(model_1_ml.f[model_1_ml.scen] , key)\n",
    "        # Calculating the hospitalization probability measurement:\n",
    "        comps = current_comp_prop_list      # To shorten the code\n",
    "        V_2_eff = 1-0.94        # Effectiveness of second dose to prevent infection\n",
    "        scoring_index = ( (comps[0] + (comps[2]+comps[3])*reported_unreported + (comps[1]*(V_2_eff))) * comps[4] * ((1-f_j)*model_1_ml.delta) * hosp_proba ) \\\n",
    "                        / (comps[0] + comps[1] + (comps[2]+comps[3])*reported_unreported)\n",
    "        # Assigning the scoring measurement to the correspondent combination of (region,risk,4-age_group)\n",
    "        vaccination_que[key] = scoring_index\n",
    "    # Sorting the dict to get a \"priority queue\" - receiving a list of tuples:\n",
    "    vaccination_que = sorted(vaccination_que.items(), key=lambda x: x[1], reverse= True)\n",
    "\n",
    "    return vaccination_que"
   ],
   "metadata": {
    "collapsed": false,
    "pycharm": {
     "name": "#%%\n"
    }
   }
  },
  {
   "cell_type": "markdown",
   "source": [
    "#### calculating the transferring proportion:"
   ],
   "metadata": {
    "collapsed": false,
    "pycharm": {
     "name": "#%% md\n"
    }
   }
  },
  {
   "cell_type": "code",
   "execution_count": 6,
   "outputs": [],
   "source": [
    "def calc_trans_prop(vaccination_pq_: list, curr_res_mdl_1_ml: dict, curr_inv: float):\n",
    "    # Initializing the accumulated amount used and the priority queue:\n",
    "    curr_inventory_used = 0\n",
    "    vaccination_pq_copy = vaccination_pq_.copy()\n",
    "    # Saving the combinations that we will vaccinate:\n",
    "    vaccinated_que_ = []\n",
    "    # Iterating until we cross the prior inventory level:\n",
    "    while (curr_inventory_used <= curr_inv):\n",
    "        # Getting the current combination of (age_group, risk) from the pq:\n",
    "        current_county_risk_age = vaccination_pq_copy.pop(0)[0]\n",
    "        # Getting the correspondent reported/unreported ratio for the Scenario:\n",
    "        reported_unreported = get_reported_unreported_ratio('Scenario2')\n",
    "        # Getting R2_(j,r), R1_(j,r), V2_(j,r), S2_(j,r) proportions:\n",
    "        R_2_risk_age, R_1_risk_age, S_2_risk_age, V_2_risk_age = calc_comp_prop_for_region_risk_age('R_2', curr_res_mdl_1_ml, current_county_risk_age), \\\n",
    "                                                                 calc_comp_prop_for_region_risk_age('R_1', curr_res_mdl_1_ml, current_county_risk_age), \\\n",
    "                                                                 calc_comp_prop_for_region_risk_age('S_2', curr_res_mdl_1_ml, current_county_risk_age), \\\n",
    "                                                                 calc_comp_prop_for_region_risk_age('V_2', curr_res_mdl_1_ml, current_county_risk_age)\n",
    "        # Calculating the formula for num of needed vaccines:\n",
    "        count_vaccines_in_use = ( ((R_1_risk_age + R_2_risk_age) * reported_unreported) + S_2_risk_age + V_2_risk_age) * pop_israel\n",
    "        # Updating the accumulated used vaccines:\n",
    "        curr_inventory_used += count_vaccines_in_use\n",
    "        # Updating the vaccinated_que:\n",
    "        vaccinated_que_.append(current_county_risk_age)\n",
    "\n",
    "    final_trans_prop = curr_inv / curr_inventory_used\n",
    "    return final_trans_prop, vaccinated_que_"
   ],
   "metadata": {
    "collapsed": false,
    "pycharm": {
     "name": "#%%\n"
    }
   }
  },
  {
   "cell_type": "markdown",
   "source": [
    "#### Vaccinating in booster dose:"
   ],
   "metadata": {
    "collapsed": false,
    "pycharm": {
     "name": "#%% md\n"
    }
   }
  },
  {
   "cell_type": "code",
   "execution_count": 7,
   "outputs": [],
   "source": [
    "### Vaccinating in booster (moving from S_2 and V_2 to V_3, including the model update):\n",
    "def vaccinate(trans_prop_: float, curr_res_mdl_1_ml: dict, vaccination_que: list):\n",
    "    ## initialize settings:\n",
    "    vaccination_que_copy = vaccination_que.copy()\n",
    "    trans_prop_copy = trans_prop_\n",
    "    reported_unreported = get_reported_unreported_ratio('Scenario2')\n",
    "    # Getting the last day of the compartments and V_3, saving it to a dictionary:\n",
    "    last_day_dict = {'S_2_last_day': np.reshape(curr_res_mdl_1_ml['S_2'][-1, :], newshape=(540) ),\n",
    "                     'V_2_last_day': np.reshape(curr_res_mdl_1_ml['V_2'][-1, :], newshape=(540) ),\n",
    "                     'V_3_last_day': np.reshape(curr_res_mdl_1_ml['V_3'][-1, :], newshape=(540) )}\n",
    "\n",
    "    # Iterating over the combinations of (risk, age_group) that we need to vaccinate, and moving the population, and updating the model:\n",
    "    for curr_risk_age in vaccination_que_copy:\n",
    "        # Getting the relevant indexes to operate in the correspondent locations of the compartment:\n",
    "        curr_risk_age_indexes = get_indexes_region_risk_age_combination(curr_risk_age)\n",
    "\n",
    "        ## Vaccinating from S_2 to V_3\n",
    "        S_2_last_day_updated, V_3_last_day_updated = vaccinating_from_V_2_S_2(last_day_dict['V_3_last_day'], last_day_dict['S_2_last_day'], trans_prop_copy, curr_risk_age_indexes)\n",
    "        # updating the results:\n",
    "        last_day_dict['V_3_last_day'], last_day_dict['S_2_last_day'] = V_3_last_day_updated, S_2_last_day_updated\n",
    "\n",
    "        ## Vaccinating from V_2 to V_3\n",
    "        V_2_last_day_updated, V_3_last_day_updated = vaccinating_from_V_2_S_2(last_day_dict['V_3_last_day'], last_day_dict['V_2_last_day'], trans_prop_copy, curr_risk_age_indexes)\n",
    "        # updating the results:\n",
    "        last_day_dict['V_3_last_day'], last_day_dict['V_2_last_day'] = V_3_last_day_updated, V_2_last_day_updated\n",
    "\n",
    "    update_compartment(curr_res_mdl_1_ml, 'V_2', last_day_dict['V_2_last_day'])\n",
    "    update_compartment(curr_res_mdl_1_ml, 'S_2', last_day_dict['S_2_last_day'])\n",
    "    update_compartment(curr_res_mdl_1_ml, 'V_3', last_day_dict['V_3_last_day'])"
   ],
   "metadata": {
    "collapsed": false,
    "pycharm": {
     "name": "#%%\n"
    }
   }
  },
  {
   "cell_type": "markdown",
   "source": [
    "### Main - 1000 iterations of the Sim:"
   ],
   "metadata": {
    "collapsed": false,
    "pycharm": {
     "name": "#%% md\n"
    }
   }
  },
  {
   "cell_type": "code",
   "execution_count": 8,
   "outputs": [
    {
     "name": "stderr",
     "output_type": "stream",
     "text": [
      "tqdm() Progress Bar: 100%|██████████| 1000/1000 [6:18:12<00:00, 22.69s/it] \n"
     ]
    }
   ],
   "source": [
    "# A list to hold 1000 realizations of cases per year:\n",
    "cases_per_year_list = []\n",
    "\n",
    "# Big loop run:\n",
    "for tup in tqdm.tqdm(list_of_tuples, desc= 'tqdm() Progress Bar'):\n",
    "    # Initializing the model's object (and its predictions) to t=0:\n",
    "    model_1_ml = defining_model('Scenario2')\n",
    "    # Settings:\n",
    "    update_models_object(model_1_ml, tup)       # Updating the v3_efficiency and the proba for hosp\n",
    "    inv_level = tup[1] * pop_israel             # Updating the inventory level\n",
    "    years_for_model_run = tup[3]                # Updating the years for the model to run for\n",
    "\n",
    "    # Running the model for X years, in 6 months resolution\n",
    "    for i in range(years_for_model_run*2):\n",
    "        # Running until the vaccination month:\n",
    "        for j in range(1):\n",
    "            res_mdl_1_ml = model_1_ml.predict(\n",
    "                            days_in_season= 30,\n",
    "                            continuous_predict= True\n",
    "                            )\n",
    "            # Getting the vaccination priority_que:\n",
    "            vaccination_pq = get_vaccination_pq(res_mdl_1_ml)\n",
    "            # Getting the proportion of transition, and the combinations that we vaccinate:\n",
    "            trans_prop, vaccinated_que = calc_trans_prop(vaccination_pq, res_mdl_1_ml, inv_level)\n",
    "            # Vaccinating (including the model update):\n",
    "            vaccinate(trans_prop, res_mdl_1_ml, vaccinated_que)\n",
    "\n",
    "        # Running the model until the end of the current \"single\" run (half a year)\n",
    "        for k in range(5):\n",
    "            res_mdl_1_ml = model_1_ml.predict(\n",
    "                days_in_season= 30,\n",
    "                continuous_predict= True\n",
    "            )\n",
    "\n",
    "    ## Calculating the cases per year index for every measurement:\n",
    "    tot_new_Is = np.add(res_mdl_1_ml['new_Is_1'].sum(axis=1) * pop_israel, res_mdl_1_ml['new_Is_2'].sum(axis=1) * pop_israel)\n",
    "    tot_new_H = np.add(res_mdl_1_ml['new_H_1'].sum(axis=1) * pop_israel, res_mdl_1_ml['new_H_2'].sum(axis=1) * pop_israel)\n",
    "    # Transferring to cumulative sum:\n",
    "    cumsum_tot_new_Is, cumsum_tot_new_H = np.cumsum(tot_new_Is), np.cumsum(tot_new_H)\n",
    "    # Performing the calculation itself:\n",
    "    cases_per_year_new_Is, cases_per_year_new_H = (cumsum_tot_new_Is[-1] - cumsum_tot_new_Is[528]) / years_for_model_run, (cumsum_tot_new_H[-1] - cumsum_tot_new_H[528]) / years_for_model_run\n",
    "    cases_per_year_list.append((cases_per_year_new_Is, cases_per_year_new_H))"
   ],
   "metadata": {
    "collapsed": false,
    "pycharm": {
     "name": "#%%\n"
    }
   }
  },
  {
   "cell_type": "code",
   "execution_count": 9,
   "outputs": [
    {
     "data": {
      "text/plain": "[(1452400.2401517702, 8878.257292635724),\n (1292389.723714017, 6698.001066737955),\n (777815.9973376539, 6332.832431089872),\n (861854.5012450024, 4388.481117482493),\n (1490981.6356789966, 9984.742089552828),\n (940137.9916347563, 5892.605758388383),\n (1468041.75968421, 10191.60149307172),\n (1435261.9354742712, 8400.696480969511),\n (1101624.6836048162, 6239.095056705702),\n (1051793.7783350842, 5103.003435065628),\n (1447556.9190953418, 8220.629766851347),\n (1450034.3363608061, 9710.645590165766),\n (1039014.9410963638, 7120.253407049732),\n (1413577.8783322915, 11704.111112420576),\n (1417448.3872873785, 8158.5346920232505),\n (929051.4507270055, 5965.588129798892),\n (962502.9177090542, 5791.79459455872),\n (1008478.083504986, 5608.687435380695),\n (1061231.4529907242, 7017.147279146264),\n (1371053.4182380224, 6517.97569658076),\n (1252041.3694694166, 8815.733781334375),\n (1384317.3418175832, 9156.723848753758),\n (977313.3646447682, 6125.454127207758),\n (1343536.0499695067, 8185.801119463554),\n (1314006.010985139, 8705.953891908799),\n (1381356.668184484, 10576.03953211259),\n (1351470.4606175537, 9311.364384774128),\n (1286429.1860170066, 9301.798915392981),\n (1324041.451088703, 8309.81186677931),\n (1078477.7503013099, 7049.9456005816755),\n (1093819.9459479013, 7690.144284688548),\n (1200460.4393195044, 7273.46595279099),\n (709329.701250894, 5713.736412271477),\n (1250704.4024872598, 9549.107168944769),\n (1120082.0857948014, 5799.160148367833),\n (1029326.8539178448, 7446.147919110179),\n (1118903.0844644175, 7719.716340968944),\n (1330305.4120625444, 9359.0744719315),\n (1401960.1600007038, 8689.060210552296),\n (1307863.615410637, 6830.184138068221),\n (1400595.6624375274, 12148.02150002705),\n (1383172.9448157176, 10174.966916043779),\n (1117678.9898983575, 7955.586575609894),\n (1250347.7268655966, 7510.181771749599),\n (1372601.609953216, 6657.772179270963),\n (1363091.1195693696, 8815.955490037795),\n (1185675.3463370732, 5611.45393474211),\n (1288534.802947108, 7595.767539001895),\n (1249444.654092174, 7639.3546861672685),\n (1367901.5732967034, 7138.889623752258),\n (1424455.8795880747, 9818.469724160574),\n (1170646.8030889821, 8269.421133291227),\n (1106638.6876257253, 6459.920862058845),\n (1193568.0957515375, 7216.6900637425915),\n (1321381.722594103, 8777.357577674387),\n (1124672.528869026, 6099.068831814205),\n (1322764.790517954, 7492.615177132981),\n (1362140.7938188643, 8428.26894538171),\n (1376205.6166255814, 7220.612636984641),\n (804058.570525759, 5636.443819045937),\n (1082213.2840085323, 6534.965117713111),\n (1339622.435211378, 7470.979856348537),\n (1383333.717141594, 8762.815627476044),\n (1031864.7035583125, 4814.449194657594),\n (1158422.18784406, 7771.939697348511),\n (1189582.5654868872, 6629.761780382771),\n (1187206.8208753096, 6558.071147579109),\n (1267889.9582924764, 8399.604622203751),\n (1274135.9895347366, 6695.915781600983),\n (1119686.4231011807, 5486.892501881758),\n (932973.823500742, 6049.2821387084605),\n (1441027.8315208363, 8946.544262705745),\n (1484282.3576267534, 9834.617049515226),\n (1453231.1018868245, 7293.55656585954),\n (1396798.2413898746, 11288.681277569844),\n (1325440.788033131, 6528.165327441006),\n (1091449.685302069, 6026.422088593076),\n (1445527.3790541408, 10011.986608999307),\n (1487731.304040625, 10912.875116492116),\n (1028538.4466037685, 5883.928941840729),\n (1327130.582179333, 7414.974234384214),\n (1021411.3000713026, 6064.307401883448),\n (1361830.957015266, 8503.329660543985),\n (1396929.1585381746, 8199.332658638845),\n (1416550.578991816, 11226.623890346735),\n (1033231.3830865137, 5524.624549786408),\n (1139652.448982021, 7827.345384349829),\n (1222751.0157151304, 6069.82611844199),\n (1248333.669709069, 5997.904942760217),\n (1351916.8318854326, 8643.543815665307),\n (758701.1212280648, 4548.529635585643),\n (1335466.409028905, 9589.62099901326),\n (1301729.7472352032, 8593.118996353456),\n (1450764.486624086, 8758.091621960315),\n (1400397.0674639465, 10152.812591100179),\n (1156187.0289495054, 6596.898606102384),\n (1341315.3625584876, 7260.124739713116),\n (1142679.4896531035, 6525.693316584326),\n (1053744.0295376324, 5808.701451926161),\n (1031944.7833952928, 8382.783291733007),\n (1238228.1580112025, 7979.41038950349),\n (1401953.8495306813, 9686.16961034995),\n (1163007.1620581998, 9749.682348850001),\n (1060644.492362892, 7242.544131195055),\n (1329911.929539522, 10149.27246371285),\n (1277239.6551482992, 7439.571374196234),\n (1290558.5100223003, 7136.492364855679),\n (1125660.404425868, 6803.669582481705),\n (1361246.6445778783, 9303.728073184577),\n (1287822.2156383863, 10381.082231946884),\n (1036330.6981602147, 6277.9231344992495),\n (1222569.6270826517, 9149.047448069316),\n (1464005.4913677212, 10026.075665227288),\n (1277207.6653959833, 8335.271745251539),\n (1261911.8977382532, 8358.6565669706),\n (1247382.416684528, 8875.287193766897),\n (1093786.1073330876, 7152.067776131202),\n (1423848.6253606807, 8743.72344858839),\n (1365941.4317200019, 11453.438430382326),\n (1209931.788553933, 6958.614526293798),\n (1133900.9668648099, 8621.374779904778),\n (1010217.4521691119, 5824.806372671581),\n (1204409.0755299523, 7090.133200734115),\n (895588.6359812316, 5922.680916038083),\n (1063146.8125205543, 5341.511837775103),\n (1399932.0828630945, 8414.928556517794),\n (1069797.148147755, 6560.248789703796),\n (1336062.2736586344, 8195.381172757827),\n (1182808.294923486, 6963.12689535044),\n (1268966.0702187617, 7228.039829494988),\n (1383089.8821804426, 7052.924278499346),\n (1153518.1355994996, 8790.614915438628),\n (1088571.8732536696, 6276.392286082246),\n (1457089.8584168446, 9650.867478829534),\n (1387435.0116127713, 7606.084169361871),\n (1264043.3726876993, 7976.530755685415),\n (1290180.6327011024, 10641.174417493416),\n (1272038.3729212643, 9155.593620807178),\n (1400470.2149045672, 7865.7294644735675),\n (1030639.2753986466, 5612.189737130785),\n (952564.1152037155, 6402.341452665133),\n (1184951.3372669416, 9383.94774853139),\n (1266050.8317317925, 7296.941874599065),\n (1306121.941218992, 7590.519457169339),\n (891758.907607321, 5562.060380595812),\n (1195776.7566855059, 9438.175501603466),\n (1126660.4691306946, 6925.499889148858),\n (1402538.4586466139, 9879.194198217188),\n (1383990.717291777, 9858.399910444628),\n (1435261.9354742712, 8050.667460929108),\n (1457794.3613469424, 11070.489636917899),\n (1014600.537955913, 6335.725805720389),\n (1445527.3790541408, 7508.989956749481),\n (975479.1037395648, 6728.452917069301),\n (829512.0218308326, 4927.7999843878715),\n (966111.9219422908, 4855.4502454059575),\n (1455393.325701239, 8429.445315805338),\n (1465125.4759696093, 8418.210394519843),\n (1031062.8700300618, 7260.636954994582),\n (1297554.3934118506, 6495.458809311434),\n (1273628.516224547, 8172.174706482972),\n (1424341.107892576, 10494.044092769667),\n (1423191.1770898337, 8950.552865179336),\n (1266406.7079528891, 8642.765065374002),\n (1105685.0325453961, 7147.38036530827),\n (1436884.5881037768, 8854.33613683019),\n (1124438.744122588, 5561.476509972745),\n (1412594.366987, 10218.364915608623),\n (1443117.2829100562, 12465.100199584187),\n (1434432.3730296977, 8651.331488627822),\n (1129063.089589649, 7947.450080774283),\n (1473000.3617242847, 12779.766587834662),\n (1464638.5785497313, 9205.86442580711),\n (1231175.1742319053, 7352.248339832907),\n (1304574.7094649358, 6828.50086674758),\n (1231277.327209485, 6438.511043208156),\n (1251068.4120228188, 9189.863294771432),\n (1286904.63241445, 8931.092543273255),\n (1333231.5942332349, 8052.730587939535),\n (1165624.004681786, 6580.31450397258),\n (1259536.1525247262, 10688.231586363445),\n (881838.7122046968, 5625.760315804662),\n (1336530.6873959159, 9467.876332065127),\n (1316799.378273299, 9035.814661961533),\n (787488.8165692331, 4223.376291629664),\n (975479.1037395648, 6163.036705550847),\n (1019358.4013870914, 8140.611995704135),\n (1235333.8453536264, 7000.607413001819),\n (1204490.925120278, 6912.973700267461),\n (1138212.8016601806, 6608.508725580725),\n (1082213.2840085323, 7226.163351317374),\n (1286295.2881388962, 6912.2007507814415),\n (1054043.624622665, 5039.425870636451),\n (1106812.8143208886, 5580.101207238673),\n (1424500.8105306737, 8362.827016651809),\n (1335556.2550206264, 8257.63432814306),\n (1206069.8951942388, 7502.10452163461),\n (1185260.7576341375, 6799.199601763177),\n (1188984.3389644513, 7832.317728075844),\n (990762.6032391253, 4534.2153678707855),\n (1196881.5342729206, 7689.623085177286),\n (1417448.3872873785, 8335.894141849825),\n (858050.4679301182, 5521.719616591598),\n (1495182.405872674, 11747.099588673273),\n (1319288.5679891675, 10300.349713498688),\n (1138244.275786173, 8094.528295308912),\n (969600.498005893, 5692.876418396656),\n (1299379.3011039398, 8034.781085273684),\n (1058975.400198236, 8585.571488911082),\n (1293038.0702119118, 7986.0178433380715),\n (1320740.1522260052, 6908.8117621895835),\n (993793.5646650547, 5833.355316648346),\n (1324768.7198165571, 9482.29245388552),\n (1339121.5507857075, 6925.9853717397955),\n (1315431.1747425667, 8177.530830215595),\n (1075285.549859432, 6114.828729952264),\n (1180183.8942969006, 7273.793626521248),\n (1457821.8566948536, 11595.516105634086),\n (1244228.1415087047, 7408.046313129911),\n (1278202.6476161727, 9816.400857119126),\n (1444145.8019319656, 8229.367496721088),\n (1015199.6848565766, 6060.5733388185645),\n (1272473.0546320884, 8260.25993148016),\n (1313818.158551288, 8170.109126288048),\n (1402406.0339599957, 8919.51094029487),\n (1218718.4341028654, 8165.784248681317),\n (1115415.596761406, 5906.055557814464),\n (1161101.3550220367, 6176.654222683337),\n (1144271.573908937, 7056.748175878458),\n (1351657.0504894813, 7889.443085088317),\n (1197424.788344543, 6867.106120261271),\n (1039883.6351659994, 7957.397489555115),\n (1288376.2724968118, 8095.7787489776865),\n (1370687.743402291, 8220.668115797254),\n (1175464.6885283932, 6689.107434466671),\n (1320352.1721001205, 10669.74930578063),\n (1170474.6509804633, 7677.342943858201),\n (1237479.7198714842, 6087.8493092715125),\n (1347037.286616702, 9416.127883177614),\n (1021411.3000713026, 5544.509624579182),\n (1190647.0228126666, 7521.667958570823),\n (1264709.4555698566, 8529.820578665964),\n (1399340.4747990598, 9299.64214884659),\n (1379669.5742102216, 8864.200040463902),\n (1399506.7800691728, 7394.586837541091),\n (1115464.3407475722, 7016.198359184977),\n (1365031.626837768, 12227.031479468917),\n (1198686.216406049, 9830.933396505943),\n (1409981.3668072056, 8695.55733142095),\n (1448477.0992841774, 7987.705164309965),\n (1446378.6991362276, 9100.257102868929),\n (1378875.333767703, 9616.169037098847),\n (1186209.0781314897, 7146.581583454431),\n (987810.4792386419, 6498.316312221929),\n (876981.0666894274, 4906.819308458763),\n (1440460.7056200071, 10942.301229823266),\n (1254024.499462016, 7347.562659280915),\n (1206732.1894761052, 6774.452274211623),\n (1118004.2896672257, 7086.994254054759),\n (1384317.3418175832, 8666.185071141974),\n (1167717.3211009786, 7602.6050718060515),\n (1196977.6522864727, 7793.201003560581),\n (783414.3956434131, 4781.1152710499155),\n (1219943.3793446082, 7441.633420943176),\n (1356791.176851747, 8916.477981436934),\n (1367508.5711183832, 9223.821463924558),\n (1287113.1111057675, 5916.858246723516),\n (1392327.6459367166, 7282.112556240791),\n (1426359.52697132, 12049.306238872583),\n (1235139.7066063636, 6489.370809794434),\n (1456129.54367942, 13123.470599015624),\n (1264186.766167669, 7378.205529928241),\n (1179644.5703275474, 7057.7820796274),\n (1008061.4603910267, 5168.555973687696),\n (1441038.2859361374, 7904.48862642856),\n (1256721.6644996202, 6950.579419088732),\n (1116562.042327935, 6394.07221434623),\n (1434432.3730296977, 9536.1267545102),\n (1120115.433519275, 6194.3821275487),\n (1244228.1415087047, 7685.848049872288),\n (1169259.0009375915, 6877.92717245421),\n (1464270.7396749426, 8579.221447837617),\n (1394653.4305069104, 8524.960174253993),\n (1421456.2629224204, 9082.642519919904),\n (1396063.1852298318, 9376.222174680133),\n (1233489.747872549, 7182.229915616779),\n (1041787.281690048, 5755.825104121655),\n (1381252.957786694, 9182.729071672149),\n (1369721.5764061583, 8345.410825955452),\n (1324477.0317861005, 8069.2401466884485),\n (1313563.9626537233, 7602.8324315685195),\n (1261305.7436025324, 5888.753736445898),\n (1485403.093715864, 8318.833746488657),\n (1215287.4718941983, 9499.107921247174),\n (1251369.115113361, 8473.36925096381),\n (1114578.6921261672, 6859.711434722881),\n (1107692.2148152213, 6159.583420612032),\n (937637.7923732364, 5500.517869129707),\n (967027.7840265286, 6507.5048315249705),\n (1250541.0471734826, 9331.146742288127),\n (1353342.8196808717, 9105.768875138476),\n (1042015.9198909525, 5322.454595179329),\n (1248820.0961887043, 7981.956305431086),\n (980155.8979124116, 7025.311261404989),\n (1118903.0844644175, 8877.673792114276),\n (932973.823500742, 7167.08427303506),\n (1044176.9551883349, 5135.724790742103),\n (1399284.8162655465, 11073.727391693816),\n (1227835.4294509848, 9499.924466395485),\n (1360334.2638590906, 7898.735621139112),\n (1420858.2595868881, 10202.997480980684),\n (1419683.226330481, 6887.604249572269),\n (1315147.001909455, 6607.805290762685),\n (1126521.3832569309, 5857.921286544849),\n (1367371.042609968, 8224.205494009413),\n (1186825.820047355, 8930.650716953112),\n (1383204.3197499274, 10454.56525532269),\n (1276623.8883583539, 7027.402073691893),\n (1193762.448812942, 7724.9803314721075),\n (1201750.4656218016, 10083.54930515769),\n (1070702.6556525468, 6880.029120284383),\n (891616.0962416814, 4609.24089808865),\n (1167926.6973392924, 7234.197082567886),\n (1196945.716609742, 5914.35434793994),\n (1379683.6782985963, 9144.003485515963),\n (1242128.757188172, 9421.424515881274),\n (1468491.775045015, 8227.132136907201),\n (1410173.7945723245, 8878.850967625789),\n (803161.9562452715, 5524.532321060484),\n (1220086.0338639752, 8807.990490389433),\n (1292281.1168544113, 8782.363355370982),\n (1489207.9986809394, 11181.693094538437),\n (1233489.747872549, 9021.581479372346),\n (1187839.2978374825, 6861.289488903882),\n (1394512.7048059057, 9327.734536164424),\n (1267651.2617640921, 8851.26863900877),\n (1081093.2173736591, 6734.895175948137),\n (1068458.324033168, 7364.955800675541),\n (1360334.2638590906, 9364.480375577292),\n (1390193.048906648, 8379.834329551888),\n (1066328.4847477318, 6749.0562368318715),\n (1390866.4608786912, 7568.609496975409),\n (1187877.6356617622, 7262.800328167505),\n (1334233.9437370962, 9791.454594378472),\n (1312704.2616167967, 8263.032372928972),\n (1173580.3702150972, 7189.177811401725),\n (1386690.798288654, 10002.86366024591),\n (981605.1525457954, 6271.144180507322),\n (1416676.6808690317, 8175.66090324219),\n (1062384.860003688, 5625.3104576262085),\n (1083917.1156593186, 6469.307239580911),\n (1284182.0669722613, 7348.95127692917),\n (1410969.831872822, 9647.800266877523),\n (1047946.2316016532, 7501.72487771021),\n (1354681.234084026, 9086.227857657534),\n (985172.7351728961, 7389.998259665558),\n (1194732.1702707277, 7367.509755189911),\n (1373572.9632658337, 8991.733630400682),\n (1370405.446262426, 12029.561813359507),\n (1471875.06830445, 10351.992927077692),\n (1428360.5085231655, 10615.085426429445),\n (1033836.9257484847, 6940.825271335159),\n (879483.7528923609, 5704.738584584326),\n (1392327.6459367166, 7022.037107803631),\n (1210444.7258305938, 7163.511501761409),\n (1283392.1185587193, 7267.281531852914),\n (1262517.2852576023, 9152.109219467833),\n (1143467.374896362, 5108.954484026993),\n (1356374.8357814334, 8625.315466985425),\n (1283141.3374693217, 9479.239025085591),\n (1399705.8771621685, 10550.732404106033),\n (1310108.419034393, 7689.195536413483),\n (1063271.8385613956, 5602.020534896255),\n (1130228.1632548692, 5593.67221332648),\n (1109374.7806329548, 6477.284371366823),\n (1169259.0009375915, 6055.56631487819),\n (1149186.5420858948, 5684.074212367544),\n (1425941.6301826683, 9334.18678252256),\n (1110529.1854386155, 7085.536663940999),\n (922502.8966073993, 7545.9633960818655),\n (1282371.2191860566, 7406.99750541875),\n (1384061.9955543492, 9945.423525677566),\n (1428360.5085231655, 10615.085426429445),\n (1329051.6487183894, 7093.459689495806),\n (1029942.5384867375, 5785.427795994339),\n (1149250.6319799845, 9892.237473928215),\n (1235355.208323769, 8842.033146665523),\n (1108298.9624629265, 5607.780048441151),\n (1244228.1415087047, 7963.649786614657),\n (1117014.6398140155, 8444.576801271427),\n (1173955.3054990785, 7820.754804961917),\n (885194.1566456407, 5755.574884427289),\n (1110444.4484134775, 5702.0635328261715),\n (1141565.1504649527, 7140.4490468846925),\n (1288736.866434084, 7332.348297104879),\n (1253345.5877829748, 6817.887286433275),\n (1298814.8672269979, 8208.139259929674),\n (1303681.2773362263, 9310.52677286472),\n (1379959.1690716508, 9579.705288365782),\n (1157517.5765317993, 7269.892335559086),\n (1312625.4990941833, 6633.803963209959),\n (1155019.721010352, 7402.133467423874),\n (1264326.190443611, 7236.248841126743),\n (1415723.1968829287, 10342.13219566913),\n (1309698.1248242494, 9952.540541059618),\n (1290529.8038201444, 7836.570904368268),\n (1410794.049403397, 7361.108319503592),\n (896713.6526051585, 6645.226780752753),\n (1146893.474953022, 7077.019289690536),\n (1420213.2758918304, 10974.772885538807),\n (989730.3279624577, 5273.121855390616),\n (1354138.6112898304, 8618.378108208733),\n (980281.4037238606, 6127.935776156085),\n (1431767.718052868, 8920.175375280718),\n (1286295.2881388962, 7920.230026937081),\n (1252747.3332233261, 6449.695122508692),\n (1182152.5253305628, 7463.621370872819),\n (1349641.6848094843, 7363.118528523295),\n (1421456.2629224204, 9360.68259706026),\n (1375760.6017844854, 8008.6886265573075),\n (891260.5834386013, 4860.103131424427),\n (1314043.0057119206, 9631.23690740348),\n (1161352.3669504903, 7349.214477577961),\n (1474724.1764090515, 10204.30425914603),\n (1217688.3471286595, 5740.628390139101),\n (1157577.4043388823, 9052.237187730765),\n (822220.7926123968, 5403.516196496476),\n (1282985.8335971977, 8908.98249121882),\n (885504.2180298001, 5471.332408541191),\n (1113290.883314122, 6973.389463650295),\n (1246140.730640518, 7949.208840274),\n (1401489.9181518233, 9204.760552111347),\n (901846.485475913, 6095.21906092922),\n (1072120.9861674258, 5164.582355881238),\n (1018224.2619901486, 5580.575170551939),\n (1263385.5878783953, 8283.788832477343),\n (1118888.702221934, 7490.4860391432185),\n (1416347.0400150318, 9651.021926227275),\n (1191372.4191792759, 7286.979541864609),\n (1148437.6523740743, 6421.613190246655),\n (1301156.2164726672, 6615.202293211618),\n (1272198.3384429323, 7660.535546494762),\n (1468041.75968421, 11033.109873233558),\n (1093758.8731045164, 5012.319619228272),\n (1324212.0563793543, 8392.683129226996),\n (1069412.621304057, 5534.1955660790945),\n (1363324.7897005244, 9862.82016210909),\n (1288353.7354767267, 11192.510746754166),\n (1088895.3483792178, 6603.8860716865265),\n (1253498.7822280338, 9683.123903130185),\n (1399355.6896661606, 8911.181782275333),\n (1125396.028919176, 7130.309504761109),\n (955496.3571549114, 6578.244703357162),\n (1270598.767740753, 8004.734902251884),\n (1358479.5184111395, 7692.096083322309),\n (1139820.888661123, 6357.8916697033765),\n (1019358.4013870914, 6030.082959780826),\n (1277239.6551482992, 7982.040120231396),\n (984634.3988784694, 6386.614875333364),\n (1012910.2137155932, 5587.592436189135),\n (1259536.1525247262, 8829.408701778528),\n (973888.2468780379, 6967.918701174662),\n (1198346.9728716495, 7930.635836539692),\n (1440194.9526280607, 7315.889077033705),\n (1375179.9275551753, 8811.974083537772),\n (1491296.6769854538, 11049.870178574702),\n (1182616.1977260201, 5966.727045106618),\n (1082018.6963906935, 7690.5430969415165),\n (975479.1037395648, 5088.745903665883),\n (1205088.5646987322, 6614.880212369245),\n (1125943.9821285417, 8270.6887180661),\n (1422516.4317109957, 8343.226269695893),\n (1281496.4524488028, 6516.35249386683),\n (1143693.3325775957, 6933.882350222555),\n (1225450.186054268, 9541.29557734765),\n (1273882.3866048746, 8369.52006903545),\n (1147933.5183055804, 7285.007525241873),\n (1248177.8497827987, 6533.927525303448),\n (1175337.2923910734, 6618.57610649931),\n (918040.0781748802, 5984.037900304937),\n (1210262.0230924974, 10714.183146062858),\n (1399933.328223188, 7574.157175247509),\n (1088571.8732536696, 6335.603534064103),\n (1396124.835879158, 9077.126795320344),\n (1397555.7523475478, 8945.1076741205),\n (1060942.9101238295, 7856.882582075602),\n (1351237.071852903, 10479.135860046077),\n (1144837.16871789, 8697.753391467577),\n (1437224.3286445069, 10477.592505922463),\n (1241646.2880733062, 8654.316555322173),\n (1113200.7179446071, 9008.786527794788),\n (1141521.41294069, 7984.23354237551),\n (1346525.0933391484, 7436.690454569114),\n (1312911.2892326307, 9360.540398257675),\n (1208936.8758827047, 5894.727244375289),\n (1325203.8400637165, 9104.183811245437),\n (1247521.2585303525, 9478.2129106717),\n (1060942.9101238295, 6627.109656185529),\n (1148249.2241735752, 6921.090647308763),\n (1050959.3372079942, 7301.368272891793),\n (1217688.3471286595, 7140.781656026657),\n (1418964.0155677854, 8126.464098006357),\n (1184396.3161810127, 7418.498161456476),\n (1053878.2003102726, 6894.410167783365),\n (1396124.835879158, 8993.850402702763),\n (1443905.8287310177, 11572.916263419202),\n (1404498.9793941807, 8779.657073069633),\n (1309760.3689756424, 8516.228587793352),\n (1082322.083692951, 7681.656725878108),\n (1320445.9090254377, 9677.077744232296),\n (1299124.835123392, 9939.798266412756),\n (1211176.3594641755, 9999.14666169038),\n (886532.3276457669, 4829.737690918143),\n (926643.2913080715, 4524.880456562063),\n (1249452.4817689694, 7222.099077223791),\n (1259019.7343822254, 10654.756274112427),\n (1286468.6003064332, 8895.055805417755),\n (1101653.5878750433, 7820.8556251250575),\n (1438756.7359608759, 9584.524514968674),\n (1238717.2225752636, 5823.326420404227),\n (1058975.400198236, 8662.228377204869),\n (1298593.4946334758, 6856.622698413994),\n (1229856.7128022618, 7158.098548449216),\n (1213020.3591308373, 6923.7028679993),\n (1456809.9700093714, 10469.09110370893),\n (695384.0865803096, 5797.953648572047),\n (1000061.9989207827, 5565.002142339966),\n (1158418.8670483807, 5620.783118221815),\n (1351837.0335486126, 8929.558584433169),\n (1379165.8681880757, 7678.436023189183),\n (1433182.564740709, 9704.576423980945),\n (1463429.5069257892, 7531.038793063245),\n (1024829.8529850442, 7548.819711415095),\n (1295772.3256456254, 8340.987631977705),\n (1184396.3161810127, 6388.151194587532),\n (1287026.7129069674, 7959.463830598414),\n (1283687.854095826, 6940.508311382913),\n (1098216.190225592, 7223.746435989556),\n (1299984.969633998, 7693.702513135669),\n (1063307.0992246284, 6565.432889604827),\n (842459.8603283924, 5113.60490183754),\n (1049391.8445305233, 6260.489548532994),\n (1395504.804490321, 8044.177805667718),\n (955496.3571549114, 5140.981154724502),\n (1207840.1961685924, 6294.660404861459),\n (1207840.1961685924, 6854.185774182455),\n (1196163.9447720663, 7756.063275682967),\n (1190149.6915895378, 7566.703251533082),\n (1411176.5361930318, 9285.762234385344),\n (1443127.312524572, 10587.127736347542),\n (1455014.0428975925, 9315.146928080318),\n (1318772.3924226502, 8817.585164334907),\n (1133918.0275525316, 7196.78336859772),\n (1353785.0110353862, 8306.539978562034),\n (1261692.543128439, 6323.609534391796),\n (1391207.1366740507, 8188.476441293042),\n (1343460.750347939, 7387.8124342534165),\n (1001673.1737972554, 8136.229222598848),\n (1367483.8723551969, 11925.253904273944),\n (1373756.4960958015, 9945.020940092027),\n (1315520.1394903995, 9188.479406603234),\n (1139692.2768992465, 9013.729965787186),\n (1366812.1141927468, 9169.078467491097),\n (1207971.2567802572, 8439.512667250649),\n (1406612.8843039917, 9088.103415693471),\n (1179448.9855597185, 7183.391484500075),\n (768647.7077803304, 4073.4352334156756),\n (1308566.6829289966, 8291.866328802145),\n (1129104.5239569608, 9132.44875697647),\n (1464106.284059419, 9820.89468447746),\n (1417852.7853736577, 9538.545724766378),\n (1394609.139046957, 8842.0698721064),\n (1145238.1383633057, 6738.896209366581),\n (816573.8035894475, 5694.769728170935),\n (1361046.7251892718, 7637.319494930969),\n (1191249.3757627208, 7862.11151859569),\n (1415434.8460382253, 10099.571836951272),\n (1389005.3958494782, 7123.870015108235),\n (1150310.4310300848, 7891.8487438588245),\n (1300251.3039143516, 10767.661996227676),\n (876754.524507031, 5204.092074117868),\n (1358637.389093717, 6821.092629897821),\n (1459784.356899783, 8733.435865621565),\n (1324477.0317861005, 9187.748681873036),\n (1223999.6888770943, 8450.002428680682),\n (1311113.8741873817, 7432.619972337868),\n (1003929.7120234638, 5519.41198084974),\n (1177753.6184347416, 9420.424958534202),\n (854082.289761466, 5941.104863591125),\n (1416302.1536073764, 9363.520835717209),\n (1296635.3751601407, 10296.622938305221),\n (1394146.7749510799, 8978.678022087235),\n (1343864.545357182, 7670.358198212485),\n (889423.5015948878, 6932.953987352663),\n (1240517.8252992185, 6409.011730066471),\n (1132117.984439627, 5485.1638273247945),\n (1487731.304040625, 8061.763599570745),\n (1134441.4113971284, 7129.069958244841),\n (1181362.0185991745, 7401.644835845021),\n (1064107.245630295, 5370.130724227827),\n (1271705.8920360613, 8420.026344208629),\n (931606.5476413211, 4884.66853890385),\n (1414393.9459918998, 9361.616273859667),\n (1236415.3221131875, 7736.383106049043),\n (1410912.0469153614, 8498.491414358972),\n (1394146.7749510799, 7803.897720131939),\n (1213831.8733153439, 6439.4719793855),\n (1136680.3311433871, 5962.164264085384),\n (1399891.4244992253, 8803.42608435588),\n (1378462.0235052158, 8849.692425381389),\n (1170575.834231449, 9199.97085013048),\n (1297186.1991381624, 8206.69084391338),\n (1285115.7291490159, 6262.710216853898),\n (1035900.3240456713, 6047.30176727772),\n (1401713.6391226412, 8352.876073506148),\n (1266018.0566742097, 6556.826976758411),\n (1035524.5170429575, 7700.118560645411),\n (1116600.6233905654, 8254.872703018254),\n (1244489.5430452724, 6852.226327995987),\n (1256362.3793679825, 8121.41008345841),\n (1424455.8795880747, 7636.587563235975),\n (833949.5175725477, 6065.3644227530385),\n (1291405.7009333249, 9145.445129952488),\n (1170093.0817134725, 5690.945067686689),\n (1256619.8147128464, 8251.521027724979),\n (1257869.1811832539, 8045.508019492638),\n (1367289.987890675, 9996.525331365878),\n (1111823.521993144, 6705.4630096684605),\n (1432013.922534849, 7953.554622745357),\n (845089.8183733502, 4499.460524703994),\n (1297073.6262456852, 10027.65817514531),\n (996354.6444679701, 4895.998789275174),\n (1387666.3502927276, 8499.91716683504),\n (1463016.1306462225, 11330.586642699258),\n (1271951.1673194936, 6881.299202062065),\n (1191917.7051541344, 6237.870602573213),\n (1325608.4489985614, 8037.28281870979),\n (972996.1210519166, 6293.782049034317),\n (1432550.0026275627, 7676.115710244415),\n (912995.3823447701, 4919.045498275209),\n (1180476.7418638759, 6824.405748589294),\n (1423529.4557812184, 11669.740241449079),\n (1327431.25524106, 8003.384968391837),\n (1316823.0309629743, 8850.787757268004),\n (1105465.5314323474, 7181.775744083945),\n (1475251.6948125563, 11590.937098376586),\n (1411639.9284732773, 8518.721251354507),\n (1272038.3729212643, 8706.7900119441),\n (1288462.2593086208, 7237.85094062754),\n (1221345.5829091868, 8071.4278685785),\n (927882.7125702924, 5236.641992995882),\n (1347901.6400482822, 6949.384840611529),\n (1429523.607883802, 7937.72295155974),\n (1074830.630697207, 6309.9938957374825),\n (1337339.3001483472, 10535.411204523078),\n (795919.3827023202, 3898.3014076599575),\n (1438584.498815575, 9910.264294645674),\n (1233926.0368810755, 6747.742398491805),\n (1375760.6017844854, 9060.334607822462),\n (1175153.377757638, 5584.008947188144),\n (1060499.7729573736, 7860.83463640306),\n (948611.5706959035, 6054.689498616711),\n (999008.9931549194, 6707.466180612869),\n (1379208.4082893515, 11359.673631807525),\n (937157.9525350173, 5601.259268989586),\n (1079169.2548034599, 5217.924235529802),\n (1319251.8228375951, 6827.858841299874),\n (1252046.9398448297, 9271.64205530691),\n (1351916.8318854326, 9944.722454582654),\n (1466729.1144530892, 9029.008356451088),\n (1136399.2871218747, 7437.643212569058),\n (1283743.2230408886, 7013.483039446988),\n (1347247.229414125, 7076.7692467510415),\n (1323472.8574247777, 7150.486107014588),\n (1185183.7050372076, 6496.354518192635),\n (1098086.6753436374, 8421.55235300451),\n (1020655.147693152, 8363.356170097615),\n (1402406.0339599957, 8919.51094029487),\n (1253029.5703680874, 8169.232788571074),\n (995100.094204238, 8123.708514422372),\n (1259112.8127970446, 6209.545675171407),\n (1366409.4860051004, 11667.218280489555),\n (1385791.214103659, 9182.832579514396),\n (1341320.1275053588, 9034.342269594848),\n (1336137.4257994904, 7653.200576467025),\n (1279014.386548533, 8654.027722049035),\n (1381993.9188113157, 9244.447234325033),\n (1036655.5753867427, 6141.76773955212),\n (1491422.583552396, 10134.054638926269),\n (1041201.440243234, 5747.110469093813),\n (845878.7360851123, 5231.753978638603),\n (1246312.8901346915, 7616.473132211782),\n (1265620.0864257219, 9495.77542263748),\n (820979.5127911929, 5061.5797363016445),\n (1241554.7632132892, 8264.259289987898),\n (1165624.004681786, 5383.893685068498),\n (1288376.2724968118, 6461.0541938957),\n (1385170.2998663469, 9647.312471586267),\n (1121621.579403733, 5656.320547064834),\n (1428472.3092436767, 7020.109146280077),\n (926274.6819582914, 4566.6887317946475),\n (1006029.6952692755, 6161.375031264361),\n (1095404.8363530117, 6029.380575992212),\n (881838.7122046968, 6322.283021570914),\n (1316563.63810599, 8726.193298413404),\n (1240562.5868556225, 8049.493518212065),\n (1437434.9168172267, 9829.802847310042),\n (1224913.84720456, 9249.54896625741),\n (1427668.9620901735, 9480.213981432058),\n (1307242.1028298473, 7424.535468825635),\n (1111173.4226836702, 5624.413484863613),\n (1293038.0702119118, 8495.763663125621),\n (1311757.2425829766, 8268.432767190983),\n (1014600.537955913, 5123.673912452123),\n (898258.7129193948, 6759.778767861967),\n (1199447.5697914897, 7559.629907389991),\n (1300719.6345360135, 9728.458291717236),\n (1386314.1522244208, 7779.333785408751),\n (1192256.2749912497, 7712.380485142801),\n (1331433.3631160026, 7715.060781052257),\n (1142244.3998229487, 5691.154109119635),\n (1129063.089589649, 5905.903271034081),\n (1444818.9239464425, 7437.736968825656),\n (885465.667111604, 4839.6399260618),\n (1231920.7772108333, 8123.109070271879),\n (1322024.9248623468, 6326.051537403773),\n (1148437.6523740743, 6485.193518862995),\n (1179448.9855597185, 8260.900207175084),\n (1081093.2173736591, 5449.142460539868),\n (1389407.299882524, 8622.464194621487),\n (938848.4688281128, 7487.763630703074),\n (1393379.4509250103, 7772.841443596993),\n (1182808.294923486, 8187.412942884566),\n (989432.49125563, 8031.450046413011),\n (1145159.517231201, 5601.429839857191),\n (1150774.9181106105, 7217.985181858499),\n (1286653.8477002473, 7941.6622428072515),\n (1475690.7737745638, 10755.266569778643),\n (1156835.0071376662, 5925.6635879019495),\n (900495.6523051308, 6780.516486478913),\n (1096158.1174723736, 6056.416614652989),\n (1217158.6746482523, 7442.1899968242315),\n (1414876.0540816183, 7416.83318473688),\n (1395908.7100434687, 12617.23958044024),\n (1416690.54836367, 9840.802193591155),\n (1366655.0006723916, 11628.440420231216),\n (1238464.1157936286, 8788.425805861716),\n (1359230.4935124856, 10613.720210917729),\n (1190135.9187813383, 7830.665946336386),\n (783414.3956434131, 5354.8491035759225),\n (1384317.3418175832, 9647.262626365551),\n (1462183.2831325906, 10439.00588139772),\n (1374097.6555438014, 9379.476117593054),\n (1044056.6786384275, 8019.275120944825),\n (1181214.7959454865, 8051.380624981668),\n (877700.4075102438, 4776.036307144569),\n (1207637.0396305635, 8212.263217709291),\n (1335466.409028905, 9589.62099901326),\n (1098737.4718055965, 7292.486203050219),\n (1096933.4256002884, 6810.666043818955),\n (987810.4792386419, 6498.316312221929),\n (1255658.9611144778, 7159.83424707156),\n (1377845.2009400497, 9238.833879625918),\n (926643.2913080715, 4625.433355596773),\n (1383153.8867797435, 6866.647253211776),\n (1012157.8870548932, 7151.90558336177),\n (1190238.3599169084, 6940.4968155727),\n (1261132.9584789767, 6142.315111862534),\n (1152996.2318654926, 8988.521052308746),\n (1401713.6391226412, 10657.117748956154),\n (1150073.8081425512, 5921.7707932140365),\n (1330740.5674936043, 8719.894568204838),\n (1407303.8158439284, 10895.162560369567),\n (1262029.591277055, 8618.227117811395),\n (1427090.0479867044, 9895.767313016504),\n (1283743.2230408886, 8312.276194900176),\n (1473035.1441192126, 9880.479295145456),\n (1203627.5703677812, 6812.113012584095),\n (833949.5175725477, 6440.541603541827),\n (1342412.7218196017, 9342.52128547443),\n (1322595.0011265958, 10026.903138583966),\n (1465877.7280177495, 10480.335241895964),\n (1165366.6374424477, 7817.087778643081),\n (1391059.1377374195, 7930.350066282997),\n (1098086.6753436374, 9402.704083451617),\n (1128361.2117903864, 7692.8898345348425),\n (1455990.2785611162, 10963.419512346909),\n (1349457.3040033067, 9587.24703790548),\n (1322164.2956131527, 9374.04469457488),\n (1362552.5915640693, 9323.765903902546),\n (1241862.7827962907, 7112.6349463591005),\n (1307585.4923361028, 8962.84235271105),\n (1254903.6624679177, 11266.094034243584),\n (1139692.2768992465, 9779.046660995533),\n (1239903.7757840753, 9163.575642015703),\n (1438481.8905463535, 8165.422561852459),\n (867978.5412830096, 6006.045076206228),\n (1141265.356406986, 5935.9316582823785),\n (1312360.1177436786, 7945.588936594701),\n (1253458.0761675409, 7825.280070041461),\n (1434317.942381754, 7868.627510783536),\n (961492.4047328079, 6280.647264285689),\n (921442.717911374, 4819.465968923153),\n (1295615.4724819334, 9445.441383823212),\n (1263191.6802239995, 7067.488642199103),\n (1376043.1334327525, 10694.451084737011),\n (1369755.0798117942, 7093.860390482686),\n (1232402.3531457034, 8192.234296495706),\n (1095152.2599208897, 5333.660826712201),\n (1409981.3668072056, 10846.071510159485),\n (1176418.67220301, 7745.324848819651),\n (1082040.5099218306, 6682.407771089057),\n (1377558.5793239353, 9573.054480530102),\n (1377192.488450214, 8922.95910258551),\n (1424341.107892576, 10859.054322083442),\n (1444211.8989227053, 7223.633938258985),\n (1329189.292608531, 7989.869165270389),\n (1136427.3583420212, 5547.4662102105185),\n (1141521.41294069, 8444.86240058948),\n (879791.7967432288, 6177.448622158248),\n (1298353.4770575266, 7470.923833238847),\n (1126361.387260408, 8265.47958572074),\n (1251476.7413727322, 7711.048047256668),\n (1058124.3380353323, 7582.712138464848),\n (1248883.4648664794, 7306.412394160939),\n (1446559.3860217915, 8071.199523839627),\n (1432550.0026275627, 10037.997467242738),\n (980155.8979124116, 4803.631631729909),\n (1331228.9235873644, 7610.124262139104),\n (1178016.7860888976, 7016.606439189912),\n (1358479.5184111395, 8416.058067635),\n (1119015.503497075, 7583.451273684793),\n (1358911.59581571, 8449.861825038552),\n (1055041.3969947828, 8152.106476145716),\n (1324570.734272056, 8806.765210790394),\n (1209763.507934524, 7407.57926297438),\n (1240709.1729397888, 6519.408665554529),\n (1158308.343543693, 6823.185383554177),\n (936424.4442393576, 4889.469568551428),\n (1446229.480520615, 8044.4269938661),\n (1177707.1014672846, 5671.876605020546),\n (1022275.981958908, 6186.983405802977),\n (1249444.654092174, 6944.867896515687),\n (1322100.220514727, 10835.356182256995),\n (1397907.2783185418, 6756.42506456007),\n (954543.3259240413, 6849.535867800209),\n (1279881.7575279237, 7868.584092709663),\n (1470537.7510742566, 10025.322322943879),\n (1000332.2969177613, 6788.73840266684),\n (795631.0551415107, 4372.625896835685),\n (1226414.9908352005, 7040.318753242944),\n (1088571.8732536696, 5447.4348143355155),\n (1391646.1685737176, 8059.060632660259),\n (1399562.0371172815, 8569.768414786868),\n (1247903.5027623049, 8313.227898119942),\n (1183570.3715407108, 6730.558773149687),\n (1359726.2584612875, 11689.322926774192),\n (898215.3462569617, 7188.434433181882),\n (1245849.8880077957, 7979.366658381221),\n (1211209.5596676203, 8462.18000531902),\n (1254718.8635973204, 9026.486156030802),\n (1411189.4789436988, 8518.926532008272),\n (1330935.0947210894, 10140.060041032293),\n (888355.3348963974, 6236.9492291715),\n (1209804.0916604397, 9356.88987572253),\n (1316954.1577420237, 7077.220710337616),\n (1278830.847897781, 7924.553600802745),\n (1347448.702802023, 7879.0282999111),\n (1162342.0962111545, 7741.5571891227955),\n (1450686.2719717883, 9235.694810430416),\n (983846.72721662, 6994.965670446848),\n (1256721.6644996202, 7179.719399937827),\n (1366279.3464348656, 8163.768766026507),\n (1154374.4998911906, 6113.909102743871),\n (1358482.8100048108, 8600.710254443926),\n (1229370.1851910183, 8522.579834140875),\n (1086992.9985735833, 6269.405979869099),\n (900120.9200929368, 4124.879187530448),\n (1436417.037695449, 10111.979468270594),\n (1477631.6086437441, 12942.802132937104),\n (1210262.0230924974, 8392.776797749211),\n (733795.2041796886, 3367.3216137282297),\n (1308556.009613971, 9257.780446502094),\n (1221289.2311330682, 6570.682961742609),\n (731575.1535863025, 5277.5630471050345),\n (900982.8948212261, 6411.572654683916),\n (1319502.7410480075, 10460.660671361758),\n (1189243.145811285, 7115.486402692682),\n (1291405.7009333249, 7873.0353727417505),\n (1350691.7581661416, 6772.183786793667),\n (1172988.4989336533, 6109.500707649762),\n (1176761.3085703033, 5990.4166236841775),\n (1393495.7883633475, 8127.479417453762),\n (1362346.2122674715, 8921.223469969611),\n (1352174.9975965358, 8220.726783864653),\n (1423279.2471866405, 8045.25610024729),\n (1183388.7506068572, 6307.5540555280695),\n (1220086.0338639752, 7505.93972224498),\n (1082627.3967309794, 6701.617877762692),\n (1035091.763293364, 6940.1564213221545),\n (1135117.5652244533, 7788.146730259135),\n (1458806.0316130193, 9745.090023905394),\n (1336509.164641139, 7037.824158383439),\n (1136676.7366601175, 8155.174426868393),\n (1466211.0833822817, 8376.508954326644),\n (1279881.7575279237, 8091.279868918396),\n (1221326.7089804467, 8017.897121117279),\n (1241331.2818087726, 6419.862879430432),\n (1366455.6478511046, 10102.407404791946),\n (1216235.4491154621, 9342.719775833686),\n (1184671.157473638, 6034.358847700795),\n (1333019.9966487524, 9317.36102773809),\n (782695.8172143853, 4557.9266115947485),\n (1192940.7546714426, 7259.267663630337),\n (1074991.3359830512, 7116.4466301237835),\n (1177208.8837411113, 7841.201527603733),\n (1145822.4169328827, 6164.662492416718),\n (1445774.9421691971, 10227.189080103812),\n (1378371.0337083808, 10296.338008141327),\n (1468984.3586899072, 7464.250711625896),\n (1244605.6284689931, 7347.0065474224475),\n (970047.23719632, 5210.861740156369),\n (1190135.9187813383, 9450.803728336985),\n (1060296.4446750649, 6994.070716074014),\n (1375179.9275551753, 10739.593414311616),\n (1234026.8211215208, 8802.105779422445),\n (1444296.9053330028, 7953.299051643545),\n (1282849.7837788821, 9259.304747012573),\n (1428595.8726078104, 10646.880190588656),\n (1443137.6181761802, 12800.856850989656),\n (1132049.5045233788, 7197.542456568961),\n (1069385.2867807408, 7184.27134211177),\n (1409235.0980488118, 11306.468928251785),\n (1159271.7966510935, 6726.617615002044),\n (1415382.753764276, 7144.787527159066),\n (1110570.4093409346, 7836.226407211453),\n (1348914.0698901669, 10594.872884687047),\n (1424175.4857766589, 9783.524480778073),\n (1338070.6917958064, 8567.776467962654),\n (1271655.2402376807, 6826.356352858383),\n (1283687.854095826, 8635.283596720614),\n (1279014.386548533, 8428.27047712601),\n (1174982.5105431296, 8374.828523745484),\n (1184169.1414982118, 7672.853702798514),\n (1114414.4196410645, 7441.247863329603),\n (1310823.532933679, 8013.81506766448),\n (1179479.689553479, 6119.663066974769),\n (1367243.2870691482, 7525.755078960546),\n (990079.8673060056, 5423.924792666441),\n (970048.6839163216, 7177.84834089038),\n (890115.9378969395, 4268.570060995013),\n (1287113.1111057675, 6501.239308128345),\n (1309717.8829416237, 7704.507359834138),\n (1328542.4589719956, 8253.853813016805),\n (1452488.53457172, 7575.114795264083),\n (1195633.6320790402, 6672.975571055457),\n (1419239.4343113962, 10774.500969967658),\n (1347918.540933563, 7213.0224199484865),\n (1379038.1007314923, 12204.494306239214),\n (1204346.9851736096, 8192.589244454759),\n (854148.966147868, 4555.941799567842),\n (1291691.3458683533, 8108.537131599309),\n (1348742.3087786348, 7448.0101907647695),\n (1068734.4220394483, 5597.735930735528),\n (1486803.9908046513, 11413.388976495584),\n (1497933.323507042, 8651.65299855526),\n (1271955.9870736024, 8924.322931720455),\n (958364.0567834582, 7472.0485539627425),\n (1263384.2306517314, 8669.23212408089),\n (1129215.0765791356, 7685.335051740026),\n (1447477.7177450142, 10079.818920423002),\n (1023241.4333289277, 7003.673673532968),\n (1366617.8773375002, 9598.24657930433),\n (1229846.2632894223, 6809.359821160084),\n (718303.2307063995, 4603.892839456365),\n (1147678.3355415186, 5803.56040052246),\n (1122706.8899739708, 7468.263709105083),\n (758701.1212280648, 4169.485499286853),\n (926022.5187004273, 4128.846517253674),\n (988100.0950971412, 5559.376635707661),\n (1025459.1811680311, 5339.413037978348),\n (1187036.396999763, 8562.991426804363),\n (1390937.3097395073, 7971.369327827306),\n (1455014.0428975925, 8162.7576173899715),\n (1234928.803569554, 7695.490812579078),\n (1299813.0667714626, 8859.779720957256),\n (1381128.2743221037, 8852.448071992943),\n (885504.2180298001, 6393.467084138003),\n (1276298.810981184, 6941.214506676624),\n (1068639.2459145298, 6913.85317329826),\n (993656.2356450065, 7129.243185263243),\n (1151992.229879315, 5854.853417369012),\n (1341457.3741011885, 8325.711688095047),\n (967812.9626940973, 4754.046319629503),\n (1323472.8574247777, 6575.15963863412),\n (1108298.9624629265, 6350.979813897204),\n (1286429.1860170066, 6331.476572662462),\n (1241862.7827962907, 7397.140344213446),\n (963726.831619516, 5449.367968167977),\n (977067.001546272, 6521.56498404513)]"
     },
     "execution_count": 9,
     "metadata": {},
     "output_type": "execute_result"
    }
   ],
   "source": [
    "cases_per_year_list"
   ],
   "metadata": {
    "collapsed": false,
    "pycharm": {
     "name": "#%%\n"
    }
   }
  },
  {
   "cell_type": "code",
   "execution_count": 10,
   "outputs": [],
   "source": [
    "with open('cases_per_year_list.pickle', 'wb') as handle:\n",
    "    pickle.dump(cases_per_year_list, handle, protocol=pickle.HIGHEST_PROTOCOL)"
   ],
   "metadata": {
    "collapsed": false,
    "pycharm": {
     "name": "#%%\n"
    }
   }
  }
 ],
 "metadata": {
  "kernelspec": {
   "display_name": "Python 3",
   "language": "python",
   "name": "python3"
  },
  "language_info": {
   "codemirror_mode": {
    "name": "ipython",
    "version": 2
   },
   "file_extension": ".py",
   "mimetype": "text/x-python",
   "name": "python",
   "nbconvert_exporter": "python",
   "pygments_lexer": "ipython2",
   "version": "2.7.6"
  }
 },
 "nbformat": 4,
 "nbformat_minor": 0
}