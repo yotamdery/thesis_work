{
 "cells": [
  {
   "cell_type": "markdown",
   "metadata": {
    "pycharm": {
     "name": "#%% md\n"
    }
   },
   "source": [
    "## This notebook produces cases per year for the benchmark simulation"
   ]
  },
  {
   "cell_type": "code",
   "execution_count": 1,
   "metadata": {
    "pycharm": {
     "name": "#%%\n"
    }
   },
   "outputs": [],
   "source": [
    "import numpy as np\n",
    "import pandas as pd\n",
    "import itertools\n",
    "import pickle\n",
    "import datetime, random, copy\n",
    "import sys, os, tqdm\n",
    "\n",
    "import SEIR_full as mdl\n",
    "import SEIR_full.model as mdl\n",
    "import SEIR_full.calibration as mdl\n",
    "from SEIR_full.parameters import *\n",
    "from SEIR_full.indices import *\n",
    "from SEIR_full.utils import *"
   ]
  },
  {
   "cell_type": "markdown",
   "metadata": {
    "pycharm": {
     "name": "#%% md\n"
    }
   },
   "source": [
    "* Fixing the ranges of the uncertainty factors that we're interested in:"
   ]
  },
  {
   "cell_type": "code",
   "execution_count": 2,
   "metadata": {
    "pycharm": {
     "name": "#%%\n"
    }
   },
   "outputs": [],
   "source": [
    "# Creating a list of tuples, each tuple is a realization of randomly picked values for the factors that we change every iteration of the simulation\n",
    "np.random.seed(42)\n",
    "list_of_tuples = []\n",
    "for i in range(1000):\n",
    "    booster_eff = round(np.random.uniform(low=29.5001, high=95.5)) / 100     # Discrete uniform dist, booster_efficiency ~ U(30, 95), Updated in the model's object\n",
    "    inv_level = round(np.random.uniform(low=9.5001, high=20.5)) / 100       # Discrete uniform dist, booster_efficiency ~ U(10, 20), Updated in the simulation's settings\n",
    "    hosp_proba_scalar = round(np.random.uniform(low=0.8, high=1.2), 2)      # Continuous uniform dist, booster_efficiency ~ U(0.8, 1.2), Updated in the model's object\n",
    "    years_for_model_run = round(np.random.uniform(low=.5001, high=5.5))         # Discrete uniform dist, booster_efficiency ~ U(3, 10), Updated in the simulation's settings\n",
    "    list_of_tuples.append((booster_eff, inv_level, hosp_proba_scalar, years_for_model_run))"
   ]
  },
  {
   "cell_type": "markdown",
   "metadata": {
    "pycharm": {
     "name": "#%% md\n"
    }
   },
   "source": [
    "* Fixing the static settings for all runs of the big loop"
   ]
  },
  {
   "cell_type": "code",
   "execution_count": 3,
   "metadata": {
    "pycharm": {
     "name": "#%%\n"
    }
   },
   "outputs": [],
   "source": [
    "## DEFINING STATIC SETTINGS (INDEPENDENT IN THE DYNAMIC FACTORS) FOR THE SIMULATION RUN\n",
    "# Short path for the data directory\n",
    "DATA_DIR = r'/Users/yotamdery/Old_Desktop/git/SEIR_model_COVID-main/Data'\n",
    "# Reading the indices of the model - adding an hint to declare it's from type Indices!\n",
    "with(open(DATA_DIR + '/parameters/indices.pickle', 'rb')) as openfile:\n",
    "    ind:Indices = pickle.load(openfile)\n",
    "\n",
    "# Vaccination priority queue:\n",
    "vaccination_pq = [('High', '60+'), ('High', '30-59'), ('High', '10-29'), ('High', '5-9'),\n",
    "                   ('Low', '60+'), ('Low', '30-59'), ('Low', '10-29'), ('Low', '5-9')]\n",
    "\n",
    "# Reading the neutralized vectors:\n",
    "# Alpha variant vector\n",
    "with open(DATA_DIR + '/parameters/neutralized_alpha_variant_vec.pickle', 'rb') as pickle_in:\n",
    "\tneutralized_alpha_variant_vec = pickle.load(pickle_in)\n",
    "\n",
    "# Delta variant vector\n",
    "with open(DATA_DIR + '/parameters/neutralized_delta_variant_vec.pickle', 'rb') as pickle_in:\n",
    "\tneutralized_delta_variant_vec = pickle.load(pickle_in)\n",
    "\n",
    "# Beta_lockdown vector\n",
    "with open(DATA_DIR + '/parameters/neutralized_lockdown_vec.pickle', 'rb') as pickle_in:\n",
    "\tneutralized_lockdown_vec = pickle.load(pickle_in)\n",
    "\n",
    "# Beta_school vector\n",
    "with open(DATA_DIR + '/parameters/neutralized_school_vec.pickle', 'rb') as pickle_in:\n",
    "\tneutralized_school_vec = pickle.load(pickle_in)\n",
    "\n",
    "# Isolation morbidity ratio vector\n",
    "with open(DATA_DIR + '/parameters/neutralized_isolation_morbidity_ratio_vector.pickle', 'rb') as pickle_in:\n",
    "\tneutralized_isolation_morbidity_ratio_vector = pickle.load(pickle_in)\n",
    "\n",
    "# zero vector to remove any transition from V_2 and S_2 to V_3\n",
    "with open(DATA_DIR + '/parameters/neutralized_transition_rate_to_V_3.pickle', 'rb') as pickle_in:\n",
    "\tneutralized_transition_vector = pickle.load(pickle_in)\n"
   ]
  },
  {
   "cell_type": "markdown",
   "metadata": {
    "pycharm": {
     "name": "#%% md\n"
    }
   },
   "source": [
    "* Utils functions:"
   ]
  },
  {
   "cell_type": "code",
   "execution_count": 4,
   "metadata": {
    "pycharm": {
     "name": "#%%\n"
    }
   },
   "outputs": [],
   "source": [
    "# Getting the reported unreported ratio\n",
    "def get_reported_unreported_ratio(scen):\n",
    "    if scen == 'Scenario2':\n",
    "        reported = 1\n",
    "        unreported = 2\n",
    "        reported_unreported = unreported / (reported + unreported)\n",
    "    return reported_unreported\n",
    "\n",
    "def risk_age_groups_mapping(wanted_mapping: tuple):\n",
    "    \"\"\" This function gets a wanted mapping (4 examined age groups to 9 original model's age groups or vice versa),\n",
    "    and returns a dictionary consist of the wanted mapping\n",
    "    \"\"\"\n",
    "    age_groups_mapping_dict = {}\n",
    "    # If the wanted mapping is 4 examined age groups to 9 original model's age groups:\n",
    "    if wanted_mapping == ('High', '4-to-9'):\n",
    "        age_groups_mapping_dict[('High', '5-9')] = [('High', '5-9')]\n",
    "        age_groups_mapping_dict[('High', '10-29')] = [('High', '10-19'), ('High', '20-29')]\n",
    "        age_groups_mapping_dict[('High', '30-59')] = [('High','30-39'), ('High','40-49'), ('High','50-59')]\n",
    "        age_groups_mapping_dict[('High', '60+')] = [('High', '60-69'), ('High', '70+')]\n",
    "\n",
    "    elif wanted_mapping == ('Low', '4-to-9'):\n",
    "        age_groups_mapping_dict[('Low', '5-9')] = [('Low', '5-9')]\n",
    "        age_groups_mapping_dict[('Low', '10-29')] = [('Low', '10-19'), ('Low', '20-29')]\n",
    "        age_groups_mapping_dict[('Low', '30-59')] = [('Low','30-39'), ('Low','40-49'), ('Low','50-59')]\n",
    "        age_groups_mapping_dict[('Low', '60+')] = [('Low', '60-69'), ('Low', '70+')]\n",
    "\n",
    "    # If the wanted mapping is 9 original model's age groups to 4 examined age groups:\n",
    "    elif wanted_mapping == ('High', '9-to-4'):\n",
    "        age_groups_mapping_dict[('High', '0-4')] = np.nan     # There's no corresponding age group among the 4 examined age-groups\n",
    "        age_groups_mapping_dict[('High', '5-9')] = ('High', '5-9')\n",
    "        age_groups_mapping_dict[('High', '10-19')] = ('High', '10-29')\n",
    "        age_groups_mapping_dict[('High', '20-29')] = ('High', '10-29')\n",
    "        age_groups_mapping_dict[('High', '30-39')] = ('High', '30-59')\n",
    "        age_groups_mapping_dict[('High', '40-49')] = ('High', '30-59')\n",
    "        age_groups_mapping_dict[('High', '50-59')] = ('High', '30-59')\n",
    "        age_groups_mapping_dict[('High', '60-69')] = ('High', '60+')\n",
    "        age_groups_mapping_dict[('High', '70+')] = ('High', '60+')\n",
    "\n",
    "    else:\n",
    "        age_groups_mapping_dict[('low', '0-4')] = np.nan     # There's no corresponding age group among the 4 examined age-groups\n",
    "        age_groups_mapping_dict[('low', '5-9')] = ('low', '5-9')\n",
    "        age_groups_mapping_dict[('low', '10-19')] = ('low', '10-29')\n",
    "        age_groups_mapping_dict[('low', '20-29')] = ('low', '10-29')\n",
    "        age_groups_mapping_dict[('low', '30-39')] = ('low', '30-59')\n",
    "        age_groups_mapping_dict[('low', '40-49')] = ('low', '30-59')\n",
    "        age_groups_mapping_dict[('low', '50-59')] = ('low', '30-59')\n",
    "        age_groups_mapping_dict[('low', '60-69')] = ('low', '60+')\n",
    "        age_groups_mapping_dict[('low', '70+')] = ('low', '60+')\n",
    "\n",
    "    return age_groups_mapping_dict\n",
    "\n",
    "def get_wanted_df(wanted_age_group):\n",
    "\t\"\"\" Gets the age-groups that we want to address our calculations to, and returns a sub-Dataframe containing only the relevant columns (the wanted age-groups columns)\"\"\"\n",
    "\t# Reading the pop per county file:\n",
    "\tcounty_pop = pd.read_csv(DATA_DIR + '/division_choice/30/population_per_county_age-group.csv')\n",
    "\t# Initializing the list with the county column, that will be picked anyway\n",
    "\twanted_columns = [county_pop.columns[0]]\n",
    "\t# Splitting the given age_group, creating list of integers. try-expect block to catch the 60+ column as well:\n",
    "\ttry:\n",
    "\t\twanted_age_group_splitted = list(map(int, wanted_age_group.split('-')))\n",
    "\texcept ValueError:\n",
    "\t\twanted_age_group_splitted = [60, 70]  # In order to pass the logic condition successfully\n",
    "\n",
    "\t# Iterating on the columns of the file and performing the condition logic:\n",
    "\tfor col in county_pop.columns[1:]:\n",
    "\t\t# Splitting the current column of the file. try-expect block to catch the 70+ column as well:\n",
    "\t\ttry:\n",
    "\t\t\tages_as_list = list(map(int, col.split('_')[1].split('-')))\n",
    "\t\texcept ValueError:\n",
    "\t\t\tages_as_list = [70]\n",
    "\t\t# If these conditions are met, take this column to be in the sub-df\n",
    "\t\tif ages_as_list[0] >= min(wanted_age_group_splitted) and ages_as_list[0] <= max(wanted_age_group_splitted):\n",
    "\t\t\twanted_columns.append(col)\n",
    "\n",
    "\treturn county_pop[wanted_columns]\n",
    "\n",
    "# Gets a dictionary to reduce (lambda, V_2 or S_2) and reduce its cardinality to consist only the relevant age-groups\n",
    "def calc_sub_dict(dict_to_reduce: dict, wanted_age_group: str):\n",
    "    sub_dict = {}\n",
    "    # Splitting the given age_group, creating list of integers. try-expect block to catch the 60+ group as well (if wanted):\n",
    "    try:\n",
    "        wanted_age_group_splitted = list(map(int, wanted_age_group.split('-')))\n",
    "    except ValueError:\n",
    "        wanted_age_group_splitted = [60, 70]    # In order to pass the logic condition successfully\n",
    "\n",
    "    for key, val in dict_to_reduce.items():\n",
    "        # Splitting the age group part of the key. try-expect block to catch the 70+ column from the file as well:\n",
    "        try:\n",
    "            if isinstance(key, str):   # If the dict_to_reduce keys are only on the age level\n",
    "                ages_as_list = list(map(int, key.split('-')))\n",
    "            elif isinstance(key, tuple):    # If the dict_to_reduce keys are on the region&age level (as lambda_t does) - take the second element (the age)\n",
    "                ages_as_list = list(map(int, key[1].split('-')))\n",
    "        except ValueError:\n",
    "            ages_as_list = [70]\n",
    "        # If these conditions are met, take this key-value pair to be in the sub-dict\n",
    "        if ages_as_list[0] >= min(wanted_age_group_splitted) and ages_as_list[0] <= max(wanted_age_group_splitted):\n",
    "            sub_dict[key] = val    # Converting from ndarray to float\n",
    "\n",
    "    return sub_dict\n",
    "\n",
    "def get_indexes_risk_age_combination(risk_age_group: tuple):\n",
    "    \"\"\"This function gets a tuple of (risk, 4_age_group) and returns the indexes of that combination as they are in the original model (including transformation to the 9 original age groups\n",
    "    e.g.: for ('High', '10-29'), returns the indexes for ('High', '10-19') + ('High', '20-29') \"\"\"\n",
    "    # Initializing the result list and the age groups mapper:\n",
    "    indexes_list_of_lists = []\n",
    "    four_to_nine_age_map = risk_age_groups_mapping((risk_age_group[0], '4-to-9'))\n",
    "    for val in four_to_nine_age_map[risk_age_group]:\n",
    "            indexes_list_of_lists.append(ind.risk_age_dict[val])\n",
    "    # Merging the list of lists to one list:\n",
    "    risk_indexes_list = [item for sublist in indexes_list_of_lists for item in sublist]\n",
    "    return sorted(risk_indexes_list)\n",
    "\n",
    "# Gets the compartment to aggregate, and returns the same compartment, stratified by the original age-groups\n",
    "def calc_aggregated_compartment_by_age_risk(compartment: np.array):\n",
    "    compartment_dict = {}\n",
    "    for risk_age in ind.risk_age_dict.keys():\n",
    "        compartment_dict[risk_age] = float(compartment[:, ind.risk_age_dict[risk_age]].sum(axis=1))\n",
    "    return compartment_dict\n",
    "\n",
    "# Gets the compartment dictionary (the compartment stratified by the old age-groups), and aggregates the compartment to the wanted age-group by returning a dict (e.g agg. V_2 for age group 30-59, using the sub-age-groups 30-39, 40-49, 50-59)\n",
    "def compartment_by_4_age_groups(compartment: dict, target_risk_age_group: tuple):\n",
    "    # Initiate the wanted mapping:\n",
    "    four_to_nine_age_map = risk_age_groups_mapping((target_risk_age_group[0], '4-to-9'))\n",
    "    # Initiate result dict to return:\n",
    "    agg_risk_4_groups_dict = {}\n",
    "    for risk_4_age_group in four_to_nine_age_map.keys():     # Iterating on each combination of (risk, 9 age-groups):\n",
    "        agg_risk_4_groups_dict[risk_4_age_group] = 0\n",
    "    # Performing the aggregation to the new dict - (risk, 4 age groups):\n",
    "    for key, val in four_to_nine_age_map.items():\n",
    "        for tup in val:\n",
    "            agg_risk_4_groups_dict[key] += compartment[tup]\n",
    "\n",
    "    return agg_risk_4_groups_dict\n",
    "\n",
    "def calc_comp_prop_for_age_risk(comp: str, curr_res_mdl_1_ml: dict, target_risk_age_group: tuple):\n",
    "    \"\"\"This function gets the target compartment and the current predictions of the current model,\n",
    "    and returns the compartment aggregated by the wanted combination of (age-group, risk)\"\"\"\n",
    "    # Getting the last day of the compartment:\n",
    "    comp_last_day = np.reshape(curr_res_mdl_1_ml[comp][-1, :], newshape=(1,540))\n",
    "    # Aggregate the compartment by (9 age groups, risk):\n",
    "    comp_agg_9_age_groups_risk = calc_aggregated_compartment_by_age_risk(comp_last_day)\n",
    "    # Aggregate the compartment by (4 age groups, risk):\n",
    "    comp_agg_4_age_groups_risk = compartment_by_4_age_groups(comp_agg_9_age_groups_risk, target_risk_age_group)\n",
    "    # Gets the relevant age group out of the 4 age groups, and summing on it to get the final proportion:\n",
    "    return comp_agg_4_age_groups_risk[target_risk_age_group]\n",
    "\n",
    "def update_compartment(curr_res_mdl_1_ml: dict, compartment: str, updated_array: np.array):\n",
    "    \"\"\"This function gets the current models' predictions, the compartment to update and the updated array, and updates the model object with the updated array\"\"\"\n",
    "    # Initiate settings:\n",
    "    curr_res_mdl_1_ml[compartment][-1] = updated_array\n",
    "    comp_as_list = []\n",
    "    # Changing the updated arrays to be lists of arrays (to allow the update of the model object):\n",
    "    for element in curr_res_mdl_1_ml[compartment]:\n",
    "        comp_as_list.append(element)\n",
    "\n",
    "    # Performing the proper model update\n",
    "    curr_res_mdl_1_ml.update({\n",
    "        compartment : comp_as_list\n",
    "    })\n",
    "\n",
    "# Defining the model - initializing it for t=0:\n",
    "def defining_model(scen):\n",
    "    model_1_ml_ = mdl.Model_behave(\n",
    "    ind= ind,\n",
    "    beta_j= cal_parameters[scen]['beta_j'],\n",
    "    beta_activity= cal_parameters[scen]['beta_activity'],\n",
    "    beta_school= cal_parameters[scen]['beta school'],\n",
    "    scen= scen\n",
    "    )\n",
    "    # Predicting without an assignment (there's no need for that)\n",
    "    model_1_ml_.predict(\n",
    "        days_in_season= 529,    # Num of days between 15/05/20 - 25/10/21\n",
    "        shifting_12_days= True\n",
    "    )\n",
    "    # Updating the vectors to be able to run the model furthermore:\n",
    "    model_1_ml_.update({\n",
    "        'alpha_variant_vec':  neutralized_alpha_variant_vec,\n",
    "        'delta_variant_vec': neutralized_delta_variant_vec,\n",
    "        'isolation_morbidity_ratio_vector': neutralized_isolation_morbidity_ratio_vector,\n",
    "        'is_lockdown': neutralized_lockdown_vec,\n",
    "        'is_school': neutralized_school_vec,\n",
    "        'v2_to_v3_transition_t' : neutralized_transition_vector,\n",
    "        's_2_to_v3_transition_t' : neutralized_transition_vector\n",
    "    })\n",
    "    return model_1_ml_\n",
    "\n",
    "# Update model for current variables of uncertainty:\n",
    "def update_models_object(mdl_1_ml: mdl.Model_behave, realization: tuple):\n",
    "    new_rho = mdl_1_ml.rho * realization[2]\n",
    "    mdl_1_ml.update({\n",
    "        'booster_efficiency': realization[0],\n",
    "        'rho': new_rho\n",
    "    })"
   ]
  },
  {
   "cell_type": "markdown",
   "metadata": {
    "pycharm": {
     "name": "#%% md\n"
    }
   },
   "source": [
    "#### calculating the transferring proportion:"
   ]
  },
  {
   "cell_type": "code",
   "execution_count": 5,
   "metadata": {
    "pycharm": {
     "name": "#%%\n"
    }
   },
   "outputs": [],
   "source": [
    "def calc_trans_prop(vaccination_pq_: list, curr_res_mdl_1_ml: dict, curr_inv_: float):\n",
    "    # Initializing the accumulated amount used and the priority queue:\n",
    "    curr_inventory_used = 0\n",
    "    vaccination_pq_copy = vaccination_pq_.copy()\n",
    "    # Saving the combinations that we will vaccinate:\n",
    "    vaccinated_que_ = []\n",
    "    # Iterating until we cross the prior inventory level:\n",
    "    while (curr_inventory_used <= curr_inv_):\n",
    "        # Getting the current combination of (age_group, risk) from the pq:\n",
    "        current_risk_age = vaccination_pq_copy.pop(0)\n",
    "        # Getting the correspondent reported/unreported ratio for the Scenario:\n",
    "        reported_unreported = get_reported_unreported_ratio('Scenario2')\n",
    "        # Getting V2_j,r, S2_j,r proportions:\n",
    "        S_2_age_risk, V_2_age_risk, R_2_age_risk, R_1_age_risk = calc_comp_prop_for_age_risk('S_2', curr_res_mdl_1_ml,current_risk_age), \\\n",
    "                                                                 calc_comp_prop_for_age_risk('V_2', curr_res_mdl_1_ml,current_risk_age), \\\n",
    "                                                                 calc_comp_prop_for_age_risk('R_2', curr_res_mdl_1_ml,current_risk_age), \\\n",
    "                                                                 calc_comp_prop_for_age_risk('R_1', curr_res_mdl_1_ml,current_risk_age)\n",
    "        # Calculating the formula for num of needed vaccines:\n",
    "        count_vaccines_in_use = (((R_1_age_risk + R_2_age_risk) * reported_unreported) + S_2_age_risk + V_2_age_risk) * pop_israel\n",
    "        # Updating the accumulated used vaccines:\n",
    "        curr_inventory_used += count_vaccines_in_use\n",
    "        # Updating the vaccinated_que:\n",
    "        vaccinated_que_.append(current_risk_age)\n",
    "\n",
    "    final_trans_prop = curr_inv_ / curr_inventory_used\n",
    "    return final_trans_prop, vaccinated_que_"
   ]
  },
  {
   "cell_type": "markdown",
   "metadata": {
    "pycharm": {
     "name": "#%% md\n"
    }
   },
   "source": [
    "#### Vaccinating in booster dose:"
   ]
  },
  {
   "cell_type": "code",
   "execution_count": 6,
   "metadata": {
    "pycharm": {
     "name": "#%%\n"
    }
   },
   "outputs": [],
   "source": [
    "### Vaccinating in booster (moving from S_2 and V_2 to V_3, including the model update):\n",
    "def vaccinate(trans_prop_: float, curr_res_mdl_1_ml: dict, vaccination_que: list):\n",
    "    ## initialize settings:\n",
    "    vaccination_que_copy = vaccination_que.copy()\n",
    "    trans_prop_copy = trans_prop_\n",
    "    # Getting the last day of the compartments and V_3, saving it to a dictionary:\n",
    "    last_day_dict = {'S_2_last_day': np.reshape(curr_res_mdl_1_ml['S_2'][-1, :], newshape=(540) ),\n",
    "                     'V_2_last_day': np.reshape(curr_res_mdl_1_ml['V_2'][-1, :], newshape=(540) ),\n",
    "                     'V_3_last_day': np.reshape(curr_res_mdl_1_ml['V_3'][-1, :], newshape=(540) ) }\n",
    "                     #'R_1_last_day': np.reshape(curr_res_mdl_1_ml['R_1'][-1, :], newshape=(540) ),\n",
    "                     #'R_2_last_day': np.reshape(curr_res_mdl_1_ml['R_2'][-1, :], newshape=(540) )}\n",
    "\n",
    "    # Iterating over the combinations of (risk, age_group) that we need to vaccinate, and moving the population, and updating the model:\n",
    "    for curr_risk_age in vaccination_que_copy:\n",
    "        # Getting the relevant indexes to operate in the correspondent locations of the compartment:\n",
    "        curr_risk_age_indexes = get_indexes_risk_age_combination(curr_risk_age)\n",
    "\n",
    "        ## Vaccinating from S_2 to V_3\n",
    "        S_2_last_day_updated, V_3_last_day_updated = vaccinating_from_V_2_S_2(last_day_dict['V_3_last_day'], last_day_dict['S_2_last_day'], trans_prop_copy, curr_risk_age_indexes)\n",
    "        # updating the results:\n",
    "        last_day_dict['V_3_last_day'], last_day_dict['S_2_last_day'] = V_3_last_day_updated, S_2_last_day_updated\n",
    "\n",
    "        ## Vaccinating from V_2 to V_3\n",
    "        V_2_last_day_updated, V_3_last_day_updated = vaccinating_from_V_2_S_2(last_day_dict['V_3_last_day'], last_day_dict['V_2_last_day'], trans_prop_copy, curr_risk_age_indexes)\n",
    "        # updating the results:\n",
    "        last_day_dict['V_3_last_day'], last_day_dict['V_2_last_day'] = V_3_last_day_updated, V_2_last_day_updated\n",
    "\n",
    "    update_compartment(curr_res_mdl_1_ml, 'V_2', last_day_dict['V_2_last_day'])\n",
    "    update_compartment(curr_res_mdl_1_ml, 'S_2', last_day_dict['S_2_last_day'])\n",
    "    update_compartment(curr_res_mdl_1_ml, 'V_3', last_day_dict['V_3_last_day'])"
   ]
  },
  {
   "cell_type": "markdown",
   "metadata": {
    "pycharm": {
     "name": "#%% md\n"
    }
   },
   "source": [
    "### Main - 1000 iterations of the Sim:"
   ]
  },
  {
   "cell_type": "code",
   "execution_count": 7,
   "metadata": {
    "pycharm": {
     "name": "#%%\n"
    }
   },
   "outputs": [
    {
     "data": {
      "text/plain": "[(0.54, 0.2, 1.09, 7),\n (0.4, 0.11, 0.82, 9),\n (0.69, 0.17, 0.81, 10),\n (0.84, 0.12, 0.87, 4),\n (0.5, 0.15, 0.97, 5),\n (0.7, 0.11, 0.92, 5),\n (0.6, 0.18, 0.88, 7),\n (0.69, 0.1, 1.04, 4),\n (0.34, 0.2, 1.19, 9),\n (0.5, 0.11, 1.07, 6),\n (0.38, 0.15, 0.81, 10),\n (0.47, 0.17, 0.92, 7),\n (0.66, 0.12, 1.19, 9),\n (0.92, 0.19, 1.04, 10),\n (0.35, 0.12, 0.82, 5),\n (0.55, 0.12, 1.13, 5),\n (0.48, 0.15, 0.86, 9),\n (0.34, 0.2, 1.11, 4),\n (0.3, 0.18, 1.08, 8),\n (0.8, 0.1, 0.94, 3),\n (0.86, 0.16, 0.93, 3),\n (0.5, 0.13, 1.09, 8),\n (0.88, 0.15, 0.85, 8),\n (0.8, 0.16, 1.11, 6),\n (0.64, 0.14, 0.81, 3),\n (0.32, 0.17, 0.93, 7),\n (0.89, 0.12, 0.96, 9),\n (0.45, 0.1, 0.92, 4),\n (0.91, 0.18, 1.05, 9),\n (0.83, 0.12, 1.16, 7),\n (0.83, 0.19, 0.93, 3),\n (0.45, 0.14, 1.13, 9),\n (0.3, 0.15, 0.97, 4),\n (0.37, 0.13, 1.18, 5),\n (0.64, 0.17, 0.95, 10),\n (0.93, 0.12, 1.0, 5),\n (0.48, 0.1, 1.04, 7),\n (0.33, 0.13, 1.16, 4),\n (0.39, 0.15, 1.19, 4),\n (0.74, 0.18, 0.9, 8),\n (0.54, 0.16, 1.05, 7),\n (0.35, 0.19, 0.93, 4),\n (0.32, 0.16, 1.07, 3),\n (0.63, 0.12, 1.06, 4),\n (0.75, 0.14, 1.17, 4),\n (0.52, 0.11, 1.17, 10),\n (0.47, 0.17, 1.13, 7),\n (0.64, 0.12, 0.84, 10),\n (0.89, 0.16, 0.94, 5),\n (0.77, 0.19, 1.15, 9),\n (0.72, 0.1, 0.86, 10),\n (0.7, 0.1, 0.84, 8),\n (0.3, 0.11, 1.02, 8),\n (0.73, 0.12, 1.08, 4),\n (0.51, 0.18, 1.06, 9),\n (0.73, 0.16, 0.84, 5),\n (0.47, 0.12, 1.19, 6),\n (0.88, 0.16, 1.12, 7),\n (0.68, 0.15, 0.88, 8),\n (0.48, 0.1, 1.06, 4),\n (0.92, 0.2, 1.17, 5),\n (0.31, 0.2, 0.97, 10),\n (0.93, 0.19, 0.92, 6),\n (0.86, 0.13, 0.87, 7),\n (0.91, 0.17, 1.03, 3),\n (0.7, 0.2, 0.86, 7),\n (0.87, 0.18, 1.08, 8),\n (0.53, 0.13, 1.12, 9),\n (0.87, 0.2, 1.0, 7),\n (0.82, 0.17, 1.08, 9),\n (0.88, 0.13, 0.95, 3),\n (0.68, 0.1, 0.99, 7),\n (0.48, 0.16, 0.81, 3),\n (0.84, 0.13, 0.85, 7),\n (0.8, 0.12, 1.05, 3),\n (0.33, 0.15, 1.02, 8),\n (0.77, 0.2, 1.01, 5),\n (0.82, 0.12, 0.98, 3),\n (0.31, 0.2, 1.13, 8),\n (0.56, 0.11, 0.86, 5),\n (0.66, 0.17, 1.06, 5),\n (0.93, 0.18, 1.02, 7),\n (0.57, 0.12, 0.94, 9),\n (0.3, 0.11, 0.82, 3),\n (0.86, 0.17, 0.99, 3),\n (0.62, 0.15, 0.87, 6),\n (0.56, 0.16, 1.05, 3),\n (0.54, 0.16, 1.0, 9),\n (0.73, 0.11, 0.83, 8),\n (0.31, 0.16, 1.18, 7),\n (0.55, 0.17, 0.98, 7),\n (0.92, 0.14, 1.18, 10),\n (0.42, 0.1, 0.84, 3),\n (0.36, 0.17, 0.83, 5),\n (0.85, 0.1, 1.13, 5),\n (0.37, 0.17, 1.05, 10),\n (0.78, 0.18, 0.91, 4),\n (0.79, 0.18, 1.2, 6),\n (0.54, 0.18, 0.94, 10),\n (0.86, 0.14, 1.1, 9),\n (0.36, 0.19, 1.0, 9),\n (0.51, 0.19, 0.96, 3),\n (0.89, 0.11, 0.93, 10),\n (0.92, 0.16, 1.05, 6),\n (0.49, 0.13, 1.07, 9),\n (0.82, 0.18, 0.84, 6),\n (0.33, 0.16, 0.98, 10),\n (0.53, 0.11, 0.86, 9),\n (0.7, 0.11, 0.83, 8),\n (0.34, 0.19, 1.08, 3),\n (0.35, 0.2, 0.95, 5),\n (0.83, 0.2, 1.19, 9),\n (0.54, 0.1, 1.11, 7),\n (0.57, 0.19, 0.84, 6),\n (0.3, 0.15, 0.82, 3),\n (0.37, 0.17, 1.1, 7),\n (0.93, 0.14, 0.91, 9),\n (0.44, 0.2, 0.8, 10),\n (0.32, 0.19, 1.01, 10),\n (0.34, 0.16, 1.19, 7),\n (0.71, 0.17, 0.98, 8),\n (0.68, 0.19, 0.82, 5),\n (0.92, 0.19, 0.98, 7),\n (0.48, 0.12, 0.99, 5),\n (0.68, 0.1, 1.19, 10),\n (0.76, 0.15, 0.92, 9),\n (0.75, 0.11, 1.16, 9),\n (0.92, 0.17, 1.05, 6),\n (0.91, 0.19, 0.82, 3),\n (0.54, 0.18, 1.19, 4),\n (0.69, 0.14, 1.19, 9),\n (0.85, 0.15, 0.97, 5),\n (0.33, 0.19, 1.13, 10),\n (0.95, 0.16, 1.11, 10),\n (0.86, 0.12, 0.98, 4),\n (0.92, 0.16, 0.89, 8),\n (0.7, 0.13, 0.85, 8),\n (0.64, 0.18, 1.01, 9),\n (0.66, 0.16, 1.15, 6),\n (0.38, 0.1, 1.1, 7),\n (0.76, 0.12, 0.85, 3),\n (0.53, 0.16, 0.96, 6),\n (0.89, 0.13, 1.01, 9),\n (0.56, 0.16, 1.14, 10),\n (0.39, 0.2, 1.0, 5),\n (0.6, 0.2, 1.0, 5),\n (0.71, 0.12, 0.83, 4),\n (0.38, 0.11, 0.86, 8),\n (0.42, 0.13, 1.16, 6),\n (0.74, 0.11, 0.88, 3),\n (0.41, 0.13, 0.87, 3),\n (0.37, 0.15, 0.88, 5),\n (0.63, 0.17, 0.82, 9),\n (0.71, 0.1, 1.15, 10),\n (0.34, 0.13, 1.12, 8),\n (0.42, 0.12, 0.95, 6),\n (0.7, 0.14, 0.99, 8),\n (0.32, 0.12, 1.09, 10),\n (0.63, 0.15, 0.84, 6),\n (0.65, 0.12, 0.91, 6),\n (0.31, 0.13, 0.88, 5),\n (0.37, 0.19, 1.04, 8),\n (0.82, 0.15, 0.83, 7),\n (0.68, 0.18, 0.97, 4),\n (0.48, 0.13, 1.06, 7),\n (0.53, 0.2, 1.04, 4),\n (0.36, 0.11, 0.9, 4),\n (0.42, 0.13, 0.87, 10),\n (0.35, 0.15, 0.96, 10),\n (0.37, 0.14, 1.19, 9),\n (0.83, 0.12, 0.87, 8),\n (0.91, 0.16, 1.03, 5),\n (0.8, 0.12, 0.93, 6),\n (0.63, 0.12, 0.85, 7),\n (0.49, 0.16, 0.86, 6),\n (0.65, 0.1, 0.93, 4),\n (0.34, 0.2, 0.93, 9),\n (0.46, 0.17, 1.1, 7),\n (0.61, 0.14, 0.94, 10),\n (0.84, 0.2, 0.85, 8),\n (0.91, 0.11, 0.83, 8),\n (0.67, 0.19, 0.86, 9),\n (0.43, 0.11, 0.87, 9),\n (0.73, 0.15, 0.94, 10),\n (0.55, 0.18, 0.98, 6),\n (0.6, 0.13, 1.1, 7),\n (0.45, 0.19, 0.95, 7),\n (0.89, 0.16, 0.85, 10),\n (0.71, 0.13, 0.86, 9),\n (0.7, 0.15, 1.16, 9),\n (0.4, 0.13, 0.9, 8),\n (0.32, 0.16, 1.1, 10),\n (0.52, 0.19, 0.84, 9),\n (0.38, 0.14, 1.12, 4),\n (0.45, 0.17, 1.09, 8),\n (0.75, 0.15, 0.9, 5),\n (0.41, 0.19, 1.03, 6),\n (0.6, 0.2, 0.86, 7),\n (0.63, 0.16, 0.81, 9),\n (0.91, 0.16, 1.08, 10),\n (0.76, 0.11, 1.03, 7),\n (0.57, 0.18, 1.17, 10),\n (0.59, 0.11, 1.19, 9),\n (0.38, 0.2, 1.15, 7),\n (0.69, 0.14, 0.82, 5),\n (0.82, 0.1, 0.93, 6),\n (0.65, 0.2, 0.94, 5),\n (0.78, 0.14, 0.89, 6),\n (0.39, 0.11, 1.0, 6),\n (0.9, 0.13, 1.03, 8),\n (0.3, 0.17, 0.87, 10),\n (0.39, 0.14, 0.83, 10),\n (0.63, 0.16, 0.83, 8),\n (0.43, 0.19, 0.88, 4),\n (0.32, 0.15, 1.03, 3),\n (0.81, 0.14, 1.01, 6),\n (0.56, 0.16, 0.86, 4),\n (0.86, 0.2, 0.95, 5),\n (0.72, 0.14, 0.81, 4),\n (0.77, 0.17, 0.81, 4),\n (0.45, 0.17, 0.81, 3),\n (0.82, 0.11, 1.06, 4),\n (0.36, 0.12, 1.09, 9),\n (0.84, 0.14, 1.07, 4),\n (0.49, 0.19, 0.81, 3),\n (0.43, 0.1, 0.87, 7),\n (0.57, 0.19, 1.13, 5),\n (0.47, 0.14, 1.04, 5),\n (0.71, 0.14, 1.02, 6),\n (0.49, 0.2, 1.11, 4),\n (0.87, 0.15, 1.16, 9),\n (0.58, 0.1, 0.91, 7),\n (0.71, 0.12, 0.86, 9),\n (0.94, 0.15, 0.87, 5),\n (0.31, 0.2, 0.85, 7),\n (0.48, 0.16, 1.06, 9),\n (0.43, 0.1, 0.85, 10),\n (0.87, 0.16, 1.04, 8),\n (0.41, 0.2, 0.97, 6),\n (0.64, 0.1, 0.87, 8),\n (0.35, 0.16, 0.9, 6),\n (0.49, 0.13, 1.09, 5),\n (0.67, 0.15, 1.07, 10),\n (0.78, 0.12, 0.81, 5),\n (0.69, 0.1, 1.0, 7),\n (0.52, 0.18, 0.84, 3),\n (0.78, 0.15, 1.08, 6),\n (0.46, 0.19, 1.12, 8),\n (0.47, 0.16, 0.94, 3),\n (0.9, 0.11, 1.18, 6),\n (0.42, 0.15, 1.15, 8),\n (0.83, 0.17, 1.08, 9),\n (0.46, 0.15, 0.89, 10),\n (0.92, 0.1, 1.08, 10),\n (0.41, 0.16, 1.17, 3),\n (0.76, 0.13, 1.17, 10),\n (0.92, 0.15, 1.14, 9),\n (0.51, 0.19, 0.81, 7),\n (0.45, 0.11, 0.83, 8),\n (0.52, 0.17, 0.83, 5),\n (0.65, 0.18, 0.93, 8),\n (0.88, 0.16, 0.89, 3),\n (0.87, 0.1, 1.15, 7),\n (0.91, 0.18, 1.2, 5),\n (0.8, 0.14, 0.99, 8),\n (0.87, 0.2, 1.11, 6),\n (0.57, 0.18, 0.9, 3),\n (0.53, 0.13, 0.92, 4),\n (0.32, 0.1, 1.2, 6),\n (0.55, 0.17, 0.89, 10),\n (0.81, 0.1, 0.97, 10),\n (0.92, 0.15, 1.05, 4),\n (0.95, 0.12, 1.18, 8),\n (0.7, 0.15, 0.89, 4),\n (0.44, 0.12, 1.11, 5),\n (0.33, 0.2, 1.15, 10),\n (0.95, 0.11, 0.96, 9),\n (0.75, 0.11, 1.13, 4),\n (0.44, 0.15, 1.04, 7),\n (0.36, 0.19, 0.91, 4),\n (0.88, 0.2, 1.14, 9),\n (0.73, 0.16, 0.83, 6),\n (0.54, 0.12, 1.09, 6),\n (0.35, 0.12, 1.07, 3),\n (0.86, 0.15, 0.99, 7),\n (0.84, 0.13, 1.07, 7),\n (0.47, 0.19, 1.12, 8),\n (0.86, 0.19, 1.08, 9),\n (0.76, 0.17, 1.05, 9),\n (0.4, 0.19, 1.15, 3),\n (0.84, 0.11, 0.93, 8),\n (0.4, 0.18, 1.13, 7),\n (0.3, 0.13, 1.05, 10),\n (0.71, 0.12, 1.05, 7),\n (0.81, 0.11, 1.1, 7),\n (0.93, 0.13, 1.05, 10),\n (0.36, 0.2, 1.08, 3),\n (0.49, 0.17, 0.83, 7),\n (0.52, 0.16, 0.82, 9),\n (0.94, 0.2, 1.1, 4),\n (0.8, 0.1, 0.81, 5),\n (0.62, 0.18, 1.07, 6),\n (0.48, 0.2, 0.97, 6),\n (0.4, 0.18, 1.08, 4),\n (0.35, 0.17, 1.06, 5),\n (0.92, 0.11, 0.97, 10),\n (0.57, 0.17, 0.96, 5),\n (0.94, 0.14, 1.16, 4),\n (0.44, 0.1, 1.06, 5),\n (0.87, 0.15, 1.19, 4),\n (0.87, 0.18, 1.11, 9),\n (0.8, 0.16, 0.85, 3),\n (0.9, 0.16, 1.12, 6),\n (0.37, 0.11, 1.07, 6),\n (0.43, 0.15, 0.83, 7),\n (0.47, 0.18, 0.92, 6),\n (0.3, 0.1, 0.96, 6),\n (0.69, 0.13, 1.08, 9),\n (0.81, 0.1, 0.99, 3),\n (0.45, 0.2, 0.86, 6),\n (0.7, 0.17, 1.02, 3),\n (0.51, 0.15, 0.84, 5),\n (0.32, 0.1, 0.96, 4),\n (0.67, 0.17, 1.12, 4),\n (0.41, 0.11, 1.05, 8),\n (0.32, 0.2, 0.82, 7),\n (0.76, 0.19, 1.09, 9),\n (0.52, 0.18, 0.83, 10),\n (0.66, 0.18, 0.98, 8),\n (0.64, 0.18, 0.83, 3),\n (0.46, 0.11, 1.15, 4),\n (0.94, 0.13, 0.87, 9),\n (0.73, 0.15, 1.02, 8),\n (0.45, 0.2, 1.19, 8),\n (0.43, 0.17, 0.83, 3),\n (0.47, 0.15, 1.15, 8),\n (0.79, 0.14, 0.94, 5),\n (0.95, 0.1, 1.15, 7),\n (0.58, 0.17, 0.99, 9),\n (0.89, 0.14, 0.91, 7),\n (0.9, 0.12, 1.05, 8),\n (0.78, 0.11, 1.09, 10),\n (0.41, 0.12, 1.19, 4),\n (0.86, 0.15, 0.9, 9),\n (0.59, 0.15, 0.94, 7),\n (0.4, 0.14, 1.19, 5),\n (0.73, 0.13, 1.11, 4),\n (0.94, 0.14, 0.89, 3),\n (0.41, 0.15, 0.93, 9),\n (0.58, 0.12, 1.05, 8),\n (0.41, 0.11, 0.81, 8),\n (0.73, 0.15, 1.14, 9),\n (0.68, 0.19, 0.88, 3),\n (0.47, 0.1, 1.01, 10),\n (0.32, 0.11, 0.98, 10),\n (0.5, 0.15, 0.82, 4),\n (0.95, 0.2, 0.8, 10),\n (0.72, 0.19, 0.98, 7),\n (0.62, 0.17, 0.86, 3),\n (0.5, 0.17, 0.88, 8),\n (0.94, 0.11, 1.07, 6),\n (0.87, 0.11, 1.08, 9),\n (0.92, 0.17, 1.0, 7),\n (0.87, 0.16, 0.81, 10),\n (0.75, 0.17, 0.89, 8),\n (0.55, 0.17, 0.84, 8),\n (0.95, 0.1, 1.19, 6),\n (0.87, 0.18, 1.03, 8),\n (0.87, 0.14, 0.93, 8),\n (0.83, 0.18, 1.12, 6),\n (0.83, 0.11, 1.02, 3),\n (0.51, 0.14, 0.96, 8),\n (0.55, 0.14, 0.9, 5),\n (0.44, 0.1, 1.04, 8),\n (0.7, 0.15, 0.95, 9),\n (0.64, 0.15, 0.81, 5),\n (0.55, 0.14, 1.03, 7),\n (0.7, 0.18, 1.13, 8),\n (0.93, 0.1, 0.88, 3),\n (0.72, 0.19, 0.9, 10),\n (0.33, 0.2, 0.94, 3),\n (0.62, 0.12, 0.91, 5),\n (0.82, 0.15, 0.92, 7),\n (0.77, 0.12, 0.97, 3),\n (0.41, 0.17, 0.87, 7),\n (0.76, 0.11, 1.03, 5),\n (0.93, 0.15, 1.12, 7),\n (0.32, 0.16, 1.18, 7),\n (0.84, 0.19, 0.89, 4),\n (0.7, 0.14, 1.14, 10),\n (0.53, 0.12, 1.11, 5),\n (0.84, 0.14, 1.07, 3),\n (0.71, 0.14, 1.03, 4),\n (0.78, 0.19, 0.89, 3),\n (0.31, 0.17, 1.04, 7),\n (0.45, 0.14, 1.04, 6),\n (0.95, 0.11, 1.08, 6),\n (0.58, 0.17, 1.08, 10),\n (0.38, 0.11, 1.09, 7),\n (0.48, 0.1, 0.83, 10),\n (0.42, 0.13, 0.89, 5),\n (0.34, 0.15, 0.83, 9),\n (0.45, 0.15, 1.15, 8),\n (0.65, 0.13, 0.93, 8),\n (0.95, 0.17, 1.02, 8),\n (0.6, 0.1, 1.02, 10),\n (0.41, 0.17, 0.88, 7),\n (0.36, 0.14, 1.1, 5),\n (0.73, 0.18, 1.17, 4),\n (0.56, 0.11, 1.2, 10),\n (0.65, 0.19, 1.01, 7),\n (0.35, 0.18, 0.85, 9),\n (0.81, 0.17, 0.81, 5),\n (0.47, 0.13, 0.84, 10),\n (0.66, 0.13, 0.96, 6),\n (0.69, 0.15, 1.17, 6),\n (0.95, 0.19, 0.88, 10),\n (0.37, 0.18, 0.95, 10),\n (0.87, 0.18, 1.12, 5),\n (0.35, 0.14, 0.87, 8),\n (0.52, 0.2, 1.06, 9),\n (0.38, 0.19, 1.17, 6),\n (0.7, 0.18, 0.87, 7),\n (0.56, 0.11, 0.95, 3),\n (0.31, 0.11, 1.19, 7),\n (0.93, 0.14, 0.92, 7),\n (0.59, 0.11, 1.06, 4),\n (0.7, 0.17, 0.86, 3),\n (0.81, 0.15, 0.82, 10),\n (0.33, 0.17, 1.19, 4),\n (0.39, 0.11, 0.92, 3),\n (0.75, 0.1, 1.0, 10),\n (0.83, 0.16, 0.92, 7),\n (0.64, 0.14, 0.85, 10),\n (0.59, 0.12, 0.95, 6),\n (0.84, 0.18, 1.11, 3),\n (0.57, 0.15, 0.81, 5),\n (0.8, 0.11, 1.01, 4),\n (0.3, 0.12, 1.19, 9),\n (0.93, 0.15, 0.84, 7),\n (0.59, 0.19, 0.84, 6),\n (0.39, 0.13, 1.09, 6),\n (0.54, 0.14, 0.98, 9),\n (0.88, 0.2, 1.11, 5),\n (0.75, 0.14, 0.9, 9),\n (0.32, 0.19, 0.98, 8),\n (0.73, 0.19, 1.05, 7),\n (0.34, 0.15, 0.86, 8),\n (0.63, 0.17, 0.82, 3),\n (0.77, 0.1, 0.83, 3),\n (0.93, 0.18, 0.94, 5),\n (0.53, 0.18, 1.06, 4),\n (0.41, 0.11, 1.06, 9),\n (0.47, 0.1, 0.83, 10),\n (0.49, 0.18, 1.05, 6),\n (0.43, 0.11, 1.05, 9),\n (0.72, 0.15, 0.82, 10),\n (0.82, 0.13, 1.19, 7),\n (0.68, 0.18, 1.12, 8),\n (0.38, 0.13, 1.17, 4),\n (0.54, 0.14, 0.98, 7),\n (0.92, 0.12, 0.85, 4),\n (0.88, 0.17, 0.91, 9),\n (0.86, 0.19, 1.17, 5),\n (0.79, 0.15, 1.14, 8),\n (0.81, 0.17, 0.87, 7),\n (0.94, 0.2, 0.82, 4),\n (0.38, 0.17, 1.13, 4),\n (0.63, 0.19, 1.09, 7),\n (0.68, 0.15, 0.92, 7),\n (0.75, 0.19, 1.05, 9),\n (0.4, 0.15, 0.8, 4),\n (0.77, 0.2, 0.84, 6),\n (0.82, 0.12, 1.02, 8),\n (0.7, 0.12, 0.94, 9),\n (0.66, 0.1, 1.1, 3),\n (0.79, 0.12, 1.18, 5),\n (0.51, 0.11, 0.92, 10),\n (0.95, 0.14, 0.98, 8),\n (0.88, 0.16, 0.96, 6),\n (0.75, 0.1, 1.05, 5),\n (0.82, 0.11, 1.04, 6),\n (0.72, 0.1, 1.03, 7),\n (0.67, 0.16, 1.07, 9),\n (0.47, 0.19, 1.0, 3),\n (0.33, 0.13, 1.11, 8),\n (0.82, 0.15, 0.98, 4),\n (0.51, 0.14, 0.84, 4),\n (0.69, 0.18, 1.2, 10),\n (0.72, 0.14, 1.05, 9),\n (0.37, 0.14, 1.14, 6),\n (0.67, 0.16, 0.87, 5),\n (0.52, 0.1, 0.81, 9),\n (0.48, 0.15, 0.92, 10),\n (0.47, 0.14, 1.15, 9),\n (0.42, 0.18, 0.98, 6),\n (0.38, 0.1, 1.09, 6),\n (0.58, 0.18, 1.11, 4),\n (0.7, 0.11, 1.1, 8),\n (0.93, 0.1, 0.82, 5),\n (0.47, 0.12, 1.16, 4),\n (0.47, 0.18, 0.98, 9),\n (0.34, 0.15, 0.81, 3),\n (0.89, 0.11, 1.01, 6),\n (0.52, 0.19, 0.81, 8),\n (0.93, 0.16, 1.17, 3),\n (0.57, 0.12, 1.09, 10),\n (0.46, 0.17, 0.88, 7),\n (0.6, 0.2, 1.04, 5),\n (0.37, 0.11, 0.89, 5),\n (0.86, 0.16, 1.01, 3),\n (0.86, 0.17, 0.83, 8),\n (0.65, 0.1, 0.98, 6),\n (0.4, 0.2, 1.14, 8),\n (0.6, 0.14, 1.06, 7),\n (0.34, 0.15, 1.12, 6),\n (0.33, 0.18, 0.88, 5),\n (0.4, 0.13, 1.1, 7),\n (0.43, 0.19, 1.15, 9),\n (0.45, 0.14, 1.19, 9),\n (0.31, 0.1, 0.99, 10),\n (0.65, 0.15, 0.84, 8),\n (0.84, 0.14, 1.11, 10),\n (0.43, 0.15, 0.91, 9),\n (0.68, 0.16, 1.12, 6),\n (0.9, 0.15, 0.86, 8),\n (0.82, 0.13, 1.14, 10),\n (0.48, 0.2, 0.86, 4),\n (0.42, 0.19, 1.06, 4),\n (0.59, 0.16, 0.83, 10),\n (0.83, 0.15, 1.19, 6),\n (0.94, 0.17, 1.05, 4),\n (0.88, 0.14, 0.86, 3),\n (0.66, 0.15, 1.09, 10),\n (0.35, 0.18, 0.87, 9),\n (0.84, 0.15, 1.08, 5),\n (0.61, 0.19, 0.98, 5),\n (0.62, 0.19, 0.93, 4),\n (0.76, 0.19, 0.84, 4),\n (0.39, 0.13, 0.98, 8),\n (0.72, 0.16, 0.94, 9),\n (0.61, 0.2, 1.05, 4),\n (0.74, 0.13, 1.07, 3),\n (0.41, 0.19, 0.89, 9),\n (0.48, 0.17, 1.08, 7),\n (0.5, 0.12, 0.81, 5),\n (0.73, 0.2, 1.15, 9),\n (0.82, 0.17, 0.9, 10),\n (0.74, 0.16, 0.84, 6),\n (0.6, 0.19, 1.02, 6),\n (0.94, 0.11, 0.97, 3),\n (0.78, 0.2, 0.91, 9),\n (0.49, 0.2, 1.1, 9),\n (0.31, 0.2, 1.09, 5),\n (0.84, 0.13, 1.15, 3),\n (0.76, 0.15, 0.84, 4),\n (0.3, 0.15, 0.92, 7),\n (0.49, 0.13, 1.1, 3),\n (0.89, 0.19, 1.07, 7),\n (0.88, 0.12, 0.83, 4),\n (0.82, 0.1, 1.03, 10),\n (0.86, 0.15, 0.83, 9),\n (0.69, 0.11, 0.84, 10),\n (0.74, 0.19, 1.15, 7),\n (0.64, 0.14, 0.93, 6),\n (0.81, 0.16, 1.16, 6),\n (0.7, 0.16, 1.04, 8),\n (0.45, 0.15, 0.84, 6),\n (0.62, 0.17, 1.18, 7),\n (0.79, 0.15, 1.05, 3),\n (0.46, 0.13, 0.99, 3),\n (0.39, 0.13, 1.19, 5),\n (0.61, 0.12, 1.04, 5),\n (0.43, 0.15, 0.8, 3),\n (0.44, 0.1, 0.84, 5),\n (0.82, 0.16, 1.01, 5),\n (0.91, 0.14, 0.83, 7),\n (0.37, 0.13, 1.0, 9),\n (0.62, 0.17, 1.2, 4),\n (0.48, 0.14, 0.97, 6),\n (0.89, 0.17, 1.04, 5),\n (0.84, 0.2, 1.13, 3),\n (0.72, 0.1, 0.9, 3),\n (0.69, 0.17, 0.85, 6),\n (0.6, 0.14, 0.85, 6),\n (0.79, 0.1, 0.83, 5),\n (0.92, 0.17, 1.07, 5),\n (0.69, 0.1, 1.05, 10),\n (0.7, 0.19, 1.09, 3),\n (0.89, 0.1, 1.01, 4),\n (0.3, 0.14, 0.92, 6),\n (0.68, 0.1, 0.85, 7),\n (0.52, 0.18, 1.06, 9),\n (0.75, 0.14, 1.07, 5),\n (0.5, 0.18, 0.98, 9),\n (0.84, 0.19, 1.17, 6),\n (0.51, 0.16, 0.95, 7),\n (0.76, 0.17, 0.95, 4),\n (0.58, 0.11, 1.16, 5),\n (0.4, 0.1, 1.06, 8),\n (0.52, 0.1, 0.96, 5),\n (0.74, 0.16, 0.95, 4),\n (0.95, 0.14, 1.08, 4),\n (0.62, 0.1, 1.0, 10),\n (0.55, 0.1, 0.81, 6),\n (0.4, 0.1, 1.1, 6),\n (0.49, 0.19, 0.85, 10),\n (0.5, 0.19, 1.04, 9),\n (0.94, 0.13, 1.18, 6),\n (0.55, 0.13, 1.02, 4),\n (0.66, 0.15, 1.1, 9),\n (0.59, 0.13, 0.9, 4),\n (0.33, 0.13, 0.91, 10),\n (0.66, 0.13, 1.03, 4),\n (0.59, 0.16, 1.0, 6),\n (0.95, 0.19, 1.05, 7),\n (0.7, 0.12, 0.96, 3),\n (0.61, 0.15, 0.89, 10),\n (0.9, 0.17, 1.01, 9),\n (0.38, 0.18, 0.85, 9),\n (0.48, 0.19, 1.18, 4),\n (0.6, 0.2, 0.99, 9),\n (0.68, 0.14, 0.91, 4),\n (0.8, 0.14, 1.0, 6),\n (0.68, 0.19, 1.19, 6),\n (0.84, 0.18, 1.03, 10),\n (0.43, 0.11, 1.14, 6),\n (0.85, 0.19, 0.82, 10),\n (0.59, 0.15, 1.05, 10),\n (0.31, 0.15, 1.08, 8),\n (0.75, 0.11, 0.92, 5),\n (0.83, 0.13, 0.88, 10),\n (0.3, 0.2, 1.07, 9),\n (0.49, 0.1, 1.1, 9),\n (0.78, 0.11, 1.1, 9),\n (0.73, 0.18, 1.14, 7),\n (0.35, 0.15, 0.83, 6),\n (0.56, 0.1, 0.94, 3),\n (0.83, 0.2, 0.83, 10),\n (0.64, 0.13, 0.83, 7),\n (0.82, 0.17, 0.82, 3),\n (0.56, 0.13, 0.89, 5),\n (0.83, 0.2, 0.96, 10),\n (0.51, 0.15, 0.89, 8),\n (0.94, 0.16, 0.94, 8),\n (0.38, 0.19, 1.0, 6),\n (0.68, 0.16, 0.83, 8),\n (0.45, 0.17, 1.13, 9),\n (0.66, 0.15, 0.86, 9),\n (0.47, 0.15, 0.91, 4),\n (0.71, 0.1, 1.1, 5),\n (0.3, 0.15, 0.82, 5),\n (0.76, 0.1, 1.14, 3),\n (0.46, 0.18, 0.93, 3),\n (0.53, 0.12, 1.14, 5),\n (0.82, 0.19, 0.97, 10),\n (0.54, 0.2, 0.84, 8),\n (0.62, 0.14, 1.05, 8),\n (0.3, 0.11, 1.09, 8),\n (0.93, 0.18, 1.18, 8),\n (0.49, 0.11, 1.11, 8),\n (0.33, 0.13, 1.18, 7),\n (0.58, 0.15, 0.88, 5),\n (0.54, 0.1, 1.11, 6),\n (0.84, 0.19, 0.88, 8),\n (0.61, 0.19, 0.89, 8),\n (0.7, 0.13, 0.85, 8),\n (0.78, 0.13, 1.06, 6),\n (0.77, 0.12, 1.16, 5),\n (0.54, 0.1, 0.84, 7),\n (0.47, 0.19, 0.81, 6),\n (0.52, 0.1, 0.85, 6),\n (0.62, 0.14, 1.01, 7),\n (0.3, 0.15, 1.19, 7),\n (0.74, 0.13, 1.11, 9),\n (0.64, 0.2, 0.85, 3),\n (0.8, 0.18, 0.85, 5),\n (0.31, 0.13, 1.11, 7),\n (0.52, 0.14, 0.8, 5),\n (0.72, 0.2, 1.14, 3),\n (0.89, 0.18, 1.11, 6),\n (0.56, 0.13, 0.83, 4),\n (0.46, 0.15, 1.1, 6),\n (0.33, 0.2, 1.18, 9),\n (0.95, 0.15, 1.19, 3),\n (0.54, 0.12, 0.88, 4),\n (0.71, 0.18, 1.03, 4),\n (0.83, 0.16, 0.96, 8),\n (0.47, 0.13, 1.17, 5),\n (0.61, 0.19, 1.08, 3),\n (0.39, 0.1, 1.05, 6),\n (0.38, 0.2, 1.01, 4),\n (0.63, 0.17, 0.83, 5),\n (0.83, 0.15, 1.02, 6),\n (0.32, 0.11, 0.98, 4),\n (0.33, 0.19, 1.19, 9),\n (0.86, 0.12, 1.18, 4),\n (0.92, 0.2, 1.08, 10),\n (0.67, 0.12, 0.97, 7),\n (0.34, 0.16, 1.19, 4),\n (0.82, 0.19, 1.18, 10),\n (0.64, 0.2, 1.1, 4),\n (0.61, 0.17, 0.9, 8),\n (0.73, 0.11, 1.03, 9),\n (0.62, 0.1, 0.8, 5),\n (0.91, 0.12, 1.05, 4),\n (0.51, 0.19, 1.09, 3),\n (0.58, 0.1, 0.99, 8),\n (0.37, 0.13, 0.96, 10),\n (0.95, 0.1, 1.1, 5),\n (0.55, 0.18, 1.17, 10),\n (0.68, 0.13, 1.12, 5),\n (0.67, 0.13, 1.06, 4),\n (0.42, 0.2, 0.84, 7),\n (0.44, 0.1, 0.81, 4),\n (0.87, 0.13, 1.18, 7),\n (0.58, 0.16, 1.01, 9),\n (0.48, 0.13, 1.16, 10),\n (0.88, 0.14, 1.11, 6),\n (0.62, 0.12, 1.04, 4),\n (0.51, 0.19, 0.88, 3),\n (0.34, 0.2, 1.0, 6),\n (0.83, 0.19, 0.93, 8),\n (0.8, 0.17, 0.86, 10),\n (0.65, 0.13, 0.97, 3),\n (0.38, 0.18, 0.8, 6),\n (0.64, 0.1, 1.19, 4),\n (0.5, 0.13, 0.89, 3),\n (0.78, 0.2, 0.89, 8),\n (0.78, 0.19, 0.97, 5),\n (0.51, 0.17, 1.13, 4),\n (0.54, 0.19, 1.12, 10),\n (0.79, 0.14, 1.04, 8),\n (0.35, 0.15, 1.08, 4),\n (0.81, 0.16, 1.18, 3),\n (0.47, 0.16, 0.92, 8),\n (0.8, 0.11, 1.01, 7),\n (0.54, 0.2, 1.13, 8),\n (0.77, 0.15, 1.17, 8),\n (0.78, 0.19, 0.91, 9),\n (0.42, 0.13, 0.93, 10),\n (0.86, 0.17, 1.09, 7),\n (0.92, 0.15, 0.95, 4),\n (0.81, 0.18, 0.95, 3),\n (0.85, 0.1, 1.08, 10),\n (0.58, 0.12, 1.08, 9),\n (0.66, 0.2, 0.82, 7),\n (0.77, 0.19, 0.87, 9),\n (0.66, 0.14, 0.85, 9),\n (0.4, 0.13, 0.92, 9),\n (0.74, 0.18, 0.9, 7),\n (0.67, 0.19, 1.16, 3),\n (0.74, 0.1, 1.02, 5),\n (0.5, 0.13, 1.05, 5),\n (0.78, 0.14, 0.83, 9),\n (0.48, 0.14, 1.07, 5),\n (0.33, 0.14, 1.18, 8),\n (0.74, 0.16, 0.88, 6),\n (0.79, 0.11, 0.91, 5),\n (0.58, 0.2, 0.83, 7),\n (0.41, 0.2, 0.85, 6),\n (0.78, 0.17, 0.97, 5),\n (0.56, 0.12, 0.88, 6),\n (0.47, 0.13, 1.06, 10),\n (0.69, 0.1, 0.83, 10),\n (0.49, 0.11, 1.04, 7),\n (0.72, 0.12, 0.81, 10),\n (0.46, 0.17, 1.08, 7),\n (0.5, 0.12, 1.04, 9),\n (0.92, 0.11, 0.86, 10),\n (0.78, 0.19, 0.88, 7),\n (0.76, 0.17, 0.96, 3),\n (0.68, 0.12, 0.98, 10),\n (0.56, 0.19, 0.88, 8),\n (0.94, 0.11, 0.8, 6),\n (0.36, 0.18, 1.17, 6),\n (0.47, 0.14, 1.09, 3),\n (0.68, 0.16, 1.06, 4),\n (0.77, 0.11, 0.88, 10),\n (0.78, 0.1, 0.9, 4),\n (0.47, 0.12, 0.83, 6),\n (0.78, 0.16, 1.07, 3),\n (0.92, 0.19, 1.12, 9),\n (0.91, 0.15, 0.88, 7),\n (0.79, 0.18, 1.01, 3),\n (0.54, 0.2, 1.03, 7),\n (0.47, 0.14, 1.16, 8),\n (0.81, 0.14, 1.05, 4),\n (0.76, 0.14, 0.98, 8),\n (0.91, 0.1, 1.13, 5),\n (0.59, 0.1, 0.92, 7),\n (0.33, 0.15, 1.17, 3),\n (0.8, 0.14, 1.06, 5),\n (0.4, 0.11, 0.83, 4),\n (0.73, 0.19, 1.13, 8),\n (0.37, 0.13, 0.92, 4),\n (0.63, 0.15, 0.94, 5),\n (0.84, 0.18, 0.92, 10),\n (0.92, 0.13, 0.94, 7),\n (0.92, 0.19, 0.84, 6),\n (0.66, 0.15, 0.88, 9),\n (0.74, 0.19, 1.14, 8),\n (0.58, 0.16, 0.86, 8),\n (0.41, 0.17, 0.89, 3),\n (0.4, 0.1, 1.09, 8),\n (0.63, 0.11, 0.83, 3),\n (0.4, 0.19, 0.9, 5),\n (0.36, 0.12, 1.01, 7),\n (0.46, 0.1, 0.96, 4),\n (0.44, 0.2, 1.05, 7),\n (0.57, 0.14, 1.02, 8),\n (0.76, 0.11, 1.0, 6),\n (0.87, 0.16, 1.01, 3),\n (0.69, 0.11, 0.93, 4),\n (0.75, 0.12, 0.96, 10),\n (0.43, 0.15, 0.97, 3),\n (0.82, 0.1, 0.99, 7),\n (0.71, 0.17, 0.9, 3),\n (0.77, 0.15, 1.13, 9),\n (0.85, 0.15, 0.93, 9),\n (0.59, 0.12, 1.14, 10),\n (0.6, 0.1, 0.96, 9),\n (0.89, 0.12, 0.83, 10),\n (0.55, 0.15, 1.19, 3),\n (0.72, 0.1, 0.95, 9),\n (0.58, 0.2, 1.02, 5),\n (0.44, 0.13, 0.95, 3),\n (0.54, 0.15, 1.09, 8),\n (0.76, 0.1, 0.89, 8),\n (0.61, 0.1, 1.12, 9),\n (0.66, 0.1, 1.11, 7),\n (0.81, 0.18, 1.12, 7),\n (0.39, 0.17, 1.05, 8),\n (0.41, 0.12, 1.16, 8),\n (0.89, 0.18, 1.04, 8),\n (0.88, 0.16, 1.05, 4),\n (0.61, 0.17, 0.91, 4),\n (0.5, 0.12, 0.89, 6),\n (0.89, 0.15, 0.88, 3),\n (0.75, 0.14, 1.13, 8),\n (0.82, 0.12, 1.08, 5),\n (0.91, 0.17, 0.93, 5),\n (0.42, 0.17, 0.89, 7),\n (0.47, 0.17, 1.13, 9),\n (0.8, 0.12, 0.84, 8),\n (0.54, 0.14, 0.81, 5),\n (0.32, 0.19, 0.9, 7),\n (0.32, 0.17, 0.93, 10),\n (0.88, 0.13, 1.16, 10),\n (0.84, 0.19, 0.9, 7),\n (0.34, 0.11, 1.2, 5),\n (0.79, 0.18, 1.14, 10),\n (0.45, 0.1, 0.96, 4),\n (0.31, 0.13, 1.11, 7),\n (0.5, 0.17, 0.89, 3),\n (0.8, 0.16, 1.1, 3),\n (0.85, 0.16, 1.03, 7),\n (0.87, 0.16, 1.03, 10),\n (0.79, 0.14, 1.08, 6),\n (0.45, 0.16, 1.17, 10),\n (0.52, 0.15, 0.88, 10),\n (0.94, 0.17, 1.12, 8),\n (0.69, 0.1, 0.98, 8),\n (0.74, 0.14, 1.18, 4),\n (0.63, 0.17, 1.08, 8),\n (0.48, 0.11, 1.05, 7),\n (0.41, 0.17, 0.98, 8),\n (0.85, 0.11, 0.81, 9),\n (0.7, 0.17, 1.14, 9),\n (0.93, 0.15, 1.0, 6),\n (0.4, 0.16, 0.91, 10),\n (0.68, 0.16, 0.94, 3),\n (0.32, 0.14, 0.83, 7),\n (0.88, 0.19, 1.06, 4),\n (0.86, 0.19, 0.88, 8),\n (0.48, 0.18, 1.2, 3),\n (0.89, 0.16, 1.19, 6),\n (0.85, 0.1, 0.93, 3),\n (0.94, 0.18, 1.14, 10),\n (0.35, 0.14, 0.83, 4),\n (0.45, 0.15, 0.91, 3),\n (0.41, 0.11, 1.19, 9),\n (0.93, 0.14, 0.91, 9),\n (0.51, 0.13, 0.89, 4),\n (0.46, 0.13, 1.07, 3),\n (0.43, 0.18, 0.86, 5),\n (0.87, 0.11, 0.83, 6),\n (0.49, 0.16, 1.12, 4),\n (0.68, 0.15, 0.86, 7),\n (0.48, 0.15, 0.83, 6),\n (0.5, 0.19, 0.82, 6),\n (0.6, 0.17, 1.03, 8),\n (0.81, 0.19, 0.93, 7),\n (0.85, 0.2, 1.16, 5),\n (0.42, 0.15, 1.1, 6),\n (0.61, 0.19, 0.94, 9),\n (0.56, 0.13, 0.98, 9),\n (0.38, 0.12, 1.18, 4),\n (0.67, 0.16, 1.0, 8),\n (0.45, 0.16, 0.95, 8),\n (0.39, 0.16, 0.87, 5),\n (0.44, 0.12, 1.13, 5),\n (0.91, 0.2, 1.03, 4),\n (0.54, 0.18, 0.95, 3),\n (0.66, 0.19, 1.12, 4),\n (0.74, 0.12, 0.89, 9),\n (0.46, 0.12, 0.8, 9),\n (0.82, 0.16, 1.1, 4),\n (0.6, 0.13, 0.84, 6),\n (0.9, 0.1, 0.92, 4),\n (0.45, 0.19, 0.99, 6),\n (0.8, 0.11, 0.99, 6),\n (0.69, 0.2, 1.11, 6),\n (0.84, 0.11, 0.81, 4),\n (0.52, 0.15, 1.05, 10),\n (0.63, 0.15, 0.82, 3),\n (0.66, 0.14, 1.14, 4),\n (0.31, 0.14, 0.89, 3),\n (0.77, 0.11, 1.04, 5),\n (0.41, 0.14, 1.12, 6),\n (0.79, 0.11, 1.11, 4),\n (0.74, 0.16, 1.17, 6),\n (0.34, 0.1, 1.13, 7),\n (0.81, 0.12, 0.94, 3),\n (0.93, 0.17, 1.17, 5),\n (0.7, 0.17, 0.93, 9),\n (0.92, 0.19, 1.1, 5),\n (0.48, 0.2, 0.8, 8),\n (0.76, 0.16, 1.2, 5),\n (0.52, 0.1, 0.98, 5),\n (0.52, 0.19, 1.17, 4),\n (0.54, 0.2, 0.82, 3),\n (0.4, 0.16, 0.86, 10),\n (0.59, 0.15, 0.9, 6),\n (0.73, 0.18, 1.1, 7),\n (0.89, 0.18, 1.1, 3),\n (0.3, 0.12, 1.07, 6),\n (0.56, 0.19, 1.16, 10),\n (0.5, 0.17, 0.91, 4),\n (0.42, 0.13, 0.97, 9),\n (0.37, 0.18, 1.01, 5),\n (0.62, 0.13, 1.04, 6),\n (0.4, 0.11, 1.02, 10),\n (0.52, 0.18, 1.06, 10),\n (0.84, 0.16, 1.06, 10),\n (0.56, 0.13, 0.8, 9),\n (0.82, 0.11, 1.03, 6),\n (0.37, 0.2, 0.89, 3),\n (0.69, 0.18, 0.81, 8),\n (0.65, 0.11, 0.87, 7),\n (0.49, 0.2, 1.13, 10),\n (0.47, 0.2, 0.97, 5),\n (0.33, 0.1, 1.08, 6),\n (0.44, 0.16, 0.9, 7),\n (0.53, 0.19, 1.13, 6),\n (0.53, 0.13, 1.12, 5),\n (0.43, 0.1, 0.99, 6),\n (0.85, 0.12, 0.95, 9),\n (0.84, 0.14, 0.98, 5),\n (0.91, 0.11, 1.17, 8),\n (0.65, 0.1, 0.99, 6),\n (0.4, 0.17, 1.19, 7),\n (0.77, 0.1, 0.97, 3),\n (0.7, 0.2, 1.06, 3),\n (0.53, 0.16, 0.96, 9),\n (0.83, 0.16, 0.95, 5),\n (0.36, 0.13, 0.97, 8),\n (0.73, 0.1, 0.96, 4),\n (0.4, 0.19, 0.82, 6),\n (0.41, 0.19, 1.02, 4),\n (0.63, 0.18, 1.18, 4),\n (0.88, 0.2, 1.17, 8),\n (0.71, 0.14, 1.1, 7),\n (0.74, 0.14, 1.09, 9),\n (0.39, 0.19, 1.02, 9),\n (0.58, 0.14, 1.17, 5),\n (0.85, 0.15, 1.01, 5),\n (0.67, 0.13, 0.82, 5),\n (0.3, 0.2, 1.19, 6),\n (0.78, 0.13, 1.07, 9),\n (0.92, 0.14, 1.11, 5),\n (0.95, 0.1, 1.04, 8),\n (0.75, 0.11, 1.18, 4),\n (0.71, 0.12, 0.92, 7),\n (0.57, 0.11, 0.87, 6),\n (0.79, 0.19, 0.83, 6),\n (0.36, 0.1, 1.06, 7),\n (0.4, 0.12, 0.81, 9),\n (0.94, 0.11, 0.89, 9),\n (0.91, 0.14, 0.82, 3),\n (0.67, 0.14, 0.81, 7),\n (0.3, 0.18, 0.92, 3),\n (0.68, 0.14, 1.19, 7),\n (0.48, 0.17, 0.91, 10),\n (0.54, 0.16, 0.82, 6),\n (0.84, 0.18, 0.89, 4),\n (0.83, 0.2, 0.84, 6),\n (0.52, 0.19, 0.83, 4),\n (0.79, 0.1, 1.0, 6),\n (0.52, 0.14, 1.01, 4)]"
     },
     "execution_count": 7,
     "metadata": {},
     "output_type": "execute_result"
    }
   ],
   "source": [
    "list_of_tuples"
   ]
  },
  {
   "cell_type": "code",
   "execution_count": 8,
   "metadata": {
    "pycharm": {
     "name": "#%%\n"
    }
   },
   "outputs": [
    {
     "name": "stderr",
     "output_type": "stream",
     "text": [
      "tqdm() Progress Bar: 100%|██████████| 1000/1000 [4:21:13<00:00, 15.67s/it] \n"
     ]
    }
   ],
   "source": [
    "# A list to hold 1000 realizations of cases per year:\n",
    "cases_per_year_list = []\n",
    "\n",
    "# Big loop run:\n",
    "for tup in tqdm.tqdm(list_of_tuples, desc= 'tqdm() Progress Bar'):\n",
    "    # Initializing the model's object (and its predictions) to t=0:\n",
    "    model_1_ml = defining_model('Scenario2')\n",
    "    # Settings:\n",
    "    update_models_object(model_1_ml, tup)       # Updating the v3_efficiency and the proba for hosp\n",
    "    inv_level = tup[1] * pop_israel             # Updating the inventory level\n",
    "    years_for_model_run = tup[3]                # Updating the years for the model to run for\n",
    "\n",
    "    # Running the model for X years, in 6 months resolution\n",
    "    for i in range(years_for_model_run*2):\n",
    "        # Running until the vaccination month:\n",
    "        for j in range(1):\n",
    "            res_mdl_1_ml = model_1_ml.predict(\n",
    "                            days_in_season= 30,\n",
    "                            continuous_predict= True\n",
    "                            )\n",
    "            # Getting the proportion of transition, and the combinations that we vaccinate:\n",
    "            trans_prop, vaccinated_que = calc_trans_prop(vaccination_pq, res_mdl_1_ml, inv_level)\n",
    "            # Vaccinating (including the model update):\n",
    "            vaccinate(trans_prop, res_mdl_1_ml, vaccinated_que)\n",
    "\n",
    "        # Running the model until the end of the current \"single\" run (half a year)\n",
    "        for k in range(5):\n",
    "            res_mdl_1_ml = model_1_ml.predict(\n",
    "                days_in_season= 30,\n",
    "                continuous_predict= True\n",
    "            )\n",
    "    ## Calculating the cases per year index for every measurement:\n",
    "    tot_new_Is = np.add(res_mdl_1_ml['new_Is_1'].sum(axis=1) * pop_israel, res_mdl_1_ml['new_Is_2'].sum(axis=1) * pop_israel)\n",
    "    tot_new_H = np.add(res_mdl_1_ml['new_H_1'].sum(axis=1) * pop_israel, res_mdl_1_ml['new_H_2'].sum(axis=1) * pop_israel)\n",
    "    # Transferring to cumulative sum:\n",
    "    cumsum_tot_new_Is, cumsum_tot_new_H = np.cumsum(tot_new_Is), np.cumsum(tot_new_H)\n",
    "    # Performing the calculation itself:\n",
    "    cases_per_year_new_Is, cases_per_year_new_H = (cumsum_tot_new_Is[-1] - cumsum_tot_new_Is[528]) / years_for_model_run, (cumsum_tot_new_H[-1] - cumsum_tot_new_H[528]) / years_for_model_run\n",
    "    cases_per_year_list.append((cases_per_year_new_Is, cases_per_year_new_H))"
   ]
  },
  {
   "cell_type": "code",
   "execution_count": 9,
   "metadata": {
    "pycharm": {
     "name": "#%%\n"
    }
   },
   "outputs": [
    {
     "data": {
      "text/plain": "[(1543028.9414805386, 11117.500125115612),\n (1551231.1318346597, 8061.343114311358),\n (1536057.8175243686, 7752.156906729931),\n (1499515.3836034643, 9609.499859971516),\n (1545789.487200645, 10560.938103655268),\n (1524883.4736368705, 9880.27887015523),\n (1538633.0069152545, 8949.057582386904),\n (1521097.810511582, 11648.812458374165),\n (1554255.2298848548, 11723.793206416607),\n (1545824.511224483, 11248.033804181725),\n (1551640.3802573276, 7837.2983596278555),\n (1547960.926287366, 9414.990065006943),\n (1536757.5577432597, 11581.939778101772),\n (1522447.1427510655, 9861.247440468174),\n (1559885.352227031, 9011.636170258509),\n (1540794.694941293, 12262.566206431495),\n (1547018.1166281423, 8429.667458077058),\n (1564454.2081331122, 12789.340104968183),\n (1557466.7363493026, 10870.87616466534),\n (1491051.1647507763, 10936.810197931532),\n (1479199.8251573518, 10737.09861688522),\n (1545906.6866052502, 10883.78771904538),\n (1519668.7066109525, 8338.315234895766),\n (1518891.9840851931, 11462.627027347417),\n (1520657.0238855744, 9607.474384289393),\n (1557837.0618429843, 9581.95083830351),\n (1521918.023093805, 9249.86719238008),\n (1551818.0141612408, 10512.686529563069),\n (1520520.959708334, 10107.551910269083),\n (1520243.5028700647, 11652.89336632595),\n (1485180.3773878918, 10779.109486465582),\n (1548622.4675778092, 11088.609142528581),\n (1568833.1093526806, 11208.572253890097),\n (1558081.6084825024, 12952.380679889813),\n (1538771.085357479, 9109.117765676394),\n (1497474.9446601216, 10550.081375577054),\n (1547269.141344564, 10638.029920599054),\n (1565559.6126031256, 13375.167317055695),\n (1558819.4515105651, 13660.422875395814),\n (1530044.244993755, 8890.306806816829),\n (1543028.9414805386, 10709.518469148079),\n (1563341.6490086608, 10707.552204536545),\n (1572152.6012908986, 13122.60634251451),\n (1529197.76595163, 11935.35598349395),\n (1512701.6728612194, 13033.845926641594),\n (1544963.111180223, 11267.165168081474),\n (1547960.926287366, 11564.063884193278),\n (1538771.085357479, 8054.377813861237),\n (1502541.6938861876, 9949.644043965385),\n (1529923.110510453, 11140.624322305954),\n (1534390.6840835002, 8221.233109344053),\n (1532847.8904941808, 8313.304078890415),\n (1557466.7363493026, 10266.938599961686),\n (1515534.1587858472, 12053.325916882792),\n (1545384.0884749687, 10378.243622736503),\n (1521527.3353996363, 9001.42208360496),\n (1548261.0052262181, 12529.912998587417),\n (1515887.2832532322, 11218.770364651611),\n (1534224.7821510043, 8717.276004169817),\n (1548217.9154962935, 12083.98963702929),\n (1498755.1787667074, 12353.82072298633),\n (1554765.5153427077, 9406.464092529388),\n (1505579.5921934585, 9418.324817648045),\n (1517647.0026216935, 8724.69794047903),\n (1468973.751556037, 11812.35606730591),\n (1530948.8187719584, 8700.813667422677),\n (1520441.1825031778, 10600.018070218113),\n (1544278.111381955, 10957.275021689908),\n (1516770.0863409955, 10022.589902986572),\n (1526662.1784156552, 10439.426129854155),\n (1475149.2954886965, 10939.004371621859),\n (1532522.3732581097, 10026.573405380477),\n (1547631.0836989863, 9777.038897282122),\n (1519383.610957153, 8533.907992352362),\n (1491051.1647507763, 12216.649689178843),\n (1555824.638946678, 10255.115077913313),\n (1516957.1773866634, 10791.009386885366),\n (1487149.2743154413, 11373.232144765427),\n (1556922.9116824784, 11369.81242365398),\n (1539777.5744762097, 9326.338516764505),\n (1529265.9959411293, 11416.398693067786),\n (1511380.4563218798, 10186.839509781692),\n (1542025.8431934533, 9181.961210444004),\n (1575051.108746241, 10075.558073758892),\n (1479199.8251573518, 11429.814656684282),\n (1535625.8862632352, 9083.75919202018),\n (1534458.9710054437, 12566.1455777596),\n (1543720.1018969011, 9779.4980331279),\n (1530751.4792073003, 8202.740553718839),\n (1558462.6109203456, 12163.00354197978),\n (1542307.1947441485, 9990.681378637757),\n (1522447.1427510655, 11188.723057454288),\n (1557107.557761643, 10201.672175541624),\n (1558986.3553726412, 9116.066944210676),\n (1507471.2244166068, 11999.000732781848),\n (1552095.4230051315, 10162.763899950456),\n (1508387.7977681449, 10109.172005286468),\n (1519870.2312942299, 12399.975391208229),\n (1543961.711615657, 9045.8966269206),\n (1523978.058322394, 10613.510113183416),\n (1553259.977208067, 9844.986709857372),\n (1542764.127564596, 11551.087955799152),\n (1524339.8690329934, 8829.55388685719),\n (1506646.1879940697, 10756.643658452593),\n (1546476.7513768172, 10484.11859249009),\n (1516917.04246974, 8663.210442625179),\n (1553886.8914837711, 9497.43208452223),\n (1544278.111381955, 8413.62189165472),\n (1532847.8904941808, 8214.336173189367),\n (1569217.5349241365, 13219.995241676543),\n (1559885.352227031, 10440.310197250712),\n (1525997.6207472442, 11497.538665739881),\n (1543028.9414805386, 11321.490953099357),\n (1539964.4191102402, 8795.808459879558),\n (1575051.108746241, 10075.558073758892),\n (1554648.2691837444, 11308.616410295825),\n (1519103.9025108046, 8751.555505001743),\n (1548849.244255662, 7725.190441033832),\n (1554327.6225805988, 9791.272111566344),\n (1556573.7886036125, 12250.09011903919),\n (1532153.2642755995, 9694.312556167726),\n (1527087.756720117, 8819.004588434165),\n (1512294.6773663927, 9793.238526004137),\n (1547745.4081877624, 10792.608627556845),\n (1536606.9357976269, 11393.290369971099),\n (1530563.3037774963, 8916.372438946164),\n (1531199.6100093785, 11247.242338258271),\n (1506646.1879940697, 10756.643658452593),\n (1468973.751556037, 9404.011626398875),\n (1540815.9518209267, 13500.687886692112),\n (1534937.9839099674, 11567.537749904004),\n (1507471.2244166068, 10300.027177697719),\n (1553886.8914837711, 10951.120668887877),\n (1520512.8698656636, 10511.223571443395),\n (1496481.7215145202, 10803.278120334156),\n (1516525.0738701047, 8712.473957950344),\n (1532847.8904941808, 8412.271984591498),\n (1537952.7306199353, 9838.10513801353),\n (1532061.1501927997, 11978.992883195388),\n (1553998.2216352483, 11303.569455594868),\n (1498715.4462662505, 9939.16602169064),\n (1543343.235591947, 10074.99004634842),\n (1521918.023093805, 9731.631108649839),\n (1542948.2040464235, 10962.776665555091),\n (1556254.8021275229, 10963.257654581048),\n (1535647.776128503, 10815.241546954434),\n (1518332.6777055839, 9280.00841478996),\n (1553016.5168432484, 8629.531376737687),\n (1552223.408124311, 12246.58558160268),\n (1502479.892804064, 10315.198857984617),\n (1558653.9236567786, 10576.626583345198),\n (1558081.6084825024, 9659.40254093476),\n (1538545.0220686432, 7990.620019737146),\n (1534949.7183297293, 10997.742255123609),\n (1555270.1705167955, 11256.148934227567),\n (1552223.408124311, 10029.531295278042),\n (1532847.8904941808, 9797.822664406594),\n (1554327.6225805988, 10566.81841743294),\n (1534742.6113630338, 8765.398859892437),\n (1532960.274341366, 9484.66186091607),\n (1563424.1555752822, 9693.926804319864),\n (1553585.3169877387, 10439.848327002983),\n (1521097.9088742293, 8342.557399647756),\n (1522468.0204805408, 10874.410180302219),\n (1547269.141344564, 10842.607419072156),\n (1542068.4560984508, 11808.5474563339),\n (1562221.9144030164, 10354.521123423337),\n (1549791.2715135315, 8406.76164840353),\n (1552996.8819871573, 9297.66688074123),\n (1552757.5714446092, 11711.37501408096),\n (1523480.5076740205, 8556.2371785028),\n (1500026.2364832642, 10884.533121362461),\n (1518891.9840851931, 9603.822644534279),\n (1536375.4373367545, 8630.890770641769),\n (1546641.630727894, 9045.4173229504),\n (1526529.9216532737, 10453.47603557199),\n (1554255.2298848548, 9162.292169720567),\n (1548648.4846656027, 11262.319616836987),\n (1540360.8294546714, 9023.188714759084),\n (1522728.0817429938, 8355.342006732502),\n (1517319.2841633393, 8129.404352995397),\n (1536154.6323977762, 8366.688021212176),\n (1549675.6758699005, 8543.547979369074),\n (1533828.2883618558, 8982.522708325352),\n (1541663.952444503, 10273.38476038197),\n (1538633.0069152545, 11186.321977983624),\n (1549331.8287490713, 9731.07567811615),\n (1524339.8690329934, 8070.0223697081765),\n (1533706.760678904, 8352.713157621736),\n (1534324.2082861243, 11271.19580850237),\n (1551868.0843299986, 9023.69531184795),\n (1554327.6225805988, 10663.761705666253),\n (1544832.769717361, 8221.119644718177),\n (1559960.836171803, 12866.5023740987),\n (1548933.3560854024, 10906.50478380997),\n (1519256.0931274972, 9630.136254385461),\n (1553001.2505917614, 10879.822529734181),\n (1538633.0069152545, 8745.669910059913),\n (1538545.0220686432, 7893.173434130611),\n (1523082.5131325494, 10244.935032758422),\n (1526113.4999636891, 10387.275202646473),\n (1542436.8810629004, 11247.25160429411),\n (1540879.345162746, 11614.780734301188),\n (1553998.2216352483, 11817.368067212785),\n (1525988.8943216777, 8812.685166023422),\n (1516917.04246974, 9591.411561477938),\n (1530345.4605847572, 10131.118065978364),\n (1520842.4385236439, 9202.512265212396),\n (1554542.4038352035, 10573.92180239222),\n (1518107.8741463001, 10093.587052064388),\n (1555200.5779611268, 8439.372162844642),\n (1551182.4515638775, 8028.188524425816),\n (1537596.2881776914, 8240.768799521535),\n (1554181.1316334587, 10071.169410678025),\n (1572152.6012908986, 12632.041619429847),\n (1517907.616435434, 10423.23585722462),\n (1538288.118254288, 9740.7625721862),\n (1506251.0957382, 10079.681188069399),\n (1516937.6261736592, 9048.2143133687),\n (1509834.5639792248, 9006.702401611357),\n (1552411.9711926235, 9807.403030069576),\n (1502510.2008873534, 11730.827270913038),\n (1553259.977208067, 10731.03551374454),\n (1499515.3836034643, 11818.580287551262),\n (1546018.3677124523, 9766.818989172976),\n (1550685.9218163367, 8919.849933526699),\n (1538754.3475905848, 12246.145277555637),\n (1548714.444939476, 11344.949062627782),\n (1527484.5542973466, 10592.82924474846),\n (1547003.0153459017, 12643.96002480819),\n (1523295.99027271, 11187.288741526423),\n (1540115.8450327178, 9263.371367737343),\n (1533706.760678904, 8352.713157621736),\n (1496185.293505562, 9170.919822918588),\n (1558462.6109203456, 8761.485602273584),\n (1547018.1166281423, 10390.055239025205),\n (1549321.720586074, 8210.765204856423),\n (1520441.1825031778, 10207.424808358199),\n (1553001.2505917614, 10246.046460040985),\n (1536929.9630083053, 8634.010944124755),\n (1557566.9485175756, 9536.023864761355),\n (1546770.428249338, 11875.12668320533),\n (1537152.7994654975, 10248.252747850298),\n (1515797.1539337176, 8647.65399717645),\n (1531737.9380151297, 10122.551027687654),\n (1541122.5409875985, 10096.448982205102),\n (1520842.4385236439, 11167.093535313848),\n (1548335.4194396685, 11202.058644540935),\n (1549234.2370290142, 11357.996142766964),\n (1508756.551207238, 12105.054100207179),\n (1550705.143557299, 11520.97751246085),\n (1525997.6207472442, 10434.740973948808),\n (1547895.482813348, 8588.474442283414),\n (1522447.1427510655, 10240.526188178483),\n (1558653.9236567786, 14223.739198291812),\n (1532120.6114291472, 11167.269051460098),\n (1519814.9920796244, 10968.71604440186),\n (1545168.2994842737, 8273.591195030696),\n (1548933.3560854024, 8304.953184002065),\n (1543809.6472260572, 9024.898331606168),\n (1536259.67453414, 9225.268166277223),\n (1475149.2954886965, 10248.119884993126),\n (1516770.0863409955, 11525.978388434547),\n (1500026.2364832642, 12681.009461781472),\n (1525709.2715931342, 9750.932587770178),\n (1511867.6362389748, 11410.092816803333),\n (1532768.5921264347, 10759.180902417027),\n (1542068.4560984508, 10446.022749833848),\n (1559785.226989582, 12733.864590223122),\n (1543456.4769407047, 8561.702379201795),\n (1529203.9231721985, 9239.869502959602),\n (1487133.3895855055, 11505.184223700931),\n (1514107.2434520235, 11532.854494459498),\n (1519719.3837317105, 9959.795658861838),\n (1551586.06836741, 12131.57428910892),\n (1553886.8914837711, 11144.945813470002),\n (1517665.7989162256, 9223.520961715469),\n (1512701.6728612194, 12588.244356499972),\n (1550010.970540349, 10657.899654509658),\n (1562221.9144030164, 10469.571358128038),\n (1522609.3427991015, 10989.325111072336),\n (1525615.357739695, 8609.059843227487),\n (1542506.1157523908, 11432.930563191121),\n (1567736.2272469178, 13084.984425514807),\n (1517647.0026216935, 9928.104552958937),\n (1519383.610957153, 10742.684178608279),\n (1547733.79504233, 11197.411883279168),\n (1523978.058322394, 10420.537202034579),\n (1530563.3037774963, 10176.294631405879),\n (1560190.9184918923, 13994.552975777364),\n (1522728.0817429938, 9141.72713677794),\n (1552685.7477467794, 11601.404889415267),\n (1555200.5779611268, 10185.449162053867),\n (1530154.978612037, 10617.46791670605),\n (1521946.9132065817, 11062.613095814844),\n (1521807.1625505255, 9951.754815547401),\n (1566245.7022895596, 13194.489152660339),\n (1546573.1172563112, 8485.955301733398),\n (1544832.769717361, 8025.378700796321),\n (1483928.9264055542, 12028.104107443696),\n (1513455.5557458787, 8634.51127572072),\n (1535625.8862632352, 11171.979695932881),\n (1547453.7903772981, 10207.936883488746),\n (1557670.8092150001, 12388.358670539901),\n (1559885.352227031, 11649.18822009028),\n (1522447.1427510655, 9197.509631975136),\n (1538754.3475905848, 10403.804837569383),\n (1483928.9264055542, 12684.182513304235),\n (1551586.06836741, 11585.106978788765),\n (1494949.9166226625, 13105.27814501033),\n (1523295.99027271, 10705.078019908884),\n (1491051.1647507763, 9889.668796001906),\n (1508756.551207238, 11489.542874772922),\n (1556064.2684461435, 11325.740483939531),\n (1550685.9218163367, 8509.741890605994),\n (1548261.0052262181, 9686.991561933068),\n (1561240.40710688, 10197.189311009442),\n (1534937.9839099674, 10498.26955453473),\n (1489106.1506979892, 11503.95835551607),\n (1549860.6587080562, 9064.953312949803),\n (1509877.706741954, 12013.902426201048),\n (1544802.5665619862, 9139.607432165423),\n (1566657.8834329448, 11077.116462475331),\n (1523830.0724995267, 12567.111000757255),\n (1551288.4323897853, 10523.408966673622),\n (1557837.0618429843, 8448.601814418174),\n (1530563.3037774963, 10563.962998316616),\n (1544963.111180223, 7992.9462303483715),\n (1535585.3987743638, 9716.812706906847),\n (1520657.0238855744, 9844.695974024942),\n (1550625.3925933146, 13130.618586487331),\n (1518387.5543689942, 8362.856539896857),\n (1530751.4792073003, 10080.476343124406),\n (1548933.3560854024, 11907.10155296688),\n (1555551.7947113514, 10070.052755157356),\n (1547733.79504233, 11497.34255872414),\n (1514629.976551395, 10027.94238686687),\n (1509531.5469454713, 11471.225450007494),\n (1541454.3028600982, 9666.548812736533),\n (1514998.4741677586, 9109.91516279904),\n (1518107.8741463001, 10289.579033657927),\n (1530964.7269868334, 10395.456960178204),\n (1556514.8888306806, 13639.797854529823),\n (1523978.058322394, 8683.781001695548),\n (1539376.6325954036, 9563.999899660894),\n (1555332.711527527, 13038.283515887913),\n (1515534.1587858472, 12388.140525685068),\n (1462671.9839750016, 10164.738349508805),\n (1550715.8822061208, 9139.430216064975),\n (1540869.2146590347, 10448.301675248145),\n (1551288.4323897853, 8118.058345719698),\n (1532460.7254666928, 11062.807632342097),\n (1513512.5216207316, 10389.441957522875),\n (1547414.181061584, 9743.157067317163),\n (1554327.6225805988, 9500.442246866305),\n (1545780.6434832187, 9333.138093927753),\n (1520512.8698656636, 7575.656628067329),\n (1529356.3782959918, 9904.367872685796),\n (1524167.746276248, 10223.794982722598),\n (1545906.6866052502, 8786.911186018293),\n (1504505.120615066, 10946.26304335217),\n (1523295.99027271, 10415.751586938364),\n (1512294.6773663927, 9993.100536738955),\n (1525580.0381643148, 7696.73781459945),\n (1529332.728707574, 8787.321382163387),\n (1542786.6849649702, 8369.590155525708),\n (1503422.5515921789, 12165.310007032376),\n (1520441.1825031778, 10109.27649289319),\n (1520441.1825031778, 9127.793338243377),\n (1515920.170477394, 11543.4157983568),\n (1485180.3773878918, 11822.249114188016),\n (1545290.200941119, 9581.663851399018),\n (1540794.694941293, 9766.645651140072),\n (1549527.6154792106, 10410.481197935918),\n (1534324.2082861243, 9230.720705239011),\n (1531418.5429430236, 8736.131172614052),\n (1542307.1947441485, 10500.410020405003),\n (1532847.8904941808, 11183.37334422165),\n (1464787.1098435244, 10064.471490821654),\n (1534390.6840835002, 8603.61604466235),\n (1570689.650999185, 11517.309120461845),\n (1533545.7101979046, 9828.331783864189),\n (1521097.9088742293, 9247.172057440906),\n (1496816.4779757333, 11328.327947711472),\n (1552023.2990353038, 8928.00594890992),\n (1518110.130857988, 11012.944709011312),\n (1511380.4563218798, 11185.549265642647),\n (1557837.0618429843, 12157.744074406643),\n (1499515.3836034643, 9830.407902729532),\n (1535505.420317967, 10906.286118728036),\n (1542810.7093827985, 12061.50895696383),\n (1483199.291610618, 12385.745390556833),\n (1518332.6777055839, 11516.155020763463),\n (1494906.1924066078, 10381.109407296959),\n (1558462.6109203456, 10719.935325134804),\n (1549860.6587080562, 10962.269122636935),\n (1503422.5515921789, 11040.785552600772),\n (1541922.4955406552, 10378.351420127394),\n (1553998.2216352483, 11200.809733271237),\n (1546929.9205705118, 8004.016889866252),\n (1553471.077548387, 9739.278039673936),\n (1554255.2298848548, 8177.099463298979),\n (1548933.3560854024, 11506.862845304142),\n (1536259.67453414, 9225.268166277223),\n (1514107.2434520235, 9969.077613854814),\n (1540884.4838730774, 9794.688118786577),\n (1552023.2990353038, 9030.626706943416),\n (1558986.3553726412, 12081.53450437565),\n (1515534.1587858472, 13057.769743289691),\n (1542948.2040464235, 11539.76491111067),\n (1534847.9124349882, 10245.043063842018),\n (1553759.1937668908, 8371.195407203726),\n (1512273.796064986, 8627.889472269173),\n (1547414.181061584, 8103.219739154813),\n (1532061.1501927997, 9999.854928580533),\n (1529331.542644792, 12165.392250875195),\n (1520512.8698656636, 8333.222290874055),\n (1552095.4230051315, 9194.8816237647),\n (1505022.9015340838, 11873.960591381114),\n (1554712.1339885984, 8740.205090181877),\n (1544832.769717361, 10374.270027858658),\n (1555305.7407168197, 12377.87001985359),\n (1530948.8187719584, 8801.985919369465),\n (1534458.9710054437, 11369.369808449135),\n (1558462.6109203456, 12266.07984318308),\n (1511380.4563218798, 9188.129753920708),\n (1534438.8601096738, 11976.047241381655),\n (1509877.706741954, 10129.368712287207),\n (1529203.9231721985, 7811.023703532861),\n (1565559.6126031256, 13721.076816634848),\n (1561718.5681291204, 11206.751225394342),\n (1532693.2861763076, 9548.4259316838),\n (1520243.5028700647, 9241.949911224032),\n (1538771.085357479, 8150.263264026231),\n (1538244.473639039, 9936.28277624794),\n (1483199.291610618, 12848.763909829997),\n (1538754.3475905848, 8778.210331699172),\n (1505467.333042478, 11198.888792742016),\n (1556207.7477000698, 11740.074983190347),\n (1511380.4563218798, 8389.161949231986),\n (1538244.473639039, 8785.76582320871),\n (1554542.4038352035, 11525.574764607562),\n (1543720.1018969011, 9583.908072465345),\n (1503786.4889627588, 11758.522142147149),\n (1531199.6100093785, 8726.308710717632),\n (1556375.5492949944, 9856.758681036474),\n (1528552.9760993067, 10606.150605256795),\n (1555270.1705167955, 8643.114360210475),\n (1522417.4634928529, 9737.204021252006),\n (1496816.4779757333, 9693.311542887148),\n (1497474.9446601216, 9917.076493042452),\n (1542068.4560984508, 12035.634907417329),\n (1550715.8822061208, 10416.984977450447),\n (1547414.181061584, 8006.752837498209),\n (1546641.630727894, 11043.823475695332),\n (1549675.6758699005, 10311.178595790352),\n (1534390.6840835002, 7838.850174025705),\n (1521097.9088742293, 11961.016030820278),\n (1534224.7821510043, 11094.714914397944),\n (1559960.836171803, 13440.899801513768),\n (1543028.9414805386, 9995.550571204858),\n (1487133.3895855055, 9313.720562043638),\n (1522609.3427991015, 8772.180571119106),\n (1506251.0957382, 12413.923147411786),\n (1526442.918635868, 11233.865467484837),\n (1521946.9132065817, 8749.52126668987),\n (1483928.9264055542, 8966.40488009438),\n (1559960.836171803, 12981.381859581657),\n (1536375.4373367545, 11067.848164705336),\n (1532522.3732581097, 9317.623770656566),\n (1531199.6100093785, 10180.693495837211),\n (1557670.8092150001, 9176.561978177737),\n (1521808.6812036093, 8691.024098710883),\n (1524228.1329156742, 10036.46438308499),\n (1534324.2082861243, 9133.555224131253),\n (1517105.4454728179, 13017.14045838246),\n (1514629.976551395, 12588.26810266263),\n (1545459.297339667, 8862.740189658885),\n (1514107.2434520235, 9578.133393703647),\n (1510837.6585535917, 9861.556535579444),\n (1519256.0931274972, 11235.15896344972),\n (1516917.04246974, 10725.879595631197),\n (1529356.3782959918, 10409.692764149335),\n (1536154.6323977762, 10409.716491508156),\n (1549234.2370290142, 12082.974619964853),\n (1555824.638946678, 11159.978173023308),\n (1502510.2008873534, 10845.481816504545),\n (1544550.7761327315, 9553.111957670424),\n (1536057.8175243686, 11484.676898859141),\n (1533085.6105600575, 10193.76427335534),\n (1556064.2684461435, 12066.67677728128),\n (1528180.1088535332, 9363.421709962673),\n (1544832.769717361, 7927.508228835384),\n (1546929.9205705118, 8871.92233575531),\n (1547556.1845979348, 11276.461942980553),\n (1552223.408124311, 10346.25333618159),\n (1555305.7407168197, 11531.519933026002),\n (1535729.6556979748, 12551.48036247285),\n (1532847.8904941808, 10886.469627118433),\n (1497474.9446601216, 8651.066727973202),\n (1549425.3670598986, 13234.418646522676),\n (1547556.1845979348, 9609.506699235548),\n (1569217.5349241365, 9914.996431257388),\n (1509800.6799132274, 10368.16260704597),\n (1544669.970720681, 8081.089580295934),\n (1464787.1098435244, 13381.172323024219),\n (1542436.8810629004, 10478.208759556073),\n (1548648.4846656027, 9009.855693469599),\n (1535647.776128503, 11247.851208832632),\n (1558081.6084825024, 9769.168478899943),\n (1479199.8251573518, 11660.720003283925),\n (1521208.5066599026, 8150.4777629255195),\n (1532960.274341366, 10214.251234832653),\n (1551868.0843299986, 11430.014061674046),\n (1538633.0069152545, 10779.546633329637),\n (1558311.1270174833, 11873.043782695162),\n (1561666.1588158943, 9682.532118824161),\n (1552685.7477467794, 11293.40298969633),\n (1549675.6758699005, 11293.195604913244),\n (1548622.4675778092, 11677.384849211612),\n (1554765.5153427077, 9600.411805777412),\n (1536259.67453414, 8332.500279218166),\n (1527409.5608725154, 10560.523106679513),\n (1549675.6758699005, 8936.354783018274),\n (1530246.8213355495, 11652.534520245454),\n (1518107.8741463001, 8427.655208519805),\n (1528609.603662595, 10854.822387115495),\n (1548217.9154962935, 9803.991592306791),\n (1555351.6698445536, 12140.481512211247),\n (1541405.0343992233, 7973.077904122957),\n (1515920.170477394, 12264.87928575404),\n (1483928.9264055542, 11481.372102559895),\n (1475149.2954886965, 9902.677641678785),\n (1537695.4314347513, 10443.728582363681),\n (1553759.1937668908, 8568.164710902674),\n (1508683.4300732985, 11477.088061357817),\n (1534599.86462878, 10591.664129225379),\n (1530519.8017116734, 10480.575615788215),\n (1511272.4905061708, 9348.980327742176),\n (1552444.1092162419, 9829.73610471869),\n (1533085.6105600575, 9125.846111384753),\n (1531833.9698569973, 11843.008899383198),\n (1502479.892804064, 12542.344065958525),\n (1550715.8822061208, 8746.336443331047),\n (1547269.141344564, 11047.184917545199),\n (1545789.487200645, 8818.92769480494),\n (1532460.7254666928, 11159.849804555632),\n (1528609.603662595, 8569.596621406954),\n (1524672.307926717, 8707.383218769271),\n (1537376.7912186303, 10662.290071441783),\n (1462671.9839750016, 11078.422695532092),\n (1529278.9858262087, 8811.774807925765),\n (1546476.7513768172, 10778.065842746799),\n (1563424.1555752822, 12007.250246259871),\n (1483199.291610618, 13311.782429103156),\n (1511272.4905061708, 9348.980327742176),\n (1559084.1171957536, 9487.100363780599),\n (1546018.3677124523, 13263.581343321379),\n (1514998.4741677586, 10711.658488126317),\n (1493407.8888386262, 9131.546201631549),\n (1528609.603662595, 9807.427244499087),\n (1523978.058322394, 8008.375812674727),\n (1536057.8175243686, 8039.273829201414),\n (1527744.7276385354, 11610.018081686709),\n (1533854.084095244, 9698.845667651809),\n (1517907.616435434, 11971.241182554993),\n (1532847.8904941808, 10292.662192911954),\n (1549860.6587080562, 8854.140445206755),\n (1537132.431775242, 11987.790304517412),\n (1492984.465297376, 12232.052129991176),\n (1550827.8567447725, 11974.515388034639),\n (1556254.8021275229, 13046.276608951499),\n (1534599.86462878, 11240.133361626904),\n (1555551.7947113514, 9706.074944730004),\n (1551586.06836741, 9180.650813379722),\n (1511084.5956467036, 10749.932966474767),\n (1513202.3149985266, 8299.225838693523),\n (1552757.5714446092, 9841.491608471348),\n (1530519.8017116734, 13523.323375210608),\n (1547453.7903772981, 10207.936883488746),\n (1502541.6938861876, 11008.11681460006),\n (1483199.291610618, 13080.273169466587),\n (1506200.3912580798, 10575.193393947333),\n (1529331.542644792, 8838.105481405142),\n (1537376.7912186303, 8885.241726201495),\n (1514629.976551395, 8854.459767127108),\n (1498755.1787667074, 11297.938609910592),\n (1536057.8175243686, 10049.092286501758),\n (1509877.706741954, 12838.385926038392),\n (1491855.4415617012, 11100.732531618638),\n (1561240.40710688, 9772.306423050733),\n (1532522.3732581097, 8608.674135932712),\n (1544832.769717361, 10374.270027858658),\n (1519256.0931274972, 11449.161991324967),\n (1545932.078784285, 9598.636799628057),\n (1514916.902446862, 12050.837790699297),\n (1545168.2994842737, 9703.594611455761),\n (1511272.4905061708, 10573.251561137082),\n (1537724.989688546, 12562.776179692055),\n (1551868.0843299986, 10627.907811732028),\n (1543809.6472260572, 10438.436624508304),\n (1514122.2008168434, 10592.77413552275),\n (1482308.9053357253, 11797.048787810798),\n (1539834.05583444, 9595.62243252334),\n (1541663.952444503, 8491.266995825934),\n (1553774.2448014456, 11625.285418841717),\n (1546442.6925364593, 8194.06993572393),\n (1545932.078784285, 10186.308440421604),\n (1504505.120615066, 12071.579804818262),\n (1539555.8486736102, 11562.53073441989),\n (1536757.5577432597, 10705.99475286719),\n (1534438.8601096738, 10168.34199739959),\n (1553886.8914837711, 8819.044078484929),\n (1525184.0220897044, 11567.404287268053),\n (1538244.473639039, 10459.245027629398),\n (1509531.5469454713, 10473.727584789433),\n (1509877.706741954, 11307.202283483362),\n (1540360.8294546714, 8543.231868229404),\n (1521221.931284069, 9727.079938835988),\n (1552251.9677566944, 8362.282872533597),\n (1548217.9154962935, 13451.988463862743),\n (1540300.9548066661, 9658.867118258553),\n (1522468.0204805408, 10201.766251623723),\n (1518891.9840851931, 10326.691015628265),\n (1530246.8213355495, 12380.817927760834),\n (1527409.5608725154, 9799.404324216146),\n (1551440.7042229099, 12029.099697699765),\n (1526803.7154449967, 7798.248758609206),\n (1541405.0343992233, 10086.423854613375),\n (1556922.9116824784, 10866.723378359562),\n (1519256.0931274972, 9844.139282260723),\n (1528011.5025680927, 8375.74277026054),\n (1556207.7477000698, 10556.201875641764),\n (1546476.7513768172, 10778.065842746799),\n (1529278.9858262087, 10651.595921668457),\n (1528552.9760993067, 11515.249228564444),\n (1557566.9485175756, 8794.333119724406),\n (1534458.9710054437, 11249.6922315181),\n (1528011.5025680927, 7899.848294677562),\n (1535613.9395127979, 8423.512367372676),\n (1487149.2743154413, 9516.377917048558),\n (1539777.5744762097, 9651.675906884153),\n (1528011.5025680927, 9137.173931193287),\n (1545290.200941119, 8883.00086223456),\n (1514919.2139730514, 9192.136610921552),\n (1555305.7407168197, 10579.376085344937),\n (1534224.7821510043, 8221.976231205648),\n (1548622.4675778092, 11088.609142528581),\n (1536757.5577432597, 8370.1413522416),\n (1549425.3670598986, 10382.173248565201),\n (1523771.443645627, 11804.818186278855),\n (1564294.6407917184, 9038.246696843158),\n (1498715.4462662505, 13330.175605561557),\n (1550827.8567447725, 11248.78718269922),\n (1542810.7093827985, 12387.495685530364),\n (1528609.603662595, 9236.12080307198),\n (1543418.2260268314, 8373.206393467393),\n (1538258.6726775295, 10429.758266628876),\n (1557466.7363493026, 10971.532425449233),\n (1515725.1016916917, 11545.236546504919),\n (1546519.4397870088, 11088.16003901645),\n (1557207.4582598952, 12152.458971660368),\n (1537724.989688546, 9530.381929421528),\n (1542506.1157523908, 11642.709105634945),\n (1522728.0817429938, 8650.23643049956),\n (1538917.1378904334, 8844.41829096619),\n (1532847.8904941808, 8412.271984591498),\n (1520842.4385236439, 10960.295506882088),\n (1516957.1773866634, 12393.634543353539),\n (1543028.9414805386, 8567.614775318441),\n (1548261.0052262181, 8528.764309962786),\n (1544175.3300148258, 8925.5170532926),\n (1537132.431775242, 10260.735769120856),\n (1559084.1171957536, 12271.358079237896),\n (1531832.070865868, 10767.075302644811),\n (1520657.0238855744, 10081.917563760484),\n (1513455.5557458787, 9060.906894274858),\n (1558462.6109203456, 11441.46943355728),\n (1543809.6472260572, 8698.697187090285),\n (1506200.3912580798, 13395.24496566668),\n (1509800.6799132274, 11394.713360218782),\n (1538288.118254288, 9400.968528970438),\n (1549063.2899116494, 11588.50477099373),\n (1554748.0943870347, 11629.33940603294),\n (1460541.8562636462, 13572.083192886641),\n (1540815.9518209267, 9983.701966629475),\n (1518332.6777055839, 11516.155020763463),\n (1523480.5076740205, 9441.36516248584),\n (1548714.444939476, 12763.067695456253),\n (1525907.9257838384, 12853.688909228049),\n (1554542.4038352035, 11102.617892511864),\n (1559960.836171803, 11602.828033785403),\n (1532485.2808955058, 8958.085028188183),\n (1515920.170477394, 10512.75367350347),\n (1566657.8834329448, 11307.889722110218),\n (1554748.0943870347, 11727.893129812874),\n (1496481.7215145202, 13008.028757137034),\n (1522447.1427510655, 10240.526188178483),\n (1533302.159246554, 9829.134248498332),\n (1564454.2081331122, 13711.094346767679),\n (1528609.603662595, 11235.69334806692),\n (1527867.8206815885, 12375.062456234713),\n (1538917.1378904334, 8943.793777381587),\n (1532460.7254666928, 9995.343737993364),\n (1533545.7101979046, 8640.291678122363),\n (1488718.4278967725, 11516.981156811928),\n (1542764.127564596, 13115.297783146916),\n (1540869.2146590347, 9851.255865233987),\n (1552095.4230051315, 9291.66985138329),\n (1494885.9636587098, 11585.680556731373),\n (1543456.4769407047, 11255.271667040593),\n (1527087.756720117, 12045.469681763661),\n (1523830.0724995267, 11893.872911430984),\n (1551356.6941675493, 8616.215590690957),\n (1553003.2534093752, 9262.91185094404),\n (1516770.0863409955, 11826.656085524168),\n (1541454.3028600982, 9861.8326271352),\n (1546929.9205705118, 11186.336858126317),\n (1510837.6585535917, 11402.424744263722),\n (1530519.8017116734, 11720.213591849208),\n (1542764.127564596, 10588.497292815897),\n (1558311.1270174833, 10600.931948834988),\n (1523480.5076740205, 9146.322501158174),\n (1529794.5163110434, 8195.3560271337),\n (1518886.371039746, 11492.030984969579),\n (1555305.7407168197, 8463.500868275984),\n (1527867.8206815885, 13387.567566290209),\n (1544396.0592392432, 10720.159397692712),\n (1527172.0328736084, 8774.585625183125),\n (1515797.1539337176, 10355.832564519926),\n (1544550.7761327315, 12851.210133532904),\n (1543961.711615657, 10778.089598033048),\n (1526442.918635868, 10248.438672091463),\n (1563341.6490086608, 12434.576753655287),\n (1489106.1506979892, 13711.78874697865),\n (1547733.79504233, 9197.874046979323),\n (1522790.594681563, 10163.164655233879),\n (1543418.2260268314, 11263.956219783504),\n (1527896.671040282, 11540.73754934029),\n (1529278.9858262087, 8811.774807925765),\n (1549791.2715135315, 8986.538313810674),\n (1517647.0026216935, 10930.943396692115),\n (1487133.3895855055, 10409.45239287229),\n (1489106.1506979892, 11039.151957313397),\n (1526803.7154449967, 10270.864218656003),\n (1541454.3028600982, 10545.325977530716),\n (1534077.3286978356, 8313.471370889716),\n (1529923.110510453, 8428.124487309726),\n (1536757.5577432597, 8272.814127215546),\n (1551231.1318346597, 9044.433738007905),\n (1527744.7276385354, 9086.101107407025),\n (1515314.184422118, 13711.208519404887),\n (1520395.1381547004, 10922.24605094743),\n (1545789.487200645, 11431.943308080452),\n (1529278.9858262087, 8037.113286349839),\n (1547745.4081877624, 11664.738617662435),\n (1555824.638946678, 11863.760580331102),\n (1524672.307926717, 9122.020514901169),\n (1514629.976551395, 9707.901672392352),\n (1540115.8450327178, 8449.009049694527),\n (1553001.2505917614, 8978.494320654469),\n (1515797.1539337176, 10355.832564519926),\n (1540816.7268106947, 9219.880429407804),\n (1547414.181061584, 10225.491575600152),\n (1536057.8175243686, 7943.56818837756),\n (1546573.1172563112, 10633.004233497253),\n (1534390.6840835002, 7743.254440196126),\n (1548648.4846656027, 11057.550169258162),\n (1545932.078784285, 10186.308440421604),\n (1522447.1427510655, 8154.493075771793),\n (1524462.2795752462, 8864.848317369124),\n (1498715.4462662505, 11225.411036262352),\n (1536606.9357976269, 9382.709716446794),\n (1542151.3460622577, 8764.336196366781),\n (1504505.120615066, 8184.1219015717425),\n (1556818.000031094, 12390.541218055418),\n (1549234.2370290142, 13170.442335761698),\n (1522468.0204805408, 11883.376073319965),\n (1531544.438347733, 8395.996103397312),\n (1508387.7977681449, 9998.082203030563),\n (1548261.0052262181, 8739.35108304828),\n (1494906.1924066078, 12480.659624503036),\n (1519814.9920796244, 10776.282429587827),\n (1513202.3149985266, 8799.179202470228),\n (1492984.465297376, 11766.069191705754),\n (1543028.9414805386, 10505.527641164294),\n (1547733.79504233, 11597.319450539086),\n (1503993.4109218456, 11631.31326663985),\n (1528616.8863437145, 9671.2751331449),\n (1500026.2364832642, 11941.283909844253),\n (1539376.6325954036, 9360.510540093632),\n (1570689.650999185, 14335.374118021673),\n (1513455.5557458787, 11299.483891683836),\n (1557670.8092150001, 9520.683052359373),\n (1530751.4792073003, 11167.586536990733),\n (1561094.9836428997, 10576.786766019863),\n (1532485.2808955058, 10145.301116261278),\n (1527409.5608725154, 8752.865998328945),\n (1512294.6773663927, 9393.514504534603),\n (1506646.1879940697, 8605.314926762096),\n (1536757.5577432597, 8564.79580229379),\n (1530044.244993755, 11261.055288634627),\n (1540869.2146590347, 8557.656610203245),\n (1558653.9236567786, 10819.767424341684),\n (1551868.0843299986, 10928.697655460273),\n (1522417.4634928529, 9855.950411755097),\n (1555332.711527527, 9860.886692688351),\n (1555294.2053756292, 10387.977848900278),\n (1550625.3925933146, 10961.2120374155),\n (1550010.970540349, 10760.379458879945),\n (1541512.1944809745, 10154.23077427736),\n (1522769.030083065, 10352.980772121338),\n (1477181.0501098288, 11645.346840271844),\n (1521097.810511582, 10416.726525276901),\n (1532693.2861763076, 9166.488894416481),\n (1555551.7947113514, 11768.615870485124),\n (1521097.9088742293, 9950.761235724432),\n (1508044.4024070224, 10587.878675185857),\n (1529923.110510453, 10946.874334091928),\n (1524655.6333216568, 8977.339058062747),\n (1541405.0343992233, 10950.974470723115),\n (1540300.9548066661, 9366.174175281012),\n (1524339.8690329934, 7880.139490420898),\n (1536139.5177661127, 14257.160607111924),\n (1533085.6105600575, 9222.92958065481),\n (1537724.989688546, 11046.579054556789),\n (1553986.6081105473, 11514.265478104162),\n (1543418.2260268314, 10865.23210580889),\n (1528616.8863437145, 8783.09680459079),\n (1539719.1156726952, 10922.828106379086),\n (1534077.3286978356, 11253.60148986286),\n (1521946.9132065817, 11263.751515738773),\n (1552444.1092162419, 10531.860112198581),\n (1551288.4323897853, 11625.861334610909),\n (1518890.9746008194, 10196.893574878697),\n (1493407.8888386262, 11551.95603820859),\n (1531833.9698569973, 10263.941046132144),\n (1545824.511224483, 9355.84120160915),\n (1473104.3292546023, 10119.428874566882),\n (1529332.728707574, 11156.936136904078),\n (1511084.5956467036, 11494.977825537375),\n (1500026.2364832642, 9827.782332880623),\n (1551356.6941675493, 9129.085566327352),\n (1547556.1845979348, 11080.349561363468),\n (1525709.2715931342, 8273.518559320168),\n (1541805.7324402411, 8795.825098081641),\n (1557837.0618429843, 9272.855649971176),\n (1554327.6225805988, 9015.725805699647),\n (1524962.056122377, 11017.860821731208),\n (1519383.610957153, 9035.902580137761),\n (1560778.614762986, 13195.625912113324),\n (1530381.4347730337, 10867.97293930946),\n (1551818.0141612408, 10969.759856935309),\n (1558462.6109203456, 11441.46943355728),\n (1544396.0592392432, 10720.159397692712),\n (1491051.1647507763, 12798.394912473035),\n (1518518.143030687, 10335.180182004751),\n (1525580.0381643148, 9787.20981362641),\n (1519870.2312942299, 11159.977852087488),\n (1548373.834411742, 11294.287563285432),\n (1544963.111180223, 8474.449015309136),\n (1514919.2139730514, 10952.332983225668),\n (1533538.3856833575, 9703.375694666476),\n (1514122.2008168434, 13157.340505175633),\n (1537596.2881776914, 10722.928076485852),\n (1547269.141344564, 10740.3186698356),\n (1551288.4323897853, 9821.84836889548),\n (1524655.6333216568, 7818.972727990169),\n (1534324.2082861243, 11076.864846286833),\n (1505579.5921934585, 10237.309584400053),\n (1550721.629104427, 8799.099996581203),\n (1513512.5216207316, 11097.81300008126),\n (1557837.0618429843, 8551.633543862275),\n (1493407.8888386262, 11661.974667143912),\n (1521208.5066599026, 8641.470399246293),\n (1547631.0836989863, 14484.502070047589),\n (1509800.6799132274, 12215.953962757136),\n (1481205.8378221195, 10751.177344603626),\n (1521162.449548582, 10800.051461151908),\n (1563341.6490086608, 9556.202505123993),\n (1552411.9711926235, 11018.193527609023),\n (1550715.8822061208, 11694.539738835883),\n (1519103.9025108046, 8751.555505001743),\n (1544550.7761327315, 10121.749574198455),\n (1550827.8567447725, 12942.15299514855),\n (1552531.5027861851, 9405.126876349615),\n (1511867.6362389748, 8531.871205357416),\n (1547003.0153459017, 12757.869574581195),\n (1532522.3732581097, 8709.95265517903),\n (1547453.7903772981, 8734.626405459478),\n (1545824.511224483, 8619.988522830898),\n (1539571.7040343161, 10240.233027496666),\n (1521946.9132065817, 9352.936526461684),\n (1507471.2244166068, 12317.558274360099),\n (1552223.408124311, 11613.141499795622),\n (1539719.1156726952, 9167.373589282393),\n (1542593.980696369, 9576.441797752623),\n (1559960.836171803, 13555.77928699683),\n (1534907.1103042436, 9910.565815896513),\n (1548933.3560854024, 9505.66930699037),\n (1556254.8021275229, 9538.034159485524),\n (1551586.06836741, 12350.161213237032),\n (1488718.4278967725, 11297.610087158379),\n (1537810.2707474974, 11394.104606804423),\n (1525184.0220897044, 12578.148351204121),\n (1531832.070865868, 8633.06037779626),\n (1548090.965067896, 7847.425797628927),\n (1502510.2008873534, 12173.49999811734),\n (1537376.7912186303, 8780.709470599153),\n (1490292.3636309213, 10101.343898865625),\n (1549860.6587080562, 10435.23695327941),\n (1518891.9840851931, 10223.424105472002),\n (1529331.542644792, 11541.525981599561),\n (1499515.3836034643, 8946.775731697651),\n (1544963.111180223, 10111.558484175675),\n (1522417.4634928529, 9737.204021252006),\n (1525184.0220897044, 12802.758143189929),\n (1573606.411799839, 10925.391844967024),\n (1516957.1773866634, 11111.53441817903),\n (1553001.2505917614, 11830.48663427411),\n (1506932.0902095786, 12319.358826757993),\n (1524672.307926717, 12128.14091185719),\n (1556573.7886036125, 11632.43851639853),\n (1489106.1506979892, 10922.950357762698),\n (1497474.9446601216, 12343.595209425195),\n (1534324.2082861243, 9036.389743023448),\n (1498755.1787667074, 11614.703243833299),\n (1547128.4721599633, 7994.816769885559),\n (1518110.130857988, 12830.615194964583),\n (1543809.6472260572, 10655.904054185625),\n (1543313.3887833634, 13295.39404757391),\n (1537810.2707474974, 9834.911344820675),\n (1550721.629104427, 8315.63296380202),\n (1538244.473639039, 9413.320524866529),\n (1528552.9760993067, 11111.205395983316),\n (1473104.3292546023, 12649.286093208626),\n (1561240.40710688, 11365.617252895923),\n (1542948.2040464235, 11155.106080740286),\n (1545780.6434832187, 10357.506909114925),\n (1550197.3998201834, 9529.052646026863),\n (1558081.6084825024, 11086.359734481974),\n (1535625.8862632352, 10858.746620346015),\n (1550721.629104427, 9862.72746869541),\n (1544963.111180223, 10207.85904116783),\n (1527409.5608725154, 10084.82386763987),\n (1542593.980696369, 7817.503508369509),\n (1516917.04246974, 10622.74613798088),\n (1564745.934471173, 10862.648228596801),\n (1533538.3856833575, 8020.137053754938),\n (1534847.9124349882, 8824.938084695596),\n (1546442.6925364593, 10893.292973374138),\n (1548714.444939476, 10581.34672187403),\n (1559050.548734759, 11454.756317911975),\n (1550010.970540349, 9223.182393325644),\n (1543343.235591947, 11859.102867055932),\n (1542810.7093827985, 12170.171199819284),\n (1551440.7042229099, 10446.323421686615),\n (1524655.6333216568, 9170.400113074907),\n (1508683.4300732985, 10414.394722343215),\n (1517319.2841633393, 11459.521798800695),\n (1532960.274341366, 10318.478288249327),\n (1552685.7477467794, 12217.4086888533),\n (1496816.4779757333, 11328.327947711472),\n (1509877.706741954, 12485.03585467951),\n (1544278.111381955, 9391.95001859136),\n (1509887.8457231498, 10103.475679009063),\n (1554150.51943246, 9741.005456353494),\n (1515534.1587858472, 10714.067481673572),\n (1553774.2448014456, 8666.121857681948),\n (1556514.8888306806, 11691.2553038827),\n (1529197.76595163, 13286.528358983809),\n (1519668.7066109525, 11477.445676268242),\n (1530154.978612037, 11123.061627025363),\n (1531832.070865868, 10573.073945840413),\n (1551743.1574497772, 10031.140431491986),\n (1537724.989688546, 12671.075974344549),\n (1507471.2244166068, 10724.770566468693),\n (1528180.1088535332, 8825.29402548204),\n (1561240.40710688, 12640.26591677209),\n (1529278.9858262087, 10361.097851077539),\n (1498755.1787667074, 11720.291455140932),\n (1514107.2434520235, 10164.549723930402),\n (1512701.6728612194, 13145.246319176991),\n (1530154.978612037, 9302.92426987574),\n (1539964.4191102402, 9109.944476303837),\n (1519870.2312942299, 8576.649645585709),\n (1555294.2053756292, 10902.234178053726),\n (1551231.1318346597, 7963.034051941724),\n (1518387.5543689942, 8555.106115526673),\n (1468973.751556037, 9404.011626398875),\n (1533302.159246554, 8207.833753900677),\n (1575051.108746241, 11304.284668119763),\n (1532522.3732581097, 12052.143790305845),\n (1546929.9205705118, 8775.488397323244),\n (1542506.1157523908, 8600.920240198791),\n (1499515.3836034643, 9830.407902729532),\n (1515920.170477394, 8657.561848767535),\n (1543313.3887833634, 9431.775264518199),\n (1519870.2312942299, 10333.312826006908),\n (1543313.3887833634, 11477.220502606478)]"
     },
     "execution_count": 9,
     "metadata": {},
     "output_type": "execute_result"
    }
   ],
   "source": [
    "cases_per_year_list"
   ]
  },
  {
   "cell_type": "code",
   "execution_count": 10,
   "metadata": {
    "pycharm": {
     "name": "#%%\n"
    }
   },
   "outputs": [],
   "source": [
    "with open('cases_per_year_list.pickle', 'wb') as handle:\n",
    "    pickle.dump(cases_per_year_list, handle, protocol=pickle.HIGHEST_PROTOCOL)"
   ]
  }
 ],
 "metadata": {
  "kernelspec": {
   "display_name": "Python 3",
   "language": "python",
   "name": "python3"
  },
  "language_info": {
   "codemirror_mode": {
    "name": "ipython",
    "version": 3
   },
   "file_extension": ".py",
   "mimetype": "text/x-python",
   "name": "python",
   "nbconvert_exporter": "python",
   "pygments_lexer": "ipython3",
   "version": "3.8.5"
  },
  "toc": {
   "base_numbering": 1,
   "nav_menu": {},
   "number_sections": true,
   "sideBar": true,
   "skip_h1_title": false,
   "title_cell": "Table of Contents",
   "title_sidebar": "Contents",
   "toc_cell": false,
   "toc_position": {},
   "toc_section_display": true,
   "toc_window_display": false
  },
  "varInspector": {
   "cols": {
    "lenName": 16,
    "lenType": 16,
    "lenVar": 40
   },
   "kernels_config": {
    "python": {
     "delete_cmd_postfix": "",
     "delete_cmd_prefix": "del ",
     "library": "var_list.py",
     "varRefreshCmd": "print(var_dic_list())"
    },
    "r": {
     "delete_cmd_postfix": ") ",
     "delete_cmd_prefix": "rm(",
     "library": "var_list.r",
     "varRefreshCmd": "cat(var_dic_list()) "
    }
   },
   "types_to_exclude": [
    "module",
    "function",
    "builtin_function_or_method",
    "instance",
    "_Feature"
   ],
   "window_display": false
  }
 },
 "nbformat": 4,
 "nbformat_minor": 1
}