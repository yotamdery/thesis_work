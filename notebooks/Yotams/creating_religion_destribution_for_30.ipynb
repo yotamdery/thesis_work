{
 "cells": [
  {
   "cell_type": "code",
   "execution_count": 1,
   "metadata": {},
   "outputs": [],
   "source": [
    "import numpy as np\n",
    "import pandas as pd\n",
    "from matplotlib import pyplot as plt\n",
    "import seaborn as sns\n",
    "import warnings \n",
    "warnings.simplefilter('ignore')\n",
    "import plotly.express as px\n",
    "%matplotlib inline"
   ]
  },
  {
   "cell_type": "code",
   "execution_count": 2,
   "metadata": {},
   "outputs": [],
   "source": [
    "pd.set_option('display.float_format', lambda x: '%.4f' % x)"
   ]
  },
  {
   "cell_type": "code",
   "execution_count": 3,
   "metadata": {},
   "outputs": [],
   "source": [
    "def reading_taz_religion_destribution():\n",
    "    religion_taz = pd.read_csv(r'/Users/yotamdery/Old Desktop/git/SEIR_model_covid _yotams/Data/raw/religion2taz.csv', index_col= 0)\n",
    "    religion_taz = religion_taz.sort_values('taz_id')\n",
    "    \n",
    "    religion_taz['Generall'] = religion_taz['Other'] + religion_taz[\"Jewish\"] + religion_taz['Christian']\n",
    "    religion_taz['Arabs'] = religion_taz['Druze'] + religion_taz['Muslim']\n",
    "    \n",
    "    religion_taz = religion_taz[['Orth', 'Generall', 'Arabs']]\n",
    "    religion_taz.rename(columns= {'Orth' : 'Orthodox'}, inplace= True)\n",
    "    religion_taz.reset_index(inplace= True)\n",
    "    return religion_taz"
   ]
  },
  {
   "cell_type": "code",
   "execution_count": 4,
   "metadata": {},
   "outputs": [],
   "source": [
    "# A mapper - taz for 250 regions \n",
    "def reading_taz_250_mapping():\n",
    "    taz_250_mapping = pd.read_excel(r'/Users/yotamdery/Old Desktop/git/health_data_mapping/Taz_Yeshuv_250_mapping.xlsx',engine='openpyxl', usecols= \"A,P,AH\")\n",
    "    taz_250_mapping = taz_250_mapping.rename(columns= {'Unnamed: 0' : 'taz_id', 'Unnamed: 15' : 'population', 'Unnamed: 33' : '250_regions'})\n",
    "    taz_250_mapping = taz_250_mapping.loc[3:2632]\n",
    "    taz_250_mapping = taz_250_mapping[taz_250_mapping['population'] > 0]\n",
    "    return taz_250_mapping"
   ]
  },
  {
   "cell_type": "code",
   "execution_count": 5,
   "metadata": {},
   "outputs": [],
   "source": [
    "# Creating the religion destribution by 250 regions\n",
    "def creating_religion_dist_to_250(religion_taz, taz_to_250_mapping):\n",
    "    merged_df = religion_taz.merge(taz_to_250_mapping)\n",
    "    religion_250 = merged_df.groupby('250_regions').mean().reset_index()\n",
    "\n",
    "    return religion_250\n",
    "    "
   ]
  },
  {
   "cell_type": "code",
   "execution_count": 6,
   "metadata": {},
   "outputs": [],
   "source": [
    "def reading_250_30_mapping():\n",
    "    mapping_30_250 = pd.read_excel(r'/Users/yotamdery/Old Desktop/git/Covid_data_investigation/cell250_to_cell30.xlsx',engine='openpyxl')\n",
    "    return mapping_30_250"
   ]
  },
  {
   "cell_type": "code",
   "execution_count": 7,
   "metadata": {},
   "outputs": [],
   "source": [
    "def creating_religion_dist_to_30(religion_250, mapping_30_250):\n",
    "    merged_df = religion_250.merge(mapping_30_250, how= 'inner', left_on= '250_regions', right_on= 'cell_id')\n",
    "    religion_30 = merged_df.groupby('30_county').mean().reset_index()\n",
    "    return religion_30"
   ]
  },
  {
   "cell_type": "code",
   "execution_count": 8,
   "metadata": {},
   "outputs": [],
   "source": [
    "def main():\n",
    "    religion_taz = reading_taz_religion_destribution()\n",
    "    taz_to_250_mapping = reading_taz_250_mapping()\n",
    "    \n",
    "    religion_250 = creating_religion_dist_to_250(religion_taz, taz_to_250_mapping)       # Creating the religion destribution by 250 regions\n",
    "    \n",
    "    mapping_30_250 = reading_250_30_mapping()\n",
    "    religion_30 = creating_religion_dist_to_30(religion_250, mapping_30_250)        # Creating the religion destribution by 30 regions\n",
    "    \n",
    "    return religion_30[['30_county', 'Orthodox', 'Generall', 'Arabs']]\n",
    "    \n",
    "    "
   ]
  },
  {
   "cell_type": "code",
   "execution_count": 9,
   "metadata": {},
   "outputs": [],
   "source": [
    "religion_destribution_30_counties = main()"
   ]
  },
  {
   "cell_type": "code",
   "execution_count": 12,
   "metadata": {},
   "outputs": [],
   "source": [
    "religion_destribution_30_counties.to_csv('religion_destribution_30_counties.csv', index= False)"
   ]
  },
  {
   "cell_type": "code",
   "execution_count": null,
   "metadata": {},
   "outputs": [],
   "source": []
  }
 ],
 "metadata": {
  "kernelspec": {
   "display_name": "Python 3",
   "language": "python",
   "name": "python3"
  },
  "language_info": {
   "codemirror_mode": {
    "name": "ipython",
    "version": 3
   },
   "file_extension": ".py",
   "mimetype": "text/x-python",
   "name": "python",
   "nbconvert_exporter": "python",
   "pygments_lexer": "ipython3",
   "version": "3.8.5"
  }
 },
 "nbformat": 4,
 "nbformat_minor": 4
}
