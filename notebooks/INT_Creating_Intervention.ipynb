{
 "cells": [
  {
   "cell_type": "markdown",
   "metadata": {},
   "source": [
    "# Improts"
   ]
  },
  {
   "cell_type": "code",
   "execution_count": 1,
   "metadata": {
    "ExecuteTime": {
     "end_time": "2020-04-28T16:44:27.698736Z",
     "start_time": "2020-04-28T16:44:25.907634Z"
    }
   },
   "outputs": [],
   "source": [
    "import numpy as np\n",
    "import pandas as pd\n",
    "from matplotlib.patches import Patch\n",
    "import itertools\n",
    "import pickle\n",
    "from matplotlib import pyplot as plt\n",
    "import datetime\n",
    "import scipy\n",
    "from scipy import optimize\n",
    "from scipy.sparse import csr_matrix\n",
    "import sys\n",
    "import os\n",
    "sys.path.append('../SEIR_full/')\n",
    "sys.path.append('..')\n",
    "from SEIR_full.indices import *\n",
    "%matplotlib inline"
   ]
  },
  {
   "cell_type": "code",
   "execution_count": 2,
   "metadata": {
    "ExecuteTime": {
     "end_time": "2020-04-28T16:44:27.801742Z",
     "start_time": "2020-04-28T16:44:27.703737Z"
    }
   },
   "outputs": [],
   "source": [
    "with (open('../Data/parameters/indices.pickle', 'rb')) as openfile:\n",
    "    ind = pickle.load(openfile)"
   ]
  },
  {
   "cell_type": "markdown",
   "metadata": {},
   "source": [
    "# Making Intervention 30% no old"
   ]
  },
  {
   "cell_type": "code",
   "execution_count": 129,
   "metadata": {
    "ExecuteTime": {
     "end_time": "2020-04-28T21:40:58.564316Z",
     "start_time": "2020-04-28T21:40:58.562315Z"
    }
   },
   "outputs": [],
   "source": [
    "inter_name='20@10'"
   ]
  },
  {
   "cell_type": "markdown",
   "metadata": {},
   "source": [
    "## Calibration contact matrix"
   ]
  },
  {
   "cell_type": "code",
   "execution_count": 130,
   "metadata": {
    "ExecuteTime": {
     "end_time": "2020-04-28T21:41:02.631548Z",
     "start_time": "2020-04-28T21:41:02.515542Z"
    }
   },
   "outputs": [],
   "source": [
    "full_mtx_home = scipy.sparse.load_npz('../Data/base_contact_mtx/full_home.npz')\n",
    "\n",
    "full_mtx_work = {\n",
    "    'routine': scipy.sparse.load_npz('../Data/base_contact_mtx/full_work_routine.npz'),\n",
    "    'no_school': scipy.sparse.load_npz('../Data/base_contact_mtx/full_work_no_school.npz'),\n",
    "    'no_work': scipy.sparse.load_npz('../Data/base_contact_mtx/full_work_no_work.npz'),\n",
    "    'no_100_meters': scipy.sparse.load_npz('../Data/base_contact_mtx/full_work_no_100_meters.npz'),\n",
    "    'no_bb': scipy.sparse.load_npz('../Data/base_contact_mtx/full_work_no_bb.npz'),\n",
    "}\n",
    "\n",
    "full_mtx_leisure = {\n",
    "    'routine': scipy.sparse.load_npz('../Data/base_contact_mtx/full_leisure_routine.npz'),\n",
    "    'no_school': scipy.sparse.load_npz('../Data/base_contact_mtx/full_leisure_no_school.npz'),\n",
    "    'no_work': scipy.sparse.load_npz('../Data/base_contact_mtx/full_leisure_no_work.npz'),\n",
    "    'no_100_meters': scipy.sparse.load_npz('../Data/base_contact_mtx/full_leisure_no_100_meters.npz'),\n",
    "    'no_bb': scipy.sparse.load_npz('../Data/base_contact_mtx/full_leisure_no_bb.npz'),\n",
    "}"
   ]
  },
  {
   "cell_type": "code",
   "execution_count": 113,
   "metadata": {
    "ExecuteTime": {
     "end_time": "2020-04-28T17:22:54.374671Z",
     "start_time": "2020-04-28T17:22:54.371670Z"
    }
   },
   "outputs": [],
   "source": [
    "C_calibration = {}\n",
    "d_tot = 500"
   ]
  },
  {
   "cell_type": "code",
   "execution_count": 131,
   "metadata": {
    "ExecuteTime": {
     "end_time": "2020-04-28T21:41:57.365679Z",
     "start_time": "2020-04-28T21:41:57.359678Z"
    }
   },
   "outputs": [],
   "source": [
    "# intervation are null groups\n",
    "home_inter = []\n",
    "work_inter = []\n",
    "leis_inter = []\n",
    "factor = 1.0     #1.0/2.0\n",
    "\n",
    "# all days are 30% - no work no school but taking hard close for old people and risk\n",
    "\n",
    "# public at 50%\n",
    "# work = full_mtx_work['no_work'] + (full_mtx_work['routine'] - full_mtx_work['no_work']) * 4.5/7.0\n",
    "# leisure = full_mtx_leisure['no_work'] + (full_mtx_leisure['routine'] - full_mtx_leisure['no_work']) * 4.5/7.0\n",
    "\n",
    "# public 10%\n",
    "work = full_mtx_work['no_100_meters']\n",
    "leisure = full_mtx_leisure['no_100_meters']\n",
    "\n",
    "# public at 100%\n",
    "# work = full_mtx_work['routine']\n",
    "# leisure = full_mtx_leisure['routine']\n",
    "\n",
    "# public at 100% no school\n",
    "# work = full_mtx_work['no_school']\n",
    "# leisure = full_mtx_leisure['no_school']\n",
    "\n",
    "# for group, idx in ind.age_ga_dict.items():\n",
    "#     if group in ['0-4', '5-9']:\n",
    "#         work[idx, :] = full_mtx_work['routine'][idx, :] * factor\n",
    "#         work[:, idx] = full_mtx_work['routine'][:, idx] * factor\n",
    "#     if group in ['10-19']:\n",
    "#         work[idx, :] = full_mtx_work['no_100_meters'][idx, :] * factor\n",
    "#         work[:, idx] = full_mtx_work['no_100_meters'][:, idx] * factor\n",
    "    \n",
    "#     if group in ['70+', '60-69']:\n",
    "#         work[idx, :] = full_mtx_work['no_100_meters'][idx, :]\n",
    "#         work[:, idx] = full_mtx_work['no_100_meters'][:, idx]\n",
    "        \n",
    "#         leisure[idx, :] = full_mtx_leisure['no_100_meters'][idx, :]\n",
    "#         leisure[:, idx] = full_mtx_leisure['no_100_meters'][:, idx]"
   ]
  },
  {
   "cell_type": "code",
   "execution_count": 132,
   "metadata": {
    "ExecuteTime": {
     "end_time": "2020-04-28T21:41:58.052718Z",
     "start_time": "2020-04-28T21:41:58.047718Z"
    }
   },
   "outputs": [],
   "source": [
    "for i in range(d_tot):\n",
    "    home_inter.append(full_mtx_home)\n",
    "    work_inter.append(work)\n",
    "    leis_inter.append(leisure)"
   ]
  },
  {
   "cell_type": "code",
   "execution_count": 133,
   "metadata": {
    "ExecuteTime": {
     "end_time": "2020-04-28T21:41:58.550747Z",
     "start_time": "2020-04-28T21:41:58.547746Z"
    }
   },
   "outputs": [],
   "source": [
    "# # first days of routine from Feb 21st - March 13th\n",
    "\n",
    "# # first days of no school from March 14th - March 16th\n",
    "\n",
    "# # without school and work from March 17th - March 25th\n",
    "\n",
    "# # 100 meters constrain from March 26th - April 2nd\n",
    "    \n",
    "# # Bnei Brak quaranrine from April 3rd\n"
   ]
  },
  {
   "cell_type": "code",
   "execution_count": 134,
   "metadata": {
    "ExecuteTime": {
     "end_time": "2020-04-28T21:41:59.903824Z",
     "start_time": "2020-04-28T21:41:59.894823Z"
    }
   },
   "outputs": [],
   "source": [
    "# non Intervantion\n",
    "home_no_inter = []\n",
    "work_no_inter = []\n",
    "leis_no_inter = []\n",
    "\n",
    "# all what left is poeple in high risk that will keep behaving like no_100_meter.\n",
    "work = full_mtx_work['no_100_meters']       # + (full_mtx_work['no_school'] - full_mtx_work['no_work']) * 2.0/7.0\n",
    "leisure = full_mtx_leisure['no_100_meters'] # + (full_mtx_leisure['no_school'] - full_mtx_leisure['no_work']) * 2.0/7.0\n",
    "# for group, idx in age_ga_dict.items():\n",
    "    \n",
    "#     if group in ['0-4']:\n",
    "#         work[idx, :] = full_mtx_work['routine'][idx, :] * factor\n",
    "#         work[:, idx] = full_mtx_work['routine'][:, idx] * factor\n",
    "    \n",
    "#     if group in ['70+', '60-69']:\n",
    "#         work[idx, :] = full_mtx_work['no_100_meters'][idx, :]\n",
    "#         work[:, idx] = full_mtx_work['no_100_meters'][:, idx]\n",
    "        \n",
    "#         leisure[idx, :] = full_mtx_leisure['no_100_meters'][idx, :]\n",
    "#         leisure[idx, :] = full_mtx_leisure['no_100_meters'][idx, :]"
   ]
  },
  {
   "cell_type": "code",
   "execution_count": 135,
   "metadata": {
    "ExecuteTime": {
     "end_time": "2020-04-28T21:42:02.958999Z",
     "start_time": "2020-04-28T21:42:02.951998Z"
    }
   },
   "outputs": [],
   "source": [
    "for i in range(d_tot):\n",
    "    home_no_inter.append(full_mtx_home)\n",
    "    work_no_inter.append(work)\n",
    "    leis_no_inter.append(leisure)"
   ]
  },
  {
   "cell_type": "code",
   "execution_count": 136,
   "metadata": {
    "ExecuteTime": {
     "end_time": "2020-04-28T21:42:03.438026Z",
     "start_time": "2020-04-28T21:42:03.431026Z"
    }
   },
   "outputs": [],
   "source": [
    "C_calibration['home_inter'] = home_inter\n",
    "C_calibration['work_inter'] = work_inter\n",
    "C_calibration['leisure_inter'] = leis_inter\n",
    "C_calibration['home_non'] = home_no_inter\n",
    "C_calibration['work_non'] = work_no_inter\n",
    "C_calibration['leisure_non'] = leis_no_inter"
   ]
  },
  {
   "cell_type": "code",
   "execution_count": 137,
   "metadata": {
    "ExecuteTime": {
     "end_time": "2020-04-28T21:42:03.954056Z",
     "start_time": "2020-04-28T21:42:03.943055Z"
    }
   },
   "outputs": [],
   "source": [
    "# Save\n",
    "with open('../Data/interventions/C_inter_' + inter_name + '.pickle', 'wb') as handle:\n",
    "    pickle.dump(C_calibration, handle, protocol=pickle.HIGHEST_PROTOCOL)"
   ]
  },
  {
   "cell_type": "markdown",
   "metadata": {},
   "source": [
    "## stay_home_idx+not_routine"
   ]
  },
  {
   "cell_type": "code",
   "execution_count": 138,
   "metadata": {
    "ExecuteTime": {
     "end_time": "2020-04-28T21:42:05.485143Z",
     "start_time": "2020-04-28T21:42:05.456142Z"
    }
   },
   "outputs": [],
   "source": [
    "stay_home_idx_school =  pd.read_csv('../Data/stay_home/no_school.csv',index_col=0)\n",
    "stay_home_idx_school.index = stay_home_idx_school.index.astype(str)\n",
    "stay_home_idx_work =  pd.read_csv('../Data/stay_home/no_work.csv',index_col=0)\n",
    "stay_home_idx_work.index = stay_home_idx_work.index.astype(str)\n",
    "stay_home_idx_routine =  pd.read_csv('../Data/stay_home/routine.csv',index_col=0)\n",
    "stay_home_idx_routine.index = stay_home_idx_routine.index.astype(str)\n",
    "stay_home_idx_no_100_meters =  pd.read_csv('../Data/stay_home/no_100_meters.csv',index_col=0)\n",
    "stay_home_idx_no_100_meters.index = stay_home_idx_no_100_meters.index.astype(str)\n",
    "stay_home_idx_no_bb =  pd.read_csv('../Data/stay_home/no_bb.csv',index_col=0)\n",
    "stay_home_idx_no_bb.index = stay_home_idx_no_bb.index.astype(str)"
   ]
  },
  {
   "cell_type": "code",
   "execution_count": 139,
   "metadata": {
    "ExecuteTime": {
     "end_time": "2020-04-28T21:42:05.840164Z",
     "start_time": "2020-04-28T21:42:05.831163Z"
    }
   },
   "outputs": [],
   "source": [
    "# reordering and expanding vector for each period:\n",
    "stay_home_idx_school = stay_home_idx_school['mean'].values\n",
    "stay_home_idx_school[1] = stay_home_idx_school[0]\n",
    "\n",
    "stay_home_idx_work = stay_home_idx_work['mean'].values\n",
    "stay_home_idx_work[1] = stay_home_idx_work[0]\n",
    "\n",
    "stay_home_idx_no_100_meters = stay_home_idx_no_100_meters['mean'].values\n",
    "stay_home_idx_no_100_meters[1] = stay_home_idx_no_100_meters[0]\n",
    "\n",
    "stay_home_idx_no_bb = stay_home_idx_no_bb['mean'].values\n",
    "stay_home_idx_no_bb[1] = stay_home_idx_no_bb[0]\n",
    "\n",
    "# expanding vectors:\n",
    "stay_home_idx_school = expand_partial_array(mapping_dic=ind.region_ga_dict,array_to_expand=stay_home_idx_school,\n",
    "                                              size=len(ind.GA))\n",
    "stay_home_idx_work = expand_partial_array(mapping_dic=ind.region_ga_dict,array_to_expand=stay_home_idx_work,\n",
    "                                              size=len(ind.GA))\n",
    "stay_home_idx_no_100_meters = expand_partial_array(mapping_dic=ind.region_ga_dict,array_to_expand=stay_home_idx_no_100_meters,\n",
    "                                              size=len(ind.GA))\n",
    "stay_home_idx_no_bb = expand_partial_array(mapping_dic=ind.region_ga_dict,array_to_expand=stay_home_idx_no_bb,\n",
    "                                              size=len(ind.GA))"
   ]
  },
  {
   "cell_type": "code",
   "execution_count": 140,
   "metadata": {
    "ExecuteTime": {
     "end_time": "2020-04-28T21:42:07.128237Z",
     "start_time": "2020-04-28T21:42:07.119237Z"
    }
   },
   "outputs": [
    {
     "name": "stdout",
     "output_type": "stream",
     "text": [
      "stay_home_idx_school 0.5819466585559199\n",
      "stay_home_idx_school 0.02850366334980901\n",
      "stay_home_idx_work 0.36546971280657836\n",
      "stay_home_idx_work 0.02850366334980901\n",
      "stay_home_idx_no_100_meters 0.26721750455733795\n",
      "stay_home_idx_no_100_meters 0.043077676818295746\n",
      "stay_home_idx_no_bb 0.29829396687175325\n",
      "stay_home_idx_no_bb 0.046638504982982484\n"
     ]
    }
   ],
   "source": [
    "print('stay_home_idx_school', stay_home_idx_school.mean())\n",
    "print('stay_home_idx_school', stay_home_idx_school.std())\n",
    "print('stay_home_idx_work', stay_home_idx_work.mean())\n",
    "print('stay_home_idx_work', stay_home_idx_school.std())\n",
    "print('stay_home_idx_no_100_meters', stay_home_idx_no_100_meters.mean())\n",
    "print('stay_home_idx_no_100_meters', stay_home_idx_no_100_meters.std())\n",
    "print('stay_home_idx_no_bb', stay_home_idx_no_bb.mean())\n",
    "print('stay_home_idx_no_bb', stay_home_idx_no_bb.std())\n"
   ]
  },
  {
   "cell_type": "code",
   "execution_count": 141,
   "metadata": {
    "ExecuteTime": {
     "end_time": "2020-04-28T21:42:08.318305Z",
     "start_time": "2020-04-28T21:42:08.313305Z"
    }
   },
   "outputs": [],
   "source": [
    "# # preparing model objects:\n",
    "# stay_idx_t = []\n",
    "# routine_vector = []\n",
    "\n",
    "# # first days of routine from Feb 21st - March 13th\n",
    "\n",
    "# # first days of no school from March 14th - March 16th\n",
    "\n",
    "# # without school and work from March 17th - March 25th\n",
    "\n",
    "# # 100 meters constrain from March 26th - April 2nd\n",
    "\n",
    "# # Bnei Brak quaranrine from April 3rd"
   ]
  },
  {
   "cell_type": "code",
   "execution_count": 142,
   "metadata": {
    "ExecuteTime": {
     "end_time": "2020-04-28T21:42:17.683841Z",
     "start_time": "2020-04-28T21:42:17.672840Z"
    }
   },
   "outputs": [],
   "source": [
    "# preparing model objects:\n",
    "# inter - are kids group going back to kindergardens: 0-3\n",
    "# should be like regular time time - stay_home_idx_work\n",
    "stay_idx_t_work_inter = []\n",
    "stay_idx_t_not_work_inter = []\n",
    "routine_vector_inter = []\n",
    "\n",
    "# 50% no school\n",
    "# stay_home_idx_work_inter_spec = stay_home_idx_work.copy() + (np.ones_like(stay_home_idx_work)-stay_home_idx_work.copy())*4.5/7.0\n",
    "# 100% with all\n",
    "# stay_home_idx_work_inter_spec = np.ones_like(stay_home_idx_work)\n",
    "# 100% noschool\n",
    "# stay_home_idx_work_inter_spec = stay_home_idx_school\n",
    "# 10%\n",
    "stay_home_idx_work_inter_spec = stay_home_idx_no_100_meters\n",
    "\n",
    "routine_vector_inter_spec = np.ones_like(stay_home_idx_work)\n",
    "# for group, idx in ind.age_ga_dict.items():\n",
    "#     if group in ['0-4', '5-9']:\n",
    "#         stay_home_idx_work_inter_spec[idx] = 1 #stay_home_idx_no_100_meters[idx]\n",
    "#     if group in ['10-19']:\n",
    "#         stay_home_idx_work_inter_spec[idx] = stay_home_idx_no_100_meters[idx]\n",
    "        \n",
    "# 50% no school\n",
    "# stay_home_idx_not_work_inter_spec = stay_home_idx_work.copy() + (np.ones_like(stay_home_idx_work)-stay_home_idx_work.copy())*4.5/7.0\n",
    "# 100% noschool\n",
    "# stay_home_idx_not_work_inter_spec = stay_home_idx_school\n",
    "# 100% with all\n",
    "# stay_home_idx_not_work_inter_spec = np.ones_like(stay_home_idx_work)\n",
    "# 10%\n",
    "stay_home_idx_not_work_inter_spec = stay_home_idx_no_100_meters\n",
    "        \n",
    "for i in range(d_tot):\n",
    "    stay_idx_t_work_inter.append(stay_home_idx_work_inter_spec)\n",
    "    stay_idx_t_not_work_inter.append(stay_home_idx_not_work_inter_spec)\n",
    "    routine_vector_inter.append(routine_vector_inter_spec)\n",
    "\n",
    "\n",
    "# non_inter - are kids staying home: 3-4\n",
    "# should be like no shool and no work time - stay_home_idx_work\n",
    "stay_idx_t_non_inter = []\n",
    "routine_vector_non_inter = []\n",
    "\n",
    "routine_vector_non_inter_spec = np.ones_like(stay_home_idx_work)\n",
    "# for group, idx in age_ga_dict.items():\n",
    "#     if group in ['0-4']:\n",
    "#         routine_vector_non_inter_spec[idx] = 0.0\n",
    "        \n",
    "for i in range(d_tot):\n",
    "    stay_idx_t_non_inter.append(stay_home_idx_no_100_meters)\n",
    "    routine_vector_non_inter.append(routine_vector_non_inter_spec)"
   ]
  },
  {
   "cell_type": "code",
   "execution_count": 143,
   "metadata": {
    "ExecuteTime": {
     "end_time": "2020-04-28T21:42:18.611894Z",
     "start_time": "2020-04-28T21:42:18.606894Z"
    }
   },
   "outputs": [],
   "source": [
    "stay_idx_calibration = {\n",
    "    'non_inter':{\n",
    "        'work': stay_idx_t_non_inter,\n",
    "        'not_work': stay_idx_t_non_inter\n",
    "    }, \n",
    "    'inter': {\n",
    "        'work': stay_idx_t_work_inter,\n",
    "        'not_work': stay_idx_t_not_work_inter,\n",
    "    }\n",
    "}\n",
    "\n",
    "routine_vector_calibration = {\n",
    "    'non_inter':{\n",
    "        'work': [1]*500,\n",
    "        'not_work': [1]*500,\n",
    "    }, \n",
    "    'inter': {\n",
    "        'work': [1]*500,\n",
    "        'not_work': [1]*500,\n",
    "    }\n",
    "}"
   ]
  },
  {
   "cell_type": "code",
   "execution_count": 144,
   "metadata": {
    "ExecuteTime": {
     "end_time": "2020-04-28T21:42:18.886910Z",
     "start_time": "2020-04-28T21:42:18.865909Z"
    }
   },
   "outputs": [],
   "source": [
    "# save objects\n",
    "with open('../Data/interventions/stay_home_idx_inter_' + inter_name + '.pickle', 'wb') as handle:\n",
    "    pickle.dump(stay_idx_calibration, handle, protocol=pickle.HIGHEST_PROTOCOL)\n",
    "\n",
    "with open('../Data/interventions/routine_t_inter_' + inter_name + '.pickle', 'wb') as handle:\n",
    "    pickle.dump(routine_vector_calibration, handle, protocol=pickle.HIGHEST_PROTOCOL)"
   ]
  },
  {
   "cell_type": "markdown",
   "metadata": {},
   "source": [
    "## creating Transfer pop dict for intervention"
   ]
  },
  {
   "cell_type": "code",
   "execution_count": 145,
   "metadata": {
    "ExecuteTime": {
     "end_time": "2020-04-28T21:42:19.507945Z",
     "start_time": "2020-04-28T21:42:19.495945Z"
    }
   },
   "outputs": [],
   "source": [
    "transfer_pop = ind.region_risk_age_dict.copy()\n",
    "for region, risk, age in transfer_pop.keys():\n",
    "    transfer_pop[(region, risk, age)] = 1\n",
    "#     if (risk=='Low') and (age not in ['70+', '60-69']):\n",
    "#         transfer_pop[(region, risk, age)] = 1.0\n",
    "#     if (risk=='LOW') and (age in ['0-4']):\n",
    "#         transfer_pop[(region, risk, age)] = 1.0\n",
    "#     if (risk=='LOW') and (age in ['5-9']):\n",
    "#         transfer_pop[(region, risk, age)] = 2.0/5.0\n",
    "\n",
    "with open('../Data/interventions/transfer_pop_inter_' + inter_name + '.pickle', 'wb') as handle:\n",
    "    pickle.dump(transfer_pop, handle, protocol=pickle.HIGHEST_PROTOCOL)"
   ]
  },
  {
   "cell_type": "markdown",
   "metadata": {
    "heading_collapsed": true
   },
   "source": [
    "# Making Intervention 30% no old with kid 0-6 with half class"
   ]
  },
  {
   "cell_type": "code",
   "execution_count": 15,
   "metadata": {
    "ExecuteTime": {
     "end_time": "2020-04-19T15:53:57.629394Z",
     "start_time": "2020-04-19T15:53:57.622393Z"
    },
    "hidden": true
   },
   "outputs": [],
   "source": [
    "inter_name = '30_no_old_kid04'"
   ]
  },
  {
   "cell_type": "markdown",
   "metadata": {
    "hidden": true
   },
   "source": [
    "## Calibration contact matrix"
   ]
  },
  {
   "cell_type": "code",
   "execution_count": 16,
   "metadata": {
    "ExecuteTime": {
     "end_time": "2020-04-19T15:53:58.427439Z",
     "start_time": "2020-04-19T15:53:58.341434Z"
    },
    "hidden": true
   },
   "outputs": [],
   "source": [
    "full_mtx_home = scipy.sparse.load_npz('../Data/base_contact_mtx/full_home.npz')\n",
    "\n",
    "full_mtx_work = {\n",
    "    'routine': scipy.sparse.load_npz('../Data/base_contact_mtx/full_work_routine.npz'),\n",
    "    'no_school': scipy.sparse.load_npz('../Data/base_contact_mtx/full_work_no_school.npz'),\n",
    "    'no_work': scipy.sparse.load_npz('../Data/base_contact_mtx/full_work_no_work.npz'),\n",
    "    'no_100_meters': scipy.sparse.load_npz('../Data/base_contact_mtx/full_work_no_100_meters.npz'),\n",
    "    'no_bb': scipy.sparse.load_npz('../Data/base_contact_mtx/full_work_no_bb.npz'),\n",
    "}\n",
    "\n",
    "full_mtx_leisure = {\n",
    "    'routine': scipy.sparse.load_npz('../Data/base_contact_mtx/full_leisure_routine.npz'),\n",
    "    'no_school': scipy.sparse.load_npz('../Data/base_contact_mtx/full_leisure_no_school.npz'),\n",
    "    'no_work': scipy.sparse.load_npz('../Data/base_contact_mtx/full_leisure_no_work.npz'),\n",
    "    'no_100_meters': scipy.sparse.load_npz('../Data/base_contact_mtx/full_leisure_no_100_meters.npz'),\n",
    "    'no_bb': scipy.sparse.load_npz('../Data/base_contact_mtx/full_leisure_no_bb.npz'),\n",
    "}"
   ]
  },
  {
   "cell_type": "code",
   "execution_count": 17,
   "metadata": {
    "ExecuteTime": {
     "end_time": "2020-04-19T15:53:58.898466Z",
     "start_time": "2020-04-19T15:53:58.893466Z"
    },
    "hidden": true
   },
   "outputs": [],
   "source": [
    "C_calibration = {}\n",
    "d_tot = 500"
   ]
  },
  {
   "cell_type": "code",
   "execution_count": 18,
   "metadata": {
    "ExecuteTime": {
     "end_time": "2020-04-19T15:54:00.595563Z",
     "start_time": "2020-04-19T15:54:00.546561Z"
    },
    "collapsed": true,
    "hidden": true
   },
   "outputs": [
    {
     "name": "stdout",
     "output_type": "stream",
     "text": [
      "  (0, 0)\t207.53675003674692\n",
      "  (0, 1)\t5.355919591971113\n",
      "  (0, 2)\t1.4848748368190596\n",
      "  (0, 3)\t5.139156176789472\n",
      "  (0, 4)\t2.8970814784151537\n",
      "  (0, 5)\t28.019194236929188\n",
      "  (0, 6)\t1.964505187877623\n",
      "  (0, 7)\t0.29099808967036683\n",
      "  (1, 0)\t0.7422821982789035\n",
      "  (1, 1)\t16.157642042803523\n",
      "  (1, 2)\t22.672199460996897\n",
      "  (1, 3)\t21.99390504581813\n",
      "  (1, 4)\t27.517724855624245\n",
      "  (1, 5)\t24.125808051972793\n",
      "  (1, 6)\t12.938956372825576\n",
      "  (1, 7)\t0.8635934199063298\n",
      "  (1, 8)\t0.0005499095043546266\n",
      "  (1, 9)\t0.00623852021720959\n",
      "  (1, 10)\t0.16787657958287266\n",
      "  (1, 11)\t0.3062331054227428\n",
      "  (1, 12)\t0.2722896349429506\n",
      "  (1, 13)\t0.3725744289143241\n",
      "  (1, 14)\t0.206211815376139\n",
      "  (1, 15)\t0.22983750456407365\n",
      "  (1, 16)\t0.01172454240653509\n",
      "  :\t:\n",
      "  (179, 152)\t2.6866921771699817e-06\n",
      "  (179, 154)\t7.090449808883403e-07\n",
      "  (179, 155)\t5.922192595065881e-06\n",
      "  (179, 156)\t1.0165133976977068e-05\n",
      "  (179, 157)\t4.955896756852091e-06\n",
      "  (179, 158)\t0.001808295124455163\n",
      "  (179, 159)\t3.4619310082974145e-06\n",
      "  (179, 160)\t2.885711254469235e-06\n",
      "  (179, 161)\t2.1838520465331216e-06\n",
      "  (179, 163)\t2.66699790602345e-07\n",
      "  (179, 164)\t3.19577672537978e-06\n",
      "  (179, 165)\t7.916856737766592e-06\n",
      "  (179, 166)\t4.472867492494377e-06\n",
      "  (179, 167)\t0.0006907691504255227\n",
      "  (179, 168)\t5.468474092977599e-06\n",
      "  (179, 169)\t8.063552977261489e-06\n",
      "  (179, 170)\t8.208991072693956e-06\n",
      "  (179, 172)\t0.0009618242639387811\n",
      "  (179, 173)\t0.011071200157148162\n",
      "  (179, 174)\t0.018994000089513945\n",
      "  (179, 175)\t0.011079527008725467\n",
      "  (179, 176)\t1.9697213996521397\n",
      "  (179, 177)\t0.010119024039982116\n",
      "  (179, 178)\t0.010260702014333187\n",
      "  (179, 179)\t0.012168004965854273\n",
      "  (0, 0)\t135.47823132546063\n",
      "  (0, 1)\t27.255364456281594\n",
      "  (0, 2)\t51.29339752355473\n",
      "  (0, 3)\t88.35104799774159\n",
      "  (0, 4)\t50.35471203180458\n",
      "  (0, 5)\t61.72257116998939\n",
      "  (0, 6)\t60.55842770447472\n",
      "  (0, 7)\t45.867833813831126\n",
      "  (0, 8)\t19.10463727154727\n",
      "  (0, 9)\t0.5074342399903147\n",
      "  (0, 10)\t0.12620071982458025\n",
      "  (0, 11)\t0.30875760246887907\n",
      "  (0, 12)\t0.4874590952219831\n",
      "  (0, 13)\t0.3038353815531087\n",
      "  (0, 14)\t0.23511124175118542\n",
      "  (0, 15)\t0.47939549535880616\n",
      "  (0, 16)\t0.40277330078521045\n",
      "  (0, 17)\t0.21643027337582355\n",
      "  (0, 18)\t0.0075152021082550684\n",
      "  (0, 19)\t0.0014671608353811997\n",
      "  (0, 20)\t0.0024978815275918348\n",
      "  (0, 21)\t0.004245525415995757\n",
      "  (0, 22)\t0.002026901582972789\n",
      "  (0, 23)\t0.0033325243877646007\n",
      "  (0, 24)\t0.0021606787024607372\n",
      "  :\t:\n",
      "  (179, 155)\t0.007095333743799792\n",
      "  (179, 156)\t0.013746391755625286\n",
      "  (179, 157)\t0.013793859433807539\n",
      "  (179, 158)\t0.0031214932699650355\n",
      "  (179, 159)\t0.01270879236652847\n",
      "  (179, 160)\t0.020819119534337266\n",
      "  (179, 161)\t0.016488151983385248\n",
      "  (179, 162)\t0.0008375400856785036\n",
      "  (179, 163)\t0.0017337275670953228\n",
      "  (179, 164)\t0.003737830117094718\n",
      "  (179, 165)\t0.010451562545774545\n",
      "  (179, 166)\t0.012153529131182499\n",
      "  (179, 167)\t0.0011640693479206359\n",
      "  (179, 168)\t0.01959768906055033\n",
      "  (179, 169)\t0.05679220846097807\n",
      "  (179, 170)\t0.06050501619142454\n",
      "  (179, 171)\t4.718236914153593\n",
      "  (179, 172)\t11.482885097973599\n",
      "  (179, 173)\t23.78126444584286\n",
      "  (179, 174)\t46.05130946024265\n",
      "  (179, 175)\t55.288486898377165\n",
      "  (179, 176)\t6.096040354772024\n",
      "  (179, 177)\t66.60003260727974\n",
      "  (179, 178)\t132.72003857142204\n",
      "  (179, 179)\t164.70928680801745\n"
     ]
    }
   ],
   "source": [
    "# intervation are null groups\n",
    "home_inter = []\n",
    "work_inter = []\n",
    "leis_inter = []\n",
    "\n",
    "# intervention of all kids - but 0.5 the class sise - of routine\n",
    "# no old in this\n",
    "# factor = 1.0/2.0\n",
    "factor = 1.0\n",
    "\n",
    "work = full_mtx_work['no_work'].copy()\n",
    "leisure = full_mtx_leisure['no_work'].copy()\n",
    "# set children matrix\n",
    "for group, idx in age_ga_dict.items():\n",
    "#     work[]\n",
    "    if group in ['0-4']:\n",
    "        work[idx, :] = full_mtx_work['routine'][idx, :] * factor\n",
    "        work[:, idx] = full_mtx_work['routine'][:, idx] * factor\n",
    "        \n",
    "for group, idx in age_ga_dict.items():\n",
    "#     work[]\n",
    "    if group in ['70+', '60-69']:\n",
    "        work[idx, :] = full_mtx_work['no_100_meters'][idx, :]\n",
    "        work[:, idx] = full_mtx_work['no_100_meters'][:, idx]\n",
    "        \n",
    "        leisure[idx, :] = full_mtx_leisure['no_100_meters'][idx, :]\n",
    "        leisure[:, idx] = full_mtx_leisure['no_100_meters'][:, idx]\n",
    "\n",
    "for i in range(d_tot):\n",
    "    home_inter.append(full_mtx_home)\n",
    "    work_inter.append(work)\n",
    "    leis_inter.append(leisure)\n",
    "print(work)\n",
    "print(leisure)\n",
    "    "
   ]
  },
  {
   "cell_type": "code",
   "execution_count": 19,
   "metadata": {
    "ExecuteTime": {
     "end_time": "2020-04-19T15:54:00.760573Z",
     "start_time": "2020-04-19T15:54:00.758573Z"
    },
    "hidden": true
   },
   "outputs": [],
   "source": [
    "# # first days of routine from Feb 21st - March 13th\n",
    "\n",
    "# # first days of no school from March 14th - March 16th\n",
    "\n",
    "# # without school and work from March 17th - March 25th\n",
    "\n",
    "# # 100 meters constrain from March 26th - April 2nd\n",
    "    \n",
    "# # Bnei Brak quaranrine from April 3rd\n"
   ]
  },
  {
   "cell_type": "code",
   "execution_count": 20,
   "metadata": {
    "ExecuteTime": {
     "end_time": "2020-04-19T15:54:01.389609Z",
     "start_time": "2020-04-19T15:54:01.358607Z"
    },
    "hidden": true
   },
   "outputs": [],
   "source": [
    "# non Intervantion\n",
    "home_no_inter = []\n",
    "work_no_inter = []\n",
    "leis_no_inter = []\n",
    "\n",
    "# all days are 30% - no work no school but taking hard close for old people\n",
    "\n",
    "work = full_mtx_work['no_work'].copy()\n",
    "leisure = full_mtx_leisure['no_work'].copy()\n",
    "for group, idx in age_ga_dict.items():\n",
    "#     work[]\n",
    "    if group in ['70+', '60-69']:\n",
    "        work[idx, :] = full_mtx_work['no_100_meters'][idx, :]\n",
    "        work[:, idx] = full_mtx_work['no_100_meters'][:, idx]\n",
    "        \n",
    "        leisure[idx, :] = full_mtx_leisure['no_100_meters'][idx, :]\n",
    "        leisure[idx, :] = full_mtx_leisure['no_100_meters'][idx, :]"
   ]
  },
  {
   "cell_type": "code",
   "execution_count": 21,
   "metadata": {
    "ExecuteTime": {
     "end_time": "2020-04-19T15:54:01.876637Z",
     "start_time": "2020-04-19T15:54:01.869636Z"
    },
    "hidden": true
   },
   "outputs": [],
   "source": [
    "for i in range(d_tot):\n",
    "    home_no_inter.append(full_mtx_home)\n",
    "    work_no_inter.append(work)\n",
    "    leis_no_inter.append(leisure)"
   ]
  },
  {
   "cell_type": "code",
   "execution_count": 22,
   "metadata": {
    "ExecuteTime": {
     "end_time": "2020-04-19T15:54:02.238657Z",
     "start_time": "2020-04-19T15:54:02.230657Z"
    },
    "hidden": true
   },
   "outputs": [],
   "source": [
    "C_calibration['home_inter'] = home_inter\n",
    "C_calibration['work_inter'] = work_inter\n",
    "C_calibration['leisure_inter'] = leis_inter\n",
    "C_calibration['home_non'] = home_no_inter\n",
    "C_calibration['work_non'] = work_no_inter\n",
    "C_calibration['leisure_non'] = leis_no_inter"
   ]
  },
  {
   "cell_type": "code",
   "execution_count": 23,
   "metadata": {
    "ExecuteTime": {
     "end_time": "2020-04-19T15:54:02.660682Z",
     "start_time": "2020-04-19T15:54:02.646681Z"
    },
    "hidden": true
   },
   "outputs": [],
   "source": [
    "# Save\n",
    "with open('../Data/interventions/C_inter_' + inter_name + '.pickle', 'wb') as handle:\n",
    "    pickle.dump(C_calibration, handle, protocol=pickle.HIGHEST_PROTOCOL)"
   ]
  },
  {
   "cell_type": "markdown",
   "metadata": {
    "hidden": true
   },
   "source": [
    "## stay_home_idx+not_routine"
   ]
  },
  {
   "cell_type": "code",
   "execution_count": 24,
   "metadata": {
    "ExecuteTime": {
     "end_time": "2020-04-19T15:54:03.715742Z",
     "start_time": "2020-04-19T15:54:03.686740Z"
    },
    "hidden": true
   },
   "outputs": [],
   "source": [
    "stay_home_idx_school =  pd.read_csv('../Data/stay_home/no_school.csv',index_col=0)\n",
    "stay_home_idx_school.index = stay_home_idx_school.index.astype(str)\n",
    "stay_home_idx_work =  pd.read_csv('../Data/stay_home/no_work.csv',index_col=0)\n",
    "stay_home_idx_work.index = stay_home_idx_work.index.astype(str)\n",
    "stay_home_idx_routine =  pd.read_csv('../Data/stay_home/routine.csv',index_col=0)\n",
    "stay_home_idx_routine.index = stay_home_idx_routine.index.astype(str)\n",
    "stay_home_idx_no_100_meters =  pd.read_csv('../Data/stay_home/no_100_meters.csv',index_col=0)\n",
    "stay_home_idx_no_100_meters.index = stay_home_idx_no_100_meters.index.astype(str)\n",
    "stay_home_idx_no_bb =  pd.read_csv('../Data/stay_home/no_bb.csv',index_col=0)\n",
    "stay_home_idx_no_bb.index = stay_home_idx_no_bb.index.astype(str)"
   ]
  },
  {
   "cell_type": "code",
   "execution_count": 25,
   "metadata": {
    "ExecuteTime": {
     "end_time": "2020-04-19T15:54:03.986757Z",
     "start_time": "2020-04-19T15:54:03.973757Z"
    },
    "hidden": true
   },
   "outputs": [],
   "source": [
    "# reordering and expanding vector for each period:\n",
    "stay_home_idx_routine = stay_home_idx_routine['mean'].values\n",
    "stay_home_idx_routine[1] = stay_home_idx_routine[0] \n",
    "\n",
    "stay_home_idx_school = stay_home_idx_school['mean'].values\n",
    "stay_home_idx_school[1] = stay_home_idx_school[0]\n",
    "\n",
    "stay_home_idx_work = stay_home_idx_work['mean'].values\n",
    "stay_home_idx_work[1] = stay_home_idx_work[0]\n",
    "\n",
    "stay_home_idx_no_100_meters = stay_home_idx_no_100_meters['mean'].values\n",
    "stay_home_idx_no_100_meters[1] = stay_home_idx_no_100_meters[0]\n",
    "\n",
    "stay_home_idx_no_bb = stay_home_idx_no_bb['mean'].values\n",
    "stay_home_idx_no_bb[1] = stay_home_idx_no_bb[0]\n",
    "\n",
    "# expanding vectors:\n",
    "stay_home_idx_routine = expand_partial_array(mapping_dic=region_ga_dict,array_to_expand=stay_home_idx_routine,\n",
    "                                              size=len(GA))\n",
    "stay_home_idx_school = expand_partial_array(mapping_dic=region_ga_dict,array_to_expand=stay_home_idx_school,\n",
    "                                              size=len(GA))\n",
    "stay_home_idx_work = expand_partial_array(mapping_dic=region_ga_dict,array_to_expand=stay_home_idx_work,\n",
    "                                              size=len(GA))\n",
    "stay_home_idx_no_100_meters = expand_partial_array(mapping_dic=region_ga_dict,array_to_expand=stay_home_idx_no_100_meters,\n",
    "                                              size=len(GA))\n",
    "stay_home_idx_no_bb = expand_partial_array(mapping_dic=region_ga_dict,array_to_expand=stay_home_idx_no_bb,\n",
    "                                              size=len(GA))"
   ]
  },
  {
   "cell_type": "code",
   "execution_count": 26,
   "metadata": {
    "ExecuteTime": {
     "end_time": "2020-04-19T15:54:04.370779Z",
     "start_time": "2020-04-19T15:54:04.365779Z"
    },
    "hidden": true
   },
   "outputs": [],
   "source": [
    "# # preparing model objects:\n",
    "# stay_idx_t = []\n",
    "# routine_vector = []\n",
    "\n",
    "# # first days of routine from Feb 21st - March 13th\n",
    "\n",
    "# # first days of no school from March 14th - March 16th\n",
    "\n",
    "# # without school and work from March 17th - March 25th\n",
    "\n",
    "# # 100 meters constrain from March 26th - April 2nd\n",
    "\n",
    "# # Bnei Brak quaranrine from April 3rd"
   ]
  },
  {
   "cell_type": "code",
   "execution_count": 27,
   "metadata": {
    "ExecuteTime": {
     "end_time": "2020-04-19T15:54:04.995815Z",
     "start_time": "2020-04-19T15:54:04.986815Z"
    },
    "hidden": true
   },
   "outputs": [],
   "source": [
    "# preparing model objects:\n",
    "# inter - are kids group going back to kindergardens: 0-6\n",
    "# should be like regular time time - stay_home_idx_work\n",
    "stay_idx_t_inter = []\n",
    "routine_vector_inter = []\n",
    "\n",
    "routine_vector_inter_spec = np.ones_like(stay_home_idx_work)\n",
    "for group, idx in age_ga_dict.items():\n",
    "    if group in ['0-4']:\n",
    "        routine_vector_inter_spec[idx] = 0.0\n",
    "\n",
    "\n",
    "for i in range(d_tot):\n",
    "    stay_idx_t_inter.append(stay_home_idx_work)\n",
    "    routine_vector_inter.append(routine_vector_inter_spec)\n",
    "\n",
    "\n",
    "# non_inter - are kids staying home: 7-70+\n",
    "# should be like no shool and no work time - stay_home_idx_work\n",
    "stay_idx_t_non_inter = []\n",
    "routine_vector_non_inter = []\n",
    "\n",
    "for i in range(d_tot):\n",
    "    stay_idx_t_non_inter.append(stay_home_idx_no_100_meters)\n",
    "    routine_vector_non_inter.append(1)"
   ]
  },
  {
   "cell_type": "code",
   "execution_count": 28,
   "metadata": {
    "ExecuteTime": {
     "end_time": "2020-04-19T15:54:06.083877Z",
     "start_time": "2020-04-19T15:54:06.077877Z"
    },
    "hidden": true
   },
   "outputs": [],
   "source": [
    "stay_idx_calibration = {\n",
    "    'non_inter':{\n",
    "        'work': stay_idx_t_non_inter,\n",
    "        'not_work': stay_idx_t_non_inter\n",
    "    }, \n",
    "    'inter': {\n",
    "        'work': stay_idx_t_inter,\n",
    "        'not_work': stay_idx_t_non_inter,\n",
    "    }\n",
    "}\n",
    "\n",
    "routine_vector_calibration = {\n",
    "    'non_inter':{\n",
    "        'work': routine_vector_non_inter,\n",
    "        'not_work': routine_vector_non_inter\n",
    "    }, \n",
    "    'inter': {\n",
    "        'work': routine_vector_inter,\n",
    "        'not_work': routine_vector_non_inter,\n",
    "    }\n",
    "}"
   ]
  },
  {
   "cell_type": "code",
   "execution_count": 29,
   "metadata": {
    "ExecuteTime": {
     "end_time": "2020-04-19T15:54:07.005930Z",
     "start_time": "2020-04-19T15:54:06.994929Z"
    },
    "hidden": true
   },
   "outputs": [],
   "source": [
    "# save objects\n",
    "with open('../Data/interventions/stay_home_idx_inter_' + inter_name + '.pickle', 'wb') as handle:\n",
    "    pickle.dump(stay_idx_calibration, handle, protocol=pickle.HIGHEST_PROTOCOL)\n",
    "\n",
    "with open('../Data/interventions/routine_t_inter_' + inter_name + '.pickle', 'wb') as handle:\n",
    "    pickle.dump(routine_vector_calibration, handle, protocol=pickle.HIGHEST_PROTOCOL)"
   ]
  },
  {
   "cell_type": "markdown",
   "metadata": {
    "hidden": true
   },
   "source": [
    "## creating Transfer pop dict for intervention"
   ]
  },
  {
   "cell_type": "code",
   "execution_count": 31,
   "metadata": {
    "ExecuteTime": {
     "end_time": "2020-04-19T15:59:37.196816Z",
     "start_time": "2020-04-19T15:59:37.173815Z"
    },
    "hidden": true
   },
   "outputs": [],
   "source": [
    "transfer_pop = region_risk_age_dict.copy()\n",
    "for region, risk, age in transfer_pop.keys():\n",
    "        transfer_pop[(region, risk, age)] = 1.0\n",
    "#     transfer_pop[(region, risk, age)] = 0.0\n",
    "#     if (risk=='Low') and (age not in ['60-69', '70+']):\n",
    "#         transfer_pop[(region, risk, age)] = 1.0\n",
    "#     if (risk=='Low') and (age in ['0-4']):\n",
    "#         transfer_pop[(region, risk, age)] = 1.0\n",
    "#     if (risk=='Low') and (age in ['5-9']):\n",
    "#         transfer_pop[(region, risk, age)] = 2.0/5.0\n",
    "\n",
    "with open('../Data/interventions/transfer_pop_inter_' + inter_name + '.pickle', 'wb') as handle:\n",
    "    pickle.dump(transfer_pop, handle, protocol=pickle.HIGHEST_PROTOCOL)"
   ]
  },
  {
   "cell_type": "code",
   "execution_count": null,
   "metadata": {
    "hidden": true
   },
   "outputs": [],
   "source": []
  },
  {
   "cell_type": "markdown",
   "metadata": {
    "heading_collapsed": true
   },
   "source": [
    "# Making Intervention 30% no old with kid 0-6"
   ]
  },
  {
   "cell_type": "code",
   "execution_count": 76,
   "metadata": {
    "ExecuteTime": {
     "end_time": "2020-04-19T16:34:48.220560Z",
     "start_time": "2020-04-19T16:34:48.214559Z"
    },
    "hidden": true
   },
   "outputs": [],
   "source": [
    "inter_name = '30_no_old_no_intervention'"
   ]
  },
  {
   "cell_type": "code",
   "execution_count": 77,
   "metadata": {
    "ExecuteTime": {
     "end_time": "2020-04-19T16:34:52.717817Z",
     "start_time": "2020-04-19T16:34:52.592810Z"
    },
    "hidden": true
   },
   "outputs": [],
   "source": [
    "full_mtx_home = scipy.sparse.load_npz('../Data/base_contact_mtx/full_home.npz')\n",
    "\n",
    "full_mtx_work = {\n",
    "    'routine': scipy.sparse.load_npz('../Data/base_contact_mtx/full_work_routine.npz'),\n",
    "    'no_school': scipy.sparse.load_npz('../Data/base_contact_mtx/full_work_no_school.npz'),\n",
    "    'no_work': scipy.sparse.load_npz('../Data/base_contact_mtx/full_work_no_work.npz'),\n",
    "    'no_100_meters': scipy.sparse.load_npz('../Data/base_contact_mtx/full_work_no_100_meters.npz'),\n",
    "    'no_bb': scipy.sparse.load_npz('../Data/base_contact_mtx/full_work_no_bb.npz'),\n",
    "}\n",
    "\n",
    "full_mtx_leisure = {\n",
    "    'routine': scipy.sparse.load_npz('../Data/base_contact_mtx/full_leisure_routine.npz'),\n",
    "    'no_school': scipy.sparse.load_npz('../Data/base_contact_mtx/full_leisure_no_school.npz'),\n",
    "    'no_work': scipy.sparse.load_npz('../Data/base_contact_mtx/full_leisure_no_work.npz'),\n",
    "    'no_100_meters': scipy.sparse.load_npz('../Data/base_contact_mtx/full_leisure_no_100_meters.npz'),\n",
    "    'no_bb': scipy.sparse.load_npz('../Data/base_contact_mtx/full_leisure_no_bb.npz'),\n",
    "}\n",
    "\n",
    "C_calibration = {}\n",
    "d_tot = 500\n",
    "\n",
    "\n",
    "# intervation are null groups\n",
    "home_inter = []\n",
    "work_inter = []\n",
    "leis_inter = []\n",
    "\n",
    "# intervention of all kids - but 0.5 the class sise - of routine\n",
    "# no old in this\n",
    "# factor = 1.0/2.0\n",
    "factor = 1.0\n",
    "\n",
    "work = full_mtx_work['no_work'].copy()\n",
    "leisure = full_mtx_leisure['no_work'].copy()\n",
    "# # set children matrix\n",
    "# for group, idx in age_ga_dict.items():\n",
    "# #     work[]\n",
    "#     if group in ['0-4', '5-9']:\n",
    "#         work[idx, :] = full_mtx_work['routine'][idx, :] * factor\n",
    "#         work[:, idx] = full_mtx_work['routine'][:, idx] * factor\n",
    "        \n",
    "# for group, idx in age_ga_dict.items():\n",
    "#     if group in ['70+', '60-69']:\n",
    "#         work[idx, :] = full_mtx_work['no_100_meters'][idx, :]\n",
    "#         work[:, idx] = full_mtx_work['no_100_meters'][:, idx]\n",
    "        \n",
    "#         leisure[idx, :] = full_mtx_leisure['no_100_meters'][idx, :]\n",
    "#         leisure[:, idx] = full_mtx_leisure['no_100_meters'][:, idx]\n",
    "\n",
    "for i in range(d_tot):\n",
    "    home_inter.append(full_mtx_home)\n",
    "    work_inter.append(work)\n",
    "    leis_inter.append(leisure)\n",
    "    \n",
    "# non Intervantion\n",
    "home_no_inter = []\n",
    "work_no_inter = []\n",
    "leis_no_inter = []\n",
    "\n",
    "# all days are 30% - no work no school but taking hard close for old people\n",
    "\n",
    "work = full_mtx_work['no_work'].copy()\n",
    "leisure = full_mtx_leisure['no_work'].copy()\n",
    "for group, idx in age_ga_dict.items():\n",
    "    if group in ['70+', '60-69']:\n",
    "        work[idx, :] = full_mtx_work['no_100_meters'][idx, :]\n",
    "        work[:, idx] = full_mtx_work['no_100_meters'][:, idx]\n",
    "        \n",
    "        leisure[idx, :] = full_mtx_leisure['no_100_meters'][idx, :]\n",
    "        leisure[idx, :] = full_mtx_leisure['no_100_meters'][idx, :]\n",
    "        \n",
    "        \n",
    "for i in range(d_tot):\n",
    "    home_no_inter.append(full_mtx_home)\n",
    "    work_no_inter.append(work)\n",
    "    leis_no_inter.append(leisure)\n",
    "    \n",
    "C_calibration['home_inter'] = home_inter\n",
    "C_calibration['work_inter'] = work_inter\n",
    "C_calibration['leisure_inter'] = leis_inter\n",
    "C_calibration['home_non'] = home_no_inter\n",
    "C_calibration['work_non'] = work_no_inter\n",
    "C_calibration['leisure_non'] = leis_no_inter\n",
    "\n",
    "# Save\n",
    "with open('../Data/interventions/C_inter_' + inter_name + '.pickle', 'wb') as handle:\n",
    "    pickle.dump(C_calibration, handle, protocol=pickle.HIGHEST_PROTOCOL)"
   ]
  },
  {
   "cell_type": "code",
   "execution_count": 78,
   "metadata": {
    "ExecuteTime": {
     "end_time": "2020-04-19T16:34:53.223846Z",
     "start_time": "2020-04-19T16:34:53.151842Z"
    },
    "hidden": true
   },
   "outputs": [],
   "source": [
    "stay_home_idx_school =  pd.read_csv('../Data/stay_home/no_school.csv',index_col=0)\n",
    "stay_home_idx_school.index = stay_home_idx_school.index.astype(str)\n",
    "stay_home_idx_work =  pd.read_csv('../Data/stay_home/no_work.csv',index_col=0)\n",
    "stay_home_idx_work.index = stay_home_idx_work.index.astype(str)\n",
    "stay_home_idx_routine =  pd.read_csv('../Data/stay_home/routine.csv',index_col=0)\n",
    "stay_home_idx_routine.index = stay_home_idx_routine.index.astype(str)\n",
    "stay_home_idx_no_100_meters =  pd.read_csv('../Data/stay_home/no_100_meters.csv',index_col=0)\n",
    "stay_home_idx_no_100_meters.index = stay_home_idx_no_100_meters.index.astype(str)\n",
    "stay_home_idx_no_bb =  pd.read_csv('../Data/stay_home/no_bb.csv',index_col=0)\n",
    "stay_home_idx_no_bb.index = stay_home_idx_no_bb.index.astype(str)\n",
    "\n",
    "# reordering and expanding vector for each period:\n",
    "stay_home_idx_routine = stay_home_idx_routine['mean'].values\n",
    "stay_home_idx_routine[1] = stay_home_idx_routine[0] \n",
    "\n",
    "stay_home_idx_school = stay_home_idx_school['mean'].values\n",
    "stay_home_idx_school[1] = stay_home_idx_school[0]\n",
    "\n",
    "stay_home_idx_work = stay_home_idx_work['mean'].values\n",
    "stay_home_idx_work[1] = stay_home_idx_work[0]\n",
    "\n",
    "stay_home_idx_no_100_meters = stay_home_idx_no_100_meters['mean'].values\n",
    "stay_home_idx_no_100_meters[1] = stay_home_idx_no_100_meters[0]\n",
    "\n",
    "stay_home_idx_no_bb = stay_home_idx_no_bb['mean'].values\n",
    "stay_home_idx_no_bb[1] = stay_home_idx_no_bb[0]\n",
    "\n",
    "# expanding vectors:\n",
    "stay_home_idx_routine = expand_partial_array(mapping_dic=region_ga_dict,array_to_expand=stay_home_idx_routine,\n",
    "                                              size=len(GA))\n",
    "stay_home_idx_school = expand_partial_array(mapping_dic=region_ga_dict,array_to_expand=stay_home_idx_school,\n",
    "                                              size=len(GA))\n",
    "stay_home_idx_work = expand_partial_array(mapping_dic=region_ga_dict,array_to_expand=stay_home_idx_work,\n",
    "                                              size=len(GA))\n",
    "stay_home_idx_no_100_meters = expand_partial_array(mapping_dic=region_ga_dict,array_to_expand=stay_home_idx_no_100_meters,\n",
    "                                              size=len(GA))\n",
    "stay_home_idx_no_bb = expand_partial_array(mapping_dic=region_ga_dict,array_to_expand=stay_home_idx_no_bb,\n",
    "                                              size=len(GA))\n",
    "\n",
    "# preparing model objects:\n",
    "# inter - are kids group going back to kindergardens: 0-6\n",
    "# should be like regular time time - stay_home_idx_work\n",
    "stay_idx_t_inter = []\n",
    "routine_vector_inter = []\n",
    "\n",
    "routine_vector_inter_spec = np.ones_like(stay_home_idx_work)\n",
    "# for group, idx in age_ga_dict.items():\n",
    "#     if group in ['0-4', '5-9']:\n",
    "#         routine_vector_inter_spec[idx] = 0.0\n",
    "\n",
    "\n",
    "for i in range(d_tot):\n",
    "    stay_idx_t_inter.append(stay_home_idx_work)\n",
    "    routine_vector_inter.append(routine_vector_inter_spec)\n",
    "\n",
    "\n",
    "# non_inter - are kids staying home: 7-70+\n",
    "# should be like no shool and no work time - stay_home_idx_work\n",
    "stay_idx_t_non_inter = []\n",
    "routine_vector_non_inter = []\n",
    "\n",
    "for i in range(d_tot):\n",
    "    stay_idx_t_non_inter.append(stay_home_idx_work)\n",
    "    routine_vector_non_inter.append(1)\n",
    "    \n",
    "\n",
    "stay_idx_calibration = {\n",
    "    'non_inter':{\n",
    "        'work': stay_idx_t_non_inter,\n",
    "        'not_work': stay_idx_t_non_inter\n",
    "    }, \n",
    "    'inter': {\n",
    "        'work': stay_idx_t_inter,\n",
    "        'not_work': stay_idx_t_non_inter,\n",
    "    }\n",
    "}\n",
    "\n",
    "routine_vector_calibration = {\n",
    "    'non_inter':{\n",
    "        'work': routine_vector_non_inter,\n",
    "        'not_work': routine_vector_non_inter\n",
    "    }, \n",
    "    'inter': {\n",
    "        'work': routine_vector_inter,\n",
    "        'not_work': routine_vector_non_inter,\n",
    "    }\n",
    "}\n",
    "\n",
    "# save objects\n",
    "with open('../Data/interventions/stay_home_idx_inter_' + inter_name + '.pickle', 'wb') as handle:\n",
    "    pickle.dump(stay_idx_calibration, handle, protocol=pickle.HIGHEST_PROTOCOL)\n",
    "\n",
    "with open('../Data/interventions/routine_t_inter_' + inter_name + '.pickle', 'wb') as handle:\n",
    "    pickle.dump(routine_vector_calibration, handle, protocol=pickle.HIGHEST_PROTOCOL)"
   ]
  },
  {
   "cell_type": "code",
   "execution_count": 79,
   "metadata": {
    "ExecuteTime": {
     "end_time": "2020-04-19T16:34:53.988889Z",
     "start_time": "2020-04-19T16:34:53.953887Z"
    },
    "hidden": true
   },
   "outputs": [],
   "source": [
    "transfer_pop = region_risk_age_dict.copy()\n",
    "for region, risk, age in transfer_pop.keys():\n",
    "        transfer_pop[(region, risk, age)] = 0.0\n",
    "#     transfer_pop[(region, risk, age)] = 0.0\n",
    "#     if (risk=='Low') and (age not in ['60-69', '70+']):\n",
    "#         transfer_pop[(region, risk, age)] = 1.0\n",
    "#     if (risk=='Low') and (age in ['0-4']):\n",
    "#         transfer_pop[(region, risk, age)] = 1.0\n",
    "#     if (risk=='Low') and (age in ['5-9']):\n",
    "#         transfer_pop[(region, risk, age)] = 2.0/5.0\n",
    "\n",
    "with open('../Data/interventions/transfer_pop_inter' + inter_name + '.pickle', 'wb') as handle:\n",
    "    pickle.dump(transfer_pop, handle, protocol=pickle.HIGHEST_PROTOCOL)"
   ]
  },
  {
   "cell_type": "code",
   "execution_count": null,
   "metadata": {
    "hidden": true
   },
   "outputs": [],
   "source": []
  }
 ],
 "metadata": {
  "kernelspec": {
   "display_name": "Python 3",
   "language": "python",
   "name": "python3"
  },
  "language_info": {
   "codemirror_mode": {
    "name": "ipython",
    "version": 3
   },
   "file_extension": ".py",
   "mimetype": "text/x-python",
   "name": "python",
   "nbconvert_exporter": "python",
   "pygments_lexer": "ipython3",
   "version": "3.7.3"
  }
 },
 "nbformat": 4,
 "nbformat_minor": 4
}
